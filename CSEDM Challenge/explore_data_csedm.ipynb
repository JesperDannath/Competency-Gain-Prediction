{
 "cells": [
  {
   "cell_type": "code",
   "execution_count": 1,
   "metadata": {},
   "outputs": [],
   "source": [
    "import pandas as pd\n",
    "import numpy as np\n",
    "from ProgSnap2 import ProgSnap2Dataset\n",
    "from ProgSnap2 import PS2\n",
    "import matplotlib.pyplot as plt\n",
    "from sklearn.preprocessing import OneHotEncoder\n",
    "import numpy as np\n",
    "import os\n",
    "from os import path"
   ]
  },
  {
   "cell_type": "code",
   "execution_count": 2,
   "metadata": {},
   "outputs": [],
   "source": [
    "train_folder = \"C:/Users/Jesper/Google Drive/Uni docs/Statistik/Masterarbeit/Daten/csedm_challenge_dataset/F19_Release_Train_06-28-21/Train\""
   ]
  },
  {
   "cell_type": "code",
   "execution_count": 3,
   "metadata": {},
   "outputs": [],
   "source": [
    "#Snippet from \"naive_model.ipynb\". \n",
    "#Defining the path and semester\n",
    "semester = 'S19'\n",
    "BASE_PATH = os.path.join('C:/Users/Jesper/Google Drive/Uni docs/Statistik/Masterarbeit/Daten/csedm_challenge_dataset', 'F19_Release_Train_06-28-21')\n",
    "TRAIN_PATH = os.path.join(BASE_PATH, 'Train')"
   ]
  },
  {
   "cell_type": "code",
   "execution_count": 7,
   "metadata": {},
   "outputs": [],
   "source": [
    "#Setting up a ProgSnap2 Dataset (this is the data format used in the Challenge.)\n",
    "train_ps2 = ProgSnap2Dataset(os.path.join(TRAIN_PATH, 'Data')) "
   ]
  },
  {
   "cell_type": "markdown",
   "metadata": {},
   "source": [
    "## Event Analysis"
   ]
  },
  {
   "cell_type": "code",
   "execution_count": 12,
   "metadata": {},
   "outputs": [
    {
     "data": {
      "text/html": [
       "<div>\n",
       "<style scoped>\n",
       "    .dataframe tbody tr th:only-of-type {\n",
       "        vertical-align: middle;\n",
       "    }\n",
       "\n",
       "    .dataframe tbody tr th {\n",
       "        vertical-align: top;\n",
       "    }\n",
       "\n",
       "    .dataframe thead th {\n",
       "        text-align: right;\n",
       "    }\n",
       "</style>\n",
       "<table border=\"1\" class=\"dataframe\">\n",
       "  <thead>\n",
       "    <tr style=\"text-align: right;\">\n",
       "      <th></th>\n",
       "      <th>SubjectID</th>\n",
       "      <th>ToolInstances</th>\n",
       "      <th>ServerTimestamp</th>\n",
       "      <th>ServerTimezone</th>\n",
       "      <th>CourseID</th>\n",
       "      <th>AssignmentID</th>\n",
       "      <th>ProblemID</th>\n",
       "      <th>CodeStateID</th>\n",
       "      <th>IsEventOrderingConsistent</th>\n",
       "      <th>EventType</th>\n",
       "      <th>Score</th>\n",
       "      <th>Compile.Result</th>\n",
       "      <th>CompileMessageType</th>\n",
       "      <th>CompileMessageData</th>\n",
       "      <th>EventID</th>\n",
       "      <th>Order</th>\n",
       "      <th>ParentEventID</th>\n",
       "    </tr>\n",
       "  </thead>\n",
       "  <tbody>\n",
       "    <tr>\n",
       "      <th>0</th>\n",
       "      <td>014604ba54339d4b1266cf78e125053a5ac11dd861ef3c...</td>\n",
       "      <td>Java 8; CodeWorkout</td>\n",
       "      <td>2019-09-30T18:05:13</td>\n",
       "      <td>0</td>\n",
       "      <td>CS 1</td>\n",
       "      <td>439</td>\n",
       "      <td>1</td>\n",
       "      <td>79c9e2da9bc703116d8768297056db22866c43d583e529...</td>\n",
       "      <td>True</td>\n",
       "      <td>Run.Program</td>\n",
       "      <td>1.000000</td>\n",
       "      <td>NaN</td>\n",
       "      <td>NaN</td>\n",
       "      <td>NaN</td>\n",
       "      <td>179362</td>\n",
       "      <td>179362</td>\n",
       "      <td>NaN</td>\n",
       "    </tr>\n",
       "    <tr>\n",
       "      <th>1</th>\n",
       "      <td>014604ba54339d4b1266cf78e125053a5ac11dd861ef3c...</td>\n",
       "      <td>Java 8; CodeWorkout</td>\n",
       "      <td>2019-09-30T18:05:13</td>\n",
       "      <td>0</td>\n",
       "      <td>CS 1</td>\n",
       "      <td>439</td>\n",
       "      <td>1</td>\n",
       "      <td>79c9e2da9bc703116d8768297056db22866c43d583e529...</td>\n",
       "      <td>True</td>\n",
       "      <td>Compile</td>\n",
       "      <td>NaN</td>\n",
       "      <td>Success</td>\n",
       "      <td>NaN</td>\n",
       "      <td>NaN</td>\n",
       "      <td>179363</td>\n",
       "      <td>179363</td>\n",
       "      <td>179362.0</td>\n",
       "    </tr>\n",
       "    <tr>\n",
       "      <th>2</th>\n",
       "      <td>014604ba54339d4b1266cf78e125053a5ac11dd861ef3c...</td>\n",
       "      <td>Java 8; CodeWorkout</td>\n",
       "      <td>2019-09-30T18:07:55</td>\n",
       "      <td>0</td>\n",
       "      <td>CS 1</td>\n",
       "      <td>439</td>\n",
       "      <td>3</td>\n",
       "      <td>0e91ae5696da0d6a724380360147b8699a25c14ff46227...</td>\n",
       "      <td>True</td>\n",
       "      <td>Run.Program</td>\n",
       "      <td>1.000000</td>\n",
       "      <td>NaN</td>\n",
       "      <td>NaN</td>\n",
       "      <td>NaN</td>\n",
       "      <td>179364</td>\n",
       "      <td>179364</td>\n",
       "      <td>NaN</td>\n",
       "    </tr>\n",
       "    <tr>\n",
       "      <th>3</th>\n",
       "      <td>014604ba54339d4b1266cf78e125053a5ac11dd861ef3c...</td>\n",
       "      <td>Java 8; CodeWorkout</td>\n",
       "      <td>2019-09-30T18:07:55</td>\n",
       "      <td>0</td>\n",
       "      <td>CS 1</td>\n",
       "      <td>439</td>\n",
       "      <td>3</td>\n",
       "      <td>0e91ae5696da0d6a724380360147b8699a25c14ff46227...</td>\n",
       "      <td>True</td>\n",
       "      <td>Compile</td>\n",
       "      <td>NaN</td>\n",
       "      <td>Success</td>\n",
       "      <td>NaN</td>\n",
       "      <td>NaN</td>\n",
       "      <td>179365</td>\n",
       "      <td>179365</td>\n",
       "      <td>179364.0</td>\n",
       "    </tr>\n",
       "    <tr>\n",
       "      <th>4</th>\n",
       "      <td>014604ba54339d4b1266cf78e125053a5ac11dd861ef3c...</td>\n",
       "      <td>Java 8; CodeWorkout</td>\n",
       "      <td>2019-09-30T18:00:06</td>\n",
       "      <td>0</td>\n",
       "      <td>CS 1</td>\n",
       "      <td>439</td>\n",
       "      <td>5</td>\n",
       "      <td>1b38c7b1c7ebca281bbbc270d1b896484de663045c715f...</td>\n",
       "      <td>True</td>\n",
       "      <td>Run.Program</td>\n",
       "      <td>1.000000</td>\n",
       "      <td>NaN</td>\n",
       "      <td>NaN</td>\n",
       "      <td>NaN</td>\n",
       "      <td>179358</td>\n",
       "      <td>179358</td>\n",
       "      <td>NaN</td>\n",
       "    </tr>\n",
       "    <tr>\n",
       "      <th>...</th>\n",
       "      <td>...</td>\n",
       "      <td>...</td>\n",
       "      <td>...</td>\n",
       "      <td>...</td>\n",
       "      <td>...</td>\n",
       "      <td>...</td>\n",
       "      <td>...</td>\n",
       "      <td>...</td>\n",
       "      <td>...</td>\n",
       "      <td>...</td>\n",
       "      <td>...</td>\n",
       "      <td>...</td>\n",
       "      <td>...</td>\n",
       "      <td>...</td>\n",
       "      <td>...</td>\n",
       "      <td>...</td>\n",
       "      <td>...</td>\n",
       "    </tr>\n",
       "    <tr>\n",
       "      <th>262377</th>\n",
       "      <td>ffc3b91c3744d275e99f49e105f016732d694a76314d8c...</td>\n",
       "      <td>Java 8; CodeWorkout</td>\n",
       "      <td>2019-12-02T15:25:42</td>\n",
       "      <td>0</td>\n",
       "      <td>CS 1</td>\n",
       "      <td>502</td>\n",
       "      <td>112</td>\n",
       "      <td>add860149e169c4e0ef359e8523a475bff1cb35185d799...</td>\n",
       "      <td>True</td>\n",
       "      <td>Compile</td>\n",
       "      <td>NaN</td>\n",
       "      <td>Success</td>\n",
       "      <td>NaN</td>\n",
       "      <td>NaN</td>\n",
       "      <td>458825</td>\n",
       "      <td>458825</td>\n",
       "      <td>458824.0</td>\n",
       "    </tr>\n",
       "    <tr>\n",
       "      <th>262378</th>\n",
       "      <td>ffc3b91c3744d275e99f49e105f016732d694a76314d8c...</td>\n",
       "      <td>Java 8; CodeWorkout</td>\n",
       "      <td>2019-12-02T15:28:24</td>\n",
       "      <td>0</td>\n",
       "      <td>CS 1</td>\n",
       "      <td>502</td>\n",
       "      <td>118</td>\n",
       "      <td>e93270dbbeb99d37024546a81c424ca7ac89255c5ab3d4...</td>\n",
       "      <td>True</td>\n",
       "      <td>Run.Program</td>\n",
       "      <td>0.909091</td>\n",
       "      <td>NaN</td>\n",
       "      <td>NaN</td>\n",
       "      <td>NaN</td>\n",
       "      <td>458826</td>\n",
       "      <td>458826</td>\n",
       "      <td>NaN</td>\n",
       "    </tr>\n",
       "    <tr>\n",
       "      <th>262379</th>\n",
       "      <td>ffc3b91c3744d275e99f49e105f016732d694a76314d8c...</td>\n",
       "      <td>Java 8; CodeWorkout</td>\n",
       "      <td>2019-12-02T15:28:24</td>\n",
       "      <td>0</td>\n",
       "      <td>CS 1</td>\n",
       "      <td>502</td>\n",
       "      <td>118</td>\n",
       "      <td>e93270dbbeb99d37024546a81c424ca7ac89255c5ab3d4...</td>\n",
       "      <td>True</td>\n",
       "      <td>Compile</td>\n",
       "      <td>NaN</td>\n",
       "      <td>Success</td>\n",
       "      <td>NaN</td>\n",
       "      <td>NaN</td>\n",
       "      <td>458827</td>\n",
       "      <td>458827</td>\n",
       "      <td>458826.0</td>\n",
       "    </tr>\n",
       "    <tr>\n",
       "      <th>262380</th>\n",
       "      <td>ffc3b91c3744d275e99f49e105f016732d694a76314d8c...</td>\n",
       "      <td>Java 8; CodeWorkout</td>\n",
       "      <td>2019-12-02T15:28:51</td>\n",
       "      <td>0</td>\n",
       "      <td>CS 1</td>\n",
       "      <td>502</td>\n",
       "      <td>118</td>\n",
       "      <td>38e11aa1c182ae86953bcf1b435fd1a7e9decdb7434aee...</td>\n",
       "      <td>True</td>\n",
       "      <td>Run.Program</td>\n",
       "      <td>1.000000</td>\n",
       "      <td>NaN</td>\n",
       "      <td>NaN</td>\n",
       "      <td>NaN</td>\n",
       "      <td>458828</td>\n",
       "      <td>458828</td>\n",
       "      <td>NaN</td>\n",
       "    </tr>\n",
       "    <tr>\n",
       "      <th>262381</th>\n",
       "      <td>ffc3b91c3744d275e99f49e105f016732d694a76314d8c...</td>\n",
       "      <td>Java 8; CodeWorkout</td>\n",
       "      <td>2019-12-02T15:28:51</td>\n",
       "      <td>0</td>\n",
       "      <td>CS 1</td>\n",
       "      <td>502</td>\n",
       "      <td>118</td>\n",
       "      <td>38e11aa1c182ae86953bcf1b435fd1a7e9decdb7434aee...</td>\n",
       "      <td>True</td>\n",
       "      <td>Compile</td>\n",
       "      <td>NaN</td>\n",
       "      <td>Success</td>\n",
       "      <td>NaN</td>\n",
       "      <td>NaN</td>\n",
       "      <td>458829</td>\n",
       "      <td>458829</td>\n",
       "      <td>458828.0</td>\n",
       "    </tr>\n",
       "  </tbody>\n",
       "</table>\n",
       "<p>262398 rows × 17 columns</p>\n",
       "</div>"
      ],
      "text/plain": [
       "                                                SubjectID  \\\n",
       "0       014604ba54339d4b1266cf78e125053a5ac11dd861ef3c...   \n",
       "1       014604ba54339d4b1266cf78e125053a5ac11dd861ef3c...   \n",
       "2       014604ba54339d4b1266cf78e125053a5ac11dd861ef3c...   \n",
       "3       014604ba54339d4b1266cf78e125053a5ac11dd861ef3c...   \n",
       "4       014604ba54339d4b1266cf78e125053a5ac11dd861ef3c...   \n",
       "...                                                   ...   \n",
       "262377  ffc3b91c3744d275e99f49e105f016732d694a76314d8c...   \n",
       "262378  ffc3b91c3744d275e99f49e105f016732d694a76314d8c...   \n",
       "262379  ffc3b91c3744d275e99f49e105f016732d694a76314d8c...   \n",
       "262380  ffc3b91c3744d275e99f49e105f016732d694a76314d8c...   \n",
       "262381  ffc3b91c3744d275e99f49e105f016732d694a76314d8c...   \n",
       "\n",
       "              ToolInstances      ServerTimestamp  ServerTimezone CourseID  \\\n",
       "0       Java 8; CodeWorkout  2019-09-30T18:05:13               0     CS 1   \n",
       "1       Java 8; CodeWorkout  2019-09-30T18:05:13               0     CS 1   \n",
       "2       Java 8; CodeWorkout  2019-09-30T18:07:55               0     CS 1   \n",
       "3       Java 8; CodeWorkout  2019-09-30T18:07:55               0     CS 1   \n",
       "4       Java 8; CodeWorkout  2019-09-30T18:00:06               0     CS 1   \n",
       "...                     ...                  ...             ...      ...   \n",
       "262377  Java 8; CodeWorkout  2019-12-02T15:25:42               0     CS 1   \n",
       "262378  Java 8; CodeWorkout  2019-12-02T15:28:24               0     CS 1   \n",
       "262379  Java 8; CodeWorkout  2019-12-02T15:28:24               0     CS 1   \n",
       "262380  Java 8; CodeWorkout  2019-12-02T15:28:51               0     CS 1   \n",
       "262381  Java 8; CodeWorkout  2019-12-02T15:28:51               0     CS 1   \n",
       "\n",
       "        AssignmentID  ProblemID  \\\n",
       "0                439          1   \n",
       "1                439          1   \n",
       "2                439          3   \n",
       "3                439          3   \n",
       "4                439          5   \n",
       "...              ...        ...   \n",
       "262377           502        112   \n",
       "262378           502        118   \n",
       "262379           502        118   \n",
       "262380           502        118   \n",
       "262381           502        118   \n",
       "\n",
       "                                              CodeStateID  \\\n",
       "0       79c9e2da9bc703116d8768297056db22866c43d583e529...   \n",
       "1       79c9e2da9bc703116d8768297056db22866c43d583e529...   \n",
       "2       0e91ae5696da0d6a724380360147b8699a25c14ff46227...   \n",
       "3       0e91ae5696da0d6a724380360147b8699a25c14ff46227...   \n",
       "4       1b38c7b1c7ebca281bbbc270d1b896484de663045c715f...   \n",
       "...                                                   ...   \n",
       "262377  add860149e169c4e0ef359e8523a475bff1cb35185d799...   \n",
       "262378  e93270dbbeb99d37024546a81c424ca7ac89255c5ab3d4...   \n",
       "262379  e93270dbbeb99d37024546a81c424ca7ac89255c5ab3d4...   \n",
       "262380  38e11aa1c182ae86953bcf1b435fd1a7e9decdb7434aee...   \n",
       "262381  38e11aa1c182ae86953bcf1b435fd1a7e9decdb7434aee...   \n",
       "\n",
       "        IsEventOrderingConsistent    EventType     Score Compile.Result  \\\n",
       "0                            True  Run.Program  1.000000            NaN   \n",
       "1                            True      Compile       NaN        Success   \n",
       "2                            True  Run.Program  1.000000            NaN   \n",
       "3                            True      Compile       NaN        Success   \n",
       "4                            True  Run.Program  1.000000            NaN   \n",
       "...                           ...          ...       ...            ...   \n",
       "262377                       True      Compile       NaN        Success   \n",
       "262378                       True  Run.Program  0.909091            NaN   \n",
       "262379                       True      Compile       NaN        Success   \n",
       "262380                       True  Run.Program  1.000000            NaN   \n",
       "262381                       True      Compile       NaN        Success   \n",
       "\n",
       "       CompileMessageType CompileMessageData  EventID   Order  ParentEventID  \n",
       "0                     NaN                NaN   179362  179362            NaN  \n",
       "1                     NaN                NaN   179363  179363       179362.0  \n",
       "2                     NaN                NaN   179364  179364            NaN  \n",
       "3                     NaN                NaN   179365  179365       179364.0  \n",
       "4                     NaN                NaN   179358  179358            NaN  \n",
       "...                   ...                ...      ...     ...            ...  \n",
       "262377                NaN                NaN   458825  458825       458824.0  \n",
       "262378                NaN                NaN   458826  458826            NaN  \n",
       "262379                NaN                NaN   458827  458827       458826.0  \n",
       "262380                NaN                NaN   458828  458828            NaN  \n",
       "262381                NaN                NaN   458829  458829       458828.0  \n",
       "\n",
       "[262398 rows x 17 columns]"
      ]
     },
     "execution_count": 12,
     "metadata": {},
     "output_type": "execute_result"
    }
   ],
   "source": [
    "#Table of all Course Events\n",
    "events = train_ps2.get_main_table()\n",
    "events"
   ]
  },
  {
   "cell_type": "code",
   "execution_count": 16,
   "metadata": {},
   "outputs": [
    {
     "data": {
      "text/plain": [
       "CS 1    262398\n",
       "Name: CourseID, dtype: int64"
      ]
     },
     "execution_count": 16,
     "metadata": {},
     "output_type": "execute_result"
    }
   ],
   "source": [
    "#Are there different Courses?\n",
    "events[\"CourseID\"].value_counts()\n",
    "#no"
   ]
  },
  {
   "cell_type": "code",
   "execution_count": 17,
   "metadata": {},
   "outputs": [
    {
     "data": {
      "text/plain": [
       "Run.Program      91751\n",
       "Compile          91751\n",
       "Compile.Error    78896\n",
       "Name: EventType, dtype: int64"
      ]
     },
     "execution_count": 17,
     "metadata": {},
     "output_type": "execute_result"
    }
   ],
   "source": [
    "#Which Events aere in the Data?\n",
    "events[\"EventType\"].value_counts(dropna=False)"
   ]
  },
  {
   "cell_type": "code",
   "execution_count": 21,
   "metadata": {},
   "outputs": [
    {
     "data": {
      "text/plain": [
       "AssignmentID  ProblemID\n",
       "439           13           13346\n",
       "              232           9906\n",
       "              236           6099\n",
       "              3             4976\n",
       "              233           4565\n",
       "              5             3924\n",
       "              234           3856\n",
       "              235           3794\n",
       "              1             2514\n",
       "              12            1898\n",
       "487           102          11974\n",
       "              101          11597\n",
       "              24            8143\n",
       "              25            7186\n",
       "              100           6034\n",
       "              28            5481\n",
       "              22            3850\n",
       "              20            3322\n",
       "              21            2534\n",
       "              17            1978\n",
       "492           40            9224\n",
       "              32            9014\n",
       "              38            8798\n",
       "              34            7789\n",
       "              128           6801\n",
       "              33            5497\n",
       "              39            4834\n",
       "              36            4825\n",
       "              37            4513\n",
       "              31            3808\n",
       "494           43            7871\n",
       "              108           6643\n",
       "              46            5111\n",
       "              107           4957\n",
       "              104           4692\n",
       "              106           4658\n",
       "              67            4170\n",
       "              49            3602\n",
       "              41            2696\n",
       "              44            2508\n",
       "502           45            4983\n",
       "              48            4788\n",
       "              70            4419\n",
       "              51            3419\n",
       "              56            3296\n",
       "              64            3132\n",
       "              112           2916\n",
       "              71            2682\n",
       "              118           2313\n",
       "              57            1462\n",
       "Name: ProblemID, dtype: int64"
      ]
     },
     "execution_count": 21,
     "metadata": {},
     "output_type": "execute_result"
    }
   ],
   "source": [
    "#How many and which Assignments and Tasks do we have in the Data?\n",
    "events[\"ProblemID\"].groupby(events[\"AssignmentID\"]).value_counts()"
   ]
  },
  {
   "cell_type": "code",
   "execution_count": 22,
   "metadata": {},
   "outputs": [
    {
     "data": {
      "text/plain": [
       "NaN         170647\n",
       "0.000000     39730\n",
       "1.000000     18279\n",
       "0.500000      1042\n",
       "0.272727       978\n",
       "             ...  \n",
       "0.678571         1\n",
       "0.535714         1\n",
       "0.347826         1\n",
       "0.173913         1\n",
       "0.217391         1\n",
       "Name: Score, Length: 212, dtype: int64"
      ]
     },
     "execution_count": 22,
     "metadata": {},
     "output_type": "execute_result"
    }
   ],
   "source": [
    "#Which scores can one get?\n",
    "events[\"Score\"].value_counts(dropna=False)\n",
    "#Everything between 0 and 1. \n",
    "#Question: How is the Score derived?"
   ]
  },
  {
   "cell_type": "code",
   "execution_count": 26,
   "metadata": {},
   "outputs": [
    {
     "data": {
      "text/plain": [
       "367"
      ]
     },
     "execution_count": 26,
     "metadata": {},
     "output_type": "execute_result"
    }
   ],
   "source": [
    "#How many students do we have?\n",
    "len(events[\"SubjectID\"].unique())"
   ]
  },
  {
   "cell_type": "markdown",
   "metadata": {},
   "source": [
    "## Overview of Task-Performance"
   ]
  },
  {
   "cell_type": "code",
   "execution_count": 24,
   "metadata": {},
   "outputs": [
    {
     "data": {
      "text/html": [
       "<div>\n",
       "<style scoped>\n",
       "    .dataframe tbody tr th:only-of-type {\n",
       "        vertical-align: middle;\n",
       "    }\n",
       "\n",
       "    .dataframe tbody tr th {\n",
       "        vertical-align: top;\n",
       "    }\n",
       "\n",
       "    .dataframe thead th {\n",
       "        text-align: right;\n",
       "    }\n",
       "</style>\n",
       "<table border=\"1\" class=\"dataframe\">\n",
       "  <thead>\n",
       "    <tr style=\"text-align: right;\">\n",
       "      <th></th>\n",
       "      <th>SubjectID</th>\n",
       "      <th>AssignmentID</th>\n",
       "      <th>ProblemID</th>\n",
       "      <th>Attempts</th>\n",
       "      <th>CorrectEventually</th>\n",
       "      <th>Label</th>\n",
       "    </tr>\n",
       "  </thead>\n",
       "  <tbody>\n",
       "    <tr>\n",
       "      <th>0</th>\n",
       "      <td>014604ba54339d4b1266cf78e125053a5ac11dd861ef3c...</td>\n",
       "      <td>439</td>\n",
       "      <td>1</td>\n",
       "      <td>1</td>\n",
       "      <td>True</td>\n",
       "      <td>True</td>\n",
       "    </tr>\n",
       "    <tr>\n",
       "      <th>1</th>\n",
       "      <td>014604ba54339d4b1266cf78e125053a5ac11dd861ef3c...</td>\n",
       "      <td>439</td>\n",
       "      <td>3</td>\n",
       "      <td>1</td>\n",
       "      <td>True</td>\n",
       "      <td>True</td>\n",
       "    </tr>\n",
       "    <tr>\n",
       "      <th>2</th>\n",
       "      <td>014604ba54339d4b1266cf78e125053a5ac11dd861ef3c...</td>\n",
       "      <td>439</td>\n",
       "      <td>5</td>\n",
       "      <td>1</td>\n",
       "      <td>True</td>\n",
       "      <td>True</td>\n",
       "    </tr>\n",
       "    <tr>\n",
       "      <th>3</th>\n",
       "      <td>014604ba54339d4b1266cf78e125053a5ac11dd861ef3c...</td>\n",
       "      <td>439</td>\n",
       "      <td>12</td>\n",
       "      <td>1</td>\n",
       "      <td>True</td>\n",
       "      <td>True</td>\n",
       "    </tr>\n",
       "    <tr>\n",
       "      <th>4</th>\n",
       "      <td>014604ba54339d4b1266cf78e125053a5ac11dd861ef3c...</td>\n",
       "      <td>439</td>\n",
       "      <td>13</td>\n",
       "      <td>1</td>\n",
       "      <td>True</td>\n",
       "      <td>True</td>\n",
       "    </tr>\n",
       "    <tr>\n",
       "      <th>...</th>\n",
       "      <td>...</td>\n",
       "      <td>...</td>\n",
       "      <td>...</td>\n",
       "      <td>...</td>\n",
       "      <td>...</td>\n",
       "      <td>...</td>\n",
       "    </tr>\n",
       "    <tr>\n",
       "      <th>10652</th>\n",
       "      <td>ffc3b91c3744d275e99f49e105f016732d694a76314d8c...</td>\n",
       "      <td>492</td>\n",
       "      <td>37</td>\n",
       "      <td>1</td>\n",
       "      <td>True</td>\n",
       "      <td>True</td>\n",
       "    </tr>\n",
       "    <tr>\n",
       "      <th>10653</th>\n",
       "      <td>ffc3b91c3744d275e99f49e105f016732d694a76314d8c...</td>\n",
       "      <td>492</td>\n",
       "      <td>38</td>\n",
       "      <td>8</td>\n",
       "      <td>True</td>\n",
       "      <td>True</td>\n",
       "    </tr>\n",
       "    <tr>\n",
       "      <th>10654</th>\n",
       "      <td>ffc3b91c3744d275e99f49e105f016732d694a76314d8c...</td>\n",
       "      <td>492</td>\n",
       "      <td>39</td>\n",
       "      <td>3</td>\n",
       "      <td>True</td>\n",
       "      <td>True</td>\n",
       "    </tr>\n",
       "    <tr>\n",
       "      <th>10655</th>\n",
       "      <td>ffc3b91c3744d275e99f49e105f016732d694a76314d8c...</td>\n",
       "      <td>492</td>\n",
       "      <td>40</td>\n",
       "      <td>8</td>\n",
       "      <td>False</td>\n",
       "      <td>False</td>\n",
       "    </tr>\n",
       "    <tr>\n",
       "      <th>10656</th>\n",
       "      <td>ffc3b91c3744d275e99f49e105f016732d694a76314d8c...</td>\n",
       "      <td>492</td>\n",
       "      <td>128</td>\n",
       "      <td>11</td>\n",
       "      <td>False</td>\n",
       "      <td>False</td>\n",
       "    </tr>\n",
       "  </tbody>\n",
       "</table>\n",
       "<p>10657 rows × 6 columns</p>\n",
       "</div>"
      ],
      "text/plain": [
       "                                               SubjectID  AssignmentID  \\\n",
       "0      014604ba54339d4b1266cf78e125053a5ac11dd861ef3c...           439   \n",
       "1      014604ba54339d4b1266cf78e125053a5ac11dd861ef3c...           439   \n",
       "2      014604ba54339d4b1266cf78e125053a5ac11dd861ef3c...           439   \n",
       "3      014604ba54339d4b1266cf78e125053a5ac11dd861ef3c...           439   \n",
       "4      014604ba54339d4b1266cf78e125053a5ac11dd861ef3c...           439   \n",
       "...                                                  ...           ...   \n",
       "10652  ffc3b91c3744d275e99f49e105f016732d694a76314d8c...           492   \n",
       "10653  ffc3b91c3744d275e99f49e105f016732d694a76314d8c...           492   \n",
       "10654  ffc3b91c3744d275e99f49e105f016732d694a76314d8c...           492   \n",
       "10655  ffc3b91c3744d275e99f49e105f016732d694a76314d8c...           492   \n",
       "10656  ffc3b91c3744d275e99f49e105f016732d694a76314d8c...           492   \n",
       "\n",
       "       ProblemID  Attempts  CorrectEventually  Label  \n",
       "0              1         1               True   True  \n",
       "1              3         1               True   True  \n",
       "2              5         1               True   True  \n",
       "3             12         1               True   True  \n",
       "4             13         1               True   True  \n",
       "...          ...       ...                ...    ...  \n",
       "10652         37         1               True   True  \n",
       "10653         38         8               True   True  \n",
       "10654         39         3               True   True  \n",
       "10655         40         8              False  False  \n",
       "10656        128        11              False  False  \n",
       "\n",
       "[10657 rows x 6 columns]"
      ]
     },
     "execution_count": 24,
     "metadata": {},
     "output_type": "execute_result"
    }
   ],
   "source": [
    "early = pd.read_csv(os.path.join(TRAIN_PATH, 'early.csv'))\n",
    "early"
   ]
  },
  {
   "cell_type": "code",
   "execution_count": 28,
   "metadata": {},
   "outputs": [
    {
     "data": {
      "text/plain": [
       "(array([7.940e+03, 1.318e+03, 6.840e+02, 2.840e+02, 1.900e+02, 8.800e+01,\n",
       "        5.500e+01, 2.700e+01, 2.000e+01, 1.000e+01, 1.100e+01, 1.300e+01,\n",
       "        4.000e+00, 3.000e+00, 3.000e+00, 0.000e+00, 1.000e+00, 2.000e+00,\n",
       "        2.000e+00, 2.000e+00]),\n",
       " array([  1. ,   6.5,  12. ,  17.5,  23. ,  28.5,  34. ,  39.5,  45. ,\n",
       "         50.5,  56. ,  61.5,  67. ,  72.5,  78. ,  83.5,  89. ,  94.5,\n",
       "        100. , 105.5, 111. ]),\n",
       " <BarContainer object of 20 artists>)"
      ]
     },
     "execution_count": 28,
     "metadata": {},
     "output_type": "execute_result"
    },
    {
     "data": {
      "image/png": "[encoded data removed]",
      "text/plain": [
       "<Figure size 432x288 with 1 Axes>"
      ]
     },
     "metadata": {
      "needs_background": "light"
     },
     "output_type": "display_data"
    }
   ],
   "source": [
    "#How is the number of attempts in early set distributed?\n",
    "plt.hist(early[\"Attempts\"], bins=20)\n",
    "#Probably Poisson-Distribution"
   ]
  },
  {
   "cell_type": "code",
   "execution_count": 32,
   "metadata": {},
   "outputs": [
    {
     "data": {
      "text/plain": [
       "True     7942\n",
       "False    2715\n",
       "Name: Label, dtype: int64"
      ]
     },
     "execution_count": 32,
     "metadata": {},
     "output_type": "execute_result"
    }
   ],
   "source": [
    "#How is the Label distributed?\n",
    "early[\"Label\"].value_counts()"
   ]
  },
  {
   "cell_type": "code",
   "execution_count": 35,
   "metadata": {},
   "outputs": [
    {
     "data": {
      "text/plain": [
       "AssignmentID  ProblemID  Label\n",
       "439           1          True     302\n",
       "                         False     58\n",
       "              3          True     276\n",
       "                         False     83\n",
       "              5          True     282\n",
       "                         False     80\n",
       "              12         True     284\n",
       "                         False     75\n",
       "              13         True     280\n",
       "                         False     85\n",
       "              232        True     284\n",
       "                         False     78\n",
       "              233        True     273\n",
       "                         False     87\n",
       "              234        True     283\n",
       "                         False     79\n",
       "              235        True     275\n",
       "                         False     87\n",
       "              236        True     274\n",
       "                         False     88\n",
       "487           17         True     277\n",
       "                         False     74\n",
       "              20         True     286\n",
       "                         False     65\n",
       "              21         True     281\n",
       "                         False     71\n",
       "              22         True     274\n",
       "                         False     77\n",
       "              24         True     272\n",
       "                         False     87\n",
       "              25         True     244\n",
       "                         False    111\n",
       "              28         True     264\n",
       "                         False     83\n",
       "              100        True     271\n",
       "                         False     85\n",
       "              101        True     209\n",
       "                         False    144\n",
       "              102        True     230\n",
       "                         False    118\n",
       "492           31         True     257\n",
       "                         False     90\n",
       "              32         True     249\n",
       "                         False    100\n",
       "              33         True     248\n",
       "                         False     97\n",
       "              34         True     241\n",
       "                         False    100\n",
       "              36         True     269\n",
       "                         False     83\n",
       "              37         True     267\n",
       "                         False     91\n",
       "              38         True     230\n",
       "                         False    128\n",
       "              39         True     258\n",
       "                         False     98\n",
       "              40         True     257\n",
       "                         False    102\n",
       "              128        True     245\n",
       "                         False    111\n",
       "Name: Label, dtype: int64"
      ]
     },
     "execution_count": 35,
     "metadata": {},
     "output_type": "execute_result"
    }
   ],
   "source": [
    "#Are ther very difficult exercise?\n",
    "early[\"Label\"].groupby([early[\"AssignmentID\"], early[\"ProblemID\"]]).value_counts()\n",
    "#Not so much by definition of the Label"
   ]
  },
  {
   "cell_type": "code",
   "execution_count": 36,
   "metadata": {},
   "outputs": [
    {
     "data": {
      "text/plain": [
       "True     8569\n",
       "False    2088\n",
       "dtype: int64"
      ]
     },
     "execution_count": 36,
     "metadata": {},
     "output_type": "execute_result"
    }
   ],
   "source": [
    "#How often do Correct Eventually and Label differ?\n",
    "(early[\"CorrectEventually\"] == early[\"Label\"]).value_counts()\n",
    "#The Label is unequal to Correct Eventually, if the respondend needed more Attenpts than 75% of her peers. "
   ]
  },
  {
   "cell_type": "code",
   "execution_count": null,
   "metadata": {},
   "outputs": [],
   "source": []
  },
  {
   "cell_type": "markdown",
   "metadata": {},
   "source": [
    "## Subject Level DF"
   ]
  },
  {
   "cell_type": "code",
   "execution_count": 76,
   "metadata": {},
   "outputs": [],
   "source": [
    "#Function from \"naive_model.ipynb\"\n",
    "#Changed to use subject_id\n",
    "def extract_instance_features(subject_id, early_df):\n",
    "    instance = pd.DataFrame(data=[subject_id], columns=[\"SubjectID\"])\n",
    "    early_problems = early_df[early_df[\"SubjectID\"] == subject_id]\n",
    "    # Extract very naive features about the student\n",
    "    # (without respect to the problem bring predicted)\n",
    "    # Number of early problems attempted\n",
    "    instance['ProblemsAttempted'] = early_problems.shape[0]\n",
    "    # Percentage of early problems gotten correct eventually\n",
    "    instance['PercCorrectEventually'] = np.mean(early_problems['CorrectEventually'])\n",
    "    # Median attempts made on early problems\n",
    "    instance['MedAttempts'] = np.median(early_problems['Attempts'])\n",
    "    # Max attempts made on early problems\n",
    "    instance['MaxAttempts'] = np.max(early_problems['Attempts'])\n",
    "    # Percentage of problems gotten correct on the first try\n",
    "    instance['PercCorrectFirstTry'] = np.mean(early_problems['Attempts'] == 1)\n",
    "    #instance = instance.drop('SubjectID')\n",
    "    instance['PercLabelledTrue'] = np.mean(early_problems[\"Label\"] == 1)\n",
    "    return instance"
   ]
  },
  {
   "cell_type": "code",
   "execution_count": 77,
   "metadata": {},
   "outputs": [
    {
     "data": {
      "text/html": [
       "<div>\n",
       "<style scoped>\n",
       "    .dataframe tbody tr th:only-of-type {\n",
       "        vertical-align: middle;\n",
       "    }\n",
       "\n",
       "    .dataframe tbody tr th {\n",
       "        vertical-align: top;\n",
       "    }\n",
       "\n",
       "    .dataframe thead th {\n",
       "        text-align: right;\n",
       "    }\n",
       "</style>\n",
       "<table border=\"1\" class=\"dataframe\">\n",
       "  <thead>\n",
       "    <tr style=\"text-align: right;\">\n",
       "      <th></th>\n",
       "      <th>SubjectID</th>\n",
       "      <th>ProblemsAttempted</th>\n",
       "      <th>PercCorrectEventually</th>\n",
       "      <th>MedAttempts</th>\n",
       "      <th>MaxAttempts</th>\n",
       "      <th>PercCorrectFirstTry</th>\n",
       "      <th>PercLabelledTrue</th>\n",
       "    </tr>\n",
       "  </thead>\n",
       "  <tbody>\n",
       "    <tr>\n",
       "      <th>0</th>\n",
       "      <td>014604ba54339d4b1266cf78e125053a5ac11dd861ef3c...</td>\n",
       "      <td>30</td>\n",
       "      <td>0.966667</td>\n",
       "      <td>3.0</td>\n",
       "      <td>22</td>\n",
       "      <td>0.333333</td>\n",
       "      <td>0.833333</td>\n",
       "    </tr>\n",
       "  </tbody>\n",
       "</table>\n",
       "</div>"
      ],
      "text/plain": [
       "                                           SubjectID  ProblemsAttempted  \\\n",
       "0  014604ba54339d4b1266cf78e125053a5ac11dd861ef3c...                 30   \n",
       "\n",
       "   PercCorrectEventually  MedAttempts  MaxAttempts  PercCorrectFirstTry  \\\n",
       "0               0.966667          3.0           22             0.333333   \n",
       "\n",
       "   PercLabelledTrue  \n",
       "0          0.833333  "
      ]
     },
     "execution_count": 77,
     "metadata": {},
     "output_type": "execute_result"
    }
   ],
   "source": [
    "extract_instance_features(early[\"SubjectID\"][10], early)"
   ]
  },
  {
   "cell_type": "code",
   "execution_count": 78,
   "metadata": {},
   "outputs": [],
   "source": [
    "def make_subject_df(task_level_data):\n",
    "    subjects = task_level_data[\"SubjectID\"].unique()\n",
    "    subject_df = pd.DataFrame(columns=[\"SubjectID\", \"ProblemsAttempted\", \"PercCorrectEventually\", \"MedAttempts\", \"MaxAttempts\", \"PercCorrectFirstTry\", \"PercLabelledTrue\"])\n",
    "    for subject in subjects:\n",
    "        instance_data = extract_instance_features(subject, task_level_data)\n",
    "        subject_df = subject_df.append(instance_data)\n",
    "    return(subject_df)\n"
   ]
  },
  {
   "cell_type": "code",
   "execution_count": 79,
   "metadata": {},
   "outputs": [
    {
     "data": {
      "text/html": [
       "<div>\n",
       "<style scoped>\n",
       "    .dataframe tbody tr th:only-of-type {\n",
       "        vertical-align: middle;\n",
       "    }\n",
       "\n",
       "    .dataframe tbody tr th {\n",
       "        vertical-align: top;\n",
       "    }\n",
       "\n",
       "    .dataframe thead th {\n",
       "        text-align: right;\n",
       "    }\n",
       "</style>\n",
       "<table border=\"1\" class=\"dataframe\">\n",
       "  <thead>\n",
       "    <tr style=\"text-align: right;\">\n",
       "      <th></th>\n",
       "      <th>SubjectID</th>\n",
       "      <th>ProblemsAttempted</th>\n",
       "      <th>PercCorrectEventually</th>\n",
       "      <th>MedAttempts</th>\n",
       "      <th>MaxAttempts</th>\n",
       "      <th>PercCorrectFirstTry</th>\n",
       "      <th>PercLabelledTrue</th>\n",
       "    </tr>\n",
       "  </thead>\n",
       "  <tbody>\n",
       "    <tr>\n",
       "      <th>0</th>\n",
       "      <td>014604ba54339d4b1266cf78e125053a5ac11dd861ef3c...</td>\n",
       "      <td>30</td>\n",
       "      <td>0.966667</td>\n",
       "      <td>3.0</td>\n",
       "      <td>22</td>\n",
       "      <td>0.333333</td>\n",
       "      <td>0.833333</td>\n",
       "    </tr>\n",
       "    <tr>\n",
       "      <th>0</th>\n",
       "      <td>01e96e066eff2e82627dac0493737be2de9bd2f50d6d49...</td>\n",
       "      <td>20</td>\n",
       "      <td>0.750000</td>\n",
       "      <td>4.0</td>\n",
       "      <td>15</td>\n",
       "      <td>0.300000</td>\n",
       "      <td>0.650000</td>\n",
       "    </tr>\n",
       "    <tr>\n",
       "      <th>0</th>\n",
       "      <td>03000c72d4dd6a4be44ffc175dec5d9a15a83a2f8073b0...</td>\n",
       "      <td>30</td>\n",
       "      <td>0.966667</td>\n",
       "      <td>3.0</td>\n",
       "      <td>45</td>\n",
       "      <td>0.333333</td>\n",
       "      <td>0.766667</td>\n",
       "    </tr>\n",
       "    <tr>\n",
       "      <th>0</th>\n",
       "      <td>0461c96c9cc0058f709704605f24136f373ba4e9ac083a...</td>\n",
       "      <td>29</td>\n",
       "      <td>0.896552</td>\n",
       "      <td>6.0</td>\n",
       "      <td>22</td>\n",
       "      <td>0.103448</td>\n",
       "      <td>0.517241</td>\n",
       "    </tr>\n",
       "    <tr>\n",
       "      <th>0</th>\n",
       "      <td>048fce7bd5670d2ce6215f41856aea059973fb280ce106...</td>\n",
       "      <td>30</td>\n",
       "      <td>1.000000</td>\n",
       "      <td>3.5</td>\n",
       "      <td>26</td>\n",
       "      <td>0.333333</td>\n",
       "      <td>0.833333</td>\n",
       "    </tr>\n",
       "    <tr>\n",
       "      <th>...</th>\n",
       "      <td>...</td>\n",
       "      <td>...</td>\n",
       "      <td>...</td>\n",
       "      <td>...</td>\n",
       "      <td>...</td>\n",
       "      <td>...</td>\n",
       "      <td>...</td>\n",
       "    </tr>\n",
       "    <tr>\n",
       "      <th>0</th>\n",
       "      <td>fe545219144abfb405c64d3fed4f32dc348ece7afb0a81...</td>\n",
       "      <td>30</td>\n",
       "      <td>1.000000</td>\n",
       "      <td>2.0</td>\n",
       "      <td>26</td>\n",
       "      <td>0.466667</td>\n",
       "      <td>0.900000</td>\n",
       "    </tr>\n",
       "    <tr>\n",
       "      <th>0</th>\n",
       "      <td>ff02364c8aab08a51916bd6a58bf7337b5d60939ee9b53...</td>\n",
       "      <td>30</td>\n",
       "      <td>1.000000</td>\n",
       "      <td>4.0</td>\n",
       "      <td>38</td>\n",
       "      <td>0.266667</td>\n",
       "      <td>0.633333</td>\n",
       "    </tr>\n",
       "    <tr>\n",
       "      <th>0</th>\n",
       "      <td>ff4cfd98fc176f36fa99b2bc839990d2fd13de4e59b5c4...</td>\n",
       "      <td>30</td>\n",
       "      <td>0.933333</td>\n",
       "      <td>3.5</td>\n",
       "      <td>34</td>\n",
       "      <td>0.233333</td>\n",
       "      <td>0.800000</td>\n",
       "    </tr>\n",
       "    <tr>\n",
       "      <th>0</th>\n",
       "      <td>ff86d28801139f82f29ac25c715647674d50977478b8d8...</td>\n",
       "      <td>30</td>\n",
       "      <td>1.000000</td>\n",
       "      <td>3.0</td>\n",
       "      <td>31</td>\n",
       "      <td>0.266667</td>\n",
       "      <td>0.866667</td>\n",
       "    </tr>\n",
       "    <tr>\n",
       "      <th>0</th>\n",
       "      <td>ffc3b91c3744d275e99f49e105f016732d694a76314d8c...</td>\n",
       "      <td>30</td>\n",
       "      <td>0.900000</td>\n",
       "      <td>2.0</td>\n",
       "      <td>11</td>\n",
       "      <td>0.333333</td>\n",
       "      <td>0.866667</td>\n",
       "    </tr>\n",
       "  </tbody>\n",
       "</table>\n",
       "<p>367 rows × 7 columns</p>\n",
       "</div>"
      ],
      "text/plain": [
       "                                            SubjectID ProblemsAttempted  \\\n",
       "0   014604ba54339d4b1266cf78e125053a5ac11dd861ef3c...                30   \n",
       "0   01e96e066eff2e82627dac0493737be2de9bd2f50d6d49...                20   \n",
       "0   03000c72d4dd6a4be44ffc175dec5d9a15a83a2f8073b0...                30   \n",
       "0   0461c96c9cc0058f709704605f24136f373ba4e9ac083a...                29   \n",
       "0   048fce7bd5670d2ce6215f41856aea059973fb280ce106...                30   \n",
       "..                                                ...               ...   \n",
       "0   fe545219144abfb405c64d3fed4f32dc348ece7afb0a81...                30   \n",
       "0   ff02364c8aab08a51916bd6a58bf7337b5d60939ee9b53...                30   \n",
       "0   ff4cfd98fc176f36fa99b2bc839990d2fd13de4e59b5c4...                30   \n",
       "0   ff86d28801139f82f29ac25c715647674d50977478b8d8...                30   \n",
       "0   ffc3b91c3744d275e99f49e105f016732d694a76314d8c...                30   \n",
       "\n",
       "    PercCorrectEventually  MedAttempts MaxAttempts  PercCorrectFirstTry  \\\n",
       "0                0.966667          3.0          22             0.333333   \n",
       "0                0.750000          4.0          15             0.300000   \n",
       "0                0.966667          3.0          45             0.333333   \n",
       "0                0.896552          6.0          22             0.103448   \n",
       "0                1.000000          3.5          26             0.333333   \n",
       "..                    ...          ...         ...                  ...   \n",
       "0                1.000000          2.0          26             0.466667   \n",
       "0                1.000000          4.0          38             0.266667   \n",
       "0                0.933333          3.5          34             0.233333   \n",
       "0                1.000000          3.0          31             0.266667   \n",
       "0                0.900000          2.0          11             0.333333   \n",
       "\n",
       "    PercLabelledTrue  \n",
       "0           0.833333  \n",
       "0           0.650000  \n",
       "0           0.766667  \n",
       "0           0.517241  \n",
       "0           0.833333  \n",
       "..               ...  \n",
       "0           0.900000  \n",
       "0           0.633333  \n",
       "0           0.800000  \n",
       "0           0.866667  \n",
       "0           0.866667  \n",
       "\n",
       "[367 rows x 7 columns]"
      ]
     },
     "execution_count": 79,
     "metadata": {},
     "output_type": "execute_result"
    }
   ],
   "source": [
    "subject_df = make_subject_df(early)\n",
    "subject_df"
   ]
  },
  {
   "cell_type": "code",
   "execution_count": 66,
   "metadata": {},
   "outputs": [
    {
     "data": {
      "text/plain": [
       "0.9371397887907342"
      ]
     },
     "execution_count": 66,
     "metadata": {},
     "output_type": "execute_result"
    }
   ],
   "source": [
    "#What is the percent of Average correct Answers \n",
    "np.mean(subject_df[\"PercCorrectEventually\"])"
   ]
  },
  {
   "cell_type": "code",
   "execution_count": 68,
   "metadata": {},
   "outputs": [
    {
     "data": {
      "text/plain": [
       "(array([  1.,   0.,   0.,   0.,   0.,   0.,   0.,   0.,   0.,   1.,   2.,\n",
       "          4.,   4.,   3.,   2.,  13.,  25.,  16.,  56., 240.]),\n",
       " array([0.  , 0.05, 0.1 , 0.15, 0.2 , 0.25, 0.3 , 0.35, 0.4 , 0.45, 0.5 ,\n",
       "        0.55, 0.6 , 0.65, 0.7 , 0.75, 0.8 , 0.85, 0.9 , 0.95, 1.  ]),\n",
       " <BarContainer object of 20 artists>)"
      ]
     },
     "execution_count": 68,
     "metadata": {},
     "output_type": "execute_result"
    },
    {
     "data": {
      "image/png": "[encoded data removed]",
      "text/plain": [
       "<Figure size 432x288 with 1 Axes>"
      ]
     },
     "metadata": {
      "needs_background": "light"
     },
     "output_type": "display_data"
    }
   ],
   "source": [
    "plt.hist(subject_df[\"PercCorrectEventually\"], bins=20)"
   ]
  },
  {
   "cell_type": "code",
   "execution_count": 69,
   "metadata": {},
   "outputs": [
    {
     "data": {
      "text/plain": [
       "0.31904243814476974"
      ]
     },
     "execution_count": 69,
     "metadata": {},
     "output_type": "execute_result"
    }
   ],
   "source": [
    "#What is the Average of correct Anwer on first try?\n",
    "np.mean(subject_df[\"PercCorrectFirstTry\"])"
   ]
  },
  {
   "cell_type": "code",
   "execution_count": 72,
   "metadata": {},
   "outputs": [
    {
     "data": {
      "text/plain": [
       "(array([26., 81., 89., 67., 34., 21., 21., 12.,  9.,  7.]),\n",
       " array([0.        , 0.09666667, 0.19333333, 0.29      , 0.38666667,\n",
       "        0.48333333, 0.58      , 0.67666667, 0.77333333, 0.87      ,\n",
       "        0.96666667]),\n",
       " <BarContainer object of 10 artists>)"
      ]
     },
     "execution_count": 72,
     "metadata": {},
     "output_type": "execute_result"
    },
    {
     "data": {
      "image/png": "[encoded data removed]",
      "text/plain": [
       "<Figure size 432x288 with 1 Axes>"
      ]
     },
     "metadata": {
      "needs_background": "light"
     },
     "output_type": "display_data"
    }
   ],
   "source": [
    "plt.hist(subject_df[\"PercCorrectFirstTry\"])"
   ]
  },
  {
   "cell_type": "code",
   "execution_count": 80,
   "metadata": {},
   "outputs": [
    {
     "data": {
      "text/plain": [
       "0.7423874802013036"
      ]
     },
     "execution_count": 80,
     "metadata": {},
     "output_type": "execute_result"
    }
   ],
   "source": [
    "#What is teh Average of being labelled as True?\n",
    "np.mean(subject_df[\"PercLabelledTrue\"])"
   ]
  },
  {
   "cell_type": "code",
   "execution_count": 81,
   "metadata": {},
   "outputs": [
    {
     "data": {
      "text/plain": [
       "(array([ 1.,  3.,  2.,  5., 18., 52., 65., 51., 79., 91.]),\n",
       " array([0. , 0.1, 0.2, 0.3, 0.4, 0.5, 0.6, 0.7, 0.8, 0.9, 1. ]),\n",
       " <BarContainer object of 10 artists>)"
      ]
     },
     "execution_count": 81,
     "metadata": {},
     "output_type": "execute_result"
    },
    {
     "data": {
      "image/png": "[encoded data removed]",
      "text/plain": [
       "<Figure size 432x288 with 1 Axes>"
      ]
     },
     "metadata": {
      "needs_background": "light"
     },
     "output_type": "display_data"
    }
   ],
   "source": [
    "plt.hist(subject_df[\"PercLabelledTrue\"])\n",
    "#Es scheint hier durchaus viel Varianz zu geben!"
   ]
  },
  {
   "cell_type": "code",
   "execution_count": null,
   "metadata": {},
   "outputs": [],
   "source": []
  }
 ],
 "metadata": {
  "interpreter": {
   "hash": "02b260a897a95da47c5085ab2bc3e9d1dff4a759bf790e6a84eb3e9a9dd59f69"
  },
  "kernelspec": {
   "display_name": "Python 3.8.5 ('base')",
   "language": "python",
   "name": "python3"
  },
  "language_info": {
   "codemirror_mode": {
    "name": "ipython",
    "version": 3
   },
   "file_extension": ".py",
   "mimetype": "text/x-python",
   "name": "python",
   "nbconvert_exporter": "python",
   "pygments_lexer": "ipython3",
   "version": "3.8.5"
  },
  "orig_nbformat": 4
 },
 "nbformat": 4,
 "nbformat_minor": 2
}
