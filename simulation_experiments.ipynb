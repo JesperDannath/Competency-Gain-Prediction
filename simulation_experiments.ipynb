{
 "cells": [
  {
   "cell_type": "code",
   "execution_count": 1,
   "metadata": {},
   "outputs": [
    {
     "name": "stdout",
     "output_type": "stream",
     "text": [
      "C:\\Users\\Jesper\\Documents\\GitHub\\Knowledge-Growth-Prediction\\models\n",
      "C:\\Users\\Jesper\\Documents\\GitHub\\Knowledge-Growth-Prediction\\models\n"
     ]
    }
   ],
   "source": [
    "import numpy as np\n",
    "from simulation_framework.item_response_simulation import item_response_simulation\n",
    "from simulation_framework.simulate_competency import respondent_population\n",
    "from simulation_framework.simulate_responses import response_simulation\n",
    "from scipy.stats import multivariate_normal\n",
    "import models\n",
    "import em_algorithm\n",
    "import pandas as pd\n",
    "import time\n",
    "from girth import multidimensional_twopl_mml\n",
    "from girth import twopl_mml\n",
    "import cma\n",
    "import scipy\n",
    "from simulation_experiment import mirt_simulation_experiment\n",
    "from analyse_experiment import get_result_df\n",
    "from analyse_experiment import print_result_from_df"
   ]
  },
  {
   "cell_type": "code",
   "execution_count": 2,
   "metadata": {},
   "outputs": [],
   "source": [
    "import datetime\n",
    "\n",
    "def repeat_mirt_experiment(experiment, repetitions):\n",
    "    multiple_result_dict = {}\n",
    "    for i in range(0, repetitions):\n",
    "        multiple_result_dict[datetime.datetime.now()] = experiment()\n",
    "    return(multiple_result_dict)"
   ]
  },
  {
   "cell_type": "markdown",
   "metadata": {},
   "source": [
    "## Experiment 0: MIRT-2PL-Gain Performance Benchmark"
   ]
  },
  {
   "cell_type": "code",
   "execution_count": 3,
   "metadata": {},
   "outputs": [
    {
     "name": "stdout",
     "output_type": "stream",
     "text": [
      "Real latent covariance: [[1.     0.5986 0.1213 0.226 ]\n",
      " [0.5986 1.     0.1166 0.624 ]\n",
      " [0.1213 0.1166 1.     0.1256]\n",
      " [0.226  0.624  0.1256 1.    ]]\n",
      "Covariance matrix is good: True\n",
      "EM Iteration 2\n",
      "Current Monte Carlo Sample size: 300\n"
     ]
    },
    {
     "name": "stderr",
     "output_type": "stream",
     "text": [
      "c:\\Users\\Jesper\\Anaconda3\\lib\\site-packages\\scipy\\stats\\_qmc.py:2039: UserWarning: The balance properties of Sobol' points require n to be a power of 2.\n",
      "  samples = self.engine.random(n)\n"
     ]
    },
    {
     "name": "stdout",
     "output_type": "stream",
     "text": [
      "[[1.         0.69388007]\n",
      " [0.69388007 1.        ]]\n",
      "Step: 2: current parameter_diff: 13.386832755831623, current marginal loglikelihood: -571.5659403237369\n",
      "EM Iteration 3\n",
      "Current Monte Carlo Sample size: 330\n",
      "[[1.         0.71632932]\n",
      " [0.71632932 1.        ]]\n"
     ]
    },
    {
     "name": "stderr",
     "output_type": "stream",
     "text": [
      "c:\\Users\\Jesper\\Anaconda3\\lib\\site-packages\\scipy\\stats\\_qmc.py:2039: UserWarning: The balance properties of Sobol' points require n to be a power of 2.\n",
      "  samples = self.engine.random(n)\n"
     ]
    },
    {
     "name": "stdout",
     "output_type": "stream",
     "text": [
      "Step: 3: current parameter_diff: 11.328257623388847, current marginal loglikelihood: -550.9458476038177\n",
      "EM Iteration 4\n",
      "Current Monte Carlo Sample size: 363\n",
      "[[1.         0.69388172]\n",
      " [0.69388172 1.        ]]\n"
     ]
    },
    {
     "name": "stderr",
     "output_type": "stream",
     "text": [
      "c:\\Users\\Jesper\\Anaconda3\\lib\\site-packages\\scipy\\stats\\_qmc.py:2039: UserWarning: The balance properties of Sobol' points require n to be a power of 2.\n",
      "  samples = self.engine.random(n)\n"
     ]
    },
    {
     "name": "stdout",
     "output_type": "stream",
     "text": [
      "Step: 4: current parameter_diff: 9.119861429878767, current marginal loglikelihood: -542.5897004864852\n",
      "EM Iteration 5\n",
      "Current Monte Carlo Sample size: 363\n",
      "[[1.         0.67952986]\n",
      " [0.67952986 1.        ]]\n"
     ]
    },
    {
     "name": "stderr",
     "output_type": "stream",
     "text": [
      "c:\\Users\\Jesper\\Anaconda3\\lib\\site-packages\\scipy\\stats\\_qmc.py:2039: UserWarning: The balance properties of Sobol' points require n to be a power of 2.\n",
      "  samples = self.engine.random(n)\n"
     ]
    },
    {
     "name": "stdout",
     "output_type": "stream",
     "text": [
      "Step: 5: current parameter_diff: 7.5830515230978115, current marginal loglikelihood: -538.5295222166196\n",
      "EM Iteration 6\n",
      "Current Monte Carlo Sample size: 399\n",
      "[[1.         0.66807969]\n",
      " [0.66807969 1.        ]]\n"
     ]
    },
    {
     "name": "stderr",
     "output_type": "stream",
     "text": [
      "c:\\Users\\Jesper\\Anaconda3\\lib\\site-packages\\scipy\\stats\\_qmc.py:2039: UserWarning: The balance properties of Sobol' points require n to be a power of 2.\n",
      "  samples = self.engine.random(n)\n"
     ]
    },
    {
     "name": "stdout",
     "output_type": "stream",
     "text": [
      "Step: 6: current parameter_diff: 6.098646681438719, current marginal loglikelihood: -536.1081142516693\n",
      "EM Iteration 7\n",
      "Current Monte Carlo Sample size: 399\n"
     ]
    },
    {
     "name": "stderr",
     "output_type": "stream",
     "text": [
      "c:\\Users\\Jesper\\Anaconda3\\lib\\site-packages\\scipy\\stats\\_qmc.py:2039: UserWarning: The balance properties of Sobol' points require n to be a power of 2.\n",
      "  samples = self.engine.random(n)\n"
     ]
    },
    {
     "name": "stdout",
     "output_type": "stream",
     "text": [
      "[[1.         0.65338082]\n",
      " [0.65338082 1.        ]]\n",
      "Step: 7: current parameter_diff: 6.061824243919245, current marginal loglikelihood: -534.6764051749441\n",
      "EM Iteration 2\n"
     ]
    },
    {
     "name": "stderr",
     "output_type": "stream",
     "text": [
      "c:\\Users\\Jesper\\Anaconda3\\lib\\site-packages\\scipy\\stats\\_qmc.py:2039: UserWarning: The balance properties of Sobol' points require n to be a power of 2.\n",
      "  samples = self.engine.random(n)\n"
     ]
    },
    {
     "name": "stdout",
     "output_type": "stream",
     "text": [
      "Current Monte Carlo Sample size: 300\n"
     ]
    },
    {
     "ename": "TypeError",
     "evalue": "'numpy.float64' object cannot be interpreted as an integer",
     "output_type": "error",
     "traceback": [
      "\u001b[1;31m---------------------------------------------------------------------------\u001b[0m",
      "\u001b[1;31mTypeError\u001b[0m                                 Traceback (most recent call last)",
      "\u001b[1;32mc:\\Users\\Jesper\\Documents\\GitHub\\Knowledge-Growth-Prediction\\simulation_experiments.ipynb Zelle 4\u001b[0m in \u001b[0;36m<cell line: 4>\u001b[1;34m()\u001b[0m\n\u001b[0;32m      <a href='vscode-notebook-cell:/c%3A/Users/Jesper/Documents/GitHub/Knowledge-Growth-Prediction/simulation_experiments.ipynb#W3sZmlsZQ%3D%3D?line=0'>1</a>\u001b[0m experiment_0 \u001b[39m=\u001b[39m \u001b[39mlambda\u001b[39;00m: mirt_simulation_experiment(sample_size\u001b[39m=\u001b[39m\u001b[39m100\u001b[39m, item_dimension\u001b[39m=\u001b[39m\u001b[39m12\u001b[39m, latent_dimension\u001b[39m=\u001b[39m\u001b[39m2\u001b[39m, \n\u001b[0;32m      <a href='vscode-notebook-cell:/c%3A/Users/Jesper/Documents/GitHub/Knowledge-Growth-Prediction/simulation_experiments.ipynb#W3sZmlsZQ%3D%3D?line=1'>2</a>\u001b[0m                                              q_type\u001b[39m=\u001b[39m\u001b[39m\"\u001b[39m\u001b[39mfull\u001b[39m\u001b[39m\"\u001b[39m, stop_threshold\u001b[39m=\u001b[39m\u001b[39m5\u001b[39m, person_method\u001b[39m=\u001b[39m\u001b[39m\"\u001b[39m\u001b[39mBFGS\u001b[39m\u001b[39m\"\u001b[39m,\n\u001b[0;32m      <a href='vscode-notebook-cell:/c%3A/Users/Jesper/Documents/GitHub/Knowledge-Growth-Prediction/simulation_experiments.ipynb#W3sZmlsZQ%3D%3D?line=2'>3</a>\u001b[0m                                             sigma_constraint\u001b[39m=\u001b[39m\u001b[39m\"\u001b[39m\u001b[39munconstrained\u001b[39m\u001b[39m\"\u001b[39m, real_theta\u001b[39m=\u001b[39m\u001b[39mTrue\u001b[39;00m)\n\u001b[1;32m----> <a href='vscode-notebook-cell:/c%3A/Users/Jesper/Documents/GitHub/Knowledge-Growth-Prediction/simulation_experiments.ipynb#W3sZmlsZQ%3D%3D?line=3'>4</a>\u001b[0m performance_dict\u001b[39m=\u001b[39m repeat_mirt_experiment(experiment_0, \u001b[39m1\u001b[39;49m)\n",
      "\u001b[1;32mc:\\Users\\Jesper\\Documents\\GitHub\\Knowledge-Growth-Prediction\\simulation_experiments.ipynb Zelle 4\u001b[0m in \u001b[0;36mrepeat_mirt_experiment\u001b[1;34m(experiment, repetitions)\u001b[0m\n\u001b[0;32m      <a href='vscode-notebook-cell:/c%3A/Users/Jesper/Documents/GitHub/Knowledge-Growth-Prediction/simulation_experiments.ipynb#W3sZmlsZQ%3D%3D?line=3'>4</a>\u001b[0m multiple_result_dict \u001b[39m=\u001b[39m {}\n\u001b[0;32m      <a href='vscode-notebook-cell:/c%3A/Users/Jesper/Documents/GitHub/Knowledge-Growth-Prediction/simulation_experiments.ipynb#W3sZmlsZQ%3D%3D?line=4'>5</a>\u001b[0m \u001b[39mfor\u001b[39;00m i \u001b[39min\u001b[39;00m \u001b[39mrange\u001b[39m(\u001b[39m0\u001b[39m, repetitions):\n\u001b[1;32m----> <a href='vscode-notebook-cell:/c%3A/Users/Jesper/Documents/GitHub/Knowledge-Growth-Prediction/simulation_experiments.ipynb#W3sZmlsZQ%3D%3D?line=5'>6</a>\u001b[0m     multiple_result_dict[datetime\u001b[39m.\u001b[39mdatetime\u001b[39m.\u001b[39mnow()] \u001b[39m=\u001b[39m experiment()\n\u001b[0;32m      <a href='vscode-notebook-cell:/c%3A/Users/Jesper/Documents/GitHub/Knowledge-Growth-Prediction/simulation_experiments.ipynb#W3sZmlsZQ%3D%3D?line=6'>7</a>\u001b[0m \u001b[39mreturn\u001b[39;00m(multiple_result_dict)\n",
      "\u001b[1;32mc:\\Users\\Jesper\\Documents\\GitHub\\Knowledge-Growth-Prediction\\simulation_experiments.ipynb Zelle 4\u001b[0m in \u001b[0;36m<lambda>\u001b[1;34m()\u001b[0m\n\u001b[1;32m----> <a href='vscode-notebook-cell:/c%3A/Users/Jesper/Documents/GitHub/Knowledge-Growth-Prediction/simulation_experiments.ipynb#W3sZmlsZQ%3D%3D?line=0'>1</a>\u001b[0m experiment_0 \u001b[39m=\u001b[39m \u001b[39mlambda\u001b[39;00m: mirt_simulation_experiment(sample_size\u001b[39m=\u001b[39;49m\u001b[39m100\u001b[39;49m, item_dimension\u001b[39m=\u001b[39;49m\u001b[39m12\u001b[39;49m, latent_dimension\u001b[39m=\u001b[39;49m\u001b[39m2\u001b[39;49m, \n\u001b[0;32m      <a href='vscode-notebook-cell:/c%3A/Users/Jesper/Documents/GitHub/Knowledge-Growth-Prediction/simulation_experiments.ipynb#W3sZmlsZQ%3D%3D?line=1'>2</a>\u001b[0m                                              q_type\u001b[39m=\u001b[39;49m\u001b[39m\"\u001b[39;49m\u001b[39mfull\u001b[39;49m\u001b[39m\"\u001b[39;49m, stop_threshold\u001b[39m=\u001b[39;49m\u001b[39m5\u001b[39;49m, person_method\u001b[39m=\u001b[39;49m\u001b[39m\"\u001b[39;49m\u001b[39mBFGS\u001b[39;49m\u001b[39m\"\u001b[39;49m,\n\u001b[0;32m      <a href='vscode-notebook-cell:/c%3A/Users/Jesper/Documents/GitHub/Knowledge-Growth-Prediction/simulation_experiments.ipynb#W3sZmlsZQ%3D%3D?line=2'>3</a>\u001b[0m                                             sigma_constraint\u001b[39m=\u001b[39;49m\u001b[39m\"\u001b[39;49m\u001b[39munconstrained\u001b[39;49m\u001b[39m\"\u001b[39;49m, real_theta\u001b[39m=\u001b[39;49m\u001b[39mTrue\u001b[39;49;00m)\n\u001b[0;32m      <a href='vscode-notebook-cell:/c%3A/Users/Jesper/Documents/GitHub/Knowledge-Growth-Prediction/simulation_experiments.ipynb#W3sZmlsZQ%3D%3D?line=3'>4</a>\u001b[0m performance_dict\u001b[39m=\u001b[39m repeat_mirt_experiment(experiment_0, \u001b[39m1\u001b[39m)\n",
      "File \u001b[1;32mc:\\Users\\Jesper\\Documents\\GitHub\\Knowledge-Growth-Prediction\\simulation_experiment.py:348\u001b[0m, in \u001b[0;36mmirt_simulation_experiment\u001b[1;34m(sample_size, item_dimension, latent_dimension, q_type, methods, stop_threshold, ensure_id, q_share, person_method, sigma_constraint, real_theta)\u001b[0m\n\u001b[0;32m    346\u001b[0m result_dict \u001b[39m=\u001b[39m {\u001b[39m\"\u001b[39m\u001b[39msample\u001b[39m\u001b[39m\"\u001b[39m: sample}\n\u001b[0;32m    347\u001b[0m \u001b[39mif\u001b[39;00m \u001b[39m\"\u001b[39m\u001b[39mlate_em\u001b[39m\u001b[39m\"\u001b[39m \u001b[39min\u001b[39;00m methods:\n\u001b[1;32m--> 348\u001b[0m     performance_dict_le \u001b[39m=\u001b[39m late_em_optimization(sample\u001b[39m=\u001b[39;49msample, parameter_dict\u001b[39m=\u001b[39;49mparameter_dict, stop_threshold\u001b[39m=\u001b[39;49mstop_threshold,\n\u001b[0;32m    349\u001b[0m                                                person_method\u001b[39m=\u001b[39;49mperson_method, sigma_constraint\u001b[39m=\u001b[39;49msigma_constraint, real_theta\u001b[39m=\u001b[39;49m\u001b[39mFalse\u001b[39;49;00m)\n\u001b[0;32m    350\u001b[0m     result_dict[\u001b[39m\"\u001b[39m\u001b[39mlate_em\u001b[39m\u001b[39m\"\u001b[39m] \u001b[39m=\u001b[39m performance_dict_le\n\u001b[0;32m    351\u001b[0m \u001b[39mif\u001b[39;00m \u001b[39m\"\u001b[39m\u001b[39minitial\u001b[39m\u001b[39m\"\u001b[39m \u001b[39min\u001b[39;00m methods:\n",
      "File \u001b[1;32mc:\\Users\\Jesper\\Documents\\GitHub\\Knowledge-Growth-Prediction\\simulation_experiment.py:413\u001b[0m, in \u001b[0;36mlate_em_optimization\u001b[1;34m(sample, parameter_dict, stop_threshold, person_method, sigma_constraint, real_theta)\u001b[0m\n\u001b[0;32m    410\u001b[0m parameter_dict\u001b[39m.\u001b[39mupdate(\n\u001b[0;32m    411\u001b[0m     {\u001b[39m\"\u001b[39m\u001b[39mestimated_early_parameters\u001b[39m\u001b[39m\"\u001b[39m: early_estimated_parameters})\n\u001b[0;32m    412\u001b[0m \u001b[39m# Fit late Model\u001b[39;00m\n\u001b[1;32m--> 413\u001b[0m late_estimated_parameters, late_initial_parameters, late_run, late_model \u001b[39m=\u001b[39m fit_late_model(\n\u001b[0;32m    414\u001b[0m     parameter_dict\u001b[39m=\u001b[39;49mparameter_dict, sample\u001b[39m=\u001b[39;49msample, stop_threshold\u001b[39m=\u001b[39;49mstop_threshold,\n\u001b[0;32m    415\u001b[0m     person_method\u001b[39m=\u001b[39;49mperson_method, sigma_constraint\u001b[39m=\u001b[39;49msigma_constraint, real_theta\u001b[39m=\u001b[39;49mreal_theta)\n\u001b[0;32m    416\u001b[0m late_model\u001b[39m.\u001b[39mget_cov(\u001b[39m\"\u001b[39m\u001b[39mconvolution\u001b[39m\u001b[39m\"\u001b[39m)\n\u001b[0;32m    417\u001b[0m parameter_dict\u001b[39m.\u001b[39mupdate(\n\u001b[0;32m    418\u001b[0m     {\u001b[39m\"\u001b[39m\u001b[39mestimated_late_parameters\u001b[39m\u001b[39m\"\u001b[39m: late_estimated_parameters})\n",
      "File \u001b[1;32mc:\\Users\\Jesper\\Documents\\GitHub\\Knowledge-Growth-Prediction\\simulation_experiment.py:312\u001b[0m, in \u001b[0;36mfit_late_model\u001b[1;34m(sample, parameter_dict, stop_threshold, person_method, sigma_constraint, real_theta)\u001b[0m\n\u001b[0;32m    310\u001b[0m \u001b[39m# Fit late model\u001b[39;00m\n\u001b[0;32m    311\u001b[0m start_time \u001b[39m=\u001b[39m time\u001b[39m.\u001b[39mtime()\n\u001b[1;32m--> 312\u001b[0m em\u001b[39m.\u001b[39;49mfit([sample[\u001b[39m\"\u001b[39;49m\u001b[39mlate_responses\u001b[39;49m\u001b[39m\"\u001b[39;49m], theta], max_iter\u001b[39m=\u001b[39;49m\u001b[39m100\u001b[39;49m,\n\u001b[0;32m    313\u001b[0m        stop_threshold\u001b[39m=\u001b[39;49mstop_threshold, person_method\u001b[39m=\u001b[39;49mperson_method)\n\u001b[0;32m    314\u001b[0m run_time \u001b[39m=\u001b[39m (time\u001b[39m.\u001b[39mtime() \u001b[39m-\u001b[39m start_time)\n\u001b[0;32m    315\u001b[0m s_hat \u001b[39m=\u001b[39m late_model\u001b[39m.\u001b[39mpredict_gain(\n\u001b[0;32m    316\u001b[0m     sample[\u001b[39m\"\u001b[39m\u001b[39mlate_responses\u001b[39m\u001b[39m\"\u001b[39m], parameter_dict[\u001b[39m\"\u001b[39m\u001b[39mestimated_early_parameters\u001b[39m\u001b[39m\"\u001b[39m][\u001b[39m\"\u001b[39m\u001b[39mperson_parameters\u001b[39m\u001b[39m\"\u001b[39m][\u001b[39m\"\u001b[39m\u001b[39mtheta\u001b[39m\u001b[39m\"\u001b[39m])  \u001b[39m# TODO: implement this\u001b[39;00m\n",
      "File \u001b[1;32mc:\\Users\\Jesper\\Documents\\GitHub\\Knowledge-Growth-Prediction\\em_algorithm\\em_algorithm.py:46\u001b[0m, in \u001b[0;36mem_algorithm.fit\u001b[1;34m(self, data, hyper_params, person_method, max_iter, stop_threshold)\u001b[0m\n\u001b[0;32m     43\u001b[0m posterior_expectation \u001b[39m=\u001b[39m \u001b[39mself\u001b[39m\u001b[39m.\u001b[39me_step\u001b[39m.\u001b[39mstep(\n\u001b[0;32m     44\u001b[0m     \u001b[39m*\u001b[39mdata, \u001b[39miter\u001b[39m\u001b[39m=\u001b[39mi)\n\u001b[0;32m     45\u001b[0m \u001b[39m# print(\"M-step\")\u001b[39;00m\n\u001b[1;32m---> 46\u001b[0m current_parameters, log_likelihood \u001b[39m=\u001b[39m \u001b[39mself\u001b[39;49m\u001b[39m.\u001b[39;49mm_step\u001b[39m.\u001b[39;49mstep(\n\u001b[0;32m     47\u001b[0m     pe_functions\u001b[39m=\u001b[39;49mposterior_expectation, person_method\u001b[39m=\u001b[39;49mperson_method)\n\u001b[0;32m     48\u001b[0m \u001b[39mself\u001b[39m\u001b[39m.\u001b[39mmodel\u001b[39m.\u001b[39mset_parameters(current_parameters)\n\u001b[0;32m     49\u001b[0m marginal_loglikelihood \u001b[39m=\u001b[39m \u001b[39mself\u001b[39m\u001b[39m.\u001b[39mmodel\u001b[39m.\u001b[39mmarginal_response_loglikelihood(\n\u001b[0;32m     50\u001b[0m     \u001b[39m*\u001b[39mdata)\n",
      "File \u001b[1;32m~\\Documents\\GitHub\\Knowledge-Growth-Prediction\\em_algorithm\\m_step_mirt_2pl.py:216\u001b[0m, in \u001b[0;36mm_step_ga_mml.step\u001b[1;34m(self, pe_functions, person_method, item_method)\u001b[0m\n\u001b[0;32m    212\u001b[0m new_sigma_cholesky[np\u001b[39m.\u001b[39mtril_indices_from(\n\u001b[0;32m    213\u001b[0m     new_sigma_cholesky)] \u001b[39m=\u001b[39m new_sigma_cholesky_vector\n\u001b[0;32m    214\u001b[0m new_sigma \u001b[39m=\u001b[39m np\u001b[39m.\u001b[39mdot(new_sigma_cholesky,\n\u001b[0;32m    215\u001b[0m                    new_sigma_cholesky\u001b[39m.\u001b[39mtranspose())\n\u001b[1;32m--> 216\u001b[0m new_sigma \u001b[39m=\u001b[39m \u001b[39mself\u001b[39;49m\u001b[39m.\u001b[39;49mmodel\u001b[39m.\u001b[39;49mfix_sigma(\n\u001b[0;32m    217\u001b[0m     new_sigma, \u001b[39mself\u001b[39;49m\u001b[39m.\u001b[39;49msigma_constraint)\n\u001b[0;32m    219\u001b[0m \u001b[39mdef\u001b[39;00m \u001b[39mtrunc\u001b[39m(values, decs\u001b[39m=\u001b[39m\u001b[39m0\u001b[39m):\n\u001b[0;32m    220\u001b[0m     \u001b[39mreturn\u001b[39;00m np\u001b[39m.\u001b[39mtrunc(values\u001b[39m*\u001b[39m\u001b[39m10\u001b[39m\u001b[39m*\u001b[39m\u001b[39m*\u001b[39mdecs)\u001b[39m/\u001b[39m(\u001b[39m10\u001b[39m\u001b[39m*\u001b[39m\u001b[39m*\u001b[39mdecs)\n",
      "File \u001b[1;32mc:\\Users\\Jesper\\Documents\\GitHub\\Knowledge-Growth-Prediction\\models\\mirt_2pl_gain.py:111\u001b[0m, in \u001b[0;36mmirt_2pl_gain.fix_sigma\u001b[1;34m(self, sigma_psi, sigma_constraint, convolution_constraint)\u001b[0m\n\u001b[0;32m    109\u001b[0m         \u001b[39mreturn\u001b[39;00m(np\u001b[39m.\u001b[39msum(diag_diff, early_diff))\n\u001b[0;32m    110\u001b[0m     x0 \u001b[39m=\u001b[39m np\u001b[39m.\u001b[39midentity(\u001b[39m2\u001b[39m\u001b[39m*\u001b[39mD)\u001b[39m.\u001b[39mflatten()\n\u001b[1;32m--> 111\u001b[0m     Lambda \u001b[39m=\u001b[39m minimize(\n\u001b[0;32m    112\u001b[0m         fun\u001b[39m=\u001b[39;49mfunc, x0\u001b[39m=\u001b[39;49mx0, method\u001b[39m=\u001b[39;49m\u001b[39m\"\u001b[39;49m\u001b[39mBFGS\u001b[39;49m\u001b[39m\"\u001b[39;49m)\u001b[39m.\u001b[39mx\u001b[39m.\u001b[39mreshape((\u001b[39m2\u001b[39m\u001b[39m*\u001b[39mD, \u001b[39m2\u001b[39m\u001b[39m*\u001b[39mD))\n\u001b[0;32m    113\u001b[0m     sigma_psi \u001b[39m=\u001b[39m np\u001b[39m.\u001b[39mdot(np\u001b[39m.\u001b[39mdot(Lambda, sigma_psi), Lambda\u001b[39m.\u001b[39mtranspose())\n\u001b[0;32m    114\u001b[0m \u001b[39mreturn\u001b[39;00m(sigma_psi)\n",
      "File \u001b[1;32mc:\\Users\\Jesper\\Anaconda3\\lib\\site-packages\\scipy\\optimize\\_minimize.py:694\u001b[0m, in \u001b[0;36mminimize\u001b[1;34m(fun, x0, args, method, jac, hess, hessp, bounds, constraints, tol, callback, options)\u001b[0m\n\u001b[0;32m    692\u001b[0m     res \u001b[39m=\u001b[39m _minimize_cg(fun, x0, args, jac, callback, \u001b[39m*\u001b[39m\u001b[39m*\u001b[39moptions)\n\u001b[0;32m    693\u001b[0m \u001b[39melif\u001b[39;00m meth \u001b[39m==\u001b[39m \u001b[39m'\u001b[39m\u001b[39mbfgs\u001b[39m\u001b[39m'\u001b[39m:\n\u001b[1;32m--> 694\u001b[0m     res \u001b[39m=\u001b[39m _minimize_bfgs(fun, x0, args, jac, callback, \u001b[39m*\u001b[39;49m\u001b[39m*\u001b[39;49moptions)\n\u001b[0;32m    695\u001b[0m \u001b[39melif\u001b[39;00m meth \u001b[39m==\u001b[39m \u001b[39m'\u001b[39m\u001b[39mnewton-cg\u001b[39m\u001b[39m'\u001b[39m:\n\u001b[0;32m    696\u001b[0m     res \u001b[39m=\u001b[39m _minimize_newtoncg(fun, x0, args, jac, hess, hessp, callback,\n\u001b[0;32m    697\u001b[0m                              \u001b[39m*\u001b[39m\u001b[39m*\u001b[39moptions)\n",
      "File \u001b[1;32mc:\\Users\\Jesper\\Anaconda3\\lib\\site-packages\\scipy\\optimize\\_optimize.py:1283\u001b[0m, in \u001b[0;36m_minimize_bfgs\u001b[1;34m(fun, x0, args, jac, callback, gtol, norm, eps, maxiter, disp, return_all, finite_diff_rel_step, **unknown_options)\u001b[0m\n\u001b[0;32m   1280\u001b[0m \u001b[39mif\u001b[39;00m maxiter \u001b[39mis\u001b[39;00m \u001b[39mNone\u001b[39;00m:\n\u001b[0;32m   1281\u001b[0m     maxiter \u001b[39m=\u001b[39m \u001b[39mlen\u001b[39m(x0) \u001b[39m*\u001b[39m \u001b[39m200\u001b[39m\n\u001b[1;32m-> 1283\u001b[0m sf \u001b[39m=\u001b[39m _prepare_scalar_function(fun, x0, jac, args\u001b[39m=\u001b[39;49margs, epsilon\u001b[39m=\u001b[39;49meps,\n\u001b[0;32m   1284\u001b[0m                               finite_diff_rel_step\u001b[39m=\u001b[39;49mfinite_diff_rel_step)\n\u001b[0;32m   1286\u001b[0m f \u001b[39m=\u001b[39m sf\u001b[39m.\u001b[39mfun\n\u001b[0;32m   1287\u001b[0m myfprime \u001b[39m=\u001b[39m sf\u001b[39m.\u001b[39mgrad\n",
      "File \u001b[1;32mc:\\Users\\Jesper\\Anaconda3\\lib\\site-packages\\scipy\\optimize\\_optimize.py:263\u001b[0m, in \u001b[0;36m_prepare_scalar_function\u001b[1;34m(fun, x0, jac, args, bounds, epsilon, finite_diff_rel_step, hess)\u001b[0m\n\u001b[0;32m    259\u001b[0m     bounds \u001b[39m=\u001b[39m (\u001b[39m-\u001b[39mnp\u001b[39m.\u001b[39minf, np\u001b[39m.\u001b[39minf)\n\u001b[0;32m    261\u001b[0m \u001b[39m# ScalarFunction caches. Reuse of fun(x) during grad\u001b[39;00m\n\u001b[0;32m    262\u001b[0m \u001b[39m# calculation reduces overall function evaluations.\u001b[39;00m\n\u001b[1;32m--> 263\u001b[0m sf \u001b[39m=\u001b[39m ScalarFunction(fun, x0, args, grad, hess,\n\u001b[0;32m    264\u001b[0m                     finite_diff_rel_step, bounds, epsilon\u001b[39m=\u001b[39;49mepsilon)\n\u001b[0;32m    266\u001b[0m \u001b[39mreturn\u001b[39;00m sf\n",
      "File \u001b[1;32mc:\\Users\\Jesper\\Anaconda3\\lib\\site-packages\\scipy\\optimize\\_differentiable_functions.py:158\u001b[0m, in \u001b[0;36mScalarFunction.__init__\u001b[1;34m(self, fun, x0, args, grad, hess, finite_diff_rel_step, finite_diff_bounds, epsilon)\u001b[0m\n\u001b[0;32m    155\u001b[0m     \u001b[39mself\u001b[39m\u001b[39m.\u001b[39mf \u001b[39m=\u001b[39m fun_wrapped(\u001b[39mself\u001b[39m\u001b[39m.\u001b[39mx)\n\u001b[0;32m    157\u001b[0m \u001b[39mself\u001b[39m\u001b[39m.\u001b[39m_update_fun_impl \u001b[39m=\u001b[39m update_fun\n\u001b[1;32m--> 158\u001b[0m \u001b[39mself\u001b[39;49m\u001b[39m.\u001b[39;49m_update_fun()\n\u001b[0;32m    160\u001b[0m \u001b[39m# Gradient evaluation\u001b[39;00m\n\u001b[0;32m    161\u001b[0m \u001b[39mif\u001b[39;00m callable(grad):\n",
      "File \u001b[1;32mc:\\Users\\Jesper\\Anaconda3\\lib\\site-packages\\scipy\\optimize\\_differentiable_functions.py:251\u001b[0m, in \u001b[0;36mScalarFunction._update_fun\u001b[1;34m(self)\u001b[0m\n\u001b[0;32m    249\u001b[0m \u001b[39mdef\u001b[39;00m \u001b[39m_update_fun\u001b[39m(\u001b[39mself\u001b[39m):\n\u001b[0;32m    250\u001b[0m     \u001b[39mif\u001b[39;00m \u001b[39mnot\u001b[39;00m \u001b[39mself\u001b[39m\u001b[39m.\u001b[39mf_updated:\n\u001b[1;32m--> 251\u001b[0m         \u001b[39mself\u001b[39;49m\u001b[39m.\u001b[39;49m_update_fun_impl()\n\u001b[0;32m    252\u001b[0m         \u001b[39mself\u001b[39m\u001b[39m.\u001b[39mf_updated \u001b[39m=\u001b[39m \u001b[39mTrue\u001b[39;00m\n",
      "File \u001b[1;32mc:\\Users\\Jesper\\Anaconda3\\lib\\site-packages\\scipy\\optimize\\_differentiable_functions.py:155\u001b[0m, in \u001b[0;36mScalarFunction.__init__.<locals>.update_fun\u001b[1;34m()\u001b[0m\n\u001b[0;32m    154\u001b[0m \u001b[39mdef\u001b[39;00m \u001b[39mupdate_fun\u001b[39m():\n\u001b[1;32m--> 155\u001b[0m     \u001b[39mself\u001b[39m\u001b[39m.\u001b[39mf \u001b[39m=\u001b[39m fun_wrapped(\u001b[39mself\u001b[39;49m\u001b[39m.\u001b[39;49mx)\n",
      "File \u001b[1;32mc:\\Users\\Jesper\\Anaconda3\\lib\\site-packages\\scipy\\optimize\\_differentiable_functions.py:137\u001b[0m, in \u001b[0;36mScalarFunction.__init__.<locals>.fun_wrapped\u001b[1;34m(x)\u001b[0m\n\u001b[0;32m    133\u001b[0m \u001b[39mself\u001b[39m\u001b[39m.\u001b[39mnfev \u001b[39m+\u001b[39m\u001b[39m=\u001b[39m \u001b[39m1\u001b[39m\n\u001b[0;32m    134\u001b[0m \u001b[39m# Send a copy because the user may overwrite it.\u001b[39;00m\n\u001b[0;32m    135\u001b[0m \u001b[39m# Overwriting results in undefined behaviour because\u001b[39;00m\n\u001b[0;32m    136\u001b[0m \u001b[39m# fun(self.x) will change self.x, with the two no longer linked.\u001b[39;00m\n\u001b[1;32m--> 137\u001b[0m fx \u001b[39m=\u001b[39m fun(np\u001b[39m.\u001b[39;49mcopy(x), \u001b[39m*\u001b[39;49margs)\n\u001b[0;32m    138\u001b[0m \u001b[39m# Make sure the function returns a true scalar\u001b[39;00m\n\u001b[0;32m    139\u001b[0m \u001b[39mif\u001b[39;00m \u001b[39mnot\u001b[39;00m np\u001b[39m.\u001b[39misscalar(fx):\n",
      "File \u001b[1;32mc:\\Users\\Jesper\\Documents\\GitHub\\Knowledge-Growth-Prediction\\models\\mirt_2pl_gain.py:109\u001b[0m, in \u001b[0;36mmirt_2pl_gain.fix_sigma.<locals>.func\u001b[1;34m(Lambda)\u001b[0m\n\u001b[0;32m    105\u001b[0m convolution_sigma \u001b[39m=\u001b[39m np\u001b[39m.\u001b[39mdot(\n\u001b[0;32m    106\u001b[0m     convolution_sigma, convolution_matrix\u001b[39m.\u001b[39mtranspose())\n\u001b[0;32m    107\u001b[0m diag_diff \u001b[39m=\u001b[39m np\u001b[39m.\u001b[39msum(\n\u001b[0;32m    108\u001b[0m     np\u001b[39m.\u001b[39msquare(np\u001b[39m.\u001b[39mdiagonal(convolution_sigma) \u001b[39m-\u001b[39m \u001b[39m2\u001b[39m\u001b[39m*\u001b[39mnp\u001b[39m.\u001b[39mones(D)))\n\u001b[1;32m--> 109\u001b[0m \u001b[39mreturn\u001b[39;00m(np\u001b[39m.\u001b[39;49msum(diag_diff, early_diff))\n",
      "File \u001b[1;32m<__array_function__ internals>:5\u001b[0m, in \u001b[0;36msum\u001b[1;34m(*args, **kwargs)\u001b[0m\n",
      "File \u001b[1;32mc:\\Users\\Jesper\\Anaconda3\\lib\\site-packages\\numpy\\core\\fromnumeric.py:2241\u001b[0m, in \u001b[0;36msum\u001b[1;34m(a, axis, dtype, out, keepdims, initial, where)\u001b[0m\n\u001b[0;32m   2238\u001b[0m         \u001b[39mreturn\u001b[39;00m out\n\u001b[0;32m   2239\u001b[0m     \u001b[39mreturn\u001b[39;00m res\n\u001b[1;32m-> 2241\u001b[0m \u001b[39mreturn\u001b[39;00m _wrapreduction(a, np\u001b[39m.\u001b[39;49madd, \u001b[39m'\u001b[39;49m\u001b[39msum\u001b[39;49m\u001b[39m'\u001b[39;49m, axis, dtype, out, keepdims\u001b[39m=\u001b[39;49mkeepdims,\n\u001b[0;32m   2242\u001b[0m                       initial\u001b[39m=\u001b[39;49minitial, where\u001b[39m=\u001b[39;49mwhere)\n",
      "File \u001b[1;32mc:\\Users\\Jesper\\Anaconda3\\lib\\site-packages\\numpy\\core\\fromnumeric.py:85\u001b[0m, in \u001b[0;36m_wrapreduction\u001b[1;34m(obj, ufunc, method, axis, dtype, out, **kwargs)\u001b[0m\n\u001b[0;32m     83\u001b[0m             \u001b[39mreturn\u001b[39;00m reduction(axis\u001b[39m=\u001b[39maxis, dtype\u001b[39m=\u001b[39mdtype, out\u001b[39m=\u001b[39mout, \u001b[39m*\u001b[39m\u001b[39m*\u001b[39mpasskwargs)\n\u001b[0;32m     84\u001b[0m         \u001b[39melse\u001b[39;00m:\n\u001b[1;32m---> 85\u001b[0m             \u001b[39mreturn\u001b[39;00m reduction(axis\u001b[39m=\u001b[39;49maxis, out\u001b[39m=\u001b[39;49mout, \u001b[39m*\u001b[39;49m\u001b[39m*\u001b[39;49mpasskwargs)\n\u001b[0;32m     87\u001b[0m \u001b[39mreturn\u001b[39;00m ufunc\u001b[39m.\u001b[39mreduce(obj, axis, dtype, out, \u001b[39m*\u001b[39m\u001b[39m*\u001b[39mpasskwargs)\n",
      "File \u001b[1;32mc:\\Users\\Jesper\\Anaconda3\\lib\\site-packages\\numpy\\core\\_methods.py:47\u001b[0m, in \u001b[0;36m_sum\u001b[1;34m(a, axis, dtype, out, keepdims, initial, where)\u001b[0m\n\u001b[0;32m     45\u001b[0m \u001b[39mdef\u001b[39;00m \u001b[39m_sum\u001b[39m(a, axis\u001b[39m=\u001b[39m\u001b[39mNone\u001b[39;00m, dtype\u001b[39m=\u001b[39m\u001b[39mNone\u001b[39;00m, out\u001b[39m=\u001b[39m\u001b[39mNone\u001b[39;00m, keepdims\u001b[39m=\u001b[39m\u001b[39mFalse\u001b[39;00m,\n\u001b[0;32m     46\u001b[0m          initial\u001b[39m=\u001b[39m_NoValue, where\u001b[39m=\u001b[39m\u001b[39mTrue\u001b[39;00m):\n\u001b[1;32m---> 47\u001b[0m     \u001b[39mreturn\u001b[39;00m umr_sum(a, axis, dtype, out, keepdims, initial, where)\n",
      "\u001b[1;31mTypeError\u001b[0m: 'numpy.float64' object cannot be interpreted as an integer"
     ]
    }
   ],
   "source": [
    "experiment_0 = lambda: mirt_simulation_experiment(sample_size=100, item_dimension=12, latent_dimension=2, \n",
    "                                             q_type=\"full\", stop_threshold=5, person_method=\"BFGS\",\n",
    "                                            sigma_constraint=\"unconstrained\", real_theta=True)\n",
    "performance_dict= repeat_mirt_experiment(experiment_0, 1)"
   ]
  },
  {
   "cell_type": "code",
   "execution_count": 7,
   "metadata": {},
   "outputs": [
    {
     "name": "stdout",
     "output_type": "stream",
     "text": [
      "------------------------------------\n",
      "##### Results for With unconstrained BFGS and real theta\n",
      "Latent dimension: 2.0,  Item dimension: 12.0, sample size 100.0 \\\n",
      "Early runtime: 7.47 seconds, 9.0 steps, 0.83 seconds per step \\\n",
      "Late runtime: 27.69 seconds, 7.0 steps, 3.96 seconds per step \\\n",
      "Early Marginal Likelihood, Optimal: -517.38, Estimated: -502.29, Initial -614.56 \\\n",
      "Late Marginal Likelihood, Optimal: -613.12, Estimated: -600.55, Initial -799.13\n",
      "| method     |   early_A |   early_delta |   early_sigma |   late_A |   late_delta |   late_sigma |      psi |\n",
      "|:-----------|----------:|--------------:|--------------:|---------:|-------------:|-------------:|---------:|\n",
      "| difference |   1.28629 |      1.04135  |     0.0873277 |  1.93495 |      1.6347  |     0.23946  | 0.178087 |\n",
      "| initial    |   3.22149 |      0.833195 |     0.0156271 |  2.74548 |      1.0409  |     0.319895 | 0.3405   |\n",
      "| late_em    |   1.32167 |      1.0426   |     0.0700036 |  1.83382 |      1.71025 |     0.347684 | 0.157201 |\n",
      "| real_early | nan       |    nan        |   nan         |  1.93437 |      3.07234 |     0.561089 | 0.186722 |\n",
      "####\n",
      "Performance on Individual Level \\\n",
      "rmse theta: 0.4468833543584474 \\\n",
      "rmse gain: 0.7208323642890532\n"
     ]
    },
    {
     "name": "stderr",
     "output_type": "stream",
     "text": [
      "c:\\Users\\Jesper\\Documents\\GitHub\\Knowledge-Growth-Prediction\\analyse_experiment.py:153: FutureWarning: DataFrame.mean and DataFrame.median with numeric_only=None will include datetime64 and datetime64tz columns in a future version.\n",
      "  reference_method = result_df[result_df[\"method\"]\n",
      "c:\\Users\\Jesper\\Documents\\GitHub\\Knowledge-Growth-Prediction\\analyse_experiment.py:155: FutureWarning: DataFrame.mean and DataFrame.median with numeric_only=None will include datetime64 and datetime64tz columns in a future version.\n",
      "  initial = result_df[result_df[\"method\"] == \"initial\"].mean()\n"
     ]
    }
   ],
   "source": [
    "performance_df = get_result_df(performance_dict)\n",
    "print_result_from_df(performance_df, description=\"With unconstrained BFGS and real theta\")"
   ]
  },
  {
   "cell_type": "markdown",
   "metadata": {},
   "source": [
    "\n",
    "------------------------------------\n",
    "##### Results for Increasing Monte Carlo sample-size based on ttest with normal MC\n",
    "Latent dimension: 2,  Item dimension: 6, sample size 100 \\\n",
    "Runtime: 3.3 seconds, 15 steps, 0.22 seconds per step \\\n",
    "Optimal marginal Likelihood: -371.46, Estimated: -365.03, Initial -374.57\n",
    "|               |   rmse_A |   rmse_delta |   rmse_sigma |\n",
    "|:--------------|---------:|-------------:|-------------:|\n",
    "| estimated     | 0.660667 |     0.316008 |    0.0573464 |\n",
    "| early_initial | 0.509902 |     0.28936  |    0.212132  |\n",
    "| girth         | 1.0658   |     0.31617  |    0.12943   |\n",
    "| early_direct  | 0.848957 |     0.59659  |    0.116858  |\n",
    "\n",
    "------------------------------------\n",
    "##### Results for Untested full Model\n",
    "Latent dimension: 2,  Item dimension: 10, sample size 100 \\\n",
    "Early runtime: 2.56 seconds, 8 steps, 0.32 seconds per step \\\n",
    "Late runtime: 107.71 seconds, 5 steps, 21.54 seconds per step \\\n",
    "Early Marginal Likelihood, Optimal: -470.21, Estimated: -463.83, Initial -527.4 \\\n",
    "Late Marginal Likelihood, Optimal: 3.89, Estimated: 3.92, Initial 3.81\n",
    "|           |   early_A |   early_delta |   early_sigma |   late_A |   late_delta |   late_sigma |      psi |\n",
    "|:----------|----------:|--------------:|--------------:|---------:|-------------:|-------------:|---------:|\n",
    "| estimated |   1.08941 |      0.391419 |     0.0115966 |  1.83043 |      1.33621 |     0.674368 | 0.395368 |\n",
    "| initial   |   3.07758 |      0.621379 |     0.329017  |  2.74743 |      1.52522 |     0.320885 | 0.210157 |\n",
    "####\n",
    "Performance on Individual Level \\\n",
    "rmse theta: 0.864016477222037 \\\n",
    "rmse gain: 0.8736126145557623\n",
    "\n",
    "------------------------------------\n",
    "##### Results for Fixed marginal Loglikelihood\n",
    "Latent dimension: 2,  Item dimension: 10, sample size 100 \\\n",
    "Early runtime: 2.5 seconds, 7 steps, 0.36 seconds per step \\\n",
    "Late runtime: 322.67 seconds, 9 steps, 35.85 seconds per step \\\n",
    "Early Marginal Likelihood, Optimal: -494.37, Estimated: -479.73, Initial -540.27 \\\n",
    "Late Marginal Likelihood, Optimal: -359.97, Estimated: -381.08, Initial -431.02\n",
    "|           |   early_A |   early_delta |   early_sigma |   late_A |   late_delta |   late_sigma |      psi |\n",
    "|:----------|----------:|--------------:|--------------:|---------:|-------------:|-------------:|---------:|\n",
    "| estimated |   1.42983 |      0.837686 |     0.139583  |  4.08714 |      2.46488 |    0.243386  | 0.343469 |\n",
    "| initial   |   2.6978  |      0.668599 |     0.0490025 |  5.45633 |      1.95892 |    0.0963787 | 0.22315  |\n",
    "####\n",
    "Performance on Individual Level \\\n",
    "rmse theta: 0.6755600631466341 \\\n",
    "rmse gain: 780.9161055994681\n",
    "\n",
    "------------------------------------\n",
    "##### Results for Genetic Algorithm\n",
    "Latent dimension: 2,  Item dimension: 10, sample size 100 \\\n",
    "Early runtime: 3.42 seconds, 7 steps, 0.49 seconds per step \\\n",
    "Late runtime: 166.44 seconds, 10 steps, 16.64 seconds per step \\\n",
    "Early Marginal Likelihood, Optimal: -445.8, Estimated: -440.04, Initial -525.38 \\\n",
    "Late Marginal Likelihood, Optimal: -452.07, Estimated: -436.89, Initial -535.83\n",
    "|           |   early_A |   early_delta |   early_sigma |   late_A |   late_delta |   late_sigma |      psi |\n",
    "|:----------|----------:|--------------:|--------------:|---------:|-------------:|-------------:|---------:|\n",
    "| estimated |   3.52076 |      0.390601 |     0.0378639 |  5.26244 |     0.403017 |    0.134472  | 0.317107 |\n",
    "| initial   |   5.04367 |      0.567904 |     0.0948937 |  4.62289 |     1.22823  |    0.0472347 | 0.344357 |\n",
    "####\n",
    "Performance on Individual Level \\\n",
    "rmse theta: 0.8067692103719907 \\\n",
    "rmse gain: 560.8514011989563\n",
    "\n",
    "------------------------------------\n",
    "##### Results for With constrained BFGS\n",
    "Latent dimension: 2,  Item dimension: 10, sample size 100 \\\n",
    "Early runtime: 3.39 seconds, 8 steps, 0.42 seconds per step \\\n",
    "Late runtime: 222.08 seconds, 11 steps, 20.19 seconds per step \\\n",
    "Early Marginal Likelihood, Optimal: -450.38, Estimated: -444.2, Initial -522.62 \\\n",
    "Late Marginal Likelihood, Optimal: -469.55, Estimated: -464.8, Initial -539.91\n",
    "|           |   early_A |   early_delta |   early_sigma |   late_A |   late_delta |   late_sigma |      psi |\n",
    "|:----------|----------:|--------------:|--------------:|---------:|-------------:|-------------:|---------:|\n",
    "| estimated |  0.683488 |      0.604727 |     0.0795495 |  1.19288 |     0.397077 |    0.163978  | 0.367325 |\n",
    "| initial   |  2.31601  |      0.712129 |     0.0905097 |  2.83422 |     1.04892  |    0.0775696 | 0.226698 |\n",
    "####\n",
    "Performance on Individual Level \\\n",
    "rmse theta: 0.7139781405467193 \\\n",
    "rmse gain: 0.8053860461431572\n",
    "\n",
    "------------------------------------\n",
    "##### Results for With unconstrained BFGS and save ICC\n",
    "Latent dimension: 2,  Item dimension: 10, sample size 200 \\\n",
    "Early runtime: 4.94 seconds, 10 steps, 0.49 seconds per step \\\n",
    "Late runtime: 217.77 seconds, 14 steps, 15.56 seconds per step \\\n",
    "Early Marginal Likelihood, Optimal: -1025.93, Estimated: -1014.24, Initial -1143.43 \\\n",
    "Late Marginal Likelihood, Optimal: -1019.85, Estimated: -942.56, Initial -1165.24\n",
    "|           |   early_A |   early_delta |   early_sigma |   late_A |   late_delta |   late_sigma |     psi |\n",
    "|:----------|----------:|--------------:|--------------:|---------:|-------------:|-------------:|--------:|\n",
    "| estimated |   1.28713 |      0.405811 |      0.022486 |  2.34827 |      3.08274 |    0.0799031 | 0.25137 |\n",
    "| initial   |   2.81054 |      0.442962 |      0.257387 |  4.62677 |      1.05851 |    0.0787717 | 0.33902 |\n",
    "####\n",
    "Performance on Individual Level \\\n",
    "rmse theta: 0.8966706033114552 \\\n",
    "rmse gain: 0.8351295524334317\n",
    "\n",
    "------------------------------------\n",
    "##### Results for With unconstrained BFGS and save ICC and density\n",
    "Latent dimension: 2,  Item dimension: 10, sample size 100 \\\n",
    "Early runtime: 3.18 seconds, 7 steps, 0.45 seconds per step \\\n",
    "Late runtime: 138.53 seconds, 15 steps, 9.24 seconds per step \\\n",
    "Early Marginal Likelihood, Optimal: -520.2, Estimated: -510.43, Initial -543.26 \\\n",
    "Late Marginal Likelihood, Optimal: -423.14, Estimated: -395.86, Initial -478.51\n",
    "|           |   early_A |   early_delta |   early_sigma |   late_A |   late_delta |   late_sigma |       psi |\n",
    "|:----------|----------:|--------------:|--------------:|---------:|-------------:|-------------:|----------:|\n",
    "| estimated |   1.46673 |      0.222442 |      0.180454 |  8.89911 |      3.884   |    0.0590434 | 0.0987126 |\n",
    "| initial   |   1.98992 |      0.373841 |      0.138664 |  3.10531 |      1.01749 |    0.0374059 | 0.279826  |\n",
    "####\n",
    "Performance on Individual Level \\\n",
    "rmse theta: 0.823547261347214 \\\n",
    "rmse gain: 1.1151668629591303\n",
    "\n",
    "------------------------------------\n",
    "##### Results for With unconstrained BFGS and unsave ICC and save density\n",
    "Latent dimension: 2,  Item dimension: 12, sample size 100 \\\n",
    "Early runtime: 3.87 seconds, 8 steps, 0.48 seconds per step \\\n",
    "Late runtime: 134.42 seconds, 9 steps, 14.94 seconds per step \\\n",
    "Early Marginal Likelihood, Optimal: -602.6, Estimated: -592.22, Initial -670.75 \\\n",
    "Late Marginal Likelihood, Optimal: -456.88, Estimated: -452.65, Initial -554.35\n",
    "|           |   early_A |   early_delta |   early_sigma |   late_A |   late_delta |   late_sigma |       psi |\n",
    "|:----------|----------:|--------------:|--------------:|---------:|-------------:|-------------:|----------:|\n",
    "| estimated |  0.690325 |      0.546951 |     0.0650538 |  1.27364 |     0.938354 |    0.0915703 | 0.0813927 |\n",
    "| initial   |  2.45374  |      0.70644  |     0.213122  |  2.99672 |     1.01538  |    0.137037  | 0.289388  |\n",
    "####\n",
    "Performance on Individual Level \\\n",
    "rmse theta: 0.9424593402985434 \\\n",
    "rmse gain: 0.9094035651380942"
   ]
  },
  {
   "cell_type": "markdown",
   "metadata": {},
   "source": [
    "## Experiment 1: MIRT-2PL Parameter Recovery"
   ]
  },
  {
   "cell_type": "code",
   "execution_count": 8,
   "metadata": {},
   "outputs": [
    {
     "name": "stdout",
     "output_type": "stream",
     "text": [
      "Real latent covariance: [[1.     0.6014 0.0772 0.0111]\n",
      " [0.6014 1.     0.5591 0.4915]\n",
      " [0.0772 0.5591 1.     0.3903]\n",
      " [0.0111 0.4915 0.3903 1.    ]]\n",
      "Covariance matrix is good: True\n",
      "EM Iteration 2\n",
      "Current Monte Carlo Sample size: 300\n"
     ]
    },
    {
     "name": "stderr",
     "output_type": "stream",
     "text": [
      "c:\\Users\\Jesper\\anaconda3\\lib\\site-packages\\scipy\\stats\\_qmc.py:2039: UserWarning: The balance properties of Sobol' points require n to be a power of 2.\n",
      "  samples = self.engine.random(n)\n"
     ]
    },
    {
     "name": "stdout",
     "output_type": "stream",
     "text": [
      "[[1.         0.57313463]\n",
      " [0.57313463 1.        ]]\n",
      "Step: 2: current parameter_diff: 10.476207703344352, current marginal loglikelihood: -655.8005679789298\n",
      "EM Iteration 3\n",
      "Current Monte Carlo Sample size: 330\n",
      "[[1.         0.60101244]\n",
      " [0.60101244 1.        ]]\n"
     ]
    },
    {
     "name": "stderr",
     "output_type": "stream",
     "text": [
      "c:\\Users\\Jesper\\anaconda3\\lib\\site-packages\\scipy\\stats\\_qmc.py:2039: UserWarning: The balance properties of Sobol' points require n to be a power of 2.\n",
      "  samples = self.engine.random(n)\n"
     ]
    },
    {
     "name": "stdout",
     "output_type": "stream",
     "text": [
      "Step: 3: current parameter_diff: 6.224355042669025, current marginal loglikelihood: -646.8450596275576\n",
      "EM Iteration 4\n",
      "Current Monte Carlo Sample size: 363\n",
      "[[1.         0.61338364]\n",
      " [0.61338364 1.        ]]\n"
     ]
    },
    {
     "name": "stderr",
     "output_type": "stream",
     "text": [
      "c:\\Users\\Jesper\\anaconda3\\lib\\site-packages\\scipy\\stats\\_qmc.py:2039: UserWarning: The balance properties of Sobol' points require n to be a power of 2.\n",
      "  samples = self.engine.random(n)\n"
     ]
    },
    {
     "name": "stdout",
     "output_type": "stream",
     "text": [
      "Step: 4: current parameter_diff: 4.595460009688383, current marginal loglikelihood: -644.3053810652256\n",
      "EM Iteration 5\n",
      "Current Monte Carlo Sample size: 399\n",
      "[[1.         0.63741342]\n",
      " [0.63741342 1.        ]]\n"
     ]
    },
    {
     "name": "stderr",
     "output_type": "stream",
     "text": [
      "c:\\Users\\Jesper\\anaconda3\\lib\\site-packages\\scipy\\stats\\_qmc.py:2039: UserWarning: The balance properties of Sobol' points require n to be a power of 2.\n",
      "  samples = self.engine.random(n)\n"
     ]
    },
    {
     "name": "stdout",
     "output_type": "stream",
     "text": [
      "Step: 5: current parameter_diff: 3.8198912587566207, current marginal loglikelihood: -642.7473925471726\n",
      "EM Iteration 6\n",
      "Current Monte Carlo Sample size: 438\n"
     ]
    },
    {
     "name": "stderr",
     "output_type": "stream",
     "text": [
      "c:\\Users\\Jesper\\anaconda3\\lib\\site-packages\\scipy\\stats\\_qmc.py:2039: UserWarning: The balance properties of Sobol' points require n to be a power of 2.\n",
      "  samples = self.engine.random(n)\n"
     ]
    },
    {
     "name": "stdout",
     "output_type": "stream",
     "text": [
      "[[1.         0.65235601]\n",
      " [0.65235601 1.        ]]\n",
      "Step: 6: current parameter_diff: 3.174132448433829, current marginal loglikelihood: -641.7535301235218\n",
      "EM Iteration 2\n"
     ]
    },
    {
     "name": "stderr",
     "output_type": "stream",
     "text": [
      "c:\\Users\\Jesper\\anaconda3\\lib\\site-packages\\scipy\\stats\\_qmc.py:2039: UserWarning: The balance properties of Sobol' points require n to be a power of 2.\n",
      "  samples = self.engine.random(n)\n"
     ]
    },
    {
     "name": "stdout",
     "output_type": "stream",
     "text": [
      "Current Monte Carlo Sample size: 300\n",
      "[[ 1.          0.63768081  0.09434941  0.33828818]\n",
      " [ 0.63768081  1.         -0.06997517  0.23199878]\n",
      " [ 0.09434941 -0.06997517  1.          0.59518107]\n",
      " [ 0.33828818  0.23199878  0.59518107  1.        ]]\n",
      "Step: 2: current parameter_diff: 22.804855994400654, current marginal loglikelihood: -481.3274477614283\n",
      "EM Iteration 3\n"
     ]
    },
    {
     "name": "stderr",
     "output_type": "stream",
     "text": [
      "c:\\Users\\Jesper\\anaconda3\\lib\\site-packages\\scipy\\stats\\_qmc.py:2039: UserWarning: The balance properties of Sobol' points require n to be a power of 2.\n",
      "  samples = self.engine.random(n)\n"
     ]
    },
    {
     "name": "stdout",
     "output_type": "stream",
     "text": [
      "Current Monte Carlo Sample size: 300\n",
      "[[1.         0.6335454  0.11116258 0.3297523 ]\n",
      " [0.6335454  1.         0.0132624  0.20898607]\n",
      " [0.11116258 0.0132624  1.         0.61108709]\n",
      " [0.3297523  0.20898607 0.61108709 1.        ]]\n",
      "Step: 3: current parameter_diff: 17.29466316520358, current marginal loglikelihood: -474.3633710307859\n",
      "EM Iteration 4\n"
     ]
    },
    {
     "name": "stderr",
     "output_type": "stream",
     "text": [
      "c:\\Users\\Jesper\\anaconda3\\lib\\site-packages\\scipy\\stats\\_qmc.py:2039: UserWarning: The balance properties of Sobol' points require n to be a power of 2.\n",
      "  samples = self.engine.random(n)\n"
     ]
    },
    {
     "name": "stdout",
     "output_type": "stream",
     "text": [
      "Current Monte Carlo Sample size: 330\n",
      "[[1.         0.63183931 0.12538263 0.32241674]\n",
      " [0.63183931 1.         0.02339189 0.1963922 ]\n",
      " [0.12538263 0.02339189 1.         0.62254828]\n",
      " [0.32241674 0.1963922  0.62254828 1.        ]]\n",
      "Step: 4: current parameter_diff: 13.20260773677628, current marginal loglikelihood: -465.06856908872857\n",
      "EM Iteration 5\n"
     ]
    },
    {
     "name": "stderr",
     "output_type": "stream",
     "text": [
      "c:\\Users\\Jesper\\anaconda3\\lib\\site-packages\\scipy\\stats\\_qmc.py:2039: UserWarning: The balance properties of Sobol' points require n to be a power of 2.\n",
      "  samples = self.engine.random(n)\n"
     ]
    },
    {
     "name": "stdout",
     "output_type": "stream",
     "text": [
      "Current Monte Carlo Sample size: 363\n",
      "[[1.         0.63117065 0.13970646 0.31594666]\n",
      " [0.63117065 1.         0.03364232 0.18115917]\n",
      " [0.13970646 0.03364232 1.         0.63355313]\n",
      " [0.31594666 0.18115917 0.63355313 1.        ]]\n",
      "Step: 5: current parameter_diff: 11.919056343869793, current marginal loglikelihood: -464.24915031015377\n",
      "EM Iteration 6\n"
     ]
    },
    {
     "name": "stderr",
     "output_type": "stream",
     "text": [
      "c:\\Users\\Jesper\\anaconda3\\lib\\site-packages\\scipy\\stats\\_qmc.py:2039: UserWarning: The balance properties of Sobol' points require n to be a power of 2.\n",
      "  samples = self.engine.random(n)\n"
     ]
    },
    {
     "name": "stdout",
     "output_type": "stream",
     "text": [
      "Current Monte Carlo Sample size: 399\n",
      "[[1.         0.6323915  0.15339784 0.30931392]\n",
      " [0.6323915  1.         0.04293477 0.16873768]\n",
      " [0.15339784 0.04293477 1.         0.64294581]\n",
      " [0.30931392 0.16873768 0.64294581 1.        ]]\n",
      "Step: 6: current parameter_diff: 10.03308699014669, current marginal loglikelihood: -462.14842924650344\n",
      "EM Iteration 7\n"
     ]
    },
    {
     "name": "stderr",
     "output_type": "stream",
     "text": [
      "c:\\Users\\Jesper\\anaconda3\\lib\\site-packages\\scipy\\stats\\_qmc.py:2039: UserWarning: The balance properties of Sobol' points require n to be a power of 2.\n",
      "  samples = self.engine.random(n)\n"
     ]
    },
    {
     "name": "stdout",
     "output_type": "stream",
     "text": [
      "Current Monte Carlo Sample size: 399\n",
      "[[1.         0.62926978 0.18038507 0.29949312]\n",
      " [0.62926978 1.         0.05790077 0.14640078]\n",
      " [0.18038507 0.05790077 1.         0.66083051]\n",
      " [0.29949312 0.14640078 0.66083051 1.        ]]\n",
      "Step: 7: current parameter_diff: 8.131943741671694, current marginal loglikelihood: -459.15420605454136\n",
      "Absolute diff in A:\n",
      "[[0.         1.01657013]\n",
      " [0.         0.26763966]\n",
      " [0.         0.28079889]\n",
      " [0.         2.19561515]\n",
      " [0.         0.23562146]\n",
      " [0.         0.3575645 ]\n",
      " [0.3370481  0.        ]\n",
      " [3.4516871  0.        ]\n",
      " [0.4298185  0.        ]\n",
      " [0.33856506 0.        ]\n",
      " [0.48894438 1.16163272]\n",
      " [2.27291331 0.43701585]]\n",
      "Absolute diff in delta:\n",
      "[0.05368168 0.2588224  0.14346477 0.8128943  0.12397508 0.26066402\n",
      " 0.08796036 0.47467665 0.01945931 0.12285668 0.00920934 1.36673134]\n",
      "Absolute diff in sigma:\n",
      "[[0.     0.0509]\n",
      " [0.0509 0.    ]]\n",
      "Absolute diff in A:\n",
      "[[0.         0.99774666]\n",
      " [0.         1.06995807]\n",
      " [3.82867439 0.        ]\n",
      " [5.04191225 0.        ]\n",
      " [3.5452749  0.        ]\n",
      " [4.28980478 0.        ]\n",
      " [0.34332386 2.73741203]\n",
      " [0.76330303 1.17979741]\n",
      " [1.47300417 1.48188495]\n",
      " [0.02699864 1.26600475]\n",
      " [3.08587056 2.2722562 ]\n",
      " [2.44249559 0.86355673]]\n",
      "Absolute diff in delta:\n",
      "[1.23672206 1.71130228 0.69142333 0.88177815 1.30061957 1.78880733\n",
      " 1.56861445 2.05342442 1.24834398 1.95420007 1.91482984 2.17760663]\n",
      "Absolute diff in A:\n",
      "[[0.         1.55778212]\n",
      " [0.         0.13144495]\n",
      " [0.         0.02983204]\n",
      " [0.         2.54714747]\n",
      " [0.         1.23188981]\n",
      " [0.         1.49767675]\n",
      " [0.19257754 0.        ]\n",
      " [6.55807676 0.        ]\n",
      " [0.14964948 0.        ]\n",
      " [0.87094375 0.        ]\n",
      " [0.14978196 0.91861543]\n",
      " [1.0283847  3.00371047]]\n",
      "Absolute diff in delta:\n",
      "[0.36924782 0.18375848 0.15499838 0.70127245 0.23385353 0.37801723\n",
      " 0.10518852 1.08333479 0.03888344 0.10413759 0.49797121 0.15619278]\n",
      "Absolute diff in sigma:\n",
      "[[0.     0.1014]\n",
      " [0.1014 0.    ]]\n",
      "Absolute diff in A:\n",
      "[[1.         2.28411176]\n",
      " [1.         1.70854808]\n",
      " [7.0058299  1.        ]\n",
      " [2.62690773 1.        ]\n",
      " [3.51005228 1.        ]\n",
      " [3.93037745 1.        ]\n",
      " [1.89373941 1.41610584]\n",
      " [1.30199179 2.54042817]\n",
      " [1.03485776 4.13058226]\n",
      " [3.48406126 3.09269853]\n",
      " [8.96018968 0.9130803 ]\n",
      " [1.68689176 5.22843509]]\n",
      "Absolute diff in delta:\n",
      "[1.74465286 0.64214518 0.63635773 1.45798985 0.38090562 0.2207415\n",
      " 1.40639111 2.17123794 0.08267529 1.12967896 1.61176512 1.0023433 ]\n",
      "Covariance matrix is good: True\n",
      "EM Iteration 2\n",
      "Current Monte Carlo Sample size: 300\n",
      "[[1.         0.53426749]\n",
      " [0.53426749 1.        ]]\n"
     ]
    },
    {
     "name": "stderr",
     "output_type": "stream",
     "text": [
      "c:\\Users\\Jesper\\anaconda3\\lib\\site-packages\\scipy\\stats\\_qmc.py:2039: UserWarning: The balance properties of Sobol' points require n to be a power of 2.\n",
      "  samples = self.engine.random(n)\n"
     ]
    },
    {
     "name": "stdout",
     "output_type": "stream",
     "text": [
      "Step: 2: current parameter_diff: 10.338725601350331, current marginal loglikelihood: -659.000145454912\n",
      "EM Iteration 3\n",
      "Current Monte Carlo Sample size: 300\n",
      "[[1.         0.61026202]\n",
      " [0.61026202 1.        ]]\n"
     ]
    },
    {
     "name": "stderr",
     "output_type": "stream",
     "text": [
      "c:\\Users\\Jesper\\anaconda3\\lib\\site-packages\\scipy\\stats\\_qmc.py:2039: UserWarning: The balance properties of Sobol' points require n to be a power of 2.\n",
      "  samples = self.engine.random(n)\n"
     ]
    },
    {
     "name": "stdout",
     "output_type": "stream",
     "text": [
      "Step: 3: current parameter_diff: 6.284143283624874, current marginal loglikelihood: -648.0397630593474\n",
      "EM Iteration 4\n",
      "Current Monte Carlo Sample size: 330\n",
      "[[1.         0.60621286]\n",
      " [0.60621286 1.        ]]\n"
     ]
    },
    {
     "name": "stderr",
     "output_type": "stream",
     "text": [
      "c:\\Users\\Jesper\\anaconda3\\lib\\site-packages\\scipy\\stats\\_qmc.py:2039: UserWarning: The balance properties of Sobol' points require n to be a power of 2.\n",
      "  samples = self.engine.random(n)\n"
     ]
    },
    {
     "name": "stdout",
     "output_type": "stream",
     "text": [
      "Step: 4: current parameter_diff: 4.791415537165609, current marginal loglikelihood: -645.3464614587498\n",
      "EM Iteration 5\n",
      "Current Monte Carlo Sample size: 363\n",
      "[[1.         0.60781139]\n",
      " [0.60781139 1.        ]]\n"
     ]
    },
    {
     "name": "stderr",
     "output_type": "stream",
     "text": [
      "c:\\Users\\Jesper\\anaconda3\\lib\\site-packages\\scipy\\stats\\_qmc.py:2039: UserWarning: The balance properties of Sobol' points require n to be a power of 2.\n",
      "  samples = self.engine.random(n)\n"
     ]
    },
    {
     "name": "stdout",
     "output_type": "stream",
     "text": [
      "Step: 5: current parameter_diff: 3.302129913142261, current marginal loglikelihood: -642.5001187051465\n",
      "EM Iteration 6\n",
      "Current Monte Carlo Sample size: 399\n",
      "[[1.         0.62377716]\n",
      " [0.62377716 1.        ]]\n"
     ]
    },
    {
     "name": "stderr",
     "output_type": "stream",
     "text": [
      "c:\\Users\\Jesper\\anaconda3\\lib\\site-packages\\scipy\\stats\\_qmc.py:2039: UserWarning: The balance properties of Sobol' points require n to be a power of 2.\n",
      "  samples = self.engine.random(n)\n"
     ]
    },
    {
     "name": "stdout",
     "output_type": "stream",
     "text": [
      "Step: 6: current parameter_diff: 3.0550116310482283, current marginal loglikelihood: -642.3209725106931\n",
      "Covariance matrix is good: True\n",
      "EM Iteration 2\n",
      "Current Monte Carlo Sample size: 300\n",
      "[[1.         0.80330054]\n",
      " [0.80330054 1.        ]]\n"
     ]
    },
    {
     "name": "stderr",
     "output_type": "stream",
     "text": [
      "c:\\Users\\Jesper\\anaconda3\\lib\\site-packages\\scipy\\stats\\_qmc.py:2039: UserWarning: The balance properties of Sobol' points require n to be a power of 2.\n",
      "  samples = self.engine.random(n)\n"
     ]
    },
    {
     "name": "stdout",
     "output_type": "stream",
     "text": [
      "Step: 2: current parameter_diff: 28.16486991830143, current marginal loglikelihood: -338.95962584252754\n",
      "EM Iteration 3\n",
      "Current Monte Carlo Sample size: 330\n",
      "[[1.         0.77818411]\n",
      " [0.77818411 1.        ]]\n"
     ]
    },
    {
     "name": "stderr",
     "output_type": "stream",
     "text": [
      "c:\\Users\\Jesper\\anaconda3\\lib\\site-packages\\scipy\\stats\\_qmc.py:2039: UserWarning: The balance properties of Sobol' points require n to be a power of 2.\n",
      "  samples = self.engine.random(n)\n"
     ]
    },
    {
     "name": "stdout",
     "output_type": "stream",
     "text": [
      "Step: 3: current parameter_diff: 27.32574118103095, current marginal loglikelihood: -310.9930675458153\n",
      "EM Iteration 4\n",
      "Current Monte Carlo Sample size: 363\n",
      "[[1.         0.76342539]\n",
      " [0.76342539 1.        ]]\n"
     ]
    },
    {
     "name": "stderr",
     "output_type": "stream",
     "text": [
      "c:\\Users\\Jesper\\anaconda3\\lib\\site-packages\\scipy\\stats\\_qmc.py:2039: UserWarning: The balance properties of Sobol' points require n to be a power of 2.\n",
      "  samples = self.engine.random(n)\n"
     ]
    },
    {
     "name": "stdout",
     "output_type": "stream",
     "text": [
      "Step: 4: current parameter_diff: 26.508023826297112, current marginal loglikelihood: -298.5381441116123\n",
      "EM Iteration 5\n",
      "Current Monte Carlo Sample size: 399\n",
      "[[1.         0.75093545]\n",
      " [0.75093545 1.        ]]\n"
     ]
    },
    {
     "name": "stderr",
     "output_type": "stream",
     "text": [
      "c:\\Users\\Jesper\\anaconda3\\lib\\site-packages\\scipy\\stats\\_qmc.py:2039: UserWarning: The balance properties of Sobol' points require n to be a power of 2.\n",
      "  samples = self.engine.random(n)\n"
     ]
    },
    {
     "name": "stdout",
     "output_type": "stream",
     "text": [
      "Step: 5: current parameter_diff: 24.670178895907327, current marginal loglikelihood: -294.22677622334555\n",
      "EM Iteration 6\n",
      "Current Monte Carlo Sample size: 438\n",
      "[[1.         0.73515808]\n",
      " [0.73515808 1.        ]]\n"
     ]
    },
    {
     "name": "stderr",
     "output_type": "stream",
     "text": [
      "c:\\Users\\Jesper\\anaconda3\\lib\\site-packages\\scipy\\stats\\_qmc.py:2039: UserWarning: The balance properties of Sobol' points require n to be a power of 2.\n",
      "  samples = self.engine.random(n)\n"
     ]
    },
    {
     "name": "stdout",
     "output_type": "stream",
     "text": [
      "Step: 6: current parameter_diff: 19.368573215203853, current marginal loglikelihood: -290.4324816893034\n",
      "EM Iteration 7\n",
      "Current Monte Carlo Sample size: 438\n",
      "[[1.         0.72070783]\n",
      " [0.72070783 1.        ]]\n"
     ]
    },
    {
     "name": "stderr",
     "output_type": "stream",
     "text": [
      "c:\\Users\\Jesper\\anaconda3\\lib\\site-packages\\scipy\\stats\\_qmc.py:2039: UserWarning: The balance properties of Sobol' points require n to be a power of 2.\n",
      "  samples = self.engine.random(n)\n"
     ]
    },
    {
     "name": "stdout",
     "output_type": "stream",
     "text": [
      "Step: 7: current parameter_diff: 16.17614939945701, current marginal loglikelihood: -289.13014828077394\n",
      "Absolute diff in A:\n",
      "[[0.         1.06342793]\n",
      " [0.         0.32148521]\n",
      " [0.         0.27395568]\n",
      " [0.         2.32040483]\n",
      " [0.         0.27695704]\n",
      " [0.         0.30865824]\n",
      " [0.29846155 0.        ]\n",
      " [3.36995829 0.        ]\n",
      " [0.45083832 0.        ]\n",
      " [0.29323621 0.        ]\n",
      " [0.47055896 1.04041512]\n",
      " [1.95676698 0.12306988]]\n",
      "Absolute diff in delta:\n",
      "[0.06223454 0.26603539 0.12520712 0.88621142 0.12405735 0.26786444\n",
      " 0.04767589 0.51268059 0.01396671 0.17252918 0.03385429 1.12145004]\n",
      "Absolute diff in sigma:\n",
      "[[1.00e-04 2.23e-02]\n",
      " [2.23e-02 0.00e+00]]\n",
      "Absolute diff in A:\n",
      "[[0.         1.36508616]\n",
      " [0.         0.01403499]\n",
      " [5.49762873 0.        ]\n",
      " [2.23907333 0.        ]\n",
      " [0.59036551 0.        ]\n",
      " [0.12670401 0.        ]\n",
      " [0.71379058 1.29030724]\n",
      " [0.07354498 0.48688404]\n",
      " [1.55172651 2.645757  ]\n",
      " [1.17528122 0.78692951]\n",
      " [5.7276733  0.29281353]\n",
      " [2.13284042 2.16003215]]\n",
      "Absolute diff in delta:\n",
      "[0.95892299 1.09986143 0.18289351 0.42297768 0.12966005 0.32919182\n",
      " 0.34723395 0.64671297 0.58158763 0.27376166 0.32889198 0.60725482]\n",
      "EM Iteration 2\n"
     ]
    },
    {
     "name": "stderr",
     "output_type": "stream",
     "text": [
      "c:\\Users\\Jesper\\anaconda3\\lib\\site-packages\\scipy\\stats\\_qmc.py:2039: UserWarning: The balance properties of Sobol' points require n to be a power of 2.\n",
      "  samples = self.engine.random(n)\n"
     ]
    },
    {
     "name": "stdout",
     "output_type": "stream",
     "text": [
      "Current Monte Carlo Sample size: 300\n",
      "[[ 1.          0.62316071 -0.3222609  -0.24721378]\n",
      " [ 0.62316071  1.         -0.36480732 -0.3133975 ]\n",
      " [-0.3222609  -0.36480732  1.          0.71722092]\n",
      " [-0.24721378 -0.3133975   0.71722092  1.        ]]\n",
      "Step: 2: current parameter_diff: 25.948310405473308, current marginal loglikelihood: -517.7543482978386\n",
      "EM Iteration 3\n"
     ]
    },
    {
     "name": "stderr",
     "output_type": "stream",
     "text": [
      "c:\\Users\\Jesper\\anaconda3\\lib\\site-packages\\scipy\\stats\\_qmc.py:2039: UserWarning: The balance properties of Sobol' points require n to be a power of 2.\n",
      "  samples = self.engine.random(n)\n"
     ]
    },
    {
     "name": "stdout",
     "output_type": "stream",
     "text": [
      "Current Monte Carlo Sample size: 300\n",
      "[[ 1.          0.65719913 -0.03563305 -0.00678401]\n",
      " [ 0.65719913  1.         -0.04795597 -0.01587884]\n",
      " [-0.03563305 -0.04795597  1.          0.56195067]\n",
      " [-0.00678401 -0.01587884  0.56195067  1.        ]]\n",
      "Step: 3: current parameter_diff: 17.728778051659777, current marginal loglikelihood: -512.497212528872\n",
      "EM Iteration 4\n"
     ]
    },
    {
     "name": "stderr",
     "output_type": "stream",
     "text": [
      "c:\\Users\\Jesper\\anaconda3\\lib\\site-packages\\scipy\\stats\\_qmc.py:2039: UserWarning: The balance properties of Sobol' points require n to be a power of 2.\n",
      "  samples = self.engine.random(n)\n"
     ]
    },
    {
     "name": "stdout",
     "output_type": "stream",
     "text": [
      "Current Monte Carlo Sample size: 330\n",
      "[[ 1.          0.62910339 -0.00820492  0.00590676]\n",
      " [ 0.62910339  1.         -0.02106333  0.00438526]\n",
      " [-0.00820492 -0.02106333  1.          0.54198051]\n",
      " [ 0.00590676  0.00438526  0.54198051  1.        ]]\n",
      "Step: 4: current parameter_diff: 13.197569607074675, current marginal loglikelihood: -508.181125050796\n",
      "EM Iteration 5\n"
     ]
    },
    {
     "name": "stderr",
     "output_type": "stream",
     "text": [
      "c:\\Users\\Jesper\\anaconda3\\lib\\site-packages\\scipy\\stats\\_qmc.py:2039: UserWarning: The balance properties of Sobol' points require n to be a power of 2.\n",
      "  samples = self.engine.random(n)\n"
     ]
    },
    {
     "name": "stdout",
     "output_type": "stream",
     "text": [
      "Current Monte Carlo Sample size: 363\n",
      "[[ 1.          0.6046252  -0.01535117  0.00250697]\n",
      " [ 0.6046252   1.         -0.02455802  0.00206641]\n",
      " [-0.01535117 -0.02455802  1.          0.52456462]\n",
      " [ 0.00250697  0.00206641  0.52456462  1.        ]]\n",
      "Step: 5: current parameter_diff: 10.012061865879744, current marginal loglikelihood: -505.1341702015749\n",
      "EM Iteration 6\n"
     ]
    },
    {
     "name": "stderr",
     "output_type": "stream",
     "text": [
      "c:\\Users\\Jesper\\anaconda3\\lib\\site-packages\\scipy\\stats\\_qmc.py:2039: UserWarning: The balance properties of Sobol' points require n to be a power of 2.\n",
      "  samples = self.engine.random(n)\n"
     ]
    },
    {
     "name": "stdout",
     "output_type": "stream",
     "text": [
      "Current Monte Carlo Sample size: 399\n",
      "[[ 1.          0.58963032 -0.01512877  0.00127218]\n",
      " [ 0.58963032  1.         -0.01773942 -0.00173096]\n",
      " [-0.01512877 -0.01773942  1.          0.51237505]\n",
      " [ 0.00127218 -0.00173096  0.51237505  1.        ]]\n",
      "Step: 6: current parameter_diff: 8.351485609916162, current marginal loglikelihood: -503.38145330506194\n",
      "Absolute diff in A:\n",
      "[[0.         1.34537771]\n",
      " [0.         0.2544124 ]\n",
      " [4.40888375 0.        ]\n",
      " [4.08067718 0.        ]\n",
      " [3.15823229 0.        ]\n",
      " [2.39117631 0.        ]\n",
      " [0.86681006 1.62421879]\n",
      " [0.13667702 0.32644043]\n",
      " [1.7283418  1.73680723]\n",
      " [1.26355943 0.02290822]\n",
      " [4.22114392 1.80238437]\n",
      " [2.58493792 0.19185171]]\n",
      "Absolute diff in delta:\n",
      "[1.31082353 1.74327793 0.93389145 1.40206864 2.04307388 2.13879089\n",
      " 1.64506026 1.98478542 1.73181056 1.86822206 2.13077507 2.52370303]\n",
      "Real latent covariance: [[1.     0.3886 0.0176 0.4138]\n",
      " [0.3886 1.     0.0673 0.2129]\n",
      " [0.0176 0.0673 1.     0.6054]\n",
      " [0.4138 0.2129 0.6054 1.    ]]\n",
      "Covariance matrix is good: True\n",
      "EM Iteration 2\n",
      "Current Monte Carlo Sample size: 300\n",
      "[[1.         0.50626745]\n",
      " [0.50626745 1.        ]]\n"
     ]
    },
    {
     "name": "stderr",
     "output_type": "stream",
     "text": [
      "c:\\Users\\Jesper\\anaconda3\\lib\\site-packages\\scipy\\stats\\_qmc.py:2039: UserWarning: The balance properties of Sobol' points require n to be a power of 2.\n",
      "  samples = self.engine.random(n)\n"
     ]
    },
    {
     "name": "stdout",
     "output_type": "stream",
     "text": [
      "Step: 2: current parameter_diff: 15.432063127757429, current marginal loglikelihood: -555.4441118886825\n",
      "EM Iteration 3\n",
      "Current Monte Carlo Sample size: 330\n",
      "[[1.         0.48855885]\n",
      " [0.48855885 1.        ]]\n"
     ]
    },
    {
     "name": "stderr",
     "output_type": "stream",
     "text": [
      "c:\\Users\\Jesper\\anaconda3\\lib\\site-packages\\scipy\\stats\\_qmc.py:2039: UserWarning: The balance properties of Sobol' points require n to be a power of 2.\n",
      "  samples = self.engine.random(n)\n"
     ]
    },
    {
     "name": "stdout",
     "output_type": "stream",
     "text": [
      "Step: 3: current parameter_diff: 13.828905151900539, current marginal loglikelihood: -531.4530370538729\n",
      "EM Iteration 4\n",
      "Current Monte Carlo Sample size: 363\n",
      "[[1.         0.44679333]\n",
      " [0.44679333 1.        ]]\n"
     ]
    },
    {
     "name": "stderr",
     "output_type": "stream",
     "text": [
      "c:\\Users\\Jesper\\anaconda3\\lib\\site-packages\\scipy\\stats\\_qmc.py:2039: UserWarning: The balance properties of Sobol' points require n to be a power of 2.\n",
      "  samples = self.engine.random(n)\n"
     ]
    },
    {
     "name": "stdout",
     "output_type": "stream",
     "text": [
      "Step: 4: current parameter_diff: 11.064144863281394, current marginal loglikelihood: -518.1172239345085\n",
      "EM Iteration 5\n",
      "Current Monte Carlo Sample size: 399\n",
      "[[1.         0.40648653]\n",
      " [0.40648653 1.        ]]\n"
     ]
    },
    {
     "name": "stderr",
     "output_type": "stream",
     "text": [
      "c:\\Users\\Jesper\\anaconda3\\lib\\site-packages\\scipy\\stats\\_qmc.py:2039: UserWarning: The balance properties of Sobol' points require n to be a power of 2.\n",
      "  samples = self.engine.random(n)\n"
     ]
    },
    {
     "name": "stdout",
     "output_type": "stream",
     "text": [
      "Step: 5: current parameter_diff: 10.313615717444485, current marginal loglikelihood: -511.5804883163442\n",
      "EM Iteration 6\n",
      "Current Monte Carlo Sample size: 438\n",
      "[[1.         0.34711395]\n",
      " [0.34711395 1.        ]]\n",
      "Step: 6: current parameter_diff: 8.828663372584487, current marginal loglikelihood: -507.93792033397267\n",
      "EM Iteration 7\n",
      "Current Monte Carlo Sample size: 481\n",
      "[[1.         0.32630097]\n",
      " [0.32630097 1.        ]]\n",
      "Step: 7: current parameter_diff: 6.010056018484967, current marginal loglikelihood: -508.05286046610456\n",
      "EM Iteration 8\n",
      "Current Monte Carlo Sample size: 529\n",
      "[[1.        0.3164346]\n",
      " [0.3164346 1.       ]]\n",
      "Step: 8: current parameter_diff: 5.901051162969869, current marginal loglikelihood: -507.3838020136891\n",
      "EM Iteration 2\n"
     ]
    },
    {
     "name": "stderr",
     "output_type": "stream",
     "text": [
      "c:\\Users\\Jesper\\anaconda3\\lib\\site-packages\\scipy\\stats\\_qmc.py:2039: UserWarning: The balance properties of Sobol' points require n to be a power of 2.\n",
      "  samples = self.engine.random(n)\n"
     ]
    },
    {
     "name": "stdout",
     "output_type": "stream",
     "text": [
      "Current Monte Carlo Sample size: 300\n",
      "[[1.         0.36132638 0.46850317 0.46855532]\n",
      " [0.36132638 1.         0.4485159  0.45015078]\n",
      " [0.46850317 0.4485159  1.         0.3990206 ]\n",
      " [0.46855532 0.45015078 0.3990206  1.        ]]\n",
      "Step: 2: current parameter_diff: 22.397352491633693, current marginal loglikelihood: -593.3835557259922\n",
      "EM Iteration 3\n"
     ]
    },
    {
     "name": "stderr",
     "output_type": "stream",
     "text": [
      "c:\\Users\\Jesper\\anaconda3\\lib\\site-packages\\scipy\\stats\\_qmc.py:2039: UserWarning: The balance properties of Sobol' points require n to be a power of 2.\n",
      "  samples = self.engine.random(n)\n"
     ]
    },
    {
     "name": "stdout",
     "output_type": "stream",
     "text": [
      "Current Monte Carlo Sample size: 330\n",
      "[[1.         0.51663882 0.32717884 0.37217389]\n",
      " [0.51663882 1.         0.2687133  0.30542216]\n",
      " [0.32717884 0.2687133  1.         0.31632445]\n",
      " [0.37217389 0.30542216 0.31632445 1.        ]]\n",
      "Step: 3: current parameter_diff: 14.669563563526918, current marginal loglikelihood: -578.2506421040569\n",
      "EM Iteration 4\n"
     ]
    },
    {
     "name": "stderr",
     "output_type": "stream",
     "text": [
      "c:\\Users\\Jesper\\anaconda3\\lib\\site-packages\\scipy\\stats\\_qmc.py:2039: UserWarning: The balance properties of Sobol' points require n to be a power of 2.\n",
      "  samples = self.engine.random(n)\n"
     ]
    },
    {
     "name": "stdout",
     "output_type": "stream",
     "text": [
      "Current Monte Carlo Sample size: 330\n",
      "[[1.         0.48530995 0.14205297 0.07667692]\n",
      " [0.48530995 1.         0.09119672 0.06225223]\n",
      " [0.14205297 0.09119672 1.         0.27447704]\n",
      " [0.07667692 0.06225223 0.27447704 1.        ]]\n",
      "Step: 4: current parameter_diff: 10.478213231212667, current marginal loglikelihood: -569.2030239285843\n",
      "EM Iteration 5\n"
     ]
    },
    {
     "name": "stderr",
     "output_type": "stream",
     "text": [
      "c:\\Users\\Jesper\\anaconda3\\lib\\site-packages\\scipy\\stats\\_qmc.py:2039: UserWarning: The balance properties of Sobol' points require n to be a power of 2.\n",
      "  samples = self.engine.random(n)\n"
     ]
    },
    {
     "name": "stdout",
     "output_type": "stream",
     "text": [
      "Current Monte Carlo Sample size: 330\n",
      "[[1.         0.47209237 0.14678712 0.08601669]\n",
      " [0.47209237 1.         0.08727061 0.06689553]\n",
      " [0.14678712 0.08727061 1.         0.29552999]\n",
      " [0.08601669 0.06689553 0.29552999 1.        ]]\n",
      "Step: 5: current parameter_diff: 7.718998997515648, current marginal loglikelihood: -568.3302697087142\n",
      "EM Iteration 6\n"
     ]
    },
    {
     "name": "stderr",
     "output_type": "stream",
     "text": [
      "c:\\Users\\Jesper\\anaconda3\\lib\\site-packages\\scipy\\stats\\_qmc.py:2039: UserWarning: The balance properties of Sobol' points require n to be a power of 2.\n",
      "  samples = self.engine.random(n)\n"
     ]
    },
    {
     "name": "stdout",
     "output_type": "stream",
     "text": [
      "Current Monte Carlo Sample size: 330\n",
      "[[1.         0.46042145 0.1535483  0.09098631]\n",
      " [0.46042145 1.         0.08295418 0.06887236]\n",
      " [0.1535483  0.08295418 1.         0.31896164]\n",
      " [0.09098631 0.06887236 0.31896164 1.        ]]\n",
      "Step: 6: current parameter_diff: 5.8674100381817675, current marginal loglikelihood: -567.8452262045885\n",
      "EM Iteration 7\n"
     ]
    },
    {
     "name": "stderr",
     "output_type": "stream",
     "text": [
      "c:\\Users\\Jesper\\anaconda3\\lib\\site-packages\\scipy\\stats\\_qmc.py:2039: UserWarning: The balance properties of Sobol' points require n to be a power of 2.\n",
      "  samples = self.engine.random(n)\n"
     ]
    },
    {
     "name": "stdout",
     "output_type": "stream",
     "text": [
      "Current Monte Carlo Sample size: 363\n",
      "[[1.         0.45022419 0.15894322 0.09920709]\n",
      " [0.45022419 1.         0.07831205 0.07394768]\n",
      " [0.15894322 0.07831205 1.         0.3401795 ]\n",
      " [0.09920709 0.07394768 0.3401795  1.        ]]\n",
      "Step: 7: current parameter_diff: 5.017947213389496, current marginal loglikelihood: -565.9414546368006\n",
      "Absolute diff in A:\n",
      "[[0.         0.79083595]\n",
      " [0.         6.75655106]\n",
      " [4.50092555 0.        ]\n",
      " [0.14118305 0.        ]\n",
      " [3.22126231 0.        ]\n",
      " [0.32685304 0.        ]\n",
      " [1.11517339 0.        ]\n",
      " [0.58462368 0.5875002 ]\n",
      " [0.09894879 3.51971417]\n",
      " [0.82151333 0.18208386]\n",
      " [1.2385475  1.70749858]\n",
      " [0.35436862 1.00014328]]\n",
      "Absolute diff in delta:\n",
      "[0.00769058 3.08724726 0.28578703 0.53707643 1.82963698 0.27533001\n",
      " 0.42857331 0.16608023 1.42655553 0.23085645 1.26056903 0.21846665]\n",
      "Absolute diff in sigma:\n",
      "[[0.     0.0722]\n",
      " [0.0722 0.    ]]\n",
      "Absolute diff in A:\n",
      "[[0.         0.13210842]\n",
      " [0.         0.81411278]\n",
      " [0.         0.67503874]\n",
      " [0.         0.39326517]\n",
      " [0.         8.57877663]\n",
      " [0.0595011  0.        ]\n",
      " [0.04018792 0.        ]\n",
      " [0.50941119 4.39025836]\n",
      " [2.77781926 2.36647199]\n",
      " [0.55523452 0.98261222]\n",
      " [0.2886381  0.23194051]\n",
      " [0.52954176 0.17426565]]\n",
      "Absolute diff in delta:\n",
      "[0.57903529 0.23082133 0.85519555 0.24671363 0.49818018 0.47125378\n",
      " 0.15666456 2.77465473 1.97011423 0.76957934 0.16929565 0.9543958 ]\n",
      "Absolute diff in A:\n",
      "[[0.         3.19342927]\n",
      " [0.         4.52293514]\n",
      " [4.07172612 0.        ]\n",
      " [1.64406793 0.        ]\n",
      " [9.13672396 0.        ]\n",
      " [0.56949824 0.        ]\n",
      " [1.98606125 0.        ]\n",
      " [0.40175568 2.66849495]\n",
      " [0.15459895 2.72088771]\n",
      " [3.91087349 1.93146833]\n",
      " [1.82977884 3.32791849]\n",
      " [1.08496591 2.48505129]]\n",
      "Absolute diff in delta:\n",
      "[0.3012266  0.06507301 0.33945814 1.56517248 1.243534   0.29207307\n",
      " 0.60952734 1.27381846 0.12686475 0.25225103 1.25455194 0.59884796]\n",
      "Absolute diff in sigma:\n",
      "[[0.     0.1114]\n",
      " [0.1114 0.    ]]\n",
      "Absolute diff in A:\n",
      "[[1.00000000e+00 2.77795990e+00]\n",
      " [1.00000000e+00 2.82508445e+00]\n",
      " [1.00000000e+00 4.46086225e+00]\n",
      " [1.00000000e+00 2.32691232e+00]\n",
      " [1.00000000e+00 1.55028036e+01]\n",
      " [1.12704011e+00 1.00000000e+00]\n",
      " [5.78219652e-01 1.00000000e+00]\n",
      " [9.16820116e-02 1.53952717e+00]\n",
      " [1.26213974e+00 1.73889661e+00]\n",
      " [1.35614387e-02 1.65724710e+00]\n",
      " [1.10176998e+00 1.81763893e+00]\n",
      " [2.66563622e-01 3.04319702e+00]]\n",
      "Absolute diff in delta:\n",
      "[1.01045154 0.57552617 0.54644704 0.81385487 1.11056486 0.512219\n",
      " 1.14336631 0.15430989 1.98323346 2.54395402 0.77140132 1.41624974]\n",
      "Covariance matrix is good: True\n",
      "EM Iteration 2\n",
      "Current Monte Carlo Sample size: 300\n",
      "[[1.         0.50882015]\n",
      " [0.50882015 1.        ]]\n"
     ]
    },
    {
     "name": "stderr",
     "output_type": "stream",
     "text": [
      "c:\\Users\\Jesper\\anaconda3\\lib\\site-packages\\scipy\\stats\\_qmc.py:2039: UserWarning: The balance properties of Sobol' points require n to be a power of 2.\n",
      "  samples = self.engine.random(n)\n"
     ]
    },
    {
     "name": "stdout",
     "output_type": "stream",
     "text": [
      "Step: 2: current parameter_diff: 14.63734411644146, current marginal loglikelihood: -559.6575777848952\n",
      "EM Iteration 3\n",
      "Current Monte Carlo Sample size: 300\n",
      "[[1.        0.5069201]\n",
      " [0.5069201 1.       ]]\n"
     ]
    },
    {
     "name": "stderr",
     "output_type": "stream",
     "text": [
      "c:\\Users\\Jesper\\anaconda3\\lib\\site-packages\\scipy\\stats\\_qmc.py:2039: UserWarning: The balance properties of Sobol' points require n to be a power of 2.\n",
      "  samples = self.engine.random(n)\n"
     ]
    },
    {
     "name": "stdout",
     "output_type": "stream",
     "text": [
      "Step: 3: current parameter_diff: 13.939674800740853, current marginal loglikelihood: -533.5224409636943\n",
      "EM Iteration 4\n",
      "Current Monte Carlo Sample size: 330\n",
      "[[1.         0.45238667]\n",
      " [0.45238667 1.        ]]\n"
     ]
    },
    {
     "name": "stderr",
     "output_type": "stream",
     "text": [
      "c:\\Users\\Jesper\\anaconda3\\lib\\site-packages\\scipy\\stats\\_qmc.py:2039: UserWarning: The balance properties of Sobol' points require n to be a power of 2.\n",
      "  samples = self.engine.random(n)\n"
     ]
    },
    {
     "name": "stdout",
     "output_type": "stream",
     "text": [
      "Step: 4: current parameter_diff: 11.810878700154909, current marginal loglikelihood: -517.7255163608918\n",
      "EM Iteration 5\n",
      "Current Monte Carlo Sample size: 363\n",
      "[[1.         0.42404487]\n",
      " [0.42404487 1.        ]]\n",
      "Step: 5: current parameter_diff: 10.157703552109222, current marginal loglikelihood: -513.6129922565724\n",
      "EM Iteration 6\n",
      "Current Monte Carlo Sample size: 399\n",
      "[[1.         0.36132509]\n",
      " [0.36132509 1.        ]]\n"
     ]
    },
    {
     "name": "stderr",
     "output_type": "stream",
     "text": [
      "c:\\Users\\Jesper\\anaconda3\\lib\\site-packages\\scipy\\stats\\_qmc.py:2039: UserWarning: The balance properties of Sobol' points require n to be a power of 2.\n",
      "  samples = self.engine.random(n)\n"
     ]
    },
    {
     "name": "stdout",
     "output_type": "stream",
     "text": [
      "Step: 6: current parameter_diff: 7.752999933780606, current marginal loglikelihood: -510.11087259606927\n",
      "EM Iteration 7\n",
      "Current Monte Carlo Sample size: 438\n",
      "[[1.         0.33600437]\n",
      " [0.33600437 1.        ]]\n"
     ]
    },
    {
     "name": "stderr",
     "output_type": "stream",
     "text": [
      "c:\\Users\\Jesper\\anaconda3\\lib\\site-packages\\scipy\\stats\\_qmc.py:2039: UserWarning: The balance properties of Sobol' points require n to be a power of 2.\n",
      "  samples = self.engine.random(n)\n"
     ]
    },
    {
     "name": "stdout",
     "output_type": "stream",
     "text": [
      "Step: 7: current parameter_diff: 6.82434007913054, current marginal loglikelihood: -507.4793944643338\n",
      "Covariance matrix is good: True\n",
      "EM Iteration 2\n",
      "Current Monte Carlo Sample size: 300\n",
      "[[1.         0.57449196]\n",
      " [0.57449196 1.        ]]\n"
     ]
    },
    {
     "name": "stderr",
     "output_type": "stream",
     "text": [
      "c:\\Users\\Jesper\\anaconda3\\lib\\site-packages\\scipy\\stats\\_qmc.py:2039: UserWarning: The balance properties of Sobol' points require n to be a power of 2.\n",
      "  samples = self.engine.random(n)\n"
     ]
    },
    {
     "name": "stdout",
     "output_type": "stream",
     "text": [
      "Step: 2: current parameter_diff: 22.979973773730713, current marginal loglikelihood: -415.17833152454256\n",
      "EM Iteration 3\n",
      "Current Monte Carlo Sample size: 300\n",
      "[[1.         0.58001956]\n",
      " [0.58001956 1.        ]]\n"
     ]
    },
    {
     "name": "stderr",
     "output_type": "stream",
     "text": [
      "c:\\Users\\Jesper\\anaconda3\\lib\\site-packages\\scipy\\stats\\_qmc.py:2039: UserWarning: The balance properties of Sobol' points require n to be a power of 2.\n",
      "  samples = self.engine.random(n)\n"
     ]
    },
    {
     "name": "stdout",
     "output_type": "stream",
     "text": [
      "Step: 3: current parameter_diff: 19.817839564554962, current marginal loglikelihood: -396.8954604050361\n",
      "EM Iteration 4\n",
      "Current Monte Carlo Sample size: 330\n",
      "[[1.        0.5576716]\n",
      " [0.5576716 1.       ]]\n"
     ]
    },
    {
     "name": "stderr",
     "output_type": "stream",
     "text": [
      "c:\\Users\\Jesper\\anaconda3\\lib\\site-packages\\scipy\\stats\\_qmc.py:2039: UserWarning: The balance properties of Sobol' points require n to be a power of 2.\n",
      "  samples = self.engine.random(n)\n"
     ]
    },
    {
     "name": "stdout",
     "output_type": "stream",
     "text": [
      "Step: 4: current parameter_diff: 13.257066378974978, current marginal loglikelihood: -390.72786105930925\n",
      "EM Iteration 5\n",
      "Current Monte Carlo Sample size: 363\n",
      "[[1.         0.57325261]\n",
      " [0.57325261 1.        ]]\n"
     ]
    },
    {
     "name": "stderr",
     "output_type": "stream",
     "text": [
      "c:\\Users\\Jesper\\anaconda3\\lib\\site-packages\\scipy\\stats\\_qmc.py:2039: UserWarning: The balance properties of Sobol' points require n to be a power of 2.\n",
      "  samples = self.engine.random(n)\n"
     ]
    },
    {
     "name": "stdout",
     "output_type": "stream",
     "text": [
      "Step: 5: current parameter_diff: 11.996942716093892, current marginal loglikelihood: -387.4827789638824\n",
      "EM Iteration 6\n",
      "Current Monte Carlo Sample size: 399\n",
      "[[1.         0.54606639]\n",
      " [0.54606639 1.        ]]\n"
     ]
    },
    {
     "name": "stderr",
     "output_type": "stream",
     "text": [
      "c:\\Users\\Jesper\\anaconda3\\lib\\site-packages\\scipy\\stats\\_qmc.py:2039: UserWarning: The balance properties of Sobol' points require n to be a power of 2.\n",
      "  samples = self.engine.random(n)\n"
     ]
    },
    {
     "name": "stdout",
     "output_type": "stream",
     "text": [
      "Step: 6: current parameter_diff: 7.57616646220049, current marginal loglikelihood: -384.14490965948687\n",
      "EM Iteration 7\n",
      "Current Monte Carlo Sample size: 438\n",
      "[[1.         0.54667029]\n",
      " [0.54667029 1.        ]]\n"
     ]
    },
    {
     "name": "stderr",
     "output_type": "stream",
     "text": [
      "c:\\Users\\Jesper\\anaconda3\\lib\\site-packages\\scipy\\stats\\_qmc.py:2039: UserWarning: The balance properties of Sobol' points require n to be a power of 2.\n",
      "  samples = self.engine.random(n)\n"
     ]
    },
    {
     "name": "stdout",
     "output_type": "stream",
     "text": [
      "Step: 7: current parameter_diff: 8.096388184245255, current marginal loglikelihood: -384.0348101736383\n",
      "Absolute diff in A:\n",
      "[[0.         0.87235902]\n",
      " [0.         5.41730986]\n",
      " [3.590574   0.        ]\n",
      " [0.01997708 0.        ]\n",
      " [1.79936907 0.        ]\n",
      " [0.3366954  0.        ]\n",
      " [1.16615596 0.        ]\n",
      " [0.59010749 0.38038177]\n",
      " [0.11246063 2.99203869]\n",
      " [0.8568814  0.29582393]\n",
      " [1.24280483 1.83649981]\n",
      " [0.28196115 1.06500563]]\n",
      "Absolute diff in delta:\n",
      "[0.02599176 2.64521541 0.38171683 0.59337283 1.82776771 0.30251794\n",
      " 0.45309986 0.09622568 1.23084961 0.30188207 1.31034377 0.21836467]\n",
      "Absolute diff in sigma:\n",
      "[[0.00e+00 5.26e-02]\n",
      " [5.26e-02 1.00e-04]]\n",
      "Absolute diff in A:\n",
      "[[ 0.          1.08881822]\n",
      " [ 0.          1.9211846 ]\n",
      " [ 0.          1.50447176]\n",
      " [ 0.          1.39824646]\n",
      " [ 0.         12.06578528]\n",
      " [ 0.82491961  0.        ]\n",
      " [ 0.72816276  0.        ]\n",
      " [ 0.86634975  1.1115396 ]\n",
      " [ 0.49231019  0.12641046]\n",
      " [ 0.82636055  1.37666518]\n",
      " [ 0.30741602  0.63595982]\n",
      " [ 0.01243501  1.88329272]]\n",
      "Absolute diff in delta:\n",
      "[0.88066395 0.0619088  1.51291085 0.13389276 0.88021558 0.78792441\n",
      " 0.30564636 1.81569831 0.84836839 0.74460278 0.01264542 0.80111499]\n",
      "EM Iteration 2\n"
     ]
    },
    {
     "name": "stderr",
     "output_type": "stream",
     "text": [
      "c:\\Users\\Jesper\\anaconda3\\lib\\site-packages\\scipy\\stats\\_qmc.py:2039: UserWarning: The balance properties of Sobol' points require n to be a power of 2.\n",
      "  samples = self.engine.random(n)\n"
     ]
    },
    {
     "name": "stdout",
     "output_type": "stream",
     "text": [
      "Current Monte Carlo Sample size: 300\n",
      "[[ 1.          0.74806235  0.1446427  -0.19400205]\n",
      " [ 0.74806235  1.          0.52928883 -0.00613672]\n",
      " [ 0.1446427   0.52928883  1.          0.39682768]\n",
      " [-0.19400205 -0.00613672  0.39682768  1.        ]]\n",
      "Step: 2: current parameter_diff: 23.209197969602528, current marginal loglikelihood: -636.8897535514687\n",
      "EM Iteration 3\n"
     ]
    },
    {
     "name": "stderr",
     "output_type": "stream",
     "text": [
      "c:\\Users\\Jesper\\anaconda3\\lib\\site-packages\\scipy\\stats\\_qmc.py:2039: UserWarning: The balance properties of Sobol' points require n to be a power of 2.\n",
      "  samples = self.engine.random(n)\n"
     ]
    },
    {
     "name": "stdout",
     "output_type": "stream",
     "text": [
      "Current Monte Carlo Sample size: 300\n",
      "[[1.         0.7480374  0.1446     0.        ]\n",
      " [0.7480374  1.         0.52922646 0.        ]\n",
      " [0.1446     0.52922646 1.         0.3968    ]\n",
      " [0.         0.         0.3968     1.        ]]\n",
      "Step: 3: current parameter_diff: 11.408168380768302, current marginal loglikelihood: -703.7147634156455\n",
      "EM Iteration 4\n"
     ]
    },
    {
     "name": "stderr",
     "output_type": "stream",
     "text": [
      "c:\\Users\\Jesper\\anaconda3\\lib\\site-packages\\scipy\\stats\\_qmc.py:2039: UserWarning: The balance properties of Sobol' points require n to be a power of 2.\n",
      "  samples = self.engine.random(n)\n"
     ]
    },
    {
     "name": "stdout",
     "output_type": "stream",
     "text": [
      "Current Monte Carlo Sample size: 330\n",
      "[[1.     0.748  0.1446 0.    ]\n",
      " [0.748  1.     0.5292 0.    ]\n",
      " [0.1446 0.5292 1.     0.3968]\n",
      " [0.     0.     0.3968 1.    ]]\n",
      "Step: 4: current parameter_diff: 6.900496877095193, current marginal loglikelihood: -702.6190308346635\n",
      "EM Iteration 5\n"
     ]
    },
    {
     "name": "stderr",
     "output_type": "stream",
     "text": [
      "c:\\Users\\Jesper\\anaconda3\\lib\\site-packages\\scipy\\stats\\_qmc.py:2039: UserWarning: The balance properties of Sobol' points require n to be a power of 2.\n",
      "  samples = self.engine.random(n)\n"
     ]
    },
    {
     "name": "stdout",
     "output_type": "stream",
     "text": [
      "Current Monte Carlo Sample size: 363\n",
      "[[1.     0.748  0.1446 0.    ]\n",
      " [0.748  1.     0.5292 0.    ]\n",
      " [0.1446 0.5292 1.     0.3968]\n",
      " [0.     0.     0.3968 1.    ]]\n",
      "Step: 5: current parameter_diff: 4.9515207574396864, current marginal loglikelihood: -701.5069205373773\n",
      "EM Iteration 6\n"
     ]
    },
    {
     "name": "stderr",
     "output_type": "stream",
     "text": [
      "c:\\Users\\Jesper\\anaconda3\\lib\\site-packages\\scipy\\stats\\_qmc.py:2039: UserWarning: The balance properties of Sobol' points require n to be a power of 2.\n",
      "  samples = self.engine.random(n)\n"
     ]
    },
    {
     "name": "stdout",
     "output_type": "stream",
     "text": [
      "Current Monte Carlo Sample size: 399\n",
      "[[1.     0.748  0.1446 0.    ]\n",
      " [0.748  1.     0.5292 0.    ]\n",
      " [0.1446 0.5292 1.     0.3968]\n",
      " [0.     0.     0.3968 1.    ]]\n",
      "Step: 6: current parameter_diff: 3.470866681483165, current marginal loglikelihood: -697.2935514985304\n",
      "Absolute diff in A:\n",
      "[[0.         0.11645295]\n",
      " [0.         0.96104077]\n",
      " [0.         0.35432365]\n",
      " [0.         0.6083734 ]\n",
      " [0.         9.96252147]\n",
      " [1.14541377 0.        ]\n",
      " [0.72189695 0.        ]\n",
      " [0.034763   2.47115015]\n",
      " [1.80284558 1.63536851]\n",
      " [0.21596367 1.58382763]\n",
      " [1.03443888 1.5629137 ]\n",
      " [0.28313578 0.67844257]]\n",
      "Absolute diff in delta:\n",
      "[0.16273344 0.88007554 0.05132233 0.85732652 1.03326817 0.4402573\n",
      " 0.56865941 3.4225432  1.06802867 1.22824337 0.95687637 2.18160343]\n",
      "Real latent covariance: [[1.     0.3702 0.549  0.0818]\n",
      " [0.3702 1.     0.5654 0.    ]\n",
      " [0.549  0.5654 1.     0.3443]\n",
      " [0.0818 0.     0.3443 1.    ]]\n",
      "Covariance matrix is good: True\n",
      "EM Iteration 2\n",
      "Current Monte Carlo Sample size: 300\n",
      "[[1.         0.60557412]\n",
      " [0.60557412 1.        ]]\n"
     ]
    },
    {
     "name": "stderr",
     "output_type": "stream",
     "text": [
      "c:\\Users\\Jesper\\anaconda3\\lib\\site-packages\\scipy\\stats\\_qmc.py:2039: UserWarning: The balance properties of Sobol' points require n to be a power of 2.\n",
      "  samples = self.engine.random(n)\n"
     ]
    },
    {
     "name": "stdout",
     "output_type": "stream",
     "text": [
      "Step: 2: current parameter_diff: 12.552926637208923, current marginal loglikelihood: -587.0785492547916\n",
      "EM Iteration 3\n",
      "Current Monte Carlo Sample size: 300\n",
      "[[1.         0.63524079]\n",
      " [0.63524079 1.        ]]\n"
     ]
    },
    {
     "name": "stderr",
     "output_type": "stream",
     "text": [
      "c:\\Users\\Jesper\\anaconda3\\lib\\site-packages\\scipy\\stats\\_qmc.py:2039: UserWarning: The balance properties of Sobol' points require n to be a power of 2.\n",
      "  samples = self.engine.random(n)\n"
     ]
    },
    {
     "name": "stdout",
     "output_type": "stream",
     "text": [
      "Step: 3: current parameter_diff: 8.68643104072287, current marginal loglikelihood: -574.9760240340547\n",
      "EM Iteration 4\n",
      "Current Monte Carlo Sample size: 330\n",
      "[[1.         0.66089754]\n",
      " [0.66089754 1.        ]]\n"
     ]
    },
    {
     "name": "stderr",
     "output_type": "stream",
     "text": [
      "c:\\Users\\Jesper\\anaconda3\\lib\\site-packages\\scipy\\stats\\_qmc.py:2039: UserWarning: The balance properties of Sobol' points require n to be a power of 2.\n",
      "  samples = self.engine.random(n)\n"
     ]
    },
    {
     "name": "stdout",
     "output_type": "stream",
     "text": [
      "Step: 4: current parameter_diff: 6.58469031240122, current marginal loglikelihood: -571.926831698024\n",
      "EM Iteration 5\n",
      "Current Monte Carlo Sample size: 330\n",
      "[[1.         0.65394411]\n",
      " [0.65394411 1.        ]]\n"
     ]
    },
    {
     "name": "stderr",
     "output_type": "stream",
     "text": [
      "c:\\Users\\Jesper\\anaconda3\\lib\\site-packages\\scipy\\stats\\_qmc.py:2039: UserWarning: The balance properties of Sobol' points require n to be a power of 2.\n",
      "  samples = self.engine.random(n)\n"
     ]
    },
    {
     "name": "stdout",
     "output_type": "stream",
     "text": [
      "Step: 5: current parameter_diff: 5.388967286637178, current marginal loglikelihood: -569.6575646245888\n",
      "EM Iteration 6\n",
      "Current Monte Carlo Sample size: 363\n",
      "[[1.         0.63578394]\n",
      " [0.63578394 1.        ]]\n"
     ]
    },
    {
     "name": "stderr",
     "output_type": "stream",
     "text": [
      "c:\\Users\\Jesper\\anaconda3\\lib\\site-packages\\scipy\\stats\\_qmc.py:2039: UserWarning: The balance properties of Sobol' points require n to be a power of 2.\n",
      "  samples = self.engine.random(n)\n"
     ]
    },
    {
     "name": "stdout",
     "output_type": "stream",
     "text": [
      "Step: 6: current parameter_diff: 4.573095329068771, current marginal loglikelihood: -568.0771742678503\n",
      "EM Iteration 2\n"
     ]
    },
    {
     "name": "stderr",
     "output_type": "stream",
     "text": [
      "c:\\Users\\Jesper\\anaconda3\\lib\\site-packages\\scipy\\stats\\_qmc.py:2039: UserWarning: The balance properties of Sobol' points require n to be a power of 2.\n",
      "  samples = self.engine.random(n)\n"
     ]
    },
    {
     "name": "stdout",
     "output_type": "stream",
     "text": [
      "Current Monte Carlo Sample size: 300\n",
      "[[1.         0.6811278  0.40760289 0.40935913]\n",
      " [0.6811278  1.         0.31436014 0.34026604]\n",
      " [0.40760289 0.31436014 1.         0.4512206 ]\n",
      " [0.40935913 0.34026604 0.4512206  1.        ]]\n",
      "Step: 2: current parameter_diff: 17.803111561107794, current marginal loglikelihood: -651.2093960621067\n",
      "EM Iteration 3\n"
     ]
    },
    {
     "name": "stderr",
     "output_type": "stream",
     "text": [
      "c:\\Users\\Jesper\\anaconda3\\lib\\site-packages\\scipy\\stats\\_qmc.py:2039: UserWarning: The balance properties of Sobol' points require n to be a power of 2.\n",
      "  samples = self.engine.random(n)\n"
     ]
    },
    {
     "name": "stdout",
     "output_type": "stream",
     "text": [
      "Current Monte Carlo Sample size: 300\n",
      "[[ 1.          0.64775916  0.11509133  0.3890472 ]\n",
      " [ 0.64775916  1.         -0.17922538  0.11411799]\n",
      " [ 0.11509133 -0.17922538  1.          0.66533738]\n",
      " [ 0.3890472   0.11411799  0.66533738  1.        ]]\n",
      "Step: 3: current parameter_diff: 12.208720418800642, current marginal loglikelihood: -631.9147653792672\n",
      "EM Iteration 4\n"
     ]
    },
    {
     "name": "stderr",
     "output_type": "stream",
     "text": [
      "c:\\Users\\Jesper\\anaconda3\\lib\\site-packages\\scipy\\stats\\_qmc.py:2039: UserWarning: The balance properties of Sobol' points require n to be a power of 2.\n",
      "  samples = self.engine.random(n)\n"
     ]
    },
    {
     "name": "stdout",
     "output_type": "stream",
     "text": [
      "Current Monte Carlo Sample size: 300\n",
      "[[1.         0.66771583 0.18029597 0.35144542]\n",
      " [0.66771583 1.         0.0665671  0.04574714]\n",
      " [0.18029597 0.0665671  1.         0.70088294]\n",
      " [0.35144542 0.04574714 0.70088294 1.        ]]\n",
      "Step: 4: current parameter_diff: 9.407237930520646, current marginal loglikelihood: -634.0279534238217\n",
      "EM Iteration 5\n"
     ]
    },
    {
     "name": "stderr",
     "output_type": "stream",
     "text": [
      "c:\\Users\\Jesper\\anaconda3\\lib\\site-packages\\scipy\\stats\\_qmc.py:2039: UserWarning: The balance properties of Sobol' points require n to be a power of 2.\n",
      "  samples = self.engine.random(n)\n"
     ]
    },
    {
     "name": "stdout",
     "output_type": "stream",
     "text": [
      "Current Monte Carlo Sample size: 300\n",
      "[[1.         0.67940174 0.22831796 0.32712361]\n",
      " [0.67940174 1.         0.10243123 0.00578945]\n",
      " [0.22831796 0.10243123 1.         0.7233466 ]\n",
      " [0.32712361 0.00578945 0.7233466  1.        ]]\n",
      "Step: 5: current parameter_diff: 7.557344037745689, current marginal loglikelihood: -628.8051012571273\n",
      "EM Iteration 6\n"
     ]
    },
    {
     "name": "stderr",
     "output_type": "stream",
     "text": [
      "c:\\Users\\Jesper\\anaconda3\\lib\\site-packages\\scipy\\stats\\_qmc.py:2039: UserWarning: The balance properties of Sobol' points require n to be a power of 2.\n",
      "  samples = self.engine.random(n)\n"
     ]
    },
    {
     "name": "stdout",
     "output_type": "stream",
     "text": [
      "Current Monte Carlo Sample size: 330\n",
      "[[ 1.          0.67979298  0.26364211  0.26364685]\n",
      " [ 0.67979298  1.          0.068442   -0.0400052 ]\n",
      " [ 0.26364211  0.068442    1.          0.81815158]\n",
      " [ 0.26364685 -0.0400052   0.81815158  1.        ]]\n",
      "Step: 6: current parameter_diff: 6.015084756205834, current marginal loglikelihood: -628.1446554728999\n",
      "EM Iteration 7\n"
     ]
    },
    {
     "name": "stderr",
     "output_type": "stream",
     "text": [
      "c:\\Users\\Jesper\\anaconda3\\lib\\site-packages\\scipy\\stats\\_qmc.py:2039: UserWarning: The balance properties of Sobol' points require n to be a power of 2.\n",
      "  samples = self.engine.random(n)\n"
     ]
    },
    {
     "name": "stdout",
     "output_type": "stream",
     "text": [
      "Current Monte Carlo Sample size: 330\n",
      "[[1.         0.67973399 0.2636     0.26361318]\n",
      " [0.67973399 1.         0.06840342 0.        ]\n",
      " [0.2636     0.06840342 1.         0.81814091]\n",
      " [0.26361318 0.         0.81814091 1.        ]]\n",
      "Step: 7: current parameter_diff: 4.703602578355554, current marginal loglikelihood: -625.7611356843773\n",
      "EM Iteration 8\n"
     ]
    },
    {
     "name": "stderr",
     "output_type": "stream",
     "text": [
      "c:\\Users\\Jesper\\anaconda3\\lib\\site-packages\\scipy\\stats\\_qmc.py:2039: UserWarning: The balance properties of Sobol' points require n to be a power of 2.\n",
      "  samples = self.engine.random(n)\n"
     ]
    },
    {
     "name": "stdout",
     "output_type": "stream",
     "text": [
      "Current Monte Carlo Sample size: 363\n",
      "[[1.     0.6797 0.2636 0.2636]\n",
      " [0.6797 1.     0.0684 0.    ]\n",
      " [0.2636 0.0684 1.     0.8181]\n",
      " [0.2636 0.     0.8181 1.    ]]\n",
      "Step: 8: current parameter_diff: 3.0914775451075887, current marginal loglikelihood: -627.8859295864013\n",
      "Absolute diff in A:\n",
      "[[ 0.          3.32744721]\n",
      " [ 0.12133724  0.        ]\n",
      " [ 2.35943809  0.        ]\n",
      " [ 0.50459099  0.        ]\n",
      " [ 0.66256597  0.        ]\n",
      " [ 0.82475306  0.        ]\n",
      " [13.5918093   0.        ]\n",
      " [ 0.4425916   0.73789921]\n",
      " [ 0.71793847  0.09460302]\n",
      " [ 1.41086819  0.90549342]\n",
      " [ 2.54792235  0.82482691]\n",
      " [ 0.75596514  0.99591582]]\n",
      "Absolute diff in delta:\n",
      "[0.57781218 0.13278793 0.99580986 0.22207106 0.32380255 0.2871011\n",
      " 2.01656426 0.24174947 0.66996373 0.74902955 2.92570314 0.80119829]\n",
      "Absolute diff in sigma:\n",
      "[[0.     0.2655]\n",
      " [0.2655 0.    ]]\n",
      "Absolute diff in A:\n",
      "[[0.         0.26923   ]\n",
      " [0.         0.29219697]\n",
      " [0.         0.26806788]\n",
      " [0.         2.97636917]\n",
      " [6.57656433 0.        ]\n",
      " [2.28008146 0.        ]\n",
      " [1.4926158  0.        ]\n",
      " [2.8978431  0.        ]\n",
      " [0.14815154 3.1366803 ]\n",
      " [5.80742737 0.95945121]\n",
      " [1.0308177  0.58717246]\n",
      " [1.58505908 0.82488693]]\n",
      "Absolute diff in delta:\n",
      "[0.424769   0.30825796 0.54697573 0.78835328 1.60295135 0.7768145\n",
      " 0.79750055 0.21997771 1.79546782 1.19796688 0.06593683 1.51413595]\n",
      "Absolute diff in A:\n",
      "[[ 0.          4.12769778]\n",
      " [ 0.44991311  0.        ]\n",
      " [ 4.2547565   0.        ]\n",
      " [ 1.23334654  0.        ]\n",
      " [ 0.33548637  0.        ]\n",
      " [ 0.66084913  0.        ]\n",
      " [20.10853065  0.        ]\n",
      " [ 0.05291451  0.3478179 ]\n",
      " [ 1.1094518   0.95209238]\n",
      " [ 0.94291148  1.67798491]\n",
      " [ 5.12451362  1.21934333]\n",
      " [ 4.05469773  1.19428204]]\n",
      "Absolute diff in delta:\n",
      "[0.75652967 0.14533149 1.03716496 0.15914747 0.23961484 0.4698891\n",
      " 1.08046125 0.12865882 1.01158057 0.43000866 0.9114172  0.81874692]\n",
      "Absolute diff in sigma:\n",
      "[[0.     0.1298]\n",
      " [0.1298 0.    ]]\n",
      "Absolute diff in A:\n",
      "[[1.00000000e+00 8.17293372e-02]\n",
      " [1.00000000e+00 6.03157956e-02]\n",
      " [1.00000000e+00 1.19260955e-01]\n",
      " [1.00000000e+00 3.71075712e+00]\n",
      " [3.50197845e+00 1.00000000e+00]\n",
      " [6.43983452e+00 1.00000000e+00]\n",
      " [1.50871013e+00 1.00000000e+00]\n",
      " [4.13084603e+00 1.00000000e+00]\n",
      " [1.20180072e+00 1.10573296e-02]\n",
      " [1.10985905e+01 2.81802951e+00]\n",
      " [9.18521064e-02 9.61504453e-01]\n",
      " [1.33091907e+00 1.74071676e+00]]\n",
      "Absolute diff in delta:\n",
      "[1.28831781 0.63848147 1.04414485 0.55024376 1.03519407 0.74700662\n",
      " 0.77527809 1.22244926 0.77290538 1.87996109 0.67470886 2.70186241]\n",
      "Covariance matrix is good: True\n",
      "EM Iteration 2\n",
      "Current Monte Carlo Sample size: 300\n",
      "[[1.         0.60553832]\n",
      " [0.60553832 1.        ]]\n"
     ]
    },
    {
     "name": "stderr",
     "output_type": "stream",
     "text": [
      "c:\\Users\\Jesper\\anaconda3\\lib\\site-packages\\scipy\\stats\\_qmc.py:2039: UserWarning: The balance properties of Sobol' points require n to be a power of 2.\n",
      "  samples = self.engine.random(n)\n"
     ]
    },
    {
     "name": "stdout",
     "output_type": "stream",
     "text": [
      "Step: 2: current parameter_diff: 11.92344282285179, current marginal loglikelihood: -586.1174094966755\n",
      "EM Iteration 3\n",
      "Current Monte Carlo Sample size: 330\n",
      "[[1.         0.63942369]\n",
      " [0.63942369 1.        ]]\n"
     ]
    },
    {
     "name": "stderr",
     "output_type": "stream",
     "text": [
      "c:\\Users\\Jesper\\anaconda3\\lib\\site-packages\\scipy\\stats\\_qmc.py:2039: UserWarning: The balance properties of Sobol' points require n to be a power of 2.\n",
      "  samples = self.engine.random(n)\n"
     ]
    },
    {
     "name": "stdout",
     "output_type": "stream",
     "text": [
      "Step: 3: current parameter_diff: 8.768140230009376, current marginal loglikelihood: -576.8692641425632\n",
      "EM Iteration 4\n",
      "Current Monte Carlo Sample size: 363\n",
      "[[1.         0.63473405]\n",
      " [0.63473405 1.        ]]\n"
     ]
    },
    {
     "name": "stderr",
     "output_type": "stream",
     "text": [
      "c:\\Users\\Jesper\\anaconda3\\lib\\site-packages\\scipy\\stats\\_qmc.py:2039: UserWarning: The balance properties of Sobol' points require n to be a power of 2.\n",
      "  samples = self.engine.random(n)\n"
     ]
    },
    {
     "name": "stdout",
     "output_type": "stream",
     "text": [
      "Step: 4: current parameter_diff: 6.626671573432327, current marginal loglikelihood: -570.5681395203001\n",
      "EM Iteration 5\n",
      "Current Monte Carlo Sample size: 399\n",
      "[[1.         0.62378711]\n",
      " [0.62378711 1.        ]]\n"
     ]
    },
    {
     "name": "stderr",
     "output_type": "stream",
     "text": [
      "c:\\Users\\Jesper\\anaconda3\\lib\\site-packages\\scipy\\stats\\_qmc.py:2039: UserWarning: The balance properties of Sobol' points require n to be a power of 2.\n",
      "  samples = self.engine.random(n)\n"
     ]
    },
    {
     "name": "stdout",
     "output_type": "stream",
     "text": [
      "Step: 5: current parameter_diff: 5.772642190696287, current marginal loglikelihood: -568.9764722641746\n",
      "EM Iteration 6\n",
      "Current Monte Carlo Sample size: 438\n",
      "[[1.         0.60965683]\n",
      " [0.60965683 1.        ]]\n"
     ]
    },
    {
     "name": "stderr",
     "output_type": "stream",
     "text": [
      "c:\\Users\\Jesper\\anaconda3\\lib\\site-packages\\scipy\\stats\\_qmc.py:2039: UserWarning: The balance properties of Sobol' points require n to be a power of 2.\n",
      "  samples = self.engine.random(n)\n"
     ]
    },
    {
     "name": "stdout",
     "output_type": "stream",
     "text": [
      "Step: 6: current parameter_diff: 5.271003480595661, current marginal loglikelihood: -568.6803511946218\n",
      "EM Iteration 7\n",
      "Current Monte Carlo Sample size: 481\n",
      "[[1.         0.58723633]\n",
      " [0.58723633 1.        ]]\n"
     ]
    },
    {
     "name": "stderr",
     "output_type": "stream",
     "text": [
      "c:\\Users\\Jesper\\anaconda3\\lib\\site-packages\\scipy\\stats\\_qmc.py:2039: UserWarning: The balance properties of Sobol' points require n to be a power of 2.\n",
      "  samples = self.engine.random(n)\n"
     ]
    },
    {
     "name": "stdout",
     "output_type": "stream",
     "text": [
      "Step: 7: current parameter_diff: 2.6783097916176373, current marginal loglikelihood: -567.7480870195894\n",
      "Covariance matrix is good: True\n",
      "EM Iteration 2\n",
      "Current Monte Carlo Sample size: 300\n",
      "[[1.         0.62005884]\n",
      " [0.62005884 1.        ]]\n"
     ]
    },
    {
     "name": "stderr",
     "output_type": "stream",
     "text": [
      "c:\\Users\\Jesper\\anaconda3\\lib\\site-packages\\scipy\\stats\\_qmc.py:2039: UserWarning: The balance properties of Sobol' points require n to be a power of 2.\n",
      "  samples = self.engine.random(n)\n"
     ]
    },
    {
     "name": "stdout",
     "output_type": "stream",
     "text": [
      "Step: 2: current parameter_diff: 20.041118799019095, current marginal loglikelihood: -467.7539200834623\n",
      "EM Iteration 3\n",
      "Current Monte Carlo Sample size: 300\n",
      "[[1.         0.64710992]\n",
      " [0.64710992 1.        ]]\n"
     ]
    },
    {
     "name": "stderr",
     "output_type": "stream",
     "text": [
      "c:\\Users\\Jesper\\anaconda3\\lib\\site-packages\\scipy\\stats\\_qmc.py:2039: UserWarning: The balance properties of Sobol' points require n to be a power of 2.\n",
      "  samples = self.engine.random(n)\n"
     ]
    },
    {
     "name": "stdout",
     "output_type": "stream",
     "text": [
      "Step: 3: current parameter_diff: 17.925010272181602, current marginal loglikelihood: -449.2167346547066\n",
      "EM Iteration 4\n",
      "Current Monte Carlo Sample size: 300\n",
      "[[1.        0.6428016]\n",
      " [0.6428016 1.       ]]\n"
     ]
    },
    {
     "name": "stderr",
     "output_type": "stream",
     "text": [
      "c:\\Users\\Jesper\\anaconda3\\lib\\site-packages\\scipy\\stats\\_qmc.py:2039: UserWarning: The balance properties of Sobol' points require n to be a power of 2.\n",
      "  samples = self.engine.random(n)\n"
     ]
    },
    {
     "name": "stdout",
     "output_type": "stream",
     "text": [
      "Step: 4: current parameter_diff: 16.34270433960382, current marginal loglikelihood: -442.5040553863369\n",
      "EM Iteration 5\n",
      "Current Monte Carlo Sample size: 330\n"
     ]
    },
    {
     "name": "stderr",
     "output_type": "stream",
     "text": [
      "c:\\Users\\Jesper\\anaconda3\\lib\\site-packages\\scipy\\stats\\_qmc.py:2039: UserWarning: The balance properties of Sobol' points require n to be a power of 2.\n",
      "  samples = self.engine.random(n)\n"
     ]
    },
    {
     "name": "stdout",
     "output_type": "stream",
     "text": [
      "[[1.         0.60574872]\n",
      " [0.60574872 1.        ]]\n",
      "Step: 5: current parameter_diff: 11.52327950085752, current marginal loglikelihood: -438.4084448837906\n",
      "EM Iteration 6\n",
      "Current Monte Carlo Sample size: 363\n",
      "[[1.         0.58543402]\n",
      " [0.58543402 1.        ]]\n"
     ]
    },
    {
     "name": "stderr",
     "output_type": "stream",
     "text": [
      "c:\\Users\\Jesper\\anaconda3\\lib\\site-packages\\scipy\\stats\\_qmc.py:2039: UserWarning: The balance properties of Sobol' points require n to be a power of 2.\n",
      "  samples = self.engine.random(n)\n"
     ]
    },
    {
     "name": "stdout",
     "output_type": "stream",
     "text": [
      "Step: 6: current parameter_diff: 10.694782729231903, current marginal loglikelihood: -435.91621343255315\n",
      "EM Iteration 7\n",
      "Current Monte Carlo Sample size: 399\n",
      "[[1.         0.55174267]\n",
      " [0.55174267 1.        ]]\n"
     ]
    },
    {
     "name": "stderr",
     "output_type": "stream",
     "text": [
      "c:\\Users\\Jesper\\anaconda3\\lib\\site-packages\\scipy\\stats\\_qmc.py:2039: UserWarning: The balance properties of Sobol' points require n to be a power of 2.\n",
      "  samples = self.engine.random(n)\n"
     ]
    },
    {
     "name": "stdout",
     "output_type": "stream",
     "text": [
      "Step: 7: current parameter_diff: 6.761237661882112, current marginal loglikelihood: -436.57214313992336\n",
      "Absolute diff in A:\n",
      "[[ 0.          3.12346628]\n",
      " [ 0.10214523  0.        ]\n",
      " [ 2.15981155  0.        ]\n",
      " [ 0.44138428  0.        ]\n",
      " [ 0.7430059   0.        ]\n",
      " [ 0.79711238  0.        ]\n",
      " [12.11175484  0.        ]\n",
      " [ 0.45539886  0.73657414]\n",
      " [ 0.66927258  0.18195152]\n",
      " [ 1.44028184  0.83975055]\n",
      " [ 3.18969019  1.34105768]\n",
      " [ 0.47499468  1.38185569]]\n",
      "Absolute diff in delta:\n",
      "[0.50637346 0.14691073 1.03307746 0.21715675 0.36452255 0.28209218\n",
      " 2.22937938 0.23800917 0.58602096 0.69723109 3.02386798 0.68823328]\n",
      "Absolute diff in sigma:\n",
      "[[0.    0.217]\n",
      " [0.217 0.   ]]\n",
      "Absolute diff in A:\n",
      "[[0.         0.34895821]\n",
      " [0.         0.04120843]\n",
      " [0.         0.51953893]\n",
      " [0.         3.02474735]\n",
      " [3.49700578 0.        ]\n",
      " [3.69387286 0.        ]\n",
      " [0.37440539 0.        ]\n",
      " [0.34557792 0.        ]\n",
      " [0.67684965 0.55970597]\n",
      " [7.74352051 2.00506841]\n",
      " [0.6201395  0.41481001]\n",
      " [1.53325669 1.75453332]]\n",
      "Absolute diff in delta:\n",
      "[0.12861968 0.41156115 0.62022686 0.23998733 2.85337912 0.90321609\n",
      " 1.15277904 0.76825138 1.25783462 0.58220579 0.17405369 1.49715546]\n",
      "EM Iteration 2\n"
     ]
    },
    {
     "name": "stderr",
     "output_type": "stream",
     "text": [
      "c:\\Users\\Jesper\\anaconda3\\lib\\site-packages\\scipy\\stats\\_qmc.py:2039: UserWarning: The balance properties of Sobol' points require n to be a power of 2.\n",
      "  samples = self.engine.random(n)\n"
     ]
    },
    {
     "name": "stdout",
     "output_type": "stream",
     "text": [
      "Current Monte Carlo Sample size: 300\n",
      "[[ 1.          0.74522326 -0.50163701 -0.40668357]\n",
      " [ 0.74522326  1.         -0.76850534 -0.64694491]\n",
      " [-0.50163701 -0.76850534  1.          0.64446545]\n",
      " [-0.40668357 -0.64694491  0.64446545  1.        ]]\n",
      "Step: 2: current parameter_diff: 23.272363086312527, current marginal loglikelihood: -673.6372887854986\n",
      "EM Iteration 3\n"
     ]
    },
    {
     "name": "stderr",
     "output_type": "stream",
     "text": [
      "c:\\Users\\Jesper\\anaconda3\\lib\\site-packages\\scipy\\stats\\_qmc.py:2039: UserWarning: The balance properties of Sobol' points require n to be a power of 2.\n",
      "  samples = self.engine.random(n)\n"
     ]
    },
    {
     "name": "stdout",
     "output_type": "stream",
     "text": [
      "Current Monte Carlo Sample size: 300\n",
      "[[ 1.          0.72292765 -0.06419318  0.01463144]\n",
      " [ 0.72292765  1.         -0.09674163  0.00460329]\n",
      " [-0.06419318 -0.09674163  1.          0.36132191]\n",
      " [ 0.01463144  0.00460329  0.36132191  1.        ]]\n",
      "Step: 3: current parameter_diff: 10.708790262942063, current marginal loglikelihood: -700.6851144706617\n",
      "EM Iteration 4\n"
     ]
    },
    {
     "name": "stderr",
     "output_type": "stream",
     "text": [
      "c:\\Users\\Jesper\\anaconda3\\lib\\site-packages\\scipy\\stats\\_qmc.py:2039: UserWarning: The balance properties of Sobol' points require n to be a power of 2.\n",
      "  samples = self.engine.random(n)\n"
     ]
    },
    {
     "name": "stdout",
     "output_type": "stream",
     "text": [
      "Current Monte Carlo Sample size: 300\n",
      "[[ 1.          0.65896765 -0.62600234 -0.05831537]\n",
      " [ 0.65896765  1.         -0.59671292 -0.16049025]\n",
      " [-0.62600234 -0.59671292  1.          0.02735445]\n",
      " [-0.05831537 -0.16049025  0.02735445  1.        ]]\n",
      "Step: 4: current parameter_diff: 8.592903010293844, current marginal loglikelihood: -690.1589421627311\n",
      "EM Iteration 5\n"
     ]
    },
    {
     "name": "stderr",
     "output_type": "stream",
     "text": [
      "c:\\Users\\Jesper\\anaconda3\\lib\\site-packages\\scipy\\stats\\_qmc.py:2039: UserWarning: The balance properties of Sobol' points require n to be a power of 2.\n",
      "  samples = self.engine.random(n)\n"
     ]
    },
    {
     "name": "stdout",
     "output_type": "stream",
     "text": [
      "Current Monte Carlo Sample size: 300\n",
      "[[ 1.          0.40798401 -0.06359941 -0.01508243]\n",
      " [ 0.40798401  1.         -0.10401969 -0.03135159]\n",
      " [-0.06359941 -0.10401969  1.          0.09546181]\n",
      " [-0.01508243 -0.03135159  0.09546181  1.        ]]\n",
      "Step: 5: current parameter_diff: 7.8730998782920585, current marginal loglikelihood: -674.0431610832637\n",
      "EM Iteration 6\n"
     ]
    },
    {
     "name": "stderr",
     "output_type": "stream",
     "text": [
      "c:\\Users\\Jesper\\anaconda3\\lib\\site-packages\\scipy\\stats\\_qmc.py:2039: UserWarning: The balance properties of Sobol' points require n to be a power of 2.\n",
      "  samples = self.engine.random(n)\n"
     ]
    },
    {
     "name": "stdout",
     "output_type": "stream",
     "text": [
      "Current Monte Carlo Sample size: 300\n",
      "[[ 1.          0.4778584  -0.23882721 -0.08682801]\n",
      " [ 0.4778584   1.         -0.34045697 -0.09498279]\n",
      " [-0.23882721 -0.34045697  1.          0.31082282]\n",
      " [-0.08682801 -0.09498279  0.31082282  1.        ]]\n",
      "Step: 6: current parameter_diff: 4.815235808014573, current marginal loglikelihood: -654.1178364622136\n",
      "EM Iteration 7\n"
     ]
    },
    {
     "name": "stderr",
     "output_type": "stream",
     "text": [
      "c:\\Users\\Jesper\\anaconda3\\lib\\site-packages\\scipy\\stats\\_qmc.py:2039: UserWarning: The balance properties of Sobol' points require n to be a power of 2.\n",
      "  samples = self.engine.random(n)\n"
     ]
    },
    {
     "name": "stdout",
     "output_type": "stream",
     "text": [
      "Current Monte Carlo Sample size: 300\n",
      "[[ 1.          0.43853636 -0.04454394 -0.00266403]\n",
      " [ 0.43853636  1.         -0.06285853 -0.0094341 ]\n",
      " [-0.04454394 -0.06285853  1.          0.29557911]\n",
      " [-0.00266403 -0.0094341   0.29557911  1.        ]]\n",
      "Step: 7: current parameter_diff: 4.016260515598624, current marginal loglikelihood: -655.8094099724813\n",
      "EM Iteration 8\n"
     ]
    },
    {
     "name": "stderr",
     "output_type": "stream",
     "text": [
      "c:\\Users\\Jesper\\anaconda3\\lib\\site-packages\\scipy\\stats\\_qmc.py:2039: UserWarning: The balance properties of Sobol' points require n to be a power of 2.\n",
      "  samples = self.engine.random(n)\n"
     ]
    },
    {
     "name": "stdout",
     "output_type": "stream",
     "text": [
      "Current Monte Carlo Sample size: 330\n",
      "[[ 1.          0.42249779 -0.0572461  -0.00693606]\n",
      " [ 0.42249779  1.         -0.07650952 -0.01351924]\n",
      " [-0.0572461  -0.07650952  1.          0.2853904 ]\n",
      " [-0.00693606 -0.01351924  0.2853904   1.        ]]\n",
      "Step: 8: current parameter_diff: 3.7097018016846697, current marginal loglikelihood: -654.2738108561796\n",
      "EM Iteration 9\n"
     ]
    },
    {
     "name": "stderr",
     "output_type": "stream",
     "text": [
      "c:\\Users\\Jesper\\anaconda3\\lib\\site-packages\\scipy\\stats\\_qmc.py:2039: UserWarning: The balance properties of Sobol' points require n to be a power of 2.\n",
      "  samples = self.engine.random(n)\n"
     ]
    },
    {
     "name": "stdout",
     "output_type": "stream",
     "text": [
      "Current Monte Carlo Sample size: 363\n",
      "[[ 1.          0.40710135 -0.0514456  -0.0176981 ]\n",
      " [ 0.40710135  1.         -0.08060622 -0.01633458]\n",
      " [-0.0514456  -0.08060622  1.          0.28230467]\n",
      " [-0.0176981  -0.01633458  0.28230467  1.        ]]\n",
      "Step: 9: current parameter_diff: 3.7157363728624526, current marginal loglikelihood: -652.3296411438849\n",
      "Absolute diff in A:\n",
      "[[0.         0.25502869]\n",
      " [0.         0.56754854]\n",
      " [0.         0.2042618 ]\n",
      " [0.         0.89550157]\n",
      " [7.38118159 0.        ]\n",
      " [1.48950081 0.        ]\n",
      " [1.23196042 0.        ]\n",
      " [1.20565497 0.        ]\n",
      " [0.63454083 1.49592712]\n",
      " [3.78227455 0.12699127]\n",
      " [0.07605343 0.35995291]\n",
      " [0.88371444 1.10141637]]\n",
      "Absolute diff in delta:\n",
      "[0.39459438 0.52770462 0.56617036 0.55922874 0.43979335 0.86976783\n",
      " 0.0609373  1.13469997 1.70908246 2.1313489  0.21182684 1.39282097]\n",
      "Real latent covariance: [[1.     0.3644 0.1083 0.5713]\n",
      " [0.3644 1.     0.5166 0.2314]\n",
      " [0.1083 0.5166 1.     0.2756]\n",
      " [0.5713 0.2314 0.2756 1.    ]]\n",
      "Covariance matrix is good: True\n",
      "EM Iteration 2\n",
      "Current Monte Carlo Sample size: 300\n",
      "[[1.         0.54618581]\n",
      " [0.54618581 1.        ]]\n"
     ]
    },
    {
     "name": "stderr",
     "output_type": "stream",
     "text": [
      "c:\\Users\\Jesper\\anaconda3\\lib\\site-packages\\scipy\\stats\\_qmc.py:2039: UserWarning: The balance properties of Sobol' points require n to be a power of 2.\n",
      "  samples = self.engine.random(n)\n"
     ]
    },
    {
     "name": "stdout",
     "output_type": "stream",
     "text": [
      "Step: 2: current parameter_diff: 14.99527901365063, current marginal loglikelihood: -544.9730675836306\n",
      "EM Iteration 3\n",
      "Current Monte Carlo Sample size: 300\n",
      "[[1.         0.58662387]\n",
      " [0.58662387 1.        ]]\n"
     ]
    },
    {
     "name": "stderr",
     "output_type": "stream",
     "text": [
      "c:\\Users\\Jesper\\anaconda3\\lib\\site-packages\\scipy\\stats\\_qmc.py:2039: UserWarning: The balance properties of Sobol' points require n to be a power of 2.\n",
      "  samples = self.engine.random(n)\n"
     ]
    },
    {
     "name": "stdout",
     "output_type": "stream",
     "text": [
      "Step: 3: current parameter_diff: 11.334715795541612, current marginal loglikelihood: -525.5721413403511\n",
      "EM Iteration 4\n",
      "Current Monte Carlo Sample size: 330\n",
      "[[1.         0.59413209]\n",
      " [0.59413209 1.        ]]\n"
     ]
    },
    {
     "name": "stderr",
     "output_type": "stream",
     "text": [
      "c:\\Users\\Jesper\\anaconda3\\lib\\site-packages\\scipy\\stats\\_qmc.py:2039: UserWarning: The balance properties of Sobol' points require n to be a power of 2.\n",
      "  samples = self.engine.random(n)\n"
     ]
    },
    {
     "name": "stdout",
     "output_type": "stream",
     "text": [
      "Step: 4: current parameter_diff: 9.245892638900227, current marginal loglikelihood: -518.5502154755537\n",
      "EM Iteration 5\n",
      "Current Monte Carlo Sample size: 363\n",
      "[[1.        0.5636247]\n",
      " [0.5636247 1.       ]]\n"
     ]
    },
    {
     "name": "stderr",
     "output_type": "stream",
     "text": [
      "c:\\Users\\Jesper\\anaconda3\\lib\\site-packages\\scipy\\stats\\_qmc.py:2039: UserWarning: The balance properties of Sobol' points require n to be a power of 2.\n",
      "  samples = self.engine.random(n)\n"
     ]
    },
    {
     "name": "stdout",
     "output_type": "stream",
     "text": [
      "Step: 5: current parameter_diff: 8.377604947995627, current marginal loglikelihood: -515.0978331435037\n",
      "EM Iteration 6\n",
      "Current Monte Carlo Sample size: 399\n",
      "[[1.         0.50804014]\n",
      " [0.50804014 1.        ]]\n"
     ]
    },
    {
     "name": "stderr",
     "output_type": "stream",
     "text": [
      "c:\\Users\\Jesper\\anaconda3\\lib\\site-packages\\scipy\\stats\\_qmc.py:2039: UserWarning: The balance properties of Sobol' points require n to be a power of 2.\n",
      "  samples = self.engine.random(n)\n"
     ]
    },
    {
     "name": "stdout",
     "output_type": "stream",
     "text": [
      "Step: 6: current parameter_diff: 8.357264007421879, current marginal loglikelihood: -513.0060691748193\n",
      "EM Iteration 7\n",
      "Current Monte Carlo Sample size: 438\n",
      "[[1.         0.48992931]\n",
      " [0.48992931 1.        ]]\n"
     ]
    },
    {
     "name": "stderr",
     "output_type": "stream",
     "text": [
      "c:\\Users\\Jesper\\anaconda3\\lib\\site-packages\\scipy\\stats\\_qmc.py:2039: UserWarning: The balance properties of Sobol' points require n to be a power of 2.\n",
      "  samples = self.engine.random(n)\n"
     ]
    },
    {
     "name": "stdout",
     "output_type": "stream",
     "text": [
      "Step: 7: current parameter_diff: 7.483293710470026, current marginal loglikelihood: -511.71890693625215\n"
     ]
    },
    {
     "name": "stderr",
     "output_type": "stream",
     "text": [
      "c:\\Users\\Jesper\\Documents\\GitHub\\Knowledge-Growth-Prediction\\models\\mirt_2pl.py:282: RuntimeWarning: divide by zero encountered in log\n",
      "  (1-answer_vector), np.log(1-ICC_values + np.float64(1.7976931348623157e-309))) + np.log(latent_density)\n",
      "c:\\Users\\Jesper\\anaconda3\\lib\\site-packages\\scipy\\optimize\\_numdiff.py:576: RuntimeWarning: invalid value encountered in subtract\n",
      "  df = fun(x) - f0\n",
      "c:\\Users\\Jesper\\Documents\\GitHub\\Knowledge-Growth-Prediction\\models\\mirt_2pl.py:282: RuntimeWarning: divide by zero encountered in log\n",
      "  (1-answer_vector), np.log(1-ICC_values + np.float64(1.7976931348623157e-309))) + np.log(latent_density)\n"
     ]
    },
    {
     "name": "stdout",
     "output_type": "stream",
     "text": [
      "EM Iteration 2\n"
     ]
    },
    {
     "name": "stderr",
     "output_type": "stream",
     "text": [
      "c:\\Users\\Jesper\\anaconda3\\lib\\site-packages\\scipy\\stats\\_qmc.py:2039: UserWarning: The balance properties of Sobol' points require n to be a power of 2.\n",
      "  samples = self.engine.random(n)\n"
     ]
    },
    {
     "name": "stdout",
     "output_type": "stream",
     "text": [
      "Current Monte Carlo Sample size: 300\n",
      "[[1.         0.63764055 0.34991198 0.27588751]\n",
      " [0.63764055 1.         0.43533269 0.32624629]\n",
      " [0.34991198 0.43533269 1.         0.76831244]\n",
      " [0.27588751 0.32624629 0.76831244 1.        ]]\n",
      "Step: 2: current parameter_diff: 15.261913478966099, current marginal loglikelihood: -578.0082580296753\n",
      "EM Iteration 3\n"
     ]
    },
    {
     "name": "stderr",
     "output_type": "stream",
     "text": [
      "c:\\Users\\Jesper\\anaconda3\\lib\\site-packages\\scipy\\stats\\_qmc.py:2039: UserWarning: The balance properties of Sobol' points require n to be a power of 2.\n",
      "  samples = self.engine.random(n)\n"
     ]
    },
    {
     "name": "stdout",
     "output_type": "stream",
     "text": [
      "Current Monte Carlo Sample size: 300\n",
      "[[1.         0.65292805 0.27686863 0.26845781]\n",
      " [0.65292805 1.         0.34427695 0.33835826]\n",
      " [0.27686863 0.34427695 1.         0.77057996]\n",
      " [0.26845781 0.33835826 0.77057996 1.        ]]\n",
      "Step: 3: current parameter_diff: 10.958651505984864, current marginal loglikelihood: -556.1305329203617\n",
      "EM Iteration 4\n"
     ]
    },
    {
     "name": "stderr",
     "output_type": "stream",
     "text": [
      "c:\\Users\\Jesper\\anaconda3\\lib\\site-packages\\scipy\\stats\\_qmc.py:2039: UserWarning: The balance properties of Sobol' points require n to be a power of 2.\n",
      "  samples = self.engine.random(n)\n"
     ]
    },
    {
     "name": "stdout",
     "output_type": "stream",
     "text": [
      "Current Monte Carlo Sample size: 300\n",
      "[[1.         0.68115119 0.23624098 0.2499033 ]\n",
      " [0.68115119 1.         0.30426642 0.3126785 ]\n",
      " [0.23624098 0.30426642 1.         0.76586141]\n",
      " [0.2499033  0.3126785  0.76586141 1.        ]]\n",
      "Step: 4: current parameter_diff: 9.079781822616471, current marginal loglikelihood: -554.853967782002\n",
      "EM Iteration 5\n"
     ]
    },
    {
     "name": "stderr",
     "output_type": "stream",
     "text": [
      "c:\\Users\\Jesper\\anaconda3\\lib\\site-packages\\scipy\\stats\\_qmc.py:2039: UserWarning: The balance properties of Sobol' points require n to be a power of 2.\n",
      "  samples = self.engine.random(n)\n"
     ]
    },
    {
     "name": "stdout",
     "output_type": "stream",
     "text": [
      "Current Monte Carlo Sample size: 330\n",
      "[[1.         0.6931129  0.21335667 0.23179001]\n",
      " [0.6931129  1.         0.27849381 0.2919026 ]\n",
      " [0.21335667 0.27849381 1.         0.77330571]\n",
      " [0.23179001 0.2919026  0.77330571 1.        ]]\n",
      "Step: 5: current parameter_diff: 8.048077061936134, current marginal loglikelihood: -550.5541487165293\n",
      "EM Iteration 6\n"
     ]
    },
    {
     "name": "stderr",
     "output_type": "stream",
     "text": [
      "c:\\Users\\Jesper\\anaconda3\\lib\\site-packages\\scipy\\stats\\_qmc.py:2039: UserWarning: The balance properties of Sobol' points require n to be a power of 2.\n",
      "  samples = self.engine.random(n)\n"
     ]
    },
    {
     "name": "stdout",
     "output_type": "stream",
     "text": [
      "Current Monte Carlo Sample size: 330\n",
      "[[1.         0.70412448 0.20547086 0.2123458 ]\n",
      " [0.70412448 1.         0.26895137 0.2687264 ]\n",
      " [0.20547086 0.26895137 1.         0.77777567]\n",
      " [0.2123458  0.2687264  0.77777567 1.        ]]\n",
      "Step: 6: current parameter_diff: 7.744331499231505, current marginal loglikelihood: -551.5485069041692\n",
      "Absolute diff in A:\n",
      "[[0.00000000e+00 2.16546638e+00]\n",
      " [0.00000000e+00 2.40171440e+00]\n",
      " [0.00000000e+00 9.72796160e-01]\n",
      " [6.79322770e-01 0.00000000e+00]\n",
      " [8.92174391e-01 0.00000000e+00]\n",
      " [1.92441830e-03 0.00000000e+00]\n",
      " [1.18152543e-01 0.00000000e+00]\n",
      " [2.19740003e+00 0.00000000e+00]\n",
      " [2.08443284e+00 2.94270025e+00]\n",
      " [1.07202067e+00 5.36082636e-02]\n",
      " [4.89863883e-01 2.69023133e-01]\n",
      " [1.00327451e-01 5.09711687e-03]]\n",
      "Absolute diff in delta:\n",
      "[5.00974037e-01 8.06345523e-01 1.33952885e-03 6.00745721e-01\n",
      " 2.09540502e-01 2.25333194e-01 3.61904082e-01 5.06807591e-01\n",
      " 2.90853383e+00 6.49275431e-01 6.22823190e-01 6.41244434e-01]\n",
      "Absolute diff in sigma:\n",
      "[[0.     0.1255]\n",
      " [0.1255 0.    ]]\n",
      "Absolute diff in A:\n",
      "[[0.         0.61905683]\n",
      " [0.         0.42218045]\n",
      " [0.         0.59586151]\n",
      " [0.         0.12993111]\n",
      " [0.         2.536073  ]\n",
      " [3.09899829 0.        ]\n",
      " [0.63699844 0.        ]\n",
      " [0.37203954 0.        ]\n",
      " [5.69270839 0.        ]\n",
      " [0.60458497 0.        ]\n",
      " [0.87404323 0.        ]\n",
      " [1.60592053 2.21986008]]\n",
      "Absolute diff in delta:\n",
      "[1.27995207 1.14748175 0.10796512 0.32095943 2.54330238 2.69272871\n",
      " 3.36901654 3.63343648 5.26435773 0.47747766 0.69911541 1.29947387]\n",
      "Absolute diff in A:\n",
      "[[ 0.          5.85222362]\n",
      " [ 0.          6.7938377 ]\n",
      " [ 0.          1.97873285]\n",
      " [ 0.32333646  0.        ]\n",
      " [ 2.73129707  0.        ]\n",
      " [ 8.25014431  0.        ]\n",
      " [ 1.67513567  0.        ]\n",
      " [ 4.3277925   0.        ]\n",
      " [ 3.2590645  13.37155998]\n",
      " [ 0.9929109   0.63861607]\n",
      " [ 1.58755135  1.2102474 ]\n",
      " [ 0.5087918   2.12239133]]\n",
      "Absolute diff in delta:\n",
      "[0.46231153 1.43364088 0.05798825 0.18348642 0.86727619 1.37082849\n",
      " 0.41456639 0.85692971 0.06502468 0.8429233  0.13589013 0.54032387]\n",
      "Absolute diff in sigma:\n",
      "[[0.     0.1356]\n",
      " [0.1356 0.    ]]\n",
      "Absolute diff in A:\n",
      "[[ 1.          2.50038272]\n",
      " [ 1.          1.3377662 ]\n",
      " [ 1.          0.65985033]\n",
      " [ 1.          0.13245862]\n",
      " [ 1.          1.93161215]\n",
      " [ 8.1823859   1.        ]\n",
      " [ 2.88023295  1.        ]\n",
      " [ 5.68136196  1.        ]\n",
      " [12.92199084  1.        ]\n",
      " [ 0.97437818  1.        ]\n",
      " [ 2.00894727  1.        ]\n",
      " [ 1.30981194  4.66570622]]\n",
      "Absolute diff in delta:\n",
      "[1.70611095 1.33678109 0.3120732  0.65777037 0.40221157 1.54595296\n",
      " 1.24914995 1.39778213 1.53449278 0.73072963 1.14056501 0.99814946]\n",
      "Covariance matrix is good: True\n",
      "EM Iteration 2\n",
      "Current Monte Carlo Sample size: 300\n",
      "[[1.        0.5507026]\n",
      " [0.5507026 1.       ]]\n"
     ]
    },
    {
     "name": "stderr",
     "output_type": "stream",
     "text": [
      "c:\\Users\\Jesper\\anaconda3\\lib\\site-packages\\scipy\\stats\\_qmc.py:2039: UserWarning: The balance properties of Sobol' points require n to be a power of 2.\n",
      "  samples = self.engine.random(n)\n"
     ]
    },
    {
     "name": "stdout",
     "output_type": "stream",
     "text": [
      "Step: 2: current parameter_diff: 14.80604656349762, current marginal loglikelihood: -545.0774375878182\n",
      "EM Iteration 3\n",
      "Current Monte Carlo Sample size: 330\n",
      "[[1.         0.56564269]\n",
      " [0.56564269 1.        ]]\n"
     ]
    },
    {
     "name": "stderr",
     "output_type": "stream",
     "text": [
      "c:\\Users\\Jesper\\anaconda3\\lib\\site-packages\\scipy\\stats\\_qmc.py:2039: UserWarning: The balance properties of Sobol' points require n to be a power of 2.\n",
      "  samples = self.engine.random(n)\n"
     ]
    },
    {
     "name": "stdout",
     "output_type": "stream",
     "text": [
      "Step: 3: current parameter_diff: 10.890694334093999, current marginal loglikelihood: -526.9443276479411\n",
      "EM Iteration 4\n",
      "Current Monte Carlo Sample size: 363\n",
      "[[1.         0.54444016]\n",
      " [0.54444016 1.        ]]\n"
     ]
    },
    {
     "name": "stderr",
     "output_type": "stream",
     "text": [
      "c:\\Users\\Jesper\\anaconda3\\lib\\site-packages\\scipy\\stats\\_qmc.py:2039: UserWarning: The balance properties of Sobol' points require n to be a power of 2.\n",
      "  samples = self.engine.random(n)\n"
     ]
    },
    {
     "name": "stdout",
     "output_type": "stream",
     "text": [
      "Step: 4: current parameter_diff: 9.68322432296502, current marginal loglikelihood: -520.4192690799948\n",
      "EM Iteration 5\n",
      "Current Monte Carlo Sample size: 399\n",
      "[[1.         0.52128502]\n",
      " [0.52128502 1.        ]]\n"
     ]
    },
    {
     "name": "stderr",
     "output_type": "stream",
     "text": [
      "c:\\Users\\Jesper\\anaconda3\\lib\\site-packages\\scipy\\stats\\_qmc.py:2039: UserWarning: The balance properties of Sobol' points require n to be a power of 2.\n",
      "  samples = self.engine.random(n)\n"
     ]
    },
    {
     "name": "stdout",
     "output_type": "stream",
     "text": [
      "Step: 5: current parameter_diff: 8.191299191352776, current marginal loglikelihood: -515.4656794092288\n",
      "EM Iteration 6\n",
      "Current Monte Carlo Sample size: 438\n",
      "[[1.         0.51374294]\n",
      " [0.51374294 1.        ]]\n"
     ]
    },
    {
     "name": "stderr",
     "output_type": "stream",
     "text": [
      "c:\\Users\\Jesper\\anaconda3\\lib\\site-packages\\scipy\\stats\\_qmc.py:2039: UserWarning: The balance properties of Sobol' points require n to be a power of 2.\n",
      "  samples = self.engine.random(n)\n"
     ]
    },
    {
     "name": "stdout",
     "output_type": "stream",
     "text": [
      "Step: 6: current parameter_diff: 7.076267505289626, current marginal loglikelihood: -512.5149486001255\n",
      "EM Iteration 7\n",
      "Current Monte Carlo Sample size: 481\n",
      "[[1.         0.48532213]\n",
      " [0.48532213 1.        ]]\n",
      "Step: 7: current parameter_diff: 6.745658819131242, current marginal loglikelihood: -511.4946277088333\n",
      "Covariance matrix is good: True\n",
      "EM Iteration 2\n",
      "Current Monte Carlo Sample size: 300\n",
      "[[1.         0.61685227]\n",
      " [0.61685227 1.        ]]\n"
     ]
    },
    {
     "name": "stderr",
     "output_type": "stream",
     "text": [
      "c:\\Users\\Jesper\\anaconda3\\lib\\site-packages\\scipy\\stats\\_qmc.py:2039: UserWarning: The balance properties of Sobol' points require n to be a power of 2.\n",
      "  samples = self.engine.random(n)\n"
     ]
    },
    {
     "name": "stdout",
     "output_type": "stream",
     "text": [
      "Step: 2: current parameter_diff: 21.458370622310966, current marginal loglikelihood: -389.4513205486607\n",
      "EM Iteration 3\n",
      "Current Monte Carlo Sample size: 330\n",
      "[[1.         0.66993066]\n",
      " [0.66993066 1.        ]]\n"
     ]
    },
    {
     "name": "stderr",
     "output_type": "stream",
     "text": [
      "c:\\Users\\Jesper\\anaconda3\\lib\\site-packages\\scipy\\stats\\_qmc.py:2039: UserWarning: The balance properties of Sobol' points require n to be a power of 2.\n",
      "  samples = self.engine.random(n)\n"
     ]
    },
    {
     "name": "stdout",
     "output_type": "stream",
     "text": [
      "Step: 3: current parameter_diff: 21.781098174077023, current marginal loglikelihood: -372.5848397540034\n",
      "EM Iteration 4\n",
      "Current Monte Carlo Sample size: 363\n",
      "[[1.         0.66131664]\n",
      " [0.66131664 1.        ]]\n"
     ]
    },
    {
     "name": "stderr",
     "output_type": "stream",
     "text": [
      "c:\\Users\\Jesper\\anaconda3\\lib\\site-packages\\scipy\\stats\\_qmc.py:2039: UserWarning: The balance properties of Sobol' points require n to be a power of 2.\n",
      "  samples = self.engine.random(n)\n"
     ]
    },
    {
     "name": "stdout",
     "output_type": "stream",
     "text": [
      "Step: 4: current parameter_diff: 18.557507308164602, current marginal loglikelihood: -365.4614424374274\n",
      "EM Iteration 5\n",
      "Current Monte Carlo Sample size: 399\n",
      "[[1.         0.64987811]\n",
      " [0.64987811 1.        ]]\n"
     ]
    },
    {
     "name": "stderr",
     "output_type": "stream",
     "text": [
      "c:\\Users\\Jesper\\anaconda3\\lib\\site-packages\\scipy\\stats\\_qmc.py:2039: UserWarning: The balance properties of Sobol' points require n to be a power of 2.\n",
      "  samples = self.engine.random(n)\n"
     ]
    },
    {
     "name": "stdout",
     "output_type": "stream",
     "text": [
      "Step: 5: current parameter_diff: 17.702395594672943, current marginal loglikelihood: -363.54597100050455\n",
      "EM Iteration 6\n",
      "Current Monte Carlo Sample size: 399\n",
      "[[1.       0.650828]\n",
      " [0.650828 1.      ]]\n"
     ]
    },
    {
     "name": "stderr",
     "output_type": "stream",
     "text": [
      "c:\\Users\\Jesper\\anaconda3\\lib\\site-packages\\scipy\\stats\\_qmc.py:2039: UserWarning: The balance properties of Sobol' points require n to be a power of 2.\n",
      "  samples = self.engine.random(n)\n"
     ]
    },
    {
     "name": "stdout",
     "output_type": "stream",
     "text": [
      "Step: 6: current parameter_diff: 12.230719033850079, current marginal loglikelihood: -361.23071302844534\n",
      "EM Iteration 7\n",
      "Current Monte Carlo Sample size: 438\n"
     ]
    },
    {
     "name": "stderr",
     "output_type": "stream",
     "text": [
      "c:\\Users\\Jesper\\anaconda3\\lib\\site-packages\\scipy\\stats\\_qmc.py:2039: UserWarning: The balance properties of Sobol' points require n to be a power of 2.\n",
      "  samples = self.engine.random(n)\n"
     ]
    },
    {
     "name": "stdout",
     "output_type": "stream",
     "text": [
      "[[1.         0.64683716]\n",
      " [0.64683716 1.        ]]\n",
      "Step: 7: current parameter_diff: 12.273271178121655, current marginal loglikelihood: -360.97996640189814\n"
     ]
    },
    {
     "name": "stderr",
     "output_type": "stream",
     "text": [
      "c:\\Users\\Jesper\\Documents\\GitHub\\Knowledge-Growth-Prediction\\models\\mirt_2pl.py:119: RuntimeWarning: overflow encountered in exp\n",
      "  np.divide(1, np.add(1, np.exp(np.multiply(-1, linear_predictor)))))\n",
      "c:\\Users\\Jesper\\Documents\\GitHub\\Knowledge-Growth-Prediction\\models\\mirt_2pl.py:282: RuntimeWarning: divide by zero encountered in log\n",
      "  (1-answer_vector), np.log(1-ICC_values + np.float64(1.7976931348623157e-309))) + np.log(latent_density)\n",
      "c:\\Users\\Jesper\\anaconda3\\lib\\site-packages\\scipy\\optimize\\_numdiff.py:576: RuntimeWarning: invalid value encountered in subtract\n",
      "  df = fun(x) - f0\n",
      "c:\\Users\\Jesper\\Documents\\GitHub\\Knowledge-Growth-Prediction\\models\\mirt_2pl.py:119: RuntimeWarning: overflow encountered in exp\n",
      "  np.divide(1, np.add(1, np.exp(np.multiply(-1, linear_predictor)))))\n",
      "c:\\Users\\Jesper\\Documents\\GitHub\\Knowledge-Growth-Prediction\\models\\mirt_2pl.py:282: RuntimeWarning: divide by zero encountered in log\n",
      "  (1-answer_vector), np.log(1-ICC_values + np.float64(1.7976931348623157e-309))) + np.log(latent_density)\n"
     ]
    },
    {
     "name": "stdout",
     "output_type": "stream",
     "text": [
      "Absolute diff in A:\n",
      "[[0.         2.2392722 ]\n",
      " [0.         2.33809539]\n",
      " [0.         0.96566542]\n",
      " [0.65067408 0.        ]\n",
      " [0.86411057 0.        ]\n",
      " [0.06378483 0.        ]\n",
      " [0.10223827 0.        ]\n",
      " [2.25943642 0.        ]\n",
      " [2.0545617  1.48235218]\n",
      " [1.1345522  0.09140496]\n",
      " [0.36847461 0.15119801]\n",
      " [0.10302572 0.05025579]]\n",
      "Absolute diff in delta:\n",
      "[0.44835013 0.70096214 0.01962424 0.61812266 0.19644498 0.33780938\n",
      " 0.34324011 0.47945108 2.51013177 0.55523534 0.62214419 0.54434942]\n",
      "Absolute diff in sigma:\n",
      "[[0.     0.1209]\n",
      " [0.1209 0.    ]]\n",
      "Absolute diff in A:\n",
      "[[0.         1.03198981]\n",
      " [0.         1.11310821]\n",
      " [0.         0.8799064 ]\n",
      " [0.         0.33237101]\n",
      " [0.         0.98386602]\n",
      " [4.37154563 0.        ]\n",
      " [1.03666371 0.        ]\n",
      " [2.02373027 0.        ]\n",
      " [7.06770298 0.        ]\n",
      " [0.98609829 0.        ]\n",
      " [1.60334348 0.        ]\n",
      " [1.81329443 2.84323672]]\n",
      "Absolute diff in delta:\n",
      "[1.60261532 1.18647403 0.39185709 0.34479761 3.48849889 3.15426749\n",
      " 3.19031098 4.08182719 6.73602363 0.63666227 0.7493572  1.70602653]\n",
      "EM Iteration 2\n"
     ]
    },
    {
     "name": "stderr",
     "output_type": "stream",
     "text": [
      "c:\\Users\\Jesper\\anaconda3\\lib\\site-packages\\scipy\\stats\\_qmc.py:2039: UserWarning: The balance properties of Sobol' points require n to be a power of 2.\n",
      "  samples = self.engine.random(n)\n"
     ]
    },
    {
     "name": "stdout",
     "output_type": "stream",
     "text": [
      "Current Monte Carlo Sample size: 300\n",
      "[[1.         0.58758427 0.12910441 0.1794472 ]\n",
      " [0.58758427 1.         0.10565226 0.16494337]\n",
      " [0.12910441 0.10565226 1.         0.26358374]\n",
      " [0.1794472  0.16494337 0.26358374 1.        ]]\n",
      "Step: 2: current parameter_diff: 16.678333314018644, current marginal loglikelihood: -599.2715462121473\n",
      "EM Iteration 3\n"
     ]
    },
    {
     "name": "stderr",
     "output_type": "stream",
     "text": [
      "c:\\Users\\Jesper\\anaconda3\\lib\\site-packages\\scipy\\stats\\_qmc.py:2039: UserWarning: The balance properties of Sobol' points require n to be a power of 2.\n",
      "  samples = self.engine.random(n)\n"
     ]
    },
    {
     "name": "stdout",
     "output_type": "stream",
     "text": [
      "Current Monte Carlo Sample size: 300\n",
      "[[1.         0.4460265  0.19322304 0.2280191 ]\n",
      " [0.4460265  1.         0.09193227 0.11859361]\n",
      " [0.19322304 0.09193227 1.         0.34575148]\n",
      " [0.2280191  0.11859361 0.34575148 1.        ]]\n",
      "Step: 3: current parameter_diff: 10.349619249749502, current marginal loglikelihood: -592.3002797512925\n",
      "EM Iteration 4\n"
     ]
    },
    {
     "name": "stderr",
     "output_type": "stream",
     "text": [
      "c:\\Users\\Jesper\\anaconda3\\lib\\site-packages\\scipy\\stats\\_qmc.py:2039: UserWarning: The balance properties of Sobol' points require n to be a power of 2.\n",
      "  samples = self.engine.random(n)\n"
     ]
    },
    {
     "name": "stdout",
     "output_type": "stream",
     "text": [
      "Current Monte Carlo Sample size: 330\n",
      "[[ 1.          0.71748104 -0.08707614 -0.21014421]\n",
      " [ 0.71748104  1.         -0.03318206 -0.16931206]\n",
      " [-0.08707614 -0.03318206  1.          0.37952919]\n",
      " [-0.21014421 -0.16931206  0.37952919  1.        ]]\n",
      "Step: 4: current parameter_diff: 9.9220261953397, current marginal loglikelihood: -583.907515162173\n",
      "EM Iteration 5\n"
     ]
    },
    {
     "name": "stderr",
     "output_type": "stream",
     "text": [
      "c:\\Users\\Jesper\\anaconda3\\lib\\site-packages\\scipy\\stats\\_qmc.py:2039: UserWarning: The balance properties of Sobol' points require n to be a power of 2.\n",
      "  samples = self.engine.random(n)\n"
     ]
    },
    {
     "name": "stdout",
     "output_type": "stream",
     "text": [
      "Current Monte Carlo Sample size: 330\n",
      "[[1.         0.5311125  0.03219824 0.02076308]\n",
      " [0.5311125  1.         0.03047018 0.03676124]\n",
      " [0.03219824 0.03047018 1.         0.41786403]\n",
      " [0.02076308 0.03676124 0.41786403 1.        ]]\n",
      "Step: 5: current parameter_diff: 7.605014760430709, current marginal loglikelihood: -598.0526741228849\n",
      "EM Iteration 6\n"
     ]
    },
    {
     "name": "stderr",
     "output_type": "stream",
     "text": [
      "c:\\Users\\Jesper\\anaconda3\\lib\\site-packages\\scipy\\stats\\_qmc.py:2039: UserWarning: The balance properties of Sobol' points require n to be a power of 2.\n",
      "  samples = self.engine.random(n)\n"
     ]
    },
    {
     "name": "stdout",
     "output_type": "stream",
     "text": [
      "Current Monte Carlo Sample size: 363\n",
      "[[1.         0.50210886 0.03384995 0.03397766]\n",
      " [0.50210886 1.         0.03796697 0.04819711]\n",
      " [0.03384995 0.03796697 1.         0.43537791]\n",
      " [0.03397766 0.04819711 0.43537791 1.        ]]\n",
      "Step: 6: current parameter_diff: 5.082599251381145, current marginal loglikelihood: -586.8063462387263\n",
      "EM Iteration 7\n"
     ]
    },
    {
     "name": "stderr",
     "output_type": "stream",
     "text": [
      "c:\\Users\\Jesper\\anaconda3\\lib\\site-packages\\scipy\\stats\\_qmc.py:2039: UserWarning: The balance properties of Sobol' points require n to be a power of 2.\n",
      "  samples = self.engine.random(n)\n"
     ]
    },
    {
     "name": "stdout",
     "output_type": "stream",
     "text": [
      "Current Monte Carlo Sample size: 399\n",
      "[[1.         0.47984358 0.0406089  0.0387984 ]\n",
      " [0.47984358 1.         0.04919326 0.05409667]\n",
      " [0.0406089  0.04919326 1.         0.45150019]\n",
      " [0.0387984  0.05409667 0.45150019 1.        ]]\n",
      "Step: 7: current parameter_diff: 5.182017948290257, current marginal loglikelihood: -584.4858268691158\n",
      "EM Iteration 8\n"
     ]
    },
    {
     "name": "stderr",
     "output_type": "stream",
     "text": [
      "c:\\Users\\Jesper\\anaconda3\\lib\\site-packages\\scipy\\stats\\_qmc.py:2039: UserWarning: The balance properties of Sobol' points require n to be a power of 2.\n",
      "  samples = self.engine.random(n)\n"
     ]
    },
    {
     "name": "stdout",
     "output_type": "stream",
     "text": [
      "Current Monte Carlo Sample size: 438\n",
      "[[1.         0.51497404 0.05712525 0.05104487]\n",
      " [0.51497404 1.         0.07059724 0.07951107]\n",
      " [0.05712525 0.07059724 1.         0.46477546]\n",
      " [0.05104487 0.07951107 0.46477546 1.        ]]\n",
      "Step: 8: current parameter_diff: 4.255794196712552, current marginal loglikelihood: -583.9126332413974\n",
      "EM Iteration 9\n"
     ]
    },
    {
     "name": "stderr",
     "output_type": "stream",
     "text": [
      "c:\\Users\\Jesper\\anaconda3\\lib\\site-packages\\scipy\\stats\\_qmc.py:2039: UserWarning: The balance properties of Sobol' points require n to be a power of 2.\n",
      "  samples = self.engine.random(n)\n"
     ]
    },
    {
     "name": "stdout",
     "output_type": "stream",
     "text": [
      "Current Monte Carlo Sample size: 481\n",
      "[[1.         0.51429244 0.05497731 0.0623443 ]\n",
      " [0.51429244 1.         0.07061729 0.09379603]\n",
      " [0.05497731 0.07061729 1.         0.47794392]\n",
      " [0.0623443  0.09379603 0.47794392 1.        ]]\n",
      "Step: 9: current parameter_diff: 2.221083087162649, current marginal loglikelihood: -587.1151804800356\n",
      "Absolute diff in A:\n",
      "[[0.00000000e+00 5.51846255e-02]\n",
      " [0.00000000e+00 5.30150619e-01]\n",
      " [0.00000000e+00 4.45140546e-01]\n",
      " [0.00000000e+00 8.08806471e-02]\n",
      " [0.00000000e+00 3.93249821e+00]\n",
      " [8.85504681e-04 0.00000000e+00]\n",
      " [3.09897135e-01 0.00000000e+00]\n",
      " [9.06806390e-02 0.00000000e+00]\n",
      " [5.35535936e+00 0.00000000e+00]\n",
      " [6.10186660e-01 0.00000000e+00]\n",
      " [1.06771334e+00 0.00000000e+00]\n",
      " [1.51684624e+00 1.55554219e+00]]\n",
      "Absolute diff in delta:\n",
      "[0.79298174 0.84452763 0.0845305  0.14819442 2.62386086 2.5896893\n",
      " 2.636248   3.03946395 4.47600883 0.35163544 0.33320892 0.54007927]\n",
      "Real latent covariance: [[1.     0.3132 0.396  0.409 ]\n",
      " [0.3132 1.     0.412  0.4115]\n",
      " [0.396  0.412  1.     0.3082]\n",
      " [0.409  0.4115 0.3082 1.    ]]\n",
      "Covariance matrix is good: True\n",
      "EM Iteration 2\n",
      "Current Monte Carlo Sample size: 300\n",
      "[[1.         0.56623675]\n",
      " [0.56623675 1.        ]]\n"
     ]
    },
    {
     "name": "stderr",
     "output_type": "stream",
     "text": [
      "c:\\Users\\Jesper\\anaconda3\\lib\\site-packages\\scipy\\stats\\_qmc.py:2039: UserWarning: The balance properties of Sobol' points require n to be a power of 2.\n",
      "  samples = self.engine.random(n)\n"
     ]
    },
    {
     "name": "stdout",
     "output_type": "stream",
     "text": [
      "Step: 2: current parameter_diff: 9.139840230973686, current marginal loglikelihood: -650.0772036957284\n",
      "EM Iteration 3\n",
      "Current Monte Carlo Sample size: 330\n",
      "[[1.        0.5880338]\n",
      " [0.5880338 1.       ]]\n"
     ]
    },
    {
     "name": "stderr",
     "output_type": "stream",
     "text": [
      "c:\\Users\\Jesper\\anaconda3\\lib\\site-packages\\scipy\\stats\\_qmc.py:2039: UserWarning: The balance properties of Sobol' points require n to be a power of 2.\n",
      "  samples = self.engine.random(n)\n"
     ]
    },
    {
     "name": "stdout",
     "output_type": "stream",
     "text": [
      "Step: 3: current parameter_diff: 5.243449362308787, current marginal loglikelihood: -644.3642161646624\n",
      "EM Iteration 4\n",
      "Current Monte Carlo Sample size: 363\n",
      "[[1.         0.55455122]\n",
      " [0.55455122 1.        ]]\n"
     ]
    },
    {
     "name": "stderr",
     "output_type": "stream",
     "text": [
      "c:\\Users\\Jesper\\anaconda3\\lib\\site-packages\\scipy\\stats\\_qmc.py:2039: UserWarning: The balance properties of Sobol' points require n to be a power of 2.\n",
      "  samples = self.engine.random(n)\n"
     ]
    },
    {
     "name": "stdout",
     "output_type": "stream",
     "text": [
      "Step: 4: current parameter_diff: 4.0282580469380305, current marginal loglikelihood: -639.1163542636472\n",
      "EM Iteration 5\n",
      "Current Monte Carlo Sample size: 399\n",
      "[[1.         0.52776195]\n",
      " [0.52776195 1.        ]]\n"
     ]
    },
    {
     "name": "stderr",
     "output_type": "stream",
     "text": [
      "c:\\Users\\Jesper\\anaconda3\\lib\\site-packages\\scipy\\stats\\_qmc.py:2039: UserWarning: The balance properties of Sobol' points require n to be a power of 2.\n",
      "  samples = self.engine.random(n)\n"
     ]
    },
    {
     "name": "stdout",
     "output_type": "stream",
     "text": [
      "Step: 5: current parameter_diff: 2.9001526162923206, current marginal loglikelihood: -637.043395098168\n",
      "EM Iteration 6\n",
      "Current Monte Carlo Sample size: 438\n",
      "[[1.         0.50475023]\n",
      " [0.50475023 1.        ]]\n"
     ]
    },
    {
     "name": "stderr",
     "output_type": "stream",
     "text": [
      "c:\\Users\\Jesper\\anaconda3\\lib\\site-packages\\scipy\\stats\\_qmc.py:2039: UserWarning: The balance properties of Sobol' points require n to be a power of 2.\n",
      "  samples = self.engine.random(n)\n"
     ]
    },
    {
     "name": "stdout",
     "output_type": "stream",
     "text": [
      "Step: 6: current parameter_diff: 2.401581431349263, current marginal loglikelihood: -636.2576103247676\n",
      "EM Iteration 7\n",
      "Current Monte Carlo Sample size: 481\n",
      "[[1.         0.48762023]\n",
      " [0.48762023 1.        ]]\n"
     ]
    },
    {
     "name": "stderr",
     "output_type": "stream",
     "text": [
      "c:\\Users\\Jesper\\anaconda3\\lib\\site-packages\\scipy\\stats\\_qmc.py:2039: UserWarning: The balance properties of Sobol' points require n to be a power of 2.\n",
      "  samples = self.engine.random(n)\n"
     ]
    },
    {
     "name": "stdout",
     "output_type": "stream",
     "text": [
      "Step: 7: current parameter_diff: 1.7603814553279267, current marginal loglikelihood: -635.0831423639374\n",
      "EM Iteration 2\n"
     ]
    },
    {
     "name": "stderr",
     "output_type": "stream",
     "text": [
      "c:\\Users\\Jesper\\anaconda3\\lib\\site-packages\\scipy\\stats\\_qmc.py:2039: UserWarning: The balance properties of Sobol' points require n to be a power of 2.\n",
      "  samples = self.engine.random(n)\n"
     ]
    },
    {
     "name": "stdout",
     "output_type": "stream",
     "text": [
      "Current Monte Carlo Sample size: 300\n",
      "[[1.         0.55978118 0.40609173 0.39398413]\n",
      " [0.55978118 1.         0.36430481 0.3624727 ]\n",
      " [0.40609173 0.36430481 1.         0.46128353]\n",
      " [0.39398413 0.3624727  0.46128353 1.        ]]\n",
      "Step: 2: current parameter_diff: 18.360246336161175, current marginal loglikelihood: -623.2165231685186\n",
      "EM Iteration 3\n"
     ]
    },
    {
     "name": "stderr",
     "output_type": "stream",
     "text": [
      "c:\\Users\\Jesper\\anaconda3\\lib\\site-packages\\scipy\\stats\\_qmc.py:2039: UserWarning: The balance properties of Sobol' points require n to be a power of 2.\n",
      "  samples = self.engine.random(n)\n"
     ]
    },
    {
     "name": "stdout",
     "output_type": "stream",
     "text": [
      "Current Monte Carlo Sample size: 300\n",
      "[[ 1.          0.69029557  0.0792855   0.1760211 ]\n",
      " [ 0.69029557  1.         -0.09230448  0.07400128]\n",
      " [ 0.0792855  -0.09230448  1.          0.5385072 ]\n",
      " [ 0.1760211   0.07400128  0.5385072   1.        ]]\n",
      "Step: 3: current parameter_diff: 16.49768102271298, current marginal loglikelihood: -597.8309800319538\n",
      "EM Iteration 4\n"
     ]
    },
    {
     "name": "stderr",
     "output_type": "stream",
     "text": [
      "c:\\Users\\Jesper\\anaconda3\\lib\\site-packages\\scipy\\stats\\_qmc.py:2039: UserWarning: The balance properties of Sobol' points require n to be a power of 2.\n",
      "  samples = self.engine.random(n)\n"
     ]
    },
    {
     "name": "stdout",
     "output_type": "stream",
     "text": [
      "Current Monte Carlo Sample size: 300\n",
      "[[ 1.          0.67511077  0.09259092  0.17211486]\n",
      " [ 0.67511077  1.         -0.00463381  0.0418899 ]\n",
      " [ 0.09259092 -0.00463381  1.          0.56362072]\n",
      " [ 0.17211486  0.0418899   0.56362072  1.        ]]\n",
      "Step: 4: current parameter_diff: 10.288971452154406, current marginal loglikelihood: -593.0830575214732\n",
      "EM Iteration 5\n"
     ]
    },
    {
     "name": "stderr",
     "output_type": "stream",
     "text": [
      "c:\\Users\\Jesper\\anaconda3\\lib\\site-packages\\scipy\\stats\\_qmc.py:2039: UserWarning: The balance properties of Sobol' points require n to be a power of 2.\n",
      "  samples = self.engine.random(n)\n"
     ]
    },
    {
     "name": "stdout",
     "output_type": "stream",
     "text": [
      "Current Monte Carlo Sample size: 330\n",
      "[[ 1.          0.66440782  0.11085509  0.16782998]\n",
      " [ 0.66440782  1.         -0.00196699  0.01264109]\n",
      " [ 0.11085509 -0.00196699  1.          0.58973169]\n",
      " [ 0.16782998  0.01264109  0.58973169  1.        ]]\n",
      "Step: 5: current parameter_diff: 9.097435647029084, current marginal loglikelihood: -591.6942241782812\n",
      "EM Iteration 6\n"
     ]
    },
    {
     "name": "stderr",
     "output_type": "stream",
     "text": [
      "c:\\Users\\Jesper\\anaconda3\\lib\\site-packages\\scipy\\stats\\_qmc.py:2039: UserWarning: The balance properties of Sobol' points require n to be a power of 2.\n",
      "  samples = self.engine.random(n)\n"
     ]
    },
    {
     "name": "stdout",
     "output_type": "stream",
     "text": [
      "Current Monte Carlo Sample size: 363\n",
      "[[ 1.          0.65082836  0.12090338  0.16712805]\n",
      " [ 0.65082836  1.         -0.00920434 -0.00837997]\n",
      " [ 0.12090338 -0.00920434  1.          0.60977339]\n",
      " [ 0.16712805 -0.00837997  0.60977339  1.        ]]\n",
      "Step: 6: current parameter_diff: 6.822023604524581, current marginal loglikelihood: -592.5704468557005\n",
      "Absolute diff in A:\n",
      "[[0.         0.46077511]\n",
      " [0.         0.08720435]\n",
      " [0.         0.72215898]\n",
      " [0.         0.14787784]\n",
      " [0.60828497 0.        ]\n",
      " [0.12238481 0.        ]\n",
      " [0.44721284 0.        ]\n",
      " [0.6311659  0.        ]\n",
      " [4.07465274 0.        ]\n",
      " [0.73611071 3.20805988]\n",
      " [2.97626611 1.22480044]\n",
      " [0.49271848 0.64519765]]\n",
      "Absolute diff in delta:\n",
      "[0.34235099 0.29105497 0.21710078 0.39614592 0.7332904  0.44297174\n",
      " 0.03540379 0.06424848 0.25299632 0.74284447 0.13301112 0.81852163]\n",
      "Absolute diff in sigma:\n",
      "[[0.     0.1744]\n",
      " [0.1744 0.    ]]\n",
      "Absolute diff in A:\n",
      "[[0.         0.99668179]\n",
      " [0.         4.31395001]\n",
      " [0.         0.48329804]\n",
      " [1.62851575 0.        ]\n",
      " [0.26366209 0.        ]\n",
      " [0.33396847 0.        ]\n",
      " [0.71392786 2.10165563]\n",
      " [1.88554352 5.28033672]\n",
      " [0.81527662 0.82476281]\n",
      " [0.63388198 0.49251678]\n",
      " [0.25693582 0.41684458]\n",
      " [0.07972543 0.23040463]]\n",
      "Absolute diff in delta:\n",
      "[0.44778034 0.26898494 0.13442257 1.2485669  0.24815584 1.0476384\n",
      " 1.27603015 3.34037042 1.01878788 0.13865663 0.91582808 0.04003344]\n",
      "Absolute diff in A:\n",
      "[[0.         0.46286325]\n",
      " [0.         0.846868  ]\n",
      " [0.         0.57581888]\n",
      " [0.         0.55629637]\n",
      " [2.44822566 0.        ]\n",
      " [1.71095687 0.        ]\n",
      " [1.55121886 0.        ]\n",
      " [0.80625978 0.        ]\n",
      " [5.26832089 0.        ]\n",
      " [0.09507915 2.06460545]\n",
      " [3.89031326 2.08975552]\n",
      " [0.71562519 3.52021351]]\n",
      "Absolute diff in delta:\n",
      "[0.02410606 0.14802069 0.18858986 0.60550411 0.964711   0.05266309\n",
      " 0.35789007 0.14643043 0.45534126 0.41482529 0.12255739 0.78268715]\n",
      "Absolute diff in sigma:\n",
      "[[0.     0.1868]\n",
      " [0.1868 0.    ]]\n",
      "Absolute diff in A:\n",
      "[[1.00000000e+00 1.90305148e+00]\n",
      " [1.00000000e+00 7.38772885e+00]\n",
      " [1.00000000e+00 1.62231604e+00]\n",
      " [2.74497369e+00 1.00000000e+00]\n",
      " [2.01245982e+00 1.00000000e+00]\n",
      " [4.80280140e+00 1.00000000e+00]\n",
      " [2.56708684e-01 1.98718411e+00]\n",
      " [1.87696391e+00 4.46902186e+00]\n",
      " [1.26781848e+00 1.02274915e+00]\n",
      " [1.45124971e+00 4.60434815e-03]\n",
      " [9.29109782e-01 3.54908910e+00]\n",
      " [5.22099880e-01 2.73913283e-01]]\n",
      "Absolute diff in delta:\n",
      "[0.68636326 0.15853806 0.57053301 0.97568286 1.86200989 3.22476445\n",
      " 0.73079693 0.00452322 1.94765595 1.74586798 0.82266958 0.41730229]\n",
      "Covariance matrix is good: True\n",
      "EM Iteration 2\n",
      "Current Monte Carlo Sample size: 300\n",
      "[[1.        0.5729253]\n",
      " [0.5729253 1.       ]]\n"
     ]
    },
    {
     "name": "stderr",
     "output_type": "stream",
     "text": [
      "c:\\Users\\Jesper\\anaconda3\\lib\\site-packages\\scipy\\stats\\_qmc.py:2039: UserWarning: The balance properties of Sobol' points require n to be a power of 2.\n",
      "  samples = self.engine.random(n)\n"
     ]
    },
    {
     "name": "stdout",
     "output_type": "stream",
     "text": [
      "Step: 2: current parameter_diff: 8.92611395115457, current marginal loglikelihood: -650.7935975446252\n",
      "EM Iteration 3\n",
      "Current Monte Carlo Sample size: 330\n",
      "[[1.         0.60574053]\n",
      " [0.60574053 1.        ]]\n"
     ]
    },
    {
     "name": "stderr",
     "output_type": "stream",
     "text": [
      "c:\\Users\\Jesper\\anaconda3\\lib\\site-packages\\scipy\\stats\\_qmc.py:2039: UserWarning: The balance properties of Sobol' points require n to be a power of 2.\n",
      "  samples = self.engine.random(n)\n"
     ]
    },
    {
     "name": "stdout",
     "output_type": "stream",
     "text": [
      "Step: 3: current parameter_diff: 5.673959301956385, current marginal loglikelihood: -644.4022268041638\n",
      "EM Iteration 4\n",
      "Current Monte Carlo Sample size: 363\n",
      "[[1.         0.57652756]\n",
      " [0.57652756 1.        ]]\n"
     ]
    },
    {
     "name": "stderr",
     "output_type": "stream",
     "text": [
      "c:\\Users\\Jesper\\anaconda3\\lib\\site-packages\\scipy\\stats\\_qmc.py:2039: UserWarning: The balance properties of Sobol' points require n to be a power of 2.\n",
      "  samples = self.engine.random(n)\n"
     ]
    },
    {
     "name": "stdout",
     "output_type": "stream",
     "text": [
      "Step: 4: current parameter_diff: 4.272609730925451, current marginal loglikelihood: -640.4618170882002\n",
      "EM Iteration 5\n",
      "Current Monte Carlo Sample size: 399\n",
      "[[1.         0.54077619]\n",
      " [0.54077619 1.        ]]\n"
     ]
    },
    {
     "name": "stderr",
     "output_type": "stream",
     "text": [
      "c:\\Users\\Jesper\\anaconda3\\lib\\site-packages\\scipy\\stats\\_qmc.py:2039: UserWarning: The balance properties of Sobol' points require n to be a power of 2.\n",
      "  samples = self.engine.random(n)\n"
     ]
    },
    {
     "name": "stdout",
     "output_type": "stream",
     "text": [
      "Step: 5: current parameter_diff: 3.3758792918420486, current marginal loglikelihood: -637.5072457703911\n",
      "EM Iteration 6\n",
      "Current Monte Carlo Sample size: 438\n",
      "[[1.         0.51637948]\n",
      " [0.51637948 1.        ]]\n"
     ]
    },
    {
     "name": "stderr",
     "output_type": "stream",
     "text": [
      "c:\\Users\\Jesper\\anaconda3\\lib\\site-packages\\scipy\\stats\\_qmc.py:2039: UserWarning: The balance properties of Sobol' points require n to be a power of 2.\n",
      "  samples = self.engine.random(n)\n"
     ]
    },
    {
     "name": "stdout",
     "output_type": "stream",
     "text": [
      "Step: 6: current parameter_diff: 2.186509619917757, current marginal loglikelihood: -636.5017421720135\n",
      "Covariance matrix is good: True\n",
      "EM Iteration 2\n",
      "Current Monte Carlo Sample size: 300\n",
      "[[1.         0.54200251]\n",
      " [0.54200251 1.        ]]\n"
     ]
    },
    {
     "name": "stderr",
     "output_type": "stream",
     "text": [
      "c:\\Users\\Jesper\\anaconda3\\lib\\site-packages\\scipy\\stats\\_qmc.py:2039: UserWarning: The balance properties of Sobol' points require n to be a power of 2.\n",
      "  samples = self.engine.random(n)\n"
     ]
    },
    {
     "name": "stdout",
     "output_type": "stream",
     "text": [
      "Step: 2: current parameter_diff: 20.67650716251645, current marginal loglikelihood: -442.5106081231375\n",
      "EM Iteration 3\n",
      "Current Monte Carlo Sample size: 330\n",
      "[[1.         0.57553535]\n",
      " [0.57553535 1.        ]]\n"
     ]
    },
    {
     "name": "stderr",
     "output_type": "stream",
     "text": [
      "c:\\Users\\Jesper\\anaconda3\\lib\\site-packages\\scipy\\stats\\_qmc.py:2039: UserWarning: The balance properties of Sobol' points require n to be a power of 2.\n",
      "  samples = self.engine.random(n)\n"
     ]
    },
    {
     "name": "stdout",
     "output_type": "stream",
     "text": [
      "Step: 3: current parameter_diff: 20.338061498726344, current marginal loglikelihood: -417.8702883278963\n",
      "EM Iteration 4\n",
      "Current Monte Carlo Sample size: 330\n",
      "[[1.         0.59118205]\n",
      " [0.59118205 1.        ]]\n"
     ]
    },
    {
     "name": "stderr",
     "output_type": "stream",
     "text": [
      "c:\\Users\\Jesper\\anaconda3\\lib\\site-packages\\scipy\\stats\\_qmc.py:2039: UserWarning: The balance properties of Sobol' points require n to be a power of 2.\n",
      "  samples = self.engine.random(n)\n"
     ]
    },
    {
     "name": "stdout",
     "output_type": "stream",
     "text": [
      "Step: 4: current parameter_diff: 19.62660432045452, current marginal loglikelihood: -407.9294821234882\n",
      "EM Iteration 5\n",
      "Current Monte Carlo Sample size: 363\n",
      "[[1.         0.58938904]\n",
      " [0.58938904 1.        ]]\n"
     ]
    },
    {
     "name": "stderr",
     "output_type": "stream",
     "text": [
      "c:\\Users\\Jesper\\anaconda3\\lib\\site-packages\\scipy\\stats\\_qmc.py:2039: UserWarning: The balance properties of Sobol' points require n to be a power of 2.\n",
      "  samples = self.engine.random(n)\n"
     ]
    },
    {
     "name": "stdout",
     "output_type": "stream",
     "text": [
      "Step: 5: current parameter_diff: 12.67050650364857, current marginal loglikelihood: -402.6812340451263\n",
      "EM Iteration 6\n",
      "Current Monte Carlo Sample size: 399\n",
      "[[1.         0.54541595]\n",
      " [0.54541595 1.        ]]\n"
     ]
    },
    {
     "name": "stderr",
     "output_type": "stream",
     "text": [
      "c:\\Users\\Jesper\\anaconda3\\lib\\site-packages\\scipy\\stats\\_qmc.py:2039: UserWarning: The balance properties of Sobol' points require n to be a power of 2.\n",
      "  samples = self.engine.random(n)\n"
     ]
    },
    {
     "name": "stdout",
     "output_type": "stream",
     "text": [
      "Step: 6: current parameter_diff: 12.578310019896664, current marginal loglikelihood: -399.6379315334644\n",
      "EM Iteration 7\n",
      "Current Monte Carlo Sample size: 438\n",
      "[[1.         0.50814085]\n",
      " [0.50814085 1.        ]]\n"
     ]
    },
    {
     "name": "stderr",
     "output_type": "stream",
     "text": [
      "c:\\Users\\Jesper\\anaconda3\\lib\\site-packages\\scipy\\stats\\_qmc.py:2039: UserWarning: The balance properties of Sobol' points require n to be a power of 2.\n",
      "  samples = self.engine.random(n)\n"
     ]
    },
    {
     "name": "stdout",
     "output_type": "stream",
     "text": [
      "Step: 7: current parameter_diff: 13.576719143124913, current marginal loglikelihood: -396.61014649180385\n",
      "EM Iteration 8\n",
      "Current Monte Carlo Sample size: 481\n",
      "[[1.         0.50441892]\n",
      " [0.50441892 1.        ]]\n"
     ]
    },
    {
     "name": "stderr",
     "output_type": "stream",
     "text": [
      "c:\\Users\\Jesper\\anaconda3\\lib\\site-packages\\scipy\\stats\\_qmc.py:2039: UserWarning: The balance properties of Sobol' points require n to be a power of 2.\n",
      "  samples = self.engine.random(n)\n"
     ]
    },
    {
     "name": "stdout",
     "output_type": "stream",
     "text": [
      "Step: 8: current parameter_diff: 9.29063113134944, current marginal loglikelihood: -397.0372030950899\n",
      "Absolute diff in A:\n",
      "[[0.         0.38668758]\n",
      " [0.         0.04225901]\n",
      " [0.         0.70190665]\n",
      " [0.         0.15274359]\n",
      " [0.73233159 0.        ]\n",
      " [0.19913268 0.        ]\n",
      " [0.46385267 0.        ]\n",
      " [0.64731613 0.        ]\n",
      " [4.16525921 0.        ]\n",
      " [0.74674513 2.44229637]\n",
      " [2.96553341 1.15071024]\n",
      " [0.45110436 0.97999507]]\n",
      "Absolute diff in delta:\n",
      "[0.27914611 0.22491919 0.19098322 0.37212366 0.71675316 0.3745722\n",
      " 0.04797586 0.03780402 0.27979103 0.62454074 0.20987126 0.85358146]\n",
      "Absolute diff in sigma:\n",
      "[[0.     0.2031]\n",
      " [0.2031 0.    ]]\n",
      "Absolute diff in A:\n",
      "[[0.         1.50106102]\n",
      " [0.         5.5659258 ]\n",
      " [0.         0.79765868]\n",
      " [0.20016808 0.        ]\n",
      " [0.82090176 0.        ]\n",
      " [1.32145729 0.        ]\n",
      " [0.71270833 1.58924932]\n",
      " [0.42022303 1.59600342]\n",
      " [1.19372328 1.05809362]\n",
      " [0.04062673 0.21555987]\n",
      " [0.7879795  1.9306711 ]\n",
      " [0.10024496 0.15879616]]\n",
      "Absolute diff in delta:\n",
      "[0.15327114 0.68851223 0.09001437 0.81953047 0.02314085 1.42511035\n",
      " 0.70252592 0.63183153 0.56209471 0.61690903 0.17043791 0.19983671]\n",
      "EM Iteration 2\n"
     ]
    },
    {
     "name": "stderr",
     "output_type": "stream",
     "text": [
      "c:\\Users\\Jesper\\anaconda3\\lib\\site-packages\\scipy\\stats\\_qmc.py:2039: UserWarning: The balance properties of Sobol' points require n to be a power of 2.\n",
      "  samples = self.engine.random(n)\n"
     ]
    },
    {
     "name": "stdout",
     "output_type": "stream",
     "text": [
      "Current Monte Carlo Sample size: 300\n",
      "[[1.         0.54744285 0.21139004 0.23326095]\n",
      " [0.54744285 1.         0.06095124 0.11231678]\n",
      " [0.21139004 0.06095124 1.         0.1186276 ]\n",
      " [0.23326095 0.11231678 0.1186276  1.        ]]\n",
      "Step: 2: current parameter_diff: 21.818319889947354, current marginal loglikelihood: -622.1244979114788\n",
      "EM Iteration 3\n"
     ]
    },
    {
     "name": "stderr",
     "output_type": "stream",
     "text": [
      "c:\\Users\\Jesper\\anaconda3\\lib\\site-packages\\scipy\\stats\\_qmc.py:2039: UserWarning: The balance properties of Sobol' points require n to be a power of 2.\n",
      "  samples = self.engine.random(n)\n"
     ]
    },
    {
     "name": "stdout",
     "output_type": "stream",
     "text": [
      "Current Monte Carlo Sample size: 300\n",
      "[[ 1.          0.81887636 -0.1420311  -0.59264714]\n",
      " [ 0.81887636  1.         -0.01932459 -0.40756053]\n",
      " [-0.1420311  -0.01932459  1.          0.45403242]\n",
      " [-0.59264714 -0.40756053  0.45403242  1.        ]]\n",
      "Step: 3: current parameter_diff: 15.555062095927141, current marginal loglikelihood: -612.2252613327645\n",
      "EM Iteration 4\n"
     ]
    },
    {
     "name": "stderr",
     "output_type": "stream",
     "text": [
      "c:\\Users\\Jesper\\anaconda3\\lib\\site-packages\\scipy\\stats\\_qmc.py:2039: UserWarning: The balance properties of Sobol' points require n to be a power of 2.\n",
      "  samples = self.engine.random(n)\n"
     ]
    },
    {
     "name": "stdout",
     "output_type": "stream",
     "text": [
      "Current Monte Carlo Sample size: 300\n",
      "[[ 1.          0.74090966 -0.00383049  0.00430589]\n",
      " [ 0.74090966  1.         -0.01009287  0.00334693]\n",
      " [-0.00383049 -0.01009287  1.          0.45371259]\n",
      " [ 0.00430589  0.00334693  0.45371259  1.        ]]\n",
      "Step: 4: current parameter_diff: 10.491243299047362, current marginal loglikelihood: -650.2749123225431\n",
      "EM Iteration 5\n"
     ]
    },
    {
     "name": "stderr",
     "output_type": "stream",
     "text": [
      "c:\\Users\\Jesper\\anaconda3\\lib\\site-packages\\scipy\\stats\\_qmc.py:2039: UserWarning: The balance properties of Sobol' points require n to be a power of 2.\n",
      "  samples = self.engine.random(n)\n"
     ]
    },
    {
     "name": "stdout",
     "output_type": "stream",
     "text": [
      "Current Monte Carlo Sample size: 330\n",
      "[[ 1.          0.59792553 -0.0112015   0.00279998]\n",
      " [ 0.59792553  1.         -0.03036666  0.00394515]\n",
      " [-0.0112015  -0.03036666  1.          0.45850903]\n",
      " [ 0.00279998  0.00394515  0.45850903  1.        ]]\n",
      "Step: 5: current parameter_diff: 7.76600676596887, current marginal loglikelihood: -623.9061495031484\n",
      "EM Iteration 6\n"
     ]
    },
    {
     "name": "stderr",
     "output_type": "stream",
     "text": [
      "c:\\Users\\Jesper\\anaconda3\\lib\\site-packages\\scipy\\stats\\_qmc.py:2039: UserWarning: The balance properties of Sobol' points require n to be a power of 2.\n",
      "  samples = self.engine.random(n)\n"
     ]
    },
    {
     "name": "stdout",
     "output_type": "stream",
     "text": [
      "Current Monte Carlo Sample size: 330\n",
      "[[ 1.          0.55970516 -0.01171242  0.0036797 ]\n",
      " [ 0.55970516  1.         -0.02085476  0.00431296]\n",
      " [-0.01171242 -0.02085476  1.          0.46362038]\n",
      " [ 0.0036797   0.00431296  0.46362038  1.        ]]\n",
      "Step: 6: current parameter_diff: 8.20751053109426, current marginal loglikelihood: -608.1981693917003\n",
      "EM Iteration 7\n"
     ]
    },
    {
     "name": "stderr",
     "output_type": "stream",
     "text": [
      "c:\\Users\\Jesper\\anaconda3\\lib\\site-packages\\scipy\\stats\\_qmc.py:2039: UserWarning: The balance properties of Sobol' points require n to be a power of 2.\n",
      "  samples = self.engine.random(n)\n"
     ]
    },
    {
     "name": "stdout",
     "output_type": "stream",
     "text": [
      "Current Monte Carlo Sample size: 363\n",
      "[[ 1.          0.54230128 -0.01183442  0.00497574]\n",
      " [ 0.54230128  1.         -0.0169334   0.00717411]\n",
      " [-0.01183442 -0.0169334   1.          0.4646378 ]\n",
      " [ 0.00497574  0.00717411  0.4646378   1.        ]]\n",
      "Step: 7: current parameter_diff: 6.529645200169024, current marginal loglikelihood: -604.9508290503901\n",
      "EM Iteration 8\n"
     ]
    },
    {
     "name": "stderr",
     "output_type": "stream",
     "text": [
      "c:\\Users\\Jesper\\anaconda3\\lib\\site-packages\\scipy\\stats\\_qmc.py:2039: UserWarning: The balance properties of Sobol' points require n to be a power of 2.\n",
      "  samples = self.engine.random(n)\n"
     ]
    },
    {
     "name": "stdout",
     "output_type": "stream",
     "text": [
      "Current Monte Carlo Sample size: 399\n",
      "[[ 1.          0.52224121 -0.01721617  0.00503479]\n",
      " [ 0.52224121  1.         -0.02765274  0.01324341]\n",
      " [-0.01721617 -0.02765274  1.          0.46858081]\n",
      " [ 0.00503479  0.01324341  0.46858081  1.        ]]\n",
      "Step: 8: current parameter_diff: 5.80347220652474, current marginal loglikelihood: -603.620051706708\n",
      "EM Iteration 9\n"
     ]
    },
    {
     "name": "stderr",
     "output_type": "stream",
     "text": [
      "c:\\Users\\Jesper\\anaconda3\\lib\\site-packages\\scipy\\stats\\_qmc.py:2039: UserWarning: The balance properties of Sobol' points require n to be a power of 2.\n",
      "  samples = self.engine.random(n)\n"
     ]
    },
    {
     "name": "stdout",
     "output_type": "stream",
     "text": [
      "Current Monte Carlo Sample size: 438\n",
      "[[ 1.          0.50966719 -0.02183752  0.00902751]\n",
      " [ 0.50966719  1.         -0.02275904  0.01609026]\n",
      " [-0.02183752 -0.02275904  1.          0.46866271]\n",
      " [ 0.00902751  0.01609026  0.46866271  1.        ]]\n",
      "Step: 9: current parameter_diff: 5.8378801535574185, current marginal loglikelihood: -604.2404167308396\n",
      "Absolute diff in A:\n",
      "[[0.         0.80344231]\n",
      " [0.         4.13879405]\n",
      " [0.         0.27644279]\n",
      " [3.39324945 0.        ]\n",
      " [0.150637   0.        ]\n",
      " [4.00087102 0.        ]\n",
      " [0.74299714 3.84030949]\n",
      " [4.03003536 8.10677524]\n",
      " [0.7411907  0.63593611]\n",
      " [1.22197219 0.73820266]\n",
      " [0.10620747 0.59396636]\n",
      " [0.10515612 0.24688364]]\n",
      "Absolute diff in delta:\n",
      "[0.22614238 0.56879634 0.01372905 1.41856228 0.20709465 0.76056328\n",
      " 1.0853827  2.50566111 0.72912215 0.32730986 0.32901371 0.06036327]\n"
     ]
    }
   ],
   "source": [
    "experiment_1_1 = lambda: mirt_simulation_experiment(sample_size=100, item_dimension=12, latent_dimension=2,\n",
    "                                            q_type=\"full\", stop_threshold=5, person_method=\"BFGS\",\n",
    "                                            sigma_constraint=\"unconstrained\")\n",
    "result_dict = repeat_mirt_experiment(experiment_1_1, 5)"
   ]
  },
  {
   "cell_type": "code",
   "execution_count": 10,
   "metadata": {},
   "outputs": [
    {
     "name": "stdout",
     "output_type": "stream",
     "text": [
      "------------------------------------\n",
      "##### Results for Fixed predicting latent traits\n",
      "Latent dimension: 2.0,  Item dimension: 12.0, sample size 100.0 \\\n",
      "Early runtime: 5.48 seconds, 7.8 steps, 0.7 seconds per step \\\n",
      "Late runtime: 33.24 seconds, 7.8 steps, 4.26 seconds per step \\\n",
      "Early Marginal Likelihood, Optimal: -590.71, Estimated: -573.04, Initial -649.19 \\\n",
      "Late Marginal Likelihood, Optimal: -565.36, Estimated: -559.47, Initial -688.11\n",
      "| method     |   early_A |   early_delta |   early_sigma |   late_A |   late_delta |   late_sigma |      psi |\n",
      "|:-----------|----------:|--------------:|--------------:|---------:|-------------:|-------------:|---------:|\n",
      "| difference |   1.52948 |      0.807743 |     0.0871014 |  2.02    |      1.23511 |    0.0856405 | 0.243637 |\n",
      "| initial    |   2.96698 |      0.637575 |     0.0940452 |  3.24131 |      1.25781 |    0.111299  | 0.268682 |\n",
      "| late_em    |   1.69855 |      0.854881 |     0.0973686 |  1.92978 |      1.47481 |    0.256425  | 0.27908  |\n",
      "| real_early | nan       |    nan        |   nan         |  1.99216 |      1.45952 |    0.106816  | 0.37032  |\n",
      "####\n",
      "Performance on Individual Level \\\n",
      "rmse theta: 0.5021597170192849 \\\n",
      "rmse gain: 0.7528205967928837\n"
     ]
    }
   ],
   "source": [
    "result_df = get_result_df(result_dict)\n",
    "print_result_from_df(result_df, description=\"Fixed predicting latent traits\")"
   ]
  },
  {
   "cell_type": "markdown",
   "metadata": {},
   "source": [
    "\n",
    "------------------------------------\n",
    "##### Results for Monte Carlo sample varying through ttest with normal MC\n",
    "Latent dimension: 1,  Item dimension: 20, sample size 1000 \\\n",
    "Runtime: 37.86 seconds, 20 steps, 1.89 seconds per step \\\n",
    "Optimal marginal Likelihood: -8714.19, Estimated: -8697.21, Initial -9512.15\n",
    "|               |   rmse_A |   rmse_delta |   rmse_sigma |\n",
    "|:--------------|---------:|-------------:|-------------:|\n",
    "| estimated     | 0.182642 |     0.211132 |            0 |\n",
    "| early_initial | 1.69549  |     1.49975  |            0 |\n",
    "| girth         | 0.313235 |     4.2295   |            0 |\n",
    "\n",
    "------------------------------------\n",
    "##### Results for Unsafe Q-Item\n",
    "Latent dimension: 2.0,  Item dimension: 12.0, sample size 100.0 \\\n",
    "Early runtime: 2.83 seconds, 6.666666666666667 steps, 0.42 seconds per step \\\n",
    "Late runtime: 89.06 seconds, 8.0 steps, 11.13 seconds per step \\\n",
    "Early Marginal Likelihood, Optimal: -588.95, Estimated: -577.35, Initial -651.28 \\\n",
    "Late Marginal Likelihood, Optimal: -503.73, Estimated: -493.19, Initial -594.28\n",
    "| method   |   early_A |   early_delta |   early_sigma |   late_A |   late_delta |   late_sigma |      psi |\n",
    "|:---------|----------:|--------------:|--------------:|---------:|-------------:|-------------:|---------:|\n",
    "| initial  |  2.45062  |      0.659433 |     0.221324  |  4.21137 |      1.32515 |    0.0867149 | 0.329417 |\n",
    "| late_em  |  0.962137 |      0.589822 |     0.0997021 |  2.94637 |      1.26479 |    0.119171  | 0.280201 |\n",
    "\n",
    "\n",
    "------------------------------------\n",
    "##### Results for Safe Q-Item with fixed Q-Matrix usage\n",
    "Latent dimension: 2.0,  Item dimension: 12.0, sample size 100.0 \\\n",
    "Early runtime: 3.61 seconds, 7.8 steps, 0.46 seconds per step \\\n",
    "Late runtime: 59.49 seconds, 10.4 steps, 5.72 seconds per step \\\n",
    "Early Marginal Likelihood, Optimal: -582.92, Estimated: -569.96, Initial -644.32 \\\n",
    "Late Marginal Likelihood, Optimal: -578.6, Estimated: -558.43, Initial -706.82\n",
    "| method   |   early_A |   early_delta |   early_sigma |   late_A |   late_delta |   late_sigma |      psi |\n",
    "|:---------|----------:|--------------:|--------------:|---------:|-------------:|-------------:|---------:|\n",
    "| initial  |   2.88087 |      0.517633 |      0.182391 |  3.17101 |      1.1477  |     0.161164 | 0.26501  |\n",
    "| late_em  |   1.16439 |      0.584869 |      0.112529 |  3.46094 |      2.04145 |     0.172379 | 0.268391 |\n",
    "####\n",
    "\n",
    "------------------------------------\n",
    "##### Results for Additional real-early baseline\n",
    "Latent dimension: 2.0,  Item dimension: 12.0, sample size 100.0 \\\n",
    "Early runtime: 3.41 seconds, 7.6 steps, 0.45 seconds per step \\\n",
    "Late runtime: 53.02 seconds, 9.4 steps, 5.64 seconds per step \\\n",
    "Early Marginal Likelihood, Optimal: -583.55, Estimated: -572.67, Initial -646.06 \\\n",
    "Late Marginal Likelihood, Optimal: -589.58, Estimated: -569.92, Initial -744.68\n",
    "| method     |   early_A |   early_delta |   early_sigma |   late_A |   late_delta |   late_sigma |      psi |\n",
    "|:-----------|----------:|--------------:|--------------:|---------:|-------------:|-------------:|---------:|\n",
    "| difference |   1.3934  |      0.440782 |     0.10789   |  2.67044 |      5.93286 |     0.497026 | 0.488744 |\n",
    "| initial    |   2.88641 |      0.521309 |     0.195614  |  3.11633 |      1.21088 |     0.180157 | 0.201638 |\n",
    "| late_em    |   1.39654 |      0.431537 |     0.0970151 |  3.62865 |      3.70721 |     0.212556 | 0.238202 |\n",
    "| real_early | nan       |    nan        |   nan         |  1.88592 |      1.78127 |     0.155295 | 0.287462 |\n",
    "####\n",
    "\n",
    "------------------------------------\n",
    "##### Results for Additional real-early baseline\n",
    "Latent dimension: 2.0,  Item dimension: 12.0, sample size 100.0 \\\n",
    "Early runtime: 3.9 seconds, 7.8 steps, 0.5 seconds per step \\\n",
    "Late runtime: 47.23 seconds, 9.2 steps, 5.13 seconds per step \\\n",
    "Early Marginal Likelihood, Optimal: -567.07, Estimated: -554.35, Initial -643.82 \\\n",
    "Late Marginal Likelihood, Optimal: -606.14, Estimated: -580.97, Initial -732.21\n",
    "| method     |   early_A |   early_delta |   early_sigma |   late_A |   late_delta |   late_sigma |      psi |\n",
    "|:-----------|----------:|--------------:|--------------:|---------:|-------------:|-------------:|---------:|\n",
    "| difference |   1.27303 |      0.816239 |      0.113363 |  2.59347 |      4.81423 |     0.403711 | 0.570877 |\n",
    "| initial    |   2.98315 |      0.565456 |      0.191513 |  2.77793 |      1.33573 |     0.162804 | 0.321497 |\n",
    "| late_em    |   1.18451 |      0.822633 |      0.111398 |  2.68928 |      2.2549  |     0.160683 | 0.309943 |\n",
    "| real_early | nan       |    nan        |    nan        |  2.16151 |      1.63829 |     0.171389 | 0.334537 |\n",
    "####\n",
    "\n",
    "------------------------------------\n",
    "##### Results for Fixed predicting latent traits\n",
    "Latent dimension: 2.0,  Item dimension: 12.0, sample size 100.0 \\\n",
    "Early runtime: 4.24 seconds, 8.6 steps, 0.49 seconds per step \\\n",
    "Late runtime: 42.91 seconds, 8.8 steps, 4.88 seconds per step \\\n",
    "Early Marginal Likelihood, Optimal: -542.31, Estimated: -535.07, Initial -624.32 \\\n",
    "Late Marginal Likelihood, Optimal: -616.66, Estimated: -609.14, Initial -779.98\n",
    "| method     |   early_A |   early_delta |   early_sigma |   late_A |   late_delta |   late_sigma |      psi |\n",
    "|:-----------|----------:|--------------:|--------------:|---------:|-------------:|-------------:|---------:|\n",
    "| difference |   1.31683 |      0.727365 |     0.0819637 |  2.81163 |      6.04203 |    0.0979097 | 0.607177 |\n",
    "| initial    |   3.17144 |      0.593239 |     0.208215  |  2.84086 |      1.19559 |    0.201808  | 0.299464 |\n",
    "| late_em    |   1.38044 |      0.681315 |     0.167655  |  2.30619 |      2.3331  |    0.298597  | 0.228804 |\n",
    "| real_early | nan       |    nan        |   nan         |  2.82787 |      2.31606 |    0.162536  | 0.307249 |\n",
    "####\n",
    "Performance on Individual Level \\\n",
    "rmse theta: 0.5383205034871745 \\\n",
    "rmse gain: 0.8237588915191916"
   ]
  },
  {
   "cell_type": "code",
   "execution_count": 12,
   "metadata": {},
   "outputs": [
    {
     "name": "stdout",
     "output_type": "stream",
     "text": [
      "Real latent covariance: [[1.     0.1921]\n",
      " [0.1921 1.    ]]\n",
      "Covariance matrix is good: True\n",
      "EM Iteration 2\n"
     ]
    },
    {
     "name": "stderr",
     "output_type": "stream",
     "text": [
      "c:\\Users\\Jesper\\Anaconda3\\lib\\site-packages\\scipy\\stats\\_qmc.py:2039: UserWarning: The balance properties of Sobol' points require n to be a power of 2.\n",
      "  samples = self.engine.random(n)\n"
     ]
    },
    {
     "name": "stdout",
     "output_type": "stream",
     "text": [
      "Current Monte Carlo Sample size: 300\n",
      "Step: 2: current parameter_diff: 9.087457477954748, current marginal loglikelihood: -12789.826209045792\n",
      "EM Iteration 3\n",
      "Current Monte Carlo Sample size: 300\n",
      "Step: 3: current parameter_diff: 9.347286786290436, current marginal loglikelihood: -12431.792159340152\n",
      "EM Iteration 4\n",
      "Current Monte Carlo Sample size: 300\n",
      "Step: 4: current parameter_diff: 5.994195183510891, current marginal loglikelihood: -12324.415808814525\n",
      "EM Iteration 5\n",
      "Current Monte Carlo Sample size: 330\n",
      "Step: 5: current parameter_diff: 3.466965558217997, current marginal loglikelihood: -12291.666326556195\n",
      "EM Iteration 6\n",
      "Current Monte Carlo Sample size: 363\n",
      "Step: 6: current parameter_diff: 3.0517259450824583, current marginal loglikelihood: -12274.293408739399\n",
      "EM Iteration 7\n",
      "Current Monte Carlo Sample size: 399\n",
      "Step: 7: current parameter_diff: 1.6828800520798761, current marginal loglikelihood: -12268.44295499595\n",
      "EM Iteration 8\n",
      "Current Monte Carlo Sample size: 438\n",
      "Step: 8: current parameter_diff: 1.5472995648012011, current marginal loglikelihood: -12266.741491100976\n",
      "EM Iteration 9\n",
      "Current Monte Carlo Sample size: 481\n",
      "Step: 9: current parameter_diff: 0.9405471813539303, current marginal loglikelihood: -12257.26354486137\n",
      "EM Iteration 10\n",
      "Current Monte Carlo Sample size: 529\n",
      "Step: 10: current parameter_diff: 0.5530337635868852, current marginal loglikelihood: -12254.874420202255\n",
      "EM Iteration 11\n",
      "Current Monte Carlo Sample size: 581\n",
      "Step: 11: current parameter_diff: 0.9182088621850061, current marginal loglikelihood: -12252.639608779638\n",
      "EM Iteration 12\n",
      "Current Monte Carlo Sample size: 581\n",
      "Step: 12: current parameter_diff: 0.6457048580426479, current marginal loglikelihood: -12250.319820728353\n",
      "EM Iteration 13\n",
      "Current Monte Carlo Sample size: 581\n"
     ]
    },
    {
     "name": "stderr",
     "output_type": "stream",
     "text": [
      "c:\\Users\\Jesper\\Documents\\GitHub\\Knowledge-Growth-Prediction\\em_algorithm\\e_step_mirt_2pl.py:264: RuntimeWarning: divide by zero encountered in log\n",
      "  icc_values), r_item_theta) + np.multiply(np.log(1-icc_values), np.subtract(r_0_theta, r_item_theta))\n"
     ]
    },
    {
     "name": "stdout",
     "output_type": "stream",
     "text": [
      "Step: 13: current parameter_diff: 0.40565533319178126, current marginal loglikelihood: -12248.475980359144\n",
      "EM Iteration 14\n",
      "Current Monte Carlo Sample size: 581\n",
      "Step: 14: current parameter_diff: 0.3981727860081429, current marginal loglikelihood: -12251.628743992456\n",
      "EM Iteration 15\n",
      "Current Monte Carlo Sample size: 639\n",
      "Step: 15: current parameter_diff: 0.3759899463682548, current marginal loglikelihood: -12251.09622265484\n",
      "EM Iteration 16\n",
      "Current Monte Carlo Sample size: 702\n",
      "Step: 16: current parameter_diff: 0.07730277535592268, current marginal loglikelihood: -12250.114423241039\n",
      "EM Iteration 17\n",
      "Current Monte Carlo Sample size: 772\n",
      "Step: 17: current parameter_diff: 0.35397135818851444, current marginal loglikelihood: -12249.62312895641\n",
      "Absolute diff in A:\n",
      "[[ 0.14141196  0.        ]\n",
      " [ 0.14652275  0.        ]\n",
      " [ 0.24777834  0.        ]\n",
      " [ 0.39441549  0.        ]\n",
      " [ 0.12016762  0.        ]\n",
      " [ 0.32373102  0.        ]\n",
      " [ 2.04123377  0.        ]\n",
      " [ 0.07098307  0.        ]\n",
      " [ 0.06713308  0.        ]\n",
      " [ 0.          0.20182688]\n",
      " [ 0.          0.62813809]\n",
      " [ 0.          0.09920095]\n",
      " [ 0.          0.01945836]\n",
      " [ 0.          0.18659965]\n",
      " [ 0.          0.15575047]\n",
      " [ 0.          0.08789252]\n",
      " [ 0.          1.4778765 ]\n",
      " [ 0.          0.04189966]\n",
      " [ 0.         10.97192658]\n",
      " [ 0.          0.01780647]]\n",
      "Absolute diff in delta:\n",
      "[0.11951806 0.01624619 0.00828051 0.00229788 0.03779432 0.12022373\n",
      " 0.3486814  0.00835183 0.058682   0.13972121 0.09226136 0.03582283\n",
      " 0.07487817 0.05699409 0.08076706 0.08706214 0.40613611 0.01579479\n",
      " 1.00325414 0.03622401]\n",
      "Absolute diff in sigma:\n",
      "[[0.     0.0592]\n",
      " [0.0592 0.    ]]\n",
      "Absolute diff in A:\n",
      "[[ 1.36526825  0.        ]\n",
      " [ 1.11545869  0.        ]\n",
      " [ 1.73464119  0.        ]\n",
      " [ 1.36717029  0.        ]\n",
      " [ 0.86321887  0.        ]\n",
      " [ 1.3189492   0.        ]\n",
      " [ 7.95629842  0.        ]\n",
      " [ 0.25893288  0.        ]\n",
      " [ 0.90547762  0.        ]\n",
      " [ 0.          3.59522736]\n",
      " [ 0.          1.62115369]\n",
      " [ 0.          0.60013944]\n",
      " [ 0.          0.69561718]\n",
      " [ 0.          3.18601677]\n",
      " [ 0.          0.67271571]\n",
      " [ 0.          0.01684306]\n",
      " [ 0.          2.47056086]\n",
      " [ 0.          2.57133627]\n",
      " [ 0.         11.96739471]\n",
      " [ 0.          0.77011617]]\n",
      "Absolute diff in delta:\n",
      "[0.06091239 0.02035124 0.864845   0.03297919 0.0250019  0.13604297\n",
      " 1.95588372 0.02782104 0.03300903 2.77138941 0.09108795 0.05574691\n",
      " 0.08273561 0.12214658 0.05284058 0.0228591  0.39977876 0.28998553\n",
      " 1.02811303 0.1957758 ]\n",
      "Absolute diff in sigma:\n",
      "[[0.     0.3079]\n",
      " [0.3079 0.    ]]\n"
     ]
    }
   ],
   "source": [
    "performance_dict = mirt_param_recovery(sample_size=1000, item_dimension=20, latent_dimension=2, q_type=\"seperated\", girth=False, stop_threshold=1)"
   ]
  },
  {
   "cell_type": "code",
   "execution_count": 13,
   "metadata": {},
   "outputs": [
    {
     "name": "stdout",
     "output_type": "stream",
     "text": [
      "------------------------------------\n",
      "##### Results for Fixed Issue with simulation Covariance\n",
      "Latent dimension: 2,  Item dimension: 20, sample size 1000 \\\n",
      "Runtime: 51.07 seconds, 18 steps, 2.84 seconds per step \\\n",
      "Optimal marginal Likelihood: -11670.7, Estimated: -12247.32, Initial -13560.2\n",
      "|               |   rmse_A |   rmse_delta |   rmse_sigma |\n",
      "|:--------------|---------:|-------------:|-------------:|\n",
      "| estimated     |  1.78631 |     0.262764 |    0.0418607 |\n",
      "| early_initial |  2.54062 |     0.826317 |    0.217718  |\n"
     ]
    }
   ],
   "source": [
    "print_result(performance_dict, \"Fixed Issue with simulation Covariance\")"
   ]
  },
  {
   "cell_type": "markdown",
   "metadata": {},
   "source": [
    "------------------------------------\n",
    "##### Results for Seperated Q-Matrix\n",
    "Latent dimension: 2,  Item dimension: 20, sample size 1000 \\\n",
    "Runtime: 142.07 seconds, 26 steps, 5.46 seconds per step \\\n",
    "Optimal marginal Likelihood: -9384.38, Estimated: -10189.47, Initial -11459.9\n",
    "|               |   rmse_A |   rmse_delta |   rmse_sigma |\n",
    "|:--------------|---------:|-------------:|-------------:|\n",
    "| estimated     |  4.00013 |      3.10678 |    0.0201383 |\n",
    "| early_initial |  4.5183  |      2.5846  |    0.165491  |\n",
    "\n",
    "------------------------------------\n",
    "##### Results for BFGS for Q_0 with approximate Jacobi\n",
    "Latent dimension: 2,  Item dimension: 20, sample size 1000 \\\n",
    "Runtime: 61.55 seconds, 12 steps, 5.13 seconds per step \\\n",
    "Optimal marginal Likelihood: -9363.89, Estimated: -9711.58, Initial -10528.79\n",
    "|               |   rmse_A |   rmse_delta |   rmse_sigma |\n",
    "|:--------------|---------:|-------------:|-------------:|\n",
    "| estimated     |  3.02507 |      1.83482 |    0.0645047 |\n",
    "| early_initial |  2.06432 |      2.18337 |    0.289049  |\n",
    "\n",
    "------------------------------------\n",
    "##### Results for Monte Carlo sample varying through ttest\n",
    "Latent dimension: 2,  Item dimension: 20, sample size 1000 \\\n",
    "Runtime: 325.73 seconds, 42 steps, 7.76 seconds per step \\\n",
    "Optimal marginal Likelihood: -9929.77, Estimated: -10179.96, Initial -10767.41\n",
    "|               |   rmse_A |   rmse_delta |   rmse_sigma |\n",
    "|:--------------|---------:|-------------:|-------------:|\n",
    "| estimated     |  1.25777 |     0.965894 |   0.00557421 |\n",
    "| early_initial |  1.98812 |     1.68516  |   0.719705   |\n",
    "\n",
    "------------------------------------\n",
    "##### Results for Fixed random Covariance 1, girth included\n",
    "Latent dimension: 2,  Item dimension: 20, sample size 1000 \\\n",
    "Runtime: 57.16 seconds, 14 steps, 4.08 seconds per step \\\n",
    "Optimal marginal Likelihood: -11668.66, Estimated: -11672.6, Initial -12307.41\n",
    "|               |   rmse_A |   rmse_delta |   rmse_sigma |\n",
    "|:--------------|---------:|-------------:|-------------:|\n",
    "| estimated     | 0.183251 |    0.0861252 |    0.0215108 |\n",
    "| early_initial | 0.786712 |    0.393667  |    0.0471788 |\n",
    "| girth         | 1.28298  |    0.263374  |    0.350541  |\n",
    "\n",
    "------------------------------------\n",
    "##### Results for Fixed Issue with simulation Covariance\n",
    "Latent dimension: 2,  Item dimension: 20, sample size 1000 \\\n",
    "Runtime: 24.71 seconds, 11 steps, 2.25 seconds per step \\\n",
    "Optimal marginal Likelihood: -11186.38, Estimated: -11389.57, Initial -12010.77\n",
    "|               |   rmse_A |   rmse_delta |   rmse_sigma |\n",
    "|:--------------|---------:|-------------:|-------------:|\n",
    "| estimated     |  1.83766 |      1.4664  |    0.0743169 |\n",
    "| early_initial |  2.7041  |      2.66224 |    0.0627911 |"
   ]
  },
  {
   "cell_type": "code",
   "execution_count": 16,
   "metadata": {},
   "outputs": [
    {
     "name": "stdout",
     "output_type": "stream",
     "text": [
      "Real latent covariance: [[1.     0.5392 0.4093]\n",
      " [0.5392 1.     0.5406]\n",
      " [0.4093 0.5406 1.    ]]\n",
      "Covariance matrix is good: True\n",
      "EM Iteration 2\n"
     ]
    },
    {
     "name": "stderr",
     "output_type": "stream",
     "text": [
      "c:\\Users\\Jesper\\Anaconda3\\lib\\site-packages\\scipy\\stats\\_qmc.py:2039: UserWarning: The balance properties of Sobol' points require n to be a power of 2.\n",
      "  samples = self.engine.random(n)\n"
     ]
    },
    {
     "name": "stdout",
     "output_type": "stream",
     "text": [
      "Current Monte Carlo Sample size: 600\n"
     ]
    },
    {
     "name": "stderr",
     "output_type": "stream",
     "text": [
      "c:\\Users\\Jesper\\Documents\\GitHub\\Knowledge-Growth-Prediction\\em_algorithm\\e_step_mirt_2pl.py:198: RuntimeWarning: divide by zero encountered in log\n",
      "  factor = np.log(self.model.latent_density(theta, sigma=sigma))\n",
      "c:\\Users\\Jesper\\Documents\\GitHub\\Knowledge-Growth-Prediction\\em_algorithm\\e_step_mirt_2pl.py:198: RuntimeWarning: divide by zero encountered in log\n",
      "  factor = np.log(self.model.latent_density(theta, sigma=sigma))\n"
     ]
    },
    {
     "name": "stdout",
     "output_type": "stream",
     "text": [
      "[[1.         0.22255116 0.4851635 ]\n",
      " [0.22255116 1.         0.28710379]\n",
      " [0.4851635  0.28710379 1.        ]]\n",
      "Step: 2: current parameter_diff: 22.836966115835242, current marginal loglikelihood: -11263.404209075177\n",
      "EM Iteration 3\n"
     ]
    },
    {
     "name": "stderr",
     "output_type": "stream",
     "text": [
      "c:\\Users\\Jesper\\Anaconda3\\lib\\site-packages\\scipy\\stats\\_qmc.py:2039: UserWarning: The balance properties of Sobol' points require n to be a power of 2.\n",
      "  samples = self.engine.random(n)\n"
     ]
    },
    {
     "name": "stdout",
     "output_type": "stream",
     "text": [
      "Current Monte Carlo Sample size: 600\n",
      "[[1.         0.03209561 0.46728994]\n",
      " [0.03209561 1.         0.18680867]\n",
      " [0.46728994 0.18680867 1.        ]]\n",
      "Step: 3: current parameter_diff: 12.765040130244333, current marginal loglikelihood: -11025.095432664773\n",
      "EM Iteration 4\n"
     ]
    },
    {
     "name": "stderr",
     "output_type": "stream",
     "text": [
      "c:\\Users\\Jesper\\Anaconda3\\lib\\site-packages\\scipy\\stats\\_qmc.py:2039: UserWarning: The balance properties of Sobol' points require n to be a power of 2.\n",
      "  samples = self.engine.random(n)\n"
     ]
    },
    {
     "name": "stdout",
     "output_type": "stream",
     "text": [
      "Current Monte Carlo Sample size: 660\n",
      "[[ 1.         -0.12237363  0.46206731]\n",
      " [-0.12237363  1.          0.13165586]\n",
      " [ 0.46206731  0.13165586  1.        ]]\n",
      "Step: 4: current parameter_diff: 11.082485951986573, current marginal loglikelihood: -10917.861640370744\n",
      "EM Iteration 5\n"
     ]
    },
    {
     "name": "stderr",
     "output_type": "stream",
     "text": [
      "c:\\Users\\Jesper\\Anaconda3\\lib\\site-packages\\scipy\\stats\\_qmc.py:2039: UserWarning: The balance properties of Sobol' points require n to be a power of 2.\n",
      "  samples = self.engine.random(n)\n"
     ]
    },
    {
     "name": "stdout",
     "output_type": "stream",
     "text": [
      "Current Monte Carlo Sample size: 726\n",
      "[[ 1.         -0.13268712  0.46966192]\n",
      " [-0.13268712  1.          0.07677147]\n",
      " [ 0.46966192  0.07677147  1.        ]]\n",
      "Step: 5: current parameter_diff: 5.054700187758239, current marginal loglikelihood: -10871.624165962843\n",
      "EM Iteration 6\n"
     ]
    },
    {
     "name": "stderr",
     "output_type": "stream",
     "text": [
      "c:\\Users\\Jesper\\Anaconda3\\lib\\site-packages\\scipy\\stats\\_qmc.py:2039: UserWarning: The balance properties of Sobol' points require n to be a power of 2.\n",
      "  samples = self.engine.random(n)\n"
     ]
    },
    {
     "name": "stdout",
     "output_type": "stream",
     "text": [
      "Current Monte Carlo Sample size: 798\n",
      "[[ 1.         -0.15335902  0.48429796]\n",
      " [-0.15335902  1.          0.00857838]\n",
      " [ 0.48429796  0.00857838  1.        ]]\n",
      "Step: 6: current parameter_diff: 7.350049766942949, current marginal loglikelihood: -10846.63925009043\n",
      "EM Iteration 7\n"
     ]
    },
    {
     "name": "stderr",
     "output_type": "stream",
     "text": [
      "c:\\Users\\Jesper\\Anaconda3\\lib\\site-packages\\scipy\\stats\\_qmc.py:2039: UserWarning: The balance properties of Sobol' points require n to be a power of 2.\n",
      "  samples = self.engine.random(n)\n"
     ]
    },
    {
     "name": "stdout",
     "output_type": "stream",
     "text": [
      "Current Monte Carlo Sample size: 877\n",
      "[[ 1.         -0.18130942  0.49736388]\n",
      " [-0.18130942  1.         -0.04688012]\n",
      " [ 0.49736388 -0.04688012  1.        ]]\n",
      "Step: 7: current parameter_diff: 4.21590743744123, current marginal loglikelihood: -10830.644137405307\n",
      "EM Iteration 8\n"
     ]
    },
    {
     "name": "stderr",
     "output_type": "stream",
     "text": [
      "c:\\Users\\Jesper\\Anaconda3\\lib\\site-packages\\scipy\\stats\\_qmc.py:2039: UserWarning: The balance properties of Sobol' points require n to be a power of 2.\n",
      "  samples = self.engine.random(n)\n"
     ]
    },
    {
     "name": "stdout",
     "output_type": "stream",
     "text": [
      "Current Monte Carlo Sample size: 964\n",
      "[[ 1.         -0.15152568  0.50240847]\n",
      " [-0.15152568  1.         -0.07665482]\n",
      " [ 0.50240847 -0.07665482  1.        ]]\n"
     ]
    },
    {
     "name": "stderr",
     "output_type": "stream",
     "text": [
      "c:\\Users\\Jesper\\Documents\\GitHub\\Knowledge-Growth-Prediction\\em_algorithm\\e_step_mirt_2pl.py:264: RuntimeWarning: divide by zero encountered in log\n",
      "  icc_values), r_item_theta) + np.multiply(np.log(1-icc_values), np.subtract(r_0_theta, r_item_theta))\n",
      "c:\\Users\\Jesper\\Documents\\GitHub\\Knowledge-Growth-Prediction\\em_algorithm\\e_step_mirt_2pl.py:264: RuntimeWarning: invalid value encountered in multiply\n",
      "  icc_values), r_item_theta) + np.multiply(np.log(1-icc_values), np.subtract(r_0_theta, r_item_theta))\n",
      "c:\\Users\\Jesper\\Documents\\GitHub\\Knowledge-Growth-Prediction\\em_algorithm\\m_step_mirt_2pl.py:70: RuntimeWarning: overflow encountered in exp\n",
      "  population = random.choices(population=population_base, weights=np.exp(\n"
     ]
    }
   ],
   "source": [
    "performance_dict = mirt_param_recovery(sample_size=1000, item_dimension=20, latent_dimension=3, q_type=\"pyramid\", girth=False, stop_threshold=10, ensure_id=True, q_share=0.6)"
   ]
  },
  {
   "cell_type": "code",
   "execution_count": 8,
   "metadata": {},
   "outputs": [
    {
     "ename": "NameError",
     "evalue": "name 'performance_dict' is not defined",
     "output_type": "error",
     "traceback": [
      "\u001b[1;31m---------------------------------------------------------------------------\u001b[0m",
      "\u001b[1;31mNameError\u001b[0m                                 Traceback (most recent call last)",
      "\u001b[1;32mc:\\Users\\Jesper\\Documents\\GitHub\\Knowledge-Growth-Prediction\\simulation_experiments.ipynb Zelle 21\u001b[0m in \u001b[0;36m<cell line: 1>\u001b[1;34m()\u001b[0m\n\u001b[1;32m----> <a href='vscode-notebook-cell:/c%3A/Users/Jesper/Documents/GitHub/Knowledge-Growth-Prediction/simulation_experiments.ipynb#X26sZmlsZQ%3D%3D?line=0'>1</a>\u001b[0m print_result(performance_dict, \u001b[39m\"\u001b[39m\u001b[39mWith Covariance Matrix partially aligned to Q-matrix\u001b[39m\u001b[39m\"\u001b[39m)\n",
      "\u001b[1;31mNameError\u001b[0m: name 'performance_dict' is not defined"
     ]
    }
   ],
   "source": [
    "print_result(performance_dict, \"With Covariance Matrix partially aligned to Q-matrix\")"
   ]
  },
  {
   "cell_type": "markdown",
   "metadata": {},
   "source": [
    "------------------------------------\n",
    "##### Results for Pyramid Q-Matrix\n",
    "Latent dimension: 3,  Item dimension: 20, sample size 200 \\\n",
    "Runtime: 121.22 seconds, 46 steps, 2.64 seconds per step \\\n",
    "Optimal marginal Likelihood: -2144.15, Estimated: -2155.08, Initial -2699.63\n",
    "|               |   rmse_A |   rmse_delta |   rmse_sigma |\n",
    "|:--------------|---------:|-------------:|-------------:|\n",
    "| estimated     |  11.0034 |      1.77461 |     0.889828 |\n",
    "| early_initial |  10.5116 |      2.15986 |     0.522199 |\n",
    "\n",
    "------------------------------------\n",
    "##### Results for Pyramid Q-Matrix\n",
    "Latent dimension: 3,  Item dimension: 20, sample size 1000 \\\n",
    "Runtime: 313.22 seconds, 51 steps, 6.14 seconds per step \\\n",
    "Optimal marginal Likelihood: -9452.24, Estimated: -9813.87, Initial -11216.48\n",
    "|               |   rmse_A |   rmse_delta |   rmse_sigma |\n",
    "|:--------------|---------:|-------------:|-------------:|\n",
    "| estimated     |  5.34115 |      1.4068  |     0.425982 |\n",
    "| early_initial |  5.98238 |      2.25109 |     0.234288 |\n",
    "\n",
    "------------------------------------\n",
    "##### Results for Pyramid Q-Matrix\n",
    "Latent dimension: 3,  Item dimension: 30, sample size 2000 \\\n",
    "Runtime: 1521.51 seconds, 76 steps, 20.02 seconds per step \\\n",
    "Optimal marginal Likelihood: -30844.13, Estimated: -32521.34, Initial -37390.6\n",
    "|               |   rmse_A |   rmse_delta |   rmse_sigma |\n",
    "|:--------------|---------:|-------------:|-------------:|\n",
    "| estimated     |  2.55959 |       1.9952 |    0.314331  |\n",
    "| early_initial |  3.32034 |       3.514  |    0.0239562 |\n",
    "\n",
    "------------------------------------\n",
    "##### Results for BFGS for Q_0 with approximated gradient\n",
    "Latent dimension: 3,  Item dimension: 20, sample size 1000 \\\n",
    "Runtime: 350.28 seconds, 64 steps, 5.47 seconds per step \\\n",
    "Optimal marginal Likelihood: -10498.87, Estimated: -11303.0, Initial -12740.14\n",
    "|               |   rmse_A |   rmse_delta |   rmse_sigma |\n",
    "|:--------------|---------:|-------------:|-------------:|\n",
    "| estimated     |  10.2704 |     0.68597  |    0.318713  |\n",
    "| early_initial |  10.4626 |     0.846172 |    0.0895367 |\n",
    "\n",
    "------------------------------------\n",
    "##### Results for BFGS for Q_0 with exact gradient\n",
    "Latent dimension: 3,  Item dimension: 20, sample size 1000 \\\n",
    "Runtime: 152.91 seconds, 31 steps, 4.93 seconds per step \\\n",
    "Optimal marginal Likelihood: -11106.69, Estimated: -11211.51, Initial -12370.23\n",
    "|               |   rmse_A |   rmse_delta |   rmse_sigma |\n",
    "|:--------------|---------:|-------------:|-------------:|\n",
    "| estimated     |  3.5074  |      2.54509 |     0.21123  |\n",
    "| early_initial |  3.51819 |      2.66313 |     0.319647 |\n",
    "\n",
    "------------------------------------\n",
    "##### Results for Newton-Raphson for Q_0 with approximated second derivative\n",
    "Latent dimension: 3,  Item dimension: 20, sample size 1000 \\\n",
    "Runtime: 352.93 seconds, 62 steps, 5.69 seconds per step \\\n",
    "Optimal marginal Likelihood: -10237.22, Estimated: -10482.36, Initial -12569.49\n",
    "|               |   rmse_A |   rmse_delta |   rmse_sigma |\n",
    "|:--------------|---------:|-------------:|-------------:|\n",
    "| estimated     |  5.23694 |      2.45127 |     0.508499 |\n",
    "| early_initial |  5.36172 |      3.29141 |     0.640209 |"
   ]
  },
  {
   "cell_type": "code",
   "execution_count": 13,
   "metadata": {},
   "outputs": [
    {
     "name": "stdout",
     "output_type": "stream",
     "text": [
      "Real latent covariance: [[1.     0.     0.2545]\n",
      " [0.     1.     0.3721]\n",
      " [0.2545 0.3721 1.    ]]\n",
      "Covariance matrix is good: True\n",
      "EM Iteration 2\n"
     ]
    },
    {
     "name": "stderr",
     "output_type": "stream",
     "text": [
      "c:\\Users\\Jesper\\Anaconda3\\lib\\site-packages\\scipy\\stats\\_qmc.py:2039: UserWarning: The balance properties of Sobol' points require n to be a power of 2.\n",
      "  samples = self.engine.random(n)\n"
     ]
    },
    {
     "name": "stdout",
     "output_type": "stream",
     "text": [
      "Current Monte Carlo Sample size: 600\n"
     ]
    },
    {
     "name": "stderr",
     "output_type": "stream",
     "text": [
      "c:\\Users\\Jesper\\Anaconda3\\lib\\site-packages\\scipy\\optimize\\_numdiff.py:576: RuntimeWarning: invalid value encountered in subtract\n",
      "  df = fun(x) - f0\n"
     ]
    },
    {
     "name": "stdout",
     "output_type": "stream",
     "text": [
      "[[nan nan nan]\n",
      " [nan nan nan]\n",
      " [nan nan nan]]\n",
      "[[nan nan nan]\n",
      " [nan nan nan]\n",
      " [nan nan nan]]\n",
      "Invalid Covariance encountered, trying last step covariance\n",
      "Step: 2: current parameter_diff: 41.855085339761395, current marginal loglikelihood: -12550.72345228223\n",
      "EM Iteration 3\n",
      "Current Monte Carlo Sample size: 660\n",
      "[[nan nan nan]\n",
      " [nan nan nan]\n",
      " [nan nan nan]]\n",
      "[[nan nan nan]\n",
      " [nan nan nan]\n",
      " [nan nan nan]]\n",
      "Invalid Covariance encountered, trying last step covariance\n",
      "Step: 3: current parameter_diff: 28.922785136715092, current marginal loglikelihood: -12131.893852917503\n",
      "EM Iteration 4\n",
      "Current Monte Carlo Sample size: 660\n",
      "[[ 1.00000000e+000 -7.56483606e-249 -7.12199634e-243]\n",
      " [-7.56483606e-249  1.00000000e+000 -1.46994029e-260]\n",
      " [-7.12199634e-243 -1.46994029e-260  1.00000000e+000]]\n"
     ]
    },
    {
     "name": "stderr",
     "output_type": "stream",
     "text": [
      "c:\\Users\\Jesper\\Documents\\GitHub\\Knowledge-Growth-Prediction\\em_algorithm\\e_step_mirt_2pl.py:264: RuntimeWarning: divide by zero encountered in log\n",
      "  icc_values), r_item_theta) + np.multiply(np.log(1-icc_values), np.subtract(r_0_theta, r_item_theta))\n",
      "c:\\Users\\Jesper\\Documents\\GitHub\\Knowledge-Growth-Prediction\\em_algorithm\\e_step_mirt_2pl.py:264: RuntimeWarning: invalid value encountered in multiply\n",
      "  icc_values), r_item_theta) + np.multiply(np.log(1-icc_values), np.subtract(r_0_theta, r_item_theta))\n"
     ]
    },
    {
     "name": "stdout",
     "output_type": "stream",
     "text": [
      "Step: 4: current parameter_diff: 24.909956480277785, current marginal loglikelihood: -11869.365012663717\n",
      "EM Iteration 5\n",
      "Current Monte Carlo Sample size: 660\n",
      "[[1.         0.07473132 0.19983603]\n",
      " [0.07473132 1.         0.24058055]\n",
      " [0.19983603 0.24058055 1.        ]]\n",
      "Step: 5: current parameter_diff: 20.731814136925763, current marginal loglikelihood: -11739.105149945846\n",
      "EM Iteration 6\n",
      "Current Monte Carlo Sample size: 660\n",
      "[[1.         0.02395303 0.25925938]\n",
      " [0.02395303 1.         0.26711545]\n",
      " [0.25925938 0.26711545 1.        ]]\n",
      "Step: 6: current parameter_diff: 6.423400003338906, current marginal loglikelihood: -11720.71525563623\n",
      "EM Iteration 7\n",
      "Current Monte Carlo Sample size: 726\n",
      "[[1.         0.02766565 0.2770886 ]\n",
      " [0.02766565 1.         0.30801604]\n",
      " [0.2770886  0.30801604 1.        ]]\n",
      "Step: 7: current parameter_diff: 5.599935651052099, current marginal loglikelihood: -11726.261698793634\n",
      "EM Iteration 8\n",
      "Current Monte Carlo Sample size: 798\n",
      "[[1.         0.03611896 0.29298871]\n",
      " [0.03611896 1.         0.33452034]\n",
      " [0.29298871 0.33452034 1.        ]]\n"
     ]
    },
    {
     "name": "stderr",
     "output_type": "stream",
     "text": [
      "c:\\Users\\Jesper\\Documents\\GitHub\\Knowledge-Growth-Prediction\\em_algorithm\\m_step_mirt_2pl.py:70: RuntimeWarning: overflow encountered in exp\n",
      "  population = random.choices(population=population_base, weights=np.exp(\n"
     ]
    },
    {
     "name": "stdout",
     "output_type": "stream",
     "text": [
      "Step: 8: current parameter_diff: 8.88763105930743, current marginal loglikelihood: -11739.130271363902\n",
      "EM Iteration 9\n",
      "Current Monte Carlo Sample size: 877\n",
      "[[1.         0.04450944 0.2860444 ]\n",
      " [0.04450944 1.         0.34325432]\n",
      " [0.2860444  0.34325432 1.        ]]\n",
      "Step: 9: current parameter_diff: 6.972349751947515, current marginal loglikelihood: -11721.612152810394\n",
      "EM Iteration 10\n",
      "Current Monte Carlo Sample size: 964\n",
      "[[1.         0.04267512 0.28987184]\n",
      " [0.04267512 1.         0.33339445]\n",
      " [0.28987184 0.33339445 1.        ]]\n",
      "Step: 10: current parameter_diff: 13.349635834760017, current marginal loglikelihood: -11712.217814439908\n",
      "EM Iteration 11\n",
      "Current Monte Carlo Sample size: 1060\n",
      "[[1.         0.05402791 0.27611641]\n",
      " [0.05402791 1.         0.32730623]\n",
      " [0.27611641 0.32730623 1.        ]]\n",
      "Step: 11: current parameter_diff: 13.121900001706786, current marginal loglikelihood: -11752.478352914124\n",
      "EM Iteration 12\n",
      "Current Monte Carlo Sample size: 1166\n",
      "[[1.         0.03472167 0.29289335]\n",
      " [0.03472167 1.         0.31423842]\n",
      " [0.29289335 0.31423842 1.        ]]\n",
      "Step: 12: current parameter_diff: 12.92705941994013, current marginal loglikelihood: -11773.525002062834\n",
      "EM Iteration 13\n",
      "Current Monte Carlo Sample size: 1282\n",
      "[[1.         0.04206202 0.28354236]\n",
      " [0.04206202 1.         0.34677087]\n",
      " [0.28354236 0.34677087 1.        ]]\n",
      "Step: 13: current parameter_diff: 14.069785350523503, current marginal loglikelihood: -11888.973247891026\n",
      "EM Iteration 14\n",
      "Current Monte Carlo Sample size: 1282\n",
      "[[1.         0.04470603 0.30510719]\n",
      " [0.04470603 1.         0.31712275]\n",
      " [0.30510719 0.31712275 1.        ]]\n",
      "Step: 14: current parameter_diff: 12.996930583013478, current marginal loglikelihood: -11919.620612639617\n",
      "EM Iteration 15\n",
      "Current Monte Carlo Sample size: 1410\n",
      "[[1.         0.03289506 0.31780259]\n",
      " [0.03289506 1.         0.33049459]\n",
      " [0.31780259 0.33049459 1.        ]]\n",
      "Step: 15: current parameter_diff: 12.407788859306613, current marginal loglikelihood: -11918.172775706451\n",
      "EM Iteration 16\n",
      "Current Monte Carlo Sample size: 1551\n",
      "[[1.         0.03358675 0.32117101]\n",
      " [0.03358675 1.         0.34333722]\n",
      " [0.32117101 0.34333722 1.        ]]\n",
      "Step: 16: current parameter_diff: 15.80893260174836, current marginal loglikelihood: -12160.280411491387\n",
      "EM Iteration 17\n",
      "Current Monte Carlo Sample size: 1706\n",
      "[[1.         0.03828454 0.3173103 ]\n",
      " [0.03828454 1.         0.37550231]\n",
      " [0.3173103  0.37550231 1.        ]]\n",
      "Step: 17: current parameter_diff: 17.733213121984406, current marginal loglikelihood: -12120.335550218635\n",
      "EM Iteration 18\n",
      "Current Monte Carlo Sample size: 1706\n",
      "[[1.         0.03947006 0.30946325]\n",
      " [0.03947006 1.         0.42371964]\n",
      " [0.30946325 0.42371964 1.        ]]\n",
      "Step: 18: current parameter_diff: 16.20566266842648, current marginal loglikelihood: -12159.97257104385\n",
      "EM Iteration 19\n",
      "Current Monte Carlo Sample size: 1876\n",
      "[[1.         0.05036364 0.315018  ]\n",
      " [0.05036364 1.         0.45976397]\n",
      " [0.315018   0.45976397 1.        ]]\n",
      "Step: 19: current parameter_diff: 17.15942650707747, current marginal loglikelihood: -12319.975242536013\n",
      "EM Iteration 20\n",
      "Current Monte Carlo Sample size: 2063\n",
      "[[1.         0.05564366 0.33809592]\n",
      " [0.05564366 1.         0.46824847]\n",
      " [0.33809592 0.46824847 1.        ]]\n",
      "Step: 20: current parameter_diff: 16.691893000641358, current marginal loglikelihood: -12259.903212209978\n",
      "EM Iteration 21\n",
      "Current Monte Carlo Sample size: 2269\n",
      "[[1.         0.08912059 0.32975034]\n",
      " [0.08912059 1.         0.45420422]\n",
      " [0.32975034 0.45420422 1.        ]]\n",
      "Step: 21: current parameter_diff: 23.66059479399594, current marginal loglikelihood: -12604.479047689154\n",
      "EM Iteration 22\n",
      "Current Monte Carlo Sample size: 2495\n",
      "[[1.         0.08254014 0.32608357]\n",
      " [0.08254014 1.         0.47241503]\n",
      " [0.32608357 0.47241503 1.        ]]\n",
      "Step: 22: current parameter_diff: 20.38471152818203, current marginal loglikelihood: -12431.250915065328\n",
      "EM Iteration 23\n",
      "Current Monte Carlo Sample size: 2744\n",
      "[[1.         0.08504754 0.3504352 ]\n",
      " [0.08504754 1.         0.49784505]\n",
      " [0.3504352  0.49784505 1.        ]]\n",
      "Step: 23: current parameter_diff: 24.10400754464389, current marginal loglikelihood: -12276.607911791718\n",
      "EM Iteration 24\n",
      "Current Monte Carlo Sample size: 3018\n",
      "[[1.         0.10774412 0.35177853]\n",
      " [0.10774412 1.         0.45853182]\n",
      " [0.35177853 0.45853182 1.        ]]\n",
      "Step: 24: current parameter_diff: 22.541689707305267, current marginal loglikelihood: -12489.193570693122\n",
      "EM Iteration 25\n",
      "Current Monte Carlo Sample size: 3319\n",
      "[[1.         0.10661726 0.34589446]\n",
      " [0.10661726 1.         0.41512853]\n",
      " [0.34589446 0.41512853 1.        ]]\n",
      "Step: 25: current parameter_diff: 25.243161391043913, current marginal loglikelihood: -12530.126933447274\n",
      "EM Iteration 26\n",
      "Current Monte Carlo Sample size: 3650\n",
      "[[1.         0.05332288 0.32572397]\n",
      " [0.05332288 1.         0.32202492]\n",
      " [0.32572397 0.32202492 1.        ]]\n",
      "Step: 26: current parameter_diff: 22.217647900015496, current marginal loglikelihood: -12327.542608689702\n",
      "EM Iteration 27\n",
      "Current Monte Carlo Sample size: 4015\n",
      "[[1.         0.04531018 0.29629237]\n",
      " [0.04531018 1.         0.3749033 ]\n",
      " [0.29629237 0.3749033  1.        ]]\n",
      "Step: 27: current parameter_diff: 24.456232729238387, current marginal loglikelihood: -12569.487190457674\n",
      "EM Iteration 28\n",
      "Current Monte Carlo Sample size: 4015\n",
      "[[1.         0.0664822  0.2553332 ]\n",
      " [0.0664822  1.         0.32259075]\n",
      " [0.2553332  0.32259075 1.        ]]\n",
      "Step: 28: current parameter_diff: 21.160665319248636, current marginal loglikelihood: -12482.746614190011\n",
      "EM Iteration 29\n",
      "Current Monte Carlo Sample size: 4416\n",
      "[[1.         0.08727014 0.22960587]\n",
      " [0.08727014 1.         0.33549268]\n",
      " [0.22960587 0.33549268 1.        ]]\n",
      "Step: 29: current parameter_diff: 24.144751376772238, current marginal loglikelihood: -12540.769966653768\n",
      "EM Iteration 30\n",
      "Current Monte Carlo Sample size: 4857\n",
      "[[1.         0.0830018  0.20951295]\n",
      " [0.0830018  1.         0.32728332]\n",
      " [0.20951295 0.32728332 1.        ]]\n",
      "Step: 30: current parameter_diff: 18.567347369526907, current marginal loglikelihood: -12605.802540473838\n",
      "EM Iteration 31\n",
      "Current Monte Carlo Sample size: 5342\n",
      "[[1.         0.10384263 0.19035454]\n",
      " [0.10384263 1.         0.33995062]\n",
      " [0.19035454 0.33995062 1.        ]]\n",
      "Step: 31: current parameter_diff: 18.27550659381697, current marginal loglikelihood: -12488.402669715779\n",
      "EM Iteration 32\n",
      "Current Monte Carlo Sample size: 5876\n",
      "[[1.         0.09216813 0.16231849]\n",
      " [0.09216813 1.         0.34736474]\n",
      " [0.16231849 0.34736474 1.        ]]\n",
      "Step: 32: current parameter_diff: 18.659892839891487, current marginal loglikelihood: -12963.804592738707\n",
      "EM Iteration 33\n",
      "Current Monte Carlo Sample size: 6463\n",
      "[[1.         0.08934729 0.16282502]\n",
      " [0.08934729 1.         0.3309664 ]\n",
      " [0.16282502 0.3309664  1.        ]]\n",
      "Step: 33: current parameter_diff: 23.50586764065138, current marginal loglikelihood: -13510.649271026294\n",
      "EM Iteration 34\n",
      "Current Monte Carlo Sample size: 7109\n",
      "[[1.         0.08710583 0.15552528]\n",
      " [0.08710583 1.         0.29611591]\n",
      " [0.15552528 0.29611591 1.        ]]\n",
      "Step: 34: current parameter_diff: 21.960943064628275, current marginal loglikelihood: -13944.259625971496\n",
      "EM Iteration 35\n",
      "Current Monte Carlo Sample size: 7109\n",
      "[[1.         0.07793025 0.16516396]\n",
      " [0.07793025 1.         0.36413403]\n",
      " [0.16516396 0.36413403 1.        ]]\n",
      "Step: 35: current parameter_diff: 27.121295291247954, current marginal loglikelihood: -13503.312147530629\n",
      "EM Iteration 36\n",
      "Current Monte Carlo Sample size: 7819\n",
      "[[1.         0.10383503 0.15573248]\n",
      " [0.10383503 1.         0.38227496]\n",
      " [0.15573248 0.38227496 1.        ]]\n",
      "Step: 36: current parameter_diff: 20.49072253096319, current marginal loglikelihood: -13457.903630401384\n",
      "EM Iteration 37\n",
      "Current Monte Carlo Sample size: 8600\n",
      "[[1.         0.0952063  0.1697639 ]\n",
      " [0.0952063  1.         0.46301737]\n",
      " [0.1697639  0.46301737 1.        ]]\n",
      "Step: 37: current parameter_diff: 27.90481089780214, current marginal loglikelihood: -12706.910698711592\n",
      "EM Iteration 38\n",
      "Current Monte Carlo Sample size: 9460\n",
      "[[1.         0.11529993 0.26172741]\n",
      " [0.11529993 1.         0.55011103]\n",
      " [0.26172741 0.55011103 1.        ]]\n",
      "Step: 38: current parameter_diff: 25.492536506460198, current marginal loglikelihood: -12568.140485448821\n",
      "EM Iteration 39\n",
      "Current Monte Carlo Sample size: 10406\n",
      "[[1.         0.10827926 0.31252693]\n",
      " [0.10827926 1.         0.47192521]\n",
      " [0.31252693 0.47192521 1.        ]]\n",
      "Step: 39: current parameter_diff: 23.39773718705719, current marginal loglikelihood: -12458.470015244868\n",
      "EM Iteration 40\n",
      "Current Monte Carlo Sample size: 11446\n",
      "[[1.         0.08448759 0.34971178]\n",
      " [0.08448759 1.         0.4185697 ]\n",
      " [0.34971178 0.4185697  1.        ]]\n",
      "Step: 40: current parameter_diff: 25.01324472722742, current marginal loglikelihood: -12669.061288880423\n",
      "EM Iteration 41\n",
      "Current Monte Carlo Sample size: 12590\n",
      "[[ 1.00000000e+000 -2.61463218e-102 -1.08935164e-109]\n",
      " [-2.61463218e-102  1.00000000e+000 -4.18362278e-029]\n",
      " [-1.08935164e-109 -4.18362278e-029  1.00000000e+000]]\n",
      "Step: 41: current parameter_diff: 21.568233132762924, current marginal loglikelihood: -12849.955625780705\n",
      "EM Iteration 42\n",
      "Current Monte Carlo Sample size: 13849\n"
     ]
    },
    {
     "ename": "KeyboardInterrupt",
     "evalue": "",
     "output_type": "error",
     "traceback": [
      "\u001b[1;31m---------------------------------------------------------------------------\u001b[0m",
      "\u001b[1;31mKeyboardInterrupt\u001b[0m                         Traceback (most recent call last)",
      "\u001b[1;32mc:\\Users\\Jesper\\Documents\\GitHub\\Knowledge-Growth-Prediction\\simulation_experiments.ipynb Zelle 23\u001b[0m in \u001b[0;36m<cell line: 1>\u001b[1;34m()\u001b[0m\n\u001b[1;32m----> <a href='vscode-notebook-cell:/c%3A/Users/Jesper/Documents/GitHub/Knowledge-Growth-Prediction/simulation_experiments.ipynb#X31sZmlsZQ%3D%3D?line=0'>1</a>\u001b[0m performance_dict \u001b[39m=\u001b[39m mirt_param_recovery(sample_size\u001b[39m=\u001b[39;49m\u001b[39m1000\u001b[39;49m, item_dimension\u001b[39m=\u001b[39;49m\u001b[39m30\u001b[39;49m, latent_dimension\u001b[39m=\u001b[39;49m\u001b[39m3\u001b[39;49m, q_type\u001b[39m=\u001b[39;49m\u001b[39m\"\u001b[39;49m\u001b[39mfull\u001b[39;49m\u001b[39m\"\u001b[39;49m, girth\u001b[39m=\u001b[39;49m\u001b[39mFalse\u001b[39;49;00m, stop_threshold\u001b[39m=\u001b[39;49m\u001b[39m10\u001b[39;49m, q_share\u001b[39m=\u001b[39;49m\u001b[39m0.0\u001b[39;49m)\n",
      "\u001b[1;32mc:\\Users\\Jesper\\Documents\\GitHub\\Knowledge-Growth-Prediction\\simulation_experiments.ipynb Zelle 23\u001b[0m in \u001b[0;36mmirt_param_recovery\u001b[1;34m(sample_size, item_dimension, latent_dimension, q_type, girth, stop_threshold, ensure_id, q_share)\u001b[0m\n\u001b[0;32m     <a href='vscode-notebook-cell:/c%3A/Users/Jesper/Documents/GitHub/Knowledge-Growth-Prediction/simulation_experiments.ipynb#X31sZmlsZQ%3D%3D?line=32'>33</a>\u001b[0m \u001b[39m#Fit Model\u001b[39;00m\n\u001b[0;32m     <a href='vscode-notebook-cell:/c%3A/Users/Jesper/Documents/GitHub/Knowledge-Growth-Prediction/simulation_experiments.ipynb#X31sZmlsZQ%3D%3D?line=33'>34</a>\u001b[0m start_time \u001b[39m=\u001b[39m time\u001b[39m.\u001b[39mtime()\n\u001b[1;32m---> <a href='vscode-notebook-cell:/c%3A/Users/Jesper/Documents/GitHub/Knowledge-Growth-Prediction/simulation_experiments.ipynb#X31sZmlsZQ%3D%3D?line=34'>35</a>\u001b[0m em\u001b[39m.\u001b[39;49mfit(sample[\u001b[39m\"\u001b[39;49m\u001b[39mearly_responses\u001b[39;49m\u001b[39m\"\u001b[39;49m], max_iter\u001b[39m=\u001b[39;49m\u001b[39m100\u001b[39;49m, stop_threshold\u001b[39m=\u001b[39;49mstop_threshold)\n\u001b[0;32m     <a href='vscode-notebook-cell:/c%3A/Users/Jesper/Documents/GitHub/Knowledge-Growth-Prediction/simulation_experiments.ipynb#X31sZmlsZQ%3D%3D?line=35'>36</a>\u001b[0m run_time \u001b[39m=\u001b[39m  (time\u001b[39m.\u001b[39mtime() \u001b[39m-\u001b[39m start_time)\n\u001b[0;32m     <a href='vscode-notebook-cell:/c%3A/Users/Jesper/Documents/GitHub/Knowledge-Growth-Prediction/simulation_experiments.ipynb#X31sZmlsZQ%3D%3D?line=37'>38</a>\u001b[0m \u001b[39m#Measure Performance\u001b[39;00m\n",
      "File \u001b[1;32mc:\\Users\\Jesper\\Documents\\GitHub\\Knowledge-Growth-Prediction\\em_algorithm\\em_algorithm.py:43\u001b[0m, in \u001b[0;36mem_algorithm.fit\u001b[1;34m(self, data, hyper_params, max_iter, stop_threshold)\u001b[0m\n\u001b[0;32m     41\u001b[0m last_step_marginal_loglikelihood \u001b[39m=\u001b[39m marginal_loglikelihood\u001b[39m.\u001b[39mcopy()\n\u001b[0;32m     42\u001b[0m \u001b[39m# print(\"E-step\")\u001b[39;00m\n\u001b[1;32m---> 43\u001b[0m posterior_expectation \u001b[39m=\u001b[39m \u001b[39mself\u001b[39;49m\u001b[39m.\u001b[39;49me_step\u001b[39m.\u001b[39;49mstep(\n\u001b[0;32m     44\u001b[0m     response_data\u001b[39m=\u001b[39;49mdata, \u001b[39miter\u001b[39;49m\u001b[39m=\u001b[39;49mi)\n\u001b[0;32m     45\u001b[0m \u001b[39m# print(\"M-step\")\u001b[39;00m\n\u001b[0;32m     46\u001b[0m current_parameters, log_likelihood \u001b[39m=\u001b[39m \u001b[39mself\u001b[39m\u001b[39m.\u001b[39mm_step\u001b[39m.\u001b[39mstep(\n\u001b[0;32m     47\u001b[0m     pe_functions\u001b[39m=\u001b[39mposterior_expectation)\n",
      "File \u001b[1;32mc:\\Users\\Jesper\\Documents\\GitHub\\Knowledge-Growth-Prediction\\em_algorithm\\e_step_mirt_2pl.py:97\u001b[0m, in \u001b[0;36me_step_ga_mml.step\u001b[1;34m(self, response_data, current_item_parameters, current_person_parameters, iter)\u001b[0m\n\u001b[0;32m     94\u001b[0m \u001b[39mprint\u001b[39m(\u001b[39m\"\u001b[39m\u001b[39mCurrent Monte Carlo Sample size: \u001b[39m\u001b[39m{0}\u001b[39;00m\u001b[39m\"\u001b[39m\u001b[39m.\u001b[39mformat(\u001b[39mself\u001b[39m\u001b[39m.\u001b[39mN))\n\u001b[0;32m     95\u001b[0m theta_sample \u001b[39m=\u001b[39m \u001b[39mself\u001b[39m\u001b[39m.\u001b[39mmodel\u001b[39m.\u001b[39msample_competency(\n\u001b[0;32m     96\u001b[0m     sample_size\u001b[39m=\u001b[39m\u001b[39mself\u001b[39m\u001b[39m.\u001b[39mN, qmc\u001b[39m=\u001b[39m\u001b[39mTrue\u001b[39;00m)\n\u001b[1;32m---> 97\u001b[0m \u001b[39mreturn\u001b[39;00m(\u001b[39mself\u001b[39;49m\u001b[39m.\u001b[39;49mprepare_q_functions(theta_sample, response_data, normalising_constant_array))\n",
      "File \u001b[1;32mc:\\Users\\Jesper\\Documents\\GitHub\\Knowledge-Growth-Prediction\\em_algorithm\\e_step_mirt_2pl.py:105\u001b[0m, in \u001b[0;36me_step_ga_mml.prepare_q_functions\u001b[1;34m(self, theta_sample, response_data, normalising_constant_array)\u001b[0m\n\u001b[0;32m    102\u001b[0m \u001b[39m# Calculate repeating inner functions\u001b[39;00m\n\u001b[0;32m    103\u001b[0m r_0_theta \u001b[39m=\u001b[39m \u001b[39mself\u001b[39m\u001b[39m.\u001b[39mr_0(\n\u001b[0;32m    104\u001b[0m     theta_sample, normalising_constant_array, response_data)\n\u001b[1;32m--> 105\u001b[0m r_item_theta_list \u001b[39m=\u001b[39m [\u001b[39mself\u001b[39m\u001b[39m.\u001b[39mr_item(item, theta_sample, normalising_constant_array, response_data)\n\u001b[0;32m    106\u001b[0m                      \u001b[39mfor\u001b[39;00m item \u001b[39min\u001b[39;00m \u001b[39mrange\u001b[39m(\u001b[39m0\u001b[39m, J)]\n\u001b[0;32m    107\u001b[0m \u001b[39m# Calculate final q-functions\u001b[39;00m\n\u001b[0;32m    108\u001b[0m q_0 \u001b[39m=\u001b[39m \u001b[39mself\u001b[39m\u001b[39m.\u001b[39mq_0(\n\u001b[0;32m    109\u001b[0m     theta\u001b[39m=\u001b[39mtheta_sample, normalising_constant_array\u001b[39m=\u001b[39mnormalising_constant_array, response_data\u001b[39m=\u001b[39mresponse_data)\n",
      "File \u001b[1;32mc:\\Users\\Jesper\\Documents\\GitHub\\Knowledge-Growth-Prediction\\em_algorithm\\e_step_mirt_2pl.py:105\u001b[0m, in \u001b[0;36m<listcomp>\u001b[1;34m(.0)\u001b[0m\n\u001b[0;32m    102\u001b[0m \u001b[39m# Calculate repeating inner functions\u001b[39;00m\n\u001b[0;32m    103\u001b[0m r_0_theta \u001b[39m=\u001b[39m \u001b[39mself\u001b[39m\u001b[39m.\u001b[39mr_0(\n\u001b[0;32m    104\u001b[0m     theta_sample, normalising_constant_array, response_data)\n\u001b[1;32m--> 105\u001b[0m r_item_theta_list \u001b[39m=\u001b[39m [\u001b[39mself\u001b[39;49m\u001b[39m.\u001b[39;49mr_item(item, theta_sample, normalising_constant_array, response_data)\n\u001b[0;32m    106\u001b[0m                      \u001b[39mfor\u001b[39;00m item \u001b[39min\u001b[39;00m \u001b[39mrange\u001b[39m(\u001b[39m0\u001b[39m, J)]\n\u001b[0;32m    107\u001b[0m \u001b[39m# Calculate final q-functions\u001b[39;00m\n\u001b[0;32m    108\u001b[0m q_0 \u001b[39m=\u001b[39m \u001b[39mself\u001b[39m\u001b[39m.\u001b[39mq_0(\n\u001b[0;32m    109\u001b[0m     theta\u001b[39m=\u001b[39mtheta_sample, normalising_constant_array\u001b[39m=\u001b[39mnormalising_constant_array, response_data\u001b[39m=\u001b[39mresponse_data)\n",
      "File \u001b[1;32mc:\\Users\\Jesper\\Documents\\GitHub\\Knowledge-Growth-Prediction\\em_algorithm\\e_step_mirt_2pl.py:182\u001b[0m, in \u001b[0;36me_step_ga_mml.r_item\u001b[1;34m(self, item, theta, normalising_constant_array, response_data)\u001b[0m\n\u001b[0;32m    181\u001b[0m \u001b[39mdef\u001b[39;00m \u001b[39mr_item\u001b[39m(\u001b[39mself\u001b[39m, item: \u001b[39mint\u001b[39m, theta: np\u001b[39m.\u001b[39marray, normalising_constant_array, response_data):\n\u001b[1;32m--> 182\u001b[0m     numerator \u001b[39m=\u001b[39m np\u001b[39m.\u001b[39marray(\u001b[39mself\u001b[39;49m\u001b[39m.\u001b[39;49mmodel\u001b[39m.\u001b[39;49mresponse_matrix_probability(\n\u001b[0;32m    183\u001b[0m         theta\u001b[39m=\u001b[39;49mtheta, response_matrix\u001b[39m=\u001b[39;49mresponse_data\u001b[39m.\u001b[39;49mto_numpy()))\n\u001b[0;32m    184\u001b[0m     \u001b[39m# This coefficient is different to r_0\u001b[39;00m\n\u001b[0;32m    185\u001b[0m     numerator \u001b[39m=\u001b[39m np\u001b[39m.\u001b[39mmultiply(\n\u001b[0;32m    186\u001b[0m         numerator, response_data\u001b[39m.\u001b[39miloc[:, item]\u001b[39m.\u001b[39mto_numpy()\u001b[39m.\u001b[39mtranspose())\n",
      "File \u001b[1;32mc:\\Users\\Jesper\\Documents\\GitHub\\Knowledge-Growth-Prediction\\models\\mirt_2pl.py:150\u001b[0m, in \u001b[0;36mmirt_2pl.response_matrix_probability\u001b[1;34m(self, theta, response_matrix, A, delta)\u001b[0m\n\u001b[0;32m    147\u001b[0m \u001b[39m# We want to apply each response vector to each competency-induced correct-response-probability\u001b[39;00m\n\u001b[0;32m    148\u001b[0m correct_response_probabilities \u001b[39m=\u001b[39m np\u001b[39m.\u001b[39mexpand_dims(\n\u001b[0;32m    149\u001b[0m     correct_response_probabilities, axis\u001b[39m=\u001b[39m\u001b[39m1\u001b[39m)\n\u001b[1;32m--> 150\u001b[0m probability_vector \u001b[39m=\u001b[39m np\u001b[39m.\u001b[39;49madd(np\u001b[39m.\u001b[39;49mmultiply(correct_response_probabilities, response_matrix),\n\u001b[0;32m    151\u001b[0m                             np\u001b[39m.\u001b[39;49mmultiply(np\u001b[39m.\u001b[39;49msubtract(\u001b[39m1\u001b[39;49m, correct_response_probabilities), np\u001b[39m.\u001b[39;49msubtract(\u001b[39m1\u001b[39;49m, response_matrix)))\n\u001b[0;32m    152\u001b[0m probability \u001b[39m=\u001b[39m np\u001b[39m.\u001b[39mprod(probability_vector, axis\u001b[39m=\u001b[39m\u001b[39m2\u001b[39m)\n\u001b[0;32m    153\u001b[0m \u001b[39mreturn\u001b[39;00m(probability)\n",
      "\u001b[1;31mKeyboardInterrupt\u001b[0m: "
     ]
    }
   ],
   "source": [
    "performance_dict = mirt_param_recovery(sample_size=1000, item_dimension=30, latent_dimension=3, q_type=\"full\", girth=False, stop_threshold=10, q_share=0.0)"
   ]
  },
  {
   "cell_type": "code",
   "execution_count": 12,
   "metadata": {},
   "outputs": [
    {
     "name": "stdout",
     "output_type": "stream",
     "text": [
      "------------------------------------\n",
      "##### Results for With fixed Discrimination sampling and BFGS\n",
      "Latent dimension: 3,  Item dimension: 20, sample size 1000 \\\n",
      "Runtime: 63.64 seconds, 14 steps, 4.55 seconds per step \\\n",
      "Optimal marginal Likelihood: -8684.81, Estimated: -8676.2, Initial -9809.83\n",
      "|               |   rmse_A |   rmse_delta |   rmse_sigma |\n",
      "|:--------------|---------:|-------------:|-------------:|\n",
      "| estimated     | 0.933735 |     0.514423 |    0.0383988 |\n",
      "| early_initial | 2.67536  |     0.636687 |    0.231996  |\n"
     ]
    }
   ],
   "source": [
    "print_result(performance_dict, \"With fixed Discrimination sampling and BFGS\")"
   ]
  },
  {
   "cell_type": "markdown",
   "metadata": {},
   "source": [
    "------------------------------------\n",
    "##### Results for With BFGS as covariance optimization Algorithm\n",
    "Latent dimension: 3,  Item dimension: 20, sample size 1000 \\\n",
    "Runtime: 160.7 seconds, 20 steps, 8.04 seconds per step \\\n",
    "Optimal marginal Likelihood: -11451.44, Estimated: -11746.37, Initial -12757.23\n",
    "|               |   rmse_A |   rmse_delta |   rmse_sigma |\n",
    "|:--------------|---------:|-------------:|-------------:|\n",
    "| estimated     |  4.12413 |      1.19297 |     0.539132 |\n",
    "| early_initial |  4.06187 |      1.22103 |     0.159225 |\n",
    "\n",
    "------------------------------------\n",
    "##### Results for With Cholesky covariance decomposition\n",
    "Latent dimension: 3,  Item dimension: 20, sample size 1000 \\\n",
    "Runtime: 60.82 seconds, 14 steps, 4.34 seconds per step \\\n",
    "Optimal marginal Likelihood: -11369.92, Estimated: -12102.54, Initial -13629.98\n",
    "|               |   rmse_A |   rmse_delta |   rmse_sigma |\n",
    "|:--------------|---------:|-------------:|-------------:|\n",
    "| estimated     |  2.47435 |     0.400838 |     0.181127 |\n",
    "| early_initial |  2.98819 |     0.686696 |     0.142997 |\n",
    "\n",
    "------------------------------------\n",
    "##### Results for With Cholesky covariance decomposition and BFGS\n",
    "Latent dimension: 3,  Item dimension: 30, sample size 1000 \\\n",
    "Runtime: 94.77 seconds, 12 steps, 7.9 seconds per step \\\n",
    "Optimal marginal Likelihood: -15960.47, Estimated: -17344.15, Initial -19786.45\n",
    "|               |   rmse_A |   rmse_delta |   rmse_sigma |\n",
    "|:--------------|---------:|-------------:|-------------:|\n",
    "| estimated     |  48.8803 |     0.777924 |     0.149531 |\n",
    "| early_initial |  49.0831 |     1.33755  |     0.207159 |\n",
    "\n",
    "------------------------------------\n",
    "##### Results for With fixed Discrimination sampling and BFGS\n",
    "Latent dimension: 3,  Item dimension: 30, sample size 1000 \\\n",
    "Runtime: 91.68 seconds, 12 steps, 7.64 seconds per step \\\n",
    "Optimal marginal Likelihood: -12149.74, Estimated: -12157.89, Initial -14965.74\n",
    "|               |   rmse_A |   rmse_delta |   rmse_sigma |\n",
    "|:--------------|---------:|-------------:|-------------:|\n",
    "| estimated     |  0.3929  |     0.249323 |    0.0275205 |\n",
    "| early_initial |  2.20296 |     0.582838 |    0.380006  |"
   ]
  },
  {
   "cell_type": "markdown",
   "metadata": {},
   "source": [
    "## Experiment 2: Competency Gain Prediction"
   ]
  }
 ],
 "metadata": {
  "kernelspec": {
   "display_name": "Python 3.8.5 ('base')",
   "language": "python",
   "name": "python3"
  },
  "language_info": {
   "codemirror_mode": {
    "name": "ipython",
    "version": 3
   },
   "file_extension": ".py",
   "mimetype": "text/x-python",
   "name": "python",
   "nbconvert_exporter": "python",
   "pygments_lexer": "ipython3",
   "version": "3.8.5"
  },
  "orig_nbformat": 4,
  "vscode": {
   "interpreter": {
    "hash": "f96c9f0abe66cee0a81d860b29e85a2729d567fff345231565bc586735399795"
   }
  }
 },
 "nbformat": 4,
 "nbformat_minor": 2
}
