{
 "cells": [
  {
   "cell_type": "code",
   "execution_count": 1,
   "metadata": {},
   "outputs": [
    {
     "name": "stdout",
     "output_type": "stream",
     "text": [
      "C:\\Users\\Jesper\\Documents\\GitHub\\Knowledge-Growth-Prediction\\models\n",
      "C:\\Users\\Jesper\\Documents\\GitHub\\Knowledge-Growth-Prediction\\models\n"
     ]
    }
   ],
   "source": [
    "import numpy as np\n",
    "from simulation_framework.item_response_simulation import item_response_simulation\n",
    "from simulation_framework.simulate_competency import respondent_population\n",
    "from simulation_framework.simulate_responses import response_simulation\n",
    "from scipy.stats import multivariate_normal\n",
    "import models\n",
    "import em_algorithm\n",
    "import pandas as pd\n",
    "import time\n",
    "from girth import multidimensional_twopl_mml\n",
    "from girth import twopl_mml\n",
    "import cma\n",
    "import scipy\n",
    "from simulation_experiment import mirt_simulation_experiment"
   ]
  },
  {
   "cell_type": "markdown",
   "metadata": {},
   "source": [
    "## Experiment 0: MIRT-2PL-Gain Performance Benchmark"
   ]
  },
  {
   "cell_type": "code",
   "execution_count": null,
   "metadata": {},
   "outputs": [
    {
     "name": "stdout",
     "output_type": "stream",
     "text": [
      "Real latent covariance: [[1.     0.3461 0.4861 0.1685]\n",
      " [0.3461 1.     0.0899 0.2117]\n",
      " [0.4861 0.0899 1.     0.1805]\n",
      " [0.1685 0.2117 0.1805 1.    ]]\n",
      "Covariance matrix is good: True\n",
      "EM Iteration 2\n",
      "Current Monte Carlo Sample size: 300\n"
     ]
    },
    {
     "name": "stderr",
     "output_type": "stream",
     "text": [
      "c:\\Users\\Jesper\\Anaconda3\\lib\\site-packages\\scipy\\stats\\_qmc.py:2039: UserWarning: The balance properties of Sobol' points require n to be a power of 2.\n",
      "  samples = self.engine.random(n)\n"
     ]
    },
    {
     "name": "stdout",
     "output_type": "stream",
     "text": [
      "[[1.         0.54027906]\n",
      " [0.54027906 1.        ]]\n",
      "Step: 2: current parameter_diff: 10.773158391210941, current marginal loglikelihood: -602.1963862654185\n",
      "EM Iteration 3\n",
      "Current Monte Carlo Sample size: 300\n",
      "[[1.         0.53554913]\n",
      " [0.53554913 1.        ]]\n"
     ]
    },
    {
     "name": "stderr",
     "output_type": "stream",
     "text": [
      "c:\\Users\\Jesper\\Anaconda3\\lib\\site-packages\\scipy\\stats\\_qmc.py:2039: UserWarning: The balance properties of Sobol' points require n to be a power of 2.\n",
      "  samples = self.engine.random(n)\n"
     ]
    },
    {
     "name": "stdout",
     "output_type": "stream",
     "text": [
      "Step: 3: current parameter_diff: 8.198550278652238, current marginal loglikelihood: -581.5782131187312\n",
      "EM Iteration 4\n",
      "Current Monte Carlo Sample size: 330\n",
      "[[1.         0.50841278]\n",
      " [0.50841278 1.        ]]\n"
     ]
    },
    {
     "name": "stderr",
     "output_type": "stream",
     "text": [
      "c:\\Users\\Jesper\\Anaconda3\\lib\\site-packages\\scipy\\stats\\_qmc.py:2039: UserWarning: The balance properties of Sobol' points require n to be a power of 2.\n",
      "  samples = self.engine.random(n)\n"
     ]
    },
    {
     "name": "stdout",
     "output_type": "stream",
     "text": [
      "Step: 4: current parameter_diff: 6.3578523918704715, current marginal loglikelihood: -577.5923203036756\n",
      "EM Iteration 5\n",
      "Current Monte Carlo Sample size: 363\n",
      "[[1.         0.45774925]\n",
      " [0.45774925 1.        ]]\n"
     ]
    },
    {
     "name": "stderr",
     "output_type": "stream",
     "text": [
      "c:\\Users\\Jesper\\Anaconda3\\lib\\site-packages\\scipy\\stats\\_qmc.py:2039: UserWarning: The balance properties of Sobol' points require n to be a power of 2.\n",
      "  samples = self.engine.random(n)\n"
     ]
    },
    {
     "name": "stdout",
     "output_type": "stream",
     "text": [
      "Step: 5: current parameter_diff: 4.018301567308508, current marginal loglikelihood: -574.3614915066956\n",
      "EM Iteration 6\n",
      "Current Monte Carlo Sample size: 399\n",
      "[[1.         0.40274909]\n",
      " [0.40274909 1.        ]]\n"
     ]
    },
    {
     "name": "stderr",
     "output_type": "stream",
     "text": [
      "c:\\Users\\Jesper\\Anaconda3\\lib\\site-packages\\scipy\\stats\\_qmc.py:2039: UserWarning: The balance properties of Sobol' points require n to be a power of 2.\n",
      "  samples = self.engine.random(n)\n"
     ]
    },
    {
     "name": "stdout",
     "output_type": "stream",
     "text": [
      "Step: 6: current parameter_diff: 4.090352620332388, current marginal loglikelihood: -571.5170621655635\n",
      "EM Iteration 2\n"
     ]
    },
    {
     "name": "stderr",
     "output_type": "stream",
     "text": [
      "c:\\Users\\Jesper\\Anaconda3\\lib\\site-packages\\scipy\\stats\\_qmc.py:2039: UserWarning: The balance properties of Sobol' points require n to be a power of 2.\n",
      "  samples = self.engine.random(n)\n"
     ]
    },
    {
     "name": "stdout",
     "output_type": "stream",
     "text": [
      "Current Monte Carlo Sample size: 300\n",
      "[[1.         0.43714628 0.51286339 0.4468891 ]\n",
      " [0.43714628 1.         0.49219882 0.41930319]\n",
      " [0.51286339 0.49219882 1.         0.42614712]\n",
      " [0.4468891  0.41930319 0.42614712 1.        ]]\n",
      "Step: 2: current parameter_diff: 23.54992023814513, current marginal loglikelihood: -591.883883546761\n",
      "EM Iteration 3\n"
     ]
    },
    {
     "name": "stderr",
     "output_type": "stream",
     "text": [
      "c:\\Users\\Jesper\\Anaconda3\\lib\\site-packages\\scipy\\stats\\_qmc.py:2039: UserWarning: The balance properties of Sobol' points require n to be a power of 2.\n",
      "  samples = self.engine.random(n)\n"
     ]
    },
    {
     "name": "stdout",
     "output_type": "stream",
     "text": [
      "Current Monte Carlo Sample size: 330\n",
      "[[1.         0.48970729 0.51092145 0.36237538]\n",
      " [0.48970729 1.         0.43548383 0.30311217]\n",
      " [0.51092145 0.43548383 1.         0.33741779]\n",
      " [0.36237538 0.30311217 0.33741779 1.        ]]\n",
      "Step: 3: current parameter_diff: 14.303129083438368, current marginal loglikelihood: -558.6004729328996\n",
      "EM Iteration 4\n"
     ]
    },
    {
     "name": "stderr",
     "output_type": "stream",
     "text": [
      "c:\\Users\\Jesper\\Anaconda3\\lib\\site-packages\\scipy\\stats\\_qmc.py:2039: UserWarning: The balance properties of Sobol' points require n to be a power of 2.\n",
      "  samples = self.engine.random(n)\n"
     ]
    },
    {
     "name": "stdout",
     "output_type": "stream",
     "text": [
      "Current Monte Carlo Sample size: 330\n",
      "[[1.         0.49430504 0.53556553 0.35535571]\n",
      " [0.49430504 1.         0.44293219 0.28810881]\n",
      " [0.53556553 0.44293219 1.         0.32923324]\n",
      " [0.35535571 0.28810881 0.32923324 1.        ]]\n"
     ]
    },
    {
     "name": "stderr",
     "output_type": "stream",
     "text": [
      "c:\\Users\\Jesper\\Documents\\GitHub\\Knowledge-Growth-Prediction\\em_algorithm\\e_step_mirt_2pl_gain.py:187: RuntimeWarning: divide by zero encountered in log\n",
      "  np.log(inv_icc), np.subtract(r_0, r_item))  # TODO: Make this save\n",
      "c:\\Users\\Jesper\\Documents\\GitHub\\Knowledge-Growth-Prediction\\em_algorithm\\e_step_mirt_2pl_gain.py:186: RuntimeWarning: invalid value encountered in multiply\n",
      "  log_likelihood_item = np.multiply(np.log(icc_values), r_item) + np.multiply(\n"
     ]
    },
    {
     "name": "stdout",
     "output_type": "stream",
     "text": [
      "Step: 4: current parameter_diff: 20.482178513919028, current marginal loglikelihood: -523.4276551977723\n",
      "EM Iteration 5\n"
     ]
    },
    {
     "name": "stderr",
     "output_type": "stream",
     "text": [
      "c:\\Users\\Jesper\\Anaconda3\\lib\\site-packages\\scipy\\stats\\_qmc.py:2039: UserWarning: The balance properties of Sobol' points require n to be a power of 2.\n",
      "  samples = self.engine.random(n)\n"
     ]
    },
    {
     "name": "stdout",
     "output_type": "stream",
     "text": [
      "Current Monte Carlo Sample size: 363\n",
      "[[1.         0.49909663 0.56311177 0.34883792]\n",
      " [0.49909663 1.         0.44667451 0.27158861]\n",
      " [0.56311177 0.44667451 1.         0.3193328 ]\n",
      " [0.34883792 0.27158861 0.3193328  1.        ]]\n"
     ]
    },
    {
     "name": "stderr",
     "output_type": "stream",
     "text": [
      "c:\\Users\\Jesper\\Documents\\GitHub\\Knowledge-Growth-Prediction\\em_algorithm\\e_step_mirt_2pl_gain.py:187: RuntimeWarning: divide by zero encountered in log\n",
      "  np.log(inv_icc), np.subtract(r_0, r_item))  # TODO: Make this save\n",
      "c:\\Users\\Jesper\\Documents\\GitHub\\Knowledge-Growth-Prediction\\em_algorithm\\e_step_mirt_2pl_gain.py:186: RuntimeWarning: invalid value encountered in multiply\n",
      "  log_likelihood_item = np.multiply(np.log(icc_values), r_item) + np.multiply(\n",
      "C:\\Users\\Jesper\\Documents\\GitHub\\Knowledge-Growth-Prediction\\em_algorithm\\m_step_mirt_2pl.py:71: RuntimeWarning: overflow encountered in exp\n",
      "  population = random.choices(population=population_base, weights=np.exp(\n"
     ]
    },
    {
     "name": "stdout",
     "output_type": "stream",
     "text": [
      "Step: 5: current parameter_diff: 15.546890362097948, current marginal loglikelihood: -515.2680817588941\n",
      "EM Iteration 6\n"
     ]
    },
    {
     "name": "stderr",
     "output_type": "stream",
     "text": [
      "c:\\Users\\Jesper\\Anaconda3\\lib\\site-packages\\scipy\\stats\\_qmc.py:2039: UserWarning: The balance properties of Sobol' points require n to be a power of 2.\n",
      "  samples = self.engine.random(n)\n"
     ]
    },
    {
     "name": "stdout",
     "output_type": "stream",
     "text": [
      "Current Monte Carlo Sample size: 399\n",
      "[[1.         0.50879591 0.58962555 0.3464405 ]\n",
      " [0.50879591 1.         0.44978095 0.26119471]\n",
      " [0.58962555 0.44978095 1.         0.31214878]\n",
      " [0.3464405  0.26119471 0.31214878 1.        ]]\n"
     ]
    },
    {
     "name": "stderr",
     "output_type": "stream",
     "text": [
      "c:\\Users\\Jesper\\Documents\\GitHub\\Knowledge-Growth-Prediction\\em_algorithm\\e_step_mirt_2pl_gain.py:187: RuntimeWarning: divide by zero encountered in log\n",
      "  np.log(inv_icc), np.subtract(r_0, r_item))  # TODO: Make this save\n",
      "c:\\Users\\Jesper\\Documents\\GitHub\\Knowledge-Growth-Prediction\\em_algorithm\\e_step_mirt_2pl_gain.py:186: RuntimeWarning: invalid value encountered in multiply\n",
      "  log_likelihood_item = np.multiply(np.log(icc_values), r_item) + np.multiply(\n",
      "C:\\Users\\Jesper\\Documents\\GitHub\\Knowledge-Growth-Prediction\\em_algorithm\\m_step_mirt_2pl.py:71: RuntimeWarning: overflow encountered in exp\n",
      "  population = random.choices(population=population_base, weights=np.exp(\n"
     ]
    },
    {
     "name": "stdout",
     "output_type": "stream",
     "text": [
      "Step: 6: current parameter_diff: 10.174276861981866, current marginal loglikelihood: -519.0532419936984\n",
      "EM Iteration 7\n"
     ]
    },
    {
     "name": "stderr",
     "output_type": "stream",
     "text": [
      "c:\\Users\\Jesper\\Anaconda3\\lib\\site-packages\\scipy\\stats\\_qmc.py:2039: UserWarning: The balance properties of Sobol' points require n to be a power of 2.\n",
      "  samples = self.engine.random(n)\n"
     ]
    },
    {
     "name": "stdout",
     "output_type": "stream",
     "text": [
      "Current Monte Carlo Sample size: 438\n",
      "[[1.         0.57076587 0.46403746 0.14513517]\n",
      " [0.57076587 1.         0.18915152 0.05844505]\n",
      " [0.46403746 0.18915152 1.         0.21743413]\n",
      " [0.14513517 0.05844505 0.21743413 1.        ]]\n"
     ]
    },
    {
     "name": "stderr",
     "output_type": "stream",
     "text": [
      "c:\\Users\\Jesper\\Documents\\GitHub\\Knowledge-Growth-Prediction\\em_algorithm\\e_step_mirt_2pl_gain.py:187: RuntimeWarning: divide by zero encountered in log\n",
      "  np.log(inv_icc), np.subtract(r_0, r_item))  # TODO: Make this save\n",
      "c:\\Users\\Jesper\\Documents\\GitHub\\Knowledge-Growth-Prediction\\em_algorithm\\e_step_mirt_2pl_gain.py:186: RuntimeWarning: invalid value encountered in multiply\n",
      "  log_likelihood_item = np.multiply(np.log(icc_values), r_item) + np.multiply(\n",
      "C:\\Users\\Jesper\\Documents\\GitHub\\Knowledge-Growth-Prediction\\em_algorithm\\m_step_mirt_2pl.py:71: RuntimeWarning: overflow encountered in exp\n",
      "  population = random.choices(population=population_base, weights=np.exp(\n"
     ]
    },
    {
     "name": "stdout",
     "output_type": "stream",
     "text": [
      "Step: 7: current parameter_diff: 9.539493491874172, current marginal loglikelihood: -525.0229821883589\n",
      "EM Iteration 8\n"
     ]
    },
    {
     "name": "stderr",
     "output_type": "stream",
     "text": [
      "c:\\Users\\Jesper\\Anaconda3\\lib\\site-packages\\scipy\\stats\\_qmc.py:2039: UserWarning: The balance properties of Sobol' points require n to be a power of 2.\n",
      "  samples = self.engine.random(n)\n"
     ]
    },
    {
     "name": "stdout",
     "output_type": "stream",
     "text": [
      "Current Monte Carlo Sample size: 438\n",
      "[[1.         0.56594173 0.50573668 0.14714157]\n",
      " [0.56594173 1.         0.16509959 0.04895656]\n",
      " [0.50573668 0.16509959 1.         0.22581473]\n",
      " [0.14714157 0.04895656 0.22581473 1.        ]]\n"
     ]
    },
    {
     "name": "stderr",
     "output_type": "stream",
     "text": [
      "c:\\Users\\Jesper\\Documents\\GitHub\\Knowledge-Growth-Prediction\\em_algorithm\\e_step_mirt_2pl_gain.py:187: RuntimeWarning: divide by zero encountered in log\n",
      "  np.log(inv_icc), np.subtract(r_0, r_item))  # TODO: Make this save\n",
      "c:\\Users\\Jesper\\Documents\\GitHub\\Knowledge-Growth-Prediction\\em_algorithm\\e_step_mirt_2pl_gain.py:186: RuntimeWarning: invalid value encountered in multiply\n",
      "  log_likelihood_item = np.multiply(np.log(icc_values), r_item) + np.multiply(\n",
      "C:\\Users\\Jesper\\Documents\\GitHub\\Knowledge-Growth-Prediction\\em_algorithm\\m_step_mirt_2pl.py:71: RuntimeWarning: overflow encountered in exp\n",
      "  population = random.choices(population=population_base, weights=np.exp(\n"
     ]
    },
    {
     "name": "stdout",
     "output_type": "stream",
     "text": [
      "Step: 8: current parameter_diff: 8.817142446531324, current marginal loglikelihood: -513.1002481396381\n",
      "EM Iteration 9\n"
     ]
    },
    {
     "name": "stderr",
     "output_type": "stream",
     "text": [
      "c:\\Users\\Jesper\\Anaconda3\\lib\\site-packages\\scipy\\stats\\_qmc.py:2039: UserWarning: The balance properties of Sobol' points require n to be a power of 2.\n",
      "  samples = self.engine.random(n)\n"
     ]
    },
    {
     "name": "stdout",
     "output_type": "stream",
     "text": [
      "Current Monte Carlo Sample size: 438\n",
      "[[1.         0.56539703 0.54379875 0.15110115]\n",
      " [0.56539703 1.         0.13351081 0.04246687]\n",
      " [0.54379875 0.13351081 1.         0.23187893]\n",
      " [0.15110115 0.04246687 0.23187893 1.        ]]\n"
     ]
    },
    {
     "name": "stderr",
     "output_type": "stream",
     "text": [
      "c:\\Users\\Jesper\\Documents\\GitHub\\Knowledge-Growth-Prediction\\em_algorithm\\e_step_mirt_2pl_gain.py:187: RuntimeWarning: divide by zero encountered in log\n",
      "  np.log(inv_icc), np.subtract(r_0, r_item))  # TODO: Make this save\n",
      "c:\\Users\\Jesper\\Documents\\GitHub\\Knowledge-Growth-Prediction\\em_algorithm\\e_step_mirt_2pl_gain.py:186: RuntimeWarning: invalid value encountered in multiply\n",
      "  log_likelihood_item = np.multiply(np.log(icc_values), r_item) + np.multiply(\n",
      "C:\\Users\\Jesper\\Documents\\GitHub\\Knowledge-Growth-Prediction\\em_algorithm\\m_step_mirt_2pl.py:71: RuntimeWarning: overflow encountered in exp\n",
      "  population = random.choices(population=population_base, weights=np.exp(\n"
     ]
    },
    {
     "name": "stdout",
     "output_type": "stream",
     "text": [
      "Step: 9: current parameter_diff: 7.090483303453802, current marginal loglikelihood: -514.8391692483686\n",
      "EM Iteration 10\n"
     ]
    },
    {
     "name": "stderr",
     "output_type": "stream",
     "text": [
      "c:\\Users\\Jesper\\Anaconda3\\lib\\site-packages\\scipy\\stats\\_qmc.py:2039: UserWarning: The balance properties of Sobol' points require n to be a power of 2.\n",
      "  samples = self.engine.random(n)\n"
     ]
    },
    {
     "name": "stdout",
     "output_type": "stream",
     "text": [
      "Current Monte Carlo Sample size: 481\n",
      "[[ 1.          0.57789432  0.64210717  0.16807962]\n",
      " [ 0.57789432  1.         -0.01658201  0.02085793]\n",
      " [ 0.64210717 -0.01658201  1.          0.24666274]\n",
      " [ 0.16807962  0.02085793  0.24666274  1.        ]]\n"
     ]
    },
    {
     "name": "stderr",
     "output_type": "stream",
     "text": [
      "c:\\Users\\Jesper\\Documents\\GitHub\\Knowledge-Growth-Prediction\\em_algorithm\\e_step_mirt_2pl_gain.py:187: RuntimeWarning: divide by zero encountered in log\n",
      "  np.log(inv_icc), np.subtract(r_0, r_item))  # TODO: Make this save\n",
      "c:\\Users\\Jesper\\Documents\\GitHub\\Knowledge-Growth-Prediction\\em_algorithm\\e_step_mirt_2pl_gain.py:186: RuntimeWarning: invalid value encountered in multiply\n",
      "  log_likelihood_item = np.multiply(np.log(icc_values), r_item) + np.multiply(\n",
      "C:\\Users\\Jesper\\Documents\\GitHub\\Knowledge-Growth-Prediction\\em_algorithm\\m_step_mirt_2pl.py:71: RuntimeWarning: overflow encountered in exp\n",
      "  population = random.choices(population=population_base, weights=np.exp(\n"
     ]
    },
    {
     "name": "stdout",
     "output_type": "stream",
     "text": [
      "Step: 10: current parameter_diff: 8.507875321782082, current marginal loglikelihood: -521.0000190404038\n",
      "EM Iteration 11\n"
     ]
    },
    {
     "name": "stderr",
     "output_type": "stream",
     "text": [
      "c:\\Users\\Jesper\\Anaconda3\\lib\\site-packages\\scipy\\stats\\_qmc.py:2039: UserWarning: The balance properties of Sobol' points require n to be a power of 2.\n",
      "  samples = self.engine.random(n)\n"
     ]
    },
    {
     "name": "stdout",
     "output_type": "stream",
     "text": [
      "Current Monte Carlo Sample size: 481\n",
      "[[1.     0.5778 0.6421 0.168 ]\n",
      " [0.5778 1.     0.     0.0208]\n",
      " [0.6421 0.     1.     0.2466]\n",
      " [0.168  0.0208 0.2466 1.    ]]\n"
     ]
    },
    {
     "name": "stderr",
     "output_type": "stream",
     "text": [
      "c:\\Users\\Jesper\\Documents\\GitHub\\Knowledge-Growth-Prediction\\em_algorithm\\e_step_mirt_2pl_gain.py:187: RuntimeWarning: divide by zero encountered in log\n",
      "  np.log(inv_icc), np.subtract(r_0, r_item))  # TODO: Make this save\n",
      "c:\\Users\\Jesper\\Documents\\GitHub\\Knowledge-Growth-Prediction\\em_algorithm\\e_step_mirt_2pl_gain.py:186: RuntimeWarning: invalid value encountered in multiply\n",
      "  log_likelihood_item = np.multiply(np.log(icc_values), r_item) + np.multiply(\n",
      "C:\\Users\\Jesper\\Documents\\GitHub\\Knowledge-Growth-Prediction\\em_algorithm\\m_step_mirt_2pl.py:71: RuntimeWarning: overflow encountered in exp\n",
      "  population = random.choices(population=population_base, weights=np.exp(\n"
     ]
    },
    {
     "name": "stdout",
     "output_type": "stream",
     "text": [
      "Step: 11: current parameter_diff: 7.148008191757464, current marginal loglikelihood: -545.2349456454795\n",
      "EM Iteration 12\n"
     ]
    },
    {
     "name": "stderr",
     "output_type": "stream",
     "text": [
      "c:\\Users\\Jesper\\Anaconda3\\lib\\site-packages\\scipy\\stats\\_qmc.py:2039: UserWarning: The balance properties of Sobol' points require n to be a power of 2.\n",
      "  samples = self.engine.random(n)\n"
     ]
    },
    {
     "name": "stdout",
     "output_type": "stream",
     "text": [
      "Current Monte Carlo Sample size: 529\n",
      "[[1.     0.5778 0.6421 0.168 ]\n",
      " [0.5778 1.     0.     0.0207]\n",
      " [0.6421 0.     1.     0.2466]\n",
      " [0.168  0.0207 0.2466 1.    ]]\n"
     ]
    },
    {
     "name": "stderr",
     "output_type": "stream",
     "text": [
      "c:\\Users\\Jesper\\Documents\\GitHub\\Knowledge-Growth-Prediction\\em_algorithm\\e_step_mirt_2pl_gain.py:187: RuntimeWarning: divide by zero encountered in log\n",
      "  np.log(inv_icc), np.subtract(r_0, r_item))  # TODO: Make this save\n",
      "c:\\Users\\Jesper\\Documents\\GitHub\\Knowledge-Growth-Prediction\\em_algorithm\\e_step_mirt_2pl_gain.py:186: RuntimeWarning: invalid value encountered in multiply\n",
      "  log_likelihood_item = np.multiply(np.log(icc_values), r_item) + np.multiply(\n",
      "C:\\Users\\Jesper\\Documents\\GitHub\\Knowledge-Growth-Prediction\\em_algorithm\\m_step_mirt_2pl.py:71: RuntimeWarning: overflow encountered in exp\n",
      "  population = random.choices(population=population_base, weights=np.exp(\n"
     ]
    },
    {
     "ename": "KeyboardInterrupt",
     "evalue": "",
     "output_type": "error",
     "traceback": [
      "\u001b[1;31m---------------------------------------------------------------------------\u001b[0m",
      "\u001b[1;31mKeyboardInterrupt\u001b[0m                         Traceback (most recent call last)",
      "\u001b[1;32mc:\\Users\\Jesper\\Documents\\GitHub\\Knowledge-Growth-Prediction\\simulation_experiments.ipynb Zelle 3\u001b[0m in \u001b[0;36m<cell line: 1>\u001b[1;34m()\u001b[0m\n\u001b[1;32m----> <a href='vscode-notebook-cell:/c%3A/Users/Jesper/Documents/GitHub/Knowledge-Growth-Prediction/simulation_experiments.ipynb#W2sZmlsZQ%3D%3D?line=0'>1</a>\u001b[0m performance_dict \u001b[39m=\u001b[39m mirt_simulation_experiment(sample_size\u001b[39m=\u001b[39;49m\u001b[39m100\u001b[39;49m, item_dimension\u001b[39m=\u001b[39;49m\u001b[39m12\u001b[39;49m, latent_dimension\u001b[39m=\u001b[39;49m\u001b[39m2\u001b[39;49m, \n\u001b[0;32m      <a href='vscode-notebook-cell:/c%3A/Users/Jesper/Documents/GitHub/Knowledge-Growth-Prediction/simulation_experiments.ipynb#W2sZmlsZQ%3D%3D?line=1'>2</a>\u001b[0m                                              q_type\u001b[39m=\u001b[39;49m\u001b[39m\"\u001b[39;49m\u001b[39mfull\u001b[39;49m\u001b[39m\"\u001b[39;49m, stop_threshold\u001b[39m=\u001b[39;49m\u001b[39m5\u001b[39;49m, person_method\u001b[39m=\u001b[39;49m\u001b[39m\"\u001b[39;49m\u001b[39mBFGS\u001b[39;49m\u001b[39m\"\u001b[39;49m,\n\u001b[0;32m      <a href='vscode-notebook-cell:/c%3A/Users/Jesper/Documents/GitHub/Knowledge-Growth-Prediction/simulation_experiments.ipynb#W2sZmlsZQ%3D%3D?line=2'>3</a>\u001b[0m                                             sigma_constraint\u001b[39m=\u001b[39;49m\u001b[39m\"\u001b[39;49m\u001b[39munconstrained\u001b[39;49m\u001b[39m\"\u001b[39;49m, real_theta\u001b[39m=\u001b[39;49m\u001b[39mTrue\u001b[39;49;00m)\n",
      "File \u001b[1;32mc:\\Users\\Jesper\\Documents\\GitHub\\Knowledge-Growth-Prediction\\simulation_experiment.py:338\u001b[0m, in \u001b[0;36mmirt_simulation_experiment\u001b[1;34m(sample_size, item_dimension, latent_dimension, q_type, methods, stop_threshold, ensure_id, q_share, person_method, sigma_constraint, real_theta)\u001b[0m\n\u001b[0;32m    336\u001b[0m result_dict \u001b[39m=\u001b[39m {}\n\u001b[0;32m    337\u001b[0m \u001b[39mif\u001b[39;00m \u001b[39m\"\u001b[39m\u001b[39mlate_em\u001b[39m\u001b[39m\"\u001b[39m \u001b[39min\u001b[39;00m methods:\n\u001b[1;32m--> 338\u001b[0m     performance_dict_le \u001b[39m=\u001b[39m late_em_optimization(sample\u001b[39m=\u001b[39;49msample, parameter_dict\u001b[39m=\u001b[39;49mparameter_dict, stop_threshold\u001b[39m=\u001b[39;49mstop_threshold,\n\u001b[0;32m    339\u001b[0m                                                person_method\u001b[39m=\u001b[39;49mperson_method, sigma_constraint\u001b[39m=\u001b[39;49msigma_constraint, real_theta\u001b[39m=\u001b[39;49m\u001b[39mFalse\u001b[39;49;00m)\n\u001b[0;32m    340\u001b[0m     result_dict[\u001b[39m\"\u001b[39m\u001b[39mlate_em\u001b[39m\u001b[39m\"\u001b[39m] \u001b[39m=\u001b[39m performance_dict_le\n\u001b[0;32m    341\u001b[0m \u001b[39mif\u001b[39;00m \u001b[39m\"\u001b[39m\u001b[39minitial\u001b[39m\u001b[39m\"\u001b[39m \u001b[39min\u001b[39;00m methods:\n",
      "File \u001b[1;32mc:\\Users\\Jesper\\Documents\\GitHub\\Knowledge-Growth-Prediction\\simulation_experiment.py:407\u001b[0m, in \u001b[0;36mlate_em_optimization\u001b[1;34m(sample, parameter_dict, stop_threshold, person_method, sigma_constraint, real_theta)\u001b[0m\n\u001b[0;32m    403\u001b[0m parameter_dict\u001b[39m.\u001b[39mupdate(\n\u001b[0;32m    404\u001b[0m     {\u001b[39m\"\u001b[39m\u001b[39mestimated_early_parameters\u001b[39m\u001b[39m\"\u001b[39m: early_estimated_parameters})\n\u001b[0;32m    406\u001b[0m \u001b[39m# Fit late Model\u001b[39;00m\n\u001b[1;32m--> 407\u001b[0m late_estimated_parameters, late_initial_parameters, late_run, late_model \u001b[39m=\u001b[39m fit_late_model(\n\u001b[0;32m    408\u001b[0m     parameter_dict\u001b[39m=\u001b[39;49mparameter_dict, sample\u001b[39m=\u001b[39;49msample, stop_threshold\u001b[39m=\u001b[39;49mstop_threshold,\n\u001b[0;32m    409\u001b[0m     person_method\u001b[39m=\u001b[39;49mperson_method, sigma_constraint\u001b[39m=\u001b[39;49msigma_constraint, real_theta\u001b[39m=\u001b[39;49mreal_theta)\n\u001b[0;32m    410\u001b[0m parameter_dict\u001b[39m.\u001b[39mupdate(\n\u001b[0;32m    411\u001b[0m     {\u001b[39m\"\u001b[39m\u001b[39mestimated_late_parameters\u001b[39m\u001b[39m\"\u001b[39m: late_estimated_parameters})\n\u001b[0;32m    413\u001b[0m run_dict \u001b[39m=\u001b[39m {\u001b[39m\"\u001b[39m\u001b[39mearly\u001b[39m\u001b[39m\"\u001b[39m: early_run, \u001b[39m\"\u001b[39m\u001b[39mlate\u001b[39m\u001b[39m\"\u001b[39m: late_run}\n",
      "File \u001b[1;32mc:\\Users\\Jesper\\Documents\\GitHub\\Knowledge-Growth-Prediction\\simulation_experiment.py:287\u001b[0m, in \u001b[0;36mfit_late_model\u001b[1;34m(sample, parameter_dict, stop_threshold, person_method, sigma_constraint, real_theta)\u001b[0m\n\u001b[0;32m    285\u001b[0m \u001b[39m# Fit late model\u001b[39;00m\n\u001b[0;32m    286\u001b[0m start_time \u001b[39m=\u001b[39m time\u001b[39m.\u001b[39mtime()\n\u001b[1;32m--> 287\u001b[0m em\u001b[39m.\u001b[39;49mfit([sample[\u001b[39m\"\u001b[39;49m\u001b[39mlate_responses\u001b[39;49m\u001b[39m\"\u001b[39;49m], theta], max_iter\u001b[39m=\u001b[39;49m\u001b[39m100\u001b[39;49m,\n\u001b[0;32m    288\u001b[0m        stop_threshold\u001b[39m=\u001b[39;49mstop_threshold, person_method\u001b[39m=\u001b[39;49mperson_method)\n\u001b[0;32m    289\u001b[0m run_time \u001b[39m=\u001b[39m (time\u001b[39m.\u001b[39mtime() \u001b[39m-\u001b[39m start_time)\n\u001b[0;32m    290\u001b[0m s_hat \u001b[39m=\u001b[39m late_model\u001b[39m.\u001b[39mpredict_gain(\n\u001b[0;32m    291\u001b[0m     sample[\u001b[39m\"\u001b[39m\u001b[39mlate_responses\u001b[39m\u001b[39m\"\u001b[39m], parameter_dict[\u001b[39m\"\u001b[39m\u001b[39mestimated_early_parameters\u001b[39m\u001b[39m\"\u001b[39m][\u001b[39m\"\u001b[39m\u001b[39mperson_parameters\u001b[39m\u001b[39m\"\u001b[39m][\u001b[39m\"\u001b[39m\u001b[39mtheta\u001b[39m\u001b[39m\"\u001b[39m])  \u001b[39m# TODO: implement this\u001b[39;00m\n",
      "File \u001b[1;32mc:\\Users\\Jesper\\Documents\\GitHub\\Knowledge-Growth-Prediction\\em_algorithm\\em_algorithm.py:46\u001b[0m, in \u001b[0;36mem_algorithm.fit\u001b[1;34m(self, data, hyper_params, person_method, max_iter, stop_threshold)\u001b[0m\n\u001b[0;32m     43\u001b[0m posterior_expectation \u001b[39m=\u001b[39m \u001b[39mself\u001b[39m\u001b[39m.\u001b[39me_step\u001b[39m.\u001b[39mstep(\n\u001b[0;32m     44\u001b[0m     \u001b[39m*\u001b[39mdata, \u001b[39miter\u001b[39m\u001b[39m=\u001b[39mi)\n\u001b[0;32m     45\u001b[0m \u001b[39m# print(\"M-step\")\u001b[39;00m\n\u001b[1;32m---> 46\u001b[0m current_parameters, log_likelihood \u001b[39m=\u001b[39m \u001b[39mself\u001b[39;49m\u001b[39m.\u001b[39;49mm_step\u001b[39m.\u001b[39;49mstep(\n\u001b[0;32m     47\u001b[0m     pe_functions\u001b[39m=\u001b[39;49mposterior_expectation, person_method\u001b[39m=\u001b[39;49mperson_method)\n\u001b[0;32m     48\u001b[0m \u001b[39mself\u001b[39m\u001b[39m.\u001b[39mmodel\u001b[39m.\u001b[39mset_parameters(current_parameters)\n\u001b[0;32m     49\u001b[0m marginal_loglikelihood \u001b[39m=\u001b[39m \u001b[39mself\u001b[39m\u001b[39m.\u001b[39mmodel\u001b[39m.\u001b[39mmarginal_response_loglikelihood(\n\u001b[0;32m     50\u001b[0m     \u001b[39m*\u001b[39mdata)\n",
      "File \u001b[1;32m~\\Documents\\GitHub\\Knowledge-Growth-Prediction\\em_algorithm\\m_step_mirt_2pl.py:277\u001b[0m, in \u001b[0;36mm_step_ga_mml.step\u001b[1;34m(self, pe_functions, person_method, item_method)\u001b[0m\n\u001b[0;32m    273\u001b[0m     \u001b[39mreturn\u001b[39;00m pe_functions[\u001b[39m\"\u001b[39m\u001b[39mq_item_list\u001b[39m\u001b[39m\"\u001b[39m][item](\n\u001b[0;32m    274\u001b[0m         a_item\u001b[39m=\u001b[39ma_item, delta_item\u001b[39m=\u001b[39mdelta_item)\n\u001b[0;32m    276\u001b[0m \u001b[39m# if len(x0) == 1:\u001b[39;00m\n\u001b[1;32m--> 277\u001b[0m new_item_parameters \u001b[39m=\u001b[39m \u001b[39mself\u001b[39;49m\u001b[39m.\u001b[39;49mgenetic_algorithm(\n\u001b[0;32m    278\u001b[0m     fitness_function\u001b[39m=\u001b[39;49mq_item, x0\u001b[39m=\u001b[39;49mx0, constraint_function\u001b[39m=\u001b[39;49m\u001b[39mlambda\u001b[39;49;00m arg: np\u001b[39m.\u001b[39;49mall(arg[\u001b[39m0\u001b[39;49m:(\u001b[39mlen\u001b[39;49m(arg)\u001b[39m-\u001b[39;49m\u001b[39m1\u001b[39;49m)] \u001b[39m>\u001b[39;49m \u001b[39m0\u001b[39;49m))\n\u001b[0;32m    279\u001b[0m \u001b[39m# fitness_function=q_item, x0=x0, constraint_function=lambda arg: np.all(arg[0:len(arg)-1] > 0))\u001b[39;00m\n\u001b[0;32m    280\u001b[0m \u001b[39m# else:\u001b[39;00m\n\u001b[0;32m    281\u001b[0m \u001b[39m#     new_item_parameters = cma.CMAEvolutionStrategy(\u001b[39;00m\n\u001b[0;32m    282\u001b[0m \u001b[39m#         x0=x0, sigma0=2).optimize(lambda x: -1*q_item(x), maxfun=1000, n_jobs=0).result.xfavorite\u001b[39;00m\n\u001b[0;32m    283\u001b[0m \u001b[39m# sys.stdout.close()\u001b[39;00m\n\u001b[0;32m    284\u001b[0m log_likelihood \u001b[39m+\u001b[39m\u001b[39m=\u001b[39m q_item(new_item_parameters)\n",
      "File \u001b[1;32m~\\Documents\\GitHub\\Knowledge-Growth-Prediction\\em_algorithm\\m_step_mirt_2pl.py:77\u001b[0m, in \u001b[0;36mm_step_ga_mml.genetic_algorithm\u001b[1;34m(self, fitness_function, x0, constraint_function, population_size, p_mutate, p_crossover, mutation_variance, max_iter)\u001b[0m\n\u001b[0;32m     75\u001b[0m \u001b[39mfor\u001b[39;00m i \u001b[39min\u001b[39;00m \u001b[39mrange\u001b[39m(\u001b[39m0\u001b[39m, \u001b[39mlen\u001b[39m(population)):\n\u001b[0;32m     76\u001b[0m     \u001b[39mif\u001b[39;00m bernoulli\u001b[39m.\u001b[39mrvs(p\u001b[39m=\u001b[39mp_mutate, size\u001b[39m=\u001b[39m\u001b[39m1\u001b[39m):\n\u001b[1;32m---> 77\u001b[0m         population[i] \u001b[39m=\u001b[39m mutate(population[i])\n\u001b[0;32m     78\u001b[0m     \u001b[39mif\u001b[39;00m bernoulli\u001b[39m.\u001b[39mrvs(p\u001b[39m=\u001b[39mp_crossover, size\u001b[39m=\u001b[39m\u001b[39m1\u001b[39m):\n\u001b[0;32m     79\u001b[0m         \u001b[39m# TODO: prohibit self-crossover\u001b[39;00m\n\u001b[0;32m     80\u001b[0m         partner \u001b[39m=\u001b[39m random\u001b[39m.\u001b[39mchoices(population\u001b[39m=\u001b[39mpopulation, k\u001b[39m=\u001b[39m\u001b[39m1\u001b[39m)\n",
      "File \u001b[1;32m~\\Documents\\GitHub\\Knowledge-Growth-Prediction\\em_algorithm\\m_step_mirt_2pl.py:34\u001b[0m, in \u001b[0;36mm_step_ga_mml.genetic_algorithm.<locals>.mutate\u001b[1;34m(individual)\u001b[0m\n\u001b[0;32m     32\u001b[0m valid_individual \u001b[39m=\u001b[39m \u001b[39mFalse\u001b[39;00m\n\u001b[0;32m     33\u001b[0m \u001b[39mwhile\u001b[39;00m \u001b[39mnot\u001b[39;00m valid_individual:\n\u001b[1;32m---> 34\u001b[0m     new_individual \u001b[39m=\u001b[39m individual\u001b[39m+\u001b[39mmultivariate_normal\u001b[39m.\u001b[39;49mrvs(\n\u001b[0;32m     35\u001b[0m         mean\u001b[39m=\u001b[39;49mnp\u001b[39m.\u001b[39;49mzeros(\u001b[39mlen\u001b[39;49m(individual)), cov\u001b[39m=\u001b[39;49mmutation_variance\u001b[39m*\u001b[39;49mnp\u001b[39m.\u001b[39;49midentity(\u001b[39mlen\u001b[39;49m(individual)))\n\u001b[0;32m     36\u001b[0m     \u001b[39mtry\u001b[39;00m:\n\u001b[0;32m     37\u001b[0m         \u001b[39mif\u001b[39;00m \u001b[39mnot\u001b[39;00m constraint_function(new_individual):\n",
      "File \u001b[1;32mc:\\Users\\Jesper\\Anaconda3\\lib\\site-packages\\scipy\\stats\\_multivariate.py:657\u001b[0m, in \u001b[0;36mmultivariate_normal_gen.rvs\u001b[1;34m(self, mean, cov, size, random_state)\u001b[0m\n\u001b[0;32m    654\u001b[0m dim, mean, cov \u001b[39m=\u001b[39m \u001b[39mself\u001b[39m\u001b[39m.\u001b[39m_process_parameters(\u001b[39mNone\u001b[39;00m, mean, cov)\n\u001b[0;32m    656\u001b[0m random_state \u001b[39m=\u001b[39m \u001b[39mself\u001b[39m\u001b[39m.\u001b[39m_get_random_state(random_state)\n\u001b[1;32m--> 657\u001b[0m out \u001b[39m=\u001b[39m random_state\u001b[39m.\u001b[39;49mmultivariate_normal(mean, cov, size)\n\u001b[0;32m    658\u001b[0m \u001b[39mreturn\u001b[39;00m _squeeze_output(out)\n",
      "File \u001b[1;32mmtrand.pyx:4097\u001b[0m, in \u001b[0;36mnumpy.random.mtrand.RandomState.multivariate_normal\u001b[1;34m()\u001b[0m\n",
      "File \u001b[1;32m<__array_function__ internals>:2\u001b[0m, in \u001b[0;36msvd\u001b[1;34m(*args, **kwargs)\u001b[0m\n",
      "\u001b[1;31mKeyboardInterrupt\u001b[0m: "
     ]
    }
   ],
   "source": [
    "performance_dict = mirt_simulation_experiment(sample_size=100, item_dimension=12, latent_dimension=2, \n",
    "                                             q_type=\"full\", stop_threshold=5, person_method=\"BFGS\",\n",
    "                                            sigma_constraint=\"unconstrained\", real_theta=True)"
   ]
  },
  {
   "cell_type": "code",
   "execution_count": 2,
   "metadata": {},
   "outputs": [],
   "source": [
    "def print_result(result_dict, description=\"\"):\n",
    "    #Description\n",
    "    print(\"------------------------------------\")\n",
    "    print(\"##### Results for {0}\".format(description))\n",
    "    #Experiment Properties:\n",
    "    latent_dimension = result_dict[\"sample\"][\"latent_dimension\"]\n",
    "    item_dimension = result_dict[\"sample\"][\"item_dimension\"]\n",
    "    sample_size = result_dict[\"sample\"][\"sample_size\"]\n",
    "    print(\"Latent dimension: {0},  Item dimension: {1}, sample size {2} \\\\\".format(latent_dimension, item_dimension, sample_size))\n",
    "    #Performance/time\n",
    "    ep_dict = result_dict[\"early_performance\"]\n",
    "    lp_dict = result_dict[\"late_performance\"]\n",
    "    early_runtime = np.round(ep_dict[\"run\"][\"runtime\"], 2)\n",
    "    early_steps = ep_dict[\"run\"][\"number_steps\"]\n",
    "    print(\"Early runtime: {0} seconds, {1} steps, {2} seconds per step \\\\\".format(early_runtime, early_steps, np.round(early_runtime/early_steps, 2)))\n",
    "    late_runtime = np.round(lp_dict[\"run\"][\"runtime\"], 2)\n",
    "    late_steps = lp_dict[\"run\"][\"number_steps\"]\n",
    "    print(\"Late runtime: {0} seconds, {1} steps, {2} seconds per step \\\\\".format(late_runtime, late_steps, np.round(late_runtime/late_steps, 2)))\n",
    "    #Performance/results\n",
    "    # Early Likelihood\n",
    "    early_l_optimal = np.round(ep_dict[\"early_marginal_likelihood\"][\"optimal\"], 2)\n",
    "    early_l_estimated = np.round(ep_dict[\"early_marginal_likelihood\"][\"estimated\"], 2)\n",
    "    early_l_real = np.round(ep_dict[\"early_marginal_likelihood\"][\"initial\"], 2)\n",
    "    print(\"Early Marginal Likelihood, Optimal: {0}, Estimated: {1}, Initial {2} \\\\\".format(early_l_optimal,early_l_estimated,early_l_real))\n",
    "    # Late Likelihood\n",
    "    late_l_optimal = np.round(lp_dict[\"late_marginal_likelihood\"][\"optimal\"], 2)\n",
    "    late_l_estimated = np.round(lp_dict[\"late_marginal_likelihood\"][\"estimated\"], 2)\n",
    "    late_l_real = np.round(lp_dict[\"late_marginal_likelihood\"][\"initial\"], 2)\n",
    "    print(\"Late Marginal Likelihood, Optimal: {0}, Estimated: {1}, Initial {2}\".format(late_l_optimal,late_l_estimated,late_l_real))\n",
    "    #print(\"Performance: rmse-mean = {0} \\\\\".format(np.round(np.mean(np.array(list(result_dict[\"early_performance\"].values()))), 4)))\n",
    "    rmse_early_model = ep_dict[\"rmse\"]\n",
    "    \n",
    "    early_rmse_frame = pd.DataFrame(columns=[\"rmse_A\", \"rmse_delta\", \"rmse_sigma\"])\n",
    "    early_rmse_frame = early_rmse_frame.append(rmse_early_model, ignore_index=True)\n",
    "    index = [\"estimated\"]\n",
    "    for baseline in list(result_dict[\"baselines\"][\"early\"].keys()):\n",
    "        rmse_baseline = result_dict[\"baselines\"][\"early\"][baseline][\"performance\"][\"rmse\"]\n",
    "        early_rmse_frame = early_rmse_frame.append(rmse_baseline, ignore_index=True)\n",
    "        index.append(baseline)\n",
    "    early_rmse_frame.index = index\n",
    "    early_rmse_frame.columns = [\"early_A\", \"early_delta\", \"early_sigma\"]\n",
    "\n",
    "    rmse_late_model = lp_dict[\"rmse\"]\n",
    "    \n",
    "    late_rmse_frame = pd.DataFrame(columns=[\"rmse_A\", \"rmse_delta\", \"rmse_sigma\"])\n",
    "    late_rmse_frame = late_rmse_frame.append(rmse_late_model, ignore_index=True)\n",
    "    index = [\"estimated\"]\n",
    "    for baseline in list(result_dict[\"baselines\"][\"late\"].keys()):\n",
    "        rmse_baseline = result_dict[\"baselines\"][\"late\"][baseline][\"performance\"][\"rmse\"]\n",
    "        late_rmse_frame = late_rmse_frame.append(rmse_baseline, ignore_index=True)\n",
    "        index.append(baseline)\n",
    "    late_rmse_frame.index = index\n",
    "    late_rmse_frame.columns = [\"late_A\", \"late_delta\", \"late_sigma\", \"psi\"]\n",
    "    rmse_frame = pd.concat((early_rmse_frame, late_rmse_frame), axis=1)\n",
    "    print(rmse_frame.to_markdown())\n",
    "    print(\"####\")\n",
    "    #Individual \n",
    "    rmse_theta = ep_dict[\"individual\"][\"rmse\"]\n",
    "    rmse_gain = lp_dict[\"individual\"][\"rmse\"]\n",
    "    print(\"Performance on Individual Level \\\\\")\n",
    "    print(\"rmse theta: {0} \\\\\".format(rmse_theta))\n",
    "    print(\"rmse gain: {0}\".format(rmse_gain))\n",
    "                                   "
   ]
  },
  {
   "cell_type": "code",
   "execution_count": 3,
   "metadata": {},
   "outputs": [
    {
     "ename": "NameError",
     "evalue": "name 'performance_dict' is not defined",
     "output_type": "error",
     "traceback": [
      "\u001b[1;31m---------------------------------------------------------------------------\u001b[0m",
      "\u001b[1;31mNameError\u001b[0m                                 Traceback (most recent call last)",
      "\u001b[1;32mc:\\Users\\Jesper\\Documents\\GitHub\\Knowledge-Growth-Prediction\\simulation_experiments.ipynb Zelle 5\u001b[0m in \u001b[0;36m<cell line: 1>\u001b[1;34m()\u001b[0m\n\u001b[1;32m----> <a href='vscode-notebook-cell:/c%3A/Users/Jesper/Documents/GitHub/Knowledge-Growth-Prediction/simulation_experiments.ipynb#W5sZmlsZQ%3D%3D?line=0'>1</a>\u001b[0m print_result(performance_dict, \u001b[39m\"\u001b[39m\u001b[39mWith unconstrained BFGS and real theta\u001b[39m\u001b[39m\"\u001b[39m)\n",
      "\u001b[1;31mNameError\u001b[0m: name 'performance_dict' is not defined"
     ]
    }
   ],
   "source": [
    "print_result(performance_dict, \"With unconstrained BFGS and real theta\")"
   ]
  },
  {
   "cell_type": "markdown",
   "metadata": {},
   "source": [
    "\n",
    "------------------------------------\n",
    "##### Results for Increasing Monte Carlo sample-size based on ttest with normal MC\n",
    "Latent dimension: 2,  Item dimension: 6, sample size 100 \\\n",
    "Runtime: 3.3 seconds, 15 steps, 0.22 seconds per step \\\n",
    "Optimal marginal Likelihood: -371.46, Estimated: -365.03, Initial -374.57\n",
    "|               |   rmse_A |   rmse_delta |   rmse_sigma |\n",
    "|:--------------|---------:|-------------:|-------------:|\n",
    "| estimated     | 0.660667 |     0.316008 |    0.0573464 |\n",
    "| early_initial | 0.509902 |     0.28936  |    0.212132  |\n",
    "| girth         | 1.0658   |     0.31617  |    0.12943   |\n",
    "| early_direct  | 0.848957 |     0.59659  |    0.116858  |\n",
    "\n",
    "------------------------------------\n",
    "##### Results for Untested full Model\n",
    "Latent dimension: 2,  Item dimension: 10, sample size 100 \\\n",
    "Early runtime: 2.56 seconds, 8 steps, 0.32 seconds per step \\\n",
    "Late runtime: 107.71 seconds, 5 steps, 21.54 seconds per step \\\n",
    "Early Marginal Likelihood, Optimal: -470.21, Estimated: -463.83, Initial -527.4 \\\n",
    "Late Marginal Likelihood, Optimal: 3.89, Estimated: 3.92, Initial 3.81\n",
    "|           |   early_A |   early_delta |   early_sigma |   late_A |   late_delta |   late_sigma |      psi |\n",
    "|:----------|----------:|--------------:|--------------:|---------:|-------------:|-------------:|---------:|\n",
    "| estimated |   1.08941 |      0.391419 |     0.0115966 |  1.83043 |      1.33621 |     0.674368 | 0.395368 |\n",
    "| initial   |   3.07758 |      0.621379 |     0.329017  |  2.74743 |      1.52522 |     0.320885 | 0.210157 |\n",
    "####\n",
    "Performance on Individual Level \\\n",
    "rmse theta: 0.864016477222037 \\\n",
    "rmse gain: 0.8736126145557623\n",
    "\n",
    "------------------------------------\n",
    "##### Results for Fixed marginal Loglikelihood\n",
    "Latent dimension: 2,  Item dimension: 10, sample size 100 \\\n",
    "Early runtime: 2.5 seconds, 7 steps, 0.36 seconds per step \\\n",
    "Late runtime: 322.67 seconds, 9 steps, 35.85 seconds per step \\\n",
    "Early Marginal Likelihood, Optimal: -494.37, Estimated: -479.73, Initial -540.27 \\\n",
    "Late Marginal Likelihood, Optimal: -359.97, Estimated: -381.08, Initial -431.02\n",
    "|           |   early_A |   early_delta |   early_sigma |   late_A |   late_delta |   late_sigma |      psi |\n",
    "|:----------|----------:|--------------:|--------------:|---------:|-------------:|-------------:|---------:|\n",
    "| estimated |   1.42983 |      0.837686 |     0.139583  |  4.08714 |      2.46488 |    0.243386  | 0.343469 |\n",
    "| initial   |   2.6978  |      0.668599 |     0.0490025 |  5.45633 |      1.95892 |    0.0963787 | 0.22315  |\n",
    "####\n",
    "Performance on Individual Level \\\n",
    "rmse theta: 0.6755600631466341 \\\n",
    "rmse gain: 780.9161055994681\n",
    "\n",
    "------------------------------------\n",
    "##### Results for Genetic Algorithm\n",
    "Latent dimension: 2,  Item dimension: 10, sample size 100 \\\n",
    "Early runtime: 3.42 seconds, 7 steps, 0.49 seconds per step \\\n",
    "Late runtime: 166.44 seconds, 10 steps, 16.64 seconds per step \\\n",
    "Early Marginal Likelihood, Optimal: -445.8, Estimated: -440.04, Initial -525.38 \\\n",
    "Late Marginal Likelihood, Optimal: -452.07, Estimated: -436.89, Initial -535.83\n",
    "|           |   early_A |   early_delta |   early_sigma |   late_A |   late_delta |   late_sigma |      psi |\n",
    "|:----------|----------:|--------------:|--------------:|---------:|-------------:|-------------:|---------:|\n",
    "| estimated |   3.52076 |      0.390601 |     0.0378639 |  5.26244 |     0.403017 |    0.134472  | 0.317107 |\n",
    "| initial   |   5.04367 |      0.567904 |     0.0948937 |  4.62289 |     1.22823  |    0.0472347 | 0.344357 |\n",
    "####\n",
    "Performance on Individual Level \\\n",
    "rmse theta: 0.8067692103719907 \\\n",
    "rmse gain: 560.8514011989563\n",
    "\n",
    "------------------------------------\n",
    "##### Results for With constrained BFGS\n",
    "Latent dimension: 2,  Item dimension: 10, sample size 100 \\\n",
    "Early runtime: 3.39 seconds, 8 steps, 0.42 seconds per step \\\n",
    "Late runtime: 222.08 seconds, 11 steps, 20.19 seconds per step \\\n",
    "Early Marginal Likelihood, Optimal: -450.38, Estimated: -444.2, Initial -522.62 \\\n",
    "Late Marginal Likelihood, Optimal: -469.55, Estimated: -464.8, Initial -539.91\n",
    "|           |   early_A |   early_delta |   early_sigma |   late_A |   late_delta |   late_sigma |      psi |\n",
    "|:----------|----------:|--------------:|--------------:|---------:|-------------:|-------------:|---------:|\n",
    "| estimated |  0.683488 |      0.604727 |     0.0795495 |  1.19288 |     0.397077 |    0.163978  | 0.367325 |\n",
    "| initial   |  2.31601  |      0.712129 |     0.0905097 |  2.83422 |     1.04892  |    0.0775696 | 0.226698 |\n",
    "####\n",
    "Performance on Individual Level \\\n",
    "rmse theta: 0.7139781405467193 \\\n",
    "rmse gain: 0.8053860461431572\n",
    "\n",
    "------------------------------------\n",
    "##### Results for With unconstrained BFGS and save ICC\n",
    "Latent dimension: 2,  Item dimension: 10, sample size 200 \\\n",
    "Early runtime: 4.94 seconds, 10 steps, 0.49 seconds per step \\\n",
    "Late runtime: 217.77 seconds, 14 steps, 15.56 seconds per step \\\n",
    "Early Marginal Likelihood, Optimal: -1025.93, Estimated: -1014.24, Initial -1143.43 \\\n",
    "Late Marginal Likelihood, Optimal: -1019.85, Estimated: -942.56, Initial -1165.24\n",
    "|           |   early_A |   early_delta |   early_sigma |   late_A |   late_delta |   late_sigma |     psi |\n",
    "|:----------|----------:|--------------:|--------------:|---------:|-------------:|-------------:|--------:|\n",
    "| estimated |   1.28713 |      0.405811 |      0.022486 |  2.34827 |      3.08274 |    0.0799031 | 0.25137 |\n",
    "| initial   |   2.81054 |      0.442962 |      0.257387 |  4.62677 |      1.05851 |    0.0787717 | 0.33902 |\n",
    "####\n",
    "Performance on Individual Level \\\n",
    "rmse theta: 0.8966706033114552 \\\n",
    "rmse gain: 0.8351295524334317\n",
    "\n",
    "------------------------------------\n",
    "##### Results for With unconstrained BFGS and save ICC and density\n",
    "Latent dimension: 2,  Item dimension: 10, sample size 100 \\\n",
    "Early runtime: 3.18 seconds, 7 steps, 0.45 seconds per step \\\n",
    "Late runtime: 138.53 seconds, 15 steps, 9.24 seconds per step \\\n",
    "Early Marginal Likelihood, Optimal: -520.2, Estimated: -510.43, Initial -543.26 \\\n",
    "Late Marginal Likelihood, Optimal: -423.14, Estimated: -395.86, Initial -478.51\n",
    "|           |   early_A |   early_delta |   early_sigma |   late_A |   late_delta |   late_sigma |       psi |\n",
    "|:----------|----------:|--------------:|--------------:|---------:|-------------:|-------------:|----------:|\n",
    "| estimated |   1.46673 |      0.222442 |      0.180454 |  8.89911 |      3.884   |    0.0590434 | 0.0987126 |\n",
    "| initial   |   1.98992 |      0.373841 |      0.138664 |  3.10531 |      1.01749 |    0.0374059 | 0.279826  |\n",
    "####\n",
    "Performance on Individual Level \\\n",
    "rmse theta: 0.823547261347214 \\\n",
    "rmse gain: 1.1151668629591303\n",
    "\n",
    "------------------------------------\n",
    "##### Results for With unconstrained BFGS and unsave ICC and save density\n",
    "Latent dimension: 2,  Item dimension: 12, sample size 100 \\\n",
    "Early runtime: 3.87 seconds, 8 steps, 0.48 seconds per step \\\n",
    "Late runtime: 134.42 seconds, 9 steps, 14.94 seconds per step \\\n",
    "Early Marginal Likelihood, Optimal: -602.6, Estimated: -592.22, Initial -670.75 \\\n",
    "Late Marginal Likelihood, Optimal: -456.88, Estimated: -452.65, Initial -554.35\n",
    "|           |   early_A |   early_delta |   early_sigma |   late_A |   late_delta |   late_sigma |       psi |\n",
    "|:----------|----------:|--------------:|--------------:|---------:|-------------:|-------------:|----------:|\n",
    "| estimated |  0.690325 |      0.546951 |     0.0650538 |  1.27364 |     0.938354 |    0.0915703 | 0.0813927 |\n",
    "| initial   |  2.45374  |      0.70644  |     0.213122  |  2.99672 |     1.01538  |    0.137037  | 0.289388  |\n",
    "####\n",
    "Performance on Individual Level \\\n",
    "rmse theta: 0.9424593402985434 \\\n",
    "rmse gain: 0.9094035651380942"
   ]
  },
  {
   "cell_type": "markdown",
   "metadata": {},
   "source": [
    "## Experiment 1: MIRT-2PL Parameter Recovery"
   ]
  },
  {
   "cell_type": "code",
   "execution_count": 2,
   "metadata": {},
   "outputs": [],
   "source": [
    "import datetime\n",
    "\n",
    "def repeat_mirt_experiment(experiment, repetitions):\n",
    "    multiple_result_dict = {}\n",
    "    for i in range(0, repetitions):\n",
    "        multiple_result_dict[datetime.datetime.now()] = experiment()\n",
    "    return(multiple_result_dict)"
   ]
  },
  {
   "cell_type": "code",
   "execution_count": 3,
   "metadata": {},
   "outputs": [
    {
     "name": "stdout",
     "output_type": "stream",
     "text": [
      "Real latent covariance: [[1.     0.     0.     0.1695]\n",
      " [0.     1.     0.     0.4911]\n",
      " [0.     0.     1.     0.5247]\n",
      " [0.1695 0.4911 0.5247 1.    ]]\n",
      "Covariance matrix is good: True\n",
      "EM Iteration 2\n",
      "Current Monte Carlo Sample size: 300\n",
      "[[1.         0.49079947]\n",
      " [0.49079947 1.        ]]\n"
     ]
    },
    {
     "name": "stderr",
     "output_type": "stream",
     "text": [
      "c:\\Users\\Jesper\\Anaconda3\\lib\\site-packages\\scipy\\stats\\_qmc.py:2039: UserWarning: The balance properties of Sobol' points require n to be a power of 2.\n",
      "  samples = self.engine.random(n)\n"
     ]
    },
    {
     "name": "stdout",
     "output_type": "stream",
     "text": [
      "Step: 2: current parameter_diff: 12.927111945207757, current marginal loglikelihood: -592.5073648135902\n",
      "EM Iteration 3\n",
      "Current Monte Carlo Sample size: 300\n",
      "[[1.         0.40213035]\n",
      " [0.40213035 1.        ]]\n",
      "Step: 3: current parameter_diff: 9.505778576633883, current marginal loglikelihood: -572.9378901363236\n",
      "EM Iteration 4\n",
      "Current Monte Carlo Sample size: 330\n",
      "[[1.         0.28442727]\n",
      " [0.28442727 1.        ]]\n"
     ]
    },
    {
     "name": "stderr",
     "output_type": "stream",
     "text": [
      "c:\\Users\\Jesper\\Anaconda3\\lib\\site-packages\\scipy\\stats\\_qmc.py:2039: UserWarning: The balance properties of Sobol' points require n to be a power of 2.\n",
      "  samples = self.engine.random(n)\n"
     ]
    },
    {
     "name": "stdout",
     "output_type": "stream",
     "text": [
      "Step: 4: current parameter_diff: 7.6368472781001975, current marginal loglikelihood: -566.3290481355793\n",
      "EM Iteration 5\n",
      "Current Monte Carlo Sample size: 363\n",
      "[[1.         0.18364482]\n",
      " [0.18364482 1.        ]]\n",
      "Step: 5: current parameter_diff: 5.567487611924966, current marginal loglikelihood: -563.6173541505666\n",
      "EM Iteration 2\n"
     ]
    },
    {
     "name": "stderr",
     "output_type": "stream",
     "text": [
      "c:\\Users\\Jesper\\Anaconda3\\lib\\site-packages\\scipy\\stats\\_qmc.py:2039: UserWarning: The balance properties of Sobol' points require n to be a power of 2.\n",
      "  samples = self.engine.random(n)\n"
     ]
    },
    {
     "name": "stdout",
     "output_type": "stream",
     "text": [
      "Current Monte Carlo Sample size: 300\n",
      "[[1.         0.37451794 0.46809274 0.35409736]\n",
      " [0.37451794 1.         0.39322902 0.3190941 ]\n",
      " [0.46809274 0.39322902 1.         0.37438334]\n",
      " [0.35409736 0.3190941  0.37438334 1.        ]]\n",
      "Step: 2: current parameter_diff: 18.452200517330482, current marginal loglikelihood: -603.2430025634915\n",
      "EM Iteration 3\n"
     ]
    },
    {
     "name": "stderr",
     "output_type": "stream",
     "text": [
      "c:\\Users\\Jesper\\Anaconda3\\lib\\site-packages\\scipy\\stats\\_qmc.py:2039: UserWarning: The balance properties of Sobol' points require n to be a power of 2.\n",
      "  samples = self.engine.random(n)\n"
     ]
    },
    {
     "name": "stdout",
     "output_type": "stream",
     "text": [
      "Current Monte Carlo Sample size: 300\n",
      "[[1.         0.38915329 0.48717687 0.35418807]\n",
      " [0.38915329 1.         0.41130237 0.32036514]\n",
      " [0.48717687 0.41130237 1.         0.3713823 ]\n",
      " [0.35418807 0.32036514 0.3713823  1.        ]]\n",
      "Step: 3: current parameter_diff: 10.365437648427681, current marginal loglikelihood: -581.9176969591317\n",
      "EM Iteration 4\n"
     ]
    },
    {
     "name": "stderr",
     "output_type": "stream",
     "text": [
      "c:\\Users\\Jesper\\Anaconda3\\lib\\site-packages\\scipy\\stats\\_qmc.py:2039: UserWarning: The balance properties of Sobol' points require n to be a power of 2.\n",
      "  samples = self.engine.random(n)\n"
     ]
    },
    {
     "name": "stdout",
     "output_type": "stream",
     "text": [
      "Current Monte Carlo Sample size: 330\n",
      "[[1.         0.40348044 0.50739299 0.3513668 ]\n",
      " [0.40348044 1.         0.4289819  0.31721551]\n",
      " [0.50739299 0.4289819  1.         0.36381259]\n",
      " [0.3513668  0.31721551 0.36381259 1.        ]]\n",
      "Step: 4: current parameter_diff: 11.02849703840769, current marginal loglikelihood: -566.0124931960008\n",
      "EM Iteration 5\n"
     ]
    },
    {
     "name": "stderr",
     "output_type": "stream",
     "text": [
      "c:\\Users\\Jesper\\Anaconda3\\lib\\site-packages\\scipy\\stats\\_qmc.py:2039: UserWarning: The balance properties of Sobol' points require n to be a power of 2.\n",
      "  samples = self.engine.random(n)\n"
     ]
    },
    {
     "name": "stdout",
     "output_type": "stream",
     "text": [
      "Current Monte Carlo Sample size: 363\n",
      "[[1.         0.41595221 0.52732734 0.35232461]\n",
      " [0.41595221 1.         0.44383721 0.31693059]\n",
      " [0.52732734 0.44383721 1.         0.3583405 ]\n",
      " [0.35232461 0.31693059 0.3583405  1.        ]]\n"
     ]
    },
    {
     "name": "stderr",
     "output_type": "stream",
     "text": [
      "c:\\Users\\Jesper\\Documents\\GitHub\\Knowledge-Growth-Prediction\\em_algorithm\\e_step_mirt_2pl_gain.py:187: RuntimeWarning: divide by zero encountered in log\n",
      "  np.log(inv_icc), np.subtract(r_0, r_item))  # TODO: Make this save\n",
      "c:\\Users\\Jesper\\Documents\\GitHub\\Knowledge-Growth-Prediction\\em_algorithm\\e_step_mirt_2pl_gain.py:186: RuntimeWarning: invalid value encountered in multiply\n",
      "  log_likelihood_item = np.multiply(np.log(icc_values), r_item) + np.multiply(\n",
      "C:\\Users\\Jesper\\Documents\\GitHub\\Knowledge-Growth-Prediction\\em_algorithm\\m_step_mirt_2pl.py:71: RuntimeWarning: overflow encountered in exp\n",
      "  population = random.choices(population=population_base, weights=np.exp(\n"
     ]
    },
    {
     "name": "stdout",
     "output_type": "stream",
     "text": [
      "Step: 5: current parameter_diff: 13.978494137939377, current marginal loglikelihood: -546.1854141619829\n",
      "EM Iteration 6\n"
     ]
    },
    {
     "name": "stderr",
     "output_type": "stream",
     "text": [
      "c:\\Users\\Jesper\\Anaconda3\\lib\\site-packages\\scipy\\stats\\_qmc.py:2039: UserWarning: The balance properties of Sobol' points require n to be a power of 2.\n",
      "  samples = self.engine.random(n)\n"
     ]
    },
    {
     "name": "stdout",
     "output_type": "stream",
     "text": [
      "Current Monte Carlo Sample size: 399\n",
      "[[1.         0.42764559 0.54791518 0.35401993]\n",
      " [0.42764559 1.         0.45644312 0.31780691]\n",
      " [0.54791518 0.45644312 1.         0.35161129]\n",
      " [0.35401993 0.31780691 0.35161129 1.        ]]\n"
     ]
    },
    {
     "name": "stderr",
     "output_type": "stream",
     "text": [
      "c:\\Users\\Jesper\\Documents\\GitHub\\Knowledge-Growth-Prediction\\em_algorithm\\e_step_mirt_2pl_gain.py:187: RuntimeWarning: divide by zero encountered in log\n",
      "  np.log(inv_icc), np.subtract(r_0, r_item))  # TODO: Make this save\n",
      "c:\\Users\\Jesper\\Documents\\GitHub\\Knowledge-Growth-Prediction\\em_algorithm\\e_step_mirt_2pl_gain.py:186: RuntimeWarning: invalid value encountered in multiply\n",
      "  log_likelihood_item = np.multiply(np.log(icc_values), r_item) + np.multiply(\n",
      "C:\\Users\\Jesper\\Documents\\GitHub\\Knowledge-Growth-Prediction\\em_algorithm\\m_step_mirt_2pl.py:71: RuntimeWarning: overflow encountered in exp\n",
      "  population = random.choices(population=population_base, weights=np.exp(\n"
     ]
    },
    {
     "name": "stdout",
     "output_type": "stream",
     "text": [
      "Step: 6: current parameter_diff: 15.18067100602204, current marginal loglikelihood: -537.146569516618\n",
      "Absolute diff in A:\n",
      "[[0.00000000e+00 9.79287388e-01]\n",
      " [0.00000000e+00 7.16039627e-01]\n",
      " [0.00000000e+00 5.36751478e-02]\n",
      " [1.40886609e+00 0.00000000e+00]\n",
      " [3.35653659e-01 0.00000000e+00]\n",
      " [4.43470271e-01 0.00000000e+00]\n",
      " [2.49142581e+00 0.00000000e+00]\n",
      " [3.32628540e-02 0.00000000e+00]\n",
      " [8.34441481e-01 2.25551171e+00]\n",
      " [1.14785538e+00 7.60201941e-01]\n",
      " [2.51729040e-03 4.11748467e-01]\n",
      " [3.77514314e+00 1.94976973e+00]]\n",
      "Absolute diff in delta:\n",
      "[0.20485614 0.22818633 0.46653833 0.2300513  0.81540739 0.73106989\n",
      " 1.62973747 0.43466021 0.67738299 0.03486421 0.12459871 1.58007078]\n",
      "Absolute diff in sigma:\n",
      "[[0.     0.1836]\n",
      " [0.1836 0.    ]]\n",
      "Absolute diff in A:\n",
      "[[3.14792532 1.86004529]\n",
      " [1.57757238 5.57993558]\n",
      " [1.04433314 0.38044702]\n",
      " [0.48628397 0.42377872]\n",
      " [9.67678593 0.78546858]\n",
      " [0.2254858  0.21499714]\n",
      " [3.13856523 1.50933422]\n",
      " [4.10635536 5.26302585]\n",
      " [5.77445189 4.30287248]\n",
      " [2.642555   1.80966373]\n",
      " [6.86853549 2.15489115]\n",
      " [2.67360324 0.11163041]]\n",
      "Absolute diff in delta:\n",
      "[0.91989437 0.73954228 0.04977027 1.28738878 2.02027424 0.98756065\n",
      " 2.06132167 1.55549565 2.05993798 2.10621531 1.66708223 1.28434269]\n",
      "Absolute diff in A:\n",
      "[[0.00000000e+00 1.83534302e+00]\n",
      " [0.00000000e+00 1.79593009e+00]\n",
      " [0.00000000e+00 6.09731570e-01]\n",
      " [9.80185920e-01 0.00000000e+00]\n",
      " [5.63956817e-01 0.00000000e+00]\n",
      " [2.18889890e+00 0.00000000e+00]\n",
      " [4.93379111e+00 0.00000000e+00]\n",
      " [2.13313772e-01 0.00000000e+00]\n",
      " [4.44614667e-03 3.87744803e+00]\n",
      " [8.26724662e-01 2.29525965e+00]\n",
      " [2.25478226e+00 5.24405129e-01]\n",
      " [1.02999510e+01 1.80227770e+00]]\n",
      "Absolute diff in delta:\n",
      "[0.40797026 1.42555632 0.3284543  0.30707626 0.8496302  0.20816789\n",
      " 0.91487514 0.01927852 1.45365195 0.05430344 0.14623714 0.87502866]\n",
      "Absolute diff in sigma:\n",
      "[[0.  0.5]\n",
      " [0.5 0. ]]\n",
      "Absolute diff in A:\n",
      "[[0.55058893 2.32518617]\n",
      " [2.56298896 8.1241243 ]\n",
      " [0.56216647 1.12256279]\n",
      " [1.89359282 2.25115283]\n",
      " [8.68208497 1.07473162]\n",
      " [0.52933181 0.28940579]\n",
      " [4.00915182 0.92547105]\n",
      " [0.62693433 5.42037756]\n",
      " [0.19393677 5.6010932 ]\n",
      " [3.54878263 1.61962532]\n",
      " [5.9740316  0.34475695]\n",
      " [3.5957939  1.98046421]]\n",
      "Absolute diff in delta:\n",
      "[2.27696044 1.10932867 1.42886671 0.85122287 1.68925104 1.7814607\n",
      " 1.0032023  0.74528966 1.09935253 2.46920531 0.73795319 1.62326638]\n",
      "Real latent covariance: [[1.     0.3042 0.2399 0.1829]\n",
      " [0.3042 1.     0.     0.2051]\n",
      " [0.2399 0.     1.     0.3295]\n",
      " [0.1829 0.2051 0.3295 1.    ]]\n",
      "Covariance matrix is good: True\n",
      "EM Iteration 2\n",
      "Current Monte Carlo Sample size: 300\n",
      "[[1.        0.5400506]\n",
      " [0.5400506 1.       ]]\n"
     ]
    },
    {
     "name": "stderr",
     "output_type": "stream",
     "text": [
      "c:\\Users\\Jesper\\Anaconda3\\lib\\site-packages\\scipy\\stats\\_qmc.py:2039: UserWarning: The balance properties of Sobol' points require n to be a power of 2.\n",
      "  samples = self.engine.random(n)\n"
     ]
    },
    {
     "name": "stdout",
     "output_type": "stream",
     "text": [
      "Step: 2: current parameter_diff: 11.890230153583794, current marginal loglikelihood: -619.1435114311907\n",
      "EM Iteration 3\n",
      "Current Monte Carlo Sample size: 330\n",
      "[[1.         0.49600141]\n",
      " [0.49600141 1.        ]]\n"
     ]
    },
    {
     "name": "stderr",
     "output_type": "stream",
     "text": [
      "c:\\Users\\Jesper\\Anaconda3\\lib\\site-packages\\scipy\\stats\\_qmc.py:2039: UserWarning: The balance properties of Sobol' points require n to be a power of 2.\n",
      "  samples = self.engine.random(n)\n"
     ]
    },
    {
     "name": "stdout",
     "output_type": "stream",
     "text": [
      "Step: 3: current parameter_diff: 8.588892042525906, current marginal loglikelihood: -602.8632785409053\n",
      "EM Iteration 4\n",
      "Current Monte Carlo Sample size: 363\n",
      "[[1.        0.4216869]\n",
      " [0.4216869 1.       ]]\n",
      "Step: 4: current parameter_diff: 8.392331082268457, current marginal loglikelihood: -594.0800524931734\n",
      "EM Iteration 5\n",
      "Current Monte Carlo Sample size: 363\n",
      "[[1.         0.37195594]\n",
      " [0.37195594 1.        ]]\n"
     ]
    },
    {
     "name": "stderr",
     "output_type": "stream",
     "text": [
      "c:\\Users\\Jesper\\Anaconda3\\lib\\site-packages\\scipy\\stats\\_qmc.py:2039: UserWarning: The balance properties of Sobol' points require n to be a power of 2.\n",
      "  samples = self.engine.random(n)\n"
     ]
    },
    {
     "name": "stdout",
     "output_type": "stream",
     "text": [
      "Step: 5: current parameter_diff: 6.146657714157008, current marginal loglikelihood: -590.0782158033086\n",
      "EM Iteration 2\n"
     ]
    },
    {
     "name": "stderr",
     "output_type": "stream",
     "text": [
      "c:\\Users\\Jesper\\Anaconda3\\lib\\site-packages\\scipy\\stats\\_qmc.py:2039: UserWarning: The balance properties of Sobol' points require n to be a power of 2.\n",
      "  samples = self.engine.random(n)\n"
     ]
    },
    {
     "name": "stdout",
     "output_type": "stream",
     "text": [
      "Current Monte Carlo Sample size: 300\n",
      "[[1.         0.51207177 0.52622138 0.40954186]\n",
      " [0.51207177 1.         0.45060597 0.49741878]\n",
      " [0.52622138 0.45060597 1.         0.54512351]\n",
      " [0.40954186 0.49741878 0.54512351 1.        ]]\n",
      "Step: 2: current parameter_diff: 19.608084153791747, current marginal loglikelihood: -553.2703768720186\n",
      "EM Iteration 3\n"
     ]
    },
    {
     "name": "stderr",
     "output_type": "stream",
     "text": [
      "c:\\Users\\Jesper\\Anaconda3\\lib\\site-packages\\scipy\\stats\\_qmc.py:2039: UserWarning: The balance properties of Sobol' points require n to be a power of 2.\n",
      "  samples = self.engine.random(n)\n"
     ]
    },
    {
     "name": "stdout",
     "output_type": "stream",
     "text": [
      "Current Monte Carlo Sample size: 300\n",
      "[[1.         0.5477883  0.56346033 0.37055818]\n",
      " [0.5477883  1.         0.45186198 0.4342398 ]\n",
      " [0.56346033 0.45186198 1.         0.49740225]\n",
      " [0.37055818 0.4342398  0.49740225 1.        ]]\n"
     ]
    },
    {
     "name": "stderr",
     "output_type": "stream",
     "text": [
      "c:\\Users\\Jesper\\Documents\\GitHub\\Knowledge-Growth-Prediction\\em_algorithm\\e_step_mirt_2pl_gain.py:187: RuntimeWarning: divide by zero encountered in log\n",
      "  np.log(inv_icc), np.subtract(r_0, r_item))  # TODO: Make this save\n",
      "c:\\Users\\Jesper\\Documents\\GitHub\\Knowledge-Growth-Prediction\\em_algorithm\\e_step_mirt_2pl_gain.py:186: RuntimeWarning: invalid value encountered in multiply\n",
      "  log_likelihood_item = np.multiply(np.log(icc_values), r_item) + np.multiply(\n",
      "C:\\Users\\Jesper\\Documents\\GitHub\\Knowledge-Growth-Prediction\\em_algorithm\\m_step_mirt_2pl.py:71: RuntimeWarning: overflow encountered in exp\n",
      "  population = random.choices(population=population_base, weights=np.exp(\n"
     ]
    },
    {
     "name": "stdout",
     "output_type": "stream",
     "text": [
      "Step: 3: current parameter_diff: 10.786152718215957, current marginal loglikelihood: -530.030506820974\n",
      "EM Iteration 4\n"
     ]
    },
    {
     "name": "stderr",
     "output_type": "stream",
     "text": [
      "c:\\Users\\Jesper\\Anaconda3\\lib\\site-packages\\scipy\\stats\\_qmc.py:2039: UserWarning: The balance properties of Sobol' points require n to be a power of 2.\n",
      "  samples = self.engine.random(n)\n"
     ]
    },
    {
     "name": "stdout",
     "output_type": "stream",
     "text": [
      "Current Monte Carlo Sample size: 330\n",
      "[[1.         0.54413712 0.58375946 0.36701652]\n",
      " [0.54413712 1.         0.45756654 0.42348655]\n",
      " [0.58375946 0.45756654 1.         0.48763709]\n",
      " [0.36701652 0.42348655 0.48763709 1.        ]]\n"
     ]
    },
    {
     "name": "stderr",
     "output_type": "stream",
     "text": [
      "c:\\Users\\Jesper\\Documents\\GitHub\\Knowledge-Growth-Prediction\\em_algorithm\\e_step_mirt_2pl_gain.py:187: RuntimeWarning: divide by zero encountered in log\n",
      "  np.log(inv_icc), np.subtract(r_0, r_item))  # TODO: Make this save\n",
      "c:\\Users\\Jesper\\Documents\\GitHub\\Knowledge-Growth-Prediction\\em_algorithm\\e_step_mirt_2pl_gain.py:186: RuntimeWarning: invalid value encountered in multiply\n",
      "  log_likelihood_item = np.multiply(np.log(icc_values), r_item) + np.multiply(\n",
      "C:\\Users\\Jesper\\Documents\\GitHub\\Knowledge-Growth-Prediction\\em_algorithm\\m_step_mirt_2pl.py:71: RuntimeWarning: overflow encountered in exp\n",
      "  population = random.choices(population=population_base, weights=np.exp(\n"
     ]
    },
    {
     "name": "stdout",
     "output_type": "stream",
     "text": [
      "Step: 4: current parameter_diff: 10.190645089253845, current marginal loglikelihood: -519.0476848354348\n",
      "EM Iteration 5\n"
     ]
    },
    {
     "name": "stderr",
     "output_type": "stream",
     "text": [
      "c:\\Users\\Jesper\\Anaconda3\\lib\\site-packages\\scipy\\stats\\_qmc.py:2039: UserWarning: The balance properties of Sobol' points require n to be a power of 2.\n",
      "  samples = self.engine.random(n)\n"
     ]
    },
    {
     "name": "stdout",
     "output_type": "stream",
     "text": [
      "Current Monte Carlo Sample size: 363\n",
      "[[1.         0.54490488 0.60520769 0.3642383 ]\n",
      " [0.54490488 1.         0.46295856 0.41380001]\n",
      " [0.60520769 0.46295856 1.         0.47678241]\n",
      " [0.3642383  0.41380001 0.47678241 1.        ]]\n"
     ]
    },
    {
     "name": "stderr",
     "output_type": "stream",
     "text": [
      "c:\\Users\\Jesper\\Documents\\GitHub\\Knowledge-Growth-Prediction\\em_algorithm\\e_step_mirt_2pl_gain.py:187: RuntimeWarning: divide by zero encountered in log\n",
      "  np.log(inv_icc), np.subtract(r_0, r_item))  # TODO: Make this save\n",
      "c:\\Users\\Jesper\\Documents\\GitHub\\Knowledge-Growth-Prediction\\em_algorithm\\e_step_mirt_2pl_gain.py:186: RuntimeWarning: invalid value encountered in multiply\n",
      "  log_likelihood_item = np.multiply(np.log(icc_values), r_item) + np.multiply(\n",
      "C:\\Users\\Jesper\\Documents\\GitHub\\Knowledge-Growth-Prediction\\em_algorithm\\m_step_mirt_2pl.py:71: RuntimeWarning: overflow encountered in exp\n",
      "  population = random.choices(population=population_base, weights=np.exp(\n"
     ]
    },
    {
     "name": "stdout",
     "output_type": "stream",
     "text": [
      "Step: 5: current parameter_diff: 8.736992759031816, current marginal loglikelihood: -513.6672899638598\n",
      "EM Iteration 6\n"
     ]
    },
    {
     "name": "stderr",
     "output_type": "stream",
     "text": [
      "c:\\Users\\Jesper\\Anaconda3\\lib\\site-packages\\scipy\\stats\\_qmc.py:2039: UserWarning: The balance properties of Sobol' points require n to be a power of 2.\n",
      "  samples = self.engine.random(n)\n"
     ]
    },
    {
     "name": "stdout",
     "output_type": "stream",
     "text": [
      "Current Monte Carlo Sample size: 363\n",
      "[[1.         0.54880351 0.62967172 0.3653768 ]\n",
      " [0.54880351 1.         0.46632738 0.40804193]\n",
      " [0.62967172 0.46632738 1.         0.4661568 ]\n",
      " [0.3653768  0.40804193 0.4661568  1.        ]]\n"
     ]
    },
    {
     "name": "stderr",
     "output_type": "stream",
     "text": [
      "c:\\Users\\Jesper\\Documents\\GitHub\\Knowledge-Growth-Prediction\\em_algorithm\\e_step_mirt_2pl_gain.py:187: RuntimeWarning: divide by zero encountered in log\n",
      "  np.log(inv_icc), np.subtract(r_0, r_item))  # TODO: Make this save\n",
      "c:\\Users\\Jesper\\Documents\\GitHub\\Knowledge-Growth-Prediction\\em_algorithm\\e_step_mirt_2pl_gain.py:186: RuntimeWarning: invalid value encountered in multiply\n",
      "  log_likelihood_item = np.multiply(np.log(icc_values), r_item) + np.multiply(\n",
      "C:\\Users\\Jesper\\Documents\\GitHub\\Knowledge-Growth-Prediction\\em_algorithm\\m_step_mirt_2pl.py:71: RuntimeWarning: overflow encountered in exp\n",
      "  population = random.choices(population=population_base, weights=np.exp(\n"
     ]
    },
    {
     "name": "stdout",
     "output_type": "stream",
     "text": [
      "Step: 6: current parameter_diff: 7.9713474866737455, current marginal loglikelihood: -510.9760647269765\n",
      "Absolute diff in A:\n",
      "[[0.         0.11033676]\n",
      " [0.         0.55785308]\n",
      " [0.         0.61440032]\n",
      " [0.         0.15167896]\n",
      " [0.         1.43969578]\n",
      " [0.40490474 0.        ]\n",
      " [6.78782412 0.        ]\n",
      " [0.16677298 0.        ]\n",
      " [5.1172315  0.77051977]\n",
      " [1.00975638 0.23122067]\n",
      " [0.02624702 0.15338498]\n",
      " [1.12657888 0.14060907]]\n",
      "Absolute diff in delta:\n",
      "[0.43746994 0.3471241  0.34525609 0.21184708 0.39802006 0.24719617\n",
      " 0.44683922 0.30867422 1.09947736 1.83778328 0.55601312 0.52897869]\n",
      "Absolute diff in sigma:\n",
      "[[0.00e+00 6.77e-02]\n",
      " [6.77e-02 1.00e-04]]\n",
      "Absolute diff in A:\n",
      "[[1.39765626e-01 1.07192960e+00]\n",
      " [1.65767735e-01 2.33739516e+00]\n",
      " [2.33698375e+00 2.41625406e-01]\n",
      " [2.36199724e+00 2.91604596e+00]\n",
      " [8.49769907e-03 7.61170826e-01]\n",
      " [3.15776253e+00 3.08144968e+00]\n",
      " [3.69249552e+00 8.63656653e+00]\n",
      " [4.58756084e-01 2.35553400e-01]\n",
      " [2.30906878e+00 1.25867043e+00]\n",
      " [9.22801789e-01 1.71522155e-01]\n",
      " [3.03253106e+00 1.72497047e+00]\n",
      " [4.97028346e+00 1.42977760e+00]]\n",
      "Absolute diff in delta:\n",
      "[1.18669814 2.42245357 2.08391962 2.50830756 0.76668047 1.04440032\n",
      " 0.83159472 2.28913125 2.61059886 1.58872224 4.46881367 1.38782206]\n",
      "Absolute diff in A:\n",
      "[[ 0.          0.35068735]\n",
      " [ 0.          0.15747856]\n",
      " [ 0.          0.1562227 ]\n",
      " [ 0.          0.63144521]\n",
      " [ 0.          2.92190612]\n",
      " [ 2.26862186  0.        ]\n",
      " [10.2300376   0.        ]\n",
      " [ 5.0192197   0.        ]\n",
      " [ 9.62674511  0.77378458]\n",
      " [ 1.88789779  5.72283612]\n",
      " [ 0.34853457  1.1739611 ]\n",
      " [ 1.63588484  0.30516177]]\n",
      "Absolute diff in delta:\n",
      "[0.59072993 0.58154149 0.35075386 0.09551975 0.42144388 0.53245373\n",
      " 0.11179428 1.26672773 1.49143503 0.14520192 0.66403124 0.89283902]\n",
      "Absolute diff in sigma:\n",
      "[[0.     0.1958]\n",
      " [0.1958 0.    ]]\n",
      "Absolute diff in A:\n",
      "[[0.63776732 0.56511746]\n",
      " [2.00157253 0.92426194]\n",
      " [4.06828179 1.79835025]\n",
      " [1.25637389 2.7377953 ]\n",
      " [0.53441661 0.6222713 ]\n",
      " [0.36598499 2.08940819]\n",
      " [0.07749769 7.64355349]\n",
      " [0.82092269 0.90102684]\n",
      " [4.29596755 3.61551886]\n",
      " [1.37719371 0.0149167 ]\n",
      " [5.20597684 1.35522892]\n",
      " [4.55107621 0.41913406]]\n",
      "Absolute diff in delta:\n",
      "[1.93076197 3.12669042 2.29245165 3.15346145 0.76746524 1.44229586\n",
      " 1.334332   2.20023809 0.79261005 2.6837445  1.69069729 0.86088272]\n"
     ]
    }
   ],
   "source": [
    "experiment_1_1 = lambda: mirt_simulation_experiment(sample_size=100, item_dimension=12, latent_dimension=2,\n",
    "                                            q_type=\"full\", stop_threshold=20, person_method=\"BFGS\",\n",
    "                                            sigma_constraint=\"unconstrained\")\n",
    "result_dict = repeat_mirt_experiment(experiment_1_1, 2)"
   ]
  },
  {
   "cell_type": "code",
   "execution_count": 4,
   "metadata": {},
   "outputs": [
    {
     "data": {
      "text/plain": [
       "dict_keys([datetime.datetime(2022, 10, 29, 18, 37, 46, 222541), datetime.datetime(2022, 10, 29, 18, 38, 56, 273525)])"
      ]
     },
     "execution_count": 4,
     "metadata": {},
     "output_type": "execute_result"
    }
   ],
   "source": [
    "result_dict.keys()"
   ]
  },
  {
   "cell_type": "code",
   "execution_count": 26,
   "metadata": {},
   "outputs": [],
   "source": [
    "def parse_method_dict(performance_dict):\n",
    "        ep_dict = performance_dict[\"early_performance\"]\n",
    "        lp_dict = performance_dict[\"late_performance\"]\n",
    "        early_runtime = np.round(ep_dict[\"run\"][\"runtime\"], 2)\n",
    "        early_steps = ep_dict[\"run\"][\"number_steps\"]\n",
    "        late_runtime = np.round(lp_dict[\"run\"][\"runtime\"], 2)\n",
    "        late_steps = lp_dict[\"run\"][\"number_steps\"]\n",
    "        early_l_optimal = np.round(ep_dict[\"early_marginal_likelihood\"][\"optimal\"], 2)\n",
    "        early_l_estimated = np.round(ep_dict[\"early_marginal_likelihood\"][\"estimated\"], 2)\n",
    "        late_l_optimal = np.round(lp_dict[\"late_marginal_likelihood\"][\"optimal\"], 2)\n",
    "        late_l_estimated = np.round(lp_dict[\"late_marginal_likelihood\"][\"estimated\"], 2)\n",
    "        rmse_early_model = ep_dict[\"rmse\"]\n",
    "        rmse_late_model = lp_dict[\"rmse\"]\n",
    "        rmse_early_A = rmse_early_model[\"rmse_A\"]\n",
    "        rmse_early_delta = rmse_early_model[\"rmse_delta\"]\n",
    "        rmse_early_sigma = rmse_early_model[\"rmse_sigma\"]\n",
    "        rmse_late_A = rmse_late_model[\"rmse_A\"]\n",
    "        rmse_late_delta = rmse_late_model[\"rmse_delta\"]\n",
    "        rmse_late_psi = rmse_late_model[\"rmse_psi\"]\n",
    "        rmse_late_sigma = rmse_late_model[\"rmse_sigma\"]\n",
    "        performance_vector = np.array([early_runtime, late_runtime, early_steps, late_steps, early_l_optimal, early_l_estimated,\n",
    "                                 late_l_optimal, late_l_estimated,\n",
    "                                rmse_early_A, rmse_early_delta, rmse_early_sigma, \n",
    "                                rmse_late_A, rmse_late_delta, rmse_late_psi, rmse_late_sigma])\n",
    "        performance_df = pd.DataFrame(data=pd.DataFrame(performance_vector).transpose())\n",
    "        performance_df.columns = [\"early_runtime\", \"late_runtime\", \"early_steps\", \"late_steps\", \"early_l_optimal\", \"early_l_estimated\",\n",
    "                                 \"late_l_optimal\", \"late_l_estimated\", \n",
    "                                \"rmse_early_A\", \"rmse_early_delta\", \"rmse_early_sigma\", \n",
    "                                \"rmse_late_A\", \"rmse_late_delta\", \"rmse_psi\", \"rmse_late_sigma\"]\n",
    "        return(performance_df)\n",
    "\n",
    "def get_result_df(_result_dict):\n",
    "    keylist = list(_result_dict.keys())\n",
    "    latent_dimension = _result_dict[keylist[0]][\"sample\"][\"latent_dimension\"]\n",
    "    item_dimension = _result_dict[keylist[0]][\"sample\"][\"item_dimension\"]\n",
    "    sample_size = _result_dict[keylist[0]][\"sample\"][\"sample_size\"]\n",
    "    meta = {\"latent_dimension\": latent_dimension, \"item_dimension\": item_dimension, \"sample_size\": sample_size}\n",
    "    result_df = pd.DataFrame()\n",
    "    for key in keylist:\n",
    "        result_dict = _result_dict[key]\n",
    "        method_list = list(result_dict.keys())\n",
    "        method_list.remove(\"sample\")\n",
    "        for method in method_list:\n",
    "            method_info_vector = np.array([latent_dimension, item_dimension, sample_size, key, method])\n",
    "            method_info_df = pd.DataFrame(data=pd.DataFrame(method_info_vector).transpose())\n",
    "            method_info_df.columns=[\"latent_dimension\", \"item_dimension\", \"sample_size\", \"key\", \"method\"]\n",
    "            performance_dict = result_dict[method]\n",
    "            method_row = parse_method_dict(performance_dict)\n",
    "            method_row = pd.concat((method_info_df, method_row), axis=1)\n",
    "            result_df = pd.concat((result_df, method_row), axis=0)\n",
    "    return(result_df)\n"
   ]
  },
  {
   "cell_type": "code",
   "execution_count": 29,
   "metadata": {},
   "outputs": [
    {
     "data": {
      "text/html": [
       "<div>\n",
       "<style scoped>\n",
       "    .dataframe tbody tr th:only-of-type {\n",
       "        vertical-align: middle;\n",
       "    }\n",
       "\n",
       "    .dataframe tbody tr th {\n",
       "        vertical-align: top;\n",
       "    }\n",
       "\n",
       "    .dataframe thead th {\n",
       "        text-align: right;\n",
       "    }\n",
       "</style>\n",
       "<table border=\"1\" class=\"dataframe\">\n",
       "  <thead>\n",
       "    <tr style=\"text-align: right;\">\n",
       "      <th></th>\n",
       "      <th>early_runtime</th>\n",
       "      <th>late_runtime</th>\n",
       "      <th>early_steps</th>\n",
       "      <th>late_steps</th>\n",
       "      <th>early_l_optimal</th>\n",
       "      <th>early_l_estimated</th>\n",
       "      <th>late_l_optimal</th>\n",
       "      <th>late_l_estimated</th>\n",
       "      <th>rmse_early_A</th>\n",
       "      <th>rmse_early_delta</th>\n",
       "      <th>rmse_early_sigma</th>\n",
       "      <th>rmse_late_A</th>\n",
       "      <th>rmse_late_delta</th>\n",
       "      <th>rmse_psi</th>\n",
       "      <th>rmse_late_sigma</th>\n",
       "    </tr>\n",
       "    <tr>\n",
       "      <th>method</th>\n",
       "      <th></th>\n",
       "      <th></th>\n",
       "      <th></th>\n",
       "      <th></th>\n",
       "      <th></th>\n",
       "      <th></th>\n",
       "      <th></th>\n",
       "      <th></th>\n",
       "      <th></th>\n",
       "      <th></th>\n",
       "      <th></th>\n",
       "      <th></th>\n",
       "      <th></th>\n",
       "      <th></th>\n",
       "      <th></th>\n",
       "    </tr>\n",
       "  </thead>\n",
       "  <tbody>\n",
       "    <tr>\n",
       "      <th>initial</th>\n",
       "      <td>0.000</td>\n",
       "      <td>0.000</td>\n",
       "      <td>0.0</td>\n",
       "      <td>0.0</td>\n",
       "      <td>-584.875</td>\n",
       "      <td>-659.09</td>\n",
       "      <td>-579.265</td>\n",
       "      <td>-621.66</td>\n",
       "      <td>3.044415</td>\n",
       "      <td>0.743931</td>\n",
       "      <td>0.246002</td>\n",
       "      <td>3.180891</td>\n",
       "      <td>1.768273</td>\n",
       "      <td>0.372834</td>\n",
       "      <td>0.069014</td>\n",
       "    </tr>\n",
       "    <tr>\n",
       "      <th>late_em</th>\n",
       "      <td>2.525</td>\n",
       "      <td>53.135</td>\n",
       "      <td>6.0</td>\n",
       "      <td>7.0</td>\n",
       "      <td>-585.600</td>\n",
       "      <td>-577.00</td>\n",
       "      <td>-536.800</td>\n",
       "      <td>-524.17</td>\n",
       "      <td>1.514053</td>\n",
       "      <td>0.750542</td>\n",
       "      <td>0.088848</td>\n",
       "      <td>3.203046</td>\n",
       "      <td>1.849611</td>\n",
       "      <td>0.355705</td>\n",
       "      <td>0.109496</td>\n",
       "    </tr>\n",
       "  </tbody>\n",
       "</table>\n",
       "</div>"
      ],
      "text/plain": [
       "         early_runtime  late_runtime  early_steps  late_steps  \\\n",
       "method                                                          \n",
       "initial          0.000         0.000          0.0         0.0   \n",
       "late_em          2.525        53.135          6.0         7.0   \n",
       "\n",
       "         early_l_optimal  early_l_estimated  late_l_optimal  late_l_estimated  \\\n",
       "method                                                                          \n",
       "initial         -584.875            -659.09        -579.265           -621.66   \n",
       "late_em         -585.600            -577.00        -536.800           -524.17   \n",
       "\n",
       "         rmse_early_A  rmse_early_delta  rmse_early_sigma  rmse_late_A  \\\n",
       "method                                                                   \n",
       "initial      3.044415          0.743931          0.246002     3.180891   \n",
       "late_em      1.514053          0.750542          0.088848     3.203046   \n",
       "\n",
       "         rmse_late_delta  rmse_psi  rmse_late_sigma  \n",
       "method                                               \n",
       "initial         1.768273  0.372834         0.069014  \n",
       "late_em         1.849611  0.355705         0.109496  "
      ]
     },
     "execution_count": 29,
     "metadata": {},
     "output_type": "execute_result"
    }
   ],
   "source": [
    "get_result_df(result_dict).groupby([\"method\"]).mean()"
   ]
  },
  {
   "cell_type": "code",
   "execution_count": 23,
   "metadata": {},
   "outputs": [
    {
     "name": "stdout",
     "output_type": "stream",
     "text": [
      "Real latent covariance: [[1.]]\n",
      "Covariance matrix is good: True\n",
      "EM Iteration 2\n"
     ]
    },
    {
     "name": "stderr",
     "output_type": "stream",
     "text": [
      "c:\\Users\\Jesper\\Anaconda3\\lib\\site-packages\\scipy\\stats\\_qmc.py:2039: UserWarning: The balance properties of Sobol' points require n to be a power of 2.\n",
      "  samples = self.engine.random(n)\n"
     ]
    },
    {
     "name": "stdout",
     "output_type": "stream",
     "text": [
      "Current Monte Carlo Sample size: 150\n",
      "Step: 2: current parameter_diff: 22.742099580485075, current marginal loglikelihood: -8816.976449557947\n",
      "EM Iteration 3\n",
      "Current Monte Carlo Sample size: 165\n",
      "Step: 3: current parameter_diff: 10.719114330591957, current marginal loglikelihood: -8747.334230330345\n",
      "EM Iteration 4\n",
      "Current Monte Carlo Sample size: 165\n",
      "Step: 4: current parameter_diff: 4.741911411251834, current marginal loglikelihood: -8715.022616878563\n",
      "EM Iteration 5\n",
      "Current Monte Carlo Sample size: 165\n",
      "Step: 5: current parameter_diff: 1.8142332751245616, current marginal loglikelihood: -8712.134520806754\n",
      "EM Iteration 6\n",
      "Current Monte Carlo Sample size: 181\n",
      "Step: 6: current parameter_diff: 1.2343984015305836, current marginal loglikelihood: -8716.601796257768\n",
      "EM Iteration 7\n",
      "Current Monte Carlo Sample size: 199\n",
      "Step: 7: current parameter_diff: 1.691136460449655, current marginal loglikelihood: -8705.167502668424\n",
      "EM Iteration 8\n",
      "Current Monte Carlo Sample size: 199\n",
      "Step: 8: current parameter_diff: 0.2547466106287172, current marginal loglikelihood: -8700.162497959529\n",
      "EM Iteration 9\n",
      "Current Monte Carlo Sample size: 199\n",
      "Step: 9: current parameter_diff: 0.7355861538568866, current marginal loglikelihood: -8703.959490776922\n",
      "EM Iteration 10\n",
      "Current Monte Carlo Sample size: 199\n",
      "Step: 10: current parameter_diff: 0.1776645604785898, current marginal loglikelihood: -8704.337547876567\n",
      "EM Iteration 11\n",
      "Current Monte Carlo Sample size: 199\n",
      "Step: 11: current parameter_diff: 0.21422883852065394, current marginal loglikelihood: -8697.540415284748\n",
      "EM Iteration 12\n",
      "Current Monte Carlo Sample size: 199\n",
      "Step: 12: current parameter_diff: 0.41389714854448423, current marginal loglikelihood: -8701.266272287821\n",
      "EM Iteration 13\n",
      "Current Monte Carlo Sample size: 218\n",
      "Step: 13: current parameter_diff: 0.6380289667922019, current marginal loglikelihood: -8699.120577942349\n",
      "EM Iteration 14\n",
      "Current Monte Carlo Sample size: 239\n",
      "Step: 14: current parameter_diff: 0.18583090466334562, current marginal loglikelihood: -8700.498414285612\n",
      "EM Iteration 15\n",
      "Current Monte Carlo Sample size: 239\n",
      "Step: 15: current parameter_diff: 0.21416430038885137, current marginal loglikelihood: -8696.79514155463\n",
      "EM Iteration 16\n",
      "Current Monte Carlo Sample size: 262\n",
      "Step: 16: current parameter_diff: 0.1909580094424126, current marginal loglikelihood: -8702.14373481644\n",
      "EM Iteration 17\n",
      "Current Monte Carlo Sample size: 288\n",
      "Step: 17: current parameter_diff: 0.34105519931365746, current marginal loglikelihood: -8700.647419398761\n",
      "EM Iteration 18\n",
      "Current Monte Carlo Sample size: 316\n",
      "Step: 18: current parameter_diff: 0.04308677798857863, current marginal loglikelihood: -8699.933789661973\n",
      "EM Iteration 19\n",
      "Current Monte Carlo Sample size: 316\n",
      "Step: 19: current parameter_diff: 0.2024689513587688, current marginal loglikelihood: -8701.074678352565\n",
      "Absolute diff in A:\n",
      "[[0.1020642 ]\n",
      " [0.20663693]\n",
      " [0.03573951]\n",
      " [0.00609694]\n",
      " [0.06516089]\n",
      " [0.01231139]\n",
      " [0.19665506]\n",
      " [0.00442154]\n",
      " [0.15067377]\n",
      " [0.56588477]\n",
      " [0.06358961]\n",
      " [0.3477551 ]\n",
      " [0.07468231]\n",
      " [0.23280827]\n",
      " [0.14366572]\n",
      " [0.01964551]\n",
      " [0.11642367]\n",
      " [0.08059222]\n",
      " [0.02668696]\n",
      " [0.01302053]]\n",
      "Absolute diff in delta:\n",
      "[0.01372103 0.22600127 0.15797519 0.08365494 0.03256898 0.0999537\n",
      " 0.03129984 0.07269897 0.08900448 0.82638419 0.00167903 0.11498386\n",
      " 0.12192369 0.097956   0.15068923 0.06682692 0.09762189 0.14604488\n",
      " 0.04722096 0.04711922]\n",
      "Absolute diff in sigma:\n",
      "[[0.]]\n",
      "Absolute diff in A:\n",
      "[[0.50480738]\n",
      " [2.43900995]\n",
      " [0.72186482]\n",
      " [0.02314259]\n",
      " [0.799451  ]\n",
      " [0.77279166]\n",
      " [2.32243462]\n",
      " [3.07388443]\n",
      " [1.98502202]\n",
      " [3.35444471]\n",
      " [1.95801906]\n",
      " [3.47411164]\n",
      " [0.68078693]\n",
      " [1.19511503]\n",
      " [0.11594162]\n",
      " [0.48457238]\n",
      " [0.81020703]\n",
      " [0.04190402]\n",
      " [0.41282297]\n",
      " [0.79047423]]\n",
      "Absolute diff in delta:\n",
      "[0.15616958 2.07119572 0.19025844 0.13573243 1.20619844 0.06185352\n",
      " 0.92410513 1.27926034 2.15956441 5.28107992 0.57975271 0.13153789\n",
      " 0.40685445 1.39300472 0.98756327 0.61693666 0.53702806 0.08668895\n",
      " 0.02792248 0.04123975]\n",
      "Absolute diff in sigma:\n",
      "[[0.]]\n",
      "Absolute diff in A:\n",
      "[[2.83315462e-01 2.52385628e+00 1.12282671e+00 3.65691722e-01\n",
      "  5.42272713e-01 1.23571703e+00 2.37241685e+00 3.07591464e+00\n",
      "  1.99636962e+00 2.36348024e+00 1.81406166e+00 3.19221538e+00\n",
      "  2.65606562e-01 5.95141383e-01 1.45580546e-01 1.48689370e-01\n",
      "  5.91097731e-01 4.53287136e-01 8.21637537e-01 1.23228696e+00]\n",
      " [1.65088711e+00 5.89653704e-01 3.05702928e+00 2.29989430e+00\n",
      "  1.39192986e+00 3.16991961e+00 4.38214271e-01 1.14171206e+00\n",
      "  6.21670481e-02 4.29277667e-01 1.20140915e-01 1.25801281e+00\n",
      "  1.66859601e+00 1.33906119e+00 2.07978312e+00 1.78551321e+00\n",
      "  1.34310484e+00 2.38748971e+00 2.75584011e+00 3.16648953e+00]\n",
      " [1.50998766e+00 3.75052848e+00 1.03845490e-01 8.60980476e-01\n",
      "  1.76894491e+00 9.04483461e-03 3.59908904e+00 4.30258683e+00\n",
      "  3.22304182e+00 3.59015244e+00 3.04073386e+00 4.41888758e+00\n",
      "  1.49227876e+00 1.82181358e+00 1.08109165e+00 1.37536157e+00\n",
      "  1.81776993e+00 7.73385062e-01 4.05034661e-01 5.61476163e-03]\n",
      " [7.64980254e-01 3.00552107e+00 6.41161915e-01 1.15973070e-01\n",
      "  1.02393751e+00 7.54052240e-01 2.85408164e+00 3.55757943e+00\n",
      "  2.47803442e+00 2.84514503e+00 2.29572645e+00 3.67388017e+00\n",
      "  7.47271354e-01 1.07680618e+00 3.36084247e-01 6.30354162e-01\n",
      "  1.07276252e+00 2.83776562e-02 3.39972744e-01 7.50622167e-01]\n",
      " [1.13281560e-02 2.22921266e+00 1.41747033e+00 6.60335340e-01\n",
      "  2.47629095e-01 1.53036065e+00 2.07777323e+00 2.78127102e+00\n",
      "  1.70172601e+00 2.06883662e+00 1.51941804e+00 2.89757176e+00\n",
      "  2.90370560e-02 3.00497766e-01 4.40224163e-01 1.45954248e-01\n",
      "  2.96454113e-01 7.47930754e-01 1.11628115e+00 1.52693058e+00]\n",
      " [1.56091450e+00 3.80145532e+00 1.54772332e-01 9.11907317e-01\n",
      "  1.81987175e+00 4.18820069e-02 3.65001589e+00 4.35351368e+00\n",
      "  3.27396866e+00 3.64107928e+00 3.09166070e+00 4.46981442e+00\n",
      "  1.54320560e+00 1.87274042e+00 1.13201849e+00 1.42628841e+00\n",
      "  1.86869677e+00 8.24311903e-01 4.55961503e-01 4.53120799e-02]\n",
      " [1.53431178e+00 7.06229034e-01 2.94045395e+00 2.18331897e+00\n",
      "  1.27535453e+00 3.05334428e+00 5.54789602e-01 1.25828739e+00\n",
      "  1.78742378e-01 5.45852997e-01 3.56558494e-03 1.37458814e+00\n",
      "  1.55202068e+00 1.22248586e+00 1.96320779e+00 1.66893787e+00\n",
      "  1.22652951e+00 2.27091438e+00 2.63926478e+00 3.04991420e+00]\n",
      " [2.28576159e+00 4.52207736e-02 3.69190376e+00 2.93476877e+00\n",
      "  2.02680434e+00 3.80479408e+00 1.96660206e-01 5.06837585e-01\n",
      "  5.72707429e-01 2.05596810e-01 7.55015392e-01 6.23138330e-01\n",
      "  2.30347049e+00 1.97393567e+00 2.71465760e+00 2.42038768e+00\n",
      "  1.97797932e+00 3.02236419e+00 3.39071459e+00 3.80136401e+00]\n",
      " [1.19689918e+00 1.04364164e+00 2.60304135e+00 1.84590636e+00\n",
      "  9.37941926e-01 2.71593167e+00 8.92202207e-01 1.59570000e+00\n",
      "  5.16154984e-01 8.83265603e-01 3.33847021e-01 1.71200074e+00\n",
      "  1.21460808e+00 8.85073256e-01 1.62579518e+00 1.33152527e+00\n",
      "  8.89116908e-01 1.93350178e+00 2.30185218e+00 2.71250160e+00]\n",
      " [2.56632187e+00 3.25781055e-01 3.97246404e+00 3.21532906e+00\n",
      "  2.30736462e+00 4.08535437e+00 4.77220487e-01 2.26277303e-01\n",
      "  8.53267710e-01 4.86157091e-01 1.03557567e+00 3.42578049e-01\n",
      "  2.58403077e+00 2.25449595e+00 2.99521788e+00 2.70094796e+00\n",
      "  2.25853960e+00 3.30292447e+00 3.67127487e+00 4.08192429e+00]\n",
      " [1.16989622e+00 1.07064459e+00 2.57603839e+00 1.81890341e+00\n",
      "  9.10938973e-01 2.68892872e+00 9.19205160e-01 1.62270295e+00\n",
      "  5.43157937e-01 9.10268556e-01 3.60849974e-01 1.73900370e+00\n",
      "  1.18760512e+00 8.58070302e-01 1.59879223e+00 1.30452232e+00\n",
      "  8.62113955e-01 1.90649882e+00 2.27484922e+00 2.68549865e+00]\n",
      " [2.68598880e+00 4.45447988e-01 4.09213097e+00 3.33499599e+00\n",
      "  2.42703155e+00 4.20502130e+00 5.96887420e-01 1.06610370e-01\n",
      "  9.72934643e-01 6.05824024e-01 1.15524261e+00 2.22911116e-01\n",
      "  2.70369770e+00 2.37416288e+00 3.11488481e+00 2.82061490e+00\n",
      "  2.37820654e+00 3.42259140e+00 3.79094180e+00 4.20159123e+00]\n",
      " [1.07335910e-01 2.34787673e+00 1.29880626e+00 5.41671275e-01\n",
      "  3.66293160e-01 1.41169658e+00 2.19643729e+00 2.89993508e+00\n",
      "  1.82039007e+00 2.18750069e+00 1.63808211e+00 3.01623583e+00\n",
      "  8.96270096e-02 4.19161831e-01 3.21560098e-01 2.72901826e-02\n",
      "  4.15118178e-01 6.29266689e-01 9.97617089e-01 1.40826651e+00]\n",
      " [4.06992192e-01 1.83354862e+00 1.81313436e+00 1.05599938e+00\n",
      "  1.48034941e-01 1.92602469e+00 1.68210919e+00 2.38560698e+00\n",
      "  1.30606197e+00 1.67317259e+00 1.12375401e+00 2.50190773e+00\n",
      "  4.24701092e-01 9.51662703e-02 8.35888199e-01 5.41618284e-01\n",
      "  9.92099232e-02 1.14359479e+00 1.51194519e+00 1.92259461e+00]\n",
      " [6.72181222e-01 2.91272204e+00 7.33960948e-01 2.31740377e-02\n",
      "  9.31138473e-01 8.46851273e-01 2.76128261e+00 3.46478040e+00\n",
      "  2.38523538e+00 2.75234600e+00 2.20292742e+00 3.58108114e+00\n",
      "  6.54472322e-01 9.84007143e-01 2.43285214e-01 5.37555130e-01\n",
      "  9.79963490e-01 6.44213764e-02 4.32771777e-01 8.43421200e-01]\n",
      " [3.03550464e-01 2.54409128e+00 1.10259171e+00 3.45456720e-01\n",
      "  5.62507715e-01 1.21548203e+00 2.39265185e+00 3.09614964e+00\n",
      "  2.01660463e+00 2.38371524e+00 1.83429666e+00 3.21245038e+00\n",
      "  2.85841564e-01 6.15376386e-01 1.25345543e-01 1.68924372e-01\n",
      "  6.11332733e-01 4.33052134e-01 8.01402535e-01 1.21205196e+00]\n",
      " [2.20841859e-02 2.21845663e+00 1.42822636e+00 6.71091370e-01\n",
      "  2.36873065e-01 1.54111668e+00 2.06701720e+00 2.77051499e+00\n",
      "  1.69096998e+00 2.05808059e+00 1.50866201e+00 2.88681573e+00\n",
      "  3.97930858e-02 2.89741736e-01 4.50980193e-01 1.56710278e-01\n",
      "  2.85698083e-01 7.58686784e-01 1.12703718e+00 1.53768661e+00]\n",
      " [7.46218818e-01 2.98675963e+00 6.59923352e-01 9.72116343e-02\n",
      "  1.00517607e+00 7.72813676e-01 2.83532020e+00 3.53881799e+00\n",
      "  2.45927298e+00 2.82638360e+00 2.27696502e+00 3.65511874e+00\n",
      "  7.28509918e-01 1.05804474e+00 3.17322811e-01 6.11592726e-01\n",
      "  1.05400109e+00 9.61622017e-03 3.58734180e-01 7.69383603e-01]\n",
      " [1.20094581e+00 3.44148663e+00 2.05196359e-01 5.51938627e-01\n",
      "  1.45990306e+00 3.18086683e-01 3.29004720e+00 3.99354499e+00\n",
      "  2.91399997e+00 3.28111059e+00 2.73169201e+00 4.10984573e+00\n",
      "  1.18323691e+00 1.51277173e+00 7.72049804e-01 1.06631972e+00\n",
      "  1.50872808e+00 4.64343213e-01 9.59928126e-02 3.14656610e-01]\n",
      " [1.57859707e+00 3.81913788e+00 1.72454898e-01 9.29589884e-01\n",
      "  1.83755432e+00 5.95645737e-02 3.66769845e+00 4.37119624e+00\n",
      "  3.29165123e+00 3.65876185e+00 3.10934327e+00 4.48749699e+00\n",
      "  1.56088817e+00 1.89042299e+00 1.14970106e+00 1.44397098e+00\n",
      "  1.88637934e+00 8.41994470e-01 4.73644069e-01 6.29946467e-02]]\n",
      "Absolute diff in delta:\n",
      "[ 0.77344167  4.5549703   2.61555196  0.74218763  5.57953818  0.60306861\n",
      "  1.88311089  2.32237103  5.29802624 10.85938753  1.37623527  0.33278386\n",
      "  1.52695777  5.42298212  9.03860879  3.05158686  2.42797565  0.46596383\n",
      "  2.10923878  2.70002748]\n",
      "Absolute diff in sigma:\n",
      "[[0.]]\n"
     ]
    }
   ],
   "source": [
    "#Univariate IRT Recovery\n",
    "result_dict = mirt_param_recovery(1000, q_type=\"singular\", item_dimension=20, latent_dimension=1, stop_threshold=3)"
   ]
  },
  {
   "cell_type": "code",
   "execution_count": 3,
   "metadata": {},
   "outputs": [
    {
     "ename": "NameError",
     "evalue": "name 'print_result' is not defined",
     "output_type": "error",
     "traceback": [
      "\u001b[1;31m---------------------------------------------------------------------------\u001b[0m",
      "\u001b[1;31mNameError\u001b[0m                                 Traceback (most recent call last)",
      "\u001b[1;32mc:\\Users\\Jesper\\Documents\\GitHub\\Knowledge-Growth-Prediction\\simulation_experiments.ipynb Zelle 9\u001b[0m in \u001b[0;36m<cell line: 1>\u001b[1;34m()\u001b[0m\n\u001b[1;32m----> <a href='vscode-notebook-cell:/c%3A/Users/Jesper/Documents/GitHub/Knowledge-Growth-Prediction/simulation_experiments.ipynb#X20sZmlsZQ%3D%3D?line=0'>1</a>\u001b[0m print_result(result_dict, \u001b[39m\"\u001b[39m\u001b[39mMonte Carlo sample varying through ttest with normal MC\u001b[39m\u001b[39m\"\u001b[39m)\n",
      "\u001b[1;31mNameError\u001b[0m: name 'print_result' is not defined"
     ]
    }
   ],
   "source": [
    "print_result(result_dict, \"Monte Carlo sample varying through ttest with normal MC\")"
   ]
  },
  {
   "cell_type": "markdown",
   "metadata": {},
   "source": [
    "### Univariate IRT/Full GA\n",
    "\n",
    "------------------------------------\n",
    "##### Item Dimension=12, sample_size=200: Results for Fixed sample per em-step\n",
    "Runtime: 4.38 seconds, 7 steps, 0.63 seconds per step \\\n",
    "Optimal marginal Likelihood: -1284.1, Estimated: -1273.09, Initial -1330.43\n",
    "|           |   rmse_A |   rmse_delta |   rmse_sigma |\n",
    "|:----------|---------:|-------------:|-------------:|\n",
    "| Estimated | 0.508687 |     0.196944 |            0 |\n",
    "| Girth     | 0.377882 |     2.65875  |            0 |\n",
    "| direct    | 0.305489 |     0.318168 |            0 |\n",
    "| Initial   | 1.5583   |     0.861273 |            0 |\n",
    "\n",
    "------------------------------------\n",
    "##### Item Dimension=20, sample_size=1000: Results for Fixed sample per em-step\n",
    "Runtime: 85.11 seconds, 19 steps, 4.48 seconds per step \\\n",
    "Optimal marginal Likelihood: -9199.01, Estimated: -9183.03, Initial -9784.69\n",
    "|           |   rmse_A |   rmse_delta |   rmse_sigma |\n",
    "|:----------|---------:|-------------:|-------------:|\n",
    "| Estimated | 0.352003 |     0.578688 |            0 |\n",
    "| Girth     | 0.468473 |     4.98511  |            0 |\n",
    "| Initial   | 1.66615  |     2.01114  |            0 |\n",
    "\n",
    "------------------------------------\n",
    "##### Results for Monte Carlo sample varying through ttest\n",
    "Latent dimension: 1,  Item dimension: 20, sample size 1000 \\\n",
    "Runtime: 31.86 seconds, 10 steps, 3.19 seconds per step \\\n",
    "Optimal marginal Likelihood: -9619.61, Estimated: -9601.49, Initial -9970.74\n",
    "|               |   rmse_A |   rmse_delta |   rmse_sigma |\n",
    "|:--------------|---------:|-------------:|-------------:|\n",
    "| estimated     | 0.175897 |     0.223543 |            0 |\n",
    "| early_initial | 1.21508  |     1.78456  |            0 |\n",
    "| girth         | 0.327131 |     4.71968  |            0 |\n",
    "\n",
    "------------------------------------\n",
    "##### Results for Monte Carlo sample varying through ttest with normal MC\n",
    "Latent dimension: 1,  Item dimension: 20, sample size 1000 \\\n",
    "Runtime: 37.86 seconds, 20 steps, 1.89 seconds per step \\\n",
    "Optimal marginal Likelihood: -8714.19, Estimated: -8697.21, Initial -9512.15\n",
    "|               |   rmse_A |   rmse_delta |   rmse_sigma |\n",
    "|:--------------|---------:|-------------:|-------------:|\n",
    "| estimated     | 0.182642 |     0.211132 |            0 |\n",
    "| early_initial | 1.69549  |     1.49975  |            0 |\n",
    "| girth         | 0.313235 |     4.2295   |            0 |"
   ]
  },
  {
   "cell_type": "code",
   "execution_count": 12,
   "metadata": {},
   "outputs": [
    {
     "name": "stdout",
     "output_type": "stream",
     "text": [
      "Real latent covariance: [[1.     0.1921]\n",
      " [0.1921 1.    ]]\n",
      "Covariance matrix is good: True\n",
      "EM Iteration 2\n"
     ]
    },
    {
     "name": "stderr",
     "output_type": "stream",
     "text": [
      "c:\\Users\\Jesper\\Anaconda3\\lib\\site-packages\\scipy\\stats\\_qmc.py:2039: UserWarning: The balance properties of Sobol' points require n to be a power of 2.\n",
      "  samples = self.engine.random(n)\n"
     ]
    },
    {
     "name": "stdout",
     "output_type": "stream",
     "text": [
      "Current Monte Carlo Sample size: 300\n",
      "Step: 2: current parameter_diff: 9.087457477954748, current marginal loglikelihood: -12789.826209045792\n",
      "EM Iteration 3\n",
      "Current Monte Carlo Sample size: 300\n",
      "Step: 3: current parameter_diff: 9.347286786290436, current marginal loglikelihood: -12431.792159340152\n",
      "EM Iteration 4\n",
      "Current Monte Carlo Sample size: 300\n",
      "Step: 4: current parameter_diff: 5.994195183510891, current marginal loglikelihood: -12324.415808814525\n",
      "EM Iteration 5\n",
      "Current Monte Carlo Sample size: 330\n",
      "Step: 5: current parameter_diff: 3.466965558217997, current marginal loglikelihood: -12291.666326556195\n",
      "EM Iteration 6\n",
      "Current Monte Carlo Sample size: 363\n",
      "Step: 6: current parameter_diff: 3.0517259450824583, current marginal loglikelihood: -12274.293408739399\n",
      "EM Iteration 7\n",
      "Current Monte Carlo Sample size: 399\n",
      "Step: 7: current parameter_diff: 1.6828800520798761, current marginal loglikelihood: -12268.44295499595\n",
      "EM Iteration 8\n",
      "Current Monte Carlo Sample size: 438\n",
      "Step: 8: current parameter_diff: 1.5472995648012011, current marginal loglikelihood: -12266.741491100976\n",
      "EM Iteration 9\n",
      "Current Monte Carlo Sample size: 481\n",
      "Step: 9: current parameter_diff: 0.9405471813539303, current marginal loglikelihood: -12257.26354486137\n",
      "EM Iteration 10\n",
      "Current Monte Carlo Sample size: 529\n",
      "Step: 10: current parameter_diff: 0.5530337635868852, current marginal loglikelihood: -12254.874420202255\n",
      "EM Iteration 11\n",
      "Current Monte Carlo Sample size: 581\n",
      "Step: 11: current parameter_diff: 0.9182088621850061, current marginal loglikelihood: -12252.639608779638\n",
      "EM Iteration 12\n",
      "Current Monte Carlo Sample size: 581\n",
      "Step: 12: current parameter_diff: 0.6457048580426479, current marginal loglikelihood: -12250.319820728353\n",
      "EM Iteration 13\n",
      "Current Monte Carlo Sample size: 581\n"
     ]
    },
    {
     "name": "stderr",
     "output_type": "stream",
     "text": [
      "c:\\Users\\Jesper\\Documents\\GitHub\\Knowledge-Growth-Prediction\\em_algorithm\\e_step_mirt_2pl.py:264: RuntimeWarning: divide by zero encountered in log\n",
      "  icc_values), r_item_theta) + np.multiply(np.log(1-icc_values), np.subtract(r_0_theta, r_item_theta))\n"
     ]
    },
    {
     "name": "stdout",
     "output_type": "stream",
     "text": [
      "Step: 13: current parameter_diff: 0.40565533319178126, current marginal loglikelihood: -12248.475980359144\n",
      "EM Iteration 14\n",
      "Current Monte Carlo Sample size: 581\n",
      "Step: 14: current parameter_diff: 0.3981727860081429, current marginal loglikelihood: -12251.628743992456\n",
      "EM Iteration 15\n",
      "Current Monte Carlo Sample size: 639\n",
      "Step: 15: current parameter_diff: 0.3759899463682548, current marginal loglikelihood: -12251.09622265484\n",
      "EM Iteration 16\n",
      "Current Monte Carlo Sample size: 702\n",
      "Step: 16: current parameter_diff: 0.07730277535592268, current marginal loglikelihood: -12250.114423241039\n",
      "EM Iteration 17\n",
      "Current Monte Carlo Sample size: 772\n",
      "Step: 17: current parameter_diff: 0.35397135818851444, current marginal loglikelihood: -12249.62312895641\n",
      "Absolute diff in A:\n",
      "[[ 0.14141196  0.        ]\n",
      " [ 0.14652275  0.        ]\n",
      " [ 0.24777834  0.        ]\n",
      " [ 0.39441549  0.        ]\n",
      " [ 0.12016762  0.        ]\n",
      " [ 0.32373102  0.        ]\n",
      " [ 2.04123377  0.        ]\n",
      " [ 0.07098307  0.        ]\n",
      " [ 0.06713308  0.        ]\n",
      " [ 0.          0.20182688]\n",
      " [ 0.          0.62813809]\n",
      " [ 0.          0.09920095]\n",
      " [ 0.          0.01945836]\n",
      " [ 0.          0.18659965]\n",
      " [ 0.          0.15575047]\n",
      " [ 0.          0.08789252]\n",
      " [ 0.          1.4778765 ]\n",
      " [ 0.          0.04189966]\n",
      " [ 0.         10.97192658]\n",
      " [ 0.          0.01780647]]\n",
      "Absolute diff in delta:\n",
      "[0.11951806 0.01624619 0.00828051 0.00229788 0.03779432 0.12022373\n",
      " 0.3486814  0.00835183 0.058682   0.13972121 0.09226136 0.03582283\n",
      " 0.07487817 0.05699409 0.08076706 0.08706214 0.40613611 0.01579479\n",
      " 1.00325414 0.03622401]\n",
      "Absolute diff in sigma:\n",
      "[[0.     0.0592]\n",
      " [0.0592 0.    ]]\n",
      "Absolute diff in A:\n",
      "[[ 1.36526825  0.        ]\n",
      " [ 1.11545869  0.        ]\n",
      " [ 1.73464119  0.        ]\n",
      " [ 1.36717029  0.        ]\n",
      " [ 0.86321887  0.        ]\n",
      " [ 1.3189492   0.        ]\n",
      " [ 7.95629842  0.        ]\n",
      " [ 0.25893288  0.        ]\n",
      " [ 0.90547762  0.        ]\n",
      " [ 0.          3.59522736]\n",
      " [ 0.          1.62115369]\n",
      " [ 0.          0.60013944]\n",
      " [ 0.          0.69561718]\n",
      " [ 0.          3.18601677]\n",
      " [ 0.          0.67271571]\n",
      " [ 0.          0.01684306]\n",
      " [ 0.          2.47056086]\n",
      " [ 0.          2.57133627]\n",
      " [ 0.         11.96739471]\n",
      " [ 0.          0.77011617]]\n",
      "Absolute diff in delta:\n",
      "[0.06091239 0.02035124 0.864845   0.03297919 0.0250019  0.13604297\n",
      " 1.95588372 0.02782104 0.03300903 2.77138941 0.09108795 0.05574691\n",
      " 0.08273561 0.12214658 0.05284058 0.0228591  0.39977876 0.28998553\n",
      " 1.02811303 0.1957758 ]\n",
      "Absolute diff in sigma:\n",
      "[[0.     0.3079]\n",
      " [0.3079 0.    ]]\n"
     ]
    }
   ],
   "source": [
    "performance_dict = mirt_param_recovery(sample_size=1000, item_dimension=20, latent_dimension=2, q_type=\"seperated\", girth=False, stop_threshold=1)"
   ]
  },
  {
   "cell_type": "code",
   "execution_count": 13,
   "metadata": {},
   "outputs": [
    {
     "name": "stdout",
     "output_type": "stream",
     "text": [
      "------------------------------------\n",
      "##### Results for Fixed Issue with simulation Covariance\n",
      "Latent dimension: 2,  Item dimension: 20, sample size 1000 \\\n",
      "Runtime: 51.07 seconds, 18 steps, 2.84 seconds per step \\\n",
      "Optimal marginal Likelihood: -11670.7, Estimated: -12247.32, Initial -13560.2\n",
      "|               |   rmse_A |   rmse_delta |   rmse_sigma |\n",
      "|:--------------|---------:|-------------:|-------------:|\n",
      "| estimated     |  1.78631 |     0.262764 |    0.0418607 |\n",
      "| early_initial |  2.54062 |     0.826317 |    0.217718  |\n"
     ]
    }
   ],
   "source": [
    "print_result(performance_dict, \"Fixed Issue with simulation Covariance\")"
   ]
  },
  {
   "cell_type": "markdown",
   "metadata": {},
   "source": [
    "------------------------------------\n",
    "##### Results for Seperated Q-Matrix\n",
    "Latent dimension: 2,  Item dimension: 20, sample size 1000 \\\n",
    "Runtime: 142.07 seconds, 26 steps, 5.46 seconds per step \\\n",
    "Optimal marginal Likelihood: -9384.38, Estimated: -10189.47, Initial -11459.9\n",
    "|               |   rmse_A |   rmse_delta |   rmse_sigma |\n",
    "|:--------------|---------:|-------------:|-------------:|\n",
    "| estimated     |  4.00013 |      3.10678 |    0.0201383 |\n",
    "| early_initial |  4.5183  |      2.5846  |    0.165491  |\n",
    "\n",
    "------------------------------------\n",
    "##### Results for BFGS for Q_0 with approximate Jacobi\n",
    "Latent dimension: 2,  Item dimension: 20, sample size 1000 \\\n",
    "Runtime: 61.55 seconds, 12 steps, 5.13 seconds per step \\\n",
    "Optimal marginal Likelihood: -9363.89, Estimated: -9711.58, Initial -10528.79\n",
    "|               |   rmse_A |   rmse_delta |   rmse_sigma |\n",
    "|:--------------|---------:|-------------:|-------------:|\n",
    "| estimated     |  3.02507 |      1.83482 |    0.0645047 |\n",
    "| early_initial |  2.06432 |      2.18337 |    0.289049  |\n",
    "\n",
    "------------------------------------\n",
    "##### Results for Monte Carlo sample varying through ttest\n",
    "Latent dimension: 2,  Item dimension: 20, sample size 1000 \\\n",
    "Runtime: 325.73 seconds, 42 steps, 7.76 seconds per step \\\n",
    "Optimal marginal Likelihood: -9929.77, Estimated: -10179.96, Initial -10767.41\n",
    "|               |   rmse_A |   rmse_delta |   rmse_sigma |\n",
    "|:--------------|---------:|-------------:|-------------:|\n",
    "| estimated     |  1.25777 |     0.965894 |   0.00557421 |\n",
    "| early_initial |  1.98812 |     1.68516  |   0.719705   |\n",
    "\n",
    "------------------------------------\n",
    "##### Results for Fixed random Covariance 1, girth included\n",
    "Latent dimension: 2,  Item dimension: 20, sample size 1000 \\\n",
    "Runtime: 57.16 seconds, 14 steps, 4.08 seconds per step \\\n",
    "Optimal marginal Likelihood: -11668.66, Estimated: -11672.6, Initial -12307.41\n",
    "|               |   rmse_A |   rmse_delta |   rmse_sigma |\n",
    "|:--------------|---------:|-------------:|-------------:|\n",
    "| estimated     | 0.183251 |    0.0861252 |    0.0215108 |\n",
    "| early_initial | 0.786712 |    0.393667  |    0.0471788 |\n",
    "| girth         | 1.28298  |    0.263374  |    0.350541  |\n",
    "\n",
    "------------------------------------\n",
    "##### Results for Fixed Issue with simulation Covariance\n",
    "Latent dimension: 2,  Item dimension: 20, sample size 1000 \\\n",
    "Runtime: 24.71 seconds, 11 steps, 2.25 seconds per step \\\n",
    "Optimal marginal Likelihood: -11186.38, Estimated: -11389.57, Initial -12010.77\n",
    "|               |   rmse_A |   rmse_delta |   rmse_sigma |\n",
    "|:--------------|---------:|-------------:|-------------:|\n",
    "| estimated     |  1.83766 |      1.4664  |    0.0743169 |\n",
    "| early_initial |  2.7041  |      2.66224 |    0.0627911 |"
   ]
  },
  {
   "cell_type": "code",
   "execution_count": 16,
   "metadata": {},
   "outputs": [
    {
     "name": "stdout",
     "output_type": "stream",
     "text": [
      "Real latent covariance: [[1.     0.5392 0.4093]\n",
      " [0.5392 1.     0.5406]\n",
      " [0.4093 0.5406 1.    ]]\n",
      "Covariance matrix is good: True\n",
      "EM Iteration 2\n"
     ]
    },
    {
     "name": "stderr",
     "output_type": "stream",
     "text": [
      "c:\\Users\\Jesper\\Anaconda3\\lib\\site-packages\\scipy\\stats\\_qmc.py:2039: UserWarning: The balance properties of Sobol' points require n to be a power of 2.\n",
      "  samples = self.engine.random(n)\n"
     ]
    },
    {
     "name": "stdout",
     "output_type": "stream",
     "text": [
      "Current Monte Carlo Sample size: 600\n"
     ]
    },
    {
     "name": "stderr",
     "output_type": "stream",
     "text": [
      "c:\\Users\\Jesper\\Documents\\GitHub\\Knowledge-Growth-Prediction\\em_algorithm\\e_step_mirt_2pl.py:198: RuntimeWarning: divide by zero encountered in log\n",
      "  factor = np.log(self.model.latent_density(theta, sigma=sigma))\n",
      "c:\\Users\\Jesper\\Documents\\GitHub\\Knowledge-Growth-Prediction\\em_algorithm\\e_step_mirt_2pl.py:198: RuntimeWarning: divide by zero encountered in log\n",
      "  factor = np.log(self.model.latent_density(theta, sigma=sigma))\n"
     ]
    },
    {
     "name": "stdout",
     "output_type": "stream",
     "text": [
      "[[1.         0.22255116 0.4851635 ]\n",
      " [0.22255116 1.         0.28710379]\n",
      " [0.4851635  0.28710379 1.        ]]\n",
      "Step: 2: current parameter_diff: 22.836966115835242, current marginal loglikelihood: -11263.404209075177\n",
      "EM Iteration 3\n"
     ]
    },
    {
     "name": "stderr",
     "output_type": "stream",
     "text": [
      "c:\\Users\\Jesper\\Anaconda3\\lib\\site-packages\\scipy\\stats\\_qmc.py:2039: UserWarning: The balance properties of Sobol' points require n to be a power of 2.\n",
      "  samples = self.engine.random(n)\n"
     ]
    },
    {
     "name": "stdout",
     "output_type": "stream",
     "text": [
      "Current Monte Carlo Sample size: 600\n",
      "[[1.         0.03209561 0.46728994]\n",
      " [0.03209561 1.         0.18680867]\n",
      " [0.46728994 0.18680867 1.        ]]\n",
      "Step: 3: current parameter_diff: 12.765040130244333, current marginal loglikelihood: -11025.095432664773\n",
      "EM Iteration 4\n"
     ]
    },
    {
     "name": "stderr",
     "output_type": "stream",
     "text": [
      "c:\\Users\\Jesper\\Anaconda3\\lib\\site-packages\\scipy\\stats\\_qmc.py:2039: UserWarning: The balance properties of Sobol' points require n to be a power of 2.\n",
      "  samples = self.engine.random(n)\n"
     ]
    },
    {
     "name": "stdout",
     "output_type": "stream",
     "text": [
      "Current Monte Carlo Sample size: 660\n",
      "[[ 1.         -0.12237363  0.46206731]\n",
      " [-0.12237363  1.          0.13165586]\n",
      " [ 0.46206731  0.13165586  1.        ]]\n",
      "Step: 4: current parameter_diff: 11.082485951986573, current marginal loglikelihood: -10917.861640370744\n",
      "EM Iteration 5\n"
     ]
    },
    {
     "name": "stderr",
     "output_type": "stream",
     "text": [
      "c:\\Users\\Jesper\\Anaconda3\\lib\\site-packages\\scipy\\stats\\_qmc.py:2039: UserWarning: The balance properties of Sobol' points require n to be a power of 2.\n",
      "  samples = self.engine.random(n)\n"
     ]
    },
    {
     "name": "stdout",
     "output_type": "stream",
     "text": [
      "Current Monte Carlo Sample size: 726\n",
      "[[ 1.         -0.13268712  0.46966192]\n",
      " [-0.13268712  1.          0.07677147]\n",
      " [ 0.46966192  0.07677147  1.        ]]\n",
      "Step: 5: current parameter_diff: 5.054700187758239, current marginal loglikelihood: -10871.624165962843\n",
      "EM Iteration 6\n"
     ]
    },
    {
     "name": "stderr",
     "output_type": "stream",
     "text": [
      "c:\\Users\\Jesper\\Anaconda3\\lib\\site-packages\\scipy\\stats\\_qmc.py:2039: UserWarning: The balance properties of Sobol' points require n to be a power of 2.\n",
      "  samples = self.engine.random(n)\n"
     ]
    },
    {
     "name": "stdout",
     "output_type": "stream",
     "text": [
      "Current Monte Carlo Sample size: 798\n",
      "[[ 1.         -0.15335902  0.48429796]\n",
      " [-0.15335902  1.          0.00857838]\n",
      " [ 0.48429796  0.00857838  1.        ]]\n",
      "Step: 6: current parameter_diff: 7.350049766942949, current marginal loglikelihood: -10846.63925009043\n",
      "EM Iteration 7\n"
     ]
    },
    {
     "name": "stderr",
     "output_type": "stream",
     "text": [
      "c:\\Users\\Jesper\\Anaconda3\\lib\\site-packages\\scipy\\stats\\_qmc.py:2039: UserWarning: The balance properties of Sobol' points require n to be a power of 2.\n",
      "  samples = self.engine.random(n)\n"
     ]
    },
    {
     "name": "stdout",
     "output_type": "stream",
     "text": [
      "Current Monte Carlo Sample size: 877\n",
      "[[ 1.         -0.18130942  0.49736388]\n",
      " [-0.18130942  1.         -0.04688012]\n",
      " [ 0.49736388 -0.04688012  1.        ]]\n",
      "Step: 7: current parameter_diff: 4.21590743744123, current marginal loglikelihood: -10830.644137405307\n",
      "EM Iteration 8\n"
     ]
    },
    {
     "name": "stderr",
     "output_type": "stream",
     "text": [
      "c:\\Users\\Jesper\\Anaconda3\\lib\\site-packages\\scipy\\stats\\_qmc.py:2039: UserWarning: The balance properties of Sobol' points require n to be a power of 2.\n",
      "  samples = self.engine.random(n)\n"
     ]
    },
    {
     "name": "stdout",
     "output_type": "stream",
     "text": [
      "Current Monte Carlo Sample size: 964\n",
      "[[ 1.         -0.15152568  0.50240847]\n",
      " [-0.15152568  1.         -0.07665482]\n",
      " [ 0.50240847 -0.07665482  1.        ]]\n"
     ]
    },
    {
     "name": "stderr",
     "output_type": "stream",
     "text": [
      "c:\\Users\\Jesper\\Documents\\GitHub\\Knowledge-Growth-Prediction\\em_algorithm\\e_step_mirt_2pl.py:264: RuntimeWarning: divide by zero encountered in log\n",
      "  icc_values), r_item_theta) + np.multiply(np.log(1-icc_values), np.subtract(r_0_theta, r_item_theta))\n",
      "c:\\Users\\Jesper\\Documents\\GitHub\\Knowledge-Growth-Prediction\\em_algorithm\\e_step_mirt_2pl.py:264: RuntimeWarning: invalid value encountered in multiply\n",
      "  icc_values), r_item_theta) + np.multiply(np.log(1-icc_values), np.subtract(r_0_theta, r_item_theta))\n",
      "c:\\Users\\Jesper\\Documents\\GitHub\\Knowledge-Growth-Prediction\\em_algorithm\\m_step_mirt_2pl.py:70: RuntimeWarning: overflow encountered in exp\n",
      "  population = random.choices(population=population_base, weights=np.exp(\n"
     ]
    }
   ],
   "source": [
    "performance_dict = mirt_param_recovery(sample_size=1000, item_dimension=20, latent_dimension=3, q_type=\"pyramid\", girth=False, stop_threshold=10, ensure_id=True, q_share=0.6)"
   ]
  },
  {
   "cell_type": "code",
   "execution_count": 8,
   "metadata": {},
   "outputs": [
    {
     "ename": "NameError",
     "evalue": "name 'performance_dict' is not defined",
     "output_type": "error",
     "traceback": [
      "\u001b[1;31m---------------------------------------------------------------------------\u001b[0m",
      "\u001b[1;31mNameError\u001b[0m                                 Traceback (most recent call last)",
      "\u001b[1;32mc:\\Users\\Jesper\\Documents\\GitHub\\Knowledge-Growth-Prediction\\simulation_experiments.ipynb Zelle 21\u001b[0m in \u001b[0;36m<cell line: 1>\u001b[1;34m()\u001b[0m\n\u001b[1;32m----> <a href='vscode-notebook-cell:/c%3A/Users/Jesper/Documents/GitHub/Knowledge-Growth-Prediction/simulation_experiments.ipynb#X26sZmlsZQ%3D%3D?line=0'>1</a>\u001b[0m print_result(performance_dict, \u001b[39m\"\u001b[39m\u001b[39mWith Covariance Matrix partially aligned to Q-matrix\u001b[39m\u001b[39m\"\u001b[39m)\n",
      "\u001b[1;31mNameError\u001b[0m: name 'performance_dict' is not defined"
     ]
    }
   ],
   "source": [
    "print_result(performance_dict, \"With Covariance Matrix partially aligned to Q-matrix\")"
   ]
  },
  {
   "cell_type": "markdown",
   "metadata": {},
   "source": [
    "------------------------------------\n",
    "##### Results for Pyramid Q-Matrix\n",
    "Latent dimension: 3,  Item dimension: 20, sample size 200 \\\n",
    "Runtime: 121.22 seconds, 46 steps, 2.64 seconds per step \\\n",
    "Optimal marginal Likelihood: -2144.15, Estimated: -2155.08, Initial -2699.63\n",
    "|               |   rmse_A |   rmse_delta |   rmse_sigma |\n",
    "|:--------------|---------:|-------------:|-------------:|\n",
    "| estimated     |  11.0034 |      1.77461 |     0.889828 |\n",
    "| early_initial |  10.5116 |      2.15986 |     0.522199 |\n",
    "\n",
    "------------------------------------\n",
    "##### Results for Pyramid Q-Matrix\n",
    "Latent dimension: 3,  Item dimension: 20, sample size 1000 \\\n",
    "Runtime: 313.22 seconds, 51 steps, 6.14 seconds per step \\\n",
    "Optimal marginal Likelihood: -9452.24, Estimated: -9813.87, Initial -11216.48\n",
    "|               |   rmse_A |   rmse_delta |   rmse_sigma |\n",
    "|:--------------|---------:|-------------:|-------------:|\n",
    "| estimated     |  5.34115 |      1.4068  |     0.425982 |\n",
    "| early_initial |  5.98238 |      2.25109 |     0.234288 |\n",
    "\n",
    "------------------------------------\n",
    "##### Results for Pyramid Q-Matrix\n",
    "Latent dimension: 3,  Item dimension: 30, sample size 2000 \\\n",
    "Runtime: 1521.51 seconds, 76 steps, 20.02 seconds per step \\\n",
    "Optimal marginal Likelihood: -30844.13, Estimated: -32521.34, Initial -37390.6\n",
    "|               |   rmse_A |   rmse_delta |   rmse_sigma |\n",
    "|:--------------|---------:|-------------:|-------------:|\n",
    "| estimated     |  2.55959 |       1.9952 |    0.314331  |\n",
    "| early_initial |  3.32034 |       3.514  |    0.0239562 |\n",
    "\n",
    "------------------------------------\n",
    "##### Results for BFGS for Q_0 with approximated gradient\n",
    "Latent dimension: 3,  Item dimension: 20, sample size 1000 \\\n",
    "Runtime: 350.28 seconds, 64 steps, 5.47 seconds per step \\\n",
    "Optimal marginal Likelihood: -10498.87, Estimated: -11303.0, Initial -12740.14\n",
    "|               |   rmse_A |   rmse_delta |   rmse_sigma |\n",
    "|:--------------|---------:|-------------:|-------------:|\n",
    "| estimated     |  10.2704 |     0.68597  |    0.318713  |\n",
    "| early_initial |  10.4626 |     0.846172 |    0.0895367 |\n",
    "\n",
    "------------------------------------\n",
    "##### Results for BFGS for Q_0 with exact gradient\n",
    "Latent dimension: 3,  Item dimension: 20, sample size 1000 \\\n",
    "Runtime: 152.91 seconds, 31 steps, 4.93 seconds per step \\\n",
    "Optimal marginal Likelihood: -11106.69, Estimated: -11211.51, Initial -12370.23\n",
    "|               |   rmse_A |   rmse_delta |   rmse_sigma |\n",
    "|:--------------|---------:|-------------:|-------------:|\n",
    "| estimated     |  3.5074  |      2.54509 |     0.21123  |\n",
    "| early_initial |  3.51819 |      2.66313 |     0.319647 |\n",
    "\n",
    "------------------------------------\n",
    "##### Results for Newton-Raphson for Q_0 with approximated second derivative\n",
    "Latent dimension: 3,  Item dimension: 20, sample size 1000 \\\n",
    "Runtime: 352.93 seconds, 62 steps, 5.69 seconds per step \\\n",
    "Optimal marginal Likelihood: -10237.22, Estimated: -10482.36, Initial -12569.49\n",
    "|               |   rmse_A |   rmse_delta |   rmse_sigma |\n",
    "|:--------------|---------:|-------------:|-------------:|\n",
    "| estimated     |  5.23694 |      2.45127 |     0.508499 |\n",
    "| early_initial |  5.36172 |      3.29141 |     0.640209 |"
   ]
  },
  {
   "cell_type": "code",
   "execution_count": 13,
   "metadata": {},
   "outputs": [
    {
     "name": "stdout",
     "output_type": "stream",
     "text": [
      "Real latent covariance: [[1.     0.     0.2545]\n",
      " [0.     1.     0.3721]\n",
      " [0.2545 0.3721 1.    ]]\n",
      "Covariance matrix is good: True\n",
      "EM Iteration 2\n"
     ]
    },
    {
     "name": "stderr",
     "output_type": "stream",
     "text": [
      "c:\\Users\\Jesper\\Anaconda3\\lib\\site-packages\\scipy\\stats\\_qmc.py:2039: UserWarning: The balance properties of Sobol' points require n to be a power of 2.\n",
      "  samples = self.engine.random(n)\n"
     ]
    },
    {
     "name": "stdout",
     "output_type": "stream",
     "text": [
      "Current Monte Carlo Sample size: 600\n"
     ]
    },
    {
     "name": "stderr",
     "output_type": "stream",
     "text": [
      "c:\\Users\\Jesper\\Anaconda3\\lib\\site-packages\\scipy\\optimize\\_numdiff.py:576: RuntimeWarning: invalid value encountered in subtract\n",
      "  df = fun(x) - f0\n"
     ]
    },
    {
     "name": "stdout",
     "output_type": "stream",
     "text": [
      "[[nan nan nan]\n",
      " [nan nan nan]\n",
      " [nan nan nan]]\n",
      "[[nan nan nan]\n",
      " [nan nan nan]\n",
      " [nan nan nan]]\n",
      "Invalid Covariance encountered, trying last step covariance\n",
      "Step: 2: current parameter_diff: 41.855085339761395, current marginal loglikelihood: -12550.72345228223\n",
      "EM Iteration 3\n",
      "Current Monte Carlo Sample size: 660\n",
      "[[nan nan nan]\n",
      " [nan nan nan]\n",
      " [nan nan nan]]\n",
      "[[nan nan nan]\n",
      " [nan nan nan]\n",
      " [nan nan nan]]\n",
      "Invalid Covariance encountered, trying last step covariance\n",
      "Step: 3: current parameter_diff: 28.922785136715092, current marginal loglikelihood: -12131.893852917503\n",
      "EM Iteration 4\n",
      "Current Monte Carlo Sample size: 660\n",
      "[[ 1.00000000e+000 -7.56483606e-249 -7.12199634e-243]\n",
      " [-7.56483606e-249  1.00000000e+000 -1.46994029e-260]\n",
      " [-7.12199634e-243 -1.46994029e-260  1.00000000e+000]]\n"
     ]
    },
    {
     "name": "stderr",
     "output_type": "stream",
     "text": [
      "c:\\Users\\Jesper\\Documents\\GitHub\\Knowledge-Growth-Prediction\\em_algorithm\\e_step_mirt_2pl.py:264: RuntimeWarning: divide by zero encountered in log\n",
      "  icc_values), r_item_theta) + np.multiply(np.log(1-icc_values), np.subtract(r_0_theta, r_item_theta))\n",
      "c:\\Users\\Jesper\\Documents\\GitHub\\Knowledge-Growth-Prediction\\em_algorithm\\e_step_mirt_2pl.py:264: RuntimeWarning: invalid value encountered in multiply\n",
      "  icc_values), r_item_theta) + np.multiply(np.log(1-icc_values), np.subtract(r_0_theta, r_item_theta))\n"
     ]
    },
    {
     "name": "stdout",
     "output_type": "stream",
     "text": [
      "Step: 4: current parameter_diff: 24.909956480277785, current marginal loglikelihood: -11869.365012663717\n",
      "EM Iteration 5\n",
      "Current Monte Carlo Sample size: 660\n",
      "[[1.         0.07473132 0.19983603]\n",
      " [0.07473132 1.         0.24058055]\n",
      " [0.19983603 0.24058055 1.        ]]\n",
      "Step: 5: current parameter_diff: 20.731814136925763, current marginal loglikelihood: -11739.105149945846\n",
      "EM Iteration 6\n",
      "Current Monte Carlo Sample size: 660\n",
      "[[1.         0.02395303 0.25925938]\n",
      " [0.02395303 1.         0.26711545]\n",
      " [0.25925938 0.26711545 1.        ]]\n",
      "Step: 6: current parameter_diff: 6.423400003338906, current marginal loglikelihood: -11720.71525563623\n",
      "EM Iteration 7\n",
      "Current Monte Carlo Sample size: 726\n",
      "[[1.         0.02766565 0.2770886 ]\n",
      " [0.02766565 1.         0.30801604]\n",
      " [0.2770886  0.30801604 1.        ]]\n",
      "Step: 7: current parameter_diff: 5.599935651052099, current marginal loglikelihood: -11726.261698793634\n",
      "EM Iteration 8\n",
      "Current Monte Carlo Sample size: 798\n",
      "[[1.         0.03611896 0.29298871]\n",
      " [0.03611896 1.         0.33452034]\n",
      " [0.29298871 0.33452034 1.        ]]\n"
     ]
    },
    {
     "name": "stderr",
     "output_type": "stream",
     "text": [
      "c:\\Users\\Jesper\\Documents\\GitHub\\Knowledge-Growth-Prediction\\em_algorithm\\m_step_mirt_2pl.py:70: RuntimeWarning: overflow encountered in exp\n",
      "  population = random.choices(population=population_base, weights=np.exp(\n"
     ]
    },
    {
     "name": "stdout",
     "output_type": "stream",
     "text": [
      "Step: 8: current parameter_diff: 8.88763105930743, current marginal loglikelihood: -11739.130271363902\n",
      "EM Iteration 9\n",
      "Current Monte Carlo Sample size: 877\n",
      "[[1.         0.04450944 0.2860444 ]\n",
      " [0.04450944 1.         0.34325432]\n",
      " [0.2860444  0.34325432 1.        ]]\n",
      "Step: 9: current parameter_diff: 6.972349751947515, current marginal loglikelihood: -11721.612152810394\n",
      "EM Iteration 10\n",
      "Current Monte Carlo Sample size: 964\n",
      "[[1.         0.04267512 0.28987184]\n",
      " [0.04267512 1.         0.33339445]\n",
      " [0.28987184 0.33339445 1.        ]]\n",
      "Step: 10: current parameter_diff: 13.349635834760017, current marginal loglikelihood: -11712.217814439908\n",
      "EM Iteration 11\n",
      "Current Monte Carlo Sample size: 1060\n",
      "[[1.         0.05402791 0.27611641]\n",
      " [0.05402791 1.         0.32730623]\n",
      " [0.27611641 0.32730623 1.        ]]\n",
      "Step: 11: current parameter_diff: 13.121900001706786, current marginal loglikelihood: -11752.478352914124\n",
      "EM Iteration 12\n",
      "Current Monte Carlo Sample size: 1166\n",
      "[[1.         0.03472167 0.29289335]\n",
      " [0.03472167 1.         0.31423842]\n",
      " [0.29289335 0.31423842 1.        ]]\n",
      "Step: 12: current parameter_diff: 12.92705941994013, current marginal loglikelihood: -11773.525002062834\n",
      "EM Iteration 13\n",
      "Current Monte Carlo Sample size: 1282\n",
      "[[1.         0.04206202 0.28354236]\n",
      " [0.04206202 1.         0.34677087]\n",
      " [0.28354236 0.34677087 1.        ]]\n",
      "Step: 13: current parameter_diff: 14.069785350523503, current marginal loglikelihood: -11888.973247891026\n",
      "EM Iteration 14\n",
      "Current Monte Carlo Sample size: 1282\n",
      "[[1.         0.04470603 0.30510719]\n",
      " [0.04470603 1.         0.31712275]\n",
      " [0.30510719 0.31712275 1.        ]]\n",
      "Step: 14: current parameter_diff: 12.996930583013478, current marginal loglikelihood: -11919.620612639617\n",
      "EM Iteration 15\n",
      "Current Monte Carlo Sample size: 1410\n",
      "[[1.         0.03289506 0.31780259]\n",
      " [0.03289506 1.         0.33049459]\n",
      " [0.31780259 0.33049459 1.        ]]\n",
      "Step: 15: current parameter_diff: 12.407788859306613, current marginal loglikelihood: -11918.172775706451\n",
      "EM Iteration 16\n",
      "Current Monte Carlo Sample size: 1551\n",
      "[[1.         0.03358675 0.32117101]\n",
      " [0.03358675 1.         0.34333722]\n",
      " [0.32117101 0.34333722 1.        ]]\n",
      "Step: 16: current parameter_diff: 15.80893260174836, current marginal loglikelihood: -12160.280411491387\n",
      "EM Iteration 17\n",
      "Current Monte Carlo Sample size: 1706\n",
      "[[1.         0.03828454 0.3173103 ]\n",
      " [0.03828454 1.         0.37550231]\n",
      " [0.3173103  0.37550231 1.        ]]\n",
      "Step: 17: current parameter_diff: 17.733213121984406, current marginal loglikelihood: -12120.335550218635\n",
      "EM Iteration 18\n",
      "Current Monte Carlo Sample size: 1706\n",
      "[[1.         0.03947006 0.30946325]\n",
      " [0.03947006 1.         0.42371964]\n",
      " [0.30946325 0.42371964 1.        ]]\n",
      "Step: 18: current parameter_diff: 16.20566266842648, current marginal loglikelihood: -12159.97257104385\n",
      "EM Iteration 19\n",
      "Current Monte Carlo Sample size: 1876\n",
      "[[1.         0.05036364 0.315018  ]\n",
      " [0.05036364 1.         0.45976397]\n",
      " [0.315018   0.45976397 1.        ]]\n",
      "Step: 19: current parameter_diff: 17.15942650707747, current marginal loglikelihood: -12319.975242536013\n",
      "EM Iteration 20\n",
      "Current Monte Carlo Sample size: 2063\n",
      "[[1.         0.05564366 0.33809592]\n",
      " [0.05564366 1.         0.46824847]\n",
      " [0.33809592 0.46824847 1.        ]]\n",
      "Step: 20: current parameter_diff: 16.691893000641358, current marginal loglikelihood: -12259.903212209978\n",
      "EM Iteration 21\n",
      "Current Monte Carlo Sample size: 2269\n",
      "[[1.         0.08912059 0.32975034]\n",
      " [0.08912059 1.         0.45420422]\n",
      " [0.32975034 0.45420422 1.        ]]\n",
      "Step: 21: current parameter_diff: 23.66059479399594, current marginal loglikelihood: -12604.479047689154\n",
      "EM Iteration 22\n",
      "Current Monte Carlo Sample size: 2495\n",
      "[[1.         0.08254014 0.32608357]\n",
      " [0.08254014 1.         0.47241503]\n",
      " [0.32608357 0.47241503 1.        ]]\n",
      "Step: 22: current parameter_diff: 20.38471152818203, current marginal loglikelihood: -12431.250915065328\n",
      "EM Iteration 23\n",
      "Current Monte Carlo Sample size: 2744\n",
      "[[1.         0.08504754 0.3504352 ]\n",
      " [0.08504754 1.         0.49784505]\n",
      " [0.3504352  0.49784505 1.        ]]\n",
      "Step: 23: current parameter_diff: 24.10400754464389, current marginal loglikelihood: -12276.607911791718\n",
      "EM Iteration 24\n",
      "Current Monte Carlo Sample size: 3018\n",
      "[[1.         0.10774412 0.35177853]\n",
      " [0.10774412 1.         0.45853182]\n",
      " [0.35177853 0.45853182 1.        ]]\n",
      "Step: 24: current parameter_diff: 22.541689707305267, current marginal loglikelihood: -12489.193570693122\n",
      "EM Iteration 25\n",
      "Current Monte Carlo Sample size: 3319\n",
      "[[1.         0.10661726 0.34589446]\n",
      " [0.10661726 1.         0.41512853]\n",
      " [0.34589446 0.41512853 1.        ]]\n",
      "Step: 25: current parameter_diff: 25.243161391043913, current marginal loglikelihood: -12530.126933447274\n",
      "EM Iteration 26\n",
      "Current Monte Carlo Sample size: 3650\n",
      "[[1.         0.05332288 0.32572397]\n",
      " [0.05332288 1.         0.32202492]\n",
      " [0.32572397 0.32202492 1.        ]]\n",
      "Step: 26: current parameter_diff: 22.217647900015496, current marginal loglikelihood: -12327.542608689702\n",
      "EM Iteration 27\n",
      "Current Monte Carlo Sample size: 4015\n",
      "[[1.         0.04531018 0.29629237]\n",
      " [0.04531018 1.         0.3749033 ]\n",
      " [0.29629237 0.3749033  1.        ]]\n",
      "Step: 27: current parameter_diff: 24.456232729238387, current marginal loglikelihood: -12569.487190457674\n",
      "EM Iteration 28\n",
      "Current Monte Carlo Sample size: 4015\n",
      "[[1.         0.0664822  0.2553332 ]\n",
      " [0.0664822  1.         0.32259075]\n",
      " [0.2553332  0.32259075 1.        ]]\n",
      "Step: 28: current parameter_diff: 21.160665319248636, current marginal loglikelihood: -12482.746614190011\n",
      "EM Iteration 29\n",
      "Current Monte Carlo Sample size: 4416\n",
      "[[1.         0.08727014 0.22960587]\n",
      " [0.08727014 1.         0.33549268]\n",
      " [0.22960587 0.33549268 1.        ]]\n",
      "Step: 29: current parameter_diff: 24.144751376772238, current marginal loglikelihood: -12540.769966653768\n",
      "EM Iteration 30\n",
      "Current Monte Carlo Sample size: 4857\n",
      "[[1.         0.0830018  0.20951295]\n",
      " [0.0830018  1.         0.32728332]\n",
      " [0.20951295 0.32728332 1.        ]]\n",
      "Step: 30: current parameter_diff: 18.567347369526907, current marginal loglikelihood: -12605.802540473838\n",
      "EM Iteration 31\n",
      "Current Monte Carlo Sample size: 5342\n",
      "[[1.         0.10384263 0.19035454]\n",
      " [0.10384263 1.         0.33995062]\n",
      " [0.19035454 0.33995062 1.        ]]\n",
      "Step: 31: current parameter_diff: 18.27550659381697, current marginal loglikelihood: -12488.402669715779\n",
      "EM Iteration 32\n",
      "Current Monte Carlo Sample size: 5876\n",
      "[[1.         0.09216813 0.16231849]\n",
      " [0.09216813 1.         0.34736474]\n",
      " [0.16231849 0.34736474 1.        ]]\n",
      "Step: 32: current parameter_diff: 18.659892839891487, current marginal loglikelihood: -12963.804592738707\n",
      "EM Iteration 33\n",
      "Current Monte Carlo Sample size: 6463\n",
      "[[1.         0.08934729 0.16282502]\n",
      " [0.08934729 1.         0.3309664 ]\n",
      " [0.16282502 0.3309664  1.        ]]\n",
      "Step: 33: current parameter_diff: 23.50586764065138, current marginal loglikelihood: -13510.649271026294\n",
      "EM Iteration 34\n",
      "Current Monte Carlo Sample size: 7109\n",
      "[[1.         0.08710583 0.15552528]\n",
      " [0.08710583 1.         0.29611591]\n",
      " [0.15552528 0.29611591 1.        ]]\n",
      "Step: 34: current parameter_diff: 21.960943064628275, current marginal loglikelihood: -13944.259625971496\n",
      "EM Iteration 35\n",
      "Current Monte Carlo Sample size: 7109\n",
      "[[1.         0.07793025 0.16516396]\n",
      " [0.07793025 1.         0.36413403]\n",
      " [0.16516396 0.36413403 1.        ]]\n",
      "Step: 35: current parameter_diff: 27.121295291247954, current marginal loglikelihood: -13503.312147530629\n",
      "EM Iteration 36\n",
      "Current Monte Carlo Sample size: 7819\n",
      "[[1.         0.10383503 0.15573248]\n",
      " [0.10383503 1.         0.38227496]\n",
      " [0.15573248 0.38227496 1.        ]]\n",
      "Step: 36: current parameter_diff: 20.49072253096319, current marginal loglikelihood: -13457.903630401384\n",
      "EM Iteration 37\n",
      "Current Monte Carlo Sample size: 8600\n",
      "[[1.         0.0952063  0.1697639 ]\n",
      " [0.0952063  1.         0.46301737]\n",
      " [0.1697639  0.46301737 1.        ]]\n",
      "Step: 37: current parameter_diff: 27.90481089780214, current marginal loglikelihood: -12706.910698711592\n",
      "EM Iteration 38\n",
      "Current Monte Carlo Sample size: 9460\n",
      "[[1.         0.11529993 0.26172741]\n",
      " [0.11529993 1.         0.55011103]\n",
      " [0.26172741 0.55011103 1.        ]]\n",
      "Step: 38: current parameter_diff: 25.492536506460198, current marginal loglikelihood: -12568.140485448821\n",
      "EM Iteration 39\n",
      "Current Monte Carlo Sample size: 10406\n",
      "[[1.         0.10827926 0.31252693]\n",
      " [0.10827926 1.         0.47192521]\n",
      " [0.31252693 0.47192521 1.        ]]\n",
      "Step: 39: current parameter_diff: 23.39773718705719, current marginal loglikelihood: -12458.470015244868\n",
      "EM Iteration 40\n",
      "Current Monte Carlo Sample size: 11446\n",
      "[[1.         0.08448759 0.34971178]\n",
      " [0.08448759 1.         0.4185697 ]\n",
      " [0.34971178 0.4185697  1.        ]]\n",
      "Step: 40: current parameter_diff: 25.01324472722742, current marginal loglikelihood: -12669.061288880423\n",
      "EM Iteration 41\n",
      "Current Monte Carlo Sample size: 12590\n",
      "[[ 1.00000000e+000 -2.61463218e-102 -1.08935164e-109]\n",
      " [-2.61463218e-102  1.00000000e+000 -4.18362278e-029]\n",
      " [-1.08935164e-109 -4.18362278e-029  1.00000000e+000]]\n",
      "Step: 41: current parameter_diff: 21.568233132762924, current marginal loglikelihood: -12849.955625780705\n",
      "EM Iteration 42\n",
      "Current Monte Carlo Sample size: 13849\n"
     ]
    },
    {
     "ename": "KeyboardInterrupt",
     "evalue": "",
     "output_type": "error",
     "traceback": [
      "\u001b[1;31m---------------------------------------------------------------------------\u001b[0m",
      "\u001b[1;31mKeyboardInterrupt\u001b[0m                         Traceback (most recent call last)",
      "\u001b[1;32mc:\\Users\\Jesper\\Documents\\GitHub\\Knowledge-Growth-Prediction\\simulation_experiments.ipynb Zelle 23\u001b[0m in \u001b[0;36m<cell line: 1>\u001b[1;34m()\u001b[0m\n\u001b[1;32m----> <a href='vscode-notebook-cell:/c%3A/Users/Jesper/Documents/GitHub/Knowledge-Growth-Prediction/simulation_experiments.ipynb#X31sZmlsZQ%3D%3D?line=0'>1</a>\u001b[0m performance_dict \u001b[39m=\u001b[39m mirt_param_recovery(sample_size\u001b[39m=\u001b[39;49m\u001b[39m1000\u001b[39;49m, item_dimension\u001b[39m=\u001b[39;49m\u001b[39m30\u001b[39;49m, latent_dimension\u001b[39m=\u001b[39;49m\u001b[39m3\u001b[39;49m, q_type\u001b[39m=\u001b[39;49m\u001b[39m\"\u001b[39;49m\u001b[39mfull\u001b[39;49m\u001b[39m\"\u001b[39;49m, girth\u001b[39m=\u001b[39;49m\u001b[39mFalse\u001b[39;49;00m, stop_threshold\u001b[39m=\u001b[39;49m\u001b[39m10\u001b[39;49m, q_share\u001b[39m=\u001b[39;49m\u001b[39m0.0\u001b[39;49m)\n",
      "\u001b[1;32mc:\\Users\\Jesper\\Documents\\GitHub\\Knowledge-Growth-Prediction\\simulation_experiments.ipynb Zelle 23\u001b[0m in \u001b[0;36mmirt_param_recovery\u001b[1;34m(sample_size, item_dimension, latent_dimension, q_type, girth, stop_threshold, ensure_id, q_share)\u001b[0m\n\u001b[0;32m     <a href='vscode-notebook-cell:/c%3A/Users/Jesper/Documents/GitHub/Knowledge-Growth-Prediction/simulation_experiments.ipynb#X31sZmlsZQ%3D%3D?line=32'>33</a>\u001b[0m \u001b[39m#Fit Model\u001b[39;00m\n\u001b[0;32m     <a href='vscode-notebook-cell:/c%3A/Users/Jesper/Documents/GitHub/Knowledge-Growth-Prediction/simulation_experiments.ipynb#X31sZmlsZQ%3D%3D?line=33'>34</a>\u001b[0m start_time \u001b[39m=\u001b[39m time\u001b[39m.\u001b[39mtime()\n\u001b[1;32m---> <a href='vscode-notebook-cell:/c%3A/Users/Jesper/Documents/GitHub/Knowledge-Growth-Prediction/simulation_experiments.ipynb#X31sZmlsZQ%3D%3D?line=34'>35</a>\u001b[0m em\u001b[39m.\u001b[39;49mfit(sample[\u001b[39m\"\u001b[39;49m\u001b[39mearly_responses\u001b[39;49m\u001b[39m\"\u001b[39;49m], max_iter\u001b[39m=\u001b[39;49m\u001b[39m100\u001b[39;49m, stop_threshold\u001b[39m=\u001b[39;49mstop_threshold)\n\u001b[0;32m     <a href='vscode-notebook-cell:/c%3A/Users/Jesper/Documents/GitHub/Knowledge-Growth-Prediction/simulation_experiments.ipynb#X31sZmlsZQ%3D%3D?line=35'>36</a>\u001b[0m run_time \u001b[39m=\u001b[39m  (time\u001b[39m.\u001b[39mtime() \u001b[39m-\u001b[39m start_time)\n\u001b[0;32m     <a href='vscode-notebook-cell:/c%3A/Users/Jesper/Documents/GitHub/Knowledge-Growth-Prediction/simulation_experiments.ipynb#X31sZmlsZQ%3D%3D?line=37'>38</a>\u001b[0m \u001b[39m#Measure Performance\u001b[39;00m\n",
      "File \u001b[1;32mc:\\Users\\Jesper\\Documents\\GitHub\\Knowledge-Growth-Prediction\\em_algorithm\\em_algorithm.py:43\u001b[0m, in \u001b[0;36mem_algorithm.fit\u001b[1;34m(self, data, hyper_params, max_iter, stop_threshold)\u001b[0m\n\u001b[0;32m     41\u001b[0m last_step_marginal_loglikelihood \u001b[39m=\u001b[39m marginal_loglikelihood\u001b[39m.\u001b[39mcopy()\n\u001b[0;32m     42\u001b[0m \u001b[39m# print(\"E-step\")\u001b[39;00m\n\u001b[1;32m---> 43\u001b[0m posterior_expectation \u001b[39m=\u001b[39m \u001b[39mself\u001b[39;49m\u001b[39m.\u001b[39;49me_step\u001b[39m.\u001b[39;49mstep(\n\u001b[0;32m     44\u001b[0m     response_data\u001b[39m=\u001b[39;49mdata, \u001b[39miter\u001b[39;49m\u001b[39m=\u001b[39;49mi)\n\u001b[0;32m     45\u001b[0m \u001b[39m# print(\"M-step\")\u001b[39;00m\n\u001b[0;32m     46\u001b[0m current_parameters, log_likelihood \u001b[39m=\u001b[39m \u001b[39mself\u001b[39m\u001b[39m.\u001b[39mm_step\u001b[39m.\u001b[39mstep(\n\u001b[0;32m     47\u001b[0m     pe_functions\u001b[39m=\u001b[39mposterior_expectation)\n",
      "File \u001b[1;32mc:\\Users\\Jesper\\Documents\\GitHub\\Knowledge-Growth-Prediction\\em_algorithm\\e_step_mirt_2pl.py:97\u001b[0m, in \u001b[0;36me_step_ga_mml.step\u001b[1;34m(self, response_data, current_item_parameters, current_person_parameters, iter)\u001b[0m\n\u001b[0;32m     94\u001b[0m \u001b[39mprint\u001b[39m(\u001b[39m\"\u001b[39m\u001b[39mCurrent Monte Carlo Sample size: \u001b[39m\u001b[39m{0}\u001b[39;00m\u001b[39m\"\u001b[39m\u001b[39m.\u001b[39mformat(\u001b[39mself\u001b[39m\u001b[39m.\u001b[39mN))\n\u001b[0;32m     95\u001b[0m theta_sample \u001b[39m=\u001b[39m \u001b[39mself\u001b[39m\u001b[39m.\u001b[39mmodel\u001b[39m.\u001b[39msample_competency(\n\u001b[0;32m     96\u001b[0m     sample_size\u001b[39m=\u001b[39m\u001b[39mself\u001b[39m\u001b[39m.\u001b[39mN, qmc\u001b[39m=\u001b[39m\u001b[39mTrue\u001b[39;00m)\n\u001b[1;32m---> 97\u001b[0m \u001b[39mreturn\u001b[39;00m(\u001b[39mself\u001b[39;49m\u001b[39m.\u001b[39;49mprepare_q_functions(theta_sample, response_data, normalising_constant_array))\n",
      "File \u001b[1;32mc:\\Users\\Jesper\\Documents\\GitHub\\Knowledge-Growth-Prediction\\em_algorithm\\e_step_mirt_2pl.py:105\u001b[0m, in \u001b[0;36me_step_ga_mml.prepare_q_functions\u001b[1;34m(self, theta_sample, response_data, normalising_constant_array)\u001b[0m\n\u001b[0;32m    102\u001b[0m \u001b[39m# Calculate repeating inner functions\u001b[39;00m\n\u001b[0;32m    103\u001b[0m r_0_theta \u001b[39m=\u001b[39m \u001b[39mself\u001b[39m\u001b[39m.\u001b[39mr_0(\n\u001b[0;32m    104\u001b[0m     theta_sample, normalising_constant_array, response_data)\n\u001b[1;32m--> 105\u001b[0m r_item_theta_list \u001b[39m=\u001b[39m [\u001b[39mself\u001b[39m\u001b[39m.\u001b[39mr_item(item, theta_sample, normalising_constant_array, response_data)\n\u001b[0;32m    106\u001b[0m                      \u001b[39mfor\u001b[39;00m item \u001b[39min\u001b[39;00m \u001b[39mrange\u001b[39m(\u001b[39m0\u001b[39m, J)]\n\u001b[0;32m    107\u001b[0m \u001b[39m# Calculate final q-functions\u001b[39;00m\n\u001b[0;32m    108\u001b[0m q_0 \u001b[39m=\u001b[39m \u001b[39mself\u001b[39m\u001b[39m.\u001b[39mq_0(\n\u001b[0;32m    109\u001b[0m     theta\u001b[39m=\u001b[39mtheta_sample, normalising_constant_array\u001b[39m=\u001b[39mnormalising_constant_array, response_data\u001b[39m=\u001b[39mresponse_data)\n",
      "File \u001b[1;32mc:\\Users\\Jesper\\Documents\\GitHub\\Knowledge-Growth-Prediction\\em_algorithm\\e_step_mirt_2pl.py:105\u001b[0m, in \u001b[0;36m<listcomp>\u001b[1;34m(.0)\u001b[0m\n\u001b[0;32m    102\u001b[0m \u001b[39m# Calculate repeating inner functions\u001b[39;00m\n\u001b[0;32m    103\u001b[0m r_0_theta \u001b[39m=\u001b[39m \u001b[39mself\u001b[39m\u001b[39m.\u001b[39mr_0(\n\u001b[0;32m    104\u001b[0m     theta_sample, normalising_constant_array, response_data)\n\u001b[1;32m--> 105\u001b[0m r_item_theta_list \u001b[39m=\u001b[39m [\u001b[39mself\u001b[39;49m\u001b[39m.\u001b[39;49mr_item(item, theta_sample, normalising_constant_array, response_data)\n\u001b[0;32m    106\u001b[0m                      \u001b[39mfor\u001b[39;00m item \u001b[39min\u001b[39;00m \u001b[39mrange\u001b[39m(\u001b[39m0\u001b[39m, J)]\n\u001b[0;32m    107\u001b[0m \u001b[39m# Calculate final q-functions\u001b[39;00m\n\u001b[0;32m    108\u001b[0m q_0 \u001b[39m=\u001b[39m \u001b[39mself\u001b[39m\u001b[39m.\u001b[39mq_0(\n\u001b[0;32m    109\u001b[0m     theta\u001b[39m=\u001b[39mtheta_sample, normalising_constant_array\u001b[39m=\u001b[39mnormalising_constant_array, response_data\u001b[39m=\u001b[39mresponse_data)\n",
      "File \u001b[1;32mc:\\Users\\Jesper\\Documents\\GitHub\\Knowledge-Growth-Prediction\\em_algorithm\\e_step_mirt_2pl.py:182\u001b[0m, in \u001b[0;36me_step_ga_mml.r_item\u001b[1;34m(self, item, theta, normalising_constant_array, response_data)\u001b[0m\n\u001b[0;32m    181\u001b[0m \u001b[39mdef\u001b[39;00m \u001b[39mr_item\u001b[39m(\u001b[39mself\u001b[39m, item: \u001b[39mint\u001b[39m, theta: np\u001b[39m.\u001b[39marray, normalising_constant_array, response_data):\n\u001b[1;32m--> 182\u001b[0m     numerator \u001b[39m=\u001b[39m np\u001b[39m.\u001b[39marray(\u001b[39mself\u001b[39;49m\u001b[39m.\u001b[39;49mmodel\u001b[39m.\u001b[39;49mresponse_matrix_probability(\n\u001b[0;32m    183\u001b[0m         theta\u001b[39m=\u001b[39;49mtheta, response_matrix\u001b[39m=\u001b[39;49mresponse_data\u001b[39m.\u001b[39;49mto_numpy()))\n\u001b[0;32m    184\u001b[0m     \u001b[39m# This coefficient is different to r_0\u001b[39;00m\n\u001b[0;32m    185\u001b[0m     numerator \u001b[39m=\u001b[39m np\u001b[39m.\u001b[39mmultiply(\n\u001b[0;32m    186\u001b[0m         numerator, response_data\u001b[39m.\u001b[39miloc[:, item]\u001b[39m.\u001b[39mto_numpy()\u001b[39m.\u001b[39mtranspose())\n",
      "File \u001b[1;32mc:\\Users\\Jesper\\Documents\\GitHub\\Knowledge-Growth-Prediction\\models\\mirt_2pl.py:150\u001b[0m, in \u001b[0;36mmirt_2pl.response_matrix_probability\u001b[1;34m(self, theta, response_matrix, A, delta)\u001b[0m\n\u001b[0;32m    147\u001b[0m \u001b[39m# We want to apply each response vector to each competency-induced correct-response-probability\u001b[39;00m\n\u001b[0;32m    148\u001b[0m correct_response_probabilities \u001b[39m=\u001b[39m np\u001b[39m.\u001b[39mexpand_dims(\n\u001b[0;32m    149\u001b[0m     correct_response_probabilities, axis\u001b[39m=\u001b[39m\u001b[39m1\u001b[39m)\n\u001b[1;32m--> 150\u001b[0m probability_vector \u001b[39m=\u001b[39m np\u001b[39m.\u001b[39;49madd(np\u001b[39m.\u001b[39;49mmultiply(correct_response_probabilities, response_matrix),\n\u001b[0;32m    151\u001b[0m                             np\u001b[39m.\u001b[39;49mmultiply(np\u001b[39m.\u001b[39;49msubtract(\u001b[39m1\u001b[39;49m, correct_response_probabilities), np\u001b[39m.\u001b[39;49msubtract(\u001b[39m1\u001b[39;49m, response_matrix)))\n\u001b[0;32m    152\u001b[0m probability \u001b[39m=\u001b[39m np\u001b[39m.\u001b[39mprod(probability_vector, axis\u001b[39m=\u001b[39m\u001b[39m2\u001b[39m)\n\u001b[0;32m    153\u001b[0m \u001b[39mreturn\u001b[39;00m(probability)\n",
      "\u001b[1;31mKeyboardInterrupt\u001b[0m: "
     ]
    }
   ],
   "source": [
    "performance_dict = mirt_param_recovery(sample_size=1000, item_dimension=30, latent_dimension=3, q_type=\"full\", girth=False, stop_threshold=10, q_share=0.0)"
   ]
  },
  {
   "cell_type": "code",
   "execution_count": 12,
   "metadata": {},
   "outputs": [
    {
     "name": "stdout",
     "output_type": "stream",
     "text": [
      "------------------------------------\n",
      "##### Results for With fixed Discrimination sampling and BFGS\n",
      "Latent dimension: 3,  Item dimension: 20, sample size 1000 \\\n",
      "Runtime: 63.64 seconds, 14 steps, 4.55 seconds per step \\\n",
      "Optimal marginal Likelihood: -8684.81, Estimated: -8676.2, Initial -9809.83\n",
      "|               |   rmse_A |   rmse_delta |   rmse_sigma |\n",
      "|:--------------|---------:|-------------:|-------------:|\n",
      "| estimated     | 0.933735 |     0.514423 |    0.0383988 |\n",
      "| early_initial | 2.67536  |     0.636687 |    0.231996  |\n"
     ]
    }
   ],
   "source": [
    "print_result(performance_dict, \"With fixed Discrimination sampling and BFGS\")"
   ]
  },
  {
   "cell_type": "markdown",
   "metadata": {},
   "source": [
    "------------------------------------\n",
    "##### Results for With BFGS as covariance optimization Algorithm\n",
    "Latent dimension: 3,  Item dimension: 20, sample size 1000 \\\n",
    "Runtime: 160.7 seconds, 20 steps, 8.04 seconds per step \\\n",
    "Optimal marginal Likelihood: -11451.44, Estimated: -11746.37, Initial -12757.23\n",
    "|               |   rmse_A |   rmse_delta |   rmse_sigma |\n",
    "|:--------------|---------:|-------------:|-------------:|\n",
    "| estimated     |  4.12413 |      1.19297 |     0.539132 |\n",
    "| early_initial |  4.06187 |      1.22103 |     0.159225 |\n",
    "\n",
    "------------------------------------\n",
    "##### Results for With Cholesky covariance decomposition\n",
    "Latent dimension: 3,  Item dimension: 20, sample size 1000 \\\n",
    "Runtime: 60.82 seconds, 14 steps, 4.34 seconds per step \\\n",
    "Optimal marginal Likelihood: -11369.92, Estimated: -12102.54, Initial -13629.98\n",
    "|               |   rmse_A |   rmse_delta |   rmse_sigma |\n",
    "|:--------------|---------:|-------------:|-------------:|\n",
    "| estimated     |  2.47435 |     0.400838 |     0.181127 |\n",
    "| early_initial |  2.98819 |     0.686696 |     0.142997 |\n",
    "\n",
    "------------------------------------\n",
    "##### Results for With Cholesky covariance decomposition and BFGS\n",
    "Latent dimension: 3,  Item dimension: 30, sample size 1000 \\\n",
    "Runtime: 94.77 seconds, 12 steps, 7.9 seconds per step \\\n",
    "Optimal marginal Likelihood: -15960.47, Estimated: -17344.15, Initial -19786.45\n",
    "|               |   rmse_A |   rmse_delta |   rmse_sigma |\n",
    "|:--------------|---------:|-------------:|-------------:|\n",
    "| estimated     |  48.8803 |     0.777924 |     0.149531 |\n",
    "| early_initial |  49.0831 |     1.33755  |     0.207159 |\n",
    "\n",
    "------------------------------------\n",
    "##### Results for With fixed Discrimination sampling and BFGS\n",
    "Latent dimension: 3,  Item dimension: 30, sample size 1000 \\\n",
    "Runtime: 91.68 seconds, 12 steps, 7.64 seconds per step \\\n",
    "Optimal marginal Likelihood: -12149.74, Estimated: -12157.89, Initial -14965.74\n",
    "|               |   rmse_A |   rmse_delta |   rmse_sigma |\n",
    "|:--------------|---------:|-------------:|-------------:|\n",
    "| estimated     |  0.3929  |     0.249323 |    0.0275205 |\n",
    "| early_initial |  2.20296 |     0.582838 |    0.380006  |"
   ]
  },
  {
   "cell_type": "markdown",
   "metadata": {},
   "source": [
    "## Experiment 2: Competency Gain Prediction"
   ]
  }
 ],
 "metadata": {
  "kernelspec": {
   "display_name": "Python 3.8.5 ('base')",
   "language": "python",
   "name": "python3"
  },
  "language_info": {
   "codemirror_mode": {
    "name": "ipython",
    "version": 3
   },
   "file_extension": ".py",
   "mimetype": "text/x-python",
   "name": "python",
   "nbconvert_exporter": "python",
   "pygments_lexer": "ipython3",
   "version": "3.8.5"
  },
  "orig_nbformat": 4,
  "vscode": {
   "interpreter": {
    "hash": "f96c9f0abe66cee0a81d860b29e85a2729d567fff345231565bc586735399795"
   }
  }
 },
 "nbformat": 4,
 "nbformat_minor": 2
}
