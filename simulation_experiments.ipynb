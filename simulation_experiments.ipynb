{
 "cells": [
  {
   "cell_type": "code",
   "execution_count": 1,
   "metadata": {},
   "outputs": [
    {
     "name": "stdout",
     "output_type": "stream",
     "text": [
      "C:\\Users\\Jesper\\Documents\\GitHub\\Knowledge-Growth-Prediction\\models\n"
     ]
    }
   ],
   "source": [
    "import numpy as np\n",
    "import em_algorithm\n",
    "from simulation_framework.simulate_competency import respondent_population\n",
    "from simulation_framework.simulate_responses import response_simulation\n",
    "from scipy.stats import multivariate_normal"
   ]
  },
  {
   "cell_type": "markdown",
   "metadata": {},
   "source": [
    "## Experiment 1: MIRT-2PL Parameter Recovery"
   ]
  },
  {
   "cell_type": "code",
   "execution_count": 2,
   "metadata": {},
   "outputs": [],
   "source": [
    "from unittest import result\n",
    "\n",
    "\n",
    "def mirt_param_recovery(sample_size) -> dict:\n",
    "    latent_dimension = 2\n",
    "    item_dimension = 5\n",
    "\n",
    "    #Define Population\n",
    "    cov = np.array([[1,0.2],\n",
    "                    [0.2,1]])\n",
    "\n",
    "    latent_distribution = multivariate_normal(mean=np.array([0,0]), cov=cov)\n",
    "    population = respondent_population(latent_dimension=latent_dimension, latent_distribution=latent_distribution)\n",
    "\n",
    "    #Define Test\n",
    "    A = np.array([[1,0],\n",
    "                [1,0],\n",
    "                [0,1],\n",
    "                [1,1],\n",
    "                [1,1]])\n",
    "    delta = np.array([0, 0.5, 1, 0, 0.5])\n",
    "    early_item_parameters = {\"A\": A, \"delta\": delta, \"item_dimension\": item_dimension, \"latent_dimension\": latent_dimension}\n",
    "\n",
    "    #Sample responses\n",
    "    response_simulation_obj = response_simulation(population=population, early_item_params=early_item_parameters)\n",
    "    sample = response_simulation_obj.sample(100)\n",
    "\n",
    "    #Fit Parameters\n",
    "\n",
    "    result_dict = {\"sample\": sample,\n",
    "                   \"early_item_parameters\": early_item_parameters,\n",
    "                   \"latent_covariance\": cov,\n",
    "                   \"estimated_parameters\": None}\n",
    "    return(result_dict)\n"
   ]
  },
  {
   "cell_type": "code",
   "execution_count": 5,
   "metadata": {},
   "outputs": [],
   "source": [
    "U = mirt_param_recovery(100)"
   ]
  }
 ],
 "metadata": {
  "kernelspec": {
   "display_name": "Python 3.8.5 ('base')",
   "language": "python",
   "name": "python3"
  },
  "language_info": {
   "codemirror_mode": {
    "name": "ipython",
    "version": 3
   },
   "file_extension": ".py",
   "mimetype": "text/x-python",
   "name": "python",
   "nbconvert_exporter": "python",
   "pygments_lexer": "ipython3",
   "version": "3.8.5"
  },
  "orig_nbformat": 4,
  "vscode": {
   "interpreter": {
    "hash": "652797d8287891e02114b51113b60303721b445f646084412baf5ae81281ba43"
   }
  }
 },
 "nbformat": 4,
 "nbformat_minor": 2
}
