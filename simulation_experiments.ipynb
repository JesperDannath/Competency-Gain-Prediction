{
 "cells": [
  {
   "cell_type": "code",
   "execution_count": 1,
   "metadata": {},
   "outputs": [
    {
     "name": "stdout",
     "output_type": "stream",
     "text": [
      "C:\\Users\\Jesper\\Documents\\GitHub\\Knowledge-Growth-Prediction\\models\n",
      "C:\\Users\\Jesper\\Documents\\GitHub\\Knowledge-Growth-Prediction\\models\n"
     ]
    }
   ],
   "source": [
    "import numpy as np\n",
    "from simulation_framework.item_response_simulation import item_response_simulation\n",
    "from simulation_framework.simulate_competency import respondent_population\n",
    "from simulation_framework.simulate_responses import response_simulation\n",
    "from scipy.stats import multivariate_normal\n",
    "import models\n",
    "import em_algorithm\n",
    "import pandas as pd\n",
    "import time\n",
    "from girth import multidimensional_twopl_mml\n",
    "from girth import twopl_mml\n",
    "import cma\n",
    "import scipy\n",
    "from simulation_experiment import mirt_simulation_experiment\n",
    "from analyse_experiment import get_result_df\n",
    "from analyse_experiment import print_result_from_df"
   ]
  },
  {
   "cell_type": "code",
   "execution_count": 2,
   "metadata": {},
   "outputs": [],
   "source": [
    "import datetime\n",
    "\n",
    "def repeat_mirt_experiment(experiment, repetitions):\n",
    "    multiple_result_dict = {}\n",
    "    for i in range(0, repetitions):\n",
    "        multiple_result_dict[datetime.datetime.now()] = experiment()\n",
    "    return(multiple_result_dict)"
   ]
  },
  {
   "cell_type": "markdown",
   "metadata": {},
   "source": [
    "## Experiment 0: MIRT-2PL-Gain Performance Benchmark"
   ]
  },
  {
   "cell_type": "code",
   "execution_count": 7,
   "metadata": {},
   "outputs": [
    {
     "name": "stdout",
     "output_type": "stream",
     "text": [
      "Real latent covariance: [[1.     0.6154 0.2991 0.1308]\n",
      " [0.6154 1.     0.2047 0.1929]\n",
      " [0.2991 0.2047 1.     0.1091]\n",
      " [0.1308 0.1929 0.1091 1.    ]]\n",
      "Covariance matrix is good: True\n",
      "EM Iteration 2\n",
      "Current Monte Carlo Sample size: 300\n",
      "[[1.        0.6269959]\n",
      " [0.6269959 1.       ]]\n"
     ]
    },
    {
     "name": "stderr",
     "output_type": "stream",
     "text": [
      "c:\\Users\\Jesper\\Anaconda3\\lib\\site-packages\\scipy\\stats\\_qmc.py:2039: UserWarning: The balance properties of Sobol' points require n to be a power of 2.\n",
      "  samples = self.engine.random(n)\n"
     ]
    },
    {
     "name": "stdout",
     "output_type": "stream",
     "text": [
      "Step: 2: current parameter_diff: 19.139994998980825, current marginal loglikelihood: -511.47967821327825\n",
      "EM Iteration 3\n",
      "Current Monte Carlo Sample size: 330\n",
      "[[1.         0.72111061]\n",
      " [0.72111061 1.        ]]\n"
     ]
    },
    {
     "name": "stderr",
     "output_type": "stream",
     "text": [
      "c:\\Users\\Jesper\\Anaconda3\\lib\\site-packages\\scipy\\stats\\_qmc.py:2039: UserWarning: The balance properties of Sobol' points require n to be a power of 2.\n",
      "  samples = self.engine.random(n)\n"
     ]
    },
    {
     "name": "stdout",
     "output_type": "stream",
     "text": [
      "Step: 3: current parameter_diff: 9.462895420961889, current marginal loglikelihood: -502.2208896514194\n",
      "EM Iteration 4\n",
      "Current Monte Carlo Sample size: 330\n",
      "[[1.         0.72902873]\n",
      " [0.72902873 1.        ]]\n"
     ]
    },
    {
     "name": "stderr",
     "output_type": "stream",
     "text": [
      "c:\\Users\\Jesper\\Anaconda3\\lib\\site-packages\\scipy\\stats\\_qmc.py:2039: UserWarning: The balance properties of Sobol' points require n to be a power of 2.\n",
      "  samples = self.engine.random(n)\n"
     ]
    },
    {
     "name": "stdout",
     "output_type": "stream",
     "text": [
      "Step: 4: current parameter_diff: 6.016960149785021, current marginal loglikelihood: -499.96669242326607\n",
      "EM Iteration 5\n",
      "Current Monte Carlo Sample size: 363\n",
      "[[1.         0.72249297]\n",
      " [0.72249297 1.        ]]\n"
     ]
    },
    {
     "name": "stderr",
     "output_type": "stream",
     "text": [
      "c:\\Users\\Jesper\\Anaconda3\\lib\\site-packages\\scipy\\stats\\_qmc.py:2039: UserWarning: The balance properties of Sobol' points require n to be a power of 2.\n",
      "  samples = self.engine.random(n)\n"
     ]
    },
    {
     "name": "stdout",
     "output_type": "stream",
     "text": [
      "Step: 5: current parameter_diff: 4.451511104955797, current marginal loglikelihood: -498.941870836244\n",
      "EM Iteration 6\n",
      "Current Monte Carlo Sample size: 363\n",
      "[[1.         0.72532192]\n",
      " [0.72532192 1.        ]]\n"
     ]
    },
    {
     "name": "stderr",
     "output_type": "stream",
     "text": [
      "c:\\Users\\Jesper\\Anaconda3\\lib\\site-packages\\scipy\\stats\\_qmc.py:2039: UserWarning: The balance properties of Sobol' points require n to be a power of 2.\n",
      "  samples = self.engine.random(n)\n"
     ]
    },
    {
     "name": "stdout",
     "output_type": "stream",
     "text": [
      "Step: 6: current parameter_diff: 3.6246199734076976, current marginal loglikelihood: -498.1177538340923\n",
      "EM Iteration 2\n"
     ]
    },
    {
     "name": "stderr",
     "output_type": "stream",
     "text": [
      "c:\\Users\\Jesper\\Anaconda3\\lib\\site-packages\\scipy\\stats\\_qmc.py:2039: UserWarning: The balance properties of Sobol' points require n to be a power of 2.\n",
      "  samples = self.engine.random(n)\n"
     ]
    },
    {
     "name": "stdout",
     "output_type": "stream",
     "text": [
      "Current Monte Carlo Sample size: 300\n",
      "[[1.         0.64900763 0.57775509 0.50555561]\n",
      " [0.64900763 1.         0.37460959 0.32006813]\n",
      " [0.57775509 0.37460959 1.         0.61172184]\n",
      " [0.50555561 0.32006813 0.61172184 1.        ]]\n",
      "Step: 2: current parameter_diff: 18.97935665433079, current marginal loglikelihood: -532.0406897991348\n",
      "EM Iteration 3\n"
     ]
    },
    {
     "name": "stderr",
     "output_type": "stream",
     "text": [
      "c:\\Users\\Jesper\\Anaconda3\\lib\\site-packages\\scipy\\stats\\_qmc.py:2039: UserWarning: The balance properties of Sobol' points require n to be a power of 2.\n",
      "  samples = self.engine.random(n)\n"
     ]
    },
    {
     "name": "stdout",
     "output_type": "stream",
     "text": [
      "Current Monte Carlo Sample size: 300\n",
      "[[1.         0.58056584 0.11063477 0.40530393]\n",
      " [0.58056584 1.         0.07778169 0.09335006]\n",
      " [0.11063477 0.07778169 1.         0.70613006]\n",
      " [0.40530393 0.09335006 0.70613006 1.        ]]\n",
      "Step: 3: current parameter_diff: 12.695577835393912, current marginal loglikelihood: -534.3871766597381\n",
      "EM Iteration 4\n"
     ]
    },
    {
     "name": "stderr",
     "output_type": "stream",
     "text": [
      "c:\\Users\\Jesper\\Anaconda3\\lib\\site-packages\\scipy\\stats\\_qmc.py:2039: UserWarning: The balance properties of Sobol' points require n to be a power of 2.\n",
      "  samples = self.engine.random(n)\n"
     ]
    },
    {
     "name": "stdout",
     "output_type": "stream",
     "text": [
      "Current Monte Carlo Sample size: 300\n",
      "[[1.         0.69215187 0.20199781 0.29289264]\n",
      " [0.69215187 1.         0.14033345 0.06102513]\n",
      " [0.20199781 0.14033345 1.         0.79826854]\n",
      " [0.29289264 0.06102513 0.79826854 1.        ]]\n",
      "Step: 4: current parameter_diff: 9.190372926898306, current marginal loglikelihood: -546.1143127301474\n",
      "EM Iteration 5\n"
     ]
    },
    {
     "name": "stderr",
     "output_type": "stream",
     "text": [
      "c:\\Users\\Jesper\\Anaconda3\\lib\\site-packages\\scipy\\stats\\_qmc.py:2039: UserWarning: The balance properties of Sobol' points require n to be a power of 2.\n",
      "  samples = self.engine.random(n)\n"
     ]
    },
    {
     "name": "stdout",
     "output_type": "stream",
     "text": [
      "Current Monte Carlo Sample size: 300\n",
      "[[1.         0.69399668 0.2188901  0.28075923]\n",
      " [0.69399668 1.         0.15401195 0.05002352]\n",
      " [0.2188901  0.15401195 1.         0.79930167]\n",
      " [0.28075923 0.05002352 0.79930167 1.        ]]\n",
      "Step: 5: current parameter_diff: 6.874681892086647, current marginal loglikelihood: -535.5656934173425\n",
      "EM Iteration 6\n"
     ]
    },
    {
     "name": "stderr",
     "output_type": "stream",
     "text": [
      "c:\\Users\\Jesper\\Anaconda3\\lib\\site-packages\\scipy\\stats\\_qmc.py:2039: UserWarning: The balance properties of Sobol' points require n to be a power of 2.\n",
      "  samples = self.engine.random(n)\n"
     ]
    },
    {
     "name": "stdout",
     "output_type": "stream",
     "text": [
      "Current Monte Carlo Sample size: 330\n",
      "[[1.         0.69474289 0.23169021 0.27148884]\n",
      " [0.69474289 1.         0.16314195 0.0427893 ]\n",
      " [0.23169021 0.16314195 1.         0.80013262]\n",
      " [0.27148884 0.0427893  0.80013262 1.        ]]\n",
      "Step: 6: current parameter_diff: 5.074749227224576, current marginal loglikelihood: -534.7880344057565\n",
      "EM Iteration 7\n"
     ]
    },
    {
     "name": "stderr",
     "output_type": "stream",
     "text": [
      "c:\\Users\\Jesper\\Anaconda3\\lib\\site-packages\\scipy\\stats\\_qmc.py:2039: UserWarning: The balance properties of Sobol' points require n to be a power of 2.\n",
      "  samples = self.engine.random(n)\n"
     ]
    },
    {
     "name": "stdout",
     "output_type": "stream",
     "text": [
      "Current Monte Carlo Sample size: 363\n",
      "[[1.     0.6947 0.2316 0.2714]\n",
      " [0.6947 1.     0.1631 0.0427]\n",
      " [0.2316 0.1631 1.     0.8001]\n",
      " [0.2714 0.0427 0.8001 1.    ]]\n",
      "Step: 7: current parameter_diff: 4.915176958156419, current marginal loglikelihood: -533.442452264692\n",
      "EM Iteration 8\n"
     ]
    },
    {
     "name": "stderr",
     "output_type": "stream",
     "text": [
      "c:\\Users\\Jesper\\Anaconda3\\lib\\site-packages\\scipy\\stats\\_qmc.py:2039: UserWarning: The balance properties of Sobol' points require n to be a power of 2.\n",
      "  samples = self.engine.random(n)\n"
     ]
    },
    {
     "name": "stdout",
     "output_type": "stream",
     "text": [
      "Current Monte Carlo Sample size: 399\n",
      "[[1.         0.76759791 0.16450628 0.27894929]\n",
      " [0.76759791 1.         0.08037601 0.13429759]\n",
      " [0.16450628 0.08037601 1.         0.81179122]\n",
      " [0.27894929 0.13429759 0.81179122 1.        ]]\n",
      "Step: 8: current parameter_diff: 4.759567178259754, current marginal loglikelihood: -534.0102537900716\n",
      "Absolute diff in A:\n",
      "[[ 0.          0.52371295]\n",
      " [ 0.          0.55304645]\n",
      " [ 0.          1.83222387]\n",
      " [ 0.          0.30795739]\n",
      " [ 0.07239169  0.        ]\n",
      " [ 0.67097716  0.        ]\n",
      " [ 1.00144388  0.        ]\n",
      " [ 0.43936459  0.09663028]\n",
      " [ 0.4477451   0.2976873 ]\n",
      " [ 0.68812066  0.0739915 ]\n",
      " [ 0.32068901  0.04169307]\n",
      " [10.52252386  0.34686911]]\n",
      "Absolute diff in delta:\n",
      "[0.08186916 0.35092878 3.74203145 0.42791744 1.43356053 0.77645622\n",
      " 0.11155098 0.25189227 1.6972367  0.90044489 0.50649507 3.448542  ]\n",
      "Absolute diff in sigma:\n",
      "[[0.     0.1099]\n",
      " [0.1099 0.    ]]\n",
      "Absolute diff in A:\n",
      "[[0.         0.35938078]\n",
      " [0.         0.41365948]\n",
      " [0.         0.0079377 ]\n",
      " [0.         4.19891975]\n",
      " [0.         0.44718523]\n",
      " [0.0529239  0.        ]\n",
      " [7.45343549 0.        ]\n",
      " [0.07467591 0.        ]\n",
      " [1.23201061 0.45186918]\n",
      " [0.18483947 0.6455401 ]\n",
      " [4.83751025 6.28846683]\n",
      " [1.00537828 5.38375044]]\n",
      "Absolute diff in delta:\n",
      "[1.15510489 1.00552702 0.55336441 1.97388905 0.39421115 0.09791374\n",
      " 2.34443078 0.31280782 2.96013813 1.69237201 6.8512732  4.67881158]\n",
      "Absolute diff in A:\n",
      "[[0.00000000e+00 7.48606666e-01]\n",
      " [0.00000000e+00 1.11744522e+00]\n",
      " [0.00000000e+00 1.17824702e+00]\n",
      " [0.00000000e+00 5.62777440e-02]\n",
      " [3.27466039e+00 0.00000000e+00]\n",
      " [3.59598895e+00 0.00000000e+00]\n",
      " [5.53786364e-01 0.00000000e+00]\n",
      " [4.76938969e-01 1.13677890e-02]\n",
      " [2.09085121e+00 1.60491668e+00]\n",
      " [1.28931417e+00 2.28242051e-01]\n",
      " [1.15027097e+00 9.66738792e-01]\n",
      " [1.71681480e+01 4.98729227e-01]]\n",
      "Absolute diff in delta:\n",
      "[0.53713046 0.07418748 0.29972728 0.42130967 0.18800609 0.00568874\n",
      " 0.82599355 1.11869973 1.42270446 1.65985604 0.08168251 0.94328787]\n",
      "Absolute diff in sigma:\n",
      "[[0.     0.1154]\n",
      " [0.1154 0.    ]]\n",
      "Absolute diff in A:\n",
      "[[1.00000000e+00 2.37688796e+00]\n",
      " [1.00000000e+00 6.32729111e-01]\n",
      " [1.00000000e+00 2.67920875e-03]\n",
      " [1.00000000e+00 5.53273496e+00]\n",
      " [1.00000000e+00 6.42825925e-01]\n",
      " [7.18374288e-01 1.00000000e+00]\n",
      " [1.09473146e+01 1.00000000e+00]\n",
      " [1.33818702e+00 1.00000000e+00]\n",
      " [4.54838767e+00 3.30298111e+00]\n",
      " [3.34995599e-01 6.70353934e-01]\n",
      " [1.35121241e+00 1.48397482e+00]\n",
      " [8.51659951e-01 1.28670742e+01]]\n",
      "Absolute diff in delta:\n",
      "[0.09186601 1.23762771 0.97266993 2.52345165 1.20634565 0.55160123\n",
      " 2.6475406  1.11759297 2.85414993 1.23116279 0.95742347 2.50784751]\n",
      "Covariance matrix is good: True\n",
      "EM Iteration 2\n",
      "Current Monte Carlo Sample size: 300\n",
      "[[1.         0.62762468]\n",
      " [0.62762468 1.        ]]\n"
     ]
    },
    {
     "name": "stderr",
     "output_type": "stream",
     "text": [
      "c:\\Users\\Jesper\\Anaconda3\\lib\\site-packages\\scipy\\stats\\_qmc.py:2039: UserWarning: The balance properties of Sobol' points require n to be a power of 2.\n",
      "  samples = self.engine.random(n)\n"
     ]
    },
    {
     "name": "stdout",
     "output_type": "stream",
     "text": [
      "Step: 2: current parameter_diff: 18.70945778711077, current marginal loglikelihood: -513.7574488076159\n",
      "EM Iteration 3\n",
      "Current Monte Carlo Sample size: 330\n",
      "[[1.         0.71975993]\n",
      " [0.71975993 1.        ]]\n"
     ]
    },
    {
     "name": "stderr",
     "output_type": "stream",
     "text": [
      "c:\\Users\\Jesper\\Anaconda3\\lib\\site-packages\\scipy\\stats\\_qmc.py:2039: UserWarning: The balance properties of Sobol' points require n to be a power of 2.\n",
      "  samples = self.engine.random(n)\n"
     ]
    },
    {
     "name": "stdout",
     "output_type": "stream",
     "text": [
      "Step: 3: current parameter_diff: 9.349454311336455, current marginal loglikelihood: -503.36619752089456\n",
      "EM Iteration 4\n",
      "Current Monte Carlo Sample size: 330\n",
      "[[1.         0.73184151]\n",
      " [0.73184151 1.        ]]\n"
     ]
    },
    {
     "name": "stderr",
     "output_type": "stream",
     "text": [
      "c:\\Users\\Jesper\\Anaconda3\\lib\\site-packages\\scipy\\stats\\_qmc.py:2039: UserWarning: The balance properties of Sobol' points require n to be a power of 2.\n",
      "  samples = self.engine.random(n)\n"
     ]
    },
    {
     "name": "stdout",
     "output_type": "stream",
     "text": [
      "Step: 4: current parameter_diff: 5.910915760717312, current marginal loglikelihood: -499.81822516085765\n",
      "EM Iteration 5\n",
      "Current Monte Carlo Sample size: 363\n",
      "[[1.        0.7358125]\n",
      " [0.7358125 1.       ]]\n"
     ]
    },
    {
     "name": "stderr",
     "output_type": "stream",
     "text": [
      "c:\\Users\\Jesper\\Anaconda3\\lib\\site-packages\\scipy\\stats\\_qmc.py:2039: UserWarning: The balance properties of Sobol' points require n to be a power of 2.\n",
      "  samples = self.engine.random(n)\n"
     ]
    },
    {
     "name": "stdout",
     "output_type": "stream",
     "text": [
      "Step: 5: current parameter_diff: 3.688291013369275, current marginal loglikelihood: -498.4793888380048\n",
      "EM Iteration 6\n",
      "Current Monte Carlo Sample size: 399\n",
      "[[1.         0.72461038]\n",
      " [0.72461038 1.        ]]\n"
     ]
    },
    {
     "name": "stderr",
     "output_type": "stream",
     "text": [
      "c:\\Users\\Jesper\\Anaconda3\\lib\\site-packages\\scipy\\stats\\_qmc.py:2039: UserWarning: The balance properties of Sobol' points require n to be a power of 2.\n",
      "  samples = self.engine.random(n)\n"
     ]
    },
    {
     "name": "stdout",
     "output_type": "stream",
     "text": [
      "Step: 6: current parameter_diff: 3.900990091646076, current marginal loglikelihood: -497.7690174534922\n",
      "Covariance matrix is good: True\n",
      "EM Iteration 2\n",
      "Current Monte Carlo Sample size: 300\n",
      "[[1.         0.47543155]\n",
      " [0.47543155 1.        ]]\n"
     ]
    },
    {
     "name": "stderr",
     "output_type": "stream",
     "text": [
      "c:\\Users\\Jesper\\Anaconda3\\lib\\site-packages\\scipy\\stats\\_qmc.py:2039: UserWarning: The balance properties of Sobol' points require n to be a power of 2.\n",
      "  samples = self.engine.random(n)\n"
     ]
    },
    {
     "name": "stdout",
     "output_type": "stream",
     "text": [
      "Step: 2: current parameter_diff: 22.350606271202775, current marginal loglikelihood: -400.84532400808143\n",
      "EM Iteration 3\n",
      "Current Monte Carlo Sample size: 330\n",
      "[[1.         0.50231453]\n",
      " [0.50231453 1.        ]]\n"
     ]
    },
    {
     "name": "stderr",
     "output_type": "stream",
     "text": [
      "c:\\Users\\Jesper\\Anaconda3\\lib\\site-packages\\scipy\\stats\\_qmc.py:2039: UserWarning: The balance properties of Sobol' points require n to be a power of 2.\n",
      "  samples = self.engine.random(n)\n"
     ]
    },
    {
     "name": "stdout",
     "output_type": "stream",
     "text": [
      "Step: 3: current parameter_diff: 18.921295059482567, current marginal loglikelihood: -381.7915991095141\n",
      "EM Iteration 4\n",
      "Current Monte Carlo Sample size: 330\n",
      "[[1.         0.53381724]\n",
      " [0.53381724 1.        ]]\n"
     ]
    },
    {
     "name": "stderr",
     "output_type": "stream",
     "text": [
      "c:\\Users\\Jesper\\Anaconda3\\lib\\site-packages\\scipy\\stats\\_qmc.py:2039: UserWarning: The balance properties of Sobol' points require n to be a power of 2.\n",
      "  samples = self.engine.random(n)\n"
     ]
    },
    {
     "name": "stdout",
     "output_type": "stream",
     "text": [
      "Step: 4: current parameter_diff: 18.22714730642582, current marginal loglikelihood: -375.7730886982139\n",
      "EM Iteration 5\n",
      "Current Monte Carlo Sample size: 363\n",
      "[[1.         0.57315507]\n",
      " [0.57315507 1.        ]]\n"
     ]
    },
    {
     "name": "stderr",
     "output_type": "stream",
     "text": [
      "c:\\Users\\Jesper\\Anaconda3\\lib\\site-packages\\scipy\\stats\\_qmc.py:2039: UserWarning: The balance properties of Sobol' points require n to be a power of 2.\n",
      "  samples = self.engine.random(n)\n"
     ]
    },
    {
     "name": "stdout",
     "output_type": "stream",
     "text": [
      "Step: 5: current parameter_diff: 15.421334329174222, current marginal loglikelihood: -373.79912934104266\n",
      "EM Iteration 6\n",
      "Current Monte Carlo Sample size: 399\n",
      "[[1.         0.58706719]\n",
      " [0.58706719 1.        ]]\n"
     ]
    },
    {
     "name": "stderr",
     "output_type": "stream",
     "text": [
      "c:\\Users\\Jesper\\Anaconda3\\lib\\site-packages\\scipy\\stats\\_qmc.py:2039: UserWarning: The balance properties of Sobol' points require n to be a power of 2.\n",
      "  samples = self.engine.random(n)\n"
     ]
    },
    {
     "name": "stdout",
     "output_type": "stream",
     "text": [
      "Step: 6: current parameter_diff: 13.927502622641853, current marginal loglikelihood: -371.26486104713\n",
      "EM Iteration 7\n",
      "Current Monte Carlo Sample size: 438\n",
      "[[1.         0.58949423]\n",
      " [0.58949423 1.        ]]\n"
     ]
    },
    {
     "name": "stderr",
     "output_type": "stream",
     "text": [
      "c:\\Users\\Jesper\\Anaconda3\\lib\\site-packages\\scipy\\stats\\_qmc.py:2039: UserWarning: The balance properties of Sobol' points require n to be a power of 2.\n",
      "  samples = self.engine.random(n)\n"
     ]
    },
    {
     "name": "stdout",
     "output_type": "stream",
     "text": [
      "Step: 7: current parameter_diff: 9.557804047777447, current marginal loglikelihood: -370.703136106433\n",
      "Absolute diff in A:\n",
      "[[ 0.          0.48765587]\n",
      " [ 0.          0.59495394]\n",
      " [ 0.          1.55895459]\n",
      " [ 0.          0.30251244]\n",
      " [ 0.1475359   0.        ]\n",
      " [ 0.70629057  0.        ]\n",
      " [ 1.00455601  0.        ]\n",
      " [ 0.36027978  0.29684607]\n",
      " [ 0.58104513  0.26451404]\n",
      " [ 0.61755817  0.22594206]\n",
      " [ 0.56251536  0.09025329]\n",
      " [10.78289139  0.60126029]]\n",
      "Absolute diff in delta:\n",
      "[0.08255381 0.3310728  3.41761553 0.4035897  1.43455842 0.82008493\n",
      " 0.09680259 0.27986975 1.78258391 0.88424594 0.49040303 3.49752256]\n",
      "Absolute diff in sigma:\n",
      "[[0.     0.1092]\n",
      " [0.1092 0.    ]]\n",
      "Absolute diff in A:\n",
      "[[0.         1.49709426]\n",
      " [0.         1.38098505]\n",
      " [0.         0.40220047]\n",
      " [0.         1.4405604 ]\n",
      " [0.         0.89705879]\n",
      " [1.75873877 0.        ]\n",
      " [3.45145379 0.        ]\n",
      " [1.48804783 0.        ]\n",
      " [1.20430146 3.14782223]\n",
      " [0.60301235 0.21576327]\n",
      " [5.90970886 7.70177382]\n",
      " [0.2431477  7.14222896]]\n",
      "Absolute diff in delta:\n",
      "[1.58079452 0.83361098 0.28445462 1.29548472 1.01120302 2.6629203\n",
      " 3.72644891 2.36257496 7.86729616 0.92437393 8.54146986 2.68212151]\n",
      "EM Iteration 2\n"
     ]
    },
    {
     "name": "stderr",
     "output_type": "stream",
     "text": [
      "c:\\Users\\Jesper\\Anaconda3\\lib\\site-packages\\scipy\\stats\\_qmc.py:2039: UserWarning: The balance properties of Sobol' points require n to be a power of 2.\n",
      "  samples = self.engine.random(n)\n"
     ]
    },
    {
     "name": "stdout",
     "output_type": "stream",
     "text": [
      "Current Monte Carlo Sample size: 300\n",
      "[[ 1.          0.79860186 -0.51145308 -0.34130173]\n",
      " [ 0.79860186  1.         -0.67341481 -0.47119044]\n",
      " [-0.51145308 -0.67341481  1.          0.6269957 ]\n",
      " [-0.34130173 -0.47119044  0.6269957   1.        ]]\n",
      "Step: 2: current parameter_diff: 20.745500421185863, current marginal loglikelihood: -610.3164852145954\n",
      "EM Iteration 3\n"
     ]
    },
    {
     "name": "stderr",
     "output_type": "stream",
     "text": [
      "c:\\Users\\Jesper\\Anaconda3\\lib\\site-packages\\scipy\\stats\\_qmc.py:2039: UserWarning: The balance properties of Sobol' points require n to be a power of 2.\n",
      "  samples = self.engine.random(n)\n"
     ]
    },
    {
     "name": "stdout",
     "output_type": "stream",
     "text": [
      "Current Monte Carlo Sample size: 300\n",
      "[[1.         0.69066455 0.03317421 0.01288795]\n",
      " [0.69066455 1.         0.04173995 0.03251874]\n",
      " [0.03317421 0.04173995 1.         0.57934688]\n",
      " [0.01288795 0.03251874 0.57934688 1.        ]]\n",
      "Step: 3: current parameter_diff: 11.368503865176077, current marginal loglikelihood: -629.2928739333499\n",
      "EM Iteration 4\n"
     ]
    },
    {
     "name": "stderr",
     "output_type": "stream",
     "text": [
      "c:\\Users\\Jesper\\Anaconda3\\lib\\site-packages\\scipy\\stats\\_qmc.py:2039: UserWarning: The balance properties of Sobol' points require n to be a power of 2.\n",
      "  samples = self.engine.random(n)\n"
     ]
    },
    {
     "name": "stdout",
     "output_type": "stream",
     "text": [
      "Current Monte Carlo Sample size: 300\n",
      "[[1.         0.60483963 0.0787177  0.04034821]\n",
      " [0.60483963 1.         0.10275713 0.08029684]\n",
      " [0.0787177  0.10275713 1.         0.52467955]\n",
      " [0.04034821 0.08029684 0.52467955 1.        ]]\n",
      "Step: 4: current parameter_diff: 7.927687185523644, current marginal loglikelihood: -606.3238596062102\n",
      "EM Iteration 5\n"
     ]
    },
    {
     "name": "stderr",
     "output_type": "stream",
     "text": [
      "c:\\Users\\Jesper\\Anaconda3\\lib\\site-packages\\scipy\\stats\\_qmc.py:2039: UserWarning: The balance properties of Sobol' points require n to be a power of 2.\n",
      "  samples = self.engine.random(n)\n"
     ]
    },
    {
     "name": "stdout",
     "output_type": "stream",
     "text": [
      "Current Monte Carlo Sample size: 330\n",
      "[[1.         0.50164564 0.11813548 0.08424625]\n",
      " [0.50164564 1.         0.13883593 0.12619739]\n",
      " [0.11813548 0.13883593 1.         0.50650755]\n",
      " [0.08424625 0.12619739 0.50650755 1.        ]]\n",
      "Step: 5: current parameter_diff: 6.543357997578367, current marginal loglikelihood: -597.4240728266486\n",
      "EM Iteration 6\n"
     ]
    },
    {
     "name": "stderr",
     "output_type": "stream",
     "text": [
      "c:\\Users\\Jesper\\Anaconda3\\lib\\site-packages\\scipy\\stats\\_qmc.py:2039: UserWarning: The balance properties of Sobol' points require n to be a power of 2.\n",
      "  samples = self.engine.random(n)\n"
     ]
    },
    {
     "name": "stdout",
     "output_type": "stream",
     "text": [
      "Current Monte Carlo Sample size: 330\n",
      "[[1.         0.65688894 0.10752653 0.14857863]\n",
      " [0.65688894 1.         0.10430497 0.19561704]\n",
      " [0.10752653 0.10430497 1.         0.54123878]\n",
      " [0.14857863 0.19561704 0.54123878 1.        ]]\n",
      "Step: 6: current parameter_diff: 5.838441217119471, current marginal loglikelihood: -595.9747952511387\n",
      "EM Iteration 7\n"
     ]
    },
    {
     "name": "stderr",
     "output_type": "stream",
     "text": [
      "c:\\Users\\Jesper\\Anaconda3\\lib\\site-packages\\scipy\\stats\\_qmc.py:2039: UserWarning: The balance properties of Sobol' points require n to be a power of 2.\n",
      "  samples = self.engine.random(n)\n"
     ]
    },
    {
     "name": "stdout",
     "output_type": "stream",
     "text": [
      "Current Monte Carlo Sample size: 363\n",
      "[[1.         0.58799503 0.1472393  0.15005521]\n",
      " [0.58799503 1.         0.19794199 0.10575414]\n",
      " [0.1472393  0.19794199 1.         0.48554642]\n",
      " [0.15005521 0.10575414 0.48554642 1.        ]]\n",
      "Step: 7: current parameter_diff: 4.7538843537679565, current marginal loglikelihood: -596.6471315633346\n",
      "EM Iteration 8\n"
     ]
    },
    {
     "name": "stderr",
     "output_type": "stream",
     "text": [
      "c:\\Users\\Jesper\\Anaconda3\\lib\\site-packages\\scipy\\stats\\_qmc.py:2039: UserWarning: The balance properties of Sobol' points require n to be a power of 2.\n",
      "  samples = self.engine.random(n)\n"
     ]
    },
    {
     "name": "stdout",
     "output_type": "stream",
     "text": [
      "Current Monte Carlo Sample size: 399\n",
      "[[1.         0.54515626 0.14689464 0.07762289]\n",
      " [0.54515626 1.         0.12211905 0.09082663]\n",
      " [0.14689464 0.12211905 1.         0.62974618]\n",
      " [0.07762289 0.09082663 0.62974618 1.        ]]\n",
      "Step: 8: current parameter_diff: 5.120322210301657, current marginal loglikelihood: -592.6300379488432\n",
      "Absolute diff in A:\n",
      "[[0.         0.32638583]\n",
      " [0.         0.04946779]\n",
      " [0.         0.0993238 ]\n",
      " [0.         2.14093365]\n",
      " [0.         0.04892643]\n",
      " [0.0897254  0.        ]\n",
      " [7.35931471 0.        ]\n",
      " [0.13469077 0.        ]\n",
      " [0.19381749 0.547099  ]\n",
      " [0.10235727 0.75729005]\n",
      " [3.28775611 4.70093514]\n",
      " [0.07869083 8.59288704]]\n",
      "Absolute diff in delta:\n",
      "[1.36520951 0.71514506 0.44644345 1.44166405 0.28535703 0.53182807\n",
      " 1.37764058 0.28274848 0.27335301 1.0825375  2.43454854 2.40706622]\n"
     ]
    }
   ],
   "source": [
    "experiment_0 = lambda: mirt_simulation_experiment(sample_size=100, item_dimension=12, latent_dimension=2, \n",
    "                                             q_type=\"full\", stop_threshold=5, person_method=\"BFGS\",\n",
    "                                            sigma_constraint=\"unconstrained\", real_theta=True)\n",
    "performance_dict= repeat_mirt_experiment(experiment_0, 1)"
   ]
  },
  {
   "cell_type": "code",
   "execution_count": 4,
   "metadata": {},
   "outputs": [
    {
     "name": "stdout",
     "output_type": "stream",
     "text": [
      "------------------------------------\n",
      "##### Results for With unconstrained BFGS and real theta\n",
      "Latent dimension: 2.0,  Item dimension: 12.0, sample size 100.0 \\\n",
      "Early runtime: 3.73 seconds, 8.0 steps, 0.47 seconds per step \\\n",
      "Late runtime: 46.13 seconds, 9.0 steps, 5.13 seconds per step \\\n",
      "Early Marginal Likelihood, Optimal: -618.88, Estimated: -609.26, Initial -693.38 \\\n",
      "Late Marginal Likelihood, Optimal: -606.27, Estimated: -577.88, Initial -756.29\n",
      "| method     |    early_A |   early_delta |   early_sigma |   late_A |   late_delta |   late_sigma |      psi |\n",
      "|:-----------|-----------:|--------------:|--------------:|---------:|-------------:|-------------:|---------:|\n",
      "| difference |   0.870157 |      0.417691 |     5e-05     |  5.0923  |     10.9567  |  0.292281    | 0.526376 |\n",
      "| initial    |   2.11078  |      0.487846 |     0.353553  |  4.06186 |      1.07515 |  0.00388909  | 0.32516  |\n",
      "| late_em    |   0.910499 |      0.400274 |     0.0221324 |  5.70019 |      1.43569 |  0.00388909  | 0.32516  |\n",
      "| real_early | nan        |    nan        |   nan         |  3.86459 |      1.15244 |  0.000848528 | 0.329546 |\n",
      "####\n",
      "Performance on Individual Level \\\n",
      "rmse theta: 0.5044150246209779 \\\n",
      "rmse gain: 0.8248168491829126\n"
     ]
    },
    {
     "name": "stderr",
     "output_type": "stream",
     "text": [
      "c:\\Users\\Jesper\\Documents\\GitHub\\Knowledge-Growth-Prediction\\analyse_experiment.py:153: FutureWarning: DataFrame.mean and DataFrame.median with numeric_only=None will include datetime64 and datetime64tz columns in a future version.\n",
      "  reference_method = result_df[result_df[\"method\"]\n",
      "c:\\Users\\Jesper\\Documents\\GitHub\\Knowledge-Growth-Prediction\\analyse_experiment.py:155: FutureWarning: DataFrame.mean and DataFrame.median with numeric_only=None will include datetime64 and datetime64tz columns in a future version.\n",
      "  initial = result_df[result_df[\"method\"] == \"initial\"].mean()\n"
     ]
    }
   ],
   "source": [
    "performance_df = get_result_df(performance_dict)\n",
    "print_result_from_df(performance_df, description=\"With unconstrained BFGS and real theta\")"
   ]
  },
  {
   "cell_type": "markdown",
   "metadata": {},
   "source": [
    "\n",
    "------------------------------------\n",
    "##### Results for Increasing Monte Carlo sample-size based on ttest with normal MC\n",
    "Latent dimension: 2,  Item dimension: 6, sample size 100 \\\n",
    "Runtime: 3.3 seconds, 15 steps, 0.22 seconds per step \\\n",
    "Optimal marginal Likelihood: -371.46, Estimated: -365.03, Initial -374.57\n",
    "|               |   rmse_A |   rmse_delta |   rmse_sigma |\n",
    "|:--------------|---------:|-------------:|-------------:|\n",
    "| estimated     | 0.660667 |     0.316008 |    0.0573464 |\n",
    "| early_initial | 0.509902 |     0.28936  |    0.212132  |\n",
    "| girth         | 1.0658   |     0.31617  |    0.12943   |\n",
    "| early_direct  | 0.848957 |     0.59659  |    0.116858  |\n",
    "\n",
    "------------------------------------\n",
    "##### Results for Untested full Model\n",
    "Latent dimension: 2,  Item dimension: 10, sample size 100 \\\n",
    "Early runtime: 2.56 seconds, 8 steps, 0.32 seconds per step \\\n",
    "Late runtime: 107.71 seconds, 5 steps, 21.54 seconds per step \\\n",
    "Early Marginal Likelihood, Optimal: -470.21, Estimated: -463.83, Initial -527.4 \\\n",
    "Late Marginal Likelihood, Optimal: 3.89, Estimated: 3.92, Initial 3.81\n",
    "|           |   early_A |   early_delta |   early_sigma |   late_A |   late_delta |   late_sigma |      psi |\n",
    "|:----------|----------:|--------------:|--------------:|---------:|-------------:|-------------:|---------:|\n",
    "| estimated |   1.08941 |      0.391419 |     0.0115966 |  1.83043 |      1.33621 |     0.674368 | 0.395368 |\n",
    "| initial   |   3.07758 |      0.621379 |     0.329017  |  2.74743 |      1.52522 |     0.320885 | 0.210157 |\n",
    "####\n",
    "Performance on Individual Level \\\n",
    "rmse theta: 0.864016477222037 \\\n",
    "rmse gain: 0.8736126145557623\n",
    "\n",
    "------------------------------------\n",
    "##### Results for Fixed marginal Loglikelihood\n",
    "Latent dimension: 2,  Item dimension: 10, sample size 100 \\\n",
    "Early runtime: 2.5 seconds, 7 steps, 0.36 seconds per step \\\n",
    "Late runtime: 322.67 seconds, 9 steps, 35.85 seconds per step \\\n",
    "Early Marginal Likelihood, Optimal: -494.37, Estimated: -479.73, Initial -540.27 \\\n",
    "Late Marginal Likelihood, Optimal: -359.97, Estimated: -381.08, Initial -431.02\n",
    "|           |   early_A |   early_delta |   early_sigma |   late_A |   late_delta |   late_sigma |      psi |\n",
    "|:----------|----------:|--------------:|--------------:|---------:|-------------:|-------------:|---------:|\n",
    "| estimated |   1.42983 |      0.837686 |     0.139583  |  4.08714 |      2.46488 |    0.243386  | 0.343469 |\n",
    "| initial   |   2.6978  |      0.668599 |     0.0490025 |  5.45633 |      1.95892 |    0.0963787 | 0.22315  |\n",
    "####\n",
    "Performance on Individual Level \\\n",
    "rmse theta: 0.6755600631466341 \\\n",
    "rmse gain: 780.9161055994681\n",
    "\n",
    "------------------------------------\n",
    "##### Results for Genetic Algorithm\n",
    "Latent dimension: 2,  Item dimension: 10, sample size 100 \\\n",
    "Early runtime: 3.42 seconds, 7 steps, 0.49 seconds per step \\\n",
    "Late runtime: 166.44 seconds, 10 steps, 16.64 seconds per step \\\n",
    "Early Marginal Likelihood, Optimal: -445.8, Estimated: -440.04, Initial -525.38 \\\n",
    "Late Marginal Likelihood, Optimal: -452.07, Estimated: -436.89, Initial -535.83\n",
    "|           |   early_A |   early_delta |   early_sigma |   late_A |   late_delta |   late_sigma |      psi |\n",
    "|:----------|----------:|--------------:|--------------:|---------:|-------------:|-------------:|---------:|\n",
    "| estimated |   3.52076 |      0.390601 |     0.0378639 |  5.26244 |     0.403017 |    0.134472  | 0.317107 |\n",
    "| initial   |   5.04367 |      0.567904 |     0.0948937 |  4.62289 |     1.22823  |    0.0472347 | 0.344357 |\n",
    "####\n",
    "Performance on Individual Level \\\n",
    "rmse theta: 0.8067692103719907 \\\n",
    "rmse gain: 560.8514011989563\n",
    "\n",
    "------------------------------------\n",
    "##### Results for With constrained BFGS\n",
    "Latent dimension: 2,  Item dimension: 10, sample size 100 \\\n",
    "Early runtime: 3.39 seconds, 8 steps, 0.42 seconds per step \\\n",
    "Late runtime: 222.08 seconds, 11 steps, 20.19 seconds per step \\\n",
    "Early Marginal Likelihood, Optimal: -450.38, Estimated: -444.2, Initial -522.62 \\\n",
    "Late Marginal Likelihood, Optimal: -469.55, Estimated: -464.8, Initial -539.91\n",
    "|           |   early_A |   early_delta |   early_sigma |   late_A |   late_delta |   late_sigma |      psi |\n",
    "|:----------|----------:|--------------:|--------------:|---------:|-------------:|-------------:|---------:|\n",
    "| estimated |  0.683488 |      0.604727 |     0.0795495 |  1.19288 |     0.397077 |    0.163978  | 0.367325 |\n",
    "| initial   |  2.31601  |      0.712129 |     0.0905097 |  2.83422 |     1.04892  |    0.0775696 | 0.226698 |\n",
    "####\n",
    "Performance on Individual Level \\\n",
    "rmse theta: 0.7139781405467193 \\\n",
    "rmse gain: 0.8053860461431572\n",
    "\n",
    "------------------------------------\n",
    "##### Results for With unconstrained BFGS and save ICC\n",
    "Latent dimension: 2,  Item dimension: 10, sample size 200 \\\n",
    "Early runtime: 4.94 seconds, 10 steps, 0.49 seconds per step \\\n",
    "Late runtime: 217.77 seconds, 14 steps, 15.56 seconds per step \\\n",
    "Early Marginal Likelihood, Optimal: -1025.93, Estimated: -1014.24, Initial -1143.43 \\\n",
    "Late Marginal Likelihood, Optimal: -1019.85, Estimated: -942.56, Initial -1165.24\n",
    "|           |   early_A |   early_delta |   early_sigma |   late_A |   late_delta |   late_sigma |     psi |\n",
    "|:----------|----------:|--------------:|--------------:|---------:|-------------:|-------------:|--------:|\n",
    "| estimated |   1.28713 |      0.405811 |      0.022486 |  2.34827 |      3.08274 |    0.0799031 | 0.25137 |\n",
    "| initial   |   2.81054 |      0.442962 |      0.257387 |  4.62677 |      1.05851 |    0.0787717 | 0.33902 |\n",
    "####\n",
    "Performance on Individual Level \\\n",
    "rmse theta: 0.8966706033114552 \\\n",
    "rmse gain: 0.8351295524334317\n",
    "\n",
    "------------------------------------\n",
    "##### Results for With unconstrained BFGS and save ICC and density\n",
    "Latent dimension: 2,  Item dimension: 10, sample size 100 \\\n",
    "Early runtime: 3.18 seconds, 7 steps, 0.45 seconds per step \\\n",
    "Late runtime: 138.53 seconds, 15 steps, 9.24 seconds per step \\\n",
    "Early Marginal Likelihood, Optimal: -520.2, Estimated: -510.43, Initial -543.26 \\\n",
    "Late Marginal Likelihood, Optimal: -423.14, Estimated: -395.86, Initial -478.51\n",
    "|           |   early_A |   early_delta |   early_sigma |   late_A |   late_delta |   late_sigma |       psi |\n",
    "|:----------|----------:|--------------:|--------------:|---------:|-------------:|-------------:|----------:|\n",
    "| estimated |   1.46673 |      0.222442 |      0.180454 |  8.89911 |      3.884   |    0.0590434 | 0.0987126 |\n",
    "| initial   |   1.98992 |      0.373841 |      0.138664 |  3.10531 |      1.01749 |    0.0374059 | 0.279826  |\n",
    "####\n",
    "Performance on Individual Level \\\n",
    "rmse theta: 0.823547261347214 \\\n",
    "rmse gain: 1.1151668629591303\n",
    "\n",
    "------------------------------------\n",
    "##### Results for With unconstrained BFGS and unsave ICC and save density\n",
    "Latent dimension: 2,  Item dimension: 12, sample size 100 \\\n",
    "Early runtime: 3.87 seconds, 8 steps, 0.48 seconds per step \\\n",
    "Late runtime: 134.42 seconds, 9 steps, 14.94 seconds per step \\\n",
    "Early Marginal Likelihood, Optimal: -602.6, Estimated: -592.22, Initial -670.75 \\\n",
    "Late Marginal Likelihood, Optimal: -456.88, Estimated: -452.65, Initial -554.35\n",
    "|           |   early_A |   early_delta |   early_sigma |   late_A |   late_delta |   late_sigma |       psi |\n",
    "|:----------|----------:|--------------:|--------------:|---------:|-------------:|-------------:|----------:|\n",
    "| estimated |  0.690325 |      0.546951 |     0.0650538 |  1.27364 |     0.938354 |    0.0915703 | 0.0813927 |\n",
    "| initial   |  2.45374  |      0.70644  |     0.213122  |  2.99672 |     1.01538  |    0.137037  | 0.289388  |\n",
    "####\n",
    "Performance on Individual Level \\\n",
    "rmse theta: 0.9424593402985434 \\\n",
    "rmse gain: 0.9094035651380942"
   ]
  },
  {
   "cell_type": "markdown",
   "metadata": {},
   "source": [
    "## Experiment 1: MIRT-2PL Parameter Recovery"
   ]
  },
  {
   "cell_type": "code",
   "execution_count": 4,
   "metadata": {},
   "outputs": [
    {
     "name": "stdout",
     "output_type": "stream",
     "text": [
      "Real latent covariance: [[1.     0.5589 0.4169 0.4609]\n",
      " [0.5589 1.     0.1313 0.0194]\n",
      " [0.4169 0.1313 1.     0.049 ]\n",
      " [0.4609 0.0194 0.049  1.    ]]\n",
      "Covariance matrix is good: True\n",
      "EM Iteration 2\n",
      "Current Monte Carlo Sample size: 300\n",
      "[[1.         0.54457069]\n",
      " [0.54457069 1.        ]]\n"
     ]
    },
    {
     "name": "stderr",
     "output_type": "stream",
     "text": [
      "c:\\Users\\Jesper\\Anaconda3\\lib\\site-packages\\scipy\\stats\\_qmc.py:2039: UserWarning: The balance properties of Sobol' points require n to be a power of 2.\n",
      "  samples = self.engine.random(n)\n"
     ]
    },
    {
     "name": "stdout",
     "output_type": "stream",
     "text": [
      "Step: 2: current parameter_diff: 15.15406672223981, current marginal loglikelihood: -549.1589430926429\n",
      "EM Iteration 3\n",
      "Current Monte Carlo Sample size: 330\n",
      "[[1.         0.56968866]\n",
      " [0.56968866 1.        ]]\n"
     ]
    },
    {
     "name": "stderr",
     "output_type": "stream",
     "text": [
      "c:\\Users\\Jesper\\Anaconda3\\lib\\site-packages\\scipy\\stats\\_qmc.py:2039: UserWarning: The balance properties of Sobol' points require n to be a power of 2.\n",
      "  samples = self.engine.random(n)\n"
     ]
    },
    {
     "name": "stdout",
     "output_type": "stream",
     "text": [
      "Step: 3: current parameter_diff: 12.58048631435762, current marginal loglikelihood: -527.751041272262\n",
      "EM Iteration 4\n",
      "Current Monte Carlo Sample size: 330\n",
      "[[1.       0.582277]\n",
      " [0.582277 1.      ]]\n"
     ]
    },
    {
     "name": "stderr",
     "output_type": "stream",
     "text": [
      "c:\\Users\\Jesper\\Anaconda3\\lib\\site-packages\\scipy\\stats\\_qmc.py:2039: UserWarning: The balance properties of Sobol' points require n to be a power of 2.\n",
      "  samples = self.engine.random(n)\n"
     ]
    },
    {
     "name": "stdout",
     "output_type": "stream",
     "text": [
      "Step: 4: current parameter_diff: 9.583665358714306, current marginal loglikelihood: -522.4066584992684\n",
      "EM Iteration 5\n",
      "Current Monte Carlo Sample size: 363\n",
      "[[1.         0.58909943]\n",
      " [0.58909943 1.        ]]\n"
     ]
    },
    {
     "name": "stderr",
     "output_type": "stream",
     "text": [
      "c:\\Users\\Jesper\\Anaconda3\\lib\\site-packages\\scipy\\stats\\_qmc.py:2039: UserWarning: The balance properties of Sobol' points require n to be a power of 2.\n",
      "  samples = self.engine.random(n)\n"
     ]
    },
    {
     "name": "stdout",
     "output_type": "stream",
     "text": [
      "Step: 5: current parameter_diff: 6.446434284945818, current marginal loglikelihood: -522.389964883823\n",
      "EM Iteration 6\n",
      "Current Monte Carlo Sample size: 363\n",
      "[[1.         0.56053432]\n",
      " [0.56053432 1.        ]]\n"
     ]
    },
    {
     "name": "stderr",
     "output_type": "stream",
     "text": [
      "c:\\Users\\Jesper\\Anaconda3\\lib\\site-packages\\scipy\\stats\\_qmc.py:2039: UserWarning: The balance properties of Sobol' points require n to be a power of 2.\n",
      "  samples = self.engine.random(n)\n"
     ]
    },
    {
     "name": "stdout",
     "output_type": "stream",
     "text": [
      "Step: 6: current parameter_diff: 5.1020913298238, current marginal loglikelihood: -517.5334877755687\n",
      "EM Iteration 7\n",
      "Current Monte Carlo Sample size: 399\n",
      "[[1.         0.53577067]\n",
      " [0.53577067 1.        ]]\n"
     ]
    },
    {
     "name": "stderr",
     "output_type": "stream",
     "text": [
      "c:\\Users\\Jesper\\Anaconda3\\lib\\site-packages\\scipy\\stats\\_qmc.py:2039: UserWarning: The balance properties of Sobol' points require n to be a power of 2.\n",
      "  samples = self.engine.random(n)\n"
     ]
    },
    {
     "name": "stdout",
     "output_type": "stream",
     "text": [
      "Step: 7: current parameter_diff: 4.7542140041260605, current marginal loglikelihood: -516.6836636844013\n",
      "EM Iteration 2\n"
     ]
    },
    {
     "name": "stderr",
     "output_type": "stream",
     "text": [
      "c:\\Users\\Jesper\\Anaconda3\\lib\\site-packages\\scipy\\stats\\_qmc.py:2039: UserWarning: The balance properties of Sobol' points require n to be a power of 2.\n",
      "  samples = self.engine.random(n)\n"
     ]
    },
    {
     "name": "stdout",
     "output_type": "stream",
     "text": [
      "Current Monte Carlo Sample size: 300\n",
      "[[1.         0.61449208 0.41955082 0.39388163]\n",
      " [0.61449208 1.         0.38674749 0.37125757]\n",
      " [0.41955082 0.38674749 1.         0.61895926]\n",
      " [0.39388163 0.37125757 0.61895926 1.        ]]\n",
      "Step: 2: current parameter_diff: 18.765621924872416, current marginal loglikelihood: -601.1658150975795\n",
      "EM Iteration 3\n"
     ]
    },
    {
     "name": "stderr",
     "output_type": "stream",
     "text": [
      "c:\\Users\\Jesper\\Anaconda3\\lib\\site-packages\\scipy\\stats\\_qmc.py:2039: UserWarning: The balance properties of Sobol' points require n to be a power of 2.\n",
      "  samples = self.engine.random(n)\n"
     ]
    },
    {
     "name": "stdout",
     "output_type": "stream",
     "text": [
      "Current Monte Carlo Sample size: 300\n",
      "[[1.         0.68786231 0.33963285 0.38246277]\n",
      " [0.68786231 1.         0.26449668 0.36612226]\n",
      " [0.33963285 0.26449668 1.         0.65102771]\n",
      " [0.38246277 0.36612226 0.65102771 1.        ]]\n",
      "Step: 3: current parameter_diff: 14.493999549452182, current marginal loglikelihood: -581.1630128839391\n",
      "EM Iteration 4\n"
     ]
    },
    {
     "name": "stderr",
     "output_type": "stream",
     "text": [
      "c:\\Users\\Jesper\\Anaconda3\\lib\\site-packages\\scipy\\stats\\_qmc.py:2039: UserWarning: The balance properties of Sobol' points require n to be a power of 2.\n",
      "  samples = self.engine.random(n)\n"
     ]
    },
    {
     "name": "stdout",
     "output_type": "stream",
     "text": [
      "Current Monte Carlo Sample size: 300\n",
      "[[1.         0.76911246 0.17930631 0.32922887]\n",
      " [0.76911246 1.         0.08556899 0.30643555]\n",
      " [0.17930631 0.08556899 1.         0.67487345]\n",
      " [0.32922887 0.30643555 0.67487345 1.        ]]\n",
      "Step: 4: current parameter_diff: 13.6396365110792, current marginal loglikelihood: -572.9161125224333\n",
      "EM Iteration 5\n"
     ]
    },
    {
     "name": "stderr",
     "output_type": "stream",
     "text": [
      "c:\\Users\\Jesper\\Anaconda3\\lib\\site-packages\\scipy\\stats\\_qmc.py:2039: UserWarning: The balance properties of Sobol' points require n to be a power of 2.\n",
      "  samples = self.engine.random(n)\n"
     ]
    },
    {
     "name": "stdout",
     "output_type": "stream",
     "text": [
      "Current Monte Carlo Sample size: 330\n",
      "[[1.         0.75255667 0.20840508 0.34913803]\n",
      " [0.75255667 1.         0.09405009 0.28216311]\n",
      " [0.20840508 0.09405009 1.         0.69515377]\n",
      " [0.34913803 0.28216311 0.69515377 1.        ]]\n",
      "Step: 5: current parameter_diff: 9.439255670305183, current marginal loglikelihood: -568.5713297539913\n",
      "EM Iteration 6\n"
     ]
    },
    {
     "name": "stderr",
     "output_type": "stream",
     "text": [
      "c:\\Users\\Jesper\\Anaconda3\\lib\\site-packages\\scipy\\stats\\_qmc.py:2039: UserWarning: The balance properties of Sobol' points require n to be a power of 2.\n",
      "  samples = self.engine.random(n)\n"
     ]
    },
    {
     "name": "stdout",
     "output_type": "stream",
     "text": [
      "Current Monte Carlo Sample size: 363\n",
      "[[1.         0.74064983 0.2412797  0.35620084]\n",
      " [0.74064983 1.         0.11109526 0.25077774]\n",
      " [0.2412797  0.11109526 1.         0.71483502]\n",
      " [0.35620084 0.25077774 0.71483502 1.        ]]\n",
      "Step: 6: current parameter_diff: 8.867829008616747, current marginal loglikelihood: -565.7238448305164\n",
      "EM Iteration 7\n"
     ]
    },
    {
     "name": "stderr",
     "output_type": "stream",
     "text": [
      "c:\\Users\\Jesper\\Anaconda3\\lib\\site-packages\\scipy\\stats\\_qmc.py:2039: UserWarning: The balance properties of Sobol' points require n to be a power of 2.\n",
      "  samples = self.engine.random(n)\n"
     ]
    },
    {
     "name": "stdout",
     "output_type": "stream",
     "text": [
      "Current Monte Carlo Sample size: 399\n",
      "[[1.         0.73853941 0.26953707 0.35604423]\n",
      " [0.73853941 1.         0.12813685 0.22584184]\n",
      " [0.26953707 0.12813685 1.         0.72921787]\n",
      " [0.35604423 0.22584184 0.72921787 1.        ]]\n",
      "Step: 7: current parameter_diff: 7.882468336547693, current marginal loglikelihood: -564.6226803936006\n",
      "Absolute diff in A:\n",
      "[[0.         0.92485448]\n",
      " [0.         0.93354883]\n",
      " [0.         0.97052018]\n",
      " [0.         4.50279064]\n",
      " [0.         2.00326539]\n",
      " [1.10258861 0.        ]\n",
      " [0.18222908 0.        ]\n",
      " [0.71779453 0.20743862]\n",
      " [0.42272615 0.92309229]\n",
      " [0.27027301 0.6856357 ]\n",
      " [1.23921044 0.94987249]\n",
      " [0.79128053 0.66454553]]\n",
      "Absolute diff in delta:\n",
      "[0.1958971  0.46154049 0.51907167 0.6453274  1.29476625 0.56074734\n",
      " 0.10034604 0.27426168 0.10236855 0.55922654 0.6754098  0.09150493]\n",
      "Absolute diff in sigma:\n",
      "[[0.     0.0232]\n",
      " [0.0232 0.    ]]\n",
      "Absolute diff in A:\n",
      "[[0.         0.44297084]\n",
      " [0.         2.73487913]\n",
      " [0.         2.48696791]\n",
      " [0.         0.72671459]\n",
      " [2.58974256 0.        ]\n",
      " [5.9244725  0.        ]\n",
      " [0.08258274 0.        ]\n",
      " [0.21379426 0.        ]\n",
      " [0.60712539 0.        ]\n",
      " [5.84830684 4.88994718]\n",
      " [2.74429383 0.23061802]\n",
      " [0.23412428 1.07467408]]\n",
      "Absolute diff in delta:\n",
      "[1.28702193 0.90015146 1.42976963 0.09878105 2.78558159 2.93075811\n",
      " 0.33175734 0.28551723 0.5268321  2.96833087 4.41504538 0.35269704]\n",
      "Absolute diff in A:\n",
      "[[0.         4.89629214]\n",
      " [0.         1.52777661]\n",
      " [0.         3.21599816]\n",
      " [0.         3.82762105]\n",
      " [0.         3.34004317]\n",
      " [0.9485621  0.        ]\n",
      " [0.12682472 0.        ]\n",
      " [1.27680567 0.11749699]\n",
      " [1.07251907 0.07343275]\n",
      " [2.48593923 0.17499569]\n",
      " [0.93355613 2.10738591]\n",
      " [2.26096133 5.02328168]]\n",
      "Absolute diff in delta:\n",
      "[0.65783541 0.43944027 0.95929241 0.30275214 0.01715444 0.57980549\n",
      " 0.12673875 0.17753916 0.46938733 0.30900551 0.20648587 0.50223961]\n",
      "Absolute diff in sigma:\n",
      "[[0.     0.0589]\n",
      " [0.0589 0.    ]]\n",
      "Absolute diff in A:\n",
      "[[ 1.          0.93660217]\n",
      " [ 1.          3.34345557]\n",
      " [ 1.          3.3630297 ]\n",
      " [ 1.          1.34777711]\n",
      " [11.56420909  1.        ]\n",
      " [ 8.06330979  1.        ]\n",
      " [ 4.54764867  1.        ]\n",
      " [ 1.50138811  1.        ]\n",
      " [ 1.71384652  1.        ]\n",
      " [ 1.73609689  1.56958731]\n",
      " [ 3.79816083  2.00300913]\n",
      " [ 0.60631575  1.09110054]]\n",
      "Absolute diff in delta:\n",
      "[2.16983875 1.25837634 2.11180832 0.38541049 1.7251312  0.69697901\n",
      " 0.57753036 1.43941953 0.89436316 0.93760364 1.43125338 0.43346388]\n",
      "Covariance matrix is good: True\n",
      "EM Iteration 2\n",
      "Current Monte Carlo Sample size: 300\n",
      "[[1.         0.48439249]\n",
      " [0.48439249 1.        ]]\n"
     ]
    },
    {
     "name": "stderr",
     "output_type": "stream",
     "text": [
      "c:\\Users\\Jesper\\Anaconda3\\lib\\site-packages\\scipy\\stats\\_qmc.py:2039: UserWarning: The balance properties of Sobol' points require n to be a power of 2.\n",
      "  samples = self.engine.random(n)\n"
     ]
    },
    {
     "name": "stdout",
     "output_type": "stream",
     "text": [
      "Step: 2: current parameter_diff: 15.478573517357269, current marginal loglikelihood: -546.0633638226548\n",
      "EM Iteration 3\n",
      "Current Monte Carlo Sample size: 330\n",
      "[[1.         0.55151102]\n",
      " [0.55151102 1.        ]]\n"
     ]
    },
    {
     "name": "stderr",
     "output_type": "stream",
     "text": [
      "c:\\Users\\Jesper\\Anaconda3\\lib\\site-packages\\scipy\\stats\\_qmc.py:2039: UserWarning: The balance properties of Sobol' points require n to be a power of 2.\n",
      "  samples = self.engine.random(n)\n"
     ]
    },
    {
     "name": "stdout",
     "output_type": "stream",
     "text": [
      "Step: 3: current parameter_diff: 11.900353232043813, current marginal loglikelihood: -528.2957469793945\n",
      "EM Iteration 4\n",
      "Current Monte Carlo Sample size: 363\n",
      "[[1.         0.54792427]\n",
      " [0.54792427 1.        ]]\n"
     ]
    },
    {
     "name": "stderr",
     "output_type": "stream",
     "text": [
      "c:\\Users\\Jesper\\Anaconda3\\lib\\site-packages\\scipy\\stats\\_qmc.py:2039: UserWarning: The balance properties of Sobol' points require n to be a power of 2.\n",
      "  samples = self.engine.random(n)\n"
     ]
    },
    {
     "name": "stdout",
     "output_type": "stream",
     "text": [
      "Step: 4: current parameter_diff: 9.402200911080323, current marginal loglikelihood: -522.3930620733247\n",
      "EM Iteration 5\n",
      "Current Monte Carlo Sample size: 399\n"
     ]
    },
    {
     "name": "stderr",
     "output_type": "stream",
     "text": [
      "c:\\Users\\Jesper\\Anaconda3\\lib\\site-packages\\scipy\\stats\\_qmc.py:2039: UserWarning: The balance properties of Sobol' points require n to be a power of 2.\n",
      "  samples = self.engine.random(n)\n"
     ]
    },
    {
     "name": "stdout",
     "output_type": "stream",
     "text": [
      "[[1.         0.54244076]\n",
      " [0.54244076 1.        ]]\n",
      "Step: 5: current parameter_diff: 7.488474914922014, current marginal loglikelihood: -518.3229163769178\n",
      "EM Iteration 6\n",
      "Current Monte Carlo Sample size: 438\n",
      "[[1.         0.53798526]\n",
      " [0.53798526 1.        ]]\n"
     ]
    },
    {
     "name": "stderr",
     "output_type": "stream",
     "text": [
      "c:\\Users\\Jesper\\Anaconda3\\lib\\site-packages\\scipy\\stats\\_qmc.py:2039: UserWarning: The balance properties of Sobol' points require n to be a power of 2.\n",
      "  samples = self.engine.random(n)\n",
      "c:\\Users\\Jesper\\Anaconda3\\lib\\site-packages\\scipy\\stats\\_qmc.py:2039: UserWarning: The balance properties of Sobol' points require n to be a power of 2.\n",
      "  samples = self.engine.random(n)\n"
     ]
    },
    {
     "name": "stdout",
     "output_type": "stream",
     "text": [
      "Step: 6: current parameter_diff: 4.56065245990287, current marginal loglikelihood: -517.8846995600347\n",
      "EM Iteration 7\n",
      "Current Monte Carlo Sample size: 481\n",
      "[[1.         0.52010813]\n",
      " [0.52010813 1.        ]]\n",
      "Step: 7: current parameter_diff: 4.416783422256726, current marginal loglikelihood: -516.4165528431986\n",
      "Covariance matrix is good: True\n",
      "EM Iteration 2\n",
      "Current Monte Carlo Sample size: 300\n",
      "[[1.         0.64063926]\n",
      " [0.64063926 1.        ]]\n"
     ]
    },
    {
     "name": "stderr",
     "output_type": "stream",
     "text": [
      "c:\\Users\\Jesper\\Anaconda3\\lib\\site-packages\\scipy\\stats\\_qmc.py:2039: UserWarning: The balance properties of Sobol' points require n to be a power of 2.\n",
      "  samples = self.engine.random(n)\n"
     ]
    },
    {
     "name": "stdout",
     "output_type": "stream",
     "text": [
      "Step: 2: current parameter_diff: 22.44747852571828, current marginal loglikelihood: -427.720257717103\n",
      "EM Iteration 3\n",
      "Current Monte Carlo Sample size: 330\n",
      "[[1.         0.71049326]\n",
      " [0.71049326 1.        ]]\n"
     ]
    },
    {
     "name": "stderr",
     "output_type": "stream",
     "text": [
      "c:\\Users\\Jesper\\Anaconda3\\lib\\site-packages\\scipy\\stats\\_qmc.py:2039: UserWarning: The balance properties of Sobol' points require n to be a power of 2.\n",
      "  samples = self.engine.random(n)\n"
     ]
    },
    {
     "name": "stdout",
     "output_type": "stream",
     "text": [
      "Step: 3: current parameter_diff: 22.56761673413336, current marginal loglikelihood: -412.0629964534158\n",
      "EM Iteration 4\n",
      "Current Monte Carlo Sample size: 330\n",
      "[[1.         0.69926823]\n",
      " [0.69926823 1.        ]]\n"
     ]
    },
    {
     "name": "stderr",
     "output_type": "stream",
     "text": [
      "c:\\Users\\Jesper\\Anaconda3\\lib\\site-packages\\scipy\\stats\\_qmc.py:2039: UserWarning: The balance properties of Sobol' points require n to be a power of 2.\n",
      "  samples = self.engine.random(n)\n"
     ]
    },
    {
     "name": "stdout",
     "output_type": "stream",
     "text": [
      "Step: 4: current parameter_diff: 21.599789962910474, current marginal loglikelihood: -402.08494037961344\n",
      "EM Iteration 5\n",
      "Current Monte Carlo Sample size: 363\n",
      "[[1.         0.69765599]\n",
      " [0.69765599 1.        ]]\n"
     ]
    },
    {
     "name": "stderr",
     "output_type": "stream",
     "text": [
      "c:\\Users\\Jesper\\Anaconda3\\lib\\site-packages\\scipy\\stats\\_qmc.py:2039: UserWarning: The balance properties of Sobol' points require n to be a power of 2.\n",
      "  samples = self.engine.random(n)\n"
     ]
    },
    {
     "name": "stdout",
     "output_type": "stream",
     "text": [
      "Step: 5: current parameter_diff: 17.89836967915983, current marginal loglikelihood: -398.1432624822871\n",
      "EM Iteration 6\n",
      "Current Monte Carlo Sample size: 363\n",
      "[[1.         0.68500849]\n",
      " [0.68500849 1.        ]]\n"
     ]
    },
    {
     "name": "stderr",
     "output_type": "stream",
     "text": [
      "c:\\Users\\Jesper\\Anaconda3\\lib\\site-packages\\scipy\\stats\\_qmc.py:2039: UserWarning: The balance properties of Sobol' points require n to be a power of 2.\n",
      "  samples = self.engine.random(n)\n"
     ]
    },
    {
     "name": "stdout",
     "output_type": "stream",
     "text": [
      "Step: 6: current parameter_diff: 16.046313220540736, current marginal loglikelihood: -396.9693420136252\n",
      "EM Iteration 7\n",
      "Current Monte Carlo Sample size: 399\n",
      "[[1.         0.67643613]\n",
      " [0.67643613 1.        ]]\n"
     ]
    },
    {
     "name": "stderr",
     "output_type": "stream",
     "text": [
      "c:\\Users\\Jesper\\Anaconda3\\lib\\site-packages\\scipy\\stats\\_qmc.py:2039: UserWarning: The balance properties of Sobol' points require n to be a power of 2.\n",
      "  samples = self.engine.random(n)\n"
     ]
    },
    {
     "name": "stdout",
     "output_type": "stream",
     "text": [
      "Step: 7: current parameter_diff: 11.412972486926297, current marginal loglikelihood: -394.00561650824255\n",
      "Absolute diff in A:\n",
      "[[0.         0.96793772]\n",
      " [0.         0.96466845]\n",
      " [0.         1.04900014]\n",
      " [0.         4.93017972]\n",
      " [0.         1.94668435]\n",
      " [1.16621766 0.        ]\n",
      " [0.16346479 0.        ]\n",
      " [0.93522449 0.03667313]\n",
      " [0.28845197 0.91197062]\n",
      " [0.27511703 0.72476943]\n",
      " [0.99621891 0.92146978]\n",
      " [0.87896524 0.911829  ]]\n",
      "Absolute diff in delta:\n",
      "[0.17907689 0.49202935 0.49412547 0.74833071 1.19844168 0.64219167\n",
      " 0.08301731 0.29940281 0.08910094 0.63070521 0.6255343  0.02058767]\n",
      "Absolute diff in sigma:\n",
      "[[0.     0.0388]\n",
      " [0.0388 0.    ]]\n",
      "Absolute diff in A:\n",
      "[[0.         0.03252413]\n",
      " [0.         2.3710166 ]\n",
      " [0.         1.57879443]\n",
      " [0.         0.73632526]\n",
      " [2.69580848 0.        ]\n",
      " [2.05604123 0.        ]\n",
      " [6.14235633 0.        ]\n",
      " [1.2289402  0.        ]\n",
      " [0.25458131 0.        ]\n",
      " [6.95601614 7.43398421]\n",
      " [3.21243874 0.43465458]\n",
      " [0.15133375 0.59457468]]\n",
      "Absolute diff in delta:\n",
      "[ 0.12433777  0.26771539  0.33484673  0.88437539  8.07184136  6.64157075\n",
      "  7.77342412  2.26683714  1.38329285 10.86955037  4.18613125  1.66137713]\n",
      "EM Iteration 2\n"
     ]
    },
    {
     "name": "stderr",
     "output_type": "stream",
     "text": [
      "c:\\Users\\Jesper\\Anaconda3\\lib\\site-packages\\scipy\\stats\\_qmc.py:2039: UserWarning: The balance properties of Sobol' points require n to be a power of 2.\n",
      "  samples = self.engine.random(n)\n"
     ]
    },
    {
     "name": "stdout",
     "output_type": "stream",
     "text": [
      "Current Monte Carlo Sample size: 300\n",
      "[[ 1.          0.60128724  0.01231828  0.13344351]\n",
      " [ 0.60128724  1.         -0.06595984  0.09489135]\n",
      " [ 0.01231828 -0.06595984  1.          0.36192691]\n",
      " [ 0.13344351  0.09489135  0.36192691  1.        ]]\n",
      "Step: 2: current parameter_diff: 21.978279468462404, current marginal loglikelihood: -640.2958004369261\n",
      "EM Iteration 3\n"
     ]
    },
    {
     "name": "stderr",
     "output_type": "stream",
     "text": [
      "c:\\Users\\Jesper\\Anaconda3\\lib\\site-packages\\scipy\\stats\\_qmc.py:2039: UserWarning: The balance properties of Sobol' points require n to be a power of 2.\n",
      "  samples = self.engine.random(n)\n"
     ]
    },
    {
     "name": "stdout",
     "output_type": "stream",
     "text": [
      "Current Monte Carlo Sample size: 300\n",
      "[[ 1.          0.69475944 -0.01235604 -0.15078901]\n",
      " [ 0.69475944  1.         -0.08758074 -0.17447179]\n",
      " [-0.01235604 -0.08758074  1.          0.54199208]\n",
      " [-0.15078901 -0.17447179  0.54199208  1.        ]]\n",
      "Step: 3: current parameter_diff: 15.582678642709315, current marginal loglikelihood: -626.3066879907982\n",
      "EM Iteration 4\n"
     ]
    },
    {
     "name": "stderr",
     "output_type": "stream",
     "text": [
      "c:\\Users\\Jesper\\Anaconda3\\lib\\site-packages\\scipy\\stats\\_qmc.py:2039: UserWarning: The balance properties of Sobol' points require n to be a power of 2.\n",
      "  samples = self.engine.random(n)\n"
     ]
    },
    {
     "name": "stdout",
     "output_type": "stream",
     "text": [
      "Current Monte Carlo Sample size: 300\n",
      "[[ 1.          0.6974667  -0.03837137  0.06150871]\n",
      " [ 0.6974667   1.         -0.05114906  0.05735675]\n",
      " [-0.03837137 -0.05114906  1.          0.52701933]\n",
      " [ 0.06150871  0.05735675  0.52701933  1.        ]]\n",
      "Step: 4: current parameter_diff: 12.819831971484431, current marginal loglikelihood: -630.8559689139405\n",
      "EM Iteration 5\n"
     ]
    },
    {
     "name": "stderr",
     "output_type": "stream",
     "text": [
      "c:\\Users\\Jesper\\Anaconda3\\lib\\site-packages\\scipy\\stats\\_qmc.py:2039: UserWarning: The balance properties of Sobol' points require n to be a power of 2.\n",
      "  samples = self.engine.random(n)\n"
     ]
    },
    {
     "name": "stdout",
     "output_type": "stream",
     "text": [
      "Current Monte Carlo Sample size: 300\n",
      "[[1.         0.64080661 0.04288305 0.07123573]\n",
      " [0.64080661 1.         0.04375577 0.04638228]\n",
      " [0.04288305 0.04375577 1.         0.54005432]\n",
      " [0.07123573 0.04638228 0.54005432 1.        ]]\n",
      "Step: 5: current parameter_diff: 7.3184178407118505, current marginal loglikelihood: -628.1090929972171\n",
      "EM Iteration 6\n"
     ]
    },
    {
     "name": "stderr",
     "output_type": "stream",
     "text": [
      "c:\\Users\\Jesper\\Anaconda3\\lib\\site-packages\\scipy\\stats\\_qmc.py:2039: UserWarning: The balance properties of Sobol' points require n to be a power of 2.\n",
      "  samples = self.engine.random(n)\n"
     ]
    },
    {
     "name": "stdout",
     "output_type": "stream",
     "text": [
      "Current Monte Carlo Sample size: 300\n",
      "[[ 1.00000000e+00  6.11045479e-01  1.82106971e-04  6.62635141e-02]\n",
      " [ 6.11045479e-01  1.00000000e+00 -1.38109321e-02  3.38756778e-02]\n",
      " [ 1.82106971e-04 -1.38109321e-02  1.00000000e+00  5.41512216e-01]\n",
      " [ 6.62635141e-02  3.38756778e-02  5.41512216e-01  1.00000000e+00]]\n",
      "Step: 6: current parameter_diff: 8.198118053236731, current marginal loglikelihood: -622.7134240477768\n",
      "EM Iteration 7\n"
     ]
    },
    {
     "name": "stderr",
     "output_type": "stream",
     "text": [
      "c:\\Users\\Jesper\\Anaconda3\\lib\\site-packages\\scipy\\stats\\_qmc.py:2039: UserWarning: The balance properties of Sobol' points require n to be a power of 2.\n",
      "  samples = self.engine.random(n)\n"
     ]
    },
    {
     "name": "stdout",
     "output_type": "stream",
     "text": [
      "Current Monte Carlo Sample size: 330\n",
      "[[ 1.          0.63464196  0.01558155  0.04436007]\n",
      " [ 0.63464196  1.         -0.00150672  0.01868496]\n",
      " [ 0.01558155 -0.00150672  1.          0.54119008]\n",
      " [ 0.04436007  0.01868496  0.54119008  1.        ]]\n",
      "Step: 7: current parameter_diff: 10.339571176588862, current marginal loglikelihood: -620.0218848174517\n",
      "EM Iteration 8\n"
     ]
    },
    {
     "name": "stderr",
     "output_type": "stream",
     "text": [
      "c:\\Users\\Jesper\\Anaconda3\\lib\\site-packages\\scipy\\stats\\_qmc.py:2039: UserWarning: The balance properties of Sobol' points require n to be a power of 2.\n",
      "  samples = self.engine.random(n)\n"
     ]
    },
    {
     "name": "stdout",
     "output_type": "stream",
     "text": [
      "Current Monte Carlo Sample size: 363\n",
      "[[ 1.          0.58847644  0.01367293  0.04140142]\n",
      " [ 0.58847644  1.         -0.00989999  0.01387955]\n",
      " [ 0.01367293 -0.00989999  1.          0.52508745]\n",
      " [ 0.04140142  0.01387955  0.52508745  1.        ]]\n",
      "Step: 8: current parameter_diff: 5.884665505010188, current marginal loglikelihood: -619.3802801054532\n",
      "EM Iteration 9\n"
     ]
    },
    {
     "name": "stderr",
     "output_type": "stream",
     "text": [
      "c:\\Users\\Jesper\\Anaconda3\\lib\\site-packages\\scipy\\stats\\_qmc.py:2039: UserWarning: The balance properties of Sobol' points require n to be a power of 2.\n",
      "  samples = self.engine.random(n)\n"
     ]
    },
    {
     "name": "stdout",
     "output_type": "stream",
     "text": [
      "Current Monte Carlo Sample size: 399\n",
      "[[1.         0.59495384 0.0179353  0.04250951]\n",
      " [0.59495384 1.         0.00508383 0.01932399]\n",
      " [0.0179353  0.00508383 1.         0.53164749]\n",
      " [0.04250951 0.01932399 0.53164749 1.        ]]\n",
      "Step: 9: current parameter_diff: 5.033629111466509, current marginal loglikelihood: -618.8033559302121\n",
      "Absolute diff in A:\n",
      "[[ 0.          0.42673611]\n",
      " [ 0.          2.76147761]\n",
      " [ 0.          2.51787955]\n",
      " [ 0.          0.85030627]\n",
      " [ 1.70105145  0.        ]\n",
      " [ 2.46498794  0.        ]\n",
      " [ 0.72968087  0.        ]\n",
      " [ 0.25029093  0.        ]\n",
      " [ 0.56011331  0.        ]\n",
      " [11.15558756  7.47116638]\n",
      " [ 4.38364001  0.0558373 ]\n",
      " [ 0.06812978  1.21269807]]\n",
      "Absolute diff in delta:\n",
      "[1.24134142 0.84807618 1.33375551 0.07430492 2.93729293 2.09101095\n",
      " 0.51303023 0.38760451 0.59861668 4.75972924 5.57041572 0.47726375]\n",
      "Real latent covariance: [[1.     0.3074 0.2302 0.3267]\n",
      " [0.3074 1.     0.2264 0.0149]\n",
      " [0.2302 0.2264 1.     0.1784]\n",
      " [0.3267 0.0149 0.1784 1.    ]]\n",
      "Covariance matrix is good: True\n",
      "EM Iteration 2\n",
      "Current Monte Carlo Sample size: 300\n",
      "[[1.        0.6000129]\n",
      " [0.6000129 1.       ]]\n"
     ]
    },
    {
     "name": "stderr",
     "output_type": "stream",
     "text": [
      "c:\\Users\\Jesper\\Anaconda3\\lib\\site-packages\\scipy\\stats\\_qmc.py:2039: UserWarning: The balance properties of Sobol' points require n to be a power of 2.\n",
      "  samples = self.engine.random(n)\n"
     ]
    },
    {
     "name": "stdout",
     "output_type": "stream",
     "text": [
      "Step: 2: current parameter_diff: 14.984634337033997, current marginal loglikelihood: -542.4108754384978\n",
      "EM Iteration 3\n",
      "Current Monte Carlo Sample size: 330\n",
      "[[1.         0.61214719]\n",
      " [0.61214719 1.        ]]\n"
     ]
    },
    {
     "name": "stderr",
     "output_type": "stream",
     "text": [
      "c:\\Users\\Jesper\\Anaconda3\\lib\\site-packages\\scipy\\stats\\_qmc.py:2039: UserWarning: The balance properties of Sobol' points require n to be a power of 2.\n",
      "  samples = self.engine.random(n)\n"
     ]
    },
    {
     "name": "stdout",
     "output_type": "stream",
     "text": [
      "Step: 3: current parameter_diff: 10.69337793130973, current marginal loglikelihood: -524.1242763975968\n",
      "EM Iteration 4\n",
      "Current Monte Carlo Sample size: 330\n",
      "[[1.         0.55369661]\n",
      " [0.55369661 1.        ]]\n"
     ]
    },
    {
     "name": "stderr",
     "output_type": "stream",
     "text": [
      "c:\\Users\\Jesper\\Anaconda3\\lib\\site-packages\\scipy\\stats\\_qmc.py:2039: UserWarning: The balance properties of Sobol' points require n to be a power of 2.\n",
      "  samples = self.engine.random(n)\n"
     ]
    },
    {
     "name": "stdout",
     "output_type": "stream",
     "text": [
      "Step: 4: current parameter_diff: 7.421241418664804, current marginal loglikelihood: -515.2691913242016\n",
      "EM Iteration 5\n",
      "Current Monte Carlo Sample size: 363\n",
      "[[1.         0.48470295]\n",
      " [0.48470295 1.        ]]\n"
     ]
    },
    {
     "name": "stderr",
     "output_type": "stream",
     "text": [
      "c:\\Users\\Jesper\\Anaconda3\\lib\\site-packages\\scipy\\stats\\_qmc.py:2039: UserWarning: The balance properties of Sobol' points require n to be a power of 2.\n",
      "  samples = self.engine.random(n)\n"
     ]
    },
    {
     "name": "stdout",
     "output_type": "stream",
     "text": [
      "Step: 5: current parameter_diff: 7.742440336920449, current marginal loglikelihood: -508.03462627328736\n",
      "EM Iteration 6\n",
      "Current Monte Carlo Sample size: 399\n",
      "[[1.         0.40340494]\n",
      " [0.40340494 1.        ]]\n"
     ]
    },
    {
     "name": "stderr",
     "output_type": "stream",
     "text": [
      "c:\\Users\\Jesper\\Anaconda3\\lib\\site-packages\\scipy\\stats\\_qmc.py:2039: UserWarning: The balance properties of Sobol' points require n to be a power of 2.\n",
      "  samples = self.engine.random(n)\n"
     ]
    },
    {
     "name": "stdout",
     "output_type": "stream",
     "text": [
      "Step: 6: current parameter_diff: 6.528034915485856, current marginal loglikelihood: -504.0227173827814\n",
      "EM Iteration 7\n",
      "Current Monte Carlo Sample size: 438\n",
      "[[1.         0.35674309]\n",
      " [0.35674309 1.        ]]\n"
     ]
    },
    {
     "name": "stderr",
     "output_type": "stream",
     "text": [
      "c:\\Users\\Jesper\\Anaconda3\\lib\\site-packages\\scipy\\stats\\_qmc.py:2039: UserWarning: The balance properties of Sobol' points require n to be a power of 2.\n",
      "  samples = self.engine.random(n)\n"
     ]
    },
    {
     "name": "stdout",
     "output_type": "stream",
     "text": [
      "Step: 7: current parameter_diff: 4.516898767601785, current marginal loglikelihood: -501.97366865995264\n",
      "EM Iteration 8\n",
      "Current Monte Carlo Sample size: 481\n",
      "[[1.         0.32365413]\n",
      " [0.32365413 1.        ]]\n",
      "Step: 8: current parameter_diff: 3.7050805452925175, current marginal loglikelihood: -502.08825189417524\n",
      "EM Iteration 2\n"
     ]
    },
    {
     "name": "stderr",
     "output_type": "stream",
     "text": [
      "c:\\Users\\Jesper\\Anaconda3\\lib\\site-packages\\scipy\\stats\\_qmc.py:2039: UserWarning: The balance properties of Sobol' points require n to be a power of 2.\n",
      "  samples = self.engine.random(n)\n"
     ]
    },
    {
     "name": "stdout",
     "output_type": "stream",
     "text": [
      "Current Monte Carlo Sample size: 300\n",
      "[[1.         0.3890784  0.45604992 0.4503062 ]\n",
      " [0.3890784  1.         0.43883374 0.43771766]\n",
      " [0.45604992 0.43883374 1.         0.39863185]\n",
      " [0.4503062  0.43771766 0.39863185 1.        ]]\n",
      "Step: 2: current parameter_diff: 19.2259302603607, current marginal loglikelihood: -622.9491237386088\n",
      "EM Iteration 3\n"
     ]
    },
    {
     "name": "stderr",
     "output_type": "stream",
     "text": [
      "c:\\Users\\Jesper\\Anaconda3\\lib\\site-packages\\scipy\\stats\\_qmc.py:2039: UserWarning: The balance properties of Sobol' points require n to be a power of 2.\n",
      "  samples = self.engine.random(n)\n"
     ]
    },
    {
     "name": "stdout",
     "output_type": "stream",
     "text": [
      "Current Monte Carlo Sample size: 300\n",
      "[[1.         0.50527802 0.2244496  0.2699878 ]\n",
      " [0.50527802 1.         0.08098131 0.15842582]\n",
      " [0.2244496  0.08098131 1.         0.19877334]\n",
      " [0.2699878  0.15842582 0.19877334 1.        ]]\n",
      "Step: 3: current parameter_diff: 16.128177469356597, current marginal loglikelihood: -608.864019034358\n",
      "EM Iteration 4\n"
     ]
    },
    {
     "name": "stderr",
     "output_type": "stream",
     "text": [
      "c:\\Users\\Jesper\\Anaconda3\\lib\\site-packages\\scipy\\stats\\_qmc.py:2039: UserWarning: The balance properties of Sobol' points require n to be a power of 2.\n",
      "  samples = self.engine.random(n)\n"
     ]
    },
    {
     "name": "stdout",
     "output_type": "stream",
     "text": [
      "Current Monte Carlo Sample size: 300\n",
      "[[1.         0.48891068 0.24011724 0.28547435]\n",
      " [0.48891068 1.         0.0578701  0.13709865]\n",
      " [0.24011724 0.0578701  1.         0.21780736]\n",
      " [0.28547435 0.13709865 0.21780736 1.        ]]\n",
      "Step: 4: current parameter_diff: 10.585671239878861, current marginal loglikelihood: -599.8274035196678\n",
      "EM Iteration 5\n"
     ]
    },
    {
     "name": "stderr",
     "output_type": "stream",
     "text": [
      "c:\\Users\\Jesper\\Anaconda3\\lib\\site-packages\\scipy\\stats\\_qmc.py:2039: UserWarning: The balance properties of Sobol' points require n to be a power of 2.\n",
      "  samples = self.engine.random(n)\n"
     ]
    },
    {
     "name": "stdout",
     "output_type": "stream",
     "text": [
      "Current Monte Carlo Sample size: 330\n",
      "[[1.         0.47446247 0.25220456 0.30090151]\n",
      " [0.47446247 1.         0.03184794 0.11667131]\n",
      " [0.25220456 0.03184794 1.         0.23740057]\n",
      " [0.30090151 0.11667131 0.23740057 1.        ]]\n",
      "Step: 5: current parameter_diff: 9.172213381560903, current marginal loglikelihood: -595.2838260518766\n",
      "EM Iteration 6\n"
     ]
    },
    {
     "name": "stderr",
     "output_type": "stream",
     "text": [
      "c:\\Users\\Jesper\\Anaconda3\\lib\\site-packages\\scipy\\stats\\_qmc.py:2039: UserWarning: The balance properties of Sobol' points require n to be a power of 2.\n",
      "  samples = self.engine.random(n)\n"
     ]
    },
    {
     "name": "stdout",
     "output_type": "stream",
     "text": [
      "Current Monte Carlo Sample size: 363\n",
      "[[1.         0.4649883  0.26560318 0.31578387]\n",
      " [0.4649883  1.         0.00859584 0.09944894]\n",
      " [0.26560318 0.00859584 1.         0.25650587]\n",
      " [0.31578387 0.09944894 0.25650587 1.        ]]\n",
      "Step: 6: current parameter_diff: 5.299643732084977, current marginal loglikelihood: -595.4701843373427\n",
      "EM Iteration 7\n"
     ]
    },
    {
     "name": "stderr",
     "output_type": "stream",
     "text": [
      "c:\\Users\\Jesper\\Anaconda3\\lib\\site-packages\\scipy\\stats\\_qmc.py:2039: UserWarning: The balance properties of Sobol' points require n to be a power of 2.\n",
      "  samples = self.engine.random(n)\n"
     ]
    },
    {
     "name": "stdout",
     "output_type": "stream",
     "text": [
      "Current Monte Carlo Sample size: 399\n",
      "[[ 1.          0.46718321  0.28113951  0.33047673]\n",
      " [ 0.46718321  1.         -0.0134119   0.0815926 ]\n",
      " [ 0.28113951 -0.0134119   1.          0.27654134]\n",
      " [ 0.33047673  0.0815926   0.27654134  1.        ]]\n",
      "Step: 7: current parameter_diff: 6.7031433960677145, current marginal loglikelihood: -595.5181968903039\n",
      "Absolute diff in A:\n",
      "[[0.         0.58896154]\n",
      " [1.13833904 0.        ]\n",
      " [1.01141764 0.        ]\n",
      " [0.76910632 0.        ]\n",
      " [0.98150549 0.53077901]\n",
      " [0.02933762 0.54303577]\n",
      " [0.14646325 0.41999776]\n",
      " [0.08471166 0.32929925]\n",
      " [0.76140414 5.49992478]\n",
      " [0.23253043 1.66616231]\n",
      " [0.6973022  0.65489185]\n",
      " [0.86721085 1.63879121]]\n",
      "Absolute diff in delta:\n",
      "[0.21137296 0.14052891 0.30612266 0.14207979 0.26369805 2.05080131\n",
      " 0.11478717 0.42528275 0.71012895 0.52017808 1.169556   0.54702002]\n",
      "Absolute diff in sigma:\n",
      "[[0.     0.0162]\n",
      " [0.0162 0.    ]]\n",
      "Absolute diff in A:\n",
      "[[0.         0.74801305]\n",
      " [0.         0.81423951]\n",
      " [0.         3.01814294]\n",
      " [0.5140304  0.        ]\n",
      " [0.46457173 0.        ]\n",
      " [0.43650263 0.        ]\n",
      " [0.04732889 0.40089692]\n",
      " [0.62057856 2.03478302]\n",
      " [1.23613568 0.79836416]\n",
      " [0.68036947 0.01740269]\n",
      " [0.19310233 0.61207988]\n",
      " [3.65536284 5.03700428]]\n",
      "Absolute diff in delta:\n",
      "[0.40499473 0.00741237 0.07997104 0.21803127 0.16182505 0.70121245\n",
      " 0.09913675 0.14458539 0.4825822  0.45747046 0.39151746 1.31860053]\n",
      "Absolute diff in A:\n",
      "[[0.00000000e+00 3.19677782e+00]\n",
      " [2.31549872e+00 0.00000000e+00]\n",
      " [2.61474487e+00 0.00000000e+00]\n",
      " [5.60832396e+00 0.00000000e+00]\n",
      " [1.70087768e+00 2.44313312e+00]\n",
      " [3.88630718e-01 5.05249726e+00]\n",
      " [9.09502241e-01 1.08729816e+00]\n",
      " [6.93090487e-03 2.42845522e+00]\n",
      " [1.78717539e+00 1.14338954e+01]\n",
      " [4.74054123e+00 2.88325474e+00]\n",
      " [3.02279742e-01 2.08934794e+00]\n",
      " [2.47217997e+00 4.10907898e+00]]\n",
      "Absolute diff in delta:\n",
      "[0.32844029 0.30761237 0.68584748 0.26928052 0.0851645  1.08160309\n",
      " 0.05822413 0.2602258  0.01282311 0.31396403 0.48250982 0.5149916 ]\n",
      "Absolute diff in sigma:\n",
      "[[0.     0.1926]\n",
      " [0.1926 0.    ]]\n",
      "Absolute diff in A:\n",
      "[[1.         1.46565805]\n",
      " [1.         2.60809106]\n",
      " [1.         5.25237072]\n",
      " [1.05539317 1.        ]\n",
      " [3.69674028 1.        ]\n",
      " [0.99228711 1.        ]\n",
      " [0.84635467 0.31119461]\n",
      " [1.23292861 2.96999736]\n",
      " [7.35606021 6.53527825]\n",
      " [1.88526138 2.61496446]\n",
      " [0.25811308 1.10563631]\n",
      " [0.93681535 1.81859146]]\n",
      "Absolute diff in delta:\n",
      "[1.19122949 1.4409846  0.94485411 0.95541913 0.87966135 0.76582942\n",
      " 1.28956184 0.52296927 0.94266819 0.57048147 1.1465336  1.42673012]\n",
      "Covariance matrix is good: True\n",
      "EM Iteration 2\n",
      "Current Monte Carlo Sample size: 300\n"
     ]
    },
    {
     "name": "stderr",
     "output_type": "stream",
     "text": [
      "c:\\Users\\Jesper\\Anaconda3\\lib\\site-packages\\scipy\\stats\\_qmc.py:2039: UserWarning: The balance properties of Sobol' points require n to be a power of 2.\n",
      "  samples = self.engine.random(n)\n"
     ]
    },
    {
     "name": "stdout",
     "output_type": "stream",
     "text": [
      "[[1.         0.60666394]\n",
      " [0.60666394 1.        ]]\n",
      "Step: 2: current parameter_diff: 14.466919511785047, current marginal loglikelihood: -543.9437522987351\n",
      "EM Iteration 3\n",
      "Current Monte Carlo Sample size: 300\n",
      "[[1.         0.62852988]\n",
      " [0.62852988 1.        ]]\n"
     ]
    },
    {
     "name": "stderr",
     "output_type": "stream",
     "text": [
      "c:\\Users\\Jesper\\Anaconda3\\lib\\site-packages\\scipy\\stats\\_qmc.py:2039: UserWarning: The balance properties of Sobol' points require n to be a power of 2.\n",
      "  samples = self.engine.random(n)\n"
     ]
    },
    {
     "name": "stdout",
     "output_type": "stream",
     "text": [
      "Step: 3: current parameter_diff: 10.89535816499746, current marginal loglikelihood: -524.6083555955686\n",
      "EM Iteration 4\n",
      "Current Monte Carlo Sample size: 300\n",
      "[[1.         0.58630226]\n",
      " [0.58630226 1.        ]]\n"
     ]
    },
    {
     "name": "stderr",
     "output_type": "stream",
     "text": [
      "c:\\Users\\Jesper\\Anaconda3\\lib\\site-packages\\scipy\\stats\\_qmc.py:2039: UserWarning: The balance properties of Sobol' points require n to be a power of 2.\n",
      "  samples = self.engine.random(n)\n"
     ]
    },
    {
     "name": "stdout",
     "output_type": "stream",
     "text": [
      "Step: 4: current parameter_diff: 8.94804064405886, current marginal loglikelihood: -515.0138892461035\n",
      "EM Iteration 5\n",
      "Current Monte Carlo Sample size: 330\n",
      "[[1.         0.53778893]\n",
      " [0.53778893 1.        ]]\n"
     ]
    },
    {
     "name": "stderr",
     "output_type": "stream",
     "text": [
      "c:\\Users\\Jesper\\Anaconda3\\lib\\site-packages\\scipy\\stats\\_qmc.py:2039: UserWarning: The balance properties of Sobol' points require n to be a power of 2.\n",
      "  samples = self.engine.random(n)\n"
     ]
    },
    {
     "name": "stdout",
     "output_type": "stream",
     "text": [
      "Step: 5: current parameter_diff: 6.855698115471915, current marginal loglikelihood: -509.76505200626747\n",
      "EM Iteration 6\n",
      "Current Monte Carlo Sample size: 363\n",
      "[[1.        0.4798947]\n",
      " [0.4798947 1.       ]]\n"
     ]
    },
    {
     "name": "stderr",
     "output_type": "stream",
     "text": [
      "c:\\Users\\Jesper\\Anaconda3\\lib\\site-packages\\scipy\\stats\\_qmc.py:2039: UserWarning: The balance properties of Sobol' points require n to be a power of 2.\n",
      "  samples = self.engine.random(n)\n"
     ]
    },
    {
     "name": "stdout",
     "output_type": "stream",
     "text": [
      "Step: 6: current parameter_diff: 5.419565402274645, current marginal loglikelihood: -505.1532946583835\n",
      "EM Iteration 7\n",
      "Current Monte Carlo Sample size: 399\n",
      "[[1.         0.41642481]\n",
      " [0.41642481 1.        ]]\n"
     ]
    },
    {
     "name": "stderr",
     "output_type": "stream",
     "text": [
      "c:\\Users\\Jesper\\Anaconda3\\lib\\site-packages\\scipy\\stats\\_qmc.py:2039: UserWarning: The balance properties of Sobol' points require n to be a power of 2.\n",
      "  samples = self.engine.random(n)\n"
     ]
    },
    {
     "name": "stdout",
     "output_type": "stream",
     "text": [
      "Step: 7: current parameter_diff: 4.098351942556553, current marginal loglikelihood: -503.84562680480184\n",
      "EM Iteration 8\n",
      "Current Monte Carlo Sample size: 438\n",
      "[[1.         0.36445521]\n",
      " [0.36445521 1.        ]]\n"
     ]
    },
    {
     "name": "stderr",
     "output_type": "stream",
     "text": [
      "c:\\Users\\Jesper\\Anaconda3\\lib\\site-packages\\scipy\\stats\\_qmc.py:2039: UserWarning: The balance properties of Sobol' points require n to be a power of 2.\n",
      "  samples = self.engine.random(n)\n"
     ]
    },
    {
     "name": "stdout",
     "output_type": "stream",
     "text": [
      "Step: 8: current parameter_diff: 2.7315234352323277, current marginal loglikelihood: -500.7909727606495\n",
      "Covariance matrix is good: True\n",
      "EM Iteration 2\n",
      "Current Monte Carlo Sample size: 300\n",
      "[[1.         0.51316003]\n",
      " [0.51316003 1.        ]]\n"
     ]
    },
    {
     "name": "stderr",
     "output_type": "stream",
     "text": [
      "c:\\Users\\Jesper\\Anaconda3\\lib\\site-packages\\scipy\\stats\\_qmc.py:2039: UserWarning: The balance properties of Sobol' points require n to be a power of 2.\n",
      "  samples = self.engine.random(n)\n"
     ]
    },
    {
     "name": "stdout",
     "output_type": "stream",
     "text": [
      "Step: 2: current parameter_diff: 20.410822137315527, current marginal loglikelihood: -431.35952784238964\n",
      "EM Iteration 3\n",
      "Current Monte Carlo Sample size: 300\n",
      "[[1.         0.58171057]\n",
      " [0.58171057 1.        ]]\n"
     ]
    },
    {
     "name": "stderr",
     "output_type": "stream",
     "text": [
      "c:\\Users\\Jesper\\Anaconda3\\lib\\site-packages\\scipy\\stats\\_qmc.py:2039: UserWarning: The balance properties of Sobol' points require n to be a power of 2.\n",
      "  samples = self.engine.random(n)\n"
     ]
    },
    {
     "name": "stdout",
     "output_type": "stream",
     "text": [
      "Step: 3: current parameter_diff: 18.60117677594166, current marginal loglikelihood: -416.69603800223933\n",
      "EM Iteration 4\n",
      "Current Monte Carlo Sample size: 330\n",
      "[[1.         0.62840399]\n",
      " [0.62840399 1.        ]]\n"
     ]
    },
    {
     "name": "stderr",
     "output_type": "stream",
     "text": [
      "c:\\Users\\Jesper\\Anaconda3\\lib\\site-packages\\scipy\\stats\\_qmc.py:2039: UserWarning: The balance properties of Sobol' points require n to be a power of 2.\n",
      "  samples = self.engine.random(n)\n"
     ]
    },
    {
     "name": "stdout",
     "output_type": "stream",
     "text": [
      "Step: 4: current parameter_diff: 17.187731458979087, current marginal loglikelihood: -409.4611872367648\n",
      "EM Iteration 5\n",
      "Current Monte Carlo Sample size: 330\n",
      "[[1.         0.61644128]\n",
      " [0.61644128 1.        ]]\n"
     ]
    },
    {
     "name": "stderr",
     "output_type": "stream",
     "text": [
      "c:\\Users\\Jesper\\Anaconda3\\lib\\site-packages\\scipy\\stats\\_qmc.py:2039: UserWarning: The balance properties of Sobol' points require n to be a power of 2.\n",
      "  samples = self.engine.random(n)\n"
     ]
    },
    {
     "name": "stdout",
     "output_type": "stream",
     "text": [
      "Step: 5: current parameter_diff: 13.236875758413568, current marginal loglikelihood: -406.4707108119701\n",
      "EM Iteration 6\n",
      "Current Monte Carlo Sample size: 330\n",
      "[[1.         0.59773475]\n",
      " [0.59773475 1.        ]]\n"
     ]
    },
    {
     "name": "stderr",
     "output_type": "stream",
     "text": [
      "c:\\Users\\Jesper\\Anaconda3\\lib\\site-packages\\scipy\\stats\\_qmc.py:2039: UserWarning: The balance properties of Sobol' points require n to be a power of 2.\n",
      "  samples = self.engine.random(n)\n"
     ]
    },
    {
     "name": "stdout",
     "output_type": "stream",
     "text": [
      "Step: 6: current parameter_diff: 10.477829045872372, current marginal loglikelihood: -405.34393323478884\n",
      "EM Iteration 7\n",
      "Current Monte Carlo Sample size: 363\n",
      "[[1.         0.60203714]\n",
      " [0.60203714 1.        ]]\n"
     ]
    },
    {
     "name": "stderr",
     "output_type": "stream",
     "text": [
      "c:\\Users\\Jesper\\Anaconda3\\lib\\site-packages\\scipy\\stats\\_qmc.py:2039: UserWarning: The balance properties of Sobol' points require n to be a power of 2.\n",
      "  samples = self.engine.random(n)\n"
     ]
    },
    {
     "name": "stdout",
     "output_type": "stream",
     "text": [
      "Step: 7: current parameter_diff: 8.187472581387755, current marginal loglikelihood: -404.1568572659122\n",
      "Absolute diff in A:\n",
      "[[0.         0.55415553]\n",
      " [1.15165766 0.        ]\n",
      " [0.92473363 0.        ]\n",
      " [1.03880887 0.        ]\n",
      " [0.96058108 0.68898194]\n",
      " [0.05034803 0.42476544]\n",
      " [0.14819851 0.39065801]\n",
      " [0.05653397 0.38165058]\n",
      " [0.87329691 5.85395554]\n",
      " [0.37074253 1.64223192]\n",
      " [0.69356884 0.28189129]\n",
      " [0.86170549 1.65812418]]\n",
      "Absolute diff in delta:\n",
      "[0.18492127 0.12413862 0.31651875 0.14044535 0.23108224 2.00383625\n",
      " 0.13301614 0.44378559 0.61937013 0.513173   0.88821184 0.52824322]\n",
      "Absolute diff in sigma:\n",
      "[[0.    0.057]\n",
      " [0.057 0.   ]]\n",
      "Absolute diff in A:\n",
      "[[0.         0.44055916]\n",
      " [0.         2.28835435]\n",
      " [0.         2.42100734]\n",
      " [0.05428569 0.        ]\n",
      " [0.42057106 0.        ]\n",
      " [0.09468089 0.        ]\n",
      " [1.13481247 0.67206182]\n",
      " [0.27159906 1.96624643]\n",
      " [2.32948731 0.63237726]\n",
      " [1.74232374 0.93217709]\n",
      " [0.06938787 1.73430824]\n",
      " [5.738152   7.20834928]]\n",
      "Absolute diff in delta:\n",
      "[ 0.82871086  3.94330826  2.38321572  1.0117022   2.34306674  0.46911447\n",
      "  3.0132614   2.30406452 12.38179875  5.38428613  2.7528262  12.78463029]\n",
      "EM Iteration 2\n"
     ]
    },
    {
     "name": "stderr",
     "output_type": "stream",
     "text": [
      "c:\\Users\\Jesper\\Anaconda3\\lib\\site-packages\\scipy\\stats\\_qmc.py:2039: UserWarning: The balance properties of Sobol' points require n to be a power of 2.\n",
      "  samples = self.engine.random(n)\n"
     ]
    },
    {
     "name": "stdout",
     "output_type": "stream",
     "text": [
      "Current Monte Carlo Sample size: 300\n",
      "[[1.         0.54877111 0.2780561  0.13125476]\n",
      " [0.54877111 1.         0.43828814 0.16114653]\n",
      " [0.2780561  0.43828814 1.         0.09015233]\n",
      " [0.13125476 0.16114653 0.09015233 1.        ]]\n",
      "Step: 2: current parameter_diff: 19.89237997818091, current marginal loglikelihood: -656.0269685090648\n",
      "EM Iteration 3\n"
     ]
    },
    {
     "name": "stderr",
     "output_type": "stream",
     "text": [
      "c:\\Users\\Jesper\\Anaconda3\\lib\\site-packages\\scipy\\stats\\_qmc.py:2039: UserWarning: The balance properties of Sobol' points require n to be a power of 2.\n",
      "  samples = self.engine.random(n)\n"
     ]
    },
    {
     "name": "stdout",
     "output_type": "stream",
     "text": [
      "Current Monte Carlo Sample size: 300\n",
      "[[ 1.          0.61674055 -0.50017304 -0.41978049]\n",
      " [ 0.61674055  1.         -0.83168767 -0.666177  ]\n",
      " [-0.50017304 -0.83168767  1.          0.85501395]\n",
      " [-0.41978049 -0.666177    0.85501395  1.        ]]\n",
      "Step: 3: current parameter_diff: 14.007325417255892, current marginal loglikelihood: -644.5139926001125\n",
      "EM Iteration 4\n"
     ]
    },
    {
     "name": "stderr",
     "output_type": "stream",
     "text": [
      "c:\\Users\\Jesper\\Anaconda3\\lib\\site-packages\\scipy\\stats\\_qmc.py:2039: UserWarning: The balance properties of Sobol' points require n to be a power of 2.\n",
      "  samples = self.engine.random(n)\n"
     ]
    },
    {
     "name": "stdout",
     "output_type": "stream",
     "text": [
      "Current Monte Carlo Sample size: 300\n",
      "[[1.         0.6167     0.         0.        ]\n",
      " [0.6167     1.         0.         0.        ]\n",
      " [0.         0.         1.         0.85508551]\n",
      " [0.         0.         0.85508551 1.        ]]\n",
      "Step: 4: current parameter_diff: 7.302604372136276, current marginal loglikelihood: -652.5965755256616\n",
      "EM Iteration 5\n"
     ]
    },
    {
     "name": "stderr",
     "output_type": "stream",
     "text": [
      "c:\\Users\\Jesper\\Anaconda3\\lib\\site-packages\\scipy\\stats\\_qmc.py:2039: UserWarning: The balance properties of Sobol' points require n to be a power of 2.\n",
      "  samples = self.engine.random(n)\n"
     ]
    },
    {
     "name": "stdout",
     "output_type": "stream",
     "text": [
      "Current Monte Carlo Sample size: 330\n",
      "[[1.     0.6167 0.     0.    ]\n",
      " [0.6167 1.     0.     0.    ]\n",
      " [0.     0.     1.     0.855 ]\n",
      " [0.     0.     0.855  1.    ]]\n",
      "Step: 5: current parameter_diff: 4.123763144682513, current marginal loglikelihood: -650.6501310014188\n",
      "EM Iteration 6\n"
     ]
    },
    {
     "name": "stderr",
     "output_type": "stream",
     "text": [
      "c:\\Users\\Jesper\\Anaconda3\\lib\\site-packages\\scipy\\stats\\_qmc.py:2039: UserWarning: The balance properties of Sobol' points require n to be a power of 2.\n",
      "  samples = self.engine.random(n)\n"
     ]
    },
    {
     "name": "stdout",
     "output_type": "stream",
     "text": [
      "Current Monte Carlo Sample size: 363\n",
      "[[1.     0.6167 0.     0.    ]\n",
      " [0.6167 1.     0.     0.    ]\n",
      " [0.     0.     1.     0.855 ]\n",
      " [0.     0.     0.855  1.    ]]\n",
      "Step: 6: current parameter_diff: 3.784658329938541, current marginal loglikelihood: -650.0014088102204\n",
      "EM Iteration 7\n"
     ]
    },
    {
     "name": "stderr",
     "output_type": "stream",
     "text": [
      "c:\\Users\\Jesper\\Anaconda3\\lib\\site-packages\\scipy\\stats\\_qmc.py:2039: UserWarning: The balance properties of Sobol' points require n to be a power of 2.\n",
      "  samples = self.engine.random(n)\n"
     ]
    },
    {
     "name": "stdout",
     "output_type": "stream",
     "text": [
      "Current Monte Carlo Sample size: 399\n",
      "[[1.     0.6167 0.     0.    ]\n",
      " [0.6167 1.     0.     0.    ]\n",
      " [0.     0.     1.     0.855 ]\n",
      " [0.     0.     0.855  1.    ]]\n",
      "Step: 7: current parameter_diff: 3.3102910574030644, current marginal loglikelihood: -650.2499158956998\n",
      "Absolute diff in A:\n",
      "[[0.         0.97413492]\n",
      " [0.         0.20676252]\n",
      " [0.         3.8006738 ]\n",
      " [0.64058151 0.        ]\n",
      " [2.63531599 0.        ]\n",
      " [0.31640387 0.        ]\n",
      " [0.48798139 0.43514627]\n",
      " [0.66839018 2.51484413]\n",
      " [2.65175657 3.05387591]\n",
      " [1.08242654 0.17051326]\n",
      " [0.06417438 0.27353013]\n",
      " [4.91445047 3.01108892]]\n",
      "Absolute diff in delta:\n",
      "[0.73348665 0.80725052 0.6466753  0.25059953 0.29235176 0.88392464\n",
      " 0.21333654 0.54016982 1.07097504 1.52948697 0.9491896  0.48837952]\n",
      "Real latent covariance: [[1.     0.4747 0.4498 0.0024]\n",
      " [0.4747 1.     0.1203 0.0488]\n",
      " [0.4498 0.1203 1.     0.4059]\n",
      " [0.0024 0.0488 0.4059 1.    ]]\n",
      "Covariance matrix is good: True\n",
      "EM Iteration 2\n",
      "Current Monte Carlo Sample size: 300\n",
      "[[1.        0.6447799]\n",
      " [0.6447799 1.       ]]\n"
     ]
    },
    {
     "name": "stderr",
     "output_type": "stream",
     "text": [
      "c:\\Users\\Jesper\\Anaconda3\\lib\\site-packages\\scipy\\stats\\_qmc.py:2039: UserWarning: The balance properties of Sobol' points require n to be a power of 2.\n",
      "  samples = self.engine.random(n)\n"
     ]
    },
    {
     "name": "stdout",
     "output_type": "stream",
     "text": [
      "Step: 2: current parameter_diff: 14.796471462789407, current marginal loglikelihood: -555.3398081916386\n",
      "EM Iteration 3\n",
      "Current Monte Carlo Sample size: 330\n",
      "[[1.         0.69403805]\n",
      " [0.69403805 1.        ]]\n"
     ]
    },
    {
     "name": "stderr",
     "output_type": "stream",
     "text": [
      "c:\\Users\\Jesper\\Anaconda3\\lib\\site-packages\\scipy\\stats\\_qmc.py:2039: UserWarning: The balance properties of Sobol' points require n to be a power of 2.\n",
      "  samples = self.engine.random(n)\n"
     ]
    },
    {
     "name": "stdout",
     "output_type": "stream",
     "text": [
      "Step: 3: current parameter_diff: 11.228816225070114, current marginal loglikelihood: -538.2822377822166\n",
      "EM Iteration 4\n",
      "Current Monte Carlo Sample size: 330\n",
      "[[1.         0.65590851]\n",
      " [0.65590851 1.        ]]\n"
     ]
    },
    {
     "name": "stderr",
     "output_type": "stream",
     "text": [
      "c:\\Users\\Jesper\\Anaconda3\\lib\\site-packages\\scipy\\stats\\_qmc.py:2039: UserWarning: The balance properties of Sobol' points require n to be a power of 2.\n",
      "  samples = self.engine.random(n)\n"
     ]
    },
    {
     "name": "stdout",
     "output_type": "stream",
     "text": [
      "Step: 4: current parameter_diff: 10.159877976691634, current marginal loglikelihood: -530.6725672117533\n",
      "EM Iteration 5\n",
      "Current Monte Carlo Sample size: 363\n",
      "[[1.         0.62286361]\n",
      " [0.62286361 1.        ]]\n"
     ]
    },
    {
     "name": "stderr",
     "output_type": "stream",
     "text": [
      "c:\\Users\\Jesper\\Anaconda3\\lib\\site-packages\\scipy\\stats\\_qmc.py:2039: UserWarning: The balance properties of Sobol' points require n to be a power of 2.\n",
      "  samples = self.engine.random(n)\n"
     ]
    },
    {
     "name": "stdout",
     "output_type": "stream",
     "text": [
      "Step: 5: current parameter_diff: 7.379593709840082, current marginal loglikelihood: -528.2480537944592\n",
      "EM Iteration 6\n",
      "Current Monte Carlo Sample size: 399\n",
      "[[1.         0.61850733]\n",
      " [0.61850733 1.        ]]\n"
     ]
    },
    {
     "name": "stderr",
     "output_type": "stream",
     "text": [
      "c:\\Users\\Jesper\\Anaconda3\\lib\\site-packages\\scipy\\stats\\_qmc.py:2039: UserWarning: The balance properties of Sobol' points require n to be a power of 2.\n",
      "  samples = self.engine.random(n)\n"
     ]
    },
    {
     "name": "stdout",
     "output_type": "stream",
     "text": [
      "Step: 6: current parameter_diff: 6.719858110587454, current marginal loglikelihood: -527.3572818661643\n",
      "EM Iteration 7\n",
      "Current Monte Carlo Sample size: 438\n",
      "[[1.        0.6175525]\n",
      " [0.6175525 1.       ]]\n"
     ]
    },
    {
     "name": "stderr",
     "output_type": "stream",
     "text": [
      "c:\\Users\\Jesper\\Anaconda3\\lib\\site-packages\\scipy\\stats\\_qmc.py:2039: UserWarning: The balance properties of Sobol' points require n to be a power of 2.\n",
      "  samples = self.engine.random(n)\n"
     ]
    },
    {
     "name": "stdout",
     "output_type": "stream",
     "text": [
      "Step: 7: current parameter_diff: 5.017429071523232, current marginal loglikelihood: -524.9972097491885\n",
      "EM Iteration 2\n"
     ]
    },
    {
     "name": "stderr",
     "output_type": "stream",
     "text": [
      "c:\\Users\\Jesper\\Anaconda3\\lib\\site-packages\\scipy\\stats\\_qmc.py:2039: UserWarning: The balance properties of Sobol' points require n to be a power of 2.\n",
      "  samples = self.engine.random(n)\n"
     ]
    },
    {
     "name": "stdout",
     "output_type": "stream",
     "text": [
      "Current Monte Carlo Sample size: 300\n",
      "[[1.         0.68524868 0.38116238 0.39529115]\n",
      " [0.68524868 1.         0.25126547 0.32539248]\n",
      " [0.38116238 0.25126547 1.         0.74188675]\n",
      " [0.39529115 0.32539248 0.74188675 1.        ]]\n",
      "Step: 2: current parameter_diff: 15.963542433509026, current marginal loglikelihood: -680.1280776935342\n",
      "EM Iteration 3\n"
     ]
    },
    {
     "name": "stderr",
     "output_type": "stream",
     "text": [
      "c:\\Users\\Jesper\\Anaconda3\\lib\\site-packages\\scipy\\stats\\_qmc.py:2039: UserWarning: The balance properties of Sobol' points require n to be a power of 2.\n",
      "  samples = self.engine.random(n)\n"
     ]
    },
    {
     "name": "stdout",
     "output_type": "stream",
     "text": [
      "Current Monte Carlo Sample size: 300\n",
      "[[1.         0.80847529 0.21100672 0.36803016]\n",
      " [0.80847529 1.         0.12962816 0.2578693 ]\n",
      " [0.21100672 0.12962816 1.         0.73182322]\n",
      " [0.36803016 0.2578693  0.73182322 1.        ]]\n",
      "Step: 3: current parameter_diff: 8.430979446992573, current marginal loglikelihood: -661.5582122094032\n",
      "EM Iteration 4\n"
     ]
    },
    {
     "name": "stderr",
     "output_type": "stream",
     "text": [
      "c:\\Users\\Jesper\\Anaconda3\\lib\\site-packages\\scipy\\stats\\_qmc.py:2039: UserWarning: The balance properties of Sobol' points require n to be a power of 2.\n",
      "  samples = self.engine.random(n)\n"
     ]
    },
    {
     "name": "stdout",
     "output_type": "stream",
     "text": [
      "Current Monte Carlo Sample size: 300\n",
      "[[1.         0.77722698 0.28140738 0.33832306]\n",
      " [0.77722698 1.         0.1616322  0.1582622 ]\n",
      " [0.28140738 0.1616322  1.         0.76398961]\n",
      " [0.33832306 0.1582622  0.76398961 1.        ]]\n",
      "Step: 4: current parameter_diff: 5.874986893978748, current marginal loglikelihood: -658.5421433716392\n",
      "EM Iteration 5\n"
     ]
    },
    {
     "name": "stderr",
     "output_type": "stream",
     "text": [
      "c:\\Users\\Jesper\\Anaconda3\\lib\\site-packages\\scipy\\stats\\_qmc.py:2039: UserWarning: The balance properties of Sobol' points require n to be a power of 2.\n",
      "  samples = self.engine.random(n)\n"
     ]
    },
    {
     "name": "stdout",
     "output_type": "stream",
     "text": [
      "Current Monte Carlo Sample size: 330\n",
      "[[1.         0.76921769 0.33537318 0.31058333]\n",
      " [0.76921769 1.         0.17883089 0.09577914]\n",
      " [0.33537318 0.17883089 1.         0.79399366]\n",
      " [0.31058333 0.09577914 0.79399366 1.        ]]\n",
      "Step: 5: current parameter_diff: 4.622176495076923, current marginal loglikelihood: -657.6097832267621\n",
      "EM Iteration 6\n"
     ]
    },
    {
     "name": "stderr",
     "output_type": "stream",
     "text": [
      "c:\\Users\\Jesper\\Anaconda3\\lib\\site-packages\\scipy\\stats\\_qmc.py:2039: UserWarning: The balance properties of Sobol' points require n to be a power of 2.\n",
      "  samples = self.engine.random(n)\n"
     ]
    },
    {
     "name": "stdout",
     "output_type": "stream",
     "text": [
      "Current Monte Carlo Sample size: 363\n",
      "[[1.         0.77369867 0.36083032 0.31096341]\n",
      " [0.77369867 1.         0.16736428 0.08382561]\n",
      " [0.36083032 0.16736428 1.         0.82260744]\n",
      " [0.31096341 0.08382561 0.82260744 1.        ]]\n",
      "Step: 6: current parameter_diff: 3.085947497211775, current marginal loglikelihood: -659.7415599675596\n",
      "Absolute diff in A:\n",
      "[[0.         0.05384691]\n",
      " [0.         1.63501172]\n",
      " [0.65521828 0.        ]\n",
      " [1.9897416  0.        ]\n",
      " [1.12627773 0.        ]\n",
      " [1.78115307 0.        ]\n",
      " [1.26058796 0.89937727]\n",
      " [1.07342483 0.10978415]\n",
      " [1.98207359 0.96955065]\n",
      " [1.1942979  0.31695186]\n",
      " [0.4905011  0.29418129]\n",
      " [1.75774339 0.15138639]]\n",
      "Absolute diff in delta:\n",
      "[0.19334002 0.1985533  0.05977647 2.22976353 0.35974417 0.09199524\n",
      " 1.19971433 0.38703765 1.05290955 0.09260974 0.41035071 2.05111675]\n",
      "Absolute diff in sigma:\n",
      "[[0.     0.1428]\n",
      " [0.1428 0.    ]]\n",
      "Absolute diff in A:\n",
      "[[0.         0.3943421 ]\n",
      " [0.         0.03044167]\n",
      " [0.         0.08715802]\n",
      " [0.         0.61201646]\n",
      " [0.2244908  0.        ]\n",
      " [0.09101629 0.        ]\n",
      " [3.20497335 0.        ]\n",
      " [1.82616727 0.        ]\n",
      " [0.87373968 0.        ]\n",
      " [4.02307882 1.64043173]\n",
      " [0.8291686  0.41670956]\n",
      " [0.63475263 0.09617426]]\n",
      "Absolute diff in delta:\n",
      "[0.2018092  0.11662571 0.76222665 0.13286049 0.21442367 1.02941384\n",
      " 2.38732553 0.21961841 1.10912343 1.64084033 1.40113518 0.90065876]\n",
      "Absolute diff in A:\n",
      "[[ 0.          0.15478471]\n",
      " [ 0.          2.78528185]\n",
      " [ 1.26561958  0.        ]\n",
      " [11.92259696  0.        ]\n",
      " [ 4.35128991  0.        ]\n",
      " [ 4.06241619  0.        ]\n",
      " [ 0.62632663  1.71685757]\n",
      " [ 3.90191481  0.2376991 ]\n",
      " [ 2.34714212  5.48070178]\n",
      " [ 1.79847303  0.88607829]\n",
      " [ 2.69820114  0.36546679]\n",
      " [ 4.60135233  1.51621653]]\n",
      "Absolute diff in delta:\n",
      "[0.17618571 0.22913663 0.14614985 0.07809302 0.94780701 0.1501324\n",
      " 0.33763801 0.94629327 1.03131095 0.80892292 0.41028223 0.46105337]\n",
      "Absolute diff in sigma:\n",
      "[[0.     0.0253]\n",
      " [0.0253 0.    ]]\n",
      "Absolute diff in A:\n",
      "[[1.         0.61998893]\n",
      " [1.         0.13418796]\n",
      " [1.         0.04503137]\n",
      " [1.         0.81743892]\n",
      " [0.32034336 1.        ]\n",
      " [0.35882382 1.        ]\n",
      " [2.62997299 1.        ]\n",
      " [1.63803466 1.        ]\n",
      " [4.03794397 1.        ]\n",
      " [9.35163601 2.49257753]\n",
      " [1.25862701 0.60577744]\n",
      " [1.8252542  0.64479976]]\n",
      "Absolute diff in delta:\n",
      "[0.95327729 0.59498896 1.32821195 0.93000825 0.81950761 1.68924784\n",
      " 0.79694966 1.62244305 0.20958254 0.72632558 1.44321297 1.13135907]\n",
      "Covariance matrix is good: True\n",
      "EM Iteration 2\n",
      "Current Monte Carlo Sample size: 300\n",
      "[[1.         0.67745523]\n",
      " [0.67745523 1.        ]]\n"
     ]
    },
    {
     "name": "stderr",
     "output_type": "stream",
     "text": [
      "c:\\Users\\Jesper\\Anaconda3\\lib\\site-packages\\scipy\\stats\\_qmc.py:2039: UserWarning: The balance properties of Sobol' points require n to be a power of 2.\n",
      "  samples = self.engine.random(n)\n"
     ]
    },
    {
     "name": "stdout",
     "output_type": "stream",
     "text": [
      "Step: 2: current parameter_diff: 14.892028523526228, current marginal loglikelihood: -556.0754992694028\n",
      "EM Iteration 3\n",
      "Current Monte Carlo Sample size: 330\n",
      "[[1.         0.68294744]\n",
      " [0.68294744 1.        ]]\n"
     ]
    },
    {
     "name": "stderr",
     "output_type": "stream",
     "text": [
      "c:\\Users\\Jesper\\Anaconda3\\lib\\site-packages\\scipy\\stats\\_qmc.py:2039: UserWarning: The balance properties of Sobol' points require n to be a power of 2.\n",
      "  samples = self.engine.random(n)\n"
     ]
    },
    {
     "name": "stdout",
     "output_type": "stream",
     "text": [
      "Step: 3: current parameter_diff: 11.581773697325332, current marginal loglikelihood: -537.1745944949955\n",
      "EM Iteration 4\n",
      "Current Monte Carlo Sample size: 363\n",
      "[[1.         0.66433114]\n",
      " [0.66433114 1.        ]]\n"
     ]
    },
    {
     "name": "stderr",
     "output_type": "stream",
     "text": [
      "c:\\Users\\Jesper\\Anaconda3\\lib\\site-packages\\scipy\\stats\\_qmc.py:2039: UserWarning: The balance properties of Sobol' points require n to be a power of 2.\n",
      "  samples = self.engine.random(n)\n"
     ]
    },
    {
     "name": "stdout",
     "output_type": "stream",
     "text": [
      "Step: 4: current parameter_diff: 9.897455803858747, current marginal loglikelihood: -533.2797840165604\n",
      "EM Iteration 5\n",
      "Current Monte Carlo Sample size: 399\n",
      "[[1.         0.65941894]\n",
      " [0.65941894 1.        ]]\n"
     ]
    },
    {
     "name": "stderr",
     "output_type": "stream",
     "text": [
      "c:\\Users\\Jesper\\Anaconda3\\lib\\site-packages\\scipy\\stats\\_qmc.py:2039: UserWarning: The balance properties of Sobol' points require n to be a power of 2.\n",
      "  samples = self.engine.random(n)\n"
     ]
    },
    {
     "name": "stdout",
     "output_type": "stream",
     "text": [
      "Step: 5: current parameter_diff: 6.545192651962189, current marginal loglikelihood: -530.0606700487822\n",
      "EM Iteration 6\n",
      "Current Monte Carlo Sample size: 438\n",
      "[[1.         0.65358151]\n",
      " [0.65358151 1.        ]]\n"
     ]
    },
    {
     "name": "stderr",
     "output_type": "stream",
     "text": [
      "c:\\Users\\Jesper\\Anaconda3\\lib\\site-packages\\scipy\\stats\\_qmc.py:2039: UserWarning: The balance properties of Sobol' points require n to be a power of 2.\n",
      "  samples = self.engine.random(n)\n"
     ]
    },
    {
     "name": "stdout",
     "output_type": "stream",
     "text": [
      "Step: 6: current parameter_diff: 5.930603253510924, current marginal loglikelihood: -527.4514937404991\n",
      "Covariance matrix is good: True\n",
      "EM Iteration 2\n",
      "Current Monte Carlo Sample size: 300\n",
      "[[1.         0.56683713]\n",
      " [0.56683713 1.        ]]\n"
     ]
    },
    {
     "name": "stderr",
     "output_type": "stream",
     "text": [
      "c:\\Users\\Jesper\\Anaconda3\\lib\\site-packages\\scipy\\stats\\_qmc.py:2039: UserWarning: The balance properties of Sobol' points require n to be a power of 2.\n",
      "  samples = self.engine.random(n)\n"
     ]
    },
    {
     "name": "stdout",
     "output_type": "stream",
     "text": [
      "Step: 2: current parameter_diff: 17.483482138469657, current marginal loglikelihood: -506.3926544574469\n",
      "EM Iteration 3\n",
      "Current Monte Carlo Sample size: 330\n",
      "[[1.         0.58302426]\n",
      " [0.58302426 1.        ]]\n"
     ]
    },
    {
     "name": "stderr",
     "output_type": "stream",
     "text": [
      "c:\\Users\\Jesper\\Anaconda3\\lib\\site-packages\\scipy\\stats\\_qmc.py:2039: UserWarning: The balance properties of Sobol' points require n to be a power of 2.\n",
      "  samples = self.engine.random(n)\n"
     ]
    },
    {
     "name": "stdout",
     "output_type": "stream",
     "text": [
      "Step: 3: current parameter_diff: 14.046237777132147, current marginal loglikelihood: -494.68475893829606\n",
      "EM Iteration 4\n",
      "Current Monte Carlo Sample size: 330\n",
      "[[1.         0.57253837]\n",
      " [0.57253837 1.        ]]\n"
     ]
    },
    {
     "name": "stderr",
     "output_type": "stream",
     "text": [
      "c:\\Users\\Jesper\\Anaconda3\\lib\\site-packages\\scipy\\stats\\_qmc.py:2039: UserWarning: The balance properties of Sobol' points require n to be a power of 2.\n",
      "  samples = self.engine.random(n)\n"
     ]
    },
    {
     "name": "stdout",
     "output_type": "stream",
     "text": [
      "Step: 4: current parameter_diff: 13.110215152771376, current marginal loglikelihood: -490.3489203152355\n",
      "EM Iteration 5\n",
      "Current Monte Carlo Sample size: 363\n",
      "[[1.         0.56795776]\n",
      " [0.56795776 1.        ]]\n"
     ]
    },
    {
     "name": "stderr",
     "output_type": "stream",
     "text": [
      "c:\\Users\\Jesper\\Anaconda3\\lib\\site-packages\\scipy\\stats\\_qmc.py:2039: UserWarning: The balance properties of Sobol' points require n to be a power of 2.\n",
      "  samples = self.engine.random(n)\n"
     ]
    },
    {
     "name": "stdout",
     "output_type": "stream",
     "text": [
      "Step: 5: current parameter_diff: 8.227913802558959, current marginal loglikelihood: -487.21691375729404\n",
      "EM Iteration 6\n",
      "Current Monte Carlo Sample size: 399\n",
      "[[1.         0.55551981]\n",
      " [0.55551981 1.        ]]\n"
     ]
    },
    {
     "name": "stderr",
     "output_type": "stream",
     "text": [
      "c:\\Users\\Jesper\\Anaconda3\\lib\\site-packages\\scipy\\stats\\_qmc.py:2039: UserWarning: The balance properties of Sobol' points require n to be a power of 2.\n",
      "  samples = self.engine.random(n)\n"
     ]
    },
    {
     "name": "stdout",
     "output_type": "stream",
     "text": [
      "Step: 6: current parameter_diff: 8.473389347183717, current marginal loglikelihood: -484.90878545299904\n",
      "Absolute diff in A:\n",
      "[[0.         0.05112795]\n",
      " [0.         1.86152927]\n",
      " [0.68357887 0.        ]\n",
      " [0.73727365 0.        ]\n",
      " [1.41553954 0.        ]\n",
      " [1.9654512  0.        ]\n",
      " [1.41417136 0.72941712]\n",
      " [1.33955849 0.16200204]\n",
      " [2.52495907 1.87706949]\n",
      " [1.45351374 0.33788719]\n",
      " [0.78707305 0.27325549]\n",
      " [1.41148515 0.16843222]]\n",
      "Absolute diff in delta:\n",
      "[0.18729104 0.15831539 0.05115206 1.89662219 0.35528943 0.0502448\n",
      " 1.1261855  0.39468631 0.93230333 0.08428836 0.43192309 2.0382414 ]\n",
      "Absolute diff in sigma:\n",
      "[[0.     0.1788]\n",
      " [0.1788 0.    ]]\n",
      "Absolute diff in A:\n",
      "[[0.         0.91129618]\n",
      " [0.         0.49448039]\n",
      " [0.         0.24007182]\n",
      " [0.         0.15022721]\n",
      " [0.3127949  0.        ]\n",
      " [0.51125635 0.        ]\n",
      " [6.56692598 0.        ]\n",
      " [4.37656066 0.        ]\n",
      " [0.75543537 0.        ]\n",
      " [2.30531274 0.86390181]\n",
      " [0.07698687 0.04523463]\n",
      " [0.39985352 0.12744659]]\n",
      "Absolute diff in delta:\n",
      "[1.38138854 0.60518093 0.09028041 0.74829224 0.82241579 0.14288278\n",
      " 4.29882101 5.08356754 2.77076926 5.85558539 0.98888539 2.14532302]\n",
      "EM Iteration 2\n"
     ]
    },
    {
     "name": "stderr",
     "output_type": "stream",
     "text": [
      "c:\\Users\\Jesper\\Anaconda3\\lib\\site-packages\\scipy\\stats\\_qmc.py:2039: UserWarning: The balance properties of Sobol' points require n to be a power of 2.\n",
      "  samples = self.engine.random(n)\n"
     ]
    },
    {
     "name": "stdout",
     "output_type": "stream",
     "text": [
      "Current Monte Carlo Sample size: 300\n",
      "[[ 1.          0.71332847 -0.26988385 -0.30895251]\n",
      " [ 0.71332847  1.         -0.42685202 -0.57919864]\n",
      " [-0.26988385 -0.42685202  1.          0.55279378]\n",
      " [-0.30895251 -0.57919864  0.55279378  1.        ]]\n",
      "Step: 2: current parameter_diff: 17.1395623389757, current marginal loglikelihood: -702.127857332914\n",
      "EM Iteration 3\n"
     ]
    },
    {
     "name": "stderr",
     "output_type": "stream",
     "text": [
      "c:\\Users\\Jesper\\Anaconda3\\lib\\site-packages\\scipy\\stats\\_qmc.py:2039: UserWarning: The balance properties of Sobol' points require n to be a power of 2.\n",
      "  samples = self.engine.random(n)\n"
     ]
    },
    {
     "name": "stdout",
     "output_type": "stream",
     "text": [
      "Current Monte Carlo Sample size: 300\n",
      "[[ 1.          0.6666923   0.01369999 -0.02496126]\n",
      " [ 0.6666923   1.          0.01130748 -0.03774839]\n",
      " [ 0.01369999  0.01130748  1.          0.53574667]\n",
      " [-0.02496126 -0.03774839  0.53574667  1.        ]]\n",
      "Step: 3: current parameter_diff: 8.536101136759756, current marginal loglikelihood: -702.953720194473\n",
      "EM Iteration 4\n"
     ]
    },
    {
     "name": "stderr",
     "output_type": "stream",
     "text": [
      "c:\\Users\\Jesper\\Anaconda3\\lib\\site-packages\\scipy\\stats\\_qmc.py:2039: UserWarning: The balance properties of Sobol' points require n to be a power of 2.\n",
      "  samples = self.engine.random(n)\n"
     ]
    },
    {
     "name": "stdout",
     "output_type": "stream",
     "text": [
      "Current Monte Carlo Sample size: 330\n",
      "[[ 1.          0.61623981  0.01225402 -0.01887431]\n",
      " [ 0.61623981  1.          0.00625658 -0.02900576]\n",
      " [ 0.01225402  0.00625658  1.          0.55059035]\n",
      " [-0.01887431 -0.02900576  0.55059035  1.        ]]\n",
      "Step: 4: current parameter_diff: 5.865309178598955, current marginal loglikelihood: -693.2736381846171\n",
      "EM Iteration 5\n"
     ]
    },
    {
     "name": "stderr",
     "output_type": "stream",
     "text": [
      "c:\\Users\\Jesper\\Anaconda3\\lib\\site-packages\\scipy\\stats\\_qmc.py:2039: UserWarning: The balance properties of Sobol' points require n to be a power of 2.\n",
      "  samples = self.engine.random(n)\n"
     ]
    },
    {
     "name": "stdout",
     "output_type": "stream",
     "text": [
      "Current Monte Carlo Sample size: 363\n",
      "[[ 1.          0.58271215  0.00859141 -0.01880024]\n",
      " [ 0.58271215  1.          0.00156346 -0.03257833]\n",
      " [ 0.00859141  0.00156346  1.          0.56310447]\n",
      " [-0.01880024 -0.03257833  0.56310447  1.        ]]\n",
      "Step: 5: current parameter_diff: 4.419726030411033, current marginal loglikelihood: -690.787832429556\n",
      "EM Iteration 6\n"
     ]
    },
    {
     "name": "stderr",
     "output_type": "stream",
     "text": [
      "c:\\Users\\Jesper\\Anaconda3\\lib\\site-packages\\scipy\\stats\\_qmc.py:2039: UserWarning: The balance properties of Sobol' points require n to be a power of 2.\n",
      "  samples = self.engine.random(n)\n"
     ]
    },
    {
     "name": "stdout",
     "output_type": "stream",
     "text": [
      "Current Monte Carlo Sample size: 399\n",
      "[[ 1.          0.55446148  0.00683508 -0.02638513]\n",
      " [ 0.55446148  1.          0.00157531 -0.04092199]\n",
      " [ 0.00683508  0.00157531  1.          0.57355293]\n",
      " [-0.02638513 -0.04092199  0.57355293  1.        ]]\n",
      "Step: 6: current parameter_diff: 4.1278581653544135, current marginal loglikelihood: -687.6788320285077\n",
      "EM Iteration 7\n"
     ]
    },
    {
     "name": "stderr",
     "output_type": "stream",
     "text": [
      "c:\\Users\\Jesper\\Anaconda3\\lib\\site-packages\\scipy\\stats\\_qmc.py:2039: UserWarning: The balance properties of Sobol' points require n to be a power of 2.\n",
      "  samples = self.engine.random(n)\n"
     ]
    },
    {
     "name": "stdout",
     "output_type": "stream",
     "text": [
      "Current Monte Carlo Sample size: 438\n",
      "[[ 1.          0.54224543  0.00489912 -0.02224221]\n",
      " [ 0.54224543  1.         -0.00301918 -0.03265923]\n",
      " [ 0.00489912 -0.00301918  1.          0.58394725]\n",
      " [-0.02224221 -0.03265923  0.58394725  1.        ]]\n",
      "Step: 7: current parameter_diff: 3.9702725092747793, current marginal loglikelihood: -686.9536313393395\n",
      "Absolute diff in A:\n",
      "[[0.         0.83912397]\n",
      " [0.         0.21793412]\n",
      " [0.         0.05877669]\n",
      " [0.         0.57208129]\n",
      " [0.0509812  0.        ]\n",
      " [0.13908804 0.        ]\n",
      " [5.22920741 0.        ]\n",
      " [1.31602952 0.        ]\n",
      " [1.01326507 0.        ]\n",
      " [2.95040551 1.49025568]\n",
      " [0.42244894 0.55729514]\n",
      " [0.35101945 0.6265498 ]]\n",
      "Absolute diff in delta:\n",
      "[0.09096498 0.17899    0.79043017 0.18201791 0.20844713 1.02690771\n",
      " 3.28799244 0.0291826  1.15542208 1.75714859 1.53096555 0.88865277]\n",
      "Real latent covariance: [[1.     0.0883 0.     0.    ]\n",
      " [0.0883 1.     0.3662 0.5981]\n",
      " [0.     0.3662 1.     0.2208]\n",
      " [0.     0.5981 0.2208 1.    ]]\n",
      "Covariance matrix is good: True\n",
      "EM Iteration 2\n",
      "Current Monte Carlo Sample size: 300\n",
      "[[1.         0.56972193]\n",
      " [0.56972193 1.        ]]\n"
     ]
    },
    {
     "name": "stderr",
     "output_type": "stream",
     "text": [
      "c:\\Users\\Jesper\\Anaconda3\\lib\\site-packages\\scipy\\stats\\_qmc.py:2039: UserWarning: The balance properties of Sobol' points require n to be a power of 2.\n",
      "  samples = self.engine.random(n)\n"
     ]
    },
    {
     "name": "stdout",
     "output_type": "stream",
     "text": [
      "Step: 2: current parameter_diff: 9.671947868174124, current marginal loglikelihood: -629.3645077089814\n",
      "EM Iteration 3\n",
      "Current Monte Carlo Sample size: 330\n",
      "[[1.         0.57206602]\n",
      " [0.57206602 1.        ]]\n"
     ]
    },
    {
     "name": "stderr",
     "output_type": "stream",
     "text": [
      "c:\\Users\\Jesper\\Anaconda3\\lib\\site-packages\\scipy\\stats\\_qmc.py:2039: UserWarning: The balance properties of Sobol' points require n to be a power of 2.\n",
      "  samples = self.engine.random(n)\n"
     ]
    },
    {
     "name": "stdout",
     "output_type": "stream",
     "text": [
      "Step: 3: current parameter_diff: 6.688723527504651, current marginal loglikelihood: -618.9723312751652\n",
      "EM Iteration 4\n",
      "Current Monte Carlo Sample size: 363\n",
      "[[1.         0.56136296]\n",
      " [0.56136296 1.        ]]\n"
     ]
    },
    {
     "name": "stderr",
     "output_type": "stream",
     "text": [
      "c:\\Users\\Jesper\\Anaconda3\\lib\\site-packages\\scipy\\stats\\_qmc.py:2039: UserWarning: The balance properties of Sobol' points require n to be a power of 2.\n",
      "  samples = self.engine.random(n)\n"
     ]
    },
    {
     "name": "stdout",
     "output_type": "stream",
     "text": [
      "Step: 4: current parameter_diff: 4.441637105430128, current marginal loglikelihood: -614.3947583423155\n",
      "EM Iteration 5\n",
      "Current Monte Carlo Sample size: 399\n",
      "[[1.         0.53074337]\n",
      " [0.53074337 1.        ]]\n"
     ]
    },
    {
     "name": "stderr",
     "output_type": "stream",
     "text": [
      "c:\\Users\\Jesper\\Anaconda3\\lib\\site-packages\\scipy\\stats\\_qmc.py:2039: UserWarning: The balance properties of Sobol' points require n to be a power of 2.\n",
      "  samples = self.engine.random(n)\n"
     ]
    },
    {
     "name": "stdout",
     "output_type": "stream",
     "text": [
      "Step: 5: current parameter_diff: 3.3539919545313284, current marginal loglikelihood: -611.4796546022468\n",
      "EM Iteration 6\n",
      "Current Monte Carlo Sample size: 399\n",
      "[[1.         0.49875335]\n",
      " [0.49875335 1.        ]]\n"
     ]
    },
    {
     "name": "stderr",
     "output_type": "stream",
     "text": [
      "c:\\Users\\Jesper\\Anaconda3\\lib\\site-packages\\scipy\\stats\\_qmc.py:2039: UserWarning: The balance properties of Sobol' points require n to be a power of 2.\n",
      "  samples = self.engine.random(n)\n"
     ]
    },
    {
     "name": "stdout",
     "output_type": "stream",
     "text": [
      "Step: 6: current parameter_diff: 2.0390735335081143, current marginal loglikelihood: -610.3694801161362\n",
      "EM Iteration 2\n"
     ]
    },
    {
     "name": "stderr",
     "output_type": "stream",
     "text": [
      "c:\\Users\\Jesper\\Anaconda3\\lib\\site-packages\\scipy\\stats\\_qmc.py:2039: UserWarning: The balance properties of Sobol' points require n to be a power of 2.\n",
      "  samples = self.engine.random(n)\n"
     ]
    },
    {
     "name": "stdout",
     "output_type": "stream",
     "text": [
      "Current Monte Carlo Sample size: 300\n",
      "[[1.         0.63063393 0.34410642 0.2833033 ]\n",
      " [0.63063393 1.         0.43500666 0.30146021]\n",
      " [0.34410642 0.43500666 1.         0.7696357 ]\n",
      " [0.2833033  0.30146021 0.7696357  1.        ]]\n",
      "Step: 2: current parameter_diff: 17.084483333333512, current marginal loglikelihood: -703.6818883021954\n",
      "EM Iteration 3\n"
     ]
    },
    {
     "name": "stderr",
     "output_type": "stream",
     "text": [
      "c:\\Users\\Jesper\\Anaconda3\\lib\\site-packages\\scipy\\stats\\_qmc.py:2039: UserWarning: The balance properties of Sobol' points require n to be a power of 2.\n",
      "  samples = self.engine.random(n)\n"
     ]
    },
    {
     "name": "stdout",
     "output_type": "stream",
     "text": [
      "Current Monte Carlo Sample size: 300\n",
      "[[1.         0.72966888 0.25283574 0.28672202]\n",
      " [0.72966888 1.         0.33152386 0.31343461]\n",
      " [0.25283574 0.33152386 1.         0.78383445]\n",
      " [0.28672202 0.31343461 0.78383445 1.        ]]\n",
      "Step: 3: current parameter_diff: 12.560415133502717, current marginal loglikelihood: -663.9374922957552\n",
      "EM Iteration 4\n"
     ]
    },
    {
     "name": "stderr",
     "output_type": "stream",
     "text": [
      "c:\\Users\\Jesper\\Anaconda3\\lib\\site-packages\\scipy\\stats\\_qmc.py:2039: UserWarning: The balance properties of Sobol' points require n to be a power of 2.\n",
      "  samples = self.engine.random(n)\n"
     ]
    },
    {
     "name": "stdout",
     "output_type": "stream",
     "text": [
      "Current Monte Carlo Sample size: 300\n",
      "[[1.         0.74343503 0.25282589 0.22950726]\n",
      " [0.74343503 1.         0.31827035 0.25170146]\n",
      " [0.25282589 0.31827035 1.         0.74320148]\n",
      " [0.22950726 0.25170146 0.74320148 1.        ]]\n",
      "Step: 4: current parameter_diff: 10.358539399055685, current marginal loglikelihood: -652.5010072869449\n",
      "EM Iteration 5\n"
     ]
    },
    {
     "name": "stderr",
     "output_type": "stream",
     "text": [
      "c:\\Users\\Jesper\\Anaconda3\\lib\\site-packages\\scipy\\stats\\_qmc.py:2039: UserWarning: The balance properties of Sobol' points require n to be a power of 2.\n",
      "  samples = self.engine.random(n)\n"
     ]
    },
    {
     "name": "stdout",
     "output_type": "stream",
     "text": [
      "Current Monte Carlo Sample size: 330\n",
      "[[1.         0.73750131 0.2021174  0.22742417]\n",
      " [0.73750131 1.         0.24373185 0.26660649]\n",
      " [0.2021174  0.24373185 1.         0.78379786]\n",
      " [0.22742417 0.26660649 0.78379786 1.        ]]\n",
      "Step: 5: current parameter_diff: 9.790076235460225, current marginal loglikelihood: -649.9780182358428\n",
      "EM Iteration 6\n"
     ]
    },
    {
     "name": "stderr",
     "output_type": "stream",
     "text": [
      "c:\\Users\\Jesper\\Anaconda3\\lib\\site-packages\\scipy\\stats\\_qmc.py:2039: UserWarning: The balance properties of Sobol' points require n to be a power of 2.\n",
      "  samples = self.engine.random(n)\n"
     ]
    },
    {
     "name": "stdout",
     "output_type": "stream",
     "text": [
      "Current Monte Carlo Sample size: 363\n",
      "[[1.         0.74486615 0.20047041 0.19639086]\n",
      " [0.74486615 1.         0.23815483 0.227738  ]\n",
      " [0.20047041 0.23815483 1.         0.75216074]\n",
      " [0.19639086 0.227738   0.75216074 1.        ]]\n",
      "Step: 6: current parameter_diff: 8.435647941479374, current marginal loglikelihood: -640.9711599357453\n",
      "EM Iteration 7\n"
     ]
    },
    {
     "name": "stderr",
     "output_type": "stream",
     "text": [
      "c:\\Users\\Jesper\\Anaconda3\\lib\\site-packages\\scipy\\stats\\_qmc.py:2039: UserWarning: The balance properties of Sobol' points require n to be a power of 2.\n",
      "  samples = self.engine.random(n)\n"
     ]
    },
    {
     "name": "stdout",
     "output_type": "stream",
     "text": [
      "Current Monte Carlo Sample size: 399\n",
      "[[1.         0.72470914 0.19569911 0.19719289]\n",
      " [0.72470914 1.         0.23086796 0.22872865]\n",
      " [0.19569911 0.23086796 1.         0.76537722]\n",
      " [0.19719289 0.22872865 0.76537722 1.        ]]\n",
      "Step: 7: current parameter_diff: 5.448867065495264, current marginal loglikelihood: -641.1508178682899\n",
      "EM Iteration 8\n"
     ]
    },
    {
     "name": "stderr",
     "output_type": "stream",
     "text": [
      "c:\\Users\\Jesper\\Anaconda3\\lib\\site-packages\\scipy\\stats\\_qmc.py:2039: UserWarning: The balance properties of Sobol' points require n to be a power of 2.\n",
      "  samples = self.engine.random(n)\n"
     ]
    },
    {
     "name": "stdout",
     "output_type": "stream",
     "text": [
      "Current Monte Carlo Sample size: 399\n",
      "[[1.         0.7344364  0.17106631 0.19064246]\n",
      " [0.7344364  1.         0.2047614  0.21656363]\n",
      " [0.17106631 0.2047614  1.         0.78320382]\n",
      " [0.19064246 0.21656363 0.78320382 1.        ]]\n",
      "Step: 8: current parameter_diff: 4.7764109854745485, current marginal loglikelihood: -639.695516105404\n",
      "EM Iteration 9\n"
     ]
    },
    {
     "name": "stderr",
     "output_type": "stream",
     "text": [
      "c:\\Users\\Jesper\\Anaconda3\\lib\\site-packages\\scipy\\stats\\_qmc.py:2039: UserWarning: The balance properties of Sobol' points require n to be a power of 2.\n",
      "  samples = self.engine.random(n)\n"
     ]
    },
    {
     "name": "stdout",
     "output_type": "stream",
     "text": [
      "Current Monte Carlo Sample size: 399\n",
      "[[1.         0.7334661  0.16044261 0.17939986]\n",
      " [0.7334661  1.         0.19504507 0.20044114]\n",
      " [0.16044261 0.19504507 1.         0.79919459]\n",
      " [0.17939986 0.20044114 0.79919459 1.        ]]\n",
      "Step: 9: current parameter_diff: 6.153542768567393, current marginal loglikelihood: -641.544028145889\n",
      "Absolute diff in A:\n",
      "[[0.         3.63181376]\n",
      " [1.22548424 0.        ]\n",
      " [0.42889402 0.        ]\n",
      " [0.11004604 0.        ]\n",
      " [0.34966953 0.        ]\n",
      " [0.35075453 0.        ]\n",
      " [0.24281079 0.        ]\n",
      " [0.30476895 0.        ]\n",
      " [4.93655442 1.85125191]\n",
      " [2.15962178 0.4261219 ]\n",
      " [1.42764147 0.50101954]\n",
      " [1.39373699 0.24935614]]\n",
      "Absolute diff in delta:\n",
      "[0.53199256 0.52742751 0.30698191 0.73389066 0.69722381 0.26418307\n",
      " 0.9907189  1.13872119 1.20551925 1.5339165  0.19706328 0.67394739]\n",
      "Absolute diff in sigma:\n",
      "[[0.000e+00 4.104e-01]\n",
      " [4.104e-01 1.000e-04]]\n",
      "Absolute diff in A:\n",
      "[[0.         1.22176258]\n",
      " [0.         2.9813013 ]\n",
      " [0.         0.60605622]\n",
      " [0.         0.80500426]\n",
      " [0.         0.44871879]\n",
      " [0.05189928 0.        ]\n",
      " [7.31887477 0.        ]\n",
      " [2.30071366 0.        ]\n",
      " [0.17863964 0.        ]\n",
      " [2.42572598 0.27780176]\n",
      " [1.06178281 0.51910908]\n",
      " [1.36726402 0.07743812]]\n",
      "Absolute diff in delta:\n",
      "[0.0567052  1.25567387 0.34022014 0.35456158 0.21741098 2.17009363\n",
      " 1.62870408 1.30498612 0.35415667 1.93467542 0.4582169  0.05847561]\n",
      "Absolute diff in A:\n",
      "[[0.         4.13743118]\n",
      " [1.11294853 0.        ]\n",
      " [0.14891747 0.        ]\n",
      " [1.46825001 0.        ]\n",
      " [0.21538325 0.        ]\n",
      " [0.32983236 0.        ]\n",
      " [2.5341785  0.        ]\n",
      " [1.71651277 0.        ]\n",
      " [8.64999801 1.83550746]\n",
      " [4.44759806 0.39320256]\n",
      " [1.3701488  1.06404147]\n",
      " [0.74321778 2.33345897]]\n",
      "Absolute diff in delta:\n",
      "[0.6066092  0.47740734 0.2351627  0.34119699 0.48026648 0.26128062\n",
      " 0.19325294 1.6066151  0.40594614 2.07129756 0.16458207 1.14962434]\n",
      "Absolute diff in sigma:\n",
      "[[0.     0.4117]\n",
      " [0.4117 0.    ]]\n",
      "Absolute diff in A:\n",
      "[[1.         4.77018363]\n",
      " [1.         6.36919786]\n",
      " [1.         1.74812879]\n",
      " [1.         0.4369867 ]\n",
      " [1.         0.61216195]\n",
      " [6.81456494 1.        ]\n",
      " [2.80591554 1.        ]\n",
      " [1.19429498 1.        ]\n",
      " [0.017907   1.        ]\n",
      " [5.36937854 9.38086858]\n",
      " [2.7740242  1.2222342 ]\n",
      " [3.0016314  0.45343204]]\n",
      "Absolute diff in delta:\n",
      "[0.07163577 1.8408255  0.28145265 1.03900908 1.59266515 0.07412245\n",
      " 0.19735327 1.25896865 0.37441449 2.3571854  1.11695494 1.4656007 ]\n",
      "Covariance matrix is good: True\n",
      "EM Iteration 2\n",
      "Current Monte Carlo Sample size: 300\n",
      "[[1.         0.55383448]\n",
      " [0.55383448 1.        ]]\n"
     ]
    },
    {
     "name": "stderr",
     "output_type": "stream",
     "text": [
      "c:\\Users\\Jesper\\Anaconda3\\lib\\site-packages\\scipy\\stats\\_qmc.py:2039: UserWarning: The balance properties of Sobol' points require n to be a power of 2.\n",
      "  samples = self.engine.random(n)\n",
      "c:\\Users\\Jesper\\Anaconda3\\lib\\site-packages\\scipy\\stats\\_qmc.py:2039: UserWarning: The balance properties of Sobol' points require n to be a power of 2.\n",
      "  samples = self.engine.random(n)\n"
     ]
    },
    {
     "name": "stdout",
     "output_type": "stream",
     "text": [
      "Step: 2: current parameter_diff: 10.120616352706733, current marginal loglikelihood: -628.4023007191207\n",
      "EM Iteration 3\n",
      "Current Monte Carlo Sample size: 330\n",
      "[[1.         0.54259593]\n",
      " [0.54259593 1.        ]]\n",
      "Step: 3: current parameter_diff: 6.393938726985874, current marginal loglikelihood: -617.3245313668557\n",
      "EM Iteration 4\n",
      "Current Monte Carlo Sample size: 363\n",
      "[[1.         0.51500419]\n",
      " [0.51500419 1.        ]]\n"
     ]
    },
    {
     "name": "stderr",
     "output_type": "stream",
     "text": [
      "c:\\Users\\Jesper\\Anaconda3\\lib\\site-packages\\scipy\\stats\\_qmc.py:2039: UserWarning: The balance properties of Sobol' points require n to be a power of 2.\n",
      "  samples = self.engine.random(n)\n"
     ]
    },
    {
     "name": "stdout",
     "output_type": "stream",
     "text": [
      "Step: 4: current parameter_diff: 4.218177128295819, current marginal loglikelihood: -612.158362385501\n",
      "EM Iteration 5\n",
      "Current Monte Carlo Sample size: 399\n",
      "[[1.         0.48202039]\n",
      " [0.48202039 1.        ]]\n"
     ]
    },
    {
     "name": "stderr",
     "output_type": "stream",
     "text": [
      "c:\\Users\\Jesper\\Anaconda3\\lib\\site-packages\\scipy\\stats\\_qmc.py:2039: UserWarning: The balance properties of Sobol' points require n to be a power of 2.\n",
      "  samples = self.engine.random(n)\n"
     ]
    },
    {
     "name": "stdout",
     "output_type": "stream",
     "text": [
      "Step: 5: current parameter_diff: 3.095487547518437, current marginal loglikelihood: -611.3838671550841\n",
      "EM Iteration 6\n",
      "Current Monte Carlo Sample size: 438\n",
      "[[1.         0.45070004]\n",
      " [0.45070004 1.        ]]\n"
     ]
    },
    {
     "name": "stderr",
     "output_type": "stream",
     "text": [
      "c:\\Users\\Jesper\\Anaconda3\\lib\\site-packages\\scipy\\stats\\_qmc.py:2039: UserWarning: The balance properties of Sobol' points require n to be a power of 2.\n",
      "  samples = self.engine.random(n)\n"
     ]
    },
    {
     "name": "stdout",
     "output_type": "stream",
     "text": [
      "Step: 6: current parameter_diff: 1.8946364658135826, current marginal loglikelihood: -609.4733805222716\n",
      "EM Iteration 7\n",
      "Current Monte Carlo Sample size: 438\n",
      "[[1.         0.40179439]\n",
      " [0.40179439 1.        ]]\n"
     ]
    },
    {
     "name": "stderr",
     "output_type": "stream",
     "text": [
      "c:\\Users\\Jesper\\Anaconda3\\lib\\site-packages\\scipy\\stats\\_qmc.py:2039: UserWarning: The balance properties of Sobol' points require n to be a power of 2.\n",
      "  samples = self.engine.random(n)\n"
     ]
    },
    {
     "name": "stdout",
     "output_type": "stream",
     "text": [
      "Step: 7: current parameter_diff: 2.263322498504966, current marginal loglikelihood: -607.8722664984346\n",
      "Covariance matrix is good: True\n",
      "EM Iteration 2\n",
      "Current Monte Carlo Sample size: 300\n",
      "[[1.         0.54903296]\n",
      " [0.54903296 1.        ]]\n"
     ]
    },
    {
     "name": "stderr",
     "output_type": "stream",
     "text": [
      "c:\\Users\\Jesper\\Anaconda3\\lib\\site-packages\\scipy\\stats\\_qmc.py:2039: UserWarning: The balance properties of Sobol' points require n to be a power of 2.\n",
      "  samples = self.engine.random(n)\n"
     ]
    },
    {
     "name": "stdout",
     "output_type": "stream",
     "text": [
      "Step: 2: current parameter_diff: 19.34121030885922, current marginal loglikelihood: -486.8155980593232\n",
      "EM Iteration 3\n",
      "Current Monte Carlo Sample size: 300\n",
      "[[1.        0.4931863]\n",
      " [0.4931863 1.       ]]\n"
     ]
    },
    {
     "name": "stderr",
     "output_type": "stream",
     "text": [
      "c:\\Users\\Jesper\\Anaconda3\\lib\\site-packages\\scipy\\stats\\_qmc.py:2039: UserWarning: The balance properties of Sobol' points require n to be a power of 2.\n",
      "  samples = self.engine.random(n)\n"
     ]
    },
    {
     "name": "stdout",
     "output_type": "stream",
     "text": [
      "Step: 3: current parameter_diff: 18.40745897357005, current marginal loglikelihood: -457.1719142807606\n",
      "EM Iteration 4\n",
      "Current Monte Carlo Sample size: 300\n",
      "[[1.         0.39716069]\n",
      " [0.39716069 1.        ]]\n"
     ]
    },
    {
     "name": "stderr",
     "output_type": "stream",
     "text": [
      "c:\\Users\\Jesper\\Anaconda3\\lib\\site-packages\\scipy\\stats\\_qmc.py:2039: UserWarning: The balance properties of Sobol' points require n to be a power of 2.\n",
      "  samples = self.engine.random(n)\n"
     ]
    },
    {
     "name": "stdout",
     "output_type": "stream",
     "text": [
      "Step: 4: current parameter_diff: 16.6674536343311, current marginal loglikelihood: -444.95498973520006\n",
      "EM Iteration 5\n",
      "Current Monte Carlo Sample size: 330\n",
      "[[1.         0.27461209]\n",
      " [0.27461209 1.        ]]\n"
     ]
    },
    {
     "name": "stderr",
     "output_type": "stream",
     "text": [
      "c:\\Users\\Jesper\\Anaconda3\\lib\\site-packages\\scipy\\stats\\_qmc.py:2039: UserWarning: The balance properties of Sobol' points require n to be a power of 2.\n",
      "  samples = self.engine.random(n)\n"
     ]
    },
    {
     "name": "stdout",
     "output_type": "stream",
     "text": [
      "Step: 5: current parameter_diff: 15.252850844513508, current marginal loglikelihood: -436.8223800213904\n",
      "EM Iteration 6\n",
      "Current Monte Carlo Sample size: 363\n",
      "[[1.         0.22201518]\n",
      " [0.22201518 1.        ]]\n",
      "Step: 6: current parameter_diff: 9.35376652115061, current marginal loglikelihood: -434.5812479832606\n",
      "EM Iteration 7\n",
      "Current Monte Carlo Sample size: 363\n",
      "[[1.         0.17333031]\n",
      " [0.17333031 1.        ]]\n",
      "Step: 7: current parameter_diff: 9.282897303325363, current marginal loglikelihood: -433.34801762573113\n",
      "EM Iteration 8\n",
      "Current Monte Carlo Sample size: 399\n",
      "[[1.         0.13928338]\n",
      " [0.13928338 1.        ]]\n",
      "Step: 8: current parameter_diff: 7.058967958278151, current marginal loglikelihood: -431.73244613598354\n",
      "Absolute diff in A:\n",
      "[[0.         3.2911652 ]\n",
      " [1.27383124 0.        ]\n",
      " [0.38970207 0.        ]\n",
      " [0.14956214 0.        ]\n",
      " [0.32292939 0.        ]\n",
      " [0.30915754 0.        ]\n",
      " [0.23274248 0.        ]\n",
      " [0.24012219 0.        ]\n",
      " [4.18093922 1.9061197 ]\n",
      " [2.16346811 0.51033553]\n",
      " [1.10817555 0.44370309]\n",
      " [1.13510873 0.2518533 ]]\n",
      "Absolute diff in delta:\n",
      "[0.515977   0.54202268 0.29287426 0.66968134 0.67722022 0.26128062\n",
      " 0.96930693 1.15624483 1.35285419 1.55081292 0.14432735 0.62231868]\n",
      "Absolute diff in sigma:\n",
      "[[1.000e-04 3.134e-01]\n",
      " [3.134e-01 0.000e+00]]\n",
      "Absolute diff in A:\n",
      "[[0.         0.61381168]\n",
      " [0.         0.7974881 ]\n",
      " [0.         2.36600162]\n",
      " [0.         1.68412106]\n",
      " [0.         1.04219152]\n",
      " [1.31400306 0.        ]\n",
      " [6.23010213 0.        ]\n",
      " [3.75521313 0.        ]\n",
      " [0.62502843 0.        ]\n",
      " [1.71199976 0.87073496]\n",
      " [1.9176754  1.45673677]\n",
      " [0.89712776 0.32623325]]\n",
      "Absolute diff in delta:\n",
      "[3.48406382 2.54821121 2.51444729 1.54822334 1.39699772 7.11744385\n",
      " 6.79751937 4.89215877 1.2439335  6.96209412 6.04487806 2.94970914]\n",
      "EM Iteration 2\n"
     ]
    },
    {
     "name": "stderr",
     "output_type": "stream",
     "text": [
      "c:\\Users\\Jesper\\Anaconda3\\lib\\site-packages\\scipy\\stats\\_qmc.py:2039: UserWarning: The balance properties of Sobol' points require n to be a power of 2.\n",
      "  samples = self.engine.random(n)\n"
     ]
    },
    {
     "name": "stdout",
     "output_type": "stream",
     "text": [
      "Current Monte Carlo Sample size: 300\n",
      "[[ 1.          0.71398429 -0.31894144 -0.33277041]\n",
      " [ 0.71398429  1.         -0.59031498 -0.6450922 ]\n",
      " [-0.31894144 -0.59031498  1.          0.42736417]\n",
      " [-0.33277041 -0.6450922   0.42736417  1.        ]]\n",
      "Step: 2: current parameter_diff: 19.812986099532306, current marginal loglikelihood: -712.477698584789\n",
      "EM Iteration 3\n"
     ]
    },
    {
     "name": "stderr",
     "output_type": "stream",
     "text": [
      "c:\\Users\\Jesper\\Anaconda3\\lib\\site-packages\\scipy\\stats\\_qmc.py:2039: UserWarning: The balance properties of Sobol' points require n to be a power of 2.\n",
      "  samples = self.engine.random(n)\n"
     ]
    },
    {
     "name": "stdout",
     "output_type": "stream",
     "text": [
      "Current Monte Carlo Sample size: 300\n",
      "[[ 1.          0.51894996 -0.10459339  0.06040873]\n",
      " [ 0.51894996  1.         -0.14274696  0.07924434]\n",
      " [-0.10459339 -0.14274696  1.          0.24017718]\n",
      " [ 0.06040873  0.07924434  0.24017718  1.        ]]\n",
      "Step: 3: current parameter_diff: 12.342372701265198, current marginal loglikelihood: -759.519255044263\n",
      "EM Iteration 4\n"
     ]
    },
    {
     "name": "stderr",
     "output_type": "stream",
     "text": [
      "c:\\Users\\Jesper\\Anaconda3\\lib\\site-packages\\scipy\\stats\\_qmc.py:2039: UserWarning: The balance properties of Sobol' points require n to be a power of 2.\n",
      "  samples = self.engine.random(n)\n"
     ]
    },
    {
     "name": "stdout",
     "output_type": "stream",
     "text": [
      "Current Monte Carlo Sample size: 330\n",
      "[[ 1.          0.398407   -0.07025858  0.09268396]\n",
      " [ 0.398407    1.         -0.14054742  0.10796307]\n",
      " [-0.07025858 -0.14054742  1.          0.12736938]\n",
      " [ 0.09268396  0.10796307  0.12736938  1.        ]]\n",
      "Step: 4: current parameter_diff: 8.20164509701829, current marginal loglikelihood: -700.3510724913634\n",
      "EM Iteration 5\n"
     ]
    },
    {
     "name": "stderr",
     "output_type": "stream",
     "text": [
      "c:\\Users\\Jesper\\Anaconda3\\lib\\site-packages\\scipy\\stats\\_qmc.py:2039: UserWarning: The balance properties of Sobol' points require n to be a power of 2.\n",
      "  samples = self.engine.random(n)\n"
     ]
    },
    {
     "name": "stdout",
     "output_type": "stream",
     "text": [
      "Current Monte Carlo Sample size: 330\n",
      "[[ 1.          0.35952484 -0.13410881  0.0985522 ]\n",
      " [ 0.35952484  1.         -0.19781912  0.08130887]\n",
      " [-0.13410881 -0.19781912  1.          0.05640175]\n",
      " [ 0.0985522   0.08130887  0.05640175  1.        ]]\n",
      "Step: 5: current parameter_diff: 6.411054062814617, current marginal loglikelihood: -684.7288117162944\n",
      "EM Iteration 6\n"
     ]
    },
    {
     "name": "stderr",
     "output_type": "stream",
     "text": [
      "c:\\Users\\Jesper\\Anaconda3\\lib\\site-packages\\scipy\\stats\\_qmc.py:2039: UserWarning: The balance properties of Sobol' points require n to be a power of 2.\n",
      "  samples = self.engine.random(n)\n"
     ]
    },
    {
     "name": "stdout",
     "output_type": "stream",
     "text": [
      "Current Monte Carlo Sample size: 363\n",
      "[[ 1.          0.58387115 -0.27411439  0.05524793]\n",
      " [ 0.58387115  1.         -0.3142929   0.07196064]\n",
      " [-0.27411439 -0.3142929   1.          0.003705  ]\n",
      " [ 0.05524793  0.07196064  0.003705    1.        ]]\n",
      "Step: 6: current parameter_diff: 5.192524987457687, current marginal loglikelihood: -678.3206991010262\n",
      "EM Iteration 7\n"
     ]
    },
    {
     "name": "stderr",
     "output_type": "stream",
     "text": [
      "c:\\Users\\Jesper\\Anaconda3\\lib\\site-packages\\scipy\\stats\\_qmc.py:2039: UserWarning: The balance properties of Sobol' points require n to be a power of 2.\n",
      "  samples = self.engine.random(n)\n"
     ]
    },
    {
     "name": "stdout",
     "output_type": "stream",
     "text": [
      "Current Monte Carlo Sample size: 399\n",
      "[[ 1.          0.43193766 -0.25986073  0.10434674]\n",
      " [ 0.43193766  1.         -0.2927432   0.06875409]\n",
      " [-0.25986073 -0.2927432   1.         -0.03032861]\n",
      " [ 0.10434674  0.06875409 -0.03032861  1.        ]]\n",
      "Step: 7: current parameter_diff: 4.564030097572654, current marginal loglikelihood: -708.5952134948867\n",
      "EM Iteration 8\n"
     ]
    },
    {
     "name": "stderr",
     "output_type": "stream",
     "text": [
      "c:\\Users\\Jesper\\Anaconda3\\lib\\site-packages\\scipy\\stats\\_qmc.py:2039: UserWarning: The balance properties of Sobol' points require n to be a power of 2.\n",
      "  samples = self.engine.random(n)\n"
     ]
    },
    {
     "name": "stdout",
     "output_type": "stream",
     "text": [
      "Current Monte Carlo Sample size: 438\n",
      "[[ 1.          0.424466   -0.20552454  0.05150107]\n",
      " [ 0.424466    1.         -0.27357598  0.09249472]\n",
      " [-0.20552454 -0.27357598  1.         -0.04328307]\n",
      " [ 0.05150107  0.09249472 -0.04328307  1.        ]]\n",
      "Step: 8: current parameter_diff: 2.527003182601812, current marginal loglikelihood: -689.3012964473808\n",
      "EM Iteration 9\n"
     ]
    },
    {
     "name": "stderr",
     "output_type": "stream",
     "text": [
      "c:\\Users\\Jesper\\Anaconda3\\lib\\site-packages\\scipy\\stats\\_qmc.py:2039: UserWarning: The balance properties of Sobol' points require n to be a power of 2.\n",
      "  samples = self.engine.random(n)\n"
     ]
    },
    {
     "name": "stdout",
     "output_type": "stream",
     "text": [
      "Current Monte Carlo Sample size: 481\n",
      "[[ 1.          0.37530506 -0.10606768  0.07493159]\n",
      " [ 0.37530506  1.         -0.22007891  0.08201749]\n",
      " [-0.10606768 -0.22007891  1.          0.01736107]\n",
      " [ 0.07493159  0.08201749  0.01736107  1.        ]]\n",
      "Step: 9: current parameter_diff: 4.398977368048848, current marginal loglikelihood: -678.832799845063\n",
      "EM Iteration 10\n"
     ]
    },
    {
     "name": "stderr",
     "output_type": "stream",
     "text": [
      "c:\\Users\\Jesper\\Anaconda3\\lib\\site-packages\\scipy\\stats\\_qmc.py:2039: UserWarning: The balance properties of Sobol' points require n to be a power of 2.\n",
      "  samples = self.engine.random(n)\n"
     ]
    },
    {
     "name": "stdout",
     "output_type": "stream",
     "text": [
      "Current Monte Carlo Sample size: 529\n",
      "[[ 1.          0.38656883 -0.19068111  0.04391247]\n",
      " [ 0.38656883  1.         -0.27541597  0.04866646]\n",
      " [-0.19068111 -0.27541597  1.         -0.01095394]\n",
      " [ 0.04391247  0.04866646 -0.01095394  1.        ]]\n",
      "Step: 10: current parameter_diff: 2.7318242545472513, current marginal loglikelihood: -679.092700379404\n",
      "EM Iteration 11\n"
     ]
    },
    {
     "name": "stderr",
     "output_type": "stream",
     "text": [
      "c:\\Users\\Jesper\\Anaconda3\\lib\\site-packages\\scipy\\stats\\_qmc.py:2039: UserWarning: The balance properties of Sobol' points require n to be a power of 2.\n",
      "  samples = self.engine.random(n)\n"
     ]
    },
    {
     "name": "stdout",
     "output_type": "stream",
     "text": [
      "Current Monte Carlo Sample size: 581\n",
      "[[ 1.          0.34674638 -0.16828608  0.06357155]\n",
      " [ 0.34674638  1.         -0.24451352  0.06851735]\n",
      " [-0.16828608 -0.24451352  1.         -0.03897419]\n",
      " [ 0.06357155  0.06851735 -0.03897419  1.        ]]\n",
      "Step: 11: current parameter_diff: 2.063353657213134, current marginal loglikelihood: -676.9610160916784\n",
      "EM Iteration 12\n"
     ]
    },
    {
     "name": "stderr",
     "output_type": "stream",
     "text": [
      "c:\\Users\\Jesper\\Anaconda3\\lib\\site-packages\\scipy\\stats\\_qmc.py:2039: UserWarning: The balance properties of Sobol' points require n to be a power of 2.\n",
      "  samples = self.engine.random(n)\n"
     ]
    },
    {
     "name": "stdout",
     "output_type": "stream",
     "text": [
      "Current Monte Carlo Sample size: 639\n",
      "[[ 1.          0.35938445 -0.19156765  0.07019507]\n",
      " [ 0.35938445  1.         -0.2661637   0.07524546]\n",
      " [-0.19156765 -0.2661637   1.         -0.03334864]\n",
      " [ 0.07019507  0.07524546 -0.03334864  1.        ]]\n",
      "Step: 12: current parameter_diff: 2.199935160042066, current marginal loglikelihood: -683.8866307975293\n",
      "EM Iteration 13\n"
     ]
    },
    {
     "name": "stderr",
     "output_type": "stream",
     "text": [
      "c:\\Users\\Jesper\\Anaconda3\\lib\\site-packages\\scipy\\stats\\_qmc.py:2039: UserWarning: The balance properties of Sobol' points require n to be a power of 2.\n",
      "  samples = self.engine.random(n)\n"
     ]
    },
    {
     "name": "stdout",
     "output_type": "stream",
     "text": [
      "Current Monte Carlo Sample size: 702\n",
      "[[ 1.          0.39663037 -0.17901274  0.06660757]\n",
      " [ 0.39663037  1.         -0.2790271   0.00681795]\n",
      " [-0.17901274 -0.2790271   1.          0.00913974]\n",
      " [ 0.06660757  0.00681795  0.00913974  1.        ]]\n",
      "Step: 13: current parameter_diff: 11.788729695620342, current marginal loglikelihood: -683.6125296113374\n",
      "EM Iteration 14\n"
     ]
    },
    {
     "name": "stderr",
     "output_type": "stream",
     "text": [
      "c:\\Users\\Jesper\\Anaconda3\\lib\\site-packages\\scipy\\stats\\_qmc.py:2039: UserWarning: The balance properties of Sobol' points require n to be a power of 2.\n",
      "  samples = self.engine.random(n)\n"
     ]
    },
    {
     "name": "stdout",
     "output_type": "stream",
     "text": [
      "Current Monte Carlo Sample size: 772\n",
      "[[ 1.00000000e+00  3.34264148e-01 -1.61161175e-01  4.78898689e-02]\n",
      " [ 3.34264148e-01  1.00000000e+00 -2.44404987e-01  3.16225075e-02]\n",
      " [-1.61161175e-01 -2.44404987e-01  1.00000000e+00 -9.02757107e-04]\n",
      " [ 4.78898689e-02  3.16225075e-02 -9.02757107e-04  1.00000000e+00]]\n",
      "Step: 14: current parameter_diff: 6.507707841523206, current marginal loglikelihood: -686.7401065759161\n",
      "EM Iteration 15\n"
     ]
    },
    {
     "name": "stderr",
     "output_type": "stream",
     "text": [
      "c:\\Users\\Jesper\\Anaconda3\\lib\\site-packages\\scipy\\stats\\_qmc.py:2039: UserWarning: The balance properties of Sobol' points require n to be a power of 2.\n",
      "  samples = self.engine.random(n)\n"
     ]
    },
    {
     "name": "stdout",
     "output_type": "stream",
     "text": [
      "Current Monte Carlo Sample size: 849\n",
      "[[ 1.          0.30354105 -0.14410965  0.05849767]\n",
      " [ 0.30354105  1.         -0.19228264  0.04909663]\n",
      " [-0.14410965 -0.19228264  1.         -0.0167535 ]\n",
      " [ 0.05849767  0.04909663 -0.0167535   1.        ]]\n",
      "Step: 15: current parameter_diff: 2.4249150225845035, current marginal loglikelihood: -675.8117743453869\n",
      "EM Iteration 16\n"
     ]
    },
    {
     "name": "stderr",
     "output_type": "stream",
     "text": [
      "c:\\Users\\Jesper\\Anaconda3\\lib\\site-packages\\scipy\\stats\\_qmc.py:2039: UserWarning: The balance properties of Sobol' points require n to be a power of 2.\n",
      "  samples = self.engine.random(n)\n"
     ]
    },
    {
     "name": "stdout",
     "output_type": "stream",
     "text": [
      "Current Monte Carlo Sample size: 933\n",
      "[[ 1.          0.44062137 -0.25029916  0.0198973 ]\n",
      " [ 0.44062137  1.         -0.30865183  0.0493904 ]\n",
      " [-0.25029916 -0.30865183  1.          0.01957818]\n",
      " [ 0.0198973   0.0493904   0.01957818  1.        ]]\n",
      "Step: 16: current parameter_diff: 4.674618952278917, current marginal loglikelihood: -672.1505188743143\n",
      "EM Iteration 17\n"
     ]
    },
    {
     "name": "stderr",
     "output_type": "stream",
     "text": [
      "c:\\Users\\Jesper\\Anaconda3\\lib\\site-packages\\scipy\\stats\\_qmc.py:2039: UserWarning: The balance properties of Sobol' points require n to be a power of 2.\n",
      "  samples = self.engine.random(n)\n"
     ]
    },
    {
     "name": "stdout",
     "output_type": "stream",
     "text": [
      "Current Monte Carlo Sample size: 933\n",
      "[[ 1.          0.70953822 -0.33784864  0.04056126]\n",
      " [ 0.70953822  1.         -0.30072312  0.05690069]\n",
      " [-0.33784864 -0.30072312  1.          0.10775243]\n",
      " [ 0.04056126  0.05690069  0.10775243  1.        ]]\n",
      "Step: 17: current parameter_diff: 3.6819998298290075, current marginal loglikelihood: -682.1216375215613\n",
      "EM Iteration 18\n"
     ]
    },
    {
     "name": "stderr",
     "output_type": "stream",
     "text": [
      "c:\\Users\\Jesper\\Anaconda3\\lib\\site-packages\\scipy\\stats\\_qmc.py:2039: UserWarning: The balance properties of Sobol' points require n to be a power of 2.\n",
      "  samples = self.engine.random(n)\n"
     ]
    },
    {
     "name": "stdout",
     "output_type": "stream",
     "text": [
      "Current Monte Carlo Sample size: 933\n",
      "[[ 1.          0.40381847 -0.05533104  0.08288563]\n",
      " [ 0.40381847  1.         -0.08727922  0.07884693]\n",
      " [-0.05533104 -0.08727922  1.          0.07040453]\n",
      " [ 0.08288563  0.07884693  0.07040453  1.        ]]\n",
      "Step: 18: current parameter_diff: 2.960240142390556, current marginal loglikelihood: -740.6005216693247\n",
      "EM Iteration 19\n"
     ]
    },
    {
     "name": "stderr",
     "output_type": "stream",
     "text": [
      "c:\\Users\\Jesper\\Anaconda3\\lib\\site-packages\\scipy\\stats\\_qmc.py:2039: UserWarning: The balance properties of Sobol' points require n to be a power of 2.\n",
      "  samples = self.engine.random(n)\n"
     ]
    },
    {
     "name": "stdout",
     "output_type": "stream",
     "text": [
      "Current Monte Carlo Sample size: 1026\n",
      "[[ 1.          0.36021886 -0.15215051  0.08203767]\n",
      " [ 0.36021886  1.         -0.22232003  0.06275813]\n",
      " [-0.15215051 -0.22232003  1.         -0.00329881]\n",
      " [ 0.08203767  0.06275813 -0.00329881  1.        ]]\n",
      "Step: 19: current parameter_diff: 1.1320642151600142, current marginal loglikelihood: -681.3081749139048\n",
      "EM Iteration 20\n"
     ]
    },
    {
     "name": "stderr",
     "output_type": "stream",
     "text": [
      "c:\\Users\\Jesper\\Anaconda3\\lib\\site-packages\\scipy\\stats\\_qmc.py:2039: UserWarning: The balance properties of Sobol' points require n to be a power of 2.\n",
      "  samples = self.engine.random(n)\n"
     ]
    },
    {
     "name": "stdout",
     "output_type": "stream",
     "text": [
      "Current Monte Carlo Sample size: 1128\n",
      "[[ 1.          0.42504548 -0.2128336   0.06253171]\n",
      " [ 0.42504548  1.         -0.28325017  0.05707198]\n",
      " [-0.2128336  -0.28325017  1.         -0.03024484]\n",
      " [ 0.06253171  0.05707198 -0.03024484  1.        ]]\n",
      "Step: 20: current parameter_diff: 1.177788700622227, current marginal loglikelihood: -674.70641781883\n",
      "EM Iteration 21\n"
     ]
    },
    {
     "name": "stderr",
     "output_type": "stream",
     "text": [
      "c:\\Users\\Jesper\\Anaconda3\\lib\\site-packages\\scipy\\stats\\_qmc.py:2039: UserWarning: The balance properties of Sobol' points require n to be a power of 2.\n",
      "  samples = self.engine.random(n)\n"
     ]
    },
    {
     "name": "stdout",
     "output_type": "stream",
     "text": [
      "Current Monte Carlo Sample size: 1240\n",
      "[[ 1.          0.42394745 -0.20047368  0.0725748 ]\n",
      " [ 0.42394745  1.         -0.25813032  0.05969543]\n",
      " [-0.20047368 -0.25813032  1.         -0.01478437]\n",
      " [ 0.0725748   0.05969543 -0.01478437  1.        ]]\n",
      "Step: 21: current parameter_diff: 0.8580494035317195, current marginal loglikelihood: -677.1161885094831\n",
      "EM Iteration 22\n"
     ]
    },
    {
     "name": "stderr",
     "output_type": "stream",
     "text": [
      "c:\\Users\\Jesper\\Anaconda3\\lib\\site-packages\\scipy\\stats\\_qmc.py:2039: UserWarning: The balance properties of Sobol' points require n to be a power of 2.\n",
      "  samples = self.engine.random(n)\n"
     ]
    },
    {
     "name": "stdout",
     "output_type": "stream",
     "text": [
      "Current Monte Carlo Sample size: 1364\n",
      "[[ 1.          0.47786998 -0.17865934  0.10988241]\n",
      " [ 0.47786998  1.         -0.2000954   0.06740875]\n",
      " [-0.17865934 -0.2000954   1.         -0.01091764]\n",
      " [ 0.10988241  0.06740875 -0.01091764  1.        ]]\n",
      "Step: 22: current parameter_diff: 3.785402345197017, current marginal loglikelihood: -683.2852416392227\n",
      "EM Iteration 23\n"
     ]
    },
    {
     "name": "stderr",
     "output_type": "stream",
     "text": [
      "c:\\Users\\Jesper\\Anaconda3\\lib\\site-packages\\scipy\\stats\\_qmc.py:2039: UserWarning: The balance properties of Sobol' points require n to be a power of 2.\n",
      "  samples = self.engine.random(n)\n"
     ]
    },
    {
     "name": "stdout",
     "output_type": "stream",
     "text": [
      "Current Monte Carlo Sample size: 1500\n",
      "[[ 1.          0.50026426 -0.27665896  0.07676585]\n",
      " [ 0.50026426  1.         -0.2815183   0.04469615]\n",
      " [-0.27665896 -0.2815183   1.         -0.01502627]\n",
      " [ 0.07676585  0.04469615 -0.01502627  1.        ]]\n",
      "Step: 23: current parameter_diff: 3.384295218766633, current marginal loglikelihood: -689.1278829273049\n",
      "EM Iteration 24\n"
     ]
    },
    {
     "name": "stderr",
     "output_type": "stream",
     "text": [
      "c:\\Users\\Jesper\\Anaconda3\\lib\\site-packages\\scipy\\stats\\_qmc.py:2039: UserWarning: The balance properties of Sobol' points require n to be a power of 2.\n",
      "  samples = self.engine.random(n)\n"
     ]
    },
    {
     "name": "stdout",
     "output_type": "stream",
     "text": [
      "Current Monte Carlo Sample size: 1500\n",
      "[[ 1.          0.46066767 -0.243313    0.06839881]\n",
      " [ 0.46066767  1.         -0.29431432  0.0461557 ]\n",
      " [-0.243313   -0.29431432  1.         -0.02276765]\n",
      " [ 0.06839881  0.0461557  -0.02276765  1.        ]]\n",
      "Step: 24: current parameter_diff: 2.0055460993611374, current marginal loglikelihood: -685.5223794476169\n",
      "EM Iteration 25\n"
     ]
    },
    {
     "name": "stderr",
     "output_type": "stream",
     "text": [
      "c:\\Users\\Jesper\\Anaconda3\\lib\\site-packages\\scipy\\stats\\_qmc.py:2039: UserWarning: The balance properties of Sobol' points require n to be a power of 2.\n",
      "  samples = self.engine.random(n)\n"
     ]
    },
    {
     "name": "stdout",
     "output_type": "stream",
     "text": [
      "Current Monte Carlo Sample size: 1650\n",
      "[[ 1.          0.3217127  -0.12956286  0.07704902]\n",
      " [ 0.3217127   1.         -0.16593225  0.04010327]\n",
      " [-0.12956286 -0.16593225  1.         -0.01997825]\n",
      " [ 0.07704902  0.04010327 -0.01997825  1.        ]]\n",
      "Step: 25: current parameter_diff: 2.6222283189535434, current marginal loglikelihood: -689.6052359930001\n",
      "EM Iteration 26\n"
     ]
    },
    {
     "name": "stderr",
     "output_type": "stream",
     "text": [
      "c:\\Users\\Jesper\\Anaconda3\\lib\\site-packages\\scipy\\stats\\_qmc.py:2039: UserWarning: The balance properties of Sobol' points require n to be a power of 2.\n",
      "  samples = self.engine.random(n)\n"
     ]
    },
    {
     "name": "stdout",
     "output_type": "stream",
     "text": [
      "Current Monte Carlo Sample size: 1815\n",
      "[[ 1.          0.32335226 -0.16243819  0.08728827]\n",
      " [ 0.32335226  1.         -0.24368311  0.07065307]\n",
      " [-0.16243819 -0.24368311  1.         -0.04368004]\n",
      " [ 0.08728827  0.07065307 -0.04368004  1.        ]]\n",
      "Step: 26: current parameter_diff: 1.8041290991382066, current marginal loglikelihood: -671.1081465664972\n",
      "EM Iteration 27\n"
     ]
    },
    {
     "name": "stderr",
     "output_type": "stream",
     "text": [
      "c:\\Users\\Jesper\\Anaconda3\\lib\\site-packages\\scipy\\stats\\_qmc.py:2039: UserWarning: The balance properties of Sobol' points require n to be a power of 2.\n",
      "  samples = self.engine.random(n)\n"
     ]
    },
    {
     "name": "stdout",
     "output_type": "stream",
     "text": [
      "Current Monte Carlo Sample size: 1996\n",
      "[[ 1.          0.36722785 -0.18654658  0.07918202]\n",
      " [ 0.36722785  1.         -0.27109976  0.05822578]\n",
      " [-0.18654658 -0.27109976  1.         -0.02193701]\n",
      " [ 0.07918202  0.05822578 -0.02193701  1.        ]]\n",
      "Step: 27: current parameter_diff: 1.8214469202227879, current marginal loglikelihood: -671.8367462490767\n",
      "EM Iteration 28\n"
     ]
    },
    {
     "name": "stderr",
     "output_type": "stream",
     "text": [
      "c:\\Users\\Jesper\\Anaconda3\\lib\\site-packages\\scipy\\stats\\_qmc.py:2039: UserWarning: The balance properties of Sobol' points require n to be a power of 2.\n",
      "  samples = self.engine.random(n)\n"
     ]
    },
    {
     "name": "stdout",
     "output_type": "stream",
     "text": [
      "Current Monte Carlo Sample size: 2195\n",
      "[[ 1.          0.37241966 -0.19619958  0.06902704]\n",
      " [ 0.37241966  1.         -0.27224123  0.05568953]\n",
      " [-0.19619958 -0.27224123  1.         -0.01854668]\n",
      " [ 0.06902704  0.05568953 -0.01854668  1.        ]]\n",
      "Step: 28: current parameter_diff: 1.3505722435574188, current marginal loglikelihood: -673.2349637300151\n",
      "EM Iteration 29\n"
     ]
    },
    {
     "name": "stderr",
     "output_type": "stream",
     "text": [
      "c:\\Users\\Jesper\\Anaconda3\\lib\\site-packages\\scipy\\stats\\_qmc.py:2039: UserWarning: The balance properties of Sobol' points require n to be a power of 2.\n",
      "  samples = self.engine.random(n)\n"
     ]
    },
    {
     "name": "stdout",
     "output_type": "stream",
     "text": [
      "Current Monte Carlo Sample size: 2414\n",
      "[[ 1.00000000e+00  4.25248386e-01 -2.31247938e-01  4.00545599e-02]\n",
      " [ 4.25248386e-01  1.00000000e+00 -2.82973104e-01  5.64759009e-02]\n",
      " [-2.31247938e-01 -2.82973104e-01  1.00000000e+00  1.26569251e-04]\n",
      " [ 4.00545599e-02  5.64759009e-02  1.26569251e-04  1.00000000e+00]]\n",
      "Step: 29: current parameter_diff: 2.2944127500076714, current marginal loglikelihood: -674.4387610736492\n"
     ]
    },
    {
     "name": "stderr",
     "output_type": "stream",
     "text": [
      "C:\\Users\\Jesper\\Documents\\GitHub\\Knowledge-Growth-Prediction\\models\\mirt_2pl.py:119: RuntimeWarning: overflow encountered in exp\n",
      "  np.divide(1, np.add(1, np.exp(np.multiply(-1, linear_predictor)))))\n",
      "c:\\Users\\Jesper\\Documents\\GitHub\\Knowledge-Growth-Prediction\\models\\mirt_2pl_gain.py:271: RuntimeWarning: divide by zero encountered in log\n",
      "  (1-answer_vector), np.log(1-ICC_values + np.float64(1.7976931348623157e-309))) + np.log(latent_density)\n",
      "c:\\Users\\Jesper\\Anaconda3\\lib\\site-packages\\scipy\\optimize\\_numdiff.py:576: RuntimeWarning: invalid value encountered in subtract\n",
      "  df = fun(x) - f0\n",
      "C:\\Users\\Jesper\\Documents\\GitHub\\Knowledge-Growth-Prediction\\models\\mirt_2pl.py:119: RuntimeWarning: overflow encountered in exp\n",
      "  np.divide(1, np.add(1, np.exp(np.multiply(-1, linear_predictor)))))\n",
      "c:\\Users\\Jesper\\Documents\\GitHub\\Knowledge-Growth-Prediction\\models\\mirt_2pl_gain.py:271: RuntimeWarning: divide by zero encountered in log\n",
      "  (1-answer_vector), np.log(1-ICC_values + np.float64(1.7976931348623157e-309))) + np.log(latent_density)\n"
     ]
    },
    {
     "name": "stdout",
     "output_type": "stream",
     "text": [
      "Absolute diff in A:\n",
      "[[0.00000000e+00 1.79602387e+00]\n",
      " [0.00000000e+00 1.61620634e+00]\n",
      " [0.00000000e+00 8.73912773e-01]\n",
      " [0.00000000e+00 5.91939650e-01]\n",
      " [0.00000000e+00 1.88315137e-01]\n",
      " [2.62608080e+00 0.00000000e+00]\n",
      " [1.95661222e+00 0.00000000e+00]\n",
      " [1.38161466e+00 0.00000000e+00]\n",
      " [2.60354942e-02 0.00000000e+00]\n",
      " [4.93845645e-01 1.54451128e+00]\n",
      " [4.99599005e-01 7.93097259e-01]\n",
      " [1.74024928e+00 5.72182715e-04]]\n",
      "Absolute diff in delta:\n",
      "[0.79492742 0.10429046 0.14327962 0.15091365 0.23144795 1.16016731\n",
      " 0.19640791 0.71970519 0.19287084 1.76467709 1.32196234 0.44769362]\n",
      "Real latent covariance: [[1.     0.3711 0.2947 0.1616]\n",
      " [0.3711 1.     0.1424 0.359 ]\n",
      " [0.2947 0.1424 1.     0.3129]\n",
      " [0.1616 0.359  0.3129 1.    ]]\n",
      "Covariance matrix is good: True\n",
      "EM Iteration 2\n",
      "Current Monte Carlo Sample size: 300\n",
      "[[1.        0.6411292]\n",
      " [0.6411292 1.       ]]\n"
     ]
    },
    {
     "name": "stderr",
     "output_type": "stream",
     "text": [
      "c:\\Users\\Jesper\\Anaconda3\\lib\\site-packages\\scipy\\stats\\_qmc.py:2039: UserWarning: The balance properties of Sobol' points require n to be a power of 2.\n",
      "  samples = self.engine.random(n)\n"
     ]
    },
    {
     "name": "stdout",
     "output_type": "stream",
     "text": [
      "Step: 2: current parameter_diff: 15.686807931620994, current marginal loglikelihood: -548.9902976812551\n",
      "EM Iteration 3\n",
      "Current Monte Carlo Sample size: 300\n",
      "[[1.         0.65213754]\n",
      " [0.65213754 1.        ]]\n"
     ]
    },
    {
     "name": "stderr",
     "output_type": "stream",
     "text": [
      "c:\\Users\\Jesper\\Anaconda3\\lib\\site-packages\\scipy\\stats\\_qmc.py:2039: UserWarning: The balance properties of Sobol' points require n to be a power of 2.\n",
      "  samples = self.engine.random(n)\n"
     ]
    },
    {
     "name": "stdout",
     "output_type": "stream",
     "text": [
      "Step: 3: current parameter_diff: 11.996176891085728, current marginal loglikelihood: -531.140315274751\n",
      "EM Iteration 4\n",
      "Current Monte Carlo Sample size: 330\n",
      "[[1.         0.62768221]\n",
      " [0.62768221 1.        ]]\n"
     ]
    },
    {
     "name": "stderr",
     "output_type": "stream",
     "text": [
      "c:\\Users\\Jesper\\Anaconda3\\lib\\site-packages\\scipy\\stats\\_qmc.py:2039: UserWarning: The balance properties of Sobol' points require n to be a power of 2.\n",
      "  samples = self.engine.random(n)\n"
     ]
    },
    {
     "name": "stdout",
     "output_type": "stream",
     "text": [
      "Step: 4: current parameter_diff: 10.899491279188155, current marginal loglikelihood: -520.8719784838748\n",
      "EM Iteration 5\n",
      "Current Monte Carlo Sample size: 363\n",
      "[[1.         0.60179149]\n",
      " [0.60179149 1.        ]]\n"
     ]
    },
    {
     "name": "stderr",
     "output_type": "stream",
     "text": [
      "c:\\Users\\Jesper\\Anaconda3\\lib\\site-packages\\scipy\\stats\\_qmc.py:2039: UserWarning: The balance properties of Sobol' points require n to be a power of 2.\n",
      "  samples = self.engine.random(n)\n"
     ]
    },
    {
     "name": "stdout",
     "output_type": "stream",
     "text": [
      "Step: 5: current parameter_diff: 8.909979401303065, current marginal loglikelihood: -516.0288391058591\n",
      "EM Iteration 6\n",
      "Current Monte Carlo Sample size: 399\n",
      "[[1.        0.5701575]\n",
      " [0.5701575 1.       ]]\n"
     ]
    },
    {
     "name": "stderr",
     "output_type": "stream",
     "text": [
      "c:\\Users\\Jesper\\Anaconda3\\lib\\site-packages\\scipy\\stats\\_qmc.py:2039: UserWarning: The balance properties of Sobol' points require n to be a power of 2.\n",
      "  samples = self.engine.random(n)\n"
     ]
    },
    {
     "name": "stdout",
     "output_type": "stream",
     "text": [
      "Step: 6: current parameter_diff: 8.194414847864959, current marginal loglikelihood: -511.61609293782965\n",
      "EM Iteration 7\n",
      "Current Monte Carlo Sample size: 438\n",
      "[[1.         0.51739183]\n",
      " [0.51739183 1.        ]]\n"
     ]
    },
    {
     "name": "stderr",
     "output_type": "stream",
     "text": [
      "c:\\Users\\Jesper\\Anaconda3\\lib\\site-packages\\scipy\\stats\\_qmc.py:2039: UserWarning: The balance properties of Sobol' points require n to be a power of 2.\n",
      "  samples = self.engine.random(n)\n"
     ]
    },
    {
     "name": "stdout",
     "output_type": "stream",
     "text": [
      "Step: 7: current parameter_diff: 4.8372126129501085, current marginal loglikelihood: -511.1687839369437\n",
      "EM Iteration 2\n"
     ]
    },
    {
     "name": "stderr",
     "output_type": "stream",
     "text": [
      "c:\\Users\\Jesper\\Anaconda3\\lib\\site-packages\\scipy\\stats\\_qmc.py:2039: UserWarning: The balance properties of Sobol' points require n to be a power of 2.\n",
      "  samples = self.engine.random(n)\n"
     ]
    },
    {
     "name": "stdout",
     "output_type": "stream",
     "text": [
      "Current Monte Carlo Sample size: 300\n",
      "[[1.         0.5910054  0.37068097 0.32364633]\n",
      " [0.5910054  1.         0.38588811 0.3075193 ]\n",
      " [0.37068097 0.38588811 1.         0.74926543]\n",
      " [0.32364633 0.3075193  0.74926543 1.        ]]\n",
      "Step: 2: current parameter_diff: 19.659058762084776, current marginal loglikelihood: -636.3459286175362\n",
      "EM Iteration 3\n"
     ]
    },
    {
     "name": "stderr",
     "output_type": "stream",
     "text": [
      "c:\\Users\\Jesper\\Anaconda3\\lib\\site-packages\\scipy\\stats\\_qmc.py:2039: UserWarning: The balance properties of Sobol' points require n to be a power of 2.\n",
      "  samples = self.engine.random(n)\n"
     ]
    },
    {
     "name": "stdout",
     "output_type": "stream",
     "text": [
      "Current Monte Carlo Sample size: 300\n",
      "[[1.         0.63975102 0.29613175 0.29285659]\n",
      " [0.63975102 1.         0.31901799 0.29385826]\n",
      " [0.29613175 0.31901799 1.         0.76172952]\n",
      " [0.29285659 0.29385826 0.76172952 1.        ]]\n",
      "Step: 3: current parameter_diff: 8.94515085692206, current marginal loglikelihood: -617.8489760724888\n",
      "EM Iteration 4\n"
     ]
    },
    {
     "name": "stderr",
     "output_type": "stream",
     "text": [
      "c:\\Users\\Jesper\\Anaconda3\\lib\\site-packages\\scipy\\stats\\_qmc.py:2039: UserWarning: The balance properties of Sobol' points require n to be a power of 2.\n",
      "  samples = self.engine.random(n)\n"
     ]
    },
    {
     "name": "stdout",
     "output_type": "stream",
     "text": [
      "Current Monte Carlo Sample size: 330\n",
      "[[1.         0.68053533 0.2544805  0.27723468]\n",
      " [0.68053533 1.         0.274682   0.28996582]\n",
      " [0.2544805  0.274682   1.         0.78868427]\n",
      " [0.27723468 0.28996582 0.78868427 1.        ]]\n",
      "Step: 4: current parameter_diff: 6.601420903076551, current marginal loglikelihood: -614.8813743406637\n",
      "EM Iteration 5\n"
     ]
    },
    {
     "name": "stderr",
     "output_type": "stream",
     "text": [
      "c:\\Users\\Jesper\\Anaconda3\\lib\\site-packages\\scipy\\stats\\_qmc.py:2039: UserWarning: The balance properties of Sobol' points require n to be a power of 2.\n",
      "  samples = self.engine.random(n)\n"
     ]
    },
    {
     "name": "stdout",
     "output_type": "stream",
     "text": [
      "Current Monte Carlo Sample size: 363\n",
      "[[1.         0.69428313 0.24671587 0.26212127]\n",
      " [0.69428313 1.         0.27573483 0.27158649]\n",
      " [0.24671587 0.27573483 1.         0.79685196]\n",
      " [0.26212127 0.27158649 0.79685196 1.        ]]\n",
      "Step: 5: current parameter_diff: 4.832146282166686, current marginal loglikelihood: -612.3846939956109\n",
      "EM Iteration 6\n"
     ]
    },
    {
     "name": "stderr",
     "output_type": "stream",
     "text": [
      "c:\\Users\\Jesper\\Anaconda3\\lib\\site-packages\\scipy\\stats\\_qmc.py:2039: UserWarning: The balance properties of Sobol' points require n to be a power of 2.\n",
      "  samples = self.engine.random(n)\n"
     ]
    },
    {
     "name": "stdout",
     "output_type": "stream",
     "text": [
      "Current Monte Carlo Sample size: 363\n",
      "[[1.         0.70363489 0.23173087 0.24709683]\n",
      " [0.70363489 1.         0.26391595 0.255776  ]\n",
      " [0.23173087 0.26391595 1.         0.80774367]\n",
      " [0.24709683 0.255776   0.80774367 1.        ]]\n",
      "Step: 6: current parameter_diff: 5.034457687081505, current marginal loglikelihood: -609.6882951007534\n",
      "Absolute diff in A:\n",
      "[[0.         2.47080808]\n",
      " [0.         0.2387991 ]\n",
      " [0.         3.78842282]\n",
      " [0.08572687 0.        ]\n",
      " [3.06966847 0.        ]\n",
      " [2.07359839 0.        ]\n",
      " [0.08989887 0.        ]\n",
      " [0.20287079 0.        ]\n",
      " [0.20423735 0.20572785]\n",
      " [2.95018191 0.85399144]\n",
      " [2.99925722 1.47379017]\n",
      " [0.05518833 0.37005486]]\n",
      "Absolute diff in delta:\n",
      "[0.22895889 0.11001941 1.72687073 0.06182123 2.40401727 0.84524227\n",
      " 0.45427523 0.85838707 0.70403058 0.36449918 0.68948291 1.00799343]\n",
      "Absolute diff in sigma:\n",
      "[[0.000e+00 1.462e-01]\n",
      " [1.462e-01 1.000e-04]]\n",
      "Absolute diff in A:\n",
      "[[0.         0.06407177]\n",
      " [0.         0.02279777]\n",
      " [0.         0.38970773]\n",
      " [0.         3.28178948]\n",
      " [6.60288548 0.        ]\n",
      " [0.85124727 0.        ]\n",
      " [2.16852135 0.        ]\n",
      " [1.25850115 0.67458819]\n",
      " [0.44900911 0.29904773]\n",
      " [0.76136738 0.07455669]\n",
      " [0.69307691 1.91751396]\n",
      " [1.68093883 0.35649849]]\n",
      "Absolute diff in delta:\n",
      "[0.09977134 0.67589642 0.27656045 0.41730681 0.41605465 0.44864777\n",
      " 0.13877178 0.60938189 0.17418795 0.19027068 1.30437603 0.99617934]\n",
      "Absolute diff in A:\n",
      "[[0.         1.63246377]\n",
      " [0.         0.98817448]\n",
      " [0.         2.84405709]\n",
      " [0.04837263 0.        ]\n",
      " [4.37752198 0.        ]\n",
      " [7.0720939  0.        ]\n",
      " [1.05156458 0.        ]\n",
      " [3.08041422 0.        ]\n",
      " [0.29118735 0.30793364]\n",
      " [3.25461899 1.2055523 ]\n",
      " [3.10220072 0.21135313]\n",
      " [0.91403447 1.80259335]]\n",
      "Absolute diff in delta:\n",
      "[2.17974418e-01 9.02392546e-04 5.20044668e-01 6.50562050e-02\n",
      " 1.00643839e+00 9.01570130e-01 6.33149766e-01 8.01443058e-01\n",
      " 9.15376307e-02 6.47847712e-01 6.90560701e-01 8.23397349e-01]\n",
      "Absolute diff in sigma:\n",
      "[[0.     0.1289]\n",
      " [0.1289 0.    ]]\n",
      "Absolute diff in A:\n",
      "[[1.         0.88522446]\n",
      " [1.         1.22940792]\n",
      " [1.         1.30205148]\n",
      " [1.         5.84876445]\n",
      " [7.58301272 1.        ]\n",
      " [1.49248887 1.        ]\n",
      " [3.16741023 1.        ]\n",
      " [2.6926201  0.88083231]\n",
      " [0.29927591 3.83098087]\n",
      " [2.94847386 2.34988001]\n",
      " [0.35520977 1.57679454]\n",
      " [4.20644395 2.80659051]]\n",
      "Absolute diff in delta:\n",
      "[1.11199429 0.16727081 1.08089891 1.53386902 1.02511136 0.67486147\n",
      " 1.35157588 1.67409305 2.34406773 0.73987262 0.29257488 0.99459597]\n",
      "Covariance matrix is good: True\n",
      "EM Iteration 2\n",
      "Current Monte Carlo Sample size: 300\n",
      "[[1.         0.63729033]\n",
      " [0.63729033 1.        ]]\n"
     ]
    },
    {
     "name": "stderr",
     "output_type": "stream",
     "text": [
      "c:\\Users\\Jesper\\Anaconda3\\lib\\site-packages\\scipy\\stats\\_qmc.py:2039: UserWarning: The balance properties of Sobol' points require n to be a power of 2.\n",
      "  samples = self.engine.random(n)\n"
     ]
    },
    {
     "name": "stdout",
     "output_type": "stream",
     "text": [
      "Step: 2: current parameter_diff: 15.889211020191503, current marginal loglikelihood: -546.3305865787963\n",
      "EM Iteration 3\n",
      "Current Monte Carlo Sample size: 330\n",
      "[[1.         0.64368581]\n",
      " [0.64368581 1.        ]]\n"
     ]
    },
    {
     "name": "stderr",
     "output_type": "stream",
     "text": [
      "c:\\Users\\Jesper\\Anaconda3\\lib\\site-packages\\scipy\\stats\\_qmc.py:2039: UserWarning: The balance properties of Sobol' points require n to be a power of 2.\n",
      "  samples = self.engine.random(n)\n"
     ]
    },
    {
     "name": "stdout",
     "output_type": "stream",
     "text": [
      "Step: 3: current parameter_diff: 11.35060144786448, current marginal loglikelihood: -527.3966481102818\n",
      "EM Iteration 4\n",
      "Current Monte Carlo Sample size: 363\n",
      "[[1.         0.60635374]\n",
      " [0.60635374 1.        ]]\n"
     ]
    },
    {
     "name": "stderr",
     "output_type": "stream",
     "text": [
      "c:\\Users\\Jesper\\Anaconda3\\lib\\site-packages\\scipy\\stats\\_qmc.py:2039: UserWarning: The balance properties of Sobol' points require n to be a power of 2.\n",
      "  samples = self.engine.random(n)\n"
     ]
    },
    {
     "name": "stdout",
     "output_type": "stream",
     "text": [
      "Step: 4: current parameter_diff: 10.301840357010857, current marginal loglikelihood: -521.2736806331218\n",
      "EM Iteration 5\n",
      "Current Monte Carlo Sample size: 399\n",
      "[[1.         0.57355456]\n",
      " [0.57355456 1.        ]]\n"
     ]
    },
    {
     "name": "stderr",
     "output_type": "stream",
     "text": [
      "c:\\Users\\Jesper\\Anaconda3\\lib\\site-packages\\scipy\\stats\\_qmc.py:2039: UserWarning: The balance properties of Sobol' points require n to be a power of 2.\n",
      "  samples = self.engine.random(n)\n"
     ]
    },
    {
     "name": "stdout",
     "output_type": "stream",
     "text": [
      "Step: 5: current parameter_diff: 9.316631944013746, current marginal loglikelihood: -514.4184855216054\n",
      "EM Iteration 6\n",
      "Current Monte Carlo Sample size: 438\n",
      "[[1.         0.54395458]\n",
      " [0.54395458 1.        ]]\n"
     ]
    },
    {
     "name": "stderr",
     "output_type": "stream",
     "text": [
      "c:\\Users\\Jesper\\Anaconda3\\lib\\site-packages\\scipy\\stats\\_qmc.py:2039: UserWarning: The balance properties of Sobol' points require n to be a power of 2.\n",
      "  samples = self.engine.random(n)\n"
     ]
    },
    {
     "name": "stdout",
     "output_type": "stream",
     "text": [
      "Step: 6: current parameter_diff: 7.461011345290421, current marginal loglikelihood: -511.98802188189387\n",
      "EM Iteration 7\n",
      "Current Monte Carlo Sample size: 481\n",
      "[[1.         0.50141179]\n",
      " [0.50141179 1.        ]]\n"
     ]
    },
    {
     "name": "stderr",
     "output_type": "stream",
     "text": [
      "c:\\Users\\Jesper\\Anaconda3\\lib\\site-packages\\scipy\\stats\\_qmc.py:2039: UserWarning: The balance properties of Sobol' points require n to be a power of 2.\n",
      "  samples = self.engine.random(n)\n"
     ]
    },
    {
     "name": "stdout",
     "output_type": "stream",
     "text": [
      "Step: 7: current parameter_diff: 6.089398842154703, current marginal loglikelihood: -511.193196213904\n",
      "EM Iteration 8\n",
      "Current Monte Carlo Sample size: 529\n",
      "[[1.         0.47757378]\n",
      " [0.47757378 1.        ]]\n"
     ]
    },
    {
     "name": "stderr",
     "output_type": "stream",
     "text": [
      "c:\\Users\\Jesper\\Anaconda3\\lib\\site-packages\\scipy\\stats\\_qmc.py:2039: UserWarning: The balance properties of Sobol' points require n to be a power of 2.\n",
      "  samples = self.engine.random(n)\n"
     ]
    },
    {
     "name": "stdout",
     "output_type": "stream",
     "text": [
      "Step: 8: current parameter_diff: 4.068820508775348, current marginal loglikelihood: -509.16949066888577\n",
      "Covariance matrix is good: True\n",
      "EM Iteration 2\n",
      "Current Monte Carlo Sample size: 300\n",
      "[[1.         0.50586266]\n",
      " [0.50586266 1.        ]]\n"
     ]
    },
    {
     "name": "stderr",
     "output_type": "stream",
     "text": [
      "c:\\Users\\Jesper\\Anaconda3\\lib\\site-packages\\scipy\\stats\\_qmc.py:2039: UserWarning: The balance properties of Sobol' points require n to be a power of 2.\n",
      "  samples = self.engine.random(n)\n"
     ]
    },
    {
     "name": "stdout",
     "output_type": "stream",
     "text": [
      "Step: 2: current parameter_diff: 20.330359178916723, current marginal loglikelihood: -459.2366252824313\n",
      "EM Iteration 3\n",
      "Current Monte Carlo Sample size: 330\n",
      "[[1.         0.50816111]\n",
      " [0.50816111 1.        ]]\n"
     ]
    },
    {
     "name": "stderr",
     "output_type": "stream",
     "text": [
      "c:\\Users\\Jesper\\Anaconda3\\lib\\site-packages\\scipy\\stats\\_qmc.py:2039: UserWarning: The balance properties of Sobol' points require n to be a power of 2.\n",
      "  samples = self.engine.random(n)\n"
     ]
    },
    {
     "name": "stdout",
     "output_type": "stream",
     "text": [
      "Step: 3: current parameter_diff: 14.551537614744369, current marginal loglikelihood: -438.58666914714155\n",
      "EM Iteration 4\n",
      "Current Monte Carlo Sample size: 363\n",
      "[[1.         0.53842531]\n",
      " [0.53842531 1.        ]]\n"
     ]
    },
    {
     "name": "stderr",
     "output_type": "stream",
     "text": [
      "c:\\Users\\Jesper\\Anaconda3\\lib\\site-packages\\scipy\\stats\\_qmc.py:2039: UserWarning: The balance properties of Sobol' points require n to be a power of 2.\n",
      "  samples = self.engine.random(n)\n"
     ]
    },
    {
     "name": "stdout",
     "output_type": "stream",
     "text": [
      "Step: 4: current parameter_diff: 12.073525459506133, current marginal loglikelihood: -433.00815989248815\n",
      "EM Iteration 5\n",
      "Current Monte Carlo Sample size: 399\n",
      "[[1.         0.53152714]\n",
      " [0.53152714 1.        ]]\n"
     ]
    },
    {
     "name": "stderr",
     "output_type": "stream",
     "text": [
      "c:\\Users\\Jesper\\Anaconda3\\lib\\site-packages\\scipy\\stats\\_qmc.py:2039: UserWarning: The balance properties of Sobol' points require n to be a power of 2.\n",
      "  samples = self.engine.random(n)\n"
     ]
    },
    {
     "name": "stdout",
     "output_type": "stream",
     "text": [
      "Step: 5: current parameter_diff: 9.382486797204702, current marginal loglikelihood: -428.28779035159556\n",
      "EM Iteration 6\n",
      "Current Monte Carlo Sample size: 438\n",
      "[[1.         0.49123855]\n",
      " [0.49123855 1.        ]]\n"
     ]
    },
    {
     "name": "stderr",
     "output_type": "stream",
     "text": [
      "c:\\Users\\Jesper\\Anaconda3\\lib\\site-packages\\scipy\\stats\\_qmc.py:2039: UserWarning: The balance properties of Sobol' points require n to be a power of 2.\n",
      "  samples = self.engine.random(n)\n"
     ]
    },
    {
     "name": "stdout",
     "output_type": "stream",
     "text": [
      "Step: 6: current parameter_diff: 7.668801058207064, current marginal loglikelihood: -424.57860909975955\n",
      "EM Iteration 7\n",
      "Current Monte Carlo Sample size: 481\n",
      "[[1.         0.45785212]\n",
      " [0.45785212 1.        ]]\n"
     ]
    },
    {
     "name": "stderr",
     "output_type": "stream",
     "text": [
      "c:\\Users\\Jesper\\Anaconda3\\lib\\site-packages\\scipy\\stats\\_qmc.py:2039: UserWarning: The balance properties of Sobol' points require n to be a power of 2.\n",
      "  samples = self.engine.random(n)\n"
     ]
    },
    {
     "name": "stdout",
     "output_type": "stream",
     "text": [
      "Step: 7: current parameter_diff: 5.809966086431942, current marginal loglikelihood: -426.4552395690883\n",
      "Absolute diff in A:\n",
      "[[0.         2.54547423]\n",
      " [0.         0.17911889]\n",
      " [0.         4.25356771]\n",
      " [0.11568259 0.        ]\n",
      " [5.08573916 0.        ]\n",
      " [1.63299909 0.        ]\n",
      " [0.11007626 0.        ]\n",
      " [0.17521686 0.        ]\n",
      " [0.12592471 0.19313639]\n",
      " [2.70821797 0.97573343]\n",
      " [2.50876071 1.56724917]\n",
      " [0.13802751 0.44531925]]\n",
      "Absolute diff in delta:\n",
      "[0.21015668 0.08830945 1.75825741 0.05438065 3.44030956 0.98871266\n",
      " 0.45372144 0.83328776 0.68916385 0.25307903 0.6275958  1.08236285]\n",
      "Absolute diff in sigma:\n",
      "[[0.000e+00 1.064e-01]\n",
      " [1.064e-01 1.000e-04]]\n",
      "Absolute diff in A:\n",
      "[[0.         1.30238929]\n",
      " [0.         0.57019461]\n",
      " [0.         2.800751  ]\n",
      " [0.         0.22452025]\n",
      " [5.12179126 0.        ]\n",
      " [0.13356069 0.        ]\n",
      " [0.09166473 0.        ]\n",
      " [0.61164157 0.10063876]\n",
      " [1.03863351 1.34675901]\n",
      " [0.04709853 0.87155818]\n",
      " [0.06478629 1.93788735]\n",
      " [0.00656741 1.83794982]]\n",
      "Absolute diff in delta:\n",
      "[2.15870698 2.51421222 3.32926644 4.3201769  1.85342117 1.0046703\n",
      " 3.08065264 2.90110115 6.17173984 5.5998618  3.35487709 6.6602294 ]\n",
      "EM Iteration 2\n"
     ]
    },
    {
     "name": "stderr",
     "output_type": "stream",
     "text": [
      "c:\\Users\\Jesper\\Anaconda3\\lib\\site-packages\\scipy\\stats\\_qmc.py:2039: UserWarning: The balance properties of Sobol' points require n to be a power of 2.\n",
      "  samples = self.engine.random(n)\n"
     ]
    },
    {
     "name": "stdout",
     "output_type": "stream",
     "text": [
      "Current Monte Carlo Sample size: 300\n",
      "[[ 1.          0.57671038 -0.04114656 -0.07391435]\n",
      " [ 0.57671038  1.         -0.07714775 -0.16814123]\n",
      " [-0.04114656 -0.07714775  1.          0.23305847]\n",
      " [-0.07391435 -0.16814123  0.23305847  1.        ]]\n",
      "Step: 2: current parameter_diff: 21.60434169361775, current marginal loglikelihood: -653.8707641274966\n",
      "EM Iteration 3\n"
     ]
    },
    {
     "name": "stderr",
     "output_type": "stream",
     "text": [
      "c:\\Users\\Jesper\\Anaconda3\\lib\\site-packages\\scipy\\stats\\_qmc.py:2039: UserWarning: The balance properties of Sobol' points require n to be a power of 2.\n",
      "  samples = self.engine.random(n)\n"
     ]
    },
    {
     "name": "stdout",
     "output_type": "stream",
     "text": [
      "Current Monte Carlo Sample size: 300\n",
      "[[ 1.          0.49996024 -0.06361373 -0.13404597]\n",
      " [ 0.49996024  1.         -0.11445941 -0.21071372]\n",
      " [-0.06361373 -0.11445941  1.          0.43464156]\n",
      " [-0.13404597 -0.21071372  0.43464156  1.        ]]\n",
      "Step: 3: current parameter_diff: 9.92242891958727, current marginal loglikelihood: -653.7367128337914\n",
      "EM Iteration 4\n"
     ]
    },
    {
     "name": "stderr",
     "output_type": "stream",
     "text": [
      "c:\\Users\\Jesper\\Anaconda3\\lib\\site-packages\\scipy\\stats\\_qmc.py:2039: UserWarning: The balance properties of Sobol' points require n to be a power of 2.\n",
      "  samples = self.engine.random(n)\n"
     ]
    },
    {
     "name": "stdout",
     "output_type": "stream",
     "text": [
      "Current Monte Carlo Sample size: 330\n",
      "[[ 1.00000000e+00  4.67481725e-01 -3.38850651e-02 -1.04986153e-01]\n",
      " [ 4.67481725e-01  1.00000000e+00  8.41677019e-04 -1.62296731e-01]\n",
      " [-3.38850651e-02  8.41677019e-04  1.00000000e+00  3.43832171e-01]\n",
      " [-1.04986153e-01 -1.62296731e-01  3.43832171e-01  1.00000000e+00]]\n",
      "Step: 4: current parameter_diff: 7.735960078488763, current marginal loglikelihood: -643.8679145535854\n",
      "EM Iteration 5\n"
     ]
    },
    {
     "name": "stderr",
     "output_type": "stream",
     "text": [
      "c:\\Users\\Jesper\\Anaconda3\\lib\\site-packages\\scipy\\stats\\_qmc.py:2039: UserWarning: The balance properties of Sobol' points require n to be a power of 2.\n",
      "  samples = self.engine.random(n)\n"
     ]
    },
    {
     "name": "stdout",
     "output_type": "stream",
     "text": [
      "Current Monte Carlo Sample size: 363\n",
      "[[ 1.          0.51381109 -0.05257014 -0.14988537]\n",
      " [ 0.51381109  1.         -0.06425633 -0.25149241]\n",
      " [-0.05257014 -0.06425633  1.          0.39663414]\n",
      " [-0.14988537 -0.25149241  0.39663414  1.        ]]\n",
      "Step: 5: current parameter_diff: 5.28987475145644, current marginal loglikelihood: -640.7545548403044\n",
      "EM Iteration 6\n"
     ]
    },
    {
     "name": "stderr",
     "output_type": "stream",
     "text": [
      "c:\\Users\\Jesper\\Anaconda3\\lib\\site-packages\\scipy\\stats\\_qmc.py:2039: UserWarning: The balance properties of Sobol' points require n to be a power of 2.\n",
      "  samples = self.engine.random(n)\n"
     ]
    },
    {
     "name": "stdout",
     "output_type": "stream",
     "text": [
      "Current Monte Carlo Sample size: 399\n",
      "[[ 1.          0.52969802 -0.06707235 -0.15555542]\n",
      " [ 0.52969802  1.         -0.07844554 -0.21646205]\n",
      " [-0.06707235 -0.07844554  1.          0.36790614]\n",
      " [-0.15555542 -0.21646205  0.36790614  1.        ]]\n",
      "Step: 6: current parameter_diff: 4.762029025218756, current marginal loglikelihood: -639.5595643248978\n",
      "EM Iteration 7\n"
     ]
    },
    {
     "name": "stderr",
     "output_type": "stream",
     "text": [
      "c:\\Users\\Jesper\\Anaconda3\\lib\\site-packages\\scipy\\stats\\_qmc.py:2039: UserWarning: The balance properties of Sobol' points require n to be a power of 2.\n",
      "  samples = self.engine.random(n)\n"
     ]
    },
    {
     "name": "stdout",
     "output_type": "stream",
     "text": [
      "Current Monte Carlo Sample size: 438\n",
      "[[ 1.          0.46197389 -0.03948346 -0.11892228]\n",
      " [ 0.46197389  1.         -0.05826628 -0.16328178]\n",
      " [-0.03948346 -0.05826628  1.          0.35285043]\n",
      " [-0.11892228 -0.16328178  0.35285043  1.        ]]\n",
      "Step: 7: current parameter_diff: 4.1730122731545745, current marginal loglikelihood: -639.0956070215843\n",
      "Absolute diff in A:\n",
      "[[0.         0.10228798]\n",
      " [0.         0.33366573]\n",
      " [0.         0.64533549]\n",
      " [0.         2.32138026]\n",
      " [5.32773222 0.        ]\n",
      " [0.93109994 0.        ]\n",
      " [0.53862103 0.        ]\n",
      " [1.72629536 0.55462954]\n",
      " [0.33244069 0.83928024]\n",
      " [0.93700711 0.21343776]\n",
      " [0.0486685  1.45115691]\n",
      " [1.36560961 0.58989089]]\n",
      "Absolute diff in delta:\n",
      "[0.42347687 0.29241979 0.86565918 1.20451298 0.60357038 0.59773718\n",
      " 0.56574653 0.79968578 0.19720367 0.51833681 2.40479619 1.86972541]\n"
     ]
    }
   ],
   "source": [
    "experiment_1_1 = lambda: mirt_simulation_experiment(sample_size=100, item_dimension=12, latent_dimension=2,\n",
    "                                            q_type=\"full\", stop_threshold=5, person_method=\"BFGS\",\n",
    "                                            sigma_constraint=\"unconstrained\")\n",
    "result_dict = repeat_mirt_experiment(experiment_1_1, 5)"
   ]
  },
  {
   "cell_type": "code",
   "execution_count": 5,
   "metadata": {},
   "outputs": [
    {
     "name": "stdout",
     "output_type": "stream",
     "text": [
      "------------------------------------\n",
      "##### Results for Fixed predicting latent traits\n",
      "Latent dimension: 2.0,  Item dimension: 12.0, sample size 100.0 \\\n",
      "Early runtime: 4.08 seconds, 8.0 steps, 0.51 seconds per step \\\n",
      "Late runtime: 29.68 seconds, 8.0 steps, 3.71 seconds per step \\\n",
      "Early Marginal Likelihood, Optimal: -544.65, Estimated: -532.98, Initial -618.62 \\\n",
      "Late Marginal Likelihood, Optimal: -620.5, Estimated: -614.69, Initial -782.57\n",
      "| method     |   early_A |   early_delta |   early_sigma |   late_A |   late_delta |   late_sigma |      psi |\n",
      "|:-----------|----------:|--------------:|--------------:|---------:|-------------:|-------------:|---------:|\n",
      "| difference |   1.36217 |      0.862855 |      0.098203 |  1.9557  |      4.43623 |     0.111605 | 0.569094 |\n",
      "| initial    |   2.71671 |      0.60807  |      0.115598 |  2.92958 |      1.18164 |     0.188515 | 0.330659 |\n",
      "| late_em    |   1.30742 |      0.84015  |      0.104482 |  1.71116 |      1.06919 |     0.320758 | 0.152921 |\n",
      "| real_early | nan       |    nan        |    nan        |  1.73088 |      1.28094 |     0.225963 | 0.268198 |\n",
      "####\n",
      "Performance on Individual Level \\\n",
      "rmse theta: 0.5137080733105299 \\\n",
      "rmse gain: 0.7850359923260083\n"
     ]
    },
    {
     "name": "stderr",
     "output_type": "stream",
     "text": [
      "c:\\Users\\Jesper\\Documents\\GitHub\\Knowledge-Growth-Prediction\\analyse_experiment.py:153: FutureWarning: DataFrame.mean and DataFrame.median with numeric_only=None will include datetime64 and datetime64tz columns in a future version.\n",
      "  reference_method = result_df[result_df[\"method\"]\n",
      "c:\\Users\\Jesper\\Documents\\GitHub\\Knowledge-Growth-Prediction\\analyse_experiment.py:155: FutureWarning: DataFrame.mean and DataFrame.median with numeric_only=None will include datetime64 and datetime64tz columns in a future version.\n",
      "  initial = result_df[result_df[\"method\"] == \"initial\"].mean()\n"
     ]
    }
   ],
   "source": [
    "result_df = get_result_df(result_dict)\n",
    "print_result_from_df(result_df, description=\"Fixed predicting latent traits\")"
   ]
  },
  {
   "cell_type": "markdown",
   "metadata": {},
   "source": [
    "\n",
    "------------------------------------\n",
    "##### Results for Monte Carlo sample varying through ttest with normal MC\n",
    "Latent dimension: 1,  Item dimension: 20, sample size 1000 \\\n",
    "Runtime: 37.86 seconds, 20 steps, 1.89 seconds per step \\\n",
    "Optimal marginal Likelihood: -8714.19, Estimated: -8697.21, Initial -9512.15\n",
    "|               |   rmse_A |   rmse_delta |   rmse_sigma |\n",
    "|:--------------|---------:|-------------:|-------------:|\n",
    "| estimated     | 0.182642 |     0.211132 |            0 |\n",
    "| early_initial | 1.69549  |     1.49975  |            0 |\n",
    "| girth         | 0.313235 |     4.2295   |            0 |\n",
    "\n",
    "------------------------------------\n",
    "##### Results for Unsafe Q-Item\n",
    "Latent dimension: 2.0,  Item dimension: 12.0, sample size 100.0 \\\n",
    "Early runtime: 2.83 seconds, 6.666666666666667 steps, 0.42 seconds per step \\\n",
    "Late runtime: 89.06 seconds, 8.0 steps, 11.13 seconds per step \\\n",
    "Early Marginal Likelihood, Optimal: -588.95, Estimated: -577.35, Initial -651.28 \\\n",
    "Late Marginal Likelihood, Optimal: -503.73, Estimated: -493.19, Initial -594.28\n",
    "| method   |   early_A |   early_delta |   early_sigma |   late_A |   late_delta |   late_sigma |      psi |\n",
    "|:---------|----------:|--------------:|--------------:|---------:|-------------:|-------------:|---------:|\n",
    "| initial  |  2.45062  |      0.659433 |     0.221324  |  4.21137 |      1.32515 |    0.0867149 | 0.329417 |\n",
    "| late_em  |  0.962137 |      0.589822 |     0.0997021 |  2.94637 |      1.26479 |    0.119171  | 0.280201 |\n",
    "\n",
    "\n",
    "------------------------------------\n",
    "##### Results for Safe Q-Item with fixed Q-Matrix usage\n",
    "Latent dimension: 2.0,  Item dimension: 12.0, sample size 100.0 \\\n",
    "Early runtime: 3.61 seconds, 7.8 steps, 0.46 seconds per step \\\n",
    "Late runtime: 59.49 seconds, 10.4 steps, 5.72 seconds per step \\\n",
    "Early Marginal Likelihood, Optimal: -582.92, Estimated: -569.96, Initial -644.32 \\\n",
    "Late Marginal Likelihood, Optimal: -578.6, Estimated: -558.43, Initial -706.82\n",
    "| method   |   early_A |   early_delta |   early_sigma |   late_A |   late_delta |   late_sigma |      psi |\n",
    "|:---------|----------:|--------------:|--------------:|---------:|-------------:|-------------:|---------:|\n",
    "| initial  |   2.88087 |      0.517633 |      0.182391 |  3.17101 |      1.1477  |     0.161164 | 0.26501  |\n",
    "| late_em  |   1.16439 |      0.584869 |      0.112529 |  3.46094 |      2.04145 |     0.172379 | 0.268391 |\n",
    "####\n",
    "\n",
    "------------------------------------\n",
    "##### Results for Additional real-early baseline\n",
    "Latent dimension: 2.0,  Item dimension: 12.0, sample size 100.0 \\\n",
    "Early runtime: 3.41 seconds, 7.6 steps, 0.45 seconds per step \\\n",
    "Late runtime: 53.02 seconds, 9.4 steps, 5.64 seconds per step \\\n",
    "Early Marginal Likelihood, Optimal: -583.55, Estimated: -572.67, Initial -646.06 \\\n",
    "Late Marginal Likelihood, Optimal: -589.58, Estimated: -569.92, Initial -744.68\n",
    "| method     |   early_A |   early_delta |   early_sigma |   late_A |   late_delta |   late_sigma |      psi |\n",
    "|:-----------|----------:|--------------:|--------------:|---------:|-------------:|-------------:|---------:|\n",
    "| difference |   1.3934  |      0.440782 |     0.10789   |  2.67044 |      5.93286 |     0.497026 | 0.488744 |\n",
    "| initial    |   2.88641 |      0.521309 |     0.195614  |  3.11633 |      1.21088 |     0.180157 | 0.201638 |\n",
    "| late_em    |   1.39654 |      0.431537 |     0.0970151 |  3.62865 |      3.70721 |     0.212556 | 0.238202 |\n",
    "| real_early | nan       |    nan        |   nan         |  1.88592 |      1.78127 |     0.155295 | 0.287462 |\n",
    "####\n",
    "\n",
    "------------------------------------\n",
    "##### Results for Additional real-early baseline\n",
    "Latent dimension: 2.0,  Item dimension: 12.0, sample size 100.0 \\\n",
    "Early runtime: 3.9 seconds, 7.8 steps, 0.5 seconds per step \\\n",
    "Late runtime: 47.23 seconds, 9.2 steps, 5.13 seconds per step \\\n",
    "Early Marginal Likelihood, Optimal: -567.07, Estimated: -554.35, Initial -643.82 \\\n",
    "Late Marginal Likelihood, Optimal: -606.14, Estimated: -580.97, Initial -732.21\n",
    "| method     |   early_A |   early_delta |   early_sigma |   late_A |   late_delta |   late_sigma |      psi |\n",
    "|:-----------|----------:|--------------:|--------------:|---------:|-------------:|-------------:|---------:|\n",
    "| difference |   1.27303 |      0.816239 |      0.113363 |  2.59347 |      4.81423 |     0.403711 | 0.570877 |\n",
    "| initial    |   2.98315 |      0.565456 |      0.191513 |  2.77793 |      1.33573 |     0.162804 | 0.321497 |\n",
    "| late_em    |   1.18451 |      0.822633 |      0.111398 |  2.68928 |      2.2549  |     0.160683 | 0.309943 |\n",
    "| real_early | nan       |    nan        |    nan        |  2.16151 |      1.63829 |     0.171389 | 0.334537 |\n",
    "####\n",
    "\n",
    "------------------------------------\n",
    "##### Results for Fixed predicting latent traits\n",
    "Latent dimension: 2.0,  Item dimension: 12.0, sample size 100.0 \\\n",
    "Early runtime: 4.24 seconds, 8.6 steps, 0.49 seconds per step \\\n",
    "Late runtime: 42.91 seconds, 8.8 steps, 4.88 seconds per step \\\n",
    "Early Marginal Likelihood, Optimal: -542.31, Estimated: -535.07, Initial -624.32 \\\n",
    "Late Marginal Likelihood, Optimal: -616.66, Estimated: -609.14, Initial -779.98\n",
    "| method     |   early_A |   early_delta |   early_sigma |   late_A |   late_delta |   late_sigma |      psi |\n",
    "|:-----------|----------:|--------------:|--------------:|---------:|-------------:|-------------:|---------:|\n",
    "| difference |   1.31683 |      0.727365 |     0.0819637 |  2.81163 |      6.04203 |    0.0979097 | 0.607177 |\n",
    "| initial    |   3.17144 |      0.593239 |     0.208215  |  2.84086 |      1.19559 |    0.201808  | 0.299464 |\n",
    "| late_em    |   1.38044 |      0.681315 |     0.167655  |  2.30619 |      2.3331  |    0.298597  | 0.228804 |\n",
    "| real_early | nan       |    nan        |   nan         |  2.82787 |      2.31606 |    0.162536  | 0.307249 |\n",
    "####\n",
    "Performance on Individual Level \\\n",
    "rmse theta: 0.5383205034871745 \\\n",
    "rmse gain: 0.8237588915191916"
   ]
  },
  {
   "cell_type": "code",
   "execution_count": 12,
   "metadata": {},
   "outputs": [
    {
     "name": "stdout",
     "output_type": "stream",
     "text": [
      "Real latent covariance: [[1.     0.1921]\n",
      " [0.1921 1.    ]]\n",
      "Covariance matrix is good: True\n",
      "EM Iteration 2\n"
     ]
    },
    {
     "name": "stderr",
     "output_type": "stream",
     "text": [
      "c:\\Users\\Jesper\\Anaconda3\\lib\\site-packages\\scipy\\stats\\_qmc.py:2039: UserWarning: The balance properties of Sobol' points require n to be a power of 2.\n",
      "  samples = self.engine.random(n)\n"
     ]
    },
    {
     "name": "stdout",
     "output_type": "stream",
     "text": [
      "Current Monte Carlo Sample size: 300\n",
      "Step: 2: current parameter_diff: 9.087457477954748, current marginal loglikelihood: -12789.826209045792\n",
      "EM Iteration 3\n",
      "Current Monte Carlo Sample size: 300\n",
      "Step: 3: current parameter_diff: 9.347286786290436, current marginal loglikelihood: -12431.792159340152\n",
      "EM Iteration 4\n",
      "Current Monte Carlo Sample size: 300\n",
      "Step: 4: current parameter_diff: 5.994195183510891, current marginal loglikelihood: -12324.415808814525\n",
      "EM Iteration 5\n",
      "Current Monte Carlo Sample size: 330\n",
      "Step: 5: current parameter_diff: 3.466965558217997, current marginal loglikelihood: -12291.666326556195\n",
      "EM Iteration 6\n",
      "Current Monte Carlo Sample size: 363\n",
      "Step: 6: current parameter_diff: 3.0517259450824583, current marginal loglikelihood: -12274.293408739399\n",
      "EM Iteration 7\n",
      "Current Monte Carlo Sample size: 399\n",
      "Step: 7: current parameter_diff: 1.6828800520798761, current marginal loglikelihood: -12268.44295499595\n",
      "EM Iteration 8\n",
      "Current Monte Carlo Sample size: 438\n",
      "Step: 8: current parameter_diff: 1.5472995648012011, current marginal loglikelihood: -12266.741491100976\n",
      "EM Iteration 9\n",
      "Current Monte Carlo Sample size: 481\n",
      "Step: 9: current parameter_diff: 0.9405471813539303, current marginal loglikelihood: -12257.26354486137\n",
      "EM Iteration 10\n",
      "Current Monte Carlo Sample size: 529\n",
      "Step: 10: current parameter_diff: 0.5530337635868852, current marginal loglikelihood: -12254.874420202255\n",
      "EM Iteration 11\n",
      "Current Monte Carlo Sample size: 581\n",
      "Step: 11: current parameter_diff: 0.9182088621850061, current marginal loglikelihood: -12252.639608779638\n",
      "EM Iteration 12\n",
      "Current Monte Carlo Sample size: 581\n",
      "Step: 12: current parameter_diff: 0.6457048580426479, current marginal loglikelihood: -12250.319820728353\n",
      "EM Iteration 13\n",
      "Current Monte Carlo Sample size: 581\n"
     ]
    },
    {
     "name": "stderr",
     "output_type": "stream",
     "text": [
      "c:\\Users\\Jesper\\Documents\\GitHub\\Knowledge-Growth-Prediction\\em_algorithm\\e_step_mirt_2pl.py:264: RuntimeWarning: divide by zero encountered in log\n",
      "  icc_values), r_item_theta) + np.multiply(np.log(1-icc_values), np.subtract(r_0_theta, r_item_theta))\n"
     ]
    },
    {
     "name": "stdout",
     "output_type": "stream",
     "text": [
      "Step: 13: current parameter_diff: 0.40565533319178126, current marginal loglikelihood: -12248.475980359144\n",
      "EM Iteration 14\n",
      "Current Monte Carlo Sample size: 581\n",
      "Step: 14: current parameter_diff: 0.3981727860081429, current marginal loglikelihood: -12251.628743992456\n",
      "EM Iteration 15\n",
      "Current Monte Carlo Sample size: 639\n",
      "Step: 15: current parameter_diff: 0.3759899463682548, current marginal loglikelihood: -12251.09622265484\n",
      "EM Iteration 16\n",
      "Current Monte Carlo Sample size: 702\n",
      "Step: 16: current parameter_diff: 0.07730277535592268, current marginal loglikelihood: -12250.114423241039\n",
      "EM Iteration 17\n",
      "Current Monte Carlo Sample size: 772\n",
      "Step: 17: current parameter_diff: 0.35397135818851444, current marginal loglikelihood: -12249.62312895641\n",
      "Absolute diff in A:\n",
      "[[ 0.14141196  0.        ]\n",
      " [ 0.14652275  0.        ]\n",
      " [ 0.24777834  0.        ]\n",
      " [ 0.39441549  0.        ]\n",
      " [ 0.12016762  0.        ]\n",
      " [ 0.32373102  0.        ]\n",
      " [ 2.04123377  0.        ]\n",
      " [ 0.07098307  0.        ]\n",
      " [ 0.06713308  0.        ]\n",
      " [ 0.          0.20182688]\n",
      " [ 0.          0.62813809]\n",
      " [ 0.          0.09920095]\n",
      " [ 0.          0.01945836]\n",
      " [ 0.          0.18659965]\n",
      " [ 0.          0.15575047]\n",
      " [ 0.          0.08789252]\n",
      " [ 0.          1.4778765 ]\n",
      " [ 0.          0.04189966]\n",
      " [ 0.         10.97192658]\n",
      " [ 0.          0.01780647]]\n",
      "Absolute diff in delta:\n",
      "[0.11951806 0.01624619 0.00828051 0.00229788 0.03779432 0.12022373\n",
      " 0.3486814  0.00835183 0.058682   0.13972121 0.09226136 0.03582283\n",
      " 0.07487817 0.05699409 0.08076706 0.08706214 0.40613611 0.01579479\n",
      " 1.00325414 0.03622401]\n",
      "Absolute diff in sigma:\n",
      "[[0.     0.0592]\n",
      " [0.0592 0.    ]]\n",
      "Absolute diff in A:\n",
      "[[ 1.36526825  0.        ]\n",
      " [ 1.11545869  0.        ]\n",
      " [ 1.73464119  0.        ]\n",
      " [ 1.36717029  0.        ]\n",
      " [ 0.86321887  0.        ]\n",
      " [ 1.3189492   0.        ]\n",
      " [ 7.95629842  0.        ]\n",
      " [ 0.25893288  0.        ]\n",
      " [ 0.90547762  0.        ]\n",
      " [ 0.          3.59522736]\n",
      " [ 0.          1.62115369]\n",
      " [ 0.          0.60013944]\n",
      " [ 0.          0.69561718]\n",
      " [ 0.          3.18601677]\n",
      " [ 0.          0.67271571]\n",
      " [ 0.          0.01684306]\n",
      " [ 0.          2.47056086]\n",
      " [ 0.          2.57133627]\n",
      " [ 0.         11.96739471]\n",
      " [ 0.          0.77011617]]\n",
      "Absolute diff in delta:\n",
      "[0.06091239 0.02035124 0.864845   0.03297919 0.0250019  0.13604297\n",
      " 1.95588372 0.02782104 0.03300903 2.77138941 0.09108795 0.05574691\n",
      " 0.08273561 0.12214658 0.05284058 0.0228591  0.39977876 0.28998553\n",
      " 1.02811303 0.1957758 ]\n",
      "Absolute diff in sigma:\n",
      "[[0.     0.3079]\n",
      " [0.3079 0.    ]]\n"
     ]
    }
   ],
   "source": [
    "performance_dict = mirt_param_recovery(sample_size=1000, item_dimension=20, latent_dimension=2, q_type=\"seperated\", girth=False, stop_threshold=1)"
   ]
  },
  {
   "cell_type": "code",
   "execution_count": 13,
   "metadata": {},
   "outputs": [
    {
     "name": "stdout",
     "output_type": "stream",
     "text": [
      "------------------------------------\n",
      "##### Results for Fixed Issue with simulation Covariance\n",
      "Latent dimension: 2,  Item dimension: 20, sample size 1000 \\\n",
      "Runtime: 51.07 seconds, 18 steps, 2.84 seconds per step \\\n",
      "Optimal marginal Likelihood: -11670.7, Estimated: -12247.32, Initial -13560.2\n",
      "|               |   rmse_A |   rmse_delta |   rmse_sigma |\n",
      "|:--------------|---------:|-------------:|-------------:|\n",
      "| estimated     |  1.78631 |     0.262764 |    0.0418607 |\n",
      "| early_initial |  2.54062 |     0.826317 |    0.217718  |\n"
     ]
    }
   ],
   "source": [
    "print_result(performance_dict, \"Fixed Issue with simulation Covariance\")"
   ]
  },
  {
   "cell_type": "markdown",
   "metadata": {},
   "source": [
    "------------------------------------\n",
    "##### Results for Seperated Q-Matrix\n",
    "Latent dimension: 2,  Item dimension: 20, sample size 1000 \\\n",
    "Runtime: 142.07 seconds, 26 steps, 5.46 seconds per step \\\n",
    "Optimal marginal Likelihood: -9384.38, Estimated: -10189.47, Initial -11459.9\n",
    "|               |   rmse_A |   rmse_delta |   rmse_sigma |\n",
    "|:--------------|---------:|-------------:|-------------:|\n",
    "| estimated     |  4.00013 |      3.10678 |    0.0201383 |\n",
    "| early_initial |  4.5183  |      2.5846  |    0.165491  |\n",
    "\n",
    "------------------------------------\n",
    "##### Results for BFGS for Q_0 with approximate Jacobi\n",
    "Latent dimension: 2,  Item dimension: 20, sample size 1000 \\\n",
    "Runtime: 61.55 seconds, 12 steps, 5.13 seconds per step \\\n",
    "Optimal marginal Likelihood: -9363.89, Estimated: -9711.58, Initial -10528.79\n",
    "|               |   rmse_A |   rmse_delta |   rmse_sigma |\n",
    "|:--------------|---------:|-------------:|-------------:|\n",
    "| estimated     |  3.02507 |      1.83482 |    0.0645047 |\n",
    "| early_initial |  2.06432 |      2.18337 |    0.289049  |\n",
    "\n",
    "------------------------------------\n",
    "##### Results for Monte Carlo sample varying through ttest\n",
    "Latent dimension: 2,  Item dimension: 20, sample size 1000 \\\n",
    "Runtime: 325.73 seconds, 42 steps, 7.76 seconds per step \\\n",
    "Optimal marginal Likelihood: -9929.77, Estimated: -10179.96, Initial -10767.41\n",
    "|               |   rmse_A |   rmse_delta |   rmse_sigma |\n",
    "|:--------------|---------:|-------------:|-------------:|\n",
    "| estimated     |  1.25777 |     0.965894 |   0.00557421 |\n",
    "| early_initial |  1.98812 |     1.68516  |   0.719705   |\n",
    "\n",
    "------------------------------------\n",
    "##### Results for Fixed random Covariance 1, girth included\n",
    "Latent dimension: 2,  Item dimension: 20, sample size 1000 \\\n",
    "Runtime: 57.16 seconds, 14 steps, 4.08 seconds per step \\\n",
    "Optimal marginal Likelihood: -11668.66, Estimated: -11672.6, Initial -12307.41\n",
    "|               |   rmse_A |   rmse_delta |   rmse_sigma |\n",
    "|:--------------|---------:|-------------:|-------------:|\n",
    "| estimated     | 0.183251 |    0.0861252 |    0.0215108 |\n",
    "| early_initial | 0.786712 |    0.393667  |    0.0471788 |\n",
    "| girth         | 1.28298  |    0.263374  |    0.350541  |\n",
    "\n",
    "------------------------------------\n",
    "##### Results for Fixed Issue with simulation Covariance\n",
    "Latent dimension: 2,  Item dimension: 20, sample size 1000 \\\n",
    "Runtime: 24.71 seconds, 11 steps, 2.25 seconds per step \\\n",
    "Optimal marginal Likelihood: -11186.38, Estimated: -11389.57, Initial -12010.77\n",
    "|               |   rmse_A |   rmse_delta |   rmse_sigma |\n",
    "|:--------------|---------:|-------------:|-------------:|\n",
    "| estimated     |  1.83766 |      1.4664  |    0.0743169 |\n",
    "| early_initial |  2.7041  |      2.66224 |    0.0627911 |"
   ]
  },
  {
   "cell_type": "code",
   "execution_count": 16,
   "metadata": {},
   "outputs": [
    {
     "name": "stdout",
     "output_type": "stream",
     "text": [
      "Real latent covariance: [[1.     0.5392 0.4093]\n",
      " [0.5392 1.     0.5406]\n",
      " [0.4093 0.5406 1.    ]]\n",
      "Covariance matrix is good: True\n",
      "EM Iteration 2\n"
     ]
    },
    {
     "name": "stderr",
     "output_type": "stream",
     "text": [
      "c:\\Users\\Jesper\\Anaconda3\\lib\\site-packages\\scipy\\stats\\_qmc.py:2039: UserWarning: The balance properties of Sobol' points require n to be a power of 2.\n",
      "  samples = self.engine.random(n)\n"
     ]
    },
    {
     "name": "stdout",
     "output_type": "stream",
     "text": [
      "Current Monte Carlo Sample size: 600\n"
     ]
    },
    {
     "name": "stderr",
     "output_type": "stream",
     "text": [
      "c:\\Users\\Jesper\\Documents\\GitHub\\Knowledge-Growth-Prediction\\em_algorithm\\e_step_mirt_2pl.py:198: RuntimeWarning: divide by zero encountered in log\n",
      "  factor = np.log(self.model.latent_density(theta, sigma=sigma))\n",
      "c:\\Users\\Jesper\\Documents\\GitHub\\Knowledge-Growth-Prediction\\em_algorithm\\e_step_mirt_2pl.py:198: RuntimeWarning: divide by zero encountered in log\n",
      "  factor = np.log(self.model.latent_density(theta, sigma=sigma))\n"
     ]
    },
    {
     "name": "stdout",
     "output_type": "stream",
     "text": [
      "[[1.         0.22255116 0.4851635 ]\n",
      " [0.22255116 1.         0.28710379]\n",
      " [0.4851635  0.28710379 1.        ]]\n",
      "Step: 2: current parameter_diff: 22.836966115835242, current marginal loglikelihood: -11263.404209075177\n",
      "EM Iteration 3\n"
     ]
    },
    {
     "name": "stderr",
     "output_type": "stream",
     "text": [
      "c:\\Users\\Jesper\\Anaconda3\\lib\\site-packages\\scipy\\stats\\_qmc.py:2039: UserWarning: The balance properties of Sobol' points require n to be a power of 2.\n",
      "  samples = self.engine.random(n)\n"
     ]
    },
    {
     "name": "stdout",
     "output_type": "stream",
     "text": [
      "Current Monte Carlo Sample size: 600\n",
      "[[1.         0.03209561 0.46728994]\n",
      " [0.03209561 1.         0.18680867]\n",
      " [0.46728994 0.18680867 1.        ]]\n",
      "Step: 3: current parameter_diff: 12.765040130244333, current marginal loglikelihood: -11025.095432664773\n",
      "EM Iteration 4\n"
     ]
    },
    {
     "name": "stderr",
     "output_type": "stream",
     "text": [
      "c:\\Users\\Jesper\\Anaconda3\\lib\\site-packages\\scipy\\stats\\_qmc.py:2039: UserWarning: The balance properties of Sobol' points require n to be a power of 2.\n",
      "  samples = self.engine.random(n)\n"
     ]
    },
    {
     "name": "stdout",
     "output_type": "stream",
     "text": [
      "Current Monte Carlo Sample size: 660\n",
      "[[ 1.         -0.12237363  0.46206731]\n",
      " [-0.12237363  1.          0.13165586]\n",
      " [ 0.46206731  0.13165586  1.        ]]\n",
      "Step: 4: current parameter_diff: 11.082485951986573, current marginal loglikelihood: -10917.861640370744\n",
      "EM Iteration 5\n"
     ]
    },
    {
     "name": "stderr",
     "output_type": "stream",
     "text": [
      "c:\\Users\\Jesper\\Anaconda3\\lib\\site-packages\\scipy\\stats\\_qmc.py:2039: UserWarning: The balance properties of Sobol' points require n to be a power of 2.\n",
      "  samples = self.engine.random(n)\n"
     ]
    },
    {
     "name": "stdout",
     "output_type": "stream",
     "text": [
      "Current Monte Carlo Sample size: 726\n",
      "[[ 1.         -0.13268712  0.46966192]\n",
      " [-0.13268712  1.          0.07677147]\n",
      " [ 0.46966192  0.07677147  1.        ]]\n",
      "Step: 5: current parameter_diff: 5.054700187758239, current marginal loglikelihood: -10871.624165962843\n",
      "EM Iteration 6\n"
     ]
    },
    {
     "name": "stderr",
     "output_type": "stream",
     "text": [
      "c:\\Users\\Jesper\\Anaconda3\\lib\\site-packages\\scipy\\stats\\_qmc.py:2039: UserWarning: The balance properties of Sobol' points require n to be a power of 2.\n",
      "  samples = self.engine.random(n)\n"
     ]
    },
    {
     "name": "stdout",
     "output_type": "stream",
     "text": [
      "Current Monte Carlo Sample size: 798\n",
      "[[ 1.         -0.15335902  0.48429796]\n",
      " [-0.15335902  1.          0.00857838]\n",
      " [ 0.48429796  0.00857838  1.        ]]\n",
      "Step: 6: current parameter_diff: 7.350049766942949, current marginal loglikelihood: -10846.63925009043\n",
      "EM Iteration 7\n"
     ]
    },
    {
     "name": "stderr",
     "output_type": "stream",
     "text": [
      "c:\\Users\\Jesper\\Anaconda3\\lib\\site-packages\\scipy\\stats\\_qmc.py:2039: UserWarning: The balance properties of Sobol' points require n to be a power of 2.\n",
      "  samples = self.engine.random(n)\n"
     ]
    },
    {
     "name": "stdout",
     "output_type": "stream",
     "text": [
      "Current Monte Carlo Sample size: 877\n",
      "[[ 1.         -0.18130942  0.49736388]\n",
      " [-0.18130942  1.         -0.04688012]\n",
      " [ 0.49736388 -0.04688012  1.        ]]\n",
      "Step: 7: current parameter_diff: 4.21590743744123, current marginal loglikelihood: -10830.644137405307\n",
      "EM Iteration 8\n"
     ]
    },
    {
     "name": "stderr",
     "output_type": "stream",
     "text": [
      "c:\\Users\\Jesper\\Anaconda3\\lib\\site-packages\\scipy\\stats\\_qmc.py:2039: UserWarning: The balance properties of Sobol' points require n to be a power of 2.\n",
      "  samples = self.engine.random(n)\n"
     ]
    },
    {
     "name": "stdout",
     "output_type": "stream",
     "text": [
      "Current Monte Carlo Sample size: 964\n",
      "[[ 1.         -0.15152568  0.50240847]\n",
      " [-0.15152568  1.         -0.07665482]\n",
      " [ 0.50240847 -0.07665482  1.        ]]\n"
     ]
    },
    {
     "name": "stderr",
     "output_type": "stream",
     "text": [
      "c:\\Users\\Jesper\\Documents\\GitHub\\Knowledge-Growth-Prediction\\em_algorithm\\e_step_mirt_2pl.py:264: RuntimeWarning: divide by zero encountered in log\n",
      "  icc_values), r_item_theta) + np.multiply(np.log(1-icc_values), np.subtract(r_0_theta, r_item_theta))\n",
      "c:\\Users\\Jesper\\Documents\\GitHub\\Knowledge-Growth-Prediction\\em_algorithm\\e_step_mirt_2pl.py:264: RuntimeWarning: invalid value encountered in multiply\n",
      "  icc_values), r_item_theta) + np.multiply(np.log(1-icc_values), np.subtract(r_0_theta, r_item_theta))\n",
      "c:\\Users\\Jesper\\Documents\\GitHub\\Knowledge-Growth-Prediction\\em_algorithm\\m_step_mirt_2pl.py:70: RuntimeWarning: overflow encountered in exp\n",
      "  population = random.choices(population=population_base, weights=np.exp(\n"
     ]
    }
   ],
   "source": [
    "performance_dict = mirt_param_recovery(sample_size=1000, item_dimension=20, latent_dimension=3, q_type=\"pyramid\", girth=False, stop_threshold=10, ensure_id=True, q_share=0.6)"
   ]
  },
  {
   "cell_type": "code",
   "execution_count": 8,
   "metadata": {},
   "outputs": [
    {
     "ename": "NameError",
     "evalue": "name 'performance_dict' is not defined",
     "output_type": "error",
     "traceback": [
      "\u001b[1;31m---------------------------------------------------------------------------\u001b[0m",
      "\u001b[1;31mNameError\u001b[0m                                 Traceback (most recent call last)",
      "\u001b[1;32mc:\\Users\\Jesper\\Documents\\GitHub\\Knowledge-Growth-Prediction\\simulation_experiments.ipynb Zelle 21\u001b[0m in \u001b[0;36m<cell line: 1>\u001b[1;34m()\u001b[0m\n\u001b[1;32m----> <a href='vscode-notebook-cell:/c%3A/Users/Jesper/Documents/GitHub/Knowledge-Growth-Prediction/simulation_experiments.ipynb#X26sZmlsZQ%3D%3D?line=0'>1</a>\u001b[0m print_result(performance_dict, \u001b[39m\"\u001b[39m\u001b[39mWith Covariance Matrix partially aligned to Q-matrix\u001b[39m\u001b[39m\"\u001b[39m)\n",
      "\u001b[1;31mNameError\u001b[0m: name 'performance_dict' is not defined"
     ]
    }
   ],
   "source": [
    "print_result(performance_dict, \"With Covariance Matrix partially aligned to Q-matrix\")"
   ]
  },
  {
   "cell_type": "markdown",
   "metadata": {},
   "source": [
    "------------------------------------\n",
    "##### Results for Pyramid Q-Matrix\n",
    "Latent dimension: 3,  Item dimension: 20, sample size 200 \\\n",
    "Runtime: 121.22 seconds, 46 steps, 2.64 seconds per step \\\n",
    "Optimal marginal Likelihood: -2144.15, Estimated: -2155.08, Initial -2699.63\n",
    "|               |   rmse_A |   rmse_delta |   rmse_sigma |\n",
    "|:--------------|---------:|-------------:|-------------:|\n",
    "| estimated     |  11.0034 |      1.77461 |     0.889828 |\n",
    "| early_initial |  10.5116 |      2.15986 |     0.522199 |\n",
    "\n",
    "------------------------------------\n",
    "##### Results for Pyramid Q-Matrix\n",
    "Latent dimension: 3,  Item dimension: 20, sample size 1000 \\\n",
    "Runtime: 313.22 seconds, 51 steps, 6.14 seconds per step \\\n",
    "Optimal marginal Likelihood: -9452.24, Estimated: -9813.87, Initial -11216.48\n",
    "|               |   rmse_A |   rmse_delta |   rmse_sigma |\n",
    "|:--------------|---------:|-------------:|-------------:|\n",
    "| estimated     |  5.34115 |      1.4068  |     0.425982 |\n",
    "| early_initial |  5.98238 |      2.25109 |     0.234288 |\n",
    "\n",
    "------------------------------------\n",
    "##### Results for Pyramid Q-Matrix\n",
    "Latent dimension: 3,  Item dimension: 30, sample size 2000 \\\n",
    "Runtime: 1521.51 seconds, 76 steps, 20.02 seconds per step \\\n",
    "Optimal marginal Likelihood: -30844.13, Estimated: -32521.34, Initial -37390.6\n",
    "|               |   rmse_A |   rmse_delta |   rmse_sigma |\n",
    "|:--------------|---------:|-------------:|-------------:|\n",
    "| estimated     |  2.55959 |       1.9952 |    0.314331  |\n",
    "| early_initial |  3.32034 |       3.514  |    0.0239562 |\n",
    "\n",
    "------------------------------------\n",
    "##### Results for BFGS for Q_0 with approximated gradient\n",
    "Latent dimension: 3,  Item dimension: 20, sample size 1000 \\\n",
    "Runtime: 350.28 seconds, 64 steps, 5.47 seconds per step \\\n",
    "Optimal marginal Likelihood: -10498.87, Estimated: -11303.0, Initial -12740.14\n",
    "|               |   rmse_A |   rmse_delta |   rmse_sigma |\n",
    "|:--------------|---------:|-------------:|-------------:|\n",
    "| estimated     |  10.2704 |     0.68597  |    0.318713  |\n",
    "| early_initial |  10.4626 |     0.846172 |    0.0895367 |\n",
    "\n",
    "------------------------------------\n",
    "##### Results for BFGS for Q_0 with exact gradient\n",
    "Latent dimension: 3,  Item dimension: 20, sample size 1000 \\\n",
    "Runtime: 152.91 seconds, 31 steps, 4.93 seconds per step \\\n",
    "Optimal marginal Likelihood: -11106.69, Estimated: -11211.51, Initial -12370.23\n",
    "|               |   rmse_A |   rmse_delta |   rmse_sigma |\n",
    "|:--------------|---------:|-------------:|-------------:|\n",
    "| estimated     |  3.5074  |      2.54509 |     0.21123  |\n",
    "| early_initial |  3.51819 |      2.66313 |     0.319647 |\n",
    "\n",
    "------------------------------------\n",
    "##### Results for Newton-Raphson for Q_0 with approximated second derivative\n",
    "Latent dimension: 3,  Item dimension: 20, sample size 1000 \\\n",
    "Runtime: 352.93 seconds, 62 steps, 5.69 seconds per step \\\n",
    "Optimal marginal Likelihood: -10237.22, Estimated: -10482.36, Initial -12569.49\n",
    "|               |   rmse_A |   rmse_delta |   rmse_sigma |\n",
    "|:--------------|---------:|-------------:|-------------:|\n",
    "| estimated     |  5.23694 |      2.45127 |     0.508499 |\n",
    "| early_initial |  5.36172 |      3.29141 |     0.640209 |"
   ]
  },
  {
   "cell_type": "code",
   "execution_count": 13,
   "metadata": {},
   "outputs": [
    {
     "name": "stdout",
     "output_type": "stream",
     "text": [
      "Real latent covariance: [[1.     0.     0.2545]\n",
      " [0.     1.     0.3721]\n",
      " [0.2545 0.3721 1.    ]]\n",
      "Covariance matrix is good: True\n",
      "EM Iteration 2\n"
     ]
    },
    {
     "name": "stderr",
     "output_type": "stream",
     "text": [
      "c:\\Users\\Jesper\\Anaconda3\\lib\\site-packages\\scipy\\stats\\_qmc.py:2039: UserWarning: The balance properties of Sobol' points require n to be a power of 2.\n",
      "  samples = self.engine.random(n)\n"
     ]
    },
    {
     "name": "stdout",
     "output_type": "stream",
     "text": [
      "Current Monte Carlo Sample size: 600\n"
     ]
    },
    {
     "name": "stderr",
     "output_type": "stream",
     "text": [
      "c:\\Users\\Jesper\\Anaconda3\\lib\\site-packages\\scipy\\optimize\\_numdiff.py:576: RuntimeWarning: invalid value encountered in subtract\n",
      "  df = fun(x) - f0\n"
     ]
    },
    {
     "name": "stdout",
     "output_type": "stream",
     "text": [
      "[[nan nan nan]\n",
      " [nan nan nan]\n",
      " [nan nan nan]]\n",
      "[[nan nan nan]\n",
      " [nan nan nan]\n",
      " [nan nan nan]]\n",
      "Invalid Covariance encountered, trying last step covariance\n",
      "Step: 2: current parameter_diff: 41.855085339761395, current marginal loglikelihood: -12550.72345228223\n",
      "EM Iteration 3\n",
      "Current Monte Carlo Sample size: 660\n",
      "[[nan nan nan]\n",
      " [nan nan nan]\n",
      " [nan nan nan]]\n",
      "[[nan nan nan]\n",
      " [nan nan nan]\n",
      " [nan nan nan]]\n",
      "Invalid Covariance encountered, trying last step covariance\n",
      "Step: 3: current parameter_diff: 28.922785136715092, current marginal loglikelihood: -12131.893852917503\n",
      "EM Iteration 4\n",
      "Current Monte Carlo Sample size: 660\n",
      "[[ 1.00000000e+000 -7.56483606e-249 -7.12199634e-243]\n",
      " [-7.56483606e-249  1.00000000e+000 -1.46994029e-260]\n",
      " [-7.12199634e-243 -1.46994029e-260  1.00000000e+000]]\n"
     ]
    },
    {
     "name": "stderr",
     "output_type": "stream",
     "text": [
      "c:\\Users\\Jesper\\Documents\\GitHub\\Knowledge-Growth-Prediction\\em_algorithm\\e_step_mirt_2pl.py:264: RuntimeWarning: divide by zero encountered in log\n",
      "  icc_values), r_item_theta) + np.multiply(np.log(1-icc_values), np.subtract(r_0_theta, r_item_theta))\n",
      "c:\\Users\\Jesper\\Documents\\GitHub\\Knowledge-Growth-Prediction\\em_algorithm\\e_step_mirt_2pl.py:264: RuntimeWarning: invalid value encountered in multiply\n",
      "  icc_values), r_item_theta) + np.multiply(np.log(1-icc_values), np.subtract(r_0_theta, r_item_theta))\n"
     ]
    },
    {
     "name": "stdout",
     "output_type": "stream",
     "text": [
      "Step: 4: current parameter_diff: 24.909956480277785, current marginal loglikelihood: -11869.365012663717\n",
      "EM Iteration 5\n",
      "Current Monte Carlo Sample size: 660\n",
      "[[1.         0.07473132 0.19983603]\n",
      " [0.07473132 1.         0.24058055]\n",
      " [0.19983603 0.24058055 1.        ]]\n",
      "Step: 5: current parameter_diff: 20.731814136925763, current marginal loglikelihood: -11739.105149945846\n",
      "EM Iteration 6\n",
      "Current Monte Carlo Sample size: 660\n",
      "[[1.         0.02395303 0.25925938]\n",
      " [0.02395303 1.         0.26711545]\n",
      " [0.25925938 0.26711545 1.        ]]\n",
      "Step: 6: current parameter_diff: 6.423400003338906, current marginal loglikelihood: -11720.71525563623\n",
      "EM Iteration 7\n",
      "Current Monte Carlo Sample size: 726\n",
      "[[1.         0.02766565 0.2770886 ]\n",
      " [0.02766565 1.         0.30801604]\n",
      " [0.2770886  0.30801604 1.        ]]\n",
      "Step: 7: current parameter_diff: 5.599935651052099, current marginal loglikelihood: -11726.261698793634\n",
      "EM Iteration 8\n",
      "Current Monte Carlo Sample size: 798\n",
      "[[1.         0.03611896 0.29298871]\n",
      " [0.03611896 1.         0.33452034]\n",
      " [0.29298871 0.33452034 1.        ]]\n"
     ]
    },
    {
     "name": "stderr",
     "output_type": "stream",
     "text": [
      "c:\\Users\\Jesper\\Documents\\GitHub\\Knowledge-Growth-Prediction\\em_algorithm\\m_step_mirt_2pl.py:70: RuntimeWarning: overflow encountered in exp\n",
      "  population = random.choices(population=population_base, weights=np.exp(\n"
     ]
    },
    {
     "name": "stdout",
     "output_type": "stream",
     "text": [
      "Step: 8: current parameter_diff: 8.88763105930743, current marginal loglikelihood: -11739.130271363902\n",
      "EM Iteration 9\n",
      "Current Monte Carlo Sample size: 877\n",
      "[[1.         0.04450944 0.2860444 ]\n",
      " [0.04450944 1.         0.34325432]\n",
      " [0.2860444  0.34325432 1.        ]]\n",
      "Step: 9: current parameter_diff: 6.972349751947515, current marginal loglikelihood: -11721.612152810394\n",
      "EM Iteration 10\n",
      "Current Monte Carlo Sample size: 964\n",
      "[[1.         0.04267512 0.28987184]\n",
      " [0.04267512 1.         0.33339445]\n",
      " [0.28987184 0.33339445 1.        ]]\n",
      "Step: 10: current parameter_diff: 13.349635834760017, current marginal loglikelihood: -11712.217814439908\n",
      "EM Iteration 11\n",
      "Current Monte Carlo Sample size: 1060\n",
      "[[1.         0.05402791 0.27611641]\n",
      " [0.05402791 1.         0.32730623]\n",
      " [0.27611641 0.32730623 1.        ]]\n",
      "Step: 11: current parameter_diff: 13.121900001706786, current marginal loglikelihood: -11752.478352914124\n",
      "EM Iteration 12\n",
      "Current Monte Carlo Sample size: 1166\n",
      "[[1.         0.03472167 0.29289335]\n",
      " [0.03472167 1.         0.31423842]\n",
      " [0.29289335 0.31423842 1.        ]]\n",
      "Step: 12: current parameter_diff: 12.92705941994013, current marginal loglikelihood: -11773.525002062834\n",
      "EM Iteration 13\n",
      "Current Monte Carlo Sample size: 1282\n",
      "[[1.         0.04206202 0.28354236]\n",
      " [0.04206202 1.         0.34677087]\n",
      " [0.28354236 0.34677087 1.        ]]\n",
      "Step: 13: current parameter_diff: 14.069785350523503, current marginal loglikelihood: -11888.973247891026\n",
      "EM Iteration 14\n",
      "Current Monte Carlo Sample size: 1282\n",
      "[[1.         0.04470603 0.30510719]\n",
      " [0.04470603 1.         0.31712275]\n",
      " [0.30510719 0.31712275 1.        ]]\n",
      "Step: 14: current parameter_diff: 12.996930583013478, current marginal loglikelihood: -11919.620612639617\n",
      "EM Iteration 15\n",
      "Current Monte Carlo Sample size: 1410\n",
      "[[1.         0.03289506 0.31780259]\n",
      " [0.03289506 1.         0.33049459]\n",
      " [0.31780259 0.33049459 1.        ]]\n",
      "Step: 15: current parameter_diff: 12.407788859306613, current marginal loglikelihood: -11918.172775706451\n",
      "EM Iteration 16\n",
      "Current Monte Carlo Sample size: 1551\n",
      "[[1.         0.03358675 0.32117101]\n",
      " [0.03358675 1.         0.34333722]\n",
      " [0.32117101 0.34333722 1.        ]]\n",
      "Step: 16: current parameter_diff: 15.80893260174836, current marginal loglikelihood: -12160.280411491387\n",
      "EM Iteration 17\n",
      "Current Monte Carlo Sample size: 1706\n",
      "[[1.         0.03828454 0.3173103 ]\n",
      " [0.03828454 1.         0.37550231]\n",
      " [0.3173103  0.37550231 1.        ]]\n",
      "Step: 17: current parameter_diff: 17.733213121984406, current marginal loglikelihood: -12120.335550218635\n",
      "EM Iteration 18\n",
      "Current Monte Carlo Sample size: 1706\n",
      "[[1.         0.03947006 0.30946325]\n",
      " [0.03947006 1.         0.42371964]\n",
      " [0.30946325 0.42371964 1.        ]]\n",
      "Step: 18: current parameter_diff: 16.20566266842648, current marginal loglikelihood: -12159.97257104385\n",
      "EM Iteration 19\n",
      "Current Monte Carlo Sample size: 1876\n",
      "[[1.         0.05036364 0.315018  ]\n",
      " [0.05036364 1.         0.45976397]\n",
      " [0.315018   0.45976397 1.        ]]\n",
      "Step: 19: current parameter_diff: 17.15942650707747, current marginal loglikelihood: -12319.975242536013\n",
      "EM Iteration 20\n",
      "Current Monte Carlo Sample size: 2063\n",
      "[[1.         0.05564366 0.33809592]\n",
      " [0.05564366 1.         0.46824847]\n",
      " [0.33809592 0.46824847 1.        ]]\n",
      "Step: 20: current parameter_diff: 16.691893000641358, current marginal loglikelihood: -12259.903212209978\n",
      "EM Iteration 21\n",
      "Current Monte Carlo Sample size: 2269\n",
      "[[1.         0.08912059 0.32975034]\n",
      " [0.08912059 1.         0.45420422]\n",
      " [0.32975034 0.45420422 1.        ]]\n",
      "Step: 21: current parameter_diff: 23.66059479399594, current marginal loglikelihood: -12604.479047689154\n",
      "EM Iteration 22\n",
      "Current Monte Carlo Sample size: 2495\n",
      "[[1.         0.08254014 0.32608357]\n",
      " [0.08254014 1.         0.47241503]\n",
      " [0.32608357 0.47241503 1.        ]]\n",
      "Step: 22: current parameter_diff: 20.38471152818203, current marginal loglikelihood: -12431.250915065328\n",
      "EM Iteration 23\n",
      "Current Monte Carlo Sample size: 2744\n",
      "[[1.         0.08504754 0.3504352 ]\n",
      " [0.08504754 1.         0.49784505]\n",
      " [0.3504352  0.49784505 1.        ]]\n",
      "Step: 23: current parameter_diff: 24.10400754464389, current marginal loglikelihood: -12276.607911791718\n",
      "EM Iteration 24\n",
      "Current Monte Carlo Sample size: 3018\n",
      "[[1.         0.10774412 0.35177853]\n",
      " [0.10774412 1.         0.45853182]\n",
      " [0.35177853 0.45853182 1.        ]]\n",
      "Step: 24: current parameter_diff: 22.541689707305267, current marginal loglikelihood: -12489.193570693122\n",
      "EM Iteration 25\n",
      "Current Monte Carlo Sample size: 3319\n",
      "[[1.         0.10661726 0.34589446]\n",
      " [0.10661726 1.         0.41512853]\n",
      " [0.34589446 0.41512853 1.        ]]\n",
      "Step: 25: current parameter_diff: 25.243161391043913, current marginal loglikelihood: -12530.126933447274\n",
      "EM Iteration 26\n",
      "Current Monte Carlo Sample size: 3650\n",
      "[[1.         0.05332288 0.32572397]\n",
      " [0.05332288 1.         0.32202492]\n",
      " [0.32572397 0.32202492 1.        ]]\n",
      "Step: 26: current parameter_diff: 22.217647900015496, current marginal loglikelihood: -12327.542608689702\n",
      "EM Iteration 27\n",
      "Current Monte Carlo Sample size: 4015\n",
      "[[1.         0.04531018 0.29629237]\n",
      " [0.04531018 1.         0.3749033 ]\n",
      " [0.29629237 0.3749033  1.        ]]\n",
      "Step: 27: current parameter_diff: 24.456232729238387, current marginal loglikelihood: -12569.487190457674\n",
      "EM Iteration 28\n",
      "Current Monte Carlo Sample size: 4015\n",
      "[[1.         0.0664822  0.2553332 ]\n",
      " [0.0664822  1.         0.32259075]\n",
      " [0.2553332  0.32259075 1.        ]]\n",
      "Step: 28: current parameter_diff: 21.160665319248636, current marginal loglikelihood: -12482.746614190011\n",
      "EM Iteration 29\n",
      "Current Monte Carlo Sample size: 4416\n",
      "[[1.         0.08727014 0.22960587]\n",
      " [0.08727014 1.         0.33549268]\n",
      " [0.22960587 0.33549268 1.        ]]\n",
      "Step: 29: current parameter_diff: 24.144751376772238, current marginal loglikelihood: -12540.769966653768\n",
      "EM Iteration 30\n",
      "Current Monte Carlo Sample size: 4857\n",
      "[[1.         0.0830018  0.20951295]\n",
      " [0.0830018  1.         0.32728332]\n",
      " [0.20951295 0.32728332 1.        ]]\n",
      "Step: 30: current parameter_diff: 18.567347369526907, current marginal loglikelihood: -12605.802540473838\n",
      "EM Iteration 31\n",
      "Current Monte Carlo Sample size: 5342\n",
      "[[1.         0.10384263 0.19035454]\n",
      " [0.10384263 1.         0.33995062]\n",
      " [0.19035454 0.33995062 1.        ]]\n",
      "Step: 31: current parameter_diff: 18.27550659381697, current marginal loglikelihood: -12488.402669715779\n",
      "EM Iteration 32\n",
      "Current Monte Carlo Sample size: 5876\n",
      "[[1.         0.09216813 0.16231849]\n",
      " [0.09216813 1.         0.34736474]\n",
      " [0.16231849 0.34736474 1.        ]]\n",
      "Step: 32: current parameter_diff: 18.659892839891487, current marginal loglikelihood: -12963.804592738707\n",
      "EM Iteration 33\n",
      "Current Monte Carlo Sample size: 6463\n",
      "[[1.         0.08934729 0.16282502]\n",
      " [0.08934729 1.         0.3309664 ]\n",
      " [0.16282502 0.3309664  1.        ]]\n",
      "Step: 33: current parameter_diff: 23.50586764065138, current marginal loglikelihood: -13510.649271026294\n",
      "EM Iteration 34\n",
      "Current Monte Carlo Sample size: 7109\n",
      "[[1.         0.08710583 0.15552528]\n",
      " [0.08710583 1.         0.29611591]\n",
      " [0.15552528 0.29611591 1.        ]]\n",
      "Step: 34: current parameter_diff: 21.960943064628275, current marginal loglikelihood: -13944.259625971496\n",
      "EM Iteration 35\n",
      "Current Monte Carlo Sample size: 7109\n",
      "[[1.         0.07793025 0.16516396]\n",
      " [0.07793025 1.         0.36413403]\n",
      " [0.16516396 0.36413403 1.        ]]\n",
      "Step: 35: current parameter_diff: 27.121295291247954, current marginal loglikelihood: -13503.312147530629\n",
      "EM Iteration 36\n",
      "Current Monte Carlo Sample size: 7819\n",
      "[[1.         0.10383503 0.15573248]\n",
      " [0.10383503 1.         0.38227496]\n",
      " [0.15573248 0.38227496 1.        ]]\n",
      "Step: 36: current parameter_diff: 20.49072253096319, current marginal loglikelihood: -13457.903630401384\n",
      "EM Iteration 37\n",
      "Current Monte Carlo Sample size: 8600\n",
      "[[1.         0.0952063  0.1697639 ]\n",
      " [0.0952063  1.         0.46301737]\n",
      " [0.1697639  0.46301737 1.        ]]\n",
      "Step: 37: current parameter_diff: 27.90481089780214, current marginal loglikelihood: -12706.910698711592\n",
      "EM Iteration 38\n",
      "Current Monte Carlo Sample size: 9460\n",
      "[[1.         0.11529993 0.26172741]\n",
      " [0.11529993 1.         0.55011103]\n",
      " [0.26172741 0.55011103 1.        ]]\n",
      "Step: 38: current parameter_diff: 25.492536506460198, current marginal loglikelihood: -12568.140485448821\n",
      "EM Iteration 39\n",
      "Current Monte Carlo Sample size: 10406\n",
      "[[1.         0.10827926 0.31252693]\n",
      " [0.10827926 1.         0.47192521]\n",
      " [0.31252693 0.47192521 1.        ]]\n",
      "Step: 39: current parameter_diff: 23.39773718705719, current marginal loglikelihood: -12458.470015244868\n",
      "EM Iteration 40\n",
      "Current Monte Carlo Sample size: 11446\n",
      "[[1.         0.08448759 0.34971178]\n",
      " [0.08448759 1.         0.4185697 ]\n",
      " [0.34971178 0.4185697  1.        ]]\n",
      "Step: 40: current parameter_diff: 25.01324472722742, current marginal loglikelihood: -12669.061288880423\n",
      "EM Iteration 41\n",
      "Current Monte Carlo Sample size: 12590\n",
      "[[ 1.00000000e+000 -2.61463218e-102 -1.08935164e-109]\n",
      " [-2.61463218e-102  1.00000000e+000 -4.18362278e-029]\n",
      " [-1.08935164e-109 -4.18362278e-029  1.00000000e+000]]\n",
      "Step: 41: current parameter_diff: 21.568233132762924, current marginal loglikelihood: -12849.955625780705\n",
      "EM Iteration 42\n",
      "Current Monte Carlo Sample size: 13849\n"
     ]
    },
    {
     "ename": "KeyboardInterrupt",
     "evalue": "",
     "output_type": "error",
     "traceback": [
      "\u001b[1;31m---------------------------------------------------------------------------\u001b[0m",
      "\u001b[1;31mKeyboardInterrupt\u001b[0m                         Traceback (most recent call last)",
      "\u001b[1;32mc:\\Users\\Jesper\\Documents\\GitHub\\Knowledge-Growth-Prediction\\simulation_experiments.ipynb Zelle 23\u001b[0m in \u001b[0;36m<cell line: 1>\u001b[1;34m()\u001b[0m\n\u001b[1;32m----> <a href='vscode-notebook-cell:/c%3A/Users/Jesper/Documents/GitHub/Knowledge-Growth-Prediction/simulation_experiments.ipynb#X31sZmlsZQ%3D%3D?line=0'>1</a>\u001b[0m performance_dict \u001b[39m=\u001b[39m mirt_param_recovery(sample_size\u001b[39m=\u001b[39;49m\u001b[39m1000\u001b[39;49m, item_dimension\u001b[39m=\u001b[39;49m\u001b[39m30\u001b[39;49m, latent_dimension\u001b[39m=\u001b[39;49m\u001b[39m3\u001b[39;49m, q_type\u001b[39m=\u001b[39;49m\u001b[39m\"\u001b[39;49m\u001b[39mfull\u001b[39;49m\u001b[39m\"\u001b[39;49m, girth\u001b[39m=\u001b[39;49m\u001b[39mFalse\u001b[39;49;00m, stop_threshold\u001b[39m=\u001b[39;49m\u001b[39m10\u001b[39;49m, q_share\u001b[39m=\u001b[39;49m\u001b[39m0.0\u001b[39;49m)\n",
      "\u001b[1;32mc:\\Users\\Jesper\\Documents\\GitHub\\Knowledge-Growth-Prediction\\simulation_experiments.ipynb Zelle 23\u001b[0m in \u001b[0;36mmirt_param_recovery\u001b[1;34m(sample_size, item_dimension, latent_dimension, q_type, girth, stop_threshold, ensure_id, q_share)\u001b[0m\n\u001b[0;32m     <a href='vscode-notebook-cell:/c%3A/Users/Jesper/Documents/GitHub/Knowledge-Growth-Prediction/simulation_experiments.ipynb#X31sZmlsZQ%3D%3D?line=32'>33</a>\u001b[0m \u001b[39m#Fit Model\u001b[39;00m\n\u001b[0;32m     <a href='vscode-notebook-cell:/c%3A/Users/Jesper/Documents/GitHub/Knowledge-Growth-Prediction/simulation_experiments.ipynb#X31sZmlsZQ%3D%3D?line=33'>34</a>\u001b[0m start_time \u001b[39m=\u001b[39m time\u001b[39m.\u001b[39mtime()\n\u001b[1;32m---> <a href='vscode-notebook-cell:/c%3A/Users/Jesper/Documents/GitHub/Knowledge-Growth-Prediction/simulation_experiments.ipynb#X31sZmlsZQ%3D%3D?line=34'>35</a>\u001b[0m em\u001b[39m.\u001b[39;49mfit(sample[\u001b[39m\"\u001b[39;49m\u001b[39mearly_responses\u001b[39;49m\u001b[39m\"\u001b[39;49m], max_iter\u001b[39m=\u001b[39;49m\u001b[39m100\u001b[39;49m, stop_threshold\u001b[39m=\u001b[39;49mstop_threshold)\n\u001b[0;32m     <a href='vscode-notebook-cell:/c%3A/Users/Jesper/Documents/GitHub/Knowledge-Growth-Prediction/simulation_experiments.ipynb#X31sZmlsZQ%3D%3D?line=35'>36</a>\u001b[0m run_time \u001b[39m=\u001b[39m  (time\u001b[39m.\u001b[39mtime() \u001b[39m-\u001b[39m start_time)\n\u001b[0;32m     <a href='vscode-notebook-cell:/c%3A/Users/Jesper/Documents/GitHub/Knowledge-Growth-Prediction/simulation_experiments.ipynb#X31sZmlsZQ%3D%3D?line=37'>38</a>\u001b[0m \u001b[39m#Measure Performance\u001b[39;00m\n",
      "File \u001b[1;32mc:\\Users\\Jesper\\Documents\\GitHub\\Knowledge-Growth-Prediction\\em_algorithm\\em_algorithm.py:43\u001b[0m, in \u001b[0;36mem_algorithm.fit\u001b[1;34m(self, data, hyper_params, max_iter, stop_threshold)\u001b[0m\n\u001b[0;32m     41\u001b[0m last_step_marginal_loglikelihood \u001b[39m=\u001b[39m marginal_loglikelihood\u001b[39m.\u001b[39mcopy()\n\u001b[0;32m     42\u001b[0m \u001b[39m# print(\"E-step\")\u001b[39;00m\n\u001b[1;32m---> 43\u001b[0m posterior_expectation \u001b[39m=\u001b[39m \u001b[39mself\u001b[39;49m\u001b[39m.\u001b[39;49me_step\u001b[39m.\u001b[39;49mstep(\n\u001b[0;32m     44\u001b[0m     response_data\u001b[39m=\u001b[39;49mdata, \u001b[39miter\u001b[39;49m\u001b[39m=\u001b[39;49mi)\n\u001b[0;32m     45\u001b[0m \u001b[39m# print(\"M-step\")\u001b[39;00m\n\u001b[0;32m     46\u001b[0m current_parameters, log_likelihood \u001b[39m=\u001b[39m \u001b[39mself\u001b[39m\u001b[39m.\u001b[39mm_step\u001b[39m.\u001b[39mstep(\n\u001b[0;32m     47\u001b[0m     pe_functions\u001b[39m=\u001b[39mposterior_expectation)\n",
      "File \u001b[1;32mc:\\Users\\Jesper\\Documents\\GitHub\\Knowledge-Growth-Prediction\\em_algorithm\\e_step_mirt_2pl.py:97\u001b[0m, in \u001b[0;36me_step_ga_mml.step\u001b[1;34m(self, response_data, current_item_parameters, current_person_parameters, iter)\u001b[0m\n\u001b[0;32m     94\u001b[0m \u001b[39mprint\u001b[39m(\u001b[39m\"\u001b[39m\u001b[39mCurrent Monte Carlo Sample size: \u001b[39m\u001b[39m{0}\u001b[39;00m\u001b[39m\"\u001b[39m\u001b[39m.\u001b[39mformat(\u001b[39mself\u001b[39m\u001b[39m.\u001b[39mN))\n\u001b[0;32m     95\u001b[0m theta_sample \u001b[39m=\u001b[39m \u001b[39mself\u001b[39m\u001b[39m.\u001b[39mmodel\u001b[39m.\u001b[39msample_competency(\n\u001b[0;32m     96\u001b[0m     sample_size\u001b[39m=\u001b[39m\u001b[39mself\u001b[39m\u001b[39m.\u001b[39mN, qmc\u001b[39m=\u001b[39m\u001b[39mTrue\u001b[39;00m)\n\u001b[1;32m---> 97\u001b[0m \u001b[39mreturn\u001b[39;00m(\u001b[39mself\u001b[39;49m\u001b[39m.\u001b[39;49mprepare_q_functions(theta_sample, response_data, normalising_constant_array))\n",
      "File \u001b[1;32mc:\\Users\\Jesper\\Documents\\GitHub\\Knowledge-Growth-Prediction\\em_algorithm\\e_step_mirt_2pl.py:105\u001b[0m, in \u001b[0;36me_step_ga_mml.prepare_q_functions\u001b[1;34m(self, theta_sample, response_data, normalising_constant_array)\u001b[0m\n\u001b[0;32m    102\u001b[0m \u001b[39m# Calculate repeating inner functions\u001b[39;00m\n\u001b[0;32m    103\u001b[0m r_0_theta \u001b[39m=\u001b[39m \u001b[39mself\u001b[39m\u001b[39m.\u001b[39mr_0(\n\u001b[0;32m    104\u001b[0m     theta_sample, normalising_constant_array, response_data)\n\u001b[1;32m--> 105\u001b[0m r_item_theta_list \u001b[39m=\u001b[39m [\u001b[39mself\u001b[39m\u001b[39m.\u001b[39mr_item(item, theta_sample, normalising_constant_array, response_data)\n\u001b[0;32m    106\u001b[0m                      \u001b[39mfor\u001b[39;00m item \u001b[39min\u001b[39;00m \u001b[39mrange\u001b[39m(\u001b[39m0\u001b[39m, J)]\n\u001b[0;32m    107\u001b[0m \u001b[39m# Calculate final q-functions\u001b[39;00m\n\u001b[0;32m    108\u001b[0m q_0 \u001b[39m=\u001b[39m \u001b[39mself\u001b[39m\u001b[39m.\u001b[39mq_0(\n\u001b[0;32m    109\u001b[0m     theta\u001b[39m=\u001b[39mtheta_sample, normalising_constant_array\u001b[39m=\u001b[39mnormalising_constant_array, response_data\u001b[39m=\u001b[39mresponse_data)\n",
      "File \u001b[1;32mc:\\Users\\Jesper\\Documents\\GitHub\\Knowledge-Growth-Prediction\\em_algorithm\\e_step_mirt_2pl.py:105\u001b[0m, in \u001b[0;36m<listcomp>\u001b[1;34m(.0)\u001b[0m\n\u001b[0;32m    102\u001b[0m \u001b[39m# Calculate repeating inner functions\u001b[39;00m\n\u001b[0;32m    103\u001b[0m r_0_theta \u001b[39m=\u001b[39m \u001b[39mself\u001b[39m\u001b[39m.\u001b[39mr_0(\n\u001b[0;32m    104\u001b[0m     theta_sample, normalising_constant_array, response_data)\n\u001b[1;32m--> 105\u001b[0m r_item_theta_list \u001b[39m=\u001b[39m [\u001b[39mself\u001b[39;49m\u001b[39m.\u001b[39;49mr_item(item, theta_sample, normalising_constant_array, response_data)\n\u001b[0;32m    106\u001b[0m                      \u001b[39mfor\u001b[39;00m item \u001b[39min\u001b[39;00m \u001b[39mrange\u001b[39m(\u001b[39m0\u001b[39m, J)]\n\u001b[0;32m    107\u001b[0m \u001b[39m# Calculate final q-functions\u001b[39;00m\n\u001b[0;32m    108\u001b[0m q_0 \u001b[39m=\u001b[39m \u001b[39mself\u001b[39m\u001b[39m.\u001b[39mq_0(\n\u001b[0;32m    109\u001b[0m     theta\u001b[39m=\u001b[39mtheta_sample, normalising_constant_array\u001b[39m=\u001b[39mnormalising_constant_array, response_data\u001b[39m=\u001b[39mresponse_data)\n",
      "File \u001b[1;32mc:\\Users\\Jesper\\Documents\\GitHub\\Knowledge-Growth-Prediction\\em_algorithm\\e_step_mirt_2pl.py:182\u001b[0m, in \u001b[0;36me_step_ga_mml.r_item\u001b[1;34m(self, item, theta, normalising_constant_array, response_data)\u001b[0m\n\u001b[0;32m    181\u001b[0m \u001b[39mdef\u001b[39;00m \u001b[39mr_item\u001b[39m(\u001b[39mself\u001b[39m, item: \u001b[39mint\u001b[39m, theta: np\u001b[39m.\u001b[39marray, normalising_constant_array, response_data):\n\u001b[1;32m--> 182\u001b[0m     numerator \u001b[39m=\u001b[39m np\u001b[39m.\u001b[39marray(\u001b[39mself\u001b[39;49m\u001b[39m.\u001b[39;49mmodel\u001b[39m.\u001b[39;49mresponse_matrix_probability(\n\u001b[0;32m    183\u001b[0m         theta\u001b[39m=\u001b[39;49mtheta, response_matrix\u001b[39m=\u001b[39;49mresponse_data\u001b[39m.\u001b[39;49mto_numpy()))\n\u001b[0;32m    184\u001b[0m     \u001b[39m# This coefficient is different to r_0\u001b[39;00m\n\u001b[0;32m    185\u001b[0m     numerator \u001b[39m=\u001b[39m np\u001b[39m.\u001b[39mmultiply(\n\u001b[0;32m    186\u001b[0m         numerator, response_data\u001b[39m.\u001b[39miloc[:, item]\u001b[39m.\u001b[39mto_numpy()\u001b[39m.\u001b[39mtranspose())\n",
      "File \u001b[1;32mc:\\Users\\Jesper\\Documents\\GitHub\\Knowledge-Growth-Prediction\\models\\mirt_2pl.py:150\u001b[0m, in \u001b[0;36mmirt_2pl.response_matrix_probability\u001b[1;34m(self, theta, response_matrix, A, delta)\u001b[0m\n\u001b[0;32m    147\u001b[0m \u001b[39m# We want to apply each response vector to each competency-induced correct-response-probability\u001b[39;00m\n\u001b[0;32m    148\u001b[0m correct_response_probabilities \u001b[39m=\u001b[39m np\u001b[39m.\u001b[39mexpand_dims(\n\u001b[0;32m    149\u001b[0m     correct_response_probabilities, axis\u001b[39m=\u001b[39m\u001b[39m1\u001b[39m)\n\u001b[1;32m--> 150\u001b[0m probability_vector \u001b[39m=\u001b[39m np\u001b[39m.\u001b[39;49madd(np\u001b[39m.\u001b[39;49mmultiply(correct_response_probabilities, response_matrix),\n\u001b[0;32m    151\u001b[0m                             np\u001b[39m.\u001b[39;49mmultiply(np\u001b[39m.\u001b[39;49msubtract(\u001b[39m1\u001b[39;49m, correct_response_probabilities), np\u001b[39m.\u001b[39;49msubtract(\u001b[39m1\u001b[39;49m, response_matrix)))\n\u001b[0;32m    152\u001b[0m probability \u001b[39m=\u001b[39m np\u001b[39m.\u001b[39mprod(probability_vector, axis\u001b[39m=\u001b[39m\u001b[39m2\u001b[39m)\n\u001b[0;32m    153\u001b[0m \u001b[39mreturn\u001b[39;00m(probability)\n",
      "\u001b[1;31mKeyboardInterrupt\u001b[0m: "
     ]
    }
   ],
   "source": [
    "performance_dict = mirt_param_recovery(sample_size=1000, item_dimension=30, latent_dimension=3, q_type=\"full\", girth=False, stop_threshold=10, q_share=0.0)"
   ]
  },
  {
   "cell_type": "code",
   "execution_count": 12,
   "metadata": {},
   "outputs": [
    {
     "name": "stdout",
     "output_type": "stream",
     "text": [
      "------------------------------------\n",
      "##### Results for With fixed Discrimination sampling and BFGS\n",
      "Latent dimension: 3,  Item dimension: 20, sample size 1000 \\\n",
      "Runtime: 63.64 seconds, 14 steps, 4.55 seconds per step \\\n",
      "Optimal marginal Likelihood: -8684.81, Estimated: -8676.2, Initial -9809.83\n",
      "|               |   rmse_A |   rmse_delta |   rmse_sigma |\n",
      "|:--------------|---------:|-------------:|-------------:|\n",
      "| estimated     | 0.933735 |     0.514423 |    0.0383988 |\n",
      "| early_initial | 2.67536  |     0.636687 |    0.231996  |\n"
     ]
    }
   ],
   "source": [
    "print_result(performance_dict, \"With fixed Discrimination sampling and BFGS\")"
   ]
  },
  {
   "cell_type": "markdown",
   "metadata": {},
   "source": [
    "------------------------------------\n",
    "##### Results for With BFGS as covariance optimization Algorithm\n",
    "Latent dimension: 3,  Item dimension: 20, sample size 1000 \\\n",
    "Runtime: 160.7 seconds, 20 steps, 8.04 seconds per step \\\n",
    "Optimal marginal Likelihood: -11451.44, Estimated: -11746.37, Initial -12757.23\n",
    "|               |   rmse_A |   rmse_delta |   rmse_sigma |\n",
    "|:--------------|---------:|-------------:|-------------:|\n",
    "| estimated     |  4.12413 |      1.19297 |     0.539132 |\n",
    "| early_initial |  4.06187 |      1.22103 |     0.159225 |\n",
    "\n",
    "------------------------------------\n",
    "##### Results for With Cholesky covariance decomposition\n",
    "Latent dimension: 3,  Item dimension: 20, sample size 1000 \\\n",
    "Runtime: 60.82 seconds, 14 steps, 4.34 seconds per step \\\n",
    "Optimal marginal Likelihood: -11369.92, Estimated: -12102.54, Initial -13629.98\n",
    "|               |   rmse_A |   rmse_delta |   rmse_sigma |\n",
    "|:--------------|---------:|-------------:|-------------:|\n",
    "| estimated     |  2.47435 |     0.400838 |     0.181127 |\n",
    "| early_initial |  2.98819 |     0.686696 |     0.142997 |\n",
    "\n",
    "------------------------------------\n",
    "##### Results for With Cholesky covariance decomposition and BFGS\n",
    "Latent dimension: 3,  Item dimension: 30, sample size 1000 \\\n",
    "Runtime: 94.77 seconds, 12 steps, 7.9 seconds per step \\\n",
    "Optimal marginal Likelihood: -15960.47, Estimated: -17344.15, Initial -19786.45\n",
    "|               |   rmse_A |   rmse_delta |   rmse_sigma |\n",
    "|:--------------|---------:|-------------:|-------------:|\n",
    "| estimated     |  48.8803 |     0.777924 |     0.149531 |\n",
    "| early_initial |  49.0831 |     1.33755  |     0.207159 |\n",
    "\n",
    "------------------------------------\n",
    "##### Results for With fixed Discrimination sampling and BFGS\n",
    "Latent dimension: 3,  Item dimension: 30, sample size 1000 \\\n",
    "Runtime: 91.68 seconds, 12 steps, 7.64 seconds per step \\\n",
    "Optimal marginal Likelihood: -12149.74, Estimated: -12157.89, Initial -14965.74\n",
    "|               |   rmse_A |   rmse_delta |   rmse_sigma |\n",
    "|:--------------|---------:|-------------:|-------------:|\n",
    "| estimated     |  0.3929  |     0.249323 |    0.0275205 |\n",
    "| early_initial |  2.20296 |     0.582838 |    0.380006  |"
   ]
  },
  {
   "cell_type": "markdown",
   "metadata": {},
   "source": [
    "## Experiment 2: Competency Gain Prediction"
   ]
  }
 ],
 "metadata": {
  "kernelspec": {
   "display_name": "Python 3.8.5 ('base')",
   "language": "python",
   "name": "python3"
  },
  "language_info": {
   "codemirror_mode": {
    "name": "ipython",
    "version": 3
   },
   "file_extension": ".py",
   "mimetype": "text/x-python",
   "name": "python",
   "nbconvert_exporter": "python",
   "pygments_lexer": "ipython3",
   "version": "3.8.5"
  },
  "orig_nbformat": 4,
  "vscode": {
   "interpreter": {
    "hash": "f96c9f0abe66cee0a81d860b29e85a2729d567fff345231565bc586735399795"
   }
  }
 },
 "nbformat": 4,
 "nbformat_minor": 2
}
