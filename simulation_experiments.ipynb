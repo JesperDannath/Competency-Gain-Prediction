{
 "cells": [
  {
   "cell_type": "code",
   "execution_count": 1,
   "metadata": {},
   "outputs": [
    {
     "name": "stdout",
     "output_type": "stream",
     "text": [
      "C:\\Users\\Jesper\\Documents\\GitHub\\Knowledge-Growth-Prediction\\models\n"
     ]
    }
   ],
   "source": [
    "import numpy as np\n",
    "from em_algorithm import em_algorithm\n",
    "from simulation_framework.simulate_competency import respondent_population\n",
    "from simulation_framework.simulate_responses import response_simulation\n",
    "from scipy.stats import multivariate_normal"
   ]
  },
  {
   "cell_type": "markdown",
   "metadata": {},
   "source": [
    "## Experiment 1: MIRT-2PL Parameter Recovery"
   ]
  },
  {
   "cell_type": "code",
   "execution_count": 2,
   "metadata": {},
   "outputs": [],
   "source": [
    "from unittest import result\n",
    "\n",
    "\n",
    "def mirt_param_recovery(sample_size) -> dict:\n",
    "    latent_dimension = 2\n",
    "    item_dimension = 4\n",
    "\n",
    "    #Define Population\n",
    "    cov = np.array([[1,0.2],\n",
    "                    [0.2,1]])\n",
    "\n",
    "    latent_distribution = multivariate_normal(mean=np.array([0,0]), cov=cov)\n",
    "    population = respondent_population(latent_dimension=latent_dimension, latent_distribution=latent_distribution)\n",
    "\n",
    "    #Define Test\n",
    "    A = np.array([[1,0],\n",
    "                [1,0],\n",
    "                [0,1],\n",
    "                [1,1]])\n",
    "    delta = np.array([0, 0.5, 1, 0])\n",
    "    early_item_parameters = {\"A\": A, \"delta\": delta, \"item_dimension\": item_dimension, \"latent_dimension\": latent_dimension}\n",
    "\n",
    "    #Sample responses\n",
    "    response_simulation_obj = response_simulation(population=population, early_item_params=early_item_parameters)\n",
    "    sample = response_simulation_obj.sample(100)\n",
    "\n",
    "    #Fit Parameters\n",
    "\n",
    "    result_dict = {\"sample\": sample,\n",
    "                   \"early_item_parameters\": early_item_parameters,\n",
    "                   \"latent_covariance\": cov,\n",
    "                   \"estimated_parameters\": None}\n",
    "    return(result_dict)\n"
   ]
  },
  {
   "cell_type": "code",
   "execution_count": 3,
   "metadata": {},
   "outputs": [
    {
     "name": "stdout",
     "output_type": "stream",
     "text": [
      "EM Iteration 1\n",
      "E-step\n",
      "M-step\n",
      "Maximize Q-0\n",
      "Highest Current Fitness:\n",
      "-263.0941639964238\n",
      "Length of Population = 20\n",
      "Highest Current Fitness:\n",
      "-263.0941639964238\n",
      "Length of Population = 30\n",
      "Maximize the Q_i's\n",
      "Highest Current Fitness:\n",
      "-84.51012214667564\n",
      "Length of Population = 20\n",
      "Highest Current Fitness:\n",
      "-91.71309004604373\n",
      "Length of Population = 20\n",
      "Highest Current Fitness:\n",
      "-91.71309004604373\n",
      "Length of Population = 30\n",
      "Highest Current Fitness:\n",
      "-85.82431741567623\n",
      "Length of Population = 20\n",
      "Highest Current Fitness:\n",
      "-89.51867063587132\n",
      "Length of Population = 20\n",
      "Highest Current Fitness:\n",
      "-89.51867063587132\n",
      "Length of Population = 30\n",
      "Step: 1: current parameter_diff: 9.124665985337366, current data likelihood: 0.0\n",
      "EM Iteration 2\n",
      "E-step\n"
     ]
    },
    {
     "name": "stderr",
     "output_type": "stream",
     "text": [
      "c:\\Users\\Jesper\\anaconda3\\lib\\site-packages\\scipy\\stats\\_multivariate.py:664: RuntimeWarning: covariance is not positive-semidefinite.\n",
      "  out = random_state.multivariate_normal(mean, cov, size)\n"
     ]
    },
    {
     "name": "stdout",
     "output_type": "stream",
     "text": [
      "M-step\n",
      "Maximize Q-0\n",
      "Highest Current Fitness:\n",
      "-281.4190533716478\n",
      "Length of Population = 20\n",
      "Maximize the Q_i's\n",
      "Highest Current Fitness:\n",
      "-77.51199061507559\n",
      "Length of Population = 20\n",
      "Highest Current Fitness:\n",
      "-127.6293846886314\n",
      "Length of Population = 20\n",
      "Highest Current Fitness:\n",
      "-125.48991146701093\n",
      "Length of Population = 30\n",
      "Highest Current Fitness:\n",
      "-115.68856907098952\n",
      "Length of Population = 40\n",
      "Highest Current Fitness:\n",
      "-84.11222915950123\n",
      "Length of Population = 50\n",
      "Highest Current Fitness:\n",
      "-84.11222915950123\n",
      "Length of Population = 60\n",
      "Highest Current Fitness:\n",
      "-84.69735600213079\n",
      "Length of Population = 20\n",
      "Highest Current Fitness:\n",
      "-80.5292455857703\n",
      "Length of Population = 30\n",
      "Highest Current Fitness:\n",
      "-79.9279642231494\n",
      "Length of Population = 40\n",
      "Highest Current Fitness:\n",
      "-79.9279642231494\n",
      "Length of Population = 50\n",
      "Highest Current Fitness:\n",
      "-107.39128385492326\n",
      "Length of Population = 20\n",
      "Highest Current Fitness:\n",
      "-91.44014382627954\n",
      "Length of Population = 30\n",
      "Highest Current Fitness:\n",
      "-91.44014382627954\n",
      "Length of Population = 40\n",
      "Step: 2: current parameter_diff: 11.819457889621066, current data likelihood: 0.0\n",
      "EM Iteration 3\n",
      "E-step\n",
      "M-step\n",
      "Maximize Q-0\n",
      "Highest Current Fitness:\n",
      "-294.1340776850375\n",
      "Length of Population = 20\n",
      "Maximize the Q_i's\n",
      "Highest Current Fitness:\n",
      "-84.8405312480242\n",
      "Length of Population = 20\n",
      "Highest Current Fitness:\n",
      "-84.67206185351732\n",
      "Length of Population = 30\n",
      "Highest Current Fitness:\n",
      "-81.6839449336624\n",
      "Length of Population = 40\n",
      "Highest Current Fitness:\n",
      "-81.6839449336624\n",
      "Length of Population = 50\n",
      "Highest Current Fitness:\n",
      "-164.7542869965124\n",
      "Length of Population = 20\n",
      "Highest Current Fitness:\n",
      "-160.43318158097145\n",
      "Length of Population = 30\n",
      "Highest Current Fitness:\n",
      "-157.88637923961704\n",
      "Length of Population = 40\n",
      "Highest Current Fitness:\n",
      "-135.0495607819193\n",
      "Length of Population = 50\n",
      "Highest Current Fitness:\n",
      "-123.93628841815531\n",
      "Length of Population = 60\n",
      "Highest Current Fitness:\n",
      "-123.5830370395717\n",
      "Length of Population = 70\n"
     ]
    },
    {
     "name": "stderr",
     "output_type": "stream",
     "text": [
      "c:\\Users\\Jesper\\Documents\\GitHub\\Knowledge-Growth-Prediction\\em_algorithm\\e_step_mirt_2pl.py:84: RuntimeWarning: divide by zero encountered in log\n",
      "  icc_value), r_0_theta) + np.multiply(np.subtract(r_0_theta, r_item_theta), np.log(1-icc_value))\n"
     ]
    },
    {
     "name": "stdout",
     "output_type": "stream",
     "text": [
      "Highest Current Fitness:\n",
      "-123.5830370395717\n",
      "Length of Population = 80\n",
      "Highest Current Fitness:\n",
      "-93.07414719475713\n",
      "Length of Population = 20\n",
      "Highest Current Fitness:\n",
      "-87.64784587152998\n",
      "Length of Population = 30\n",
      "Highest Current Fitness:\n",
      "-87.64784587152998\n",
      "Length of Population = 40\n",
      "Highest Current Fitness:\n",
      "-103.52366953457441\n",
      "Length of Population = 20\n",
      "Highest Current Fitness:\n",
      "-95.45017618367453\n",
      "Length of Population = 30\n",
      "Highest Current Fitness:\n",
      "-95.45017618367453\n",
      "Length of Population = 40\n",
      "Step: 3: current parameter_diff: 14.496767398480065, current data likelihood: 0.0\n"
     ]
    }
   ],
   "source": [
    "import models\n",
    "import em_algorithm\n",
    "import pandas as pd\n",
    "\n",
    "#sample data\n",
    "U = mirt_param_recovery(5)[\"sample\"][\"early_responses\"]\n",
    "\n",
    "#Initialize model\n",
    "model = models.mirt_2pl(latent_dimension=2, item_dimension=4, A=np.ones((4,2)), delta=np.ones(4), sigma=np.array([[1,0.2],\n",
    "                                                                                                                    [0.2,1]]))\n",
    "\n",
    "e_step = em_algorithm.e_step_ga_mml(incomplete_data=U, model=model)\n",
    "m_step = em_algorithm.m_step_ga_mml(model)\n",
    "\n",
    "em = em_algorithm.em_algorithm.em_algorithm(e_step=e_step, m_step=m_step, model=model)\n",
    "em.fit(U, max_iter=2)\n"
   ]
  },
  {
   "cell_type": "markdown",
   "metadata": {},
   "source": [
    "### Estimeted Parameters"
   ]
  },
  {
   "cell_type": "code",
   "execution_count": 6,
   "metadata": {},
   "outputs": [
    {
     "data": {
      "text/plain": [
       "{'discrimination_matrix': array([[ 0.08574951, -0.81711164],\n",
       "        [-1.80637254,  8.39569307],\n",
       "        [-3.82544171,  1.1451595 ],\n",
       "        [-1.69488726,  2.75686369]]),\n",
       " 'intercept_vector': array([ 1.44978961,  2.88774431, -1.59902474,  1.87326765])}"
      ]
     },
     "execution_count": 6,
     "metadata": {},
     "output_type": "execute_result"
    }
   ],
   "source": [
    "em.model.item_parameters"
   ]
  },
  {
   "cell_type": "code",
   "execution_count": 7,
   "metadata": {},
   "outputs": [
    {
     "data": {
      "text/plain": [
       "{'covariance': array([[ 1.       , -1.7936944],\n",
       "        [ 0.2      ,  1.       ]])}"
      ]
     },
     "execution_count": 7,
     "metadata": {},
     "output_type": "execute_result"
    }
   ],
   "source": [
    "em.model.person_parameters\n",
    "#Die Kovarianz ist nicht symmetrich"
   ]
  },
  {
   "cell_type": "code",
   "execution_count": null,
   "metadata": {},
   "outputs": [],
   "source": []
  }
 ],
 "metadata": {
  "kernelspec": {
   "display_name": "Python 3.8.5 ('base')",
   "language": "python",
   "name": "python3"
  },
  "language_info": {
   "codemirror_mode": {
    "name": "ipython",
    "version": 3
   },
   "file_extension": ".py",
   "mimetype": "text/x-python",
   "name": "python",
   "nbconvert_exporter": "python",
   "pygments_lexer": "ipython3",
   "version": "3.8.5"
  },
  "orig_nbformat": 4,
  "vscode": {
   "interpreter": {
    "hash": "652797d8287891e02114b51113b60303721b445f646084412baf5ae81281ba43"
   }
  }
 },
 "nbformat": 4,
 "nbformat_minor": 2
}
