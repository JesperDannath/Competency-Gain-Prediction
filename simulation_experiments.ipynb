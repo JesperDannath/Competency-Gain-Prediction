{
 "cells": [
  {
   "cell_type": "code",
   "execution_count": 1,
   "metadata": {},
   "outputs": [
    {
     "name": "stdout",
     "output_type": "stream",
     "text": [
      "C:\\Users\\Jesper\\Documents\\GitHub\\Knowledge-Growth-Prediction\\models\n",
      "C:\\Users\\Jesper\\Documents\\GitHub\\Knowledge-Growth-Prediction\\models\n"
     ]
    }
   ],
   "source": [
    "import numpy as np\n",
    "from simulation_framework.item_response_simulation import item_response_simulation\n",
    "from simulation_framework.simulate_competency import respondent_population\n",
    "from simulation_framework.simulate_responses import response_simulation\n",
    "from scipy.stats import multivariate_normal\n",
    "import models\n",
    "import em_algorithm\n",
    "import pandas as pd\n",
    "import time\n",
    "from girth import multidimensional_twopl_mml\n",
    "from girth import twopl_mml\n",
    "import cma\n",
    "import scipy\n",
    "from simulation_experiment import mirt_simulation_experiment\n",
    "from analyse_experiment import get_result_df\n",
    "from analyse_experiment import print_result_from_df"
   ]
  },
  {
   "cell_type": "code",
   "execution_count": 2,
   "metadata": {},
   "outputs": [],
   "source": [
    "import datetime\n",
    "\n",
    "def repeat_mirt_experiment(experiment, repetitions):\n",
    "    multiple_result_dict = {}\n",
    "    for i in range(0, repetitions):\n",
    "        multiple_result_dict[datetime.datetime.now()] = experiment()\n",
    "    return(multiple_result_dict)"
   ]
  },
  {
   "cell_type": "markdown",
   "metadata": {},
   "source": [
    "## Experiment 0: MIRT-2PL-Gain Performance Benchmark"
   ]
  },
  {
   "cell_type": "code",
   "execution_count": 7,
   "metadata": {},
   "outputs": [
    {
     "name": "stdout",
     "output_type": "stream",
     "text": [
      "Real latent covariance: [[1.     0.464  0.3185 0.5312]\n",
      " [0.464  1.     0.3776 0.    ]\n",
      " [0.3185 0.3776 1.     0.077 ]\n",
      " [0.5312 0.     0.077  1.    ]]\n",
      "Covariance matrix is good: True\n",
      "EM Iteration 2\n",
      "Current Monte Carlo Sample size: 300\n",
      "[[1.         0.62266324]\n",
      " [0.62266324 1.        ]]\n"
     ]
    },
    {
     "name": "stderr",
     "output_type": "stream",
     "text": [
      "c:\\Users\\Jesper\\Anaconda3\\lib\\site-packages\\scipy\\stats\\_qmc.py:2039: UserWarning: The balance properties of Sobol' points require n to be a power of 2.\n",
      "  samples = self.engine.random(n)\n"
     ]
    },
    {
     "name": "stdout",
     "output_type": "stream",
     "text": [
      "Step: 2: current parameter_diff: 19.94975669569909, current marginal loglikelihood: -501.2821545481164\n",
      "EM Iteration 3\n",
      "Current Monte Carlo Sample size: 300\n",
      "[[1.         0.62448523]\n",
      " [0.62448523 1.        ]]\n"
     ]
    },
    {
     "name": "stderr",
     "output_type": "stream",
     "text": [
      "c:\\Users\\Jesper\\Anaconda3\\lib\\site-packages\\scipy\\stats\\_qmc.py:2039: UserWarning: The balance properties of Sobol' points require n to be a power of 2.\n",
      "  samples = self.engine.random(n)\n"
     ]
    },
    {
     "name": "stdout",
     "output_type": "stream",
     "text": [
      "Step: 3: current parameter_diff: 17.12152745298647, current marginal loglikelihood: -471.01505487321475\n",
      "EM Iteration 4\n",
      "Current Monte Carlo Sample size: 330\n",
      "[[1.         0.61122985]\n",
      " [0.61122985 1.        ]]\n"
     ]
    },
    {
     "name": "stderr",
     "output_type": "stream",
     "text": [
      "c:\\Users\\Jesper\\Anaconda3\\lib\\site-packages\\scipy\\stats\\_qmc.py:2039: UserWarning: The balance properties of Sobol' points require n to be a power of 2.\n",
      "  samples = self.engine.random(n)\n"
     ]
    },
    {
     "name": "stdout",
     "output_type": "stream",
     "text": [
      "Step: 4: current parameter_diff: 15.16321521727632, current marginal loglikelihood: -460.44052933042764\n",
      "EM Iteration 5\n",
      "Current Monte Carlo Sample size: 363\n",
      "[[1.         0.59253759]\n",
      " [0.59253759 1.        ]]\n"
     ]
    },
    {
     "name": "stderr",
     "output_type": "stream",
     "text": [
      "c:\\Users\\Jesper\\Anaconda3\\lib\\site-packages\\scipy\\stats\\_qmc.py:2039: UserWarning: The balance properties of Sobol' points require n to be a power of 2.\n",
      "  samples = self.engine.random(n)\n",
      "c:\\Users\\Jesper\\Documents\\GitHub\\Knowledge-Growth-Prediction\\em_algorithm\\e_step_mirt_2pl.py:264: RuntimeWarning: divide by zero encountered in log\n",
      "  icc_values), r_item_theta) + np.multiply(np.log(1-icc_values), np.subtract(r_0_theta, r_item_theta))\n",
      "c:\\Users\\Jesper\\Documents\\GitHub\\Knowledge-Growth-Prediction\\em_algorithm\\e_step_mirt_2pl.py:264: RuntimeWarning: invalid value encountered in multiply\n",
      "  icc_values), r_item_theta) + np.multiply(np.log(1-icc_values), np.subtract(r_0_theta, r_item_theta))\n"
     ]
    },
    {
     "name": "stdout",
     "output_type": "stream",
     "text": [
      "Step: 5: current parameter_diff: 12.958664439418047, current marginal loglikelihood: -455.1509032582677\n",
      "EM Iteration 6\n",
      "Current Monte Carlo Sample size: 399\n"
     ]
    },
    {
     "name": "stderr",
     "output_type": "stream",
     "text": [
      "c:\\Users\\Jesper\\Anaconda3\\lib\\site-packages\\scipy\\stats\\_qmc.py:2039: UserWarning: The balance properties of Sobol' points require n to be a power of 2.\n",
      "  samples = self.engine.random(n)\n"
     ]
    },
    {
     "name": "stdout",
     "output_type": "stream",
     "text": [
      "[[1.        0.5404819]\n",
      " [0.5404819 1.       ]]\n"
     ]
    },
    {
     "name": "stderr",
     "output_type": "stream",
     "text": [
      "c:\\Users\\Jesper\\Documents\\GitHub\\Knowledge-Growth-Prediction\\em_algorithm\\e_step_mirt_2pl.py:264: RuntimeWarning: divide by zero encountered in log\n",
      "  icc_values), r_item_theta) + np.multiply(np.log(1-icc_values), np.subtract(r_0_theta, r_item_theta))\n",
      "c:\\Users\\Jesper\\Documents\\GitHub\\Knowledge-Growth-Prediction\\em_algorithm\\e_step_mirt_2pl.py:264: RuntimeWarning: invalid value encountered in multiply\n",
      "  icc_values), r_item_theta) + np.multiply(np.log(1-icc_values), np.subtract(r_0_theta, r_item_theta))\n"
     ]
    },
    {
     "name": "stdout",
     "output_type": "stream",
     "text": [
      "Step: 6: current parameter_diff: 9.753865214982564, current marginal loglikelihood: -453.1299858524814\n",
      "EM Iteration 7\n",
      "Current Monte Carlo Sample size: 438\n",
      "[[1.         0.52168037]\n",
      " [0.52168037 1.        ]]\n"
     ]
    },
    {
     "name": "stderr",
     "output_type": "stream",
     "text": [
      "c:\\Users\\Jesper\\Anaconda3\\lib\\site-packages\\scipy\\stats\\_qmc.py:2039: UserWarning: The balance properties of Sobol' points require n to be a power of 2.\n",
      "  samples = self.engine.random(n)\n",
      "c:\\Users\\Jesper\\Documents\\GitHub\\Knowledge-Growth-Prediction\\em_algorithm\\e_step_mirt_2pl.py:264: RuntimeWarning: divide by zero encountered in log\n",
      "  icc_values), r_item_theta) + np.multiply(np.log(1-icc_values), np.subtract(r_0_theta, r_item_theta))\n",
      "c:\\Users\\Jesper\\Documents\\GitHub\\Knowledge-Growth-Prediction\\em_algorithm\\e_step_mirt_2pl.py:264: RuntimeWarning: invalid value encountered in multiply\n",
      "  icc_values), r_item_theta) + np.multiply(np.log(1-icc_values), np.subtract(r_0_theta, r_item_theta))\n",
      "c:\\Users\\Jesper\\Documents\\GitHub\\Knowledge-Growth-Prediction\\em_algorithm\\m_step_mirt_2pl.py:71: RuntimeWarning: overflow encountered in exp\n",
      "  population = random.choices(population=population_base, weights=np.exp(\n"
     ]
    },
    {
     "name": "stdout",
     "output_type": "stream",
     "text": [
      "Step: 7: current parameter_diff: 5.463431967489575, current marginal loglikelihood: -453.97672961304664\n",
      "EM Iteration 8\n",
      "Current Monte Carlo Sample size: 481\n",
      "[[1.         0.50166503]\n",
      " [0.50166503 1.        ]]\n"
     ]
    },
    {
     "name": "stderr",
     "output_type": "stream",
     "text": [
      "c:\\Users\\Jesper\\Anaconda3\\lib\\site-packages\\scipy\\stats\\_qmc.py:2039: UserWarning: The balance properties of Sobol' points require n to be a power of 2.\n",
      "  samples = self.engine.random(n)\n",
      "c:\\Users\\Jesper\\Documents\\GitHub\\Knowledge-Growth-Prediction\\em_algorithm\\e_step_mirt_2pl.py:264: RuntimeWarning: divide by zero encountered in log\n",
      "  icc_values), r_item_theta) + np.multiply(np.log(1-icc_values), np.subtract(r_0_theta, r_item_theta))\n",
      "c:\\Users\\Jesper\\Documents\\GitHub\\Knowledge-Growth-Prediction\\em_algorithm\\e_step_mirt_2pl.py:264: RuntimeWarning: invalid value encountered in multiply\n",
      "  icc_values), r_item_theta) + np.multiply(np.log(1-icc_values), np.subtract(r_0_theta, r_item_theta))\n",
      "c:\\Users\\Jesper\\Documents\\GitHub\\Knowledge-Growth-Prediction\\em_algorithm\\m_step_mirt_2pl.py:71: RuntimeWarning: overflow encountered in exp\n",
      "  population = random.choices(population=population_base, weights=np.exp(\n"
     ]
    },
    {
     "name": "stdout",
     "output_type": "stream",
     "text": [
      "Step: 8: current parameter_diff: 2.8942497838591916, current marginal loglikelihood: -451.55611058364093\n",
      "EM Iteration 2\n"
     ]
    },
    {
     "name": "stderr",
     "output_type": "stream",
     "text": [
      "c:\\Users\\Jesper\\Anaconda3\\lib\\site-packages\\scipy\\stats\\_qmc.py:2039: UserWarning: The balance properties of Sobol' points require n to be a power of 2.\n",
      "  samples = self.engine.random(n)\n"
     ]
    },
    {
     "name": "stdout",
     "output_type": "stream",
     "text": [
      "Current Monte Carlo Sample size: 300\n",
      "[[1.         0.53884191 0.53067666 0.48305747]\n",
      " [0.53884191 1.         0.49820101 0.45400767]\n",
      " [0.53067666 0.49820101 1.         0.48261017]\n",
      " [0.48305747 0.45400767 0.48261017 1.        ]]\n"
     ]
    }
   ],
   "source": [
    "experiment_0 = lambda: mirt_simulation_experiment(sample_size=100, item_dimension=12, latent_dimension=2, \n",
    "                                             q_type=\"full\", stop_threshold=5, person_method=\"BFGS\",\n",
    "                                            sigma_constraint=\"unconstrained\", real_theta=True)\n",
    "performance_dict= repeat_mirt_experiment(experiment_0, 1)"
   ]
  },
  {
   "cell_type": "code",
   "execution_count": 7,
   "metadata": {},
   "outputs": [
    {
     "name": "stdout",
     "output_type": "stream",
     "text": [
      "------------------------------------\n",
      "##### Results for With unconstrained BFGS and real theta\n",
      "Latent dimension: 2.0,  Item dimension: 12.0, sample size 100.0 \\\n",
      "Early runtime: 3.85 seconds, 8.0 steps, 0.48 seconds per step \\\n",
      "Late runtime: 118.07 seconds, 8.0 steps, 14.76 seconds per step \\\n",
      "Early Marginal Likelihood, Optimal: -529.53, Estimated: -510.54, Initial -623.35 \\\n",
      "Late Marginal Likelihood, Optimal: -481.02, Estimated: -472.08, Initial -508.32\n",
      "| method   |   early_A |   early_delta |   early_sigma |   late_A |   late_delta |   late_sigma |      psi |\n",
      "|:---------|----------:|--------------:|--------------:|---------:|-------------:|-------------:|---------:|\n",
      "| initial  |   3.99679 |      0.43423  |     0.0512652 |  2.60314 |      1.68651 |    0.0294864 | 0.237175 |\n",
      "| late_em  |   2.34993 |      0.758206 |     0.0799738 |  1.70049 |      2.94736 |    0.0271529 | 0.299677 |\n",
      "####\n"
     ]
    },
    {
     "name": "stderr",
     "output_type": "stream",
     "text": [
      "c:\\Users\\Jesper\\Documents\\GitHub\\Knowledge-Growth-Prediction\\analyse_experiment.py:151: FutureWarning: DataFrame.mean and DataFrame.median with numeric_only=None will include datetime64 and datetime64tz columns in a future version.\n",
      "  reference_method = result_df[result_df[\"method\"]\n",
      "c:\\Users\\Jesper\\Documents\\GitHub\\Knowledge-Growth-Prediction\\analyse_experiment.py:153: FutureWarning: DataFrame.mean and DataFrame.median with numeric_only=None will include datetime64 and datetime64tz columns in a future version.\n",
      "  initial = result_df[result_df[\"method\"] == \"initial\"].mean()\n"
     ]
    }
   ],
   "source": [
    "performance_df = get_result_df(performance_dict)\n",
    "print_result_from_df(performance_df, description=\"With unconstrained BFGS and real theta\")"
   ]
  },
  {
   "cell_type": "markdown",
   "metadata": {},
   "source": [
    "\n",
    "------------------------------------\n",
    "##### Results for Increasing Monte Carlo sample-size based on ttest with normal MC\n",
    "Latent dimension: 2,  Item dimension: 6, sample size 100 \\\n",
    "Runtime: 3.3 seconds, 15 steps, 0.22 seconds per step \\\n",
    "Optimal marginal Likelihood: -371.46, Estimated: -365.03, Initial -374.57\n",
    "|               |   rmse_A |   rmse_delta |   rmse_sigma |\n",
    "|:--------------|---------:|-------------:|-------------:|\n",
    "| estimated     | 0.660667 |     0.316008 |    0.0573464 |\n",
    "| early_initial | 0.509902 |     0.28936  |    0.212132  |\n",
    "| girth         | 1.0658   |     0.31617  |    0.12943   |\n",
    "| early_direct  | 0.848957 |     0.59659  |    0.116858  |\n",
    "\n",
    "------------------------------------\n",
    "##### Results for Untested full Model\n",
    "Latent dimension: 2,  Item dimension: 10, sample size 100 \\\n",
    "Early runtime: 2.56 seconds, 8 steps, 0.32 seconds per step \\\n",
    "Late runtime: 107.71 seconds, 5 steps, 21.54 seconds per step \\\n",
    "Early Marginal Likelihood, Optimal: -470.21, Estimated: -463.83, Initial -527.4 \\\n",
    "Late Marginal Likelihood, Optimal: 3.89, Estimated: 3.92, Initial 3.81\n",
    "|           |   early_A |   early_delta |   early_sigma |   late_A |   late_delta |   late_sigma |      psi |\n",
    "|:----------|----------:|--------------:|--------------:|---------:|-------------:|-------------:|---------:|\n",
    "| estimated |   1.08941 |      0.391419 |     0.0115966 |  1.83043 |      1.33621 |     0.674368 | 0.395368 |\n",
    "| initial   |   3.07758 |      0.621379 |     0.329017  |  2.74743 |      1.52522 |     0.320885 | 0.210157 |\n",
    "####\n",
    "Performance on Individual Level \\\n",
    "rmse theta: 0.864016477222037 \\\n",
    "rmse gain: 0.8736126145557623\n",
    "\n",
    "------------------------------------\n",
    "##### Results for Fixed marginal Loglikelihood\n",
    "Latent dimension: 2,  Item dimension: 10, sample size 100 \\\n",
    "Early runtime: 2.5 seconds, 7 steps, 0.36 seconds per step \\\n",
    "Late runtime: 322.67 seconds, 9 steps, 35.85 seconds per step \\\n",
    "Early Marginal Likelihood, Optimal: -494.37, Estimated: -479.73, Initial -540.27 \\\n",
    "Late Marginal Likelihood, Optimal: -359.97, Estimated: -381.08, Initial -431.02\n",
    "|           |   early_A |   early_delta |   early_sigma |   late_A |   late_delta |   late_sigma |      psi |\n",
    "|:----------|----------:|--------------:|--------------:|---------:|-------------:|-------------:|---------:|\n",
    "| estimated |   1.42983 |      0.837686 |     0.139583  |  4.08714 |      2.46488 |    0.243386  | 0.343469 |\n",
    "| initial   |   2.6978  |      0.668599 |     0.0490025 |  5.45633 |      1.95892 |    0.0963787 | 0.22315  |\n",
    "####\n",
    "Performance on Individual Level \\\n",
    "rmse theta: 0.6755600631466341 \\\n",
    "rmse gain: 780.9161055994681\n",
    "\n",
    "------------------------------------\n",
    "##### Results for Genetic Algorithm\n",
    "Latent dimension: 2,  Item dimension: 10, sample size 100 \\\n",
    "Early runtime: 3.42 seconds, 7 steps, 0.49 seconds per step \\\n",
    "Late runtime: 166.44 seconds, 10 steps, 16.64 seconds per step \\\n",
    "Early Marginal Likelihood, Optimal: -445.8, Estimated: -440.04, Initial -525.38 \\\n",
    "Late Marginal Likelihood, Optimal: -452.07, Estimated: -436.89, Initial -535.83\n",
    "|           |   early_A |   early_delta |   early_sigma |   late_A |   late_delta |   late_sigma |      psi |\n",
    "|:----------|----------:|--------------:|--------------:|---------:|-------------:|-------------:|---------:|\n",
    "| estimated |   3.52076 |      0.390601 |     0.0378639 |  5.26244 |     0.403017 |    0.134472  | 0.317107 |\n",
    "| initial   |   5.04367 |      0.567904 |     0.0948937 |  4.62289 |     1.22823  |    0.0472347 | 0.344357 |\n",
    "####\n",
    "Performance on Individual Level \\\n",
    "rmse theta: 0.8067692103719907 \\\n",
    "rmse gain: 560.8514011989563\n",
    "\n",
    "------------------------------------\n",
    "##### Results for With constrained BFGS\n",
    "Latent dimension: 2,  Item dimension: 10, sample size 100 \\\n",
    "Early runtime: 3.39 seconds, 8 steps, 0.42 seconds per step \\\n",
    "Late runtime: 222.08 seconds, 11 steps, 20.19 seconds per step \\\n",
    "Early Marginal Likelihood, Optimal: -450.38, Estimated: -444.2, Initial -522.62 \\\n",
    "Late Marginal Likelihood, Optimal: -469.55, Estimated: -464.8, Initial -539.91\n",
    "|           |   early_A |   early_delta |   early_sigma |   late_A |   late_delta |   late_sigma |      psi |\n",
    "|:----------|----------:|--------------:|--------------:|---------:|-------------:|-------------:|---------:|\n",
    "| estimated |  0.683488 |      0.604727 |     0.0795495 |  1.19288 |     0.397077 |    0.163978  | 0.367325 |\n",
    "| initial   |  2.31601  |      0.712129 |     0.0905097 |  2.83422 |     1.04892  |    0.0775696 | 0.226698 |\n",
    "####\n",
    "Performance on Individual Level \\\n",
    "rmse theta: 0.7139781405467193 \\\n",
    "rmse gain: 0.8053860461431572\n",
    "\n",
    "------------------------------------\n",
    "##### Results for With unconstrained BFGS and save ICC\n",
    "Latent dimension: 2,  Item dimension: 10, sample size 200 \\\n",
    "Early runtime: 4.94 seconds, 10 steps, 0.49 seconds per step \\\n",
    "Late runtime: 217.77 seconds, 14 steps, 15.56 seconds per step \\\n",
    "Early Marginal Likelihood, Optimal: -1025.93, Estimated: -1014.24, Initial -1143.43 \\\n",
    "Late Marginal Likelihood, Optimal: -1019.85, Estimated: -942.56, Initial -1165.24\n",
    "|           |   early_A |   early_delta |   early_sigma |   late_A |   late_delta |   late_sigma |     psi |\n",
    "|:----------|----------:|--------------:|--------------:|---------:|-------------:|-------------:|--------:|\n",
    "| estimated |   1.28713 |      0.405811 |      0.022486 |  2.34827 |      3.08274 |    0.0799031 | 0.25137 |\n",
    "| initial   |   2.81054 |      0.442962 |      0.257387 |  4.62677 |      1.05851 |    0.0787717 | 0.33902 |\n",
    "####\n",
    "Performance on Individual Level \\\n",
    "rmse theta: 0.8966706033114552 \\\n",
    "rmse gain: 0.8351295524334317\n",
    "\n",
    "------------------------------------\n",
    "##### Results for With unconstrained BFGS and save ICC and density\n",
    "Latent dimension: 2,  Item dimension: 10, sample size 100 \\\n",
    "Early runtime: 3.18 seconds, 7 steps, 0.45 seconds per step \\\n",
    "Late runtime: 138.53 seconds, 15 steps, 9.24 seconds per step \\\n",
    "Early Marginal Likelihood, Optimal: -520.2, Estimated: -510.43, Initial -543.26 \\\n",
    "Late Marginal Likelihood, Optimal: -423.14, Estimated: -395.86, Initial -478.51\n",
    "|           |   early_A |   early_delta |   early_sigma |   late_A |   late_delta |   late_sigma |       psi |\n",
    "|:----------|----------:|--------------:|--------------:|---------:|-------------:|-------------:|----------:|\n",
    "| estimated |   1.46673 |      0.222442 |      0.180454 |  8.89911 |      3.884   |    0.0590434 | 0.0987126 |\n",
    "| initial   |   1.98992 |      0.373841 |      0.138664 |  3.10531 |      1.01749 |    0.0374059 | 0.279826  |\n",
    "####\n",
    "Performance on Individual Level \\\n",
    "rmse theta: 0.823547261347214 \\\n",
    "rmse gain: 1.1151668629591303\n",
    "\n",
    "------------------------------------\n",
    "##### Results for With unconstrained BFGS and unsave ICC and save density\n",
    "Latent dimension: 2,  Item dimension: 12, sample size 100 \\\n",
    "Early runtime: 3.87 seconds, 8 steps, 0.48 seconds per step \\\n",
    "Late runtime: 134.42 seconds, 9 steps, 14.94 seconds per step \\\n",
    "Early Marginal Likelihood, Optimal: -602.6, Estimated: -592.22, Initial -670.75 \\\n",
    "Late Marginal Likelihood, Optimal: -456.88, Estimated: -452.65, Initial -554.35\n",
    "|           |   early_A |   early_delta |   early_sigma |   late_A |   late_delta |   late_sigma |       psi |\n",
    "|:----------|----------:|--------------:|--------------:|---------:|-------------:|-------------:|----------:|\n",
    "| estimated |  0.690325 |      0.546951 |     0.0650538 |  1.27364 |     0.938354 |    0.0915703 | 0.0813927 |\n",
    "| initial   |  2.45374  |      0.70644  |     0.213122  |  2.99672 |     1.01538  |    0.137037  | 0.289388  |\n",
    "####\n",
    "Performance on Individual Level \\\n",
    "rmse theta: 0.9424593402985434 \\\n",
    "rmse gain: 0.9094035651380942"
   ]
  },
  {
   "cell_type": "markdown",
   "metadata": {},
   "source": [
    "## Experiment 1: MIRT-2PL Parameter Recovery"
   ]
  },
  {
   "cell_type": "code",
   "execution_count": 3,
   "metadata": {},
   "outputs": [
    {
     "name": "stdout",
     "output_type": "stream",
     "text": [
      "Real latent covariance: [[1.     0.4117 0.0176 0.236 ]\n",
      " [0.4117 1.     0.     0.2503]\n",
      " [0.0176 0.     1.     0.6219]\n",
      " [0.236  0.2503 0.6219 1.    ]]\n",
      "Covariance matrix is good: True\n",
      "EM Iteration 2\n",
      "Current Monte Carlo Sample size: 300\n"
     ]
    },
    {
     "name": "stderr",
     "output_type": "stream",
     "text": [
      "c:\\Users\\Jesper\\Anaconda3\\lib\\site-packages\\scipy\\stats\\_qmc.py:2039: UserWarning: The balance properties of Sobol' points require n to be a power of 2.\n",
      "  samples = self.engine.random(n)\n"
     ]
    },
    {
     "name": "stdout",
     "output_type": "stream",
     "text": [
      "[[1.         0.57989661]\n",
      " [0.57989661 1.        ]]\n",
      "Step: 2: current parameter_diff: 10.500205586756914, current marginal loglikelihood: -609.6081242735432\n",
      "EM Iteration 3\n",
      "Current Monte Carlo Sample size: 300\n",
      "[[1.         0.56681273]\n",
      " [0.56681273 1.        ]]\n"
     ]
    },
    {
     "name": "stderr",
     "output_type": "stream",
     "text": [
      "c:\\Users\\Jesper\\Anaconda3\\lib\\site-packages\\scipy\\stats\\_qmc.py:2039: UserWarning: The balance properties of Sobol' points require n to be a power of 2.\n",
      "  samples = self.engine.random(n)\n"
     ]
    },
    {
     "name": "stdout",
     "output_type": "stream",
     "text": [
      "Step: 3: current parameter_diff: 7.312182273384781, current marginal loglikelihood: -595.6721487150743\n",
      "EM Iteration 4\n",
      "Current Monte Carlo Sample size: 300\n",
      "[[1.         0.51946515]\n",
      " [0.51946515 1.        ]]\n"
     ]
    },
    {
     "name": "stderr",
     "output_type": "stream",
     "text": [
      "c:\\Users\\Jesper\\Anaconda3\\lib\\site-packages\\scipy\\stats\\_qmc.py:2039: UserWarning: The balance properties of Sobol' points require n to be a power of 2.\n",
      "  samples = self.engine.random(n)\n"
     ]
    },
    {
     "name": "stdout",
     "output_type": "stream",
     "text": [
      "Step: 4: current parameter_diff: 6.319534275772381, current marginal loglikelihood: -588.7753892638698\n",
      "EM Iteration 5\n",
      "Current Monte Carlo Sample size: 330\n",
      "[[1.         0.48700017]\n",
      " [0.48700017 1.        ]]\n"
     ]
    },
    {
     "name": "stderr",
     "output_type": "stream",
     "text": [
      "c:\\Users\\Jesper\\Anaconda3\\lib\\site-packages\\scipy\\stats\\_qmc.py:2039: UserWarning: The balance properties of Sobol' points require n to be a power of 2.\n",
      "  samples = self.engine.random(n)\n"
     ]
    },
    {
     "name": "stdout",
     "output_type": "stream",
     "text": [
      "Step: 5: current parameter_diff: 3.947233730863816, current marginal loglikelihood: -586.5350721029694\n",
      "EM Iteration 6\n",
      "Current Monte Carlo Sample size: 363\n",
      "[[1.         0.45665386]\n",
      " [0.45665386 1.        ]]\n",
      "Step: 6: current parameter_diff: 3.4102968897232233, current marginal loglikelihood: -584.9091766603742\n",
      "EM Iteration 7\n",
      "Current Monte Carlo Sample size: 399\n",
      "[[1.         0.43771536]\n",
      " [0.43771536 1.        ]]\n"
     ]
    },
    {
     "name": "stderr",
     "output_type": "stream",
     "text": [
      "c:\\Users\\Jesper\\Anaconda3\\lib\\site-packages\\scipy\\stats\\_qmc.py:2039: UserWarning: The balance properties of Sobol' points require n to be a power of 2.\n",
      "  samples = self.engine.random(n)\n"
     ]
    },
    {
     "name": "stdout",
     "output_type": "stream",
     "text": [
      "Step: 7: current parameter_diff: 2.0600210118046416, current marginal loglikelihood: -584.397287883933\n",
      "EM Iteration 2\n"
     ]
    },
    {
     "name": "stderr",
     "output_type": "stream",
     "text": [
      "c:\\Users\\Jesper\\Anaconda3\\lib\\site-packages\\scipy\\stats\\_qmc.py:2039: UserWarning: The balance properties of Sobol' points require n to be a power of 2.\n",
      "  samples = self.engine.random(n)\n"
     ]
    },
    {
     "name": "stdout",
     "output_type": "stream",
     "text": [
      "Current Monte Carlo Sample size: 300\n",
      "[[1.         0.52948912 0.53802733 0.45486655]\n",
      " [0.52948912 1.         0.4252895  0.36569848]\n",
      " [0.53802733 0.4252895  1.         0.44602288]\n",
      " [0.45486655 0.36569848 0.44602288 1.        ]]\n",
      "Step: 2: current parameter_diff: 17.46255632377612, current marginal loglikelihood: -628.3207972666897\n",
      "EM Iteration 3\n"
     ]
    },
    {
     "name": "stderr",
     "output_type": "stream",
     "text": [
      "c:\\Users\\Jesper\\Anaconda3\\lib\\site-packages\\scipy\\stats\\_qmc.py:2039: UserWarning: The balance properties of Sobol' points require n to be a power of 2.\n",
      "  samples = self.engine.random(n)\n"
     ]
    },
    {
     "name": "stdout",
     "output_type": "stream",
     "text": [
      "Current Monte Carlo Sample size: 300\n",
      "[[1.         0.53474855 0.56239188 0.46927716]\n",
      " [0.53474855 1.         0.43568786 0.37252935]\n",
      " [0.56239188 0.43568786 1.         0.45719049]\n",
      " [0.46927716 0.37252935 0.45719049 1.        ]]\n",
      "Step: 3: current parameter_diff: 12.30909784091648, current marginal loglikelihood: -600.1048400389906\n",
      "EM Iteration 4\n"
     ]
    },
    {
     "name": "stderr",
     "output_type": "stream",
     "text": [
      "c:\\Users\\Jesper\\Anaconda3\\lib\\site-packages\\scipy\\stats\\_qmc.py:2039: UserWarning: The balance properties of Sobol' points require n to be a power of 2.\n",
      "  samples = self.engine.random(n)\n"
     ]
    },
    {
     "name": "stdout",
     "output_type": "stream",
     "text": [
      "Current Monte Carlo Sample size: 330\n",
      "[[1.         0.54326727 0.58726425 0.48553623]\n",
      " [0.54326727 1.         0.44666502 0.38192018]\n",
      " [0.58726425 0.44666502 1.         0.46835714]\n",
      " [0.48553623 0.38192018 0.46835714 1.        ]]\n",
      "Step: 4: current parameter_diff: 10.25675605466838, current marginal loglikelihood: -592.6051252416487\n",
      "EM Iteration 5\n"
     ]
    },
    {
     "name": "stderr",
     "output_type": "stream",
     "text": [
      "c:\\Users\\Jesper\\Anaconda3\\lib\\site-packages\\scipy\\stats\\_qmc.py:2039: UserWarning: The balance properties of Sobol' points require n to be a power of 2.\n",
      "  samples = self.engine.random(n)\n"
     ]
    },
    {
     "name": "stdout",
     "output_type": "stream",
     "text": [
      "Current Monte Carlo Sample size: 363\n",
      "[[1.         0.5551947  0.6141795  0.50428022]\n",
      " [0.5551947  1.         0.45799294 0.39338086]\n",
      " [0.6141795  0.45799294 1.         0.47879311]\n",
      " [0.50428022 0.39338086 0.47879311 1.        ]]\n",
      "Step: 5: current parameter_diff: 7.283313164591142, current marginal loglikelihood: -590.2759691738456\n",
      "EM Iteration 6\n"
     ]
    },
    {
     "name": "stderr",
     "output_type": "stream",
     "text": [
      "c:\\Users\\Jesper\\Anaconda3\\lib\\site-packages\\scipy\\stats\\_qmc.py:2039: UserWarning: The balance properties of Sobol' points require n to be a power of 2.\n",
      "  samples = self.engine.random(n)\n"
     ]
    },
    {
     "name": "stdout",
     "output_type": "stream",
     "text": [
      "Current Monte Carlo Sample size: 363\n",
      "[[1.         0.56570704 0.64023653 0.52398217]\n",
      " [0.56570704 1.         0.46709797 0.40510707]\n",
      " [0.64023653 0.46709797 1.         0.48899094]\n",
      " [0.52398217 0.40510707 0.48899094 1.        ]]\n",
      "Step: 6: current parameter_diff: 7.04903655160947, current marginal loglikelihood: -587.9140678925942\n",
      "EM Iteration 7\n"
     ]
    },
    {
     "name": "stderr",
     "output_type": "stream",
     "text": [
      "c:\\Users\\Jesper\\Anaconda3\\lib\\site-packages\\scipy\\stats\\_qmc.py:2039: UserWarning: The balance properties of Sobol' points require n to be a power of 2.\n",
      "  samples = self.engine.random(n)\n"
     ]
    },
    {
     "name": "stdout",
     "output_type": "stream",
     "text": [
      "Current Monte Carlo Sample size: 399\n",
      "[[1.         0.63155169 0.4704212  0.35898989]\n",
      " [0.63155169 1.         0.10623479 0.18847852]\n",
      " [0.4704212  0.10623479 1.         0.4054868 ]\n",
      " [0.35898989 0.18847852 0.4054868  1.        ]]\n",
      "Step: 7: current parameter_diff: 9.417213385441556, current marginal loglikelihood: -584.1061019704212\n"
     ]
    },
    {
     "name": "stderr",
     "output_type": "stream",
     "text": [
      "c:\\Users\\Jesper\\Documents\\GitHub\\Knowledge-Growth-Prediction\\models\\mirt_2pl_gain.py:267: RuntimeWarning: divide by zero encountered in log\n",
      "  (1-answer_vector), np.log(1-ICC_values)[0]) + np.log(latent_density)\n"
     ]
    },
    {
     "name": "stdout",
     "output_type": "stream",
     "text": [
      "Absolute diff in A:\n",
      "[[0.         4.07188999]\n",
      " [0.         0.39563976]\n",
      " [0.         0.26080155]\n",
      " [0.         0.15148668]\n",
      " [0.         0.79515364]\n",
      " [4.20527014 0.        ]\n",
      " [0.41389066 0.        ]\n",
      " [0.63158855 0.        ]\n",
      " [0.39409943 0.        ]\n",
      " [0.58131168 0.        ]\n",
      " [0.42681747 0.        ]\n",
      " [1.15535467 1.11788505]]\n",
      "Absolute diff in delta:\n",
      "[0.98725264 0.38842346 0.6656528  1.0477583  0.15532611 1.05382363\n",
      " 0.28004827 0.07061753 0.12173507 0.26308105 0.35334982 0.56476579]\n",
      "Absolute diff in sigma:\n",
      "[[0.    0.026]\n",
      " [0.026 0.   ]]\n",
      "Absolute diff in A:\n",
      "[[0.         1.46536223]\n",
      " [0.         1.0139243 ]\n",
      " [0.         0.45732475]\n",
      " [0.         2.08904132]\n",
      " [0.02128259 0.        ]\n",
      " [0.82032093 0.        ]\n",
      " [2.21416692 0.        ]\n",
      " [0.14023355 0.        ]\n",
      " [1.96545853 0.        ]\n",
      " [2.58909369 0.        ]\n",
      " [5.7809786  0.        ]\n",
      " [1.42393    1.90707457]]\n",
      "Absolute diff in delta:\n",
      "[0.600351   0.42926087 0.44463794 0.04106468 0.27997911 0.16490224\n",
      " 0.44336057 0.52257928 0.92906    0.21501234 0.88259914 1.89671915]\n",
      "Absolute diff in A:\n",
      "[[0.         6.58942158]\n",
      " [0.         0.90155058]\n",
      " [0.         0.79352295]\n",
      " [0.         5.40732122]\n",
      " [0.         2.90075765]\n",
      " [9.42031082 0.        ]\n",
      " [0.7288675  0.        ]\n",
      " [1.71892916 0.        ]\n",
      " [0.54995205 0.        ]\n",
      " [0.56537842 0.        ]\n",
      " [2.07932908 0.        ]\n",
      " [3.91892251 2.0975172 ]]\n",
      "Absolute diff in delta:\n",
      "[0.27458111 0.22662165 0.35878413 0.14713962 0.20433469 0.90155479\n",
      " 0.54645606 0.14286331 0.03609738 0.28272229 0.58552076 1.22007494]\n",
      "Absolute diff in sigma:\n",
      "[[0.     0.0883]\n",
      " [0.0883 0.    ]]\n",
      "Absolute diff in A:\n",
      "[[ 1.          3.84391745]\n",
      " [ 1.          1.16806456]\n",
      " [ 1.          0.02249492]\n",
      " [ 1.          3.14159656]\n",
      " [ 0.25696791  1.        ]\n",
      " [ 1.48626644  1.        ]\n",
      " [ 1.2779207   1.        ]\n",
      " [ 0.39275812  1.        ]\n",
      " [ 3.77752121  1.        ]\n",
      " [ 3.55187084  1.        ]\n",
      " [10.37823633  1.        ]\n",
      " [ 6.34941762  0.66674942]]\n",
      "Absolute diff in delta:\n",
      "[0.39553231 1.39439351 1.02602252 0.68211354 1.07844254 0.86881268\n",
      " 0.62863093 0.33911346 0.63185769 0.25651142 2.78243846 0.69508666]\n",
      "Covariance matrix is good: True\n",
      "EM Iteration 2\n",
      "Current Monte Carlo Sample size: 300\n",
      "[[1.         0.60508445]\n",
      " [0.60508445 1.        ]]\n"
     ]
    },
    {
     "name": "stderr",
     "output_type": "stream",
     "text": [
      "c:\\Users\\Jesper\\Anaconda3\\lib\\site-packages\\scipy\\stats\\_qmc.py:2039: UserWarning: The balance properties of Sobol' points require n to be a power of 2.\n",
      "  samples = self.engine.random(n)\n"
     ]
    },
    {
     "name": "stdout",
     "output_type": "stream",
     "text": [
      "Step: 2: current parameter_diff: 10.421735255402414, current marginal loglikelihood: -612.3186509712551\n",
      "EM Iteration 3\n",
      "Current Monte Carlo Sample size: 330\n",
      "[[1.        0.5892661]\n",
      " [0.5892661 1.       ]]\n"
     ]
    },
    {
     "name": "stderr",
     "output_type": "stream",
     "text": [
      "c:\\Users\\Jesper\\Anaconda3\\lib\\site-packages\\scipy\\stats\\_qmc.py:2039: UserWarning: The balance properties of Sobol' points require n to be a power of 2.\n",
      "  samples = self.engine.random(n)\n"
     ]
    },
    {
     "name": "stdout",
     "output_type": "stream",
     "text": [
      "Step: 3: current parameter_diff: 7.677836002584582, current marginal loglikelihood: -594.7903221153208\n",
      "EM Iteration 4\n",
      "Current Monte Carlo Sample size: 363\n",
      "[[1.         0.54979477]\n",
      " [0.54979477 1.        ]]\n"
     ]
    },
    {
     "name": "stderr",
     "output_type": "stream",
     "text": [
      "c:\\Users\\Jesper\\Anaconda3\\lib\\site-packages\\scipy\\stats\\_qmc.py:2039: UserWarning: The balance properties of Sobol' points require n to be a power of 2.\n",
      "  samples = self.engine.random(n)\n"
     ]
    },
    {
     "name": "stdout",
     "output_type": "stream",
     "text": [
      "Step: 4: current parameter_diff: 6.000211069816193, current marginal loglikelihood: -591.145808695118\n",
      "EM Iteration 5\n",
      "Current Monte Carlo Sample size: 399\n",
      "[[1.         0.49308465]\n",
      " [0.49308465 1.        ]]\n"
     ]
    },
    {
     "name": "stderr",
     "output_type": "stream",
     "text": [
      "c:\\Users\\Jesper\\Anaconda3\\lib\\site-packages\\scipy\\stats\\_qmc.py:2039: UserWarning: The balance properties of Sobol' points require n to be a power of 2.\n",
      "  samples = self.engine.random(n)\n"
     ]
    },
    {
     "name": "stdout",
     "output_type": "stream",
     "text": [
      "Step: 5: current parameter_diff: 4.30941063816684, current marginal loglikelihood: -585.8310810376803\n",
      "EM Iteration 6\n",
      "Current Monte Carlo Sample size: 438\n",
      "[[1.         0.46068227]\n",
      " [0.46068227 1.        ]]\n"
     ]
    },
    {
     "name": "stderr",
     "output_type": "stream",
     "text": [
      "c:\\Users\\Jesper\\Anaconda3\\lib\\site-packages\\scipy\\stats\\_qmc.py:2039: UserWarning: The balance properties of Sobol' points require n to be a power of 2.\n",
      "  samples = self.engine.random(n)\n"
     ]
    },
    {
     "name": "stdout",
     "output_type": "stream",
     "text": [
      "Step: 6: current parameter_diff: 3.2137579826423934, current marginal loglikelihood: -584.5468015473135\n",
      "EM Iteration 7\n",
      "Current Monte Carlo Sample size: 438\n",
      "[[1.         0.43208584]\n",
      " [0.43208584 1.        ]]\n"
     ]
    },
    {
     "name": "stderr",
     "output_type": "stream",
     "text": [
      "c:\\Users\\Jesper\\Anaconda3\\lib\\site-packages\\scipy\\stats\\_qmc.py:2039: UserWarning: The balance properties of Sobol' points require n to be a power of 2.\n",
      "  samples = self.engine.random(n)\n"
     ]
    },
    {
     "name": "stdout",
     "output_type": "stream",
     "text": [
      "Step: 7: current parameter_diff: 1.9422931197411293, current marginal loglikelihood: -583.5689131988374\n",
      "EM Iteration 8\n",
      "Current Monte Carlo Sample size: 481\n",
      "[[1.         0.42288098]\n",
      " [0.42288098 1.        ]]\n"
     ]
    },
    {
     "name": "stderr",
     "output_type": "stream",
     "text": [
      "c:\\Users\\Jesper\\Anaconda3\\lib\\site-packages\\scipy\\stats\\_qmc.py:2039: UserWarning: The balance properties of Sobol' points require n to be a power of 2.\n",
      "  samples = self.engine.random(n)\n"
     ]
    },
    {
     "name": "stdout",
     "output_type": "stream",
     "text": [
      "Step: 8: current parameter_diff: 1.4409663705841906, current marginal loglikelihood: -583.3851888896762\n",
      "Covariance matrix is good: True\n",
      "EM Iteration 2\n",
      "Current Monte Carlo Sample size: 300\n",
      "[[1.         0.67730707]\n",
      " [0.67730707 1.        ]]\n"
     ]
    },
    {
     "name": "stderr",
     "output_type": "stream",
     "text": [
      "c:\\Users\\Jesper\\Anaconda3\\lib\\site-packages\\scipy\\stats\\_qmc.py:2039: UserWarning: The balance properties of Sobol' points require n to be a power of 2.\n",
      "  samples = self.engine.random(n)\n"
     ]
    },
    {
     "name": "stdout",
     "output_type": "stream",
     "text": [
      "Step: 2: current parameter_diff: 21.24086679657508, current marginal loglikelihood: -444.1728930818922\n",
      "EM Iteration 3\n",
      "Current Monte Carlo Sample size: 330\n",
      "[[1.        0.6989267]\n",
      " [0.6989267 1.       ]]\n"
     ]
    },
    {
     "name": "stderr",
     "output_type": "stream",
     "text": [
      "c:\\Users\\Jesper\\Anaconda3\\lib\\site-packages\\scipy\\stats\\_qmc.py:2039: UserWarning: The balance properties of Sobol' points require n to be a power of 2.\n",
      "  samples = self.engine.random(n)\n"
     ]
    },
    {
     "name": "stdout",
     "output_type": "stream",
     "text": [
      "Step: 3: current parameter_diff: 17.80854829694937, current marginal loglikelihood: -428.2886797949113\n",
      "EM Iteration 4\n",
      "Current Monte Carlo Sample size: 363\n",
      "[[1.         0.70448216]\n",
      " [0.70448216 1.        ]]\n"
     ]
    },
    {
     "name": "stderr",
     "output_type": "stream",
     "text": [
      "c:\\Users\\Jesper\\Anaconda3\\lib\\site-packages\\scipy\\stats\\_qmc.py:2039: UserWarning: The balance properties of Sobol' points require n to be a power of 2.\n",
      "  samples = self.engine.random(n)\n"
     ]
    },
    {
     "name": "stdout",
     "output_type": "stream",
     "text": [
      "Step: 4: current parameter_diff: 14.253680042492878, current marginal loglikelihood: -424.9297387930173\n",
      "EM Iteration 5\n",
      "Current Monte Carlo Sample size: 399\n",
      "[[1.         0.69722721]\n",
      " [0.69722721 1.        ]]\n"
     ]
    },
    {
     "name": "stderr",
     "output_type": "stream",
     "text": [
      "c:\\Users\\Jesper\\Anaconda3\\lib\\site-packages\\scipy\\stats\\_qmc.py:2039: UserWarning: The balance properties of Sobol' points require n to be a power of 2.\n",
      "  samples = self.engine.random(n)\n"
     ]
    },
    {
     "name": "stdout",
     "output_type": "stream",
     "text": [
      "Step: 5: current parameter_diff: 10.633159047163458, current marginal loglikelihood: -419.9218652328643\n",
      "EM Iteration 6\n",
      "Current Monte Carlo Sample size: 399\n",
      "[[1.         0.69674307]\n",
      " [0.69674307 1.        ]]\n"
     ]
    },
    {
     "name": "stderr",
     "output_type": "stream",
     "text": [
      "c:\\Users\\Jesper\\Anaconda3\\lib\\site-packages\\scipy\\stats\\_qmc.py:2039: UserWarning: The balance properties of Sobol' points require n to be a power of 2.\n",
      "  samples = self.engine.random(n)\n"
     ]
    },
    {
     "name": "stdout",
     "output_type": "stream",
     "text": [
      "Step: 6: current parameter_diff: 10.318872552997458, current marginal loglikelihood: -418.31925169119626\n",
      "EM Iteration 7\n",
      "Current Monte Carlo Sample size: 438\n",
      "[[1.         0.66642622]\n",
      " [0.66642622 1.        ]]\n"
     ]
    },
    {
     "name": "stderr",
     "output_type": "stream",
     "text": [
      "c:\\Users\\Jesper\\Anaconda3\\lib\\site-packages\\scipy\\stats\\_qmc.py:2039: UserWarning: The balance properties of Sobol' points require n to be a power of 2.\n",
      "  samples = self.engine.random(n)\n"
     ]
    },
    {
     "name": "stdout",
     "output_type": "stream",
     "text": [
      "Step: 7: current parameter_diff: 6.938577133330781, current marginal loglikelihood: -417.8407042881267\n",
      "EM Iteration 8\n",
      "Current Monte Carlo Sample size: 438\n",
      "[[1.         0.66094424]\n",
      " [0.66094424 1.        ]]\n"
     ]
    },
    {
     "name": "stderr",
     "output_type": "stream",
     "text": [
      "c:\\Users\\Jesper\\Anaconda3\\lib\\site-packages\\scipy\\stats\\_qmc.py:2039: UserWarning: The balance properties of Sobol' points require n to be a power of 2.\n",
      "  samples = self.engine.random(n)\n"
     ]
    },
    {
     "name": "stdout",
     "output_type": "stream",
     "text": [
      "Step: 8: current parameter_diff: 5.750185319543528, current marginal loglikelihood: -417.5591470467287\n"
     ]
    },
    {
     "name": "stderr",
     "output_type": "stream",
     "text": [
      "c:\\Users\\Jesper\\Documents\\GitHub\\Knowledge-Growth-Prediction\\models\\mirt_2pl.py:276: RuntimeWarning: divide by zero encountered in log\n",
      "  (1-answer_vector), np.log(1-ICC_values)[0]) + np.log(latent_density)\n"
     ]
    },
    {
     "name": "stdout",
     "output_type": "stream",
     "text": [
      "[[ 1.          0.4228     -0.36025604 -0.69676364]\n",
      " [ 0.4228      1.         -0.36025681 -0.69676424]\n",
      " [-0.36025604 -0.36025681  1.          0.92014984]\n",
      " [-0.69676364 -0.69676424  0.92014984  1.        ]]\n",
      "Absolute diff in A:\n",
      "[[0.         3.95303202]\n",
      " [0.         0.40918498]\n",
      " [0.         0.29963387]\n",
      " [0.         0.1354324 ]\n",
      " [0.         0.95016157]\n",
      " [3.87230141 0.        ]\n",
      " [0.44092985 0.        ]\n",
      " [0.51913215 0.        ]\n",
      " [0.37744594 0.        ]\n",
      " [0.59233486 0.        ]\n",
      " [0.47948952 0.        ]\n",
      " [1.17150263 1.10938183]]\n",
      "Absolute diff in delta:\n",
      "[1.03773718 0.38923061 0.6459908  1.13480086 0.20944472 1.00045229\n",
      " 0.29512022 0.07187855 0.13802771 0.25553554 0.37370348 0.4585904 ]\n",
      "Absolute diff in sigma:\n",
      "[[0.     0.0111]\n",
      " [0.0111 0.    ]]\n",
      "Absolute diff in A:\n",
      "[[0.         3.99682092]\n",
      " [0.         1.33741881]\n",
      " [0.         0.5033922 ]\n",
      " [0.         2.83484141]\n",
      " [0.02414655 0.        ]\n",
      " [0.76315355 0.        ]\n",
      " [1.88173578 0.        ]\n",
      " [0.06353422 0.        ]\n",
      " [1.74542085 0.        ]\n",
      " [2.32338773 0.        ]\n",
      " [5.35282852 0.        ]\n",
      " [0.4305383  1.77996633]]\n",
      "Absolute diff in delta:\n",
      "[6.30078127 3.11967134 0.96136811 5.28621108 1.26237745 2.83468019\n",
      " 3.7191046  0.56328101 4.2861761  5.62690154 5.67768765 7.34223818]\n",
      "Real latent covariance: [[1.     0.0246 0.2259 0.41  ]\n",
      " [0.0246 1.     0.0101 0.4109]\n",
      " [0.2259 0.0101 1.     0.5193]\n",
      " [0.41   0.4109 0.5193 1.    ]]\n",
      "Covariance matrix is good: True\n",
      "EM Iteration 2\n",
      "Current Monte Carlo Sample size: 300\n",
      "[[1.         0.63129917]\n",
      " [0.63129917 1.        ]]\n"
     ]
    },
    {
     "name": "stderr",
     "output_type": "stream",
     "text": [
      "c:\\Users\\Jesper\\Anaconda3\\lib\\site-packages\\scipy\\stats\\_qmc.py:2039: UserWarning: The balance properties of Sobol' points require n to be a power of 2.\n",
      "  samples = self.engine.random(n)\n"
     ]
    },
    {
     "name": "stdout",
     "output_type": "stream",
     "text": [
      "Step: 2: current parameter_diff: 16.942939909566746, current marginal loglikelihood: -559.2220677426873\n",
      "EM Iteration 3\n",
      "Current Monte Carlo Sample size: 330\n",
      "[[1.         0.69892639]\n",
      " [0.69892639 1.        ]]\n"
     ]
    },
    {
     "name": "stderr",
     "output_type": "stream",
     "text": [
      "c:\\Users\\Jesper\\Anaconda3\\lib\\site-packages\\scipy\\stats\\_qmc.py:2039: UserWarning: The balance properties of Sobol' points require n to be a power of 2.\n",
      "  samples = self.engine.random(n)\n"
     ]
    },
    {
     "name": "stdout",
     "output_type": "stream",
     "text": [
      "Step: 3: current parameter_diff: 9.592615378273678, current marginal loglikelihood: -550.8276235271387\n",
      "EM Iteration 4\n",
      "Current Monte Carlo Sample size: 363\n",
      "[[1.        0.7254523]\n",
      " [0.7254523 1.       ]]\n"
     ]
    },
    {
     "name": "stderr",
     "output_type": "stream",
     "text": [
      "c:\\Users\\Jesper\\Anaconda3\\lib\\site-packages\\scipy\\stats\\_qmc.py:2039: UserWarning: The balance properties of Sobol' points require n to be a power of 2.\n",
      "  samples = self.engine.random(n)\n"
     ]
    },
    {
     "name": "stdout",
     "output_type": "stream",
     "text": [
      "Step: 4: current parameter_diff: 5.804331788545841, current marginal loglikelihood: -546.5138184104917\n",
      "EM Iteration 5\n",
      "Current Monte Carlo Sample size: 399\n",
      "[[1.         0.72950247]\n",
      " [0.72950247 1.        ]]\n"
     ]
    },
    {
     "name": "stderr",
     "output_type": "stream",
     "text": [
      "c:\\Users\\Jesper\\Anaconda3\\lib\\site-packages\\scipy\\stats\\_qmc.py:2039: UserWarning: The balance properties of Sobol' points require n to be a power of 2.\n",
      "  samples = self.engine.random(n)\n"
     ]
    },
    {
     "name": "stdout",
     "output_type": "stream",
     "text": [
      "Step: 5: current parameter_diff: 3.79983967011196, current marginal loglikelihood: -544.0075039315483\n",
      "EM Iteration 6\n",
      "Current Monte Carlo Sample size: 399\n",
      "[[1.        0.7368989]\n",
      " [0.7368989 1.       ]]\n"
     ]
    },
    {
     "name": "stderr",
     "output_type": "stream",
     "text": [
      "c:\\Users\\Jesper\\Anaconda3\\lib\\site-packages\\scipy\\stats\\_qmc.py:2039: UserWarning: The balance properties of Sobol' points require n to be a power of 2.\n",
      "  samples = self.engine.random(n)\n"
     ]
    },
    {
     "name": "stdout",
     "output_type": "stream",
     "text": [
      "Step: 6: current parameter_diff: 3.5909009893970705, current marginal loglikelihood: -543.6699205157917\n",
      "EM Iteration 2\n"
     ]
    },
    {
     "name": "stderr",
     "output_type": "stream",
     "text": [
      "c:\\Users\\Jesper\\Anaconda3\\lib\\site-packages\\scipy\\stats\\_qmc.py:2039: UserWarning: The balance properties of Sobol' points require n to be a power of 2.\n",
      "  samples = self.engine.random(n)\n"
     ]
    },
    {
     "name": "stdout",
     "output_type": "stream",
     "text": [
      "Current Monte Carlo Sample size: 300\n",
      "[[1.         0.70713681 0.43278226 0.31446792]\n",
      " [0.70713681 1.         0.30940878 0.24421737]\n",
      " [0.43278226 0.30940878 1.         0.43103433]\n",
      " [0.31446792 0.24421737 0.43103433 1.        ]]\n",
      "Step: 2: current parameter_diff: 18.33971169824509, current marginal loglikelihood: -636.3220801906714\n",
      "EM Iteration 3\n"
     ]
    },
    {
     "name": "stderr",
     "output_type": "stream",
     "text": [
      "c:\\Users\\Jesper\\Anaconda3\\lib\\site-packages\\scipy\\stats\\_qmc.py:2039: UserWarning: The balance properties of Sobol' points require n to be a power of 2.\n",
      "  samples = self.engine.random(n)\n"
     ]
    },
    {
     "name": "stdout",
     "output_type": "stream",
     "text": [
      "Current Monte Carlo Sample size: 300\n",
      "[[ 1.          0.58011464  0.13413986  0.11888532]\n",
      " [ 0.58011464  1.         -0.18306577  0.02109734]\n",
      " [ 0.13413986 -0.18306577  1.          0.52955314]\n",
      " [ 0.11888532  0.02109734  0.52955314  1.        ]]\n",
      "Step: 3: current parameter_diff: 14.629682505866901, current marginal loglikelihood: -608.2734266441744\n",
      "EM Iteration 4\n"
     ]
    },
    {
     "name": "stderr",
     "output_type": "stream",
     "text": [
      "c:\\Users\\Jesper\\Anaconda3\\lib\\site-packages\\scipy\\stats\\_qmc.py:2039: UserWarning: The balance properties of Sobol' points require n to be a power of 2.\n",
      "  samples = self.engine.random(n)\n"
     ]
    },
    {
     "name": "stdout",
     "output_type": "stream",
     "text": [
      "Current Monte Carlo Sample size: 300\n",
      "[[ 1.          0.57890939  0.1472798   0.10920829]\n",
      " [ 0.57890939  1.         -0.00489852  0.01163421]\n",
      " [ 0.1472798  -0.00489852  1.          0.5348661 ]\n",
      " [ 0.10920829  0.01163421  0.5348661   1.        ]]\n",
      "Step: 4: current parameter_diff: 11.263985230171189, current marginal loglikelihood: -614.378999981378\n",
      "EM Iteration 5\n"
     ]
    },
    {
     "name": "stderr",
     "output_type": "stream",
     "text": [
      "c:\\Users\\Jesper\\Anaconda3\\lib\\site-packages\\scipy\\stats\\_qmc.py:2039: UserWarning: The balance properties of Sobol' points require n to be a power of 2.\n",
      "  samples = self.engine.random(n)\n"
     ]
    },
    {
     "name": "stdout",
     "output_type": "stream",
     "text": [
      "Current Monte Carlo Sample size: 330\n",
      "[[ 1.          0.57472795  0.16387407  0.09863352]\n",
      " [ 0.57472795  1.         -0.0074884   0.0024035 ]\n",
      " [ 0.16387407 -0.0074884   1.          0.54099471]\n",
      " [ 0.09863352  0.0024035   0.54099471  1.        ]]\n",
      "Step: 5: current parameter_diff: 14.771143857130328, current marginal loglikelihood: -611.5830646837328\n",
      "EM Iteration 6\n"
     ]
    },
    {
     "name": "stderr",
     "output_type": "stream",
     "text": [
      "c:\\Users\\Jesper\\Anaconda3\\lib\\site-packages\\scipy\\stats\\_qmc.py:2039: UserWarning: The balance properties of Sobol' points require n to be a power of 2.\n",
      "  samples = self.engine.random(n)\n"
     ]
    },
    {
     "name": "stdout",
     "output_type": "stream",
     "text": [
      "Current Monte Carlo Sample size: 363\n",
      "[[ 1.          0.57160911  0.18302008  0.0880824 ]\n",
      " [ 0.57160911  1.         -0.00861292 -0.00550844]\n",
      " [ 0.18302008 -0.00861292  1.          0.54527502]\n",
      " [ 0.0880824  -0.00550844  0.54527502  1.        ]]\n",
      "Step: 6: current parameter_diff: 12.452963971845595, current marginal loglikelihood: -602.9679533552986\n",
      "EM Iteration 7\n"
     ]
    },
    {
     "name": "stderr",
     "output_type": "stream",
     "text": [
      "c:\\Users\\Jesper\\Anaconda3\\lib\\site-packages\\scipy\\stats\\_qmc.py:2039: UserWarning: The balance properties of Sobol' points require n to be a power of 2.\n",
      "  samples = self.engine.random(n)\n"
     ]
    },
    {
     "name": "stdout",
     "output_type": "stream",
     "text": [
      "Current Monte Carlo Sample size: 399\n",
      "[[ 1.          0.57010365  0.20244124  0.08312639]\n",
      " [ 0.57010365  1.         -0.00772252 -0.0019546 ]\n",
      " [ 0.20244124 -0.00772252  1.          0.54835618]\n",
      " [ 0.08312639 -0.0019546   0.54835618  1.        ]]\n",
      "Step: 7: current parameter_diff: 7.613474631060103, current marginal loglikelihood: -602.9564063187877\n",
      "EM Iteration 8\n"
     ]
    },
    {
     "name": "stderr",
     "output_type": "stream",
     "text": [
      "c:\\Users\\Jesper\\Anaconda3\\lib\\site-packages\\scipy\\stats\\_qmc.py:2039: UserWarning: The balance properties of Sobol' points require n to be a power of 2.\n",
      "  samples = self.engine.random(n)\n"
     ]
    },
    {
     "name": "stdout",
     "output_type": "stream",
     "text": [
      "Current Monte Carlo Sample size: 438\n",
      "[[1.00000000e+00 5.70100000e-01 2.02400000e-01 8.31000000e-02]\n",
      " [5.70100000e-01 1.00000000e+00 1.38777878e-17 0.00000000e+00]\n",
      " [2.02400000e-01 1.38777878e-17 1.00000000e+00 5.48300000e-01]\n",
      " [8.31000000e-02 0.00000000e+00 5.48300000e-01 1.00000000e+00]]\n",
      "Step: 8: current parameter_diff: 12.509699193456154, current marginal loglikelihood: -600.5056303603415\n",
      "EM Iteration 9\n"
     ]
    },
    {
     "name": "stderr",
     "output_type": "stream",
     "text": [
      "c:\\Users\\Jesper\\Anaconda3\\lib\\site-packages\\scipy\\stats\\_qmc.py:2039: UserWarning: The balance properties of Sobol' points require n to be a power of 2.\n",
      "  samples = self.engine.random(n)\n"
     ]
    },
    {
     "name": "stdout",
     "output_type": "stream",
     "text": [
      "Current Monte Carlo Sample size: 481\n",
      "[[1.00000000e+00 5.70100000e-01 2.02400000e-01 8.30000000e-02]\n",
      " [5.70100000e-01 1.00000000e+00 1.38777878e-17 0.00000000e+00]\n",
      " [2.02400000e-01 1.38777878e-17 1.00000000e+00 5.48300000e-01]\n",
      " [8.30000000e-02 0.00000000e+00 5.48300000e-01 1.00000000e+00]]\n",
      "Step: 9: current parameter_diff: 11.3240243550818, current marginal loglikelihood: -602.348366658718\n"
     ]
    },
    {
     "name": "stderr",
     "output_type": "stream",
     "text": [
      "c:\\Users\\Jesper\\Documents\\GitHub\\Knowledge-Growth-Prediction\\models\\mirt_2pl_gain.py:267: RuntimeWarning: divide by zero encountered in log\n",
      "  (1-answer_vector), np.log(1-ICC_values)[0]) + np.log(latent_density)\n"
     ]
    },
    {
     "name": "stdout",
     "output_type": "stream",
     "text": [
      "Absolute diff in A:\n",
      "[[0.         0.58477771]\n",
      " [0.86730946 0.        ]\n",
      " [1.56154082 0.        ]\n",
      " [0.11690122 0.        ]\n",
      " [0.46068278 0.        ]\n",
      " [0.27441672 0.        ]\n",
      " [0.44856979 0.        ]\n",
      " [4.30212251 0.93310812]\n",
      " [0.31066281 0.75119537]\n",
      " [0.71115057 1.12021279]\n",
      " [2.87776024 0.97639797]\n",
      " [3.57965369 0.40650508]]\n",
      "Absolute diff in delta:\n",
      "[0.06519479 0.40314446 1.06358265 0.03110368 0.01705753 0.19632955\n",
      " 0.34308451 0.78505855 0.82945643 0.4539918  0.18006854 1.28351019]\n",
      "Absolute diff in sigma:\n",
      "[[0.000e+00 7.122e-01]\n",
      " [7.122e-01 1.000e-04]]\n",
      "Absolute diff in A:\n",
      "[[ 0.          0.18566511]\n",
      " [ 0.          0.79006047]\n",
      " [ 0.          0.64748546]\n",
      " [ 0.          4.96248854]\n",
      " [ 1.2995049   0.        ]\n",
      " [15.9500007   0.        ]\n",
      " [ 0.44596163  0.        ]\n",
      " [13.99894226  0.        ]\n",
      " [ 0.29080405  1.23714246]\n",
      " [ 0.07283649  1.53979519]\n",
      " [ 1.06784062  0.28469356]\n",
      " [ 4.29133484  6.05981418]]\n",
      "Absolute diff in delta:\n",
      "[1.67870203 0.76258025 0.92597093 0.85740333 1.04225554 0.49628434\n",
      " 0.54572451 2.00243946 1.9226079  1.92210841 0.13604544 6.75153627]\n",
      "Absolute diff in A:\n",
      "[[0.         0.04154488]\n",
      " [0.72439001 0.        ]\n",
      " [6.14880476 0.        ]\n",
      " [5.07187236 0.        ]\n",
      " [0.4379912  0.        ]\n",
      " [1.07881704 0.        ]\n",
      " [3.32353475 0.        ]\n",
      " [6.30184361 0.11358874]\n",
      " [3.17643879 0.53872536]\n",
      " [2.82347748 0.29325741]\n",
      " [1.93770148 2.34063697]\n",
      " [4.79796298 0.70957215]]\n",
      "Absolute diff in delta:\n",
      "[0.05817174 0.36568374 0.54817576 0.40654473 0.18511455 0.01073316\n",
      " 1.15174071 0.41633202 0.6422473  1.9950136  0.06677749 0.76907427]\n",
      "Absolute diff in sigma:\n",
      "[[0.     0.4754]\n",
      " [0.4754 0.    ]]\n",
      "Absolute diff in A:\n",
      "[[1.         2.43230525]\n",
      " [1.         1.64504406]\n",
      " [1.         3.04050596]\n",
      " [1.         6.26241916]\n",
      " [3.24014578 1.        ]\n",
      " [6.59031539 1.        ]\n",
      " [0.07725235 1.        ]\n",
      " [5.19913325 1.        ]\n",
      " [0.71721999 1.92907236]\n",
      " [1.40918395 1.21671678]\n",
      " [0.38475637 0.53951283]\n",
      " [1.46654496 3.99654197]]\n",
      "Absolute diff in delta:\n",
      "[0.29926158 1.37000853 0.62921923 1.36756236 2.11151051 0.78868228\n",
      " 0.34784055 0.51825033 1.82241485 1.55165774 2.05114267 0.07619732]\n",
      "Covariance matrix is good: True\n",
      "EM Iteration 2\n",
      "Current Monte Carlo Sample size: 300\n",
      "[[1.         0.60255991]\n",
      " [0.60255991 1.        ]]\n"
     ]
    },
    {
     "name": "stderr",
     "output_type": "stream",
     "text": [
      "c:\\Users\\Jesper\\Anaconda3\\lib\\site-packages\\scipy\\stats\\_qmc.py:2039: UserWarning: The balance properties of Sobol' points require n to be a power of 2.\n",
      "  samples = self.engine.random(n)\n"
     ]
    },
    {
     "name": "stdout",
     "output_type": "stream",
     "text": [
      "Step: 2: current parameter_diff: 17.853286317237128, current marginal loglikelihood: -558.9164682538287\n",
      "EM Iteration 3\n",
      "Current Monte Carlo Sample size: 300\n",
      "[[1.         0.66210885]\n",
      " [0.66210885 1.        ]]\n"
     ]
    },
    {
     "name": "stderr",
     "output_type": "stream",
     "text": [
      "c:\\Users\\Jesper\\Anaconda3\\lib\\site-packages\\scipy\\stats\\_qmc.py:2039: UserWarning: The balance properties of Sobol' points require n to be a power of 2.\n",
      "  samples = self.engine.random(n)\n"
     ]
    },
    {
     "name": "stdout",
     "output_type": "stream",
     "text": [
      "Step: 3: current parameter_diff: 8.993131163103257, current marginal loglikelihood: -548.5675173420423\n",
      "EM Iteration 4\n",
      "Current Monte Carlo Sample size: 330\n",
      "[[1.         0.69028851]\n",
      " [0.69028851 1.        ]]\n"
     ]
    },
    {
     "name": "stderr",
     "output_type": "stream",
     "text": [
      "c:\\Users\\Jesper\\Anaconda3\\lib\\site-packages\\scipy\\stats\\_qmc.py:2039: UserWarning: The balance properties of Sobol' points require n to be a power of 2.\n",
      "  samples = self.engine.random(n)\n"
     ]
    },
    {
     "name": "stdout",
     "output_type": "stream",
     "text": [
      "Step: 4: current parameter_diff: 6.202218892299487, current marginal loglikelihood: -546.8803385908334\n",
      "EM Iteration 5\n",
      "Current Monte Carlo Sample size: 330\n",
      "[[1.         0.69601365]\n",
      " [0.69601365 1.        ]]\n"
     ]
    },
    {
     "name": "stderr",
     "output_type": "stream",
     "text": [
      "c:\\Users\\Jesper\\Anaconda3\\lib\\site-packages\\scipy\\stats\\_qmc.py:2039: UserWarning: The balance properties of Sobol' points require n to be a power of 2.\n",
      "  samples = self.engine.random(n)\n"
     ]
    },
    {
     "name": "stdout",
     "output_type": "stream",
     "text": [
      "Step: 5: current parameter_diff: 4.296139397146259, current marginal loglikelihood: -544.278562289564\n",
      "EM Iteration 6\n",
      "Current Monte Carlo Sample size: 363\n",
      "[[1.        0.7024257]\n",
      " [0.7024257 1.       ]]\n"
     ]
    },
    {
     "name": "stderr",
     "output_type": "stream",
     "text": [
      "c:\\Users\\Jesper\\Anaconda3\\lib\\site-packages\\scipy\\stats\\_qmc.py:2039: UserWarning: The balance properties of Sobol' points require n to be a power of 2.\n",
      "  samples = self.engine.random(n)\n"
     ]
    },
    {
     "name": "stdout",
     "output_type": "stream",
     "text": [
      "Step: 6: current parameter_diff: 3.8980347130080926, current marginal loglikelihood: -544.9641946943984\n",
      "Covariance matrix is good: True\n",
      "EM Iteration 2\n",
      "Current Monte Carlo Sample size: 300\n",
      "[[1.         0.61473523]\n",
      " [0.61473523 1.        ]]\n"
     ]
    },
    {
     "name": "stderr",
     "output_type": "stream",
     "text": [
      "c:\\Users\\Jesper\\Anaconda3\\lib\\site-packages\\scipy\\stats\\_qmc.py:2039: UserWarning: The balance properties of Sobol' points require n to be a power of 2.\n",
      "  samples = self.engine.random(n)\n"
     ]
    },
    {
     "name": "stdout",
     "output_type": "stream",
     "text": [
      "Step: 2: current parameter_diff: 25.872070703836755, current marginal loglikelihood: -428.9046883921115\n",
      "EM Iteration 3\n",
      "Current Monte Carlo Sample size: 330\n",
      "[[1.         0.64793584]\n",
      " [0.64793584 1.        ]]\n"
     ]
    },
    {
     "name": "stderr",
     "output_type": "stream",
     "text": [
      "c:\\Users\\Jesper\\Anaconda3\\lib\\site-packages\\scipy\\stats\\_qmc.py:2039: UserWarning: The balance properties of Sobol' points require n to be a power of 2.\n",
      "  samples = self.engine.random(n)\n"
     ]
    },
    {
     "name": "stdout",
     "output_type": "stream",
     "text": [
      "Step: 3: current parameter_diff: 23.080289343773657, current marginal loglikelihood: -404.1677356801624\n",
      "EM Iteration 4\n",
      "Current Monte Carlo Sample size: 363\n",
      "[[1.         0.60473986]\n",
      " [0.60473986 1.        ]]\n"
     ]
    },
    {
     "name": "stderr",
     "output_type": "stream",
     "text": [
      "c:\\Users\\Jesper\\Anaconda3\\lib\\site-packages\\scipy\\stats\\_qmc.py:2039: UserWarning: The balance properties of Sobol' points require n to be a power of 2.\n",
      "  samples = self.engine.random(n)\n"
     ]
    },
    {
     "name": "stdout",
     "output_type": "stream",
     "text": [
      "Step: 4: current parameter_diff: 23.073820422764555, current marginal loglikelihood: -394.6275044068603\n",
      "EM Iteration 5\n",
      "Current Monte Carlo Sample size: 399\n",
      "[[1.         0.57016942]\n",
      " [0.57016942 1.        ]]\n"
     ]
    },
    {
     "name": "stderr",
     "output_type": "stream",
     "text": [
      "c:\\Users\\Jesper\\Anaconda3\\lib\\site-packages\\scipy\\stats\\_qmc.py:2039: UserWarning: The balance properties of Sobol' points require n to be a power of 2.\n",
      "  samples = self.engine.random(n)\n"
     ]
    },
    {
     "name": "stdout",
     "output_type": "stream",
     "text": [
      "Step: 5: current parameter_diff: 19.895716059841064, current marginal loglikelihood: -387.22569521887766\n",
      "EM Iteration 6\n",
      "Current Monte Carlo Sample size: 438\n",
      "[[1.         0.54564704]\n",
      " [0.54564704 1.        ]]\n"
     ]
    },
    {
     "name": "stderr",
     "output_type": "stream",
     "text": [
      "c:\\Users\\Jesper\\Anaconda3\\lib\\site-packages\\scipy\\stats\\_qmc.py:2039: UserWarning: The balance properties of Sobol' points require n to be a power of 2.\n",
      "  samples = self.engine.random(n)\n"
     ]
    },
    {
     "name": "stdout",
     "output_type": "stream",
     "text": [
      "Step: 6: current parameter_diff: 22.25960669279086, current marginal loglikelihood: -384.8288321185856\n",
      "EM Iteration 7\n",
      "Current Monte Carlo Sample size: 481\n",
      "[[1.         0.52142173]\n",
      " [0.52142173 1.        ]]\n"
     ]
    },
    {
     "name": "stderr",
     "output_type": "stream",
     "text": [
      "c:\\Users\\Jesper\\Anaconda3\\lib\\site-packages\\scipy\\stats\\_qmc.py:2039: UserWarning: The balance properties of Sobol' points require n to be a power of 2.\n",
      "  samples = self.engine.random(n)\n"
     ]
    },
    {
     "name": "stdout",
     "output_type": "stream",
     "text": [
      "Step: 7: current parameter_diff: 19.122065483383665, current marginal loglikelihood: -385.450447349029\n",
      "EM Iteration 8\n",
      "Current Monte Carlo Sample size: 529\n",
      "[[1.         0.49935832]\n",
      " [0.49935832 1.        ]]\n"
     ]
    },
    {
     "name": "stderr",
     "output_type": "stream",
     "text": [
      "c:\\Users\\Jesper\\Anaconda3\\lib\\site-packages\\scipy\\stats\\_qmc.py:2039: UserWarning: The balance properties of Sobol' points require n to be a power of 2.\n",
      "  samples = self.engine.random(n)\n"
     ]
    },
    {
     "name": "stdout",
     "output_type": "stream",
     "text": [
      "Step: 8: current parameter_diff: 16.003899505273758, current marginal loglikelihood: -383.5608946663571\n"
     ]
    },
    {
     "name": "stderr",
     "output_type": "stream",
     "text": [
      "c:\\Users\\Jesper\\Documents\\GitHub\\Knowledge-Growth-Prediction\\models\\mirt_2pl.py:276: RuntimeWarning: divide by zero encountered in log\n",
      "  (1-answer_vector), np.log(1-ICC_values)[0]) + np.log(latent_density)\n",
      "c:\\Users\\Jesper\\Documents\\GitHub\\Knowledge-Growth-Prediction\\models\\mirt_2pl.py:276: RuntimeWarning: divide by zero encountered in log\n",
      "  (1-answer_vector), np.log(1-ICC_values)[0]) + np.log(latent_density)\n",
      "c:\\Users\\Jesper\\Documents\\GitHub\\Knowledge-Growth-Prediction\\models\\mirt_2pl.py:276: RuntimeWarning: divide by zero encountered in log\n",
      "  (1-answer_vector), np.log(1-ICC_values)[0]) + np.log(latent_density)\n",
      "c:\\Users\\Jesper\\Documents\\GitHub\\Knowledge-Growth-Prediction\\models\\mirt_2pl.py:276: RuntimeWarning: divide by zero encountered in log\n",
      "  (1-answer_vector), np.log(1-ICC_values)[0]) + np.log(latent_density)\n",
      "c:\\Users\\Jesper\\Documents\\GitHub\\Knowledge-Growth-Prediction\\models\\mirt_2pl.py:276: RuntimeWarning: divide by zero encountered in log\n",
      "  (1-answer_vector), np.log(1-ICC_values)[0]) + np.log(latent_density)\n",
      "c:\\Users\\Jesper\\Documents\\GitHub\\Knowledge-Growth-Prediction\\models\\mirt_2pl.py:276: RuntimeWarning: divide by zero encountered in log\n",
      "  (1-answer_vector), np.log(1-ICC_values)[0]) + np.log(latent_density)\n",
      "c:\\Users\\Jesper\\Documents\\GitHub\\Knowledge-Growth-Prediction\\models\\mirt_2pl.py:276: RuntimeWarning: divide by zero encountered in log\n",
      "  (1-answer_vector), np.log(1-ICC_values)[0]) + np.log(latent_density)\n",
      "c:\\Users\\Jesper\\Documents\\GitHub\\Knowledge-Growth-Prediction\\models\\mirt_2pl.py:276: RuntimeWarning: divide by zero encountered in log\n",
      "  (1-answer_vector), np.log(1-ICC_values)[0]) + np.log(latent_density)\n",
      "c:\\Users\\Jesper\\Documents\\GitHub\\Knowledge-Growth-Prediction\\models\\mirt_2pl.py:276: RuntimeWarning: divide by zero encountered in log\n",
      "  (1-answer_vector), np.log(1-ICC_values)[0]) + np.log(latent_density)\n",
      "c:\\Users\\Jesper\\Documents\\GitHub\\Knowledge-Growth-Prediction\\models\\mirt_2pl.py:276: RuntimeWarning: divide by zero encountered in log\n",
      "  (1-answer_vector), np.log(1-ICC_values)[0]) + np.log(latent_density)\n",
      "c:\\Users\\Jesper\\Documents\\GitHub\\Knowledge-Growth-Prediction\\models\\mirt_2pl.py:276: RuntimeWarning: divide by zero encountered in log\n",
      "  (1-answer_vector), np.log(1-ICC_values)[0]) + np.log(latent_density)\n",
      "c:\\Users\\Jesper\\Documents\\GitHub\\Knowledge-Growth-Prediction\\models\\mirt_2pl.py:276: RuntimeWarning: divide by zero encountered in log\n",
      "  (1-answer_vector), np.log(1-ICC_values)[0]) + np.log(latent_density)\n",
      "c:\\Users\\Jesper\\Documents\\GitHub\\Knowledge-Growth-Prediction\\models\\mirt_2pl.py:276: RuntimeWarning: divide by zero encountered in log\n",
      "  (1-answer_vector), np.log(1-ICC_values)[0]) + np.log(latent_density)\n",
      "c:\\Users\\Jesper\\Documents\\GitHub\\Knowledge-Growth-Prediction\\models\\mirt_2pl.py:276: RuntimeWarning: divide by zero encountered in log\n",
      "  (1-answer_vector), np.log(1-ICC_values)[0]) + np.log(latent_density)\n",
      "c:\\Users\\Jesper\\Documents\\GitHub\\Knowledge-Growth-Prediction\\models\\mirt_2pl.py:276: RuntimeWarning: divide by zero encountered in log\n",
      "  (1-answer_vector), np.log(1-ICC_values)[0]) + np.log(latent_density)\n"
     ]
    },
    {
     "name": "stdout",
     "output_type": "stream",
     "text": [
      "[[ 1.          0.7024     -0.80886781 -0.60228312]\n",
      " [ 0.7024      1.         -0.80886778 -0.60228307]\n",
      " [-0.80886781 -0.80886778  1.          0.95655001]\n",
      " [-0.60228312 -0.60228307  0.95655001  1.        ]]\n",
      "Absolute diff in A:\n",
      "[[0.         0.54147646]\n",
      " [0.86815765 0.        ]\n",
      " [1.57835707 0.        ]\n",
      " [0.14619966 0.        ]\n",
      " [0.44098096 0.        ]\n",
      " [0.24516273 0.        ]\n",
      " [0.46788667 0.        ]\n",
      " [4.03738502 0.95887687]\n",
      " [0.46879131 0.86725161]\n",
      " [1.19383385 1.2512937 ]\n",
      " [2.83702485 0.85993819]\n",
      " [3.41993756 0.43057812]]\n",
      "Absolute diff in delta:\n",
      "[0.09606946 0.42070535 1.13255052 0.06651812 0.02270441 0.22273739\n",
      " 0.31586297 0.92025641 0.84178738 0.64543869 0.15240109 1.33647911]\n",
      "Absolute diff in sigma:\n",
      "[[0.     0.6778]\n",
      " [0.6778 0.    ]]\n",
      "Absolute diff in A:\n",
      "[[ 0.          2.05919905]\n",
      " [ 0.          0.78425808]\n",
      " [ 0.          2.08240404]\n",
      " [ 0.          3.08313276]\n",
      " [ 0.53999522  0.        ]\n",
      " [17.50316084  0.        ]\n",
      " [ 1.04845756  0.        ]\n",
      " [17.64153267  0.        ]\n",
      " [ 0.6203796   1.95842028]\n",
      " [ 0.7532073   2.28364678]\n",
      " [ 2.648188    0.62631897]\n",
      " [ 4.7540847   4.93173881]]\n",
      "Absolute diff in delta:\n",
      "[ 4.40734125  2.37749874  3.4942799   2.80519543  2.90991496 11.83266174\n",
      "  0.50771101 12.7023172   4.81055576  4.93295909  1.83343501 11.43256287]\n",
      "Real latent covariance: [[1.     0.3469 0.2547 0.    ]\n",
      " [0.3469 1.     0.362  0.    ]\n",
      " [0.2547 0.362  1.     0.4083]\n",
      " [0.     0.     0.4083 1.    ]]\n",
      "Covariance matrix is good: True\n",
      "EM Iteration 2\n",
      "Current Monte Carlo Sample size: 300\n",
      "[[1.         0.61635891]\n",
      " [0.61635891 1.        ]]\n"
     ]
    },
    {
     "name": "stderr",
     "output_type": "stream",
     "text": [
      "c:\\Users\\Jesper\\Anaconda3\\lib\\site-packages\\scipy\\stats\\_qmc.py:2039: UserWarning: The balance properties of Sobol' points require n to be a power of 2.\n",
      "  samples = self.engine.random(n)\n"
     ]
    },
    {
     "name": "stdout",
     "output_type": "stream",
     "text": [
      "Step: 2: current parameter_diff: 12.39729589945114, current marginal loglikelihood: -597.5159745366253\n",
      "EM Iteration 3\n",
      "Current Monte Carlo Sample size: 300\n",
      "[[1.         0.54252513]\n",
      " [0.54252513 1.        ]]\n"
     ]
    },
    {
     "name": "stderr",
     "output_type": "stream",
     "text": [
      "c:\\Users\\Jesper\\Anaconda3\\lib\\site-packages\\scipy\\stats\\_qmc.py:2039: UserWarning: The balance properties of Sobol' points require n to be a power of 2.\n",
      "  samples = self.engine.random(n)\n"
     ]
    },
    {
     "name": "stdout",
     "output_type": "stream",
     "text": [
      "Step: 3: current parameter_diff: 11.495188152709266, current marginal loglikelihood: -572.2366987000793\n",
      "EM Iteration 4\n",
      "Current Monte Carlo Sample size: 330\n",
      "[[1.         0.48723732]\n",
      " [0.48723732 1.        ]]\n"
     ]
    },
    {
     "name": "stderr",
     "output_type": "stream",
     "text": [
      "c:\\Users\\Jesper\\Anaconda3\\lib\\site-packages\\scipy\\stats\\_qmc.py:2039: UserWarning: The balance properties of Sobol' points require n to be a power of 2.\n",
      "  samples = self.engine.random(n)\n"
     ]
    },
    {
     "name": "stdout",
     "output_type": "stream",
     "text": [
      "Step: 4: current parameter_diff: 11.102770128180245, current marginal loglikelihood: -563.7604263319578\n",
      "EM Iteration 5\n",
      "Current Monte Carlo Sample size: 363\n",
      "[[1.         0.42794028]\n",
      " [0.42794028 1.        ]]\n"
     ]
    },
    {
     "name": "stderr",
     "output_type": "stream",
     "text": [
      "c:\\Users\\Jesper\\Anaconda3\\lib\\site-packages\\scipy\\stats\\_qmc.py:2039: UserWarning: The balance properties of Sobol' points require n to be a power of 2.\n",
      "  samples = self.engine.random(n)\n"
     ]
    },
    {
     "name": "stdout",
     "output_type": "stream",
     "text": [
      "Step: 5: current parameter_diff: 9.771679440122446, current marginal loglikelihood: -556.7580019923804\n",
      "EM Iteration 6\n",
      "Current Monte Carlo Sample size: 399\n",
      "[[1.         0.37307649]\n",
      " [0.37307649 1.        ]]\n"
     ]
    },
    {
     "name": "stderr",
     "output_type": "stream",
     "text": [
      "c:\\Users\\Jesper\\Anaconda3\\lib\\site-packages\\scipy\\stats\\_qmc.py:2039: UserWarning: The balance properties of Sobol' points require n to be a power of 2.\n",
      "  samples = self.engine.random(n)\n"
     ]
    },
    {
     "name": "stdout",
     "output_type": "stream",
     "text": [
      "Step: 6: current parameter_diff: 8.58500138498599, current marginal loglikelihood: -555.8968003140917\n",
      "EM Iteration 7\n",
      "Current Monte Carlo Sample size: 438\n",
      "[[1.         0.31160452]\n",
      " [0.31160452 1.        ]]\n"
     ]
    },
    {
     "name": "stderr",
     "output_type": "stream",
     "text": [
      "c:\\Users\\Jesper\\Anaconda3\\lib\\site-packages\\scipy\\stats\\_qmc.py:2039: UserWarning: The balance properties of Sobol' points require n to be a power of 2.\n",
      "  samples = self.engine.random(n)\n"
     ]
    },
    {
     "name": "stdout",
     "output_type": "stream",
     "text": [
      "Step: 7: current parameter_diff: 7.318500681681875, current marginal loglikelihood: -553.4904198655406\n",
      "EM Iteration 8\n",
      "Current Monte Carlo Sample size: 481\n",
      "[[1.         0.27761374]\n",
      " [0.27761374 1.        ]]\n",
      "Step: 8: current parameter_diff: 6.97500795733342, current marginal loglikelihood: -551.5406575494058\n"
     ]
    },
    {
     "name": "stderr",
     "output_type": "stream",
     "text": [
      "c:\\Users\\Jesper\\Documents\\GitHub\\Knowledge-Growth-Prediction\\models\\mirt_2pl.py:276: RuntimeWarning: divide by zero encountered in log\n",
      "  (1-answer_vector), np.log(1-ICC_values)[0]) + np.log(latent_density)\n"
     ]
    },
    {
     "name": "stdout",
     "output_type": "stream",
     "text": [
      "EM Iteration 2\n"
     ]
    },
    {
     "name": "stderr",
     "output_type": "stream",
     "text": [
      "c:\\Users\\Jesper\\Anaconda3\\lib\\site-packages\\scipy\\stats\\_qmc.py:2039: UserWarning: The balance properties of Sobol' points require n to be a power of 2.\n",
      "  samples = self.engine.random(n)\n"
     ]
    },
    {
     "name": "stdout",
     "output_type": "stream",
     "text": [
      "Current Monte Carlo Sample size: 300\n",
      "[[1.         0.41201118 0.51961208 0.44582041]\n",
      " [0.41201118 1.         0.48351552 0.45065088]\n",
      " [0.51961208 0.48351552 1.         0.50267663]\n",
      " [0.44582041 0.45065088 0.50267663 1.        ]]\n",
      "Step: 2: current parameter_diff: 19.92286322374384, current marginal loglikelihood: -623.145201085106\n",
      "EM Iteration 3\n"
     ]
    },
    {
     "name": "stderr",
     "output_type": "stream",
     "text": [
      "c:\\Users\\Jesper\\Anaconda3\\lib\\site-packages\\scipy\\stats\\_qmc.py:2039: UserWarning: The balance properties of Sobol' points require n to be a power of 2.\n",
      "  samples = self.engine.random(n)\n"
     ]
    },
    {
     "name": "stdout",
     "output_type": "stream",
     "text": [
      "Current Monte Carlo Sample size: 300\n",
      "[[1.         0.51598146 0.53997442 0.35174279]\n",
      " [0.51598146 1.         0.35361784 0.28746611]\n",
      " [0.53997442 0.35361784 1.         0.40482255]\n",
      " [0.35174279 0.28746611 0.40482255 1.        ]]\n",
      "Step: 3: current parameter_diff: 16.947238267718514, current marginal loglikelihood: -587.1893847567567\n",
      "EM Iteration 4\n"
     ]
    },
    {
     "name": "stderr",
     "output_type": "stream",
     "text": [
      "c:\\Users\\Jesper\\Anaconda3\\lib\\site-packages\\scipy\\stats\\_qmc.py:2039: UserWarning: The balance properties of Sobol' points require n to be a power of 2.\n",
      "  samples = self.engine.random(n)\n"
     ]
    },
    {
     "name": "stdout",
     "output_type": "stream",
     "text": [
      "Current Monte Carlo Sample size: 300\n",
      "[[1.         0.52565985 0.56558254 0.3634587 ]\n",
      " [0.52565985 1.         0.36169346 0.29374298]\n",
      " [0.56558254 0.36169346 1.         0.41354597]\n",
      " [0.3634587  0.29374298 0.41354597 1.        ]]\n",
      "Step: 4: current parameter_diff: 14.940755202309498, current marginal loglikelihood: -577.8135736782991\n",
      "EM Iteration 5\n"
     ]
    },
    {
     "name": "stderr",
     "output_type": "stream",
     "text": [
      "c:\\Users\\Jesper\\Anaconda3\\lib\\site-packages\\scipy\\stats\\_qmc.py:2039: UserWarning: The balance properties of Sobol' points require n to be a power of 2.\n",
      "  samples = self.engine.random(n)\n"
     ]
    },
    {
     "name": "stdout",
     "output_type": "stream",
     "text": [
      "Current Monte Carlo Sample size: 330\n",
      "[[1.         0.53599471 0.59480103 0.37863162]\n",
      " [0.53599471 1.         0.36785891 0.30153192]\n",
      " [0.59480103 0.36785891 1.         0.42320337]\n",
      " [0.37863162 0.30153192 0.42320337 1.        ]]\n",
      "Step: 5: current parameter_diff: 14.818732198826167, current marginal loglikelihood: -573.1138686369616\n",
      "EM Iteration 6\n"
     ]
    },
    {
     "name": "stderr",
     "output_type": "stream",
     "text": [
      "c:\\Users\\Jesper\\Anaconda3\\lib\\site-packages\\scipy\\stats\\_qmc.py:2039: UserWarning: The balance properties of Sobol' points require n to be a power of 2.\n",
      "  samples = self.engine.random(n)\n"
     ]
    },
    {
     "name": "stdout",
     "output_type": "stream",
     "text": [
      "Current Monte Carlo Sample size: 363\n",
      "[[1.         0.5489779  0.62363084 0.39578968]\n",
      " [0.5489779  1.         0.37397333 0.31149954]\n",
      " [0.62363084 0.37397333 1.         0.43325199]\n",
      " [0.39578968 0.31149954 0.43325199 1.        ]]\n",
      "Step: 6: current parameter_diff: 12.215263230405554, current marginal loglikelihood: -568.6807065832925\n",
      "EM Iteration 7\n"
     ]
    },
    {
     "name": "stderr",
     "output_type": "stream",
     "text": [
      "c:\\Users\\Jesper\\Anaconda3\\lib\\site-packages\\scipy\\stats\\_qmc.py:2039: UserWarning: The balance properties of Sobol' points require n to be a power of 2.\n",
      "  samples = self.engine.random(n)\n"
     ]
    },
    {
     "name": "stdout",
     "output_type": "stream",
     "text": [
      "Current Monte Carlo Sample size: 399\n",
      "[[1.         0.56659539 0.65484133 0.41645934]\n",
      " [0.56659539 1.         0.38027347 0.32375853]\n",
      " [0.65484133 0.38027347 1.         0.44331868]\n",
      " [0.41645934 0.32375853 0.44331868 1.        ]]\n",
      "Step: 7: current parameter_diff: 8.632864928549846, current marginal loglikelihood: -571.8410269109937\n"
     ]
    },
    {
     "name": "stderr",
     "output_type": "stream",
     "text": [
      "c:\\Users\\Jesper\\Documents\\GitHub\\Knowledge-Growth-Prediction\\models\\mirt_2pl_gain.py:267: RuntimeWarning: divide by zero encountered in log\n",
      "  (1-answer_vector), np.log(1-ICC_values)[0]) + np.log(latent_density)\n",
      "c:\\Users\\Jesper\\Documents\\GitHub\\Knowledge-Growth-Prediction\\models\\mirt_2pl_gain.py:267: RuntimeWarning: divide by zero encountered in log\n",
      "  (1-answer_vector), np.log(1-ICC_values)[0]) + np.log(latent_density)\n",
      "c:\\Users\\Jesper\\Documents\\GitHub\\Knowledge-Growth-Prediction\\models\\mirt_2pl_gain.py:267: RuntimeWarning: divide by zero encountered in log\n",
      "  (1-answer_vector), np.log(1-ICC_values)[0]) + np.log(latent_density)\n"
     ]
    },
    {
     "name": "stdout",
     "output_type": "stream",
     "text": [
      "Absolute diff in A:\n",
      "[[ 0.          0.19001567]\n",
      " [ 0.          0.34277777]\n",
      " [ 0.          0.20812937]\n",
      " [ 0.01113882  0.        ]\n",
      " [ 0.43167997  0.        ]\n",
      " [ 2.02755327  0.        ]\n",
      " [10.12573634  0.        ]\n",
      " [ 0.42792983  0.        ]\n",
      " [ 0.17023435  0.75836705]\n",
      " [ 0.05559798  0.53173169]\n",
      " [ 0.02407545  0.40933585]\n",
      " [ 0.9128841   0.24707645]]\n",
      "Absolute diff in delta:\n",
      "[0.26267345 0.74358786 0.19587125 0.65014158 0.40307608 0.05116073\n",
      " 2.43585927 0.17045954 0.69380239 1.07730425 0.093056   0.3367197 ]\n",
      "Absolute diff in sigma:\n",
      "[[0.00e+00 6.93e-02]\n",
      " [6.93e-02 1.00e-04]]\n",
      "Absolute diff in A:\n",
      "[[0.         0.41843404]\n",
      " [0.         0.84522035]\n",
      " [0.         0.50882237]\n",
      " [0.         0.0458298 ]\n",
      " [1.66099046 0.        ]\n",
      " [1.24318718 0.        ]\n",
      " [1.65150538 0.        ]\n",
      " [0.1176165  0.        ]\n",
      " [2.41013344 0.        ]\n",
      " [0.12550798 0.        ]\n",
      " [2.03004683 6.18836073]\n",
      " [0.21599407 0.11423703]]\n",
      "Absolute diff in delta:\n",
      "[0.79711207 2.73169646 0.86932376 0.81447747 0.81581707 1.06709718\n",
      " 0.57350496 0.74046295 1.79672744 0.59130975 2.29582185 0.04412111]\n",
      "Absolute diff in A:\n",
      "[[0.         1.95741508]\n",
      " [0.         0.20492994]\n",
      " [0.         6.55519426]\n",
      " [0.02832321 0.        ]\n",
      " [0.27712512 0.        ]\n",
      " [3.00813595 0.        ]\n",
      " [9.18664262 0.        ]\n",
      " [0.2094828  0.        ]\n",
      " [5.54883453 0.92387415]\n",
      " [1.10803346 5.2841928 ]\n",
      " [0.58561318 0.26314384]\n",
      " [3.79265813 0.38289734]]\n",
      "Absolute diff in delta:\n",
      "[0.26995279 0.46392974 0.79526794 0.75033421 0.11008155 0.17330709\n",
      " 1.53325208 0.03290236 0.13726009 0.23270979 0.11448551 0.97860814]\n",
      "Absolute diff in sigma:\n",
      "[[0.     0.1531]\n",
      " [0.1531 0.    ]]\n",
      "Absolute diff in A:\n",
      "[[1.         7.76356334]\n",
      " [1.         7.54716953]\n",
      " [1.         0.97083569]\n",
      " [1.         0.96339281]\n",
      " [2.90036029 1.        ]\n",
      " [0.33407525 1.        ]\n",
      " [1.63805667 1.        ]\n",
      " [1.03658756 1.        ]\n",
      " [6.353695   1.        ]\n",
      " [6.14893786 1.        ]\n",
      " [3.93225731 7.48327854]\n",
      " [1.86056313 0.08419968]]\n",
      "Absolute diff in delta:\n",
      "[1.20356476 1.97691242 1.46786216 1.4300898  2.42464582 0.01935789\n",
      " 0.38117961 0.64459111 1.24291052 3.13226084 0.04419677 1.84463871]\n",
      "Covariance matrix is good: True\n",
      "EM Iteration 2\n",
      "Current Monte Carlo Sample size: 300\n",
      "[[1.         0.58733501]\n",
      " [0.58733501 1.        ]]\n"
     ]
    },
    {
     "name": "stderr",
     "output_type": "stream",
     "text": [
      "c:\\Users\\Jesper\\Anaconda3\\lib\\site-packages\\scipy\\stats\\_qmc.py:2039: UserWarning: The balance properties of Sobol' points require n to be a power of 2.\n",
      "  samples = self.engine.random(n)\n"
     ]
    },
    {
     "name": "stdout",
     "output_type": "stream",
     "text": [
      "Step: 2: current parameter_diff: 12.800265534672842, current marginal loglikelihood: -594.2254182079338\n",
      "EM Iteration 3\n",
      "Current Monte Carlo Sample size: 330\n",
      "[[1.         0.54680124]\n",
      " [0.54680124 1.        ]]\n"
     ]
    },
    {
     "name": "stderr",
     "output_type": "stream",
     "text": [
      "c:\\Users\\Jesper\\Anaconda3\\lib\\site-packages\\scipy\\stats\\_qmc.py:2039: UserWarning: The balance properties of Sobol' points require n to be a power of 2.\n",
      "  samples = self.engine.random(n)\n"
     ]
    },
    {
     "name": "stdout",
     "output_type": "stream",
     "text": [
      "Step: 3: current parameter_diff: 10.734602278095517, current marginal loglikelihood: -574.3779742379865\n",
      "EM Iteration 4\n",
      "Current Monte Carlo Sample size: 363\n",
      "[[1.         0.49844912]\n",
      " [0.49844912 1.        ]]\n"
     ]
    },
    {
     "name": "stderr",
     "output_type": "stream",
     "text": [
      "c:\\Users\\Jesper\\Anaconda3\\lib\\site-packages\\scipy\\stats\\_qmc.py:2039: UserWarning: The balance properties of Sobol' points require n to be a power of 2.\n",
      "  samples = self.engine.random(n)\n"
     ]
    },
    {
     "name": "stdout",
     "output_type": "stream",
     "text": [
      "Step: 4: current parameter_diff: 10.441549066630744, current marginal loglikelihood: -564.5966063291902\n",
      "EM Iteration 5\n",
      "Current Monte Carlo Sample size: 399\n",
      "[[1.         0.45126485]\n",
      " [0.45126485 1.        ]]\n"
     ]
    },
    {
     "name": "stderr",
     "output_type": "stream",
     "text": [
      "c:\\Users\\Jesper\\Anaconda3\\lib\\site-packages\\scipy\\stats\\_qmc.py:2039: UserWarning: The balance properties of Sobol' points require n to be a power of 2.\n",
      "  samples = self.engine.random(n)\n"
     ]
    },
    {
     "name": "stdout",
     "output_type": "stream",
     "text": [
      "Step: 5: current parameter_diff: 8.627588640823904, current marginal loglikelihood: -558.4814495295853\n",
      "EM Iteration 6\n",
      "Current Monte Carlo Sample size: 438\n",
      "[[1.        0.4052883]\n",
      " [0.4052883 1.       ]]\n"
     ]
    },
    {
     "name": "stderr",
     "output_type": "stream",
     "text": [
      "c:\\Users\\Jesper\\Anaconda3\\lib\\site-packages\\scipy\\stats\\_qmc.py:2039: UserWarning: The balance properties of Sobol' points require n to be a power of 2.\n",
      "  samples = self.engine.random(n)\n"
     ]
    },
    {
     "name": "stdout",
     "output_type": "stream",
     "text": [
      "Step: 6: current parameter_diff: 8.818069403734562, current marginal loglikelihood: -554.9752196069779\n",
      "EM Iteration 7\n",
      "Current Monte Carlo Sample size: 481\n",
      "[[1.         0.34771607]\n",
      " [0.34771607 1.        ]]\n"
     ]
    },
    {
     "name": "stderr",
     "output_type": "stream",
     "text": [
      "c:\\Users\\Jesper\\Anaconda3\\lib\\site-packages\\scipy\\stats\\_qmc.py:2039: UserWarning: The balance properties of Sobol' points require n to be a power of 2.\n",
      "  samples = self.engine.random(n)\n"
     ]
    },
    {
     "name": "stdout",
     "output_type": "stream",
     "text": [
      "Step: 7: current parameter_diff: 7.648564180730005, current marginal loglikelihood: -553.6291399119359\n",
      "EM Iteration 8\n",
      "Current Monte Carlo Sample size: 529\n",
      "[[1.         0.30699016]\n",
      " [0.30699016 1.        ]]\n",
      "Step: 8: current parameter_diff: 6.784493790420644, current marginal loglikelihood: -552.8115007970727\n"
     ]
    },
    {
     "name": "stderr",
     "output_type": "stream",
     "text": [
      "c:\\Users\\Jesper\\Documents\\GitHub\\Knowledge-Growth-Prediction\\models\\mirt_2pl.py:276: RuntimeWarning: divide by zero encountered in log\n",
      "  (1-answer_vector), np.log(1-ICC_values)[0]) + np.log(latent_density)\n"
     ]
    },
    {
     "name": "stdout",
     "output_type": "stream",
     "text": [
      "Covariance matrix is good: True\n",
      "EM Iteration 2\n",
      "Current Monte Carlo Sample size: 300\n",
      "[[1.         0.60242862]\n",
      " [0.60242862 1.        ]]\n"
     ]
    },
    {
     "name": "stderr",
     "output_type": "stream",
     "text": [
      "c:\\Users\\Jesper\\Anaconda3\\lib\\site-packages\\scipy\\stats\\_qmc.py:2039: UserWarning: The balance properties of Sobol' points require n to be a power of 2.\n",
      "  samples = self.engine.random(n)\n"
     ]
    },
    {
     "name": "stdout",
     "output_type": "stream",
     "text": [
      "Step: 2: current parameter_diff: 21.364485962352695, current marginal loglikelihood: -432.8378659392821\n",
      "EM Iteration 3\n",
      "Current Monte Carlo Sample size: 330\n",
      "[[1.         0.68154463]\n",
      " [0.68154463 1.        ]]\n"
     ]
    },
    {
     "name": "stderr",
     "output_type": "stream",
     "text": [
      "c:\\Users\\Jesper\\Anaconda3\\lib\\site-packages\\scipy\\stats\\_qmc.py:2039: UserWarning: The balance properties of Sobol' points require n to be a power of 2.\n",
      "  samples = self.engine.random(n)\n"
     ]
    },
    {
     "name": "stdout",
     "output_type": "stream",
     "text": [
      "Step: 3: current parameter_diff: 22.85398821195624, current marginal loglikelihood: -409.2572882381007\n",
      "EM Iteration 4\n",
      "Current Monte Carlo Sample size: 330\n",
      "[[1.         0.72117909]\n",
      " [0.72117909 1.        ]]\n"
     ]
    },
    {
     "name": "stderr",
     "output_type": "stream",
     "text": [
      "c:\\Users\\Jesper\\Anaconda3\\lib\\site-packages\\scipy\\stats\\_qmc.py:2039: UserWarning: The balance properties of Sobol' points require n to be a power of 2.\n",
      "  samples = self.engine.random(n)\n"
     ]
    },
    {
     "name": "stdout",
     "output_type": "stream",
     "text": [
      "Step: 4: current parameter_diff: 19.59423008729006, current marginal loglikelihood: -400.880505454291\n",
      "EM Iteration 5\n",
      "Current Monte Carlo Sample size: 363\n",
      "[[1.         0.70874223]\n",
      " [0.70874223 1.        ]]\n"
     ]
    },
    {
     "name": "stderr",
     "output_type": "stream",
     "text": [
      "c:\\Users\\Jesper\\Anaconda3\\lib\\site-packages\\scipy\\stats\\_qmc.py:2039: UserWarning: The balance properties of Sobol' points require n to be a power of 2.\n",
      "  samples = self.engine.random(n)\n"
     ]
    },
    {
     "name": "stdout",
     "output_type": "stream",
     "text": [
      "Step: 5: current parameter_diff: 15.75534172888367, current marginal loglikelihood: -397.71225848362053\n",
      "EM Iteration 6\n",
      "Current Monte Carlo Sample size: 399\n",
      "[[1.      0.71224]\n",
      " [0.71224 1.     ]]\n"
     ]
    },
    {
     "name": "stderr",
     "output_type": "stream",
     "text": [
      "c:\\Users\\Jesper\\Anaconda3\\lib\\site-packages\\scipy\\stats\\_qmc.py:2039: UserWarning: The balance properties of Sobol' points require n to be a power of 2.\n",
      "  samples = self.engine.random(n)\n"
     ]
    },
    {
     "name": "stdout",
     "output_type": "stream",
     "text": [
      "Step: 6: current parameter_diff: 15.91252845088551, current marginal loglikelihood: -395.1486020472913\n",
      "EM Iteration 7\n",
      "Current Monte Carlo Sample size: 438\n",
      "[[1.         0.70372348]\n",
      " [0.70372348 1.        ]]\n"
     ]
    },
    {
     "name": "stderr",
     "output_type": "stream",
     "text": [
      "c:\\Users\\Jesper\\Anaconda3\\lib\\site-packages\\scipy\\stats\\_qmc.py:2039: UserWarning: The balance properties of Sobol' points require n to be a power of 2.\n",
      "  samples = self.engine.random(n)\n"
     ]
    },
    {
     "name": "stdout",
     "output_type": "stream",
     "text": [
      "Step: 7: current parameter_diff: 17.384287992203216, current marginal loglikelihood: -393.72440178235644\n"
     ]
    },
    {
     "name": "stderr",
     "output_type": "stream",
     "text": [
      "c:\\Users\\Jesper\\Documents\\GitHub\\Knowledge-Growth-Prediction\\models\\mirt_2pl.py:276: RuntimeWarning: divide by zero encountered in log\n",
      "  (1-answer_vector), np.log(1-ICC_values)[0]) + np.log(latent_density)\n",
      "c:\\Users\\Jesper\\Documents\\GitHub\\Knowledge-Growth-Prediction\\models\\mirt_2pl.py:276: RuntimeWarning: divide by zero encountered in log\n",
      "  (1-answer_vector), np.log(1-ICC_values)[0]) + np.log(latent_density)\n",
      "c:\\Users\\Jesper\\Documents\\GitHub\\Knowledge-Growth-Prediction\\models\\mirt_2pl.py:276: RuntimeWarning: divide by zero encountered in log\n",
      "  (1-answer_vector), np.log(1-ICC_values)[0]) + np.log(latent_density)\n",
      "c:\\Users\\Jesper\\Documents\\GitHub\\Knowledge-Growth-Prediction\\models\\mirt_2pl.py:276: RuntimeWarning: divide by zero encountered in log\n",
      "  (1-answer_vector), np.log(1-ICC_values)[0]) + np.log(latent_density)\n",
      "c:\\Users\\Jesper\\Documents\\GitHub\\Knowledge-Growth-Prediction\\models\\mirt_2pl.py:276: RuntimeWarning: divide by zero encountered in log\n",
      "  (1-answer_vector), np.log(1-ICC_values)[0]) + np.log(latent_density)\n",
      "c:\\Users\\Jesper\\Documents\\GitHub\\Knowledge-Growth-Prediction\\models\\mirt_2pl.py:276: RuntimeWarning: divide by zero encountered in log\n",
      "  (1-answer_vector), np.log(1-ICC_values)[0]) + np.log(latent_density)\n",
      "c:\\Users\\Jesper\\Documents\\GitHub\\Knowledge-Growth-Prediction\\models\\mirt_2pl.py:276: RuntimeWarning: divide by zero encountered in log\n",
      "  (1-answer_vector), np.log(1-ICC_values)[0]) + np.log(latent_density)\n",
      "c:\\Users\\Jesper\\Documents\\GitHub\\Knowledge-Growth-Prediction\\models\\mirt_2pl.py:276: RuntimeWarning: divide by zero encountered in log\n",
      "  (1-answer_vector), np.log(1-ICC_values)[0]) + np.log(latent_density)\n",
      "c:\\Users\\Jesper\\Documents\\GitHub\\Knowledge-Growth-Prediction\\models\\mirt_2pl.py:276: RuntimeWarning: divide by zero encountered in log\n",
      "  (1-answer_vector), np.log(1-ICC_values)[0]) + np.log(latent_density)\n",
      "c:\\Users\\Jesper\\Documents\\GitHub\\Knowledge-Growth-Prediction\\models\\mirt_2pl.py:276: RuntimeWarning: divide by zero encountered in log\n",
      "  (1-answer_vector), np.log(1-ICC_values)[0]) + np.log(latent_density)\n",
      "c:\\Users\\Jesper\\Documents\\GitHub\\Knowledge-Growth-Prediction\\models\\mirt_2pl.py:276: RuntimeWarning: divide by zero encountered in log\n",
      "  (1-answer_vector), np.log(1-ICC_values)[0]) + np.log(latent_density)\n",
      "c:\\Users\\Jesper\\Anaconda3\\lib\\site-packages\\scipy\\optimize\\_numdiff.py:576: RuntimeWarning: invalid value encountered in subtract\n",
      "  df = fun(x) - f0\n",
      "c:\\Users\\Jesper\\Documents\\GitHub\\Knowledge-Growth-Prediction\\models\\mirt_2pl.py:276: RuntimeWarning: divide by zero encountered in log\n",
      "  (1-answer_vector), np.log(1-ICC_values)[0]) + np.log(latent_density)\n",
      "c:\\Users\\Jesper\\Documents\\GitHub\\Knowledge-Growth-Prediction\\models\\mirt_2pl.py:276: RuntimeWarning: divide by zero encountered in log\n",
      "  (1-answer_vector), np.log(1-ICC_values)[0]) + np.log(latent_density)\n",
      "c:\\Users\\Jesper\\Documents\\GitHub\\Knowledge-Growth-Prediction\\models\\mirt_2pl.py:276: RuntimeWarning: divide by zero encountered in log\n",
      "  (1-answer_vector), np.log(1-ICC_values)[0]) + np.log(latent_density)\n",
      "c:\\Users\\Jesper\\Documents\\GitHub\\Knowledge-Growth-Prediction\\models\\mirt_2pl.py:276: RuntimeWarning: divide by zero encountered in log\n",
      "  (1-answer_vector), np.log(1-ICC_values)[0]) + np.log(latent_density)\n",
      "c:\\Users\\Jesper\\Documents\\GitHub\\Knowledge-Growth-Prediction\\models\\mirt_2pl.py:276: RuntimeWarning: divide by zero encountered in log\n",
      "  (1-answer_vector), np.log(1-ICC_values)[0]) + np.log(latent_density)\n",
      "c:\\Users\\Jesper\\Documents\\GitHub\\Knowledge-Growth-Prediction\\models\\mirt_2pl.py:276: RuntimeWarning: divide by zero encountered in log\n",
      "  (1-answer_vector), np.log(1-ICC_values)[0]) + np.log(latent_density)\n",
      "c:\\Users\\Jesper\\Documents\\GitHub\\Knowledge-Growth-Prediction\\models\\mirt_2pl.py:276: RuntimeWarning: divide by zero encountered in log\n",
      "  (1-answer_vector), np.log(1-ICC_values)[0]) + np.log(latent_density)\n",
      "c:\\Users\\Jesper\\Documents\\GitHub\\Knowledge-Growth-Prediction\\models\\mirt_2pl.py:276: RuntimeWarning: divide by zero encountered in log\n",
      "  (1-answer_vector), np.log(1-ICC_values)[0]) + np.log(latent_density)\n",
      "c:\\Users\\Jesper\\Documents\\GitHub\\Knowledge-Growth-Prediction\\models\\mirt_2pl.py:276: RuntimeWarning: divide by zero encountered in log\n",
      "  (1-answer_vector), np.log(1-ICC_values)[0]) + np.log(latent_density)\n",
      "c:\\Users\\Jesper\\Documents\\GitHub\\Knowledge-Growth-Prediction\\models\\mirt_2pl.py:276: RuntimeWarning: divide by zero encountered in log\n",
      "  (1-answer_vector), np.log(1-ICC_values)[0]) + np.log(latent_density)\n",
      "c:\\Users\\Jesper\\Documents\\GitHub\\Knowledge-Growth-Prediction\\models\\mirt_2pl.py:276: RuntimeWarning: divide by zero encountered in log\n",
      "  (1-answer_vector), np.log(1-ICC_values)[0]) + np.log(latent_density)\n",
      "c:\\Users\\Jesper\\Documents\\GitHub\\Knowledge-Growth-Prediction\\models\\mirt_2pl.py:276: RuntimeWarning: divide by zero encountered in log\n",
      "  (1-answer_vector), np.log(1-ICC_values)[0]) + np.log(latent_density)\n",
      "c:\\Users\\Jesper\\Anaconda3\\lib\\site-packages\\scipy\\optimize\\_numdiff.py:576: RuntimeWarning: invalid value encountered in subtract\n",
      "  df = fun(x) - f0\n",
      "c:\\Users\\Jesper\\Documents\\GitHub\\Knowledge-Growth-Prediction\\models\\mirt_2pl.py:276: RuntimeWarning: divide by zero encountered in log\n",
      "  (1-answer_vector), np.log(1-ICC_values)[0]) + np.log(latent_density)\n",
      "c:\\Users\\Jesper\\Documents\\GitHub\\Knowledge-Growth-Prediction\\models\\mirt_2pl.py:276: RuntimeWarning: divide by zero encountered in log\n",
      "  (1-answer_vector), np.log(1-ICC_values)[0]) + np.log(latent_density)\n",
      "c:\\Users\\Jesper\\Documents\\GitHub\\Knowledge-Growth-Prediction\\models\\mirt_2pl.py:276: RuntimeWarning: divide by zero encountered in log\n",
      "  (1-answer_vector), np.log(1-ICC_values)[0]) + np.log(latent_density)\n",
      "c:\\Users\\Jesper\\Documents\\GitHub\\Knowledge-Growth-Prediction\\models\\mirt_2pl.py:276: RuntimeWarning: divide by zero encountered in log\n",
      "  (1-answer_vector), np.log(1-ICC_values)[0]) + np.log(latent_density)\n",
      "c:\\Users\\Jesper\\Documents\\GitHub\\Knowledge-Growth-Prediction\\models\\mirt_2pl.py:276: RuntimeWarning: divide by zero encountered in log\n",
      "  (1-answer_vector), np.log(1-ICC_values)[0]) + np.log(latent_density)\n",
      "c:\\Users\\Jesper\\Documents\\GitHub\\Knowledge-Growth-Prediction\\models\\mirt_2pl.py:276: RuntimeWarning: divide by zero encountered in log\n",
      "  (1-answer_vector), np.log(1-ICC_values)[0]) + np.log(latent_density)\n"
     ]
    },
    {
     "name": "stdout",
     "output_type": "stream",
     "text": [
      "Absolute diff in A:\n",
      "[[0.00000000e+00 1.23616216e-02]\n",
      " [0.00000000e+00 3.00342575e-01]\n",
      " [0.00000000e+00 4.97590180e-02]\n",
      " [1.40531265e-02 0.00000000e+00]\n",
      " [4.37053643e-01 0.00000000e+00]\n",
      " [2.03594181e+00 0.00000000e+00]\n",
      " [9.47304822e+00 0.00000000e+00]\n",
      " [4.21824748e-01 0.00000000e+00]\n",
      " [1.65167788e-02 8.29323713e-01]\n",
      " [1.07184346e-03 5.26658882e-01]\n",
      " [9.07138996e-02 4.38318594e-01]\n",
      " [7.23064266e-01 1.05883705e-01]]\n",
      "Absolute diff in delta:\n",
      "[0.23618938 0.69109898 0.10576772 0.63590479 0.39991472 0.10195633\n",
      " 2.56970293 0.16006806 0.86032627 1.03636163 0.04738073 0.2177581 ]\n",
      "Absolute diff in sigma:\n",
      "[[0.   0.04]\n",
      " [0.04 0.  ]]\n",
      "Absolute diff in A:\n",
      "[[0.         4.06392138]\n",
      " [0.         2.72611053]\n",
      " [0.         0.93523162]\n",
      " [0.         0.78902682]\n",
      " [1.80342517 0.        ]\n",
      " [1.1242756  0.        ]\n",
      " [1.62140493 0.        ]\n",
      " [0.0566081  0.        ]\n",
      " [1.85248407 0.        ]\n",
      " [0.11058826 0.        ]\n",
      " [2.14576534 7.82445219]\n",
      " [0.37793925 0.19645816]]\n",
      "Absolute diff in delta:\n",
      "[ 8.33079265  9.23464509  2.66281082  2.55176219  3.3368123   0.9305774\n",
      "  2.68073624  0.90842288  5.1479748   4.68432367 13.4281127   2.96260021]\n",
      "Real latent covariance: [[1.     0.2144 0.2358 0.489 ]\n",
      " [0.2144 1.     0.376  0.191 ]\n",
      " [0.2358 0.376  1.     0.2066]\n",
      " [0.489  0.191  0.2066 1.    ]]\n",
      "Covariance matrix is good: True\n",
      "EM Iteration 2\n",
      "Current Monte Carlo Sample size: 300\n",
      "[[1.         0.59920249]\n",
      " [0.59920249 1.        ]]\n"
     ]
    },
    {
     "name": "stderr",
     "output_type": "stream",
     "text": [
      "c:\\Users\\Jesper\\Anaconda3\\lib\\site-packages\\scipy\\stats\\_qmc.py:2039: UserWarning: The balance properties of Sobol' points require n to be a power of 2.\n",
      "  samples = self.engine.random(n)\n"
     ]
    },
    {
     "name": "stdout",
     "output_type": "stream",
     "text": [
      "Step: 2: current parameter_diff: 14.563940625565374, current marginal loglikelihood: -580.3866762388135\n",
      "EM Iteration 3\n",
      "Current Monte Carlo Sample size: 330\n",
      "[[1.         0.53715075]\n",
      " [0.53715075 1.        ]]\n"
     ]
    },
    {
     "name": "stderr",
     "output_type": "stream",
     "text": [
      "c:\\Users\\Jesper\\Anaconda3\\lib\\site-packages\\scipy\\stats\\_qmc.py:2039: UserWarning: The balance properties of Sobol' points require n to be a power of 2.\n",
      "  samples = self.engine.random(n)\n"
     ]
    },
    {
     "name": "stdout",
     "output_type": "stream",
     "text": [
      "Step: 3: current parameter_diff: 10.995744126537755, current marginal loglikelihood: -557.8682927163944\n",
      "EM Iteration 4\n",
      "Current Monte Carlo Sample size: 363\n",
      "[[1.         0.52547849]\n",
      " [0.52547849 1.        ]]\n"
     ]
    },
    {
     "name": "stderr",
     "output_type": "stream",
     "text": [
      "c:\\Users\\Jesper\\Anaconda3\\lib\\site-packages\\scipy\\stats\\_qmc.py:2039: UserWarning: The balance properties of Sobol' points require n to be a power of 2.\n",
      "  samples = self.engine.random(n)\n"
     ]
    },
    {
     "name": "stdout",
     "output_type": "stream",
     "text": [
      "Step: 4: current parameter_diff: 8.731142187350358, current marginal loglikelihood: -549.6249001372227\n",
      "EM Iteration 5\n",
      "Current Monte Carlo Sample size: 399\n",
      "[[1.         0.48105834]\n",
      " [0.48105834 1.        ]]\n",
      "Step: 5: current parameter_diff: 7.316974899700519, current marginal loglikelihood: -544.3193034387225\n",
      "EM Iteration 6\n",
      "Current Monte Carlo Sample size: 438\n",
      "[[1.         0.45713891]\n",
      " [0.45713891 1.        ]]\n"
     ]
    },
    {
     "name": "stderr",
     "output_type": "stream",
     "text": [
      "c:\\Users\\Jesper\\Anaconda3\\lib\\site-packages\\scipy\\stats\\_qmc.py:2039: UserWarning: The balance properties of Sobol' points require n to be a power of 2.\n",
      "  samples = self.engine.random(n)\n"
     ]
    },
    {
     "name": "stdout",
     "output_type": "stream",
     "text": [
      "Step: 6: current parameter_diff: 6.3534516476350635, current marginal loglikelihood: -543.4203572922777\n",
      "EM Iteration 7\n",
      "Current Monte Carlo Sample size: 481\n",
      "[[1.         0.43470843]\n",
      " [0.43470843 1.        ]]\n"
     ]
    },
    {
     "name": "stderr",
     "output_type": "stream",
     "text": [
      "c:\\Users\\Jesper\\Anaconda3\\lib\\site-packages\\scipy\\stats\\_qmc.py:2039: UserWarning: The balance properties of Sobol' points require n to be a power of 2.\n",
      "  samples = self.engine.random(n)\n"
     ]
    },
    {
     "name": "stdout",
     "output_type": "stream",
     "text": [
      "Step: 7: current parameter_diff: 3.5587006480952166, current marginal loglikelihood: -541.7654385490796\n",
      "EM Iteration 8\n",
      "Current Monte Carlo Sample size: 529\n",
      "[[1.         0.41931344]\n",
      " [0.41931344 1.        ]]\n"
     ]
    },
    {
     "name": "stderr",
     "output_type": "stream",
     "text": [
      "c:\\Users\\Jesper\\Anaconda3\\lib\\site-packages\\scipy\\stats\\_qmc.py:2039: UserWarning: The balance properties of Sobol' points require n to be a power of 2.\n",
      "  samples = self.engine.random(n)\n"
     ]
    },
    {
     "name": "stdout",
     "output_type": "stream",
     "text": [
      "Step: 8: current parameter_diff: 3.5872518565650195, current marginal loglikelihood: -540.8100209436612\n"
     ]
    },
    {
     "name": "stderr",
     "output_type": "stream",
     "text": [
      "c:\\Users\\Jesper\\Documents\\GitHub\\Knowledge-Growth-Prediction\\models\\mirt_2pl.py:276: RuntimeWarning: divide by zero encountered in log\n",
      "  (1-answer_vector), np.log(1-ICC_values)[0]) + np.log(latent_density)\n"
     ]
    },
    {
     "name": "stdout",
     "output_type": "stream",
     "text": [
      "EM Iteration 2\n"
     ]
    },
    {
     "name": "stderr",
     "output_type": "stream",
     "text": [
      "c:\\Users\\Jesper\\Anaconda3\\lib\\site-packages\\scipy\\stats\\_qmc.py:2039: UserWarning: The balance properties of Sobol' points require n to be a power of 2.\n",
      "  samples = self.engine.random(n)\n"
     ]
    },
    {
     "name": "stdout",
     "output_type": "stream",
     "text": [
      "Current Monte Carlo Sample size: 300\n",
      "[[1.         0.50646987 0.51856924 0.43221454]\n",
      " [0.50646987 1.         0.40392736 0.33265052]\n",
      " [0.51856924 0.40392736 1.         0.41513049]\n",
      " [0.43221454 0.33265052 0.41513049 1.        ]]\n",
      "Step: 2: current parameter_diff: 22.21735684883323, current marginal loglikelihood: -578.0613048084979\n",
      "EM Iteration 3\n"
     ]
    },
    {
     "name": "stderr",
     "output_type": "stream",
     "text": [
      "c:\\Users\\Jesper\\Anaconda3\\lib\\site-packages\\scipy\\stats\\_qmc.py:2039: UserWarning: The balance properties of Sobol' points require n to be a power of 2.\n",
      "  samples = self.engine.random(n)\n"
     ]
    },
    {
     "name": "stdout",
     "output_type": "stream",
     "text": [
      "Current Monte Carlo Sample size: 300\n",
      "[[1.         0.51278745 0.54390471 0.44621668]\n",
      " [0.51278745 1.         0.41445826 0.33762932]\n",
      " [0.54390471 0.41445826 1.         0.42614348]\n",
      " [0.44621668 0.33762932 0.42614348 1.        ]]\n",
      "Step: 3: current parameter_diff: 18.68083372609069, current marginal loglikelihood: -551.8347721707339\n",
      "EM Iteration 4\n"
     ]
    },
    {
     "name": "stderr",
     "output_type": "stream",
     "text": [
      "c:\\Users\\Jesper\\Anaconda3\\lib\\site-packages\\scipy\\stats\\_qmc.py:2039: UserWarning: The balance properties of Sobol' points require n to be a power of 2.\n",
      "  samples = self.engine.random(n)\n"
     ]
    },
    {
     "name": "stdout",
     "output_type": "stream",
     "text": [
      "Current Monte Carlo Sample size: 300\n",
      "[[1.         0.52259687 0.56873584 0.45956262]\n",
      " [0.52259687 1.         0.42533169 0.34323074]\n",
      " [0.56873584 0.42533169 1.         0.43505776]\n",
      " [0.45956262 0.34323074 0.43505776 1.        ]]\n",
      "Step: 4: current parameter_diff: 17.463963381063497, current marginal loglikelihood: -546.5848194417732\n",
      "EM Iteration 5\n"
     ]
    },
    {
     "name": "stderr",
     "output_type": "stream",
     "text": [
      "c:\\Users\\Jesper\\Anaconda3\\lib\\site-packages\\scipy\\stats\\_qmc.py:2039: UserWarning: The balance properties of Sobol' points require n to be a power of 2.\n",
      "  samples = self.engine.random(n)\n"
     ]
    },
    {
     "name": "stdout",
     "output_type": "stream",
     "text": [
      "Current Monte Carlo Sample size: 330\n",
      "[[1.         0.53404533 0.59720859 0.47888103]\n",
      " [0.53404533 1.         0.43538647 0.35256304]\n",
      " [0.59720859 0.43538647 1.         0.4463096 ]\n",
      " [0.47888103 0.35256304 0.4463096  1.        ]]\n",
      "Step: 5: current parameter_diff: 11.422534673120339, current marginal loglikelihood: -541.522583642468\n",
      "EM Iteration 6\n"
     ]
    },
    {
     "name": "stderr",
     "output_type": "stream",
     "text": [
      "c:\\Users\\Jesper\\Anaconda3\\lib\\site-packages\\scipy\\stats\\_qmc.py:2039: UserWarning: The balance properties of Sobol' points require n to be a power of 2.\n",
      "  samples = self.engine.random(n)\n"
     ]
    },
    {
     "name": "stdout",
     "output_type": "stream",
     "text": [
      "Current Monte Carlo Sample size: 363\n",
      "[[1.         0.54815914 0.62478386 0.49719001]\n",
      " [0.54815914 1.         0.44515334 0.3622219 ]\n",
      " [0.62478386 0.44515334 1.         0.45494504]\n",
      " [0.49719001 0.3622219  0.45494504 1.        ]]\n",
      "Step: 6: current parameter_diff: 16.192396804443856, current marginal loglikelihood: -536.2095039005007\n",
      "EM Iteration 7\n"
     ]
    },
    {
     "name": "stderr",
     "output_type": "stream",
     "text": [
      "c:\\Users\\Jesper\\Anaconda3\\lib\\site-packages\\scipy\\stats\\_qmc.py:2039: UserWarning: The balance properties of Sobol' points require n to be a power of 2.\n",
      "  samples = self.engine.random(n)\n"
     ]
    },
    {
     "name": "stdout",
     "output_type": "stream",
     "text": [
      "Current Monte Carlo Sample size: 363\n",
      "[[ 1.          0.62078319  0.27328484  0.18917141]\n",
      " [ 0.62078319  1.         -0.17930299 -0.0084839 ]\n",
      " [ 0.27328484 -0.17930299  1.          0.38890196]\n",
      " [ 0.18917141 -0.0084839   0.38890196  1.        ]]\n",
      "Step: 7: current parameter_diff: 17.964903663931917, current marginal loglikelihood: -532.9717798150652\n",
      "EM Iteration 8\n"
     ]
    },
    {
     "name": "stderr",
     "output_type": "stream",
     "text": [
      "c:\\Users\\Jesper\\Anaconda3\\lib\\site-packages\\scipy\\stats\\_qmc.py:2039: UserWarning: The balance properties of Sobol' points require n to be a power of 2.\n",
      "  samples = self.engine.random(n)\n"
     ]
    },
    {
     "name": "stdout",
     "output_type": "stream",
     "text": [
      "Current Monte Carlo Sample size: 363\n",
      "[[ 1.          0.60631106  0.29803055  0.19943429]\n",
      " [ 0.60631106  1.         -0.02579905 -0.01637951]\n",
      " [ 0.29803055 -0.02579905  1.          0.41356307]\n",
      " [ 0.19943429 -0.01637951  0.41356307  1.        ]]\n",
      "Step: 8: current parameter_diff: 8.633565744601166, current marginal loglikelihood: -542.1369045202327\n",
      "EM Iteration 9\n"
     ]
    },
    {
     "name": "stderr",
     "output_type": "stream",
     "text": [
      "c:\\Users\\Jesper\\Anaconda3\\lib\\site-packages\\scipy\\stats\\_qmc.py:2039: UserWarning: The balance properties of Sobol' points require n to be a power of 2.\n",
      "  samples = self.engine.random(n)\n"
     ]
    },
    {
     "name": "stdout",
     "output_type": "stream",
     "text": [
      "Current Monte Carlo Sample size: 399\n",
      "[[ 1.          0.59924339  0.31691079  0.20725894]\n",
      " [ 0.59924339  1.         -0.01478213 -0.00838447]\n",
      " [ 0.31691079 -0.01478213  1.          0.43111176]\n",
      " [ 0.20725894 -0.00838447  0.43111176  1.        ]]\n",
      "Step: 9: current parameter_diff: 5.214358035961699, current marginal loglikelihood: -543.4373312671361\n",
      "EM Iteration 10\n"
     ]
    },
    {
     "name": "stderr",
     "output_type": "stream",
     "text": [
      "c:\\Users\\Jesper\\Anaconda3\\lib\\site-packages\\scipy\\stats\\_qmc.py:2039: UserWarning: The balance properties of Sobol' points require n to be a power of 2.\n",
      "  samples = self.engine.random(n)\n"
     ]
    },
    {
     "name": "stdout",
     "output_type": "stream",
     "text": [
      "Current Monte Carlo Sample size: 438\n",
      "[[ 1.          0.59420438  0.33641468  0.21540812]\n",
      " [ 0.59420438  1.         -0.01439194 -0.00779391]\n",
      " [ 0.33641468 -0.01439194  1.          0.4483056 ]\n",
      " [ 0.21540812 -0.00779391  0.4483056   1.        ]]\n",
      "Step: 10: current parameter_diff: 8.533989752469882, current marginal loglikelihood: -541.4822181289073\n",
      "EM Iteration 11\n"
     ]
    },
    {
     "name": "stderr",
     "output_type": "stream",
     "text": [
      "c:\\Users\\Jesper\\Anaconda3\\lib\\site-packages\\scipy\\stats\\_qmc.py:2039: UserWarning: The balance properties of Sobol' points require n to be a power of 2.\n",
      "  samples = self.engine.random(n)\n"
     ]
    },
    {
     "name": "stdout",
     "output_type": "stream",
     "text": [
      "Current Monte Carlo Sample size: 481\n",
      "[[ 1.          0.58917131  0.35409761  0.22278126]\n",
      " [ 0.58917131  1.         -0.01351331 -0.00676598]\n",
      " [ 0.35409761 -0.01351331  1.          0.46303123]\n",
      " [ 0.22278126 -0.00676598  0.46303123  1.        ]]\n",
      "Step: 11: current parameter_diff: 4.350404961188257, current marginal loglikelihood: -546.3150523688915\n"
     ]
    },
    {
     "name": "stderr",
     "output_type": "stream",
     "text": [
      "c:\\Users\\Jesper\\Documents\\GitHub\\Knowledge-Growth-Prediction\\models\\mirt_2pl_gain.py:267: RuntimeWarning: divide by zero encountered in log\n",
      "  (1-answer_vector), np.log(1-ICC_values)[0]) + np.log(latent_density)\n"
     ]
    },
    {
     "name": "stdout",
     "output_type": "stream",
     "text": [
      "Absolute diff in A:\n",
      "[[0.         4.45143379]\n",
      " [0.22177391 0.        ]\n",
      " [1.82441876 0.        ]\n",
      " [1.75593877 0.        ]\n",
      " [0.35582385 0.        ]\n",
      " [0.19500534 0.        ]\n",
      " [0.13068149 0.        ]\n",
      " [0.24998296 0.21477045]\n",
      " [0.72590451 0.43810354]\n",
      " [5.85805407 0.66723267]\n",
      " [2.77000122 0.571625  ]\n",
      " [0.98112996 1.57666045]]\n",
      "Absolute diff in delta:\n",
      "[0.44481857 0.04702296 1.13690681 0.17448178 0.03043624 0.09276233\n",
      " 0.01532182 0.36814447 0.15727384 1.85852436 0.82964179 0.35363631]\n",
      "Absolute diff in sigma:\n",
      "[[0.     0.2049]\n",
      " [0.2049 0.    ]]\n",
      "Absolute diff in A:\n",
      "[[ 0.          0.1048053 ]\n",
      " [ 0.          9.29241412]\n",
      " [ 0.          7.06289394]\n",
      " [ 0.          0.4326161 ]\n",
      " [ 0.33011798  0.        ]\n",
      " [ 4.39735424  0.        ]\n",
      " [ 1.81883812  0.        ]\n",
      " [ 3.29189117  0.        ]\n",
      " [ 2.00893142  0.        ]\n",
      " [ 2.36047515  0.08561873]\n",
      " [ 3.46083453  8.48554514]\n",
      " [ 9.78801353 24.20370058]]\n",
      "Absolute diff in delta:\n",
      "[0.10304484 0.35397764 0.91590119 0.17557569 0.09878267 1.71237144\n",
      " 0.48493777 1.07787494 1.42882041 1.44719594 0.98942644 1.136857  ]\n",
      "Absolute diff in A:\n",
      "[[ 0.          8.27664584]\n",
      " [ 0.16330822  0.        ]\n",
      " [ 1.9114152   0.        ]\n",
      " [ 5.05556275  0.        ]\n",
      " [ 1.00052687  0.        ]\n",
      " [ 0.65589917  0.        ]\n",
      " [ 1.66818867  0.        ]\n",
      " [ 0.7002293   0.50380724]\n",
      " [ 0.43398666  3.32099465]\n",
      " [16.60594106  1.90945011]\n",
      " [ 6.51886755  1.37178617]\n",
      " [ 0.79595742  2.95946164]]\n",
      "Absolute diff in delta:\n",
      "[0.3901462  0.29711805 1.25150685 1.0148791  0.0114763  0.01959049\n",
      " 0.29002773 0.48205782 0.24968618 0.72681684 0.14100064 1.3085564 ]\n",
      "Absolute diff in sigma:\n",
      "[[0.     0.2856]\n",
      " [0.2856 0.    ]]\n",
      "Absolute diff in A:\n",
      "[[ 1.          0.38910836]\n",
      " [ 1.          2.07365258]\n",
      " [ 1.         11.10528153]\n",
      " [ 1.          1.62382719]\n",
      " [ 0.61145079  1.        ]\n",
      " [ 2.01499838  1.        ]\n",
      " [ 2.18191872  1.        ]\n",
      " [ 1.26376732  1.        ]\n",
      " [ 1.13062628  1.        ]\n",
      " [ 5.52410116  0.63213086]\n",
      " [ 1.64634745  4.60942517]\n",
      " [ 0.7968821   2.60729968]]\n",
      "Absolute diff in delta:\n",
      "[0.97145907 0.90993983 1.75398665 0.40081102 1.11550584 0.10615551\n",
      " 3.2321555  0.61160106 1.03613477 1.97629038 0.62240477 2.12496232]\n",
      "Covariance matrix is good: True\n",
      "EM Iteration 2\n",
      "Current Monte Carlo Sample size: 300\n",
      "[[1.         0.61250305]\n",
      " [0.61250305 1.        ]]\n"
     ]
    },
    {
     "name": "stderr",
     "output_type": "stream",
     "text": [
      "c:\\Users\\Jesper\\Anaconda3\\lib\\site-packages\\scipy\\stats\\_qmc.py:2039: UserWarning: The balance properties of Sobol' points require n to be a power of 2.\n",
      "  samples = self.engine.random(n)\n"
     ]
    },
    {
     "name": "stdout",
     "output_type": "stream",
     "text": [
      "Step: 2: current parameter_diff: 14.047143031622415, current marginal loglikelihood: -581.2824827856874\n",
      "EM Iteration 3\n",
      "Current Monte Carlo Sample size: 330\n",
      "[[1.        0.6016706]\n",
      " [0.6016706 1.       ]]\n"
     ]
    },
    {
     "name": "stderr",
     "output_type": "stream",
     "text": [
      "c:\\Users\\Jesper\\Anaconda3\\lib\\site-packages\\scipy\\stats\\_qmc.py:2039: UserWarning: The balance properties of Sobol' points require n to be a power of 2.\n",
      "  samples = self.engine.random(n)\n"
     ]
    },
    {
     "name": "stdout",
     "output_type": "stream",
     "text": [
      "Step: 3: current parameter_diff: 11.855545175337205, current marginal loglikelihood: -557.5221288012934\n",
      "EM Iteration 4\n",
      "Current Monte Carlo Sample size: 363\n",
      "[[1.         0.54192046]\n",
      " [0.54192046 1.        ]]\n"
     ]
    },
    {
     "name": "stderr",
     "output_type": "stream",
     "text": [
      "c:\\Users\\Jesper\\Anaconda3\\lib\\site-packages\\scipy\\stats\\_qmc.py:2039: UserWarning: The balance properties of Sobol' points require n to be a power of 2.\n",
      "  samples = self.engine.random(n)\n"
     ]
    },
    {
     "name": "stdout",
     "output_type": "stream",
     "text": [
      "Step: 4: current parameter_diff: 9.777850886221755, current marginal loglikelihood: -548.5797221790384\n",
      "EM Iteration 5\n",
      "Current Monte Carlo Sample size: 399\n",
      "[[1.         0.50430713]\n",
      " [0.50430713 1.        ]]\n"
     ]
    },
    {
     "name": "stderr",
     "output_type": "stream",
     "text": [
      "c:\\Users\\Jesper\\Anaconda3\\lib\\site-packages\\scipy\\stats\\_qmc.py:2039: UserWarning: The balance properties of Sobol' points require n to be a power of 2.\n",
      "  samples = self.engine.random(n)\n"
     ]
    },
    {
     "name": "stdout",
     "output_type": "stream",
     "text": [
      "Step: 5: current parameter_diff: 7.461895703925888, current marginal loglikelihood: -545.8763294762244\n",
      "EM Iteration 6\n",
      "Current Monte Carlo Sample size: 399\n",
      "[[1.         0.47836757]\n",
      " [0.47836757 1.        ]]\n",
      "Step: 6: current parameter_diff: 5.1014039066198835, current marginal loglikelihood: -541.9065234588157\n",
      "EM Iteration 7\n",
      "Current Monte Carlo Sample size: 438\n",
      "[[1.         0.43887376]\n",
      " [0.43887376 1.        ]]\n"
     ]
    },
    {
     "name": "stderr",
     "output_type": "stream",
     "text": [
      "c:\\Users\\Jesper\\Anaconda3\\lib\\site-packages\\scipy\\stats\\_qmc.py:2039: UserWarning: The balance properties of Sobol' points require n to be a power of 2.\n",
      "  samples = self.engine.random(n)\n"
     ]
    },
    {
     "name": "stdout",
     "output_type": "stream",
     "text": [
      "Step: 7: current parameter_diff: 6.568158822828883, current marginal loglikelihood: -541.7782843400267\n"
     ]
    },
    {
     "name": "stderr",
     "output_type": "stream",
     "text": [
      "c:\\Users\\Jesper\\Documents\\GitHub\\Knowledge-Growth-Prediction\\models\\mirt_2pl.py:276: RuntimeWarning: divide by zero encountered in log\n",
      "  (1-answer_vector), np.log(1-ICC_values)[0]) + np.log(latent_density)\n"
     ]
    },
    {
     "name": "stdout",
     "output_type": "stream",
     "text": [
      "Covariance matrix is good: True\n",
      "EM Iteration 2\n",
      "Current Monte Carlo Sample size: 300\n",
      "[[1.         0.53393837]\n",
      " [0.53393837 1.        ]]\n"
     ]
    },
    {
     "name": "stderr",
     "output_type": "stream",
     "text": [
      "c:\\Users\\Jesper\\Anaconda3\\lib\\site-packages\\scipy\\stats\\_qmc.py:2039: UserWarning: The balance properties of Sobol' points require n to be a power of 2.\n",
      "  samples = self.engine.random(n)\n"
     ]
    },
    {
     "name": "stdout",
     "output_type": "stream",
     "text": [
      "Step: 2: current parameter_diff: 25.644493825983304, current marginal loglikelihood: -417.23382379996644\n",
      "EM Iteration 3\n",
      "Current Monte Carlo Sample size: 330\n",
      "[[1.         0.61203197]\n",
      " [0.61203197 1.        ]]\n"
     ]
    },
    {
     "name": "stderr",
     "output_type": "stream",
     "text": [
      "c:\\Users\\Jesper\\Anaconda3\\lib\\site-packages\\scipy\\stats\\_qmc.py:2039: UserWarning: The balance properties of Sobol' points require n to be a power of 2.\n",
      "  samples = self.engine.random(n)\n"
     ]
    },
    {
     "name": "stdout",
     "output_type": "stream",
     "text": [
      "Step: 3: current parameter_diff: 24.12596769804866, current marginal loglikelihood: -396.5287539877666\n",
      "EM Iteration 4\n",
      "Current Monte Carlo Sample size: 330\n",
      "[[1.         0.63425622]\n",
      " [0.63425622 1.        ]]\n"
     ]
    },
    {
     "name": "stderr",
     "output_type": "stream",
     "text": [
      "c:\\Users\\Jesper\\Anaconda3\\lib\\site-packages\\scipy\\stats\\_qmc.py:2039: UserWarning: The balance properties of Sobol' points require n to be a power of 2.\n",
      "  samples = self.engine.random(n)\n"
     ]
    },
    {
     "name": "stdout",
     "output_type": "stream",
     "text": [
      "Step: 4: current parameter_diff: 28.150697491287964, current marginal loglikelihood: -387.90577710480073\n",
      "EM Iteration 5\n",
      "Current Monte Carlo Sample size: 363\n",
      "[[1.         0.63905466]\n",
      " [0.63905466 1.        ]]\n"
     ]
    },
    {
     "name": "stderr",
     "output_type": "stream",
     "text": [
      "c:\\Users\\Jesper\\Anaconda3\\lib\\site-packages\\scipy\\stats\\_qmc.py:2039: UserWarning: The balance properties of Sobol' points require n to be a power of 2.\n",
      "  samples = self.engine.random(n)\n"
     ]
    },
    {
     "name": "stdout",
     "output_type": "stream",
     "text": [
      "Step: 5: current parameter_diff: 30.10626470219819, current marginal loglikelihood: -383.7793365081513\n",
      "EM Iteration 6\n",
      "Current Monte Carlo Sample size: 399\n",
      "[[1.         0.63778063]\n",
      " [0.63778063 1.        ]]\n"
     ]
    },
    {
     "name": "stderr",
     "output_type": "stream",
     "text": [
      "c:\\Users\\Jesper\\Anaconda3\\lib\\site-packages\\scipy\\stats\\_qmc.py:2039: UserWarning: The balance properties of Sobol' points require n to be a power of 2.\n",
      "  samples = self.engine.random(n)\n"
     ]
    },
    {
     "name": "stdout",
     "output_type": "stream",
     "text": [
      "Step: 6: current parameter_diff: 14.506804257389842, current marginal loglikelihood: -382.16699089086785\n",
      "EM Iteration 7\n",
      "Current Monte Carlo Sample size: 438\n",
      "[[1.         0.62682114]\n",
      " [0.62682114 1.        ]]\n"
     ]
    },
    {
     "name": "stderr",
     "output_type": "stream",
     "text": [
      "c:\\Users\\Jesper\\Anaconda3\\lib\\site-packages\\scipy\\stats\\_qmc.py:2039: UserWarning: The balance properties of Sobol' points require n to be a power of 2.\n",
      "  samples = self.engine.random(n)\n"
     ]
    },
    {
     "name": "stdout",
     "output_type": "stream",
     "text": [
      "Step: 7: current parameter_diff: 10.328744800813219, current marginal loglikelihood: -380.8601111906998\n"
     ]
    },
    {
     "name": "stderr",
     "output_type": "stream",
     "text": [
      "c:\\Users\\Jesper\\Documents\\GitHub\\Knowledge-Growth-Prediction\\models\\mirt_2pl.py:276: RuntimeWarning: divide by zero encountered in log\n",
      "  (1-answer_vector), np.log(1-ICC_values)[0]) + np.log(latent_density)\n",
      "c:\\Users\\Jesper\\Documents\\GitHub\\Knowledge-Growth-Prediction\\models\\mirt_2pl.py:276: RuntimeWarning: divide by zero encountered in log\n",
      "  (1-answer_vector), np.log(1-ICC_values)[0]) + np.log(latent_density)\n",
      "c:\\Users\\Jesper\\Documents\\GitHub\\Knowledge-Growth-Prediction\\models\\mirt_2pl.py:276: RuntimeWarning: divide by zero encountered in log\n",
      "  (1-answer_vector), np.log(1-ICC_values)[0]) + np.log(latent_density)\n",
      "c:\\Users\\Jesper\\Documents\\GitHub\\Knowledge-Growth-Prediction\\models\\mirt_2pl.py:276: RuntimeWarning: divide by zero encountered in log\n",
      "  (1-answer_vector), np.log(1-ICC_values)[0]) + np.log(latent_density)\n",
      "c:\\Users\\Jesper\\Documents\\GitHub\\Knowledge-Growth-Prediction\\models\\mirt_2pl.py:276: RuntimeWarning: divide by zero encountered in log\n",
      "  (1-answer_vector), np.log(1-ICC_values)[0]) + np.log(latent_density)\n",
      "c:\\Users\\Jesper\\Documents\\GitHub\\Knowledge-Growth-Prediction\\models\\mirt_2pl.py:276: RuntimeWarning: divide by zero encountered in log\n",
      "  (1-answer_vector), np.log(1-ICC_values)[0]) + np.log(latent_density)\n",
      "c:\\Users\\Jesper\\Documents\\GitHub\\Knowledge-Growth-Prediction\\models\\mirt_2pl.py:276: RuntimeWarning: divide by zero encountered in log\n",
      "  (1-answer_vector), np.log(1-ICC_values)[0]) + np.log(latent_density)\n",
      "c:\\Users\\Jesper\\Documents\\GitHub\\Knowledge-Growth-Prediction\\models\\mirt_2pl.py:276: RuntimeWarning: divide by zero encountered in log\n",
      "  (1-answer_vector), np.log(1-ICC_values)[0]) + np.log(latent_density)\n",
      "c:\\Users\\Jesper\\Documents\\GitHub\\Knowledge-Growth-Prediction\\models\\mirt_2pl.py:276: RuntimeWarning: divide by zero encountered in log\n",
      "  (1-answer_vector), np.log(1-ICC_values)[0]) + np.log(latent_density)\n",
      "c:\\Users\\Jesper\\Documents\\GitHub\\Knowledge-Growth-Prediction\\models\\mirt_2pl.py:276: RuntimeWarning: divide by zero encountered in log\n",
      "  (1-answer_vector), np.log(1-ICC_values)[0]) + np.log(latent_density)\n",
      "c:\\Users\\Jesper\\Documents\\GitHub\\Knowledge-Growth-Prediction\\models\\mirt_2pl.py:276: RuntimeWarning: divide by zero encountered in log\n",
      "  (1-answer_vector), np.log(1-ICC_values)[0]) + np.log(latent_density)\n",
      "c:\\Users\\Jesper\\Documents\\GitHub\\Knowledge-Growth-Prediction\\models\\mirt_2pl.py:276: RuntimeWarning: divide by zero encountered in log\n",
      "  (1-answer_vector), np.log(1-ICC_values)[0]) + np.log(latent_density)\n",
      "c:\\Users\\Jesper\\Documents\\GitHub\\Knowledge-Growth-Prediction\\models\\mirt_2pl.py:276: RuntimeWarning: divide by zero encountered in log\n",
      "  (1-answer_vector), np.log(1-ICC_values)[0]) + np.log(latent_density)\n",
      "c:\\Users\\Jesper\\Documents\\GitHub\\Knowledge-Growth-Prediction\\models\\mirt_2pl.py:276: RuntimeWarning: divide by zero encountered in log\n",
      "  (1-answer_vector), np.log(1-ICC_values)[0]) + np.log(latent_density)\n",
      "c:\\Users\\Jesper\\Documents\\GitHub\\Knowledge-Growth-Prediction\\models\\mirt_2pl.py:276: RuntimeWarning: divide by zero encountered in log\n",
      "  (1-answer_vector), np.log(1-ICC_values)[0]) + np.log(latent_density)\n",
      "c:\\Users\\Jesper\\Documents\\GitHub\\Knowledge-Growth-Prediction\\models\\mirt_2pl.py:276: RuntimeWarning: divide by zero encountered in log\n",
      "  (1-answer_vector), np.log(1-ICC_values)[0]) + np.log(latent_density)\n",
      "c:\\Users\\Jesper\\Documents\\GitHub\\Knowledge-Growth-Prediction\\models\\mirt_2pl.py:276: RuntimeWarning: divide by zero encountered in log\n",
      "  (1-answer_vector), np.log(1-ICC_values)[0]) + np.log(latent_density)\n",
      "c:\\Users\\Jesper\\Documents\\GitHub\\Knowledge-Growth-Prediction\\models\\mirt_2pl.py:276: RuntimeWarning: divide by zero encountered in log\n",
      "  (1-answer_vector), np.log(1-ICC_values)[0]) + np.log(latent_density)\n",
      "c:\\Users\\Jesper\\Documents\\GitHub\\Knowledge-Growth-Prediction\\models\\mirt_2pl.py:276: RuntimeWarning: divide by zero encountered in log\n",
      "  (1-answer_vector), np.log(1-ICC_values)[0]) + np.log(latent_density)\n",
      "c:\\Users\\Jesper\\Documents\\GitHub\\Knowledge-Growth-Prediction\\models\\mirt_2pl.py:276: RuntimeWarning: divide by zero encountered in log\n",
      "  (1-answer_vector), np.log(1-ICC_values)[0]) + np.log(latent_density)\n",
      "c:\\Users\\Jesper\\Documents\\GitHub\\Knowledge-Growth-Prediction\\models\\mirt_2pl.py:276: RuntimeWarning: divide by zero encountered in log\n",
      "  (1-answer_vector), np.log(1-ICC_values)[0]) + np.log(latent_density)\n",
      "c:\\Users\\Jesper\\Documents\\GitHub\\Knowledge-Growth-Prediction\\models\\mirt_2pl.py:276: RuntimeWarning: divide by zero encountered in log\n",
      "  (1-answer_vector), np.log(1-ICC_values)[0]) + np.log(latent_density)\n"
     ]
    },
    {
     "name": "stdout",
     "output_type": "stream",
     "text": [
      "[[1.         0.4388     0.60465883 0.49380671]\n",
      " [0.4388     1.         0.60465895 0.49380685]\n",
      " [0.60465883 0.60465895 1.         0.99118504]\n",
      " [0.49380671 0.49380685 0.99118504 1.        ]]\n",
      "Absolute diff in A:\n",
      "[[0.         4.89956079]\n",
      " [0.218672   0.        ]\n",
      " [1.50962195 0.        ]\n",
      " [1.73102952 0.        ]\n",
      " [0.38414946 0.        ]\n",
      " [0.15194791 0.        ]\n",
      " [0.13120623 0.        ]\n",
      " [0.18012652 0.01584797]\n",
      " [0.7496879  0.12592195]\n",
      " [4.406122   0.87209695]\n",
      " [3.02740297 0.82716607]\n",
      " [1.07183784 1.73027982]]\n",
      "Absolute diff in delta:\n",
      "[0.48767432 0.03930432 0.91208642 0.19863149 0.03213426 0.11695495\n",
      " 0.03726928 0.40117398 0.20754795 2.26177963 0.74954546 0.43374112]\n",
      "Absolute diff in sigma:\n",
      "[[0.     0.2244]\n",
      " [0.2244 0.    ]]\n",
      "Absolute diff in A:\n",
      "[[ 0.          0.55295705]\n",
      " [ 0.          8.33058352]\n",
      " [ 0.          5.63391558]\n",
      " [ 0.          0.96429215]\n",
      " [ 0.20319332  0.        ]\n",
      " [ 2.79803446  0.        ]\n",
      " [ 1.03344     0.        ]\n",
      " [ 2.17240994  0.        ]\n",
      " [ 2.13294457  0.        ]\n",
      " [ 1.96971659  0.2319281 ]\n",
      " [ 2.75312049  6.72176004]\n",
      " [ 5.3658186  14.47224525]]\n",
      "Absolute diff in delta:\n",
      "[ 1.0892022   6.54254135  4.77356856  2.37617836  1.40631896  3.06090648\n",
      "  3.34031049  2.41754862  1.85266134  6.25549864 11.96388759 16.75816778]\n",
      "Real latent covariance: [[1.     0.3839 0.2216 0.557 ]\n",
      " [0.3839 1.     0.3695 0.0184]\n",
      " [0.2216 0.3695 1.     0.1242]\n",
      " [0.557  0.0184 0.1242 1.    ]]\n",
      "Covariance matrix is good: True\n",
      "EM Iteration 2\n",
      "Current Monte Carlo Sample size: 300\n",
      "[[1.         0.55386065]\n",
      " [0.55386065 1.        ]]\n"
     ]
    },
    {
     "name": "stderr",
     "output_type": "stream",
     "text": [
      "c:\\Users\\Jesper\\Anaconda3\\lib\\site-packages\\scipy\\stats\\_qmc.py:2039: UserWarning: The balance properties of Sobol' points require n to be a power of 2.\n",
      "  samples = self.engine.random(n)\n"
     ]
    },
    {
     "name": "stdout",
     "output_type": "stream",
     "text": [
      "Step: 2: current parameter_diff: 10.134394462599582, current marginal loglikelihood: -613.9448279112694\n",
      "EM Iteration 3\n",
      "Current Monte Carlo Sample size: 330\n",
      "[[1.         0.50110327]\n",
      " [0.50110327 1.        ]]\n"
     ]
    },
    {
     "name": "stderr",
     "output_type": "stream",
     "text": [
      "c:\\Users\\Jesper\\Anaconda3\\lib\\site-packages\\scipy\\stats\\_qmc.py:2039: UserWarning: The balance properties of Sobol' points require n to be a power of 2.\n",
      "  samples = self.engine.random(n)\n"
     ]
    },
    {
     "name": "stdout",
     "output_type": "stream",
     "text": [
      "Step: 3: current parameter_diff: 7.505847105834141, current marginal loglikelihood: -597.0042589413634\n",
      "EM Iteration 4\n",
      "Current Monte Carlo Sample size: 330\n",
      "[[1.         0.43407799]\n",
      " [0.43407799 1.        ]]\n"
     ]
    },
    {
     "name": "stderr",
     "output_type": "stream",
     "text": [
      "c:\\Users\\Jesper\\Anaconda3\\lib\\site-packages\\scipy\\stats\\_qmc.py:2039: UserWarning: The balance properties of Sobol' points require n to be a power of 2.\n",
      "  samples = self.engine.random(n)\n"
     ]
    },
    {
     "name": "stdout",
     "output_type": "stream",
     "text": [
      "Step: 4: current parameter_diff: 6.102020390854918, current marginal loglikelihood: -588.6948156301528\n",
      "EM Iteration 5\n",
      "Current Monte Carlo Sample size: 330\n",
      "[[1.         0.34310849]\n",
      " [0.34310849 1.        ]]\n"
     ]
    },
    {
     "name": "stderr",
     "output_type": "stream",
     "text": [
      "c:\\Users\\Jesper\\Anaconda3\\lib\\site-packages\\scipy\\stats\\_qmc.py:2039: UserWarning: The balance properties of Sobol' points require n to be a power of 2.\n",
      "  samples = self.engine.random(n)\n"
     ]
    },
    {
     "name": "stdout",
     "output_type": "stream",
     "text": [
      "Step: 5: current parameter_diff: 5.284587792647949, current marginal loglikelihood: -585.79152029137\n",
      "EM Iteration 6\n",
      "Current Monte Carlo Sample size: 330\n",
      "[[1.         0.29548706]\n",
      " [0.29548706 1.        ]]\n",
      "Step: 6: current parameter_diff: 2.56238027821248, current marginal loglikelihood: -583.8349836559905\n",
      "EM Iteration 7\n",
      "Current Monte Carlo Sample size: 363\n",
      "[[1.         0.25341386]\n",
      " [0.25341386 1.        ]]\n",
      "Step: 7: current parameter_diff: 1.885021036996127, current marginal loglikelihood: -583.0686631094943\n",
      "EM Iteration 2\n"
     ]
    },
    {
     "name": "stderr",
     "output_type": "stream",
     "text": [
      "c:\\Users\\Jesper\\Anaconda3\\lib\\site-packages\\scipy\\stats\\_qmc.py:2039: UserWarning: The balance properties of Sobol' points require n to be a power of 2.\n",
      "  samples = self.engine.random(n)\n"
     ]
    },
    {
     "name": "stdout",
     "output_type": "stream",
     "text": [
      "Current Monte Carlo Sample size: 300\n",
      "[[ 1.          0.65798142 -0.12739328  0.28396662]\n",
      " [ 0.65798142  1.         -0.47209167  0.53684077]\n",
      " [-0.12739328 -0.47209167  1.         -0.74054352]\n",
      " [ 0.28396662  0.53684077 -0.74054352  1.        ]]\n",
      "Step: 2: current parameter_diff: 28.14077083642538, current marginal loglikelihood: -543.8938944705694\n",
      "EM Iteration 3\n"
     ]
    },
    {
     "name": "stderr",
     "output_type": "stream",
     "text": [
      "c:\\Users\\Jesper\\Anaconda3\\lib\\site-packages\\scipy\\stats\\_qmc.py:2039: UserWarning: The balance properties of Sobol' points require n to be a power of 2.\n",
      "  samples = self.engine.random(n)\n"
     ]
    },
    {
     "name": "stdout",
     "output_type": "stream",
     "text": [
      "Current Monte Carlo Sample size: 330\n",
      "[[ 1.          0.35192162  0.01602224  0.43463446]\n",
      " [ 0.35192162  1.         -0.05408678  0.52592687]\n",
      " [ 0.01602224 -0.05408678  1.          0.0419905 ]\n",
      " [ 0.43463446  0.52592687  0.0419905   1.        ]]\n",
      "Step: 3: current parameter_diff: 16.93265059955938, current marginal loglikelihood: -528.08082498975\n",
      "EM Iteration 4\n"
     ]
    },
    {
     "name": "stderr",
     "output_type": "stream",
     "text": [
      "c:\\Users\\Jesper\\Anaconda3\\lib\\site-packages\\scipy\\stats\\_qmc.py:2039: UserWarning: The balance properties of Sobol' points require n to be a power of 2.\n",
      "  samples = self.engine.random(n)\n"
     ]
    },
    {
     "name": "stdout",
     "output_type": "stream",
     "text": [
      "Current Monte Carlo Sample size: 363\n",
      "[[ 1.          0.59104259 -0.12398089 -0.47111828]\n",
      " [ 0.59104259  1.         -0.16841467 -0.46802831]\n",
      " [-0.12398089 -0.16841467  1.          0.11066235]\n",
      " [-0.47111828 -0.46802831  0.11066235  1.        ]]\n",
      "Step: 4: current parameter_diff: 15.127272560227777, current marginal loglikelihood: -529.6402298415151\n",
      "EM Iteration 5\n"
     ]
    },
    {
     "name": "stderr",
     "output_type": "stream",
     "text": [
      "c:\\Users\\Jesper\\Anaconda3\\lib\\site-packages\\scipy\\stats\\_qmc.py:2039: UserWarning: The balance properties of Sobol' points require n to be a power of 2.\n",
      "  samples = self.engine.random(n)\n"
     ]
    },
    {
     "name": "stdout",
     "output_type": "stream",
     "text": [
      "Current Monte Carlo Sample size: 363\n",
      "[[ 1.          0.54590389 -0.00215536 -0.01288918]\n",
      " [ 0.54590389  1.         -0.003437   -0.02054291]\n",
      " [-0.00215536 -0.003437    1.          0.11907999]\n",
      " [-0.01288918 -0.02054291  0.11907999  1.        ]]\n",
      "Step: 5: current parameter_diff: 8.031448571530866, current marginal loglikelihood: -527.8736915203142\n",
      "EM Iteration 6\n"
     ]
    },
    {
     "name": "stderr",
     "output_type": "stream",
     "text": [
      "c:\\Users\\Jesper\\Anaconda3\\lib\\site-packages\\scipy\\stats\\_qmc.py:2039: UserWarning: The balance properties of Sobol' points require n to be a power of 2.\n",
      "  samples = self.engine.random(n)\n"
     ]
    },
    {
     "name": "stdout",
     "output_type": "stream",
     "text": [
      "Current Monte Carlo Sample size: 363\n",
      "[[ 1.          0.51806679 -0.00110105 -0.00719542]\n",
      " [ 0.51806679  1.         -0.00182159 -0.01189905]\n",
      " [-0.00110105 -0.00182159  1.          0.12484422]\n",
      " [-0.00719542 -0.01189905  0.12484422  1.        ]]\n",
      "Step: 6: current parameter_diff: 6.878963847684568, current marginal loglikelihood: -527.9724344618423\n"
     ]
    },
    {
     "name": "stderr",
     "output_type": "stream",
     "text": [
      "c:\\Users\\Jesper\\Documents\\GitHub\\Knowledge-Growth-Prediction\\models\\mirt_2pl_gain.py:267: RuntimeWarning: divide by zero encountered in log\n",
      "  (1-answer_vector), np.log(1-ICC_values)[0]) + np.log(latent_density)\n"
     ]
    },
    {
     "name": "stdout",
     "output_type": "stream",
     "text": [
      "Absolute diff in A:\n",
      "[[0.         0.25782796]\n",
      " [0.         0.23903671]\n",
      " [0.         0.89790936]\n",
      " [0.         0.06450982]\n",
      " [0.         0.38902166]\n",
      " [0.         0.1256766 ]\n",
      " [1.21073859 0.        ]\n",
      " [1.23391383 0.        ]\n",
      " [0.08420773 0.        ]\n",
      " [4.6530597  0.        ]\n",
      " [0.69739998 0.38390819]\n",
      " [0.20890599 1.18743349]]\n",
      "Absolute diff in delta:\n",
      "[0.0144932  0.13236088 1.7865505  0.18550864 0.80675886 1.00257018\n",
      " 0.36042495 0.08350576 0.14391436 0.65403722 0.19441378 2.31484258]\n",
      "Absolute diff in sigma:\n",
      "[[0.     0.1305]\n",
      " [0.1305 0.    ]]\n",
      "Absolute diff in A:\n",
      "[[0.00000000e+00 6.52076446e-01]\n",
      " [0.00000000e+00 6.78251941e-01]\n",
      " [0.00000000e+00 2.17747882e-01]\n",
      " [1.41369941e+00 0.00000000e+00]\n",
      " [2.86967833e-02 0.00000000e+00]\n",
      " [6.69432694e-01 0.00000000e+00]\n",
      " [2.40337806e+00 0.00000000e+00]\n",
      " [1.04622905e+00 8.00894772e-02]\n",
      " [1.94652489e+00 1.07057066e-03]\n",
      " [1.23329227e-02 6.92241393e-03]\n",
      " [3.11987010e+00 7.09489050e-01]\n",
      " [3.63134982e+00 2.06573229e+00]]\n",
      "Absolute diff in delta:\n",
      "[1.8244985  2.37029344 1.44170345 0.20343688 0.15687447 0.01604384\n",
      " 0.94674829 0.78526676 5.94542533 1.51196155 1.71337735 6.99943882]\n",
      "Absolute diff in A:\n",
      "[[0.         0.13044645]\n",
      " [0.         0.61106907]\n",
      " [0.         3.80541333]\n",
      " [0.         0.08946875]\n",
      " [0.         1.59256599]\n",
      " [0.         2.62363221]\n",
      " [2.31726187 0.        ]\n",
      " [1.96399548 0.        ]\n",
      " [0.50452172 0.        ]\n",
      " [7.74053172 0.        ]\n",
      " [1.00975772 0.38482185]\n",
      " [1.53504509 7.02902696]]\n",
      "Absolute diff in delta:\n",
      "[0.06243681 0.42796101 1.34972103 0.34296773 0.50762623 1.10202247\n",
      " 0.17081393 1.06920706 0.31147133 0.57034901 0.88525606 1.45443471]\n",
      "Absolute diff in sigma:\n",
      "[[0.     0.1161]\n",
      " [0.1161 0.    ]]\n",
      "Absolute diff in A:\n",
      "[[1.         1.66596703]\n",
      " [1.         3.14048446]\n",
      " [1.         0.64672565]\n",
      " [1.69105053 1.        ]\n",
      " [3.20290904 1.        ]\n",
      " [1.18593532 1.        ]\n",
      " [0.97692921 1.        ]\n",
      " [1.43149385 1.11237259]\n",
      " [4.20306862 2.07000826]\n",
      " [0.03077636 0.99766757]\n",
      " [1.01295691 2.54630515]\n",
      " [1.53890528 3.96696501]]\n",
      "Absolute diff in delta:\n",
      "[1.2061891  1.49572114 1.1460477  2.1630415  1.27159233 0.27733847\n",
      " 1.7604583  1.02905026 2.28122362 1.37146893 1.08897782 1.02209661]\n",
      "Covariance matrix is good: True\n",
      "EM Iteration 2\n",
      "Current Monte Carlo Sample size: 300\n",
      "[[1.        0.5660389]\n",
      " [0.5660389 1.       ]]\n"
     ]
    },
    {
     "name": "stderr",
     "output_type": "stream",
     "text": [
      "c:\\Users\\Jesper\\Anaconda3\\lib\\site-packages\\scipy\\stats\\_qmc.py:2039: UserWarning: The balance properties of Sobol' points require n to be a power of 2.\n",
      "  samples = self.engine.random(n)\n"
     ]
    },
    {
     "name": "stdout",
     "output_type": "stream",
     "text": [
      "Step: 2: current parameter_diff: 10.379656171409652, current marginal loglikelihood: -613.0634671425764\n",
      "EM Iteration 3\n",
      "Current Monte Carlo Sample size: 330\n",
      "[[1.         0.50544383]\n",
      " [0.50544383 1.        ]]\n"
     ]
    },
    {
     "name": "stderr",
     "output_type": "stream",
     "text": [
      "c:\\Users\\Jesper\\Anaconda3\\lib\\site-packages\\scipy\\stats\\_qmc.py:2039: UserWarning: The balance properties of Sobol' points require n to be a power of 2.\n",
      "  samples = self.engine.random(n)\n"
     ]
    },
    {
     "name": "stdout",
     "output_type": "stream",
     "text": [
      "Step: 3: current parameter_diff: 7.2880621490086845, current marginal loglikelihood: -596.5513744391471\n",
      "EM Iteration 4\n",
      "Current Monte Carlo Sample size: 363\n",
      "[[1.         0.42367365]\n",
      " [0.42367365 1.        ]]\n"
     ]
    },
    {
     "name": "stderr",
     "output_type": "stream",
     "text": [
      "c:\\Users\\Jesper\\Anaconda3\\lib\\site-packages\\scipy\\stats\\_qmc.py:2039: UserWarning: The balance properties of Sobol' points require n to be a power of 2.\n",
      "  samples = self.engine.random(n)\n"
     ]
    },
    {
     "name": "stdout",
     "output_type": "stream",
     "text": [
      "Step: 4: current parameter_diff: 5.930937060187184, current marginal loglikelihood: -589.5922029779781\n",
      "EM Iteration 5\n",
      "Current Monte Carlo Sample size: 399\n",
      "[[1.         0.33893173]\n",
      " [0.33893173 1.        ]]\n"
     ]
    },
    {
     "name": "stderr",
     "output_type": "stream",
     "text": [
      "c:\\Users\\Jesper\\Anaconda3\\lib\\site-packages\\scipy\\stats\\_qmc.py:2039: UserWarning: The balance properties of Sobol' points require n to be a power of 2.\n",
      "  samples = self.engine.random(n)\n"
     ]
    },
    {
     "name": "stdout",
     "output_type": "stream",
     "text": [
      "Step: 5: current parameter_diff: 4.2516799280263555, current marginal loglikelihood: -585.3477957736437\n",
      "EM Iteration 6\n",
      "Current Monte Carlo Sample size: 438\n",
      "[[1.         0.29785865]\n",
      " [0.29785865 1.        ]]\n",
      "Step: 6: current parameter_diff: 3.475686216572262, current marginal loglikelihood: -583.1822168624956\n",
      "EM Iteration 7\n",
      "Current Monte Carlo Sample size: 481\n",
      "[[1.         0.25221728]\n",
      " [0.25221728 1.        ]]\n",
      "Step: 7: current parameter_diff: 2.7498078801049477, current marginal loglikelihood: -583.2564819697877\n",
      "Covariance matrix is good: True\n",
      "EM Iteration 2\n",
      "Current Monte Carlo Sample size: 300\n",
      "[[1.         0.55292683]\n",
      " [0.55292683 1.        ]]\n"
     ]
    },
    {
     "name": "stderr",
     "output_type": "stream",
     "text": [
      "c:\\Users\\Jesper\\Anaconda3\\lib\\site-packages\\scipy\\stats\\_qmc.py:2039: UserWarning: The balance properties of Sobol' points require n to be a power of 2.\n",
      "  samples = self.engine.random(n)\n"
     ]
    },
    {
     "name": "stdout",
     "output_type": "stream",
     "text": [
      "Step: 2: current parameter_diff: 28.198358564186, current marginal loglikelihood: -358.80486847253667\n",
      "EM Iteration 3\n",
      "Current Monte Carlo Sample size: 300\n",
      "[[1.         0.58011759]\n",
      " [0.58011759 1.        ]]\n"
     ]
    },
    {
     "name": "stderr",
     "output_type": "stream",
     "text": [
      "c:\\Users\\Jesper\\Anaconda3\\lib\\site-packages\\scipy\\stats\\_qmc.py:2039: UserWarning: The balance properties of Sobol' points require n to be a power of 2.\n",
      "  samples = self.engine.random(n)\n"
     ]
    },
    {
     "name": "stdout",
     "output_type": "stream",
     "text": [
      "Step: 3: current parameter_diff: 22.041709055445686, current marginal loglikelihood: -338.4668440931634\n",
      "EM Iteration 4\n",
      "Current Monte Carlo Sample size: 330\n",
      "[[1.        0.6145946]\n",
      " [0.6145946 1.       ]]\n"
     ]
    },
    {
     "name": "stderr",
     "output_type": "stream",
     "text": [
      "c:\\Users\\Jesper\\Anaconda3\\lib\\site-packages\\scipy\\stats\\_qmc.py:2039: UserWarning: The balance properties of Sobol' points require n to be a power of 2.\n",
      "  samples = self.engine.random(n)\n"
     ]
    },
    {
     "name": "stdout",
     "output_type": "stream",
     "text": [
      "Step: 4: current parameter_diff: 20.941229989542343, current marginal loglikelihood: -330.83160487766247\n",
      "EM Iteration 5\n",
      "Current Monte Carlo Sample size: 363\n"
     ]
    },
    {
     "name": "stderr",
     "output_type": "stream",
     "text": [
      "c:\\Users\\Jesper\\Anaconda3\\lib\\site-packages\\scipy\\stats\\_qmc.py:2039: UserWarning: The balance properties of Sobol' points require n to be a power of 2.\n",
      "  samples = self.engine.random(n)\n"
     ]
    },
    {
     "name": "stdout",
     "output_type": "stream",
     "text": [
      "[[1.         0.67011472]\n",
      " [0.67011472 1.        ]]\n",
      "Step: 5: current parameter_diff: 18.6624469405779, current marginal loglikelihood: -325.18274452954194\n",
      "EM Iteration 6\n",
      "Current Monte Carlo Sample size: 399\n",
      "[[1.         0.69355242]\n",
      " [0.69355242 1.        ]]\n"
     ]
    },
    {
     "name": "stderr",
     "output_type": "stream",
     "text": [
      "c:\\Users\\Jesper\\Anaconda3\\lib\\site-packages\\scipy\\stats\\_qmc.py:2039: UserWarning: The balance properties of Sobol' points require n to be a power of 2.\n",
      "  samples = self.engine.random(n)\n"
     ]
    },
    {
     "name": "stdout",
     "output_type": "stream",
     "text": [
      "Step: 6: current parameter_diff: 12.57664168169419, current marginal loglikelihood: -321.78204244809814\n",
      "EM Iteration 7\n",
      "Current Monte Carlo Sample size: 399\n",
      "[[1.     0.6935]\n",
      " [0.6935 1.    ]]\n"
     ]
    },
    {
     "name": "stderr",
     "output_type": "stream",
     "text": [
      "c:\\Users\\Jesper\\Anaconda3\\lib\\site-packages\\scipy\\stats\\_qmc.py:2039: UserWarning: The balance properties of Sobol' points require n to be a power of 2.\n",
      "  samples = self.engine.random(n)\n"
     ]
    },
    {
     "name": "stdout",
     "output_type": "stream",
     "text": [
      "Step: 7: current parameter_diff: 10.721512664354158, current marginal loglikelihood: -321.31035733648736\n",
      "EM Iteration 8\n",
      "Current Monte Carlo Sample size: 399\n",
      "[[1.     0.6935]\n",
      " [0.6935 1.    ]]\n"
     ]
    },
    {
     "name": "stderr",
     "output_type": "stream",
     "text": [
      "c:\\Users\\Jesper\\Anaconda3\\lib\\site-packages\\scipy\\stats\\_qmc.py:2039: UserWarning: The balance properties of Sobol' points require n to be a power of 2.\n",
      "  samples = self.engine.random(n)\n"
     ]
    },
    {
     "name": "stdout",
     "output_type": "stream",
     "text": [
      "Step: 8: current parameter_diff: 6.112175896060992, current marginal loglikelihood: -321.1597712838183\n"
     ]
    },
    {
     "name": "stderr",
     "output_type": "stream",
     "text": [
      "c:\\Users\\Jesper\\Documents\\GitHub\\Knowledge-Growth-Prediction\\models\\mirt_2pl.py:276: RuntimeWarning: divide by zero encountered in log\n",
      "  (1-answer_vector), np.log(1-ICC_values)[0]) + np.log(latent_density)\n",
      "c:\\Users\\Jesper\\Documents\\GitHub\\Knowledge-Growth-Prediction\\models\\mirt_2pl.py:276: RuntimeWarning: divide by zero encountered in log\n",
      "  (1-answer_vector), np.log(1-ICC_values)[0]) + np.log(latent_density)\n"
     ]
    },
    {
     "name": "stdout",
     "output_type": "stream",
     "text": [
      "[[ 1.          0.2522      0.51052627 -0.29175812]\n",
      " [ 0.2522      0.9999      0.51052565 -0.29175881]\n",
      " [ 0.51052627  0.51052565  1.          0.6735012 ]\n",
      " [-0.29175812 -0.29175881  0.6735012   1.        ]]\n",
      "Absolute diff in A:\n",
      "[[0.         0.25042966]\n",
      " [0.         0.2140781 ]\n",
      " [0.         0.72948546]\n",
      " [0.         0.10217661]\n",
      " [0.         0.39612659]\n",
      " [0.         0.08744465]\n",
      " [1.34248284 0.        ]\n",
      " [1.18470049 0.        ]\n",
      " [0.1301544  0.        ]\n",
      " [4.64191086 0.        ]\n",
      " [0.66375479 0.48628022]\n",
      " [0.14575568 0.8395522 ]]\n",
      "Absolute diff in delta:\n",
      "[0.00383161 0.12993786 1.72495144 0.21844329 0.79123758 0.9733923\n",
      " 0.30131981 0.08666053 0.13546079 0.6422512  0.15656628 2.15865419]\n",
      "Absolute diff in sigma:\n",
      "[[0.000e+00 1.317e-01]\n",
      " [1.317e-01 1.000e-04]]\n",
      "Absolute diff in A:\n",
      "[[0.         2.22671325]\n",
      " [0.         1.9603667 ]\n",
      " [0.         0.88909301]\n",
      " [2.46872186 0.        ]\n",
      " [0.71579616 0.        ]\n",
      " [0.93097191 0.        ]\n",
      " [3.53906651 0.        ]\n",
      " [1.88148275 1.05400127]\n",
      " [2.8230053  1.15743794]\n",
      " [0.01241952 1.40498951]\n",
      " [5.02173757 1.96506329]\n",
      " [5.18556399 6.49761688]]\n",
      "Absolute diff in delta:\n",
      "[ 3.30222295  4.38555563  2.14569752  3.02911889  2.91199587  1.83842173\n",
      "  2.0578934   4.39313972 11.36072866  3.29143642  7.75521821 15.03957182]\n"
     ]
    }
   ],
   "source": [
    "experiment_1_1 = lambda: mirt_simulation_experiment(sample_size=100, item_dimension=12, latent_dimension=2,\n",
    "                                            q_type=\"full\", stop_threshold=5, person_method=\"BFGS\",\n",
    "                                            sigma_constraint=\"unconstrained\")\n",
    "result_dict = repeat_mirt_experiment(experiment_1_1, 5)"
   ]
  },
  {
   "cell_type": "code",
   "execution_count": 4,
   "metadata": {},
   "outputs": [
    {
     "name": "stdout",
     "output_type": "stream",
     "text": [
      "------------------------------------\n",
      "##### Results for Safe Q-Item with fixed Q-Matrix usage\n",
      "Latent dimension: 2.0,  Item dimension: 12.0, sample size 100.0 \\\n",
      "Early runtime: 4.08 seconds, 8.2 steps, 0.5 seconds per step \\\n",
      "Late runtime: 48.49 seconds, 9.0 steps, 5.39 seconds per step \\\n",
      "Early Marginal Likelihood, Optimal: -573.08, Estimated: -561.38, Initial -642.83 \\\n",
      "Late Marginal Likelihood, Optimal: -587.33, Estimated: -565.43, Initial -696.19\n",
      "| method     |   early_A |   early_delta |   early_sigma |   late_A |   late_delta |   late_sigma |      psi |\n",
      "|:-----------|----------:|--------------:|--------------:|---------:|-------------:|-------------:|---------:|\n",
      "| difference |   1.45962 |      0.771631 |      0.153442 |  3.15876 |      6.09349 |     0.37245  | 0.524183 |\n",
      "| initial    |   3.0625  |      0.687431 |      0.15818  |  2.81564 |      1.38536 |     0.127576 | 0.312    |\n",
      "| late_em    |   1.52977 |      0.750085 |      0.16163  |  3.09698 |      1.65528 |     0.076014 | 0.289005 |\n",
      "####\n"
     ]
    },
    {
     "name": "stderr",
     "output_type": "stream",
     "text": [
      "c:\\Users\\Jesper\\Documents\\GitHub\\Knowledge-Growth-Prediction\\analyse_experiment.py:151: FutureWarning: DataFrame.mean and DataFrame.median with numeric_only=None will include datetime64 and datetime64tz columns in a future version.\n",
      "  reference_method = result_df[result_df[\"method\"]\n",
      "c:\\Users\\Jesper\\Documents\\GitHub\\Knowledge-Growth-Prediction\\analyse_experiment.py:153: FutureWarning: DataFrame.mean and DataFrame.median with numeric_only=None will include datetime64 and datetime64tz columns in a future version.\n",
      "  initial = result_df[result_df[\"method\"] == \"initial\"].mean()\n"
     ]
    }
   ],
   "source": [
    "result_df = get_result_df(result_dict)\n",
    "print_result_from_df(result_df, description=\"Safe Q-Item with fixed Q-Matrix usage\")"
   ]
  },
  {
   "cell_type": "markdown",
   "metadata": {},
   "source": [
    "\n",
    "------------------------------------\n",
    "##### Results for Monte Carlo sample varying through ttest with normal MC\n",
    "Latent dimension: 1,  Item dimension: 20, sample size 1000 \\\n",
    "Runtime: 37.86 seconds, 20 steps, 1.89 seconds per step \\\n",
    "Optimal marginal Likelihood: -8714.19, Estimated: -8697.21, Initial -9512.15\n",
    "|               |   rmse_A |   rmse_delta |   rmse_sigma |\n",
    "|:--------------|---------:|-------------:|-------------:|\n",
    "| estimated     | 0.182642 |     0.211132 |            0 |\n",
    "| early_initial | 1.69549  |     1.49975  |            0 |\n",
    "| girth         | 0.313235 |     4.2295   |            0 |\n",
    "\n",
    "------------------------------------\n",
    "##### Results for Unsafe Q-Item\n",
    "Latent dimension: 2.0,  Item dimension: 12.0, sample size 100.0 \\\n",
    "Early runtime: 2.83 seconds, 6.666666666666667 steps, 0.42 seconds per step \\\n",
    "Late runtime: 89.06 seconds, 8.0 steps, 11.13 seconds per step \\\n",
    "Early Marginal Likelihood, Optimal: -588.95, Estimated: -577.35, Initial -651.28 \\\n",
    "Late Marginal Likelihood, Optimal: -503.73, Estimated: -493.19, Initial -594.28\n",
    "| method   |   early_A |   early_delta |   early_sigma |   late_A |   late_delta |   late_sigma |      psi |\n",
    "|:---------|----------:|--------------:|--------------:|---------:|-------------:|-------------:|---------:|\n",
    "| initial  |  2.45062  |      0.659433 |     0.221324  |  4.21137 |      1.32515 |    0.0867149 | 0.329417 |\n",
    "| late_em  |  0.962137 |      0.589822 |     0.0997021 |  2.94637 |      1.26479 |    0.119171  | 0.280201 |\n",
    "\n",
    "\n",
    "------------------------------------\n",
    "##### Results for Safe Q-Item with fixed Q-Matrix usage\n",
    "Latent dimension: 2.0,  Item dimension: 12.0, sample size 100.0 \\\n",
    "Early runtime: 3.61 seconds, 7.8 steps, 0.46 seconds per step \\\n",
    "Late runtime: 59.49 seconds, 10.4 steps, 5.72 seconds per step \\\n",
    "Early Marginal Likelihood, Optimal: -582.92, Estimated: -569.96, Initial -644.32 \\\n",
    "Late Marginal Likelihood, Optimal: -578.6, Estimated: -558.43, Initial -706.82\n",
    "| method   |   early_A |   early_delta |   early_sigma |   late_A |   late_delta |   late_sigma |      psi |\n",
    "|:---------|----------:|--------------:|--------------:|---------:|-------------:|-------------:|---------:|\n",
    "| initial  |   2.88087 |      0.517633 |      0.182391 |  3.17101 |      1.1477  |     0.161164 | 0.26501  |\n",
    "| late_em  |   1.16439 |      0.584869 |      0.112529 |  3.46094 |      2.04145 |     0.172379 | 0.268391 |\n",
    "####"
   ]
  },
  {
   "cell_type": "code",
   "execution_count": 12,
   "metadata": {},
   "outputs": [
    {
     "name": "stdout",
     "output_type": "stream",
     "text": [
      "Real latent covariance: [[1.     0.1921]\n",
      " [0.1921 1.    ]]\n",
      "Covariance matrix is good: True\n",
      "EM Iteration 2\n"
     ]
    },
    {
     "name": "stderr",
     "output_type": "stream",
     "text": [
      "c:\\Users\\Jesper\\Anaconda3\\lib\\site-packages\\scipy\\stats\\_qmc.py:2039: UserWarning: The balance properties of Sobol' points require n to be a power of 2.\n",
      "  samples = self.engine.random(n)\n"
     ]
    },
    {
     "name": "stdout",
     "output_type": "stream",
     "text": [
      "Current Monte Carlo Sample size: 300\n",
      "Step: 2: current parameter_diff: 9.087457477954748, current marginal loglikelihood: -12789.826209045792\n",
      "EM Iteration 3\n",
      "Current Monte Carlo Sample size: 300\n",
      "Step: 3: current parameter_diff: 9.347286786290436, current marginal loglikelihood: -12431.792159340152\n",
      "EM Iteration 4\n",
      "Current Monte Carlo Sample size: 300\n",
      "Step: 4: current parameter_diff: 5.994195183510891, current marginal loglikelihood: -12324.415808814525\n",
      "EM Iteration 5\n",
      "Current Monte Carlo Sample size: 330\n",
      "Step: 5: current parameter_diff: 3.466965558217997, current marginal loglikelihood: -12291.666326556195\n",
      "EM Iteration 6\n",
      "Current Monte Carlo Sample size: 363\n",
      "Step: 6: current parameter_diff: 3.0517259450824583, current marginal loglikelihood: -12274.293408739399\n",
      "EM Iteration 7\n",
      "Current Monte Carlo Sample size: 399\n",
      "Step: 7: current parameter_diff: 1.6828800520798761, current marginal loglikelihood: -12268.44295499595\n",
      "EM Iteration 8\n",
      "Current Monte Carlo Sample size: 438\n",
      "Step: 8: current parameter_diff: 1.5472995648012011, current marginal loglikelihood: -12266.741491100976\n",
      "EM Iteration 9\n",
      "Current Monte Carlo Sample size: 481\n",
      "Step: 9: current parameter_diff: 0.9405471813539303, current marginal loglikelihood: -12257.26354486137\n",
      "EM Iteration 10\n",
      "Current Monte Carlo Sample size: 529\n",
      "Step: 10: current parameter_diff: 0.5530337635868852, current marginal loglikelihood: -12254.874420202255\n",
      "EM Iteration 11\n",
      "Current Monte Carlo Sample size: 581\n",
      "Step: 11: current parameter_diff: 0.9182088621850061, current marginal loglikelihood: -12252.639608779638\n",
      "EM Iteration 12\n",
      "Current Monte Carlo Sample size: 581\n",
      "Step: 12: current parameter_diff: 0.6457048580426479, current marginal loglikelihood: -12250.319820728353\n",
      "EM Iteration 13\n",
      "Current Monte Carlo Sample size: 581\n"
     ]
    },
    {
     "name": "stderr",
     "output_type": "stream",
     "text": [
      "c:\\Users\\Jesper\\Documents\\GitHub\\Knowledge-Growth-Prediction\\em_algorithm\\e_step_mirt_2pl.py:264: RuntimeWarning: divide by zero encountered in log\n",
      "  icc_values), r_item_theta) + np.multiply(np.log(1-icc_values), np.subtract(r_0_theta, r_item_theta))\n"
     ]
    },
    {
     "name": "stdout",
     "output_type": "stream",
     "text": [
      "Step: 13: current parameter_diff: 0.40565533319178126, current marginal loglikelihood: -12248.475980359144\n",
      "EM Iteration 14\n",
      "Current Monte Carlo Sample size: 581\n",
      "Step: 14: current parameter_diff: 0.3981727860081429, current marginal loglikelihood: -12251.628743992456\n",
      "EM Iteration 15\n",
      "Current Monte Carlo Sample size: 639\n",
      "Step: 15: current parameter_diff: 0.3759899463682548, current marginal loglikelihood: -12251.09622265484\n",
      "EM Iteration 16\n",
      "Current Monte Carlo Sample size: 702\n",
      "Step: 16: current parameter_diff: 0.07730277535592268, current marginal loglikelihood: -12250.114423241039\n",
      "EM Iteration 17\n",
      "Current Monte Carlo Sample size: 772\n",
      "Step: 17: current parameter_diff: 0.35397135818851444, current marginal loglikelihood: -12249.62312895641\n",
      "Absolute diff in A:\n",
      "[[ 0.14141196  0.        ]\n",
      " [ 0.14652275  0.        ]\n",
      " [ 0.24777834  0.        ]\n",
      " [ 0.39441549  0.        ]\n",
      " [ 0.12016762  0.        ]\n",
      " [ 0.32373102  0.        ]\n",
      " [ 2.04123377  0.        ]\n",
      " [ 0.07098307  0.        ]\n",
      " [ 0.06713308  0.        ]\n",
      " [ 0.          0.20182688]\n",
      " [ 0.          0.62813809]\n",
      " [ 0.          0.09920095]\n",
      " [ 0.          0.01945836]\n",
      " [ 0.          0.18659965]\n",
      " [ 0.          0.15575047]\n",
      " [ 0.          0.08789252]\n",
      " [ 0.          1.4778765 ]\n",
      " [ 0.          0.04189966]\n",
      " [ 0.         10.97192658]\n",
      " [ 0.          0.01780647]]\n",
      "Absolute diff in delta:\n",
      "[0.11951806 0.01624619 0.00828051 0.00229788 0.03779432 0.12022373\n",
      " 0.3486814  0.00835183 0.058682   0.13972121 0.09226136 0.03582283\n",
      " 0.07487817 0.05699409 0.08076706 0.08706214 0.40613611 0.01579479\n",
      " 1.00325414 0.03622401]\n",
      "Absolute diff in sigma:\n",
      "[[0.     0.0592]\n",
      " [0.0592 0.    ]]\n",
      "Absolute diff in A:\n",
      "[[ 1.36526825  0.        ]\n",
      " [ 1.11545869  0.        ]\n",
      " [ 1.73464119  0.        ]\n",
      " [ 1.36717029  0.        ]\n",
      " [ 0.86321887  0.        ]\n",
      " [ 1.3189492   0.        ]\n",
      " [ 7.95629842  0.        ]\n",
      " [ 0.25893288  0.        ]\n",
      " [ 0.90547762  0.        ]\n",
      " [ 0.          3.59522736]\n",
      " [ 0.          1.62115369]\n",
      " [ 0.          0.60013944]\n",
      " [ 0.          0.69561718]\n",
      " [ 0.          3.18601677]\n",
      " [ 0.          0.67271571]\n",
      " [ 0.          0.01684306]\n",
      " [ 0.          2.47056086]\n",
      " [ 0.          2.57133627]\n",
      " [ 0.         11.96739471]\n",
      " [ 0.          0.77011617]]\n",
      "Absolute diff in delta:\n",
      "[0.06091239 0.02035124 0.864845   0.03297919 0.0250019  0.13604297\n",
      " 1.95588372 0.02782104 0.03300903 2.77138941 0.09108795 0.05574691\n",
      " 0.08273561 0.12214658 0.05284058 0.0228591  0.39977876 0.28998553\n",
      " 1.02811303 0.1957758 ]\n",
      "Absolute diff in sigma:\n",
      "[[0.     0.3079]\n",
      " [0.3079 0.    ]]\n"
     ]
    }
   ],
   "source": [
    "performance_dict = mirt_param_recovery(sample_size=1000, item_dimension=20, latent_dimension=2, q_type=\"seperated\", girth=False, stop_threshold=1)"
   ]
  },
  {
   "cell_type": "code",
   "execution_count": 13,
   "metadata": {},
   "outputs": [
    {
     "name": "stdout",
     "output_type": "stream",
     "text": [
      "------------------------------------\n",
      "##### Results for Fixed Issue with simulation Covariance\n",
      "Latent dimension: 2,  Item dimension: 20, sample size 1000 \\\n",
      "Runtime: 51.07 seconds, 18 steps, 2.84 seconds per step \\\n",
      "Optimal marginal Likelihood: -11670.7, Estimated: -12247.32, Initial -13560.2\n",
      "|               |   rmse_A |   rmse_delta |   rmse_sigma |\n",
      "|:--------------|---------:|-------------:|-------------:|\n",
      "| estimated     |  1.78631 |     0.262764 |    0.0418607 |\n",
      "| early_initial |  2.54062 |     0.826317 |    0.217718  |\n"
     ]
    }
   ],
   "source": [
    "print_result(performance_dict, \"Fixed Issue with simulation Covariance\")"
   ]
  },
  {
   "cell_type": "markdown",
   "metadata": {},
   "source": [
    "------------------------------------\n",
    "##### Results for Seperated Q-Matrix\n",
    "Latent dimension: 2,  Item dimension: 20, sample size 1000 \\\n",
    "Runtime: 142.07 seconds, 26 steps, 5.46 seconds per step \\\n",
    "Optimal marginal Likelihood: -9384.38, Estimated: -10189.47, Initial -11459.9\n",
    "|               |   rmse_A |   rmse_delta |   rmse_sigma |\n",
    "|:--------------|---------:|-------------:|-------------:|\n",
    "| estimated     |  4.00013 |      3.10678 |    0.0201383 |\n",
    "| early_initial |  4.5183  |      2.5846  |    0.165491  |\n",
    "\n",
    "------------------------------------\n",
    "##### Results for BFGS for Q_0 with approximate Jacobi\n",
    "Latent dimension: 2,  Item dimension: 20, sample size 1000 \\\n",
    "Runtime: 61.55 seconds, 12 steps, 5.13 seconds per step \\\n",
    "Optimal marginal Likelihood: -9363.89, Estimated: -9711.58, Initial -10528.79\n",
    "|               |   rmse_A |   rmse_delta |   rmse_sigma |\n",
    "|:--------------|---------:|-------------:|-------------:|\n",
    "| estimated     |  3.02507 |      1.83482 |    0.0645047 |\n",
    "| early_initial |  2.06432 |      2.18337 |    0.289049  |\n",
    "\n",
    "------------------------------------\n",
    "##### Results for Monte Carlo sample varying through ttest\n",
    "Latent dimension: 2,  Item dimension: 20, sample size 1000 \\\n",
    "Runtime: 325.73 seconds, 42 steps, 7.76 seconds per step \\\n",
    "Optimal marginal Likelihood: -9929.77, Estimated: -10179.96, Initial -10767.41\n",
    "|               |   rmse_A |   rmse_delta |   rmse_sigma |\n",
    "|:--------------|---------:|-------------:|-------------:|\n",
    "| estimated     |  1.25777 |     0.965894 |   0.00557421 |\n",
    "| early_initial |  1.98812 |     1.68516  |   0.719705   |\n",
    "\n",
    "------------------------------------\n",
    "##### Results for Fixed random Covariance 1, girth included\n",
    "Latent dimension: 2,  Item dimension: 20, sample size 1000 \\\n",
    "Runtime: 57.16 seconds, 14 steps, 4.08 seconds per step \\\n",
    "Optimal marginal Likelihood: -11668.66, Estimated: -11672.6, Initial -12307.41\n",
    "|               |   rmse_A |   rmse_delta |   rmse_sigma |\n",
    "|:--------------|---------:|-------------:|-------------:|\n",
    "| estimated     | 0.183251 |    0.0861252 |    0.0215108 |\n",
    "| early_initial | 0.786712 |    0.393667  |    0.0471788 |\n",
    "| girth         | 1.28298  |    0.263374  |    0.350541  |\n",
    "\n",
    "------------------------------------\n",
    "##### Results for Fixed Issue with simulation Covariance\n",
    "Latent dimension: 2,  Item dimension: 20, sample size 1000 \\\n",
    "Runtime: 24.71 seconds, 11 steps, 2.25 seconds per step \\\n",
    "Optimal marginal Likelihood: -11186.38, Estimated: -11389.57, Initial -12010.77\n",
    "|               |   rmse_A |   rmse_delta |   rmse_sigma |\n",
    "|:--------------|---------:|-------------:|-------------:|\n",
    "| estimated     |  1.83766 |      1.4664  |    0.0743169 |\n",
    "| early_initial |  2.7041  |      2.66224 |    0.0627911 |"
   ]
  },
  {
   "cell_type": "code",
   "execution_count": 16,
   "metadata": {},
   "outputs": [
    {
     "name": "stdout",
     "output_type": "stream",
     "text": [
      "Real latent covariance: [[1.     0.5392 0.4093]\n",
      " [0.5392 1.     0.5406]\n",
      " [0.4093 0.5406 1.    ]]\n",
      "Covariance matrix is good: True\n",
      "EM Iteration 2\n"
     ]
    },
    {
     "name": "stderr",
     "output_type": "stream",
     "text": [
      "c:\\Users\\Jesper\\Anaconda3\\lib\\site-packages\\scipy\\stats\\_qmc.py:2039: UserWarning: The balance properties of Sobol' points require n to be a power of 2.\n",
      "  samples = self.engine.random(n)\n"
     ]
    },
    {
     "name": "stdout",
     "output_type": "stream",
     "text": [
      "Current Monte Carlo Sample size: 600\n"
     ]
    },
    {
     "name": "stderr",
     "output_type": "stream",
     "text": [
      "c:\\Users\\Jesper\\Documents\\GitHub\\Knowledge-Growth-Prediction\\em_algorithm\\e_step_mirt_2pl.py:198: RuntimeWarning: divide by zero encountered in log\n",
      "  factor = np.log(self.model.latent_density(theta, sigma=sigma))\n",
      "c:\\Users\\Jesper\\Documents\\GitHub\\Knowledge-Growth-Prediction\\em_algorithm\\e_step_mirt_2pl.py:198: RuntimeWarning: divide by zero encountered in log\n",
      "  factor = np.log(self.model.latent_density(theta, sigma=sigma))\n"
     ]
    },
    {
     "name": "stdout",
     "output_type": "stream",
     "text": [
      "[[1.         0.22255116 0.4851635 ]\n",
      " [0.22255116 1.         0.28710379]\n",
      " [0.4851635  0.28710379 1.        ]]\n",
      "Step: 2: current parameter_diff: 22.836966115835242, current marginal loglikelihood: -11263.404209075177\n",
      "EM Iteration 3\n"
     ]
    },
    {
     "name": "stderr",
     "output_type": "stream",
     "text": [
      "c:\\Users\\Jesper\\Anaconda3\\lib\\site-packages\\scipy\\stats\\_qmc.py:2039: UserWarning: The balance properties of Sobol' points require n to be a power of 2.\n",
      "  samples = self.engine.random(n)\n"
     ]
    },
    {
     "name": "stdout",
     "output_type": "stream",
     "text": [
      "Current Monte Carlo Sample size: 600\n",
      "[[1.         0.03209561 0.46728994]\n",
      " [0.03209561 1.         0.18680867]\n",
      " [0.46728994 0.18680867 1.        ]]\n",
      "Step: 3: current parameter_diff: 12.765040130244333, current marginal loglikelihood: -11025.095432664773\n",
      "EM Iteration 4\n"
     ]
    },
    {
     "name": "stderr",
     "output_type": "stream",
     "text": [
      "c:\\Users\\Jesper\\Anaconda3\\lib\\site-packages\\scipy\\stats\\_qmc.py:2039: UserWarning: The balance properties of Sobol' points require n to be a power of 2.\n",
      "  samples = self.engine.random(n)\n"
     ]
    },
    {
     "name": "stdout",
     "output_type": "stream",
     "text": [
      "Current Monte Carlo Sample size: 660\n",
      "[[ 1.         -0.12237363  0.46206731]\n",
      " [-0.12237363  1.          0.13165586]\n",
      " [ 0.46206731  0.13165586  1.        ]]\n",
      "Step: 4: current parameter_diff: 11.082485951986573, current marginal loglikelihood: -10917.861640370744\n",
      "EM Iteration 5\n"
     ]
    },
    {
     "name": "stderr",
     "output_type": "stream",
     "text": [
      "c:\\Users\\Jesper\\Anaconda3\\lib\\site-packages\\scipy\\stats\\_qmc.py:2039: UserWarning: The balance properties of Sobol' points require n to be a power of 2.\n",
      "  samples = self.engine.random(n)\n"
     ]
    },
    {
     "name": "stdout",
     "output_type": "stream",
     "text": [
      "Current Monte Carlo Sample size: 726\n",
      "[[ 1.         -0.13268712  0.46966192]\n",
      " [-0.13268712  1.          0.07677147]\n",
      " [ 0.46966192  0.07677147  1.        ]]\n",
      "Step: 5: current parameter_diff: 5.054700187758239, current marginal loglikelihood: -10871.624165962843\n",
      "EM Iteration 6\n"
     ]
    },
    {
     "name": "stderr",
     "output_type": "stream",
     "text": [
      "c:\\Users\\Jesper\\Anaconda3\\lib\\site-packages\\scipy\\stats\\_qmc.py:2039: UserWarning: The balance properties of Sobol' points require n to be a power of 2.\n",
      "  samples = self.engine.random(n)\n"
     ]
    },
    {
     "name": "stdout",
     "output_type": "stream",
     "text": [
      "Current Monte Carlo Sample size: 798\n",
      "[[ 1.         -0.15335902  0.48429796]\n",
      " [-0.15335902  1.          0.00857838]\n",
      " [ 0.48429796  0.00857838  1.        ]]\n",
      "Step: 6: current parameter_diff: 7.350049766942949, current marginal loglikelihood: -10846.63925009043\n",
      "EM Iteration 7\n"
     ]
    },
    {
     "name": "stderr",
     "output_type": "stream",
     "text": [
      "c:\\Users\\Jesper\\Anaconda3\\lib\\site-packages\\scipy\\stats\\_qmc.py:2039: UserWarning: The balance properties of Sobol' points require n to be a power of 2.\n",
      "  samples = self.engine.random(n)\n"
     ]
    },
    {
     "name": "stdout",
     "output_type": "stream",
     "text": [
      "Current Monte Carlo Sample size: 877\n",
      "[[ 1.         -0.18130942  0.49736388]\n",
      " [-0.18130942  1.         -0.04688012]\n",
      " [ 0.49736388 -0.04688012  1.        ]]\n",
      "Step: 7: current parameter_diff: 4.21590743744123, current marginal loglikelihood: -10830.644137405307\n",
      "EM Iteration 8\n"
     ]
    },
    {
     "name": "stderr",
     "output_type": "stream",
     "text": [
      "c:\\Users\\Jesper\\Anaconda3\\lib\\site-packages\\scipy\\stats\\_qmc.py:2039: UserWarning: The balance properties of Sobol' points require n to be a power of 2.\n",
      "  samples = self.engine.random(n)\n"
     ]
    },
    {
     "name": "stdout",
     "output_type": "stream",
     "text": [
      "Current Monte Carlo Sample size: 964\n",
      "[[ 1.         -0.15152568  0.50240847]\n",
      " [-0.15152568  1.         -0.07665482]\n",
      " [ 0.50240847 -0.07665482  1.        ]]\n"
     ]
    },
    {
     "name": "stderr",
     "output_type": "stream",
     "text": [
      "c:\\Users\\Jesper\\Documents\\GitHub\\Knowledge-Growth-Prediction\\em_algorithm\\e_step_mirt_2pl.py:264: RuntimeWarning: divide by zero encountered in log\n",
      "  icc_values), r_item_theta) + np.multiply(np.log(1-icc_values), np.subtract(r_0_theta, r_item_theta))\n",
      "c:\\Users\\Jesper\\Documents\\GitHub\\Knowledge-Growth-Prediction\\em_algorithm\\e_step_mirt_2pl.py:264: RuntimeWarning: invalid value encountered in multiply\n",
      "  icc_values), r_item_theta) + np.multiply(np.log(1-icc_values), np.subtract(r_0_theta, r_item_theta))\n",
      "c:\\Users\\Jesper\\Documents\\GitHub\\Knowledge-Growth-Prediction\\em_algorithm\\m_step_mirt_2pl.py:70: RuntimeWarning: overflow encountered in exp\n",
      "  population = random.choices(population=population_base, weights=np.exp(\n"
     ]
    }
   ],
   "source": [
    "performance_dict = mirt_param_recovery(sample_size=1000, item_dimension=20, latent_dimension=3, q_type=\"pyramid\", girth=False, stop_threshold=10, ensure_id=True, q_share=0.6)"
   ]
  },
  {
   "cell_type": "code",
   "execution_count": 8,
   "metadata": {},
   "outputs": [
    {
     "ename": "NameError",
     "evalue": "name 'performance_dict' is not defined",
     "output_type": "error",
     "traceback": [
      "\u001b[1;31m---------------------------------------------------------------------------\u001b[0m",
      "\u001b[1;31mNameError\u001b[0m                                 Traceback (most recent call last)",
      "\u001b[1;32mc:\\Users\\Jesper\\Documents\\GitHub\\Knowledge-Growth-Prediction\\simulation_experiments.ipynb Zelle 21\u001b[0m in \u001b[0;36m<cell line: 1>\u001b[1;34m()\u001b[0m\n\u001b[1;32m----> <a href='vscode-notebook-cell:/c%3A/Users/Jesper/Documents/GitHub/Knowledge-Growth-Prediction/simulation_experiments.ipynb#X26sZmlsZQ%3D%3D?line=0'>1</a>\u001b[0m print_result(performance_dict, \u001b[39m\"\u001b[39m\u001b[39mWith Covariance Matrix partially aligned to Q-matrix\u001b[39m\u001b[39m\"\u001b[39m)\n",
      "\u001b[1;31mNameError\u001b[0m: name 'performance_dict' is not defined"
     ]
    }
   ],
   "source": [
    "print_result(performance_dict, \"With Covariance Matrix partially aligned to Q-matrix\")"
   ]
  },
  {
   "cell_type": "markdown",
   "metadata": {},
   "source": [
    "------------------------------------\n",
    "##### Results for Pyramid Q-Matrix\n",
    "Latent dimension: 3,  Item dimension: 20, sample size 200 \\\n",
    "Runtime: 121.22 seconds, 46 steps, 2.64 seconds per step \\\n",
    "Optimal marginal Likelihood: -2144.15, Estimated: -2155.08, Initial -2699.63\n",
    "|               |   rmse_A |   rmse_delta |   rmse_sigma |\n",
    "|:--------------|---------:|-------------:|-------------:|\n",
    "| estimated     |  11.0034 |      1.77461 |     0.889828 |\n",
    "| early_initial |  10.5116 |      2.15986 |     0.522199 |\n",
    "\n",
    "------------------------------------\n",
    "##### Results for Pyramid Q-Matrix\n",
    "Latent dimension: 3,  Item dimension: 20, sample size 1000 \\\n",
    "Runtime: 313.22 seconds, 51 steps, 6.14 seconds per step \\\n",
    "Optimal marginal Likelihood: -9452.24, Estimated: -9813.87, Initial -11216.48\n",
    "|               |   rmse_A |   rmse_delta |   rmse_sigma |\n",
    "|:--------------|---------:|-------------:|-------------:|\n",
    "| estimated     |  5.34115 |      1.4068  |     0.425982 |\n",
    "| early_initial |  5.98238 |      2.25109 |     0.234288 |\n",
    "\n",
    "------------------------------------\n",
    "##### Results for Pyramid Q-Matrix\n",
    "Latent dimension: 3,  Item dimension: 30, sample size 2000 \\\n",
    "Runtime: 1521.51 seconds, 76 steps, 20.02 seconds per step \\\n",
    "Optimal marginal Likelihood: -30844.13, Estimated: -32521.34, Initial -37390.6\n",
    "|               |   rmse_A |   rmse_delta |   rmse_sigma |\n",
    "|:--------------|---------:|-------------:|-------------:|\n",
    "| estimated     |  2.55959 |       1.9952 |    0.314331  |\n",
    "| early_initial |  3.32034 |       3.514  |    0.0239562 |\n",
    "\n",
    "------------------------------------\n",
    "##### Results for BFGS for Q_0 with approximated gradient\n",
    "Latent dimension: 3,  Item dimension: 20, sample size 1000 \\\n",
    "Runtime: 350.28 seconds, 64 steps, 5.47 seconds per step \\\n",
    "Optimal marginal Likelihood: -10498.87, Estimated: -11303.0, Initial -12740.14\n",
    "|               |   rmse_A |   rmse_delta |   rmse_sigma |\n",
    "|:--------------|---------:|-------------:|-------------:|\n",
    "| estimated     |  10.2704 |     0.68597  |    0.318713  |\n",
    "| early_initial |  10.4626 |     0.846172 |    0.0895367 |\n",
    "\n",
    "------------------------------------\n",
    "##### Results for BFGS for Q_0 with exact gradient\n",
    "Latent dimension: 3,  Item dimension: 20, sample size 1000 \\\n",
    "Runtime: 152.91 seconds, 31 steps, 4.93 seconds per step \\\n",
    "Optimal marginal Likelihood: -11106.69, Estimated: -11211.51, Initial -12370.23\n",
    "|               |   rmse_A |   rmse_delta |   rmse_sigma |\n",
    "|:--------------|---------:|-------------:|-------------:|\n",
    "| estimated     |  3.5074  |      2.54509 |     0.21123  |\n",
    "| early_initial |  3.51819 |      2.66313 |     0.319647 |\n",
    "\n",
    "------------------------------------\n",
    "##### Results for Newton-Raphson for Q_0 with approximated second derivative\n",
    "Latent dimension: 3,  Item dimension: 20, sample size 1000 \\\n",
    "Runtime: 352.93 seconds, 62 steps, 5.69 seconds per step \\\n",
    "Optimal marginal Likelihood: -10237.22, Estimated: -10482.36, Initial -12569.49\n",
    "|               |   rmse_A |   rmse_delta |   rmse_sigma |\n",
    "|:--------------|---------:|-------------:|-------------:|\n",
    "| estimated     |  5.23694 |      2.45127 |     0.508499 |\n",
    "| early_initial |  5.36172 |      3.29141 |     0.640209 |"
   ]
  },
  {
   "cell_type": "code",
   "execution_count": 13,
   "metadata": {},
   "outputs": [
    {
     "name": "stdout",
     "output_type": "stream",
     "text": [
      "Real latent covariance: [[1.     0.     0.2545]\n",
      " [0.     1.     0.3721]\n",
      " [0.2545 0.3721 1.    ]]\n",
      "Covariance matrix is good: True\n",
      "EM Iteration 2\n"
     ]
    },
    {
     "name": "stderr",
     "output_type": "stream",
     "text": [
      "c:\\Users\\Jesper\\Anaconda3\\lib\\site-packages\\scipy\\stats\\_qmc.py:2039: UserWarning: The balance properties of Sobol' points require n to be a power of 2.\n",
      "  samples = self.engine.random(n)\n"
     ]
    },
    {
     "name": "stdout",
     "output_type": "stream",
     "text": [
      "Current Monte Carlo Sample size: 600\n"
     ]
    },
    {
     "name": "stderr",
     "output_type": "stream",
     "text": [
      "c:\\Users\\Jesper\\Anaconda3\\lib\\site-packages\\scipy\\optimize\\_numdiff.py:576: RuntimeWarning: invalid value encountered in subtract\n",
      "  df = fun(x) - f0\n"
     ]
    },
    {
     "name": "stdout",
     "output_type": "stream",
     "text": [
      "[[nan nan nan]\n",
      " [nan nan nan]\n",
      " [nan nan nan]]\n",
      "[[nan nan nan]\n",
      " [nan nan nan]\n",
      " [nan nan nan]]\n",
      "Invalid Covariance encountered, trying last step covariance\n",
      "Step: 2: current parameter_diff: 41.855085339761395, current marginal loglikelihood: -12550.72345228223\n",
      "EM Iteration 3\n",
      "Current Monte Carlo Sample size: 660\n",
      "[[nan nan nan]\n",
      " [nan nan nan]\n",
      " [nan nan nan]]\n",
      "[[nan nan nan]\n",
      " [nan nan nan]\n",
      " [nan nan nan]]\n",
      "Invalid Covariance encountered, trying last step covariance\n",
      "Step: 3: current parameter_diff: 28.922785136715092, current marginal loglikelihood: -12131.893852917503\n",
      "EM Iteration 4\n",
      "Current Monte Carlo Sample size: 660\n",
      "[[ 1.00000000e+000 -7.56483606e-249 -7.12199634e-243]\n",
      " [-7.56483606e-249  1.00000000e+000 -1.46994029e-260]\n",
      " [-7.12199634e-243 -1.46994029e-260  1.00000000e+000]]\n"
     ]
    },
    {
     "name": "stderr",
     "output_type": "stream",
     "text": [
      "c:\\Users\\Jesper\\Documents\\GitHub\\Knowledge-Growth-Prediction\\em_algorithm\\e_step_mirt_2pl.py:264: RuntimeWarning: divide by zero encountered in log\n",
      "  icc_values), r_item_theta) + np.multiply(np.log(1-icc_values), np.subtract(r_0_theta, r_item_theta))\n",
      "c:\\Users\\Jesper\\Documents\\GitHub\\Knowledge-Growth-Prediction\\em_algorithm\\e_step_mirt_2pl.py:264: RuntimeWarning: invalid value encountered in multiply\n",
      "  icc_values), r_item_theta) + np.multiply(np.log(1-icc_values), np.subtract(r_0_theta, r_item_theta))\n"
     ]
    },
    {
     "name": "stdout",
     "output_type": "stream",
     "text": [
      "Step: 4: current parameter_diff: 24.909956480277785, current marginal loglikelihood: -11869.365012663717\n",
      "EM Iteration 5\n",
      "Current Monte Carlo Sample size: 660\n",
      "[[1.         0.07473132 0.19983603]\n",
      " [0.07473132 1.         0.24058055]\n",
      " [0.19983603 0.24058055 1.        ]]\n",
      "Step: 5: current parameter_diff: 20.731814136925763, current marginal loglikelihood: -11739.105149945846\n",
      "EM Iteration 6\n",
      "Current Monte Carlo Sample size: 660\n",
      "[[1.         0.02395303 0.25925938]\n",
      " [0.02395303 1.         0.26711545]\n",
      " [0.25925938 0.26711545 1.        ]]\n",
      "Step: 6: current parameter_diff: 6.423400003338906, current marginal loglikelihood: -11720.71525563623\n",
      "EM Iteration 7\n",
      "Current Monte Carlo Sample size: 726\n",
      "[[1.         0.02766565 0.2770886 ]\n",
      " [0.02766565 1.         0.30801604]\n",
      " [0.2770886  0.30801604 1.        ]]\n",
      "Step: 7: current parameter_diff: 5.599935651052099, current marginal loglikelihood: -11726.261698793634\n",
      "EM Iteration 8\n",
      "Current Monte Carlo Sample size: 798\n",
      "[[1.         0.03611896 0.29298871]\n",
      " [0.03611896 1.         0.33452034]\n",
      " [0.29298871 0.33452034 1.        ]]\n"
     ]
    },
    {
     "name": "stderr",
     "output_type": "stream",
     "text": [
      "c:\\Users\\Jesper\\Documents\\GitHub\\Knowledge-Growth-Prediction\\em_algorithm\\m_step_mirt_2pl.py:70: RuntimeWarning: overflow encountered in exp\n",
      "  population = random.choices(population=population_base, weights=np.exp(\n"
     ]
    },
    {
     "name": "stdout",
     "output_type": "stream",
     "text": [
      "Step: 8: current parameter_diff: 8.88763105930743, current marginal loglikelihood: -11739.130271363902\n",
      "EM Iteration 9\n",
      "Current Monte Carlo Sample size: 877\n",
      "[[1.         0.04450944 0.2860444 ]\n",
      " [0.04450944 1.         0.34325432]\n",
      " [0.2860444  0.34325432 1.        ]]\n",
      "Step: 9: current parameter_diff: 6.972349751947515, current marginal loglikelihood: -11721.612152810394\n",
      "EM Iteration 10\n",
      "Current Monte Carlo Sample size: 964\n",
      "[[1.         0.04267512 0.28987184]\n",
      " [0.04267512 1.         0.33339445]\n",
      " [0.28987184 0.33339445 1.        ]]\n",
      "Step: 10: current parameter_diff: 13.349635834760017, current marginal loglikelihood: -11712.217814439908\n",
      "EM Iteration 11\n",
      "Current Monte Carlo Sample size: 1060\n",
      "[[1.         0.05402791 0.27611641]\n",
      " [0.05402791 1.         0.32730623]\n",
      " [0.27611641 0.32730623 1.        ]]\n",
      "Step: 11: current parameter_diff: 13.121900001706786, current marginal loglikelihood: -11752.478352914124\n",
      "EM Iteration 12\n",
      "Current Monte Carlo Sample size: 1166\n",
      "[[1.         0.03472167 0.29289335]\n",
      " [0.03472167 1.         0.31423842]\n",
      " [0.29289335 0.31423842 1.        ]]\n",
      "Step: 12: current parameter_diff: 12.92705941994013, current marginal loglikelihood: -11773.525002062834\n",
      "EM Iteration 13\n",
      "Current Monte Carlo Sample size: 1282\n",
      "[[1.         0.04206202 0.28354236]\n",
      " [0.04206202 1.         0.34677087]\n",
      " [0.28354236 0.34677087 1.        ]]\n",
      "Step: 13: current parameter_diff: 14.069785350523503, current marginal loglikelihood: -11888.973247891026\n",
      "EM Iteration 14\n",
      "Current Monte Carlo Sample size: 1282\n",
      "[[1.         0.04470603 0.30510719]\n",
      " [0.04470603 1.         0.31712275]\n",
      " [0.30510719 0.31712275 1.        ]]\n",
      "Step: 14: current parameter_diff: 12.996930583013478, current marginal loglikelihood: -11919.620612639617\n",
      "EM Iteration 15\n",
      "Current Monte Carlo Sample size: 1410\n",
      "[[1.         0.03289506 0.31780259]\n",
      " [0.03289506 1.         0.33049459]\n",
      " [0.31780259 0.33049459 1.        ]]\n",
      "Step: 15: current parameter_diff: 12.407788859306613, current marginal loglikelihood: -11918.172775706451\n",
      "EM Iteration 16\n",
      "Current Monte Carlo Sample size: 1551\n",
      "[[1.         0.03358675 0.32117101]\n",
      " [0.03358675 1.         0.34333722]\n",
      " [0.32117101 0.34333722 1.        ]]\n",
      "Step: 16: current parameter_diff: 15.80893260174836, current marginal loglikelihood: -12160.280411491387\n",
      "EM Iteration 17\n",
      "Current Monte Carlo Sample size: 1706\n",
      "[[1.         0.03828454 0.3173103 ]\n",
      " [0.03828454 1.         0.37550231]\n",
      " [0.3173103  0.37550231 1.        ]]\n",
      "Step: 17: current parameter_diff: 17.733213121984406, current marginal loglikelihood: -12120.335550218635\n",
      "EM Iteration 18\n",
      "Current Monte Carlo Sample size: 1706\n",
      "[[1.         0.03947006 0.30946325]\n",
      " [0.03947006 1.         0.42371964]\n",
      " [0.30946325 0.42371964 1.        ]]\n",
      "Step: 18: current parameter_diff: 16.20566266842648, current marginal loglikelihood: -12159.97257104385\n",
      "EM Iteration 19\n",
      "Current Monte Carlo Sample size: 1876\n",
      "[[1.         0.05036364 0.315018  ]\n",
      " [0.05036364 1.         0.45976397]\n",
      " [0.315018   0.45976397 1.        ]]\n",
      "Step: 19: current parameter_diff: 17.15942650707747, current marginal loglikelihood: -12319.975242536013\n",
      "EM Iteration 20\n",
      "Current Monte Carlo Sample size: 2063\n",
      "[[1.         0.05564366 0.33809592]\n",
      " [0.05564366 1.         0.46824847]\n",
      " [0.33809592 0.46824847 1.        ]]\n",
      "Step: 20: current parameter_diff: 16.691893000641358, current marginal loglikelihood: -12259.903212209978\n",
      "EM Iteration 21\n",
      "Current Monte Carlo Sample size: 2269\n",
      "[[1.         0.08912059 0.32975034]\n",
      " [0.08912059 1.         0.45420422]\n",
      " [0.32975034 0.45420422 1.        ]]\n",
      "Step: 21: current parameter_diff: 23.66059479399594, current marginal loglikelihood: -12604.479047689154\n",
      "EM Iteration 22\n",
      "Current Monte Carlo Sample size: 2495\n",
      "[[1.         0.08254014 0.32608357]\n",
      " [0.08254014 1.         0.47241503]\n",
      " [0.32608357 0.47241503 1.        ]]\n",
      "Step: 22: current parameter_diff: 20.38471152818203, current marginal loglikelihood: -12431.250915065328\n",
      "EM Iteration 23\n",
      "Current Monte Carlo Sample size: 2744\n",
      "[[1.         0.08504754 0.3504352 ]\n",
      " [0.08504754 1.         0.49784505]\n",
      " [0.3504352  0.49784505 1.        ]]\n",
      "Step: 23: current parameter_diff: 24.10400754464389, current marginal loglikelihood: -12276.607911791718\n",
      "EM Iteration 24\n",
      "Current Monte Carlo Sample size: 3018\n",
      "[[1.         0.10774412 0.35177853]\n",
      " [0.10774412 1.         0.45853182]\n",
      " [0.35177853 0.45853182 1.        ]]\n",
      "Step: 24: current parameter_diff: 22.541689707305267, current marginal loglikelihood: -12489.193570693122\n",
      "EM Iteration 25\n",
      "Current Monte Carlo Sample size: 3319\n",
      "[[1.         0.10661726 0.34589446]\n",
      " [0.10661726 1.         0.41512853]\n",
      " [0.34589446 0.41512853 1.        ]]\n",
      "Step: 25: current parameter_diff: 25.243161391043913, current marginal loglikelihood: -12530.126933447274\n",
      "EM Iteration 26\n",
      "Current Monte Carlo Sample size: 3650\n",
      "[[1.         0.05332288 0.32572397]\n",
      " [0.05332288 1.         0.32202492]\n",
      " [0.32572397 0.32202492 1.        ]]\n",
      "Step: 26: current parameter_diff: 22.217647900015496, current marginal loglikelihood: -12327.542608689702\n",
      "EM Iteration 27\n",
      "Current Monte Carlo Sample size: 4015\n",
      "[[1.         0.04531018 0.29629237]\n",
      " [0.04531018 1.         0.3749033 ]\n",
      " [0.29629237 0.3749033  1.        ]]\n",
      "Step: 27: current parameter_diff: 24.456232729238387, current marginal loglikelihood: -12569.487190457674\n",
      "EM Iteration 28\n",
      "Current Monte Carlo Sample size: 4015\n",
      "[[1.         0.0664822  0.2553332 ]\n",
      " [0.0664822  1.         0.32259075]\n",
      " [0.2553332  0.32259075 1.        ]]\n",
      "Step: 28: current parameter_diff: 21.160665319248636, current marginal loglikelihood: -12482.746614190011\n",
      "EM Iteration 29\n",
      "Current Monte Carlo Sample size: 4416\n",
      "[[1.         0.08727014 0.22960587]\n",
      " [0.08727014 1.         0.33549268]\n",
      " [0.22960587 0.33549268 1.        ]]\n",
      "Step: 29: current parameter_diff: 24.144751376772238, current marginal loglikelihood: -12540.769966653768\n",
      "EM Iteration 30\n",
      "Current Monte Carlo Sample size: 4857\n",
      "[[1.         0.0830018  0.20951295]\n",
      " [0.0830018  1.         0.32728332]\n",
      " [0.20951295 0.32728332 1.        ]]\n",
      "Step: 30: current parameter_diff: 18.567347369526907, current marginal loglikelihood: -12605.802540473838\n",
      "EM Iteration 31\n",
      "Current Monte Carlo Sample size: 5342\n",
      "[[1.         0.10384263 0.19035454]\n",
      " [0.10384263 1.         0.33995062]\n",
      " [0.19035454 0.33995062 1.        ]]\n",
      "Step: 31: current parameter_diff: 18.27550659381697, current marginal loglikelihood: -12488.402669715779\n",
      "EM Iteration 32\n",
      "Current Monte Carlo Sample size: 5876\n",
      "[[1.         0.09216813 0.16231849]\n",
      " [0.09216813 1.         0.34736474]\n",
      " [0.16231849 0.34736474 1.        ]]\n",
      "Step: 32: current parameter_diff: 18.659892839891487, current marginal loglikelihood: -12963.804592738707\n",
      "EM Iteration 33\n",
      "Current Monte Carlo Sample size: 6463\n",
      "[[1.         0.08934729 0.16282502]\n",
      " [0.08934729 1.         0.3309664 ]\n",
      " [0.16282502 0.3309664  1.        ]]\n",
      "Step: 33: current parameter_diff: 23.50586764065138, current marginal loglikelihood: -13510.649271026294\n",
      "EM Iteration 34\n",
      "Current Monte Carlo Sample size: 7109\n",
      "[[1.         0.08710583 0.15552528]\n",
      " [0.08710583 1.         0.29611591]\n",
      " [0.15552528 0.29611591 1.        ]]\n",
      "Step: 34: current parameter_diff: 21.960943064628275, current marginal loglikelihood: -13944.259625971496\n",
      "EM Iteration 35\n",
      "Current Monte Carlo Sample size: 7109\n",
      "[[1.         0.07793025 0.16516396]\n",
      " [0.07793025 1.         0.36413403]\n",
      " [0.16516396 0.36413403 1.        ]]\n",
      "Step: 35: current parameter_diff: 27.121295291247954, current marginal loglikelihood: -13503.312147530629\n",
      "EM Iteration 36\n",
      "Current Monte Carlo Sample size: 7819\n",
      "[[1.         0.10383503 0.15573248]\n",
      " [0.10383503 1.         0.38227496]\n",
      " [0.15573248 0.38227496 1.        ]]\n",
      "Step: 36: current parameter_diff: 20.49072253096319, current marginal loglikelihood: -13457.903630401384\n",
      "EM Iteration 37\n",
      "Current Monte Carlo Sample size: 8600\n",
      "[[1.         0.0952063  0.1697639 ]\n",
      " [0.0952063  1.         0.46301737]\n",
      " [0.1697639  0.46301737 1.        ]]\n",
      "Step: 37: current parameter_diff: 27.90481089780214, current marginal loglikelihood: -12706.910698711592\n",
      "EM Iteration 38\n",
      "Current Monte Carlo Sample size: 9460\n",
      "[[1.         0.11529993 0.26172741]\n",
      " [0.11529993 1.         0.55011103]\n",
      " [0.26172741 0.55011103 1.        ]]\n",
      "Step: 38: current parameter_diff: 25.492536506460198, current marginal loglikelihood: -12568.140485448821\n",
      "EM Iteration 39\n",
      "Current Monte Carlo Sample size: 10406\n",
      "[[1.         0.10827926 0.31252693]\n",
      " [0.10827926 1.         0.47192521]\n",
      " [0.31252693 0.47192521 1.        ]]\n",
      "Step: 39: current parameter_diff: 23.39773718705719, current marginal loglikelihood: -12458.470015244868\n",
      "EM Iteration 40\n",
      "Current Monte Carlo Sample size: 11446\n",
      "[[1.         0.08448759 0.34971178]\n",
      " [0.08448759 1.         0.4185697 ]\n",
      " [0.34971178 0.4185697  1.        ]]\n",
      "Step: 40: current parameter_diff: 25.01324472722742, current marginal loglikelihood: -12669.061288880423\n",
      "EM Iteration 41\n",
      "Current Monte Carlo Sample size: 12590\n",
      "[[ 1.00000000e+000 -2.61463218e-102 -1.08935164e-109]\n",
      " [-2.61463218e-102  1.00000000e+000 -4.18362278e-029]\n",
      " [-1.08935164e-109 -4.18362278e-029  1.00000000e+000]]\n",
      "Step: 41: current parameter_diff: 21.568233132762924, current marginal loglikelihood: -12849.955625780705\n",
      "EM Iteration 42\n",
      "Current Monte Carlo Sample size: 13849\n"
     ]
    },
    {
     "ename": "KeyboardInterrupt",
     "evalue": "",
     "output_type": "error",
     "traceback": [
      "\u001b[1;31m---------------------------------------------------------------------------\u001b[0m",
      "\u001b[1;31mKeyboardInterrupt\u001b[0m                         Traceback (most recent call last)",
      "\u001b[1;32mc:\\Users\\Jesper\\Documents\\GitHub\\Knowledge-Growth-Prediction\\simulation_experiments.ipynb Zelle 23\u001b[0m in \u001b[0;36m<cell line: 1>\u001b[1;34m()\u001b[0m\n\u001b[1;32m----> <a href='vscode-notebook-cell:/c%3A/Users/Jesper/Documents/GitHub/Knowledge-Growth-Prediction/simulation_experiments.ipynb#X31sZmlsZQ%3D%3D?line=0'>1</a>\u001b[0m performance_dict \u001b[39m=\u001b[39m mirt_param_recovery(sample_size\u001b[39m=\u001b[39;49m\u001b[39m1000\u001b[39;49m, item_dimension\u001b[39m=\u001b[39;49m\u001b[39m30\u001b[39;49m, latent_dimension\u001b[39m=\u001b[39;49m\u001b[39m3\u001b[39;49m, q_type\u001b[39m=\u001b[39;49m\u001b[39m\"\u001b[39;49m\u001b[39mfull\u001b[39;49m\u001b[39m\"\u001b[39;49m, girth\u001b[39m=\u001b[39;49m\u001b[39mFalse\u001b[39;49;00m, stop_threshold\u001b[39m=\u001b[39;49m\u001b[39m10\u001b[39;49m, q_share\u001b[39m=\u001b[39;49m\u001b[39m0.0\u001b[39;49m)\n",
      "\u001b[1;32mc:\\Users\\Jesper\\Documents\\GitHub\\Knowledge-Growth-Prediction\\simulation_experiments.ipynb Zelle 23\u001b[0m in \u001b[0;36mmirt_param_recovery\u001b[1;34m(sample_size, item_dimension, latent_dimension, q_type, girth, stop_threshold, ensure_id, q_share)\u001b[0m\n\u001b[0;32m     <a href='vscode-notebook-cell:/c%3A/Users/Jesper/Documents/GitHub/Knowledge-Growth-Prediction/simulation_experiments.ipynb#X31sZmlsZQ%3D%3D?line=32'>33</a>\u001b[0m \u001b[39m#Fit Model\u001b[39;00m\n\u001b[0;32m     <a href='vscode-notebook-cell:/c%3A/Users/Jesper/Documents/GitHub/Knowledge-Growth-Prediction/simulation_experiments.ipynb#X31sZmlsZQ%3D%3D?line=33'>34</a>\u001b[0m start_time \u001b[39m=\u001b[39m time\u001b[39m.\u001b[39mtime()\n\u001b[1;32m---> <a href='vscode-notebook-cell:/c%3A/Users/Jesper/Documents/GitHub/Knowledge-Growth-Prediction/simulation_experiments.ipynb#X31sZmlsZQ%3D%3D?line=34'>35</a>\u001b[0m em\u001b[39m.\u001b[39;49mfit(sample[\u001b[39m\"\u001b[39;49m\u001b[39mearly_responses\u001b[39;49m\u001b[39m\"\u001b[39;49m], max_iter\u001b[39m=\u001b[39;49m\u001b[39m100\u001b[39;49m, stop_threshold\u001b[39m=\u001b[39;49mstop_threshold)\n\u001b[0;32m     <a href='vscode-notebook-cell:/c%3A/Users/Jesper/Documents/GitHub/Knowledge-Growth-Prediction/simulation_experiments.ipynb#X31sZmlsZQ%3D%3D?line=35'>36</a>\u001b[0m run_time \u001b[39m=\u001b[39m  (time\u001b[39m.\u001b[39mtime() \u001b[39m-\u001b[39m start_time)\n\u001b[0;32m     <a href='vscode-notebook-cell:/c%3A/Users/Jesper/Documents/GitHub/Knowledge-Growth-Prediction/simulation_experiments.ipynb#X31sZmlsZQ%3D%3D?line=37'>38</a>\u001b[0m \u001b[39m#Measure Performance\u001b[39;00m\n",
      "File \u001b[1;32mc:\\Users\\Jesper\\Documents\\GitHub\\Knowledge-Growth-Prediction\\em_algorithm\\em_algorithm.py:43\u001b[0m, in \u001b[0;36mem_algorithm.fit\u001b[1;34m(self, data, hyper_params, max_iter, stop_threshold)\u001b[0m\n\u001b[0;32m     41\u001b[0m last_step_marginal_loglikelihood \u001b[39m=\u001b[39m marginal_loglikelihood\u001b[39m.\u001b[39mcopy()\n\u001b[0;32m     42\u001b[0m \u001b[39m# print(\"E-step\")\u001b[39;00m\n\u001b[1;32m---> 43\u001b[0m posterior_expectation \u001b[39m=\u001b[39m \u001b[39mself\u001b[39;49m\u001b[39m.\u001b[39;49me_step\u001b[39m.\u001b[39;49mstep(\n\u001b[0;32m     44\u001b[0m     response_data\u001b[39m=\u001b[39;49mdata, \u001b[39miter\u001b[39;49m\u001b[39m=\u001b[39;49mi)\n\u001b[0;32m     45\u001b[0m \u001b[39m# print(\"M-step\")\u001b[39;00m\n\u001b[0;32m     46\u001b[0m current_parameters, log_likelihood \u001b[39m=\u001b[39m \u001b[39mself\u001b[39m\u001b[39m.\u001b[39mm_step\u001b[39m.\u001b[39mstep(\n\u001b[0;32m     47\u001b[0m     pe_functions\u001b[39m=\u001b[39mposterior_expectation)\n",
      "File \u001b[1;32mc:\\Users\\Jesper\\Documents\\GitHub\\Knowledge-Growth-Prediction\\em_algorithm\\e_step_mirt_2pl.py:97\u001b[0m, in \u001b[0;36me_step_ga_mml.step\u001b[1;34m(self, response_data, current_item_parameters, current_person_parameters, iter)\u001b[0m\n\u001b[0;32m     94\u001b[0m \u001b[39mprint\u001b[39m(\u001b[39m\"\u001b[39m\u001b[39mCurrent Monte Carlo Sample size: \u001b[39m\u001b[39m{0}\u001b[39;00m\u001b[39m\"\u001b[39m\u001b[39m.\u001b[39mformat(\u001b[39mself\u001b[39m\u001b[39m.\u001b[39mN))\n\u001b[0;32m     95\u001b[0m theta_sample \u001b[39m=\u001b[39m \u001b[39mself\u001b[39m\u001b[39m.\u001b[39mmodel\u001b[39m.\u001b[39msample_competency(\n\u001b[0;32m     96\u001b[0m     sample_size\u001b[39m=\u001b[39m\u001b[39mself\u001b[39m\u001b[39m.\u001b[39mN, qmc\u001b[39m=\u001b[39m\u001b[39mTrue\u001b[39;00m)\n\u001b[1;32m---> 97\u001b[0m \u001b[39mreturn\u001b[39;00m(\u001b[39mself\u001b[39;49m\u001b[39m.\u001b[39;49mprepare_q_functions(theta_sample, response_data, normalising_constant_array))\n",
      "File \u001b[1;32mc:\\Users\\Jesper\\Documents\\GitHub\\Knowledge-Growth-Prediction\\em_algorithm\\e_step_mirt_2pl.py:105\u001b[0m, in \u001b[0;36me_step_ga_mml.prepare_q_functions\u001b[1;34m(self, theta_sample, response_data, normalising_constant_array)\u001b[0m\n\u001b[0;32m    102\u001b[0m \u001b[39m# Calculate repeating inner functions\u001b[39;00m\n\u001b[0;32m    103\u001b[0m r_0_theta \u001b[39m=\u001b[39m \u001b[39mself\u001b[39m\u001b[39m.\u001b[39mr_0(\n\u001b[0;32m    104\u001b[0m     theta_sample, normalising_constant_array, response_data)\n\u001b[1;32m--> 105\u001b[0m r_item_theta_list \u001b[39m=\u001b[39m [\u001b[39mself\u001b[39m\u001b[39m.\u001b[39mr_item(item, theta_sample, normalising_constant_array, response_data)\n\u001b[0;32m    106\u001b[0m                      \u001b[39mfor\u001b[39;00m item \u001b[39min\u001b[39;00m \u001b[39mrange\u001b[39m(\u001b[39m0\u001b[39m, J)]\n\u001b[0;32m    107\u001b[0m \u001b[39m# Calculate final q-functions\u001b[39;00m\n\u001b[0;32m    108\u001b[0m q_0 \u001b[39m=\u001b[39m \u001b[39mself\u001b[39m\u001b[39m.\u001b[39mq_0(\n\u001b[0;32m    109\u001b[0m     theta\u001b[39m=\u001b[39mtheta_sample, normalising_constant_array\u001b[39m=\u001b[39mnormalising_constant_array, response_data\u001b[39m=\u001b[39mresponse_data)\n",
      "File \u001b[1;32mc:\\Users\\Jesper\\Documents\\GitHub\\Knowledge-Growth-Prediction\\em_algorithm\\e_step_mirt_2pl.py:105\u001b[0m, in \u001b[0;36m<listcomp>\u001b[1;34m(.0)\u001b[0m\n\u001b[0;32m    102\u001b[0m \u001b[39m# Calculate repeating inner functions\u001b[39;00m\n\u001b[0;32m    103\u001b[0m r_0_theta \u001b[39m=\u001b[39m \u001b[39mself\u001b[39m\u001b[39m.\u001b[39mr_0(\n\u001b[0;32m    104\u001b[0m     theta_sample, normalising_constant_array, response_data)\n\u001b[1;32m--> 105\u001b[0m r_item_theta_list \u001b[39m=\u001b[39m [\u001b[39mself\u001b[39;49m\u001b[39m.\u001b[39;49mr_item(item, theta_sample, normalising_constant_array, response_data)\n\u001b[0;32m    106\u001b[0m                      \u001b[39mfor\u001b[39;00m item \u001b[39min\u001b[39;00m \u001b[39mrange\u001b[39m(\u001b[39m0\u001b[39m, J)]\n\u001b[0;32m    107\u001b[0m \u001b[39m# Calculate final q-functions\u001b[39;00m\n\u001b[0;32m    108\u001b[0m q_0 \u001b[39m=\u001b[39m \u001b[39mself\u001b[39m\u001b[39m.\u001b[39mq_0(\n\u001b[0;32m    109\u001b[0m     theta\u001b[39m=\u001b[39mtheta_sample, normalising_constant_array\u001b[39m=\u001b[39mnormalising_constant_array, response_data\u001b[39m=\u001b[39mresponse_data)\n",
      "File \u001b[1;32mc:\\Users\\Jesper\\Documents\\GitHub\\Knowledge-Growth-Prediction\\em_algorithm\\e_step_mirt_2pl.py:182\u001b[0m, in \u001b[0;36me_step_ga_mml.r_item\u001b[1;34m(self, item, theta, normalising_constant_array, response_data)\u001b[0m\n\u001b[0;32m    181\u001b[0m \u001b[39mdef\u001b[39;00m \u001b[39mr_item\u001b[39m(\u001b[39mself\u001b[39m, item: \u001b[39mint\u001b[39m, theta: np\u001b[39m.\u001b[39marray, normalising_constant_array, response_data):\n\u001b[1;32m--> 182\u001b[0m     numerator \u001b[39m=\u001b[39m np\u001b[39m.\u001b[39marray(\u001b[39mself\u001b[39;49m\u001b[39m.\u001b[39;49mmodel\u001b[39m.\u001b[39;49mresponse_matrix_probability(\n\u001b[0;32m    183\u001b[0m         theta\u001b[39m=\u001b[39;49mtheta, response_matrix\u001b[39m=\u001b[39;49mresponse_data\u001b[39m.\u001b[39;49mto_numpy()))\n\u001b[0;32m    184\u001b[0m     \u001b[39m# This coefficient is different to r_0\u001b[39;00m\n\u001b[0;32m    185\u001b[0m     numerator \u001b[39m=\u001b[39m np\u001b[39m.\u001b[39mmultiply(\n\u001b[0;32m    186\u001b[0m         numerator, response_data\u001b[39m.\u001b[39miloc[:, item]\u001b[39m.\u001b[39mto_numpy()\u001b[39m.\u001b[39mtranspose())\n",
      "File \u001b[1;32mc:\\Users\\Jesper\\Documents\\GitHub\\Knowledge-Growth-Prediction\\models\\mirt_2pl.py:150\u001b[0m, in \u001b[0;36mmirt_2pl.response_matrix_probability\u001b[1;34m(self, theta, response_matrix, A, delta)\u001b[0m\n\u001b[0;32m    147\u001b[0m \u001b[39m# We want to apply each response vector to each competency-induced correct-response-probability\u001b[39;00m\n\u001b[0;32m    148\u001b[0m correct_response_probabilities \u001b[39m=\u001b[39m np\u001b[39m.\u001b[39mexpand_dims(\n\u001b[0;32m    149\u001b[0m     correct_response_probabilities, axis\u001b[39m=\u001b[39m\u001b[39m1\u001b[39m)\n\u001b[1;32m--> 150\u001b[0m probability_vector \u001b[39m=\u001b[39m np\u001b[39m.\u001b[39;49madd(np\u001b[39m.\u001b[39;49mmultiply(correct_response_probabilities, response_matrix),\n\u001b[0;32m    151\u001b[0m                             np\u001b[39m.\u001b[39;49mmultiply(np\u001b[39m.\u001b[39;49msubtract(\u001b[39m1\u001b[39;49m, correct_response_probabilities), np\u001b[39m.\u001b[39;49msubtract(\u001b[39m1\u001b[39;49m, response_matrix)))\n\u001b[0;32m    152\u001b[0m probability \u001b[39m=\u001b[39m np\u001b[39m.\u001b[39mprod(probability_vector, axis\u001b[39m=\u001b[39m\u001b[39m2\u001b[39m)\n\u001b[0;32m    153\u001b[0m \u001b[39mreturn\u001b[39;00m(probability)\n",
      "\u001b[1;31mKeyboardInterrupt\u001b[0m: "
     ]
    }
   ],
   "source": [
    "performance_dict = mirt_param_recovery(sample_size=1000, item_dimension=30, latent_dimension=3, q_type=\"full\", girth=False, stop_threshold=10, q_share=0.0)"
   ]
  },
  {
   "cell_type": "code",
   "execution_count": 12,
   "metadata": {},
   "outputs": [
    {
     "name": "stdout",
     "output_type": "stream",
     "text": [
      "------------------------------------\n",
      "##### Results for With fixed Discrimination sampling and BFGS\n",
      "Latent dimension: 3,  Item dimension: 20, sample size 1000 \\\n",
      "Runtime: 63.64 seconds, 14 steps, 4.55 seconds per step \\\n",
      "Optimal marginal Likelihood: -8684.81, Estimated: -8676.2, Initial -9809.83\n",
      "|               |   rmse_A |   rmse_delta |   rmse_sigma |\n",
      "|:--------------|---------:|-------------:|-------------:|\n",
      "| estimated     | 0.933735 |     0.514423 |    0.0383988 |\n",
      "| early_initial | 2.67536  |     0.636687 |    0.231996  |\n"
     ]
    }
   ],
   "source": [
    "print_result(performance_dict, \"With fixed Discrimination sampling and BFGS\")"
   ]
  },
  {
   "cell_type": "markdown",
   "metadata": {},
   "source": [
    "------------------------------------\n",
    "##### Results for With BFGS as covariance optimization Algorithm\n",
    "Latent dimension: 3,  Item dimension: 20, sample size 1000 \\\n",
    "Runtime: 160.7 seconds, 20 steps, 8.04 seconds per step \\\n",
    "Optimal marginal Likelihood: -11451.44, Estimated: -11746.37, Initial -12757.23\n",
    "|               |   rmse_A |   rmse_delta |   rmse_sigma |\n",
    "|:--------------|---------:|-------------:|-------------:|\n",
    "| estimated     |  4.12413 |      1.19297 |     0.539132 |\n",
    "| early_initial |  4.06187 |      1.22103 |     0.159225 |\n",
    "\n",
    "------------------------------------\n",
    "##### Results for With Cholesky covariance decomposition\n",
    "Latent dimension: 3,  Item dimension: 20, sample size 1000 \\\n",
    "Runtime: 60.82 seconds, 14 steps, 4.34 seconds per step \\\n",
    "Optimal marginal Likelihood: -11369.92, Estimated: -12102.54, Initial -13629.98\n",
    "|               |   rmse_A |   rmse_delta |   rmse_sigma |\n",
    "|:--------------|---------:|-------------:|-------------:|\n",
    "| estimated     |  2.47435 |     0.400838 |     0.181127 |\n",
    "| early_initial |  2.98819 |     0.686696 |     0.142997 |\n",
    "\n",
    "------------------------------------\n",
    "##### Results for With Cholesky covariance decomposition and BFGS\n",
    "Latent dimension: 3,  Item dimension: 30, sample size 1000 \\\n",
    "Runtime: 94.77 seconds, 12 steps, 7.9 seconds per step \\\n",
    "Optimal marginal Likelihood: -15960.47, Estimated: -17344.15, Initial -19786.45\n",
    "|               |   rmse_A |   rmse_delta |   rmse_sigma |\n",
    "|:--------------|---------:|-------------:|-------------:|\n",
    "| estimated     |  48.8803 |     0.777924 |     0.149531 |\n",
    "| early_initial |  49.0831 |     1.33755  |     0.207159 |\n",
    "\n",
    "------------------------------------\n",
    "##### Results for With fixed Discrimination sampling and BFGS\n",
    "Latent dimension: 3,  Item dimension: 30, sample size 1000 \\\n",
    "Runtime: 91.68 seconds, 12 steps, 7.64 seconds per step \\\n",
    "Optimal marginal Likelihood: -12149.74, Estimated: -12157.89, Initial -14965.74\n",
    "|               |   rmse_A |   rmse_delta |   rmse_sigma |\n",
    "|:--------------|---------:|-------------:|-------------:|\n",
    "| estimated     |  0.3929  |     0.249323 |    0.0275205 |\n",
    "| early_initial |  2.20296 |     0.582838 |    0.380006  |"
   ]
  },
  {
   "cell_type": "markdown",
   "metadata": {},
   "source": [
    "## Experiment 2: Competency Gain Prediction"
   ]
  }
 ],
 "metadata": {
  "kernelspec": {
   "display_name": "Python 3.8.5 ('base')",
   "language": "python",
   "name": "python3"
  },
  "language_info": {
   "codemirror_mode": {
    "name": "ipython",
    "version": 3
   },
   "file_extension": ".py",
   "mimetype": "text/x-python",
   "name": "python",
   "nbconvert_exporter": "python",
   "pygments_lexer": "ipython3",
   "version": "3.8.5"
  },
  "orig_nbformat": 4,
  "vscode": {
   "interpreter": {
    "hash": "f96c9f0abe66cee0a81d860b29e85a2729d567fff345231565bc586735399795"
   }
  }
 },
 "nbformat": 4,
 "nbformat_minor": 2
}
