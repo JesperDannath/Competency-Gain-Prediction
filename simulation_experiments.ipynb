{
 "cells": [
  {
   "cell_type": "code",
   "execution_count": 1,
   "metadata": {},
   "outputs": [
    {
     "name": "stdout",
     "output_type": "stream",
     "text": [
      "C:\\Users\\Jesper\\Documents\\GitHub\\Knowledge-Growth-Prediction\\models\n",
      "C:\\Users\\Jesper\\Documents\\GitHub\\Knowledge-Growth-Prediction\\models\n",
      "C:\\Users\\Jesper\\Documents\\GitHub\\Knowledge-Growth-Prediction\\models\n",
      "C:\\Users\\Jesper\\Documents\\GitHub\\Knowledge-Growth-Prediction\\models\n"
     ]
    }
   ],
   "source": [
    "import numpy as np\n",
    "from simulation_framework.item_response_simulation import item_response_simulation\n",
    "from simulation_framework.simulate_competency import respondent_population\n",
    "from simulation_framework.simulate_responses import response_simulation\n",
    "from scipy.stats import multivariate_normal\n",
    "import models\n",
    "import em_algorithm\n",
    "import pandas as pd\n",
    "import time\n",
    "from girth import multidimensional_twopl_mml\n",
    "from girth import twopl_mml\n",
    "import cma\n",
    "import scipy\n",
    "from simulation_experiment import mirt_simulation_experiment\n",
    "from analyse_experiment import get_result_df\n",
    "from analyse_experiment import print_result_from_df"
   ]
  },
  {
   "cell_type": "code",
   "execution_count": 2,
   "metadata": {},
   "outputs": [],
   "source": [
    "import datetime\n",
    "from itertools import product\n",
    "\n",
    "def repeat_mirt_experiment(experiment, repetitions, sample_sizes=[], item_dims=[], latent_dims=[], file=\"\"):\n",
    "    multiple_result_dict = {}\n",
    "    variant_list = list(product(sample_sizes, item_dims, latent_dims))\n",
    "    if file != \"\":\n",
    "        try:\n",
    "            prior_results_df = pd.read_csv(file)\n",
    "        except FileNotFoundError:\n",
    "            prior_results_df = pd.DataFrame()\n",
    "    else:\n",
    "        prior_results_df = pd.DataFrame()\n",
    "    experiment_df = prior_results_df.copy()\n",
    "    for i in range(0, repetitions):\n",
    "        for variant in variant_list:\n",
    "            sample_size = variant[0]\n",
    "            item_dimension = variant[1]\n",
    "            latent_dimension = variant[2]\n",
    "            if experiment_df.size > 0:\n",
    "                prior_variant_results = experiment_df[(experiment_df[\"latent_dimension\"] == latent_dimension) &\n",
    "                                                    (experiment_df[\"item_dimension\"] == item_dimension) &\n",
    "                                                    (experiment_df[\"sample_size\"] == sample_size)]\n",
    "                if len(prior_variant_results[\"key\"].unique()) < repetitions:\n",
    "                    run_variant=True\n",
    "                else:\n",
    "                    run_variant=False\n",
    "            else:\n",
    "                run_variant=True\n",
    "            if run_variant: \n",
    "                key = datetime.datetime.now()\n",
    "                try:\n",
    "                    multiple_result_dict[key] = experiment(sample_size=sample_size, \n",
    "                                                item_dimension=item_dimension, latent_dimension=latent_dimension)\n",
    "                except Exception as e:\n",
    "                    print(\"Exception occured\")\n",
    "                    print(e)\n",
    "                    continue\n",
    "                variant_df = get_result_df(multiple_result_dict)\n",
    "                experiment_df = pd.concat((prior_results_df, variant_df), axis=0)\n",
    "                if file != \"\":\n",
    "                    experiment_df.reset_index(drop=True)\n",
    "                    experiment_df.to_csv(file)\n",
    "    return(experiment_df)"
   ]
  },
  {
   "cell_type": "markdown",
   "metadata": {},
   "source": [
    "## Experiment 0: MIRT-2PL-Gain Performance Benchmark"
   ]
  },
  {
   "cell_type": "code",
   "execution_count": 3,
   "metadata": {},
   "outputs": [
    {
     "name": "stdout",
     "output_type": "stream",
     "text": [
      "Real latent covariance: [[ 1.      0.     -0.3393 -0.1516]\n",
      " [ 0.      1.      0.2255  0.3581]\n",
      " [-0.3393  0.2255  0.707   0.3217]\n",
      " [-0.1516  0.3581  0.3217  0.5   ]]\n",
      "Start late EM\n",
      "Covariance matrix is good: True\n",
      "EM Iteration 2\n",
      "Current Monte Carlo Sample size: 300\n"
     ]
    },
    {
     "name": "stderr",
     "output_type": "stream",
     "text": [
      "c:\\Users\\Jesper\\Anaconda3\\lib\\site-packages\\scipy\\stats\\_qmc.py:2039: UserWarning: The balance properties of Sobol' points require n to be a power of 2.\n",
      "  samples = self.engine.random(n)\n"
     ]
    },
    {
     "name": "stdout",
     "output_type": "stream",
     "text": [
      "[[1.         0.36973456]\n",
      " [0.36973456 1.        ]]\n",
      "Step: 2: current parameter_diff: 12.766766070605001, current marginal loglikelihood: -742.0276552209095\n",
      "EM Iteration 3\n",
      "Current Monte Carlo Sample size: 330\n",
      "[[1.         0.20845102]\n",
      " [0.20845102 1.        ]]\n"
     ]
    },
    {
     "name": "stderr",
     "output_type": "stream",
     "text": [
      "c:\\Users\\Jesper\\Anaconda3\\lib\\site-packages\\scipy\\stats\\_qmc.py:2039: UserWarning: The balance properties of Sobol' points require n to be a power of 2.\n",
      "  samples = self.engine.random(n)\n"
     ]
    },
    {
     "name": "stdout",
     "output_type": "stream",
     "text": [
      "Step: 3: current parameter_diff: 9.66832416617319, current marginal loglikelihood: -717.0548310248341\n",
      "EM Iteration 4\n",
      "Current Monte Carlo Sample size: 363\n",
      "[[1.         0.06298194]\n",
      " [0.06298194 1.        ]]\n",
      "Step: 4: current parameter_diff: 7.663732986350833, current marginal loglikelihood: -705.1820949044821\n",
      "EM Iteration 5\n",
      "Current Monte Carlo Sample size: 363\n",
      "[[ 1.         -0.03745757]\n",
      " [-0.03745757  1.        ]]\n",
      "Step: 5: current parameter_diff: 4.981081345351347, current marginal loglikelihood: -701.4041718707551\n",
      "EM Iteration 6\n",
      "Current Monte Carlo Sample size: 399\n",
      "[[ 1.         -0.06279495]\n",
      " [-0.06279495  1.        ]]\n",
      "Step: 6: current parameter_diff: 2.1772115845731053, current marginal loglikelihood: -699.481679518865\n",
      "EM Iteration 7\n",
      "Current Monte Carlo Sample size: 438\n",
      "[[ 1.         -0.08378596]\n",
      " [-0.08378596  1.        ]]\n",
      "Step: 7: current parameter_diff: 2.028985104715934, current marginal loglikelihood: -699.8016074655998\n",
      "EM Iteration 2\n"
     ]
    },
    {
     "name": "stderr",
     "output_type": "stream",
     "text": [
      "c:\\Users\\Jesper\\Anaconda3\\lib\\site-packages\\scipy\\stats\\_qmc.py:2039: UserWarning: The balance properties of Sobol' points require n to be a power of 2.\n",
      "  samples = self.engine.random(n)\n"
     ]
    },
    {
     "name": "stdout",
     "output_type": "stream",
     "text": [
      "Current Monte Carlo Sample size: 300\n",
      "[[ 9.99999362e-01 -1.83088964e-07 -5.86173370e-01  2.99501024e-02]\n",
      " [-1.83088964e-07  9.99999746e-01  1.37462727e-02  3.08592461e-02]\n",
      " [-5.86173370e-01  1.37462727e-02  1.20074792e+00 -3.35382847e-02]\n",
      " [ 2.99501024e-02  3.08592461e-02 -3.35382847e-02  1.15448159e+00]]\n",
      "Step: 2: current parameter_diff: 17.935014362395293, current marginal loglikelihood: -884.3153904612145\n",
      "EM Iteration 3\n"
     ]
    },
    {
     "name": "stderr",
     "output_type": "stream",
     "text": [
      "c:\\Users\\Jesper\\Anaconda3\\lib\\site-packages\\scipy\\stats\\_qmc.py:2039: UserWarning: The balance properties of Sobol' points require n to be a power of 2.\n",
      "  samples = self.engine.random(n)\n"
     ]
    },
    {
     "name": "stdout",
     "output_type": "stream",
     "text": [
      "Current Monte Carlo Sample size: 300\n",
      "[[ 9.99999566e-01  2.36140658e-07 -2.39165405e-01  1.79712285e-01]\n",
      " [ 2.36140658e-07  1.00000041e+00  1.53867604e-01  1.86574916e-01]\n",
      " [-2.39165405e-01  1.53867604e-01  5.06730707e-01  3.17654952e-02]\n",
      " [ 1.79712285e-01  1.86574916e-01  3.17654952e-02  8.43049616e-01]]\n",
      "Step: 3: current parameter_diff: 14.811362162125354, current marginal loglikelihood: -871.1103602649599\n",
      "EM Iteration 4\n"
     ]
    },
    {
     "name": "stderr",
     "output_type": "stream",
     "text": [
      "c:\\Users\\Jesper\\Anaconda3\\lib\\site-packages\\scipy\\stats\\_qmc.py:2039: UserWarning: The balance properties of Sobol' points require n to be a power of 2.\n",
      "  samples = self.engine.random(n)\n"
     ]
    },
    {
     "name": "stdout",
     "output_type": "stream",
     "text": [
      "Current Monte Carlo Sample size: 300\n",
      "[[ 1.00000012e+00 -1.53794446e-07 -2.70052436e-01  2.05934352e-01]\n",
      " [-1.53794446e-07  1.00000014e+00  2.20152168e-01  1.87727538e-01]\n",
      " [-2.70052436e-01  2.20152168e-01  5.68504226e-01  1.32857186e-01]\n",
      " [ 2.05934352e-01  1.87727538e-01  1.32857186e-01  8.40744399e-01]]\n",
      "Step: 4: current parameter_diff: 12.617226279238757, current marginal loglikelihood: -859.0355192480755\n",
      "EM Iteration 5\n"
     ]
    },
    {
     "name": "stderr",
     "output_type": "stream",
     "text": [
      "c:\\Users\\Jesper\\Anaconda3\\lib\\site-packages\\scipy\\stats\\_qmc.py:2039: UserWarning: The balance properties of Sobol' points require n to be a power of 2.\n",
      "  samples = self.engine.random(n)\n"
     ]
    },
    {
     "name": "stdout",
     "output_type": "stream",
     "text": [
      "Current Monte Carlo Sample size: 330\n",
      "[[ 9.99999576e-01 -4.61736948e-08 -2.93377379e-01  1.54591832e-01]\n",
      " [-4.61736948e-08  1.00000071e+00  2.53677225e-01  2.25689247e-01]\n",
      " [-2.93377379e-01  2.53677225e-01  6.15153118e-01  2.27158272e-01]\n",
      " [ 1.54591832e-01  2.25689247e-01  2.27158272e-01  7.64820445e-01]]\n",
      "Step: 5: current parameter_diff: 10.354009320338557, current marginal loglikelihood: -857.1772526057423\n",
      "EM Iteration 6\n"
     ]
    },
    {
     "name": "stderr",
     "output_type": "stream",
     "text": [
      "c:\\Users\\Jesper\\Anaconda3\\lib\\site-packages\\scipy\\stats\\_qmc.py:2039: UserWarning: The balance properties of Sobol' points require n to be a power of 2.\n",
      "  samples = self.engine.random(n)\n"
     ]
    },
    {
     "name": "stdout",
     "output_type": "stream",
     "text": [
      "Current Monte Carlo Sample size: 363\n",
      "[[ 9.99999678e-01 -9.25668118e-08 -3.39826315e-01  2.06781075e-01]\n",
      " [-9.25668117e-08  9.99999934e-01  3.29014426e-01  2.38189112e-01]\n",
      " [-3.39826315e-01  3.29014426e-01  7.08049907e-01  5.52339461e-02]\n",
      " [ 2.06781075e-01  2.38189112e-01  5.52339461e-02  7.39821640e-01]]\n",
      "Step: 6: current parameter_diff: 10.474812443083426, current marginal loglikelihood: -862.5152925406211\n",
      "EM Iteration 7\n"
     ]
    },
    {
     "name": "stderr",
     "output_type": "stream",
     "text": [
      "c:\\Users\\Jesper\\Anaconda3\\lib\\site-packages\\scipy\\stats\\_qmc.py:2039: UserWarning: The balance properties of Sobol' points require n to be a power of 2.\n",
      "  samples = self.engine.random(n)\n"
     ]
    },
    {
     "name": "stdout",
     "output_type": "stream",
     "text": [
      "Current Monte Carlo Sample size: 363\n",
      "[[ 9.99999910e-01 -3.83556249e-08 -2.21107703e-01  5.02398690e-01]\n",
      " [-3.83556248e-08  1.00000000e+00  2.51439099e-01  1.35191811e-01]\n",
      " [-2.21107703e-01  2.51439099e-01  4.70611571e-01 -4.64724852e-02]\n",
      " [ 5.02398690e-01  1.35191811e-01 -4.64724852e-02  9.45815613e-01]]\n",
      "Step: 7: current parameter_diff: 11.234550711812208, current marginal loglikelihood: -865.2642816075715\n",
      "Absolute diff in A:\n",
      "[[0.         1.09260405]\n",
      " [0.         0.36263427]\n",
      " [0.         0.44252233]\n",
      " [0.         0.83475171]\n",
      " [0.         0.29060641]\n",
      " [0.         1.47275692]\n",
      " [1.45125347 0.        ]\n",
      " [0.23984928 0.        ]\n",
      " [1.8604872  0.        ]\n",
      " [0.96195749 0.39776363]\n",
      " [0.96174738 0.73097127]\n",
      " [0.27871116 0.81347967]]\n",
      "Absolute diff in delta:\n",
      "[0.5435061  0.72542969 0.01176504 0.58006306 0.20397977 0.69266596\n",
      " 0.05966084 0.28567651 0.10746653 0.4226485  0.85320486 0.47596269]\n",
      "Absolute diff in sigma:\n",
      "[[0. 0.]\n",
      " [0. 0.]]\n",
      "Absolute diff in A:\n",
      "[[0.         0.38150001]\n",
      " [0.         0.18869202]\n",
      " [0.         1.51168623]\n",
      " [0.45851822 0.        ]\n",
      " [0.96438973 0.        ]\n",
      " [0.43819219 0.        ]\n",
      " [0.43075871 0.        ]\n",
      " [0.01145032 0.        ]\n",
      " [0.04934422 0.        ]\n",
      " [9.09656874 7.84098358]\n",
      " [0.79899492 0.72349451]\n",
      " [0.39912766 0.11849778]]\n",
      "Absolute diff in delta:\n",
      "[0.22107374 0.77746395 0.34107888 0.24077878 0.28036709 0.69356145\n",
      " 0.14398688 0.18169206 0.20381054 3.04078356 0.7465128  0.38287418]\n",
      "Start initial baseline\n",
      "Absolute diff in A:\n",
      "[[0.         4.8848846 ]\n",
      " [0.         1.47794376]\n",
      " [0.         1.07598838]\n",
      " [0.         0.86753698]\n",
      " [0.         0.05814963]\n",
      " [0.         2.77527511]\n",
      " [2.63776918 0.        ]\n",
      " [4.66282688 0.        ]\n",
      " [3.76909251 0.        ]\n",
      " [0.82802311 0.50821591]\n",
      " [1.44351219 1.51188564]\n",
      " [0.65070082 1.88336274]]\n",
      "Absolute diff in delta:\n",
      "[0.48447596 0.79909603 0.13097463 0.03715783 0.12761163 1.21803733\n",
      " 0.0226187  0.24043536 0.41873548 0.16025746 0.85029611 0.82594394]\n",
      "Absolute diff in sigma:\n",
      "[[0.  0.5]\n",
      " [0.5 0. ]]\n",
      "Absolute diff in A:\n",
      "[[1.00000000e+00 1.56343564e-03]\n",
      " [1.00000000e+00 4.00404145e-01]\n",
      " [1.00000000e+00 1.34895527e+00]\n",
      " [3.44899193e+00 1.00000000e+00]\n",
      " [3.63393145e+00 1.00000000e+00]\n",
      " [4.22392113e-01 1.00000000e+00]\n",
      " [5.36844350e-01 1.00000000e+00]\n",
      " [7.69826442e-01 1.00000000e+00]\n",
      " [5.66628527e-01 1.00000000e+00]\n",
      " [5.42481047e+00 2.09684373e+00]\n",
      " [6.47968661e+00 5.85691821e-01]\n",
      " [8.02828441e-01 4.17797751e-01]]\n",
      "Absolute diff in delta:\n",
      "[0.59900248 0.41774517 1.03627563 1.43458216 1.77857175 1.67403062\n",
      " 1.32929162 0.05217502 1.10576984 0.5223225  1.11465149 0.68151949]\n",
      "Start difference baseline\n",
      "Covariance matrix is good: True\n",
      "EM Iteration 2\n",
      "Current Monte Carlo Sample size: 300\n",
      "[[1.         0.43280459]\n",
      " [0.43280459 1.        ]]\n"
     ]
    },
    {
     "name": "stderr",
     "output_type": "stream",
     "text": [
      "c:\\Users\\Jesper\\Anaconda3\\lib\\site-packages\\scipy\\stats\\_qmc.py:2039: UserWarning: The balance properties of Sobol' points require n to be a power of 2.\n",
      "  samples = self.engine.random(n)\n"
     ]
    },
    {
     "name": "stdout",
     "output_type": "stream",
     "text": [
      "Step: 2: current parameter_diff: 13.735577225092733, current marginal loglikelihood: -743.0739873538316\n",
      "EM Iteration 3\n",
      "Current Monte Carlo Sample size: 330\n",
      "[[1.         0.26913723]\n",
      " [0.26913723 1.        ]]\n",
      "Step: 3: current parameter_diff: 8.680759002830033, current marginal loglikelihood: -719.2632270327224\n",
      "EM Iteration 4\n",
      "Current Monte Carlo Sample size: 363\n",
      "[[1.        0.0897605]\n",
      " [0.0897605 1.       ]]\n",
      "Step: 4: current parameter_diff: 7.03428007024917, current marginal loglikelihood: -705.8350870658121\n",
      "EM Iteration 5\n",
      "Current Monte Carlo Sample size: 363\n",
      "[[ 1.         -0.01276948]\n",
      " [-0.01276948  1.        ]]\n",
      "Step: 5: current parameter_diff: 3.8206520039005722, current marginal loglikelihood: -703.1535320085651\n",
      "EM Iteration 6\n",
      "Current Monte Carlo Sample size: 363\n",
      "[[ 1.         -0.04412169]\n",
      " [-0.04412169  1.        ]]\n",
      "Step: 6: current parameter_diff: 3.483837741274437, current marginal loglikelihood: -701.8070701814427\n",
      "EM Iteration 7\n",
      "Current Monte Carlo Sample size: 399\n",
      "[[ 1.         -0.06060493]\n",
      " [-0.06060493  1.        ]]\n",
      "Step: 7: current parameter_diff: 1.8307848808978893, current marginal loglikelihood: -699.3099130983778\n",
      "Covariance matrix is good: True\n",
      "EM Iteration 2\n",
      "Current Monte Carlo Sample size: 300\n",
      "[[1.         0.49618695]\n",
      " [0.49618695 1.        ]]\n"
     ]
    },
    {
     "name": "stderr",
     "output_type": "stream",
     "text": [
      "c:\\Users\\Jesper\\Anaconda3\\lib\\site-packages\\scipy\\stats\\_qmc.py:2039: UserWarning: The balance properties of Sobol' points require n to be a power of 2.\n",
      "  samples = self.engine.random(n)\n"
     ]
    },
    {
     "name": "stdout",
     "output_type": "stream",
     "text": [
      "Step: 2: current parameter_diff: 11.718209397400962, current marginal loglikelihood: -633.5666643226158\n",
      "EM Iteration 3\n",
      "Current Monte Carlo Sample size: 330\n",
      "[[1.         0.49355697]\n",
      " [0.49355697 1.        ]]\n"
     ]
    },
    {
     "name": "stderr",
     "output_type": "stream",
     "text": [
      "c:\\Users\\Jesper\\Anaconda3\\lib\\site-packages\\scipy\\stats\\_qmc.py:2039: UserWarning: The balance properties of Sobol' points require n to be a power of 2.\n",
      "  samples = self.engine.random(n)\n"
     ]
    },
    {
     "name": "stdout",
     "output_type": "stream",
     "text": [
      "Step: 3: current parameter_diff: 10.123679523452791, current marginal loglikelihood: -623.6523794902342\n",
      "EM Iteration 4\n",
      "Current Monte Carlo Sample size: 363\n",
      "[[1.         0.48981756]\n",
      " [0.48981756 1.        ]]\n"
     ]
    },
    {
     "name": "stderr",
     "output_type": "stream",
     "text": [
      "c:\\Users\\Jesper\\Anaconda3\\lib\\site-packages\\scipy\\stats\\_qmc.py:2039: UserWarning: The balance properties of Sobol' points require n to be a power of 2.\n",
      "  samples = self.engine.random(n)\n"
     ]
    },
    {
     "name": "stdout",
     "output_type": "stream",
     "text": [
      "Step: 4: current parameter_diff: 7.812205994892553, current marginal loglikelihood: -618.0295675361747\n",
      "EM Iteration 5\n",
      "Current Monte Carlo Sample size: 399\n",
      "[[1.         0.46152315]\n",
      " [0.46152315 1.        ]]\n"
     ]
    },
    {
     "name": "stderr",
     "output_type": "stream",
     "text": [
      "c:\\Users\\Jesper\\Anaconda3\\lib\\site-packages\\scipy\\stats\\_qmc.py:2039: UserWarning: The balance properties of Sobol' points require n to be a power of 2.\n",
      "  samples = self.engine.random(n)\n"
     ]
    },
    {
     "name": "stdout",
     "output_type": "stream",
     "text": [
      "Step: 5: current parameter_diff: 3.814402740851581, current marginal loglikelihood: -616.907080747535\n",
      "EM Iteration 6\n",
      "Current Monte Carlo Sample size: 438\n",
      "[[1.         0.44595982]\n",
      " [0.44595982 1.        ]]\n"
     ]
    },
    {
     "name": "stderr",
     "output_type": "stream",
     "text": [
      "c:\\Users\\Jesper\\Anaconda3\\lib\\site-packages\\scipy\\stats\\_qmc.py:2039: UserWarning: The balance properties of Sobol' points require n to be a power of 2.\n",
      "  samples = self.engine.random(n)\n"
     ]
    },
    {
     "name": "stdout",
     "output_type": "stream",
     "text": [
      "Step: 6: current parameter_diff: 5.10855452616857, current marginal loglikelihood: -615.418209582478\n",
      "Absolute diff in A:\n",
      "[[0.         1.20129637]\n",
      " [0.         0.2922458 ]\n",
      " [0.         0.51929399]\n",
      " [0.         0.82420123]\n",
      " [0.         0.34839288]\n",
      " [0.         1.91052044]\n",
      " [1.49955624 0.        ]\n",
      " [0.20905022 0.        ]\n",
      " [1.76978304 0.        ]\n",
      " [1.04682678 0.42505162]\n",
      " [0.72769403 0.55538484]\n",
      " [0.140202   1.03388156]]\n",
      "Absolute diff in delta:\n",
      "[0.4071646  0.73869887 0.00771836 0.60758192 0.18753476 0.57494083\n",
      " 0.02961696 0.1245318  0.11760735 0.48713942 0.56053685 0.71480637]\n",
      "Absolute diff in sigma:\n",
      "[[0. 0.]\n",
      " [0. 0.]]\n",
      "Absolute diff in A:\n",
      "[[0.         0.54796899]\n",
      " [0.         0.13117936]\n",
      " [0.         0.19158225]\n",
      " [1.30586239 0.        ]\n",
      " [1.15037569 0.        ]\n",
      " [0.29927181 0.        ]\n",
      " [0.06363014 0.        ]\n",
      " [0.03712245 0.        ]\n",
      " [0.26763525 0.        ]\n",
      " [3.04877902 0.16293468]\n",
      " [1.13835202 0.98228978]\n",
      " [0.80973869 0.1900906 ]]\n",
      "Absolute diff in delta:\n",
      "[0.23321644 0.82929494 0.23908938 0.02240386 0.03627616 0.34578697\n",
      " 0.12890263 0.13381329 0.23375774 0.24184704 0.94963533 0.41726045]\n",
      "Start real early baseline\n",
      "EM Iteration 2\n"
     ]
    },
    {
     "name": "stderr",
     "output_type": "stream",
     "text": [
      "c:\\Users\\Jesper\\Anaconda3\\lib\\site-packages\\scipy\\stats\\_qmc.py:2039: UserWarning: The balance properties of Sobol' points require n to be a power of 2.\n",
      "  samples = self.engine.random(n)\n"
     ]
    },
    {
     "name": "stdout",
     "output_type": "stream",
     "text": [
      "Current Monte Carlo Sample size: 300\n",
      "[[ 9.99999130e-01  3.00300479e-08 -6.21954106e-01  1.09469627e-01]\n",
      " [ 3.00300479e-08  9.99999961e-01  1.28909215e-01  2.18896691e-01]\n",
      " [-6.21954106e-01  1.28909215e-01  1.27230931e+00 -6.88218487e-02]\n",
      " [ 1.09469627e-01  2.18896691e-01 -6.88218487e-02  7.78406092e-01]]\n",
      "Step: 2: current parameter_diff: 17.006890407117478, current marginal loglikelihood: -930.0144584258056\n",
      "EM Iteration 3\n"
     ]
    },
    {
     "name": "stderr",
     "output_type": "stream",
     "text": [
      "c:\\Users\\Jesper\\Anaconda3\\lib\\site-packages\\scipy\\stats\\_qmc.py:2039: UserWarning: The balance properties of Sobol' points require n to be a power of 2.\n",
      "  samples = self.engine.random(n)\n"
     ]
    },
    {
     "name": "stdout",
     "output_type": "stream",
     "text": [
      "Current Monte Carlo Sample size: 300\n",
      "[[ 1.00000099e+00  4.83988151e-07 -1.33464164e-01 -3.60866931e-01]\n",
      " [ 4.83988151e-07  1.00000004e+00  2.45455212e-01  2.96150701e-01]\n",
      " [-1.33464164e-01  2.45455212e-01  2.95325740e-01 -4.63084862e-02]\n",
      " [-3.60866931e-01  2.96150701e-01 -4.63084862e-02  6.23898859e-01]]\n",
      "Step: 3: current parameter_diff: 13.921362907536514, current marginal loglikelihood: -937.5715831508497\n",
      "EM Iteration 4\n"
     ]
    },
    {
     "name": "stderr",
     "output_type": "stream",
     "text": [
      "c:\\Users\\Jesper\\Anaconda3\\lib\\site-packages\\scipy\\stats\\_qmc.py:2039: UserWarning: The balance properties of Sobol' points require n to be a power of 2.\n",
      "  samples = self.engine.random(n)\n"
     ]
    },
    {
     "name": "stdout",
     "output_type": "stream",
     "text": [
      "Current Monte Carlo Sample size: 300\n",
      "[[ 1.00000021e+00  3.85897119e-08 -3.65614132e-01 -1.34238444e-01]\n",
      " [ 3.85897119e-08  9.99999703e-01  2.03848925e-02  4.34988512e-02]\n",
      " [-3.65614132e-01  2.03848925e-02  7.59627742e-01 -8.87938798e-02]\n",
      " [-1.34238444e-01  4.34988512e-02 -8.87938798e-02  1.12920247e+00]]\n",
      "Step: 4: current parameter_diff: 10.48970577509056, current marginal loglikelihood: -939.2372045785048\n",
      "EM Iteration 5\n"
     ]
    },
    {
     "name": "stderr",
     "output_type": "stream",
     "text": [
      "c:\\Users\\Jesper\\Anaconda3\\lib\\site-packages\\scipy\\stats\\_qmc.py:2039: UserWarning: The balance properties of Sobol' points require n to be a power of 2.\n",
      "  samples = self.engine.random(n)\n"
     ]
    },
    {
     "name": "stdout",
     "output_type": "stream",
     "text": [
      "Current Monte Carlo Sample size: 300\n",
      "[[ 1.00000013e+00 -1.14407049e-07 -3.09269124e-01  1.24975560e-01]\n",
      " [-1.14407049e-07  1.00000012e+00  1.06503123e-01  7.54511479e-02]\n",
      " [-3.09269124e-01  1.06503123e-01  6.46936877e-01  1.43091935e-02]\n",
      " [ 1.24975560e-01  7.54511479e-02  1.43091935e-02  1.06529763e+00]]\n",
      "Step: 5: current parameter_diff: 9.035748862438757, current marginal loglikelihood: -915.7048447462448\n",
      "EM Iteration 6\n"
     ]
    },
    {
     "name": "stderr",
     "output_type": "stream",
     "text": [
      "c:\\Users\\Jesper\\Anaconda3\\lib\\site-packages\\scipy\\stats\\_qmc.py:2039: UserWarning: The balance properties of Sobol' points require n to be a power of 2.\n",
      "  samples = self.engine.random(n)\n"
     ]
    },
    {
     "name": "stdout",
     "output_type": "stream",
     "text": [
      "Current Monte Carlo Sample size: 300\n",
      "[[ 9.99999865e-01 -1.14798623e-07 -5.24800081e-01  5.60393919e-02]\n",
      " [-1.14798623e-07  1.00000006e+00  5.93469452e-02 -2.74056741e-01]\n",
      " [-5.24800081e-01  5.93469452e-02  1.07799921e+00  2.99338312e-01]\n",
      " [ 5.60393919e-02 -2.74056741e-01  2.99338312e-01  1.76431292e+00]]\n",
      "Step: 6: current parameter_diff: 13.169905684956, current marginal loglikelihood: -912.7723150994461\n",
      "EM Iteration 7\n"
     ]
    },
    {
     "name": "stderr",
     "output_type": "stream",
     "text": [
      "c:\\Users\\Jesper\\Anaconda3\\lib\\site-packages\\scipy\\stats\\_qmc.py:2039: UserWarning: The balance properties of Sobol' points require n to be a power of 2.\n",
      "  samples = self.engine.random(n)\n"
     ]
    },
    {
     "name": "stdout",
     "output_type": "stream",
     "text": [
      "Current Monte Carlo Sample size: 330\n",
      "[[ 1.00000005e+00  5.59044687e-08 -3.67845240e-01 -3.12547906e-02]\n",
      " [ 5.59044687e-08  9.99999891e-01  2.54953370e-02  9.69733584e-02]\n",
      " [-3.67845240e-01  2.54953370e-02  7.64086390e-01  3.92890042e-01]\n",
      " [-3.12547906e-02  9.69733584e-02  3.92890042e-01  1.02225305e+00]]\n",
      "Step: 7: current parameter_diff: 14.810663128893962, current marginal loglikelihood: -914.8622684933098\n",
      "EM Iteration 8\n"
     ]
    },
    {
     "name": "stderr",
     "output_type": "stream",
     "text": [
      "c:\\Users\\Jesper\\Anaconda3\\lib\\site-packages\\scipy\\stats\\_qmc.py:2039: UserWarning: The balance properties of Sobol' points require n to be a power of 2.\n",
      "  samples = self.engine.random(n)\n"
     ]
    },
    {
     "name": "stdout",
     "output_type": "stream",
     "text": [
      "Current Monte Carlo Sample size: 330\n",
      "[[ 1.00000008e+00  6.36727995e-08 -8.06220977e-01  4.04330495e-01]\n",
      " [ 6.36727995e-08  1.00000007e+00  3.33673200e-01 -4.33556475e-02]\n",
      " [-8.06220977e-01  3.33673200e-01  1.64083848e+00 -2.21984073e-01]\n",
      " [ 4.04330495e-01 -4.33556475e-02 -2.21984073e-01  1.30291054e+00]]\n",
      "Step: 8: current parameter_diff: 17.239113755995955, current marginal loglikelihood: -918.5761388323984\n",
      "Absolute diff in A:\n",
      "[[0.         0.39907358]\n",
      " [0.         0.11933947]\n",
      " [0.         1.48267198]\n",
      " [0.76680567 0.        ]\n",
      " [0.92775436 0.        ]\n",
      " [0.63380781 0.        ]\n",
      " [0.31569306 0.        ]\n",
      " [0.056739   0.        ]\n",
      " [0.05017891 0.        ]\n",
      " [8.28579162 7.46031747]\n",
      " [0.35460026 0.23622695]\n",
      " [0.78213567 0.18373564]]\n",
      "Absolute diff in delta:\n",
      "[2.51901373e-01 5.56934375e-01 2.81909467e-03 5.71528563e-01\n",
      " 3.02646447e-01 8.05952100e-01 3.09108153e-01 5.73834870e-03\n",
      " 2.69414267e-01 5.51165180e+00 3.60851093e-01 1.21361203e-02]\n",
      "Start pure competency baseline\n",
      "Covariance matrix is good: True\n",
      "EM Iteration 2\n",
      "Current Monte Carlo Sample size: 300\n"
     ]
    },
    {
     "name": "stderr",
     "output_type": "stream",
     "text": [
      "c:\\Users\\Jesper\\Anaconda3\\lib\\site-packages\\scipy\\stats\\_qmc.py:2039: UserWarning: The balance properties of Sobol' points require n to be a power of 2.\n",
      "  samples = self.engine.random(n)\n"
     ]
    },
    {
     "name": "stdout",
     "output_type": "stream",
     "text": [
      "Step: 2: current parameter_diff: 14.641234899497091, current marginal loglikelihood: -729.6133201128912\n",
      "EM Iteration 3\n",
      "Current Monte Carlo Sample size: 330\n",
      "Step: 3: current parameter_diff: 8.455704099944949, current marginal loglikelihood: -709.5756814336814\n",
      "EM Iteration 4\n",
      "Current Monte Carlo Sample size: 363\n",
      "Step: 4: current parameter_diff: 5.921484327255084, current marginal loglikelihood: -704.7679310494714\n",
      "EM Iteration 5\n",
      "Current Monte Carlo Sample size: 399\n",
      "Step: 5: current parameter_diff: 3.784801142785085, current marginal loglikelihood: -700.6290044158112\n",
      "EM Iteration 6\n",
      "Current Monte Carlo Sample size: 438\n",
      "Step: 6: current parameter_diff: 4.080648776723148, current marginal loglikelihood: -699.9992373973377\n",
      "EM Iteration 2\n"
     ]
    },
    {
     "name": "stderr",
     "output_type": "stream",
     "text": [
      "c:\\Users\\Jesper\\Anaconda3\\lib\\site-packages\\scipy\\stats\\_qmc.py:2039: UserWarning: The balance properties of Sobol' points require n to be a power of 2.\n",
      "  samples = self.engine.random(n)\n"
     ]
    },
    {
     "name": "stdout",
     "output_type": "stream",
     "text": [
      "Current Monte Carlo Sample size: 300\n",
      "Step: 2: current parameter_diff: 20.634254905864548, current marginal loglikelihood: -884.7962289201002\n",
      "EM Iteration 3\n",
      "Current Monte Carlo Sample size: 300\n",
      "Step: 3: current parameter_diff: 11.22359296647416, current marginal loglikelihood: -880.4312306711602\n",
      "EM Iteration 4\n",
      "Current Monte Carlo Sample size: 300\n",
      "Step: 4: current parameter_diff: 6.479728576881043, current marginal loglikelihood: -877.8818163281479\n",
      "EM Iteration 5\n",
      "Current Monte Carlo Sample size: 330\n",
      "Step: 5: current parameter_diff: 3.4282531462102437, current marginal loglikelihood: -874.8466893334652\n",
      "Absolute diff in A:\n",
      "[[0.         1.45663253]\n",
      " [0.         0.24612861]\n",
      " [0.         0.56473478]\n",
      " [0.         0.77406195]\n",
      " [0.         0.32930127]\n",
      " [0.         1.16970238]\n",
      " [1.58001875 0.        ]\n",
      " [0.30876777 0.        ]\n",
      " [1.54704861 0.        ]\n",
      " [1.19596329 0.43592217]\n",
      " [1.15738845 0.4471663 ]\n",
      " [0.29964148 0.93943342]]\n",
      "Absolute diff in delta:\n",
      "[0.72849537 0.58715401 0.09916753 0.39325833 0.20049555 0.9436993\n",
      " 0.057871   0.40869235 0.00335861 0.39948816 0.53994352 0.6503737 ]\n",
      "Absolute diff in sigma:\n",
      "[[0. 0.]\n",
      " [0. 0.]]\n",
      "Absolute diff in A:\n",
      "[[0.         0.25029345]\n",
      " [0.         0.28422296]\n",
      " [0.         0.22416053]\n",
      " [1.1530011  0.        ]\n",
      " [1.51687238 0.        ]\n",
      " [0.58213095 0.        ]\n",
      " [0.01056787 0.        ]\n",
      " [0.01275117 0.        ]\n",
      " [0.20606814 0.        ]\n",
      " [1.78900259 0.70452812]\n",
      " [2.54603915 0.68109845]\n",
      " [0.8729288  0.23856394]]\n",
      "Absolute diff in delta:\n",
      "[0.17584739 0.66736214 0.03982876 0.54176034 0.57242421 0.73573572\n",
      " 0.3264834  0.10356882 0.06598249 0.47744057 0.4298611  0.20020156]\n"
     ]
    }
   ],
   "source": [
    "experiment_0 = lambda sample_size, item_dimension, latent_dimension: mirt_simulation_experiment(\n",
    "                                             sample_size=sample_size, item_dimension=item_dimension, latent_dimension=latent_dimension, \n",
    "                                             q_type=\"full\", stop_threshold=0.01, # TODO: Change to percentage threshold\n",
    "                                             early_person_method=\"BFGS\",\n",
    "                                             late_person_method=\"BFGS\",\n",
    "                                            sigma_constraint=\"early_constraint\",\n",
    "                                            methods=[\"late_em\", \"real_early\", \"pure_competency\", \"initial\", \"difference\"])\n",
    "performance_df= repeat_mirt_experiment(experiment_0, repetitions=1, sample_sizes=[120], latent_dims=[2], item_dims=[12], file=\"results/test.csv\")"
   ]
  },
  {
   "cell_type": "code",
   "execution_count": 5,
   "metadata": {},
   "outputs": [
    {
     "name": "stdout",
     "output_type": "stream",
     "text": [
      "------------------------------------\n",
      "##### Results for With additional constraint on A rotation and according actual A rotation\n",
      "Latent dimension: 2.0,  Item dimension: 12.0, sample size 120.0 \\\n",
      "Early runtime: 3.54 seconds, 8.0 steps, 0.44 seconds per step \\\n",
      "Late runtime: 31.22 seconds, 8.0 steps, 3.9 seconds per step \\\n",
      "Early Marginal Likelihood, Optimal: -720.68, Estimated: -698.95, Initial -825.13 \\\n",
      "Late Marginal Likelihood, Optimal: -868.09, Estimated: -862.56, Initial -1101.41\n",
      "| method          |    early_A |   early_delta |   early_sigma |   late_A |   late_delta |   late_sigma |      psi |\n",
      "|:----------------|-----------:|--------------:|--------------:|---------:|-------------:|-------------:|---------:|\n",
      "| difference      |   0.787309 |      0.459988 |      0        | 0.811983 |     0.422713 |    0.0793261 | 0.282566 |\n",
      "| initial         |   1.91324  |      0.581395 |      0.353553 | 2.1836   |     1.10314  |    0.543236  | 0.281599 |\n",
      "| late_em         |   0.746624 |      0.492401 |      0        | 2.49625  |     0.97608  |    0.362498  | 0.350698 |\n",
      "| pure_competency |   0.755382 |      0.501266 |      0        | 0.807971 |     0.429616 |    0.727731  | 0.371376 |\n",
      "| real_early      | nan        |    nan        |    nan        | 2.32258  |     1.63601  |    0.725884  | 0.418279 |\n",
      "####\n",
      "Performance on Individual Level \\\n",
      "rmse theta: 0.46592861549679637 \\\n",
      "rmse gain estimated: 0.6761203607405827 \\\n",
      "rmse gain predicted: 0.7968971203588976\n"
     ]
    }
   ],
   "source": [
    "print_result_from_df(performance_df, description=\"With additional constraint on A rotation and according actual A rotation\", reference_method=\"late_em\")"
   ]
  },
  {
   "cell_type": "code",
   "execution_count": 6,
   "metadata": {},
   "outputs": [
    {
     "data": {
      "text/plain": [
       "0    0.274725\n",
       "5    0.225293\n",
       "Name: rmse_psi, dtype: float64"
      ]
     },
     "execution_count": 6,
     "metadata": {},
     "output_type": "execute_result"
    }
   ],
   "source": [
    "performance_df[performance_df[\"method\"] == \"late_em\"][\"rmse_psi\"]"
   ]
  },
  {
   "cell_type": "markdown",
   "metadata": {},
   "source": [
    "\n",
    "------------------------------------\n",
    "##### Results for Increasing Monte Carlo sample-size based on ttest with normal MC\n",
    "Latent dimension: 2,  Item dimension: 6, sample size 100 \\\n",
    "Runtime: 3.3 seconds, 15 steps, 0.22 seconds per step \\\n",
    "Optimal marginal Likelihood: -371.46, Estimated: -365.03, Initial -374.57\n",
    "|               |   rmse_A |   rmse_delta |   rmse_sigma |\n",
    "|:--------------|---------:|-------------:|-------------:|\n",
    "| estimated     | 0.660667 |     0.316008 |    0.0573464 |\n",
    "| early_initial | 0.509902 |     0.28936  |    0.212132  |\n",
    "| girth         | 1.0658   |     0.31617  |    0.12943   |\n",
    "| early_direct  | 0.848957 |     0.59659  |    0.116858  |\n",
    "\n",
    "------------------------------------\n",
    "##### Results for Untested full Model\n",
    "Latent dimension: 2,  Item dimension: 10, sample size 100 \\\n",
    "Early runtime: 2.56 seconds, 8 steps, 0.32 seconds per step \\\n",
    "Late runtime: 107.71 seconds, 5 steps, 21.54 seconds per step \\\n",
    "Early Marginal Likelihood, Optimal: -470.21, Estimated: -463.83, Initial -527.4 \\\n",
    "Late Marginal Likelihood, Optimal: 3.89, Estimated: 3.92, Initial 3.81\n",
    "|           |   early_A |   early_delta |   early_sigma |   late_A |   late_delta |   late_sigma |      psi |\n",
    "|:----------|----------:|--------------:|--------------:|---------:|-------------:|-------------:|---------:|\n",
    "| estimated |   1.08941 |      0.391419 |     0.0115966 |  1.83043 |      1.33621 |     0.674368 | 0.395368 |\n",
    "| initial   |   3.07758 |      0.621379 |     0.329017  |  2.74743 |      1.52522 |     0.320885 | 0.210157 |\n",
    "####\n",
    "Performance on Individual Level \\\n",
    "rmse theta: 0.864016477222037 \\\n",
    "rmse gain: 0.8736126145557623\n",
    "\n",
    "------------------------------------\n",
    "##### Results for Fixed marginal Loglikelihood\n",
    "Latent dimension: 2,  Item dimension: 10, sample size 100 \\\n",
    "Early runtime: 2.5 seconds, 7 steps, 0.36 seconds per step \\\n",
    "Late runtime: 322.67 seconds, 9 steps, 35.85 seconds per step \\\n",
    "Early Marginal Likelihood, Optimal: -494.37, Estimated: -479.73, Initial -540.27 \\\n",
    "Late Marginal Likelihood, Optimal: -359.97, Estimated: -381.08, Initial -431.02\n",
    "|           |   early_A |   early_delta |   early_sigma |   late_A |   late_delta |   late_sigma |      psi |\n",
    "|:----------|----------:|--------------:|--------------:|---------:|-------------:|-------------:|---------:|\n",
    "| estimated |   1.42983 |      0.837686 |     0.139583  |  4.08714 |      2.46488 |    0.243386  | 0.343469 |\n",
    "| initial   |   2.6978  |      0.668599 |     0.0490025 |  5.45633 |      1.95892 |    0.0963787 | 0.22315  |\n",
    "####\n",
    "Performance on Individual Level \\\n",
    "rmse theta: 0.6755600631466341 \\\n",
    "rmse gain: 780.9161055994681\n",
    "\n",
    "------------------------------------\n",
    "##### Results for Genetic Algorithm\n",
    "Latent dimension: 2,  Item dimension: 10, sample size 100 \\\n",
    "Early runtime: 3.42 seconds, 7 steps, 0.49 seconds per step \\\n",
    "Late runtime: 166.44 seconds, 10 steps, 16.64 seconds per step \\\n",
    "Early Marginal Likelihood, Optimal: -445.8, Estimated: -440.04, Initial -525.38 \\\n",
    "Late Marginal Likelihood, Optimal: -452.07, Estimated: -436.89, Initial -535.83\n",
    "|           |   early_A |   early_delta |   early_sigma |   late_A |   late_delta |   late_sigma |      psi |\n",
    "|:----------|----------:|--------------:|--------------:|---------:|-------------:|-------------:|---------:|\n",
    "| estimated |   3.52076 |      0.390601 |     0.0378639 |  5.26244 |     0.403017 |    0.134472  | 0.317107 |\n",
    "| initial   |   5.04367 |      0.567904 |     0.0948937 |  4.62289 |     1.22823  |    0.0472347 | 0.344357 |\n",
    "####\n",
    "Performance on Individual Level \\\n",
    "rmse theta: 0.8067692103719907 \\\n",
    "rmse gain: 560.8514011989563\n",
    "\n",
    "------------------------------------\n",
    "##### Results for With constrained BFGS\n",
    "Latent dimension: 2,  Item dimension: 10, sample size 100 \\\n",
    "Early runtime: 3.39 seconds, 8 steps, 0.42 seconds per step \\\n",
    "Late runtime: 222.08 seconds, 11 steps, 20.19 seconds per step \\\n",
    "Early Marginal Likelihood, Optimal: -450.38, Estimated: -444.2, Initial -522.62 \\\n",
    "Late Marginal Likelihood, Optimal: -469.55, Estimated: -464.8, Initial -539.91\n",
    "|           |   early_A |   early_delta |   early_sigma |   late_A |   late_delta |   late_sigma |      psi |\n",
    "|:----------|----------:|--------------:|--------------:|---------:|-------------:|-------------:|---------:|\n",
    "| estimated |  0.683488 |      0.604727 |     0.0795495 |  1.19288 |     0.397077 |    0.163978  | 0.367325 |\n",
    "| initial   |  2.31601  |      0.712129 |     0.0905097 |  2.83422 |     1.04892  |    0.0775696 | 0.226698 |\n",
    "####\n",
    "Performance on Individual Level \\\n",
    "rmse theta: 0.7139781405467193 \\\n",
    "rmse gain: 0.8053860461431572\n",
    "\n",
    "------------------------------------\n",
    "##### Results for With unconstrained BFGS and save ICC\n",
    "Latent dimension: 2,  Item dimension: 10, sample size 200 \\\n",
    "Early runtime: 4.94 seconds, 10 steps, 0.49 seconds per step \\\n",
    "Late runtime: 217.77 seconds, 14 steps, 15.56 seconds per step \\\n",
    "Early Marginal Likelihood, Optimal: -1025.93, Estimated: -1014.24, Initial -1143.43 \\\n",
    "Late Marginal Likelihood, Optimal: -1019.85, Estimated: -942.56, Initial -1165.24\n",
    "|           |   early_A |   early_delta |   early_sigma |   late_A |   late_delta |   late_sigma |     psi |\n",
    "|:----------|----------:|--------------:|--------------:|---------:|-------------:|-------------:|--------:|\n",
    "| estimated |   1.28713 |      0.405811 |      0.022486 |  2.34827 |      3.08274 |    0.0799031 | 0.25137 |\n",
    "| initial   |   2.81054 |      0.442962 |      0.257387 |  4.62677 |      1.05851 |    0.0787717 | 0.33902 |\n",
    "####\n",
    "Performance on Individual Level \\\n",
    "rmse theta: 0.8966706033114552 \\\n",
    "rmse gain: 0.8351295524334317\n",
    "\n",
    "------------------------------------\n",
    "##### Results for With unconstrained BFGS and save ICC and density\n",
    "Latent dimension: 2,  Item dimension: 10, sample size 100 \\\n",
    "Early runtime: 3.18 seconds, 7 steps, 0.45 seconds per step \\\n",
    "Late runtime: 138.53 seconds, 15 steps, 9.24 seconds per step \\\n",
    "Early Marginal Likelihood, Optimal: -520.2, Estimated: -510.43, Initial -543.26 \\\n",
    "Late Marginal Likelihood, Optimal: -423.14, Estimated: -395.86, Initial -478.51\n",
    "|           |   early_A |   early_delta |   early_sigma |   late_A |   late_delta |   late_sigma |       psi |\n",
    "|:----------|----------:|--------------:|--------------:|---------:|-------------:|-------------:|----------:|\n",
    "| estimated |   1.46673 |      0.222442 |      0.180454 |  8.89911 |      3.884   |    0.0590434 | 0.0987126 |\n",
    "| initial   |   1.98992 |      0.373841 |      0.138664 |  3.10531 |      1.01749 |    0.0374059 | 0.279826  |\n",
    "####\n",
    "Performance on Individual Level \\\n",
    "rmse theta: 0.823547261347214 \\\n",
    "rmse gain: 1.1151668629591303\n",
    "\n",
    "------------------------------------\n",
    "##### Results for With unconstrained BFGS and unsave ICC and save density\n",
    "Latent dimension: 2,  Item dimension: 12, sample size 100 \\\n",
    "Early runtime: 3.87 seconds, 8 steps, 0.48 seconds per step \\\n",
    "Late runtime: 134.42 seconds, 9 steps, 14.94 seconds per step \\\n",
    "Early Marginal Likelihood, Optimal: -602.6, Estimated: -592.22, Initial -670.75 \\\n",
    "Late Marginal Likelihood, Optimal: -456.88, Estimated: -452.65, Initial -554.35\n",
    "|           |   early_A |   early_delta |   early_sigma |   late_A |   late_delta |   late_sigma |       psi |\n",
    "|:----------|----------:|--------------:|--------------:|---------:|-------------:|-------------:|----------:|\n",
    "| estimated |  0.690325 |      0.546951 |     0.0650538 |  1.27364 |     0.938354 |    0.0915703 | 0.0813927 |\n",
    "| initial   |  2.45374  |      0.70644  |     0.213122  |  2.99672 |     1.01538  |    0.137037  | 0.289388  |\n",
    "####\n",
    "Performance on Individual Level \\\n",
    "rmse theta: 0.9424593402985434 \\\n",
    "rmse gain: 0.9094035651380942\n",
    "\n",
    "------------------------------------\n",
    "##### Results for With no constraint on early-conditional\n",
    "Latent dimension: 2.0,  Item dimension: 12.0, sample size 130.0 \\\n",
    "Early runtime: 3.72 seconds, 8.2 steps, 0.45 seconds per step \\\n",
    "Late runtime: 80.16 seconds, 13.0 steps, 6.17 seconds per step \\\n",
    "Early Marginal Likelihood, Optimal: -774.22, Estimated: -764.32, Initial -866.47 \\\n",
    "Late Marginal Likelihood, Optimal: -1019.18, Estimated: -921.48, Initial -1086.68\n",
    "| method     |   early_A |   early_delta |   early_sigma |   late_A |   late_delta |   late_sigma |      psi |\n",
    "|:-----------|----------:|--------------:|--------------:|---------:|-------------:|-------------:|---------:|\n",
    "| difference |   1.34612 |      0.534403 |     0.0358224 |  0.92071 |     0.700088 |    0.0741752 | 0.239726 |\n",
    "| initial    |   2.74906 |      0.642181 |     0.179478  |  1.75942 |     1.26116  |    0.455647  | 0.321535 |\n",
    "| late_em    |   1.39325 |      0.590534 |     0.0421719 |  1.40764 |     0.688456 |    1.40617   | 0.861078 |\n",
    "####\n",
    "Performance on Individual Level \\\n",
    "rmse theta: 0.531318687109031 \\\n",
    "rmse gain: 0.9887035356487519\n",
    "\n",
    "------------------------------------\n",
    "##### Results for With additional constraint on A rotation\n",
    "Latent dimension: 2.0,  Item dimension: 12.0, sample size 130.0 \\\n",
    "Early runtime: 4.39 seconds, 9.2 steps, 0.48 seconds per step \\\n",
    "Late runtime: 112.4 seconds, 16.8 steps, 6.69 seconds per step \\\n",
    "Early Marginal Likelihood, Optimal: -729.67, Estimated: -719.15, Initial -836.73 \\\n",
    "Late Marginal Likelihood, Optimal: -858.64, Estimated: -839.4, Initial -1061.49\n",
    "| method     |   early_A |   early_delta |   early_sigma |   late_A |   late_delta |   late_sigma |      psi |\n",
    "|:-----------|----------:|--------------:|--------------:|---------:|-------------:|-------------:|---------:|\n",
    "| difference |   1.7291  |      0.671763 |     0.0601324 |  1.45645 |     0.541567 |     0.129567 | 0.197979 |\n",
    "| initial    |   3.80043 |      0.689331 |     0.208922  |  2.84149 |     1.49502  |     0.345074 | 0.266681 |\n",
    "| late_em    |   1.75456 |      0.651589 |     0.0588596 |  2.541   |     1.51147  |     0.262643 | 0.255923 |\n",
    "####\n",
    "Performance on Individual Level \\\n",
    "rmse theta: 0.4893078017207201 \\\n",
    "rmse gain: 0.6258517067643191\n",
    "\n",
    "------------------------------------\n",
    "##### Results for With additional constraint on A rotation and according actual A rotation\n",
    "Latent dimension: 2.0,  Item dimension: 12.0, sample size 100.0 \\\n",
    "Early runtime: 3.53 seconds, 8.0 steps, 0.44 seconds per step \\\n",
    "Late runtime: 46.2 seconds, 10.2 steps, 4.53 seconds per step \\\n",
    "Early Marginal Likelihood, Optimal: -553.79, Estimated: -542.9, Initial -628.01 \\\n",
    "Late Marginal Likelihood, Optimal: -639.05, Estimated: -633.58, Initial -798.0\n",
    "| method          |    early_A |   early_delta |   early_sigma |   late_A |   late_delta |   late_sigma |      psi |\n",
    "|:----------------|-----------:|--------------:|--------------:|---------:|-------------:|-------------:|---------:|\n",
    "| difference      |   0.897254 |      0.5579   |     0.0803415 |  1.6846  |      1.06954 |    0.0903535 | 0.246921 |\n",
    "| initial         |   2.46837  |      0.50758  |     0.170017  |  3.08702 |      1.56427 |    0.386886  | 0.310015 |\n",
    "| late_em         |   0.956962 |      0.569663 |     0.0870731 | 11.9947  |      1.7126  |    0.471784  | 0.332751 |\n",
    "| pure_competency |   0.917059 |      0.600976 |     0.198952  |  1.90672 |      1.25602 |    0.699273  | 0.428938 |\n",
    "| real_early      | nan        |    nan        |   nan         |  2.01509 |      1.56985 |    0.791628  | 0.480195 |\n",
    "####\n",
    "Performance on Individual Level \\\n",
    "rmse theta: 0.5140882904695336 \\\n",
    "rmse gain estimated: 0.6552893063329204 \\\n",
    "rmse gain predicted: 0.7734180679791622"
   ]
  },
  {
   "cell_type": "markdown",
   "metadata": {},
   "source": [
    "## Experiment 1: MIRT-2PL Parameter Recovery"
   ]
  },
  {
   "cell_type": "code",
   "execution_count": 6,
   "metadata": {},
   "outputs": [
    {
     "name": "stdout",
     "output_type": "stream",
     "text": [
      "Real latent covariance: [[ 1.      0.5849  0.5192  0.0926  0.4592  0.1707]\n",
      " [ 0.5849  1.      0.0891  0.2862  0.12   -0.131 ]\n",
      " [ 0.5192  0.0891  1.      0.1785  0.2696 -0.045 ]\n",
      " [ 0.0926  0.2862  0.1785  0.5     0.3345  0.    ]\n",
      " [ 0.4592  0.12    0.2696  0.3345  0.7238  0.1994]\n",
      " [ 0.1707 -0.131  -0.045   0.      0.1994  0.5795]]\n",
      "Start late EM\n",
      "Covariance matrix is good: True\n",
      "EM Iteration 2\n",
      "Current Monte Carlo Sample size: 600\n",
      "[[1.         0.54267521 0.50344885]\n",
      " [0.54267521 1.         0.50166933]\n",
      " [0.50344885 0.50166933 1.        ]]\n"
     ]
    },
    {
     "name": "stderr",
     "output_type": "stream",
     "text": [
      "c:\\Users\\Jesper\\Anaconda3\\lib\\site-packages\\scipy\\stats\\_qmc.py:2039: UserWarning: The balance properties of Sobol' points require n to be a power of 2.\n",
      "  samples = self.engine.random(n)\n"
     ]
    },
    {
     "name": "stdout",
     "output_type": "stream",
     "text": [
      "Step: 2: current parameter_diff: 10.347388650916681, current marginal loglikelihood: -157.07383080312655\n",
      "EM Iteration 3\n",
      "Current Monte Carlo Sample size: 660\n",
      "[[1.         0.59568422 0.466215  ]\n",
      " [0.59568422 1.         0.46249763]\n",
      " [0.466215   0.46249763 1.        ]]\n"
     ]
    },
    {
     "name": "stderr",
     "output_type": "stream",
     "text": [
      "c:\\Users\\Jesper\\Anaconda3\\lib\\site-packages\\scipy\\stats\\_qmc.py:2039: UserWarning: The balance properties of Sobol' points require n to be a power of 2.\n",
      "  samples = self.engine.random(n)\n"
     ]
    },
    {
     "name": "stdout",
     "output_type": "stream",
     "text": [
      "Step: 3: current parameter_diff: 8.582221049995416, current marginal loglikelihood: -150.05360462062924\n",
      "EM Iteration 4\n",
      "Current Monte Carlo Sample size: 726\n",
      "[[1.         0.58148535 0.43514935]\n",
      " [0.58148535 1.         0.40159732]\n",
      " [0.43514935 0.40159732 1.        ]]\n"
     ]
    },
    {
     "name": "stderr",
     "output_type": "stream",
     "text": [
      "c:\\Users\\Jesper\\Anaconda3\\lib\\site-packages\\scipy\\stats\\_qmc.py:2039: UserWarning: The balance properties of Sobol' points require n to be a power of 2.\n",
      "  samples = self.engine.random(n)\n"
     ]
    },
    {
     "name": "stdout",
     "output_type": "stream",
     "text": [
      "Step: 4: current parameter_diff: 11.333177759758453, current marginal loglikelihood: -142.4743570160801\n",
      "EM Iteration 5\n",
      "Current Monte Carlo Sample size: 798\n",
      "[[1.         0.55805107 0.41178654]\n",
      " [0.55805107 1.         0.34651063]\n",
      " [0.41178654 0.34651063 1.        ]]\n"
     ]
    },
    {
     "name": "stderr",
     "output_type": "stream",
     "text": [
      "c:\\Users\\Jesper\\Anaconda3\\lib\\site-packages\\scipy\\stats\\_qmc.py:2039: UserWarning: The balance properties of Sobol' points require n to be a power of 2.\n",
      "  samples = self.engine.random(n)\n"
     ]
    },
    {
     "name": "stdout",
     "output_type": "stream",
     "text": [
      "Step: 5: current parameter_diff: 11.575524728106945, current marginal loglikelihood: -140.290236551847\n",
      "EM Iteration 6\n",
      "Current Monte Carlo Sample size: 877\n",
      "[[1.         0.58285749 0.41913095]\n",
      " [0.58285749 1.         0.28727806]\n",
      " [0.41913095 0.28727806 1.        ]]\n"
     ]
    },
    {
     "name": "stderr",
     "output_type": "stream",
     "text": [
      "c:\\Users\\Jesper\\Anaconda3\\lib\\site-packages\\scipy\\stats\\_qmc.py:2039: UserWarning: The balance properties of Sobol' points require n to be a power of 2.\n",
      "  samples = self.engine.random(n)\n"
     ]
    },
    {
     "name": "stdout",
     "output_type": "stream",
     "text": [
      "Step: 6: current parameter_diff: 8.667141959994503, current marginal loglikelihood: -137.51717906928272\n",
      "EM Iteration 7\n",
      "Current Monte Carlo Sample size: 964\n",
      "[[1.         0.57231867 0.40253202]\n",
      " [0.57231867 1.         0.23042181]\n",
      " [0.40253202 0.23042181 1.        ]]\n"
     ]
    },
    {
     "name": "stderr",
     "output_type": "stream",
     "text": [
      "c:\\Users\\Jesper\\Anaconda3\\lib\\site-packages\\scipy\\stats\\_qmc.py:2039: UserWarning: The balance properties of Sobol' points require n to be a power of 2.\n",
      "  samples = self.engine.random(n)\n"
     ]
    },
    {
     "name": "stdout",
     "output_type": "stream",
     "text": [
      "Step: 7: current parameter_diff: 7.839059608579669, current marginal loglikelihood: -135.521907198111\n",
      "EM Iteration 8\n",
      "Current Monte Carlo Sample size: 1060\n",
      "[[1.     0.5723 0.4025]\n",
      " [0.5723 1.     0.2304]\n",
      " [0.4025 0.2304 1.    ]]\n"
     ]
    },
    {
     "name": "stderr",
     "output_type": "stream",
     "text": [
      "c:\\Users\\Jesper\\Anaconda3\\lib\\site-packages\\scipy\\stats\\_qmc.py:2039: UserWarning: The balance properties of Sobol' points require n to be a power of 2.\n",
      "  samples = self.engine.random(n)\n"
     ]
    },
    {
     "name": "stdout",
     "output_type": "stream",
     "text": [
      "Step: 8: current parameter_diff: 4.886953160574437, current marginal loglikelihood: -135.8164942125344\n",
      "EM Iteration 9\n",
      "Current Monte Carlo Sample size: 1166\n",
      "[[1.     0.5723 0.4025]\n",
      " [0.5723 1.     0.2304]\n",
      " [0.4025 0.2304 1.    ]]\n"
     ]
    },
    {
     "name": "stderr",
     "output_type": "stream",
     "text": [
      "c:\\Users\\Jesper\\Anaconda3\\lib\\site-packages\\scipy\\stats\\_qmc.py:2039: UserWarning: The balance properties of Sobol' points require n to be a power of 2.\n",
      "  samples = self.engine.random(n)\n"
     ]
    },
    {
     "name": "stdout",
     "output_type": "stream",
     "text": [
      "Step: 9: current parameter_diff: 7.739903444794211, current marginal loglikelihood: -133.79069080244545\n",
      "EM Iteration 10\n",
      "Current Monte Carlo Sample size: 1282\n",
      "[[1.     0.5723 0.4025]\n",
      " [0.5723 1.     0.2304]\n",
      " [0.4025 0.2304 1.    ]]\n"
     ]
    },
    {
     "name": "stderr",
     "output_type": "stream",
     "text": [
      "c:\\Users\\Jesper\\Anaconda3\\lib\\site-packages\\scipy\\stats\\_qmc.py:2039: UserWarning: The balance properties of Sobol' points require n to be a power of 2.\n",
      "  samples = self.engine.random(n)\n"
     ]
    },
    {
     "name": "stdout",
     "output_type": "stream",
     "text": [
      "Step: 10: current parameter_diff: 2.6827882313389066, current marginal loglikelihood: -134.46466964993147\n",
      "EM Iteration 11\n",
      "Current Monte Carlo Sample size: 1410\n",
      "[[1.     0.5723 0.4025]\n",
      " [0.5723 1.     0.2304]\n",
      " [0.4025 0.2304 1.    ]]\n"
     ]
    },
    {
     "name": "stderr",
     "output_type": "stream",
     "text": [
      "c:\\Users\\Jesper\\Anaconda3\\lib\\site-packages\\scipy\\stats\\_qmc.py:2039: UserWarning: The balance properties of Sobol' points require n to be a power of 2.\n",
      "  samples = self.engine.random(n)\n"
     ]
    },
    {
     "name": "stdout",
     "output_type": "stream",
     "text": [
      "Step: 11: current parameter_diff: 4.978342043222467, current marginal loglikelihood: -133.4154449248303\n",
      "EM Iteration 12\n",
      "Current Monte Carlo Sample size: 1551\n",
      "[[1.     0.5723 0.4025]\n",
      " [0.5723 1.     0.2304]\n",
      " [0.4025 0.2304 1.    ]]\n"
     ]
    },
    {
     "name": "stderr",
     "output_type": "stream",
     "text": [
      "c:\\Users\\Jesper\\Anaconda3\\lib\\site-packages\\scipy\\stats\\_qmc.py:2039: UserWarning: The balance properties of Sobol' points require n to be a power of 2.\n",
      "  samples = self.engine.random(n)\n"
     ]
    },
    {
     "name": "stdout",
     "output_type": "stream",
     "text": [
      "Step: 12: current parameter_diff: 3.9059105683762962, current marginal loglikelihood: -134.34081484601472\n",
      "EM Iteration 13\n",
      "Current Monte Carlo Sample size: 1706\n",
      "[[1.     0.5723 0.4025]\n",
      " [0.5723 1.     0.2304]\n",
      " [0.4025 0.2304 1.    ]]\n"
     ]
    },
    {
     "name": "stderr",
     "output_type": "stream",
     "text": [
      "c:\\Users\\Jesper\\Anaconda3\\lib\\site-packages\\scipy\\stats\\_qmc.py:2039: UserWarning: The balance properties of Sobol' points require n to be a power of 2.\n",
      "  samples = self.engine.random(n)\n"
     ]
    },
    {
     "name": "stdout",
     "output_type": "stream",
     "text": [
      "Step: 13: current parameter_diff: 2.904734449492725, current marginal loglikelihood: -134.61930282270114\n",
      "EM Iteration 14\n",
      "Current Monte Carlo Sample size: 1876\n",
      "[[1.     0.5723 0.4025]\n",
      " [0.5723 1.     0.2304]\n",
      " [0.4025 0.2304 1.    ]]\n"
     ]
    },
    {
     "name": "stderr",
     "output_type": "stream",
     "text": [
      "c:\\Users\\Jesper\\Anaconda3\\lib\\site-packages\\scipy\\stats\\_qmc.py:2039: UserWarning: The balance properties of Sobol' points require n to be a power of 2.\n",
      "  samples = self.engine.random(n)\n"
     ]
    },
    {
     "name": "stdout",
     "output_type": "stream",
     "text": [
      "Step: 14: current parameter_diff: 3.3755437564304263, current marginal loglikelihood: -133.96026431956628\n",
      "EM Iteration 2\n"
     ]
    },
    {
     "name": "stderr",
     "output_type": "stream",
     "text": [
      "c:\\Users\\Jesper\\Anaconda3\\lib\\site-packages\\scipy\\stats\\_qmc.py:2039: UserWarning: The balance properties of Sobol' points require n to be a power of 2.\n",
      "  samples = self.engine.random(n)\n"
     ]
    },
    {
     "name": "stdout",
     "output_type": "stream",
     "text": [
      "Current Monte Carlo Sample size: 600\n",
      "[[ 1.00000009  0.57229957  0.40250028  0.14686658  0.33068828  0.02601125]\n",
      " [ 0.57229957  0.99999989  0.23040004 -0.1571242   0.17850048 -0.01445842]\n",
      " [ 0.40250028  0.23040004  1.00000008 -0.13868625  0.42460473 -0.05465868]\n",
      " [ 0.14686658 -0.1571242  -0.13868625  0.39146653  0.14672074  0.17772232]\n",
      " [ 0.33068828  0.17850048  0.42460473  0.14672074  0.60679884  0.01389023]\n",
      " [ 0.02601125 -0.01445842 -0.05465868  0.17772232  0.01389023  0.59881692]]\n",
      "Step: 2: current parameter_diff: 44.2578469046534, current marginal loglikelihood: -145.11276013172906\n",
      "EM Iteration 3\n"
     ]
    },
    {
     "name": "stderr",
     "output_type": "stream",
     "text": [
      "c:\\Users\\Jesper\\Anaconda3\\lib\\site-packages\\scipy\\stats\\_qmc.py:2039: UserWarning: The balance properties of Sobol' points require n to be a power of 2.\n",
      "  samples = self.engine.random(n)\n"
     ]
    },
    {
     "name": "stdout",
     "output_type": "stream",
     "text": [
      "Current Monte Carlo Sample size: 600\n",
      "[[ 1.0000006   0.57230078  0.40249922  0.14687426  0.33061168  0.02597258]\n",
      " [ 0.57230078  1.00000132  0.23039942 -0.15702932  0.17853884 -0.01440437]\n",
      " [ 0.40249922  0.23039942  0.99999964 -0.13855406  0.42460512 -0.05464319]\n",
      " [ 0.14687426 -0.15702932 -0.13855406  0.39144993  0.14675295  0.17770897]\n",
      " [ 0.33061168  0.17853884  0.42460512  0.14675295  0.60672083  0.01377201]\n",
      " [ 0.02597258 -0.01440437 -0.05464319  0.17770897  0.01377201  0.59878708]]\n",
      "Step: 3: current parameter_diff: 32.73514634467838, current marginal loglikelihood: -139.97909651503196\n",
      "EM Iteration 4\n"
     ]
    },
    {
     "name": "stderr",
     "output_type": "stream",
     "text": [
      "c:\\Users\\Jesper\\Anaconda3\\lib\\site-packages\\scipy\\stats\\_qmc.py:2039: UserWarning: The balance properties of Sobol' points require n to be a power of 2.\n",
      "  samples = self.engine.random(n)\n"
     ]
    },
    {
     "name": "stdout",
     "output_type": "stream",
     "text": [
      "Current Monte Carlo Sample size: 660\n",
      "[[ 1.00000111  0.57230029  0.40249791  0.14688018  0.33062821  0.02588052]\n",
      " [ 0.57230029  0.99999873  0.23040084 -0.15694619  0.17854423 -0.01442429]\n",
      " [ 0.40249791  0.23040084  1.00000131 -0.13846414  0.42464672 -0.0546061 ]\n",
      " [ 0.14688018 -0.15694619 -0.13846414  0.39143791  0.14673462  0.17771922]\n",
      " [ 0.33062821  0.17854423  0.42464672  0.14673462  0.60671225  0.01370038]\n",
      " [ 0.02588052 -0.01442429 -0.0546061   0.17771922  0.01370038  0.59871022]]\n",
      "Step: 4: current parameter_diff: 41.697457653389556, current marginal loglikelihood: -136.64560210835558\n",
      "EM Iteration 5\n"
     ]
    },
    {
     "name": "stderr",
     "output_type": "stream",
     "text": [
      "c:\\Users\\Jesper\\Anaconda3\\lib\\site-packages\\scipy\\stats\\_qmc.py:2039: UserWarning: The balance properties of Sobol' points require n to be a power of 2.\n",
      "  samples = self.engine.random(n)\n"
     ]
    },
    {
     "name": "stdout",
     "output_type": "stream",
     "text": [
      "Current Monte Carlo Sample size: 726\n",
      "[[ 1.00000062  0.57229938  0.4024996   0.14687757  0.33064788  0.02578124]\n",
      " [ 0.57229938  1.00000088  0.23039988 -0.15684496  0.17851887 -0.01442924]\n",
      " [ 0.4024996   0.23039988  1.00000081 -0.13836765  0.42464177 -0.05459633]\n",
      " [ 0.14687757 -0.15684496 -0.13836765  0.39144385  0.14672727  0.1777175 ]\n",
      " [ 0.33064788  0.17851887  0.42464177  0.14672727  0.60676057  0.01368024]\n",
      " [ 0.02578124 -0.01442924 -0.05459633  0.1777175   0.01368024  0.59869036]]\n",
      "Step: 5: current parameter_diff: 45.84216111373435, current marginal loglikelihood: -136.02751377876788\n",
      "EM Iteration 6\n"
     ]
    },
    {
     "name": "stderr",
     "output_type": "stream",
     "text": [
      "c:\\Users\\Jesper\\Anaconda3\\lib\\site-packages\\scipy\\stats\\_qmc.py:2039: UserWarning: The balance properties of Sobol' points require n to be a power of 2.\n",
      "  samples = self.engine.random(n)\n"
     ]
    },
    {
     "name": "stdout",
     "output_type": "stream",
     "text": [
      "Current Monte Carlo Sample size: 798\n",
      "[[ 1.00000306  0.57229839  0.40249898  0.14686045  0.33060907  0.02559309]\n",
      " [ 0.57229839  1.00000216  0.23040057 -0.15672838  0.17856998 -0.01448272]\n",
      " [ 0.40249898  0.23040057  1.0000001  -0.13827428  0.42457114 -0.05453867]\n",
      " [ 0.14686045 -0.15672838 -0.13827428  0.39147488  0.14673523  0.17770944]\n",
      " [ 0.33060907  0.17856998  0.42457114  0.14673523  0.60665605  0.01355457]\n",
      " [ 0.02559309 -0.01448272 -0.05453867  0.17770944  0.01355457  0.5985741 ]]\n",
      "Step: 6: current parameter_diff: 20.76945665997274, current marginal loglikelihood: -135.38765923684542\n",
      "EM Iteration 7\n"
     ]
    },
    {
     "name": "stderr",
     "output_type": "stream",
     "text": [
      "c:\\Users\\Jesper\\Anaconda3\\lib\\site-packages\\scipy\\stats\\_qmc.py:2039: UserWarning: The balance properties of Sobol' points require n to be a power of 2.\n",
      "  samples = self.engine.random(n)\n"
     ]
    },
    {
     "name": "stdout",
     "output_type": "stream",
     "text": [
      "Current Monte Carlo Sample size: 877\n",
      "[[ 1.00000347  0.57229926  0.40249886  0.14685695  0.33066334  0.02543572]\n",
      " [ 0.57229926  0.99999949  0.2304003  -0.15661237  0.17858295 -0.01443677]\n",
      " [ 0.40249886  0.2304003   0.99999855 -0.13815997  0.42452168 -0.05449711]\n",
      " [ 0.14685695 -0.15661237 -0.13815997  0.39148095  0.14673823  0.17771364]\n",
      " [ 0.33066334  0.17858295  0.42452168  0.14673823  0.60663323  0.01346192]\n",
      " [ 0.02543572 -0.01443677 -0.05449711  0.17771364  0.01346192  0.59849221]]\n",
      "Step: 7: current parameter_diff: 21.204000142311973, current marginal loglikelihood: -133.54570693567365\n",
      "EM Iteration 8\n"
     ]
    },
    {
     "name": "stderr",
     "output_type": "stream",
     "text": [
      "c:\\Users\\Jesper\\Anaconda3\\lib\\site-packages\\scipy\\stats\\_qmc.py:2039: UserWarning: The balance properties of Sobol' points require n to be a power of 2.\n",
      "  samples = self.engine.random(n)\n"
     ]
    },
    {
     "name": "stdout",
     "output_type": "stream",
     "text": [
      "Current Monte Carlo Sample size: 964\n",
      "[[ 0.99999937  0.57229823  0.40249857  0.14686106  0.33064356  0.02527437]\n",
      " [ 0.57229823  1.0000054   0.23039982 -0.15652817  0.17857398 -0.01449048]\n",
      " [ 0.40249857  0.23039982  1.00000126 -0.13808379  0.42453384 -0.05445499]\n",
      " [ 0.14686106 -0.15652817 -0.13808379  0.39147783  0.14672984  0.17770445]\n",
      " [ 0.33064356  0.17857398  0.42453384  0.14672984  0.60664206  0.01330795]\n",
      " [ 0.02527437 -0.01449048 -0.05445499  0.17770445  0.01330795  0.59840387]]\n",
      "Step: 8: current parameter_diff: 32.569859716451674, current marginal loglikelihood: -134.2385144961984\n",
      "EM Iteration 9\n"
     ]
    },
    {
     "name": "stderr",
     "output_type": "stream",
     "text": [
      "c:\\Users\\Jesper\\Anaconda3\\lib\\site-packages\\scipy\\stats\\_qmc.py:2039: UserWarning: The balance properties of Sobol' points require n to be a power of 2.\n",
      "  samples = self.engine.random(n)\n"
     ]
    },
    {
     "name": "stdout",
     "output_type": "stream",
     "text": [
      "Current Monte Carlo Sample size: 1060\n",
      "[[ 1.00000121  0.57230052  0.4025042   0.14685864  0.33064591  0.02501   ]\n",
      " [ 0.57230052  1.00000755  0.23040126 -0.15645583  0.17861661 -0.01457102]\n",
      " [ 0.4025042   0.23040126  1.00000116 -0.13802322  0.42444138 -0.05444426]\n",
      " [ 0.14685864 -0.15645583 -0.13802322  0.39148662  0.14670979  0.17769041]\n",
      " [ 0.33064591  0.17861661  0.42444138  0.14670979  0.60656544  0.01320837]\n",
      " [ 0.02501    -0.01457102 -0.05444426  0.17769041  0.01320837  0.59837877]]\n",
      "Step: 9: current parameter_diff: 26.501385595004457, current marginal loglikelihood: -134.44847762638855\n",
      "EM Iteration 10\n"
     ]
    },
    {
     "name": "stderr",
     "output_type": "stream",
     "text": [
      "c:\\Users\\Jesper\\Anaconda3\\lib\\site-packages\\scipy\\stats\\_qmc.py:2039: UserWarning: The balance properties of Sobol' points require n to be a power of 2.\n",
      "  samples = self.engine.random(n)\n"
     ]
    },
    {
     "name": "stdout",
     "output_type": "stream",
     "text": [
      "Current Monte Carlo Sample size: 1166\n",
      "[[ 1.00000306  0.57229673  0.40249704  0.14687807  0.33061751  0.02493923]\n",
      " [ 0.57229673  1.00000166  0.23040091 -0.15635371  0.17864296 -0.01455894]\n",
      " [ 0.40249704  0.23040091  1.00000501 -0.137984    0.42438646 -0.05440791]\n",
      " [ 0.14687807 -0.15635371 -0.137984    0.3914439   0.14672586  0.17759609]\n",
      " [ 0.33061751  0.17864296  0.42438646  0.14672586  0.60650946  0.01316341]\n",
      " [ 0.02493923 -0.01455894 -0.05440791  0.17759609  0.01316341  0.59830092]]\n",
      "Step: 10: current parameter_diff: 20.200397347414018, current marginal loglikelihood: -133.19799962627408\n",
      "EM Iteration 11\n"
     ]
    },
    {
     "name": "stderr",
     "output_type": "stream",
     "text": [
      "c:\\Users\\Jesper\\Anaconda3\\lib\\site-packages\\scipy\\stats\\_qmc.py:2039: UserWarning: The balance properties of Sobol' points require n to be a power of 2.\n",
      "  samples = self.engine.random(n)\n"
     ]
    },
    {
     "name": "stdout",
     "output_type": "stream",
     "text": [
      "Current Monte Carlo Sample size: 1282\n",
      "[[ 0.99999801  0.57230274  0.40250255  0.14685132  0.33061449  0.0247402 ]\n",
      " [ 0.57230274  1.00000082  0.23040214 -0.15622261  0.178667   -0.01462815]\n",
      " [ 0.40250255  0.23040214  1.00000935 -0.13788937  0.42425499 -0.05440748]\n",
      " [ 0.14685132 -0.15622261 -0.13788937  0.3915001   0.1467208   0.17749679]\n",
      " [ 0.33061449  0.178667    0.42425499  0.1467208   0.60646141  0.01300553]\n",
      " [ 0.0247402  -0.01462815 -0.05440748  0.17749679  0.01300553  0.59829515]]\n",
      "Step: 11: current parameter_diff: 22.82503912505582, current marginal loglikelihood: -133.8751376598947\n",
      "EM Iteration 12\n"
     ]
    },
    {
     "name": "stderr",
     "output_type": "stream",
     "text": [
      "c:\\Users\\Jesper\\Anaconda3\\lib\\site-packages\\scipy\\stats\\_qmc.py:2039: UserWarning: The balance properties of Sobol' points require n to be a power of 2.\n",
      "  samples = self.engine.random(n)\n"
     ]
    },
    {
     "name": "stdout",
     "output_type": "stream",
     "text": [
      "Current Monte Carlo Sample size: 1282\n",
      "[[ 1.00001852  0.57229765  0.40249619  0.14682886  0.33065434  0.02458709]\n",
      " [ 0.57229765  1.00000255  0.23040051 -0.15621686  0.1786942  -0.01472954]\n",
      " [ 0.40249619  0.23040051  0.99999801 -0.13785293  0.42414781 -0.05436087]\n",
      " [ 0.14682886 -0.15621686 -0.13785293  0.39153268  0.14667581  0.17737232]\n",
      " [ 0.33065434  0.1786942   0.42414781  0.14667581  0.60641567  0.01294162]\n",
      " [ 0.02458709 -0.01472954 -0.05436087  0.17737232  0.01294162  0.59822284]]\n",
      "Step: 12: current parameter_diff: 10.828982318434754, current marginal loglikelihood: -134.13059999004457\n",
      "EM Iteration 13\n"
     ]
    },
    {
     "name": "stderr",
     "output_type": "stream",
     "text": [
      "c:\\Users\\Jesper\\Anaconda3\\lib\\site-packages\\scipy\\stats\\_qmc.py:2039: UserWarning: The balance properties of Sobol' points require n to be a power of 2.\n",
      "  samples = self.engine.random(n)\n"
     ]
    },
    {
     "name": "stdout",
     "output_type": "stream",
     "text": [
      "Current Monte Carlo Sample size: 1410\n",
      "[[ 0.99999976  0.57230224  0.40250583  0.14681393  0.33064189  0.02431615]\n",
      " [ 0.57230224  1.00000202  0.23040075 -0.15614507  0.17869782 -0.01483707]\n",
      " [ 0.40250583  0.23040075  0.99999785 -0.13781115  0.42410105 -0.05435675]\n",
      " [ 0.14681393 -0.15614507 -0.13781115  0.39158007  0.14660481  0.17729289]\n",
      " [ 0.33064189  0.17869782  0.42410105  0.14660481  0.60640505  0.01278087]\n",
      " [ 0.02431615 -0.01483707 -0.05435675  0.17729289  0.01278087  0.59820403]]\n",
      "Step: 13: current parameter_diff: 13.940115404163036, current marginal loglikelihood: -132.4290540154803\n",
      "EM Iteration 14\n"
     ]
    },
    {
     "name": "stderr",
     "output_type": "stream",
     "text": [
      "c:\\Users\\Jesper\\Anaconda3\\lib\\site-packages\\scipy\\stats\\_qmc.py:2039: UserWarning: The balance properties of Sobol' points require n to be a power of 2.\n",
      "  samples = self.engine.random(n)\n"
     ]
    },
    {
     "name": "stdout",
     "output_type": "stream",
     "text": [
      "Current Monte Carlo Sample size: 1410\n",
      "[[ 1.0000013   0.5722947   0.40249131  0.14683674  0.33064009  0.02410342]\n",
      " [ 0.5722947   1.00000931  0.23040238 -0.15611304  0.17868672 -0.01498515]\n",
      " [ 0.40249131  0.23040238  1.00001314 -0.13786323  0.42406787 -0.05437432]\n",
      " [ 0.14683674 -0.15611304 -0.13786323  0.39153345  0.14658038  0.17716669]\n",
      " [ 0.33064009  0.17868672  0.42406787  0.14658038  0.60641218  0.0125733 ]\n",
      " [ 0.02410342 -0.01498515 -0.05437432  0.17716669  0.0125733   0.59821891]]\n",
      "Step: 14: current parameter_diff: 20.156263328634136, current marginal loglikelihood: -132.56807237378732\n",
      "EM Iteration 15\n"
     ]
    },
    {
     "name": "stderr",
     "output_type": "stream",
     "text": [
      "c:\\Users\\Jesper\\Anaconda3\\lib\\site-packages\\scipy\\stats\\_qmc.py:2039: UserWarning: The balance properties of Sobol' points require n to be a power of 2.\n",
      "  samples = self.engine.random(n)\n"
     ]
    },
    {
     "name": "stdout",
     "output_type": "stream",
     "text": [
      "Current Monte Carlo Sample size: 1410\n",
      "[[ 1.0000014   0.57229682  0.40249863  0.14680963  0.33063919  0.02390918]\n",
      " [ 0.57229682  1.00000886  0.23039759 -0.15604948  0.1786953  -0.01505215]\n",
      " [ 0.40249863  0.23039759  1.00000141 -0.13781575  0.42396455 -0.05434938]\n",
      " [ 0.14680963 -0.15604948 -0.13781575  0.39157903  0.14649948  0.17708998]\n",
      " [ 0.33063919  0.1786953   0.42396455  0.14649948  0.60639391  0.01238316]\n",
      " [ 0.02390918 -0.01505215 -0.05434938  0.17708998  0.01238316  0.59818096]]\n",
      "Step: 15: current parameter_diff: 20.805338171054363, current marginal loglikelihood: -132.38275961993068\n",
      "EM Iteration 16\n"
     ]
    },
    {
     "name": "stderr",
     "output_type": "stream",
     "text": [
      "c:\\Users\\Jesper\\Anaconda3\\lib\\site-packages\\scipy\\stats\\_qmc.py:2039: UserWarning: The balance properties of Sobol' points require n to be a power of 2.\n",
      "  samples = self.engine.random(n)\n"
     ]
    },
    {
     "name": "stdout",
     "output_type": "stream",
     "text": [
      "Current Monte Carlo Sample size: 1410\n",
      "[[ 1.00000363  0.57230138  0.40249626  0.14681063  0.33063997  0.02368155]\n",
      " [ 0.57230138  1.0000087   0.23039844 -0.15596056  0.17875732 -0.01518699]\n",
      " [ 0.40249626  0.23039844  1.00001192 -0.13783463  0.42384075 -0.0543127 ]\n",
      " [ 0.14681063 -0.15596056 -0.13783463  0.39157686  0.1463935   0.17698055]\n",
      " [ 0.33063997  0.17875732  0.42384075  0.1463935   0.60627784  0.01220054]\n",
      " [ 0.02368155 -0.01518699 -0.0543127   0.17698055  0.01220054  0.59809439]]\n",
      "Step: 16: current parameter_diff: 18.36168151473514, current marginal loglikelihood: -132.68684519654283\n"
     ]
    },
    {
     "name": "stderr",
     "output_type": "stream",
     "text": [
      "C:\\Users\\Jesper\\Documents\\GitHub\\Knowledge-Growth-Prediction\\models\\mirt_2pl.py:126: RuntimeWarning: overflow encountered in exp\n",
      "  np.divide(1, np.add(1, np.exp(np.multiply(-1, linear_predictor)))))\n",
      "c:\\Users\\Jesper\\Documents\\GitHub\\Knowledge-Growth-Prediction\\models\\mirt_2pl_gain.py:448: RuntimeWarning: divide by zero encountered in log\n",
      "  (1-answer_vector), np.log(1-ICC_values + np.float64(1.7976931348623157e-309))) + np.log(latent_density)\n",
      "c:\\Users\\Jesper\\Anaconda3\\lib\\site-packages\\scipy\\optimize\\_numdiff.py:576: RuntimeWarning: invalid value encountered in subtract\n",
      "  df = fun(x) - f0\n",
      "C:\\Users\\Jesper\\Documents\\GitHub\\Knowledge-Growth-Prediction\\models\\mirt_2pl.py:126: RuntimeWarning: overflow encountered in exp\n",
      "  np.divide(1, np.add(1, np.exp(np.multiply(-1, linear_predictor)))))\n",
      "c:\\Users\\Jesper\\Documents\\GitHub\\Knowledge-Growth-Prediction\\models\\mirt_2pl_gain.py:448: RuntimeWarning: divide by zero encountered in log\n",
      "  (1-answer_vector), np.log(1-ICC_values + np.float64(1.7976931348623157e-309))) + np.log(latent_density)\n",
      "C:\\Users\\Jesper\\Documents\\GitHub\\Knowledge-Growth-Prediction\\models\\mirt_2pl.py:126: RuntimeWarning: overflow encountered in exp\n",
      "  np.divide(1, np.add(1, np.exp(np.multiply(-1, linear_predictor)))))\n",
      "c:\\Users\\Jesper\\Documents\\GitHub\\Knowledge-Growth-Prediction\\models\\mirt_2pl_gain.py:448: RuntimeWarning: divide by zero encountered in log\n",
      "  (1-answer_vector), np.log(1-ICC_values + np.float64(1.7976931348623157e-309))) + np.log(latent_density)\n",
      "c:\\Users\\Jesper\\Anaconda3\\lib\\site-packages\\scipy\\optimize\\_numdiff.py:576: RuntimeWarning: invalid value encountered in subtract\n",
      "  df = fun(x) - f0\n",
      "C:\\Users\\Jesper\\Documents\\GitHub\\Knowledge-Growth-Prediction\\models\\mirt_2pl.py:126: RuntimeWarning: overflow encountered in exp\n",
      "  np.divide(1, np.add(1, np.exp(np.multiply(-1, linear_predictor)))))\n",
      "c:\\Users\\Jesper\\Documents\\GitHub\\Knowledge-Growth-Prediction\\models\\mirt_2pl_gain.py:448: RuntimeWarning: divide by zero encountered in log\n",
      "  (1-answer_vector), np.log(1-ICC_values + np.float64(1.7976931348623157e-309))) + np.log(latent_density)\n"
     ]
    },
    {
     "name": "stdout",
     "output_type": "stream",
     "text": [
      "Absolute diff in A:\n",
      "[[ 0.          0.          2.444295  ]\n",
      " [ 0.          3.66968814  0.        ]\n",
      " [ 0.         11.23040514  2.70194577]\n",
      " [ 0.          0.74422588  2.16967742]\n",
      " [ 5.01691428  0.78399527  1.6587256 ]\n",
      " [ 1.12718616  0.          0.        ]\n",
      " [ 1.50264912  0.          0.63348522]\n",
      " [10.70510232  3.17864057  0.        ]\n",
      " [ 1.36511645  0.28601655  0.05452828]\n",
      " [ 2.77997921  4.75594921  1.97006825]]\n",
      "Absolute diff in delta:\n",
      "[0.42297062 1.39917279 0.90275476 1.89858283 0.50890223 1.12589256\n",
      " 1.17984284 0.67234343 0.48898562 2.88691275]\n",
      "Absolute diff in sigma:\n",
      "[[0.     0.0126 0.1167]\n",
      " [0.0126 0.     0.1413]\n",
      " [0.1167 0.1413 0.    ]]\n",
      "Absolute diff in A:\n",
      "[[ 1.28483057  1.041739    0.67001151]\n",
      " [ 7.70196794 14.97031959 15.88940114]\n",
      " [ 2.4648661   0.67451172 19.49504662]\n",
      " [ 0.75065665  2.69620281  0.80592528]\n",
      " [ 5.04916651 27.61928279 14.88299188]\n",
      " [ 3.26742934  0.33125936  1.51529927]\n",
      " [ 3.30496921  1.90697099  1.44000381]\n",
      " [ 7.93384904 14.37823722 28.51556472]\n",
      " [ 2.21104407 14.42074069 19.30160845]\n",
      " [ 8.50151291 16.27736457 15.80070061]]\n",
      "Absolute diff in delta:\n",
      "[ 0.29253515  3.62609938 16.514027    0.2617272   1.46429624  1.73100897\n",
      "  4.39653437  7.74627185 23.65195137  8.97409237]\n",
      "Discrimination Matrix:\n",
      "[[ 0.          0.          5.87635679]\n",
      " [ 0.          2.23516286  0.        ]\n",
      " [ 0.         12.56351952  0.        ]\n",
      " [ 0.          0.89077227  5.03714975]\n",
      " [ 5.01691428  0.          0.        ]\n",
      " [ 1.56953569  0.          0.        ]\n",
      " [ 3.81479613  0.          3.42938708]\n",
      " [15.0238265   3.20805304  0.        ]\n",
      " [ 1.44327851  3.90337711  0.        ]\n",
      " [ 3.06814461  7.72630015  1.11041808]]\n",
      "Q-Matrix:\n",
      "[[0 0 1]\n",
      " [0 1 0]\n",
      " [0 1 1]\n",
      " [0 1 1]\n",
      " [0 1 1]\n",
      " [1 0 0]\n",
      " [1 0 1]\n",
      " [1 1 0]\n",
      " [1 1 1]\n",
      " [1 1 1]]\n",
      "Exception occured\n",
      "Discriminations (A) do not match to Constraints (Q)\n",
      "Real latent covariance: [[ 1.      0.1841  0.0653 -0.2678 -0.1052  0.3166]\n",
      " [ 0.1841  1.      0.012  -0.2414 -0.1255 -0.418 ]\n",
      " [ 0.0653  0.012   1.     -0.306  -0.1592 -0.3474]\n",
      " [-0.2678 -0.2414 -0.306   0.6254  0.2504  0.0481]\n",
      " [-0.1052 -0.1255 -0.1592  0.2504  0.5     0.0984]\n",
      " [ 0.3166 -0.418  -0.3474  0.0481  0.0984  0.5383]]\n",
      "Start late EM\n",
      "Covariance matrix is good: True\n",
      "EM Iteration 2\n",
      "Current Monte Carlo Sample size: 600\n",
      "[[1.         0.50326339 0.46594002]\n",
      " [0.50326339 1.         0.4796391 ]\n",
      " [0.46594002 0.4796391  1.        ]]\n"
     ]
    },
    {
     "name": "stderr",
     "output_type": "stream",
     "text": [
      "c:\\Users\\Jesper\\Anaconda3\\lib\\site-packages\\scipy\\stats\\_qmc.py:2039: UserWarning: The balance properties of Sobol' points require n to be a power of 2.\n",
      "  samples = self.engine.random(n)\n"
     ]
    },
    {
     "name": "stdout",
     "output_type": "stream",
     "text": [
      "Step: 2: current parameter_diff: 51.48437177508369, current marginal loglikelihood: -212.09181005767294\n",
      "EM Iteration 3\n",
      "Current Monte Carlo Sample size: 600\n",
      "[[1.         0.5004848  0.45467906]\n",
      " [0.5004848  1.         0.46967428]\n",
      " [0.45467906 0.46967428 1.        ]]\n"
     ]
    },
    {
     "name": "stderr",
     "output_type": "stream",
     "text": [
      "c:\\Users\\Jesper\\Anaconda3\\lib\\site-packages\\scipy\\stats\\_qmc.py:2039: UserWarning: The balance properties of Sobol' points require n to be a power of 2.\n",
      "  samples = self.engine.random(n)\n"
     ]
    },
    {
     "name": "stdout",
     "output_type": "stream",
     "text": [
      "Step: 3: current parameter_diff: 59.24660330492543, current marginal loglikelihood: -201.75647706589882\n",
      "EM Iteration 4\n",
      "Current Monte Carlo Sample size: 660\n",
      "[[1.         0.51644171 0.43124355]\n",
      " [0.51644171 1.         0.43431605]\n",
      " [0.43124355 0.43431605 1.        ]]\n"
     ]
    },
    {
     "name": "stderr",
     "output_type": "stream",
     "text": [
      "c:\\Users\\Jesper\\Anaconda3\\lib\\site-packages\\scipy\\stats\\_qmc.py:2039: UserWarning: The balance properties of Sobol' points require n to be a power of 2.\n",
      "  samples = self.engine.random(n)\n"
     ]
    },
    {
     "name": "stdout",
     "output_type": "stream",
     "text": [
      "Step: 4: current parameter_diff: 42.15267202111099, current marginal loglikelihood: -196.78306218815746\n",
      "EM Iteration 5\n",
      "Current Monte Carlo Sample size: 726\n",
      "[[1.         0.5177054  0.43207365]\n",
      " [0.5177054  1.         0.39696267]\n",
      " [0.43207365 0.39696267 1.        ]]\n"
     ]
    },
    {
     "name": "stderr",
     "output_type": "stream",
     "text": [
      "c:\\Users\\Jesper\\Anaconda3\\lib\\site-packages\\scipy\\stats\\_qmc.py:2039: UserWarning: The balance properties of Sobol' points require n to be a power of 2.\n",
      "  samples = self.engine.random(n)\n"
     ]
    },
    {
     "name": "stdout",
     "output_type": "stream",
     "text": [
      "Step: 5: current parameter_diff: 40.52057750080698, current marginal loglikelihood: -194.07073185948457\n",
      "EM Iteration 6\n",
      "Current Monte Carlo Sample size: 798\n",
      "[[1.         0.50841734 0.37500474]\n",
      " [0.50841734 1.         0.39299758]\n",
      " [0.37500474 0.39299758 1.        ]]\n"
     ]
    },
    {
     "name": "stderr",
     "output_type": "stream",
     "text": [
      "c:\\Users\\Jesper\\Anaconda3\\lib\\site-packages\\scipy\\stats\\_qmc.py:2039: UserWarning: The balance properties of Sobol' points require n to be a power of 2.\n",
      "  samples = self.engine.random(n)\n"
     ]
    },
    {
     "name": "stdout",
     "output_type": "stream",
     "text": [
      "Step: 6: current parameter_diff: 30.348631680824614, current marginal loglikelihood: -193.0923928868274\n",
      "EM Iteration 7\n",
      "Current Monte Carlo Sample size: 877\n",
      "[[1.         0.50689441 0.37822021]\n",
      " [0.50689441 1.         0.37718347]\n",
      " [0.37822021 0.37718347 1.        ]]\n"
     ]
    },
    {
     "name": "stderr",
     "output_type": "stream",
     "text": [
      "c:\\Users\\Jesper\\Anaconda3\\lib\\site-packages\\scipy\\stats\\_qmc.py:2039: UserWarning: The balance properties of Sobol' points require n to be a power of 2.\n",
      "  samples = self.engine.random(n)\n"
     ]
    },
    {
     "name": "stdout",
     "output_type": "stream",
     "text": [
      "Step: 7: current parameter_diff: 22.74173611512502, current marginal loglikelihood: -192.31286475144032\n",
      "EM Iteration 8\n",
      "Current Monte Carlo Sample size: 877\n",
      "[[1.         0.50086855 0.36187804]\n",
      " [0.50086855 1.         0.37727306]\n",
      " [0.36187804 0.37727306 1.        ]]\n"
     ]
    },
    {
     "name": "stderr",
     "output_type": "stream",
     "text": [
      "c:\\Users\\Jesper\\Anaconda3\\lib\\site-packages\\scipy\\stats\\_qmc.py:2039: UserWarning: The balance properties of Sobol' points require n to be a power of 2.\n",
      "  samples = self.engine.random(n)\n"
     ]
    },
    {
     "name": "stdout",
     "output_type": "stream",
     "text": [
      "Step: 8: current parameter_diff: 31.443689711548526, current marginal loglikelihood: -194.0791711709855\n",
      "EM Iteration 9\n",
      "Current Monte Carlo Sample size: 964\n",
      "[[1.         0.49929011 0.31945565]\n",
      " [0.49929011 1.         0.40940225]\n",
      " [0.31945565 0.40940225 1.        ]]\n"
     ]
    },
    {
     "name": "stderr",
     "output_type": "stream",
     "text": [
      "c:\\Users\\Jesper\\Anaconda3\\lib\\site-packages\\scipy\\stats\\_qmc.py:2039: UserWarning: The balance properties of Sobol' points require n to be a power of 2.\n",
      "  samples = self.engine.random(n)\n"
     ]
    },
    {
     "name": "stdout",
     "output_type": "stream",
     "text": [
      "Step: 9: current parameter_diff: 24.46751056580926, current marginal loglikelihood: -192.55584139140953\n",
      "EM Iteration 10\n",
      "Current Monte Carlo Sample size: 1060\n",
      "[[1.         0.50516162 0.31809616]\n",
      " [0.50516162 1.         0.35162474]\n",
      " [0.31809616 0.35162474 1.        ]]\n"
     ]
    },
    {
     "name": "stderr",
     "output_type": "stream",
     "text": [
      "c:\\Users\\Jesper\\Anaconda3\\lib\\site-packages\\scipy\\stats\\_qmc.py:2039: UserWarning: The balance properties of Sobol' points require n to be a power of 2.\n",
      "  samples = self.engine.random(n)\n"
     ]
    },
    {
     "name": "stdout",
     "output_type": "stream",
     "text": [
      "Step: 10: current parameter_diff: 25.42982403622748, current marginal loglikelihood: -191.68435099604994\n",
      "EM Iteration 11\n",
      "Current Monte Carlo Sample size: 1166\n",
      "[[1.         0.4835226  0.33054595]\n",
      " [0.4835226  1.         0.29216925]\n",
      " [0.33054595 0.29216925 1.        ]]\n",
      "Step: 11: current parameter_diff: 17.22498102094651, current marginal loglikelihood: -191.60349897437578\n",
      "EM Iteration 12\n",
      "Current Monte Carlo Sample size: 1166\n"
     ]
    },
    {
     "name": "stderr",
     "output_type": "stream",
     "text": [
      "c:\\Users\\Jesper\\Anaconda3\\lib\\site-packages\\scipy\\stats\\_qmc.py:2039: UserWarning: The balance properties of Sobol' points require n to be a power of 2.\n",
      "  samples = self.engine.random(n)\n"
     ]
    },
    {
     "name": "stdout",
     "output_type": "stream",
     "text": [
      "[[1.         0.49403807 0.3082345 ]\n",
      " [0.49403807 1.         0.31593417]\n",
      " [0.3082345  0.31593417 1.        ]]\n",
      "Step: 12: current parameter_diff: 18.119466905932104, current marginal loglikelihood: -191.85177513022873\n"
     ]
    },
    {
     "name": "stderr",
     "output_type": "stream",
     "text": [
      "c:\\Users\\Jesper\\Documents\\GitHub\\Knowledge-Growth-Prediction\\models\\mirt_2pl.py:126: RuntimeWarning: overflow encountered in exp\n",
      "  np.divide(1, np.add(1, np.exp(np.multiply(-1, linear_predictor)))))\n",
      "c:\\Users\\Jesper\\Documents\\GitHub\\Knowledge-Growth-Prediction\\models\\mirt_2pl.py:291: RuntimeWarning: divide by zero encountered in log\n",
      "  (1-answer_vector), np.log(1-ICC_values + np.float64(1.7976931348623157e-309))) + np.log(latent_density)\n",
      "c:\\Users\\Jesper\\Anaconda3\\lib\\site-packages\\scipy\\optimize\\_numdiff.py:576: RuntimeWarning: invalid value encountered in subtract\n",
      "  df = fun(x) - f0\n",
      "c:\\Users\\Jesper\\Documents\\GitHub\\Knowledge-Growth-Prediction\\models\\mirt_2pl.py:126: RuntimeWarning: overflow encountered in exp\n",
      "  np.divide(1, np.add(1, np.exp(np.multiply(-1, linear_predictor)))))\n",
      "c:\\Users\\Jesper\\Documents\\GitHub\\Knowledge-Growth-Prediction\\models\\mirt_2pl.py:291: RuntimeWarning: divide by zero encountered in log\n",
      "  (1-answer_vector), np.log(1-ICC_values + np.float64(1.7976931348623157e-309))) + np.log(latent_density)\n",
      "c:\\Users\\Jesper\\Anaconda3\\lib\\site-packages\\scipy\\stats\\_qmc.py:2039: UserWarning: The balance properties of Sobol' points require n to be a power of 2.\n",
      "  samples = self.engine.random(n)\n"
     ]
    },
    {
     "name": "stdout",
     "output_type": "stream",
     "text": [
      "EM Iteration 2\n",
      "Current Monte Carlo Sample size: 600\n",
      "[[ 1.00000021  0.49400006  0.30820018 -0.15335689 -0.06476046  0.00293191]\n",
      " [ 0.49400006  0.99990012  0.3159     -0.05225084 -0.12104358 -0.03431295]\n",
      " [ 0.30820018  0.3159      1.00000039 -0.01890599  0.08505644 -0.24226117]\n",
      " [-0.15335689 -0.05225084 -0.01890599  0.3965138   0.1650093   0.03182996]\n",
      " [-0.06476046 -0.12104358  0.08505644  0.1650093   0.4911869   0.02049846]\n",
      " [ 0.00293191 -0.03431295 -0.24226117  0.03182996  0.02049846  0.32802135]]\n"
     ]
    },
    {
     "name": "stderr",
     "output_type": "stream",
     "text": [
      "c:\\Users\\Jesper\\Documents\\GitHub\\Knowledge-Growth-Prediction\\em_algorithm\\em_algorithm.py:97: RuntimeWarning: invalid value encountered in subtract\n",
      "  np.abs(current_parameters_flat-last_parameters_flat))\n",
      "c:\\Users\\Jesper\\Documents\\GitHub\\Knowledge-Growth-Prediction\\em_algorithm\\em_algorithm.py:99: RuntimeWarning: invalid value encountered in subtract\n",
      "  current_parameters_flat-last_parameters_flat)\n",
      "c:\\Users\\Jesper\\Anaconda3\\lib\\site-packages\\scipy\\stats\\_qmc.py:2039: UserWarning: The balance properties of Sobol' points require n to be a power of 2.\n",
      "  samples = self.engine.random(n)\n"
     ]
    },
    {
     "name": "stdout",
     "output_type": "stream",
     "text": [
      "Step: 2: current parameter_diff: nan, current marginal loglikelihood: -267.02951423102223\n",
      "Exception occured\n",
      "Likelihood diverged\n",
      "Real latent covariance: [[ 1.      0.      0.1179 -0.0908 -0.5046 -0.1951]\n",
      " [ 0.      1.      0.344  -0.544  -0.488  -0.1429]\n",
      " [ 0.1179  0.344   1.     -0.0065 -0.658   0.3186]\n",
      " [-0.0908 -0.544  -0.0065  0.5     0.2388  0.3957]\n",
      " [-0.5046 -0.488  -0.658   0.2388  0.7478  0.0696]\n",
      " [-0.1951 -0.1429  0.3186  0.3957  0.0696  0.8132]]\n",
      "Start late EM\n",
      "Covariance matrix is good: True\n",
      "EM Iteration 2\n",
      "Current Monte Carlo Sample size: 600\n",
      "[[1.         0.51858197 0.52007935]\n",
      " [0.51858197 1.         0.55444579]\n",
      " [0.52007935 0.55444579 1.        ]]\n",
      "Step: 2: current parameter_diff: 7.8951985406109415, current marginal loglikelihood: -560.1445667402069\n",
      "EM Iteration 3\n",
      "Current Monte Carlo Sample size: 660\n",
      "[[1.         0.54077603 0.52181906]\n",
      " [0.54077603 1.         0.65237218]\n",
      " [0.52181906 0.65237218 1.        ]]\n"
     ]
    },
    {
     "name": "stderr",
     "output_type": "stream",
     "text": [
      "c:\\Users\\Jesper\\Anaconda3\\lib\\site-packages\\scipy\\stats\\_qmc.py:2039: UserWarning: The balance properties of Sobol' points require n to be a power of 2.\n",
      "  samples = self.engine.random(n)\n"
     ]
    },
    {
     "name": "stdout",
     "output_type": "stream",
     "text": [
      "Step: 3: current parameter_diff: 6.442622046843472, current marginal loglikelihood: -541.7075374101605\n",
      "EM Iteration 4\n",
      "Current Monte Carlo Sample size: 726\n",
      "[[1.         0.559039   0.4978599 ]\n",
      " [0.559039   1.         0.69377464]\n",
      " [0.4978599  0.69377464 1.        ]]\n"
     ]
    },
    {
     "name": "stderr",
     "output_type": "stream",
     "text": [
      "c:\\Users\\Jesper\\Anaconda3\\lib\\site-packages\\scipy\\stats\\_qmc.py:2039: UserWarning: The balance properties of Sobol' points require n to be a power of 2.\n",
      "  samples = self.engine.random(n)\n"
     ]
    },
    {
     "name": "stdout",
     "output_type": "stream",
     "text": [
      "Step: 4: current parameter_diff: 7.20228255805184, current marginal loglikelihood: -533.3153091941799\n",
      "EM Iteration 5\n",
      "Current Monte Carlo Sample size: 798\n",
      "[[1.         0.57173876 0.48651961]\n",
      " [0.57173876 1.         0.72123035]\n",
      " [0.48651961 0.72123035 1.        ]]\n"
     ]
    },
    {
     "name": "stderr",
     "output_type": "stream",
     "text": [
      "c:\\Users\\Jesper\\Anaconda3\\lib\\site-packages\\scipy\\stats\\_qmc.py:2039: UserWarning: The balance properties of Sobol' points require n to be a power of 2.\n",
      "  samples = self.engine.random(n)\n"
     ]
    },
    {
     "name": "stdout",
     "output_type": "stream",
     "text": [
      "Step: 5: current parameter_diff: 5.874088836604796, current marginal loglikelihood: -528.3149796244469\n",
      "EM Iteration 6\n",
      "Current Monte Carlo Sample size: 877\n",
      "[[1.         0.57515543 0.48094869]\n",
      " [0.57515543 1.         0.74150842]\n",
      " [0.48094869 0.74150842 1.        ]]\n"
     ]
    },
    {
     "name": "stderr",
     "output_type": "stream",
     "text": [
      "c:\\Users\\Jesper\\Anaconda3\\lib\\site-packages\\scipy\\stats\\_qmc.py:2039: UserWarning: The balance properties of Sobol' points require n to be a power of 2.\n",
      "  samples = self.engine.random(n)\n"
     ]
    },
    {
     "name": "stdout",
     "output_type": "stream",
     "text": [
      "Step: 6: current parameter_diff: 3.0279530959558807, current marginal loglikelihood: -527.0687113879808\n",
      "EM Iteration 7\n",
      "Current Monte Carlo Sample size: 877\n",
      "[[1.         0.58208862 0.47348749]\n",
      " [0.58208862 1.         0.75970991]\n",
      " [0.47348749 0.75970991 1.        ]]\n"
     ]
    },
    {
     "name": "stderr",
     "output_type": "stream",
     "text": [
      "c:\\Users\\Jesper\\Anaconda3\\lib\\site-packages\\scipy\\stats\\_qmc.py:2039: UserWarning: The balance properties of Sobol' points require n to be a power of 2.\n",
      "  samples = self.engine.random(n)\n"
     ]
    },
    {
     "name": "stdout",
     "output_type": "stream",
     "text": [
      "Step: 7: current parameter_diff: 2.0993960369202656, current marginal loglikelihood: -523.0365930235322\n",
      "EM Iteration 8\n",
      "Current Monte Carlo Sample size: 964\n",
      "[[1.         0.58730443 0.47035322]\n",
      " [0.58730443 1.         0.77212365]\n",
      " [0.47035322 0.77212365 1.        ]]\n"
     ]
    },
    {
     "name": "stderr",
     "output_type": "stream",
     "text": [
      "c:\\Users\\Jesper\\Anaconda3\\lib\\site-packages\\scipy\\stats\\_qmc.py:2039: UserWarning: The balance properties of Sobol' points require n to be a power of 2.\n",
      "  samples = self.engine.random(n)\n"
     ]
    },
    {
     "name": "stdout",
     "output_type": "stream",
     "text": [
      "Step: 8: current parameter_diff: 1.2590254295622854, current marginal loglikelihood: -524.4350986194019\n",
      "EM Iteration 9\n",
      "Current Monte Carlo Sample size: 1060\n",
      "[[1.         0.59049428 0.47273953]\n",
      " [0.59049428 1.         0.77883502]\n",
      " [0.47273953 0.77883502 1.        ]]\n"
     ]
    },
    {
     "name": "stderr",
     "output_type": "stream",
     "text": [
      "c:\\Users\\Jesper\\Anaconda3\\lib\\site-packages\\scipy\\stats\\_qmc.py:2039: UserWarning: The balance properties of Sobol' points require n to be a power of 2.\n",
      "  samples = self.engine.random(n)\n"
     ]
    },
    {
     "name": "stdout",
     "output_type": "stream",
     "text": [
      "Step: 9: current parameter_diff: 1.7072335561192793, current marginal loglikelihood: -524.4047868790767\n",
      "EM Iteration 10\n",
      "Current Monte Carlo Sample size: 1060\n",
      "[[1.         0.59042952 0.4727    ]\n",
      " [0.59042952 1.         0.77883894]\n",
      " [0.4727     0.77883894 1.        ]]\n"
     ]
    },
    {
     "name": "stderr",
     "output_type": "stream",
     "text": [
      "c:\\Users\\Jesper\\Anaconda3\\lib\\site-packages\\scipy\\stats\\_qmc.py:2039: UserWarning: The balance properties of Sobol' points require n to be a power of 2.\n",
      "  samples = self.engine.random(n)\n"
     ]
    },
    {
     "name": "stdout",
     "output_type": "stream",
     "text": [
      "Step: 10: current parameter_diff: 1.2661422655860008, current marginal loglikelihood: -524.2300827915777\n",
      "[[ 1.      0.5904  0.4727 -0.3408  0.      0.    ]\n",
      " [ 0.5904  1.      0.7788  0.     -0.6141  0.    ]\n",
      " [ 0.4727  0.7788  1.      0.      0.      0.2252]\n",
      " [-0.3408  0.      0.      1.      0.      0.    ]\n",
      " [ 0.     -0.6141  0.      0.      1.      0.    ]\n",
      " [ 0.      0.      0.2252  0.      0.      1.    ]]\n",
      "EM Iteration 2\n"
     ]
    },
    {
     "name": "stderr",
     "output_type": "stream",
     "text": [
      "c:\\Users\\Jesper\\Anaconda3\\lib\\site-packages\\scipy\\stats\\_qmc.py:2039: UserWarning: The balance properties of Sobol' points require n to be a power of 2.\n",
      "  samples = self.engine.random(n)\n"
     ]
    },
    {
     "name": "stdout",
     "output_type": "stream",
     "text": [
      "Current Monte Carlo Sample size: 600\n",
      "[[ 1.00000032  0.59039968  0.47270017 -0.0183657  -0.20610016  0.21358163]\n",
      " [ 0.59039968  0.99999972  0.77879972 -0.09894534 -0.30527847  0.28078984]\n",
      " [ 0.47270017  0.77879972  0.99999973 -0.02658713 -0.35790932  0.4011917 ]\n",
      " [-0.0183657  -0.09894534 -0.02658713  0.35513089  0.17601261  0.03977012]\n",
      " [-0.20610016 -0.30527847 -0.35790932  0.17601261  0.38235584 -0.03163326]\n",
      " [ 0.21358163  0.28078984  0.4011917   0.03977012 -0.03163326  0.64801654]]\n"
     ]
    },
    {
     "name": "stderr",
     "output_type": "stream",
     "text": [
      "c:\\Users\\Jesper\\Documents\\GitHub\\Knowledge-Growth-Prediction\\em_algorithm\\em_algorithm.py:97: RuntimeWarning: invalid value encountered in subtract\n",
      "  np.abs(current_parameters_flat-last_parameters_flat))\n",
      "c:\\Users\\Jesper\\Documents\\GitHub\\Knowledge-Growth-Prediction\\em_algorithm\\em_algorithm.py:99: RuntimeWarning: invalid value encountered in subtract\n",
      "  current_parameters_flat-last_parameters_flat)\n",
      "c:\\Users\\Jesper\\Anaconda3\\lib\\site-packages\\scipy\\stats\\_qmc.py:2039: UserWarning: The balance properties of Sobol' points require n to be a power of 2.\n",
      "  samples = self.engine.random(n)\n"
     ]
    },
    {
     "name": "stdout",
     "output_type": "stream",
     "text": [
      "Step: 2: current parameter_diff: nan, current marginal loglikelihood: -562.3606271676811\n",
      "Exception occured\n",
      "Likelihood diverged\n",
      "Real latent covariance: [[ 1.      0.0136 -0.5018 -0.4559]\n",
      " [ 0.0136  1.     -0.0741 -0.0887]\n",
      " [-0.5018 -0.0741  0.703   0.3186]\n",
      " [-0.4559 -0.0887  0.3186  0.5   ]]\n",
      "Start late EM\n",
      "Covariance matrix is good: True\n",
      "EM Iteration 2\n",
      "Current Monte Carlo Sample size: 300\n",
      "[[1.         0.52748227]\n",
      " [0.52748227 1.        ]]\n",
      "Step: 2: current parameter_diff: 19.93773713786286, current marginal loglikelihood: -963.2075216160629\n",
      "EM Iteration 3\n",
      "Current Monte Carlo Sample size: 300\n"
     ]
    },
    {
     "name": "stderr",
     "output_type": "stream",
     "text": [
      "c:\\Users\\Jesper\\Anaconda3\\lib\\site-packages\\scipy\\stats\\_qmc.py:2039: UserWarning: The balance properties of Sobol' points require n to be a power of 2.\n",
      "  samples = self.engine.random(n)\n"
     ]
    },
    {
     "name": "stdout",
     "output_type": "stream",
     "text": [
      "[[1.         0.44617088]\n",
      " [0.44617088 1.        ]]\n",
      "Step: 3: current parameter_diff: 11.795918423947874, current marginal loglikelihood: -944.7695810594003\n",
      "EM Iteration 4\n",
      "Current Monte Carlo Sample size: 330\n"
     ]
    },
    {
     "name": "stderr",
     "output_type": "stream",
     "text": [
      "c:\\Users\\Jesper\\Anaconda3\\lib\\site-packages\\scipy\\stats\\_qmc.py:2039: UserWarning: The balance properties of Sobol' points require n to be a power of 2.\n",
      "  samples = self.engine.random(n)\n"
     ]
    },
    {
     "name": "stdout",
     "output_type": "stream",
     "text": [
      "[[1.        0.3805428]\n",
      " [0.3805428 1.       ]]\n",
      "Step: 4: current parameter_diff: 5.3612179935198805, current marginal loglikelihood: -936.8153717501153\n",
      "EM Iteration 5\n",
      "Current Monte Carlo Sample size: 363\n",
      "[[1.         0.32295794]\n",
      " [0.32295794 1.        ]]\n",
      "Step: 5: current parameter_diff: 4.968333389449123, current marginal loglikelihood: -934.2118270020733\n",
      "EM Iteration 6\n",
      "Current Monte Carlo Sample size: 399\n",
      "[[1.         0.25726915]\n",
      " [0.25726915 1.        ]]\n",
      "Step: 6: current parameter_diff: 1.4009060546801895, current marginal loglikelihood: -935.402572620135\n",
      "EM Iteration 7\n",
      "Current Monte Carlo Sample size: 438\n",
      "[[1.         0.22653851]\n",
      " [0.22653851 1.        ]]\n",
      "Step: 7: current parameter_diff: 0.8853587282557912, current marginal loglikelihood: -933.8958949646261\n",
      "EM Iteration 2\n"
     ]
    },
    {
     "name": "stderr",
     "output_type": "stream",
     "text": [
      "c:\\Users\\Jesper\\Anaconda3\\lib\\site-packages\\scipy\\stats\\_qmc.py:2039: UserWarning: The balance properties of Sobol' points require n to be a power of 2.\n",
      "  samples = self.engine.random(n)\n"
     ]
    },
    {
     "name": "stdout",
     "output_type": "stream",
     "text": [
      "Current Monte Carlo Sample size: 300\n",
      "[[ 0.99999999  0.22649999 -0.72006731 -0.03860042]\n",
      " [ 0.22649999  1.00000001 -0.1160964  -0.12537402]\n",
      " [-0.72006731 -0.1160964   1.13953437  0.24287857]\n",
      " [-0.03860042 -0.12537402  0.24287857  0.57334791]]\n",
      "Step: 2: current parameter_diff: 25.629868698489336, current marginal loglikelihood: -859.9939466158506\n",
      "EM Iteration 3\n"
     ]
    },
    {
     "name": "stderr",
     "output_type": "stream",
     "text": [
      "c:\\Users\\Jesper\\Anaconda3\\lib\\site-packages\\scipy\\stats\\_qmc.py:2039: UserWarning: The balance properties of Sobol' points require n to be a power of 2.\n",
      "  samples = self.engine.random(n)\n"
     ]
    },
    {
     "name": "stdout",
     "output_type": "stream",
     "text": [
      "Current Monte Carlo Sample size: 330\n",
      "[[ 0.99999992  0.22649998 -0.38122026 -0.125952  ]\n",
      " [ 0.22649998  0.99999999  0.04521218 -0.15463832]\n",
      " [-0.38122026  0.04521218  0.46183716  0.09173316]\n",
      " [-0.125952   -0.15463832  0.09173316  0.63187645]]\n",
      "Step: 3: current parameter_diff: 20.56909715073393, current marginal loglikelihood: -855.8357440920802\n",
      "EM Iteration 4\n"
     ]
    },
    {
     "name": "stderr",
     "output_type": "stream",
     "text": [
      "c:\\Users\\Jesper\\Anaconda3\\lib\\site-packages\\scipy\\stats\\_qmc.py:2039: UserWarning: The balance properties of Sobol' points require n to be a power of 2.\n",
      "  samples = self.engine.random(n)\n"
     ]
    },
    {
     "name": "stdout",
     "output_type": "stream",
     "text": [
      "Current Monte Carlo Sample size: 363\n",
      "[[ 1.00000045  0.22649969 -0.69944772 -0.3166263 ]\n",
      " [ 0.22649969  0.9999995  -0.27637325 -0.39122839]\n",
      " [-0.69944772 -0.27637325  1.09829169  0.64044693]\n",
      " [-0.3166263  -0.39122839  0.64044693  1.10505589]]\n",
      "Step: 4: current parameter_diff: 24.976672695168844, current marginal loglikelihood: -842.1359432445338\n",
      "EM Iteration 5\n"
     ]
    },
    {
     "name": "stderr",
     "output_type": "stream",
     "text": [
      "c:\\Users\\Jesper\\Anaconda3\\lib\\site-packages\\scipy\\stats\\_qmc.py:2039: UserWarning: The balance properties of Sobol' points require n to be a power of 2.\n",
      "  samples = self.engine.random(n)\n"
     ]
    },
    {
     "name": "stdout",
     "output_type": "stream",
     "text": [
      "Current Monte Carlo Sample size: 363\n",
      "[[ 1.00000028  0.22650021 -0.34533418 -0.15559206]\n",
      " [ 0.22650021  0.99999985 -0.01556096 -0.25828345]\n",
      " [-0.34533418 -0.01556096  0.39005614  0.16391104]\n",
      " [-0.15559206 -0.25828345  0.16391104  0.83916685]]\n",
      "Step: 5: current parameter_diff: 16.7265932076447, current marginal loglikelihood: -854.3568129162725\n",
      "EM Iteration 6\n"
     ]
    },
    {
     "name": "stderr",
     "output_type": "stream",
     "text": [
      "c:\\Users\\Jesper\\Anaconda3\\lib\\site-packages\\scipy\\stats\\_qmc.py:2039: UserWarning: The balance properties of Sobol' points require n to be a power of 2.\n",
      "  samples = self.engine.random(n)\n"
     ]
    },
    {
     "name": "stdout",
     "output_type": "stream",
     "text": [
      "Current Monte Carlo Sample size: 363\n",
      "[[ 0.99999999  0.2265     -0.57251881 -0.27784379]\n",
      " [ 0.2265      0.99999999 -0.41058132 -0.60831711]\n",
      " [-0.57251881 -0.41058132  0.8444297   0.77726441]\n",
      " [-0.27784379 -0.60831711  0.77726441  1.53923401]]\n",
      "Step: 6: current parameter_diff: 23.330222546477216, current marginal loglikelihood: -839.6960858699143\n",
      "EM Iteration 7\n"
     ]
    },
    {
     "name": "stderr",
     "output_type": "stream",
     "text": [
      "c:\\Users\\Jesper\\Anaconda3\\lib\\site-packages\\scipy\\stats\\_qmc.py:2039: UserWarning: The balance properties of Sobol' points require n to be a power of 2.\n",
      "  samples = self.engine.random(n)\n"
     ]
    },
    {
     "name": "stdout",
     "output_type": "stream",
     "text": [
      "Current Monte Carlo Sample size: 399\n",
      "[[ 0.99999997  0.22649999 -0.31938033 -0.23904514]\n",
      " [ 0.22649999  0.99999997 -0.05406749 -0.48175669]\n",
      " [-0.31938033 -0.05406749  0.33814572  0.42355577]\n",
      " [-0.23904514 -0.48175669  0.42355577  1.28611296]]\n",
      "Step: 7: current parameter_diff: 22.25285106065543, current marginal loglikelihood: -856.3076725316619\n",
      "EM Iteration 8\n"
     ]
    },
    {
     "name": "stderr",
     "output_type": "stream",
     "text": [
      "c:\\Users\\Jesper\\Anaconda3\\lib\\site-packages\\scipy\\stats\\_qmc.py:2039: UserWarning: The balance properties of Sobol' points require n to be a power of 2.\n",
      "  samples = self.engine.random(n)\n"
     ]
    },
    {
     "name": "stdout",
     "output_type": "stream",
     "text": [
      "Current Monte Carlo Sample size: 399\n",
      "[[ 1.00000035  0.22650036 -0.48226522 -0.10823035]\n",
      " [ 0.22650036  0.99999941 -0.11253232 -0.33138966]\n",
      " [-0.48226522 -0.11253232  0.66392367  0.37480305]\n",
      " [-0.10823035 -0.33138966  0.37480305  0.98537869]]\n",
      "Step: 8: current parameter_diff: 13.661012075046042, current marginal loglikelihood: -855.2122504536339\n",
      "EM Iteration 9\n"
     ]
    },
    {
     "name": "stderr",
     "output_type": "stream",
     "text": [
      "c:\\Users\\Jesper\\Anaconda3\\lib\\site-packages\\scipy\\stats\\_qmc.py:2039: UserWarning: The balance properties of Sobol' points require n to be a power of 2.\n",
      "  samples = self.engine.random(n)\n"
     ]
    },
    {
     "name": "stdout",
     "output_type": "stream",
     "text": [
      "Current Monte Carlo Sample size: 399\n",
      "[[ 1.00000166  0.22649877 -0.27612312  0.04042933]\n",
      " [ 0.22649877  0.99999872 -0.09805768 -0.29488207]\n",
      " [-0.27612312 -0.09805768  0.25159705  0.19694816]\n",
      " [ 0.04042933 -0.29488207  0.19694816  0.91236607]]\n",
      "Step: 9: current parameter_diff: 30.604367241683654, current marginal loglikelihood: -885.4793316750254\n",
      "Absolute diff in A:\n",
      "[[0.         0.63589009]\n",
      " [0.         1.1928661 ]\n",
      " [0.         0.33450573]\n",
      " [0.         2.20658867]\n",
      " [0.         0.77848029]\n",
      " [0.48896582 0.        ]\n",
      " [0.18573712 0.        ]\n",
      " [0.28188779 0.        ]\n",
      " [0.18570205 0.        ]\n",
      " [0.15966609 0.        ]\n",
      " [0.0194082  0.        ]\n",
      " [1.10781207 0.        ]\n",
      " [0.32845913 0.02483618]\n",
      " [1.99986602 0.78170873]\n",
      " [0.00538573 0.37421654]\n",
      " [0.71357273 0.08135094]\n",
      " [0.18134801 0.91938795]\n",
      " [0.79350787 0.17700118]\n",
      " [1.34307415 2.13964308]\n",
      " [1.18436198 0.06374604]]\n",
      "Absolute diff in delta:\n",
      "[0.08296148 0.09308703 0.14062987 0.07435476 0.15171171 0.57497092\n",
      " 0.0920906  0.22306407 0.07261346 0.25260749 0.04380335 0.23570113\n",
      " 0.1105814  0.37938323 1.04349703 0.09173125 0.07803618 0.26350917\n",
      " 0.84876252 0.53070342]\n",
      "Absolute diff in sigma:\n",
      "[[0.     0.2129]\n",
      " [0.2129 0.    ]]\n",
      "Absolute diff in A:\n",
      "[[ 0.          0.80533917]\n",
      " [ 0.          0.83427674]\n",
      " [ 0.          0.63941108]\n",
      " [ 0.          0.65692249]\n",
      " [ 0.          0.07758896]\n",
      " [ 0.24824556  0.        ]\n",
      " [ 4.56152554  0.        ]\n",
      " [ 7.93509113  0.        ]\n",
      " [ 0.04503165  0.        ]\n",
      " [ 0.39705436  0.        ]\n",
      " [ 0.88092732  0.        ]\n",
      " [ 0.38717101  0.        ]\n",
      " [ 0.38083985  0.        ]\n",
      " [ 0.69750311  0.32856619]\n",
      " [ 1.16538819  0.69196357]\n",
      " [ 0.21838236  1.88743716]\n",
      " [20.18291233  1.24147897]\n",
      " [ 2.90148746  0.54884393]\n",
      " [ 1.47135396  2.39159101]\n",
      " [ 0.7536851   2.43038522]]\n",
      "Absolute diff in delta:\n",
      "[1.92279370e+00 8.83221185e-01 8.74415215e-01 9.31223323e-01\n",
      " 2.60389321e-02 1.92242715e-01 8.77301784e-01 1.95051402e-01\n",
      " 2.01546899e-02 1.59550150e-01 1.57382163e-02 2.44668371e-01\n",
      " 4.17776435e-01 2.89170972e+00 5.08468529e-01 3.40887375e+00\n",
      " 1.77422721e+01 1.87377865e+00 3.00497247e+00 3.12206149e+00]\n",
      "Start initial baseline\n",
      "Absolute diff in A:\n",
      "[[0.         2.13367202]\n",
      " [0.         1.85207928]\n",
      " [0.         0.55884683]\n",
      " [0.         5.14647567]\n",
      " [0.         3.63819853]\n",
      " [1.11933421 0.        ]\n",
      " [1.02307332 0.        ]\n",
      " [1.2677639  0.        ]\n",
      " [1.29137579 0.        ]\n",
      " [0.69093803 0.        ]\n",
      " [0.35900005 0.        ]\n",
      " [2.43757989 0.        ]\n",
      " [1.21251283 1.15869816]\n",
      " [2.73161677 1.14702952]\n",
      " [1.74167086 0.25444315]\n",
      " [1.27240954 0.07844873]\n",
      " [0.47862713 1.56912908]\n",
      " [1.36121584 1.70780497]\n",
      " [1.04928726 5.38046294]\n",
      " [1.69574399 2.07767977]]\n",
      "Absolute diff in delta:\n",
      "[0.52670878 0.51429521 0.13185099 0.60746454 0.44139286 0.00923338\n",
      " 0.11770956 0.44019008 0.39524615 0.03157811 0.20984884 0.06033728\n",
      " 0.45092388 0.41353174 0.2227497  0.56422748 0.14306863 0.1531146\n",
      " 1.11807521 1.39499185]\n",
      "Absolute diff in sigma:\n",
      "[[0.     0.4864]\n",
      " [0.4864 0.    ]]\n",
      "Absolute diff in A:\n",
      "[[ 1.          3.59757223]\n",
      " [ 1.          0.52059584]\n",
      " [ 1.          0.78678791]\n",
      " [ 1.          0.7075001 ]\n",
      " [ 1.          0.70032933]\n",
      " [ 0.32941929  1.        ]\n",
      " [11.70080711  1.        ]\n",
      " [12.37872685  1.        ]\n",
      " [ 0.16976499  1.        ]\n",
      " [ 3.40026982  1.        ]\n",
      " [ 5.00379113  1.        ]\n",
      " [ 1.46303662  1.        ]\n",
      " [ 0.92082812  1.        ]\n",
      " [ 4.67970977  0.94684165]\n",
      " [ 1.26996304  1.04320869]\n",
      " [ 2.51869221  1.0423257 ]\n",
      " [ 3.66723086  0.24833651]\n",
      " [ 5.99284674  0.62956819]\n",
      " [ 2.05518493  2.5854019 ]\n",
      " [ 1.72593226  1.64238084]]\n",
      "Absolute diff in delta:\n",
      "[1.74598282 1.1938703  1.30720849 1.38096764 0.58209703 1.27923355\n",
      " 1.5855342  0.9439529  0.67807488 1.11424626 1.24650157 1.07627161\n",
      " 0.56929274 2.21747347 1.58814503 3.26154288 1.01513937 3.48049656\n",
      " 4.18486573 3.63989095]\n",
      "Start difference baseline\n",
      "Covariance matrix is good: True\n",
      "EM Iteration 2\n",
      "Current Monte Carlo Sample size: 300\n"
     ]
    },
    {
     "name": "stderr",
     "output_type": "stream",
     "text": [
      "c:\\Users\\Jesper\\Anaconda3\\lib\\site-packages\\scipy\\stats\\_qmc.py:2039: UserWarning: The balance properties of Sobol' points require n to be a power of 2.\n",
      "  samples = self.engine.random(n)\n"
     ]
    },
    {
     "name": "stdout",
     "output_type": "stream",
     "text": [
      "[[1.         0.52859045]\n",
      " [0.52859045 1.        ]]\n",
      "Step: 2: current parameter_diff: 19.442940644755048, current marginal loglikelihood: -966.397820951053\n",
      "EM Iteration 3\n",
      "Current Monte Carlo Sample size: 330\n"
     ]
    },
    {
     "name": "stderr",
     "output_type": "stream",
     "text": [
      "c:\\Users\\Jesper\\Anaconda3\\lib\\site-packages\\scipy\\stats\\_qmc.py:2039: UserWarning: The balance properties of Sobol' points require n to be a power of 2.\n",
      "  samples = self.engine.random(n)\n"
     ]
    },
    {
     "name": "stdout",
     "output_type": "stream",
     "text": [
      "[[1.         0.42010608]\n",
      " [0.42010608 1.        ]]\n",
      "Step: 3: current parameter_diff: 12.106088666511443, current marginal loglikelihood: -942.1331506561419\n",
      "EM Iteration 4\n",
      "Current Monte Carlo Sample size: 363\n",
      "[[1.        0.3426195]\n",
      " [0.3426195 1.       ]]\n",
      "Step: 4: current parameter_diff: 5.248290975811467, current marginal loglikelihood: -939.0350407212807\n",
      "EM Iteration 5\n",
      "Current Monte Carlo Sample size: 399\n",
      "[[1.         0.26956121]\n",
      " [0.26956121 1.        ]]\n",
      "Step: 5: current parameter_diff: 4.324064259407297, current marginal loglikelihood: -936.8786105053897\n",
      "EM Iteration 6\n",
      "Current Monte Carlo Sample size: 438\n",
      "[[1.         0.21780729]\n",
      " [0.21780729 1.        ]]\n",
      "Step: 6: current parameter_diff: 2.0170806590755928, current marginal loglikelihood: -933.5357187669031\n",
      "Covariance matrix is good: True\n",
      "EM Iteration 2\n",
      "Current Monte Carlo Sample size: 300\n"
     ]
    },
    {
     "name": "stderr",
     "output_type": "stream",
     "text": [
      "c:\\Users\\Jesper\\Anaconda3\\lib\\site-packages\\scipy\\stats\\_qmc.py:2039: UserWarning: The balance properties of Sobol' points require n to be a power of 2.\n",
      "  samples = self.engine.random(n)\n"
     ]
    },
    {
     "name": "stdout",
     "output_type": "stream",
     "text": [
      "[[1.         0.47850941]\n",
      " [0.47850941 1.        ]]\n",
      "Step: 2: current parameter_diff: 32.283604423758646, current marginal loglikelihood: -624.2572398136352\n",
      "EM Iteration 3\n",
      "Current Monte Carlo Sample size: 300\n"
     ]
    },
    {
     "name": "stderr",
     "output_type": "stream",
     "text": [
      "c:\\Users\\Jesper\\Anaconda3\\lib\\site-packages\\scipy\\stats\\_qmc.py:2039: UserWarning: The balance properties of Sobol' points require n to be a power of 2.\n",
      "  samples = self.engine.random(n)\n"
     ]
    },
    {
     "name": "stdout",
     "output_type": "stream",
     "text": [
      "[[1.         0.36465441]\n",
      " [0.36465441 1.        ]]\n",
      "Step: 3: current parameter_diff: 22.628447138971666, current marginal loglikelihood: -605.4829884619177\n",
      "EM Iteration 4\n",
      "Current Monte Carlo Sample size: 330\n"
     ]
    },
    {
     "name": "stderr",
     "output_type": "stream",
     "text": [
      "c:\\Users\\Jesper\\Anaconda3\\lib\\site-packages\\scipy\\stats\\_qmc.py:2039: UserWarning: The balance properties of Sobol' points require n to be a power of 2.\n",
      "  samples = self.engine.random(n)\n"
     ]
    },
    {
     "name": "stdout",
     "output_type": "stream",
     "text": [
      "[[1.         0.22920274]\n",
      " [0.22920274 1.        ]]\n",
      "Step: 4: current parameter_diff: 12.711532051274002, current marginal loglikelihood: -599.265843484191\n",
      "EM Iteration 5\n",
      "Current Monte Carlo Sample size: 363\n",
      "[[1.         0.12755648]\n",
      " [0.12755648 1.        ]]\n",
      "Step: 5: current parameter_diff: 14.106389865043376, current marginal loglikelihood: -594.2321624407932\n",
      "EM Iteration 6\n",
      "Current Monte Carlo Sample size: 363\n",
      "[[1.         0.00778236]\n",
      " [0.00778236 1.        ]]\n",
      "Step: 6: current parameter_diff: 5.342972686153983, current marginal loglikelihood: -592.0520254937044\n",
      "EM Iteration 7\n",
      "Current Monte Carlo Sample size: 399\n",
      "[[ 1.         -0.05395124]\n",
      " [-0.05395124  1.        ]]\n",
      "Step: 7: current parameter_diff: 5.730216508250372, current marginal loglikelihood: -589.9509689513586\n",
      "EM Iteration 8\n",
      "Current Monte Carlo Sample size: 438\n",
      "[[ 1.        -0.0578334]\n",
      " [-0.0578334  1.       ]]\n",
      "Step: 8: current parameter_diff: 5.4636041507114275, current marginal loglikelihood: -590.7245125937308\n",
      "Absolute diff in A:\n",
      "[[0.00000000e+00 6.86018094e-01]\n",
      " [0.00000000e+00 1.14975452e+00]\n",
      " [0.00000000e+00 3.07015849e-01]\n",
      " [0.00000000e+00 2.43104921e+00]\n",
      " [0.00000000e+00 6.70506675e-01]\n",
      " [3.14453103e-01 0.00000000e+00]\n",
      " [1.24680830e-01 0.00000000e+00]\n",
      " [3.32941925e-01 0.00000000e+00]\n",
      " [1.54547495e-01 0.00000000e+00]\n",
      " [2.86397026e-01 0.00000000e+00]\n",
      " [3.36738733e-02 0.00000000e+00]\n",
      " [1.06806369e+00 0.00000000e+00]\n",
      " [1.77987661e-03 4.12415617e-02]\n",
      " [1.79305967e+00 5.93303504e-01]\n",
      " [5.72735105e-02 2.98642513e-01]\n",
      " [7.79271234e-01 8.63310031e-03]\n",
      " [6.43044379e-02 1.34424264e+00]\n",
      " [3.85649382e-01 6.77850046e-01]\n",
      " [1.33047597e+00 2.37394922e+00]\n",
      " [1.10295170e+00 8.42397852e-02]]\n",
      "Absolute diff in delta:\n",
      "[0.15506859 0.05735791 0.09233271 0.06849744 0.06292429 0.56593031\n",
      " 0.01233085 0.28159089 0.08763312 0.15533724 0.04487358 0.2385011\n",
      " 0.01960136 0.14202171 1.15105738 0.11023652 0.26882428 0.1908572\n",
      " 1.00260469 0.52300951]\n",
      "Absolute diff in sigma:\n",
      "[[0.     0.2042]\n",
      " [0.2042 0.    ]]\n",
      "Absolute diff in A:\n",
      "[[0.         1.14031677]\n",
      " [0.         1.08271309]\n",
      " [0.         0.07335994]\n",
      " [0.         0.53980994]\n",
      " [0.         0.15256794]\n",
      " [0.0766928  0.        ]\n",
      " [4.29209469 0.        ]\n",
      " [7.58522154 0.        ]\n",
      " [0.20860972 0.        ]\n",
      " [1.12364485 0.        ]\n",
      " [0.42246204 0.        ]\n",
      " [0.00799259 0.        ]\n",
      " [0.58942514 0.        ]\n",
      " [0.17260275 0.51221157]\n",
      " [1.66080195 1.13536833]\n",
      " [0.12693161 2.04019985]\n",
      " [0.31973859 0.54336234]\n",
      " [0.95151931 0.99677874]\n",
      " [1.50696336 2.37508068]\n",
      " [1.29066913 2.23959216]]\n",
      "Absolute diff in delta:\n",
      "[1.32058006 0.83910551 0.53599384 0.76977568 0.31617922 0.15379199\n",
      " 0.95073297 1.58082181 0.03872258 0.97322778 1.24950253 0.62967886\n",
      " 0.5827121  0.53920381 0.93365458 2.66707888 0.58700714 0.33427967\n",
      " 2.23621279 2.58448258]\n",
      "Start real early baseline\n",
      "EM Iteration 2\n"
     ]
    },
    {
     "name": "stderr",
     "output_type": "stream",
     "text": [
      "c:\\Users\\Jesper\\Anaconda3\\lib\\site-packages\\scipy\\stats\\_qmc.py:2039: UserWarning: The balance properties of Sobol' points require n to be a power of 2.\n",
      "  samples = self.engine.random(n)\n"
     ]
    },
    {
     "name": "stdout",
     "output_type": "stream",
     "text": [
      "Current Monte Carlo Sample size: 300\n",
      "[[ 1.00000002  0.21780004 -0.64725952  0.05235349]\n",
      " [ 0.21780004  1.00000007 -0.0726365  -0.10253483]\n",
      " [-0.64725952 -0.0726365   0.99391871  0.00619221]\n",
      " [ 0.05235349 -0.10253483  0.00619221  0.52766936]]\n",
      "Step: 2: current parameter_diff: 27.718833326398467, current marginal loglikelihood: -879.7519417529185\n",
      "EM Iteration 3\n"
     ]
    },
    {
     "name": "stderr",
     "output_type": "stream",
     "text": [
      "c:\\Users\\Jesper\\Anaconda3\\lib\\site-packages\\scipy\\stats\\_qmc.py:2039: UserWarning: The balance properties of Sobol' points require n to be a power of 2.\n",
      "  samples = self.engine.random(n)\n"
     ]
    },
    {
     "name": "stdout",
     "output_type": "stream",
     "text": [
      "Current Monte Carlo Sample size: 330\n",
      "[[ 0.99999994  0.21779998 -0.34455822 -0.1512086 ]\n",
      " [ 0.21779998  0.99999999  0.00558104 -0.08130579]\n",
      " [-0.34455822  0.00558104  0.3885115   0.24501589]\n",
      " [-0.1512086  -0.08130579  0.24501589  0.48521135]]\n",
      "Step: 3: current parameter_diff: 19.624601402451383, current marginal loglikelihood: -889.0751695811036\n",
      "EM Iteration 4\n"
     ]
    },
    {
     "name": "stderr",
     "output_type": "stream",
     "text": [
      "c:\\Users\\Jesper\\Anaconda3\\lib\\site-packages\\scipy\\stats\\_qmc.py:2039: UserWarning: The balance properties of Sobol' points require n to be a power of 2.\n",
      "  samples = self.engine.random(n)\n"
     ]
    },
    {
     "name": "stdout",
     "output_type": "stream",
     "text": [
      "Current Monte Carlo Sample size: 330\n",
      "[[ 0.99999997  0.21779995 -0.88178416  0.07538404]\n",
      " [ 0.21779995  1.00000004  0.11082599 -0.34787814]\n",
      " [-0.88178416  0.11082599  1.46296638 -0.1184048 ]\n",
      " [ 0.07538404 -0.34787814 -0.1184048   1.018356  ]]\n",
      "Step: 4: current parameter_diff: 20.532978533339314, current marginal loglikelihood: -876.1229162918102\n",
      "EM Iteration 5\n"
     ]
    },
    {
     "name": "stderr",
     "output_type": "stream",
     "text": [
      "c:\\Users\\Jesper\\Anaconda3\\lib\\site-packages\\scipy\\stats\\_qmc.py:2039: UserWarning: The balance properties of Sobol' points require n to be a power of 2.\n",
      "  samples = self.engine.random(n)\n"
     ]
    },
    {
     "name": "stdout",
     "output_type": "stream",
     "text": [
      "Current Monte Carlo Sample size: 330\n",
      "[[ 0.9999994   0.21779993 -0.59255984  0.01187979]\n",
      " [ 0.21779993  1.00000093  0.2845976  -0.24969412]\n",
      " [-0.59255984  0.2845976   0.88451733 -0.19926047]\n",
      " [ 0.01187979 -0.24969412 -0.19926047  0.82198687]]\n",
      "Step: 5: current parameter_diff: 14.139089304327273, current marginal loglikelihood: -888.9780370631186\n",
      "EM Iteration 6\n"
     ]
    },
    {
     "name": "stderr",
     "output_type": "stream",
     "text": [
      "c:\\Users\\Jesper\\Anaconda3\\lib\\site-packages\\scipy\\stats\\_qmc.py:2039: UserWarning: The balance properties of Sobol' points require n to be a power of 2.\n",
      "  samples = self.engine.random(n)\n"
     ]
    },
    {
     "name": "stdout",
     "output_type": "stream",
     "text": [
      "Current Monte Carlo Sample size: 330\n",
      "[[ 0.99999927  0.21780068 -0.59256324  0.0117259 ]\n",
      " [ 0.21780068  0.99999816  0.28440765 -0.24963636]\n",
      " [-0.59256324  0.28440765  0.88452596 -0.19914657]\n",
      " [ 0.0117259  -0.24963636 -0.19914657  0.82187494]]\n",
      "Step: 6: current parameter_diff: 10.258070431524448, current marginal loglikelihood: -871.4704940778531\n",
      "EM Iteration 7\n"
     ]
    },
    {
     "name": "stderr",
     "output_type": "stream",
     "text": [
      "c:\\Users\\Jesper\\Anaconda3\\lib\\site-packages\\scipy\\stats\\_qmc.py:2039: UserWarning: The balance properties of Sobol' points require n to be a power of 2.\n",
      "  samples = self.engine.random(n)\n"
     ]
    },
    {
     "name": "stdout",
     "output_type": "stream",
     "text": [
      "Current Monte Carlo Sample size: 363\n",
      "[[ 0.99999919  0.21779936 -0.59259296  0.01171594]\n",
      " [ 0.21779936  1.00000128  0.284427   -0.24962917]\n",
      " [-0.59259296  0.284427    0.88458693 -0.1991307 ]\n",
      " [ 0.01171594 -0.24962917 -0.1991307   0.82185641]]\n",
      "Step: 7: current parameter_diff: 5.792047414991595, current marginal loglikelihood: -877.648614542014\n",
      "EM Iteration 8\n"
     ]
    },
    {
     "name": "stderr",
     "output_type": "stream",
     "text": [
      "c:\\Users\\Jesper\\Anaconda3\\lib\\site-packages\\scipy\\stats\\_qmc.py:2039: UserWarning: The balance properties of Sobol' points require n to be a power of 2.\n",
      "  samples = self.engine.random(n)\n"
     ]
    },
    {
     "name": "stdout",
     "output_type": "stream",
     "text": [
      "Current Monte Carlo Sample size: 399\n",
      "[[ 0.99999916  0.21779975 -0.59256408  0.01163481]\n",
      " [ 0.21779975  1.00000001  0.28430612 -0.24959307]\n",
      " [-0.59256408  0.28430612  0.88452702 -0.19904138]\n",
      " [ 0.01163481 -0.24959307 -0.19904138  0.82178552]]\n",
      "Step: 8: current parameter_diff: 4.883519016623563, current marginal loglikelihood: -871.1139955820646\n",
      "EM Iteration 9\n"
     ]
    },
    {
     "name": "stderr",
     "output_type": "stream",
     "text": [
      "c:\\Users\\Jesper\\Anaconda3\\lib\\site-packages\\scipy\\stats\\_qmc.py:2039: UserWarning: The balance properties of Sobol' points require n to be a power of 2.\n",
      "  samples = self.engine.random(n)\n"
     ]
    },
    {
     "name": "stdout",
     "output_type": "stream",
     "text": [
      "Current Monte Carlo Sample size: 438\n",
      "[[ 0.99999965  0.21780064 -0.59256397  0.01152581]\n",
      " [ 0.21780064  0.99999999  0.28420801 -0.24953812]\n",
      " [-0.59256397  0.28420801  0.88452638 -0.1989471 ]\n",
      " [ 0.01152581 -0.24953812 -0.1989471   0.8216757 ]]\n",
      "Step: 9: current parameter_diff: 30.32653916771518, current marginal loglikelihood: -893.6376833739129\n",
      "EM Iteration 10\n"
     ]
    },
    {
     "name": "stderr",
     "output_type": "stream",
     "text": [
      "c:\\Users\\Jesper\\Anaconda3\\lib\\site-packages\\scipy\\stats\\_qmc.py:2039: UserWarning: The balance properties of Sobol' points require n to be a power of 2.\n",
      "  samples = self.engine.random(n)\n"
     ]
    },
    {
     "name": "stdout",
     "output_type": "stream",
     "text": [
      "Current Monte Carlo Sample size: 481\n",
      "[[ 0.99999907  0.21779974 -0.5925938   0.01151541]\n",
      " [ 0.21779974  1.00000074  0.28422559 -0.24952877]\n",
      " [-0.5925938   0.28422559  0.88458642 -0.19892989]\n",
      " [ 0.01151541 -0.24952877 -0.19892989  0.82165601]]\n",
      "Step: 10: current parameter_diff: 14.212561049557646, current marginal loglikelihood: -865.9892187784184\n",
      "EM Iteration 11\n"
     ]
    },
    {
     "name": "stderr",
     "output_type": "stream",
     "text": [
      "c:\\Users\\Jesper\\Anaconda3\\lib\\site-packages\\scipy\\stats\\_qmc.py:2039: UserWarning: The balance properties of Sobol' points require n to be a power of 2.\n",
      "  samples = self.engine.random(n)\n"
     ]
    },
    {
     "name": "stdout",
     "output_type": "stream",
     "text": [
      "Current Monte Carlo Sample size: 529\n",
      "[[ 0.99999988  0.21779872 -0.59256475  0.01143571]\n",
      " [ 0.21779872  0.99999877  0.28410678 -0.24949197]\n",
      " [-0.59256475  0.28410678  0.88452812 -0.19884184]\n",
      " [ 0.01143571 -0.24949197 -0.19884184  0.82158519]]\n",
      "Step: 11: current parameter_diff: 8.44729832363034, current marginal loglikelihood: -865.9383187351862\n",
      "EM Iteration 12\n"
     ]
    },
    {
     "name": "stderr",
     "output_type": "stream",
     "text": [
      "c:\\Users\\Jesper\\Anaconda3\\lib\\site-packages\\scipy\\stats\\_qmc.py:2039: UserWarning: The balance properties of Sobol' points require n to be a power of 2.\n",
      "  samples = self.engine.random(n)\n"
     ]
    },
    {
     "name": "stdout",
     "output_type": "stream",
     "text": [
      "Current Monte Carlo Sample size: 581\n",
      "[[ 0.99999881  0.21779985 -0.5925665   0.01133182]\n",
      " [ 0.21779985  0.99999928  0.28403534 -0.24946533]\n",
      " [-0.5925665   0.28403534  0.88453254 -0.19876795]\n",
      " [ 0.01133182 -0.24946533 -0.19876795  0.82152969]]\n",
      "Step: 12: current parameter_diff: 5.168136122320804, current marginal loglikelihood: -868.9238526150351\n",
      "EM Iteration 13\n"
     ]
    },
    {
     "name": "stderr",
     "output_type": "stream",
     "text": [
      "c:\\Users\\Jesper\\Anaconda3\\lib\\site-packages\\scipy\\stats\\_qmc.py:2039: UserWarning: The balance properties of Sobol' points require n to be a power of 2.\n",
      "  samples = self.engine.random(n)\n"
     ]
    },
    {
     "name": "stdout",
     "output_type": "stream",
     "text": [
      "Current Monte Carlo Sample size: 639\n",
      "[[ 1.00000089  0.21780094 -0.59256804  0.01123124]\n",
      " [ 0.21780094  1.0000002   0.28393453 -0.24946515]\n",
      " [-0.59256804  0.28393453  0.88453377 -0.19866756]\n",
      " [ 0.01123124 -0.24946515 -0.19866756  0.82153   ]]\n",
      "Step: 13: current parameter_diff: 3.5840940551072196, current marginal loglikelihood: -860.7233921930958\n",
      "EM Iteration 14\n"
     ]
    },
    {
     "name": "stderr",
     "output_type": "stream",
     "text": [
      "c:\\Users\\Jesper\\Anaconda3\\lib\\site-packages\\scipy\\stats\\_qmc.py:2039: UserWarning: The balance properties of Sobol' points require n to be a power of 2.\n",
      "  samples = self.engine.random(n)\n"
     ]
    },
    {
     "name": "stdout",
     "output_type": "stream",
     "text": [
      "Current Monte Carlo Sample size: 702\n",
      "[[ 1.00000007  0.21780021 -0.59254846  0.01118725]\n",
      " [ 0.21780021  0.99999999  0.28386602 -0.24944409]\n",
      " [-0.59254846  0.28386602  0.88449217 -0.19858928]\n",
      " [ 0.01118725 -0.24944409 -0.19858928  0.82148779]]\n",
      "Step: 14: current parameter_diff: 8.17154236575043, current marginal loglikelihood: -863.3762676216857\n",
      "EM Iteration 15\n"
     ]
    },
    {
     "name": "stderr",
     "output_type": "stream",
     "text": [
      "c:\\Users\\Jesper\\Anaconda3\\lib\\site-packages\\scipy\\stats\\_qmc.py:2039: UserWarning: The balance properties of Sobol' points require n to be a power of 2.\n",
      "  samples = self.engine.random(n)\n"
     ]
    },
    {
     "name": "stdout",
     "output_type": "stream",
     "text": [
      "Current Monte Carlo Sample size: 772\n",
      "[[ 0.9999988   0.21780001 -0.59250328  0.01110517]\n",
      " [ 0.21780001  0.99999989  0.28382569 -0.24942698]\n",
      " [-0.59250328  0.28382569  0.8844054  -0.19851993]\n",
      " [ 0.01110517 -0.24942698 -0.19851993  0.82145411]]\n",
      "Step: 15: current parameter_diff: 4.778519711027219, current marginal loglikelihood: -859.7431208420203\n",
      "EM Iteration 16\n"
     ]
    },
    {
     "name": "stderr",
     "output_type": "stream",
     "text": [
      "c:\\Users\\Jesper\\Anaconda3\\lib\\site-packages\\scipy\\stats\\_qmc.py:2039: UserWarning: The balance properties of Sobol' points require n to be a power of 2.\n",
      "  samples = self.engine.random(n)\n"
     ]
    },
    {
     "name": "stdout",
     "output_type": "stream",
     "text": [
      "Current Monte Carlo Sample size: 849\n",
      "[[ 0.99999862  0.21779909 -0.59254668  0.01111989]\n",
      " [ 0.21779909  0.9999986   0.28386049 -0.24942802]\n",
      " [-0.59254668  0.28386049  0.88449317 -0.19854584]\n",
      " [ 0.01111989 -0.24942802 -0.19854584  0.82145755]]\n",
      "Step: 16: current parameter_diff: 3.6991743793967773, current marginal loglikelihood: -858.4620822058845\n",
      "Absolute diff in A:\n",
      "[[0.         3.44300805]\n",
      " [0.         1.04328331]\n",
      " [0.         0.10161774]\n",
      " [0.         0.47447162]\n",
      " [0.         0.49347568]\n",
      " [0.4046583  0.        ]\n",
      " [3.25385945 0.        ]\n",
      " [6.93128014 0.        ]\n",
      " [0.22933721 0.        ]\n",
      " [1.66652978 0.        ]\n",
      " [0.14781105 0.        ]\n",
      " [0.36781502 0.        ]\n",
      " [0.4545121  0.        ]\n",
      " [1.74198359 0.36921269]\n",
      " [2.893699   0.85310574]\n",
      " [1.39400895 1.94412875]\n",
      " [1.67508981 1.1831415 ]\n",
      " [4.0425428  0.92853699]\n",
      " [1.109489   2.50652608]\n",
      " [0.39551903 2.51193836]]\n",
      "Absolute diff in delta:\n",
      "[2.64204977 0.80959618 0.44789888 0.9847156  0.09386287 0.37552368\n",
      " 0.20289039 1.04709082 0.15477197 0.47599542 0.68218424 0.42005513\n",
      " 0.49167075 1.02496144 0.73123808 2.94011757 1.78393422 0.27640156\n",
      " 2.46572984 2.73020416]\n",
      "Start pure competency baseline\n",
      "Covariance matrix is good: True\n",
      "EM Iteration 2\n",
      "Current Monte Carlo Sample size: 300\n"
     ]
    },
    {
     "name": "stderr",
     "output_type": "stream",
     "text": [
      "c:\\Users\\Jesper\\Anaconda3\\lib\\site-packages\\scipy\\stats\\_qmc.py:2039: UserWarning: The balance properties of Sobol' points require n to be a power of 2.\n",
      "  samples = self.engine.random(n)\n"
     ]
    },
    {
     "name": "stdout",
     "output_type": "stream",
     "text": [
      "Step: 2: current parameter_diff: 22.140616178879444, current marginal loglikelihood: -955.41028360942\n",
      "EM Iteration 3\n",
      "Current Monte Carlo Sample size: 300\n",
      "Step: 3: current parameter_diff: 8.877380268571175, current marginal loglikelihood: -938.8187297755597\n",
      "EM Iteration 4\n",
      "Current Monte Carlo Sample size: 330\n",
      "Step: 4: current parameter_diff: 4.676717281533277, current marginal loglikelihood: -936.638014111035\n",
      "EM Iteration 5\n",
      "Current Monte Carlo Sample size: 363\n",
      "Step: 5: current parameter_diff: 3.0998105244743046, current marginal loglikelihood: -932.027117627003\n",
      "EM Iteration 6\n",
      "Current Monte Carlo Sample size: 399\n",
      "Step: 6: current parameter_diff: 1.834045717458322, current marginal loglikelihood: -934.6900338621226\n",
      "EM Iteration 2\n"
     ]
    },
    {
     "name": "stderr",
     "output_type": "stream",
     "text": [
      "c:\\Users\\Jesper\\Anaconda3\\lib\\site-packages\\scipy\\stats\\_qmc.py:2039: UserWarning: The balance properties of Sobol' points require n to be a power of 2.\n",
      "  samples = self.engine.random(n)\n"
     ]
    },
    {
     "name": "stdout",
     "output_type": "stream",
     "text": [
      "Current Monte Carlo Sample size: 300\n",
      "Step: 2: current parameter_diff: 29.685487783986833, current marginal loglikelihood: -873.2062818498149\n",
      "EM Iteration 3\n",
      "Current Monte Carlo Sample size: 330\n",
      "Step: 3: current parameter_diff: 13.163961036794957, current marginal loglikelihood: -848.7168149236755\n",
      "EM Iteration 4\n",
      "Current Monte Carlo Sample size: 363\n",
      "Step: 4: current parameter_diff: 8.081432172378028, current marginal loglikelihood: -842.2043778835477\n",
      "EM Iteration 5\n",
      "Current Monte Carlo Sample size: 399\n",
      "Step: 5: current parameter_diff: 36.97252873650788, current marginal loglikelihood: -874.2883820081248\n",
      "EM Iteration 6\n",
      "Current Monte Carlo Sample size: 438\n",
      "Step: 6: current parameter_diff: 23.320616091253566, current marginal loglikelihood: -835.0254814216067\n",
      "EM Iteration 7\n",
      "Current Monte Carlo Sample size: 481\n",
      "Step: 7: current parameter_diff: 6.6757472311221635, current marginal loglikelihood: -834.7005754286505\n",
      "EM Iteration 8\n",
      "Current Monte Carlo Sample size: 529\n",
      "Step: 8: current parameter_diff: 3.8136574673643167, current marginal loglikelihood: -831.8324458429515\n",
      "EM Iteration 9\n",
      "Current Monte Carlo Sample size: 581\n",
      "Step: 9: current parameter_diff: 7.4797361562731615, current marginal loglikelihood: -835.2294259318595\n",
      "Absolute diff in A:\n",
      "[[0.         0.66680304]\n",
      " [0.         1.12141842]\n",
      " [0.         0.41037965]\n",
      " [0.         2.30880512]\n",
      " [0.         0.94032398]\n",
      " [0.62315856 0.        ]\n",
      " [0.26262149 0.        ]\n",
      " [0.24967915 0.        ]\n",
      " [0.03575956 0.        ]\n",
      " [0.16385449 0.        ]\n",
      " [0.11446316 0.        ]\n",
      " [1.19202021 0.        ]\n",
      " [0.00282073 0.10471331]\n",
      " [1.49305013 0.5364086 ]\n",
      " [0.22655903 0.28886907]\n",
      " [0.6386913  0.14033244]\n",
      " [0.19396102 1.2541934 ]\n",
      " [0.52094555 0.69115831]\n",
      " [1.09428635 2.60634952]\n",
      " [1.02324913 0.47922497]]\n",
      "Absolute diff in delta:\n",
      "[0.05822775 0.02585124 0.12609736 0.02872299 0.0531088  0.57964747\n",
      " 0.02815238 0.26683717 0.09136071 0.28271867 0.0853203  0.18733238\n",
      " 0.0074324  0.3320583  0.69220115 0.1482705  0.12670451 0.13538164\n",
      " 0.83023648 0.751398  ]\n",
      "Absolute diff in sigma:\n",
      "[[0.     0.0136]\n",
      " [0.0136 0.    ]]\n",
      "Absolute diff in A:\n",
      "[[0.         0.29907007]\n",
      " [0.         0.99491814]\n",
      " [0.         0.18996919]\n",
      " [0.         0.36577558]\n",
      " [0.         0.05133063]\n",
      " [0.1562334  0.        ]\n",
      " [4.67544213 0.        ]\n",
      " [8.3480229  0.        ]\n",
      " [0.25648473 0.        ]\n",
      " [0.72150888 0.        ]\n",
      " [0.70138269 0.        ]\n",
      " [0.40278716 0.        ]\n",
      " [0.71303395 0.        ]\n",
      " [0.18276503 0.3095687 ]\n",
      " [1.78440926 0.42422412]\n",
      " [0.3848046  2.02483312]\n",
      " [0.40922936 0.66140748]\n",
      " [1.87102487 0.35398699]\n",
      " [1.64114005 2.33756497]\n",
      " [1.41600078 2.24578763]]\n",
      "Absolute diff in delta:\n",
      "[1.94943338 0.82459751 0.75682266 0.87861718 0.05877848 0.16054732\n",
      " 1.97861038 0.29936998 0.1911965  0.94534309 0.77765031 0.18248322\n",
      " 0.26255959 2.31098887 0.13148093 3.97522502 2.27352206 2.29881985\n",
      " 2.91881436 2.92955104]\n",
      "Real latent covariance: [[ 1.      0.6392  0.2004  0.153  -0.1445  0.2664]\n",
      " [ 0.6392  1.      0.3432  0.433   0.2707  0.3498]\n",
      " [ 0.2004  0.3432  1.     -0.1827 -0.1406  0.2523]\n",
      " [ 0.153   0.433  -0.1827  1.1603  0.4179  0.3943]\n",
      " [-0.1445  0.2707 -0.1406  0.4179  0.5     0.    ]\n",
      " [ 0.2664  0.3498  0.2523  0.3943  0.      0.5   ]]\n",
      "Start late EM\n",
      "Covariance matrix is good: True\n",
      "EM Iteration 2\n",
      "Current Monte Carlo Sample size: 600\n"
     ]
    },
    {
     "name": "stderr",
     "output_type": "stream",
     "text": [
      "c:\\Users\\Jesper\\Anaconda3\\lib\\site-packages\\scipy\\stats\\_qmc.py:2039: UserWarning: The balance properties of Sobol' points require n to be a power of 2.\n",
      "  samples = self.engine.random(n)\n"
     ]
    },
    {
     "name": "stdout",
     "output_type": "stream",
     "text": [
      "[[1.         0.47387565 0.48913839]\n",
      " [0.47387565 1.         0.57979679]\n",
      " [0.48913839 0.57979679 1.        ]]\n",
      "Step: 2: current parameter_diff: 30.49920456287862, current marginal loglikelihood: -856.353739118862\n",
      "EM Iteration 3\n",
      "Current Monte Carlo Sample size: 660\n"
     ]
    },
    {
     "name": "stderr",
     "output_type": "stream",
     "text": [
      "c:\\Users\\Jesper\\Anaconda3\\lib\\site-packages\\scipy\\stats\\_qmc.py:2039: UserWarning: The balance properties of Sobol' points require n to be a power of 2.\n",
      "  samples = self.engine.random(n)\n"
     ]
    },
    {
     "name": "stdout",
     "output_type": "stream",
     "text": [
      "[[1.         0.48076007 0.4490372 ]\n",
      " [0.48076007 1.         0.62562902]\n",
      " [0.4490372  0.62562902 1.        ]]\n",
      "Step: 3: current parameter_diff: 23.398451444236688, current marginal loglikelihood: -821.677446248062\n",
      "EM Iteration 4\n",
      "Current Monte Carlo Sample size: 726\n"
     ]
    },
    {
     "name": "stderr",
     "output_type": "stream",
     "text": [
      "c:\\Users\\Jesper\\Anaconda3\\lib\\site-packages\\scipy\\stats\\_qmc.py:2039: UserWarning: The balance properties of Sobol' points require n to be a power of 2.\n",
      "  samples = self.engine.random(n)\n"
     ]
    },
    {
     "name": "stdout",
     "output_type": "stream",
     "text": [
      "[[1.         0.48070649 0.36177651]\n",
      " [0.48070649 1.         0.59642589]\n",
      " [0.36177651 0.59642589 1.        ]]\n",
      "Step: 4: current parameter_diff: 15.685782729768182, current marginal loglikelihood: -812.0146028095895\n",
      "EM Iteration 5\n",
      "Current Monte Carlo Sample size: 798\n"
     ]
    },
    {
     "name": "stderr",
     "output_type": "stream",
     "text": [
      "c:\\Users\\Jesper\\Anaconda3\\lib\\site-packages\\scipy\\stats\\_qmc.py:2039: UserWarning: The balance properties of Sobol' points require n to be a power of 2.\n",
      "  samples = self.engine.random(n)\n"
     ]
    },
    {
     "name": "stdout",
     "output_type": "stream",
     "text": [
      "[[1.         0.46655383 0.28654012]\n",
      " [0.46655383 1.         0.54877358]\n",
      " [0.28654012 0.54877358 1.        ]]\n",
      "Step: 5: current parameter_diff: 17.030822704934206, current marginal loglikelihood: -800.6065049816473\n",
      "EM Iteration 6\n",
      "Current Monte Carlo Sample size: 877\n"
     ]
    },
    {
     "name": "stderr",
     "output_type": "stream",
     "text": [
      "c:\\Users\\Jesper\\Anaconda3\\lib\\site-packages\\scipy\\stats\\_qmc.py:2039: UserWarning: The balance properties of Sobol' points require n to be a power of 2.\n",
      "  samples = self.engine.random(n)\n"
     ]
    },
    {
     "name": "stdout",
     "output_type": "stream",
     "text": [
      "[[1.         0.50855576 0.25320198]\n",
      " [0.50855576 1.         0.51879481]\n",
      " [0.25320198 0.51879481 1.        ]]\n",
      "Step: 6: current parameter_diff: 12.885249945253506, current marginal loglikelihood: -795.0918248965005\n",
      "EM Iteration 7\n",
      "Current Monte Carlo Sample size: 964\n"
     ]
    },
    {
     "name": "stderr",
     "output_type": "stream",
     "text": [
      "c:\\Users\\Jesper\\Anaconda3\\lib\\site-packages\\scipy\\stats\\_qmc.py:2039: UserWarning: The balance properties of Sobol' points require n to be a power of 2.\n",
      "  samples = self.engine.random(n)\n"
     ]
    },
    {
     "name": "stdout",
     "output_type": "stream",
     "text": [
      "[[1.         0.49883581 0.23057215]\n",
      " [0.49883581 1.         0.51572199]\n",
      " [0.23057215 0.51572199 1.        ]]\n",
      "Step: 7: current parameter_diff: 9.38372704660971, current marginal loglikelihood: -796.0800502810571\n",
      "EM Iteration 8\n",
      "Current Monte Carlo Sample size: 1060\n"
     ]
    },
    {
     "name": "stderr",
     "output_type": "stream",
     "text": [
      "c:\\Users\\Jesper\\Anaconda3\\lib\\site-packages\\scipy\\stats\\_qmc.py:2039: UserWarning: The balance properties of Sobol' points require n to be a power of 2.\n",
      "  samples = self.engine.random(n)\n"
     ]
    },
    {
     "name": "stdout",
     "output_type": "stream",
     "text": [
      "[[1.         0.47385834 0.20355775]\n",
      " [0.47385834 1.         0.52181171]\n",
      " [0.20355775 0.52181171 1.        ]]\n",
      "Step: 8: current parameter_diff: 12.82769272357106, current marginal loglikelihood: -790.2276382747777\n",
      "EM Iteration 9\n",
      "Current Monte Carlo Sample size: 1166\n"
     ]
    },
    {
     "name": "stderr",
     "output_type": "stream",
     "text": [
      "c:\\Users\\Jesper\\Anaconda3\\lib\\site-packages\\scipy\\stats\\_qmc.py:2039: UserWarning: The balance properties of Sobol' points require n to be a power of 2.\n",
      "  samples = self.engine.random(n)\n"
     ]
    },
    {
     "name": "stdout",
     "output_type": "stream",
     "text": [
      "[[1.         0.45217565 0.17118433]\n",
      " [0.45217565 1.         0.49456201]\n",
      " [0.17118433 0.49456201 1.        ]]\n",
      "Step: 9: current parameter_diff: 3.375462320769891, current marginal loglikelihood: -790.8199032489556\n",
      "EM Iteration 10\n",
      "Current Monte Carlo Sample size: 1282\n"
     ]
    },
    {
     "name": "stderr",
     "output_type": "stream",
     "text": [
      "c:\\Users\\Jesper\\Anaconda3\\lib\\site-packages\\scipy\\stats\\_qmc.py:2039: UserWarning: The balance properties of Sobol' points require n to be a power of 2.\n",
      "  samples = self.engine.random(n)\n"
     ]
    },
    {
     "name": "stdout",
     "output_type": "stream",
     "text": [
      "[[1.         0.44793199 0.17328098]\n",
      " [0.44793199 1.         0.51466011]\n",
      " [0.17328098 0.51466011 1.        ]]\n",
      "Step: 10: current parameter_diff: 7.937252702692804, current marginal loglikelihood: -792.8680436505978\n",
      "EM Iteration 11\n",
      "Current Monte Carlo Sample size: 1410\n",
      "[[1.         0.43513246 0.19641485]\n",
      " [0.43513246 1.         0.5459819 ]\n",
      " [0.19641485 0.5459819  1.        ]]\n",
      "Step: 11: current parameter_diff: 6.3114345778403536, current marginal loglikelihood: -789.1896992507988\n",
      "EM Iteration 2\n"
     ]
    },
    {
     "name": "stderr",
     "output_type": "stream",
     "text": [
      "c:\\Users\\Jesper\\Anaconda3\\lib\\site-packages\\scipy\\stats\\_qmc.py:2039: UserWarning: The balance properties of Sobol' points require n to be a power of 2.\n",
      "  samples = self.engine.random(n)\n"
     ]
    },
    {
     "name": "stdout",
     "output_type": "stream",
     "text": [
      "Current Monte Carlo Sample size: 600\n",
      "[[ 0.99990035  0.43509991  0.19639987  0.06204729  0.11956062  0.3048203 ]\n",
      " [ 0.43509991  1.00000008  0.5459     -0.11274422  0.19537209  0.1277017 ]\n",
      " [ 0.19639987  0.5459      1.00000005 -0.03528082  0.0678915   0.15212017]\n",
      " [ 0.06204729 -0.11274422 -0.03528082  1.34230521  0.01717013  0.11795738]\n",
      " [ 0.11956062  0.19537209  0.0678915   0.01717013  0.65065532  0.05159888]\n",
      " [ 0.3048203   0.1277017   0.15212017  0.11795738  0.05159888  0.70035955]]\n",
      "Step: 2: current parameter_diff: 27.388436804292123, current marginal loglikelihood: -1169.1228806925603\n",
      "EM Iteration 3\n"
     ]
    },
    {
     "name": "stderr",
     "output_type": "stream",
     "text": [
      "c:\\Users\\Jesper\\Anaconda3\\lib\\site-packages\\scipy\\stats\\_qmc.py:2039: UserWarning: The balance properties of Sobol' points require n to be a power of 2.\n",
      "  samples = self.engine.random(n)\n"
     ]
    },
    {
     "name": "stdout",
     "output_type": "stream",
     "text": [
      "Current Monte Carlo Sample size: 660\n",
      "[[ 0.9999001   0.43509992  0.19639997  0.42830952 -0.16936881  0.23406631]\n",
      " [ 0.43509992  1.          0.54590002  0.20820945  0.18751298  0.16562458]\n",
      " [ 0.19639997  0.54590002  0.99999993  0.25930715  0.02079588  0.17964221]\n",
      " [ 0.42830952  0.20820945  0.25930715  0.60978078  0.08228512  0.26873992]\n",
      " [-0.16936881  0.18751298  0.02079588  0.08228512  0.66637384  0.32197703]\n",
      " [ 0.23406631  0.16562458  0.17964221  0.26873992  0.32197703  0.64531553]]\n",
      "Step: 3: current parameter_diff: 20.204849545530397, current marginal loglikelihood: -1152.1664863001395\n",
      "EM Iteration 4\n"
     ]
    },
    {
     "name": "stderr",
     "output_type": "stream",
     "text": [
      "c:\\Users\\Jesper\\Anaconda3\\lib\\site-packages\\scipy\\stats\\_qmc.py:2039: UserWarning: The balance properties of Sobol' points require n to be a power of 2.\n",
      "  samples = self.engine.random(n)\n"
     ]
    },
    {
     "name": "stdout",
     "output_type": "stream",
     "text": [
      "Current Monte Carlo Sample size: 726\n",
      "[[ 0.99989965  0.43509997  0.19639988  0.12441299 -0.30195256  0.15103935]\n",
      " [ 0.43509997  0.99999992  0.54589976  0.02285919  0.1540242   0.18128099]\n",
      " [ 0.19639988  0.54589976  1.00000002 -0.13290289 -0.16895173 -0.01280345]\n",
      " [ 0.12441299  0.02285919 -0.13290289  1.21757441  0.60316102  0.80747092]\n",
      " [-0.30195256  0.1540242  -0.16895173  0.60316102  0.73335168  0.54238797]\n",
      " [ 0.15103935  0.18128099 -0.01280345  0.80747092  0.54238797  1.03020652]]\n",
      "Step: 4: current parameter_diff: 19.21720221539765, current marginal loglikelihood: -1149.3487493104205\n",
      "EM Iteration 5\n"
     ]
    },
    {
     "name": "stderr",
     "output_type": "stream",
     "text": [
      "c:\\Users\\Jesper\\Anaconda3\\lib\\site-packages\\scipy\\stats\\_qmc.py:2039: UserWarning: The balance properties of Sobol' points require n to be a power of 2.\n",
      "  samples = self.engine.random(n)\n"
     ]
    },
    {
     "name": "stdout",
     "output_type": "stream",
     "text": [
      "Current Monte Carlo Sample size: 798\n",
      "[[ 0.99990096  0.43510045  0.19639999  0.12442013 -0.30192192  0.15098404]\n",
      " [ 0.43510045  1.00000041  0.5458992   0.02273841  0.15399047  0.18115248]\n",
      " [ 0.19639999  0.5458992   0.99999827 -0.13290928 -0.16891387 -0.01275501]\n",
      " [ 0.12442013  0.02273841 -0.13290928  1.21755804  0.60315119  0.80736746]\n",
      " [-0.30192192  0.15399047 -0.16891387  0.60315119  0.73341866  0.54231567]\n",
      " [ 0.15098404  0.18115248 -0.01275501  0.80736746  0.54231567  1.03011228]]\n",
      "Step: 5: current parameter_diff: 7.388281878108348, current marginal loglikelihood: -1151.7748424553238\n",
      "EM Iteration 6\n"
     ]
    },
    {
     "name": "stderr",
     "output_type": "stream",
     "text": [
      "c:\\Users\\Jesper\\Anaconda3\\lib\\site-packages\\scipy\\stats\\_qmc.py:2039: UserWarning: The balance properties of Sobol' points require n to be a power of 2.\n",
      "  samples = self.engine.random(n)\n"
     ]
    },
    {
     "name": "stdout",
     "output_type": "stream",
     "text": [
      "Current Monte Carlo Sample size: 877\n",
      "[[ 0.99989982  0.43509987  0.19640032  0.12442157 -0.30187615  0.15082533]\n",
      " [ 0.43509987  0.99999967  0.54589969  0.02267384  0.15395074  0.18099851]\n",
      " [ 0.19640032  0.54589969  0.99999973 -0.13289661 -0.16889156 -0.01271111]\n",
      " [ 0.12442157  0.02267384 -0.13289661  1.21755686  0.60315567  0.8072919 ]\n",
      " [-0.30187615  0.15395074 -0.16889156  0.60315567  0.73349883  0.54234675]\n",
      " [ 0.15082533  0.18099851 -0.01271111  0.8072919   0.54234675  1.03002275]]\n",
      "Step: 6: current parameter_diff: 6.8939209668229715, current marginal loglikelihood: -1149.7425409878954\n",
      "Absolute diff in A:\n",
      "[[0.00000000e+00 0.00000000e+00 6.16722887e+00]\n",
      " [0.00000000e+00 0.00000000e+00 7.21065770e-01]\n",
      " [0.00000000e+00 8.83642772e-01 0.00000000e+00]\n",
      " [0.00000000e+00 3.61468288e-01 0.00000000e+00]\n",
      " [0.00000000e+00 7.16031522e+00 5.34720910e-01]\n",
      " [0.00000000e+00 4.90156055e-01 6.57037010e-01]\n",
      " [0.00000000e+00 1.39666184e+01 1.29684505e+00]\n",
      " [0.00000000e+00 3.49128647e-01 3.88320961e-03]\n",
      " [2.23400615e-01 0.00000000e+00 0.00000000e+00]\n",
      " [3.67005181e-01 0.00000000e+00 9.43529188e-02]\n",
      " [1.22923912e+00 0.00000000e+00 5.57832096e-01]\n",
      " [2.04742569e+00 0.00000000e+00 6.99826585e-01]\n",
      " [8.09460308e-01 0.00000000e+00 2.18949421e-01]\n",
      " [8.21427710e-01 4.64473246e-01 0.00000000e+00]\n",
      " [1.04146819e+00 1.01007509e+01 0.00000000e+00]\n",
      " [4.13718510e+00 5.59435766e-01 0.00000000e+00]\n",
      " [1.75104713e-01 7.49834132e-01 0.00000000e+00]\n",
      " [1.63433237e+00 9.74656272e-01 0.00000000e+00]\n",
      " [8.24574889e-01 1.15222145e+00 0.00000000e+00]\n",
      " [3.25784680e+00 4.72132332e+00 2.94533927e+00]]\n",
      "Absolute diff in delta:\n",
      "[3.40243298 0.84795326 0.06650545 0.09389206 0.23087656 0.87924433\n",
      " 0.84002623 0.54712147 0.73829254 0.0475445  0.66492738 1.24555543\n",
      " 1.82748318 0.34305331 0.91315021 2.52350236 0.18253155 0.88638843\n",
      " 0.36619727 2.63447252]\n",
      "Absolute diff in sigma:\n",
      "[[1.000e-04 2.041e-01 4.000e-03]\n",
      " [2.041e-01 0.000e+00 2.027e-01]\n",
      " [4.000e-03 2.027e-01 0.000e+00]]\n",
      "Absolute diff in A:\n",
      "[[0.         0.         0.11613071]\n",
      " [0.         0.         0.3405068 ]\n",
      " [0.         0.         0.14188279]\n",
      " [0.         0.29645296 0.        ]\n",
      " [0.         0.06105959 0.        ]\n",
      " [0.         4.59725276 0.        ]\n",
      " [0.         2.96000901 0.        ]\n",
      " [0.         0.69293185 0.        ]\n",
      " [0.         0.19879437 0.16529779]\n",
      " [0.         0.48018534 0.82118062]\n",
      " [0.         0.08144321 0.21107458]\n",
      " [0.         0.62339044 0.55793342]\n",
      " [0.59561991 0.         0.        ]\n",
      " [0.52052849 0.         0.        ]\n",
      " [0.81258819 0.         0.7895593 ]\n",
      " [0.03896797 0.         0.47007267]\n",
      " [0.00646942 0.52459292 0.        ]\n",
      " [0.02162753 0.48267899 0.        ]\n",
      " [0.0984357  1.54402684 0.00663214]\n",
      " [2.46293103 0.37817013 1.40286601]]\n",
      "Absolute diff in delta:\n",
      "[0.24222063 0.15746884 0.24300643 0.8991637  0.32364871 0.40521618\n",
      " 1.87718295 0.13946879 0.49269592 0.65000292 0.21709723 0.61231061\n",
      " 0.14295304 0.57786763 0.4112044  0.61935909 0.34739672 0.14008323\n",
      " 1.04242372 2.39997039]\n",
      "Start initial baseline\n",
      "Absolute diff in A:\n",
      "[[0.00000000e+00 0.00000000e+00 3.05752097e+00]\n",
      " [0.00000000e+00 0.00000000e+00 4.07136058e+00]\n",
      " [0.00000000e+00 1.59879838e+00 0.00000000e+00]\n",
      " [0.00000000e+00 2.07682162e+00 0.00000000e+00]\n",
      " [0.00000000e+00 4.58872388e+00 1.73909046e-01]\n",
      " [0.00000000e+00 1.59636347e+00 9.89210972e-01]\n",
      " [0.00000000e+00 4.18315935e+00 1.57508229e+00]\n",
      " [0.00000000e+00 1.02024910e+00 1.78089109e+00]\n",
      " [4.60119562e+00 0.00000000e+00 0.00000000e+00]\n",
      " [3.76473871e-01 0.00000000e+00 4.98542825e-01]\n",
      " [1.50134448e+00 0.00000000e+00 2.02361768e+00]\n",
      " [2.90920717e+00 0.00000000e+00 7.22989657e-01]\n",
      " [2.65028385e+00 0.00000000e+00 2.76533340e-01]\n",
      " [1.56756698e+00 2.49727546e+00 0.00000000e+00]\n",
      " [1.24909461e-01 1.49492353e+01 0.00000000e+00]\n",
      " [1.20019659e+01 1.71113104e+00 0.00000000e+00]\n",
      " [3.28094165e-01 4.80372082e-01 0.00000000e+00]\n",
      " [5.24036169e-01 1.87509955e+00 0.00000000e+00]\n",
      " [6.35017751e-01 1.18253744e-02 0.00000000e+00]\n",
      " [5.48161069e-01 6.86883703e+00 1.31485617e+00]]\n",
      "Absolute diff in delta:\n",
      "[6.04924053e-01 6.84142421e-04 1.07937021e-01 3.05132340e-01\n",
      " 7.21338779e-02 2.10808209e-01 4.70969008e-01 6.20845777e-01\n",
      " 1.56049014e-01 1.04395464e-01 8.90030206e-01 1.14212913e+00\n",
      " 4.81435017e-01 6.59921278e-01 1.46588914e+00 1.72116366e+00\n",
      " 2.07434464e-01 6.45229140e-01 1.32435306e-01 1.70375814e+00]\n",
      "Absolute diff in sigma:\n",
      "[[0.     0.1392 0.2996]\n",
      " [0.1392 0.     0.1568]\n",
      " [0.2996 0.1568 0.    ]]\n",
      "Absolute diff in A:\n",
      "[[1.         1.         0.48003047]\n",
      " [1.         1.         1.37355694]\n",
      " [1.         1.         0.37098085]\n",
      " [1.         0.29858476 1.        ]\n",
      " [1.         0.61952161 1.        ]\n",
      " [1.         6.36371469 1.        ]\n",
      " [1.         0.55519201 1.        ]\n",
      " [1.         0.12834168 1.        ]\n",
      " [1.         0.45390534 0.22732445]\n",
      " [1.         0.34810051 0.0210265 ]\n",
      " [1.         0.77205378 0.21778145]\n",
      " [1.         2.12485844 0.40627054]\n",
      " [0.76773445 1.         1.        ]\n",
      " [0.39244748 1.         1.        ]\n",
      " [2.34210288 1.         2.87877596]\n",
      " [0.50973265 1.         0.851086  ]\n",
      " [0.32566144 0.08664701 1.        ]\n",
      " [0.32217903 0.02257459 1.        ]\n",
      " [0.03472517 1.83078845 0.46950778]\n",
      " [0.24148458 0.282577   0.76310856]]\n",
      "Absolute diff in delta:\n",
      "[0.10235236 0.64958779 0.02938087 1.23036462 0.02780308 0.55399852\n",
      " 0.69291824 0.38483843 0.35155158 1.12359542 0.22178496 1.19060022\n",
      " 0.71047615 0.03767998 1.16720238 1.91785215 0.33852008 0.42787456\n",
      " 0.89108816 0.61654166]\n",
      "Start difference baseline\n",
      "Covariance matrix is good: True\n",
      "EM Iteration 2\n",
      "Current Monte Carlo Sample size: 600\n"
     ]
    },
    {
     "name": "stderr",
     "output_type": "stream",
     "text": [
      "c:\\Users\\Jesper\\Anaconda3\\lib\\site-packages\\scipy\\stats\\_qmc.py:2039: UserWarning: The balance properties of Sobol' points require n to be a power of 2.\n",
      "  samples = self.engine.random(n)\n"
     ]
    },
    {
     "name": "stdout",
     "output_type": "stream",
     "text": [
      "[[1.         0.49439341 0.46678469]\n",
      " [0.49439341 1.         0.62695714]\n",
      " [0.46678469 0.62695714 1.        ]]\n",
      "Step: 2: current parameter_diff: 27.351491475859625, current marginal loglikelihood: -858.707068375127\n",
      "EM Iteration 3\n",
      "Current Monte Carlo Sample size: 660\n"
     ]
    },
    {
     "name": "stderr",
     "output_type": "stream",
     "text": [
      "c:\\Users\\Jesper\\Anaconda3\\lib\\site-packages\\scipy\\stats\\_qmc.py:2039: UserWarning: The balance properties of Sobol' points require n to be a power of 2.\n",
      "  samples = self.engine.random(n)\n"
     ]
    },
    {
     "name": "stdout",
     "output_type": "stream",
     "text": [
      "[[1.         0.49019933 0.39261364]\n",
      " [0.49019933 1.         0.64830784]\n",
      " [0.39261364 0.64830784 1.        ]]\n",
      "Step: 3: current parameter_diff: 24.658179300626177, current marginal loglikelihood: -828.1810931730321\n",
      "EM Iteration 4\n",
      "Current Monte Carlo Sample size: 660\n"
     ]
    },
    {
     "name": "stderr",
     "output_type": "stream",
     "text": [
      "c:\\Users\\Jesper\\Anaconda3\\lib\\site-packages\\scipy\\stats\\_qmc.py:2039: UserWarning: The balance properties of Sobol' points require n to be a power of 2.\n",
      "  samples = self.engine.random(n)\n"
     ]
    },
    {
     "name": "stdout",
     "output_type": "stream",
     "text": [
      "[[1.         0.50724488 0.3228736 ]\n",
      " [0.50724488 1.         0.63664093]\n",
      " [0.3228736  0.63664093 1.        ]]\n",
      "Step: 4: current parameter_diff: 20.770747373202084, current marginal loglikelihood: -807.760350160987\n",
      "EM Iteration 5\n",
      "Current Monte Carlo Sample size: 726\n"
     ]
    },
    {
     "name": "stderr",
     "output_type": "stream",
     "text": [
      "c:\\Users\\Jesper\\Anaconda3\\lib\\site-packages\\scipy\\stats\\_qmc.py:2039: UserWarning: The balance properties of Sobol' points require n to be a power of 2.\n",
      "  samples = self.engine.random(n)\n"
     ]
    },
    {
     "name": "stdout",
     "output_type": "stream",
     "text": [
      "[[1.         0.49251481 0.27202202]\n",
      " [0.49251481 1.         0.60323167]\n",
      " [0.27202202 0.60323167 1.        ]]\n",
      "Step: 5: current parameter_diff: 18.069698757718687, current marginal loglikelihood: -803.279158200696\n",
      "EM Iteration 6\n",
      "Current Monte Carlo Sample size: 798\n"
     ]
    },
    {
     "name": "stderr",
     "output_type": "stream",
     "text": [
      "c:\\Users\\Jesper\\Anaconda3\\lib\\site-packages\\scipy\\stats\\_qmc.py:2039: UserWarning: The balance properties of Sobol' points require n to be a power of 2.\n",
      "  samples = self.engine.random(n)\n"
     ]
    },
    {
     "name": "stdout",
     "output_type": "stream",
     "text": [
      "[[1.         0.46708666 0.25700446]\n",
      " [0.46708666 1.         0.57541854]\n",
      " [0.25700446 0.57541854 1.        ]]\n",
      "Step: 6: current parameter_diff: 9.993164258491865, current marginal loglikelihood: -797.790060768981\n",
      "EM Iteration 7\n",
      "Current Monte Carlo Sample size: 798\n"
     ]
    },
    {
     "name": "stderr",
     "output_type": "stream",
     "text": [
      "c:\\Users\\Jesper\\Anaconda3\\lib\\site-packages\\scipy\\stats\\_qmc.py:2039: UserWarning: The balance properties of Sobol' points require n to be a power of 2.\n",
      "  samples = self.engine.random(n)\n"
     ]
    },
    {
     "name": "stdout",
     "output_type": "stream",
     "text": [
      "[[1.         0.45795383 0.22766312]\n",
      " [0.45795383 1.         0.54947439]\n",
      " [0.22766312 0.54947439 1.        ]]\n",
      "Step: 7: current parameter_diff: 13.629372796128724, current marginal loglikelihood: -792.5799331814529\n",
      "EM Iteration 8\n",
      "Current Monte Carlo Sample size: 798\n"
     ]
    },
    {
     "name": "stderr",
     "output_type": "stream",
     "text": [
      "c:\\Users\\Jesper\\Anaconda3\\lib\\site-packages\\scipy\\stats\\_qmc.py:2039: UserWarning: The balance properties of Sobol' points require n to be a power of 2.\n",
      "  samples = self.engine.random(n)\n"
     ]
    },
    {
     "name": "stdout",
     "output_type": "stream",
     "text": [
      "[[1.         0.45951021 0.18652302]\n",
      " [0.45951021 1.         0.55963328]\n",
      " [0.18652302 0.55963328 1.        ]]\n",
      "Step: 8: current parameter_diff: 8.35237853832247, current marginal loglikelihood: -795.2500377396724\n",
      "EM Iteration 9\n",
      "Current Monte Carlo Sample size: 798\n"
     ]
    },
    {
     "name": "stderr",
     "output_type": "stream",
     "text": [
      "c:\\Users\\Jesper\\Anaconda3\\lib\\site-packages\\scipy\\stats\\_qmc.py:2039: UserWarning: The balance properties of Sobol' points require n to be a power of 2.\n",
      "  samples = self.engine.random(n)\n"
     ]
    },
    {
     "name": "stdout",
     "output_type": "stream",
     "text": [
      "[[1.         0.41326047 0.2027082 ]\n",
      " [0.41326047 1.         0.56053369]\n",
      " [0.2027082  0.56053369 1.        ]]\n",
      "Step: 9: current parameter_diff: 13.97617038595547, current marginal loglikelihood: -790.9213200940148\n",
      "EM Iteration 10\n",
      "Current Monte Carlo Sample size: 798\n"
     ]
    },
    {
     "name": "stderr",
     "output_type": "stream",
     "text": [
      "c:\\Users\\Jesper\\Anaconda3\\lib\\site-packages\\scipy\\stats\\_qmc.py:2039: UserWarning: The balance properties of Sobol' points require n to be a power of 2.\n",
      "  samples = self.engine.random(n)\n"
     ]
    },
    {
     "name": "stdout",
     "output_type": "stream",
     "text": [
      "[[1.         0.40496592 0.17640892]\n",
      " [0.40496592 1.         0.54963609]\n",
      " [0.17640892 0.54963609 1.        ]]\n",
      "Step: 10: current parameter_diff: 3.9438173036385273, current marginal loglikelihood: -788.4561489450394\n",
      "EM Iteration 11\n",
      "Current Monte Carlo Sample size: 877\n"
     ]
    },
    {
     "name": "stderr",
     "output_type": "stream",
     "text": [
      "c:\\Users\\Jesper\\Anaconda3\\lib\\site-packages\\scipy\\stats\\_qmc.py:2039: UserWarning: The balance properties of Sobol' points require n to be a power of 2.\n",
      "  samples = self.engine.random(n)\n"
     ]
    },
    {
     "name": "stdout",
     "output_type": "stream",
     "text": [
      "[[1.         0.40350523 0.1748056 ]\n",
      " [0.40350523 1.         0.54621634]\n",
      " [0.1748056  0.54621634 1.        ]]\n",
      "Step: 11: current parameter_diff: 4.94958340340334, current marginal loglikelihood: -789.9448199178844\n",
      "EM Iteration 12\n",
      "Current Monte Carlo Sample size: 964\n"
     ]
    },
    {
     "name": "stderr",
     "output_type": "stream",
     "text": [
      "c:\\Users\\Jesper\\Anaconda3\\lib\\site-packages\\scipy\\stats\\_qmc.py:2039: UserWarning: The balance properties of Sobol' points require n to be a power of 2.\n",
      "  samples = self.engine.random(n)\n"
     ]
    },
    {
     "name": "stdout",
     "output_type": "stream",
     "text": [
      "[[1.         0.40795152 0.12389465]\n",
      " [0.40795152 1.         0.48889427]\n",
      " [0.12389465 0.48889427 1.        ]]\n",
      "Step: 12: current parameter_diff: 4.173333531153419, current marginal loglikelihood: -789.0457946024602\n",
      "Covariance matrix is good: True\n",
      "EM Iteration 2\n",
      "Current Monte Carlo Sample size: 600\n"
     ]
    },
    {
     "name": "stderr",
     "output_type": "stream",
     "text": [
      "c:\\Users\\Jesper\\Anaconda3\\lib\\site-packages\\scipy\\stats\\_qmc.py:2039: UserWarning: The balance properties of Sobol' points require n to be a power of 2.\n",
      "  samples = self.engine.random(n)\n"
     ]
    },
    {
     "name": "stdout",
     "output_type": "stream",
     "text": [
      "[[1.         0.51511207 0.50635353]\n",
      " [0.51511207 1.         0.43476746]\n",
      " [0.50635353 0.43476746 1.        ]]\n",
      "Step: 2: current parameter_diff: 24.307113211887106, current marginal loglikelihood: -887.5606523694557\n",
      "EM Iteration 3\n",
      "Current Monte Carlo Sample size: 660\n"
     ]
    },
    {
     "name": "stderr",
     "output_type": "stream",
     "text": [
      "c:\\Users\\Jesper\\Anaconda3\\lib\\site-packages\\scipy\\stats\\_qmc.py:2039: UserWarning: The balance properties of Sobol' points require n to be a power of 2.\n",
      "  samples = self.engine.random(n)\n"
     ]
    },
    {
     "name": "stdout",
     "output_type": "stream",
     "text": [
      "[[1.         0.53560548 0.4529034 ]\n",
      " [0.53560548 1.         0.31118414]\n",
      " [0.4529034  0.31118414 1.        ]]\n",
      "Step: 3: current parameter_diff: 15.973404328871474, current marginal loglikelihood: -871.1883234468482\n",
      "EM Iteration 4\n",
      "Current Monte Carlo Sample size: 726\n"
     ]
    },
    {
     "name": "stderr",
     "output_type": "stream",
     "text": [
      "c:\\Users\\Jesper\\Anaconda3\\lib\\site-packages\\scipy\\stats\\_qmc.py:2039: UserWarning: The balance properties of Sobol' points require n to be a power of 2.\n",
      "  samples = self.engine.random(n)\n"
     ]
    },
    {
     "name": "stdout",
     "output_type": "stream",
     "text": [
      "[[1.         0.54524219 0.41644814]\n",
      " [0.54524219 1.         0.26087325]\n",
      " [0.41644814 0.26087325 1.        ]]\n",
      "Step: 4: current parameter_diff: 11.39807909224009, current marginal loglikelihood: -864.0450067047445\n",
      "EM Iteration 5\n",
      "Current Monte Carlo Sample size: 798\n"
     ]
    },
    {
     "name": "stderr",
     "output_type": "stream",
     "text": [
      "c:\\Users\\Jesper\\Anaconda3\\lib\\site-packages\\scipy\\stats\\_qmc.py:2039: UserWarning: The balance properties of Sobol' points require n to be a power of 2.\n",
      "  samples = self.engine.random(n)\n"
     ]
    },
    {
     "name": "stdout",
     "output_type": "stream",
     "text": [
      "[[1.         0.53961331 0.366519  ]\n",
      " [0.53961331 1.         0.20031111]\n",
      " [0.366519   0.20031111 1.        ]]\n",
      "Step: 5: current parameter_diff: 7.450575044069693, current marginal loglikelihood: -865.3458166712746\n",
      "EM Iteration 6\n",
      "Current Monte Carlo Sample size: 798\n"
     ]
    },
    {
     "name": "stderr",
     "output_type": "stream",
     "text": [
      "c:\\Users\\Jesper\\Anaconda3\\lib\\site-packages\\scipy\\stats\\_qmc.py:2039: UserWarning: The balance properties of Sobol' points require n to be a power of 2.\n",
      "  samples = self.engine.random(n)\n"
     ]
    },
    {
     "name": "stdout",
     "output_type": "stream",
     "text": [
      "[[1.         0.54370653 0.31810176]\n",
      " [0.54370653 1.         0.16090087]\n",
      " [0.31810176 0.16090087 1.        ]]\n",
      "Step: 6: current parameter_diff: 4.613151624521535, current marginal loglikelihood: -859.0677434273159\n",
      "EM Iteration 7\n",
      "Current Monte Carlo Sample size: 798\n"
     ]
    },
    {
     "name": "stderr",
     "output_type": "stream",
     "text": [
      "c:\\Users\\Jesper\\Anaconda3\\lib\\site-packages\\scipy\\stats\\_qmc.py:2039: UserWarning: The balance properties of Sobol' points require n to be a power of 2.\n",
      "  samples = self.engine.random(n)\n"
     ]
    },
    {
     "name": "stdout",
     "output_type": "stream",
     "text": [
      "[[1.         0.51090514 0.30665436]\n",
      " [0.51090514 1.         0.12481848]\n",
      " [0.30665436 0.12481848 1.        ]]\n",
      "Step: 7: current parameter_diff: 5.579825060845243, current marginal loglikelihood: -860.3931389440326\n",
      "EM Iteration 8\n",
      "Current Monte Carlo Sample size: 877\n"
     ]
    },
    {
     "name": "stderr",
     "output_type": "stream",
     "text": [
      "c:\\Users\\Jesper\\Anaconda3\\lib\\site-packages\\scipy\\stats\\_qmc.py:2039: UserWarning: The balance properties of Sobol' points require n to be a power of 2.\n",
      "  samples = self.engine.random(n)\n"
     ]
    },
    {
     "name": "stdout",
     "output_type": "stream",
     "text": [
      "[[1.         0.49032845 0.26383474]\n",
      " [0.49032845 1.         0.11970412]\n",
      " [0.26383474 0.11970412 1.        ]]\n",
      "Step: 8: current parameter_diff: 1.990265375123573, current marginal loglikelihood: -859.9719320120272\n",
      "EM Iteration 9\n",
      "Current Monte Carlo Sample size: 964\n"
     ]
    },
    {
     "name": "stderr",
     "output_type": "stream",
     "text": [
      "c:\\Users\\Jesper\\Anaconda3\\lib\\site-packages\\scipy\\stats\\_qmc.py:2039: UserWarning: The balance properties of Sobol' points require n to be a power of 2.\n",
      "  samples = self.engine.random(n)\n"
     ]
    },
    {
     "name": "stdout",
     "output_type": "stream",
     "text": [
      "[[1.         0.48161105 0.23858693]\n",
      " [0.48161105 1.         0.09790654]\n",
      " [0.23858693 0.09790654 1.        ]]\n",
      "Step: 9: current parameter_diff: 4.126750500549426, current marginal loglikelihood: -858.7718028167847\n",
      "Absolute diff in A:\n",
      "[[ 0.          0.          5.42069287]\n",
      " [ 0.          0.          0.57783456]\n",
      " [ 0.          0.84197073  0.        ]\n",
      " [ 0.          0.33636035  0.        ]\n",
      " [ 0.          8.29993288  0.19488767]\n",
      " [ 0.          0.34964657  0.25063374]\n",
      " [ 0.         12.12057601  0.51787162]\n",
      " [ 0.          0.14756854  0.46141077]\n",
      " [ 0.5132909   0.          0.        ]\n",
      " [ 0.11656697  0.          0.04849174]\n",
      " [ 0.9467663   0.          0.70836495]\n",
      " [ 1.66828775  0.          0.51661699]\n",
      " [ 1.50109276  0.          0.01400361]\n",
      " [ 0.90245713  0.40784308  0.        ]\n",
      " [ 0.99508538 10.457463    0.        ]\n",
      " [ 3.54718088  0.70257285  0.        ]\n",
      " [ 0.06422775  0.69536162  0.        ]\n",
      " [ 1.45295864  0.92951988  0.        ]\n",
      " [ 0.88154984  1.23956651  0.        ]\n",
      " [ 4.52351677  7.51261152  4.06878746]]\n",
      "Absolute diff in delta:\n",
      "[3.59905128 1.1129481  0.16130417 0.01002152 0.48404302 0.84920502\n",
      " 1.60788647 0.65995255 0.94635014 0.06759489 0.96742831 1.43708968\n",
      " 2.17701812 0.41910491 1.10168609 2.68181791 0.04795602 0.93339398\n",
      " 0.53209342 4.65598815]\n",
      "Absolute diff in sigma:\n",
      "[[0.     0.2313 0.0766]\n",
      " [0.2313 0.     0.1456]\n",
      " [0.0766 0.1456 0.    ]]\n",
      "Absolute diff in A:\n",
      "[[0.         0.         0.03515894]\n",
      " [0.         0.         0.1776269 ]\n",
      " [0.         0.         0.08774799]\n",
      " [0.         0.15670306 0.        ]\n",
      " [0.         0.06296549 0.        ]\n",
      " [0.         2.17687365 0.        ]\n",
      " [0.         1.46304117 0.        ]\n",
      " [0.         0.18899884 0.        ]\n",
      " [0.         0.00251958 0.23519525]\n",
      " [0.         0.2461054  0.39294651]\n",
      " [0.         0.20116611 0.14075381]\n",
      " [0.         0.94978868 0.3036201 ]\n",
      " [0.68478766 0.         0.        ]\n",
      " [0.4280721  0.         0.        ]\n",
      " [0.43240147 0.         0.30682332]\n",
      " [0.53232059 0.         0.40462183]\n",
      " [0.37871243 0.31846467 0.        ]\n",
      " [0.24139065 0.52492605 0.        ]\n",
      " [0.54521212 0.36183738 0.3408346 ]\n",
      " [1.36805307 0.30309331 0.59290518]]\n",
      "Absolute diff in delta:\n",
      "[0.42174952 1.23225229 0.59523571 0.68779895 0.37395649 0.46529871\n",
      " 0.95701902 0.03156238 0.95360456 0.31932882 0.57016806 0.66906981\n",
      " 0.07497158 0.88828532 2.41755901 2.3539412  0.52778681 0.93556222\n",
      " 0.86010713 0.29211609]\n",
      "Start real early baseline\n",
      "EM Iteration 2\n"
     ]
    },
    {
     "name": "stderr",
     "output_type": "stream",
     "text": [
      "c:\\Users\\Jesper\\Anaconda3\\lib\\site-packages\\scipy\\stats\\_qmc.py:2039: UserWarning: The balance properties of Sobol' points require n to be a power of 2.\n",
      "  samples = self.engine.random(n)\n"
     ]
    },
    {
     "name": "stdout",
     "output_type": "stream",
     "text": [
      "Current Monte Carlo Sample size: 600\n",
      "[[ 1.00000022  0.40789981  0.12379988 -0.42464179 -0.79849977 -0.32949657]\n",
      " [ 0.40789981  0.99999998  0.48880002 -0.1214371  -0.16489852 -0.11398221]\n",
      " [ 0.12379988  0.48880002  1.00000001 -0.14838848 -0.22542632 -0.14146703]\n",
      " [-0.42464179 -0.1214371  -0.14838848  2.31558301  1.14350598  0.79938792]\n",
      " [-0.79849977 -0.16489852 -0.22542632  1.14350598  1.37119685  0.63124417]\n",
      " [-0.32949657 -0.11398221 -0.14146703  0.79938792  0.63124417  1.28753392]]\n",
      "Step: 2: current parameter_diff: 31.359257593097883, current marginal loglikelihood: -1209.7481481320954\n",
      "EM Iteration 3\n"
     ]
    },
    {
     "name": "stderr",
     "output_type": "stream",
     "text": [
      "c:\\Users\\Jesper\\Anaconda3\\lib\\site-packages\\scipy\\stats\\_qmc.py:2039: UserWarning: The balance properties of Sobol' points require n to be a power of 2.\n",
      "  samples = self.engine.random(n)\n"
     ]
    },
    {
     "name": "stdout",
     "output_type": "stream",
     "text": [
      "Current Monte Carlo Sample size: 660\n",
      "[[ 1.00000047  0.40790049  0.12379991 -0.42459666 -0.79845721 -0.32944375]\n",
      " [ 0.40790049  0.99999941  0.48879948 -0.12148406 -0.16490099 -0.11393042]\n",
      " [ 0.12379991  0.48879948  1.00000016 -0.14844393 -0.22549069 -0.14148548]\n",
      " [-0.42459666 -0.12148406 -0.14844393  2.31549262  1.14354076  0.79937675]\n",
      " [-0.79845721 -0.16490099 -0.22549069  1.14354076  1.37120266  0.63130205]\n",
      " [-0.32944375 -0.11393042 -0.14148548  0.79937675  0.63130205  1.28757084]]\n",
      "Step: 3: current parameter_diff: 13.27934054062998, current marginal loglikelihood: -1207.6532217690262\n",
      "EM Iteration 4\n"
     ]
    },
    {
     "name": "stderr",
     "output_type": "stream",
     "text": [
      "c:\\Users\\Jesper\\Anaconda3\\lib\\site-packages\\scipy\\stats\\_qmc.py:2039: UserWarning: The balance properties of Sobol' points require n to be a power of 2.\n",
      "  samples = self.engine.random(n)\n"
     ]
    },
    {
     "name": "stdout",
     "output_type": "stream",
     "text": [
      "Current Monte Carlo Sample size: 726\n",
      "[[ 1.00000035  0.40789994  0.12379962 -0.42454955 -0.79842531 -0.3294907 ]\n",
      " [ 0.40789994  1.00000114  0.48880036 -0.12139585 -0.16491506 -0.1139489 ]\n",
      " [ 0.12379962  0.48880036  0.99999943 -0.14850265 -0.2255374  -0.14148331]\n",
      " [-0.42454955 -0.12139585 -0.14850265  2.31539829  1.14352411  0.79937456]\n",
      " [-0.79842531 -0.16491506 -0.2255374   1.14352411  1.37122809  0.6313854 ]\n",
      " [-0.3294907  -0.1139489  -0.14148331  0.79937456  0.6313854   1.28756679]]\n",
      "Step: 4: current parameter_diff: 7.855472225360655, current marginal loglikelihood: -1195.6471976691466\n",
      "EM Iteration 5\n"
     ]
    },
    {
     "name": "stderr",
     "output_type": "stream",
     "text": [
      "c:\\Users\\Jesper\\Anaconda3\\lib\\site-packages\\scipy\\stats\\_qmc.py:2039: UserWarning: The balance properties of Sobol' points require n to be a power of 2.\n",
      "  samples = self.engine.random(n)\n"
     ]
    },
    {
     "name": "stdout",
     "output_type": "stream",
     "text": [
      "Current Monte Carlo Sample size: 798\n",
      "[[ 0.99999903  0.40789957  0.12379976 -0.42448386 -0.79843789 -0.32944228]\n",
      " [ 0.40789957  1.00000005  0.48880061 -0.12140687 -0.16495968 -0.11396148]\n",
      " [ 0.12379976  0.48880061  1.0000014  -0.14863561 -0.22555187 -0.14150363]\n",
      " [-0.42448386 -0.12140687 -0.14863561  2.31526878  1.14354483  0.79937851]\n",
      " [-0.79843789 -0.16495968 -0.22555187  1.14354483  1.37131919  0.63141238]\n",
      " [-0.32944228 -0.11396148 -0.14150363  0.79937851  0.63141238  1.28760536]]\n",
      "Step: 5: current parameter_diff: 5.230743411806023, current marginal loglikelihood: -1203.5152655655215\n",
      "EM Iteration 6\n"
     ]
    },
    {
     "name": "stderr",
     "output_type": "stream",
     "text": [
      "c:\\Users\\Jesper\\Anaconda3\\lib\\site-packages\\scipy\\stats\\_qmc.py:2039: UserWarning: The balance properties of Sobol' points require n to be a power of 2.\n",
      "  samples = self.engine.random(n)\n"
     ]
    },
    {
     "name": "stdout",
     "output_type": "stream",
     "text": [
      "Current Monte Carlo Sample size: 877\n",
      "[[ 1.00000067  0.40789943  0.12380003 -0.42450753 -0.7984862  -0.32947838]\n",
      " [ 0.40789943  0.99999968  0.4887999  -0.12151248 -0.1649744  -0.11393471]\n",
      " [ 0.12380003  0.4887999   0.99999997 -0.14871719 -0.22555718 -0.14153368]\n",
      " [-0.42450753 -0.12151248 -0.14871719  2.31531403  1.14358483  0.79939515]\n",
      " [-0.7984862  -0.1649744  -0.22555718  1.14358483  1.37134855  0.63147208]\n",
      " [-0.32947838 -0.11393471 -0.14153368  0.79939515  0.63147208  1.28766767]]\n",
      "Step: 6: current parameter_diff: 7.654882809719626, current marginal loglikelihood: -1198.9101037210248\n",
      "EM Iteration 7\n"
     ]
    },
    {
     "name": "stderr",
     "output_type": "stream",
     "text": [
      "c:\\Users\\Jesper\\Anaconda3\\lib\\site-packages\\scipy\\stats\\_qmc.py:2039: UserWarning: The balance properties of Sobol' points require n to be a power of 2.\n",
      "  samples = self.engine.random(n)\n"
     ]
    },
    {
     "name": "stdout",
     "output_type": "stream",
     "text": [
      "Current Monte Carlo Sample size: 964\n",
      "[[ 0.99999931  0.40789923  0.12380008 -0.42448242 -0.79846741 -0.329393  ]\n",
      " [ 0.40789923  0.99999993  0.48880018 -0.12163112 -0.16506391 -0.11401087]\n",
      " [ 0.12380008  0.48880018  1.00000108 -0.14867771 -0.22553728 -0.14150931]\n",
      " [-0.42448242 -0.12163112 -0.14867771  2.315265    1.14360187  0.79928326]\n",
      " [-0.79846741 -0.16506391 -0.22553728  1.14360187  1.37152762  0.63146546]\n",
      " [-0.329393   -0.11401087 -0.14150931  0.79928326  0.63146546  1.2876171 ]]\n",
      "Step: 7: current parameter_diff: 9.078145009029143, current marginal loglikelihood: -1196.0699006645716\n",
      "Absolute diff in A:\n",
      "[[0.         0.         0.06935473]\n",
      " [0.         0.         0.23464496]\n",
      " [0.         0.         0.08507199]\n",
      " [0.         0.33614811 0.        ]\n",
      " [0.         0.00884557 0.        ]\n",
      " [0.         3.89290386 0.        ]\n",
      " [0.         1.7417615  0.        ]\n",
      " [0.         0.06502549 0.        ]\n",
      " [0.         0.13807571 0.29754181]\n",
      " [0.         0.61364346 1.02901352]\n",
      " [0.         0.20082112 0.15547138]\n",
      " [0.         0.0631054  0.09630574]\n",
      " [0.64282101 0.         0.        ]\n",
      " [0.42475838 0.         0.        ]\n",
      " [0.10931039 0.         0.20088959]\n",
      " [0.12049476 0.         0.29233004]\n",
      " [0.2696163  0.22235994 0.        ]\n",
      " [0.34587013 0.30068805 0.        ]\n",
      " [0.35496964 0.46964886 0.24076245]\n",
      " [2.26787468 0.55485901 1.61249762]]\n",
      "Absolute diff in delta:\n",
      "[0.00515236 0.05598239 0.32415312 0.89978174 0.34259566 0.25084851\n",
      " 1.79914632 0.08958377 0.35435912 1.20870302 0.0927122  0.21792802\n",
      " 0.71047615 0.12507932 1.44029505 0.13009514 0.25689084 0.50550707\n",
      " 0.64150782 4.31521764]\n",
      "Start pure competency baseline\n",
      "Covariance matrix is good: True\n",
      "EM Iteration 2\n",
      "Current Monte Carlo Sample size: 600\n"
     ]
    },
    {
     "name": "stderr",
     "output_type": "stream",
     "text": [
      "c:\\Users\\Jesper\\Anaconda3\\lib\\site-packages\\scipy\\stats\\_qmc.py:2039: UserWarning: The balance properties of Sobol' points require n to be a power of 2.\n",
      "  samples = self.engine.random(n)\n"
     ]
    },
    {
     "name": "stdout",
     "output_type": "stream",
     "text": [
      "Step: 2: current parameter_diff: 27.869352509704445, current marginal loglikelihood: -860.577427984621\n",
      "EM Iteration 3\n",
      "Current Monte Carlo Sample size: 660\n",
      "Step: 3: current parameter_diff: 23.97436255525774, current marginal loglikelihood: -826.4471014245063\n",
      "EM Iteration 4\n",
      "Current Monte Carlo Sample size: 726\n",
      "Step: 4: current parameter_diff: 21.053528711771456, current marginal loglikelihood: -811.6592919781219\n",
      "EM Iteration 5\n",
      "Current Monte Carlo Sample size: 726\n",
      "Step: 5: current parameter_diff: 12.134162322989566, current marginal loglikelihood: -812.562909089661\n",
      "EM Iteration 6\n",
      "Current Monte Carlo Sample size: 726\n",
      "Step: 6: current parameter_diff: 9.778879092043844, current marginal loglikelihood: -805.3694515192956\n",
      "EM Iteration 7\n",
      "Current Monte Carlo Sample size: 726\n",
      "Step: 7: current parameter_diff: 6.528720613646074, current marginal loglikelihood: -805.9030424319371\n",
      "EM Iteration 8\n",
      "Current Monte Carlo Sample size: 798\n",
      "Step: 8: current parameter_diff: 9.051898063531196, current marginal loglikelihood: -808.4695380554474\n",
      "EM Iteration 9\n",
      "Current Monte Carlo Sample size: 877\n",
      "Step: 9: current parameter_diff: 6.877457147708464, current marginal loglikelihood: -802.1710093216764\n",
      "EM Iteration 10\n",
      "Current Monte Carlo Sample size: 964\n",
      "Step: 10: current parameter_diff: 8.241311895898955, current marginal loglikelihood: -808.0063494000939\n",
      "EM Iteration 11\n",
      "Current Monte Carlo Sample size: 1060\n",
      "Step: 11: current parameter_diff: 3.2131187925332334, current marginal loglikelihood: -803.9050512124625\n",
      "EM Iteration 12\n",
      "Current Monte Carlo Sample size: 1166\n",
      "Step: 12: current parameter_diff: 4.102707063800271, current marginal loglikelihood: -802.0995102417698\n",
      "EM Iteration 13\n",
      "Current Monte Carlo Sample size: 1282\n",
      "Step: 13: current parameter_diff: 1.7171920883704814, current marginal loglikelihood: -805.4291906728663\n",
      "EM Iteration 14\n",
      "Current Monte Carlo Sample size: 1410\n",
      "Step: 14: current parameter_diff: 6.2311821658474145, current marginal loglikelihood: -801.6069366134858\n",
      "[[1.  0.  0.  0.5 0.5 0.5]\n",
      " [0.  1.  0.  0.5 0.5 0.5]\n",
      " [0.  0.  1.  0.5 0.5 0.5]\n",
      " [0.5 0.5 0.5 1.  0.5 0.5]\n",
      " [0.5 0.5 0.5 0.5 1.  0.5]\n",
      " [0.5 0.5 0.5 0.5 0.5 1. ]]\n",
      "Exception occured\n",
      "New Covariance not positive semidefinite\n",
      "Real latent covariance: [[ 1.      0.2469  0.3162  0.3821]\n",
      " [ 0.2469  1.      0.2916 -0.0639]\n",
      " [ 0.3162  0.2916  0.5     0.1788]\n",
      " [ 0.3821 -0.0639  0.1788  0.5639]]\n",
      "Start late EM\n",
      "Covariance matrix is good: True\n",
      "EM Iteration 2\n",
      "Current Monte Carlo Sample size: 300\n",
      "[[1.         0.54356855]\n",
      " [0.54356855 1.        ]]\n"
     ]
    },
    {
     "name": "stderr",
     "output_type": "stream",
     "text": [
      "c:\\Users\\Jesper\\Anaconda3\\lib\\site-packages\\scipy\\stats\\_qmc.py:2039: UserWarning: The balance properties of Sobol' points require n to be a power of 2.\n",
      "  samples = self.engine.random(n)\n"
     ]
    },
    {
     "name": "stdout",
     "output_type": "stream",
     "text": [
      "Step: 2: current parameter_diff: 8.546470778398534, current marginal loglikelihood: -1067.7412359139878\n",
      "EM Iteration 3\n",
      "Current Monte Carlo Sample size: 330\n",
      "[[1.         0.55647015]\n",
      " [0.55647015 1.        ]]\n"
     ]
    },
    {
     "name": "stderr",
     "output_type": "stream",
     "text": [
      "c:\\Users\\Jesper\\Anaconda3\\lib\\site-packages\\scipy\\stats\\_qmc.py:2039: UserWarning: The balance properties of Sobol' points require n to be a power of 2.\n",
      "  samples = self.engine.random(n)\n"
     ]
    },
    {
     "name": "stdout",
     "output_type": "stream",
     "text": [
      "Step: 3: current parameter_diff: 5.859709771534185, current marginal loglikelihood: -1053.0374084257014\n",
      "EM Iteration 4\n",
      "Current Monte Carlo Sample size: 363\n",
      "[[1.         0.59640243]\n",
      " [0.59640243 1.        ]]\n"
     ]
    },
    {
     "name": "stderr",
     "output_type": "stream",
     "text": [
      "c:\\Users\\Jesper\\Anaconda3\\lib\\site-packages\\scipy\\stats\\_qmc.py:2039: UserWarning: The balance properties of Sobol' points require n to be a power of 2.\n",
      "  samples = self.engine.random(n)\n"
     ]
    },
    {
     "name": "stdout",
     "output_type": "stream",
     "text": [
      "Step: 4: current parameter_diff: 4.287308801621546, current marginal loglikelihood: -1045.9336698670618\n",
      "EM Iteration 5\n",
      "Current Monte Carlo Sample size: 399\n"
     ]
    },
    {
     "name": "stderr",
     "output_type": "stream",
     "text": [
      "c:\\Users\\Jesper\\Anaconda3\\lib\\site-packages\\scipy\\stats\\_qmc.py:2039: UserWarning: The balance properties of Sobol' points require n to be a power of 2.\n",
      "  samples = self.engine.random(n)\n"
     ]
    },
    {
     "name": "stdout",
     "output_type": "stream",
     "text": [
      "[[1.         0.57743378]\n",
      " [0.57743378 1.        ]]\n",
      "Step: 5: current parameter_diff: 2.8267200451839827, current marginal loglikelihood: -1045.153085013494\n",
      "EM Iteration 6\n",
      "Current Monte Carlo Sample size: 399\n"
     ]
    },
    {
     "name": "stderr",
     "output_type": "stream",
     "text": [
      "c:\\Users\\Jesper\\Anaconda3\\lib\\site-packages\\scipy\\stats\\_qmc.py:2039: UserWarning: The balance properties of Sobol' points require n to be a power of 2.\n",
      "  samples = self.engine.random(n)\n"
     ]
    },
    {
     "name": "stdout",
     "output_type": "stream",
     "text": [
      "[[1.         0.55525096]\n",
      " [0.55525096 1.        ]]\n",
      "Step: 6: current parameter_diff: 4.030700626826175, current marginal loglikelihood: -1043.5365711649602\n",
      "EM Iteration 7\n",
      "Current Monte Carlo Sample size: 399\n"
     ]
    },
    {
     "name": "stderr",
     "output_type": "stream",
     "text": [
      "c:\\Users\\Jesper\\Anaconda3\\lib\\site-packages\\scipy\\stats\\_qmc.py:2039: UserWarning: The balance properties of Sobol' points require n to be a power of 2.\n",
      "  samples = self.engine.random(n)\n"
     ]
    },
    {
     "name": "stdout",
     "output_type": "stream",
     "text": [
      "[[1.        0.5455847]\n",
      " [0.5455847 1.       ]]\n",
      "Step: 7: current parameter_diff: 1.7311317771165144, current marginal loglikelihood: -1041.2189444253374\n",
      "EM Iteration 2\n"
     ]
    },
    {
     "name": "stderr",
     "output_type": "stream",
     "text": [
      "c:\\Users\\Jesper\\Anaconda3\\lib\\site-packages\\scipy\\stats\\_qmc.py:2039: UserWarning: The balance properties of Sobol' points require n to be a power of 2.\n",
      "  samples = self.engine.random(n)\n"
     ]
    },
    {
     "name": "stdout",
     "output_type": "stream",
     "text": [
      "Current Monte Carlo Sample size: 300\n",
      "[[ 1.00000039  0.54549982  0.31026563 -0.0793655 ]\n",
      " [ 0.54549982  0.99989978  0.24797752 -0.13240953]\n",
      " [ 0.31026563  0.24797752  0.5118684   0.1416986 ]\n",
      " [-0.0793655  -0.13240953  0.1416986   0.70101901]]\n",
      "Step: 2: current parameter_diff: 11.96699140536394, current marginal loglikelihood: -1269.410366863254\n",
      "EM Iteration 3\n"
     ]
    },
    {
     "name": "stderr",
     "output_type": "stream",
     "text": [
      "c:\\Users\\Jesper\\Anaconda3\\lib\\site-packages\\scipy\\stats\\_qmc.py:2039: UserWarning: The balance properties of Sobol' points require n to be a power of 2.\n",
      "  samples = self.engine.random(n)\n"
     ]
    },
    {
     "name": "stdout",
     "output_type": "stream",
     "text": [
      "Current Monte Carlo Sample size: 330\n",
      "[[ 0.99999997  0.54549997  0.15856237 -0.05695147]\n",
      " [ 0.54549997  0.99989993 -0.1886427  -0.04854515]\n",
      " [ 0.15856237 -0.1886427   0.81527526  0.38307715]\n",
      " [-0.05695147 -0.04854515  0.38307715  0.53329024]]\n",
      "Step: 3: current parameter_diff: 9.782129927929693, current marginal loglikelihood: -1212.4704358314452\n",
      "EM Iteration 4\n"
     ]
    },
    {
     "name": "stderr",
     "output_type": "stream",
     "text": [
      "c:\\Users\\Jesper\\Anaconda3\\lib\\site-packages\\scipy\\stats\\_qmc.py:2039: UserWarning: The balance properties of Sobol' points require n to be a power of 2.\n",
      "  samples = self.engine.random(n)\n"
     ]
    },
    {
     "name": "stdout",
     "output_type": "stream",
     "text": [
      "Current Monte Carlo Sample size: 330\n",
      "[[ 1.00000045  0.54549967  0.1761544  -0.04556733]\n",
      " [ 0.54549967  0.99989982 -0.17386386 -0.04658715]\n",
      " [ 0.1761544  -0.17386386  0.78009046  0.37065208]\n",
      " [-0.04556733 -0.04658715  0.37065208  0.52937413]]\n",
      "Step: 4: current parameter_diff: 3.8942328088279394, current marginal loglikelihood: -1213.1459777945947\n",
      "EM Iteration 5\n"
     ]
    },
    {
     "name": "stderr",
     "output_type": "stream",
     "text": [
      "c:\\Users\\Jesper\\Anaconda3\\lib\\site-packages\\scipy\\stats\\_qmc.py:2039: UserWarning: The balance properties of Sobol' points require n to be a power of 2.\n",
      "  samples = self.engine.random(n)\n"
     ]
    },
    {
     "name": "stdout",
     "output_type": "stream",
     "text": [
      "Current Monte Carlo Sample size: 363\n",
      "[[ 1.00000043  0.54549947  0.18641964 -0.03883555]\n",
      " [ 0.54549947  0.9998998  -0.16529541 -0.04550269]\n",
      " [ 0.18641964 -0.16529541  0.7595603   0.36340535]\n",
      " [-0.03883555 -0.04550269  0.36340535  0.52720571]]\n",
      "Step: 5: current parameter_diff: 3.4240566492824978, current marginal loglikelihood: -1208.0146093706398\n",
      "EM Iteration 6\n"
     ]
    },
    {
     "name": "stderr",
     "output_type": "stream",
     "text": [
      "c:\\Users\\Jesper\\Anaconda3\\lib\\site-packages\\scipy\\stats\\_qmc.py:2039: UserWarning: The balance properties of Sobol' points require n to be a power of 2.\n",
      "  samples = self.engine.random(n)\n"
     ]
    },
    {
     "name": "stdout",
     "output_type": "stream",
     "text": [
      "Current Monte Carlo Sample size: 399\n",
      "[[ 0.99999973  0.54550032  0.19853435 -0.03080234]\n",
      " [ 0.54550032  0.99990037 -0.15479622 -0.04444479]\n",
      " [ 0.19853435 -0.15479622  0.73533153  0.35523129]\n",
      " [-0.03080234 -0.04444479  0.35523129  0.5250888 ]]\n",
      "Step: 6: current parameter_diff: 1.7675781717725252, current marginal loglikelihood: -1206.856525945398\n",
      "Absolute diff in A:\n",
      "[[0.         0.95065695]\n",
      " [0.         0.1569656 ]\n",
      " [0.         0.20198668]\n",
      " [0.         0.291407  ]\n",
      " [0.         0.64392768]\n",
      " [2.20709077 0.        ]\n",
      " [1.70276953 1.13710534]\n",
      " [0.85873087 2.98249668]\n",
      " [0.21967647 0.47226165]\n",
      " [0.19413387 0.81965529]]\n",
      "Absolute diff in delta:\n",
      "[0.59445823 0.06219185 0.02354216 0.09494958 0.12197992 0.37457774\n",
      " 0.07160613 0.00902527 0.40540186 0.32479268]\n",
      "Absolute diff in sigma:\n",
      "[[0.000e+00 2.986e-01]\n",
      " [2.986e-01 1.000e-04]]\n",
      "Absolute diff in A:\n",
      "[[0.         0.09277365]\n",
      " [2.25862564 0.        ]\n",
      " [0.36752277 0.        ]\n",
      " [0.05093019 0.        ]\n",
      " [0.09783867 0.        ]\n",
      " [0.16798544 0.        ]\n",
      " [0.83534193 0.86817007]\n",
      " [0.72279176 0.96283805]\n",
      " [0.20252239 1.57428211]\n",
      " [0.24321879 0.0831436 ]]\n",
      "Absolute diff in delta:\n",
      "[0.11975167 0.96114242 0.05889177 0.01715015 0.03575378 0.32474594\n",
      " 0.15877287 0.54442098 0.64138695 0.09645674]\n",
      "Start initial baseline\n",
      "Absolute diff in A:\n",
      "[[0.         1.65874657]\n",
      " [0.         0.18143752]\n",
      " [0.         0.61377132]\n",
      " [0.         0.5683838 ]\n",
      " [0.         1.17763958]\n",
      " [2.89046215 0.        ]\n",
      " [1.67324605 2.95100882]\n",
      " [0.80626113 9.0118031 ]\n",
      " [1.52697131 2.1065601 ]\n",
      " [0.04501198 0.79085337]]\n",
      "Absolute diff in delta:\n",
      "[0.1801372  0.09304797 0.29792549 0.1173926  0.12197992 0.40458182\n",
      " 0.49661463 0.13998137 1.07984847 0.56455694]\n",
      "Absolute diff in sigma:\n",
      "[[0.     0.2531]\n",
      " [0.2531 0.    ]]\n",
      "Absolute diff in A:\n",
      "[[1.         0.53208427]\n",
      " [0.74973951 1.        ]\n",
      " [0.15497323 1.        ]\n",
      " [0.24411309 1.        ]\n",
      " [1.7963473  1.        ]\n",
      " [0.69926927 1.        ]\n",
      " [0.79165215 2.09276532]\n",
      " [1.5566024  1.29572055]\n",
      " [0.14607712 2.12083806]\n",
      " [0.03254131 0.00910552]]\n",
      "Absolute diff in delta:\n",
      "[0.79350105 0.18018728 0.96392113 0.57660531 1.62829015 1.79691093\n",
      " 0.67721328 1.83458135 1.90136377 1.34081686]\n",
      "Start difference baseline\n",
      "Covariance matrix is good: True\n",
      "EM Iteration 2\n",
      "Current Monte Carlo Sample size: 300\n",
      "[[1.         0.55035017]\n",
      " [0.55035017 1.        ]]\n"
     ]
    },
    {
     "name": "stderr",
     "output_type": "stream",
     "text": [
      "c:\\Users\\Jesper\\Anaconda3\\lib\\site-packages\\scipy\\stats\\_qmc.py:2039: UserWarning: The balance properties of Sobol' points require n to be a power of 2.\n",
      "  samples = self.engine.random(n)\n"
     ]
    },
    {
     "name": "stdout",
     "output_type": "stream",
     "text": [
      "Step: 2: current parameter_diff: 8.846558308927445, current marginal loglikelihood: -1066.4840783783088\n",
      "EM Iteration 3\n",
      "Current Monte Carlo Sample size: 330\n",
      "[[1.         0.57199301]\n",
      " [0.57199301 1.        ]]\n"
     ]
    },
    {
     "name": "stderr",
     "output_type": "stream",
     "text": [
      "c:\\Users\\Jesper\\Anaconda3\\lib\\site-packages\\scipy\\stats\\_qmc.py:2039: UserWarning: The balance properties of Sobol' points require n to be a power of 2.\n",
      "  samples = self.engine.random(n)\n"
     ]
    },
    {
     "name": "stdout",
     "output_type": "stream",
     "text": [
      "Step: 3: current parameter_diff: 6.4916845445660964, current marginal loglikelihood: -1051.2464504881236\n",
      "EM Iteration 4\n",
      "Current Monte Carlo Sample size: 363\n",
      "[[1.         0.55254057]\n",
      " [0.55254057 1.        ]]\n"
     ]
    },
    {
     "name": "stderr",
     "output_type": "stream",
     "text": [
      "c:\\Users\\Jesper\\Anaconda3\\lib\\site-packages\\scipy\\stats\\_qmc.py:2039: UserWarning: The balance properties of Sobol' points require n to be a power of 2.\n",
      "  samples = self.engine.random(n)\n"
     ]
    },
    {
     "name": "stdout",
     "output_type": "stream",
     "text": [
      "Step: 4: current parameter_diff: 2.567287530536723, current marginal loglikelihood: -1049.0378091441676\n",
      "EM Iteration 5\n",
      "Current Monte Carlo Sample size: 399\n"
     ]
    },
    {
     "name": "stderr",
     "output_type": "stream",
     "text": [
      "c:\\Users\\Jesper\\Anaconda3\\lib\\site-packages\\scipy\\stats\\_qmc.py:2039: UserWarning: The balance properties of Sobol' points require n to be a power of 2.\n",
      "  samples = self.engine.random(n)\n"
     ]
    },
    {
     "name": "stdout",
     "output_type": "stream",
     "text": [
      "[[1.         0.53288833]\n",
      " [0.53288833 1.        ]]\n",
      "Step: 5: current parameter_diff: 4.0254069440082425, current marginal loglikelihood: -1042.948210919762\n",
      "EM Iteration 6\n",
      "Current Monte Carlo Sample size: 438\n",
      "[[1.         0.51531342]\n",
      " [0.51531342 1.        ]]\n"
     ]
    },
    {
     "name": "stderr",
     "output_type": "stream",
     "text": [
      "c:\\Users\\Jesper\\Anaconda3\\lib\\site-packages\\scipy\\stats\\_qmc.py:2039: UserWarning: The balance properties of Sobol' points require n to be a power of 2.\n",
      "  samples = self.engine.random(n)\n"
     ]
    },
    {
     "name": "stdout",
     "output_type": "stream",
     "text": [
      "Step: 6: current parameter_diff: 0.8974161138467804, current marginal loglikelihood: -1042.6136798745054\n",
      "EM Iteration 7\n",
      "Current Monte Carlo Sample size: 481\n"
     ]
    },
    {
     "name": "stderr",
     "output_type": "stream",
     "text": [
      "c:\\Users\\Jesper\\Anaconda3\\lib\\site-packages\\scipy\\stats\\_qmc.py:2039: UserWarning: The balance properties of Sobol' points require n to be a power of 2.\n",
      "  samples = self.engine.random(n)\n"
     ]
    },
    {
     "name": "stdout",
     "output_type": "stream",
     "text": [
      "[[1.         0.52080769]\n",
      " [0.52080769 1.        ]]\n",
      "Step: 7: current parameter_diff: 3.0838325521534578, current marginal loglikelihood: -1042.0912171069622\n",
      "EM Iteration 8\n",
      "Current Monte Carlo Sample size: 529\n"
     ]
    },
    {
     "name": "stderr",
     "output_type": "stream",
     "text": [
      "c:\\Users\\Jesper\\Anaconda3\\lib\\site-packages\\scipy\\stats\\_qmc.py:2039: UserWarning: The balance properties of Sobol' points require n to be a power of 2.\n",
      "  samples = self.engine.random(n)\n"
     ]
    },
    {
     "name": "stdout",
     "output_type": "stream",
     "text": [
      "[[1.         0.51123536]\n",
      " [0.51123536 1.        ]]\n",
      "Step: 8: current parameter_diff: 0.769612070908952, current marginal loglikelihood: -1040.9000093874733\n",
      "Covariance matrix is good: True\n",
      "EM Iteration 2\n",
      "Current Monte Carlo Sample size: 300\n",
      "[[1.        0.5913219]\n",
      " [0.5913219 1.       ]]\n"
     ]
    },
    {
     "name": "stderr",
     "output_type": "stream",
     "text": [
      "c:\\Users\\Jesper\\Anaconda3\\lib\\site-packages\\scipy\\stats\\_qmc.py:2039: UserWarning: The balance properties of Sobol' points require n to be a power of 2.\n",
      "  samples = self.engine.random(n)\n"
     ]
    },
    {
     "name": "stdout",
     "output_type": "stream",
     "text": [
      "Step: 2: current parameter_diff: 10.01619135093026, current marginal loglikelihood: -880.0516782365919\n",
      "EM Iteration 3\n",
      "Current Monte Carlo Sample size: 330\n",
      "[[1.         0.63113028]\n",
      " [0.63113028 1.        ]]\n"
     ]
    },
    {
     "name": "stderr",
     "output_type": "stream",
     "text": [
      "c:\\Users\\Jesper\\Anaconda3\\lib\\site-packages\\scipy\\stats\\_qmc.py:2039: UserWarning: The balance properties of Sobol' points require n to be a power of 2.\n",
      "  samples = self.engine.random(n)\n"
     ]
    },
    {
     "name": "stdout",
     "output_type": "stream",
     "text": [
      "Step: 3: current parameter_diff: 5.741534154111076, current marginal loglikelihood: -870.5163989392083\n",
      "EM Iteration 4\n",
      "Current Monte Carlo Sample size: 363\n"
     ]
    },
    {
     "name": "stderr",
     "output_type": "stream",
     "text": [
      "c:\\Users\\Jesper\\Anaconda3\\lib\\site-packages\\scipy\\stats\\_qmc.py:2039: UserWarning: The balance properties of Sobol' points require n to be a power of 2.\n",
      "  samples = self.engine.random(n)\n"
     ]
    },
    {
     "name": "stdout",
     "output_type": "stream",
     "text": [
      "[[1.        0.6499479]\n",
      " [0.6499479 1.       ]]\n",
      "Step: 4: current parameter_diff: 2.6813907544709163, current marginal loglikelihood: -867.7956974426971\n",
      "EM Iteration 5\n",
      "Current Monte Carlo Sample size: 399\n",
      "[[1.         0.65592911]\n",
      " [0.65592911 1.        ]]\n"
     ]
    },
    {
     "name": "stderr",
     "output_type": "stream",
     "text": [
      "c:\\Users\\Jesper\\Anaconda3\\lib\\site-packages\\scipy\\stats\\_qmc.py:2039: UserWarning: The balance properties of Sobol' points require n to be a power of 2.\n",
      "  samples = self.engine.random(n)\n"
     ]
    },
    {
     "name": "stdout",
     "output_type": "stream",
     "text": [
      "Step: 5: current parameter_diff: 3.735896875199959, current marginal loglikelihood: -862.8777159039312\n",
      "EM Iteration 6\n",
      "Current Monte Carlo Sample size: 438\n",
      "[[1.         0.65735874]\n",
      " [0.65735874 1.        ]]\n"
     ]
    },
    {
     "name": "stderr",
     "output_type": "stream",
     "text": [
      "c:\\Users\\Jesper\\Anaconda3\\lib\\site-packages\\scipy\\stats\\_qmc.py:2039: UserWarning: The balance properties of Sobol' points require n to be a power of 2.\n",
      "  samples = self.engine.random(n)\n"
     ]
    },
    {
     "name": "stdout",
     "output_type": "stream",
     "text": [
      "Step: 6: current parameter_diff: 2.087104961340957, current marginal loglikelihood: -864.6232080053128\n",
      "EM Iteration 7\n",
      "Current Monte Carlo Sample size: 481\n"
     ]
    },
    {
     "name": "stderr",
     "output_type": "stream",
     "text": [
      "c:\\Users\\Jesper\\Anaconda3\\lib\\site-packages\\scipy\\stats\\_qmc.py:2039: UserWarning: The balance properties of Sobol' points require n to be a power of 2.\n",
      "  samples = self.engine.random(n)\n"
     ]
    },
    {
     "name": "stdout",
     "output_type": "stream",
     "text": [
      "[[1.         0.64839622]\n",
      " [0.64839622 1.        ]]\n",
      "Step: 7: current parameter_diff: 2.4485742457717623, current marginal loglikelihood: -862.3721735591339\n",
      "EM Iteration 8\n",
      "Current Monte Carlo Sample size: 481\n"
     ]
    },
    {
     "name": "stderr",
     "output_type": "stream",
     "text": [
      "c:\\Users\\Jesper\\Anaconda3\\lib\\site-packages\\scipy\\stats\\_qmc.py:2039: UserWarning: The balance properties of Sobol' points require n to be a power of 2.\n",
      "  samples = self.engine.random(n)\n"
     ]
    },
    {
     "name": "stdout",
     "output_type": "stream",
     "text": [
      "[[1.         0.63507851]\n",
      " [0.63507851 1.        ]]\n",
      "Step: 8: current parameter_diff: 1.5267764024189123, current marginal loglikelihood: -860.8707179759292\n",
      "Absolute diff in A:\n",
      "[[0.         0.77495106]\n",
      " [0.         0.06332808]\n",
      " [0.         0.17678043]\n",
      " [0.         0.29125302]\n",
      " [0.         0.57615441]\n",
      " [1.83652286 0.        ]\n",
      " [1.05116693 1.00198918]\n",
      " [0.90550297 2.61680208]\n",
      " [0.11261128 0.5193619 ]\n",
      " [0.04501198 0.79085337]]\n",
      "Absolute diff in delta:\n",
      "[0.45045301 0.06026988 0.03388553 0.16058429 0.08507923 0.40458182\n",
      " 0.10726388 0.12798811 0.16390885 0.56455694]\n",
      "Absolute diff in sigma:\n",
      "[[0.     0.2643]\n",
      " [0.2643 0.    ]]\n",
      "Absolute diff in A:\n",
      "[[0.         0.36274758]\n",
      " [1.58588003 0.        ]\n",
      " [0.14660137 0.        ]\n",
      " [0.05523526 0.        ]\n",
      " [0.12221061 0.        ]\n",
      " [0.34015933 0.        ]\n",
      " [0.34990648 0.67654568]\n",
      " [1.06482808 0.79150485]\n",
      " [0.2867243  1.58235762]\n",
      " [0.19161769 0.10885118]]\n",
      "Absolute diff in delta:\n",
      "[0.22744938 0.82251122 0.07302308 0.21150883 0.43359882 0.34280153\n",
      " 0.33220555 0.1062096  0.50894679 0.09625052]\n",
      "Start real early baseline\n",
      "EM Iteration 2\n"
     ]
    },
    {
     "name": "stderr",
     "output_type": "stream",
     "text": [
      "c:\\Users\\Jesper\\Anaconda3\\lib\\site-packages\\scipy\\stats\\_qmc.py:2039: UserWarning: The balance properties of Sobol' points require n to be a power of 2.\n",
      "  samples = self.engine.random(n)\n"
     ]
    },
    {
     "name": "stdout",
     "output_type": "stream",
     "text": [
      "Current Monte Carlo Sample size: 300\n",
      "[[ 1.00000007  0.51120003  0.0310769  -0.16484512]\n",
      " [ 0.51120003  1.00000018  0.07564422 -0.47150644]\n",
      " [ 0.0310769   0.07564422  1.07024609  0.35013528]\n",
      " [-0.16484512 -0.47150644  0.35013528  1.37911243]]\n",
      "Step: 2: current parameter_diff: 12.0053858404376, current marginal loglikelihood: -1330.0500074416525\n",
      "EM Iteration 3\n"
     ]
    },
    {
     "name": "stderr",
     "output_type": "stream",
     "text": [
      "c:\\Users\\Jesper\\Anaconda3\\lib\\site-packages\\scipy\\stats\\_qmc.py:2039: UserWarning: The balance properties of Sobol' points require n to be a power of 2.\n",
      "  samples = self.engine.random(n)\n"
     ]
    },
    {
     "name": "stdout",
     "output_type": "stream",
     "text": [
      "Current Monte Carlo Sample size: 300\n",
      "[[ 0.99999996  0.51120002 -0.04142268 -0.12266006]\n",
      " [ 0.51120002  0.99999982 -0.36189442 -0.16848301]\n",
      " [-0.04142268 -0.36189442  1.21524517  0.45702638]\n",
      " [-0.12266006 -0.16848301  0.45702638  0.77306618]]\n",
      "Step: 3: current parameter_diff: 8.8739255164425, current marginal loglikelihood: -1318.4593292634763\n",
      "EM Iteration 4\n"
     ]
    },
    {
     "name": "stderr",
     "output_type": "stream",
     "text": [
      "c:\\Users\\Jesper\\Anaconda3\\lib\\site-packages\\scipy\\stats\\_qmc.py:2039: UserWarning: The balance properties of Sobol' points require n to be a power of 2.\n",
      "  samples = self.engine.random(n)\n"
     ]
    },
    {
     "name": "stdout",
     "output_type": "stream",
     "text": [
      "Current Monte Carlo Sample size: 300\n",
      "[[ 1.00000002  0.51120001 -0.02594336 -0.08729288]\n",
      " [ 0.51120001  1.00000009 -0.202515   -0.15678109]\n",
      " [-0.02594336 -0.202515    1.18428653  0.25107203]\n",
      " [-0.08729288 -0.15678109  0.25107203  0.74966197]]\n",
      "Step: 4: current parameter_diff: 5.400129892373177, current marginal loglikelihood: -1330.1640414264725\n",
      "EM Iteration 5\n"
     ]
    },
    {
     "name": "stderr",
     "output_type": "stream",
     "text": [
      "c:\\Users\\Jesper\\Anaconda3\\lib\\site-packages\\scipy\\stats\\_qmc.py:2039: UserWarning: The balance properties of Sobol' points require n to be a power of 2.\n",
      "  samples = self.engine.random(n)\n"
     ]
    },
    {
     "name": "stdout",
     "output_type": "stream",
     "text": [
      "Current Monte Carlo Sample size: 330\n",
      "[[ 0.99999916  0.51120051  0.18146172  0.008297  ]\n",
      " [ 0.51120051  0.99999941 -0.06708572 -0.17762948]\n",
      " [ 0.18146172 -0.06708572  0.76947759  0.30789306]\n",
      " [ 0.008297   -0.17762948  0.30789306  0.79135933]]\n",
      "Step: 5: current parameter_diff: 5.124164417358484, current marginal loglikelihood: -1317.0816538554732\n",
      "EM Iteration 6\n"
     ]
    },
    {
     "name": "stderr",
     "output_type": "stream",
     "text": [
      "c:\\Users\\Jesper\\Anaconda3\\lib\\site-packages\\scipy\\stats\\_qmc.py:2039: UserWarning: The balance properties of Sobol' points require n to be a power of 2.\n",
      "  samples = self.engine.random(n)\n"
     ]
    },
    {
     "name": "stdout",
     "output_type": "stream",
     "text": [
      "Current Monte Carlo Sample size: 363\n",
      "[[ 0.99999991  0.51120004 -0.14046039 -0.03408099]\n",
      " [ 0.51120004  1.00000001 -0.25400886 -0.16802416]\n",
      " [-0.14046039 -0.25400886  1.41332063  0.31682222]\n",
      " [-0.03408099 -0.16802416  0.31682222  0.77214825]]\n",
      "Step: 6: current parameter_diff: 5.719420301666666, current marginal loglikelihood: -1305.911398187592\n",
      "EM Iteration 7\n"
     ]
    },
    {
     "name": "stderr",
     "output_type": "stream",
     "text": [
      "c:\\Users\\Jesper\\Anaconda3\\lib\\site-packages\\scipy\\stats\\_qmc.py:2039: UserWarning: The balance properties of Sobol' points require n to be a power of 2.\n",
      "  samples = self.engine.random(n)\n"
     ]
    },
    {
     "name": "stdout",
     "output_type": "stream",
     "text": [
      "Current Monte Carlo Sample size: 399\n",
      "[[ 0.99999999  0.51119995  0.0949721  -0.18187723]\n",
      " [ 0.51119995  1.00000004  0.09621931 -0.17573181]\n",
      " [ 0.0949721   0.09621931  0.94245549  0.13654202]\n",
      " [-0.18187723 -0.17573181  0.13654202  0.78756343]]\n",
      "Step: 7: current parameter_diff: 6.5815691414666535, current marginal loglikelihood: -1313.6648243116056\n",
      "EM Iteration 8\n"
     ]
    },
    {
     "name": "stderr",
     "output_type": "stream",
     "text": [
      "c:\\Users\\Jesper\\Anaconda3\\lib\\site-packages\\scipy\\stats\\_qmc.py:2039: UserWarning: The balance properties of Sobol' points require n to be a power of 2.\n",
      "  samples = self.engine.random(n)\n"
     ]
    },
    {
     "name": "stdout",
     "output_type": "stream",
     "text": [
      "Current Monte Carlo Sample size: 438\n",
      "[[ 1.00000045  0.5111997   0.02475642 -0.10791509]\n",
      " [ 0.5111997   0.99999991 -0.00977612 -0.17914725]\n",
      " [ 0.02475642 -0.00977612  1.08288649  0.36489964]\n",
      " [-0.10791509 -0.17914725  0.36489964  0.79439427]]\n",
      "Step: 8: current parameter_diff: 3.890007277144773, current marginal loglikelihood: -1304.779484623466\n",
      "EM Iteration 9\n"
     ]
    },
    {
     "name": "stderr",
     "output_type": "stream",
     "text": [
      "c:\\Users\\Jesper\\Anaconda3\\lib\\site-packages\\scipy\\stats\\_qmc.py:2039: UserWarning: The balance properties of Sobol' points require n to be a power of 2.\n",
      "  samples = self.engine.random(n)\n"
     ]
    },
    {
     "name": "stdout",
     "output_type": "stream",
     "text": [
      "Current Monte Carlo Sample size: 438\n",
      "[[ 0.99999901  0.51120074  0.19453964 -0.08822916]\n",
      " [ 0.51120074  0.99999972  0.03875038 -0.16250799]\n",
      " [ 0.19453964  0.03875038  0.74332092  0.17322664]\n",
      " [-0.08822916 -0.16250799  0.17322664  0.7611159 ]]\n",
      "Step: 9: current parameter_diff: 4.585564229798551, current marginal loglikelihood: -1298.569440156646\n",
      "EM Iteration 10\n"
     ]
    },
    {
     "name": "stderr",
     "output_type": "stream",
     "text": [
      "c:\\Users\\Jesper\\Anaconda3\\lib\\site-packages\\scipy\\stats\\_qmc.py:2039: UserWarning: The balance properties of Sobol' points require n to be a power of 2.\n",
      "  samples = self.engine.random(n)\n"
     ]
    },
    {
     "name": "stdout",
     "output_type": "stream",
     "text": [
      "Current Monte Carlo Sample size: 438\n",
      "[[ 0.99999998  0.51119996 -0.14378808 -0.1225768 ]\n",
      " [ 0.51119996  0.99999994 -0.20249595 -0.2264413 ]\n",
      " [-0.14378808 -0.20249595  1.41997612  0.49422564]\n",
      " [-0.1225768  -0.2264413   0.49422564  0.88898245]]\n",
      "Step: 10: current parameter_diff: 5.99568633141879, current marginal loglikelihood: -1306.4565369791833\n",
      "EM Iteration 11\n"
     ]
    },
    {
     "name": "stderr",
     "output_type": "stream",
     "text": [
      "c:\\Users\\Jesper\\Anaconda3\\lib\\site-packages\\scipy\\stats\\_qmc.py:2039: UserWarning: The balance properties of Sobol' points require n to be a power of 2.\n",
      "  samples = self.engine.random(n)\n"
     ]
    },
    {
     "name": "stdout",
     "output_type": "stream",
     "text": [
      "Current Monte Carlo Sample size: 438\n",
      "[[ 0.99999991  0.5112001   0.12168973 -0.09522529]\n",
      " [ 0.5112001   0.99999994 -0.01445134 -0.19065424]\n",
      " [ 0.12168973 -0.01445134  0.88902028  0.21773979]\n",
      " [-0.09522529 -0.19065424  0.21773979  0.81740843]]\n",
      "Step: 11: current parameter_diff: 6.258483920108098, current marginal loglikelihood: -1311.057823491402\n",
      "Absolute diff in A:\n",
      "[[0.         0.15274781]\n",
      " [1.6378371  0.        ]\n",
      " [0.36028069 0.        ]\n",
      " [0.08013546 0.        ]\n",
      " [0.58274119 0.        ]\n",
      " [0.06535066 0.        ]\n",
      " [0.64057033 0.29117065]\n",
      " [0.98359123 0.47215094]\n",
      " [0.03840204 1.81118467]\n",
      " [0.25795464 0.33429511]]\n",
      "Absolute diff in delta:\n",
      "[0.15748719 1.51517459 0.30979486 0.10425101 0.17555848 0.40195661\n",
      " 0.49388807 0.03705381 0.50157061 0.40782523]\n",
      "Start pure competency baseline\n",
      "Covariance matrix is good: True\n",
      "EM Iteration 2\n",
      "Current Monte Carlo Sample size: 300\n"
     ]
    },
    {
     "name": "stderr",
     "output_type": "stream",
     "text": [
      "c:\\Users\\Jesper\\Anaconda3\\lib\\site-packages\\scipy\\stats\\_qmc.py:2039: UserWarning: The balance properties of Sobol' points require n to be a power of 2.\n",
      "  samples = self.engine.random(n)\n"
     ]
    },
    {
     "name": "stdout",
     "output_type": "stream",
     "text": [
      "Step: 2: current parameter_diff: 9.651394484184348, current marginal loglikelihood: -1077.8061177284694\n",
      "EM Iteration 3\n",
      "Current Monte Carlo Sample size: 330\n",
      "Step: 3: current parameter_diff: 6.603964908658384, current marginal loglikelihood: -1058.3206543161132\n",
      "EM Iteration 4\n",
      "Current Monte Carlo Sample size: 363\n",
      "Step: 4: current parameter_diff: 7.022096532829728, current marginal loglikelihood: -1052.851667760097\n",
      "EM Iteration 5\n",
      "Current Monte Carlo Sample size: 399\n",
      "Step: 5: current parameter_diff: 1.2837997388792886, current marginal loglikelihood: -1049.2052593692506\n",
      "EM Iteration 6\n",
      "Current Monte Carlo Sample size: 438\n",
      "Step: 6: current parameter_diff: 2.4187097107590594, current marginal loglikelihood: -1047.6816112878132\n",
      "EM Iteration 7\n",
      "Current Monte Carlo Sample size: 481\n",
      "Step: 7: current parameter_diff: 0.4833961275887047, current marginal loglikelihood: -1046.2661803936767\n",
      "EM Iteration 2\n"
     ]
    },
    {
     "name": "stderr",
     "output_type": "stream",
     "text": [
      "c:\\Users\\Jesper\\Anaconda3\\lib\\site-packages\\scipy\\stats\\_qmc.py:2039: UserWarning: The balance properties of Sobol' points require n to be a power of 2.\n",
      "  samples = self.engine.random(n)\n"
     ]
    },
    {
     "name": "stdout",
     "output_type": "stream",
     "text": [
      "Current Monte Carlo Sample size: 300\n",
      "Step: 2: current parameter_diff: 14.348402428959734, current marginal loglikelihood: -1283.1681062001683\n",
      "EM Iteration 3\n",
      "Current Monte Carlo Sample size: 330\n",
      "Step: 3: current parameter_diff: 5.738458085275537, current marginal loglikelihood: -1293.8811215507844\n",
      "EM Iteration 4\n",
      "Current Monte Carlo Sample size: 330\n",
      "Step: 4: current parameter_diff: 2.861818952496389, current marginal loglikelihood: -1288.741819410918\n",
      "EM Iteration 5\n",
      "Current Monte Carlo Sample size: 363\n",
      "Step: 5: current parameter_diff: 1.1488803557038751, current marginal loglikelihood: -1291.3411585298531\n",
      "Absolute diff in A:\n",
      "[[0.         0.55434007]\n",
      " [0.         0.05692009]\n",
      " [0.         0.18661555]\n",
      " [0.         0.36222074]\n",
      " [0.         0.64535522]\n",
      " [1.46871973 0.        ]\n",
      " [0.84315123 0.47362626]\n",
      " [1.43727107 3.55208923]\n",
      " [0.67709495 0.10807639]\n",
      " [0.04501198 0.5771147 ]]\n",
      "Absolute diff in delta:\n",
      "[0.60024238 0.09304797 0.05019149 0.08801629 0.08626959 0.37557034\n",
      " 0.16566399 0.2377747  0.42826872 0.3875354 ]\n",
      "Absolute diff in sigma:\n",
      "[[0.     0.2469]\n",
      " [0.2469 0.    ]]\n",
      "Absolute diff in A:\n",
      "[[0.         0.2631675 ]\n",
      " [1.68744065 0.        ]\n",
      " [0.13707437 0.        ]\n",
      " [0.14190432 0.        ]\n",
      " [0.09457958 0.        ]\n",
      " [0.04604395 0.        ]\n",
      " [0.82418319 1.04205817]\n",
      " [0.75012909 1.07017181]\n",
      " [0.16349427 1.6766252 ]\n",
      " [0.04197428 0.07416959]]\n",
      "Absolute diff in delta:\n",
      "[0.34993279 2.35070584 0.63432083 0.05828654 0.6378726  0.63798013\n",
      " 0.18779887 1.00340859 0.95355858 0.25679985]\n"
     ]
    },
    {
     "ename": "",
     "evalue": "",
     "output_type": "error",
     "traceback": [
      "\u001b[1;31mCanceled future for execute_request message before replies were done"
     ]
    },
    {
     "ename": "",
     "evalue": "",
     "output_type": "error",
     "traceback": [
      "\u001b[1;31mDer Kernel ist beim Ausführen von Code in der aktuellen Zelle oder einer vorherigen Zelle abgestürzt. Bitte überprüfen Sie den Code in der/den Zelle(n), um eine mögliche Fehlerursache zu identifizieren. Klicken Sie <a href='https://aka.ms/vscodeJupyterKernelCrash'>hier</a>, um weitere Informationen zu erhalten. Weitere Details finden Sie in Jupyter <a href='command:jupyter.viewOutput'>log</a>."
     ]
    }
   ],
   "source": [
    "experiment_0 = lambda sample_size, item_dimension, latent_dimension: mirt_simulation_experiment(\n",
    "                                             sample_size=sample_size, item_dimension=item_dimension, latent_dimension=latent_dimension, \n",
    "                                             q_type=\"full\", stop_threshold=0.005, \n",
    "                                             early_person_method=\"BFGS\",\n",
    "                                             late_person_method=\"BFGS\",\n",
    "                                            sigma_constraint=\"early_constraint\",\n",
    "                                            methods=[\"late_em\", \"real_early\", \"pure_competency\", \"initial\", \"difference\"])\n",
    "result_df= repeat_mirt_experiment(experiment_0, repetitions=5, sample_sizes=[30, 100, 200], latent_dims=[2, 3], item_dims=[10, 20], file=\"results/full_q.csv\")"
   ]
  },
  {
   "cell_type": "code",
   "execution_count": 7,
   "metadata": {},
   "outputs": [
    {
     "name": "stdout",
     "output_type": "stream",
     "text": [
      "------------------------------------\n",
      "##### Results for Additional convolution constraint\n",
      "Latent dimension: 2.0,  Item dimension: 10.0, sample size 65.0 \\\n",
      "Early runtime: 3.37 seconds, 7.4 steps, 0.46 seconds per step \\\n",
      "Late runtime: 29.79 seconds, 8.4 steps, 3.55 seconds per step \\\n",
      "Early Marginal Likelihood, Optimal: -393.28, Estimated: -382.6, Initial -431.14 \\\n",
      "Late Marginal Likelihood, Optimal: -477.63, Estimated: -466.69, Initial -572.43\n",
      "| method          |   early_A |   early_delta |   early_sigma |   late_A |   late_delta |   late_sigma |      psi |\n",
      "|:----------------|----------:|--------------:|--------------:|---------:|-------------:|-------------:|---------:|\n",
      "| difference      |   2.02195 |      0.879848 |      0.130072 |  1.53562 |      1.03821 |     0.122562 | 0.255554 |\n",
      "| initial         |   2.81547 |      0.628433 |      0.155705 |  2.20586 |      1.47524 |     0.40661  | 0.3359   |\n",
      "| late_em         |   2.00176 |      0.847104 |      0.125526 |  3.29231 |      1.9763  |     0.290528 | 0.317718 |\n",
      "| pure_competency |   2.10038 |      0.920136 |      0.22749  |  1.8506  |      1.716   |     0.702969 | 0.427178 |\n",
      "| real_early      | nan       |    nan        |    nan        |  2.18335 |      2.15829 |     0.449861 | 0.315987 |\n",
      "####\n",
      "Performance on Individual Level \\\n",
      "rmse theta: 0.5524662245117765 \\\n",
      "rmse gain estimated: 0.662643937900522 \\\n",
      "rmse gain predicted: 0.778328830235275\n"
     ]
    }
   ],
   "source": [
    "print_result_from_df(result_df, description=\"Additional convolution constraint\")"
   ]
  },
  {
   "cell_type": "markdown",
   "metadata": {},
   "source": [
    "\n",
    "------------------------------------\n",
    "##### Results for Monte Carlo sample varying through ttest with normal MC\n",
    "Latent dimension: 1,  Item dimension: 20, sample size 1000 \\\n",
    "Runtime: 37.86 seconds, 20 steps, 1.89 seconds per step \\\n",
    "Optimal marginal Likelihood: -8714.19, Estimated: -8697.21, Initial -9512.15\n",
    "|               |   rmse_A |   rmse_delta |   rmse_sigma |\n",
    "|:--------------|---------:|-------------:|-------------:|\n",
    "| estimated     | 0.182642 |     0.211132 |            0 |\n",
    "| early_initial | 1.69549  |     1.49975  |            0 |\n",
    "| girth         | 0.313235 |     4.2295   |            0 |\n",
    "\n",
    "------------------------------------\n",
    "##### Results for Unsafe Q-Item\n",
    "Latent dimension: 2.0,  Item dimension: 12.0, sample size 100.0 \\\n",
    "Early runtime: 2.83 seconds, 6.666666666666667 steps, 0.42 seconds per step \\\n",
    "Late runtime: 89.06 seconds, 8.0 steps, 11.13 seconds per step \\\n",
    "Early Marginal Likelihood, Optimal: -588.95, Estimated: -577.35, Initial -651.28 \\\n",
    "Late Marginal Likelihood, Optimal: -503.73, Estimated: -493.19, Initial -594.28\n",
    "| method   |   early_A |   early_delta |   early_sigma |   late_A |   late_delta |   late_sigma |      psi |\n",
    "|:---------|----------:|--------------:|--------------:|---------:|-------------:|-------------:|---------:|\n",
    "| initial  |  2.45062  |      0.659433 |     0.221324  |  4.21137 |      1.32515 |    0.0867149 | 0.329417 |\n",
    "| late_em  |  0.962137 |      0.589822 |     0.0997021 |  2.94637 |      1.26479 |    0.119171  | 0.280201 |\n",
    "\n",
    "\n",
    "------------------------------------\n",
    "##### Results for Safe Q-Item with fixed Q-Matrix usage\n",
    "Latent dimension: 2.0,  Item dimension: 12.0, sample size 100.0 \\\n",
    "Early runtime: 3.61 seconds, 7.8 steps, 0.46 seconds per step \\\n",
    "Late runtime: 59.49 seconds, 10.4 steps, 5.72 seconds per step \\\n",
    "Early Marginal Likelihood, Optimal: -582.92, Estimated: -569.96, Initial -644.32 \\\n",
    "Late Marginal Likelihood, Optimal: -578.6, Estimated: -558.43, Initial -706.82\n",
    "| method   |   early_A |   early_delta |   early_sigma |   late_A |   late_delta |   late_sigma |      psi |\n",
    "|:---------|----------:|--------------:|--------------:|---------:|-------------:|-------------:|---------:|\n",
    "| initial  |   2.88087 |      0.517633 |      0.182391 |  3.17101 |      1.1477  |     0.161164 | 0.26501  |\n",
    "| late_em  |   1.16439 |      0.584869 |      0.112529 |  3.46094 |      2.04145 |     0.172379 | 0.268391 |\n",
    "####\n",
    "\n",
    "------------------------------------\n",
    "##### Results for Additional real-early baseline\n",
    "Latent dimension: 2.0,  Item dimension: 12.0, sample size 100.0 \\\n",
    "Early runtime: 3.41 seconds, 7.6 steps, 0.45 seconds per step \\\n",
    "Late runtime: 53.02 seconds, 9.4 steps, 5.64 seconds per step \\\n",
    "Early Marginal Likelihood, Optimal: -583.55, Estimated: -572.67, Initial -646.06 \\\n",
    "Late Marginal Likelihood, Optimal: -589.58, Estimated: -569.92, Initial -744.68\n",
    "| method     |   early_A |   early_delta |   early_sigma |   late_A |   late_delta |   late_sigma |      psi |\n",
    "|:-----------|----------:|--------------:|--------------:|---------:|-------------:|-------------:|---------:|\n",
    "| difference |   1.3934  |      0.440782 |     0.10789   |  2.67044 |      5.93286 |     0.497026 | 0.488744 |\n",
    "| initial    |   2.88641 |      0.521309 |     0.195614  |  3.11633 |      1.21088 |     0.180157 | 0.201638 |\n",
    "| late_em    |   1.39654 |      0.431537 |     0.0970151 |  3.62865 |      3.70721 |     0.212556 | 0.238202 |\n",
    "| real_early | nan       |    nan        |   nan         |  1.88592 |      1.78127 |     0.155295 | 0.287462 |\n",
    "####\n",
    "\n",
    "------------------------------------\n",
    "##### Results for Additional real-early baseline\n",
    "Latent dimension: 2.0,  Item dimension: 12.0, sample size 100.0 \\\n",
    "Early runtime: 3.9 seconds, 7.8 steps, 0.5 seconds per step \\\n",
    "Late runtime: 47.23 seconds, 9.2 steps, 5.13 seconds per step \\\n",
    "Early Marginal Likelihood, Optimal: -567.07, Estimated: -554.35, Initial -643.82 \\\n",
    "Late Marginal Likelihood, Optimal: -606.14, Estimated: -580.97, Initial -732.21\n",
    "| method     |   early_A |   early_delta |   early_sigma |   late_A |   late_delta |   late_sigma |      psi |\n",
    "|:-----------|----------:|--------------:|--------------:|---------:|-------------:|-------------:|---------:|\n",
    "| difference |   1.27303 |      0.816239 |      0.113363 |  2.59347 |      4.81423 |     0.403711 | 0.570877 |\n",
    "| initial    |   2.98315 |      0.565456 |      0.191513 |  2.77793 |      1.33573 |     0.162804 | 0.321497 |\n",
    "| late_em    |   1.18451 |      0.822633 |      0.111398 |  2.68928 |      2.2549  |     0.160683 | 0.309943 |\n",
    "| real_early | nan       |    nan        |    nan        |  2.16151 |      1.63829 |     0.171389 | 0.334537 |\n",
    "####\n",
    "\n",
    "------------------------------------\n",
    "##### Results for Fixed predicting latent traits\n",
    "Latent dimension: 2.0,  Item dimension: 12.0, sample size 100.0 \\\n",
    "Early runtime: 4.24 seconds, 8.6 steps, 0.49 seconds per step \\\n",
    "Late runtime: 42.91 seconds, 8.8 steps, 4.88 seconds per step \\\n",
    "Early Marginal Likelihood, Optimal: -542.31, Estimated: -535.07, Initial -624.32 \\\n",
    "Late Marginal Likelihood, Optimal: -616.66, Estimated: -609.14, Initial -779.98\n",
    "| method     |   early_A |   early_delta |   early_sigma |   late_A |   late_delta |   late_sigma |      psi |\n",
    "|:-----------|----------:|--------------:|--------------:|---------:|-------------:|-------------:|---------:|\n",
    "| difference |   1.31683 |      0.727365 |     0.0819637 |  2.81163 |      6.04203 |    0.0979097 | 0.607177 |\n",
    "| initial    |   3.17144 |      0.593239 |     0.208215  |  2.84086 |      1.19559 |    0.201808  | 0.299464 |\n",
    "| late_em    |   1.38044 |      0.681315 |     0.167655  |  2.30619 |      2.3331  |    0.298597  | 0.228804 |\n",
    "| real_early | nan       |    nan        |   nan         |  2.82787 |      2.31606 |    0.162536  | 0.307249 |\n",
    "####\n",
    "Performance on Individual Level \\\n",
    "rmse theta: 0.5383205034871745 \\\n",
    "rmse gain: 0.8237588915191916"
   ]
  },
  {
   "cell_type": "code",
   "execution_count": null,
   "metadata": {},
   "outputs": [
    {
     "name": "stdout",
     "output_type": "stream",
     "text": [
      "Real latent covariance: [[1.     0.1921]\n",
      " [0.1921 1.    ]]\n",
      "Covariance matrix is good: True\n",
      "EM Iteration 2\n"
     ]
    },
    {
     "name": "stderr",
     "output_type": "stream",
     "text": [
      "c:\\Users\\Jesper\\Anaconda3\\lib\\site-packages\\scipy\\stats\\_qmc.py:2039: UserWarning: The balance properties of Sobol' points require n to be a power of 2.\n",
      "  samples = self.engine.random(n)\n"
     ]
    },
    {
     "name": "stdout",
     "output_type": "stream",
     "text": [
      "Current Monte Carlo Sample size: 300\n",
      "Step: 2: current parameter_diff: 9.087457477954748, current marginal loglikelihood: -12789.826209045792\n",
      "EM Iteration 3\n",
      "Current Monte Carlo Sample size: 300\n",
      "Step: 3: current parameter_diff: 9.347286786290436, current marginal loglikelihood: -12431.792159340152\n",
      "EM Iteration 4\n",
      "Current Monte Carlo Sample size: 300\n",
      "Step: 4: current parameter_diff: 5.994195183510891, current marginal loglikelihood: -12324.415808814525\n",
      "EM Iteration 5\n",
      "Current Monte Carlo Sample size: 330\n",
      "Step: 5: current parameter_diff: 3.466965558217997, current marginal loglikelihood: -12291.666326556195\n",
      "EM Iteration 6\n",
      "Current Monte Carlo Sample size: 363\n",
      "Step: 6: current parameter_diff: 3.0517259450824583, current marginal loglikelihood: -12274.293408739399\n",
      "EM Iteration 7\n",
      "Current Monte Carlo Sample size: 399\n",
      "Step: 7: current parameter_diff: 1.6828800520798761, current marginal loglikelihood: -12268.44295499595\n",
      "EM Iteration 8\n",
      "Current Monte Carlo Sample size: 438\n",
      "Step: 8: current parameter_diff: 1.5472995648012011, current marginal loglikelihood: -12266.741491100976\n",
      "EM Iteration 9\n",
      "Current Monte Carlo Sample size: 481\n",
      "Step: 9: current parameter_diff: 0.9405471813539303, current marginal loglikelihood: -12257.26354486137\n",
      "EM Iteration 10\n",
      "Current Monte Carlo Sample size: 529\n",
      "Step: 10: current parameter_diff: 0.5530337635868852, current marginal loglikelihood: -12254.874420202255\n",
      "EM Iteration 11\n",
      "Current Monte Carlo Sample size: 581\n",
      "Step: 11: current parameter_diff: 0.9182088621850061, current marginal loglikelihood: -12252.639608779638\n",
      "EM Iteration 12\n",
      "Current Monte Carlo Sample size: 581\n",
      "Step: 12: current parameter_diff: 0.6457048580426479, current marginal loglikelihood: -12250.319820728353\n",
      "EM Iteration 13\n",
      "Current Monte Carlo Sample size: 581\n"
     ]
    },
    {
     "name": "stderr",
     "output_type": "stream",
     "text": [
      "c:\\Users\\Jesper\\Documents\\GitHub\\Knowledge-Growth-Prediction\\em_algorithm\\e_step_mirt_2pl.py:264: RuntimeWarning: divide by zero encountered in log\n",
      "  icc_values), r_item_theta) + np.multiply(np.log(1-icc_values), np.subtract(r_0_theta, r_item_theta))\n"
     ]
    },
    {
     "name": "stdout",
     "output_type": "stream",
     "text": [
      "Step: 13: current parameter_diff: 0.40565533319178126, current marginal loglikelihood: -12248.475980359144\n",
      "EM Iteration 14\n",
      "Current Monte Carlo Sample size: 581\n",
      "Step: 14: current parameter_diff: 0.3981727860081429, current marginal loglikelihood: -12251.628743992456\n",
      "EM Iteration 15\n",
      "Current Monte Carlo Sample size: 639\n",
      "Step: 15: current parameter_diff: 0.3759899463682548, current marginal loglikelihood: -12251.09622265484\n",
      "EM Iteration 16\n",
      "Current Monte Carlo Sample size: 702\n",
      "Step: 16: current parameter_diff: 0.07730277535592268, current marginal loglikelihood: -12250.114423241039\n",
      "EM Iteration 17\n",
      "Current Monte Carlo Sample size: 772\n",
      "Step: 17: current parameter_diff: 0.35397135818851444, current marginal loglikelihood: -12249.62312895641\n",
      "Absolute diff in A:\n",
      "[[ 0.14141196  0.        ]\n",
      " [ 0.14652275  0.        ]\n",
      " [ 0.24777834  0.        ]\n",
      " [ 0.39441549  0.        ]\n",
      " [ 0.12016762  0.        ]\n",
      " [ 0.32373102  0.        ]\n",
      " [ 2.04123377  0.        ]\n",
      " [ 0.07098307  0.        ]\n",
      " [ 0.06713308  0.        ]\n",
      " [ 0.          0.20182688]\n",
      " [ 0.          0.62813809]\n",
      " [ 0.          0.09920095]\n",
      " [ 0.          0.01945836]\n",
      " [ 0.          0.18659965]\n",
      " [ 0.          0.15575047]\n",
      " [ 0.          0.08789252]\n",
      " [ 0.          1.4778765 ]\n",
      " [ 0.          0.04189966]\n",
      " [ 0.         10.97192658]\n",
      " [ 0.          0.01780647]]\n",
      "Absolute diff in delta:\n",
      "[0.11951806 0.01624619 0.00828051 0.00229788 0.03779432 0.12022373\n",
      " 0.3486814  0.00835183 0.058682   0.13972121 0.09226136 0.03582283\n",
      " 0.07487817 0.05699409 0.08076706 0.08706214 0.40613611 0.01579479\n",
      " 1.00325414 0.03622401]\n",
      "Absolute diff in sigma:\n",
      "[[0.     0.0592]\n",
      " [0.0592 0.    ]]\n",
      "Absolute diff in A:\n",
      "[[ 1.36526825  0.        ]\n",
      " [ 1.11545869  0.        ]\n",
      " [ 1.73464119  0.        ]\n",
      " [ 1.36717029  0.        ]\n",
      " [ 0.86321887  0.        ]\n",
      " [ 1.3189492   0.        ]\n",
      " [ 7.95629842  0.        ]\n",
      " [ 0.25893288  0.        ]\n",
      " [ 0.90547762  0.        ]\n",
      " [ 0.          3.59522736]\n",
      " [ 0.          1.62115369]\n",
      " [ 0.          0.60013944]\n",
      " [ 0.          0.69561718]\n",
      " [ 0.          3.18601677]\n",
      " [ 0.          0.67271571]\n",
      " [ 0.          0.01684306]\n",
      " [ 0.          2.47056086]\n",
      " [ 0.          2.57133627]\n",
      " [ 0.         11.96739471]\n",
      " [ 0.          0.77011617]]\n",
      "Absolute diff in delta:\n",
      "[0.06091239 0.02035124 0.864845   0.03297919 0.0250019  0.13604297\n",
      " 1.95588372 0.02782104 0.03300903 2.77138941 0.09108795 0.05574691\n",
      " 0.08273561 0.12214658 0.05284058 0.0228591  0.39977876 0.28998553\n",
      " 1.02811303 0.1957758 ]\n",
      "Absolute diff in sigma:\n",
      "[[0.     0.3079]\n",
      " [0.3079 0.    ]]\n"
     ]
    }
   ],
   "source": [
    "performance_dict = mirt_param_recovery(sample_size=1000, item_dimension=20, latent_dimension=2, q_type=\"seperated\", girth=False, stop_threshold=1)"
   ]
  },
  {
   "cell_type": "code",
   "execution_count": null,
   "metadata": {},
   "outputs": [
    {
     "name": "stdout",
     "output_type": "stream",
     "text": [
      "------------------------------------\n",
      "##### Results for Fixed Issue with simulation Covariance\n",
      "Latent dimension: 2,  Item dimension: 20, sample size 1000 \\\n",
      "Runtime: 51.07 seconds, 18 steps, 2.84 seconds per step \\\n",
      "Optimal marginal Likelihood: -11670.7, Estimated: -12247.32, Initial -13560.2\n",
      "|               |   rmse_A |   rmse_delta |   rmse_sigma |\n",
      "|:--------------|---------:|-------------:|-------------:|\n",
      "| estimated     |  1.78631 |     0.262764 |    0.0418607 |\n",
      "| early_initial |  2.54062 |     0.826317 |    0.217718  |\n"
     ]
    }
   ],
   "source": [
    "print_result(performance_dict, \"Fixed Issue with simulation Covariance\")"
   ]
  },
  {
   "cell_type": "markdown",
   "metadata": {},
   "source": [
    "------------------------------------\n",
    "##### Results for Seperated Q-Matrix\n",
    "Latent dimension: 2,  Item dimension: 20, sample size 1000 \\\n",
    "Runtime: 142.07 seconds, 26 steps, 5.46 seconds per step \\\n",
    "Optimal marginal Likelihood: -9384.38, Estimated: -10189.47, Initial -11459.9\n",
    "|               |   rmse_A |   rmse_delta |   rmse_sigma |\n",
    "|:--------------|---------:|-------------:|-------------:|\n",
    "| estimated     |  4.00013 |      3.10678 |    0.0201383 |\n",
    "| early_initial |  4.5183  |      2.5846  |    0.165491  |\n",
    "\n",
    "------------------------------------\n",
    "##### Results for BFGS for Q_0 with approximate Jacobi\n",
    "Latent dimension: 2,  Item dimension: 20, sample size 1000 \\\n",
    "Runtime: 61.55 seconds, 12 steps, 5.13 seconds per step \\\n",
    "Optimal marginal Likelihood: -9363.89, Estimated: -9711.58, Initial -10528.79\n",
    "|               |   rmse_A |   rmse_delta |   rmse_sigma |\n",
    "|:--------------|---------:|-------------:|-------------:|\n",
    "| estimated     |  3.02507 |      1.83482 |    0.0645047 |\n",
    "| early_initial |  2.06432 |      2.18337 |    0.289049  |\n",
    "\n",
    "------------------------------------\n",
    "##### Results for Monte Carlo sample varying through ttest\n",
    "Latent dimension: 2,  Item dimension: 20, sample size 1000 \\\n",
    "Runtime: 325.73 seconds, 42 steps, 7.76 seconds per step \\\n",
    "Optimal marginal Likelihood: -9929.77, Estimated: -10179.96, Initial -10767.41\n",
    "|               |   rmse_A |   rmse_delta |   rmse_sigma |\n",
    "|:--------------|---------:|-------------:|-------------:|\n",
    "| estimated     |  1.25777 |     0.965894 |   0.00557421 |\n",
    "| early_initial |  1.98812 |     1.68516  |   0.719705   |\n",
    "\n",
    "------------------------------------\n",
    "##### Results for Fixed random Covariance 1, girth included\n",
    "Latent dimension: 2,  Item dimension: 20, sample size 1000 \\\n",
    "Runtime: 57.16 seconds, 14 steps, 4.08 seconds per step \\\n",
    "Optimal marginal Likelihood: -11668.66, Estimated: -11672.6, Initial -12307.41\n",
    "|               |   rmse_A |   rmse_delta |   rmse_sigma |\n",
    "|:--------------|---------:|-------------:|-------------:|\n",
    "| estimated     | 0.183251 |    0.0861252 |    0.0215108 |\n",
    "| early_initial | 0.786712 |    0.393667  |    0.0471788 |\n",
    "| girth         | 1.28298  |    0.263374  |    0.350541  |\n",
    "\n",
    "------------------------------------\n",
    "##### Results for Fixed Issue with simulation Covariance\n",
    "Latent dimension: 2,  Item dimension: 20, sample size 1000 \\\n",
    "Runtime: 24.71 seconds, 11 steps, 2.25 seconds per step \\\n",
    "Optimal marginal Likelihood: -11186.38, Estimated: -11389.57, Initial -12010.77\n",
    "|               |   rmse_A |   rmse_delta |   rmse_sigma |\n",
    "|:--------------|---------:|-------------:|-------------:|\n",
    "| estimated     |  1.83766 |      1.4664  |    0.0743169 |\n",
    "| early_initial |  2.7041  |      2.66224 |    0.0627911 |"
   ]
  },
  {
   "cell_type": "code",
   "execution_count": null,
   "metadata": {},
   "outputs": [
    {
     "name": "stdout",
     "output_type": "stream",
     "text": [
      "Real latent covariance: [[1.     0.5392 0.4093]\n",
      " [0.5392 1.     0.5406]\n",
      " [0.4093 0.5406 1.    ]]\n",
      "Covariance matrix is good: True\n",
      "EM Iteration 2\n"
     ]
    },
    {
     "name": "stderr",
     "output_type": "stream",
     "text": [
      "c:\\Users\\Jesper\\Anaconda3\\lib\\site-packages\\scipy\\stats\\_qmc.py:2039: UserWarning: The balance properties of Sobol' points require n to be a power of 2.\n",
      "  samples = self.engine.random(n)\n"
     ]
    },
    {
     "name": "stdout",
     "output_type": "stream",
     "text": [
      "Current Monte Carlo Sample size: 600\n"
     ]
    },
    {
     "name": "stderr",
     "output_type": "stream",
     "text": [
      "c:\\Users\\Jesper\\Documents\\GitHub\\Knowledge-Growth-Prediction\\em_algorithm\\e_step_mirt_2pl.py:198: RuntimeWarning: divide by zero encountered in log\n",
      "  factor = np.log(self.model.latent_density(theta, sigma=sigma))\n",
      "c:\\Users\\Jesper\\Documents\\GitHub\\Knowledge-Growth-Prediction\\em_algorithm\\e_step_mirt_2pl.py:198: RuntimeWarning: divide by zero encountered in log\n",
      "  factor = np.log(self.model.latent_density(theta, sigma=sigma))\n"
     ]
    },
    {
     "name": "stdout",
     "output_type": "stream",
     "text": [
      "[[1.         0.22255116 0.4851635 ]\n",
      " [0.22255116 1.         0.28710379]\n",
      " [0.4851635  0.28710379 1.        ]]\n",
      "Step: 2: current parameter_diff: 22.836966115835242, current marginal loglikelihood: -11263.404209075177\n",
      "EM Iteration 3\n"
     ]
    },
    {
     "name": "stderr",
     "output_type": "stream",
     "text": [
      "c:\\Users\\Jesper\\Anaconda3\\lib\\site-packages\\scipy\\stats\\_qmc.py:2039: UserWarning: The balance properties of Sobol' points require n to be a power of 2.\n",
      "  samples = self.engine.random(n)\n"
     ]
    },
    {
     "name": "stdout",
     "output_type": "stream",
     "text": [
      "Current Monte Carlo Sample size: 600\n",
      "[[1.         0.03209561 0.46728994]\n",
      " [0.03209561 1.         0.18680867]\n",
      " [0.46728994 0.18680867 1.        ]]\n",
      "Step: 3: current parameter_diff: 12.765040130244333, current marginal loglikelihood: -11025.095432664773\n",
      "EM Iteration 4\n"
     ]
    },
    {
     "name": "stderr",
     "output_type": "stream",
     "text": [
      "c:\\Users\\Jesper\\Anaconda3\\lib\\site-packages\\scipy\\stats\\_qmc.py:2039: UserWarning: The balance properties of Sobol' points require n to be a power of 2.\n",
      "  samples = self.engine.random(n)\n"
     ]
    },
    {
     "name": "stdout",
     "output_type": "stream",
     "text": [
      "Current Monte Carlo Sample size: 660\n",
      "[[ 1.         -0.12237363  0.46206731]\n",
      " [-0.12237363  1.          0.13165586]\n",
      " [ 0.46206731  0.13165586  1.        ]]\n",
      "Step: 4: current parameter_diff: 11.082485951986573, current marginal loglikelihood: -10917.861640370744\n",
      "EM Iteration 5\n"
     ]
    },
    {
     "name": "stderr",
     "output_type": "stream",
     "text": [
      "c:\\Users\\Jesper\\Anaconda3\\lib\\site-packages\\scipy\\stats\\_qmc.py:2039: UserWarning: The balance properties of Sobol' points require n to be a power of 2.\n",
      "  samples = self.engine.random(n)\n"
     ]
    },
    {
     "name": "stdout",
     "output_type": "stream",
     "text": [
      "Current Monte Carlo Sample size: 726\n",
      "[[ 1.         -0.13268712  0.46966192]\n",
      " [-0.13268712  1.          0.07677147]\n",
      " [ 0.46966192  0.07677147  1.        ]]\n",
      "Step: 5: current parameter_diff: 5.054700187758239, current marginal loglikelihood: -10871.624165962843\n",
      "EM Iteration 6\n"
     ]
    },
    {
     "name": "stderr",
     "output_type": "stream",
     "text": [
      "c:\\Users\\Jesper\\Anaconda3\\lib\\site-packages\\scipy\\stats\\_qmc.py:2039: UserWarning: The balance properties of Sobol' points require n to be a power of 2.\n",
      "  samples = self.engine.random(n)\n"
     ]
    },
    {
     "name": "stdout",
     "output_type": "stream",
     "text": [
      "Current Monte Carlo Sample size: 798\n",
      "[[ 1.         -0.15335902  0.48429796]\n",
      " [-0.15335902  1.          0.00857838]\n",
      " [ 0.48429796  0.00857838  1.        ]]\n",
      "Step: 6: current parameter_diff: 7.350049766942949, current marginal loglikelihood: -10846.63925009043\n",
      "EM Iteration 7\n"
     ]
    },
    {
     "name": "stderr",
     "output_type": "stream",
     "text": [
      "c:\\Users\\Jesper\\Anaconda3\\lib\\site-packages\\scipy\\stats\\_qmc.py:2039: UserWarning: The balance properties of Sobol' points require n to be a power of 2.\n",
      "  samples = self.engine.random(n)\n"
     ]
    },
    {
     "name": "stdout",
     "output_type": "stream",
     "text": [
      "Current Monte Carlo Sample size: 877\n",
      "[[ 1.         -0.18130942  0.49736388]\n",
      " [-0.18130942  1.         -0.04688012]\n",
      " [ 0.49736388 -0.04688012  1.        ]]\n",
      "Step: 7: current parameter_diff: 4.21590743744123, current marginal loglikelihood: -10830.644137405307\n",
      "EM Iteration 8\n"
     ]
    },
    {
     "name": "stderr",
     "output_type": "stream",
     "text": [
      "c:\\Users\\Jesper\\Anaconda3\\lib\\site-packages\\scipy\\stats\\_qmc.py:2039: UserWarning: The balance properties of Sobol' points require n to be a power of 2.\n",
      "  samples = self.engine.random(n)\n"
     ]
    },
    {
     "name": "stdout",
     "output_type": "stream",
     "text": [
      "Current Monte Carlo Sample size: 964\n",
      "[[ 1.         -0.15152568  0.50240847]\n",
      " [-0.15152568  1.         -0.07665482]\n",
      " [ 0.50240847 -0.07665482  1.        ]]\n"
     ]
    },
    {
     "name": "stderr",
     "output_type": "stream",
     "text": [
      "c:\\Users\\Jesper\\Documents\\GitHub\\Knowledge-Growth-Prediction\\em_algorithm\\e_step_mirt_2pl.py:264: RuntimeWarning: divide by zero encountered in log\n",
      "  icc_values), r_item_theta) + np.multiply(np.log(1-icc_values), np.subtract(r_0_theta, r_item_theta))\n",
      "c:\\Users\\Jesper\\Documents\\GitHub\\Knowledge-Growth-Prediction\\em_algorithm\\e_step_mirt_2pl.py:264: RuntimeWarning: invalid value encountered in multiply\n",
      "  icc_values), r_item_theta) + np.multiply(np.log(1-icc_values), np.subtract(r_0_theta, r_item_theta))\n",
      "c:\\Users\\Jesper\\Documents\\GitHub\\Knowledge-Growth-Prediction\\em_algorithm\\m_step_mirt_2pl.py:70: RuntimeWarning: overflow encountered in exp\n",
      "  population = random.choices(population=population_base, weights=np.exp(\n"
     ]
    }
   ],
   "source": [
    "performance_dict = mirt_param_recovery(sample_size=1000, item_dimension=20, latent_dimension=3, q_type=\"pyramid\", girth=False, stop_threshold=10, ensure_id=True, q_share=0.6)"
   ]
  },
  {
   "cell_type": "code",
   "execution_count": null,
   "metadata": {},
   "outputs": [
    {
     "ename": "NameError",
     "evalue": "name 'performance_dict' is not defined",
     "output_type": "error",
     "traceback": [
      "\u001b[1;31m---------------------------------------------------------------------------\u001b[0m",
      "\u001b[1;31mNameError\u001b[0m                                 Traceback (most recent call last)",
      "\u001b[1;32mc:\\Users\\Jesper\\Documents\\GitHub\\Knowledge-Growth-Prediction\\simulation_experiments.ipynb Zelle 21\u001b[0m in \u001b[0;36m<cell line: 1>\u001b[1;34m()\u001b[0m\n\u001b[1;32m----> <a href='vscode-notebook-cell:/c%3A/Users/Jesper/Documents/GitHub/Knowledge-Growth-Prediction/simulation_experiments.ipynb#X26sZmlsZQ%3D%3D?line=0'>1</a>\u001b[0m print_result(performance_dict, \u001b[39m\"\u001b[39m\u001b[39mWith Covariance Matrix partially aligned to Q-matrix\u001b[39m\u001b[39m\"\u001b[39m)\n",
      "\u001b[1;31mNameError\u001b[0m: name 'performance_dict' is not defined"
     ]
    }
   ],
   "source": [
    "print_result(performance_dict, \"With Covariance Matrix partially aligned to Q-matrix\")"
   ]
  },
  {
   "cell_type": "markdown",
   "metadata": {},
   "source": [
    "------------------------------------\n",
    "##### Results for Pyramid Q-Matrix\n",
    "Latent dimension: 3,  Item dimension: 20, sample size 200 \\\n",
    "Runtime: 121.22 seconds, 46 steps, 2.64 seconds per step \\\n",
    "Optimal marginal Likelihood: -2144.15, Estimated: -2155.08, Initial -2699.63\n",
    "|               |   rmse_A |   rmse_delta |   rmse_sigma |\n",
    "|:--------------|---------:|-------------:|-------------:|\n",
    "| estimated     |  11.0034 |      1.77461 |     0.889828 |\n",
    "| early_initial |  10.5116 |      2.15986 |     0.522199 |\n",
    "\n",
    "------------------------------------\n",
    "##### Results for Pyramid Q-Matrix\n",
    "Latent dimension: 3,  Item dimension: 20, sample size 1000 \\\n",
    "Runtime: 313.22 seconds, 51 steps, 6.14 seconds per step \\\n",
    "Optimal marginal Likelihood: -9452.24, Estimated: -9813.87, Initial -11216.48\n",
    "|               |   rmse_A |   rmse_delta |   rmse_sigma |\n",
    "|:--------------|---------:|-------------:|-------------:|\n",
    "| estimated     |  5.34115 |      1.4068  |     0.425982 |\n",
    "| early_initial |  5.98238 |      2.25109 |     0.234288 |\n",
    "\n",
    "------------------------------------\n",
    "##### Results for Pyramid Q-Matrix\n",
    "Latent dimension: 3,  Item dimension: 30, sample size 2000 \\\n",
    "Runtime: 1521.51 seconds, 76 steps, 20.02 seconds per step \\\n",
    "Optimal marginal Likelihood: -30844.13, Estimated: -32521.34, Initial -37390.6\n",
    "|               |   rmse_A |   rmse_delta |   rmse_sigma |\n",
    "|:--------------|---------:|-------------:|-------------:|\n",
    "| estimated     |  2.55959 |       1.9952 |    0.314331  |\n",
    "| early_initial |  3.32034 |       3.514  |    0.0239562 |\n",
    "\n",
    "------------------------------------\n",
    "##### Results for BFGS for Q_0 with approximated gradient\n",
    "Latent dimension: 3,  Item dimension: 20, sample size 1000 \\\n",
    "Runtime: 350.28 seconds, 64 steps, 5.47 seconds per step \\\n",
    "Optimal marginal Likelihood: -10498.87, Estimated: -11303.0, Initial -12740.14\n",
    "|               |   rmse_A |   rmse_delta |   rmse_sigma |\n",
    "|:--------------|---------:|-------------:|-------------:|\n",
    "| estimated     |  10.2704 |     0.68597  |    0.318713  |\n",
    "| early_initial |  10.4626 |     0.846172 |    0.0895367 |\n",
    "\n",
    "------------------------------------\n",
    "##### Results for BFGS for Q_0 with exact gradient\n",
    "Latent dimension: 3,  Item dimension: 20, sample size 1000 \\\n",
    "Runtime: 152.91 seconds, 31 steps, 4.93 seconds per step \\\n",
    "Optimal marginal Likelihood: -11106.69, Estimated: -11211.51, Initial -12370.23\n",
    "|               |   rmse_A |   rmse_delta |   rmse_sigma |\n",
    "|:--------------|---------:|-------------:|-------------:|\n",
    "| estimated     |  3.5074  |      2.54509 |     0.21123  |\n",
    "| early_initial |  3.51819 |      2.66313 |     0.319647 |\n",
    "\n",
    "------------------------------------\n",
    "##### Results for Newton-Raphson for Q_0 with approximated second derivative\n",
    "Latent dimension: 3,  Item dimension: 20, sample size 1000 \\\n",
    "Runtime: 352.93 seconds, 62 steps, 5.69 seconds per step \\\n",
    "Optimal marginal Likelihood: -10237.22, Estimated: -10482.36, Initial -12569.49\n",
    "|               |   rmse_A |   rmse_delta |   rmse_sigma |\n",
    "|:--------------|---------:|-------------:|-------------:|\n",
    "| estimated     |  5.23694 |      2.45127 |     0.508499 |\n",
    "| early_initial |  5.36172 |      3.29141 |     0.640209 |"
   ]
  },
  {
   "cell_type": "code",
   "execution_count": null,
   "metadata": {},
   "outputs": [
    {
     "name": "stdout",
     "output_type": "stream",
     "text": [
      "Real latent covariance: [[1.     0.     0.2545]\n",
      " [0.     1.     0.3721]\n",
      " [0.2545 0.3721 1.    ]]\n",
      "Covariance matrix is good: True\n",
      "EM Iteration 2\n"
     ]
    },
    {
     "name": "stderr",
     "output_type": "stream",
     "text": [
      "c:\\Users\\Jesper\\Anaconda3\\lib\\site-packages\\scipy\\stats\\_qmc.py:2039: UserWarning: The balance properties of Sobol' points require n to be a power of 2.\n",
      "  samples = self.engine.random(n)\n"
     ]
    },
    {
     "name": "stdout",
     "output_type": "stream",
     "text": [
      "Current Monte Carlo Sample size: 600\n"
     ]
    },
    {
     "name": "stderr",
     "output_type": "stream",
     "text": [
      "c:\\Users\\Jesper\\Anaconda3\\lib\\site-packages\\scipy\\optimize\\_numdiff.py:576: RuntimeWarning: invalid value encountered in subtract\n",
      "  df = fun(x) - f0\n"
     ]
    },
    {
     "name": "stdout",
     "output_type": "stream",
     "text": [
      "[[nan nan nan]\n",
      " [nan nan nan]\n",
      " [nan nan nan]]\n",
      "[[nan nan nan]\n",
      " [nan nan nan]\n",
      " [nan nan nan]]\n",
      "Invalid Covariance encountered, trying last step covariance\n",
      "Step: 2: current parameter_diff: 41.855085339761395, current marginal loglikelihood: -12550.72345228223\n",
      "EM Iteration 3\n",
      "Current Monte Carlo Sample size: 660\n",
      "[[nan nan nan]\n",
      " [nan nan nan]\n",
      " [nan nan nan]]\n",
      "[[nan nan nan]\n",
      " [nan nan nan]\n",
      " [nan nan nan]]\n",
      "Invalid Covariance encountered, trying last step covariance\n",
      "Step: 3: current parameter_diff: 28.922785136715092, current marginal loglikelihood: -12131.893852917503\n",
      "EM Iteration 4\n",
      "Current Monte Carlo Sample size: 660\n",
      "[[ 1.00000000e+000 -7.56483606e-249 -7.12199634e-243]\n",
      " [-7.56483606e-249  1.00000000e+000 -1.46994029e-260]\n",
      " [-7.12199634e-243 -1.46994029e-260  1.00000000e+000]]\n"
     ]
    },
    {
     "name": "stderr",
     "output_type": "stream",
     "text": [
      "c:\\Users\\Jesper\\Documents\\GitHub\\Knowledge-Growth-Prediction\\em_algorithm\\e_step_mirt_2pl.py:264: RuntimeWarning: divide by zero encountered in log\n",
      "  icc_values), r_item_theta) + np.multiply(np.log(1-icc_values), np.subtract(r_0_theta, r_item_theta))\n",
      "c:\\Users\\Jesper\\Documents\\GitHub\\Knowledge-Growth-Prediction\\em_algorithm\\e_step_mirt_2pl.py:264: RuntimeWarning: invalid value encountered in multiply\n",
      "  icc_values), r_item_theta) + np.multiply(np.log(1-icc_values), np.subtract(r_0_theta, r_item_theta))\n"
     ]
    },
    {
     "name": "stdout",
     "output_type": "stream",
     "text": [
      "Step: 4: current parameter_diff: 24.909956480277785, current marginal loglikelihood: -11869.365012663717\n",
      "EM Iteration 5\n",
      "Current Monte Carlo Sample size: 660\n",
      "[[1.         0.07473132 0.19983603]\n",
      " [0.07473132 1.         0.24058055]\n",
      " [0.19983603 0.24058055 1.        ]]\n",
      "Step: 5: current parameter_diff: 20.731814136925763, current marginal loglikelihood: -11739.105149945846\n",
      "EM Iteration 6\n",
      "Current Monte Carlo Sample size: 660\n",
      "[[1.         0.02395303 0.25925938]\n",
      " [0.02395303 1.         0.26711545]\n",
      " [0.25925938 0.26711545 1.        ]]\n",
      "Step: 6: current parameter_diff: 6.423400003338906, current marginal loglikelihood: -11720.71525563623\n",
      "EM Iteration 7\n",
      "Current Monte Carlo Sample size: 726\n",
      "[[1.         0.02766565 0.2770886 ]\n",
      " [0.02766565 1.         0.30801604]\n",
      " [0.2770886  0.30801604 1.        ]]\n",
      "Step: 7: current parameter_diff: 5.599935651052099, current marginal loglikelihood: -11726.261698793634\n",
      "EM Iteration 8\n",
      "Current Monte Carlo Sample size: 798\n",
      "[[1.         0.03611896 0.29298871]\n",
      " [0.03611896 1.         0.33452034]\n",
      " [0.29298871 0.33452034 1.        ]]\n"
     ]
    },
    {
     "name": "stderr",
     "output_type": "stream",
     "text": [
      "c:\\Users\\Jesper\\Documents\\GitHub\\Knowledge-Growth-Prediction\\em_algorithm\\m_step_mirt_2pl.py:70: RuntimeWarning: overflow encountered in exp\n",
      "  population = random.choices(population=population_base, weights=np.exp(\n"
     ]
    },
    {
     "name": "stdout",
     "output_type": "stream",
     "text": [
      "Step: 8: current parameter_diff: 8.88763105930743, current marginal loglikelihood: -11739.130271363902\n",
      "EM Iteration 9\n",
      "Current Monte Carlo Sample size: 877\n",
      "[[1.         0.04450944 0.2860444 ]\n",
      " [0.04450944 1.         0.34325432]\n",
      " [0.2860444  0.34325432 1.        ]]\n",
      "Step: 9: current parameter_diff: 6.972349751947515, current marginal loglikelihood: -11721.612152810394\n",
      "EM Iteration 10\n",
      "Current Monte Carlo Sample size: 964\n",
      "[[1.         0.04267512 0.28987184]\n",
      " [0.04267512 1.         0.33339445]\n",
      " [0.28987184 0.33339445 1.        ]]\n",
      "Step: 10: current parameter_diff: 13.349635834760017, current marginal loglikelihood: -11712.217814439908\n",
      "EM Iteration 11\n",
      "Current Monte Carlo Sample size: 1060\n",
      "[[1.         0.05402791 0.27611641]\n",
      " [0.05402791 1.         0.32730623]\n",
      " [0.27611641 0.32730623 1.        ]]\n",
      "Step: 11: current parameter_diff: 13.121900001706786, current marginal loglikelihood: -11752.478352914124\n",
      "EM Iteration 12\n",
      "Current Monte Carlo Sample size: 1166\n",
      "[[1.         0.03472167 0.29289335]\n",
      " [0.03472167 1.         0.31423842]\n",
      " [0.29289335 0.31423842 1.        ]]\n",
      "Step: 12: current parameter_diff: 12.92705941994013, current marginal loglikelihood: -11773.525002062834\n",
      "EM Iteration 13\n",
      "Current Monte Carlo Sample size: 1282\n",
      "[[1.         0.04206202 0.28354236]\n",
      " [0.04206202 1.         0.34677087]\n",
      " [0.28354236 0.34677087 1.        ]]\n",
      "Step: 13: current parameter_diff: 14.069785350523503, current marginal loglikelihood: -11888.973247891026\n",
      "EM Iteration 14\n",
      "Current Monte Carlo Sample size: 1282\n",
      "[[1.         0.04470603 0.30510719]\n",
      " [0.04470603 1.         0.31712275]\n",
      " [0.30510719 0.31712275 1.        ]]\n",
      "Step: 14: current parameter_diff: 12.996930583013478, current marginal loglikelihood: -11919.620612639617\n",
      "EM Iteration 15\n",
      "Current Monte Carlo Sample size: 1410\n",
      "[[1.         0.03289506 0.31780259]\n",
      " [0.03289506 1.         0.33049459]\n",
      " [0.31780259 0.33049459 1.        ]]\n",
      "Step: 15: current parameter_diff: 12.407788859306613, current marginal loglikelihood: -11918.172775706451\n",
      "EM Iteration 16\n",
      "Current Monte Carlo Sample size: 1551\n",
      "[[1.         0.03358675 0.32117101]\n",
      " [0.03358675 1.         0.34333722]\n",
      " [0.32117101 0.34333722 1.        ]]\n",
      "Step: 16: current parameter_diff: 15.80893260174836, current marginal loglikelihood: -12160.280411491387\n",
      "EM Iteration 17\n",
      "Current Monte Carlo Sample size: 1706\n",
      "[[1.         0.03828454 0.3173103 ]\n",
      " [0.03828454 1.         0.37550231]\n",
      " [0.3173103  0.37550231 1.        ]]\n",
      "Step: 17: current parameter_diff: 17.733213121984406, current marginal loglikelihood: -12120.335550218635\n",
      "EM Iteration 18\n",
      "Current Monte Carlo Sample size: 1706\n",
      "[[1.         0.03947006 0.30946325]\n",
      " [0.03947006 1.         0.42371964]\n",
      " [0.30946325 0.42371964 1.        ]]\n",
      "Step: 18: current parameter_diff: 16.20566266842648, current marginal loglikelihood: -12159.97257104385\n",
      "EM Iteration 19\n",
      "Current Monte Carlo Sample size: 1876\n",
      "[[1.         0.05036364 0.315018  ]\n",
      " [0.05036364 1.         0.45976397]\n",
      " [0.315018   0.45976397 1.        ]]\n",
      "Step: 19: current parameter_diff: 17.15942650707747, current marginal loglikelihood: -12319.975242536013\n",
      "EM Iteration 20\n",
      "Current Monte Carlo Sample size: 2063\n",
      "[[1.         0.05564366 0.33809592]\n",
      " [0.05564366 1.         0.46824847]\n",
      " [0.33809592 0.46824847 1.        ]]\n",
      "Step: 20: current parameter_diff: 16.691893000641358, current marginal loglikelihood: -12259.903212209978\n",
      "EM Iteration 21\n",
      "Current Monte Carlo Sample size: 2269\n",
      "[[1.         0.08912059 0.32975034]\n",
      " [0.08912059 1.         0.45420422]\n",
      " [0.32975034 0.45420422 1.        ]]\n",
      "Step: 21: current parameter_diff: 23.66059479399594, current marginal loglikelihood: -12604.479047689154\n",
      "EM Iteration 22\n",
      "Current Monte Carlo Sample size: 2495\n",
      "[[1.         0.08254014 0.32608357]\n",
      " [0.08254014 1.         0.47241503]\n",
      " [0.32608357 0.47241503 1.        ]]\n",
      "Step: 22: current parameter_diff: 20.38471152818203, current marginal loglikelihood: -12431.250915065328\n",
      "EM Iteration 23\n",
      "Current Monte Carlo Sample size: 2744\n",
      "[[1.         0.08504754 0.3504352 ]\n",
      " [0.08504754 1.         0.49784505]\n",
      " [0.3504352  0.49784505 1.        ]]\n",
      "Step: 23: current parameter_diff: 24.10400754464389, current marginal loglikelihood: -12276.607911791718\n",
      "EM Iteration 24\n",
      "Current Monte Carlo Sample size: 3018\n",
      "[[1.         0.10774412 0.35177853]\n",
      " [0.10774412 1.         0.45853182]\n",
      " [0.35177853 0.45853182 1.        ]]\n",
      "Step: 24: current parameter_diff: 22.541689707305267, current marginal loglikelihood: -12489.193570693122\n",
      "EM Iteration 25\n",
      "Current Monte Carlo Sample size: 3319\n",
      "[[1.         0.10661726 0.34589446]\n",
      " [0.10661726 1.         0.41512853]\n",
      " [0.34589446 0.41512853 1.        ]]\n",
      "Step: 25: current parameter_diff: 25.243161391043913, current marginal loglikelihood: -12530.126933447274\n",
      "EM Iteration 26\n",
      "Current Monte Carlo Sample size: 3650\n",
      "[[1.         0.05332288 0.32572397]\n",
      " [0.05332288 1.         0.32202492]\n",
      " [0.32572397 0.32202492 1.        ]]\n",
      "Step: 26: current parameter_diff: 22.217647900015496, current marginal loglikelihood: -12327.542608689702\n",
      "EM Iteration 27\n",
      "Current Monte Carlo Sample size: 4015\n",
      "[[1.         0.04531018 0.29629237]\n",
      " [0.04531018 1.         0.3749033 ]\n",
      " [0.29629237 0.3749033  1.        ]]\n",
      "Step: 27: current parameter_diff: 24.456232729238387, current marginal loglikelihood: -12569.487190457674\n",
      "EM Iteration 28\n",
      "Current Monte Carlo Sample size: 4015\n",
      "[[1.         0.0664822  0.2553332 ]\n",
      " [0.0664822  1.         0.32259075]\n",
      " [0.2553332  0.32259075 1.        ]]\n",
      "Step: 28: current parameter_diff: 21.160665319248636, current marginal loglikelihood: -12482.746614190011\n",
      "EM Iteration 29\n",
      "Current Monte Carlo Sample size: 4416\n",
      "[[1.         0.08727014 0.22960587]\n",
      " [0.08727014 1.         0.33549268]\n",
      " [0.22960587 0.33549268 1.        ]]\n",
      "Step: 29: current parameter_diff: 24.144751376772238, current marginal loglikelihood: -12540.769966653768\n",
      "EM Iteration 30\n",
      "Current Monte Carlo Sample size: 4857\n",
      "[[1.         0.0830018  0.20951295]\n",
      " [0.0830018  1.         0.32728332]\n",
      " [0.20951295 0.32728332 1.        ]]\n",
      "Step: 30: current parameter_diff: 18.567347369526907, current marginal loglikelihood: -12605.802540473838\n",
      "EM Iteration 31\n",
      "Current Monte Carlo Sample size: 5342\n",
      "[[1.         0.10384263 0.19035454]\n",
      " [0.10384263 1.         0.33995062]\n",
      " [0.19035454 0.33995062 1.        ]]\n",
      "Step: 31: current parameter_diff: 18.27550659381697, current marginal loglikelihood: -12488.402669715779\n",
      "EM Iteration 32\n",
      "Current Monte Carlo Sample size: 5876\n",
      "[[1.         0.09216813 0.16231849]\n",
      " [0.09216813 1.         0.34736474]\n",
      " [0.16231849 0.34736474 1.        ]]\n",
      "Step: 32: current parameter_diff: 18.659892839891487, current marginal loglikelihood: -12963.804592738707\n",
      "EM Iteration 33\n",
      "Current Monte Carlo Sample size: 6463\n",
      "[[1.         0.08934729 0.16282502]\n",
      " [0.08934729 1.         0.3309664 ]\n",
      " [0.16282502 0.3309664  1.        ]]\n",
      "Step: 33: current parameter_diff: 23.50586764065138, current marginal loglikelihood: -13510.649271026294\n",
      "EM Iteration 34\n",
      "Current Monte Carlo Sample size: 7109\n",
      "[[1.         0.08710583 0.15552528]\n",
      " [0.08710583 1.         0.29611591]\n",
      " [0.15552528 0.29611591 1.        ]]\n",
      "Step: 34: current parameter_diff: 21.960943064628275, current marginal loglikelihood: -13944.259625971496\n",
      "EM Iteration 35\n",
      "Current Monte Carlo Sample size: 7109\n",
      "[[1.         0.07793025 0.16516396]\n",
      " [0.07793025 1.         0.36413403]\n",
      " [0.16516396 0.36413403 1.        ]]\n",
      "Step: 35: current parameter_diff: 27.121295291247954, current marginal loglikelihood: -13503.312147530629\n",
      "EM Iteration 36\n",
      "Current Monte Carlo Sample size: 7819\n",
      "[[1.         0.10383503 0.15573248]\n",
      " [0.10383503 1.         0.38227496]\n",
      " [0.15573248 0.38227496 1.        ]]\n",
      "Step: 36: current parameter_diff: 20.49072253096319, current marginal loglikelihood: -13457.903630401384\n",
      "EM Iteration 37\n",
      "Current Monte Carlo Sample size: 8600\n",
      "[[1.         0.0952063  0.1697639 ]\n",
      " [0.0952063  1.         0.46301737]\n",
      " [0.1697639  0.46301737 1.        ]]\n",
      "Step: 37: current parameter_diff: 27.90481089780214, current marginal loglikelihood: -12706.910698711592\n",
      "EM Iteration 38\n",
      "Current Monte Carlo Sample size: 9460\n",
      "[[1.         0.11529993 0.26172741]\n",
      " [0.11529993 1.         0.55011103]\n",
      " [0.26172741 0.55011103 1.        ]]\n",
      "Step: 38: current parameter_diff: 25.492536506460198, current marginal loglikelihood: -12568.140485448821\n",
      "EM Iteration 39\n",
      "Current Monte Carlo Sample size: 10406\n",
      "[[1.         0.10827926 0.31252693]\n",
      " [0.10827926 1.         0.47192521]\n",
      " [0.31252693 0.47192521 1.        ]]\n",
      "Step: 39: current parameter_diff: 23.39773718705719, current marginal loglikelihood: -12458.470015244868\n",
      "EM Iteration 40\n",
      "Current Monte Carlo Sample size: 11446\n",
      "[[1.         0.08448759 0.34971178]\n",
      " [0.08448759 1.         0.4185697 ]\n",
      " [0.34971178 0.4185697  1.        ]]\n",
      "Step: 40: current parameter_diff: 25.01324472722742, current marginal loglikelihood: -12669.061288880423\n",
      "EM Iteration 41\n",
      "Current Monte Carlo Sample size: 12590\n",
      "[[ 1.00000000e+000 -2.61463218e-102 -1.08935164e-109]\n",
      " [-2.61463218e-102  1.00000000e+000 -4.18362278e-029]\n",
      " [-1.08935164e-109 -4.18362278e-029  1.00000000e+000]]\n",
      "Step: 41: current parameter_diff: 21.568233132762924, current marginal loglikelihood: -12849.955625780705\n",
      "EM Iteration 42\n",
      "Current Monte Carlo Sample size: 13849\n"
     ]
    },
    {
     "ename": "KeyboardInterrupt",
     "evalue": "",
     "output_type": "error",
     "traceback": [
      "\u001b[1;31m---------------------------------------------------------------------------\u001b[0m",
      "\u001b[1;31mKeyboardInterrupt\u001b[0m                         Traceback (most recent call last)",
      "\u001b[1;32mc:\\Users\\Jesper\\Documents\\GitHub\\Knowledge-Growth-Prediction\\simulation_experiments.ipynb Zelle 23\u001b[0m in \u001b[0;36m<cell line: 1>\u001b[1;34m()\u001b[0m\n\u001b[1;32m----> <a href='vscode-notebook-cell:/c%3A/Users/Jesper/Documents/GitHub/Knowledge-Growth-Prediction/simulation_experiments.ipynb#X31sZmlsZQ%3D%3D?line=0'>1</a>\u001b[0m performance_dict \u001b[39m=\u001b[39m mirt_param_recovery(sample_size\u001b[39m=\u001b[39;49m\u001b[39m1000\u001b[39;49m, item_dimension\u001b[39m=\u001b[39;49m\u001b[39m30\u001b[39;49m, latent_dimension\u001b[39m=\u001b[39;49m\u001b[39m3\u001b[39;49m, q_type\u001b[39m=\u001b[39;49m\u001b[39m\"\u001b[39;49m\u001b[39mfull\u001b[39;49m\u001b[39m\"\u001b[39;49m, girth\u001b[39m=\u001b[39;49m\u001b[39mFalse\u001b[39;49;00m, stop_threshold\u001b[39m=\u001b[39;49m\u001b[39m10\u001b[39;49m, q_share\u001b[39m=\u001b[39;49m\u001b[39m0.0\u001b[39;49m)\n",
      "\u001b[1;32mc:\\Users\\Jesper\\Documents\\GitHub\\Knowledge-Growth-Prediction\\simulation_experiments.ipynb Zelle 23\u001b[0m in \u001b[0;36mmirt_param_recovery\u001b[1;34m(sample_size, item_dimension, latent_dimension, q_type, girth, stop_threshold, ensure_id, q_share)\u001b[0m\n\u001b[0;32m     <a href='vscode-notebook-cell:/c%3A/Users/Jesper/Documents/GitHub/Knowledge-Growth-Prediction/simulation_experiments.ipynb#X31sZmlsZQ%3D%3D?line=32'>33</a>\u001b[0m \u001b[39m#Fit Model\u001b[39;00m\n\u001b[0;32m     <a href='vscode-notebook-cell:/c%3A/Users/Jesper/Documents/GitHub/Knowledge-Growth-Prediction/simulation_experiments.ipynb#X31sZmlsZQ%3D%3D?line=33'>34</a>\u001b[0m start_time \u001b[39m=\u001b[39m time\u001b[39m.\u001b[39mtime()\n\u001b[1;32m---> <a href='vscode-notebook-cell:/c%3A/Users/Jesper/Documents/GitHub/Knowledge-Growth-Prediction/simulation_experiments.ipynb#X31sZmlsZQ%3D%3D?line=34'>35</a>\u001b[0m em\u001b[39m.\u001b[39;49mfit(sample[\u001b[39m\"\u001b[39;49m\u001b[39mearly_responses\u001b[39;49m\u001b[39m\"\u001b[39;49m], max_iter\u001b[39m=\u001b[39;49m\u001b[39m100\u001b[39;49m, stop_threshold\u001b[39m=\u001b[39;49mstop_threshold)\n\u001b[0;32m     <a href='vscode-notebook-cell:/c%3A/Users/Jesper/Documents/GitHub/Knowledge-Growth-Prediction/simulation_experiments.ipynb#X31sZmlsZQ%3D%3D?line=35'>36</a>\u001b[0m run_time \u001b[39m=\u001b[39m  (time\u001b[39m.\u001b[39mtime() \u001b[39m-\u001b[39m start_time)\n\u001b[0;32m     <a href='vscode-notebook-cell:/c%3A/Users/Jesper/Documents/GitHub/Knowledge-Growth-Prediction/simulation_experiments.ipynb#X31sZmlsZQ%3D%3D?line=37'>38</a>\u001b[0m \u001b[39m#Measure Performance\u001b[39;00m\n",
      "File \u001b[1;32mc:\\Users\\Jesper\\Documents\\GitHub\\Knowledge-Growth-Prediction\\em_algorithm\\em_algorithm.py:43\u001b[0m, in \u001b[0;36mem_algorithm.fit\u001b[1;34m(self, data, hyper_params, max_iter, stop_threshold)\u001b[0m\n\u001b[0;32m     41\u001b[0m last_step_marginal_loglikelihood \u001b[39m=\u001b[39m marginal_loglikelihood\u001b[39m.\u001b[39mcopy()\n\u001b[0;32m     42\u001b[0m \u001b[39m# print(\"E-step\")\u001b[39;00m\n\u001b[1;32m---> 43\u001b[0m posterior_expectation \u001b[39m=\u001b[39m \u001b[39mself\u001b[39;49m\u001b[39m.\u001b[39;49me_step\u001b[39m.\u001b[39;49mstep(\n\u001b[0;32m     44\u001b[0m     response_data\u001b[39m=\u001b[39;49mdata, \u001b[39miter\u001b[39;49m\u001b[39m=\u001b[39;49mi)\n\u001b[0;32m     45\u001b[0m \u001b[39m# print(\"M-step\")\u001b[39;00m\n\u001b[0;32m     46\u001b[0m current_parameters, log_likelihood \u001b[39m=\u001b[39m \u001b[39mself\u001b[39m\u001b[39m.\u001b[39mm_step\u001b[39m.\u001b[39mstep(\n\u001b[0;32m     47\u001b[0m     pe_functions\u001b[39m=\u001b[39mposterior_expectation)\n",
      "File \u001b[1;32mc:\\Users\\Jesper\\Documents\\GitHub\\Knowledge-Growth-Prediction\\em_algorithm\\e_step_mirt_2pl.py:97\u001b[0m, in \u001b[0;36me_step_ga_mml.step\u001b[1;34m(self, response_data, current_item_parameters, current_person_parameters, iter)\u001b[0m\n\u001b[0;32m     94\u001b[0m \u001b[39mprint\u001b[39m(\u001b[39m\"\u001b[39m\u001b[39mCurrent Monte Carlo Sample size: \u001b[39m\u001b[39m{0}\u001b[39;00m\u001b[39m\"\u001b[39m\u001b[39m.\u001b[39mformat(\u001b[39mself\u001b[39m\u001b[39m.\u001b[39mN))\n\u001b[0;32m     95\u001b[0m theta_sample \u001b[39m=\u001b[39m \u001b[39mself\u001b[39m\u001b[39m.\u001b[39mmodel\u001b[39m.\u001b[39msample_competency(\n\u001b[0;32m     96\u001b[0m     sample_size\u001b[39m=\u001b[39m\u001b[39mself\u001b[39m\u001b[39m.\u001b[39mN, qmc\u001b[39m=\u001b[39m\u001b[39mTrue\u001b[39;00m)\n\u001b[1;32m---> 97\u001b[0m \u001b[39mreturn\u001b[39;00m(\u001b[39mself\u001b[39;49m\u001b[39m.\u001b[39;49mprepare_q_functions(theta_sample, response_data, normalising_constant_array))\n",
      "File \u001b[1;32mc:\\Users\\Jesper\\Documents\\GitHub\\Knowledge-Growth-Prediction\\em_algorithm\\e_step_mirt_2pl.py:105\u001b[0m, in \u001b[0;36me_step_ga_mml.prepare_q_functions\u001b[1;34m(self, theta_sample, response_data, normalising_constant_array)\u001b[0m\n\u001b[0;32m    102\u001b[0m \u001b[39m# Calculate repeating inner functions\u001b[39;00m\n\u001b[0;32m    103\u001b[0m r_0_theta \u001b[39m=\u001b[39m \u001b[39mself\u001b[39m\u001b[39m.\u001b[39mr_0(\n\u001b[0;32m    104\u001b[0m     theta_sample, normalising_constant_array, response_data)\n\u001b[1;32m--> 105\u001b[0m r_item_theta_list \u001b[39m=\u001b[39m [\u001b[39mself\u001b[39m\u001b[39m.\u001b[39mr_item(item, theta_sample, normalising_constant_array, response_data)\n\u001b[0;32m    106\u001b[0m                      \u001b[39mfor\u001b[39;00m item \u001b[39min\u001b[39;00m \u001b[39mrange\u001b[39m(\u001b[39m0\u001b[39m, J)]\n\u001b[0;32m    107\u001b[0m \u001b[39m# Calculate final q-functions\u001b[39;00m\n\u001b[0;32m    108\u001b[0m q_0 \u001b[39m=\u001b[39m \u001b[39mself\u001b[39m\u001b[39m.\u001b[39mq_0(\n\u001b[0;32m    109\u001b[0m     theta\u001b[39m=\u001b[39mtheta_sample, normalising_constant_array\u001b[39m=\u001b[39mnormalising_constant_array, response_data\u001b[39m=\u001b[39mresponse_data)\n",
      "File \u001b[1;32mc:\\Users\\Jesper\\Documents\\GitHub\\Knowledge-Growth-Prediction\\em_algorithm\\e_step_mirt_2pl.py:105\u001b[0m, in \u001b[0;36m<listcomp>\u001b[1;34m(.0)\u001b[0m\n\u001b[0;32m    102\u001b[0m \u001b[39m# Calculate repeating inner functions\u001b[39;00m\n\u001b[0;32m    103\u001b[0m r_0_theta \u001b[39m=\u001b[39m \u001b[39mself\u001b[39m\u001b[39m.\u001b[39mr_0(\n\u001b[0;32m    104\u001b[0m     theta_sample, normalising_constant_array, response_data)\n\u001b[1;32m--> 105\u001b[0m r_item_theta_list \u001b[39m=\u001b[39m [\u001b[39mself\u001b[39;49m\u001b[39m.\u001b[39;49mr_item(item, theta_sample, normalising_constant_array, response_data)\n\u001b[0;32m    106\u001b[0m                      \u001b[39mfor\u001b[39;00m item \u001b[39min\u001b[39;00m \u001b[39mrange\u001b[39m(\u001b[39m0\u001b[39m, J)]\n\u001b[0;32m    107\u001b[0m \u001b[39m# Calculate final q-functions\u001b[39;00m\n\u001b[0;32m    108\u001b[0m q_0 \u001b[39m=\u001b[39m \u001b[39mself\u001b[39m\u001b[39m.\u001b[39mq_0(\n\u001b[0;32m    109\u001b[0m     theta\u001b[39m=\u001b[39mtheta_sample, normalising_constant_array\u001b[39m=\u001b[39mnormalising_constant_array, response_data\u001b[39m=\u001b[39mresponse_data)\n",
      "File \u001b[1;32mc:\\Users\\Jesper\\Documents\\GitHub\\Knowledge-Growth-Prediction\\em_algorithm\\e_step_mirt_2pl.py:182\u001b[0m, in \u001b[0;36me_step_ga_mml.r_item\u001b[1;34m(self, item, theta, normalising_constant_array, response_data)\u001b[0m\n\u001b[0;32m    181\u001b[0m \u001b[39mdef\u001b[39;00m \u001b[39mr_item\u001b[39m(\u001b[39mself\u001b[39m, item: \u001b[39mint\u001b[39m, theta: np\u001b[39m.\u001b[39marray, normalising_constant_array, response_data):\n\u001b[1;32m--> 182\u001b[0m     numerator \u001b[39m=\u001b[39m np\u001b[39m.\u001b[39marray(\u001b[39mself\u001b[39;49m\u001b[39m.\u001b[39;49mmodel\u001b[39m.\u001b[39;49mresponse_matrix_probability(\n\u001b[0;32m    183\u001b[0m         theta\u001b[39m=\u001b[39;49mtheta, response_matrix\u001b[39m=\u001b[39;49mresponse_data\u001b[39m.\u001b[39;49mto_numpy()))\n\u001b[0;32m    184\u001b[0m     \u001b[39m# This coefficient is different to r_0\u001b[39;00m\n\u001b[0;32m    185\u001b[0m     numerator \u001b[39m=\u001b[39m np\u001b[39m.\u001b[39mmultiply(\n\u001b[0;32m    186\u001b[0m         numerator, response_data\u001b[39m.\u001b[39miloc[:, item]\u001b[39m.\u001b[39mto_numpy()\u001b[39m.\u001b[39mtranspose())\n",
      "File \u001b[1;32mc:\\Users\\Jesper\\Documents\\GitHub\\Knowledge-Growth-Prediction\\models\\mirt_2pl.py:150\u001b[0m, in \u001b[0;36mmirt_2pl.response_matrix_probability\u001b[1;34m(self, theta, response_matrix, A, delta)\u001b[0m\n\u001b[0;32m    147\u001b[0m \u001b[39m# We want to apply each response vector to each competency-induced correct-response-probability\u001b[39;00m\n\u001b[0;32m    148\u001b[0m correct_response_probabilities \u001b[39m=\u001b[39m np\u001b[39m.\u001b[39mexpand_dims(\n\u001b[0;32m    149\u001b[0m     correct_response_probabilities, axis\u001b[39m=\u001b[39m\u001b[39m1\u001b[39m)\n\u001b[1;32m--> 150\u001b[0m probability_vector \u001b[39m=\u001b[39m np\u001b[39m.\u001b[39;49madd(np\u001b[39m.\u001b[39;49mmultiply(correct_response_probabilities, response_matrix),\n\u001b[0;32m    151\u001b[0m                             np\u001b[39m.\u001b[39;49mmultiply(np\u001b[39m.\u001b[39;49msubtract(\u001b[39m1\u001b[39;49m, correct_response_probabilities), np\u001b[39m.\u001b[39;49msubtract(\u001b[39m1\u001b[39;49m, response_matrix)))\n\u001b[0;32m    152\u001b[0m probability \u001b[39m=\u001b[39m np\u001b[39m.\u001b[39mprod(probability_vector, axis\u001b[39m=\u001b[39m\u001b[39m2\u001b[39m)\n\u001b[0;32m    153\u001b[0m \u001b[39mreturn\u001b[39;00m(probability)\n",
      "\u001b[1;31mKeyboardInterrupt\u001b[0m: "
     ]
    }
   ],
   "source": [
    "performance_dict = mirt_param_recovery(sample_size=1000, item_dimension=30, latent_dimension=3, q_type=\"full\", girth=False, stop_threshold=10, q_share=0.0)"
   ]
  },
  {
   "cell_type": "code",
   "execution_count": null,
   "metadata": {},
   "outputs": [
    {
     "name": "stdout",
     "output_type": "stream",
     "text": [
      "------------------------------------\n",
      "##### Results for With fixed Discrimination sampling and BFGS\n",
      "Latent dimension: 3,  Item dimension: 20, sample size 1000 \\\n",
      "Runtime: 63.64 seconds, 14 steps, 4.55 seconds per step \\\n",
      "Optimal marginal Likelihood: -8684.81, Estimated: -8676.2, Initial -9809.83\n",
      "|               |   rmse_A |   rmse_delta |   rmse_sigma |\n",
      "|:--------------|---------:|-------------:|-------------:|\n",
      "| estimated     | 0.933735 |     0.514423 |    0.0383988 |\n",
      "| early_initial | 2.67536  |     0.636687 |    0.231996  |\n"
     ]
    }
   ],
   "source": [
    "print_result(performance_dict, \"With fixed Discrimination sampling and BFGS\")"
   ]
  },
  {
   "cell_type": "markdown",
   "metadata": {},
   "source": [
    "------------------------------------\n",
    "##### Results for With BFGS as covariance optimization Algorithm\n",
    "Latent dimension: 3,  Item dimension: 20, sample size 1000 \\\n",
    "Runtime: 160.7 seconds, 20 steps, 8.04 seconds per step \\\n",
    "Optimal marginal Likelihood: -11451.44, Estimated: -11746.37, Initial -12757.23\n",
    "|               |   rmse_A |   rmse_delta |   rmse_sigma |\n",
    "|:--------------|---------:|-------------:|-------------:|\n",
    "| estimated     |  4.12413 |      1.19297 |     0.539132 |\n",
    "| early_initial |  4.06187 |      1.22103 |     0.159225 |\n",
    "\n",
    "------------------------------------\n",
    "##### Results for With Cholesky covariance decomposition\n",
    "Latent dimension: 3,  Item dimension: 20, sample size 1000 \\\n",
    "Runtime: 60.82 seconds, 14 steps, 4.34 seconds per step \\\n",
    "Optimal marginal Likelihood: -11369.92, Estimated: -12102.54, Initial -13629.98\n",
    "|               |   rmse_A |   rmse_delta |   rmse_sigma |\n",
    "|:--------------|---------:|-------------:|-------------:|\n",
    "| estimated     |  2.47435 |     0.400838 |     0.181127 |\n",
    "| early_initial |  2.98819 |     0.686696 |     0.142997 |\n",
    "\n",
    "------------------------------------\n",
    "##### Results for With Cholesky covariance decomposition and BFGS\n",
    "Latent dimension: 3,  Item dimension: 30, sample size 1000 \\\n",
    "Runtime: 94.77 seconds, 12 steps, 7.9 seconds per step \\\n",
    "Optimal marginal Likelihood: -15960.47, Estimated: -17344.15, Initial -19786.45\n",
    "|               |   rmse_A |   rmse_delta |   rmse_sigma |\n",
    "|:--------------|---------:|-------------:|-------------:|\n",
    "| estimated     |  48.8803 |     0.777924 |     0.149531 |\n",
    "| early_initial |  49.0831 |     1.33755  |     0.207159 |\n",
    "\n",
    "------------------------------------\n",
    "##### Results for With fixed Discrimination sampling and BFGS\n",
    "Latent dimension: 3,  Item dimension: 30, sample size 1000 \\\n",
    "Runtime: 91.68 seconds, 12 steps, 7.64 seconds per step \\\n",
    "Optimal marginal Likelihood: -12149.74, Estimated: -12157.89, Initial -14965.74\n",
    "|               |   rmse_A |   rmse_delta |   rmse_sigma |\n",
    "|:--------------|---------:|-------------:|-------------:|\n",
    "| estimated     |  0.3929  |     0.249323 |    0.0275205 |\n",
    "| early_initial |  2.20296 |     0.582838 |    0.380006  |"
   ]
  },
  {
   "cell_type": "markdown",
   "metadata": {},
   "source": [
    "## Experiment 2: Competency Gain Prediction"
   ]
  }
 ],
 "metadata": {
  "kernelspec": {
   "display_name": "Python 3.8.5 ('base')",
   "language": "python",
   "name": "python3"
  },
  "language_info": {
   "codemirror_mode": {
    "name": "ipython",
    "version": 3
   },
   "file_extension": ".py",
   "mimetype": "text/x-python",
   "name": "python",
   "nbconvert_exporter": "python",
   "pygments_lexer": "ipython3",
   "version": "3.8.5"
  },
  "orig_nbformat": 4,
  "vscode": {
   "interpreter": {
    "hash": "f96c9f0abe66cee0a81d860b29e85a2729d567fff345231565bc586735399795"
   }
  }
 },
 "nbformat": 4,
 "nbformat_minor": 2
}
