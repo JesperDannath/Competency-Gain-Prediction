{
 "cells": [
  {
   "cell_type": "code",
   "execution_count": 2,
   "metadata": {},
   "outputs": [
    {
     "name": "stdout",
     "output_type": "stream",
     "text": [
      "C:\\Users\\Jesper_dfki\\OneDrive - dfki.de\\Dokumente\\GitHub\\Knowledge-Growth-Prediction\\models\n"
     ]
    }
   ],
   "source": [
    "import numpy as np\n",
    "import em_algorithm\n",
    "from simulation_framework.simulate_competency import respondent_population\n",
    "from simulation_framework.simulate_responses import response_simulation\n",
    "from scipy.stats import multivariate_normal"
   ]
  },
  {
   "cell_type": "markdown",
   "metadata": {},
   "source": [
    "## Experiment 1: MIRT-2PL Parameter Recovery"
   ]
  },
  {
   "cell_type": "code",
   "execution_count": 8,
   "metadata": {},
   "outputs": [],
   "source": [
    "from unittest import result\n",
    "\n",
    "\n",
    "def mirt_param_recovery(sample_size) -> dict:\n",
    "    latent_dimension = 2\n",
    "    item_dimension = 6\n",
    "\n",
    "    #Define Population\n",
    "    cov = np.array([[1,0.2],\n",
    "                    [0.2,1]])\n",
    "\n",
    "    latent_distribution = multivariate_normal(mean=np.array([0,0]), cov=cov)\n",
    "    population = respondent_population(latent_dimension=latent_dimension, latent_distribution=latent_distribution)\n",
    "\n",
    "    #Define Test\n",
    "    A = np.array([[0.5,0],\n",
    "                  [2,0],\n",
    "                  [0,0.4],\n",
    "                  [0.7,0.6],\n",
    "                  [2, 0.9],\n",
    "                  [0, 1.5]])\n",
    "    Q = np.array([[1,0],\n",
    "                  [1,0],\n",
    "                  [0,1],\n",
    "                  [1,1],\n",
    "                  [1,1],\n",
    "                  [0,1]])\n",
    "    delta = np.array([0, 0.5, 1, 0, 1.5, 0.9])\n",
    "    early_item_parameters = {\"A\": A, \"delta\": delta, \"q_matrix\": Q, \"item_dimension\": item_dimension, \"latent_dimension\": latent_dimension}\n",
    "\n",
    "    #Sample responses\n",
    "    response_simulation_obj = response_simulation(population=population, early_item_params=early_item_parameters)\n",
    "    sample = response_simulation_obj.sample(100)\n",
    "\n",
    "    #Fit Parameters\n",
    "\n",
    "    result_dict = {\"sample\": sample,\n",
    "                   \"early_item_parameters\": early_item_parameters,\n",
    "                   \"latent_covariance\": cov,\n",
    "                   \"estimated_parameters\": None}\n",
    "    return(result_dict)\n"
   ]
  },
  {
   "cell_type": "code",
   "execution_count": 5,
   "metadata": {},
   "outputs": [
    {
     "name": "stdout",
     "output_type": "stream",
     "text": [
      "EM Iteration 1\n",
      "E-step\n",
      "M-step\n",
      "Maximize Q-0\n",
      "Highest Current Fitness:\n",
      "-281.1969722771756\n",
      "Length of Population = 20\n",
      "Highest Current Fitness:\n",
      "-280.7564887285824\n",
      "Length of Population = 30\n",
      "Highest Current Fitness:\n",
      "-280.7564887285824\n",
      "Length of Population = 40\n",
      "Maximize the Q_i's\n",
      "Highest Current Fitness:\n",
      "-83.77342931284132\n",
      "Length of Population = 20\n",
      "Highest Current Fitness:\n",
      "-85.16031328419157\n",
      "Length of Population = 20\n",
      "Highest Current Fitness:\n",
      "-70.8869502446766\n",
      "Length of Population = 20\n",
      "Highest Current Fitness:\n",
      "-70.8869502446766\n",
      "Length of Population = 30\n",
      "Highest Current Fitness:\n",
      "-71.92282646331968\n",
      "Length of Population = 20\n",
      "Highest Current Fitness:\n",
      "-71.92282646331968\n",
      "Length of Population = 30\n",
      "Step: 1: current parameter_diff: 4.513768598866744, current data likelihood: 0.0\n",
      "EM Iteration 2\n",
      "E-step\n",
      "M-step\n",
      "Maximize Q-0\n",
      "Highest Current Fitness:\n",
      "-271.06937946266163\n",
      "Length of Population = 20\n",
      "Maximize the Q_i's\n",
      "Highest Current Fitness:\n",
      "-75.69543636690244\n",
      "Length of Population = 20\n",
      "Highest Current Fitness:\n",
      "-73.22795258133132\n",
      "Length of Population = 20\n",
      "Highest Current Fitness:\n",
      "-73.22795258133132\n",
      "Length of Population = 30\n",
      "Highest Current Fitness:\n",
      "-71.01393978988006\n",
      "Length of Population = 20\n",
      "Highest Current Fitness:\n",
      "-76.27803793422724\n",
      "Length of Population = 20\n",
      "Step: 2: current parameter_diff: 5.538037717866341, current data likelihood: 0.0\n",
      "EM Iteration 3\n",
      "E-step\n",
      "M-step\n",
      "Maximize Q-0\n",
      "Highest Current Fitness:\n",
      "-268.56640317378395\n",
      "Length of Population = 20\n",
      "Maximize the Q_i's\n",
      "Highest Current Fitness:\n",
      "-70.82413869972203\n",
      "Length of Population = 20\n",
      "Highest Current Fitness:\n",
      "-93.81238659310641\n",
      "Length of Population = 20\n",
      "Highest Current Fitness:\n",
      "-86.56867324316518\n",
      "Length of Population = 30\n",
      "Highest Current Fitness:\n",
      "-86.56867324316518\n",
      "Length of Population = 40\n",
      "Highest Current Fitness:\n",
      "-70.16055639317614\n",
      "Length of Population = 20\n",
      "Highest Current Fitness:\n",
      "-72.60933918918535\n",
      "Length of Population = 20\n",
      "Step: 3: current parameter_diff: 5.06608868035992, current data likelihood: 0.0\n",
      "EM Iteration 4\n",
      "E-step\n",
      "M-step\n",
      "Maximize Q-0\n",
      "Highest Current Fitness:\n",
      "-261.2088070071959\n",
      "Length of Population = 20\n",
      "Highest Current Fitness:\n",
      "-261.14345313846985\n",
      "Length of Population = 30\n",
      "Highest Current Fitness:\n",
      "-261.14345313846985\n",
      "Length of Population = 40\n",
      "Maximize the Q_i's\n",
      "Highest Current Fitness:\n",
      "-72.35816513669634\n",
      "Length of Population = 20\n",
      "Highest Current Fitness:\n",
      "-79.27792233467709\n",
      "Length of Population = 20\n",
      "Highest Current Fitness:\n",
      "-68.59059301567488\n",
      "Length of Population = 20\n",
      "Highest Current Fitness:\n",
      "-68.59059301567488\n",
      "Length of Population = 30\n",
      "Highest Current Fitness:\n",
      "-73.2519234863138\n",
      "Length of Population = 20\n",
      "Step: 4: current parameter_diff: 5.257826398684159, current data likelihood: 0.0\n",
      "EM Iteration 5\n",
      "E-step\n",
      "M-step\n",
      "Maximize Q-0\n"
     ]
    },
    {
     "name": "stderr",
     "output_type": "stream",
     "text": [
      "c:\\Users\\Jesper_dfki\\OneDrive - dfki.de\\Dokumente\\GitHub\\Knowledge-Growth-Prediction\\em_algorithm\\e_step_mirt_2pl.py:65: RuntimeWarning: divide by zero encountered in log\n",
      "  factor = np.log(self.model.latent_density(theta, sigma=sigma))\n"
     ]
    },
    {
     "name": "stdout",
     "output_type": "stream",
     "text": [
      "Highest Current Fitness:\n",
      "-283.3868320657525\n",
      "Length of Population = 20\n",
      "Highest Current Fitness:\n",
      "-283.3868320657525\n",
      "Length of Population = 30\n",
      "Maximize the Q_i's\n",
      "Highest Current Fitness:\n",
      "-71.94830255981982\n",
      "Length of Population = 20\n",
      "Highest Current Fitness:\n",
      "-79.86424515933354\n",
      "Length of Population = 20\n",
      "Highest Current Fitness:\n",
      "-79.86424515933354\n",
      "Length of Population = 30\n",
      "Highest Current Fitness:\n",
      "-69.69373112538352\n",
      "Length of Population = 20\n",
      "Highest Current Fitness:\n",
      "-67.53481746015434\n",
      "Length of Population = 30\n",
      "Highest Current Fitness:\n",
      "-67.53481746015434\n",
      "Length of Population = 40\n",
      "Highest Current Fitness:\n",
      "-74.11557743206858\n",
      "Length of Population = 20\n",
      "Step: 5: current parameter_diff: 4.9922571516043535, current data likelihood: 0.0\n"
     ]
    }
   ],
   "source": [
    "import models\n",
    "import em_algorithm\n",
    "import pandas as pd\n",
    "\n",
    "#sample data\n",
    "exper_dict = mirt_param_recovery(30)\n",
    "U = exper_dict[\"sample\"][\"early_responses\"]\n",
    "Q = exper_dict[\"early_item_parameters\"][\"q_matrix\"]\n",
    "\n",
    "#Initialize model\n",
    "model = models.mirt_2pl(latent_dimension=2, item_dimension=6, A=Q, Q=Q, delta=np.ones(6), sigma=np.identity(2))\n",
    "\n",
    "e_step = em_algorithm.e_step_ga_mml(incomplete_data=U, model=model)\n",
    "m_step = em_algorithm.m_step_ga_mml(model)\n",
    "\n",
    "em = em_algorithm.em_algo(e_step=e_step, m_step=m_step, model=model)\n",
    "em.fit(U, max_iter=5)\n"
   ]
  },
  {
   "cell_type": "markdown",
   "metadata": {},
   "source": [
    "### Estimeted Parameters"
   ]
  },
  {
   "cell_type": "code",
   "execution_count": 19,
   "metadata": {},
   "outputs": [],
   "source": [
    "def rmse(y_pred: np.array, y_true: np.array) -> float:\n",
    "    MSE = np.square(np.subtract(y_pred.flatten(), y_true.flatten())).mean()\n",
    "    RMSE = np.sqrt(MSE)\n",
    "    return(float(RMSE))\n",
    "\n",
    "def experiment_performance(result_dict, em):\n",
    "    A_pred = em.model.item_parameters[\"discrimination_matrix\"]\n",
    "    delta_pred = em.model.item_parameters[\"intercept_vector\"]\n",
    "    sigma_pred = em.model.person_parameters[\"covariance\"]\n",
    "\n",
    "    A_true = result_dict[\"early_item_parameters\"][\"A\"] # TODO: change key's\n",
    "    delta_true = result_dict[\"early_item_parameters\"][\"delta\"]\n",
    "    sigma_true = result_dict[\"latent_covariance\"]\n",
    "\n",
    "    print(\"Absolute diff in A:\")\n",
    "    print(np.abs(A_true-A_pred))\n",
    "\n",
    "    print(\"Absolute diff in delta:\")\n",
    "    print(np.abs(delta_true-delta_pred))\n",
    "\n",
    "    print(\"Absolute diff in sigma:\")\n",
    "    print(np.abs(sigma_true-sigma_pred))    \n",
    "\n",
    "    rmse_A = rmse(A_pred, A_true)\n",
    "    rmse_delta = rmse(delta_true, delta_pred)\n",
    "    rmse_sigma = rmse(sigma_true, sigma_pred) \n",
    "\n",
    "    return({\"rmse_A\": rmse_A, \"rmse_delta\": rmse_delta, \"rmse_sigma\": rmse_sigma})"
   ]
  },
  {
   "cell_type": "code",
   "execution_count": 20,
   "metadata": {},
   "outputs": [
    {
     "name": "stdout",
     "output_type": "stream",
     "text": [
      "Absolute diff in A:\n",
      "[[0.08534941 0.        ]\n",
      " [0.89466606 0.        ]\n",
      " [0.         0.5462264 ]\n",
      " [0.3758118  0.11807726]\n",
      " [1.         0.1       ]\n",
      " [0.         0.5       ]]\n",
      "Absolute diff in delta:\n",
      "[1.10062348 1.98836146 1.72083674 1.56568859 0.64138087 0.32523404]\n",
      "Absolute diff in sigma:\n",
      "[[0.         0.22172733]\n",
      " [0.22172733 0.        ]]\n"
     ]
    },
    {
     "data": {
      "text/plain": [
       "{'rmse_A': 0.45837138346516654,\n",
       " 'rmse_delta': 1.3598259561775639,\n",
       " 'rmse_sigma': 0.15678489631601697}"
      ]
     },
     "execution_count": 20,
     "metadata": {},
     "output_type": "execute_result"
    }
   ],
   "source": [
    "experiment_performance(result_dict=exper_dict, em=em)"
   ]
  },
  {
   "cell_type": "code",
   "execution_count": 6,
   "metadata": {},
   "outputs": [
    {
     "data": {
      "text/plain": [
       "{'discrimination_matrix': array([[0.41465059, 0.        ],\n",
       "        [1.10533394, 0.        ],\n",
       "        [0.        , 0.9462264 ],\n",
       "        [0.3241882 , 0.71807726],\n",
       "        [1.        , 1.        ],\n",
       "        [0.        , 1.        ]]),\n",
       " 'intercept_vector': array([1.10062348, 2.48836146, 2.72083674, 1.56568859, 0.85861913,\n",
       "        0.57476596]),\n",
       " 'q_matrix': array([[1, 0],\n",
       "        [1, 0],\n",
       "        [0, 1],\n",
       "        [1, 1],\n",
       "        [1, 1],\n",
       "        [0, 1]])}"
      ]
     },
     "execution_count": 6,
     "metadata": {},
     "output_type": "execute_result"
    }
   ],
   "source": [
    "em.model.item_parameters"
   ]
  },
  {
   "cell_type": "code",
   "execution_count": 7,
   "metadata": {},
   "outputs": [
    {
     "data": {
      "text/plain": [
       "{'covariance': array([[1.        , 0.42172733],\n",
       "        [0.42172733, 1.        ]])}"
      ]
     },
     "execution_count": 7,
     "metadata": {},
     "output_type": "execute_result"
    }
   ],
   "source": [
    "em.model.person_parameters\n",
    "#Die Kovarianz ist nicht symmetrisch"
   ]
  },
  {
   "cell_type": "code",
   "execution_count": null,
   "metadata": {},
   "outputs": [],
   "source": []
  }
 ],
 "metadata": {
  "kernelspec": {
   "display_name": "Python 3.9.7 ('base')",
   "language": "python",
   "name": "python3"
  },
  "language_info": {
   "codemirror_mode": {
    "name": "ipython",
    "version": 3
   },
   "file_extension": ".py",
   "mimetype": "text/x-python",
   "name": "python",
   "nbconvert_exporter": "python",
   "pygments_lexer": "ipython3",
   "version": "3.9.7"
  },
  "orig_nbformat": 4,
  "vscode": {
   "interpreter": {
    "hash": "1ce55485f7754ac8ec130a7d7f89a5518d2bc43a21b2ea7727156a715c037977"
   }
  }
 },
 "nbformat": 4,
 "nbformat_minor": 2
}
