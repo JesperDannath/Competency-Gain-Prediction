{
 "cells": [
  {
   "cell_type": "code",
   "execution_count": 1,
   "metadata": {},
   "outputs": [
    {
     "name": "stdout",
     "output_type": "stream",
     "text": [
      "C:\\Users\\Gerha\\Documents\\GitHub\\Knowledge-Growth-Prediction\\models\n",
      "C:\\Users\\Gerha\\Documents\\GitHub\\Knowledge-Growth-Prediction\\models\n",
      "C:\\Users\\Gerha\\Documents\\GitHub\\Knowledge-Growth-Prediction\\models\n",
      "C:\\Users\\Gerha\\Documents\\GitHub\\Knowledge-Growth-Prediction\\models\n"
     ]
    }
   ],
   "source": [
    "import numpy as np\n",
    "from simulation_framework.item_response_simulation import item_response_simulation\n",
    "from simulation_framework.simulate_competency import respondent_population\n",
    "from simulation_framework.simulate_responses import response_simulation\n",
    "from scipy.stats import multivariate_normal\n",
    "import models\n",
    "import em_algorithm\n",
    "import pandas as pd\n",
    "import time\n",
    "from girth import multidimensional_twopl_mml\n",
    "from girth import twopl_mml\n",
    "import cma\n",
    "import scipy\n",
    "from simulation_experiment import mirt_simulation_experiment\n",
    "from analyse_experiment import get_result_df\n",
    "from analyse_experiment import print_result_from_df"
   ]
  },
  {
   "cell_type": "code",
   "execution_count": 2,
   "metadata": {},
   "outputs": [],
   "source": [
    "import datetime\n",
    "\n",
    "def repeat_mirt_experiment(experiment, repetitions):\n",
    "    multiple_result_dict = {}\n",
    "    for i in range(0, repetitions):\n",
    "        multiple_result_dict[datetime.datetime.now()] = experiment()\n",
    "    return(multiple_result_dict)"
   ]
  },
  {
   "cell_type": "markdown",
   "metadata": {},
   "source": [
    "## Experiment 0: MIRT-2PL-Gain Performance Benchmark"
   ]
  },
  {
   "cell_type": "code",
   "execution_count": 7,
   "metadata": {},
   "outputs": [
    {
     "name": "stdout",
     "output_type": "stream",
     "text": [
      "Real latent covariance: [[ 1.      0.6418 -0.394   0.151 ]\n",
      " [ 0.6418  1.     -0.1062 -0.171 ]\n",
      " [-0.394  -0.1062  0.5004  0.0137]\n",
      " [ 0.151  -0.171   0.0137  0.5   ]]\n",
      "Absolute diff in A:\n",
      "[[0.         1.18640791]\n",
      " [0.         0.6896771 ]\n",
      " [0.         0.79853444]\n",
      " [0.         0.06182947]\n",
      " [0.         1.91687423]\n",
      " [0.         1.84463401]\n",
      " [0.         1.86168995]\n",
      " [1.47343183 0.        ]\n",
      " [1.51830726 0.        ]\n",
      " [7.83110858 0.        ]\n",
      " [4.34583004 0.        ]\n",
      " [1.17764802 0.        ]\n",
      " [0.18474995 0.        ]\n",
      " [0.09091724 0.        ]\n",
      " [1.74247924 0.        ]\n",
      " [1.84703544 0.        ]\n",
      " [2.13384711 0.        ]\n",
      " [1.87709804 6.79278668]\n",
      " [0.71507488 1.33724179]\n",
      " [1.33813372 4.04904364]\n",
      " [0.46745124 4.61629113]\n",
      " [1.12544418 4.80425116]\n",
      " [3.62738862 5.72873199]\n",
      " [7.07896509 0.67274041]\n",
      " [0.23097905 0.79393264]\n",
      " [1.03411545 1.22065153]\n",
      " [0.06377301 0.84978704]\n",
      " [7.77995216 0.26271447]\n",
      " [0.0452139  5.38627688]\n",
      " [1.99489487 1.98060456]]\n",
      "Absolute diff in delta:\n",
      "[0.38672391 0.1771679  0.15399567 0.5283215  0.96511277 0.73646081\n",
      " 0.27737085 0.23366182 0.04332163 0.94446956 0.20929116 0.06542325\n",
      " 0.32325612 0.02770501 0.51974544 0.01801487 0.85610596 0.5403158\n",
      " 0.15897645 1.44759012 0.96034006 0.36530178 0.06203064 0.93347479\n",
      " 0.47003929 0.07102813 0.79737598 0.13823502 0.96300817 0.7688117 ]\n",
      "Absolute diff in sigma:\n",
      "[[0.     0.1418]\n",
      " [0.1418 0.    ]]\n",
      "Absolute diff in A:\n",
      "[[ 1.          0.14123708]\n",
      " [ 1.          2.65559544]\n",
      " [ 1.          0.96440166]\n",
      " [ 1.          4.16339863]\n",
      " [ 1.          0.09900756]\n",
      " [ 1.          2.31139491]\n",
      " [ 1.          0.60256427]\n",
      " [ 1.          0.27487791]\n",
      " [ 1.          0.01324175]\n",
      " [ 3.17792117  1.        ]\n",
      " [ 5.15768121  1.        ]\n",
      " [ 0.40130709  1.        ]\n",
      " [11.12037024  1.        ]\n",
      " [ 3.14248026  1.        ]\n",
      " [ 2.64978794  1.        ]\n",
      " [ 1.94549319  1.        ]\n",
      " [ 1.02965701  1.        ]\n",
      " [ 0.19323079  1.        ]\n",
      " [ 5.03201575  1.        ]\n",
      " [ 0.32819692  1.        ]\n",
      " [ 1.41352883  1.04288659]\n",
      " [ 2.3621521   0.25751818]\n",
      " [ 1.50167434  0.87828697]\n",
      " [ 2.97656508  0.1019599 ]\n",
      " [ 3.74031047  8.44458161]\n",
      " [ 0.39193005  2.58965729]\n",
      " [ 2.58021984  1.28902216]\n",
      " [ 3.9391343   0.9175142 ]\n",
      " [ 4.84910213  0.89190395]\n",
      " [ 3.96364465 10.29927466]]\n",
      "Absolute diff in delta:\n",
      "[0.50959646 1.69837671 0.70815953 1.44181315 0.75614705 0.6504347\n",
      " 0.46996568 0.84598619 0.86605858 1.47202862 2.29053339 0.67180446\n",
      " 2.23117981 1.78756604 2.2785112  1.29722197 1.15383733 0.61517085\n",
      " 0.38849836 1.16018779 1.5216502  1.06192415 0.67803934 1.80124429\n",
      " 0.50168151 0.86614357 1.62277745 2.18706073 1.96083029 0.93800848]\n",
      "Covariance matrix is good: True\n",
      "EM Iteration 2\n"
     ]
    },
    {
     "name": "stderr",
     "output_type": "stream",
     "text": [
      "c:\\Users\\Gerha\\anaconda3\\lib\\site-packages\\scipy\\stats\\_qmc.py:2039: UserWarning: The balance properties of Sobol' points require n to be a power of 2.\n",
      "  samples = self.engine.random(n)\n"
     ]
    },
    {
     "name": "stdout",
     "output_type": "stream",
     "text": [
      "Current Monte Carlo Sample size: 300\n",
      "Step: 2: current parameter_diff: 37.422206451930876, current marginal loglikelihood: -2430.47270359965\n",
      "EM Iteration 3\n",
      "Current Monte Carlo Sample size: 330\n",
      "Step: 3: current parameter_diff: 19.871298246656586, current marginal loglikelihood: -2382.219889468287\n",
      "EM Iteration 4\n",
      "Current Monte Carlo Sample size: 363\n",
      "Step: 4: current parameter_diff: 15.165878982189287, current marginal loglikelihood: -2366.2393315276718\n",
      "EM Iteration 5\n",
      "Current Monte Carlo Sample size: 399\n",
      "Step: 5: current parameter_diff: 11.760675248959338, current marginal loglikelihood: -2355.4514323962894\n",
      "EM Iteration 6\n",
      "Current Monte Carlo Sample size: 438\n",
      "Step: 6: current parameter_diff: 9.298907948002752, current marginal loglikelihood: -2350.9079834509175\n",
      "EM Iteration 7\n",
      "Current Monte Carlo Sample size: 481\n",
      "Step: 7: current parameter_diff: 8.231432734896883, current marginal loglikelihood: -2343.677919588056\n",
      "EM Iteration 8\n",
      "Current Monte Carlo Sample size: 529\n",
      "Step: 8: current parameter_diff: 6.326342915323909, current marginal loglikelihood: -2343.3322949411586\n",
      "EM Iteration 9\n",
      "Current Monte Carlo Sample size: 581\n",
      "Step: 9: current parameter_diff: 4.565504946143725, current marginal loglikelihood: -2343.905532723285\n",
      "EM Iteration 10\n",
      "Current Monte Carlo Sample size: 639\n",
      "Step: 10: current parameter_diff: 3.5227548948678598, current marginal loglikelihood: -2342.8236819892745\n",
      "Covariance matrix is good: True\n",
      "EM Iteration 2\n"
     ]
    },
    {
     "name": "stderr",
     "output_type": "stream",
     "text": [
      "c:\\Users\\Gerha\\anaconda3\\lib\\site-packages\\scipy\\stats\\_qmc.py:2039: UserWarning: The balance properties of Sobol' points require n to be a power of 2.\n",
      "  samples = self.engine.random(n)\n"
     ]
    },
    {
     "name": "stdout",
     "output_type": "stream",
     "text": [
      "Current Monte Carlo Sample size: 300\n",
      "Step: 2: current parameter_diff: 48.94293261039015, current marginal loglikelihood: -2003.0182832654868\n",
      "EM Iteration 3\n",
      "Current Monte Carlo Sample size: 330\n",
      "Step: 3: current parameter_diff: 28.989009310126555, current marginal loglikelihood: -1970.0714704307422\n",
      "EM Iteration 4\n",
      "Current Monte Carlo Sample size: 363\n",
      "Step: 4: current parameter_diff: 19.24401277378502, current marginal loglikelihood: -1954.0497126280752\n",
      "EM Iteration 5\n",
      "Current Monte Carlo Sample size: 399\n",
      "Step: 5: current parameter_diff: 17.251642601037492, current marginal loglikelihood: -1945.5720152520084\n",
      "EM Iteration 6\n",
      "Current Monte Carlo Sample size: 438\n",
      "Step: 6: current parameter_diff: 11.710815958711187, current marginal loglikelihood: -1942.5416678135175\n",
      "EM Iteration 7\n",
      "Current Monte Carlo Sample size: 438\n",
      "Step: 7: current parameter_diff: 8.630171374912535, current marginal loglikelihood: -1938.7824142196805\n",
      "EM Iteration 8\n",
      "Current Monte Carlo Sample size: 481\n",
      "Step: 8: current parameter_diff: 9.86406044457843, current marginal loglikelihood: -1935.9017905658586\n",
      "Absolute diff in A:\n",
      "[[0.         0.36304446]\n",
      " [0.         0.11641635]\n",
      " [0.         0.03349356]\n",
      " [0.         0.06075994]\n",
      " [0.         1.27762192]\n",
      " [0.         0.40834957]\n",
      " [0.         0.34621954]\n",
      " [0.91906282 0.        ]\n",
      " [0.3281773  0.        ]\n",
      " [3.40899745 0.        ]\n",
      " [0.06989761 0.        ]\n",
      " [0.4170761  0.        ]\n",
      " [0.01273207 0.        ]\n",
      " [0.00941517 0.        ]\n",
      " [0.38972992 0.        ]\n",
      " [0.97003284 0.        ]\n",
      " [0.55606525 0.        ]\n",
      " [0.640581   1.18875116]\n",
      " [0.61032256 0.80605286]\n",
      " [0.40939551 0.09752309]\n",
      " [0.28817396 2.33572315]\n",
      " [0.86523179 1.0782978 ]\n",
      " [3.49313506 3.21311274]\n",
      " [1.55065816 0.01888943]\n",
      " [0.06715395 0.97633892]\n",
      " [0.27305119 1.00122383]\n",
      " [0.07378781 0.24846527]\n",
      " [2.90256802 0.92620855]\n",
      " [1.0339535  1.02141591]\n",
      " [1.07437855 0.87334   ]]\n",
      "Absolute diff in delta:\n",
      "[0.03164509 0.0711414  0.06028293 0.41113293 0.59721518 0.20618271\n",
      " 0.09032799 0.03934148 0.11034592 0.98452479 0.66413069 0.17395628\n",
      " 0.08619782 0.07517241 0.49905247 0.07085236 0.40457567 1.63763576\n",
      " 0.30515063 0.65734902 1.024903   0.44157738 1.00186418 0.52458011\n",
      " 0.49458957 1.14526389 0.3702641  0.54194323 0.96953429 0.95883672]\n",
      "Absolute diff in sigma:\n",
      "[[0.         0.01713616]\n",
      " [0.01713616 0.        ]]\n",
      "Absolute diff in A:\n",
      "[[0.         0.22021224]\n",
      " [0.         0.30399195]\n",
      " [0.         0.20420757]\n",
      " [0.         0.55637411]\n",
      " [0.         0.16611209]\n",
      " [0.         0.08349479]\n",
      " [0.         0.04205769]\n",
      " [0.         0.08458406]\n",
      " [0.         0.09105213]\n",
      " [1.13938515 0.        ]\n",
      " [1.15975493 0.        ]\n",
      " [0.00897437 0.        ]\n",
      " [2.32743694 0.        ]\n",
      " [0.36463871 0.        ]\n",
      " [1.57423721 0.        ]\n",
      " [0.72476561 0.        ]\n",
      " [0.17795467 0.        ]\n",
      " [0.02827511 0.        ]\n",
      " [3.3910071  0.        ]\n",
      " [0.23411276 0.        ]\n",
      " [0.51530348 0.73076685]\n",
      " [0.48553375 0.51555364]\n",
      " [0.19648939 0.08111689]\n",
      " [0.31699673 0.49682125]\n",
      " [1.16740695 5.13866647]\n",
      " [0.42399075 0.5228124 ]\n",
      " [0.90881651 0.30476713]\n",
      " [3.09289085 0.94861052]\n",
      " [2.09724769 0.11986682]\n",
      " [1.44617132 2.68759453]]\n",
      "Absolute diff in delta:\n",
      "[0.08096632 1.62947844 0.65989689 1.24005652 0.29686624 1.41175665\n",
      " 0.01521491 0.01592934 0.17937027 0.46810219 0.65118254 0.72347223\n",
      " 1.51079901 0.30365104 1.85472617 0.62097936 0.4605942  0.22356332\n",
      " 1.51353384 0.04733551 2.4159914  1.23222688 0.57950308 0.92827973\n",
      " 3.63256294 1.13462924 1.9866282  2.76141854 1.24929916 3.73686097]\n",
      "Real latent covariance: [[ 1.      0.4202 -0.6332 -0.2957]\n",
      " [ 0.4202  1.     -0.3953  0.3177]\n",
      " [-0.6332 -0.3953  0.5253  0.1126]\n",
      " [-0.2957  0.3177  0.1126  0.5   ]]\n",
      "Absolute diff in A:\n",
      "[[ 0.          5.75532678]\n",
      " [ 0.          2.0317499 ]\n",
      " [ 0.          6.81793611]\n",
      " [ 0.          1.22871269]\n",
      " [ 0.          3.48254082]\n",
      " [ 0.          7.8260495 ]\n",
      " [ 0.          0.99361452]\n",
      " [ 0.          2.09476514]\n",
      " [ 0.          0.09646958]\n",
      " [12.24682458  0.        ]\n",
      " [ 0.18778735  0.        ]\n",
      " [ 2.10084089  0.        ]\n",
      " [ 2.69676022  0.        ]\n",
      " [ 1.11113394  0.        ]\n",
      " [ 5.56325184  0.        ]\n",
      " [ 0.96610936  0.        ]\n",
      " [ 2.24505072  0.        ]\n",
      " [ 1.17055411  0.        ]\n",
      " [ 5.6520411   0.        ]\n",
      " [ 0.50595184  0.        ]\n",
      " [ 1.57412553  0.        ]\n",
      " [ 1.71523299  5.81249222]\n",
      " [ 4.18481465  0.6024607 ]\n",
      " [ 6.52289288  1.36661727]\n",
      " [21.84386855  0.58165093]\n",
      " [ 1.49262058  0.35849759]\n",
      " [ 1.70687085  4.88517666]\n",
      " [ 0.05951828  4.5999439 ]\n",
      " [ 2.77471626  0.06490115]\n",
      " [ 8.5397481   5.02139259]]\n",
      "Absolute diff in delta:\n",
      "[1.59594579 0.28719295 0.01566427 0.76473693 0.70782706 1.51170351\n",
      " 0.10449626 0.27348987 0.24452962 0.33594838 0.0654366  0.29153371\n",
      " 0.71178755 0.09175775 1.09738267 0.22201535 0.40455081 0.07253989\n",
      " 0.15031885 0.0882288  0.39064948 0.05929303 1.27865089 0.84892449\n",
      " 1.1594434  0.21764536 1.78654941 1.52742158 0.15010227 0.93691893]\n",
      "Absolute diff in sigma:\n",
      "[[0.     0.0798]\n",
      " [0.0798 0.    ]]\n",
      "Absolute diff in A:\n",
      "[[ 1.          2.15113547]\n",
      " [ 1.          0.38477354]\n",
      " [ 1.          0.12954361]\n",
      " [ 1.          1.12811828]\n",
      " [ 1.          0.14795223]\n",
      " [ 1.          1.02501977]\n",
      " [ 1.          0.50761919]\n",
      " [ 1.          1.10019188]\n",
      " [10.54537668  1.        ]\n",
      " [ 6.16869649  1.        ]\n",
      " [ 6.21694584  1.        ]\n",
      " [37.95205285  1.        ]\n",
      " [ 4.22675327  1.        ]\n",
      " [11.25448798  1.        ]\n",
      " [ 2.61778891  1.        ]\n",
      " [16.1682316   1.        ]\n",
      " [16.21758922  1.26289054]\n",
      " [ 0.87626095  0.28423398]\n",
      " [14.08779827  0.30511663]\n",
      " [15.62958827  1.48592087]\n",
      " [12.54347308  0.68283932]\n",
      " [ 5.13578233  0.78111266]\n",
      " [17.41651962  0.39198824]\n",
      " [ 3.46706772  1.04493915]\n",
      " [ 5.56426486  2.09193284]\n",
      " [ 9.05398672  0.48365151]\n",
      " [11.23759538  8.22664553]\n",
      " [ 6.61182523  0.34855187]\n",
      " [ 4.77782193  3.00010702]\n",
      " [10.15918712  0.53032026]]\n",
      "Absolute diff in delta:\n",
      "[1.22094659 0.52111694 0.60737413 2.40078477 1.12239101 0.84122202\n",
      " 0.90640375 1.38322107 2.63202518 3.71867221 3.56565308 4.46188909\n",
      " 2.93723724 3.23287168 2.16352213 5.54795267 3.55429153 2.06478928\n",
      " 4.68232761 4.97522631 4.63752991 3.75920041 4.9295377  4.06424326\n",
      " 4.04391884 4.25886447 3.8067892  4.62599612 2.40813819 5.14073464]\n",
      "Covariance matrix is good: True\n",
      "EM Iteration 2\n"
     ]
    },
    {
     "name": "stderr",
     "output_type": "stream",
     "text": [
      "c:\\Users\\Gerha\\anaconda3\\lib\\site-packages\\scipy\\stats\\_qmc.py:2039: UserWarning: The balance properties of Sobol' points require n to be a power of 2.\n",
      "  samples = self.engine.random(n)\n"
     ]
    },
    {
     "name": "stdout",
     "output_type": "stream",
     "text": [
      "Current Monte Carlo Sample size: 300\n",
      "Step: 2: current parameter_diff: 45.92873706686264, current marginal loglikelihood: -2312.958675037345\n",
      "EM Iteration 3\n",
      "Current Monte Carlo Sample size: 330\n",
      "Step: 3: current parameter_diff: 27.374766536721317, current marginal loglikelihood: -2248.0682815925056\n",
      "EM Iteration 4\n",
      "Current Monte Carlo Sample size: 330\n",
      "Step: 4: current parameter_diff: 21.046641029627033, current marginal loglikelihood: -2222.2190333056565\n",
      "EM Iteration 5\n",
      "Current Monte Carlo Sample size: 363\n",
      "Step: 5: current parameter_diff: 18.2731464660876, current marginal loglikelihood: -2209.706800745493\n",
      "EM Iteration 6\n",
      "Current Monte Carlo Sample size: 399\n",
      "Step: 6: current parameter_diff: 13.24456778184468, current marginal loglikelihood: -2199.2599704614004\n",
      "EM Iteration 7\n",
      "Current Monte Carlo Sample size: 399\n",
      "Step: 7: current parameter_diff: 15.090072150111416, current marginal loglikelihood: -2191.6058766085603\n",
      "EM Iteration 8\n",
      "Current Monte Carlo Sample size: 438\n",
      "Step: 8: current parameter_diff: 10.251616845343392, current marginal loglikelihood: -2192.249059613468\n",
      "EM Iteration 9\n",
      "Current Monte Carlo Sample size: 481\n",
      "Step: 9: current parameter_diff: 7.6700082356505135, current marginal loglikelihood: -2191.2750112068943\n",
      "EM Iteration 10\n",
      "Current Monte Carlo Sample size: 529\n",
      "Step: 10: current parameter_diff: 6.508196271604137, current marginal loglikelihood: -2188.432592425669\n"
     ]
    },
    {
     "name": "stderr",
     "output_type": "stream",
     "text": [
      "c:\\Users\\Gerha\\Documents\\GitHub\\Knowledge-Growth-Prediction\\models\\mirt_2pl.py:285: RuntimeWarning: divide by zero encountered in log\n",
      "  (1-answer_vector), np.log(1-ICC_values + np.float64(1.7976931348623157e-309))) + np.log(latent_density)\n",
      "c:\\Users\\Gerha\\anaconda3\\lib\\site-packages\\scipy\\optimize\\_numdiff.py:576: RuntimeWarning: invalid value encountered in subtract\n",
      "  df = fun(x) - f0\n",
      "c:\\Users\\Gerha\\Documents\\GitHub\\Knowledge-Growth-Prediction\\models\\mirt_2pl.py:285: RuntimeWarning: divide by zero encountered in log\n",
      "  (1-answer_vector), np.log(1-ICC_values + np.float64(1.7976931348623157e-309))) + np.log(latent_density)\n",
      "c:\\Users\\Gerha\\Documents\\GitHub\\Knowledge-Growth-Prediction\\models\\mirt_2pl.py:122: RuntimeWarning: overflow encountered in exp\n",
      "  np.divide(1, np.add(1, np.exp(np.multiply(-1, linear_predictor)))))\n",
      "c:\\Users\\Gerha\\Documents\\GitHub\\Knowledge-Growth-Prediction\\models\\mirt_2pl.py:285: RuntimeWarning: divide by zero encountered in log\n",
      "  (1-answer_vector), np.log(1-ICC_values + np.float64(1.7976931348623157e-309))) + np.log(latent_density)\n",
      "c:\\Users\\Gerha\\anaconda3\\lib\\site-packages\\scipy\\optimize\\_numdiff.py:576: RuntimeWarning: invalid value encountered in subtract\n",
      "  df = fun(x) - f0\n",
      "c:\\Users\\Gerha\\Documents\\GitHub\\Knowledge-Growth-Prediction\\models\\mirt_2pl.py:285: RuntimeWarning: divide by zero encountered in log\n",
      "  (1-answer_vector), np.log(1-ICC_values + np.float64(1.7976931348623157e-309))) + np.log(latent_density)\n"
     ]
    },
    {
     "name": "stdout",
     "output_type": "stream",
     "text": [
      "Covariance matrix is good: True\n",
      "EM Iteration 2\n"
     ]
    },
    {
     "name": "stderr",
     "output_type": "stream",
     "text": [
      "c:\\Users\\Gerha\\anaconda3\\lib\\site-packages\\scipy\\stats\\_qmc.py:2039: UserWarning: The balance properties of Sobol' points require n to be a power of 2.\n",
      "  samples = self.engine.random(n)\n"
     ]
    },
    {
     "name": "stdout",
     "output_type": "stream",
     "text": [
      "Current Monte Carlo Sample size: 300\n",
      "Step: 2: current parameter_diff: 88.26251943029463, current marginal loglikelihood: -1124.918126026482\n",
      "EM Iteration 3\n",
      "Current Monte Carlo Sample size: 330\n",
      "Step: 3: current parameter_diff: 76.50978275817519, current marginal loglikelihood: -1096.7233074972135\n",
      "EM Iteration 4\n",
      "Current Monte Carlo Sample size: 363\n",
      "Step: 4: current parameter_diff: 55.8083804294676, current marginal loglikelihood: -1074.039114494257\n",
      "EM Iteration 5\n",
      "Current Monte Carlo Sample size: 399\n",
      "Step: 5: current parameter_diff: 51.3222883932691, current marginal loglikelihood: -1069.5168837073572\n",
      "EM Iteration 6\n",
      "Current Monte Carlo Sample size: 438\n",
      "Step: 6: current parameter_diff: 48.58027873333485, current marginal loglikelihood: -1066.3726076785404\n",
      "EM Iteration 7\n",
      "Current Monte Carlo Sample size: 481\n",
      "Step: 7: current parameter_diff: 35.53748919264848, current marginal loglikelihood: -1064.399498691706\n"
     ]
    },
    {
     "name": "stderr",
     "output_type": "stream",
     "text": [
      "c:\\Users\\Gerha\\Documents\\GitHub\\Knowledge-Growth-Prediction\\models\\mirt_2pl.py:285: RuntimeWarning: divide by zero encountered in log\n",
      "  (1-answer_vector), np.log(1-ICC_values + np.float64(1.7976931348623157e-309))) + np.log(latent_density)\n",
      "c:\\Users\\Gerha\\anaconda3\\lib\\site-packages\\scipy\\optimize\\_numdiff.py:576: RuntimeWarning: invalid value encountered in subtract\n",
      "  df = fun(x) - f0\n",
      "c:\\Users\\Gerha\\Documents\\GitHub\\Knowledge-Growth-Prediction\\models\\mirt_2pl.py:285: RuntimeWarning: divide by zero encountered in log\n",
      "  (1-answer_vector), np.log(1-ICC_values + np.float64(1.7976931348623157e-309))) + np.log(latent_density)\n"
     ]
    },
    {
     "name": "stdout",
     "output_type": "stream",
     "text": [
      "Absolute diff in A:\n",
      "[[0.         1.86343068]\n",
      " [0.         0.3886945 ]\n",
      " [0.         3.36469698]\n",
      " [0.         0.20371044]\n",
      " [0.         0.83763299]\n",
      " [0.         1.7231794 ]\n",
      " [0.         0.07564522]\n",
      " [0.         0.31917299]\n",
      " [0.         0.22770267]\n",
      " [4.94375559 0.        ]\n",
      " [0.45147752 0.        ]\n",
      " [0.56141571 0.        ]\n",
      " [1.02475335 0.        ]\n",
      " [0.54785959 0.        ]\n",
      " [0.35552356 0.        ]\n",
      " [0.05243312 0.        ]\n",
      " [0.69988605 0.        ]\n",
      " [0.05464272 0.        ]\n",
      " [0.9218682  0.        ]\n",
      " [0.03356132 0.        ]\n",
      " [0.62581903 0.        ]\n",
      " [1.01309289 2.66213361]\n",
      " [0.01448786 0.1787097 ]\n",
      " [1.44352887 0.42941718]\n",
      " [0.16800782 0.83200195]\n",
      " [0.11037118 0.16326938]\n",
      " [0.17189485 0.11681571]\n",
      " [0.45834538 0.20569043]\n",
      " [0.56803983 0.12469511]\n",
      " [2.95123843 2.5556564 ]]\n",
      "Absolute diff in delta:\n",
      "[0.12969169 0.06820123 0.21078711 0.21546252 0.11606833 1.82285813\n",
      " 0.43750134 0.15363695 0.31725707 1.22127639 0.20864021 0.05113885\n",
      " 0.43002237 0.02259805 0.01583819 0.23630937 0.22330225 0.33530386\n",
      " 0.21477263 0.23744333 0.1121242  0.2813276  0.26226069 0.8402467\n",
      " 1.2783535  0.28392423 0.78111337 0.31915832 0.00851724 0.4802191 ]\n",
      "Absolute diff in sigma:\n",
      "[[0.        0.0134142]\n",
      " [0.0134142 0.       ]]\n",
      "Absolute diff in A:\n",
      "[[0.00000000e+00 6.24089729e-01]\n",
      " [0.00000000e+00 3.41644787e-01]\n",
      " [0.00000000e+00 4.34975710e-02]\n",
      " [0.00000000e+00 8.59343242e-02]\n",
      " [0.00000000e+00 9.29678605e-02]\n",
      " [0.00000000e+00 5.51090737e-01]\n",
      " [0.00000000e+00 5.13776909e-02]\n",
      " [0.00000000e+00 3.36892177e-01]\n",
      " [4.08143616e+00 0.00000000e+00]\n",
      " [3.84912033e+00 0.00000000e+00]\n",
      " [6.67211523e-01 0.00000000e+00]\n",
      " [7.61546459e+00 0.00000000e+00]\n",
      " [1.93658904e+00 0.00000000e+00]\n",
      " [4.20043923e+00 0.00000000e+00]\n",
      " [1.37611445e-02 0.00000000e+00]\n",
      " [8.96734695e+00 0.00000000e+00]\n",
      " [6.32937288e+00 2.57676710e+00]\n",
      " [8.80935060e-01 2.45562979e-01]\n",
      " [7.54950413e-01 5.51064501e-01]\n",
      " [2.99239108e+00 1.92938188e+00]\n",
      " [5.31179366e+00 1.20447176e-01]\n",
      " [1.05237826e+00 2.15289930e-01]\n",
      " [1.53901561e+01 6.03210222e-01]\n",
      " [3.94912660e-01 3.02429771e-01]\n",
      " [4.66107241e+00 8.06396509e-01]\n",
      " [3.76240542e+00 3.12671523e-01]\n",
      " [9.18295554e+00 6.70129738e+00]\n",
      " [3.47747728e+00 2.81494515e-01]\n",
      " [1.19433789e+00 1.25584631e+00]\n",
      " [1.49865575e+00 4.53669668e-01]]\n",
      "Absolute diff in delta:\n",
      "[0.45968565 0.08609037 0.10764107 0.32339266 0.02917777 0.01970518\n",
      " 0.15852697 0.18684239 0.18364924 1.70838226 0.12207776 2.18629789\n",
      " 0.66340243 0.42238919 0.06730487 3.35628211 2.95952129 0.88700347\n",
      " 2.28835892 5.02837337 3.73435436 1.11133874 3.0729065  3.06686976\n",
      " 0.25739045 1.7128527  3.44234169 1.76033698 0.75540886 4.17705075]\n",
      "Real latent covariance: [[ 1.      0.1312 -0.089   0.1242]\n",
      " [ 0.1312  1.     -0.2348 -0.6046]\n",
      " [-0.089  -0.2348  0.5     0.0097]\n",
      " [ 0.1242 -0.6046  0.0097  0.5002]]\n",
      "Absolute diff in A:\n",
      "[[0.00000000e+00 2.84682715e-01]\n",
      " [0.00000000e+00 1.64080697e-01]\n",
      " [0.00000000e+00 6.50897412e-03]\n",
      " [0.00000000e+00 7.86011768e+00]\n",
      " [0.00000000e+00 1.05553691e+01]\n",
      " [0.00000000e+00 2.36362728e-01]\n",
      " [0.00000000e+00 3.55721610e+00]\n",
      " [0.00000000e+00 4.05957784e-01]\n",
      " [0.00000000e+00 5.77284540e-01]\n",
      " [0.00000000e+00 9.58106345e-01]\n",
      " [0.00000000e+00 3.09597570e+00]\n",
      " [0.00000000e+00 5.46951449e-01]\n",
      " [0.00000000e+00 4.95540335e-01]\n",
      " [0.00000000e+00 1.35229525e+00]\n",
      " [8.66383593e-01 0.00000000e+00]\n",
      " [3.72764707e+00 0.00000000e+00]\n",
      " [3.22136501e-02 0.00000000e+00]\n",
      " [2.26837463e+00 0.00000000e+00]\n",
      " [5.70359013e+00 0.00000000e+00]\n",
      " [4.12414473e+00 0.00000000e+00]\n",
      " [5.24050678e+00 0.00000000e+00]\n",
      " [1.66785130e+00 0.00000000e+00]\n",
      " [2.87469824e+00 0.00000000e+00]\n",
      " [6.24063001e-01 0.00000000e+00]\n",
      " [7.40333730e-01 2.22789788e+00]\n",
      " [8.40058577e-01 5.47482023e+00]\n",
      " [9.94987327e-04 8.67002400e-01]\n",
      " [5.24839960e+00 6.07443739e+00]\n",
      " [4.35733845e+00 2.30468962e+00]\n",
      " [3.60037152e-01 1.72939344e+00]]\n",
      "Absolute diff in delta:\n",
      "[0.30919932 0.08517326 0.03372977 0.24711703 0.42861604 0.0453699\n",
      " 0.53302276 0.32612849 0.18286884 0.12649387 0.01244723 0.60010912\n",
      " 0.22317585 0.29229178 0.73191289 0.56493019 0.03733291 0.28386609\n",
      " 1.45811756 0.20949378 0.04589556 0.29408506 0.85469918 1.06183749\n",
      " 0.66918736 1.61805592 0.4591296  0.45240458 1.04873165 0.33575691]\n",
      "Absolute diff in sigma:\n",
      "[[0.     0.3688]\n",
      " [0.3688 0.    ]]\n",
      "Absolute diff in A:\n",
      "[[ 1.          7.32770969]\n",
      " [ 1.         18.01373945]\n",
      " [ 1.          1.96344321]\n",
      " [ 1.         38.58316588]\n",
      " [ 1.          5.40994833]\n",
      " [ 1.          5.97294771]\n",
      " [ 1.          4.2547551 ]\n",
      " [ 1.         18.39976463]\n",
      " [ 1.          5.40890552]\n",
      " [ 1.         10.31588992]\n",
      " [ 0.12120995  1.        ]\n",
      " [ 1.50128705  1.        ]\n",
      " [ 1.01147426  1.        ]\n",
      " [ 1.63967499  1.        ]\n",
      " [ 5.40001319  1.        ]\n",
      " [ 0.75324765  1.        ]\n",
      " [ 0.97991341  1.        ]\n",
      " [ 0.61505259  1.        ]\n",
      " [ 2.15692647  1.        ]\n",
      " [ 1.01458919  1.        ]\n",
      " [ 0.15410938  9.51189037]\n",
      " [ 0.61032271  4.49774038]\n",
      " [ 2.181784    2.09599062]\n",
      " [ 0.33238893 15.19948818]\n",
      " [ 0.79793856  4.60861208]\n",
      " [ 0.13132401  2.8077049 ]\n",
      " [ 1.93201672  6.04748248]\n",
      " [ 0.4364906   6.41969918]\n",
      " [ 0.34552308  6.35336631]\n",
      " [ 4.02428066  9.01904233]]\n",
      "Absolute diff in delta:\n",
      "[3.74613534 3.48243046 2.36495465 2.71732364 2.88228683 3.71772597\n",
      " 2.8459821  3.87249287 3.38873165 3.13163275 0.55940211 2.08436062\n",
      " 1.321854   0.98735583 0.36263107 0.3326275  0.80448566 0.34399453\n",
      " 1.03415923 1.42268803 3.74783484 2.98661087 3.32403755 2.76831796\n",
      " 3.02950329 2.26825412 3.8493244  2.51383661 3.52987976 2.76358707]\n",
      "Covariance matrix is good: True\n",
      "EM Iteration 2\n"
     ]
    },
    {
     "name": "stderr",
     "output_type": "stream",
     "text": [
      "c:\\Users\\Gerha\\anaconda3\\lib\\site-packages\\scipy\\stats\\_qmc.py:2039: UserWarning: The balance properties of Sobol' points require n to be a power of 2.\n",
      "  samples = self.engine.random(n)\n"
     ]
    },
    {
     "name": "stdout",
     "output_type": "stream",
     "text": [
      "Current Monte Carlo Sample size: 300\n",
      "Step: 2: current parameter_diff: 33.640605331825846, current marginal loglikelihood: -2623.820881291288\n",
      "EM Iteration 3\n",
      "Current Monte Carlo Sample size: 300\n",
      "Step: 3: current parameter_diff: 20.985815092256942, current marginal loglikelihood: -2557.926053610987\n",
      "EM Iteration 4\n",
      "Current Monte Carlo Sample size: 330\n",
      "Step: 4: current parameter_diff: 16.506582548774645, current marginal loglikelihood: -2535.6216620958457\n",
      "EM Iteration 5\n",
      "Current Monte Carlo Sample size: 363\n",
      "Step: 5: current parameter_diff: 11.775662709496661, current marginal loglikelihood: -2525.5711439788915\n",
      "EM Iteration 6\n",
      "Current Monte Carlo Sample size: 399\n",
      "Step: 6: current parameter_diff: 8.904133616973542, current marginal loglikelihood: -2524.582836474603\n",
      "EM Iteration 7\n",
      "Current Monte Carlo Sample size: 438\n",
      "Step: 7: current parameter_diff: 7.7662809826475865, current marginal loglikelihood: -2521.305528131463\n",
      "EM Iteration 8\n",
      "Current Monte Carlo Sample size: 481\n",
      "Step: 8: current parameter_diff: 6.253463660266525, current marginal loglikelihood: -2518.111501473862\n",
      "Covariance matrix is good: True\n",
      "EM Iteration 2\n"
     ]
    },
    {
     "name": "stderr",
     "output_type": "stream",
     "text": [
      "c:\\Users\\Gerha\\anaconda3\\lib\\site-packages\\scipy\\stats\\_qmc.py:2039: UserWarning: The balance properties of Sobol' points require n to be a power of 2.\n",
      "  samples = self.engine.random(n)\n"
     ]
    },
    {
     "name": "stdout",
     "output_type": "stream",
     "text": [
      "Current Monte Carlo Sample size: 300\n"
     ]
    },
    {
     "name": "stderr",
     "output_type": "stream",
     "text": [
      "c:\\Users\\Gerha\\Documents\\GitHub\\Knowledge-Growth-Prediction\\em_algorithm\\m_step_mirt_2pl.py:71: RuntimeWarning: overflow encountered in exp\n",
      "  population = random.choices(population=population_base, weights=np.exp(\n"
     ]
    },
    {
     "name": "stdout",
     "output_type": "stream",
     "text": [
      "Step: 2: current parameter_diff: 85.16340639598529, current marginal loglikelihood: -1403.2300584787536\n",
      "EM Iteration 3\n",
      "Current Monte Carlo Sample size: 300\n",
      "Step: 3: current parameter_diff: 64.39910058064953, current marginal loglikelihood: -1380.655097188815\n",
      "EM Iteration 4\n",
      "Current Monte Carlo Sample size: 330\n",
      "Step: 4: current parameter_diff: 32.49692593203599, current marginal loglikelihood: -1366.861523958467\n",
      "EM Iteration 5\n",
      "Current Monte Carlo Sample size: 363\n",
      "Step: 5: current parameter_diff: 48.54091791061289, current marginal loglikelihood: -1364.9433527177862\n",
      "EM Iteration 6\n",
      "Current Monte Carlo Sample size: 363\n",
      "Step: 6: current parameter_diff: 26.831417433608028, current marginal loglikelihood: -1355.5259568878882\n",
      "EM Iteration 7\n",
      "Current Monte Carlo Sample size: 399\n",
      "Step: 7: current parameter_diff: 29.248201092944257, current marginal loglikelihood: -1357.1761117352264\n",
      "EM Iteration 8\n",
      "Current Monte Carlo Sample size: 438\n",
      "Step: 8: current parameter_diff: 25.405513671028658, current marginal loglikelihood: -1356.865996413138\n",
      "EM Iteration 9\n",
      "Current Monte Carlo Sample size: 481\n",
      "Step: 9: current parameter_diff: 15.59328821513592, current marginal loglikelihood: -1356.731193853439\n"
     ]
    },
    {
     "name": "stderr",
     "output_type": "stream",
     "text": [
      "c:\\Users\\Gerha\\Documents\\GitHub\\Knowledge-Growth-Prediction\\models\\mirt_2pl.py:285: RuntimeWarning: divide by zero encountered in log\n",
      "  (1-answer_vector), np.log(1-ICC_values + np.float64(1.7976931348623157e-309))) + np.log(latent_density)\n",
      "c:\\Users\\Gerha\\anaconda3\\lib\\site-packages\\scipy\\optimize\\_numdiff.py:576: RuntimeWarning: invalid value encountered in subtract\n",
      "  df = fun(x) - f0\n",
      "c:\\Users\\Gerha\\Documents\\GitHub\\Knowledge-Growth-Prediction\\models\\mirt_2pl.py:285: RuntimeWarning: divide by zero encountered in log\n",
      "  (1-answer_vector), np.log(1-ICC_values + np.float64(1.7976931348623157e-309))) + np.log(latent_density)\n"
     ]
    },
    {
     "name": "stdout",
     "output_type": "stream",
     "text": [
      "Absolute diff in A:\n",
      "[[0.         0.17653544]\n",
      " [0.         0.37982242]\n",
      " [0.         0.16062606]\n",
      " [0.         1.95738022]\n",
      " [0.         3.74451527]\n",
      " [0.         0.13311441]\n",
      " [0.         1.38780564]\n",
      " [0.         0.03847827]\n",
      " [0.         0.51920333]\n",
      " [0.         0.07178393]\n",
      " [0.         0.18661692]\n",
      " [0.         0.08860397]\n",
      " [0.         0.32510632]\n",
      " [0.         0.35786838]\n",
      " [0.1305773  0.        ]\n",
      " [0.90540569 0.        ]\n",
      " [0.32611575 0.        ]\n",
      " [1.05256064 0.        ]\n",
      " [0.55818861 0.        ]\n",
      " [1.32675883 0.        ]\n",
      " [1.58450942 0.        ]\n",
      " [0.40751071 0.        ]\n",
      " [0.30910822 0.        ]\n",
      " [0.14824868 0.        ]\n",
      " [0.28486848 0.56562077]\n",
      " [0.61881547 1.5113582 ]\n",
      " [0.34136399 0.09855165]\n",
      " [0.35047506 0.43538527]\n",
      " [0.50796306 0.39867281]\n",
      " [0.2541353  0.12906001]]\n",
      "Absolute diff in delta:\n",
      "[0.00716481 0.03381142 0.09006937 0.29077334 0.16032918 0.28513292\n",
      " 0.44254806 0.10555091 0.22837923 0.10915849 0.27810837 0.27389136\n",
      " 0.11071082 0.11620112 0.12579796 0.34965606 0.19580372 0.30850222\n",
      " 0.8162872  0.56277955 0.13418181 0.36975768 0.43465551 0.26529025\n",
      " 0.19151408 0.69560843 0.11579156 0.11629448 0.05495033 0.1046727 ]\n",
      "Absolute diff in sigma:\n",
      "[[0.         0.05389181]\n",
      " [0.05389181 0.        ]]\n",
      "Absolute diff in A:\n",
      "[[ 0.          2.20474091]\n",
      " [ 0.         13.80119831]\n",
      " [ 0.          0.75671188]\n",
      " [ 0.         28.98350554]\n",
      " [ 0.          1.36062789]\n",
      " [ 0.          1.95376662]\n",
      " [ 0.          1.68650994]\n",
      " [ 0.          6.17646144]\n",
      " [ 0.          1.59910731]\n",
      " [ 0.          6.43628946]\n",
      " [ 0.18479301  0.        ]\n",
      " [ 0.7528969   0.        ]\n",
      " [ 0.05721033  0.        ]\n",
      " [ 0.22653227  0.        ]\n",
      " [ 2.07406307  0.        ]\n",
      " [ 0.10696354  0.        ]\n",
      " [ 0.40848043  0.        ]\n",
      " [ 0.07065489  0.        ]\n",
      " [ 0.26692573  0.        ]\n",
      " [ 0.67085122  0.        ]\n",
      " [ 0.36251991  1.30772509]\n",
      " [ 0.92921496  3.56885364]\n",
      " [ 0.15278129  1.03051261]\n",
      " [ 2.34933013  8.68277427]\n",
      " [ 0.21220532  3.01559206]\n",
      " [ 0.9107165   2.7967699 ]\n",
      " [ 2.16459929  7.08493632]\n",
      " [ 0.67508566  7.84852003]\n",
      " [ 0.34857618  1.58511749]\n",
      " [ 0.25223245  3.22040118]]\n",
      "Absolute diff in delta:\n",
      "[0.3631706  0.41914819 1.15699809 0.8107473  0.26310354 0.34470384\n",
      " 1.00180415 0.73107574 1.89021019 0.76809783 0.05390104 0.3446906\n",
      " 0.16786043 0.37513914 0.908738   0.47258003 0.21636443 0.19449646\n",
      " 0.2252265  0.38191698 0.82468216 1.06127538 0.15937631 1.43384269\n",
      " 0.71704099 0.5538816  2.01439851 0.84766101 1.04916386 0.41229768]\n"
     ]
    }
   ],
   "source": [
    "experiment_0 = lambda: mirt_simulation_experiment(sample_size=200, item_dimension=30, latent_dimension=2, \n",
    "                                             q_type=\"full\", stop_threshold=5, person_method=\"ga\",\n",
    "                                            sigma_constraint=\"early_constraint\",\n",
    "                                            methods=[\"initial\", \"difference\"])\n",
    "performance_dict= repeat_mirt_experiment(experiment_0, 3)"
   ]
  },
  {
   "cell_type": "code",
   "execution_count": 9,
   "metadata": {},
   "outputs": [
    {
     "name": "stdout",
     "output_type": "stream",
     "text": [
      "------------------------------------\n",
      "##### Results for With unconstrained BFGS and real theta\n",
      "Latent dimension: 2.0,  Item dimension: 30.0, sample size 200.0 \\\n",
      "Early runtime: 25.83 seconds, 10.333333333333334 steps, 2.5 seconds per step \\\n",
      "Late runtime: 24.85 seconds, 9.0 steps, 2.76 seconds per step \\\n",
      "Early Marginal Likelihood, Optimal: -2390.06, Estimated: -2349.94, Initial -2790.94 \\\n",
      "Late Marginal Likelihood, Optimal: -1964.54, Estimated: -1933.17, Initial -2569.09\n",
      "| method     |   early_A |   early_delta |   early_sigma |   late_A |   late_delta |   late_sigma |      psi |\n",
      "|:-----------|----------:|--------------:|--------------:|---------:|-------------:|-------------:|---------:|\n",
      "| difference |  0.964052 |      0.500445 |     0.0199032 |  3.11995 |      1.46756 |    0.0897812 | 0.113477 |\n",
      "| initial    |  3.23358  |      0.665701 |     0.139159  |  6.0366  |      2.50137 |    0.476177  | 0.746161 |\n",
      "####\n",
      "Performance on Individual Level \\\n",
      "rmse theta: 0.3677638877527493 \\\n",
      "rmse gain: 0.5347737141463514\n"
     ]
    }
   ],
   "source": [
    "performance_df = get_result_df(performance_dict)\n",
    "print_result_from_df(performance_df, description=\"With unconstrained BFGS and real theta\", reference_method=\"difference\")"
   ]
  },
  {
   "cell_type": "markdown",
   "metadata": {},
   "source": [
    "\n",
    "------------------------------------\n",
    "##### Results for Increasing Monte Carlo sample-size based on ttest with normal MC\n",
    "Latent dimension: 2,  Item dimension: 6, sample size 100 \\\n",
    "Runtime: 3.3 seconds, 15 steps, 0.22 seconds per step \\\n",
    "Optimal marginal Likelihood: -371.46, Estimated: -365.03, Initial -374.57\n",
    "|               |   rmse_A |   rmse_delta |   rmse_sigma |\n",
    "|:--------------|---------:|-------------:|-------------:|\n",
    "| estimated     | 0.660667 |     0.316008 |    0.0573464 |\n",
    "| early_initial | 0.509902 |     0.28936  |    0.212132  |\n",
    "| girth         | 1.0658   |     0.31617  |    0.12943   |\n",
    "| early_direct  | 0.848957 |     0.59659  |    0.116858  |\n",
    "\n",
    "------------------------------------\n",
    "##### Results for Untested full Model\n",
    "Latent dimension: 2,  Item dimension: 10, sample size 100 \\\n",
    "Early runtime: 2.56 seconds, 8 steps, 0.32 seconds per step \\\n",
    "Late runtime: 107.71 seconds, 5 steps, 21.54 seconds per step \\\n",
    "Early Marginal Likelihood, Optimal: -470.21, Estimated: -463.83, Initial -527.4 \\\n",
    "Late Marginal Likelihood, Optimal: 3.89, Estimated: 3.92, Initial 3.81\n",
    "|           |   early_A |   early_delta |   early_sigma |   late_A |   late_delta |   late_sigma |      psi |\n",
    "|:----------|----------:|--------------:|--------------:|---------:|-------------:|-------------:|---------:|\n",
    "| estimated |   1.08941 |      0.391419 |     0.0115966 |  1.83043 |      1.33621 |     0.674368 | 0.395368 |\n",
    "| initial   |   3.07758 |      0.621379 |     0.329017  |  2.74743 |      1.52522 |     0.320885 | 0.210157 |\n",
    "####\n",
    "Performance on Individual Level \\\n",
    "rmse theta: 0.864016477222037 \\\n",
    "rmse gain: 0.8736126145557623\n",
    "\n",
    "------------------------------------\n",
    "##### Results for Fixed marginal Loglikelihood\n",
    "Latent dimension: 2,  Item dimension: 10, sample size 100 \\\n",
    "Early runtime: 2.5 seconds, 7 steps, 0.36 seconds per step \\\n",
    "Late runtime: 322.67 seconds, 9 steps, 35.85 seconds per step \\\n",
    "Early Marginal Likelihood, Optimal: -494.37, Estimated: -479.73, Initial -540.27 \\\n",
    "Late Marginal Likelihood, Optimal: -359.97, Estimated: -381.08, Initial -431.02\n",
    "|           |   early_A |   early_delta |   early_sigma |   late_A |   late_delta |   late_sigma |      psi |\n",
    "|:----------|----------:|--------------:|--------------:|---------:|-------------:|-------------:|---------:|\n",
    "| estimated |   1.42983 |      0.837686 |     0.139583  |  4.08714 |      2.46488 |    0.243386  | 0.343469 |\n",
    "| initial   |   2.6978  |      0.668599 |     0.0490025 |  5.45633 |      1.95892 |    0.0963787 | 0.22315  |\n",
    "####\n",
    "Performance on Individual Level \\\n",
    "rmse theta: 0.6755600631466341 \\\n",
    "rmse gain: 780.9161055994681\n",
    "\n",
    "------------------------------------\n",
    "##### Results for Genetic Algorithm\n",
    "Latent dimension: 2,  Item dimension: 10, sample size 100 \\\n",
    "Early runtime: 3.42 seconds, 7 steps, 0.49 seconds per step \\\n",
    "Late runtime: 166.44 seconds, 10 steps, 16.64 seconds per step \\\n",
    "Early Marginal Likelihood, Optimal: -445.8, Estimated: -440.04, Initial -525.38 \\\n",
    "Late Marginal Likelihood, Optimal: -452.07, Estimated: -436.89, Initial -535.83\n",
    "|           |   early_A |   early_delta |   early_sigma |   late_A |   late_delta |   late_sigma |      psi |\n",
    "|:----------|----------:|--------------:|--------------:|---------:|-------------:|-------------:|---------:|\n",
    "| estimated |   3.52076 |      0.390601 |     0.0378639 |  5.26244 |     0.403017 |    0.134472  | 0.317107 |\n",
    "| initial   |   5.04367 |      0.567904 |     0.0948937 |  4.62289 |     1.22823  |    0.0472347 | 0.344357 |\n",
    "####\n",
    "Performance on Individual Level \\\n",
    "rmse theta: 0.8067692103719907 \\\n",
    "rmse gain: 560.8514011989563\n",
    "\n",
    "------------------------------------\n",
    "##### Results for With constrained BFGS\n",
    "Latent dimension: 2,  Item dimension: 10, sample size 100 \\\n",
    "Early runtime: 3.39 seconds, 8 steps, 0.42 seconds per step \\\n",
    "Late runtime: 222.08 seconds, 11 steps, 20.19 seconds per step \\\n",
    "Early Marginal Likelihood, Optimal: -450.38, Estimated: -444.2, Initial -522.62 \\\n",
    "Late Marginal Likelihood, Optimal: -469.55, Estimated: -464.8, Initial -539.91\n",
    "|           |   early_A |   early_delta |   early_sigma |   late_A |   late_delta |   late_sigma |      psi |\n",
    "|:----------|----------:|--------------:|--------------:|---------:|-------------:|-------------:|---------:|\n",
    "| estimated |  0.683488 |      0.604727 |     0.0795495 |  1.19288 |     0.397077 |    0.163978  | 0.367325 |\n",
    "| initial   |  2.31601  |      0.712129 |     0.0905097 |  2.83422 |     1.04892  |    0.0775696 | 0.226698 |\n",
    "####\n",
    "Performance on Individual Level \\\n",
    "rmse theta: 0.7139781405467193 \\\n",
    "rmse gain: 0.8053860461431572\n",
    "\n",
    "------------------------------------\n",
    "##### Results for With unconstrained BFGS and save ICC\n",
    "Latent dimension: 2,  Item dimension: 10, sample size 200 \\\n",
    "Early runtime: 4.94 seconds, 10 steps, 0.49 seconds per step \\\n",
    "Late runtime: 217.77 seconds, 14 steps, 15.56 seconds per step \\\n",
    "Early Marginal Likelihood, Optimal: -1025.93, Estimated: -1014.24, Initial -1143.43 \\\n",
    "Late Marginal Likelihood, Optimal: -1019.85, Estimated: -942.56, Initial -1165.24\n",
    "|           |   early_A |   early_delta |   early_sigma |   late_A |   late_delta |   late_sigma |     psi |\n",
    "|:----------|----------:|--------------:|--------------:|---------:|-------------:|-------------:|--------:|\n",
    "| estimated |   1.28713 |      0.405811 |      0.022486 |  2.34827 |      3.08274 |    0.0799031 | 0.25137 |\n",
    "| initial   |   2.81054 |      0.442962 |      0.257387 |  4.62677 |      1.05851 |    0.0787717 | 0.33902 |\n",
    "####\n",
    "Performance on Individual Level \\\n",
    "rmse theta: 0.8966706033114552 \\\n",
    "rmse gain: 0.8351295524334317\n",
    "\n",
    "------------------------------------\n",
    "##### Results for With unconstrained BFGS and save ICC and density\n",
    "Latent dimension: 2,  Item dimension: 10, sample size 100 \\\n",
    "Early runtime: 3.18 seconds, 7 steps, 0.45 seconds per step \\\n",
    "Late runtime: 138.53 seconds, 15 steps, 9.24 seconds per step \\\n",
    "Early Marginal Likelihood, Optimal: -520.2, Estimated: -510.43, Initial -543.26 \\\n",
    "Late Marginal Likelihood, Optimal: -423.14, Estimated: -395.86, Initial -478.51\n",
    "|           |   early_A |   early_delta |   early_sigma |   late_A |   late_delta |   late_sigma |       psi |\n",
    "|:----------|----------:|--------------:|--------------:|---------:|-------------:|-------------:|----------:|\n",
    "| estimated |   1.46673 |      0.222442 |      0.180454 |  8.89911 |      3.884   |    0.0590434 | 0.0987126 |\n",
    "| initial   |   1.98992 |      0.373841 |      0.138664 |  3.10531 |      1.01749 |    0.0374059 | 0.279826  |\n",
    "####\n",
    "Performance on Individual Level \\\n",
    "rmse theta: 0.823547261347214 \\\n",
    "rmse gain: 1.1151668629591303\n",
    "\n",
    "------------------------------------\n",
    "##### Results for With unconstrained BFGS and unsave ICC and save density\n",
    "Latent dimension: 2,  Item dimension: 12, sample size 100 \\\n",
    "Early runtime: 3.87 seconds, 8 steps, 0.48 seconds per step \\\n",
    "Late runtime: 134.42 seconds, 9 steps, 14.94 seconds per step \\\n",
    "Early Marginal Likelihood, Optimal: -602.6, Estimated: -592.22, Initial -670.75 \\\n",
    "Late Marginal Likelihood, Optimal: -456.88, Estimated: -452.65, Initial -554.35\n",
    "|           |   early_A |   early_delta |   early_sigma |   late_A |   late_delta |   late_sigma |       psi |\n",
    "|:----------|----------:|--------------:|--------------:|---------:|-------------:|-------------:|----------:|\n",
    "| estimated |  0.690325 |      0.546951 |     0.0650538 |  1.27364 |     0.938354 |    0.0915703 | 0.0813927 |\n",
    "| initial   |  2.45374  |      0.70644  |     0.213122  |  2.99672 |     1.01538  |    0.137037  | 0.289388  |\n",
    "####\n",
    "Performance on Individual Level \\\n",
    "rmse theta: 0.9424593402985434 \\\n",
    "rmse gain: 0.9094035651380942"
   ]
  },
  {
   "cell_type": "markdown",
   "metadata": {},
   "source": [
    "## Experiment 1: MIRT-2PL Parameter Recovery"
   ]
  },
  {
   "cell_type": "code",
   "execution_count": 5,
   "metadata": {},
   "outputs": [
    {
     "name": "stdout",
     "output_type": "stream",
     "text": [
      "Real latent covariance: [[ 1.      0.5     0.      0.5024]\n",
      " [ 0.5     1.      0.0471 -0.    ]\n",
      " [ 0.      0.0471  1.     -0.2805]\n",
      " [ 0.5024 -0.     -0.2805  1.    ]]\n",
      "Covariance matrix is good: True\n",
      "EM Iteration 2\n",
      "Current Monte Carlo Sample size: 300\n",
      "[[1.         0.55427344]\n",
      " [0.55427344 1.        ]]\n"
     ]
    },
    {
     "name": "stderr",
     "output_type": "stream",
     "text": [
      "c:\\Users\\Jesper\\Anaconda3\\lib\\site-packages\\scipy\\stats\\_qmc.py:2039: UserWarning: The balance properties of Sobol' points require n to be a power of 2.\n",
      "  samples = self.engine.random(n)\n"
     ]
    },
    {
     "name": "stdout",
     "output_type": "stream",
     "text": [
      "Step: 2: current parameter_diff: 10.799234152092195, current marginal loglikelihood: -634.7981219723597\n",
      "EM Iteration 3\n",
      "Current Monte Carlo Sample size: 330\n",
      "[[1.         0.56174714]\n",
      " [0.56174714 1.        ]]\n"
     ]
    },
    {
     "name": "stderr",
     "output_type": "stream",
     "text": [
      "c:\\Users\\Jesper\\Anaconda3\\lib\\site-packages\\scipy\\stats\\_qmc.py:2039: UserWarning: The balance properties of Sobol' points require n to be a power of 2.\n",
      "  samples = self.engine.random(n)\n"
     ]
    },
    {
     "name": "stdout",
     "output_type": "stream",
     "text": [
      "Step: 3: current parameter_diff: 7.440211677754005, current marginal loglikelihood: -621.1324972016201\n",
      "EM Iteration 4\n",
      "Current Monte Carlo Sample size: 363\n",
      "[[1.         0.51752491]\n",
      " [0.51752491 1.        ]]\n"
     ]
    },
    {
     "name": "stderr",
     "output_type": "stream",
     "text": [
      "c:\\Users\\Jesper\\Anaconda3\\lib\\site-packages\\scipy\\stats\\_qmc.py:2039: UserWarning: The balance properties of Sobol' points require n to be a power of 2.\n",
      "  samples = self.engine.random(n)\n"
     ]
    },
    {
     "name": "stdout",
     "output_type": "stream",
     "text": [
      "Step: 4: current parameter_diff: 6.455452794178579, current marginal loglikelihood: -617.3940461380391\n",
      "EM Iteration 5\n",
      "Current Monte Carlo Sample size: 399\n",
      "[[1.         0.47926356]\n",
      " [0.47926356 1.        ]]\n"
     ]
    },
    {
     "name": "stderr",
     "output_type": "stream",
     "text": [
      "c:\\Users\\Jesper\\Anaconda3\\lib\\site-packages\\scipy\\stats\\_qmc.py:2039: UserWarning: The balance properties of Sobol' points require n to be a power of 2.\n",
      "  samples = self.engine.random(n)\n"
     ]
    },
    {
     "name": "stdout",
     "output_type": "stream",
     "text": [
      "Step: 5: current parameter_diff: 4.438081820179139, current marginal loglikelihood: -614.1800651925248\n",
      "EM Iteration 6\n",
      "Current Monte Carlo Sample size: 438\n",
      "[[1.         0.44517577]\n",
      " [0.44517577 1.        ]]\n"
     ]
    },
    {
     "name": "stderr",
     "output_type": "stream",
     "text": [
      "c:\\Users\\Jesper\\Anaconda3\\lib\\site-packages\\scipy\\stats\\_qmc.py:2039: UserWarning: The balance properties of Sobol' points require n to be a power of 2.\n",
      "  samples = self.engine.random(n)\n"
     ]
    },
    {
     "name": "stdout",
     "output_type": "stream",
     "text": [
      "Step: 6: current parameter_diff: 3.8829629495742264, current marginal loglikelihood: -612.1737387075864\n",
      "EM Iteration 2\n"
     ]
    },
    {
     "name": "stderr",
     "output_type": "stream",
     "text": [
      "c:\\Users\\Jesper\\Anaconda3\\lib\\site-packages\\scipy\\stats\\_qmc.py:2039: UserWarning: The balance properties of Sobol' points require n to be a power of 2.\n",
      "  samples = self.engine.random(n)\n"
     ]
    },
    {
     "name": "stdout",
     "output_type": "stream",
     "text": [
      "Current Monte Carlo Sample size: 300\n",
      "[[ 1.00000018e+00  6.05193122e-01 -8.46857068e-07 -1.49243837e-02]\n",
      " [ 6.05193122e-01  9.99998780e-01  4.76629813e-02  1.43317691e-06]\n",
      " [-8.46857068e-07  4.76629813e-02  1.00000111e+00  6.22830265e-01]\n",
      " [-1.49243837e-02  1.43317691e-06  6.22830265e-01  9.99998404e-01]]\n",
      "Step: 2: current parameter_diff: 17.017781198906146, current marginal loglikelihood: -681.7692261577073\n",
      "EM Iteration 3\n"
     ]
    },
    {
     "name": "stderr",
     "output_type": "stream",
     "text": [
      "c:\\Users\\Jesper\\Anaconda3\\lib\\site-packages\\scipy\\stats\\_qmc.py:2039: UserWarning: The balance properties of Sobol' points require n to be a power of 2.\n",
      "  samples = self.engine.random(n)\n"
     ]
    },
    {
     "name": "stdout",
     "output_type": "stream",
     "text": [
      "Current Monte Carlo Sample size: 300\n",
      "[[ 1.00000191e+00  5.99466290e-01  1.23180247e-06 -4.79240543e-03]\n",
      " [ 5.99466290e-01  1.00000518e+00  4.89648035e-02 -4.51636349e-06]\n",
      " [ 1.23180247e-06  4.89648035e-02  9.99997389e-01  6.29184740e-01]\n",
      " [-4.79240543e-03 -4.51636349e-06  6.29184740e-01  1.00000159e+00]]\n",
      "Step: 3: current parameter_diff: 7.046864390048517, current marginal loglikelihood: -662.8247712086342\n",
      "EM Iteration 4\n"
     ]
    },
    {
     "name": "stderr",
     "output_type": "stream",
     "text": [
      "c:\\Users\\Jesper\\Anaconda3\\lib\\site-packages\\scipy\\stats\\_qmc.py:2039: UserWarning: The balance properties of Sobol' points require n to be a power of 2.\n",
      "  samples = self.engine.random(n)\n"
     ]
    },
    {
     "name": "stdout",
     "output_type": "stream",
     "text": [
      "Current Monte Carlo Sample size: 330\n",
      "[[ 1.00000512e+00  5.94428940e-01 -3.40455699e-06 -1.22856572e-03]\n",
      " [ 5.94428940e-01  1.00000073e+00  4.99529667e-02  5.59296781e-07]\n",
      " [-3.40455699e-06  4.99529667e-02  1.00000010e+00  6.36641365e-01]\n",
      " [-1.22856572e-03  5.59296781e-07  6.36641365e-01  9.99999064e-01]]\n",
      "Step: 4: current parameter_diff: 5.889385957328029, current marginal loglikelihood: -660.6508248446625\n",
      "EM Iteration 5\n"
     ]
    },
    {
     "name": "stderr",
     "output_type": "stream",
     "text": [
      "c:\\Users\\Jesper\\Anaconda3\\lib\\site-packages\\scipy\\stats\\_qmc.py:2039: UserWarning: The balance properties of Sobol' points require n to be a power of 2.\n",
      "  samples = self.engine.random(n)\n"
     ]
    },
    {
     "name": "stdout",
     "output_type": "stream",
     "text": [
      "Current Monte Carlo Sample size: 363\n",
      "[[ 9.99999855e-01  6.60790431e-01 -1.04192620e-07 -5.21496938e-03]\n",
      " [ 6.60790431e-01  9.99999963e-01  7.30355213e-02 -3.32008045e-08]\n",
      " [-1.04192620e-07  7.30355213e-02  1.00000001e+00  6.35876789e-01]\n",
      " [-5.21496938e-03 -3.32008045e-08  6.35876789e-01  9.99999767e-01]]\n",
      "Step: 5: current parameter_diff: 4.3015971524001895, current marginal loglikelihood: -657.2758224810759\n",
      "EM Iteration 6\n"
     ]
    },
    {
     "name": "stderr",
     "output_type": "stream",
     "text": [
      "c:\\Users\\Jesper\\Anaconda3\\lib\\site-packages\\scipy\\stats\\_qmc.py:2039: UserWarning: The balance properties of Sobol' points require n to be a power of 2.\n",
      "  samples = self.engine.random(n)\n"
     ]
    },
    {
     "name": "stdout",
     "output_type": "stream",
     "text": [
      "Current Monte Carlo Sample size: 399\n",
      "[[ 9.99999980e-01  6.50384041e-01  1.00021895e-08 -6.39385673e-03]\n",
      " [ 6.50384041e-01  9.99999980e-01  8.10121196e-02  1.05265492e-08]\n",
      " [ 1.00021895e-08  8.10121196e-02  9.99999987e-01  6.39683885e-01]\n",
      " [-6.39385673e-03  1.05265492e-08  6.39683885e-01  9.99999986e-01]]\n",
      "Step: 6: current parameter_diff: 3.74592227754265, current marginal loglikelihood: -653.6109347392965\n",
      "Absolute diff in A:\n",
      "[[0.         0.04067577]\n",
      " [0.         0.46936515]\n",
      " [0.         0.66162591]\n",
      " [0.         0.38894546]\n",
      " [0.69602814 0.        ]\n",
      " [1.15162416 0.        ]\n",
      " [0.51887346 0.        ]\n",
      " [0.90312203 0.        ]\n",
      " [0.73952384 1.46062265]\n",
      " [0.06548373 0.1796593 ]\n",
      " [1.25470127 1.83738858]\n",
      " [0.18109662 0.79995365]]\n",
      "Absolute diff in delta:\n",
      "[0.03019949 0.06793934 0.3949062  0.24441111 1.65289359 1.00240596\n",
      " 0.06337543 0.21963738 0.38302074 0.27593271 0.53236872 0.41170538]\n",
      "Absolute diff in sigma:\n",
      "[[0.     0.0549]\n",
      " [0.0549 0.    ]]\n",
      "Absolute diff in A:\n",
      "[[0.         0.19513753]\n",
      " [0.         4.22016473]\n",
      " [0.         0.28612171]\n",
      " [0.         0.38485646]\n",
      " [0.10492664 0.        ]\n",
      " [0.0541951  0.        ]\n",
      " [6.29182111 0.        ]\n",
      " [0.09056279 0.75542271]\n",
      " [0.25045529 0.59305636]\n",
      " [0.14285824 1.65493509]\n",
      " [1.10100514 1.26081189]\n",
      " [3.4075021  1.31175731]]\n",
      "Absolute diff in delta:\n",
      "[0.71949847 1.02003122 0.36834847 0.10406962 0.03903326 0.5144323\n",
      " 0.60161849 0.37973771 0.52869648 0.81414421 0.974293   2.82621053]\n",
      "Absolute diff in A:\n",
      "[[0.         0.30550991]\n",
      " [0.         0.58914352]\n",
      " [0.         1.38670345]\n",
      " [0.         0.51264273]\n",
      " [6.47478815 0.        ]\n",
      " [4.38022569 0.        ]\n",
      " [0.24566044 0.        ]\n",
      " [0.19063127 0.        ]\n",
      " [2.21215263 2.68868332]\n",
      " [1.34184902 2.46213836]\n",
      " [4.17600661 2.7671209 ]\n",
      " [0.48616186 1.25714726]]\n",
      "Absolute diff in delta:\n",
      "[0.06810893 0.24119443 0.59951582 0.00538309 0.34109623 0.0121897\n",
      " 0.07760194 0.1918989  0.17521854 0.48153584 0.70260307 0.08997388]\n",
      "Absolute diff in sigma:\n",
      "[[0. 0.]\n",
      " [0. 0.]]\n",
      "Absolute diff in A:\n",
      "[[1.         0.08763577]\n",
      " [1.         6.9774861 ]\n",
      " [1.         0.04864493]\n",
      " [1.         0.40201592]\n",
      " [1.30994928 1.        ]\n",
      " [0.99913917 1.        ]\n",
      " [9.36478703 1.        ]\n",
      " [0.1040247  0.200619  ]\n",
      " [0.29987254 1.78643704]\n",
      " [0.35096738 3.1920213 ]\n",
      " [3.58237118 0.3114829 ]\n",
      " [3.36133552 1.43126899]]\n",
      "Absolute diff in delta:\n",
      "[1.07824545 1.50593823 0.80035201 0.64241132 0.32488733 1.17162691\n",
      " 0.58939748 0.9946946  1.02428221 1.82988936 1.4039295  1.5550962 ]\n",
      "Covariance matrix is good: True\n",
      "EM Iteration 2\n",
      "Current Monte Carlo Sample size: 300\n",
      "[[1.        0.5550608]\n",
      " [0.5550608 1.       ]]\n"
     ]
    },
    {
     "name": "stderr",
     "output_type": "stream",
     "text": [
      "c:\\Users\\Jesper\\Anaconda3\\lib\\site-packages\\scipy\\stats\\_qmc.py:2039: UserWarning: The balance properties of Sobol' points require n to be a power of 2.\n",
      "  samples = self.engine.random(n)\n"
     ]
    },
    {
     "name": "stdout",
     "output_type": "stream",
     "text": [
      "Step: 2: current parameter_diff: 10.75858125046322, current marginal loglikelihood: -633.61689659563\n",
      "EM Iteration 3\n",
      "Current Monte Carlo Sample size: 330\n",
      "[[1.         0.54378279]\n",
      " [0.54378279 1.        ]]\n"
     ]
    },
    {
     "name": "stderr",
     "output_type": "stream",
     "text": [
      "c:\\Users\\Jesper\\Anaconda3\\lib\\site-packages\\scipy\\stats\\_qmc.py:2039: UserWarning: The balance properties of Sobol' points require n to be a power of 2.\n",
      "  samples = self.engine.random(n)\n"
     ]
    },
    {
     "name": "stdout",
     "output_type": "stream",
     "text": [
      "Step: 3: current parameter_diff: 8.143194734907679, current marginal loglikelihood: -620.9444550371902\n",
      "EM Iteration 4\n",
      "Current Monte Carlo Sample size: 363\n",
      "[[1.         0.51745738]\n",
      " [0.51745738 1.        ]]\n"
     ]
    },
    {
     "name": "stderr",
     "output_type": "stream",
     "text": [
      "c:\\Users\\Jesper\\Anaconda3\\lib\\site-packages\\scipy\\stats\\_qmc.py:2039: UserWarning: The balance properties of Sobol' points require n to be a power of 2.\n",
      "  samples = self.engine.random(n)\n"
     ]
    },
    {
     "name": "stdout",
     "output_type": "stream",
     "text": [
      "Step: 4: current parameter_diff: 5.607908402080436, current marginal loglikelihood: -615.3928837887978\n",
      "EM Iteration 5\n",
      "Current Monte Carlo Sample size: 363\n",
      "[[1.         0.47947594]\n",
      " [0.47947594 1.        ]]\n"
     ]
    },
    {
     "name": "stderr",
     "output_type": "stream",
     "text": [
      "c:\\Users\\Jesper\\Anaconda3\\lib\\site-packages\\scipy\\stats\\_qmc.py:2039: UserWarning: The balance properties of Sobol' points require n to be a power of 2.\n",
      "  samples = self.engine.random(n)\n"
     ]
    },
    {
     "name": "stdout",
     "output_type": "stream",
     "text": [
      "Step: 5: current parameter_diff: 5.145622354379423, current marginal loglikelihood: -613.9797928432334\n",
      "EM Iteration 6\n",
      "Current Monte Carlo Sample size: 399\n",
      "[[1.         0.45479261]\n",
      " [0.45479261 1.        ]]\n"
     ]
    },
    {
     "name": "stderr",
     "output_type": "stream",
     "text": [
      "c:\\Users\\Jesper\\Anaconda3\\lib\\site-packages\\scipy\\stats\\_qmc.py:2039: UserWarning: The balance properties of Sobol' points require n to be a power of 2.\n",
      "  samples = self.engine.random(n)\n"
     ]
    },
    {
     "name": "stdout",
     "output_type": "stream",
     "text": [
      "Step: 6: current parameter_diff: 4.098720351436938, current marginal loglikelihood: -613.1587354689632\n",
      "EM Iteration 7\n",
      "Current Monte Carlo Sample size: 399\n",
      "[[1.         0.43036547]\n",
      " [0.43036547 1.        ]]\n"
     ]
    },
    {
     "name": "stderr",
     "output_type": "stream",
     "text": [
      "c:\\Users\\Jesper\\Anaconda3\\lib\\site-packages\\scipy\\stats\\_qmc.py:2039: UserWarning: The balance properties of Sobol' points require n to be a power of 2.\n",
      "  samples = self.engine.random(n)\n"
     ]
    },
    {
     "name": "stdout",
     "output_type": "stream",
     "text": [
      "Step: 7: current parameter_diff: 2.10536932255376, current marginal loglikelihood: -611.691375177316\n",
      "Covariance matrix is good: True\n",
      "EM Iteration 2\n",
      "Current Monte Carlo Sample size: 300\n",
      "[[1.         0.51474074]\n",
      " [0.51474074 1.        ]]\n"
     ]
    },
    {
     "name": "stderr",
     "output_type": "stream",
     "text": [
      "c:\\Users\\Jesper\\Anaconda3\\lib\\site-packages\\scipy\\stats\\_qmc.py:2039: UserWarning: The balance properties of Sobol' points require n to be a power of 2.\n",
      "  samples = self.engine.random(n)\n"
     ]
    },
    {
     "name": "stdout",
     "output_type": "stream",
     "text": [
      "Step: 2: current parameter_diff: 14.823578615667817, current marginal loglikelihood: -475.76075274160155\n",
      "EM Iteration 3\n",
      "Current Monte Carlo Sample size: 300\n",
      "[[1.         0.45597476]\n",
      " [0.45597476 1.        ]]\n"
     ]
    },
    {
     "name": "stderr",
     "output_type": "stream",
     "text": [
      "c:\\Users\\Jesper\\Anaconda3\\lib\\site-packages\\scipy\\stats\\_qmc.py:2039: UserWarning: The balance properties of Sobol' points require n to be a power of 2.\n",
      "  samples = self.engine.random(n)\n"
     ]
    },
    {
     "name": "stdout",
     "output_type": "stream",
     "text": [
      "Step: 3: current parameter_diff: 15.062422458422315, current marginal loglikelihood: -460.69886273482723\n",
      "EM Iteration 4\n",
      "Current Monte Carlo Sample size: 300\n",
      "[[1.         0.39585365]\n",
      " [0.39585365 1.        ]]\n"
     ]
    },
    {
     "name": "stderr",
     "output_type": "stream",
     "text": [
      "c:\\Users\\Jesper\\Anaconda3\\lib\\site-packages\\scipy\\stats\\_qmc.py:2039: UserWarning: The balance properties of Sobol' points require n to be a power of 2.\n",
      "  samples = self.engine.random(n)\n"
     ]
    },
    {
     "name": "stdout",
     "output_type": "stream",
     "text": [
      "Step: 4: current parameter_diff: 10.959512892352423, current marginal loglikelihood: -453.1369157511436\n",
      "EM Iteration 5\n",
      "Current Monte Carlo Sample size: 330\n",
      "[[1.         0.29258281]\n",
      " [0.29258281 1.        ]]\n"
     ]
    },
    {
     "name": "stderr",
     "output_type": "stream",
     "text": [
      "c:\\Users\\Jesper\\Anaconda3\\lib\\site-packages\\scipy\\stats\\_qmc.py:2039: UserWarning: The balance properties of Sobol' points require n to be a power of 2.\n",
      "  samples = self.engine.random(n)\n"
     ]
    },
    {
     "name": "stdout",
     "output_type": "stream",
     "text": [
      "Step: 5: current parameter_diff: 8.339174555093468, current marginal loglikelihood: -450.66017592405467\n",
      "EM Iteration 6\n",
      "Current Monte Carlo Sample size: 363\n",
      "[[1.         0.22209989]\n",
      " [0.22209989 1.        ]]\n",
      "Step: 6: current parameter_diff: 6.172804247963459, current marginal loglikelihood: -447.50035318188026\n",
      "EM Iteration 7\n",
      "Current Monte Carlo Sample size: 399\n",
      "[[1.         0.16059545]\n",
      " [0.16059545 1.        ]]\n",
      "Step: 7: current parameter_diff: 6.302832762320231, current marginal loglikelihood: -447.9647605788283\n",
      "Absolute diff in A:\n",
      "[[0.         0.02276336]\n",
      " [0.         0.51928161]\n",
      " [0.         0.60148974]\n",
      " [0.         0.42370355]\n",
      " [0.18143209 0.        ]\n",
      " [0.70679613 0.        ]\n",
      " [0.45464589 0.        ]\n",
      " [0.92757397 0.        ]\n",
      " [0.78932737 1.37864611]\n",
      " [0.08361915 0.41584566]\n",
      " [1.11079248 1.63787675]\n",
      " [0.15028266 0.76931304]]\n",
      "Absolute diff in delta:\n",
      "[0.02299243 0.07778183 0.36059501 0.27499928 1.94156142 1.1432306\n",
      " 0.05959387 0.20247406 0.38417701 0.33485325 0.71475013 0.53366791]\n",
      "Absolute diff in sigma:\n",
      "[[0.     0.0697]\n",
      " [0.0697 0.    ]]\n",
      "Absolute diff in A:\n",
      "[[0.         0.59460823]\n",
      " [0.         4.51030149]\n",
      " [0.         0.12478812]\n",
      " [0.         0.16664688]\n",
      " [0.82642939 0.        ]\n",
      " [0.68938332 0.        ]\n",
      " [6.39938949 0.        ]\n",
      " [0.51597754 0.64135473]\n",
      " [0.48564885 1.41302989]\n",
      " [0.42225942 2.45954412]\n",
      " [2.53089393 0.94924363]\n",
      " [0.74719308 1.33300346]]\n",
      "Absolute diff in delta:\n",
      "[0.81496618 1.5565391  0.56707436 0.05125794 0.17386439 0.66078249\n",
      " 1.40555266 0.39593523 0.46402029 0.49461245 0.8737724  2.10221997]\n",
      "EM Iteration 2\n"
     ]
    },
    {
     "name": "stderr",
     "output_type": "stream",
     "text": [
      "c:\\Users\\Jesper\\Anaconda3\\lib\\site-packages\\scipy\\stats\\_qmc.py:2039: UserWarning: The balance properties of Sobol' points require n to be a power of 2.\n",
      "  samples = self.engine.random(n)\n"
     ]
    },
    {
     "name": "stdout",
     "output_type": "stream",
     "text": [
      "Current Monte Carlo Sample size: 300\n",
      "[[ 1.00000212e+00  6.78100239e-01 -1.17514115e-06 -6.49067200e-02]\n",
      " [ 6.78100239e-01  1.00000165e+00 -6.11530136e-02 -1.16744074e-06]\n",
      " [-1.17514115e-06 -6.11530136e-02  9.99999644e-01  6.58849868e-01]\n",
      " [-6.49067200e-02 -1.16744074e-06  6.58849868e-01  9.99999966e-01]]\n",
      "Step: 2: current parameter_diff: 16.054343186959795, current marginal loglikelihood: -707.5789701185809\n",
      "EM Iteration 3\n"
     ]
    },
    {
     "name": "stderr",
     "output_type": "stream",
     "text": [
      "c:\\Users\\Jesper\\Anaconda3\\lib\\site-packages\\scipy\\stats\\_qmc.py:2039: UserWarning: The balance properties of Sobol' points require n to be a power of 2.\n",
      "  samples = self.engine.random(n)\n"
     ]
    },
    {
     "name": "stdout",
     "output_type": "stream",
     "text": [
      "Current Monte Carlo Sample size: 300\n",
      "[[ 1.00000032e+00  6.84876618e-01 -6.50296106e-07  8.96367061e-03]\n",
      " [ 6.84876618e-01  1.00000012e+00 -9.19936569e-06 -1.68454118e-07]\n",
      " [-6.50296106e-07 -9.19936569e-06  1.00000051e+00  5.13271878e-01]\n",
      " [ 8.96367061e-03 -1.68454118e-07  5.13271878e-01  1.00000034e+00]]\n",
      "Step: 3: current parameter_diff: 7.724526290141424, current marginal loglikelihood: -699.8441198065135\n",
      "EM Iteration 4\n"
     ]
    },
    {
     "name": "stderr",
     "output_type": "stream",
     "text": [
      "c:\\Users\\Jesper\\Anaconda3\\lib\\site-packages\\scipy\\stats\\_qmc.py:2039: UserWarning: The balance properties of Sobol' points require n to be a power of 2.\n",
      "  samples = self.engine.random(n)\n"
     ]
    },
    {
     "name": "stdout",
     "output_type": "stream",
     "text": [
      "Current Monte Carlo Sample size: 330\n",
      "[[ 9.99999498e-01  5.65173661e-01  7.56933874e-08  4.76340239e-02]\n",
      " [ 5.65173661e-01  9.99999852e-01 -7.14574421e-02  4.03781412e-07]\n",
      " [ 7.56933874e-08 -7.14574421e-02  1.00000044e+00  4.92093433e-01]\n",
      " [ 4.76340239e-02  4.03781412e-07  4.92093433e-01  9.99999308e-01]]\n",
      "Step: 4: current parameter_diff: 5.309278143857156, current marginal loglikelihood: -696.4049727527292\n",
      "EM Iteration 5\n"
     ]
    },
    {
     "name": "stderr",
     "output_type": "stream",
     "text": [
      "c:\\Users\\Jesper\\Anaconda3\\lib\\site-packages\\scipy\\stats\\_qmc.py:2039: UserWarning: The balance properties of Sobol' points require n to be a power of 2.\n",
      "  samples = self.engine.random(n)\n"
     ]
    },
    {
     "name": "stdout",
     "output_type": "stream",
     "text": [
      "Current Monte Carlo Sample size: 363\n",
      "[[ 9.99998179e-01  6.16035825e-01  6.58085474e-07  3.67707415e-02]\n",
      " [ 6.16035825e-01  9.99998513e-01 -4.08199550e-02  8.24702406e-07]\n",
      " [ 6.58085474e-07 -4.08199550e-02  9.99999194e-01  4.71972084e-01]\n",
      " [ 3.67707415e-02  8.24702406e-07  4.71972084e-01  9.99999201e-01]]\n",
      "Step: 5: current parameter_diff: 4.733093800528223, current marginal loglikelihood: -685.4581066748481\n",
      "EM Iteration 6\n"
     ]
    },
    {
     "name": "stderr",
     "output_type": "stream",
     "text": [
      "c:\\Users\\Jesper\\Anaconda3\\lib\\site-packages\\scipy\\stats\\_qmc.py:2039: UserWarning: The balance properties of Sobol' points require n to be a power of 2.\n",
      "  samples = self.engine.random(n)\n"
     ]
    },
    {
     "name": "stdout",
     "output_type": "stream",
     "text": [
      "Current Monte Carlo Sample size: 363\n",
      "[[ 9.99996507e-01  5.77042166e-01  1.88270825e-06  3.23359707e-02]\n",
      " [ 5.77042166e-01  9.99996818e-01 -1.61332801e-02  2.00038726e-06]\n",
      " [ 1.88270825e-06 -1.61332801e-02  9.99999733e-01  4.75138069e-01]\n",
      " [ 3.23359707e-02  2.00038726e-06  4.75138069e-01  9.99999198e-01]]\n",
      "Step: 6: current parameter_diff: 3.910514955075948, current marginal loglikelihood: -686.3348360531105\n",
      "EM Iteration 7\n"
     ]
    },
    {
     "name": "stderr",
     "output_type": "stream",
     "text": [
      "c:\\Users\\Jesper\\Anaconda3\\lib\\site-packages\\scipy\\stats\\_qmc.py:2039: UserWarning: The balance properties of Sobol' points require n to be a power of 2.\n",
      "  samples = self.engine.random(n)\n"
     ]
    },
    {
     "name": "stdout",
     "output_type": "stream",
     "text": [
      "Current Monte Carlo Sample size: 363\n",
      "[[ 1.00000014e+00  5.40999526e-01 -1.80387849e-07  5.30855106e-02]\n",
      " [ 5.40999526e-01  1.00000033e+00 -3.78612744e-02 -5.80219460e-08]\n",
      " [-1.80387849e-07 -3.78612744e-02  9.99999957e-01  4.80538112e-01]\n",
      " [ 5.30855106e-02 -5.80219460e-08  4.80538112e-01  9.99999825e-01]]\n",
      "Step: 7: current parameter_diff: 3.2009168259302254, current marginal loglikelihood: -685.1891259701263\n",
      "EM Iteration 8\n"
     ]
    },
    {
     "name": "stderr",
     "output_type": "stream",
     "text": [
      "c:\\Users\\Jesper\\Anaconda3\\lib\\site-packages\\scipy\\stats\\_qmc.py:2039: UserWarning: The balance properties of Sobol' points require n to be a power of 2.\n",
      "  samples = self.engine.random(n)\n"
     ]
    },
    {
     "name": "stdout",
     "output_type": "stream",
     "text": [
      "Current Monte Carlo Sample size: 399\n",
      "[[ 9.99999980e-01  5.98021443e-01  8.45690558e-09  4.70273897e-02]\n",
      " [ 5.98021443e-01  9.99999982e-01 -3.53829321e-02  1.00258746e-08]\n",
      " [ 8.45690557e-09 -3.53829321e-02  9.99999986e-01  4.80368888e-01]\n",
      " [ 4.70273897e-02  1.00258746e-08  4.80368888e-01  9.99999985e-01]]\n",
      "Step: 8: current parameter_diff: 2.8003147062344356, current marginal loglikelihood: -682.7869642091565\n",
      "Absolute diff in A:\n",
      "[[0.         0.29052214]\n",
      " [0.         4.16558241]\n",
      " [0.         0.11441918]\n",
      " [0.         0.58447587]\n",
      " [0.22318827 0.        ]\n",
      " [0.25160219 0.        ]\n",
      " [5.9954611  0.        ]\n",
      " [0.05160721 0.79163138]\n",
      " [0.00987215 0.81686999]\n",
      " [0.13555335 1.44074587]\n",
      " [0.99546493 1.20087696]\n",
      " [4.30359804 1.12917676]]\n",
      "Absolute diff in delta:\n",
      "[0.73897164 0.98843843 0.39110263 0.19972122 0.23385719 0.80948677\n",
      " 1.42909212 0.43394383 0.63740893 0.85698159 1.5297761  4.48409631]\n",
      "Real latent covariance: [[ 1.      0.5     0.     -0.1161]\n",
      " [ 0.5     1.      0.4356 -0.    ]\n",
      " [ 0.      0.4356  1.     -0.1685]\n",
      " [-0.1161 -0.     -0.1685  1.    ]]\n",
      "Covariance matrix is good: True\n",
      "EM Iteration 2\n",
      "Current Monte Carlo Sample size: 300\n",
      "[[1.         0.52454472]\n",
      " [0.52454472 1.        ]]\n"
     ]
    },
    {
     "name": "stderr",
     "output_type": "stream",
     "text": [
      "c:\\Users\\Jesper\\Anaconda3\\lib\\site-packages\\scipy\\stats\\_qmc.py:2039: UserWarning: The balance properties of Sobol' points require n to be a power of 2.\n",
      "  samples = self.engine.random(n)\n"
     ]
    },
    {
     "name": "stdout",
     "output_type": "stream",
     "text": [
      "Step: 2: current parameter_diff: 13.862362092214816, current marginal loglikelihood: -566.9689745538038\n",
      "EM Iteration 3\n",
      "Current Monte Carlo Sample size: 300\n",
      "[[1.         0.54065311]\n",
      " [0.54065311 1.        ]]\n"
     ]
    },
    {
     "name": "stderr",
     "output_type": "stream",
     "text": [
      "c:\\Users\\Jesper\\Anaconda3\\lib\\site-packages\\scipy\\stats\\_qmc.py:2039: UserWarning: The balance properties of Sobol' points require n to be a power of 2.\n",
      "  samples = self.engine.random(n)\n"
     ]
    },
    {
     "name": "stdout",
     "output_type": "stream",
     "text": [
      "Step: 3: current parameter_diff: 10.086125616229086, current marginal loglikelihood: -550.3900125955876\n",
      "EM Iteration 4\n",
      "Current Monte Carlo Sample size: 330\n",
      "[[1.         0.53494274]\n",
      " [0.53494274 1.        ]]\n"
     ]
    },
    {
     "name": "stderr",
     "output_type": "stream",
     "text": [
      "c:\\Users\\Jesper\\Anaconda3\\lib\\site-packages\\scipy\\stats\\_qmc.py:2039: UserWarning: The balance properties of Sobol' points require n to be a power of 2.\n",
      "  samples = self.engine.random(n)\n"
     ]
    },
    {
     "name": "stdout",
     "output_type": "stream",
     "text": [
      "Step: 4: current parameter_diff: 7.585832278121805, current marginal loglikelihood: -545.7227985456138\n",
      "EM Iteration 5\n",
      "Current Monte Carlo Sample size: 363\n",
      "[[1.         0.49588521]\n",
      " [0.49588521 1.        ]]\n"
     ]
    },
    {
     "name": "stderr",
     "output_type": "stream",
     "text": [
      "c:\\Users\\Jesper\\Anaconda3\\lib\\site-packages\\scipy\\stats\\_qmc.py:2039: UserWarning: The balance properties of Sobol' points require n to be a power of 2.\n",
      "  samples = self.engine.random(n)\n"
     ]
    },
    {
     "name": "stdout",
     "output_type": "stream",
     "text": [
      "Step: 5: current parameter_diff: 6.78137089349547, current marginal loglikelihood: -540.2323367684868\n",
      "EM Iteration 6\n",
      "Current Monte Carlo Sample size: 399\n",
      "[[1.         0.46571725]\n",
      " [0.46571725 1.        ]]\n"
     ]
    },
    {
     "name": "stderr",
     "output_type": "stream",
     "text": [
      "c:\\Users\\Jesper\\Anaconda3\\lib\\site-packages\\scipy\\stats\\_qmc.py:2039: UserWarning: The balance properties of Sobol' points require n to be a power of 2.\n",
      "  samples = self.engine.random(n)\n"
     ]
    },
    {
     "name": "stdout",
     "output_type": "stream",
     "text": [
      "Step: 6: current parameter_diff: 5.256866584504944, current marginal loglikelihood: -539.8677141694408\n",
      "EM Iteration 7\n",
      "Current Monte Carlo Sample size: 399\n",
      "[[1.         0.43955142]\n",
      " [0.43955142 1.        ]]\n"
     ]
    },
    {
     "name": "stderr",
     "output_type": "stream",
     "text": [
      "c:\\Users\\Jesper\\Anaconda3\\lib\\site-packages\\scipy\\stats\\_qmc.py:2039: UserWarning: The balance properties of Sobol' points require n to be a power of 2.\n",
      "  samples = self.engine.random(n)\n"
     ]
    },
    {
     "name": "stdout",
     "output_type": "stream",
     "text": [
      "Step: 7: current parameter_diff: 4.191302110995402, current marginal loglikelihood: -537.5159511430405\n",
      "EM Iteration 8\n",
      "Current Monte Carlo Sample size: 438\n",
      "[[1.         0.41616588]\n",
      " [0.41616588 1.        ]]\n",
      "Step: 8: current parameter_diff: 4.391565410380117, current marginal loglikelihood: -537.5523639363122\n",
      "EM Iteration 2\n"
     ]
    },
    {
     "name": "stderr",
     "output_type": "stream",
     "text": [
      "c:\\Users\\Jesper\\Anaconda3\\lib\\site-packages\\scipy\\stats\\_qmc.py:2039: UserWarning: The balance properties of Sobol' points require n to be a power of 2.\n",
      "  samples = self.engine.random(n)\n"
     ]
    },
    {
     "name": "stdout",
     "output_type": "stream",
     "text": [
      "Current Monte Carlo Sample size: 300\n",
      "[[ 9.99999969e-01  6.94415446e-01  2.47697434e-08 -8.72714337e-02]\n",
      " [ 6.94415446e-01  9.99999949e-01  1.34387665e-01  6.73738058e-08]\n",
      " [ 2.47697434e-08  1.34387665e-01  9.99999873e-01  7.10661856e-01]\n",
      " [-8.72714337e-02  6.73738058e-08  7.10661856e-01  9.99999840e-01]]\n",
      "Step: 2: current parameter_diff: 25.07858734224509, current marginal loglikelihood: -602.2112224039893\n",
      "EM Iteration 3\n"
     ]
    },
    {
     "name": "stderr",
     "output_type": "stream",
     "text": [
      "c:\\Users\\Jesper\\Anaconda3\\lib\\site-packages\\scipy\\stats\\_qmc.py:2039: UserWarning: The balance properties of Sobol' points require n to be a power of 2.\n",
      "  samples = self.engine.random(n)\n"
     ]
    },
    {
     "name": "stdout",
     "output_type": "stream",
     "text": [
      "Current Monte Carlo Sample size: 300\n",
      "[[ 1.00000004e+00  6.67031963e-01  7.09991346e-07 -5.38967223e-02]\n",
      " [ 6.67031963e-01  1.00000075e+00  1.02563437e-01 -1.21577594e-06]\n",
      " [ 7.09991346e-07  1.02563437e-01  9.99999729e-01  7.19400112e-01]\n",
      " [-5.38967223e-02 -1.21577594e-06  7.19400112e-01  1.00000169e+00]]\n",
      "Step: 3: current parameter_diff: 14.711147979146045, current marginal loglikelihood: -582.2990975474472\n",
      "EM Iteration 4\n"
     ]
    },
    {
     "name": "stderr",
     "output_type": "stream",
     "text": [
      "c:\\Users\\Jesper\\Anaconda3\\lib\\site-packages\\scipy\\stats\\_qmc.py:2039: UserWarning: The balance properties of Sobol' points require n to be a power of 2.\n",
      "  samples = self.engine.random(n)\n"
     ]
    },
    {
     "name": "stdout",
     "output_type": "stream",
     "text": [
      "Current Monte Carlo Sample size: 330\n",
      "[[ 1.00000016e+00  7.00521704e-01 -8.50135624e-08 -1.53985782e-02]\n",
      " [ 7.00521704e-01  1.00000015e+00  3.71444942e-02 -1.04063591e-07]\n",
      " [-8.50135624e-08  3.71444942e-02  9.99999992e-01  6.85237642e-01]\n",
      " [-1.53985782e-02 -1.04063591e-07  6.85237642e-01  9.99999993e-01]]\n",
      "Step: 4: current parameter_diff: 10.611251174887713, current marginal loglikelihood: -573.4759835700434\n",
      "EM Iteration 5\n"
     ]
    },
    {
     "name": "stderr",
     "output_type": "stream",
     "text": [
      "c:\\Users\\Jesper\\Anaconda3\\lib\\site-packages\\scipy\\stats\\_qmc.py:2039: UserWarning: The balance properties of Sobol' points require n to be a power of 2.\n",
      "  samples = self.engine.random(n)\n"
     ]
    },
    {
     "name": "stdout",
     "output_type": "stream",
     "text": [
      "Current Monte Carlo Sample size: 363\n",
      "[[ 9.99999610e-01  6.76778593e-01  1.69329182e-07 -1.79151092e-02]\n",
      " [ 6.76778593e-01  9.99998904e-01  3.62959302e-02  8.79820485e-07]\n",
      " [ 1.69329182e-07  3.62959302e-02  1.00000015e+00  6.92499918e-01]\n",
      " [-1.79151092e-02  8.79820485e-07  6.92499918e-01  9.99999599e-01]]\n",
      "Step: 5: current parameter_diff: 17.181200291745853, current marginal loglikelihood: -573.0747229218679\n",
      "EM Iteration 6\n"
     ]
    },
    {
     "name": "stderr",
     "output_type": "stream",
     "text": [
      "c:\\Users\\Jesper\\Anaconda3\\lib\\site-packages\\scipy\\stats\\_qmc.py:2039: UserWarning: The balance properties of Sobol' points require n to be a power of 2.\n",
      "  samples = self.engine.random(n)\n"
     ]
    },
    {
     "name": "stdout",
     "output_type": "stream",
     "text": [
      "Current Monte Carlo Sample size: 363\n",
      "[[ 9.99999788e-01  6.64618793e-01  1.37308124e-07 -1.00693812e-02]\n",
      " [ 6.64618793e-01  9.99999755e-01  3.67465639e-02  1.45347327e-07]\n",
      " [ 1.37308124e-07  3.67465639e-02  9.99999975e-01  6.93540443e-01]\n",
      " [-1.00693812e-02  1.45347327e-07  6.93540443e-01  9.99999957e-01]]\n",
      "Step: 6: current parameter_diff: 7.582432436494364, current marginal loglikelihood: -569.2125230620436\n",
      "EM Iteration 7\n"
     ]
    },
    {
     "name": "stderr",
     "output_type": "stream",
     "text": [
      "c:\\Users\\Jesper\\Anaconda3\\lib\\site-packages\\scipy\\stats\\_qmc.py:2039: UserWarning: The balance properties of Sobol' points require n to be a power of 2.\n",
      "  samples = self.engine.random(n)\n"
     ]
    },
    {
     "name": "stdout",
     "output_type": "stream",
     "text": [
      "Current Monte Carlo Sample size: 399\n",
      "[[ 1.00000019e+00  7.11091504e-01 -9.30407638e-08  2.71808147e-03]\n",
      " [ 7.11091504e-01  1.00000019e+00  2.80331005e-02 -1.02503926e-07]\n",
      " [-9.30407638e-08  2.80331005e-02  9.99999993e-01  6.61229076e-01]\n",
      " [ 2.71808147e-03 -1.02503926e-07  6.61229076e-01  9.99999993e-01]]\n",
      "Step: 7: current parameter_diff: 6.6662389390678065, current marginal loglikelihood: -566.6517390902859\n",
      "Absolute diff in A:\n",
      "[[0.         0.5839332 ]\n",
      " [0.         0.08498222]\n",
      " [0.         1.54756701]\n",
      " [0.         5.40493951]\n",
      " [0.         0.24474087]\n",
      " [0.52581651 0.        ]\n",
      " [1.1812327  0.        ]\n",
      " [0.06347151 0.51721846]\n",
      " [0.68764738 0.19471488]\n",
      " [0.72404364 3.57639517]\n",
      " [0.68150251 0.73230799]\n",
      " [0.40218081 0.58120618]]\n",
      "Absolute diff in delta:\n",
      "[0.07111864 0.35063731 0.76085843 4.50296147 0.16530615 1.29494034\n",
      " 0.95375222 0.03425033 0.17977763 1.42420418 0.60650963 0.76066985]\n",
      "Absolute diff in sigma:\n",
      "[[0.     0.0839]\n",
      " [0.0839 0.    ]]\n",
      "Absolute diff in A:\n",
      "[[0.         1.03197796]\n",
      " [0.         0.17038665]\n",
      " [1.53057304 0.        ]\n",
      " [0.10929181 0.        ]\n",
      " [1.45096344 0.59321418]\n",
      " [0.51640962 1.0615123 ]\n",
      " [7.57324634 0.84003759]\n",
      " [0.89596392 1.47544285]\n",
      " [1.28991101 0.25051261]\n",
      " [1.25743558 4.03321507]\n",
      " [5.26970784 2.35444568]\n",
      " [0.73401491 4.19654065]]\n",
      "Absolute diff in delta:\n",
      "[0.05214831 2.03461861 0.17811592 0.31689283 1.04320878 0.74421131\n",
      " 2.15047718 1.89636809 1.47326611 6.95263458 6.67235495 0.82203066]\n",
      "Absolute diff in A:\n",
      "[[0.         1.63994328]\n",
      " [0.         0.6233978 ]\n",
      " [0.         3.6131627 ]\n",
      " [0.         7.02026804]\n",
      " [0.         0.81856791]\n",
      " [0.90455759 0.        ]\n",
      " [1.7507891  0.        ]\n",
      " [0.14579292 0.67657287]\n",
      " [2.40160881 0.69304852]\n",
      " [0.17966418 9.4430836 ]\n",
      " [3.73739224 0.31194204]\n",
      " [0.06870989 1.79876653]]\n",
      "Absolute diff in delta:\n",
      "[0.37596535 0.58256543 1.42305552 0.60638266 0.17622193 0.24105805\n",
      " 0.05157503 0.798027   0.35021886 0.06561174 1.50679938 1.04477357]\n",
      "Absolute diff in sigma:\n",
      "[[0. 0.]\n",
      " [0. 0.]]\n",
      "Absolute diff in A:\n",
      "[[ 1.          0.40024583]\n",
      " [ 1.          2.91385264]\n",
      " [ 2.87356684  1.        ]\n",
      " [ 2.73568533  1.        ]\n",
      " [ 2.35430649  0.42441659]\n",
      " [ 2.21276546  0.38379635]\n",
      " [12.06038568  0.09084453]\n",
      " [ 4.06617006  1.52746892]\n",
      " [ 2.25659446  2.29161818]\n",
      " [ 5.73591497  3.80526039]\n",
      " [ 4.47304014  8.12162822]\n",
      " [ 0.25997996  5.37442423]]\n",
      "Absolute diff in delta:\n",
      "[0.14004389 1.18442091 0.14124107 0.91079614 1.19682694 1.68967396\n",
      " 2.36099323 2.27098082 1.6934821  0.6460075  0.26142457 0.95694483]\n",
      "Covariance matrix is good: True\n",
      "EM Iteration 2\n",
      "Current Monte Carlo Sample size: 300\n",
      "[[1.         0.55336526]\n",
      " [0.55336526 1.        ]]\n"
     ]
    },
    {
     "name": "stderr",
     "output_type": "stream",
     "text": [
      "c:\\Users\\Jesper\\Anaconda3\\lib\\site-packages\\scipy\\stats\\_qmc.py:2039: UserWarning: The balance properties of Sobol' points require n to be a power of 2.\n",
      "  samples = self.engine.random(n)\n"
     ]
    },
    {
     "name": "stdout",
     "output_type": "stream",
     "text": [
      "Step: 2: current parameter_diff: 13.999177046974577, current marginal loglikelihood: -564.1919475680326\n",
      "EM Iteration 3\n",
      "Current Monte Carlo Sample size: 300\n",
      "[[1.         0.56266355]\n",
      " [0.56266355 1.        ]]\n"
     ]
    },
    {
     "name": "stderr",
     "output_type": "stream",
     "text": [
      "c:\\Users\\Jesper\\Anaconda3\\lib\\site-packages\\scipy\\stats\\_qmc.py:2039: UserWarning: The balance properties of Sobol' points require n to be a power of 2.\n",
      "  samples = self.engine.random(n)\n"
     ]
    },
    {
     "name": "stdout",
     "output_type": "stream",
     "text": [
      "Step: 3: current parameter_diff: 10.103239032016411, current marginal loglikelihood: -551.3262828234837\n",
      "EM Iteration 4\n",
      "Current Monte Carlo Sample size: 300\n",
      "[[1.         0.48887471]\n",
      " [0.48887471 1.        ]]\n"
     ]
    },
    {
     "name": "stderr",
     "output_type": "stream",
     "text": [
      "c:\\Users\\Jesper\\Anaconda3\\lib\\site-packages\\scipy\\stats\\_qmc.py:2039: UserWarning: The balance properties of Sobol' points require n to be a power of 2.\n",
      "  samples = self.engine.random(n)\n"
     ]
    },
    {
     "name": "stdout",
     "output_type": "stream",
     "text": [
      "Step: 4: current parameter_diff: 8.354074458841023, current marginal loglikelihood: -544.7195450772224\n",
      "EM Iteration 5\n",
      "Current Monte Carlo Sample size: 330\n",
      "[[1.         0.46173092]\n",
      " [0.46173092 1.        ]]\n"
     ]
    },
    {
     "name": "stderr",
     "output_type": "stream",
     "text": [
      "c:\\Users\\Jesper\\Anaconda3\\lib\\site-packages\\scipy\\stats\\_qmc.py:2039: UserWarning: The balance properties of Sobol' points require n to be a power of 2.\n",
      "  samples = self.engine.random(n)\n"
     ]
    },
    {
     "name": "stdout",
     "output_type": "stream",
     "text": [
      "Step: 5: current parameter_diff: 6.1868505723794875, current marginal loglikelihood: -540.25636584229\n",
      "EM Iteration 6\n",
      "Current Monte Carlo Sample size: 363\n",
      "[[1.         0.44991933]\n",
      " [0.44991933 1.        ]]\n"
     ]
    },
    {
     "name": "stderr",
     "output_type": "stream",
     "text": [
      "c:\\Users\\Jesper\\Anaconda3\\lib\\site-packages\\scipy\\stats\\_qmc.py:2039: UserWarning: The balance properties of Sobol' points require n to be a power of 2.\n",
      "  samples = self.engine.random(n)\n"
     ]
    },
    {
     "name": "stdout",
     "output_type": "stream",
     "text": [
      "Step: 6: current parameter_diff: 4.6633178520492935, current marginal loglikelihood: -538.6821221184655\n",
      "EM Iteration 7\n",
      "Current Monte Carlo Sample size: 399\n",
      "[[1.         0.42813157]\n",
      " [0.42813157 1.        ]]\n",
      "Step: 7: current parameter_diff: 4.486515538358032, current marginal loglikelihood: -536.837125907588\n",
      "Covariance matrix is good: True\n",
      "EM Iteration 2\n",
      "Current Monte Carlo Sample size: 300\n",
      "[[1.         0.63654121]\n",
      " [0.63654121 1.        ]]\n"
     ]
    },
    {
     "name": "stderr",
     "output_type": "stream",
     "text": [
      "c:\\Users\\Jesper\\Anaconda3\\lib\\site-packages\\scipy\\stats\\_qmc.py:2039: UserWarning: The balance properties of Sobol' points require n to be a power of 2.\n",
      "  samples = self.engine.random(n)\n"
     ]
    },
    {
     "name": "stdout",
     "output_type": "stream",
     "text": [
      "Step: 2: current parameter_diff: 25.875250921561488, current marginal loglikelihood: -397.22494802740476\n",
      "EM Iteration 3\n",
      "Current Monte Carlo Sample size: 330\n",
      "[[1.         0.60851514]\n",
      " [0.60851514 1.        ]]\n"
     ]
    },
    {
     "name": "stderr",
     "output_type": "stream",
     "text": [
      "c:\\Users\\Jesper\\Anaconda3\\lib\\site-packages\\scipy\\stats\\_qmc.py:2039: UserWarning: The balance properties of Sobol' points require n to be a power of 2.\n",
      "  samples = self.engine.random(n)\n"
     ]
    },
    {
     "name": "stdout",
     "output_type": "stream",
     "text": [
      "Step: 3: current parameter_diff: 22.553663679321318, current marginal loglikelihood: -370.3022933634888\n",
      "EM Iteration 4\n",
      "Current Monte Carlo Sample size: 363\n",
      "[[1.        0.5857515]\n",
      " [0.5857515 1.       ]]\n"
     ]
    },
    {
     "name": "stderr",
     "output_type": "stream",
     "text": [
      "c:\\Users\\Jesper\\Anaconda3\\lib\\site-packages\\scipy\\stats\\_qmc.py:2039: UserWarning: The balance properties of Sobol' points require n to be a power of 2.\n",
      "  samples = self.engine.random(n)\n"
     ]
    },
    {
     "name": "stdout",
     "output_type": "stream",
     "text": [
      "Step: 4: current parameter_diff: 19.932664571823413, current marginal loglikelihood: -360.17394577931003\n",
      "EM Iteration 5\n",
      "Current Monte Carlo Sample size: 399\n",
      "[[1.        0.5611302]\n",
      " [0.5611302 1.       ]]\n"
     ]
    },
    {
     "name": "stderr",
     "output_type": "stream",
     "text": [
      "c:\\Users\\Jesper\\Anaconda3\\lib\\site-packages\\scipy\\stats\\_qmc.py:2039: UserWarning: The balance properties of Sobol' points require n to be a power of 2.\n",
      "  samples = self.engine.random(n)\n"
     ]
    },
    {
     "name": "stdout",
     "output_type": "stream",
     "text": [
      "Step: 5: current parameter_diff: 20.48905320178701, current marginal loglikelihood: -355.67202683381106\n",
      "EM Iteration 6\n",
      "Current Monte Carlo Sample size: 438\n",
      "[[1.         0.50638638]\n",
      " [0.50638638 1.        ]]\n"
     ]
    },
    {
     "name": "stderr",
     "output_type": "stream",
     "text": [
      "c:\\Users\\Jesper\\Anaconda3\\lib\\site-packages\\scipy\\stats\\_qmc.py:2039: UserWarning: The balance properties of Sobol' points require n to be a power of 2.\n",
      "  samples = self.engine.random(n)\n"
     ]
    },
    {
     "name": "stdout",
     "output_type": "stream",
     "text": [
      "Step: 6: current parameter_diff: 10.2140945929913, current marginal loglikelihood: -353.0837231110129\n",
      "EM Iteration 7\n",
      "Current Monte Carlo Sample size: 438\n",
      "[[1.         0.45247657]\n",
      " [0.45247657 1.        ]]\n"
     ]
    },
    {
     "name": "stderr",
     "output_type": "stream",
     "text": [
      "c:\\Users\\Jesper\\Anaconda3\\lib\\site-packages\\scipy\\stats\\_qmc.py:2039: UserWarning: The balance properties of Sobol' points require n to be a power of 2.\n",
      "  samples = self.engine.random(n)\n"
     ]
    },
    {
     "name": "stdout",
     "output_type": "stream",
     "text": [
      "Step: 7: current parameter_diff: 10.149206507191263, current marginal loglikelihood: -350.8610490765308\n",
      "Absolute diff in A:\n",
      "[[0.         0.67088195]\n",
      " [0.         0.04818207]\n",
      " [0.         1.59972093]\n",
      " [0.         3.6545935 ]\n",
      " [0.         0.23551227]\n",
      " [0.44351307 0.        ]\n",
      " [0.95474508 0.        ]\n",
      " [0.18923001 0.25318021]\n",
      " [0.96802672 0.15104775]\n",
      " [0.74433557 4.24310682]\n",
      " [0.72687676 0.74474151]\n",
      " [0.500063   0.43104487]]\n",
      "Absolute diff in delta:\n",
      "[0.11228889 0.36878765 0.71688642 3.71544205 0.14812651 1.20921065\n",
      " 0.83396408 0.03376902 0.04698522 1.21056871 0.43677547 0.62792927]\n",
      "Absolute diff in sigma:\n",
      "[[0.     0.0719]\n",
      " [0.0719 0.    ]]\n",
      "Absolute diff in A:\n",
      "[[0.         1.07094101]\n",
      " [0.         0.93642311]\n",
      " [2.2022426  0.        ]\n",
      " [1.32278066 0.        ]\n",
      " [1.85346708 0.33056039]\n",
      " [1.17321822 0.25178422]\n",
      " [8.73407199 0.86636808]\n",
      " [1.55869912 0.2944867 ]\n",
      " [1.56757363 1.3462056 ]\n",
      " [4.45630409 1.84883015]\n",
      " [4.79787599 3.33110192]\n",
      " [0.73929411 4.2879592 ]]\n",
      "Absolute diff in delta:\n",
      "[0.16366863 1.39785519 0.17529238 0.16710717 0.54633305 0.04466156\n",
      " 1.88520569 0.63370387 0.6178397  2.23159295 3.11144325 0.73712621]\n",
      "EM Iteration 2\n"
     ]
    },
    {
     "name": "stderr",
     "output_type": "stream",
     "text": [
      "c:\\Users\\Jesper\\Anaconda3\\lib\\site-packages\\scipy\\stats\\_qmc.py:2039: UserWarning: The balance properties of Sobol' points require n to be a power of 2.\n",
      "  samples = self.engine.random(n)\n"
     ]
    },
    {
     "name": "stdout",
     "output_type": "stream",
     "text": [
      "Current Monte Carlo Sample size: 300\n",
      "[[ 9.99999844e-01  5.78818159e-01  9.76419160e-08  3.07660627e-02]\n",
      " [ 5.78818159e-01  1.00000017e+00  7.87482399e-02 -2.32536886e-07]\n",
      " [ 9.76419160e-08  7.87482399e-02  1.00000017e+00  1.64783971e-01]\n",
      " [ 3.07660627e-02 -2.32536886e-07  1.64783971e-01  1.00000008e+00]]\n",
      "Step: 2: current parameter_diff: 23.174067676118867, current marginal loglikelihood: -617.5933980864714\n",
      "EM Iteration 3\n"
     ]
    },
    {
     "name": "stderr",
     "output_type": "stream",
     "text": [
      "c:\\Users\\Jesper\\Anaconda3\\lib\\site-packages\\scipy\\stats\\_qmc.py:2039: UserWarning: The balance properties of Sobol' points require n to be a power of 2.\n",
      "  samples = self.engine.random(n)\n"
     ]
    },
    {
     "name": "stdout",
     "output_type": "stream",
     "text": [
      "Current Monte Carlo Sample size: 300\n",
      "[[ 1.00000002e+00  4.21869428e-01 -2.42517274e-08 -1.18076152e-01]\n",
      " [ 4.21869428e-01  1.00000001e+00  2.40940457e-02  2.21760301e-09]\n",
      " [-2.42517274e-08  2.40940457e-02  9.99999998e-01  4.01695251e-01]\n",
      " [-1.18076152e-01  2.21760300e-09  4.01695251e-01  9.99999994e-01]]\n",
      "Step: 3: current parameter_diff: 12.787129652350266, current marginal loglikelihood: -610.9339841660034\n",
      "EM Iteration 4\n"
     ]
    },
    {
     "name": "stderr",
     "output_type": "stream",
     "text": [
      "c:\\Users\\Jesper\\Anaconda3\\lib\\site-packages\\scipy\\stats\\_qmc.py:2039: UserWarning: The balance properties of Sobol' points require n to be a power of 2.\n",
      "  samples = self.engine.random(n)\n"
     ]
    },
    {
     "name": "stdout",
     "output_type": "stream",
     "text": [
      "Current Monte Carlo Sample size: 330\n",
      "[[ 1.00000001e+00  4.69883871e-01  3.39405846e-07 -7.91983587e-02]\n",
      " [ 4.69883871e-01  9.99999289e-01  8.67865968e-02  6.67651910e-07]\n",
      " [ 3.39405846e-07  8.67865968e-02  1.00000046e+00  4.05894955e-01]\n",
      " [-7.91983587e-02  6.67651910e-07  4.05894955e-01  9.99999772e-01]]\n",
      "Step: 4: current parameter_diff: 12.23471111048449, current marginal loglikelihood: -599.3386545565406\n",
      "EM Iteration 5\n"
     ]
    },
    {
     "name": "stderr",
     "output_type": "stream",
     "text": [
      "c:\\Users\\Jesper\\Anaconda3\\lib\\site-packages\\scipy\\stats\\_qmc.py:2039: UserWarning: The balance properties of Sobol' points require n to be a power of 2.\n",
      "  samples = self.engine.random(n)\n"
     ]
    },
    {
     "name": "stdout",
     "output_type": "stream",
     "text": [
      "Current Monte Carlo Sample size: 363\n",
      "[[ 1.00000037e+00  4.87124086e-01 -1.13424231e-07 -1.20784427e-01]\n",
      " [ 4.87124086e-01  1.00000012e+00  7.24016758e-02  1.39808399e-07]\n",
      " [-1.13424231e-07  7.24016758e-02  1.00000027e+00  3.91287308e-01]\n",
      " [-1.20784427e-01  1.39808399e-07  3.91287308e-01  9.99999740e-01]]\n",
      "Step: 5: current parameter_diff: 9.55843265507109, current marginal loglikelihood: -596.9830637047619\n",
      "EM Iteration 6\n"
     ]
    },
    {
     "name": "stderr",
     "output_type": "stream",
     "text": [
      "c:\\Users\\Jesper\\Anaconda3\\lib\\site-packages\\scipy\\stats\\_qmc.py:2039: UserWarning: The balance properties of Sobol' points require n to be a power of 2.\n",
      "  samples = self.engine.random(n)\n"
     ]
    },
    {
     "name": "stdout",
     "output_type": "stream",
     "text": [
      "Current Monte Carlo Sample size: 399\n",
      "[[ 1.00000043e+00  4.41913492e-01 -1.09763841e-07 -8.21361854e-02]\n",
      " [ 4.41913492e-01  1.00000003e+00  1.02309617e-01 -3.55880441e-07]\n",
      " [-1.09763841e-07  1.02309617e-01  9.99999874e-01  4.74443993e-01]\n",
      " [-8.21361854e-02 -3.55880441e-07  4.74443993e-01  1.00000032e+00]]\n",
      "Step: 6: current parameter_diff: 9.4337397065683, current marginal loglikelihood: -596.6357927819002\n",
      "EM Iteration 7\n"
     ]
    },
    {
     "name": "stderr",
     "output_type": "stream",
     "text": [
      "c:\\Users\\Jesper\\Anaconda3\\lib\\site-packages\\scipy\\stats\\_qmc.py:2039: UserWarning: The balance properties of Sobol' points require n to be a power of 2.\n",
      "  samples = self.engine.random(n)\n"
     ]
    },
    {
     "name": "stdout",
     "output_type": "stream",
     "text": [
      "Current Monte Carlo Sample size: 399\n",
      "[[ 9.99999745e-01  4.86583236e-01 -2.01901992e-07 -9.73334030e-02]\n",
      " [ 4.86583236e-01  1.00000123e+00  6.47943191e-02 -1.18365014e-06]\n",
      " [-2.01901992e-07  6.47943191e-02  1.00000054e+00  4.33736918e-01]\n",
      " [-9.73334030e-02 -1.18365014e-06  4.33736918e-01  1.00000077e+00]]\n",
      "Step: 7: current parameter_diff: 10.991011786949317, current marginal loglikelihood: -591.5352813058146\n",
      "EM Iteration 8\n"
     ]
    },
    {
     "name": "stderr",
     "output_type": "stream",
     "text": [
      "c:\\Users\\Jesper\\Anaconda3\\lib\\site-packages\\scipy\\stats\\_qmc.py:2039: UserWarning: The balance properties of Sobol' points require n to be a power of 2.\n",
      "  samples = self.engine.random(n)\n"
     ]
    },
    {
     "name": "stdout",
     "output_type": "stream",
     "text": [
      "Current Monte Carlo Sample size: 438\n",
      "[[ 1.00000068e+00  4.85431241e-01 -2.22829421e-08 -1.35406425e-01]\n",
      " [ 4.85431241e-01  1.00000015e+00  8.42518535e-02 -1.57583662e-07]\n",
      " [-2.22829422e-08  8.42518535e-02  9.99999887e-01  4.20798147e-01]\n",
      " [-1.35406425e-01 -1.57583662e-07  4.20798147e-01  9.99999962e-01]]\n",
      "Step: 8: current parameter_diff: 3.603852211401434, current marginal loglikelihood: -591.9773938139718\n",
      "EM Iteration 9\n"
     ]
    },
    {
     "name": "stderr",
     "output_type": "stream",
     "text": [
      "c:\\Users\\Jesper\\Anaconda3\\lib\\site-packages\\scipy\\stats\\_qmc.py:2039: UserWarning: The balance properties of Sobol' points require n to be a power of 2.\n",
      "  samples = self.engine.random(n)\n"
     ]
    },
    {
     "name": "stdout",
     "output_type": "stream",
     "text": [
      "Current Monte Carlo Sample size: 438\n",
      "[[ 1.00000001e+00  4.94915419e-01  2.49858087e-07 -9.12191065e-02]\n",
      " [ 4.94915419e-01  1.00000020e+00  4.11885940e-02 -4.53286139e-07]\n",
      " [ 2.49858087e-07  4.11885940e-02  9.99999988e-01  3.49018556e-01]\n",
      " [-9.12191065e-02 -4.53286139e-07  3.49018556e-01  1.00000021e+00]]\n",
      "Step: 9: current parameter_diff: 5.519054368216485, current marginal loglikelihood: -594.3232335032651\n",
      "EM Iteration 10\n"
     ]
    },
    {
     "name": "stderr",
     "output_type": "stream",
     "text": [
      "c:\\Users\\Jesper\\Anaconda3\\lib\\site-packages\\scipy\\stats\\_qmc.py:2039: UserWarning: The balance properties of Sobol' points require n to be a power of 2.\n",
      "  samples = self.engine.random(n)\n"
     ]
    },
    {
     "name": "stdout",
     "output_type": "stream",
     "text": [
      "Current Monte Carlo Sample size: 481\n",
      "[[ 9.99999972e-01  4.79733555e-01 -5.60805788e-09 -6.70685346e-02]\n",
      " [ 4.79733555e-01  9.99999812e-01  3.54266628e-02  8.79815749e-08]\n",
      " [-5.60805788e-09  3.54266628e-02  9.99999996e-01  3.37928631e-01]\n",
      " [-6.70685346e-02  8.79815749e-08  3.37928631e-01  9.99999896e-01]]\n",
      "Step: 10: current parameter_diff: 4.127254919402497, current marginal loglikelihood: -596.6720355198092\n",
      "Absolute diff in A:\n",
      "[[0.         0.98221543]\n",
      " [0.         1.40624045]\n",
      " [1.34041606 0.        ]\n",
      " [0.60682634 0.        ]\n",
      " [1.3440189  0.57618846]\n",
      " [0.71209236 1.1933905 ]\n",
      " [8.03685776 0.2107705 ]\n",
      " [0.35990337 1.41658807]\n",
      " [1.2756857  0.20501384]\n",
      " [0.89119801 5.12801276]\n",
      " [4.25055357 2.71669925]\n",
      " [0.73875027 3.32016637]]\n",
      "Absolute diff in delta:\n",
      "[0.04656128 3.11606111 0.06766803 0.36010962 1.04280767 0.65632242\n",
      " 2.01607045 1.67314219 1.50351216 7.76140312 7.82352864 1.43217132]\n",
      "Real latent covariance: [[ 1.      0.5     0.     -0.0986]\n",
      " [ 0.5     1.      0.2359  0.    ]\n",
      " [ 0.      0.2359  1.     -0.0441]\n",
      " [-0.0986  0.     -0.0441  1.    ]]\n",
      "Covariance matrix is good: True\n",
      "EM Iteration 2\n",
      "Current Monte Carlo Sample size: 300\n",
      "[[1.         0.58974623]\n",
      " [0.58974623 1.        ]]\n"
     ]
    },
    {
     "name": "stderr",
     "output_type": "stream",
     "text": [
      "c:\\Users\\Jesper\\Anaconda3\\lib\\site-packages\\scipy\\stats\\_qmc.py:2039: UserWarning: The balance properties of Sobol' points require n to be a power of 2.\n",
      "  samples = self.engine.random(n)\n"
     ]
    },
    {
     "name": "stdout",
     "output_type": "stream",
     "text": [
      "Step: 2: current parameter_diff: 12.4046076540724, current marginal loglikelihood: -594.6768025320274\n",
      "EM Iteration 3\n",
      "Current Monte Carlo Sample size: 330\n",
      "[[1.        0.5961536]\n",
      " [0.5961536 1.       ]]\n"
     ]
    },
    {
     "name": "stderr",
     "output_type": "stream",
     "text": [
      "c:\\Users\\Jesper\\Anaconda3\\lib\\site-packages\\scipy\\stats\\_qmc.py:2039: UserWarning: The balance properties of Sobol' points require n to be a power of 2.\n",
      "  samples = self.engine.random(n)\n"
     ]
    },
    {
     "name": "stdout",
     "output_type": "stream",
     "text": [
      "Step: 3: current parameter_diff: 6.747834807649941, current marginal loglikelihood: -584.6655768996378\n",
      "EM Iteration 4\n",
      "Current Monte Carlo Sample size: 363\n",
      "[[1.         0.55713675]\n",
      " [0.55713675 1.        ]]\n"
     ]
    },
    {
     "name": "stderr",
     "output_type": "stream",
     "text": [
      "c:\\Users\\Jesper\\Anaconda3\\lib\\site-packages\\scipy\\stats\\_qmc.py:2039: UserWarning: The balance properties of Sobol' points require n to be a power of 2.\n",
      "  samples = self.engine.random(n)\n"
     ]
    },
    {
     "name": "stdout",
     "output_type": "stream",
     "text": [
      "Step: 4: current parameter_diff: 5.0586152252740515, current marginal loglikelihood: -580.0184696703103\n",
      "EM Iteration 5\n",
      "Current Monte Carlo Sample size: 399\n",
      "[[1.        0.5286132]\n",
      " [0.5286132 1.       ]]\n"
     ]
    },
    {
     "name": "stderr",
     "output_type": "stream",
     "text": [
      "c:\\Users\\Jesper\\Anaconda3\\lib\\site-packages\\scipy\\stats\\_qmc.py:2039: UserWarning: The balance properties of Sobol' points require n to be a power of 2.\n",
      "  samples = self.engine.random(n)\n"
     ]
    },
    {
     "name": "stdout",
     "output_type": "stream",
     "text": [
      "Step: 5: current parameter_diff: 4.085961753420692, current marginal loglikelihood: -576.0833995717074\n",
      "EM Iteration 6\n",
      "Current Monte Carlo Sample size: 438\n",
      "[[1.         0.48888193]\n",
      " [0.48888193 1.        ]]\n"
     ]
    },
    {
     "name": "stderr",
     "output_type": "stream",
     "text": [
      "c:\\Users\\Jesper\\Anaconda3\\lib\\site-packages\\scipy\\stats\\_qmc.py:2039: UserWarning: The balance properties of Sobol' points require n to be a power of 2.\n",
      "  samples = self.engine.random(n)\n"
     ]
    },
    {
     "name": "stdout",
     "output_type": "stream",
     "text": [
      "Step: 6: current parameter_diff: 3.8163819399355905, current marginal loglikelihood: -574.3369703380102\n",
      "EM Iteration 2\n"
     ]
    },
    {
     "name": "stderr",
     "output_type": "stream",
     "text": [
      "c:\\Users\\Jesper\\Anaconda3\\lib\\site-packages\\scipy\\stats\\_qmc.py:2039: UserWarning: The balance properties of Sobol' points require n to be a power of 2.\n",
      "  samples = self.engine.random(n)\n"
     ]
    },
    {
     "name": "stdout",
     "output_type": "stream",
     "text": [
      "Current Monte Carlo Sample size: 300\n",
      "[[ 1.00000010e+00  6.06924631e-01  2.60342680e-08  6.21350045e-03]\n",
      " [ 6.06924631e-01  1.00000032e+00  8.94163483e-02 -2.15828578e-07]\n",
      " [ 2.60342680e-08  8.94163483e-02  1.00000001e+00  5.80507813e-01]\n",
      " [ 6.21350045e-03 -2.15828578e-07  5.80507813e-01  1.00000017e+00]]\n",
      "Step: 2: current parameter_diff: 23.379438551745423, current marginal loglikelihood: -579.2361453946698\n",
      "EM Iteration 3\n"
     ]
    },
    {
     "name": "stderr",
     "output_type": "stream",
     "text": [
      "c:\\Users\\Jesper\\Anaconda3\\lib\\site-packages\\scipy\\stats\\_qmc.py:2039: UserWarning: The balance properties of Sobol' points require n to be a power of 2.\n",
      "  samples = self.engine.random(n)\n"
     ]
    },
    {
     "name": "stdout",
     "output_type": "stream",
     "text": [
      "Current Monte Carlo Sample size: 300\n",
      "[[ 1.00000003e+00  6.26955414e-01 -4.89102158e-08 -1.49237380e-02]\n",
      " [ 6.26955414e-01  1.00000002e+00  6.94506486e-02 -2.10643385e-08]\n",
      " [-4.89102158e-08  6.94506486e-02  1.00000003e+00  6.45162779e-01]\n",
      " [-1.49237380e-02 -2.10643385e-08  6.45162779e-01  1.00000003e+00]]\n",
      "Step: 3: current parameter_diff: 13.410568673173087, current marginal loglikelihood: -542.8224069294441\n",
      "EM Iteration 4\n"
     ]
    },
    {
     "name": "stderr",
     "output_type": "stream",
     "text": [
      "c:\\Users\\Jesper\\Anaconda3\\lib\\site-packages\\scipy\\stats\\_qmc.py:2039: UserWarning: The balance properties of Sobol' points require n to be a power of 2.\n",
      "  samples = self.engine.random(n)\n"
     ]
    },
    {
     "name": "stdout",
     "output_type": "stream",
     "text": [
      "Current Monte Carlo Sample size: 300\n",
      "[[ 1.00000044e+00  6.63608745e-01 -5.35608013e-07 -1.22646435e-02]\n",
      " [ 6.63608745e-01  9.99999599e-01  2.48468634e-02  3.99299716e-07]\n",
      " [-5.35608013e-07  2.48468634e-02  1.00000033e+00  7.06478099e-01]\n",
      " [-1.22646435e-02  3.99299716e-07  7.06478099e-01  9.99999863e-01]]\n",
      "Step: 4: current parameter_diff: 12.23527644107617, current marginal loglikelihood: -534.5583708082894\n",
      "EM Iteration 5\n"
     ]
    },
    {
     "name": "stderr",
     "output_type": "stream",
     "text": [
      "c:\\Users\\Jesper\\Anaconda3\\lib\\site-packages\\scipy\\stats\\_qmc.py:2039: UserWarning: The balance properties of Sobol' points require n to be a power of 2.\n",
      "  samples = self.engine.random(n)\n"
     ]
    },
    {
     "name": "stdout",
     "output_type": "stream",
     "text": [
      "Current Monte Carlo Sample size: 330\n",
      "[[ 1.00000537e+00  7.22313733e-01 -3.52761327e-06 -1.08415454e-02]\n",
      " [ 7.22313733e-01  1.00000489e+00  2.48092896e-02 -2.72790087e-06]\n",
      " [-3.52761327e-06  2.48092896e-02  1.00000145e+00  7.24763071e-01]\n",
      " [-1.08415454e-02 -2.72790087e-06  7.24763071e-01  1.00000088e+00]]\n",
      "Step: 5: current parameter_diff: 10.37830070772969, current marginal loglikelihood: -534.7025186613711\n",
      "EM Iteration 6\n"
     ]
    },
    {
     "name": "stderr",
     "output_type": "stream",
     "text": [
      "c:\\Users\\Jesper\\Anaconda3\\lib\\site-packages\\scipy\\stats\\_qmc.py:2039: UserWarning: The balance properties of Sobol' points require n to be a power of 2.\n",
      "  samples = self.engine.random(n)\n"
     ]
    },
    {
     "name": "stdout",
     "output_type": "stream",
     "text": [
      "Current Monte Carlo Sample size: 363\n",
      "[[9.99998396e-01 7.21499564e-01 8.06799405e-07 6.99693666e-04]\n",
      " [7.21499564e-01 9.99998480e-01 1.41161881e-02 8.06215979e-07]\n",
      " [8.06799405e-07 1.41161881e-02 9.99999988e-01 7.44691349e-01]\n",
      " [6.99693666e-04 8.06215979e-07 7.44691349e-01 9.99999938e-01]]\n",
      "Step: 6: current parameter_diff: 8.011613821505815, current marginal loglikelihood: -536.2667127737386\n",
      "EM Iteration 7\n"
     ]
    },
    {
     "name": "stderr",
     "output_type": "stream",
     "text": [
      "c:\\Users\\Jesper\\Anaconda3\\lib\\site-packages\\scipy\\stats\\_qmc.py:2039: UserWarning: The balance properties of Sobol' points require n to be a power of 2.\n",
      "  samples = self.engine.random(n)\n"
     ]
    },
    {
     "name": "stdout",
     "output_type": "stream",
     "text": [
      "Current Monte Carlo Sample size: 363\n",
      "[[9.99999545e-01 7.26693682e-01 6.12219661e-08 1.43673361e-03]\n",
      " [7.26693682e-01 9.99999963e-01 5.50294351e-03 1.77460938e-07]\n",
      " [6.12219661e-08 5.50294351e-03 9.99999902e-01 7.50792439e-01]\n",
      " [1.43673361e-03 1.77460938e-07 7.50792439e-01 1.00000023e+00]]\n",
      "Step: 7: current parameter_diff: 7.142757352770705, current marginal loglikelihood: -535.5380385122373\n",
      "Absolute diff in A:\n",
      "[[0.         0.6411085 ]\n",
      " [0.         0.50600903]\n",
      " [0.         0.07817644]\n",
      " [0.39931467 0.        ]\n",
      " [0.40419547 0.        ]\n",
      " [1.09143671 0.        ]\n",
      " [0.54914289 0.        ]\n",
      " [0.82592856 0.        ]\n",
      " [0.27045609 0.        ]\n",
      " [0.63442064 0.        ]\n",
      " [1.14524296 0.51896571]\n",
      " [0.1004675  1.1895044 ]]\n",
      "Absolute diff in delta:\n",
      "[0.01122975 0.49009803 0.15585639 0.3888656  0.32904637 0.25895019\n",
      " 0.12912843 0.86579956 0.00394556 0.64075474 1.37255202 0.81115337]\n",
      "Absolute diff in sigma:\n",
      "[[1.00e-04 1.12e-02]\n",
      " [1.12e-02 0.00e+00]]\n",
      "Absolute diff in A:\n",
      "[[0.         0.12032341]\n",
      " [0.         1.62087718]\n",
      " [0.         1.30486056]\n",
      " [8.15775364 0.        ]\n",
      " [0.16647026 0.        ]\n",
      " [2.20310251 0.        ]\n",
      " [1.55808836 0.        ]\n",
      " [1.22881702 0.46134739]\n",
      " [1.12575652 4.04112852]\n",
      " [1.1485973  0.43791927]\n",
      " [1.1069417  0.22807805]\n",
      " [1.25081786 0.11453074]]\n",
      "Absolute diff in delta:\n",
      "[1.0754696  0.54252526 1.26262048 1.97446553 0.48288484 0.82511984\n",
      " 0.83062937 1.99070076 2.01245723 1.61259871 4.68914102 1.54946655]\n",
      "Absolute diff in A:\n",
      "[[0.         0.05944165]\n",
      " [0.         0.33924548]\n",
      " [0.         0.50032941]\n",
      " [0.71036088 0.        ]\n",
      " [2.7524117  0.        ]\n",
      " [3.42888539 0.        ]\n",
      " [1.6677519  0.        ]\n",
      " [4.02890224 0.        ]\n",
      " [0.40333789 0.        ]\n",
      " [0.55334515 0.        ]\n",
      " [4.04456283 2.04341432]\n",
      " [0.34624212 2.03624274]]\n",
      "Absolute diff in delta:\n",
      "[0.20664335 0.11893078 0.22393209 1.21299021 0.18111158 0.98661487\n",
      " 0.08890128 0.44213757 0.36206522 0.28386031 1.71151134 0.02332945]\n",
      "Absolute diff in sigma:\n",
      "[[0. 0.]\n",
      " [0. 0.]]\n",
      "Absolute diff in A:\n",
      "[[1.         1.14841739]\n",
      " [1.         2.86432404]\n",
      " [1.         3.56379986]\n",
      " [2.92741139 1.        ]\n",
      " [3.1992355  1.        ]\n",
      " [1.81976971 1.        ]\n",
      " [2.57805298 1.        ]\n",
      " [0.83404421 2.26078639]\n",
      " [0.24467836 2.54885219]\n",
      " [2.39528584 2.17567077]\n",
      " [4.14597024 6.57593101]\n",
      " [0.73973027 1.29380121]]\n",
      "Absolute diff in delta:\n",
      "[0.83421944 0.6386062  1.611749   0.20292295 1.05505329 0.74741424\n",
      " 0.77927776 2.36957119 2.4487555  0.60269675 0.34137984 2.10855032]\n",
      "Covariance matrix is good: True\n",
      "EM Iteration 2\n",
      "Current Monte Carlo Sample size: 300\n",
      "[[1.         0.59522752]\n",
      " [0.59522752 1.        ]]\n"
     ]
    },
    {
     "name": "stderr",
     "output_type": "stream",
     "text": [
      "c:\\Users\\Jesper\\Anaconda3\\lib\\site-packages\\scipy\\stats\\_qmc.py:2039: UserWarning: The balance properties of Sobol' points require n to be a power of 2.\n",
      "  samples = self.engine.random(n)\n"
     ]
    },
    {
     "name": "stdout",
     "output_type": "stream",
     "text": [
      "Step: 2: current parameter_diff: 12.131003731274157, current marginal loglikelihood: -597.1285642484168\n",
      "EM Iteration 3\n",
      "Current Monte Carlo Sample size: 300\n",
      "[[1.         0.59283611]\n",
      " [0.59283611 1.        ]]\n"
     ]
    },
    {
     "name": "stderr",
     "output_type": "stream",
     "text": [
      "c:\\Users\\Jesper\\Anaconda3\\lib\\site-packages\\scipy\\stats\\_qmc.py:2039: UserWarning: The balance properties of Sobol' points require n to be a power of 2.\n",
      "  samples = self.engine.random(n)\n"
     ]
    },
    {
     "name": "stdout",
     "output_type": "stream",
     "text": [
      "Step: 3: current parameter_diff: 7.115934582287787, current marginal loglikelihood: -584.3434837635101\n",
      "EM Iteration 4\n",
      "Current Monte Carlo Sample size: 330\n",
      "[[1.         0.57261146]\n",
      " [0.57261146 1.        ]]\n"
     ]
    },
    {
     "name": "stderr",
     "output_type": "stream",
     "text": [
      "c:\\Users\\Jesper\\Anaconda3\\lib\\site-packages\\scipy\\stats\\_qmc.py:2039: UserWarning: The balance properties of Sobol' points require n to be a power of 2.\n",
      "  samples = self.engine.random(n)\n"
     ]
    },
    {
     "name": "stdout",
     "output_type": "stream",
     "text": [
      "Step: 4: current parameter_diff: 5.062553935303843, current marginal loglikelihood: -580.1556733761331\n",
      "EM Iteration 5\n",
      "Current Monte Carlo Sample size: 363\n",
      "[[1.         0.55018476]\n",
      " [0.55018476 1.        ]]\n"
     ]
    },
    {
     "name": "stderr",
     "output_type": "stream",
     "text": [
      "c:\\Users\\Jesper\\Anaconda3\\lib\\site-packages\\scipy\\stats\\_qmc.py:2039: UserWarning: The balance properties of Sobol' points require n to be a power of 2.\n",
      "  samples = self.engine.random(n)\n"
     ]
    },
    {
     "name": "stdout",
     "output_type": "stream",
     "text": [
      "Step: 5: current parameter_diff: 3.9369584262784776, current marginal loglikelihood: -576.738508482282\n",
      "EM Iteration 6\n",
      "Current Monte Carlo Sample size: 399\n",
      "[[1.         0.52120627]\n",
      " [0.52120627 1.        ]]\n"
     ]
    },
    {
     "name": "stderr",
     "output_type": "stream",
     "text": [
      "c:\\Users\\Jesper\\Anaconda3\\lib\\site-packages\\scipy\\stats\\_qmc.py:2039: UserWarning: The balance properties of Sobol' points require n to be a power of 2.\n",
      "  samples = self.engine.random(n)\n"
     ]
    },
    {
     "name": "stdout",
     "output_type": "stream",
     "text": [
      "Step: 6: current parameter_diff: 3.1746497342449995, current marginal loglikelihood: -575.3828561749909\n",
      "Covariance matrix is good: True\n",
      "EM Iteration 2\n",
      "Current Monte Carlo Sample size: 300\n",
      "[[1.         0.59817997]\n",
      " [0.59817997 1.        ]]\n"
     ]
    },
    {
     "name": "stderr",
     "output_type": "stream",
     "text": [
      "c:\\Users\\Jesper\\Anaconda3\\lib\\site-packages\\scipy\\stats\\_qmc.py:2039: UserWarning: The balance properties of Sobol' points require n to be a power of 2.\n",
      "  samples = self.engine.random(n)\n"
     ]
    },
    {
     "name": "stdout",
     "output_type": "stream",
     "text": [
      "Step: 2: current parameter_diff: 23.99143448513836, current marginal loglikelihood: -374.27222587737424\n",
      "EM Iteration 3\n",
      "Current Monte Carlo Sample size: 330\n",
      "[[1.         0.55424505]\n",
      " [0.55424505 1.        ]]\n"
     ]
    },
    {
     "name": "stderr",
     "output_type": "stream",
     "text": [
      "c:\\Users\\Jesper\\Anaconda3\\lib\\site-packages\\scipy\\stats\\_qmc.py:2039: UserWarning: The balance properties of Sobol' points require n to be a power of 2.\n",
      "  samples = self.engine.random(n)\n"
     ]
    },
    {
     "name": "stdout",
     "output_type": "stream",
     "text": [
      "Step: 3: current parameter_diff: 22.12907608305006, current marginal loglikelihood: -345.0855110163272\n",
      "EM Iteration 4\n",
      "Current Monte Carlo Sample size: 330\n",
      "[[1.         0.51563105]\n",
      " [0.51563105 1.        ]]\n"
     ]
    },
    {
     "name": "stderr",
     "output_type": "stream",
     "text": [
      "c:\\Users\\Jesper\\Anaconda3\\lib\\site-packages\\scipy\\stats\\_qmc.py:2039: UserWarning: The balance properties of Sobol' points require n to be a power of 2.\n",
      "  samples = self.engine.random(n)\n"
     ]
    },
    {
     "name": "stdout",
     "output_type": "stream",
     "text": [
      "Step: 4: current parameter_diff: 21.043404242993624, current marginal loglikelihood: -332.1633835897765\n",
      "EM Iteration 5\n",
      "Current Monte Carlo Sample size: 363\n",
      "[[1.         0.46059846]\n",
      " [0.46059846 1.        ]]\n"
     ]
    },
    {
     "name": "stderr",
     "output_type": "stream",
     "text": [
      "c:\\Users\\Jesper\\Anaconda3\\lib\\site-packages\\scipy\\stats\\_qmc.py:2039: UserWarning: The balance properties of Sobol' points require n to be a power of 2.\n",
      "  samples = self.engine.random(n)\n"
     ]
    },
    {
     "name": "stdout",
     "output_type": "stream",
     "text": [
      "Step: 5: current parameter_diff: 18.943095546959924, current marginal loglikelihood: -327.3872593898418\n",
      "EM Iteration 6\n",
      "Current Monte Carlo Sample size: 399\n",
      "[[1.         0.42282758]\n",
      " [0.42282758 1.        ]]\n"
     ]
    },
    {
     "name": "stderr",
     "output_type": "stream",
     "text": [
      "c:\\Users\\Jesper\\Anaconda3\\lib\\site-packages\\scipy\\stats\\_qmc.py:2039: UserWarning: The balance properties of Sobol' points require n to be a power of 2.\n",
      "  samples = self.engine.random(n)\n"
     ]
    },
    {
     "name": "stdout",
     "output_type": "stream",
     "text": [
      "Step: 6: current parameter_diff: 17.9081115896699, current marginal loglikelihood: -325.2043135646346\n",
      "EM Iteration 7\n",
      "Current Monte Carlo Sample size: 438\n",
      "[[1.         0.39719964]\n",
      " [0.39719964 1.        ]]\n"
     ]
    },
    {
     "name": "stderr",
     "output_type": "stream",
     "text": [
      "c:\\Users\\Jesper\\Anaconda3\\lib\\site-packages\\scipy\\stats\\_qmc.py:2039: UserWarning: The balance properties of Sobol' points require n to be a power of 2.\n",
      "  samples = self.engine.random(n)\n"
     ]
    },
    {
     "name": "stdout",
     "output_type": "stream",
     "text": [
      "Step: 7: current parameter_diff: 15.491954304053161, current marginal loglikelihood: -323.15151972082265\n",
      "Absolute diff in A:\n",
      "[[0.         0.65755158]\n",
      " [0.         0.47325411]\n",
      " [0.         0.1526531 ]\n",
      " [0.34075118 0.        ]\n",
      " [0.30110329 0.        ]\n",
      " [1.07669557 0.        ]\n",
      " [0.56175745 0.        ]\n",
      " [0.91356385 0.        ]\n",
      " [0.24877445 0.        ]\n",
      " [0.61682559 0.        ]\n",
      " [1.07793637 0.66919365]\n",
      " [0.18590043 1.04757303]]\n",
      "Absolute diff in delta:\n",
      "[0.01911957 0.47049632 0.15012362 0.42926074 0.25810523 0.18609014\n",
      " 0.13650722 0.80655009 0.00783692 0.59751376 1.26426591 0.74595041]\n",
      "Absolute diff in sigma:\n",
      "[[0.     0.0212]\n",
      " [0.0212 0.    ]]\n",
      "Absolute diff in A:\n",
      "[[0.         0.51975306]\n",
      " [0.         0.65591706]\n",
      " [0.         1.88699739]\n",
      " [2.71785803 0.        ]\n",
      " [1.19210184 0.        ]\n",
      " [0.24392404 0.        ]\n",
      " [0.64006318 0.        ]\n",
      " [1.31867942 1.40057817]\n",
      " [1.13677498 1.7206612 ]\n",
      " [1.73671674 1.50289013]\n",
      " [2.66965994 4.04608039]\n",
      " [1.23356397 0.92098116]]\n",
      "Absolute diff in delta:\n",
      "[1.07884593 0.27916483 1.1496334  1.02353491 0.21357329 0.48472341\n",
      " 0.49800743 1.66829491 0.33012415 1.17476041 2.06397918 1.25394422]\n",
      "EM Iteration 2\n"
     ]
    },
    {
     "name": "stderr",
     "output_type": "stream",
     "text": [
      "c:\\Users\\Jesper\\Anaconda3\\lib\\site-packages\\scipy\\stats\\_qmc.py:2039: UserWarning: The balance properties of Sobol' points require n to be a power of 2.\n",
      "  samples = self.engine.random(n)\n"
     ]
    },
    {
     "name": "stdout",
     "output_type": "stream",
     "text": [
      "Current Monte Carlo Sample size: 300\n",
      "[[ 1.00000035e+00  6.97564741e-01 -1.77647924e-07  1.59891346e-01]\n",
      " [ 6.97564741e-01  1.00000033e+00 -2.52599678e-01 -3.59964570e-07]\n",
      " [-1.77647924e-07 -2.52599678e-01  1.00000007e+00  4.55039656e-01]\n",
      " [ 1.59891346e-01 -3.59964570e-07  4.55039656e-01  1.00000040e+00]]\n",
      "Step: 2: current parameter_diff: 22.090504317829623, current marginal loglikelihood: -608.1427333609538\n",
      "EM Iteration 3\n"
     ]
    },
    {
     "name": "stderr",
     "output_type": "stream",
     "text": [
      "c:\\Users\\Jesper\\Anaconda3\\lib\\site-packages\\scipy\\stats\\_qmc.py:2039: UserWarning: The balance properties of Sobol' points require n to be a power of 2.\n",
      "  samples = self.engine.random(n)\n"
     ]
    },
    {
     "name": "stdout",
     "output_type": "stream",
     "text": [
      "Current Monte Carlo Sample size: 300\n",
      "[[ 9.99999966e-01  4.40635807e-01  1.07070300e-07 -4.34816436e-02]\n",
      " [ 4.40635807e-01  9.99999815e-01  2.22217907e-02  9.84923315e-08]\n",
      " [ 1.07070300e-07  2.22217907e-02  9.99999767e-01  4.25588617e-01]\n",
      " [-4.34816436e-02  9.84923316e-08  4.25588617e-01  9.99999943e-01]]\n",
      "Step: 3: current parameter_diff: 14.217437956681545, current marginal loglikelihood: -611.4636925590014\n",
      "EM Iteration 4\n"
     ]
    },
    {
     "name": "stderr",
     "output_type": "stream",
     "text": [
      "c:\\Users\\Jesper\\Anaconda3\\lib\\site-packages\\scipy\\stats\\_qmc.py:2039: UserWarning: The balance properties of Sobol' points require n to be a power of 2.\n",
      "  samples = self.engine.random(n)\n"
     ]
    },
    {
     "name": "stdout",
     "output_type": "stream",
     "text": [
      "Current Monte Carlo Sample size: 330\n",
      "[[ 1.00000010e+00  4.56998873e-01  6.71339776e-09 -5.17674315e-03]\n",
      " [ 4.56998873e-01  9.99999979e-01  1.79356635e-02  1.55381883e-07]\n",
      " [ 6.71339778e-09  1.79356635e-02  1.00000001e+00  3.65089151e-01]\n",
      " [-5.17674315e-03  1.55381883e-07  3.65089151e-01  9.99999927e-01]]\n",
      "Step: 4: current parameter_diff: 10.121362432037603, current marginal loglikelihood: -575.181768810099\n",
      "EM Iteration 5\n"
     ]
    },
    {
     "name": "stderr",
     "output_type": "stream",
     "text": [
      "c:\\Users\\Jesper\\Anaconda3\\lib\\site-packages\\scipy\\stats\\_qmc.py:2039: UserWarning: The balance properties of Sobol' points require n to be a power of 2.\n",
      "  samples = self.engine.random(n)\n"
     ]
    },
    {
     "name": "stdout",
     "output_type": "stream",
     "text": [
      "Current Monte Carlo Sample size: 363\n",
      "[[ 9.99998945e-01  6.60975985e-01  8.74163945e-07 -3.74069454e-02]\n",
      " [ 6.60975985e-01  1.00000011e+00  1.88222219e-01 -1.34196017e-07]\n",
      " [ 8.74163945e-07  1.88222219e-01  1.00000054e+00  4.19378586e-01]\n",
      " [-3.74069454e-02 -1.34196017e-07  4.19378586e-01  1.00000010e+00]]\n",
      "Step: 5: current parameter_diff: 11.460367097911108, current marginal loglikelihood: -571.0285545311281\n",
      "EM Iteration 6\n"
     ]
    },
    {
     "name": "stderr",
     "output_type": "stream",
     "text": [
      "c:\\Users\\Jesper\\Anaconda3\\lib\\site-packages\\scipy\\stats\\_qmc.py:2039: UserWarning: The balance properties of Sobol' points require n to be a power of 2.\n",
      "  samples = self.engine.random(n)\n"
     ]
    },
    {
     "name": "stdout",
     "output_type": "stream",
     "text": [
      "Current Monte Carlo Sample size: 399\n",
      "[[ 9.99999803e-01  4.51425589e-01  2.20091285e-07 -1.71032043e-01]\n",
      " [ 4.51425589e-01  9.99999828e-01 -7.21101309e-02 -3.57381481e-07]\n",
      " [ 2.20091284e-07 -7.21101309e-02  9.99999432e-01  3.87824671e-01]\n",
      " [-1.71032043e-01 -3.57381481e-07  3.87824671e-01  9.99999625e-01]]\n",
      "Step: 6: current parameter_diff: 8.211152207974376, current marginal loglikelihood: -580.1750314452803\n",
      "EM Iteration 7\n"
     ]
    },
    {
     "name": "stderr",
     "output_type": "stream",
     "text": [
      "c:\\Users\\Jesper\\Anaconda3\\lib\\site-packages\\scipy\\stats\\_qmc.py:2039: UserWarning: The balance properties of Sobol' points require n to be a power of 2.\n",
      "  samples = self.engine.random(n)\n"
     ]
    },
    {
     "name": "stdout",
     "output_type": "stream",
     "text": [
      "Current Monte Carlo Sample size: 399\n",
      "[[ 9.99999730e-01  4.15768413e-01  3.32259814e-07 -3.77011006e-03]\n",
      " [ 4.15768413e-01  9.99999961e-01  4.34414144e-02  9.87216323e-08]\n",
      " [ 3.32259814e-07  4.34414144e-02  9.99999813e-01  3.58942124e-01]\n",
      " [-3.77011006e-03  9.87216323e-08  3.58942124e-01  1.00000000e+00]]\n",
      "Step: 7: current parameter_diff: 7.592264868557817, current marginal loglikelihood: -570.3031287142868\n",
      "EM Iteration 8\n"
     ]
    },
    {
     "name": "stderr",
     "output_type": "stream",
     "text": [
      "c:\\Users\\Jesper\\Anaconda3\\lib\\site-packages\\scipy\\stats\\_qmc.py:2039: UserWarning: The balance properties of Sobol' points require n to be a power of 2.\n",
      "  samples = self.engine.random(n)\n"
     ]
    },
    {
     "name": "stdout",
     "output_type": "stream",
     "text": [
      "Current Monte Carlo Sample size: 399\n",
      "[[ 1.00000002e+00  6.77268425e-01 -2.40764907e-08  9.41369206e-03]\n",
      " [ 6.77268425e-01  9.99999937e-01  3.02305189e-02 -1.40639455e-08]\n",
      " [-2.40764907e-08  3.02305189e-02  1.00000001e+00  3.15656365e-01]\n",
      " [ 9.41369206e-03 -1.40639455e-08  3.15656365e-01  1.00000005e+00]]\n",
      "Step: 8: current parameter_diff: 7.497047909112578, current marginal loglikelihood: -566.6363819959954\n",
      "EM Iteration 9\n"
     ]
    },
    {
     "name": "stderr",
     "output_type": "stream",
     "text": [
      "c:\\Users\\Jesper\\Anaconda3\\lib\\site-packages\\scipy\\stats\\_qmc.py:2039: UserWarning: The balance properties of Sobol' points require n to be a power of 2.\n",
      "  samples = self.engine.random(n)\n"
     ]
    },
    {
     "name": "stdout",
     "output_type": "stream",
     "text": [
      "Current Monte Carlo Sample size: 438\n",
      "[[ 9.99999064e-01  4.46053085e-01  4.24347654e-07 -3.47384976e-02]\n",
      " [ 4.46053085e-01  9.99999256e-01  3.30615553e-02  2.98355787e-07]\n",
      " [ 4.24347654e-07  3.30615553e-02  9.99999844e-01  3.67041835e-01]\n",
      " [-3.47384976e-02  2.98355787e-07  3.67041835e-01  9.99999980e-01]]\n",
      "Step: 9: current parameter_diff: 5.656005787389045, current marginal loglikelihood: -584.0100389845691\n",
      "EM Iteration 10\n"
     ]
    },
    {
     "name": "stderr",
     "output_type": "stream",
     "text": [
      "c:\\Users\\Jesper\\Anaconda3\\lib\\site-packages\\scipy\\stats\\_qmc.py:2039: UserWarning: The balance properties of Sobol' points require n to be a power of 2.\n",
      "  samples = self.engine.random(n)\n"
     ]
    },
    {
     "name": "stdout",
     "output_type": "stream",
     "text": [
      "Current Monte Carlo Sample size: 481\n",
      "[[ 1.00000049e+00  4.11704368e-01  4.34205287e-07 -2.42551321e-02]\n",
      " [ 4.11704368e-01  1.00000024e+00  1.90639438e-02  3.15170815e-07]\n",
      " [ 4.34205287e-07  1.90639438e-02  9.99999818e-01  3.71215304e-01]\n",
      " [-2.42551321e-02  3.15170815e-07  3.71215304e-01  1.00000012e+00]]\n",
      "Step: 10: current parameter_diff: 6.532824039996821, current marginal loglikelihood: -567.0742415605582\n",
      "EM Iteration 11\n"
     ]
    },
    {
     "name": "stderr",
     "output_type": "stream",
     "text": [
      "c:\\Users\\Jesper\\Anaconda3\\lib\\site-packages\\scipy\\stats\\_qmc.py:2039: UserWarning: The balance properties of Sobol' points require n to be a power of 2.\n",
      "  samples = self.engine.random(n)\n"
     ]
    },
    {
     "name": "stdout",
     "output_type": "stream",
     "text": [
      "Current Monte Carlo Sample size: 529\n",
      "[[ 9.99999967e-01  4.32008437e-01  1.05119800e-08 -8.96719523e-03]\n",
      " [ 4.32008437e-01  9.99999973e-01  1.49266337e-02  1.53188043e-08]\n",
      " [ 1.05119800e-08  1.49266337e-02  9.99999993e-01  3.64597902e-01]\n",
      " [-8.96719523e-03  1.53188043e-08  3.64597902e-01  9.99999978e-01]]\n",
      "Step: 11: current parameter_diff: 5.587799704756801, current marginal loglikelihood: -567.3126176222228\n",
      "EM Iteration 12\n"
     ]
    },
    {
     "name": "stderr",
     "output_type": "stream",
     "text": [
      "c:\\Users\\Jesper\\Anaconda3\\lib\\site-packages\\scipy\\stats\\_qmc.py:2039: UserWarning: The balance properties of Sobol' points require n to be a power of 2.\n",
      "  samples = self.engine.random(n)\n"
     ]
    },
    {
     "name": "stdout",
     "output_type": "stream",
     "text": [
      "Current Monte Carlo Sample size: 581\n",
      "[[ 9.99999909e-01  6.97721864e-01  5.31798229e-08 -4.54264777e-03]\n",
      " [ 6.97721864e-01  9.99999938e-01 -5.19534135e-02 -5.21607312e-08]\n",
      " [ 5.31798229e-08 -5.19534135e-02  1.00000016e+00  4.69521638e-01]\n",
      " [-4.54264777e-03 -5.21607313e-08  4.69521638e-01  1.00000014e+00]]\n",
      "Step: 12: current parameter_diff: 6.876225060392128, current marginal loglikelihood: -567.010444198214\n",
      "EM Iteration 13\n"
     ]
    },
    {
     "name": "stderr",
     "output_type": "stream",
     "text": [
      "c:\\Users\\Jesper\\Anaconda3\\lib\\site-packages\\scipy\\stats\\_qmc.py:2039: UserWarning: The balance properties of Sobol' points require n to be a power of 2.\n",
      "  samples = self.engine.random(n)\n"
     ]
    },
    {
     "name": "stdout",
     "output_type": "stream",
     "text": [
      "Current Monte Carlo Sample size: 581\n",
      "[[ 9.99999976e-01  6.12392869e-01  1.49782676e-08 -1.68462317e-02]\n",
      " [ 6.12392869e-01  9.99999972e-01  1.40979079e-02  1.90328001e-08]\n",
      " [ 1.49782676e-08  1.40979079e-02  9.99999982e-01  3.66723564e-01]\n",
      " [-1.68462317e-02  1.90328001e-08  3.66723564e-01  9.99999980e-01]]\n",
      "Step: 13: current parameter_diff: 5.994592900280191, current marginal loglikelihood: -587.0660481515429\n",
      "EM Iteration 14\n"
     ]
    },
    {
     "name": "stderr",
     "output_type": "stream",
     "text": [
      "c:\\Users\\Jesper\\Anaconda3\\lib\\site-packages\\scipy\\stats\\_qmc.py:2039: UserWarning: The balance properties of Sobol' points require n to be a power of 2.\n",
      "  samples = self.engine.random(n)\n"
     ]
    },
    {
     "name": "stdout",
     "output_type": "stream",
     "text": [
      "Current Monte Carlo Sample size: 581\n",
      "[[ 9.99999340e-01  6.38560349e-01  4.56479700e-07 -1.44500434e-02]\n",
      " [ 6.38560349e-01  9.99999386e-01  6.95793742e-03  3.05010178e-07]\n",
      " [ 4.56479700e-07  6.95793742e-03  9.99999887e-01  4.11413752e-01]\n",
      " [-1.44500434e-02  3.05010178e-07  4.11413752e-01  1.00000004e+00]]\n",
      "Step: 14: current parameter_diff: 6.475858222225796, current marginal loglikelihood: -574.0214882242329\n",
      "EM Iteration 15\n"
     ]
    },
    {
     "name": "stderr",
     "output_type": "stream",
     "text": [
      "c:\\Users\\Jesper\\Anaconda3\\lib\\site-packages\\scipy\\stats\\_qmc.py:2039: UserWarning: The balance properties of Sobol' points require n to be a power of 2.\n",
      "  samples = self.engine.random(n)\n"
     ]
    },
    {
     "name": "stdout",
     "output_type": "stream",
     "text": [
      "Current Monte Carlo Sample size: 639\n",
      "[[ 1.00000013e+00  6.64718525e-01 -2.12423856e-07 -1.84282572e-02]\n",
      " [ 6.64718525e-01  9.99999840e-01  1.47735183e-02  1.44858282e-07]\n",
      " [-2.12423856e-07  1.47735183e-02  1.00000013e+00  4.14017316e-01]\n",
      " [-1.84282572e-02  1.44858282e-07  4.14017316e-01  9.99999833e-01]]\n",
      "Step: 15: current parameter_diff: 2.3897264260983, current marginal loglikelihood: -575.4269364211123\n",
      "EM Iteration 16\n"
     ]
    },
    {
     "name": "stderr",
     "output_type": "stream",
     "text": [
      "c:\\Users\\Jesper\\Anaconda3\\lib\\site-packages\\scipy\\stats\\_qmc.py:2039: UserWarning: The balance properties of Sobol' points require n to be a power of 2.\n",
      "  samples = self.engine.random(n)\n"
     ]
    },
    {
     "name": "stdout",
     "output_type": "stream",
     "text": [
      "Current Monte Carlo Sample size: 702\n",
      "[[ 9.99999545e-01  5.91399085e-01  2.06932867e-07 -4.42549583e-03]\n",
      " [ 5.91399085e-01  9.99999544e-01  1.89739240e-02  9.74611594e-08]\n",
      " [ 2.06932867e-07  1.89739240e-02  9.99999940e-01  4.10405015e-01]\n",
      " [-4.42549583e-03  9.74611594e-08  4.10405015e-01  1.00000005e+00]]\n",
      "Step: 16: current parameter_diff: 3.088869958625124, current marginal loglikelihood: -579.1940077148801\n",
      "EM Iteration 17\n"
     ]
    },
    {
     "name": "stderr",
     "output_type": "stream",
     "text": [
      "c:\\Users\\Jesper\\Anaconda3\\lib\\site-packages\\scipy\\stats\\_qmc.py:2039: UserWarning: The balance properties of Sobol' points require n to be a power of 2.\n",
      "  samples = self.engine.random(n)\n"
     ]
    },
    {
     "name": "stdout",
     "output_type": "stream",
     "text": [
      "Current Monte Carlo Sample size: 772\n",
      "[[ 1.00000041e+00  4.64545301e-01 -7.72933802e-07 -1.68519550e-02]\n",
      " [ 4.64545301e-01  9.99999474e-01  7.52526351e-03  6.12744594e-07]\n",
      " [-7.72933802e-07  7.52526351e-03  1.00000042e+00  3.77806709e-01]\n",
      " [-1.68519550e-02  6.12744594e-07  3.77806709e-01  9.99999319e-01]]\n",
      "Step: 17: current parameter_diff: 5.591600065609311, current marginal loglikelihood: -571.1444189184964\n",
      "EM Iteration 18\n"
     ]
    },
    {
     "name": "stderr",
     "output_type": "stream",
     "text": [
      "c:\\Users\\Jesper\\Anaconda3\\lib\\site-packages\\scipy\\stats\\_qmc.py:2039: UserWarning: The balance properties of Sobol' points require n to be a power of 2.\n",
      "  samples = self.engine.random(n)\n"
     ]
    },
    {
     "name": "stdout",
     "output_type": "stream",
     "text": [
      "Current Monte Carlo Sample size: 849\n",
      "[[9.99999980e-01 4.25849364e-01 5.46631044e-09 2.90938132e-03]\n",
      " [4.25849364e-01 9.99999983e-01 1.71721260e-02 9.18936544e-09]\n",
      " [5.46631044e-09 1.71721260e-02 9.99999994e-01 3.51901790e-01]\n",
      " [2.90938132e-03 9.18936544e-09 3.51901790e-01 9.99999989e-01]]\n",
      "Step: 18: current parameter_diff: 3.409477464278613, current marginal loglikelihood: -565.5445185512982\n",
      "EM Iteration 19\n"
     ]
    },
    {
     "name": "stderr",
     "output_type": "stream",
     "text": [
      "c:\\Users\\Jesper\\Anaconda3\\lib\\site-packages\\scipy\\stats\\_qmc.py:2039: UserWarning: The balance properties of Sobol' points require n to be a power of 2.\n",
      "  samples = self.engine.random(n)\n"
     ]
    },
    {
     "name": "stdout",
     "output_type": "stream",
     "text": [
      "Current Monte Carlo Sample size: 933\n",
      "[[ 1.00000477e+00  6.93844340e-01 -2.80533024e-06  3.22136067e-02]\n",
      " [ 6.93844340e-01  1.00000275e+00 -1.19695548e-01 -5.27364363e-07]\n",
      " [-2.80533024e-06 -1.19695548e-01  9.99999965e-01  4.14523856e-01]\n",
      " [ 3.22136067e-02 -5.27364363e-07  4.14523856e-01  9.99999465e-01]]\n",
      "Step: 19: current parameter_diff: 5.272192440414, current marginal loglikelihood: -567.4159784467108\n",
      "EM Iteration 20\n"
     ]
    },
    {
     "name": "stderr",
     "output_type": "stream",
     "text": [
      "c:\\Users\\Jesper\\Anaconda3\\lib\\site-packages\\scipy\\stats\\_qmc.py:2039: UserWarning: The balance properties of Sobol' points require n to be a power of 2.\n",
      "  samples = self.engine.random(n)\n"
     ]
    },
    {
     "name": "stdout",
     "output_type": "stream",
     "text": [
      "Current Monte Carlo Sample size: 933\n",
      "[[ 9.99999448e-01  6.32606206e-01 -2.92562331e-07 -2.36201267e-02]\n",
      " [ 6.32606206e-01  9.99999220e-01  2.72776288e-02  2.91741744e-08]\n",
      " [-2.92562331e-07  2.72776288e-02  1.00000055e+00  4.34288073e-01]\n",
      " [-2.36201267e-02  2.91741744e-08  4.34288073e-01  1.00000077e+00]]\n",
      "Step: 20: current parameter_diff: 3.8266377163796044, current marginal loglikelihood: -587.460099924272\n",
      "EM Iteration 21\n"
     ]
    },
    {
     "name": "stderr",
     "output_type": "stream",
     "text": [
      "c:\\Users\\Jesper\\Anaconda3\\lib\\site-packages\\scipy\\stats\\_qmc.py:2039: UserWarning: The balance properties of Sobol' points require n to be a power of 2.\n",
      "  samples = self.engine.random(n)\n"
     ]
    },
    {
     "name": "stdout",
     "output_type": "stream",
     "text": [
      "Current Monte Carlo Sample size: 933\n",
      "[[ 9.99999931e-01  5.11548280e-01  3.64651008e-08 -3.36537555e-02]\n",
      " [ 5.11548280e-01  9.99999975e-01  1.88154604e-02  9.01765592e-09]\n",
      " [ 3.64651008e-08  1.88154604e-02  9.99999991e-01  3.81551887e-01]\n",
      " [-3.36537555e-02  9.01765592e-09  3.81551887e-01  9.99999993e-01]]\n",
      "Step: 21: current parameter_diff: 3.549754692937851, current marginal loglikelihood: -572.7912821709261\n",
      "EM Iteration 22\n"
     ]
    },
    {
     "name": "stderr",
     "output_type": "stream",
     "text": [
      "c:\\Users\\Jesper\\Anaconda3\\lib\\site-packages\\scipy\\stats\\_qmc.py:2039: UserWarning: The balance properties of Sobol' points require n to be a power of 2.\n",
      "  samples = self.engine.random(n)\n"
     ]
    },
    {
     "name": "stdout",
     "output_type": "stream",
     "text": [
      "Current Monte Carlo Sample size: 1026\n",
      "[[ 9.99999971e-01  4.35113827e-01  1.73512863e-08 -7.57127285e-03]\n",
      " [ 4.35113827e-01  9.99999972e-01  1.31169280e-02  1.65972919e-08]\n",
      " [ 1.73512863e-08  1.31169280e-02  9.99999985e-01  3.60709199e-01]\n",
      " [-7.57127285e-03  1.65972919e-08  3.60709199e-01  9.99999986e-01]]\n",
      "Step: 22: current parameter_diff: 3.769401254629813, current marginal loglikelihood: -566.473666599772\n",
      "EM Iteration 23\n"
     ]
    },
    {
     "name": "stderr",
     "output_type": "stream",
     "text": [
      "c:\\Users\\Jesper\\Anaconda3\\lib\\site-packages\\scipy\\stats\\_qmc.py:2039: UserWarning: The balance properties of Sobol' points require n to be a power of 2.\n",
      "  samples = self.engine.random(n)\n"
     ]
    },
    {
     "name": "stdout",
     "output_type": "stream",
     "text": [
      "Current Monte Carlo Sample size: 1026\n",
      "[[1.00000064e+00 4.11750842e-01 4.77133287e-08 8.73476737e-03]\n",
      " [4.11750842e-01 9.99999845e-01 1.07906662e-02 2.00881560e-07]\n",
      " [4.77133287e-08 1.07906662e-02 9.99999656e-01 3.53449986e-01]\n",
      " [8.73476737e-03 2.00881560e-07 3.53449986e-01 1.00000028e+00]]\n",
      "Step: 23: current parameter_diff: 2.5906026690174047, current marginal loglikelihood: -565.3689993425015\n",
      "EM Iteration 24\n"
     ]
    },
    {
     "name": "stderr",
     "output_type": "stream",
     "text": [
      "c:\\Users\\Jesper\\Anaconda3\\lib\\site-packages\\scipy\\stats\\_qmc.py:2039: UserWarning: The balance properties of Sobol' points require n to be a power of 2.\n",
      "  samples = self.engine.random(n)\n"
     ]
    },
    {
     "name": "stdout",
     "output_type": "stream",
     "text": [
      "Current Monte Carlo Sample size: 1128\n",
      "[[ 1.00000011e+00  3.98025871e-01 -2.32282923e-08 -2.32243363e-02]\n",
      " [ 3.98025871e-01  1.00000023e+00  1.76092383e-02 -1.80278046e-07]\n",
      " [-2.32282923e-08  1.76092383e-02  9.99999955e-01  3.50498857e-01]\n",
      " [-2.32243363e-02 -1.80278046e-07  3.50498857e-01  1.00000003e+00]]\n",
      "Step: 24: current parameter_diff: 3.155176203961693, current marginal loglikelihood: -566.6683575730973\n",
      "EM Iteration 25\n"
     ]
    },
    {
     "name": "stderr",
     "output_type": "stream",
     "text": [
      "c:\\Users\\Jesper\\Anaconda3\\lib\\site-packages\\scipy\\stats\\_qmc.py:2039: UserWarning: The balance properties of Sobol' points require n to be a power of 2.\n",
      "  samples = self.engine.random(n)\n"
     ]
    },
    {
     "name": "stdout",
     "output_type": "stream",
     "text": [
      "Current Monte Carlo Sample size: 1240\n",
      "[[ 1.00000061e+00  6.31674846e-01 -2.38907504e-07 -3.85701899e-03]\n",
      " [ 6.31674846e-01  1.00000056e+00  1.75401995e-02 -2.60652772e-07]\n",
      " [-2.38907504e-07  1.75401995e-02  9.99999835e-01  3.80630551e-01]\n",
      " [-3.85701899e-03 -2.60652772e-07  3.80630551e-01  9.99999809e-01]]\n",
      "Step: 25: current parameter_diff: 3.3856970329913993, current marginal loglikelihood: -565.3252487169309\n"
     ]
    },
    {
     "name": "stderr",
     "output_type": "stream",
     "text": [
      "C:\\Users\\Jesper\\Documents\\GitHub\\Knowledge-Growth-Prediction\\models\\mirt_2pl.py:119: RuntimeWarning: overflow encountered in exp\n",
      "  np.divide(1, np.add(1, np.exp(np.multiply(-1, linear_predictor)))))\n"
     ]
    },
    {
     "name": "stdout",
     "output_type": "stream",
     "text": [
      "Absolute diff in A:\n",
      "[[ 0.          0.13378524]\n",
      " [ 0.          8.18009949]\n",
      " [ 0.          0.59666302]\n",
      " [34.7077873   0.        ]\n",
      " [ 0.77984152  0.        ]\n",
      " [ 1.61067617  0.        ]\n",
      " [ 0.60723955  0.        ]\n",
      " [ 1.03658516  0.60119181]\n",
      " [ 5.16111729 12.60055841]\n",
      " [ 1.42313198  0.72011334]\n",
      " [ 2.47880485  4.09288504]\n",
      " [ 1.07998288  0.187087  ]]\n",
      "Absolute diff in delta:\n",
      "[0.83451185 0.07844164 0.88862037 1.53879609 0.46321215 0.12151644\n",
      " 0.05614638 1.35668625 2.49856747 0.57580106 3.4450168  1.06063445]\n",
      "Real latent covariance: [[ 1.      0.5    -0.      0.3153]\n",
      " [ 0.5     1.      0.2371 -0.    ]\n",
      " [-0.      0.2371  1.      0.5787]\n",
      " [ 0.3153 -0.      0.5787  1.    ]]\n",
      "Covariance matrix is good: True\n",
      "EM Iteration 2\n",
      "Current Monte Carlo Sample size: 300\n",
      "[[1.         0.54523367]\n",
      " [0.54523367 1.        ]]\n"
     ]
    },
    {
     "name": "stderr",
     "output_type": "stream",
     "text": [
      "c:\\Users\\Jesper\\Anaconda3\\lib\\site-packages\\scipy\\stats\\_qmc.py:2039: UserWarning: The balance properties of Sobol' points require n to be a power of 2.\n",
      "  samples = self.engine.random(n)\n"
     ]
    },
    {
     "name": "stdout",
     "output_type": "stream",
     "text": [
      "Step: 2: current parameter_diff: 13.105735759552381, current marginal loglikelihood: -588.641401578166\n",
      "EM Iteration 3\n",
      "Current Monte Carlo Sample size: 300\n",
      "[[1.         0.54313583]\n",
      " [0.54313583 1.        ]]\n"
     ]
    },
    {
     "name": "stderr",
     "output_type": "stream",
     "text": [
      "c:\\Users\\Jesper\\Anaconda3\\lib\\site-packages\\scipy\\stats\\_qmc.py:2039: UserWarning: The balance properties of Sobol' points require n to be a power of 2.\n",
      "  samples = self.engine.random(n)\n"
     ]
    },
    {
     "name": "stdout",
     "output_type": "stream",
     "text": [
      "Step: 3: current parameter_diff: 10.25504620828215, current marginal loglikelihood: -571.53188389528\n",
      "EM Iteration 4\n",
      "Current Monte Carlo Sample size: 330\n",
      "[[1.         0.54008022]\n",
      " [0.54008022 1.        ]]\n"
     ]
    },
    {
     "name": "stderr",
     "output_type": "stream",
     "text": [
      "c:\\Users\\Jesper\\Anaconda3\\lib\\site-packages\\scipy\\stats\\_qmc.py:2039: UserWarning: The balance properties of Sobol' points require n to be a power of 2.\n",
      "  samples = self.engine.random(n)\n"
     ]
    },
    {
     "name": "stdout",
     "output_type": "stream",
     "text": [
      "Step: 4: current parameter_diff: 7.932856364981623, current marginal loglikelihood: -561.9086864009877\n",
      "EM Iteration 5\n",
      "Current Monte Carlo Sample size: 363\n",
      "[[1.         0.48926183]\n",
      " [0.48926183 1.        ]]\n"
     ]
    },
    {
     "name": "stderr",
     "output_type": "stream",
     "text": [
      "c:\\Users\\Jesper\\Anaconda3\\lib\\site-packages\\scipy\\stats\\_qmc.py:2039: UserWarning: The balance properties of Sobol' points require n to be a power of 2.\n",
      "  samples = self.engine.random(n)\n"
     ]
    },
    {
     "name": "stdout",
     "output_type": "stream",
     "text": [
      "Step: 5: current parameter_diff: 6.7857517137006695, current marginal loglikelihood: -557.1590354151645\n",
      "EM Iteration 6\n",
      "Current Monte Carlo Sample size: 399\n",
      "[[1.         0.43862935]\n",
      " [0.43862935 1.        ]]\n"
     ]
    },
    {
     "name": "stderr",
     "output_type": "stream",
     "text": [
      "c:\\Users\\Jesper\\Anaconda3\\lib\\site-packages\\scipy\\stats\\_qmc.py:2039: UserWarning: The balance properties of Sobol' points require n to be a power of 2.\n",
      "  samples = self.engine.random(n)\n"
     ]
    },
    {
     "name": "stdout",
     "output_type": "stream",
     "text": [
      "Step: 6: current parameter_diff: 5.3814035636750415, current marginal loglikelihood: -554.7205869033231\n",
      "EM Iteration 7\n",
      "Current Monte Carlo Sample size: 438\n",
      "[[1.         0.39723462]\n",
      " [0.39723462 1.        ]]\n"
     ]
    },
    {
     "name": "stderr",
     "output_type": "stream",
     "text": [
      "c:\\Users\\Jesper\\Anaconda3\\lib\\site-packages\\scipy\\stats\\_qmc.py:2039: UserWarning: The balance properties of Sobol' points require n to be a power of 2.\n",
      "  samples = self.engine.random(n)\n"
     ]
    },
    {
     "name": "stdout",
     "output_type": "stream",
     "text": [
      "Step: 7: current parameter_diff: 4.697582191657294, current marginal loglikelihood: -553.6727127832132\n",
      "EM Iteration 2\n"
     ]
    },
    {
     "name": "stderr",
     "output_type": "stream",
     "text": [
      "c:\\Users\\Jesper\\Anaconda3\\lib\\site-packages\\scipy\\stats\\_qmc.py:2039: UserWarning: The balance properties of Sobol' points require n to be a power of 2.\n",
      "  samples = self.engine.random(n)\n"
     ]
    },
    {
     "name": "stdout",
     "output_type": "stream",
     "text": [
      "Current Monte Carlo Sample size: 300\n",
      "[[ 1.00000033e+00  7.12368980e-01 -2.78981682e-07 -1.04584807e-01]\n",
      " [ 7.12368980e-01  1.00000108e+00  1.09402672e-01 -2.62804639e-06]\n",
      " [-2.78981682e-07  1.09402672e-01  1.00000074e+00  6.86090965e-01]\n",
      " [-1.04584807e-01 -2.62804639e-06  6.86090965e-01  1.00000206e+00]]\n",
      "Step: 2: current parameter_diff: 29.83816512784273, current marginal loglikelihood: -525.3109054828755\n",
      "EM Iteration 3\n"
     ]
    },
    {
     "name": "stderr",
     "output_type": "stream",
     "text": [
      "c:\\Users\\Jesper\\Anaconda3\\lib\\site-packages\\scipy\\stats\\_qmc.py:2039: UserWarning: The balance properties of Sobol' points require n to be a power of 2.\n",
      "  samples = self.engine.random(n)\n"
     ]
    },
    {
     "name": "stdout",
     "output_type": "stream",
     "text": [
      "Current Monte Carlo Sample size: 300\n",
      "[[ 9.99999762e-01  6.75453255e-01  1.20967126e-07 -3.54997545e-02]\n",
      " [ 6.75453255e-01  9.99999730e-01  7.57226740e-02  1.62265470e-07]\n",
      " [ 1.20967126e-07  7.57226740e-02  1.00000001e+00  6.90615542e-01]\n",
      " [-3.54997545e-02  1.62265470e-07  6.90615542e-01  9.99999992e-01]]\n",
      "Step: 3: current parameter_diff: 21.155520177914752, current marginal loglikelihood: -502.7699273619475\n",
      "EM Iteration 4\n"
     ]
    },
    {
     "name": "stderr",
     "output_type": "stream",
     "text": [
      "c:\\Users\\Jesper\\Anaconda3\\lib\\site-packages\\scipy\\stats\\_qmc.py:2039: UserWarning: The balance properties of Sobol' points require n to be a power of 2.\n",
      "  samples = self.engine.random(n)\n"
     ]
    },
    {
     "name": "stdout",
     "output_type": "stream",
     "text": [
      "Current Monte Carlo Sample size: 330\n",
      "[[ 1.00000066e+00  6.80925380e-01  3.37109951e-07 -9.53936448e-04]\n",
      " [ 6.80925380e-01  9.99998543e-01  4.02119914e-02  5.36768453e-07]\n",
      " [ 3.37109951e-07  4.02119914e-02  9.99999032e-01  6.83086375e-01]\n",
      " [-9.53936448e-04  5.36768453e-07  6.83086375e-01  1.00000103e+00]]\n",
      "Step: 4: current parameter_diff: 16.82806619193049, current marginal loglikelihood: -495.4587643618351\n",
      "EM Iteration 5\n"
     ]
    },
    {
     "name": "stderr",
     "output_type": "stream",
     "text": [
      "c:\\Users\\Jesper\\Anaconda3\\lib\\site-packages\\scipy\\stats\\_qmc.py:2039: UserWarning: The balance properties of Sobol' points require n to be a power of 2.\n",
      "  samples = self.engine.random(n)\n"
     ]
    },
    {
     "name": "stdout",
     "output_type": "stream",
     "text": [
      "Current Monte Carlo Sample size: 330\n",
      "[[9.99996461e-01 6.66628070e-01 2.15652422e-06 1.45373419e-03]\n",
      " [6.66628070e-01 9.99997724e-01 2.64297736e-02 1.33089273e-06]\n",
      " [2.15652422e-06 2.64297736e-02 9.99999626e-01 6.84056504e-01]\n",
      " [1.45373419e-03 1.33089273e-06 6.84056504e-01 9.99999292e-01]]\n",
      "Step: 5: current parameter_diff: 10.908172208469933, current marginal loglikelihood: -494.05347214164976\n",
      "EM Iteration 6\n"
     ]
    },
    {
     "name": "stderr",
     "output_type": "stream",
     "text": [
      "c:\\Users\\Jesper\\Anaconda3\\lib\\site-packages\\scipy\\stats\\_qmc.py:2039: UserWarning: The balance properties of Sobol' points require n to be a power of 2.\n",
      "  samples = self.engine.random(n)\n"
     ]
    },
    {
     "name": "stdout",
     "output_type": "stream",
     "text": [
      "Current Monte Carlo Sample size: 330\n",
      "[[ 9.99999978e-01  6.57092943e-01 -5.07853175e-08  1.74488026e-04]\n",
      " [ 6.57092943e-01  9.99999942e-01  1.96130313e-02  3.59580708e-08]\n",
      " [-5.07853175e-08  1.96130313e-02  1.00000010e+00  6.82911878e-01]\n",
      " [ 1.74488026e-04  3.59580708e-08  6.82911878e-01  9.99999986e-01]]\n",
      "Step: 6: current parameter_diff: 13.547110643612879, current marginal loglikelihood: -493.59656644185344\n",
      "EM Iteration 7\n"
     ]
    },
    {
     "name": "stderr",
     "output_type": "stream",
     "text": [
      "c:\\Users\\Jesper\\Anaconda3\\lib\\site-packages\\scipy\\stats\\_qmc.py:2039: UserWarning: The balance properties of Sobol' points require n to be a power of 2.\n",
      "  samples = self.engine.random(n)\n"
     ]
    },
    {
     "name": "stdout",
     "output_type": "stream",
     "text": [
      "Current Monte Carlo Sample size: 363\n",
      "[[9.99999975e-01 6.45251631e-01 1.87293547e-08 7.26552822e-04]\n",
      " [6.45251631e-01 9.99999969e-01 8.09513609e-03 1.23743646e-08]\n",
      " [1.87293547e-08 8.09513609e-03 9.99999975e-01 6.81662391e-01]\n",
      " [7.26552822e-04 1.23743647e-08 6.81662391e-01 9.99999987e-01]]\n",
      "Step: 7: current parameter_diff: 6.3452096036224335, current marginal loglikelihood: -492.34657218528145\n",
      "Absolute diff in A:\n",
      "[[0.         2.9283777 ]\n",
      " [0.         0.14684548]\n",
      " [0.         1.74880121]\n",
      " [0.         0.23232594]\n",
      " [0.         1.30255458]\n",
      " [0.10403633 0.        ]\n",
      " [0.2171024  0.        ]\n",
      " [0.01476874 0.        ]\n",
      " [2.70271996 0.        ]\n",
      " [6.66516539 0.        ]\n",
      " [2.10948145 0.28155775]\n",
      " [1.04656988 2.82565362]]\n",
      "Absolute diff in delta:\n",
      "[0.0500905  1.24369352 2.1348817  0.47569215 0.36752821 0.08384166\n",
      " 0.10582501 0.08192211 0.5417099  1.24926834 1.10254182 1.70195417]\n",
      "Absolute diff in sigma:\n",
      "[[0.     0.1028]\n",
      " [0.1028 0.    ]]\n",
      "Absolute diff in A:\n",
      "[[0.         0.03409237]\n",
      " [0.         0.80518986]\n",
      " [0.0709134  0.        ]\n",
      " [0.31654108 0.        ]\n",
      " [0.54820321 0.        ]\n",
      " [2.40452932 7.19169164]\n",
      " [1.91681793 4.0005466 ]\n",
      " [2.42317603 4.80296145]\n",
      " [0.73389442 0.40041611]\n",
      " [1.12994066 0.41117177]\n",
      " [0.00928936 0.07332942]\n",
      " [0.68361251 0.42991468]]\n",
      "Absolute diff in delta:\n",
      "[0.49446482 1.44704105 0.13587335 0.62842206 0.9738705  1.95838678\n",
      " 3.45863667 5.84356829 0.88305602 0.95673326 2.32143397 0.09741482]\n",
      "Absolute diff in A:\n",
      "[[0.00000000e+00 7.08447848e+00]\n",
      " [0.00000000e+00 1.93201382e+00]\n",
      " [0.00000000e+00 5.42413127e+00]\n",
      " [0.00000000e+00 1.70418422e+00]\n",
      " [0.00000000e+00 2.78502434e+00]\n",
      " [1.33103166e-03 0.00000000e+00]\n",
      " [7.79678729e-01 0.00000000e+00]\n",
      " [2.86329723e-01 0.00000000e+00]\n",
      " [2.36766015e+00 0.00000000e+00]\n",
      " [1.51319826e+01 0.00000000e+00]\n",
      " [4.65900773e+00 2.67925386e+00]\n",
      " [5.29996086e-01 6.81990778e+00]]\n",
      "Absolute diff in delta:\n",
      "[1.53480848 0.01989621 0.97836461 0.89392983 0.36996065 0.08065866\n",
      " 0.22378179 0.13747358 0.70460674 1.10898875 0.98408684 0.47270861]\n",
      "Absolute diff in sigma:\n",
      "[[0. 0.]\n",
      " [0. 0.]]\n",
      "Absolute diff in A:\n",
      "[[ 1.          1.27479022]\n",
      " [ 1.          1.95859313]\n",
      " [ 2.32585168  1.        ]\n",
      " [ 3.95528557  1.        ]\n",
      " [ 1.92742225  1.        ]\n",
      " [ 1.03252619 18.77914888]\n",
      " [ 1.68231526  4.69716302]\n",
      " [ 7.07925543  1.45709308]\n",
      " [ 2.64615531  0.2768321 ]\n",
      " [ 4.84491882  0.40236929]\n",
      " [ 5.95420235  3.46382532]\n",
      " [ 1.32760128  0.37115243]]\n",
      "Absolute diff in delta:\n",
      "[0.86576715 0.37903748 0.51589919 1.17520158 2.30238087 1.1716687\n",
      " 1.41769014 1.01336218 0.83322004 0.97144157 0.04627137 1.23820095]\n",
      "Covariance matrix is good: True\n",
      "EM Iteration 2\n",
      "Current Monte Carlo Sample size: 300\n",
      "[[1.         0.52304912]\n",
      " [0.52304912 1.        ]]\n"
     ]
    },
    {
     "name": "stderr",
     "output_type": "stream",
     "text": [
      "c:\\Users\\Jesper\\Anaconda3\\lib\\site-packages\\scipy\\stats\\_qmc.py:2039: UserWarning: The balance properties of Sobol' points require n to be a power of 2.\n",
      "  samples = self.engine.random(n)\n"
     ]
    },
    {
     "name": "stdout",
     "output_type": "stream",
     "text": [
      "Step: 2: current parameter_diff: 13.636459028100923, current marginal loglikelihood: -588.8523276169724\n",
      "EM Iteration 3\n",
      "Current Monte Carlo Sample size: 330\n",
      "[[1.         0.52939594]\n",
      " [0.52939594 1.        ]]\n"
     ]
    },
    {
     "name": "stderr",
     "output_type": "stream",
     "text": [
      "c:\\Users\\Jesper\\Anaconda3\\lib\\site-packages\\scipy\\stats\\_qmc.py:2039: UserWarning: The balance properties of Sobol' points require n to be a power of 2.\n",
      "  samples = self.engine.random(n)\n"
     ]
    },
    {
     "name": "stdout",
     "output_type": "stream",
     "text": [
      "Step: 3: current parameter_diff: 9.471986694935989, current marginal loglikelihood: -568.7787312164661\n",
      "EM Iteration 4\n",
      "Current Monte Carlo Sample size: 363\n",
      "[[1.         0.52120309]\n",
      " [0.52120309 1.        ]]\n"
     ]
    },
    {
     "name": "stderr",
     "output_type": "stream",
     "text": [
      "c:\\Users\\Jesper\\Anaconda3\\lib\\site-packages\\scipy\\stats\\_qmc.py:2039: UserWarning: The balance properties of Sobol' points require n to be a power of 2.\n",
      "  samples = self.engine.random(n)\n"
     ]
    },
    {
     "name": "stdout",
     "output_type": "stream",
     "text": [
      "Step: 4: current parameter_diff: 7.955088827068899, current marginal loglikelihood: -562.3479621316303\n",
      "EM Iteration 5\n",
      "Current Monte Carlo Sample size: 399\n",
      "[[1.         0.45933795]\n",
      " [0.45933795 1.        ]]\n"
     ]
    },
    {
     "name": "stderr",
     "output_type": "stream",
     "text": [
      "c:\\Users\\Jesper\\Anaconda3\\lib\\site-packages\\scipy\\stats\\_qmc.py:2039: UserWarning: The balance properties of Sobol' points require n to be a power of 2.\n",
      "  samples = self.engine.random(n)\n"
     ]
    },
    {
     "name": "stdout",
     "output_type": "stream",
     "text": [
      "Step: 5: current parameter_diff: 6.75219574716793, current marginal loglikelihood: -556.0313538270625\n",
      "EM Iteration 6\n",
      "Current Monte Carlo Sample size: 399\n",
      "[[1.         0.41265924]\n",
      " [0.41265924 1.        ]]\n"
     ]
    },
    {
     "name": "stderr",
     "output_type": "stream",
     "text": [
      "c:\\Users\\Jesper\\Anaconda3\\lib\\site-packages\\scipy\\stats\\_qmc.py:2039: UserWarning: The balance properties of Sobol' points require n to be a power of 2.\n",
      "  samples = self.engine.random(n)\n"
     ]
    },
    {
     "name": "stdout",
     "output_type": "stream",
     "text": [
      "Step: 6: current parameter_diff: 5.593278752616385, current marginal loglikelihood: -554.3538385289881\n",
      "EM Iteration 7\n",
      "Current Monte Carlo Sample size: 438\n",
      "[[1.         0.38683207]\n",
      " [0.38683207 1.        ]]\n"
     ]
    },
    {
     "name": "stderr",
     "output_type": "stream",
     "text": [
      "c:\\Users\\Jesper\\Anaconda3\\lib\\site-packages\\scipy\\stats\\_qmc.py:2039: UserWarning: The balance properties of Sobol' points require n to be a power of 2.\n",
      "  samples = self.engine.random(n)\n"
     ]
    },
    {
     "name": "stdout",
     "output_type": "stream",
     "text": [
      "Step: 7: current parameter_diff: 4.51733082659487, current marginal loglikelihood: -555.0242379959094\n",
      "EM Iteration 8\n",
      "Current Monte Carlo Sample size: 481\n",
      "[[1.         0.37172038]\n",
      " [0.37172038 1.        ]]\n",
      "Step: 8: current parameter_diff: 3.186303732487142, current marginal loglikelihood: -554.3512913125296\n",
      "Covariance matrix is good: True\n",
      "EM Iteration 2\n",
      "Current Monte Carlo Sample size: 300\n",
      "[[1.         0.62121599]\n",
      " [0.62121599 1.        ]]\n"
     ]
    },
    {
     "name": "stderr",
     "output_type": "stream",
     "text": [
      "c:\\Users\\Jesper\\Anaconda3\\lib\\site-packages\\scipy\\stats\\_qmc.py:2039: UserWarning: The balance properties of Sobol' points require n to be a power of 2.\n",
      "  samples = self.engine.random(n)\n"
     ]
    },
    {
     "name": "stdout",
     "output_type": "stream",
     "text": [
      "Step: 2: current parameter_diff: 30.63806805233537, current marginal loglikelihood: -332.2629682875195\n",
      "EM Iteration 3\n",
      "Current Monte Carlo Sample size: 330\n",
      "[[1.         0.69892968]\n",
      " [0.69892968 1.        ]]\n"
     ]
    },
    {
     "name": "stderr",
     "output_type": "stream",
     "text": [
      "c:\\Users\\Jesper\\Anaconda3\\lib\\site-packages\\scipy\\stats\\_qmc.py:2039: UserWarning: The balance properties of Sobol' points require n to be a power of 2.\n",
      "  samples = self.engine.random(n)\n"
     ]
    },
    {
     "name": "stdout",
     "output_type": "stream",
     "text": [
      "Step: 3: current parameter_diff: 33.33850569657367, current marginal loglikelihood: -311.34853975596945\n",
      "EM Iteration 4\n",
      "Current Monte Carlo Sample size: 363\n",
      "[[1.         0.73557211]\n",
      " [0.73557211 1.        ]]\n"
     ]
    },
    {
     "name": "stderr",
     "output_type": "stream",
     "text": [
      "c:\\Users\\Jesper\\Anaconda3\\lib\\site-packages\\scipy\\stats\\_qmc.py:2039: UserWarning: The balance properties of Sobol' points require n to be a power of 2.\n",
      "  samples = self.engine.random(n)\n"
     ]
    },
    {
     "name": "stdout",
     "output_type": "stream",
     "text": [
      "Step: 4: current parameter_diff: 30.859122728503074, current marginal loglikelihood: -301.5089534460572\n",
      "EM Iteration 5\n",
      "Current Monte Carlo Sample size: 399\n",
      "[[1.         0.73504334]\n",
      " [0.73504334 1.        ]]\n"
     ]
    },
    {
     "name": "stderr",
     "output_type": "stream",
     "text": [
      "c:\\Users\\Jesper\\Anaconda3\\lib\\site-packages\\scipy\\stats\\_qmc.py:2039: UserWarning: The balance properties of Sobol' points require n to be a power of 2.\n",
      "  samples = self.engine.random(n)\n"
     ]
    },
    {
     "name": "stdout",
     "output_type": "stream",
     "text": [
      "Step: 5: current parameter_diff: 29.77630723052797, current marginal loglikelihood: -297.65535937760694\n",
      "EM Iteration 6\n",
      "Current Monte Carlo Sample size: 438\n",
      "[[1.         0.73645115]\n",
      " [0.73645115 1.        ]]\n"
     ]
    },
    {
     "name": "stderr",
     "output_type": "stream",
     "text": [
      "c:\\Users\\Jesper\\Anaconda3\\lib\\site-packages\\scipy\\stats\\_qmc.py:2039: UserWarning: The balance properties of Sobol' points require n to be a power of 2.\n",
      "  samples = self.engine.random(n)\n"
     ]
    },
    {
     "name": "stdout",
     "output_type": "stream",
     "text": [
      "Step: 6: current parameter_diff: 20.558193992783643, current marginal loglikelihood: -296.3347609851358\n",
      "EM Iteration 7\n",
      "Current Monte Carlo Sample size: 481\n",
      "[[1.     0.7364]\n",
      " [0.7364 1.    ]]\n"
     ]
    },
    {
     "name": "stderr",
     "output_type": "stream",
     "text": [
      "c:\\Users\\Jesper\\Anaconda3\\lib\\site-packages\\scipy\\stats\\_qmc.py:2039: UserWarning: The balance properties of Sobol' points require n to be a power of 2.\n",
      "  samples = self.engine.random(n)\n"
     ]
    },
    {
     "name": "stdout",
     "output_type": "stream",
     "text": [
      "Step: 7: current parameter_diff: 15.104897830239551, current marginal loglikelihood: -295.3524434521267\n"
     ]
    },
    {
     "name": "stderr",
     "output_type": "stream",
     "text": [
      "c:\\Users\\Jesper\\Documents\\GitHub\\Knowledge-Growth-Prediction\\models\\mirt_2pl.py:119: RuntimeWarning: overflow encountered in exp\n",
      "  np.divide(1, np.add(1, np.exp(np.multiply(-1, linear_predictor)))))\n"
     ]
    },
    {
     "name": "stdout",
     "output_type": "stream",
     "text": [
      "Absolute diff in A:\n",
      "[[0.         2.74919049]\n",
      " [0.         0.09450761]\n",
      " [0.         2.45320514]\n",
      " [0.         0.17048745]\n",
      " [0.         1.27454349]\n",
      " [0.12062834 0.        ]\n",
      " [0.12640042 0.        ]\n",
      " [0.02748792 0.        ]\n",
      " [3.26841075 0.        ]\n",
      " [5.63457019 0.        ]\n",
      " [2.22987517 0.27590249]\n",
      " [1.02673652 2.68498549]]\n",
      "Absolute diff in delta:\n",
      "[0.12219861 1.26856696 2.20116772 0.44857239 0.38624894 0.0455439\n",
      " 0.06228627 0.08084124 0.52412752 1.22414755 1.05677224 1.79346056]\n",
      "Absolute diff in sigma:\n",
      "[[0.     0.1283]\n",
      " [0.1283 0.    ]]\n",
      "Absolute diff in A:\n",
      "[[ 0.          0.84043456]\n",
      " [ 0.          0.70586991]\n",
      " [ 0.53184938  0.        ]\n",
      " [ 1.90530668  0.        ]\n",
      " [ 1.35978474  0.        ]\n",
      " [ 0.73549481 11.30861239]\n",
      " [ 0.49008122  0.84178848]\n",
      " [ 0.49419361  2.49720234]\n",
      " [ 1.09053994  1.00349653]\n",
      " [ 2.17295997  0.03941936]\n",
      " [ 3.28714949  1.47586007]\n",
      " [ 0.72476802  0.23838327]]\n",
      "Absolute diff in delta:\n",
      "[0.48061241 1.09898123 0.05710912 0.22284795 0.95090161 0.18130889\n",
      " 1.84549206 3.98593337 0.68143919 0.37464741 0.96846143 0.00882716]\n",
      "EM Iteration 2\n"
     ]
    },
    {
     "name": "stderr",
     "output_type": "stream",
     "text": [
      "c:\\Users\\Jesper\\Anaconda3\\lib\\site-packages\\scipy\\stats\\_qmc.py:2039: UserWarning: The balance properties of Sobol' points require n to be a power of 2.\n",
      "  samples = self.engine.random(n)\n"
     ]
    },
    {
     "name": "stdout",
     "output_type": "stream",
     "text": [
      "Current Monte Carlo Sample size: 300\n",
      "[[ 9.99999815e-01  4.29659252e-01  1.99050364e-07  2.55654488e-01]\n",
      " [ 4.29659252e-01  9.99999866e-01  1.82117196e-01  6.30886270e-09]\n",
      " [ 1.99050364e-07  1.82117196e-01  9.99999952e-01 -1.62298890e-01]\n",
      " [ 2.55654488e-01  6.30886264e-09 -1.62298890e-01  1.00000015e+00]]\n",
      "Step: 2: current parameter_diff: 28.80991456376868, current marginal loglikelihood: -571.2947016855572\n",
      "EM Iteration 3\n"
     ]
    },
    {
     "name": "stderr",
     "output_type": "stream",
     "text": [
      "c:\\Users\\Jesper\\Anaconda3\\lib\\site-packages\\scipy\\stats\\_qmc.py:2039: UserWarning: The balance properties of Sobol' points require n to be a power of 2.\n",
      "  samples = self.engine.random(n)\n"
     ]
    },
    {
     "name": "stdout",
     "output_type": "stream",
     "text": [
      "Current Monte Carlo Sample size: 300\n",
      "[[9.99999675e-01 3.66367652e-01 4.06350903e-07 1.34014538e-01]\n",
      " [3.66367652e-01 9.99999523e-01 1.12831948e-01 8.26740766e-07]\n",
      " [4.06350903e-07 1.12831948e-01 9.99999624e-01 6.08151393e-01]\n",
      " [1.34014538e-01 8.26740766e-07 6.08151393e-01 9.99999279e-01]]\n",
      "Step: 3: current parameter_diff: 22.420121318651926, current marginal loglikelihood: -540.7836944099478\n",
      "EM Iteration 4\n"
     ]
    },
    {
     "name": "stderr",
     "output_type": "stream",
     "text": [
      "c:\\Users\\Jesper\\Anaconda3\\lib\\site-packages\\scipy\\stats\\_qmc.py:2039: UserWarning: The balance properties of Sobol' points require n to be a power of 2.\n",
      "  samples = self.engine.random(n)\n"
     ]
    },
    {
     "name": "stdout",
     "output_type": "stream",
     "text": [
      "Current Monte Carlo Sample size: 300\n",
      "[[ 9.99998940e-01  5.78385114e-01  1.15532867e-07 -1.14934333e-01]\n",
      " [ 5.78385114e-01  9.99999654e-01  3.11419610e-02 -1.69084850e-07]\n",
      " [ 1.15532867e-07  3.11419610e-02  9.99999923e-01  5.38689537e-01]\n",
      " [-1.14934333e-01 -1.69084850e-07  5.38689537e-01  1.00000048e+00]]\n",
      "Step: 4: current parameter_diff: 13.849131547650396, current marginal loglikelihood: -541.2987090953701\n",
      "EM Iteration 5\n"
     ]
    },
    {
     "name": "stderr",
     "output_type": "stream",
     "text": [
      "c:\\Users\\Jesper\\Anaconda3\\lib\\site-packages\\scipy\\stats\\_qmc.py:2039: UserWarning: The balance properties of Sobol' points require n to be a power of 2.\n",
      "  samples = self.engine.random(n)\n"
     ]
    },
    {
     "name": "stdout",
     "output_type": "stream",
     "text": [
      "Current Monte Carlo Sample size: 330\n",
      "[[ 9.99999837e-01  5.56257332e-01  3.75394403e-07 -2.84371953e-03]\n",
      " [ 5.56257332e-01  9.99999478e-01  4.74986878e-02  4.29190026e-07]\n",
      " [ 3.75394403e-07  4.74986878e-02  9.99999890e-01  4.94010846e-01]\n",
      " [-2.84371953e-03  4.29190026e-07  4.94010846e-01  1.00000064e+00]]\n",
      "Step: 5: current parameter_diff: 12.341514956224113, current marginal loglikelihood: -544.6805253957419\n",
      "EM Iteration 6\n"
     ]
    },
    {
     "name": "stderr",
     "output_type": "stream",
     "text": [
      "c:\\Users\\Jesper\\Anaconda3\\lib\\site-packages\\scipy\\stats\\_qmc.py:2039: UserWarning: The balance properties of Sobol' points require n to be a power of 2.\n",
      "  samples = self.engine.random(n)\n"
     ]
    },
    {
     "name": "stdout",
     "output_type": "stream",
     "text": [
      "Current Monte Carlo Sample size: 363\n",
      "[[ 9.99999878e-01  4.88335853e-01  9.76905541e-08 -4.61589246e-02]\n",
      " [ 4.88335853e-01  9.99999887e-01  7.48126554e-02  2.15947621e-07]\n",
      " [ 9.76905541e-08  7.48126554e-02  9.99999992e-01  5.03215773e-01]\n",
      " [-4.61589246e-02  2.15947621e-07  5.03215773e-01  9.99999873e-01]]\n",
      "Step: 6: current parameter_diff: 13.846118949207732, current marginal loglikelihood: -541.8224247978084\n"
     ]
    },
    {
     "name": "stderr",
     "output_type": "stream",
     "text": [
      "C:\\Users\\Jesper\\Documents\\GitHub\\Knowledge-Growth-Prediction\\models\\mirt_2pl.py:119: RuntimeWarning: overflow encountered in exp\n",
      "  np.divide(1, np.add(1, np.exp(np.multiply(-1, linear_predictor)))))\n",
      "c:\\Users\\Jesper\\Documents\\GitHub\\Knowledge-Growth-Prediction\\models\\mirt_2pl_gain.py:299: RuntimeWarning: divide by zero encountered in log\n",
      "  (1-answer_vector), np.log(1-ICC_values + np.float64(1.7976931348623157e-309))) + np.log(latent_density)\n",
      "c:\\Users\\Jesper\\Anaconda3\\lib\\site-packages\\scipy\\optimize\\_numdiff.py:576: RuntimeWarning: invalid value encountered in subtract\n",
      "  df = fun(x) - f0\n",
      "C:\\Users\\Jesper\\Documents\\GitHub\\Knowledge-Growth-Prediction\\models\\mirt_2pl.py:119: RuntimeWarning: overflow encountered in exp\n",
      "  np.divide(1, np.add(1, np.exp(np.multiply(-1, linear_predictor)))))\n",
      "c:\\Users\\Jesper\\Documents\\GitHub\\Knowledge-Growth-Prediction\\models\\mirt_2pl_gain.py:299: RuntimeWarning: divide by zero encountered in log\n",
      "  (1-answer_vector), np.log(1-ICC_values + np.float64(1.7976931348623157e-309))) + np.log(latent_density)\n"
     ]
    },
    {
     "name": "stdout",
     "output_type": "stream",
     "text": [
      "Absolute diff in A:\n",
      "[[0.         0.09900663]\n",
      " [0.         0.29209647]\n",
      " [0.3696064  0.        ]\n",
      " [1.25553223 0.        ]\n",
      " [0.57448735 0.        ]\n",
      " [2.16077734 9.34692427]\n",
      " [1.21022346 1.68808059]\n",
      " [1.03199572 3.5704223 ]\n",
      " [0.98854841 0.5718345 ]\n",
      " [2.34837801 0.26114618]\n",
      " [1.76039349 0.56975473]\n",
      " [0.54163231 0.15464974]]\n",
      "Absolute diff in delta:\n",
      "[1.02390416 1.9745153  0.67042359 1.21509774 1.2847461  4.06288413\n",
      " 5.01349503 7.78025512 1.57658501 1.79380441 3.81309394 0.57173318]\n",
      "Real latent covariance: [[ 1.      0.5     0.      0.0289]\n",
      " [ 0.5     1.     -0.0058  0.    ]\n",
      " [ 0.     -0.0058  1.      0.2766]\n",
      " [ 0.0289  0.      0.2766  1.    ]]\n",
      "Covariance matrix is good: True\n",
      "EM Iteration 2\n",
      "Current Monte Carlo Sample size: 300\n",
      "[[1.         0.60853774]\n",
      " [0.60853774 1.        ]]\n"
     ]
    },
    {
     "name": "stderr",
     "output_type": "stream",
     "text": [
      "c:\\Users\\Jesper\\Anaconda3\\lib\\site-packages\\scipy\\stats\\_qmc.py:2039: UserWarning: The balance properties of Sobol' points require n to be a power of 2.\n",
      "  samples = self.engine.random(n)\n"
     ]
    },
    {
     "name": "stdout",
     "output_type": "stream",
     "text": [
      "Step: 2: current parameter_diff: 13.926965697104762, current marginal loglikelihood: -574.9841868986293\n",
      "EM Iteration 3\n",
      "Current Monte Carlo Sample size: 330\n",
      "[[1.         0.65279765]\n",
      " [0.65279765 1.        ]]\n"
     ]
    },
    {
     "name": "stderr",
     "output_type": "stream",
     "text": [
      "c:\\Users\\Jesper\\Anaconda3\\lib\\site-packages\\scipy\\stats\\_qmc.py:2039: UserWarning: The balance properties of Sobol' points require n to be a power of 2.\n",
      "  samples = self.engine.random(n)\n"
     ]
    },
    {
     "name": "stdout",
     "output_type": "stream",
     "text": [
      "Step: 3: current parameter_diff: 9.701916020229305, current marginal loglikelihood: -563.8163767713886\n",
      "EM Iteration 4\n",
      "Current Monte Carlo Sample size: 363\n",
      "[[1.         0.62679271]\n",
      " [0.62679271 1.        ]]\n"
     ]
    },
    {
     "name": "stderr",
     "output_type": "stream",
     "text": [
      "c:\\Users\\Jesper\\Anaconda3\\lib\\site-packages\\scipy\\stats\\_qmc.py:2039: UserWarning: The balance properties of Sobol' points require n to be a power of 2.\n",
      "  samples = self.engine.random(n)\n"
     ]
    },
    {
     "name": "stdout",
     "output_type": "stream",
     "text": [
      "Step: 4: current parameter_diff: 7.976940808132442, current marginal loglikelihood: -559.2354523702468\n",
      "EM Iteration 5\n",
      "Current Monte Carlo Sample size: 399\n",
      "[[1.         0.60474057]\n",
      " [0.60474057 1.        ]]\n"
     ]
    },
    {
     "name": "stderr",
     "output_type": "stream",
     "text": [
      "c:\\Users\\Jesper\\Anaconda3\\lib\\site-packages\\scipy\\stats\\_qmc.py:2039: UserWarning: The balance properties of Sobol' points require n to be a power of 2.\n",
      "  samples = self.engine.random(n)\n"
     ]
    },
    {
     "name": "stdout",
     "output_type": "stream",
     "text": [
      "Step: 5: current parameter_diff: 6.036048942843926, current marginal loglikelihood: -556.8856411679611\n",
      "EM Iteration 6\n",
      "Current Monte Carlo Sample size: 438\n",
      "[[1.         0.56055422]\n",
      " [0.56055422 1.        ]]\n"
     ]
    },
    {
     "name": "stderr",
     "output_type": "stream",
     "text": [
      "c:\\Users\\Jesper\\Anaconda3\\lib\\site-packages\\scipy\\stats\\_qmc.py:2039: UserWarning: The balance properties of Sobol' points require n to be a power of 2.\n",
      "  samples = self.engine.random(n)\n"
     ]
    },
    {
     "name": "stdout",
     "output_type": "stream",
     "text": [
      "Step: 6: current parameter_diff: 5.3859702136015075, current marginal loglikelihood: -553.2024186315904\n",
      "EM Iteration 2\n"
     ]
    },
    {
     "name": "stderr",
     "output_type": "stream",
     "text": [
      "c:\\Users\\Jesper\\Anaconda3\\lib\\site-packages\\scipy\\stats\\_qmc.py:2039: UserWarning: The balance properties of Sobol' points require n to be a power of 2.\n",
      "  samples = self.engine.random(n)\n"
     ]
    },
    {
     "name": "stdout",
     "output_type": "stream",
     "text": [
      "Current Monte Carlo Sample size: 300\n",
      "[[ 9.99999707e-01  6.14152180e-01  7.54810261e-07  5.93204539e-02]\n",
      " [ 6.14152180e-01  1.00000075e+00 -5.91932900e-03 -8.67582266e-07]\n",
      " [ 7.54810260e-07 -5.91932900e-03  9.99999237e-01  5.25916307e-01]\n",
      " [ 5.93204539e-02 -8.67582266e-07  5.25916307e-01  1.00000060e+00]]\n",
      "Step: 2: current parameter_diff: 14.909532111935974, current marginal loglikelihood: -645.1344224199943\n",
      "EM Iteration 3\n"
     ]
    },
    {
     "name": "stderr",
     "output_type": "stream",
     "text": [
      "c:\\Users\\Jesper\\Anaconda3\\lib\\site-packages\\scipy\\stats\\_qmc.py:2039: UserWarning: The balance properties of Sobol' points require n to be a power of 2.\n",
      "  samples = self.engine.random(n)\n"
     ]
    },
    {
     "name": "stdout",
     "output_type": "stream",
     "text": [
      "Current Monte Carlo Sample size: 300\n",
      "[[ 1.00000022e+00  6.04228622e-01 -1.10356290e-07  5.87345554e-02]\n",
      " [ 6.04228622e-01  1.00000020e+00 -5.45400757e-03 -7.07238435e-08]\n",
      " [-1.10356290e-07 -5.45400757e-03  9.99999924e-01  5.43789991e-01]\n",
      " [ 5.87345554e-02 -7.07238435e-08  5.43789991e-01  1.00000003e+00]]\n",
      "Step: 3: current parameter_diff: 9.102336528735176, current marginal loglikelihood: -614.2368954374523\n",
      "EM Iteration 4\n"
     ]
    },
    {
     "name": "stderr",
     "output_type": "stream",
     "text": [
      "c:\\Users\\Jesper\\Anaconda3\\lib\\site-packages\\scipy\\stats\\_qmc.py:2039: UserWarning: The balance properties of Sobol' points require n to be a power of 2.\n",
      "  samples = self.engine.random(n)\n"
     ]
    },
    {
     "name": "stdout",
     "output_type": "stream",
     "text": [
      "Current Monte Carlo Sample size: 330\n",
      "[[ 9.99999433e-01  5.93913673e-01  3.00888527e-07  6.01467110e-02]\n",
      " [ 5.93913673e-01  9.99999310e-01 -1.30429095e-03  5.45059184e-07]\n",
      " [ 3.00888527e-07 -1.30429095e-03  9.99999798e-01  5.59475518e-01]\n",
      " [ 6.01467110e-02  5.45059184e-07  5.59475518e-01  9.99999524e-01]]\n",
      "Step: 4: current parameter_diff: 6.96825725718871, current marginal loglikelihood: -609.2318746413149\n",
      "EM Iteration 5\n"
     ]
    },
    {
     "name": "stderr",
     "output_type": "stream",
     "text": [
      "c:\\Users\\Jesper\\Anaconda3\\lib\\site-packages\\scipy\\stats\\_qmc.py:2039: UserWarning: The balance properties of Sobol' points require n to be a power of 2.\n",
      "  samples = self.engine.random(n)\n"
     ]
    },
    {
     "name": "stdout",
     "output_type": "stream",
     "text": [
      "Current Monte Carlo Sample size: 363\n",
      "[[ 9.99999973e-01  5.89989213e-01  5.02557003e-08  6.06072755e-02]\n",
      " [ 5.89989213e-01  9.99999962e-01 -7.12780457e-03  3.77495313e-08]\n",
      " [ 5.02557003e-08 -7.12780457e-03  9.99999923e-01  5.75233281e-01]\n",
      " [ 6.06072755e-02  3.77495313e-08  5.75233281e-01  9.99999910e-01]]\n",
      "Step: 5: current parameter_diff: 5.9115047545700055, current marginal loglikelihood: -608.6782051159128\n",
      "EM Iteration 6\n"
     ]
    },
    {
     "name": "stderr",
     "output_type": "stream",
     "text": [
      "c:\\Users\\Jesper\\Anaconda3\\lib\\site-packages\\scipy\\stats\\_qmc.py:2039: UserWarning: The balance properties of Sobol' points require n to be a power of 2.\n",
      "  samples = self.engine.random(n)\n"
     ]
    },
    {
     "name": "stdout",
     "output_type": "stream",
     "text": [
      "Current Monte Carlo Sample size: 399\n",
      "[[ 9.99999309e-01  5.81512332e-01 -4.17274160e-08  5.79125193e-02]\n",
      " [ 5.81512332e-01  1.00000023e+00 -7.24070110e-03  2.75760644e-07]\n",
      " [-4.17274160e-08 -7.24070110e-03  1.00000018e+00  5.90464401e-01]\n",
      " [ 5.79125193e-02  2.75760644e-07  5.90464401e-01  9.99999936e-01]]\n",
      "Step: 6: current parameter_diff: 4.474726643413355, current marginal loglikelihood: -608.9736607086985\n",
      "EM Iteration 7\n"
     ]
    },
    {
     "name": "stderr",
     "output_type": "stream",
     "text": [
      "c:\\Users\\Jesper\\Anaconda3\\lib\\site-packages\\scipy\\stats\\_qmc.py:2039: UserWarning: The balance properties of Sobol' points require n to be a power of 2.\n",
      "  samples = self.engine.random(n)\n"
     ]
    },
    {
     "name": "stdout",
     "output_type": "stream",
     "text": [
      "Current Monte Carlo Sample size: 399\n",
      "[[ 9.99999670e-01  5.79721937e-01  2.58870869e-07  5.91448798e-02]\n",
      " [ 5.79721937e-01  9.99999211e-01 -5.41825648e-03  7.09695262e-07]\n",
      " [ 2.58870869e-07 -5.41825648e-03  9.99999476e-01  6.14677893e-01]\n",
      " [ 5.91448798e-02  7.09695262e-07  6.14677893e-01  9.99999374e-01]]\n",
      "Step: 7: current parameter_diff: 4.314321746149208, current marginal loglikelihood: -607.377541695022\n",
      "Absolute diff in A:\n",
      "[[0.         0.2339378 ]\n",
      " [0.         0.23686355]\n",
      " [0.         0.48078129]\n",
      " [0.         0.39240473]\n",
      " [0.         0.92615104]\n",
      " [0.         0.03481248]\n",
      " [1.48290769 0.        ]\n",
      " [0.16573833 0.        ]\n",
      " [0.33110282 0.        ]\n",
      " [0.91946226 0.85264418]\n",
      " [2.22047509 3.47968149]\n",
      " [0.8485668  0.95948731]]\n",
      "Absolute diff in delta:\n",
      "[0.48529091 0.14899355 0.30585375 0.18277546 0.15478408 0.32147163\n",
      " 0.25088726 0.02081948 0.03426499 0.00630312 0.21538103 0.1325112 ]\n",
      "Absolute diff in sigma:\n",
      "[[0.     0.0605]\n",
      " [0.0605 0.    ]]\n",
      "Absolute diff in A:\n",
      "[[0.         2.5461708 ]\n",
      " [0.         1.05709636]\n",
      " [0.         0.38793965]\n",
      " [0.         0.59786383]\n",
      " [1.87137183 0.        ]\n",
      " [0.04910783 0.        ]\n",
      " [0.59570777 0.        ]\n",
      " [0.23980298 0.        ]\n",
      " [0.27659993 0.        ]\n",
      " [0.59796915 0.48567734]\n",
      " [1.97059496 4.3799711 ]\n",
      " [0.53637347 0.73432811]]\n",
      "Absolute diff in delta:\n",
      "[0.28366082 0.55865132 0.76287069 0.32791194 1.06541894 0.28832514\n",
      " 0.51363896 0.07048713 1.75104244 0.67013772 0.28419395 2.7462161 ]\n",
      "Absolute diff in A:\n",
      "[[0.         0.80902698]\n",
      " [0.         3.5846168 ]\n",
      " [0.         0.35659438]\n",
      " [0.         0.23917404]\n",
      " [0.         1.06589218]\n",
      " [0.         0.53599583]\n",
      " [3.26365951 0.        ]\n",
      " [1.3208222  0.        ]\n",
      " [1.43534725 0.        ]\n",
      " [2.14240314 1.42145082]\n",
      " [3.74768788 2.90172711]\n",
      " [4.67928762 0.93451169]]\n",
      "Absolute diff in delta:\n",
      "[0.12611074 0.82922809 0.54008235 0.15833241 0.53044276 0.03714001\n",
      " 0.02958069 0.70197339 0.24303785 0.0440107  0.77414173 1.66968734]\n",
      "Absolute diff in sigma:\n",
      "[[0. 0.]\n",
      " [0. 0.]]\n",
      "Absolute diff in A:\n",
      "[[1.         5.59839417]\n",
      " [1.         3.32591014]\n",
      " [1.         1.76949099]\n",
      " [1.         1.77056119]\n",
      " [2.15620817 1.        ]\n",
      " [0.45736243 1.        ]\n",
      " [1.40191561 1.        ]\n",
      " [0.38287339 1.        ]\n",
      " [3.18688649 1.        ]\n",
      " [0.58904642 1.34561322]\n",
      " [2.41253562 6.25341796]\n",
      " [5.81121154 0.38527505]]\n",
      "Absolute diff in delta:\n",
      "[1.35814943 0.06957641 0.92305268 0.4959365  0.59032727 0.52993357\n",
      " 1.02105417 1.09103153 1.55839376 0.96744791 0.70924276 0.18199626]\n",
      "Covariance matrix is good: True\n",
      "EM Iteration 2\n",
      "Current Monte Carlo Sample size: 300\n",
      "[[1.         0.61312938]\n",
      " [0.61312938 1.        ]]\n"
     ]
    },
    {
     "name": "stderr",
     "output_type": "stream",
     "text": [
      "c:\\Users\\Jesper\\Anaconda3\\lib\\site-packages\\scipy\\stats\\_qmc.py:2039: UserWarning: The balance properties of Sobol' points require n to be a power of 2.\n",
      "  samples = self.engine.random(n)\n"
     ]
    },
    {
     "name": "stdout",
     "output_type": "stream",
     "text": [
      "Step: 2: current parameter_diff: 13.529589252737765, current marginal loglikelihood: -574.9652930557579\n",
      "EM Iteration 3\n",
      "Current Monte Carlo Sample size: 330\n",
      "[[1.         0.66090889]\n",
      " [0.66090889 1.        ]]\n"
     ]
    },
    {
     "name": "stderr",
     "output_type": "stream",
     "text": [
      "c:\\Users\\Jesper\\Anaconda3\\lib\\site-packages\\scipy\\stats\\_qmc.py:2039: UserWarning: The balance properties of Sobol' points require n to be a power of 2.\n",
      "  samples = self.engine.random(n)\n"
     ]
    },
    {
     "name": "stdout",
     "output_type": "stream",
     "text": [
      "Step: 3: current parameter_diff: 9.768644459959253, current marginal loglikelihood: -563.8544515150348\n",
      "EM Iteration 4\n",
      "Current Monte Carlo Sample size: 330\n",
      "[[1.         0.62079594]\n",
      " [0.62079594 1.        ]]\n"
     ]
    },
    {
     "name": "stderr",
     "output_type": "stream",
     "text": [
      "c:\\Users\\Jesper\\Anaconda3\\lib\\site-packages\\scipy\\stats\\_qmc.py:2039: UserWarning: The balance properties of Sobol' points require n to be a power of 2.\n",
      "  samples = self.engine.random(n)\n"
     ]
    },
    {
     "name": "stdout",
     "output_type": "stream",
     "text": [
      "Step: 4: current parameter_diff: 7.982393026975286, current marginal loglikelihood: -559.1761469501294\n",
      "EM Iteration 5\n",
      "Current Monte Carlo Sample size: 330\n",
      "[[1.         0.59032648]\n",
      " [0.59032648 1.        ]]\n"
     ]
    },
    {
     "name": "stderr",
     "output_type": "stream",
     "text": [
      "c:\\Users\\Jesper\\Anaconda3\\lib\\site-packages\\scipy\\stats\\_qmc.py:2039: UserWarning: The balance properties of Sobol' points require n to be a power of 2.\n",
      "  samples = self.engine.random(n)\n"
     ]
    },
    {
     "name": "stdout",
     "output_type": "stream",
     "text": [
      "Step: 5: current parameter_diff: 6.414581803822712, current marginal loglikelihood: -556.0335109846171\n",
      "EM Iteration 6\n",
      "Current Monte Carlo Sample size: 363\n",
      "[[1.         0.54773993]\n",
      " [0.54773993 1.        ]]\n"
     ]
    },
    {
     "name": "stderr",
     "output_type": "stream",
     "text": [
      "c:\\Users\\Jesper\\Anaconda3\\lib\\site-packages\\scipy\\stats\\_qmc.py:2039: UserWarning: The balance properties of Sobol' points require n to be a power of 2.\n",
      "  samples = self.engine.random(n)\n"
     ]
    },
    {
     "name": "stdout",
     "output_type": "stream",
     "text": [
      "Step: 6: current parameter_diff: 5.02112755341037, current marginal loglikelihood: -554.7771409672985\n",
      "Covariance matrix is good: True\n",
      "EM Iteration 2\n",
      "Current Monte Carlo Sample size: 300\n",
      "[[1.         0.56434346]\n",
      " [0.56434346 1.        ]]\n"
     ]
    },
    {
     "name": "stderr",
     "output_type": "stream",
     "text": [
      "c:\\Users\\Jesper\\Anaconda3\\lib\\site-packages\\scipy\\stats\\_qmc.py:2039: UserWarning: The balance properties of Sobol' points require n to be a power of 2.\n",
      "  samples = self.engine.random(n)\n"
     ]
    },
    {
     "name": "stdout",
     "output_type": "stream",
     "text": [
      "Step: 2: current parameter_diff: 17.211080003158397, current marginal loglikelihood: -434.2733162629215\n",
      "EM Iteration 3\n",
      "Current Monte Carlo Sample size: 300\n",
      "[[1.         0.57643864]\n",
      " [0.57643864 1.        ]]\n"
     ]
    },
    {
     "name": "stderr",
     "output_type": "stream",
     "text": [
      "c:\\Users\\Jesper\\Anaconda3\\lib\\site-packages\\scipy\\stats\\_qmc.py:2039: UserWarning: The balance properties of Sobol' points require n to be a power of 2.\n",
      "  samples = self.engine.random(n)\n"
     ]
    },
    {
     "name": "stdout",
     "output_type": "stream",
     "text": [
      "Step: 3: current parameter_diff: 15.733087981606268, current marginal loglikelihood: -418.13511714848505\n",
      "EM Iteration 4\n",
      "Current Monte Carlo Sample size: 330\n",
      "[[1.         0.53057219]\n",
      " [0.53057219 1.        ]]\n"
     ]
    },
    {
     "name": "stderr",
     "output_type": "stream",
     "text": [
      "c:\\Users\\Jesper\\Anaconda3\\lib\\site-packages\\scipy\\stats\\_qmc.py:2039: UserWarning: The balance properties of Sobol' points require n to be a power of 2.\n",
      "  samples = self.engine.random(n)\n"
     ]
    },
    {
     "name": "stdout",
     "output_type": "stream",
     "text": [
      "Step: 4: current parameter_diff: 13.454383920059517, current marginal loglikelihood: -410.6126203416816\n",
      "EM Iteration 5\n",
      "Current Monte Carlo Sample size: 363\n",
      "[[1.         0.49891558]\n",
      " [0.49891558 1.        ]]\n"
     ]
    },
    {
     "name": "stderr",
     "output_type": "stream",
     "text": [
      "c:\\Users\\Jesper\\Anaconda3\\lib\\site-packages\\scipy\\stats\\_qmc.py:2039: UserWarning: The balance properties of Sobol' points require n to be a power of 2.\n",
      "  samples = self.engine.random(n)\n"
     ]
    },
    {
     "name": "stdout",
     "output_type": "stream",
     "text": [
      "Step: 5: current parameter_diff: 10.348877046053147, current marginal loglikelihood: -408.9857143874685\n",
      "EM Iteration 6\n",
      "Current Monte Carlo Sample size: 399\n",
      "[[1.         0.47903621]\n",
      " [0.47903621 1.        ]]\n"
     ]
    },
    {
     "name": "stderr",
     "output_type": "stream",
     "text": [
      "c:\\Users\\Jesper\\Anaconda3\\lib\\site-packages\\scipy\\stats\\_qmc.py:2039: UserWarning: The balance properties of Sobol' points require n to be a power of 2.\n",
      "  samples = self.engine.random(n)\n"
     ]
    },
    {
     "name": "stdout",
     "output_type": "stream",
     "text": [
      "Step: 6: current parameter_diff: 8.01704664460162, current marginal loglikelihood: -407.12951125469857\n",
      "EM Iteration 7\n",
      "Current Monte Carlo Sample size: 399\n",
      "[[1.         0.42331129]\n",
      " [0.42331129 1.        ]]\n"
     ]
    },
    {
     "name": "stderr",
     "output_type": "stream",
     "text": [
      "c:\\Users\\Jesper\\Anaconda3\\lib\\site-packages\\scipy\\stats\\_qmc.py:2039: UserWarning: The balance properties of Sobol' points require n to be a power of 2.\n",
      "  samples = self.engine.random(n)\n"
     ]
    },
    {
     "name": "stdout",
     "output_type": "stream",
     "text": [
      "Step: 7: current parameter_diff: 7.254599367924161, current marginal loglikelihood: -406.24263194815313\n",
      "Absolute diff in A:\n",
      "[[0.         0.3831267 ]\n",
      " [0.         0.20925617]\n",
      " [0.         0.45974796]\n",
      " [0.         0.44069176]\n",
      " [0.         1.01948256]\n",
      " [0.         0.104766  ]\n",
      " [1.49977783 0.        ]\n",
      " [0.12140933 0.        ]\n",
      " [0.41375487 0.        ]\n",
      " [1.01050115 0.9595676 ]\n",
      " [2.02269863 3.55674946]\n",
      " [1.07093828 0.85255509]]\n",
      "Absolute diff in delta:\n",
      "[0.49445798 0.17379429 0.28817665 0.19904805 0.12595764 0.3453414\n",
      " 0.2731098  0.04826136 0.06695878 0.10490704 0.10296294 0.01666725]\n",
      "Absolute diff in sigma:\n",
      "[[0.     0.0477]\n",
      " [0.0477 0.    ]]\n",
      "Absolute diff in A:\n",
      "[[0.         3.67877158]\n",
      " [0.         2.16531892]\n",
      " [0.         1.34755302]\n",
      " [0.         0.70341018]\n",
      " [0.30736841 0.        ]\n",
      " [0.76991612 0.        ]\n",
      " [1.24704906 0.        ]\n",
      " [0.18855788 0.        ]\n",
      " [1.66054274 0.        ]\n",
      " [0.97297837 1.37188565]\n",
      " [2.35828551 5.51588989]\n",
      " [1.72151333 1.0098235 ]]\n",
      "Absolute diff in delta:\n",
      "[0.09968118 1.10075012 1.00931776 0.6125328  1.17699599 0.34884198\n",
      " 0.65584071 0.01437008 1.86025969 0.71731979 0.28790468 3.72506912]\n",
      "EM Iteration 2\n"
     ]
    },
    {
     "name": "stderr",
     "output_type": "stream",
     "text": [
      "c:\\Users\\Jesper\\Anaconda3\\lib\\site-packages\\scipy\\stats\\_qmc.py:2039: UserWarning: The balance properties of Sobol' points require n to be a power of 2.\n",
      "  samples = self.engine.random(n)\n"
     ]
    },
    {
     "name": "stdout",
     "output_type": "stream",
     "text": [
      "Current Monte Carlo Sample size: 300\n",
      "[[ 1.00000003e+00  6.30069474e-01 -4.40578076e-09  1.56339314e-01]\n",
      " [ 6.30069474e-01  1.00000001e+00 -3.35281967e-02  8.40121657e-09]\n",
      " [-4.40578074e-09 -3.35281967e-02  9.99999992e-01  5.97160173e-01]\n",
      " [ 1.56339314e-01  8.40121647e-09  5.97160173e-01  9.99999979e-01]]\n",
      "Step: 2: current parameter_diff: 12.78125087180937, current marginal loglikelihood: -709.0660881295845\n",
      "EM Iteration 3\n"
     ]
    },
    {
     "name": "stderr",
     "output_type": "stream",
     "text": [
      "c:\\Users\\Jesper\\Anaconda3\\lib\\site-packages\\scipy\\stats\\_qmc.py:2039: UserWarning: The balance properties of Sobol' points require n to be a power of 2.\n",
      "  samples = self.engine.random(n)\n"
     ]
    },
    {
     "name": "stdout",
     "output_type": "stream",
     "text": [
      "Current Monte Carlo Sample size: 300\n",
      "[[ 1.00000017e+00  6.23500813e-01  8.89122896e-08 -8.61564667e-02]\n",
      " [ 6.23500813e-01  9.99999840e-01  7.04066569e-02 -3.55737249e-08]\n",
      " [ 8.89122896e-08  7.04066569e-02  9.99999697e-01  5.20827212e-01]\n",
      " [-8.61564667e-02 -3.55737249e-08  5.20827212e-01  1.00000041e+00]]\n",
      "Step: 3: current parameter_diff: 8.428514226569161, current marginal loglikelihood: -681.8575365774723\n",
      "EM Iteration 4\n"
     ]
    },
    {
     "name": "stderr",
     "output_type": "stream",
     "text": [
      "c:\\Users\\Jesper\\Anaconda3\\lib\\site-packages\\scipy\\stats\\_qmc.py:2039: UserWarning: The balance properties of Sobol' points require n to be a power of 2.\n",
      "  samples = self.engine.random(n)\n"
     ]
    },
    {
     "name": "stdout",
     "output_type": "stream",
     "text": [
      "Current Monte Carlo Sample size: 330\n",
      "[[ 9.99999074e-01  5.10670781e-01  1.07094387e-06 -8.35818335e-02]\n",
      " [ 5.10670781e-01  9.99999276e-01  3.17867421e-02  4.66159934e-07]\n",
      " [ 1.07094387e-06  3.17867421e-02  1.00000013e+00  4.76313588e-01]\n",
      " [-8.35818335e-02  4.66159934e-07  4.76313588e-01  1.00000045e+00]]\n",
      "Step: 4: current parameter_diff: 6.215501717685059, current marginal loglikelihood: -669.3058639319498\n",
      "EM Iteration 5\n"
     ]
    },
    {
     "name": "stderr",
     "output_type": "stream",
     "text": [
      "c:\\Users\\Jesper\\Anaconda3\\lib\\site-packages\\scipy\\stats\\_qmc.py:2039: UserWarning: The balance properties of Sobol' points require n to be a power of 2.\n",
      "  samples = self.engine.random(n)\n"
     ]
    },
    {
     "name": "stdout",
     "output_type": "stream",
     "text": [
      "Current Monte Carlo Sample size: 363\n",
      "[[ 9.99999674e-01  4.81631276e-01  2.42309856e-07 -4.13824110e-02]\n",
      " [ 4.81631276e-01  9.99999552e-01  5.11977044e-02  3.90963295e-07]\n",
      " [ 2.42309856e-07  5.11977044e-02  9.99999743e-01  4.40470400e-01]\n",
      " [-4.13824110e-02  3.90963295e-07  4.40470400e-01  9.99999906e-01]]\n",
      "Step: 5: current parameter_diff: 5.420415821932998, current marginal loglikelihood: -663.5047846617082\n",
      "EM Iteration 6\n"
     ]
    },
    {
     "name": "stderr",
     "output_type": "stream",
     "text": [
      "c:\\Users\\Jesper\\Anaconda3\\lib\\site-packages\\scipy\\stats\\_qmc.py:2039: UserWarning: The balance properties of Sobol' points require n to be a power of 2.\n",
      "  samples = self.engine.random(n)\n"
     ]
    },
    {
     "name": "stdout",
     "output_type": "stream",
     "text": [
      "Current Monte Carlo Sample size: 363\n",
      "[[ 9.99999667e-01  5.04016714e-01 -2.45166370e-07 -8.51538753e-02]\n",
      " [ 5.04016714e-01  9.99999839e-01  6.52156470e-02 -1.31445150e-06]\n",
      " [-2.45166369e-07  6.52156470e-02  1.00000125e+00  4.70786238e-01]\n",
      " [-8.51538753e-02 -1.31445150e-06  4.70786238e-01  1.00000229e+00]]\n",
      "Step: 6: current parameter_diff: 8.28097517145015, current marginal loglikelihood: -660.7793337452493\n",
      "EM Iteration 7\n"
     ]
    },
    {
     "name": "stderr",
     "output_type": "stream",
     "text": [
      "c:\\Users\\Jesper\\Anaconda3\\lib\\site-packages\\scipy\\stats\\_qmc.py:2039: UserWarning: The balance properties of Sobol' points require n to be a power of 2.\n",
      "  samples = self.engine.random(n)\n"
     ]
    },
    {
     "name": "stdout",
     "output_type": "stream",
     "text": [
      "Current Monte Carlo Sample size: 399\n",
      "[[ 9.99999982e-01  5.09012989e-01  4.11497352e-08 -4.15484605e-02]\n",
      " [ 5.09012989e-01  9.99999946e-01  3.09757402e-02  8.01921441e-08]\n",
      " [ 4.11497352e-08  3.09757402e-02  9.99999968e-01  4.66909458e-01]\n",
      " [-4.15484605e-02  8.01921441e-08  4.66909458e-01  9.99999942e-01]]\n",
      "Step: 7: current parameter_diff: 4.410967400268483, current marginal loglikelihood: -659.2230408754169\n",
      "EM Iteration 8\n"
     ]
    },
    {
     "name": "stderr",
     "output_type": "stream",
     "text": [
      "c:\\Users\\Jesper\\Anaconda3\\lib\\site-packages\\scipy\\stats\\_qmc.py:2039: UserWarning: The balance properties of Sobol' points require n to be a power of 2.\n",
      "  samples = self.engine.random(n)\n"
     ]
    },
    {
     "name": "stdout",
     "output_type": "stream",
     "text": [
      "Current Monte Carlo Sample size: 438\n",
      "[[ 9.99999591e-01  4.85623204e-01  4.35303837e-07 -2.66259455e-02]\n",
      " [ 4.85623204e-01  9.99998562e-01  2.90225688e-02  1.44554163e-06]\n",
      " [ 4.35303837e-07  2.90225688e-02  1.00000016e+00  3.91330743e-01]\n",
      " [-2.66259455e-02  1.44554163e-06  3.91330743e-01  9.99999166e-01]]\n",
      "Step: 8: current parameter_diff: 5.099608605271565, current marginal loglikelihood: -655.1438215636597\n",
      "Absolute diff in A:\n",
      "[[0.         3.17654267]\n",
      " [0.         0.95515839]\n",
      " [0.         0.80136214]\n",
      " [0.         0.67044646]\n",
      " [2.18090395 0.        ]\n",
      " [0.35022006 0.        ]\n",
      " [0.69404921 0.        ]\n",
      " [0.09725924 0.        ]\n",
      " [0.91793264 0.        ]\n",
      " [0.49351154 0.31107916]\n",
      " [1.75861652 4.47806428]\n",
      " [0.61855577 0.52565778]]\n",
      "Absolute diff in delta:\n",
      "[0.18299515 1.13522217 0.76093227 0.69455687 1.31453947 0.29126279\n",
      " 0.44644955 0.06699631 1.67498944 0.64839231 0.08147183 2.11364473]\n"
     ]
    }
   ],
   "source": [
    "experiment_1_1 = lambda: mirt_simulation_experiment(sample_size=100, item_dimension=12, latent_dimension=2,\n",
    "                                            q_type=\"full\", stop_threshold=5, person_method=\"BFGS\",\n",
    "                                            sigma_constraint=\"unconstrained\")\n",
    "result_dict = repeat_mirt_experiment(experiment_1_1, 5)"
   ]
  },
  {
   "cell_type": "code",
   "execution_count": 8,
   "metadata": {},
   "outputs": [
    {
     "name": "stdout",
     "output_type": "stream",
     "text": [
      "------------------------------------\n",
      "##### Results for Additional convolution constraint\n",
      "Latent dimension: 2.0,  Item dimension: 12.0, sample size 100.0 \\\n",
      "Early runtime: 3.42 seconds, 7.6 steps, 0.45 seconds per step \\\n",
      "Late runtime: 29.39 seconds, 7.8 steps, 3.77 seconds per step \\\n",
      "Early Marginal Likelihood, Optimal: -580.47, Estimated: -567.28, Initial -639.6 \\\n",
      "Late Marginal Likelihood, Optimal: -573.6, Estimated: -570.7, Initial -707.39\n",
      "| method     |   early_A |   early_delta |   early_sigma |   late_A |   late_delta |   late_sigma |       psi |\n",
      "|:-----------|----------:|--------------:|--------------:|---------:|-------------:|-------------:|----------:|\n",
      "| difference |   1.03044 |      0.760531 |     0.0479136 |  2.06243 |      1.23732 |     0.140581 | 0.0933575 |\n",
      "| initial    |   2.49991 |      0.648914 |     0         |  3.30147 |      1.18052 |     0.32459  | 0.450865  |\n",
      "| late_em    |   1.09576 |      0.792643 |     0.0443073 |  1.92868 |      1.85276 |     0.422213 | 0.15992   |\n",
      "| real_early | nan       |    nan        |   nan         |  3.1439  |      2.1535  |     0.266169 | 0.151401  |\n",
      "####\n",
      "Performance on Individual Level \\\n",
      "rmse theta: 0.5192873241157746 \\\n",
      "rmse gain: 0.8338687719528812\n"
     ]
    }
   ],
   "source": [
    "result_df = get_result_df(result_dict)\n",
    "print_result_from_df(result_df, description=\"Additional convolution constraint\")"
   ]
  },
  {
   "cell_type": "markdown",
   "metadata": {},
   "source": [
    "\n",
    "------------------------------------\n",
    "##### Results for Monte Carlo sample varying through ttest with normal MC\n",
    "Latent dimension: 1,  Item dimension: 20, sample size 1000 \\\n",
    "Runtime: 37.86 seconds, 20 steps, 1.89 seconds per step \\\n",
    "Optimal marginal Likelihood: -8714.19, Estimated: -8697.21, Initial -9512.15\n",
    "|               |   rmse_A |   rmse_delta |   rmse_sigma |\n",
    "|:--------------|---------:|-------------:|-------------:|\n",
    "| estimated     | 0.182642 |     0.211132 |            0 |\n",
    "| early_initial | 1.69549  |     1.49975  |            0 |\n",
    "| girth         | 0.313235 |     4.2295   |            0 |\n",
    "\n",
    "------------------------------------\n",
    "##### Results for Unsafe Q-Item\n",
    "Latent dimension: 2.0,  Item dimension: 12.0, sample size 100.0 \\\n",
    "Early runtime: 2.83 seconds, 6.666666666666667 steps, 0.42 seconds per step \\\n",
    "Late runtime: 89.06 seconds, 8.0 steps, 11.13 seconds per step \\\n",
    "Early Marginal Likelihood, Optimal: -588.95, Estimated: -577.35, Initial -651.28 \\\n",
    "Late Marginal Likelihood, Optimal: -503.73, Estimated: -493.19, Initial -594.28\n",
    "| method   |   early_A |   early_delta |   early_sigma |   late_A |   late_delta |   late_sigma |      psi |\n",
    "|:---------|----------:|--------------:|--------------:|---------:|-------------:|-------------:|---------:|\n",
    "| initial  |  2.45062  |      0.659433 |     0.221324  |  4.21137 |      1.32515 |    0.0867149 | 0.329417 |\n",
    "| late_em  |  0.962137 |      0.589822 |     0.0997021 |  2.94637 |      1.26479 |    0.119171  | 0.280201 |\n",
    "\n",
    "\n",
    "------------------------------------\n",
    "##### Results for Safe Q-Item with fixed Q-Matrix usage\n",
    "Latent dimension: 2.0,  Item dimension: 12.0, sample size 100.0 \\\n",
    "Early runtime: 3.61 seconds, 7.8 steps, 0.46 seconds per step \\\n",
    "Late runtime: 59.49 seconds, 10.4 steps, 5.72 seconds per step \\\n",
    "Early Marginal Likelihood, Optimal: -582.92, Estimated: -569.96, Initial -644.32 \\\n",
    "Late Marginal Likelihood, Optimal: -578.6, Estimated: -558.43, Initial -706.82\n",
    "| method   |   early_A |   early_delta |   early_sigma |   late_A |   late_delta |   late_sigma |      psi |\n",
    "|:---------|----------:|--------------:|--------------:|---------:|-------------:|-------------:|---------:|\n",
    "| initial  |   2.88087 |      0.517633 |      0.182391 |  3.17101 |      1.1477  |     0.161164 | 0.26501  |\n",
    "| late_em  |   1.16439 |      0.584869 |      0.112529 |  3.46094 |      2.04145 |     0.172379 | 0.268391 |\n",
    "####\n",
    "\n",
    "------------------------------------\n",
    "##### Results for Additional real-early baseline\n",
    "Latent dimension: 2.0,  Item dimension: 12.0, sample size 100.0 \\\n",
    "Early runtime: 3.41 seconds, 7.6 steps, 0.45 seconds per step \\\n",
    "Late runtime: 53.02 seconds, 9.4 steps, 5.64 seconds per step \\\n",
    "Early Marginal Likelihood, Optimal: -583.55, Estimated: -572.67, Initial -646.06 \\\n",
    "Late Marginal Likelihood, Optimal: -589.58, Estimated: -569.92, Initial -744.68\n",
    "| method     |   early_A |   early_delta |   early_sigma |   late_A |   late_delta |   late_sigma |      psi |\n",
    "|:-----------|----------:|--------------:|--------------:|---------:|-------------:|-------------:|---------:|\n",
    "| difference |   1.3934  |      0.440782 |     0.10789   |  2.67044 |      5.93286 |     0.497026 | 0.488744 |\n",
    "| initial    |   2.88641 |      0.521309 |     0.195614  |  3.11633 |      1.21088 |     0.180157 | 0.201638 |\n",
    "| late_em    |   1.39654 |      0.431537 |     0.0970151 |  3.62865 |      3.70721 |     0.212556 | 0.238202 |\n",
    "| real_early | nan       |    nan        |   nan         |  1.88592 |      1.78127 |     0.155295 | 0.287462 |\n",
    "####\n",
    "\n",
    "------------------------------------\n",
    "##### Results for Additional real-early baseline\n",
    "Latent dimension: 2.0,  Item dimension: 12.0, sample size 100.0 \\\n",
    "Early runtime: 3.9 seconds, 7.8 steps, 0.5 seconds per step \\\n",
    "Late runtime: 47.23 seconds, 9.2 steps, 5.13 seconds per step \\\n",
    "Early Marginal Likelihood, Optimal: -567.07, Estimated: -554.35, Initial -643.82 \\\n",
    "Late Marginal Likelihood, Optimal: -606.14, Estimated: -580.97, Initial -732.21\n",
    "| method     |   early_A |   early_delta |   early_sigma |   late_A |   late_delta |   late_sigma |      psi |\n",
    "|:-----------|----------:|--------------:|--------------:|---------:|-------------:|-------------:|---------:|\n",
    "| difference |   1.27303 |      0.816239 |      0.113363 |  2.59347 |      4.81423 |     0.403711 | 0.570877 |\n",
    "| initial    |   2.98315 |      0.565456 |      0.191513 |  2.77793 |      1.33573 |     0.162804 | 0.321497 |\n",
    "| late_em    |   1.18451 |      0.822633 |      0.111398 |  2.68928 |      2.2549  |     0.160683 | 0.309943 |\n",
    "| real_early | nan       |    nan        |    nan        |  2.16151 |      1.63829 |     0.171389 | 0.334537 |\n",
    "####\n",
    "\n",
    "------------------------------------\n",
    "##### Results for Fixed predicting latent traits\n",
    "Latent dimension: 2.0,  Item dimension: 12.0, sample size 100.0 \\\n",
    "Early runtime: 4.24 seconds, 8.6 steps, 0.49 seconds per step \\\n",
    "Late runtime: 42.91 seconds, 8.8 steps, 4.88 seconds per step \\\n",
    "Early Marginal Likelihood, Optimal: -542.31, Estimated: -535.07, Initial -624.32 \\\n",
    "Late Marginal Likelihood, Optimal: -616.66, Estimated: -609.14, Initial -779.98\n",
    "| method     |   early_A |   early_delta |   early_sigma |   late_A |   late_delta |   late_sigma |      psi |\n",
    "|:-----------|----------:|--------------:|--------------:|---------:|-------------:|-------------:|---------:|\n",
    "| difference |   1.31683 |      0.727365 |     0.0819637 |  2.81163 |      6.04203 |    0.0979097 | 0.607177 |\n",
    "| initial    |   3.17144 |      0.593239 |     0.208215  |  2.84086 |      1.19559 |    0.201808  | 0.299464 |\n",
    "| late_em    |   1.38044 |      0.681315 |     0.167655  |  2.30619 |      2.3331  |    0.298597  | 0.228804 |\n",
    "| real_early | nan       |    nan        |   nan         |  2.82787 |      2.31606 |    0.162536  | 0.307249 |\n",
    "####\n",
    "Performance on Individual Level \\\n",
    "rmse theta: 0.5383205034871745 \\\n",
    "rmse gain: 0.8237588915191916"
   ]
  },
  {
   "cell_type": "code",
   "execution_count": 12,
   "metadata": {},
   "outputs": [
    {
     "name": "stdout",
     "output_type": "stream",
     "text": [
      "Real latent covariance: [[1.     0.1921]\n",
      " [0.1921 1.    ]]\n",
      "Covariance matrix is good: True\n",
      "EM Iteration 2\n"
     ]
    },
    {
     "name": "stderr",
     "output_type": "stream",
     "text": [
      "c:\\Users\\Jesper\\Anaconda3\\lib\\site-packages\\scipy\\stats\\_qmc.py:2039: UserWarning: The balance properties of Sobol' points require n to be a power of 2.\n",
      "  samples = self.engine.random(n)\n"
     ]
    },
    {
     "name": "stdout",
     "output_type": "stream",
     "text": [
      "Current Monte Carlo Sample size: 300\n",
      "Step: 2: current parameter_diff: 9.087457477954748, current marginal loglikelihood: -12789.826209045792\n",
      "EM Iteration 3\n",
      "Current Monte Carlo Sample size: 300\n",
      "Step: 3: current parameter_diff: 9.347286786290436, current marginal loglikelihood: -12431.792159340152\n",
      "EM Iteration 4\n",
      "Current Monte Carlo Sample size: 300\n",
      "Step: 4: current parameter_diff: 5.994195183510891, current marginal loglikelihood: -12324.415808814525\n",
      "EM Iteration 5\n",
      "Current Monte Carlo Sample size: 330\n",
      "Step: 5: current parameter_diff: 3.466965558217997, current marginal loglikelihood: -12291.666326556195\n",
      "EM Iteration 6\n",
      "Current Monte Carlo Sample size: 363\n",
      "Step: 6: current parameter_diff: 3.0517259450824583, current marginal loglikelihood: -12274.293408739399\n",
      "EM Iteration 7\n",
      "Current Monte Carlo Sample size: 399\n",
      "Step: 7: current parameter_diff: 1.6828800520798761, current marginal loglikelihood: -12268.44295499595\n",
      "EM Iteration 8\n",
      "Current Monte Carlo Sample size: 438\n",
      "Step: 8: current parameter_diff: 1.5472995648012011, current marginal loglikelihood: -12266.741491100976\n",
      "EM Iteration 9\n",
      "Current Monte Carlo Sample size: 481\n",
      "Step: 9: current parameter_diff: 0.9405471813539303, current marginal loglikelihood: -12257.26354486137\n",
      "EM Iteration 10\n",
      "Current Monte Carlo Sample size: 529\n",
      "Step: 10: current parameter_diff: 0.5530337635868852, current marginal loglikelihood: -12254.874420202255\n",
      "EM Iteration 11\n",
      "Current Monte Carlo Sample size: 581\n",
      "Step: 11: current parameter_diff: 0.9182088621850061, current marginal loglikelihood: -12252.639608779638\n",
      "EM Iteration 12\n",
      "Current Monte Carlo Sample size: 581\n",
      "Step: 12: current parameter_diff: 0.6457048580426479, current marginal loglikelihood: -12250.319820728353\n",
      "EM Iteration 13\n",
      "Current Monte Carlo Sample size: 581\n"
     ]
    },
    {
     "name": "stderr",
     "output_type": "stream",
     "text": [
      "c:\\Users\\Jesper\\Documents\\GitHub\\Knowledge-Growth-Prediction\\em_algorithm\\e_step_mirt_2pl.py:264: RuntimeWarning: divide by zero encountered in log\n",
      "  icc_values), r_item_theta) + np.multiply(np.log(1-icc_values), np.subtract(r_0_theta, r_item_theta))\n"
     ]
    },
    {
     "name": "stdout",
     "output_type": "stream",
     "text": [
      "Step: 13: current parameter_diff: 0.40565533319178126, current marginal loglikelihood: -12248.475980359144\n",
      "EM Iteration 14\n",
      "Current Monte Carlo Sample size: 581\n",
      "Step: 14: current parameter_diff: 0.3981727860081429, current marginal loglikelihood: -12251.628743992456\n",
      "EM Iteration 15\n",
      "Current Monte Carlo Sample size: 639\n",
      "Step: 15: current parameter_diff: 0.3759899463682548, current marginal loglikelihood: -12251.09622265484\n",
      "EM Iteration 16\n",
      "Current Monte Carlo Sample size: 702\n",
      "Step: 16: current parameter_diff: 0.07730277535592268, current marginal loglikelihood: -12250.114423241039\n",
      "EM Iteration 17\n",
      "Current Monte Carlo Sample size: 772\n",
      "Step: 17: current parameter_diff: 0.35397135818851444, current marginal loglikelihood: -12249.62312895641\n",
      "Absolute diff in A:\n",
      "[[ 0.14141196  0.        ]\n",
      " [ 0.14652275  0.        ]\n",
      " [ 0.24777834  0.        ]\n",
      " [ 0.39441549  0.        ]\n",
      " [ 0.12016762  0.        ]\n",
      " [ 0.32373102  0.        ]\n",
      " [ 2.04123377  0.        ]\n",
      " [ 0.07098307  0.        ]\n",
      " [ 0.06713308  0.        ]\n",
      " [ 0.          0.20182688]\n",
      " [ 0.          0.62813809]\n",
      " [ 0.          0.09920095]\n",
      " [ 0.          0.01945836]\n",
      " [ 0.          0.18659965]\n",
      " [ 0.          0.15575047]\n",
      " [ 0.          0.08789252]\n",
      " [ 0.          1.4778765 ]\n",
      " [ 0.          0.04189966]\n",
      " [ 0.         10.97192658]\n",
      " [ 0.          0.01780647]]\n",
      "Absolute diff in delta:\n",
      "[0.11951806 0.01624619 0.00828051 0.00229788 0.03779432 0.12022373\n",
      " 0.3486814  0.00835183 0.058682   0.13972121 0.09226136 0.03582283\n",
      " 0.07487817 0.05699409 0.08076706 0.08706214 0.40613611 0.01579479\n",
      " 1.00325414 0.03622401]\n",
      "Absolute diff in sigma:\n",
      "[[0.     0.0592]\n",
      " [0.0592 0.    ]]\n",
      "Absolute diff in A:\n",
      "[[ 1.36526825  0.        ]\n",
      " [ 1.11545869  0.        ]\n",
      " [ 1.73464119  0.        ]\n",
      " [ 1.36717029  0.        ]\n",
      " [ 0.86321887  0.        ]\n",
      " [ 1.3189492   0.        ]\n",
      " [ 7.95629842  0.        ]\n",
      " [ 0.25893288  0.        ]\n",
      " [ 0.90547762  0.        ]\n",
      " [ 0.          3.59522736]\n",
      " [ 0.          1.62115369]\n",
      " [ 0.          0.60013944]\n",
      " [ 0.          0.69561718]\n",
      " [ 0.          3.18601677]\n",
      " [ 0.          0.67271571]\n",
      " [ 0.          0.01684306]\n",
      " [ 0.          2.47056086]\n",
      " [ 0.          2.57133627]\n",
      " [ 0.         11.96739471]\n",
      " [ 0.          0.77011617]]\n",
      "Absolute diff in delta:\n",
      "[0.06091239 0.02035124 0.864845   0.03297919 0.0250019  0.13604297\n",
      " 1.95588372 0.02782104 0.03300903 2.77138941 0.09108795 0.05574691\n",
      " 0.08273561 0.12214658 0.05284058 0.0228591  0.39977876 0.28998553\n",
      " 1.02811303 0.1957758 ]\n",
      "Absolute diff in sigma:\n",
      "[[0.     0.3079]\n",
      " [0.3079 0.    ]]\n"
     ]
    }
   ],
   "source": [
    "performance_dict = mirt_param_recovery(sample_size=1000, item_dimension=20, latent_dimension=2, q_type=\"seperated\", girth=False, stop_threshold=1)"
   ]
  },
  {
   "cell_type": "code",
   "execution_count": 13,
   "metadata": {},
   "outputs": [
    {
     "name": "stdout",
     "output_type": "stream",
     "text": [
      "------------------------------------\n",
      "##### Results for Fixed Issue with simulation Covariance\n",
      "Latent dimension: 2,  Item dimension: 20, sample size 1000 \\\n",
      "Runtime: 51.07 seconds, 18 steps, 2.84 seconds per step \\\n",
      "Optimal marginal Likelihood: -11670.7, Estimated: -12247.32, Initial -13560.2\n",
      "|               |   rmse_A |   rmse_delta |   rmse_sigma |\n",
      "|:--------------|---------:|-------------:|-------------:|\n",
      "| estimated     |  1.78631 |     0.262764 |    0.0418607 |\n",
      "| early_initial |  2.54062 |     0.826317 |    0.217718  |\n"
     ]
    }
   ],
   "source": [
    "print_result(performance_dict, \"Fixed Issue with simulation Covariance\")"
   ]
  },
  {
   "cell_type": "markdown",
   "metadata": {},
   "source": [
    "------------------------------------\n",
    "##### Results for Seperated Q-Matrix\n",
    "Latent dimension: 2,  Item dimension: 20, sample size 1000 \\\n",
    "Runtime: 142.07 seconds, 26 steps, 5.46 seconds per step \\\n",
    "Optimal marginal Likelihood: -9384.38, Estimated: -10189.47, Initial -11459.9\n",
    "|               |   rmse_A |   rmse_delta |   rmse_sigma |\n",
    "|:--------------|---------:|-------------:|-------------:|\n",
    "| estimated     |  4.00013 |      3.10678 |    0.0201383 |\n",
    "| early_initial |  4.5183  |      2.5846  |    0.165491  |\n",
    "\n",
    "------------------------------------\n",
    "##### Results for BFGS for Q_0 with approximate Jacobi\n",
    "Latent dimension: 2,  Item dimension: 20, sample size 1000 \\\n",
    "Runtime: 61.55 seconds, 12 steps, 5.13 seconds per step \\\n",
    "Optimal marginal Likelihood: -9363.89, Estimated: -9711.58, Initial -10528.79\n",
    "|               |   rmse_A |   rmse_delta |   rmse_sigma |\n",
    "|:--------------|---------:|-------------:|-------------:|\n",
    "| estimated     |  3.02507 |      1.83482 |    0.0645047 |\n",
    "| early_initial |  2.06432 |      2.18337 |    0.289049  |\n",
    "\n",
    "------------------------------------\n",
    "##### Results for Monte Carlo sample varying through ttest\n",
    "Latent dimension: 2,  Item dimension: 20, sample size 1000 \\\n",
    "Runtime: 325.73 seconds, 42 steps, 7.76 seconds per step \\\n",
    "Optimal marginal Likelihood: -9929.77, Estimated: -10179.96, Initial -10767.41\n",
    "|               |   rmse_A |   rmse_delta |   rmse_sigma |\n",
    "|:--------------|---------:|-------------:|-------------:|\n",
    "| estimated     |  1.25777 |     0.965894 |   0.00557421 |\n",
    "| early_initial |  1.98812 |     1.68516  |   0.719705   |\n",
    "\n",
    "------------------------------------\n",
    "##### Results for Fixed random Covariance 1, girth included\n",
    "Latent dimension: 2,  Item dimension: 20, sample size 1000 \\\n",
    "Runtime: 57.16 seconds, 14 steps, 4.08 seconds per step \\\n",
    "Optimal marginal Likelihood: -11668.66, Estimated: -11672.6, Initial -12307.41\n",
    "|               |   rmse_A |   rmse_delta |   rmse_sigma |\n",
    "|:--------------|---------:|-------------:|-------------:|\n",
    "| estimated     | 0.183251 |    0.0861252 |    0.0215108 |\n",
    "| early_initial | 0.786712 |    0.393667  |    0.0471788 |\n",
    "| girth         | 1.28298  |    0.263374  |    0.350541  |\n",
    "\n",
    "------------------------------------\n",
    "##### Results for Fixed Issue with simulation Covariance\n",
    "Latent dimension: 2,  Item dimension: 20, sample size 1000 \\\n",
    "Runtime: 24.71 seconds, 11 steps, 2.25 seconds per step \\\n",
    "Optimal marginal Likelihood: -11186.38, Estimated: -11389.57, Initial -12010.77\n",
    "|               |   rmse_A |   rmse_delta |   rmse_sigma |\n",
    "|:--------------|---------:|-------------:|-------------:|\n",
    "| estimated     |  1.83766 |      1.4664  |    0.0743169 |\n",
    "| early_initial |  2.7041  |      2.66224 |    0.0627911 |"
   ]
  },
  {
   "cell_type": "code",
   "execution_count": 16,
   "metadata": {},
   "outputs": [
    {
     "name": "stdout",
     "output_type": "stream",
     "text": [
      "Real latent covariance: [[1.     0.5392 0.4093]\n",
      " [0.5392 1.     0.5406]\n",
      " [0.4093 0.5406 1.    ]]\n",
      "Covariance matrix is good: True\n",
      "EM Iteration 2\n"
     ]
    },
    {
     "name": "stderr",
     "output_type": "stream",
     "text": [
      "c:\\Users\\Jesper\\Anaconda3\\lib\\site-packages\\scipy\\stats\\_qmc.py:2039: UserWarning: The balance properties of Sobol' points require n to be a power of 2.\n",
      "  samples = self.engine.random(n)\n"
     ]
    },
    {
     "name": "stdout",
     "output_type": "stream",
     "text": [
      "Current Monte Carlo Sample size: 600\n"
     ]
    },
    {
     "name": "stderr",
     "output_type": "stream",
     "text": [
      "c:\\Users\\Jesper\\Documents\\GitHub\\Knowledge-Growth-Prediction\\em_algorithm\\e_step_mirt_2pl.py:198: RuntimeWarning: divide by zero encountered in log\n",
      "  factor = np.log(self.model.latent_density(theta, sigma=sigma))\n",
      "c:\\Users\\Jesper\\Documents\\GitHub\\Knowledge-Growth-Prediction\\em_algorithm\\e_step_mirt_2pl.py:198: RuntimeWarning: divide by zero encountered in log\n",
      "  factor = np.log(self.model.latent_density(theta, sigma=sigma))\n"
     ]
    },
    {
     "name": "stdout",
     "output_type": "stream",
     "text": [
      "[[1.         0.22255116 0.4851635 ]\n",
      " [0.22255116 1.         0.28710379]\n",
      " [0.4851635  0.28710379 1.        ]]\n",
      "Step: 2: current parameter_diff: 22.836966115835242, current marginal loglikelihood: -11263.404209075177\n",
      "EM Iteration 3\n"
     ]
    },
    {
     "name": "stderr",
     "output_type": "stream",
     "text": [
      "c:\\Users\\Jesper\\Anaconda3\\lib\\site-packages\\scipy\\stats\\_qmc.py:2039: UserWarning: The balance properties of Sobol' points require n to be a power of 2.\n",
      "  samples = self.engine.random(n)\n"
     ]
    },
    {
     "name": "stdout",
     "output_type": "stream",
     "text": [
      "Current Monte Carlo Sample size: 600\n",
      "[[1.         0.03209561 0.46728994]\n",
      " [0.03209561 1.         0.18680867]\n",
      " [0.46728994 0.18680867 1.        ]]\n",
      "Step: 3: current parameter_diff: 12.765040130244333, current marginal loglikelihood: -11025.095432664773\n",
      "EM Iteration 4\n"
     ]
    },
    {
     "name": "stderr",
     "output_type": "stream",
     "text": [
      "c:\\Users\\Jesper\\Anaconda3\\lib\\site-packages\\scipy\\stats\\_qmc.py:2039: UserWarning: The balance properties of Sobol' points require n to be a power of 2.\n",
      "  samples = self.engine.random(n)\n"
     ]
    },
    {
     "name": "stdout",
     "output_type": "stream",
     "text": [
      "Current Monte Carlo Sample size: 660\n",
      "[[ 1.         -0.12237363  0.46206731]\n",
      " [-0.12237363  1.          0.13165586]\n",
      " [ 0.46206731  0.13165586  1.        ]]\n",
      "Step: 4: current parameter_diff: 11.082485951986573, current marginal loglikelihood: -10917.861640370744\n",
      "EM Iteration 5\n"
     ]
    },
    {
     "name": "stderr",
     "output_type": "stream",
     "text": [
      "c:\\Users\\Jesper\\Anaconda3\\lib\\site-packages\\scipy\\stats\\_qmc.py:2039: UserWarning: The balance properties of Sobol' points require n to be a power of 2.\n",
      "  samples = self.engine.random(n)\n"
     ]
    },
    {
     "name": "stdout",
     "output_type": "stream",
     "text": [
      "Current Monte Carlo Sample size: 726\n",
      "[[ 1.         -0.13268712  0.46966192]\n",
      " [-0.13268712  1.          0.07677147]\n",
      " [ 0.46966192  0.07677147  1.        ]]\n",
      "Step: 5: current parameter_diff: 5.054700187758239, current marginal loglikelihood: -10871.624165962843\n",
      "EM Iteration 6\n"
     ]
    },
    {
     "name": "stderr",
     "output_type": "stream",
     "text": [
      "c:\\Users\\Jesper\\Anaconda3\\lib\\site-packages\\scipy\\stats\\_qmc.py:2039: UserWarning: The balance properties of Sobol' points require n to be a power of 2.\n",
      "  samples = self.engine.random(n)\n"
     ]
    },
    {
     "name": "stdout",
     "output_type": "stream",
     "text": [
      "Current Monte Carlo Sample size: 798\n",
      "[[ 1.         -0.15335902  0.48429796]\n",
      " [-0.15335902  1.          0.00857838]\n",
      " [ 0.48429796  0.00857838  1.        ]]\n",
      "Step: 6: current parameter_diff: 7.350049766942949, current marginal loglikelihood: -10846.63925009043\n",
      "EM Iteration 7\n"
     ]
    },
    {
     "name": "stderr",
     "output_type": "stream",
     "text": [
      "c:\\Users\\Jesper\\Anaconda3\\lib\\site-packages\\scipy\\stats\\_qmc.py:2039: UserWarning: The balance properties of Sobol' points require n to be a power of 2.\n",
      "  samples = self.engine.random(n)\n"
     ]
    },
    {
     "name": "stdout",
     "output_type": "stream",
     "text": [
      "Current Monte Carlo Sample size: 877\n",
      "[[ 1.         -0.18130942  0.49736388]\n",
      " [-0.18130942  1.         -0.04688012]\n",
      " [ 0.49736388 -0.04688012  1.        ]]\n",
      "Step: 7: current parameter_diff: 4.21590743744123, current marginal loglikelihood: -10830.644137405307\n",
      "EM Iteration 8\n"
     ]
    },
    {
     "name": "stderr",
     "output_type": "stream",
     "text": [
      "c:\\Users\\Jesper\\Anaconda3\\lib\\site-packages\\scipy\\stats\\_qmc.py:2039: UserWarning: The balance properties of Sobol' points require n to be a power of 2.\n",
      "  samples = self.engine.random(n)\n"
     ]
    },
    {
     "name": "stdout",
     "output_type": "stream",
     "text": [
      "Current Monte Carlo Sample size: 964\n",
      "[[ 1.         -0.15152568  0.50240847]\n",
      " [-0.15152568  1.         -0.07665482]\n",
      " [ 0.50240847 -0.07665482  1.        ]]\n"
     ]
    },
    {
     "name": "stderr",
     "output_type": "stream",
     "text": [
      "c:\\Users\\Jesper\\Documents\\GitHub\\Knowledge-Growth-Prediction\\em_algorithm\\e_step_mirt_2pl.py:264: RuntimeWarning: divide by zero encountered in log\n",
      "  icc_values), r_item_theta) + np.multiply(np.log(1-icc_values), np.subtract(r_0_theta, r_item_theta))\n",
      "c:\\Users\\Jesper\\Documents\\GitHub\\Knowledge-Growth-Prediction\\em_algorithm\\e_step_mirt_2pl.py:264: RuntimeWarning: invalid value encountered in multiply\n",
      "  icc_values), r_item_theta) + np.multiply(np.log(1-icc_values), np.subtract(r_0_theta, r_item_theta))\n",
      "c:\\Users\\Jesper\\Documents\\GitHub\\Knowledge-Growth-Prediction\\em_algorithm\\m_step_mirt_2pl.py:70: RuntimeWarning: overflow encountered in exp\n",
      "  population = random.choices(population=population_base, weights=np.exp(\n"
     ]
    }
   ],
   "source": [
    "performance_dict = mirt_param_recovery(sample_size=1000, item_dimension=20, latent_dimension=3, q_type=\"pyramid\", girth=False, stop_threshold=10, ensure_id=True, q_share=0.6)"
   ]
  },
  {
   "cell_type": "code",
   "execution_count": 8,
   "metadata": {},
   "outputs": [
    {
     "ename": "NameError",
     "evalue": "name 'performance_dict' is not defined",
     "output_type": "error",
     "traceback": [
      "\u001b[1;31m---------------------------------------------------------------------------\u001b[0m",
      "\u001b[1;31mNameError\u001b[0m                                 Traceback (most recent call last)",
      "\u001b[1;32mc:\\Users\\Jesper\\Documents\\GitHub\\Knowledge-Growth-Prediction\\simulation_experiments.ipynb Zelle 21\u001b[0m in \u001b[0;36m<cell line: 1>\u001b[1;34m()\u001b[0m\n\u001b[1;32m----> <a href='vscode-notebook-cell:/c%3A/Users/Jesper/Documents/GitHub/Knowledge-Growth-Prediction/simulation_experiments.ipynb#X26sZmlsZQ%3D%3D?line=0'>1</a>\u001b[0m print_result(performance_dict, \u001b[39m\"\u001b[39m\u001b[39mWith Covariance Matrix partially aligned to Q-matrix\u001b[39m\u001b[39m\"\u001b[39m)\n",
      "\u001b[1;31mNameError\u001b[0m: name 'performance_dict' is not defined"
     ]
    }
   ],
   "source": [
    "print_result(performance_dict, \"With Covariance Matrix partially aligned to Q-matrix\")"
   ]
  },
  {
   "cell_type": "markdown",
   "metadata": {},
   "source": [
    "------------------------------------\n",
    "##### Results for Pyramid Q-Matrix\n",
    "Latent dimension: 3,  Item dimension: 20, sample size 200 \\\n",
    "Runtime: 121.22 seconds, 46 steps, 2.64 seconds per step \\\n",
    "Optimal marginal Likelihood: -2144.15, Estimated: -2155.08, Initial -2699.63\n",
    "|               |   rmse_A |   rmse_delta |   rmse_sigma |\n",
    "|:--------------|---------:|-------------:|-------------:|\n",
    "| estimated     |  11.0034 |      1.77461 |     0.889828 |\n",
    "| early_initial |  10.5116 |      2.15986 |     0.522199 |\n",
    "\n",
    "------------------------------------\n",
    "##### Results for Pyramid Q-Matrix\n",
    "Latent dimension: 3,  Item dimension: 20, sample size 1000 \\\n",
    "Runtime: 313.22 seconds, 51 steps, 6.14 seconds per step \\\n",
    "Optimal marginal Likelihood: -9452.24, Estimated: -9813.87, Initial -11216.48\n",
    "|               |   rmse_A |   rmse_delta |   rmse_sigma |\n",
    "|:--------------|---------:|-------------:|-------------:|\n",
    "| estimated     |  5.34115 |      1.4068  |     0.425982 |\n",
    "| early_initial |  5.98238 |      2.25109 |     0.234288 |\n",
    "\n",
    "------------------------------------\n",
    "##### Results for Pyramid Q-Matrix\n",
    "Latent dimension: 3,  Item dimension: 30, sample size 2000 \\\n",
    "Runtime: 1521.51 seconds, 76 steps, 20.02 seconds per step \\\n",
    "Optimal marginal Likelihood: -30844.13, Estimated: -32521.34, Initial -37390.6\n",
    "|               |   rmse_A |   rmse_delta |   rmse_sigma |\n",
    "|:--------------|---------:|-------------:|-------------:|\n",
    "| estimated     |  2.55959 |       1.9952 |    0.314331  |\n",
    "| early_initial |  3.32034 |       3.514  |    0.0239562 |\n",
    "\n",
    "------------------------------------\n",
    "##### Results for BFGS for Q_0 with approximated gradient\n",
    "Latent dimension: 3,  Item dimension: 20, sample size 1000 \\\n",
    "Runtime: 350.28 seconds, 64 steps, 5.47 seconds per step \\\n",
    "Optimal marginal Likelihood: -10498.87, Estimated: -11303.0, Initial -12740.14\n",
    "|               |   rmse_A |   rmse_delta |   rmse_sigma |\n",
    "|:--------------|---------:|-------------:|-------------:|\n",
    "| estimated     |  10.2704 |     0.68597  |    0.318713  |\n",
    "| early_initial |  10.4626 |     0.846172 |    0.0895367 |\n",
    "\n",
    "------------------------------------\n",
    "##### Results for BFGS for Q_0 with exact gradient\n",
    "Latent dimension: 3,  Item dimension: 20, sample size 1000 \\\n",
    "Runtime: 152.91 seconds, 31 steps, 4.93 seconds per step \\\n",
    "Optimal marginal Likelihood: -11106.69, Estimated: -11211.51, Initial -12370.23\n",
    "|               |   rmse_A |   rmse_delta |   rmse_sigma |\n",
    "|:--------------|---------:|-------------:|-------------:|\n",
    "| estimated     |  3.5074  |      2.54509 |     0.21123  |\n",
    "| early_initial |  3.51819 |      2.66313 |     0.319647 |\n",
    "\n",
    "------------------------------------\n",
    "##### Results for Newton-Raphson for Q_0 with approximated second derivative\n",
    "Latent dimension: 3,  Item dimension: 20, sample size 1000 \\\n",
    "Runtime: 352.93 seconds, 62 steps, 5.69 seconds per step \\\n",
    "Optimal marginal Likelihood: -10237.22, Estimated: -10482.36, Initial -12569.49\n",
    "|               |   rmse_A |   rmse_delta |   rmse_sigma |\n",
    "|:--------------|---------:|-------------:|-------------:|\n",
    "| estimated     |  5.23694 |      2.45127 |     0.508499 |\n",
    "| early_initial |  5.36172 |      3.29141 |     0.640209 |"
   ]
  },
  {
   "cell_type": "code",
   "execution_count": 13,
   "metadata": {},
   "outputs": [
    {
     "name": "stdout",
     "output_type": "stream",
     "text": [
      "Real latent covariance: [[1.     0.     0.2545]\n",
      " [0.     1.     0.3721]\n",
      " [0.2545 0.3721 1.    ]]\n",
      "Covariance matrix is good: True\n",
      "EM Iteration 2\n"
     ]
    },
    {
     "name": "stderr",
     "output_type": "stream",
     "text": [
      "c:\\Users\\Jesper\\Anaconda3\\lib\\site-packages\\scipy\\stats\\_qmc.py:2039: UserWarning: The balance properties of Sobol' points require n to be a power of 2.\n",
      "  samples = self.engine.random(n)\n"
     ]
    },
    {
     "name": "stdout",
     "output_type": "stream",
     "text": [
      "Current Monte Carlo Sample size: 600\n"
     ]
    },
    {
     "name": "stderr",
     "output_type": "stream",
     "text": [
      "c:\\Users\\Jesper\\Anaconda3\\lib\\site-packages\\scipy\\optimize\\_numdiff.py:576: RuntimeWarning: invalid value encountered in subtract\n",
      "  df = fun(x) - f0\n"
     ]
    },
    {
     "name": "stdout",
     "output_type": "stream",
     "text": [
      "[[nan nan nan]\n",
      " [nan nan nan]\n",
      " [nan nan nan]]\n",
      "[[nan nan nan]\n",
      " [nan nan nan]\n",
      " [nan nan nan]]\n",
      "Invalid Covariance encountered, trying last step covariance\n",
      "Step: 2: current parameter_diff: 41.855085339761395, current marginal loglikelihood: -12550.72345228223\n",
      "EM Iteration 3\n",
      "Current Monte Carlo Sample size: 660\n",
      "[[nan nan nan]\n",
      " [nan nan nan]\n",
      " [nan nan nan]]\n",
      "[[nan nan nan]\n",
      " [nan nan nan]\n",
      " [nan nan nan]]\n",
      "Invalid Covariance encountered, trying last step covariance\n",
      "Step: 3: current parameter_diff: 28.922785136715092, current marginal loglikelihood: -12131.893852917503\n",
      "EM Iteration 4\n",
      "Current Monte Carlo Sample size: 660\n",
      "[[ 1.00000000e+000 -7.56483606e-249 -7.12199634e-243]\n",
      " [-7.56483606e-249  1.00000000e+000 -1.46994029e-260]\n",
      " [-7.12199634e-243 -1.46994029e-260  1.00000000e+000]]\n"
     ]
    },
    {
     "name": "stderr",
     "output_type": "stream",
     "text": [
      "c:\\Users\\Jesper\\Documents\\GitHub\\Knowledge-Growth-Prediction\\em_algorithm\\e_step_mirt_2pl.py:264: RuntimeWarning: divide by zero encountered in log\n",
      "  icc_values), r_item_theta) + np.multiply(np.log(1-icc_values), np.subtract(r_0_theta, r_item_theta))\n",
      "c:\\Users\\Jesper\\Documents\\GitHub\\Knowledge-Growth-Prediction\\em_algorithm\\e_step_mirt_2pl.py:264: RuntimeWarning: invalid value encountered in multiply\n",
      "  icc_values), r_item_theta) + np.multiply(np.log(1-icc_values), np.subtract(r_0_theta, r_item_theta))\n"
     ]
    },
    {
     "name": "stdout",
     "output_type": "stream",
     "text": [
      "Step: 4: current parameter_diff: 24.909956480277785, current marginal loglikelihood: -11869.365012663717\n",
      "EM Iteration 5\n",
      "Current Monte Carlo Sample size: 660\n",
      "[[1.         0.07473132 0.19983603]\n",
      " [0.07473132 1.         0.24058055]\n",
      " [0.19983603 0.24058055 1.        ]]\n",
      "Step: 5: current parameter_diff: 20.731814136925763, current marginal loglikelihood: -11739.105149945846\n",
      "EM Iteration 6\n",
      "Current Monte Carlo Sample size: 660\n",
      "[[1.         0.02395303 0.25925938]\n",
      " [0.02395303 1.         0.26711545]\n",
      " [0.25925938 0.26711545 1.        ]]\n",
      "Step: 6: current parameter_diff: 6.423400003338906, current marginal loglikelihood: -11720.71525563623\n",
      "EM Iteration 7\n",
      "Current Monte Carlo Sample size: 726\n",
      "[[1.         0.02766565 0.2770886 ]\n",
      " [0.02766565 1.         0.30801604]\n",
      " [0.2770886  0.30801604 1.        ]]\n",
      "Step: 7: current parameter_diff: 5.599935651052099, current marginal loglikelihood: -11726.261698793634\n",
      "EM Iteration 8\n",
      "Current Monte Carlo Sample size: 798\n",
      "[[1.         0.03611896 0.29298871]\n",
      " [0.03611896 1.         0.33452034]\n",
      " [0.29298871 0.33452034 1.        ]]\n"
     ]
    },
    {
     "name": "stderr",
     "output_type": "stream",
     "text": [
      "c:\\Users\\Jesper\\Documents\\GitHub\\Knowledge-Growth-Prediction\\em_algorithm\\m_step_mirt_2pl.py:70: RuntimeWarning: overflow encountered in exp\n",
      "  population = random.choices(population=population_base, weights=np.exp(\n"
     ]
    },
    {
     "name": "stdout",
     "output_type": "stream",
     "text": [
      "Step: 8: current parameter_diff: 8.88763105930743, current marginal loglikelihood: -11739.130271363902\n",
      "EM Iteration 9\n",
      "Current Monte Carlo Sample size: 877\n",
      "[[1.         0.04450944 0.2860444 ]\n",
      " [0.04450944 1.         0.34325432]\n",
      " [0.2860444  0.34325432 1.        ]]\n",
      "Step: 9: current parameter_diff: 6.972349751947515, current marginal loglikelihood: -11721.612152810394\n",
      "EM Iteration 10\n",
      "Current Monte Carlo Sample size: 964\n",
      "[[1.         0.04267512 0.28987184]\n",
      " [0.04267512 1.         0.33339445]\n",
      " [0.28987184 0.33339445 1.        ]]\n",
      "Step: 10: current parameter_diff: 13.349635834760017, current marginal loglikelihood: -11712.217814439908\n",
      "EM Iteration 11\n",
      "Current Monte Carlo Sample size: 1060\n",
      "[[1.         0.05402791 0.27611641]\n",
      " [0.05402791 1.         0.32730623]\n",
      " [0.27611641 0.32730623 1.        ]]\n",
      "Step: 11: current parameter_diff: 13.121900001706786, current marginal loglikelihood: -11752.478352914124\n",
      "EM Iteration 12\n",
      "Current Monte Carlo Sample size: 1166\n",
      "[[1.         0.03472167 0.29289335]\n",
      " [0.03472167 1.         0.31423842]\n",
      " [0.29289335 0.31423842 1.        ]]\n",
      "Step: 12: current parameter_diff: 12.92705941994013, current marginal loglikelihood: -11773.525002062834\n",
      "EM Iteration 13\n",
      "Current Monte Carlo Sample size: 1282\n",
      "[[1.         0.04206202 0.28354236]\n",
      " [0.04206202 1.         0.34677087]\n",
      " [0.28354236 0.34677087 1.        ]]\n",
      "Step: 13: current parameter_diff: 14.069785350523503, current marginal loglikelihood: -11888.973247891026\n",
      "EM Iteration 14\n",
      "Current Monte Carlo Sample size: 1282\n",
      "[[1.         0.04470603 0.30510719]\n",
      " [0.04470603 1.         0.31712275]\n",
      " [0.30510719 0.31712275 1.        ]]\n",
      "Step: 14: current parameter_diff: 12.996930583013478, current marginal loglikelihood: -11919.620612639617\n",
      "EM Iteration 15\n",
      "Current Monte Carlo Sample size: 1410\n",
      "[[1.         0.03289506 0.31780259]\n",
      " [0.03289506 1.         0.33049459]\n",
      " [0.31780259 0.33049459 1.        ]]\n",
      "Step: 15: current parameter_diff: 12.407788859306613, current marginal loglikelihood: -11918.172775706451\n",
      "EM Iteration 16\n",
      "Current Monte Carlo Sample size: 1551\n",
      "[[1.         0.03358675 0.32117101]\n",
      " [0.03358675 1.         0.34333722]\n",
      " [0.32117101 0.34333722 1.        ]]\n",
      "Step: 16: current parameter_diff: 15.80893260174836, current marginal loglikelihood: -12160.280411491387\n",
      "EM Iteration 17\n",
      "Current Monte Carlo Sample size: 1706\n",
      "[[1.         0.03828454 0.3173103 ]\n",
      " [0.03828454 1.         0.37550231]\n",
      " [0.3173103  0.37550231 1.        ]]\n",
      "Step: 17: current parameter_diff: 17.733213121984406, current marginal loglikelihood: -12120.335550218635\n",
      "EM Iteration 18\n",
      "Current Monte Carlo Sample size: 1706\n",
      "[[1.         0.03947006 0.30946325]\n",
      " [0.03947006 1.         0.42371964]\n",
      " [0.30946325 0.42371964 1.        ]]\n",
      "Step: 18: current parameter_diff: 16.20566266842648, current marginal loglikelihood: -12159.97257104385\n",
      "EM Iteration 19\n",
      "Current Monte Carlo Sample size: 1876\n",
      "[[1.         0.05036364 0.315018  ]\n",
      " [0.05036364 1.         0.45976397]\n",
      " [0.315018   0.45976397 1.        ]]\n",
      "Step: 19: current parameter_diff: 17.15942650707747, current marginal loglikelihood: -12319.975242536013\n",
      "EM Iteration 20\n",
      "Current Monte Carlo Sample size: 2063\n",
      "[[1.         0.05564366 0.33809592]\n",
      " [0.05564366 1.         0.46824847]\n",
      " [0.33809592 0.46824847 1.        ]]\n",
      "Step: 20: current parameter_diff: 16.691893000641358, current marginal loglikelihood: -12259.903212209978\n",
      "EM Iteration 21\n",
      "Current Monte Carlo Sample size: 2269\n",
      "[[1.         0.08912059 0.32975034]\n",
      " [0.08912059 1.         0.45420422]\n",
      " [0.32975034 0.45420422 1.        ]]\n",
      "Step: 21: current parameter_diff: 23.66059479399594, current marginal loglikelihood: -12604.479047689154\n",
      "EM Iteration 22\n",
      "Current Monte Carlo Sample size: 2495\n",
      "[[1.         0.08254014 0.32608357]\n",
      " [0.08254014 1.         0.47241503]\n",
      " [0.32608357 0.47241503 1.        ]]\n",
      "Step: 22: current parameter_diff: 20.38471152818203, current marginal loglikelihood: -12431.250915065328\n",
      "EM Iteration 23\n",
      "Current Monte Carlo Sample size: 2744\n",
      "[[1.         0.08504754 0.3504352 ]\n",
      " [0.08504754 1.         0.49784505]\n",
      " [0.3504352  0.49784505 1.        ]]\n",
      "Step: 23: current parameter_diff: 24.10400754464389, current marginal loglikelihood: -12276.607911791718\n",
      "EM Iteration 24\n",
      "Current Monte Carlo Sample size: 3018\n",
      "[[1.         0.10774412 0.35177853]\n",
      " [0.10774412 1.         0.45853182]\n",
      " [0.35177853 0.45853182 1.        ]]\n",
      "Step: 24: current parameter_diff: 22.541689707305267, current marginal loglikelihood: -12489.193570693122\n",
      "EM Iteration 25\n",
      "Current Monte Carlo Sample size: 3319\n",
      "[[1.         0.10661726 0.34589446]\n",
      " [0.10661726 1.         0.41512853]\n",
      " [0.34589446 0.41512853 1.        ]]\n",
      "Step: 25: current parameter_diff: 25.243161391043913, current marginal loglikelihood: -12530.126933447274\n",
      "EM Iteration 26\n",
      "Current Monte Carlo Sample size: 3650\n",
      "[[1.         0.05332288 0.32572397]\n",
      " [0.05332288 1.         0.32202492]\n",
      " [0.32572397 0.32202492 1.        ]]\n",
      "Step: 26: current parameter_diff: 22.217647900015496, current marginal loglikelihood: -12327.542608689702\n",
      "EM Iteration 27\n",
      "Current Monte Carlo Sample size: 4015\n",
      "[[1.         0.04531018 0.29629237]\n",
      " [0.04531018 1.         0.3749033 ]\n",
      " [0.29629237 0.3749033  1.        ]]\n",
      "Step: 27: current parameter_diff: 24.456232729238387, current marginal loglikelihood: -12569.487190457674\n",
      "EM Iteration 28\n",
      "Current Monte Carlo Sample size: 4015\n",
      "[[1.         0.0664822  0.2553332 ]\n",
      " [0.0664822  1.         0.32259075]\n",
      " [0.2553332  0.32259075 1.        ]]\n",
      "Step: 28: current parameter_diff: 21.160665319248636, current marginal loglikelihood: -12482.746614190011\n",
      "EM Iteration 29\n",
      "Current Monte Carlo Sample size: 4416\n",
      "[[1.         0.08727014 0.22960587]\n",
      " [0.08727014 1.         0.33549268]\n",
      " [0.22960587 0.33549268 1.        ]]\n",
      "Step: 29: current parameter_diff: 24.144751376772238, current marginal loglikelihood: -12540.769966653768\n",
      "EM Iteration 30\n",
      "Current Monte Carlo Sample size: 4857\n",
      "[[1.         0.0830018  0.20951295]\n",
      " [0.0830018  1.         0.32728332]\n",
      " [0.20951295 0.32728332 1.        ]]\n",
      "Step: 30: current parameter_diff: 18.567347369526907, current marginal loglikelihood: -12605.802540473838\n",
      "EM Iteration 31\n",
      "Current Monte Carlo Sample size: 5342\n",
      "[[1.         0.10384263 0.19035454]\n",
      " [0.10384263 1.         0.33995062]\n",
      " [0.19035454 0.33995062 1.        ]]\n",
      "Step: 31: current parameter_diff: 18.27550659381697, current marginal loglikelihood: -12488.402669715779\n",
      "EM Iteration 32\n",
      "Current Monte Carlo Sample size: 5876\n",
      "[[1.         0.09216813 0.16231849]\n",
      " [0.09216813 1.         0.34736474]\n",
      " [0.16231849 0.34736474 1.        ]]\n",
      "Step: 32: current parameter_diff: 18.659892839891487, current marginal loglikelihood: -12963.804592738707\n",
      "EM Iteration 33\n",
      "Current Monte Carlo Sample size: 6463\n",
      "[[1.         0.08934729 0.16282502]\n",
      " [0.08934729 1.         0.3309664 ]\n",
      " [0.16282502 0.3309664  1.        ]]\n",
      "Step: 33: current parameter_diff: 23.50586764065138, current marginal loglikelihood: -13510.649271026294\n",
      "EM Iteration 34\n",
      "Current Monte Carlo Sample size: 7109\n",
      "[[1.         0.08710583 0.15552528]\n",
      " [0.08710583 1.         0.29611591]\n",
      " [0.15552528 0.29611591 1.        ]]\n",
      "Step: 34: current parameter_diff: 21.960943064628275, current marginal loglikelihood: -13944.259625971496\n",
      "EM Iteration 35\n",
      "Current Monte Carlo Sample size: 7109\n",
      "[[1.         0.07793025 0.16516396]\n",
      " [0.07793025 1.         0.36413403]\n",
      " [0.16516396 0.36413403 1.        ]]\n",
      "Step: 35: current parameter_diff: 27.121295291247954, current marginal loglikelihood: -13503.312147530629\n",
      "EM Iteration 36\n",
      "Current Monte Carlo Sample size: 7819\n",
      "[[1.         0.10383503 0.15573248]\n",
      " [0.10383503 1.         0.38227496]\n",
      " [0.15573248 0.38227496 1.        ]]\n",
      "Step: 36: current parameter_diff: 20.49072253096319, current marginal loglikelihood: -13457.903630401384\n",
      "EM Iteration 37\n",
      "Current Monte Carlo Sample size: 8600\n",
      "[[1.         0.0952063  0.1697639 ]\n",
      " [0.0952063  1.         0.46301737]\n",
      " [0.1697639  0.46301737 1.        ]]\n",
      "Step: 37: current parameter_diff: 27.90481089780214, current marginal loglikelihood: -12706.910698711592\n",
      "EM Iteration 38\n",
      "Current Monte Carlo Sample size: 9460\n",
      "[[1.         0.11529993 0.26172741]\n",
      " [0.11529993 1.         0.55011103]\n",
      " [0.26172741 0.55011103 1.        ]]\n",
      "Step: 38: current parameter_diff: 25.492536506460198, current marginal loglikelihood: -12568.140485448821\n",
      "EM Iteration 39\n",
      "Current Monte Carlo Sample size: 10406\n",
      "[[1.         0.10827926 0.31252693]\n",
      " [0.10827926 1.         0.47192521]\n",
      " [0.31252693 0.47192521 1.        ]]\n",
      "Step: 39: current parameter_diff: 23.39773718705719, current marginal loglikelihood: -12458.470015244868\n",
      "EM Iteration 40\n",
      "Current Monte Carlo Sample size: 11446\n",
      "[[1.         0.08448759 0.34971178]\n",
      " [0.08448759 1.         0.4185697 ]\n",
      " [0.34971178 0.4185697  1.        ]]\n",
      "Step: 40: current parameter_diff: 25.01324472722742, current marginal loglikelihood: -12669.061288880423\n",
      "EM Iteration 41\n",
      "Current Monte Carlo Sample size: 12590\n",
      "[[ 1.00000000e+000 -2.61463218e-102 -1.08935164e-109]\n",
      " [-2.61463218e-102  1.00000000e+000 -4.18362278e-029]\n",
      " [-1.08935164e-109 -4.18362278e-029  1.00000000e+000]]\n",
      "Step: 41: current parameter_diff: 21.568233132762924, current marginal loglikelihood: -12849.955625780705\n",
      "EM Iteration 42\n",
      "Current Monte Carlo Sample size: 13849\n"
     ]
    },
    {
     "ename": "KeyboardInterrupt",
     "evalue": "",
     "output_type": "error",
     "traceback": [
      "\u001b[1;31m---------------------------------------------------------------------------\u001b[0m",
      "\u001b[1;31mKeyboardInterrupt\u001b[0m                         Traceback (most recent call last)",
      "\u001b[1;32mc:\\Users\\Jesper\\Documents\\GitHub\\Knowledge-Growth-Prediction\\simulation_experiments.ipynb Zelle 23\u001b[0m in \u001b[0;36m<cell line: 1>\u001b[1;34m()\u001b[0m\n\u001b[1;32m----> <a href='vscode-notebook-cell:/c%3A/Users/Jesper/Documents/GitHub/Knowledge-Growth-Prediction/simulation_experiments.ipynb#X31sZmlsZQ%3D%3D?line=0'>1</a>\u001b[0m performance_dict \u001b[39m=\u001b[39m mirt_param_recovery(sample_size\u001b[39m=\u001b[39;49m\u001b[39m1000\u001b[39;49m, item_dimension\u001b[39m=\u001b[39;49m\u001b[39m30\u001b[39;49m, latent_dimension\u001b[39m=\u001b[39;49m\u001b[39m3\u001b[39;49m, q_type\u001b[39m=\u001b[39;49m\u001b[39m\"\u001b[39;49m\u001b[39mfull\u001b[39;49m\u001b[39m\"\u001b[39;49m, girth\u001b[39m=\u001b[39;49m\u001b[39mFalse\u001b[39;49;00m, stop_threshold\u001b[39m=\u001b[39;49m\u001b[39m10\u001b[39;49m, q_share\u001b[39m=\u001b[39;49m\u001b[39m0.0\u001b[39;49m)\n",
      "\u001b[1;32mc:\\Users\\Jesper\\Documents\\GitHub\\Knowledge-Growth-Prediction\\simulation_experiments.ipynb Zelle 23\u001b[0m in \u001b[0;36mmirt_param_recovery\u001b[1;34m(sample_size, item_dimension, latent_dimension, q_type, girth, stop_threshold, ensure_id, q_share)\u001b[0m\n\u001b[0;32m     <a href='vscode-notebook-cell:/c%3A/Users/Jesper/Documents/GitHub/Knowledge-Growth-Prediction/simulation_experiments.ipynb#X31sZmlsZQ%3D%3D?line=32'>33</a>\u001b[0m \u001b[39m#Fit Model\u001b[39;00m\n\u001b[0;32m     <a href='vscode-notebook-cell:/c%3A/Users/Jesper/Documents/GitHub/Knowledge-Growth-Prediction/simulation_experiments.ipynb#X31sZmlsZQ%3D%3D?line=33'>34</a>\u001b[0m start_time \u001b[39m=\u001b[39m time\u001b[39m.\u001b[39mtime()\n\u001b[1;32m---> <a href='vscode-notebook-cell:/c%3A/Users/Jesper/Documents/GitHub/Knowledge-Growth-Prediction/simulation_experiments.ipynb#X31sZmlsZQ%3D%3D?line=34'>35</a>\u001b[0m em\u001b[39m.\u001b[39;49mfit(sample[\u001b[39m\"\u001b[39;49m\u001b[39mearly_responses\u001b[39;49m\u001b[39m\"\u001b[39;49m], max_iter\u001b[39m=\u001b[39;49m\u001b[39m100\u001b[39;49m, stop_threshold\u001b[39m=\u001b[39;49mstop_threshold)\n\u001b[0;32m     <a href='vscode-notebook-cell:/c%3A/Users/Jesper/Documents/GitHub/Knowledge-Growth-Prediction/simulation_experiments.ipynb#X31sZmlsZQ%3D%3D?line=35'>36</a>\u001b[0m run_time \u001b[39m=\u001b[39m  (time\u001b[39m.\u001b[39mtime() \u001b[39m-\u001b[39m start_time)\n\u001b[0;32m     <a href='vscode-notebook-cell:/c%3A/Users/Jesper/Documents/GitHub/Knowledge-Growth-Prediction/simulation_experiments.ipynb#X31sZmlsZQ%3D%3D?line=37'>38</a>\u001b[0m \u001b[39m#Measure Performance\u001b[39;00m\n",
      "File \u001b[1;32mc:\\Users\\Jesper\\Documents\\GitHub\\Knowledge-Growth-Prediction\\em_algorithm\\em_algorithm.py:43\u001b[0m, in \u001b[0;36mem_algorithm.fit\u001b[1;34m(self, data, hyper_params, max_iter, stop_threshold)\u001b[0m\n\u001b[0;32m     41\u001b[0m last_step_marginal_loglikelihood \u001b[39m=\u001b[39m marginal_loglikelihood\u001b[39m.\u001b[39mcopy()\n\u001b[0;32m     42\u001b[0m \u001b[39m# print(\"E-step\")\u001b[39;00m\n\u001b[1;32m---> 43\u001b[0m posterior_expectation \u001b[39m=\u001b[39m \u001b[39mself\u001b[39;49m\u001b[39m.\u001b[39;49me_step\u001b[39m.\u001b[39;49mstep(\n\u001b[0;32m     44\u001b[0m     response_data\u001b[39m=\u001b[39;49mdata, \u001b[39miter\u001b[39;49m\u001b[39m=\u001b[39;49mi)\n\u001b[0;32m     45\u001b[0m \u001b[39m# print(\"M-step\")\u001b[39;00m\n\u001b[0;32m     46\u001b[0m current_parameters, log_likelihood \u001b[39m=\u001b[39m \u001b[39mself\u001b[39m\u001b[39m.\u001b[39mm_step\u001b[39m.\u001b[39mstep(\n\u001b[0;32m     47\u001b[0m     pe_functions\u001b[39m=\u001b[39mposterior_expectation)\n",
      "File \u001b[1;32mc:\\Users\\Jesper\\Documents\\GitHub\\Knowledge-Growth-Prediction\\em_algorithm\\e_step_mirt_2pl.py:97\u001b[0m, in \u001b[0;36me_step_ga_mml.step\u001b[1;34m(self, response_data, current_item_parameters, current_person_parameters, iter)\u001b[0m\n\u001b[0;32m     94\u001b[0m \u001b[39mprint\u001b[39m(\u001b[39m\"\u001b[39m\u001b[39mCurrent Monte Carlo Sample size: \u001b[39m\u001b[39m{0}\u001b[39;00m\u001b[39m\"\u001b[39m\u001b[39m.\u001b[39mformat(\u001b[39mself\u001b[39m\u001b[39m.\u001b[39mN))\n\u001b[0;32m     95\u001b[0m theta_sample \u001b[39m=\u001b[39m \u001b[39mself\u001b[39m\u001b[39m.\u001b[39mmodel\u001b[39m.\u001b[39msample_competency(\n\u001b[0;32m     96\u001b[0m     sample_size\u001b[39m=\u001b[39m\u001b[39mself\u001b[39m\u001b[39m.\u001b[39mN, qmc\u001b[39m=\u001b[39m\u001b[39mTrue\u001b[39;00m)\n\u001b[1;32m---> 97\u001b[0m \u001b[39mreturn\u001b[39;00m(\u001b[39mself\u001b[39;49m\u001b[39m.\u001b[39;49mprepare_q_functions(theta_sample, response_data, normalising_constant_array))\n",
      "File \u001b[1;32mc:\\Users\\Jesper\\Documents\\GitHub\\Knowledge-Growth-Prediction\\em_algorithm\\e_step_mirt_2pl.py:105\u001b[0m, in \u001b[0;36me_step_ga_mml.prepare_q_functions\u001b[1;34m(self, theta_sample, response_data, normalising_constant_array)\u001b[0m\n\u001b[0;32m    102\u001b[0m \u001b[39m# Calculate repeating inner functions\u001b[39;00m\n\u001b[0;32m    103\u001b[0m r_0_theta \u001b[39m=\u001b[39m \u001b[39mself\u001b[39m\u001b[39m.\u001b[39mr_0(\n\u001b[0;32m    104\u001b[0m     theta_sample, normalising_constant_array, response_data)\n\u001b[1;32m--> 105\u001b[0m r_item_theta_list \u001b[39m=\u001b[39m [\u001b[39mself\u001b[39m\u001b[39m.\u001b[39mr_item(item, theta_sample, normalising_constant_array, response_data)\n\u001b[0;32m    106\u001b[0m                      \u001b[39mfor\u001b[39;00m item \u001b[39min\u001b[39;00m \u001b[39mrange\u001b[39m(\u001b[39m0\u001b[39m, J)]\n\u001b[0;32m    107\u001b[0m \u001b[39m# Calculate final q-functions\u001b[39;00m\n\u001b[0;32m    108\u001b[0m q_0 \u001b[39m=\u001b[39m \u001b[39mself\u001b[39m\u001b[39m.\u001b[39mq_0(\n\u001b[0;32m    109\u001b[0m     theta\u001b[39m=\u001b[39mtheta_sample, normalising_constant_array\u001b[39m=\u001b[39mnormalising_constant_array, response_data\u001b[39m=\u001b[39mresponse_data)\n",
      "File \u001b[1;32mc:\\Users\\Jesper\\Documents\\GitHub\\Knowledge-Growth-Prediction\\em_algorithm\\e_step_mirt_2pl.py:105\u001b[0m, in \u001b[0;36m<listcomp>\u001b[1;34m(.0)\u001b[0m\n\u001b[0;32m    102\u001b[0m \u001b[39m# Calculate repeating inner functions\u001b[39;00m\n\u001b[0;32m    103\u001b[0m r_0_theta \u001b[39m=\u001b[39m \u001b[39mself\u001b[39m\u001b[39m.\u001b[39mr_0(\n\u001b[0;32m    104\u001b[0m     theta_sample, normalising_constant_array, response_data)\n\u001b[1;32m--> 105\u001b[0m r_item_theta_list \u001b[39m=\u001b[39m [\u001b[39mself\u001b[39;49m\u001b[39m.\u001b[39;49mr_item(item, theta_sample, normalising_constant_array, response_data)\n\u001b[0;32m    106\u001b[0m                      \u001b[39mfor\u001b[39;00m item \u001b[39min\u001b[39;00m \u001b[39mrange\u001b[39m(\u001b[39m0\u001b[39m, J)]\n\u001b[0;32m    107\u001b[0m \u001b[39m# Calculate final q-functions\u001b[39;00m\n\u001b[0;32m    108\u001b[0m q_0 \u001b[39m=\u001b[39m \u001b[39mself\u001b[39m\u001b[39m.\u001b[39mq_0(\n\u001b[0;32m    109\u001b[0m     theta\u001b[39m=\u001b[39mtheta_sample, normalising_constant_array\u001b[39m=\u001b[39mnormalising_constant_array, response_data\u001b[39m=\u001b[39mresponse_data)\n",
      "File \u001b[1;32mc:\\Users\\Jesper\\Documents\\GitHub\\Knowledge-Growth-Prediction\\em_algorithm\\e_step_mirt_2pl.py:182\u001b[0m, in \u001b[0;36me_step_ga_mml.r_item\u001b[1;34m(self, item, theta, normalising_constant_array, response_data)\u001b[0m\n\u001b[0;32m    181\u001b[0m \u001b[39mdef\u001b[39;00m \u001b[39mr_item\u001b[39m(\u001b[39mself\u001b[39m, item: \u001b[39mint\u001b[39m, theta: np\u001b[39m.\u001b[39marray, normalising_constant_array, response_data):\n\u001b[1;32m--> 182\u001b[0m     numerator \u001b[39m=\u001b[39m np\u001b[39m.\u001b[39marray(\u001b[39mself\u001b[39;49m\u001b[39m.\u001b[39;49mmodel\u001b[39m.\u001b[39;49mresponse_matrix_probability(\n\u001b[0;32m    183\u001b[0m         theta\u001b[39m=\u001b[39;49mtheta, response_matrix\u001b[39m=\u001b[39;49mresponse_data\u001b[39m.\u001b[39;49mto_numpy()))\n\u001b[0;32m    184\u001b[0m     \u001b[39m# This coefficient is different to r_0\u001b[39;00m\n\u001b[0;32m    185\u001b[0m     numerator \u001b[39m=\u001b[39m np\u001b[39m.\u001b[39mmultiply(\n\u001b[0;32m    186\u001b[0m         numerator, response_data\u001b[39m.\u001b[39miloc[:, item]\u001b[39m.\u001b[39mto_numpy()\u001b[39m.\u001b[39mtranspose())\n",
      "File \u001b[1;32mc:\\Users\\Jesper\\Documents\\GitHub\\Knowledge-Growth-Prediction\\models\\mirt_2pl.py:150\u001b[0m, in \u001b[0;36mmirt_2pl.response_matrix_probability\u001b[1;34m(self, theta, response_matrix, A, delta)\u001b[0m\n\u001b[0;32m    147\u001b[0m \u001b[39m# We want to apply each response vector to each competency-induced correct-response-probability\u001b[39;00m\n\u001b[0;32m    148\u001b[0m correct_response_probabilities \u001b[39m=\u001b[39m np\u001b[39m.\u001b[39mexpand_dims(\n\u001b[0;32m    149\u001b[0m     correct_response_probabilities, axis\u001b[39m=\u001b[39m\u001b[39m1\u001b[39m)\n\u001b[1;32m--> 150\u001b[0m probability_vector \u001b[39m=\u001b[39m np\u001b[39m.\u001b[39;49madd(np\u001b[39m.\u001b[39;49mmultiply(correct_response_probabilities, response_matrix),\n\u001b[0;32m    151\u001b[0m                             np\u001b[39m.\u001b[39;49mmultiply(np\u001b[39m.\u001b[39;49msubtract(\u001b[39m1\u001b[39;49m, correct_response_probabilities), np\u001b[39m.\u001b[39;49msubtract(\u001b[39m1\u001b[39;49m, response_matrix)))\n\u001b[0;32m    152\u001b[0m probability \u001b[39m=\u001b[39m np\u001b[39m.\u001b[39mprod(probability_vector, axis\u001b[39m=\u001b[39m\u001b[39m2\u001b[39m)\n\u001b[0;32m    153\u001b[0m \u001b[39mreturn\u001b[39;00m(probability)\n",
      "\u001b[1;31mKeyboardInterrupt\u001b[0m: "
     ]
    }
   ],
   "source": [
    "performance_dict = mirt_param_recovery(sample_size=1000, item_dimension=30, latent_dimension=3, q_type=\"full\", girth=False, stop_threshold=10, q_share=0.0)"
   ]
  },
  {
   "cell_type": "code",
   "execution_count": 12,
   "metadata": {},
   "outputs": [
    {
     "name": "stdout",
     "output_type": "stream",
     "text": [
      "------------------------------------\n",
      "##### Results for With fixed Discrimination sampling and BFGS\n",
      "Latent dimension: 3,  Item dimension: 20, sample size 1000 \\\n",
      "Runtime: 63.64 seconds, 14 steps, 4.55 seconds per step \\\n",
      "Optimal marginal Likelihood: -8684.81, Estimated: -8676.2, Initial -9809.83\n",
      "|               |   rmse_A |   rmse_delta |   rmse_sigma |\n",
      "|:--------------|---------:|-------------:|-------------:|\n",
      "| estimated     | 0.933735 |     0.514423 |    0.0383988 |\n",
      "| early_initial | 2.67536  |     0.636687 |    0.231996  |\n"
     ]
    }
   ],
   "source": [
    "print_result(performance_dict, \"With fixed Discrimination sampling and BFGS\")"
   ]
  },
  {
   "cell_type": "markdown",
   "metadata": {},
   "source": [
    "------------------------------------\n",
    "##### Results for With BFGS as covariance optimization Algorithm\n",
    "Latent dimension: 3,  Item dimension: 20, sample size 1000 \\\n",
    "Runtime: 160.7 seconds, 20 steps, 8.04 seconds per step \\\n",
    "Optimal marginal Likelihood: -11451.44, Estimated: -11746.37, Initial -12757.23\n",
    "|               |   rmse_A |   rmse_delta |   rmse_sigma |\n",
    "|:--------------|---------:|-------------:|-------------:|\n",
    "| estimated     |  4.12413 |      1.19297 |     0.539132 |\n",
    "| early_initial |  4.06187 |      1.22103 |     0.159225 |\n",
    "\n",
    "------------------------------------\n",
    "##### Results for With Cholesky covariance decomposition\n",
    "Latent dimension: 3,  Item dimension: 20, sample size 1000 \\\n",
    "Runtime: 60.82 seconds, 14 steps, 4.34 seconds per step \\\n",
    "Optimal marginal Likelihood: -11369.92, Estimated: -12102.54, Initial -13629.98\n",
    "|               |   rmse_A |   rmse_delta |   rmse_sigma |\n",
    "|:--------------|---------:|-------------:|-------------:|\n",
    "| estimated     |  2.47435 |     0.400838 |     0.181127 |\n",
    "| early_initial |  2.98819 |     0.686696 |     0.142997 |\n",
    "\n",
    "------------------------------------\n",
    "##### Results for With Cholesky covariance decomposition and BFGS\n",
    "Latent dimension: 3,  Item dimension: 30, sample size 1000 \\\n",
    "Runtime: 94.77 seconds, 12 steps, 7.9 seconds per step \\\n",
    "Optimal marginal Likelihood: -15960.47, Estimated: -17344.15, Initial -19786.45\n",
    "|               |   rmse_A |   rmse_delta |   rmse_sigma |\n",
    "|:--------------|---------:|-------------:|-------------:|\n",
    "| estimated     |  48.8803 |     0.777924 |     0.149531 |\n",
    "| early_initial |  49.0831 |     1.33755  |     0.207159 |\n",
    "\n",
    "------------------------------------\n",
    "##### Results for With fixed Discrimination sampling and BFGS\n",
    "Latent dimension: 3,  Item dimension: 30, sample size 1000 \\\n",
    "Runtime: 91.68 seconds, 12 steps, 7.64 seconds per step \\\n",
    "Optimal marginal Likelihood: -12149.74, Estimated: -12157.89, Initial -14965.74\n",
    "|               |   rmse_A |   rmse_delta |   rmse_sigma |\n",
    "|:--------------|---------:|-------------:|-------------:|\n",
    "| estimated     |  0.3929  |     0.249323 |    0.0275205 |\n",
    "| early_initial |  2.20296 |     0.582838 |    0.380006  |"
   ]
  },
  {
   "cell_type": "markdown",
   "metadata": {},
   "source": [
    "## Experiment 2: Competency Gain Prediction"
   ]
  }
 ],
 "metadata": {
  "interpreter": {
   "hash": "1dab142cd35a3cb14e0e2ff57f489714d4e1ed36d350a97cffb0e76179ad7f53"
  },
  "kernelspec": {
   "display_name": "Python 3.8.5 ('base')",
   "language": "python",
   "name": "python3"
  },
  "language_info": {
   "codemirror_mode": {
    "name": "ipython",
    "version": 3
   },
   "file_extension": ".py",
   "mimetype": "text/x-python",
   "name": "python",
   "nbconvert_exporter": "python",
   "pygments_lexer": "ipython3",
   "version": "3.8.5"
  },
  "orig_nbformat": 4,
  "vscode": {
   "interpreter": {
    "hash": "f96c9f0abe66cee0a81d860b29e85a2729d567fff345231565bc586735399795"
   }
  }
 },
 "nbformat": 4,
 "nbformat_minor": 2
}
